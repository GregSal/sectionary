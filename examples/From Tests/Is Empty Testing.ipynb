{
 "cells": [
  {
   "cell_type": "markdown",
   "metadata": {},
   "source": [
    "# Identify Empty read results.\n",
    "Handle empty objects of different types."
   ]
  },
  {
   "cell_type": "markdown",
   "metadata": {},
   "source": [
    "## Setup"
   ]
  },
  {
   "cell_type": "markdown",
   "metadata": {},
   "source": [
    "### Imports"
   ]
  },
  {
   "cell_type": "code",
   "execution_count": 1,
   "metadata": {},
   "outputs": [],
   "source": [
    "from typing import List, Any\n",
    "\n",
    "import re\n",
    "import logging\n",
    "import pprint\n",
    "from pathlib import Path"
   ]
  },
  {
   "cell_type": "markdown",
   "metadata": {},
   "source": [
    "#### Packages"
   ]
  },
  {
   "cell_type": "code",
   "execution_count": 2,
   "metadata": {},
   "outputs": [],
   "source": [
    "import numpy as np\n",
    "import pandas as pd"
   ]
  },
  {
   "cell_type": "markdown",
   "metadata": {},
   "source": [
    "#### Local Imports"
   ]
  },
  {
   "cell_type": "raw",
   "metadata": {},
   "source": [
    "from buffered_iterator import BufferedIterator\n",
    "\n",
    "import text_reader as tp\n",
    "from sections import Rule, RuleSet, SectionBreak, Section, ProcessingMethods\n",
    "#import read_dvh_file"
   ]
  },
  {
   "cell_type": "markdown",
   "metadata": {},
   "source": [
    "### Testing Functions"
   ]
  },
  {
   "cell_type": "code",
   "execution_count": 3,
   "metadata": {},
   "outputs": [],
   "source": [
    "def test_bool(item_list: List[Any]):\n",
    "    for itm in item_list:\n",
    "        try:\n",
    "            has_value = bool(itm)\n",
    "        except ValueError as err:\n",
    "            print(f'{str(err.__class__)} raised by\\n{repr(itm)}\\n')\n",
    "        else:\n",
    "            print(f'bool({repr(itm)}) is {str(has_value)}\\n')"
   ]
  },
  {
   "cell_type": "code",
   "execution_count": 4,
   "metadata": {},
   "outputs": [],
   "source": [
    "def test_len(item_list: List[Any]):\n",
    "    for itm in item_list:\n",
    "        try:\n",
    "            has_value = len(itm)\n",
    "        except TypeError as err:\n",
    "            print(f'{str(err.__class__)} raised by\\n{repr(itm)}\\n')\n",
    "        else:\n",
    "            print(f'len({repr(itm)}) is {str(has_value)}\\n')"
   ]
  },
  {
   "cell_type": "code",
   "execution_count": 5,
   "metadata": {},
   "outputs": [],
   "source": [
    "def test_empty(item_list: List[Any]):\n",
    "    for itm in item_list:\n",
    "        try:\n",
    "            has_value = itm.empty\n",
    "        except AttributeError as err:\n",
    "            print(f'{str(err.__class__)} raised by\\n{repr(itm)}\\n')\n",
    "        else:\n",
    "            print(f'{repr(itm)}.empty is {str(has_value)}\\n')"
   ]
  },
  {
   "cell_type": "code",
   "execution_count": 6,
   "metadata": {},
   "outputs": [],
   "source": [
    "def test_nan(item_list: List[Any]):\n",
    "    for itm in item_list:\n",
    "        try:\n",
    "            is_empty = np.isnan(itm).all()\n",
    "        except TypeError as err:\n",
    "            print(f'{str(err.__class__)} raised by\\n{repr(itm)}\\n')\n",
    "        else:\n",
    "            print(f'np.isnan({repr(itm)}).all() is {str(is_empty)}\\n')"
   ]
  },
  {
   "cell_type": "markdown",
   "metadata": {},
   "source": [
    "## Introduction\n",
    "\n",
    "In general we do not want to return empty `subsection.read` results.  However identifying an _empty_ results is not straight forward."
   ]
  },
  {
   "cell_type": "markdown",
   "metadata": {},
   "source": [
    "Some possible **Empty Object** Examples are given below:\n",
    "- _None_ will always be considered empty. `None` \n",
    "- _Empty string_ `''`\n",
    "- _Empty list_ `[]`\n",
    "- _Empty dictionary_ `{}`\n",
    "- _List containing empty string_ `['']`\n",
    "- _DataFrame containing no values_ `pd.DataFrame()`\n",
    "- _Series containing no values_ `pd.Series()`\n",
    "- _DataFrame containing all NaN_ `pd.DataFrame(index=range(2), columns=range(3))`\n",
    "- _Numpy array of length 0_ `np.array([])`\n",
    "- _Numpy array containing all NaN_ `np.full((2, 3), np.nan, dtype=float)`\n"
   ]
  },
  {
   "cell_type": "code",
   "execution_count": 7,
   "metadata": {},
   "outputs": [
    {
     "name": "stdout",
     "output_type": "stream",
     "text": [
      "None\n",
      "\n",
      "[]\n",
      "{}\n",
      "['']\n",
      "Empty DataFrame\n",
      "Columns: []\n",
      "Index: []\n",
      "Series([], dtype: object)\n",
      "[]\n",
      "[[nan nan nan]\n",
      " [nan nan nan]]\n"
     ]
    }
   ],
   "source": [
    "empty_read_itm_possibilities = [\n",
    "    None,\n",
    "    '',\n",
    "    [],\n",
    "    {},\n",
    "    [''],\n",
    "    pd.DataFrame(),\n",
    "    pd.Series(dtype=object),\n",
    "    np.array([]),\n",
    "    np.full((2, 3), np.nan, dtype=float)\n",
    "    ]\n",
    "\n",
    "for itm in empty_read_itm_possibilities:\n",
    "    print(itm)"
   ]
  },
  {
   "cell_type": "markdown",
   "metadata": {},
   "source": [
    "Some possible **Non-Empty Objects** that might be mistaken for empty are given below:\n",
    "- _Numerical `0` value_ `0`\n",
    "- _String of spaces_ `' '`\n",
    "- _List containing string of spaces_ `[' ']`\n",
    "- _Dictionary with only `None` as a key_ `{None:0}`\n",
    "- _Series containing all zeros_ `pd.Series([0])`\n",
    "- _DataFrame containing some, but not all `NaN` values_ `pd.DataFrame([{0:0}, {None:1}], index=range(2), columns=range(3))`\n",
    "- _Numpy Array containing some, but not all `NaN` values_ `np.array([[0,np.nan],[np.nan, np.nan]])`\n",
    "- _Numpy Array containing all zeros_ `np.full((2, 3), 0, dtype=float)`\n",
    "- _Numpy Array containing all `None`_ `np.empty((2, 3), dtype=object)`\n"
   ]
  },
  {
   "cell_type": "code",
   "execution_count": 8,
   "metadata": {},
   "outputs": [
    {
     "name": "stdout",
     "output_type": "stream",
     "text": [
      "0\n",
      " \n",
      "[' ']\n",
      "{None: 0}\n",
      "0    0\n",
      "dtype: int64\n",
      "     0   1   2\n",
      "0  0.0 NaN NaN\n",
      "1  NaN NaN NaN\n",
      "[[ 0. nan]\n",
      " [nan nan]]\n",
      "[[0. 0. 0.]\n",
      " [0. 0. 0.]]\n",
      "[[None None None]\n",
      " [None None None]]\n"
     ]
    }
   ],
   "source": [
    "non_empty_read_itm_possibilities = [\n",
    "    0,\n",
    "    ' ',\n",
    "    [' '],\n",
    "    {None:0},\n",
    "    pd.Series([0]),\n",
    "    pd.DataFrame([{0:0}, {None:1}], index=range(2), columns=range(3)),\n",
    "    np.array([[0,np.nan],[np.nan, np.nan]]),\n",
    "    np.full((2, 3), 0, dtype=float),    \n",
    "    np.empty((2, 3), dtype=object)\n",
    "    ]\n",
    "\n",
    "for itm in non_empty_read_itm_possibilities:\n",
    "    print(itm)"
   ]
  },
  {
   "cell_type": "markdown",
   "metadata": {},
   "source": [
    "## Tests"
   ]
  },
  {
   "cell_type": "markdown",
   "metadata": {},
   "source": [
    "`bool(obj)` produces a valid result for the following types:\n",
    "> `None`, `''`, `[]`, `{}`\n",
    "\n",
    "For empty items that produce a valid result, `False` indicated _empty_ and `True` indicates _not empty_.  **Except for numerical values of `0`** and **Lists containing an empty string**. \n",
    "Numerical values of `0` will register as _empty_.\n",
    "Lists containing an empty string will register as _not empty_."
   ]
  },
  {
   "cell_type": "code",
   "execution_count": 9,
   "metadata": {},
   "outputs": [
    {
     "name": "stdout",
     "output_type": "stream",
     "text": [
      "bool(None) is False\n",
      "\n",
      "bool('') is False\n",
      "\n",
      "bool([]) is False\n",
      "\n",
      "bool({}) is False\n",
      "\n",
      "bool(['']) is True\n",
      "\n",
      "<class 'ValueError'> raised by\n",
      "Empty DataFrame\n",
      "Columns: []\n",
      "Index: []\n",
      "\n",
      "<class 'ValueError'> raised by\n",
      "Series([], dtype: object)\n",
      "\n",
      "bool(array([], dtype=float64)) is False\n",
      "\n",
      "<class 'ValueError'> raised by\n",
      "array([[nan, nan, nan],\n",
      "       [nan, nan, nan]])\n",
      "\n"
     ]
    },
    {
     "name": "stderr",
     "output_type": "stream",
     "text": [
      "C:\\Users\\smoke\\AppData\\Local\\Temp/ipykernel_3740/2921635209.py:4: DeprecationWarning: The truth value of an empty array is ambiguous. Returning False, but in future this will result in an error. Use `array.size > 0` to check that an array is not empty.\n",
      "  has_value = bool(itm)\n"
     ]
    }
   ],
   "source": [
    "test_bool(empty_read_itm_possibilities)"
   ]
  },
  {
   "cell_type": "code",
   "execution_count": 10,
   "metadata": {},
   "outputs": [
    {
     "name": "stdout",
     "output_type": "stream",
     "text": [
      "bool(0) is False\n",
      "\n",
      "bool(' ') is True\n",
      "\n",
      "bool([' ']) is True\n",
      "\n",
      "bool({None: 0}) is True\n",
      "\n",
      "<class 'ValueError'> raised by\n",
      "0    0\n",
      "dtype: int64\n",
      "\n",
      "<class 'ValueError'> raised by\n",
      "     0   1   2\n",
      "0  0.0 NaN NaN\n",
      "1  NaN NaN NaN\n",
      "\n",
      "<class 'ValueError'> raised by\n",
      "array([[ 0., nan],\n",
      "       [nan, nan]])\n",
      "\n",
      "<class 'ValueError'> raised by\n",
      "array([[0., 0., 0.],\n",
      "       [0., 0., 0.]])\n",
      "\n",
      "<class 'ValueError'> raised by\n",
      "array([[None, None, None],\n",
      "       [None, None, None]], dtype=object)\n",
      "\n"
     ]
    }
   ],
   "source": [
    "test_bool(non_empty_read_itm_possibilities)"
   ]
  },
  {
   "cell_type": "markdown",
   "metadata": {},
   "source": [
    "`len(obj)` produces a valid result for the following types:\n",
    "> string, list, dict, pd.DataFrame, pd.Series, np.array\n",
    "\n",
    "For empty items that produce a valid result, `0` indicated _empty_ and `>0` indicates _not empty_.  \n",
    "**Except for lists containing string of spaces** and **Lists containing an empty string**. \n",
    "Both of these will register as _not empty_.\n",
    "\n",
    "In addition `len()` is not valid for type `None`, but this should be caught.\n"
   ]
  },
  {
   "cell_type": "code",
   "execution_count": 11,
   "metadata": {},
   "outputs": [
    {
     "name": "stdout",
     "output_type": "stream",
     "text": [
      "<class 'TypeError'> raised by\n",
      "None\n",
      "\n",
      "len('') is 0\n",
      "\n",
      "len([]) is 0\n",
      "\n",
      "len({}) is 0\n",
      "\n",
      "len(['']) is 1\n",
      "\n",
      "len(Empty DataFrame\n",
      "Columns: []\n",
      "Index: []) is 0\n",
      "\n",
      "len(Series([], dtype: object)) is 0\n",
      "\n",
      "len(array([], dtype=float64)) is 0\n",
      "\n",
      "len(array([[nan, nan, nan],\n",
      "       [nan, nan, nan]])) is 2\n",
      "\n"
     ]
    }
   ],
   "source": [
    "test_len(empty_read_itm_possibilities)"
   ]
  },
  {
   "cell_type": "code",
   "execution_count": 12,
   "metadata": {},
   "outputs": [
    {
     "name": "stdout",
     "output_type": "stream",
     "text": [
      "<class 'TypeError'> raised by\n",
      "0\n",
      "\n",
      "len(' ') is 1\n",
      "\n",
      "len([' ']) is 1\n",
      "\n",
      "len({None: 0}) is 1\n",
      "\n",
      "len(0    0\n",
      "dtype: int64) is 1\n",
      "\n",
      "len(     0   1   2\n",
      "0  0.0 NaN NaN\n",
      "1  NaN NaN NaN) is 2\n",
      "\n",
      "len(array([[ 0., nan],\n",
      "       [nan, nan]])) is 2\n",
      "\n",
      "len(array([[0., 0., 0.],\n",
      "       [0., 0., 0.]])) is 2\n",
      "\n",
      "len(array([[None, None, None],\n",
      "       [None, None, None]], dtype=object)) is 2\n",
      "\n"
     ]
    }
   ],
   "source": [
    "test_len(non_empty_read_itm_possibilities)"
   ]
  },
  {
   "cell_type": "markdown",
   "metadata": {},
   "source": [
    "- _DataFrame_ and _Series_ have an attribute _empty_ which is `True` if it contains no values."
   ]
  },
  {
   "cell_type": "code",
   "execution_count": 13,
   "metadata": {},
   "outputs": [
    {
     "name": "stdout",
     "output_type": "stream",
     "text": [
      "<class 'AttributeError'> raised by\n",
      "None\n",
      "\n",
      "<class 'AttributeError'> raised by\n",
      "''\n",
      "\n",
      "<class 'AttributeError'> raised by\n",
      "[]\n",
      "\n",
      "<class 'AttributeError'> raised by\n",
      "{}\n",
      "\n",
      "<class 'AttributeError'> raised by\n",
      "['']\n",
      "\n",
      "Empty DataFrame\n",
      "Columns: []\n",
      "Index: [].empty is True\n",
      "\n",
      "Series([], dtype: object).empty is True\n",
      "\n",
      "<class 'AttributeError'> raised by\n",
      "array([], dtype=float64)\n",
      "\n",
      "<class 'AttributeError'> raised by\n",
      "array([[nan, nan, nan],\n",
      "       [nan, nan, nan]])\n",
      "\n"
     ]
    }
   ],
   "source": [
    "test_empty(empty_read_itm_possibilities)"
   ]
  },
  {
   "cell_type": "code",
   "execution_count": 14,
   "metadata": {},
   "outputs": [
    {
     "name": "stdout",
     "output_type": "stream",
     "text": [
      "<class 'AttributeError'> raised by\n",
      "0\n",
      "\n",
      "<class 'AttributeError'> raised by\n",
      "' '\n",
      "\n",
      "<class 'AttributeError'> raised by\n",
      "[' ']\n",
      "\n",
      "<class 'AttributeError'> raised by\n",
      "{None: 0}\n",
      "\n",
      "0    0\n",
      "dtype: int64.empty is False\n",
      "\n",
      "     0   1   2\n",
      "0  0.0 NaN NaN\n",
      "1  NaN NaN NaN.empty is False\n",
      "\n",
      "<class 'AttributeError'> raised by\n",
      "array([[ 0., nan],\n",
      "       [nan, nan]])\n",
      "\n",
      "<class 'AttributeError'> raised by\n",
      "array([[0., 0., 0.],\n",
      "       [0., 0., 0.]])\n",
      "\n",
      "<class 'AttributeError'> raised by\n",
      "array([[None, None, None],\n",
      "       [None, None, None]], dtype=object)\n",
      "\n"
     ]
    }
   ],
   "source": [
    "test_empty(non_empty_read_itm_possibilities)"
   ]
  },
  {
   "cell_type": "code",
   "execution_count": 15,
   "metadata": {},
   "outputs": [
    {
     "name": "stdout",
     "output_type": "stream",
     "text": [
      "<class 'TypeError'> raised by\n",
      "None\n",
      "\n",
      "<class 'TypeError'> raised by\n",
      "''\n",
      "\n",
      "np.isnan([]).all() is True\n",
      "\n",
      "<class 'TypeError'> raised by\n",
      "{}\n",
      "\n",
      "<class 'TypeError'> raised by\n",
      "['']\n",
      "\n",
      "np.isnan(Empty DataFrame\n",
      "Columns: []\n",
      "Index: []).all() is Series([], dtype: bool)\n",
      "\n",
      "<class 'TypeError'> raised by\n",
      "Series([], dtype: object)\n",
      "\n",
      "np.isnan(array([], dtype=float64)).all() is True\n",
      "\n",
      "np.isnan(array([[nan, nan, nan],\n",
      "       [nan, nan, nan]])).all() is True\n",
      "\n"
     ]
    }
   ],
   "source": [
    "test_nan(empty_read_itm_possibilities)"
   ]
  },
  {
   "cell_type": "code",
   "execution_count": 16,
   "metadata": {},
   "outputs": [
    {
     "name": "stdout",
     "output_type": "stream",
     "text": [
      "np.isnan(0).all() is False\n",
      "\n",
      "<class 'TypeError'> raised by\n",
      "' '\n",
      "\n",
      "<class 'TypeError'> raised by\n",
      "[' ']\n",
      "\n",
      "<class 'TypeError'> raised by\n",
      "{None: 0}\n",
      "\n",
      "np.isnan(0    0\n",
      "dtype: int64).all() is False\n",
      "\n",
      "np.isnan(     0   1   2\n",
      "0  0.0 NaN NaN\n",
      "1  NaN NaN NaN).all() is 0    False\n",
      "1     True\n",
      "2     True\n",
      "dtype: bool\n",
      "\n",
      "np.isnan(array([[ 0., nan],\n",
      "       [nan, nan]])).all() is False\n",
      "\n",
      "np.isnan(array([[0., 0., 0.],\n",
      "       [0., 0., 0.]])).all() is False\n",
      "\n",
      "<class 'TypeError'> raised by\n",
      "array([[None, None, None],\n",
      "       [None, None, None]], dtype=object)\n",
      "\n"
     ]
    }
   ],
   "source": [
    "test_nan(non_empty_read_itm_possibilities)"
   ]
  },
  {
   "cell_type": "markdown",
   "metadata": {},
   "source": [
    "## Conclusion\n",
    "The best performance was with the `len()` function.  However, it raises a `TypeError` for `None` and we do want to prevent `read` functions from returning `None`.\n",
    "\n",
    "1. Create an `test_for_empty` attribute in the _Section_ class.\n",
    "2. Link the `test_for_empty` attribute with an _is_empty_ utility function that:\n",
    "   1. Checks for `None` __and__\n",
    "   2. Checks for `len(obj) == 0`.\n",
    "3. Allow instances of _Section_ to replace the _is_empty_ function by assigning a different (or no) function to the `test_for_empty` attribute."
   ]
  }
 ],
 "metadata": {
  "kernelspec": {
   "display_name": "Python 3.8.12 ('sectionaryDev')",
   "language": "python",
   "name": "python3"
  },
  "language_info": {
   "codemirror_mode": {
    "name": "ipython",
    "version": 3
   },
   "file_extension": ".py",
   "mimetype": "text/x-python",
   "name": "python",
   "nbconvert_exporter": "python",
   "pygments_lexer": "ipython3",
   "version": "3.8.12"
  },
  "orig_nbformat": 4,
  "vscode": {
   "interpreter": {
    "hash": "890849be4bb9b5be1d044afe42e602ccc6ca20da23c054ee97c8186ec3939c45"
   }
  }
 },
 "nbformat": 4,
 "nbformat_minor": 2
}
