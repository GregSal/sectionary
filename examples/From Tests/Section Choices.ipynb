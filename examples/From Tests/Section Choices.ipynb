{
 "cells": [
  {
   "attachments": {},
   "cell_type": "markdown",
   "metadata": {},
   "source": [
    "# Section Choices\n"
   ]
  },
  {
   "attachments": {},
   "cell_type": "markdown",
   "metadata": {},
   "source": [
    "- Supply a collection of sub-sections.\n",
    "- Only one is applied\n",
    "- Which section is applied is based on some condition:\n",
    "    - Possibly a companion Trigger object\n",
    "    - possibly the start_section section break"
   ]
  }
 ],
 "metadata": {
  "language_info": {
   "name": "python"
  },
  "orig_nbformat": 4
 },
 "nbformat": 4,
 "nbformat_minor": 2
}
