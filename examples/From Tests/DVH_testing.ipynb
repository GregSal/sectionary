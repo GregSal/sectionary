{
 "cells": [
  {
   "cell_type": "markdown",
   "metadata": {},
   "source": [
    "# Read DVH File Tests"
   ]
  },
  {
   "cell_type": "markdown",
   "metadata": {},
   "source": [
    "## Setup"
   ]
  },
  {
   "cell_type": "markdown",
   "metadata": {},
   "source": [
    "### Imports"
   ]
  },
  {
   "cell_type": "code",
   "execution_count": 140,
   "metadata": {},
   "outputs": [],
   "source": [
    "from typing import Callable, List\n",
    "\n",
    "import re\n",
    "import logging\n",
    "import pprint\n",
    "from pathlib import Path"
   ]
  },
  {
   "cell_type": "markdown",
   "metadata": {},
   "source": [
    "#### Packages"
   ]
  },
  {
   "cell_type": "code",
   "execution_count": 141,
   "metadata": {},
   "outputs": [],
   "source": [
    "import numpy as np\n",
    "import pandas as pd"
   ]
  },
  {
   "cell_type": "markdown",
   "metadata": {},
   "source": [
    "#### Local Imports"
   ]
  },
  {
   "cell_type": "code",
   "execution_count": 142,
   "metadata": {},
   "outputs": [],
   "source": [
    "from buffered_iterator import BufferedIterator\n",
    "\n",
    "import text_reader as tp\n",
    "from sections import Rule, RuleSet, SectionBreak, Section, ProcessingMethods\n",
    "#import read_dvh_file"
   ]
  },
  {
   "cell_type": "markdown",
   "metadata": {},
   "source": [
    "### Logging"
   ]
  },
  {
   "cell_type": "code",
   "execution_count": 143,
   "metadata": {},
   "outputs": [],
   "source": [
    "logging.basicConfig(format='%(name)-20s - %(levelname)s: %(message)s')\n",
    "logger = logging.getLogger('read_dvh.file')\n",
    "logger.setLevel(logging.DEBUG)"
   ]
  },
  {
   "cell_type": "markdown",
   "metadata": {},
   "source": [
    "### Helper Functions"
   ]
  },
  {
   "cell_type": "markdown",
   "metadata": {},
   "source": [
    "#### Function to compare two dictionaries"
   ]
  },
  {
   "cell_type": "code",
   "execution_count": 144,
   "metadata": {},
   "outputs": [],
   "source": [
    "def compare_dict(dict1, dict2, one_line=True):\n",
    "    one_line_template = '{key:32s}:\\t{item1:32s}\\t{item2:32s}'\n",
    "    stacked_template = '{key}:\\n\\t{item1}\\n\\t{item2}'\n",
    "    \n",
    "    keys_1 = set(dict1.keys())\n",
    "    keys_2 = set(dict2.keys())\n",
    "    all_keys = keys_1 | keys_2\n",
    "    for key in all_keys:\n",
    "        item1 = pprint.pformat(str(dict1.get(key, '')))\n",
    "        item2 = pprint.pformat(str(dict2.get(key, '')))\n",
    "        if one_line:\n",
    "            cmp_str = one_line_template.format(key=str(key), \n",
    "                                               item1=item1, \n",
    "                                               item2=item2)\n",
    "        else:\n",
    "            cmp_str = stacked_template.format(key=str(key), \n",
    "                                              item1=item1, \n",
    "                                              item2=item2)\n",
    "        print(cmp_str)"
   ]
  },
  {
   "cell_type": "markdown",
   "metadata": {},
   "source": [
    "## Data"
   ]
  },
  {
   "cell_type": "markdown",
   "metadata": {},
   "source": [
    "### Source"
   ]
  },
  {
   "cell_type": "code",
   "execution_count": 145,
   "metadata": {},
   "outputs": [],
   "source": [
    "test_source = [\n",
    "    'Patient Name         : ____, ____',\n",
    "    'Patient ID           : 1234567',\n",
    "    'Comment              : DVHs for multiple plans and plan sums',\n",
    "    'Date                 : Friday, January 17, 2020 09:45:07',\n",
    "    'Exported by          : gsal',\n",
    "    'Type                 : Cumulative Dose Volume Histogram',\n",
    "    ('Description          : The cumulative DVH displays the '\n",
    "    'percentage (relative)'),\n",
    "    ('                       or volume (absolute) of structures '\n",
    "    'that receive a dose'),\n",
    "    '                      equal to or greater than a given dose.',\n",
    "    ''\n",
    "    'Plan sum: Plan Sum',\n",
    "    'Course: PLAN SUM',\n",
    "    'Prescribed dose [cGy]: not defined',\n",
    "    '% for dose (%): not defined',\n",
    "    ''\n",
    "    'Plan: PARR',\n",
    "    'Course: C1',\n",
    "    'Plan Status: Treatment Approved Thursday, January 02, '\n",
    "    '2020 12:55:56 by gsal',\n",
    "    'Prescribed dose [cGy]: 5000.0',\n",
    "    '% for dose (%): 100.0',\n",
    "    ''\n",
    "    'Structure: PRV5 SpinalCanal',\n",
    "    'Approval Status: Approved',\n",
    "    'Plan: Plan Sum',\n",
    "    'Course: PLAN SUM',\n",
    "    'Volume [cm³]: 121.5',\n",
    "    'Dose Cover.[%]: 100.0',\n",
    "    'Sampling Cover.[%]: 100.1',\n",
    "    'Min Dose [cGy]: 36.7',\n",
    "    'Max Dose [cGy]: 3670.1',\n",
    "    'Mean Dose [cGy]: 891.9',\n",
    "    'Modal Dose [cGy]: 44.5',\n",
    "    'Median Dose [cGy]: 863.2',\n",
    "    'STD [cGy]: 621.9',\n",
    "    'NDR: ',\n",
    "    'Equiv. Sphere Diam. [cm]: 6.1',\n",
    "    'Conformity Index: N/A',\n",
    "    'Gradient Measure [cm]: N/A',\n",
    "    ''\n",
    "    'Dose [cGy] Ratio of Total Structure Volume [%]',\n",
    "    '         0                       100',\n",
    "    '         1                       100',\n",
    "    '         2                       100',\n",
    "    '         3                       100',\n",
    "    '         4                       100',\n",
    "    '         5                       100',\n",
    "    '      3667              4.23876e-005',\n",
    "    '      3668              2.87336e-005',\n",
    "    '      3669              1.50797e-005',\n",
    "    '      3670               1.4257e-006',\n",
    "    '',\n",
    "    'Structure: PTV 50',\n",
    "    'Approval Status: Approved',\n",
    "    'Plan: Plan Sum',\n",
    "    'Course: PLAN SUM',\n",
    "    'Volume [cm³]: 363.6',\n",
    "    'Dose Cover.[%]: 100.0',\n",
    "    'Sampling Cover.[%]: 100.0',\n",
    "    'Min Dose [cGy]: 3985.9',\n",
    "    'Max Dose [cGy]: 5442.0',\n",
    "    'Mean Dose [cGy]: 5144.5',\n",
    "    'Modal Dose [cGy]: 5177.3',\n",
    "    'Median Dose [cGy]: 5166.9',\n",
    "    'STD [cGy]: 131.9',\n",
    "    'NDR: ',\n",
    "    'Equiv. Sphere Diam. [cm]: 8.9',\n",
    "    'Conformity Index: N/A',\n",
    "    'Gradient Measure [cm]: N/A',\n",
    "    '',\n",
    "    'Dose [cGy] Ratio of Total Structure Volume [%]',\n",
    "    '         0                       100',\n",
    "    '         1                       100',\n",
    "    '         2                       100',\n",
    "    '         3                       100',\n",
    "    '         4                       100',\n",
    "    '         5                       100',\n",
    "    '      5437               9.4777e-005',\n",
    "    '      5438              6.35607e-005',\n",
    "    '      5439              3.62425e-005',\n",
    "    '      5440              1.82336e-005',\n",
    "    '      5441              9.15003e-006',\n",
    "    '      5442               6.6481e-008'\n",
    "                ]\n"
   ]
  },
  {
   "cell_type": "markdown",
   "metadata": {},
   "source": [
    "### Results\n",
    "#### DVH Info"
   ]
  },
  {
   "cell_type": "code",
   "execution_count": 146,
   "metadata": {},
   "outputs": [
    {
     "data": {
      "text/plain": [
       "{'Patient Name': '____, ____',\n",
       " 'Patient ID': '1234567',\n",
       " 'Comment': 'DVHs for multiple plans and plan sums',\n",
       " 'Date': 'Friday, January 17, 2020 09:45:07',\n",
       " 'Exported by': 'gsal',\n",
       " 'Type': 'Cumulative Dose Volume Histogram',\n",
       " 'Description': 'The cumulative DVH displays the percentage (relative) or volume (absolute) of structures that receive a dose equal to or greater than a given dose.'}"
      ]
     },
     "execution_count": 146,
     "metadata": {},
     "output_type": "execute_result"
    }
   ],
   "source": [
    "DVH_Info = {\n",
    "    'Patient Name': '____, ____',\n",
    "    'Patient ID': '1234567',\n",
    "    'Comment': 'DVHs for multiple plans and plan sums',\n",
    "    'Date': 'Friday, January 17, 2020 09:45:07',\n",
    "    'Exported by': 'gsal',\n",
    "    'Type': 'Cumulative Dose Volume Histogram',\n",
    "    'Description': ('The cumulative DVH displays the '\n",
    "                    'percentage (relative) or volume '\n",
    "                    '(absolute) of structures that receive a '\n",
    "                    'dose equal to or greater than a '\n",
    "                    'given dose.')\n",
    "    }\n",
    "DVH_Info"
   ]
  },
  {
   "cell_type": "markdown",
   "metadata": {},
   "source": [
    "#### Plan Info"
   ]
  },
  {
   "cell_type": "code",
   "execution_count": 147,
   "metadata": {},
   "outputs": [
    {
     "data": {
      "text/plain": [
       "{'Plan Sum': {'Plan sum': 'Plan Sum',\n",
       "  'Plan': 'Plan Sum',\n",
       "  'Course': 'PLAN SUM',\n",
       "  'Prescribed dose': '',\n",
       "  'Prescribed dose unit': '',\n",
       "  '% for dose (%)': 'not defined'},\n",
       " 'PARR': {'Plan': 'PARR',\n",
       "  'Course': 'C1',\n",
       "  'Plan Status': 'Treatment Approved',\n",
       "  'Approved on': 'Thursday, January 02, 2020 12:55:56',\n",
       "  'Approved by': 'gsal',\n",
       "  'Prescribed dose': 5000.0,\n",
       "  'Prescribed dose unit': 'cGy',\n",
       "  '% for dose (%)': 100.0}}"
      ]
     },
     "execution_count": 147,
     "metadata": {},
     "output_type": "execute_result"
    }
   ],
   "source": [
    "Plan_Info = {\n",
    "    'Plan Sum': {'Plan sum': 'Plan Sum',\n",
    "                    'Plan': 'Plan Sum',\n",
    "                    'Course': 'PLAN SUM',\n",
    "                    'Prescribed dose': '',\n",
    "                    'Prescribed dose unit': '',\n",
    "                    '% for dose (%)': 'not defined'},\n",
    "    'PARR': {'Plan': 'PARR',\n",
    "                'Course': 'C1',\n",
    "                'Plan Status': 'Treatment Approved',\n",
    "                'Approved on': 'Thursday, January 02, 2020 12:55:56',\n",
    "                'Approved by': 'gsal',\n",
    "                'Prescribed dose': 5000.0,\n",
    "                'Prescribed dose unit': 'cGy',\n",
    "                '% for dose (%)': 100.0}\n",
    "    }\n",
    "Plan_Info"
   ]
  },
  {
   "cell_type": "markdown",
   "metadata": {},
   "source": [
    "#### Structures"
   ]
  },
  {
   "cell_type": "code",
   "execution_count": 148,
   "metadata": {},
   "outputs": [
    {
     "data": {
      "text/html": [
       "<div>\n",
       "<style scoped>\n",
       "    .dataframe tbody tr th:only-of-type {\n",
       "        vertical-align: middle;\n",
       "    }\n",
       "\n",
       "    .dataframe tbody tr th {\n",
       "        vertical-align: top;\n",
       "    }\n",
       "\n",
       "    .dataframe thead tr th {\n",
       "        text-align: left;\n",
       "    }\n",
       "</style>\n",
       "<table border=\"1\" class=\"dataframe\">\n",
       "  <thead>\n",
       "    <tr>\n",
       "      <th>Course</th>\n",
       "      <th colspan=\"2\" halign=\"left\">PLAN SUM</th>\n",
       "    </tr>\n",
       "    <tr>\n",
       "      <th>Plan</th>\n",
       "      <th colspan=\"2\" halign=\"left\">Plan Sum</th>\n",
       "    </tr>\n",
       "    <tr>\n",
       "      <th>Structure</th>\n",
       "      <th>PRV5 SpinalCanal</th>\n",
       "      <th>PTV 50</th>\n",
       "    </tr>\n",
       "  </thead>\n",
       "  <tbody>\n",
       "    <tr>\n",
       "      <th>Course</th>\n",
       "      <td>PLAN SUM</td>\n",
       "      <td>PLAN SUM</td>\n",
       "    </tr>\n",
       "    <tr>\n",
       "      <th>Plan</th>\n",
       "      <td>Plan Sum</td>\n",
       "      <td>Plan Sum</td>\n",
       "    </tr>\n",
       "    <tr>\n",
       "      <th>Structure</th>\n",
       "      <td>PRV5 SpinalCanal</td>\n",
       "      <td>PTV 50</td>\n",
       "    </tr>\n",
       "    <tr>\n",
       "      <th>Approval Status</th>\n",
       "      <td>Approved</td>\n",
       "      <td>Approved</td>\n",
       "    </tr>\n",
       "    <tr>\n",
       "      <th>Volume [cc]</th>\n",
       "      <td>121.5</td>\n",
       "      <td>363.6</td>\n",
       "    </tr>\n",
       "    <tr>\n",
       "      <th>Dose Cover.[%]</th>\n",
       "      <td>100.0</td>\n",
       "      <td>100.0</td>\n",
       "    </tr>\n",
       "    <tr>\n",
       "      <th>Sampling Cover.[%]</th>\n",
       "      <td>100.1</td>\n",
       "      <td>100.0</td>\n",
       "    </tr>\n",
       "    <tr>\n",
       "      <th>Min Dose [cGy]</th>\n",
       "      <td>36.7</td>\n",
       "      <td>3985.9</td>\n",
       "    </tr>\n",
       "    <tr>\n",
       "      <th>Max Dose [cGy]</th>\n",
       "      <td>3670.1</td>\n",
       "      <td>5442.0</td>\n",
       "    </tr>\n",
       "    <tr>\n",
       "      <th>Mean Dose [cGy]</th>\n",
       "      <td>891.9</td>\n",
       "      <td>5144.5</td>\n",
       "    </tr>\n",
       "    <tr>\n",
       "      <th>Modal Dose [cGy]</th>\n",
       "      <td>44.5</td>\n",
       "      <td>5177.3</td>\n",
       "    </tr>\n",
       "    <tr>\n",
       "      <th>Median Dose [cGy]</th>\n",
       "      <td>863.2</td>\n",
       "      <td>5166.9</td>\n",
       "    </tr>\n",
       "    <tr>\n",
       "      <th>STD [cGy]</th>\n",
       "      <td>621.9</td>\n",
       "      <td>131.9</td>\n",
       "    </tr>\n",
       "    <tr>\n",
       "      <th>NDR</th>\n",
       "      <td></td>\n",
       "      <td></td>\n",
       "    </tr>\n",
       "    <tr>\n",
       "      <th>Equiv. Sphere Diam. [cm]</th>\n",
       "      <td>6.1</td>\n",
       "      <td>8.9</td>\n",
       "    </tr>\n",
       "    <tr>\n",
       "      <th>Conformity Index</th>\n",
       "      <td>N/A</td>\n",
       "      <td>N/A</td>\n",
       "    </tr>\n",
       "    <tr>\n",
       "      <th>Gradient Measure [cm]</th>\n",
       "      <td>N/A</td>\n",
       "      <td>N/A</td>\n",
       "    </tr>\n",
       "  </tbody>\n",
       "</table>\n",
       "</div>"
      ],
      "text/plain": [
       "Course                            PLAN SUM          \n",
       "Plan                              Plan Sum          \n",
       "Structure                 PRV5 SpinalCanal    PTV 50\n",
       "Course                            PLAN SUM  PLAN SUM\n",
       "Plan                              Plan Sum  Plan Sum\n",
       "Structure                 PRV5 SpinalCanal    PTV 50\n",
       "Approval Status                   Approved  Approved\n",
       "Volume [cc]                          121.5     363.6\n",
       "Dose Cover.[%]                       100.0     100.0\n",
       "Sampling Cover.[%]                   100.1     100.0\n",
       "Min Dose [cGy]                        36.7    3985.9\n",
       "Max Dose [cGy]                      3670.1    5442.0\n",
       "Mean Dose [cGy]                      891.9    5144.5\n",
       "Modal Dose [cGy]                      44.5    5177.3\n",
       "Median Dose [cGy]                    863.2    5166.9\n",
       "STD [cGy]                            621.9     131.9\n",
       "NDR                                                 \n",
       "Equiv. Sphere Diam. [cm]               6.1       8.9\n",
       "Conformity Index                       N/A       N/A\n",
       "Gradient Measure [cm]                  N/A       N/A"
      ]
     },
     "execution_count": 148,
     "metadata": {},
     "output_type": "execute_result"
    }
   ],
   "source": [
    "structures = pd.DataFrame({\n",
    "    'Course': ['PLAN SUM', 'PLAN SUM',],\n",
    "    'Plan': ['Plan Sum', 'Plan Sum'],\n",
    "    'Structure': ['PRV5 SpinalCanal', 'PTV 50',],\n",
    "    'Approval Status': ['Approved', 'Approved'],\n",
    "    'Volume [cc]': [121.5, 363.6,],\n",
    "    'Dose Cover.[%]': [100.0, 100.0,],\n",
    "    'Sampling Cover.[%]': [100.1, 100.0,],\n",
    "    'Min Dose [cGy]': [36.7, 3985.9,],\n",
    "    'Max Dose [cGy]': [3670.1, 5442.0,],\n",
    "    'Mean Dose [cGy]': [891.9, 5144.5,],\n",
    "    'Modal Dose [cGy]': [44.5, 5177.3,],\n",
    "    'Median Dose [cGy]': [863.2, 5166.9,],\n",
    "    'STD [cGy]': [621.9, 131.9,],\n",
    "    'NDR': ['', ''],\n",
    "    'Equiv. Sphere Diam. [cm]': [6.1, 8.9],\n",
    "    'Conformity Index': ['N/A', 'N/A'],\n",
    "    'Gradient Measure [cm]': ['N/A', 'N/A']\n",
    "    })\n",
    "structures.set_index(['Course', 'Plan', 'Structure'], drop=False,\n",
    "                        inplace=True)\n",
    "structures = structures.T\n",
    "structures"
   ]
  },
  {
   "cell_type": "markdown",
   "metadata": {},
   "source": [
    "#### DVH"
   ]
  },
  {
   "cell_type": "code",
   "execution_count": 149,
   "metadata": {},
   "outputs": [
    {
     "data": {
      "text/html": [
       "<div>\n",
       "<style scoped>\n",
       "    .dataframe tbody tr th:only-of-type {\n",
       "        vertical-align: middle;\n",
       "    }\n",
       "\n",
       "    .dataframe tbody tr th {\n",
       "        vertical-align: top;\n",
       "    }\n",
       "\n",
       "    .dataframe thead tr th {\n",
       "        text-align: left;\n",
       "    }\n",
       "</style>\n",
       "<table border=\"1\" class=\"dataframe\">\n",
       "  <thead>\n",
       "    <tr>\n",
       "      <th>Course</th>\n",
       "      <th colspan=\"4\" halign=\"left\">PLAN SUM</th>\n",
       "    </tr>\n",
       "    <tr>\n",
       "      <th>Plan</th>\n",
       "      <th colspan=\"4\" halign=\"left\">Plan Sum</th>\n",
       "    </tr>\n",
       "    <tr>\n",
       "      <th>Structure</th>\n",
       "      <th colspan=\"2\" halign=\"left\">PRV5 SpinalCanal</th>\n",
       "      <th colspan=\"2\" halign=\"left\">PTV 50</th>\n",
       "    </tr>\n",
       "    <tr>\n",
       "      <th>Data</th>\n",
       "      <th>Dose [cGy]</th>\n",
       "      <th>Ratio of Total Structure Volume [%]</th>\n",
       "      <th>Dose [cGy]</th>\n",
       "      <th>Ratio of Total Structure Volume [%]</th>\n",
       "    </tr>\n",
       "  </thead>\n",
       "  <tbody>\n",
       "    <tr>\n",
       "      <th>0</th>\n",
       "      <td>0.0</td>\n",
       "      <td>100.000000</td>\n",
       "      <td>0.0</td>\n",
       "      <td>1.000000e+02</td>\n",
       "    </tr>\n",
       "    <tr>\n",
       "      <th>1</th>\n",
       "      <td>1.0</td>\n",
       "      <td>100.000000</td>\n",
       "      <td>1.0</td>\n",
       "      <td>1.000000e+02</td>\n",
       "    </tr>\n",
       "    <tr>\n",
       "      <th>2</th>\n",
       "      <td>2.0</td>\n",
       "      <td>100.000000</td>\n",
       "      <td>2.0</td>\n",
       "      <td>1.000000e+02</td>\n",
       "    </tr>\n",
       "    <tr>\n",
       "      <th>3</th>\n",
       "      <td>3.0</td>\n",
       "      <td>100.000000</td>\n",
       "      <td>3.0</td>\n",
       "      <td>1.000000e+02</td>\n",
       "    </tr>\n",
       "    <tr>\n",
       "      <th>4</th>\n",
       "      <td>4.0</td>\n",
       "      <td>100.000000</td>\n",
       "      <td>4.0</td>\n",
       "      <td>1.000000e+02</td>\n",
       "    </tr>\n",
       "    <tr>\n",
       "      <th>5</th>\n",
       "      <td>5.0</td>\n",
       "      <td>100.000000</td>\n",
       "      <td>5.0</td>\n",
       "      <td>1.000000e+02</td>\n",
       "    </tr>\n",
       "    <tr>\n",
       "      <th>6</th>\n",
       "      <td>3667.0</td>\n",
       "      <td>0.000042</td>\n",
       "      <td>5437.0</td>\n",
       "      <td>9.477700e-05</td>\n",
       "    </tr>\n",
       "    <tr>\n",
       "      <th>7</th>\n",
       "      <td>3668.0</td>\n",
       "      <td>0.000029</td>\n",
       "      <td>5438.0</td>\n",
       "      <td>6.356070e-05</td>\n",
       "    </tr>\n",
       "    <tr>\n",
       "      <th>8</th>\n",
       "      <td>3669.0</td>\n",
       "      <td>0.000015</td>\n",
       "      <td>5439.0</td>\n",
       "      <td>3.624250e-05</td>\n",
       "    </tr>\n",
       "    <tr>\n",
       "      <th>9</th>\n",
       "      <td>3670.0</td>\n",
       "      <td>0.000001</td>\n",
       "      <td>5440.0</td>\n",
       "      <td>1.823360e-05</td>\n",
       "    </tr>\n",
       "    <tr>\n",
       "      <th>10</th>\n",
       "      <td>NaN</td>\n",
       "      <td>NaN</td>\n",
       "      <td>5441.0</td>\n",
       "      <td>9.150030e-06</td>\n",
       "    </tr>\n",
       "    <tr>\n",
       "      <th>11</th>\n",
       "      <td>NaN</td>\n",
       "      <td>NaN</td>\n",
       "      <td>5442.0</td>\n",
       "      <td>6.648100e-08</td>\n",
       "    </tr>\n",
       "  </tbody>\n",
       "</table>\n",
       "</div>"
      ],
      "text/plain": [
       "Course            PLAN SUM                                                 \\\n",
       "Plan              Plan Sum                                                  \n",
       "Structure PRV5 SpinalCanal                                         PTV 50   \n",
       "Data            Dose [cGy] Ratio of Total Structure Volume [%] Dose [cGy]   \n",
       "0                      0.0                          100.000000        0.0   \n",
       "1                      1.0                          100.000000        1.0   \n",
       "2                      2.0                          100.000000        2.0   \n",
       "3                      3.0                          100.000000        3.0   \n",
       "4                      4.0                          100.000000        4.0   \n",
       "5                      5.0                          100.000000        5.0   \n",
       "6                   3667.0                            0.000042     5437.0   \n",
       "7                   3668.0                            0.000029     5438.0   \n",
       "8                   3669.0                            0.000015     5439.0   \n",
       "9                   3670.0                            0.000001     5440.0   \n",
       "10                     NaN                                 NaN     5441.0   \n",
       "11                     NaN                                 NaN     5442.0   \n",
       "\n",
       "Course                                         \n",
       "Plan                                           \n",
       "Structure                                      \n",
       "Data      Ratio of Total Structure Volume [%]  \n",
       "0                                1.000000e+02  \n",
       "1                                1.000000e+02  \n",
       "2                                1.000000e+02  \n",
       "3                                1.000000e+02  \n",
       "4                                1.000000e+02  \n",
       "5                                1.000000e+02  \n",
       "6                                9.477700e-05  \n",
       "7                                6.356070e-05  \n",
       "8                                3.624250e-05  \n",
       "9                                1.823360e-05  \n",
       "10                               9.150030e-06  \n",
       "11                               6.648100e-08  "
      ]
     },
     "execution_count": 149,
     "metadata": {},
     "output_type": "execute_result"
    }
   ],
   "source": [
    "dvh = pd.DataFrame({\n",
    "    'Course': ['PLAN SUM', 'PLAN SUM', 'PLAN SUM', 'PLAN SUM'],\n",
    "    'Plan': ['Plan Sum', 'Plan Sum', 'Plan Sum', 'Plan Sum'],\n",
    "    'Structure': ['PRV5 SpinalCanal', 'PRV5 SpinalCanal',\n",
    "                    'PTV 50', 'PTV 50'],\n",
    "    'Data': ['Dose [cGy]', 'Ratio of Total Structure Volume [%]',\n",
    "                'Dose [cGy]', 'Ratio of Total Structure Volume [%]'],\n",
    "    0: [0, 100, 0, 100],\n",
    "    1: [1, 100, 1, 100],\n",
    "    2: [2, 100, 2, 100],\n",
    "    3: [3, 100, 3, 100],\n",
    "    4: [4, 100, 4, 100],\n",
    "    5: [5, 100, 5, 100],\n",
    "    6: [3667, 4.23876e-005, 5437, 9.4777e-005],\n",
    "    7: [3668, 2.87336e-005, 5438, 6.35607e-005],\n",
    "    8: [3669, 1.50797e-005, 5439, 3.62425e-005],\n",
    "    9: [3670, 1.4257e-006, 5440, 1.82336e-005],\n",
    "    10: [np.nan, np.nan, 5441, 9.15003e-006],\n",
    "    11: [np.nan, np.nan, 5442, 6.6481e-008]\n",
    "    })\n",
    "dvh.set_index(['Course', 'Plan', 'Structure', 'Data'],\n",
    "                inplace=True)\n",
    "dvh = dvh.T\n",
    "dvh"
   ]
  },
  {
   "cell_type": "markdown",
   "metadata": {},
   "source": [
    "#### Context"
   ]
  },
  {
   "cell_type": "code",
   "execution_count": 150,
   "metadata": {},
   "outputs": [
    {
     "data": {
      "text/plain": [
       "{'File Name': 'Test_DVH_Sections.txt',\n",
       " 'File Path': WindowsPath(\"c:/Users/smoke/OneDrive - Queen's University/Python/Projects/sectionary package/Text Files/Test_DVH_Sections.txt\"),\n",
       " 'Line Count': 0}"
      ]
     },
     "execution_count": 150,
     "metadata": {},
     "output_type": "execute_result"
    }
   ],
   "source": [
    "context = {\n",
    "    'File Name': 'Test_DVH_Sections.txt',\n",
    "    'File Path': Path.cwd() / 'Text Files' / 'Test_DVH_Sections.txt',\n",
    "    'Line Count': 0\n",
    "    }\n",
    "context"
   ]
  },
  {
   "cell_type": "markdown",
   "metadata": {},
   "source": [
    "## Section Definitions"
   ]
  },
  {
   "cell_type": "markdown",
   "metadata": {},
   "source": [
    "### Line Parsing Functions"
   ]
  },
  {
   "cell_type": "markdown",
   "metadata": {},
   "source": [
    "#### Date Rule"
   ]
  },
  {
   "cell_type": "code",
   "execution_count": 151,
   "metadata": {},
   "outputs": [],
   "source": [
    "def make_date_parse_rule() -> Rule:\n",
    "    def date_parse(line: str) -> tp.ProcessedList:\n",
    "        '''If Date,don't split beyond first :.'''\n",
    "        parsed_line = line.split(':', maxsplit=1)\n",
    "        return parsed_line\n",
    "\n",
    "    date_rule = Rule('Date', location='START', name='date_rule',\n",
    "                        pass_method=date_parse, fail_method='None')\n",
    "    return date_rule\n"
   ]
  },
  {
   "cell_type": "markdown",
   "metadata": {},
   "source": [
    "#### Approved Status"
   ]
  },
  {
   "cell_type": "code",
   "execution_count": 152,
   "metadata": {},
   "outputs": [],
   "source": [
    "def make_approved_status_rule() -> Rule:\n",
    "    '''If Treatment Approved, Split \"Plan Status\" into 3 lines:\n",
    "        Plan Status\n",
    "        Approved on\n",
    "        Approved by\n",
    "        '''\n",
    "    def approved_status_parse(line, event) -> tp.ProcessedList:\n",
    "        '''If Treatment Approved, Split \"Plan Status\" into 3 lines:\n",
    "\n",
    "        Return three rows for a line containing \"Treatment Approved\"\n",
    "            Prescribed dose [unit]: dose\n",
    "        Gives:\n",
    "            [['Plan Status', 'Treatment Approved'],\n",
    "             ['Approved on', date],\n",
    "             ['Approved by', person]\n",
    "        '''\n",
    "        idx1 = line.find(event.test_value)\n",
    "        idx2 = idx1 + len(event.test_value)\n",
    "        idx3 = line.find(' by')\n",
    "        idx4 = idx3 + 4\n",
    "        parsed_lines = [\n",
    "            ['Plan Status', line[idx1:idx2]],\n",
    "            ['Approved on', line[idx2+1:idx3]],\n",
    "            ['Approved by', line[idx4:]]\n",
    "            ]\n",
    "        for line in parsed_lines:\n",
    "            yield line\n",
    "\n",
    "    approved_status_rule = Rule('Treatment Approved', location='IN',\n",
    "                                   pass_method=approved_status_parse,\n",
    "                                   fail_method='None',\n",
    "                                   name='approved_status_rule')\n",
    "    return approved_status_rule\n"
   ]
  },
  {
   "cell_type": "markdown",
   "metadata": {},
   "source": [
    "#### Prescribed Dose Rule"
   ]
  },
  {
   "cell_type": "code",
   "execution_count": 153,
   "metadata": {},
   "outputs": [],
   "source": [
    "def make_prescribed_dose_rule() -> Rule:\n",
    "    def parse_prescribed_dose(line, event) -> tp.ProcessedList:\n",
    "        '''Split \"Prescribed dose [cGy]\" into 2 lines.\n",
    "\n",
    "        Return two rows for a line containing:\n",
    "            Prescribed dose [unit]: dose\n",
    "        Gives:\n",
    "            [['Prescribed dose', 'dose'],\n",
    "            ['Prescribed dose unit', 'unit']],\n",
    "        The line:\n",
    "            Prescribed dose [unit]: not defined\n",
    "        Results in:\n",
    "            [['Prescribed dose', '5000.0'],\n",
    "             ['Prescribed dose unit', 'cGy']]\n",
    "        '''\n",
    "        match_results = event.test_value.groupdict()\n",
    "        if match_results['dose'] == 'not defined':\n",
    "            match_results['dose'] = ''\n",
    "            match_results['unit'] = ''\n",
    "\n",
    "        parsed_lines = [\n",
    "            ['Prescribed dose', match_results['dose']],\n",
    "            ['Prescribed dose unit', match_results['unit']]\n",
    "            ]\n",
    "        for line in parsed_lines:\n",
    "            yield line\n",
    "\n",
    "    prescribed_dose_pattern = (\n",
    "        r'^Prescribed dose\\s*'  # Begins with Prescribed dose\n",
    "        r'\\['                   # Unit start delimiter\n",
    "        r'(?P<unit>[A-Za-z]+)'  # unit group: text surrounded by []\n",
    "        r'\\]'                   # Unit end delimiter\n",
    "        r'\\s*:\\s*'              # Dose delimiter with possible whitespace\n",
    "        r'(?P<dose>[0-9.]+'     # dose group Number\n",
    "        r'|not defined)'        #\"not defined\" alternative\n",
    "        r'[\\s\\r\\n]*'            # drop trailing whitespace\n",
    "        r'$'                    # end of string\n",
    "        )\n",
    "    re_pattern = re.compile(prescribed_dose_pattern)\n",
    "    dose_rule = Rule(sentinel=re_pattern, name='prescribed_dose_rule',\n",
    "                        pass_method= parse_prescribed_dose, fail_method='None')\n",
    "    return dose_rule\n"
   ]
  },
  {
   "cell_type": "markdown",
   "metadata": {},
   "source": [
    "#### Default CSV Parser"
   ]
  },
  {
   "cell_type": "code",
   "execution_count": 154,
   "metadata": {},
   "outputs": [],
   "source": [
    "def make_default_csv_parser() -> Callable:\n",
    "    default_csv = tp.define_csv_parser('dvh_info', delimiter=':',\n",
    "                                       skipinitialspace=True)\n",
    "    return default_csv\n"
   ]
  },
  {
   "cell_type": "markdown",
   "metadata": {},
   "source": [
    "### Post Processing Methods"
   ]
  },
  {
   "cell_type": "markdown",
   "metadata": {},
   "source": [
    "#### fix_structure_names"
   ]
  },
  {
   "cell_type": "code",
   "execution_count": 155,
   "metadata": {},
   "outputs": [],
   "source": [
    "def fix_structure_names(line: List[str]) -> List[str]:\n",
    "    '''If Structure name starts with \"=\", add \"'\" to start of name.\n",
    "    '''\n",
    "    if len(line) == 2:\n",
    "        if 'Structure' in line[0]:\n",
    "            structure_name = line[1]\n",
    "            if structure_name.startswith('='):\n",
    "                structure_name = \"'\" + structure_name\n",
    "                line[1] = structure_name\n",
    "    return line\n"
   ]
  },
  {
   "cell_type": "markdown",
   "metadata": {},
   "source": [
    "#### Line Processing"
   ]
  },
  {
   "cell_type": "code",
   "execution_count": 156,
   "metadata": {},
   "outputs": [],
   "source": [
    "def to_plan_info_dict(plan_info_dict_list):\n",
    "    '''Combine Plan Info dictionaries into dictionary of dictionaries.\n",
    "    '''\n",
    "    output_dict = dict()\n",
    "    for plan_info_dict in plan_info_dict_list:\n",
    "        if len(plan_info_dict) == 0:\n",
    "            continue\n",
    "        plan_name = plan_info_dict.get('Plan')\n",
    "        if not plan_name:\n",
    "            plan_name = plan_info_dict.get('Plan sum')\n",
    "            if not plan_name:\n",
    "                plan_name = 'Plan'\n",
    "            plan_info_dict['Plan'] = plan_name\n",
    "        output_dict[plan_name] = plan_info_dict\n",
    "    return output_dict\n"
   ]
  },
  {
   "cell_type": "markdown",
   "metadata": {},
   "source": [
    "#### to_structure_data_tuple"
   ]
  },
  {
   "cell_type": "code",
   "execution_count": 157,
   "metadata": {},
   "outputs": [],
   "source": [
    "def to_structure_data_tuple(structure_data_list):\n",
    "    '''Combine Structure and DVH data.\n",
    "    '''\n",
    "    structures_dict = dict()\n",
    "    dvh_data_list = list()\n",
    "    for structure_data_set in structure_data_list:\n",
    "        structure_data = structure_data_set['Structure']\n",
    "        dvh_data = structure_data_set['DVH']\n",
    "        plan_name = structure_data['Plan']\n",
    "        course_id = structure_data['Course']\n",
    "        structure_id = structure_data['Structure']\n",
    "        logger.info(f'Reading DVH data for: {structure_id}.')\n",
    "        indx = (course_id, plan_name, structure_id)\n",
    "        structures_dict[indx] = structure_data\n",
    "        data_columns = list(dvh_data.columns)\n",
    "        indx_d = [indx + (d,) for d in data_columns]\n",
    "        indx_names = ['Course', 'Plan', 'Structure', 'Data']\n",
    "        index = pd.MultiIndex.from_tuples(indx_d, names=indx_names)\n",
    "        dvh_data.columns = index\n",
    "        dvh_data_list.append(dvh_data)\n",
    "    structures_df = pd.DataFrame(structures_dict)\n",
    "    dvh_df = pd.concat(dvh_data_list, axis='columns')\n",
    "    return (structures_df, dvh_df)\n"
   ]
  },
  {
   "cell_type": "markdown",
   "metadata": {},
   "source": [
    "### Reader definitions"
   ]
  },
  {
   "cell_type": "code",
   "execution_count": 158,
   "metadata": {},
   "outputs": [],
   "source": [
    "default_parser = tp.define_csv_parser('dvh_info', delimiter=':',\n",
    "                                      skipinitialspace=True)\n"
   ]
  },
  {
   "cell_type": "code",
   "execution_count": 159,
   "metadata": {},
   "outputs": [],
   "source": [
    "dvh_info_reader = ProcessingMethods([\n",
    "    tp.clean_ascii_text,\n",
    "    RuleSet([make_date_parse_rule()], default=default_parser),\n",
    "    tp.trim_items,\n",
    "    tp.drop_blanks,\n",
    "    tp.merge_continued_rows\n",
    "    ])\n"
   ]
  },
  {
   "cell_type": "code",
   "execution_count": 160,
   "metadata": {},
   "outputs": [],
   "source": [
    "plan_info_reader = ProcessingMethods([\n",
    "    tp.clean_ascii_text,\n",
    "    RuleSet([make_prescribed_dose_rule(), make_approved_status_rule()],\n",
    "               default=default_parser),\n",
    "    tp.trim_items,\n",
    "    tp.drop_blanks,\n",
    "    tp.convert_numbers\n",
    "    ])\n"
   ]
  },
  {
   "cell_type": "code",
   "execution_count": 161,
   "metadata": {},
   "outputs": [],
   "source": [
    "structure_info_reader = ProcessingMethods([\n",
    "    tp.clean_ascii_text,\n",
    "    default_parser,\n",
    "    tp.trim_items,\n",
    "    tp.drop_blanks,\n",
    "    tp.convert_numbers,\n",
    "    fix_structure_names\n",
    "    ])\n"
   ]
  },
  {
   "cell_type": "code",
   "execution_count": 162,
   "metadata": {},
   "outputs": [],
   "source": [
    "dvh_data_reader = ProcessingMethods([\n",
    "    tp.clean_ascii_text,\n",
    "    tp.define_fixed_width_parser(widths=10),\n",
    "    tp.trim_items,\n",
    "    tp.drop_blanks,\n",
    "    tp.convert_numbers\n",
    "    ])"
   ]
  },
  {
   "cell_type": "markdown",
   "metadata": {},
   "source": [
    "### SectionBreak definitions"
   ]
  },
  {
   "cell_type": "code",
   "execution_count": 163,
   "metadata": {},
   "outputs": [],
   "source": [
    "plan_info_start = SectionBreak(\n",
    "    name='Start of Plan Info',\n",
    "    sentinel=['Plan:', 'Plan sum:'],\n",
    "    break_offset='Before'\n",
    "    )\n"
   ]
  },
  {
   "cell_type": "code",
   "execution_count": 164,
   "metadata": {},
   "outputs": [],
   "source": [
    "plan_info_end = SectionBreak(\n",
    "    name='End of Plan Info',\n",
    "    sentinel='% for dose (%):',\n",
    "    break_offset='After'\n",
    "    )\n"
   ]
  },
  {
   "cell_type": "code",
   "execution_count": 165,
   "metadata": {},
   "outputs": [],
   "source": [
    "structure_info_start = SectionBreak(\n",
    "    name='Start of Structure Info',\n",
    "    sentinel='Structure:',\n",
    "    break_offset='Before'\n",
    "    )\n"
   ]
  },
  {
   "cell_type": "code",
   "execution_count": 166,
   "metadata": {},
   "outputs": [],
   "source": [
    "structure_info_end = SectionBreak(\n",
    "    name='End of Structure Info',\n",
    "    sentinel='Gradient Measure',\n",
    "    break_offset='After'\n",
    "    )\n"
   ]
  },
  {
   "cell_type": "code",
   "execution_count": 167,
   "metadata": {},
   "outputs": [],
   "source": [
    "dvh_data_start = SectionBreak(\n",
    "    name='Start of DVH Data',\n",
    "    sentinel='Ratio of Total Structure Volume',\n",
    "    break_offset='Before'\n",
    "    )"
   ]
  },
  {
   "cell_type": "markdown",
   "metadata": {},
   "source": [
    "### Section definitions"
   ]
  },
  {
   "cell_type": "code",
   "execution_count": 168,
   "metadata": {},
   "outputs": [],
   "source": [
    "dvh_info_section = Section(\n",
    "    name='DVH Info',\n",
    "    start_section=None,\n",
    "    end_section=plan_info_start,\n",
    "    processor=dvh_info_reader,\n",
    "    assemble=tp.to_dict\n",
    "    )\n"
   ]
  },
  {
   "cell_type": "code",
   "execution_count": 169,
   "metadata": {},
   "outputs": [],
   "source": [
    "plan_info_section = Section(\n",
    "    name='Plan Info',\n",
    "    start_section=None,\n",
    "    end_section=plan_info_end,\n",
    "    processor=plan_info_reader,\n",
    "    assemble=tp.to_dict\n",
    "    )\n"
   ]
  },
  {
   "cell_type": "code",
   "execution_count": 170,
   "metadata": {},
   "outputs": [],
   "source": [
    "plan_info_group = Section(\n",
    "    name='Plan Info Group',\n",
    "    start_section=plan_info_start,\n",
    "    end_section=structure_info_start,\n",
    "    processor=plan_info_section,\n",
    "    assemble=to_plan_info_dict\n",
    "    )\n"
   ]
  },
  {
   "cell_type": "code",
   "execution_count": 171,
   "metadata": {},
   "outputs": [],
   "source": [
    "structure_info_section = Section(\n",
    "    name='Structure',\n",
    "    start_section=structure_info_start,\n",
    "    end_section=structure_info_end,\n",
    "    processor=structure_info_reader,\n",
    "    assemble=tp.to_dict\n",
    "    )\n"
   ]
  },
  {
   "cell_type": "code",
   "execution_count": 172,
   "metadata": {},
   "outputs": [],
   "source": [
    "dvh_data_section = Section(\n",
    "    name='DVH',\n",
    "    start_section=dvh_data_start,\n",
    "    end_section=structure_info_start,\n",
    "    processor=dvh_data_reader)\n"
   ]
  },
  {
   "cell_type": "raw",
   "metadata": {},
   "source": [
    "dvh_data_section = Section(\n",
    "    name='DVH',\n",
    "    start_section=dvh_data_start,\n",
    "    end_section=structure_info_start,\n",
    "    processor=dvh_data_reader,\n",
    "    assemble=tp.to_dataframe\n",
    "    )\n"
   ]
  },
  {
   "cell_type": "raw",
   "metadata": {},
   "source": [
    "dvh_group_section = Section(\n",
    "    name='DVH Groups',\n",
    "    start_section=structure_info_start,\n",
    "    processor=[[structure_info_section, dvh_data_section]],\n",
    "    assemble=to_structure_data_tuple\n",
    "    )"
   ]
  },
  {
   "cell_type": "code",
   "execution_count": 173,
   "metadata": {},
   "outputs": [],
   "source": [
    "dvh_group_section = Section(\n",
    "    name='DVH Groups',\n",
    "    start_section=structure_info_start,\n",
    "    processor=[[structure_info_section, dvh_data_section]])"
   ]
  },
  {
   "cell_type": "markdown",
   "metadata": {},
   "source": [
    "## Testing"
   ]
  },
  {
   "cell_type": "markdown",
   "metadata": {},
   "source": [
    "### DVH_Info"
   ]
  },
  {
   "cell_type": "code",
   "execution_count": 174,
   "metadata": {},
   "outputs": [
    {
     "name": "stdout",
     "output_type": "stream",
     "text": [
      "Date:\n",
      "\t'Friday, January 17, 2020 09:45:07'\n",
      "\t'Friday, January 17, 2020 09:45:07'\n",
      "Comment:\n",
      "\t'DVHs for multiple plans and plan sums'\n",
      "\t'DVHs for multiple plans and plan sums'\n",
      "Patient Name:\n",
      "\t'____, ____'\n",
      "\t'____, ____'\n",
      "Patient ID:\n",
      "\t'1234567'\n",
      "\t'1234567'\n",
      "Type:\n",
      "\t'Cumulative Dose Volume Histogram'\n",
      "\t'Cumulative Dose Volume Histogram'\n",
      "Exported by:\n",
      "\t'gsal'\n",
      "\t'gsal'\n",
      "Description:\n",
      "\t('The cumulative DVH displays the percentage (relative) or volume (absolute) '\n",
      " 'of structures that receive a dose equal to or greater than a given dose.')\n",
      "\t('The cumulative DVH displays the percentage (relative) or volume (absolute) '\n",
      " 'of structures that receive a dose equal to or greater than a given dose.')\n"
     ]
    }
   ],
   "source": [
    "dvh_info_section = dvh_info_section\n",
    "source = BufferedIterator(test_source)\n",
    "test_output = dvh_info_section.read(source, context=context)\n",
    "compare_dict(test_output, DVH_Info, one_line=False)"
   ]
  },
  {
   "cell_type": "markdown",
   "metadata": {},
   "source": [
    "### Plan Info"
   ]
  },
  {
   "cell_type": "code",
   "execution_count": 175,
   "metadata": {},
   "outputs": [
    {
     "name": "stdout",
     "output_type": "stream",
     "text": [
      "{'PARR': {'% for dose (%)': 100.0,\n",
      "          'Approved by': 'gsal',\n",
      "          'Approved on': 'Thursday, January 02, 2020 12:55:56',\n",
      "          'Course': 'C1',\n",
      "          'Plan': 'PARR',\n",
      "          'Plan Status': 'Treatment Approved',\n",
      "          'Prescribed dose': 5000.0,\n",
      "          'Prescribed dose unit': 'cGy'},\n",
      " 'Plan Sum': {'% for dose (%)': 'not defined',\n",
      "              'Course': 'PLAN SUM',\n",
      "              'Plan': 'Plan Sum',\n",
      "              'Plan sum': 'Plan Sum',\n",
      "              'Prescribed dose': '',\n",
      "              'Prescribed dose unit': ''}}\n"
     ]
    }
   ],
   "source": [
    "source = BufferedIterator(test_source)\n",
    "plan_info = plan_info_group.read(source, context=context)\n",
    "pprint.pprint(plan_info)\n",
    "#compare_dict(plan_info, Plan_Info, one_line=False)"
   ]
  },
  {
   "cell_type": "markdown",
   "metadata": {},
   "source": [
    "\n",
    "**Expected:**"
   ]
  },
  {
   "cell_type": "code",
   "execution_count": 176,
   "metadata": {},
   "outputs": [
    {
     "name": "stdout",
     "output_type": "stream",
     "text": [
      "{'PARR': {'% for dose (%)': 100.0,\n",
      "          'Approved by': 'gsal',\n",
      "          'Approved on': 'Thursday, January 02, 2020 12:55:56',\n",
      "          'Course': 'C1',\n",
      "          'Plan': 'PARR',\n",
      "          'Plan Status': 'Treatment Approved',\n",
      "          'Prescribed dose': 5000.0,\n",
      "          'Prescribed dose unit': 'cGy'},\n",
      " 'Plan Sum': {'% for dose (%)': 'not defined',\n",
      "              'Course': 'PLAN SUM',\n",
      "              'Plan': 'Plan Sum',\n",
      "              'Plan sum': 'Plan Sum',\n",
      "              'Prescribed dose': '',\n",
      "              'Prescribed dose unit': ''}}\n"
     ]
    }
   ],
   "source": [
    "pprint.pprint(Plan_Info)"
   ]
  },
  {
   "cell_type": "markdown",
   "metadata": {},
   "source": [
    "### DVH"
   ]
  },
  {
   "cell_type": "code",
   "execution_count": 179,
   "metadata": {},
   "outputs": [
    {
     "data": {
      "text/plain": [
       "[['Dose [cGy]', 'Ratio of Total Structure Volume [%]'],\n",
       " [0.0, 100.0],\n",
       " [1.0, 100.0],\n",
       " [2.0, 100.0],\n",
       " [3.0, 100.0],\n",
       " [4.0, 100.0],\n",
       " [5.0, 100.0],\n",
       " [3667.0, 4.23876e-05],\n",
       " [3668.0, 2.87336e-05],\n",
       " [3669.0, 1.50797e-05],\n",
       " [3670.0, 1.4257e-06]]"
      ]
     },
     "execution_count": 179,
     "metadata": {},
     "output_type": "execute_result"
    }
   ],
   "source": [
    "source = BufferedIterator(test_source)\n",
    "dvh_df = dvh_data_section.read(source, context=context)\n",
    "#dvh_df.fillna(0, inplace=True)\n",
    "\n",
    "#dvh.fillna(0, inplace=True)\n",
    "#compare_dict(dvh_df.to_dict(), dvh.to_dict(), one_line=False)\n",
    "dvh_df"
   ]
  },
  {
   "cell_type": "code",
   "execution_count": 181,
   "metadata": {},
   "outputs": [
    {
     "data": {
      "text/plain": [
       "[{'Structure': {'Structure': 'PRV5 SpinalCanal',\n",
       "   'Approval Status': 'Approved',\n",
       "   'Plan': 'Plan Sum',\n",
       "   'Course': 'PLAN SUM',\n",
       "   'Volume [cc]': 121.5,\n",
       "   'Dose Cover.[%]': 100.0,\n",
       "   'Sampling Cover.[%]': 100.1,\n",
       "   'Min Dose [cGy]': 36.7,\n",
       "   'Max Dose [cGy]': 3670.1,\n",
       "   'Mean Dose [cGy]': 891.9,\n",
       "   'Modal Dose [cGy]': 44.5,\n",
       "   'Median Dose [cGy]': 863.2,\n",
       "   'STD [cGy]': 621.9,\n",
       "   'NDR': '',\n",
       "   'Equiv. Sphere Diam. [cm]': 6.1,\n",
       "   'Conformity Index': 'N/A',\n",
       "   'Gradient Measure [cm]': 'N/A'},\n",
       "  'DVH': [['Dose [cGy]', 'Ratio of Total Structure Volume [%]'],\n",
       "   [0.0, 100.0],\n",
       "   [1.0, 100.0],\n",
       "   [2.0, 100.0],\n",
       "   [3.0, 100.0],\n",
       "   [4.0, 100.0],\n",
       "   [5.0, 100.0],\n",
       "   [3667.0, 4.23876e-05],\n",
       "   [3668.0, 2.87336e-05],\n",
       "   [3669.0, 1.50797e-05],\n",
       "   [3670.0, 1.4257e-06]]},\n",
       " {'Structure': {'Structure': 'PTV 50',\n",
       "   'Approval Status': 'Approved',\n",
       "   'Plan': 'Plan Sum',\n",
       "   'Course': 'PLAN SUM',\n",
       "   'Volume [cc]': 363.6,\n",
       "   'Dose Cover.[%]': 100.0,\n",
       "   'Sampling Cover.[%]': 100.0,\n",
       "   'Min Dose [cGy]': 3985.9,\n",
       "   'Max Dose [cGy]': 5442.0,\n",
       "   'Mean Dose [cGy]': 5144.5,\n",
       "   'Modal Dose [cGy]': 5177.3,\n",
       "   'Median Dose [cGy]': 5166.9,\n",
       "   'STD [cGy]': 131.9,\n",
       "   'NDR': '',\n",
       "   'Equiv. Sphere Diam. [cm]': 8.9,\n",
       "   'Conformity Index': 'N/A',\n",
       "   'Gradient Measure [cm]': 'N/A'},\n",
       "  'DVH': [['Dose [cGy]', 'Ratio of Total Structure Volume [%]'],\n",
       "   [0.0, 100.0],\n",
       "   [1.0, 100.0],\n",
       "   [2.0, 100.0],\n",
       "   [3.0, 100.0],\n",
       "   [4.0, 100.0],\n",
       "   [5.0, 100.0],\n",
       "   [5437.0, 9.4777e-05],\n",
       "   [5438.0, 6.35607e-05],\n",
       "   [5439.0, 3.62425e-05],\n",
       "   [5440.0, 1.82336e-05],\n",
       "   [5441.0, 9.15003e-06],\n",
       "   [5442.0, 6.6481e-08]]}]"
      ]
     },
     "execution_count": 181,
     "metadata": {},
     "output_type": "execute_result"
    }
   ],
   "source": [
    "source = BufferedIterator(test_source)\n",
    "structure_data_list = dvh_group_section.read(source, context=context)\n",
    "structure_data_list\n"
   ]
  },
  {
   "cell_type": "code",
   "execution_count": 182,
   "metadata": {},
   "outputs": [
    {
     "name": "stderr",
     "output_type": "stream",
     "text": [
      "read_dvh.file        - INFO: Reading DVH data for: PRV5 SpinalCanal.\n"
     ]
    },
    {
     "ename": "AttributeError",
     "evalue": "'list' object has no attribute 'columns'",
     "output_type": "error",
     "traceback": [
      "\u001b[1;31m---------------------------------------------------------------------------\u001b[0m",
      "\u001b[1;31mAttributeError\u001b[0m                            Traceback (most recent call last)",
      "\u001b[1;32m~\\AppData\\Local\\Temp/ipykernel_3860/2796485296.py\u001b[0m in \u001b[0;36m<module>\u001b[1;34m\u001b[0m\n\u001b[0;32m     10\u001b[0m     \u001b[0mindx\u001b[0m \u001b[1;33m=\u001b[0m \u001b[1;33m(\u001b[0m\u001b[0mcourse_id\u001b[0m\u001b[1;33m,\u001b[0m \u001b[0mplan_name\u001b[0m\u001b[1;33m,\u001b[0m \u001b[0mstructure_id\u001b[0m\u001b[1;33m)\u001b[0m\u001b[1;33m\u001b[0m\u001b[1;33m\u001b[0m\u001b[0m\n\u001b[0;32m     11\u001b[0m     \u001b[0mstructures_dict\u001b[0m\u001b[1;33m[\u001b[0m\u001b[0mindx\u001b[0m\u001b[1;33m]\u001b[0m \u001b[1;33m=\u001b[0m \u001b[0mstructure_data\u001b[0m\u001b[1;33m\u001b[0m\u001b[1;33m\u001b[0m\u001b[0m\n\u001b[1;32m---> 12\u001b[1;33m     \u001b[0mdata_columns\u001b[0m \u001b[1;33m=\u001b[0m \u001b[0mlist\u001b[0m\u001b[1;33m(\u001b[0m\u001b[0mdvh_data\u001b[0m\u001b[1;33m.\u001b[0m\u001b[0mcolumns\u001b[0m\u001b[1;33m)\u001b[0m\u001b[1;33m\u001b[0m\u001b[1;33m\u001b[0m\u001b[0m\n\u001b[0m\u001b[0;32m     13\u001b[0m     \u001b[0mindx_d\u001b[0m \u001b[1;33m=\u001b[0m \u001b[1;33m[\u001b[0m\u001b[0mindx\u001b[0m \u001b[1;33m+\u001b[0m \u001b[1;33m(\u001b[0m\u001b[0md\u001b[0m\u001b[1;33m,\u001b[0m\u001b[1;33m)\u001b[0m \u001b[1;32mfor\u001b[0m \u001b[0md\u001b[0m \u001b[1;32min\u001b[0m \u001b[0mdata_columns\u001b[0m\u001b[1;33m]\u001b[0m\u001b[1;33m\u001b[0m\u001b[1;33m\u001b[0m\u001b[0m\n\u001b[0;32m     14\u001b[0m     \u001b[0mindx_names\u001b[0m \u001b[1;33m=\u001b[0m \u001b[1;33m[\u001b[0m\u001b[1;34m'Course'\u001b[0m\u001b[1;33m,\u001b[0m \u001b[1;34m'Plan'\u001b[0m\u001b[1;33m,\u001b[0m \u001b[1;34m'Structure'\u001b[0m\u001b[1;33m,\u001b[0m \u001b[1;34m'Data'\u001b[0m\u001b[1;33m]\u001b[0m\u001b[1;33m\u001b[0m\u001b[1;33m\u001b[0m\u001b[0m\n",
      "\u001b[1;31mAttributeError\u001b[0m: 'list' object has no attribute 'columns'"
     ]
    }
   ],
   "source": [
    "\n",
    "structures_list = list()\n",
    "dvh_data_list = list()\n",
    "for structure_data_set in structure_data_list:\n",
    "    structure_data = structure_data_set['Structure']\n",
    "    dvh_data = tp.to_dataframe(structure_data_set['DVH'])\n",
    "    \n",
    "    plan_name = structure_data['Plan']\n",
    "    course_id = structure_data['Course']\n",
    "    structure_id = structure_data['Structure']\n",
    "    \n",
    "\n",
    "    indx = (course_id, plan_name, structure_id)\n",
    "    structures_list.append(pd.Series(structure_data))\n",
    "    \n",
    "    dvh_data['Plan'] = structure_data['Plan']\n",
    "    dvh_data['Course'] = structure_data['Course']\n",
    "    dvh_data['Structure'] = structure_data['Structure']\n",
    "    \n",
    "    data_columns = list(dvh_data.columns)\n",
    "    indx_d = [indx + (d,) for d in data_columns]\n",
    "    indx_names = ['Course', 'Plan', 'Structure', 'Data']\n",
    "    index = pd.MultiIndex.from_tuples(indx_d, names=indx_names)\n",
    "    dvh_data.columns = index\n",
    "    dvh_data_list.append(dvh_data)\n",
    "#structures_df = pd.DataFrame(structures_dict)\n",
    "dvh_df = pd.concat(dvh_data_list, axis='columns')\n",
    "\n"
   ]
  },
  {
   "cell_type": "code",
   "execution_count": null,
   "metadata": {},
   "outputs": [
    {
     "data": {
      "text/plain": [
       "[{'Structure': 'PRV5 SpinalCanal',\n",
       "  'Approval Status': 'Approved',\n",
       "  'Plan': 'Plan Sum',\n",
       "  'Course': 'PLAN SUM',\n",
       "  'Volume [cc]': 121.5,\n",
       "  'Dose Cover.[%]': 100.0,\n",
       "  'Sampling Cover.[%]': 100.1,\n",
       "  'Min Dose [cGy]': 36.7,\n",
       "  'Max Dose [cGy]': 3670.1,\n",
       "  'Mean Dose [cGy]': 891.9,\n",
       "  'Modal Dose [cGy]': 44.5,\n",
       "  'Median Dose [cGy]': 863.2,\n",
       "  'STD [cGy]': 621.9,\n",
       "  'NDR': '',\n",
       "  'Equiv. Sphere Diam. [cm]': 6.1,\n",
       "  'Conformity Index': 'N/A',\n",
       "  'Gradient Measure [cm]': 'N/A'},\n",
       " {'Structure': 'PTV 50',\n",
       "  'Approval Status': 'Approved',\n",
       "  'Plan': 'Plan Sum',\n",
       "  'Course': 'PLAN SUM',\n",
       "  'Volume [cc]': 363.6,\n",
       "  'Dose Cover.[%]': 100.0,\n",
       "  'Sampling Cover.[%]': 100.0,\n",
       "  'Min Dose [cGy]': 3985.9,\n",
       "  'Max Dose [cGy]': 5442.0,\n",
       "  'Mean Dose [cGy]': 5144.5,\n",
       "  'Modal Dose [cGy]': 5177.3,\n",
       "  'Median Dose [cGy]': 5166.9,\n",
       "  'STD [cGy]': 131.9,\n",
       "  'NDR': '',\n",
       "  'Equiv. Sphere Diam. [cm]': 8.9,\n",
       "  'Conformity Index': 'N/A',\n",
       "  'Gradient Measure [cm]': 'N/A'}]"
      ]
     },
     "metadata": {},
     "output_type": "display_data"
    }
   ],
   "source": [
    "source = BufferedIterator(test_source)\n",
    "structures_df = dvh_group_section.read(source, context=context)\n",
    "structures_df\n"
   ]
  },
  {
   "cell_type": "code",
   "execution_count": null,
   "metadata": {},
   "outputs": [
    {
     "ename": "AttributeError",
     "evalue": "'dict' object has no attribute 'fillna'",
     "output_type": "error",
     "traceback": [
      "\u001b[1;31m---------------------------------------------------------------------------\u001b[0m\n",
      "\u001b[1;31mAttributeError\u001b[0m                            Traceback (most recent call last)\n",
      "\u001b[1;32m~\\AppData\\Local\\Temp/ipykernel_3860/3430058264.py\u001b[0m in \u001b[0;36m<module>\u001b[1;34m\u001b[0m\n",
      "\u001b[0;32m      1\u001b[0m \u001b[0msource\u001b[0m \u001b[1;33m=\u001b[0m \u001b[0mBufferedIterator\u001b[0m\u001b[1;33m(\u001b[0m\u001b[0mtest_source\u001b[0m\u001b[1;33m)\u001b[0m\u001b[1;33m\u001b[0m\u001b[1;33m\u001b[0m\u001b[0m\n",
      "\u001b[0;32m      2\u001b[0m \u001b[0mstructures_df\u001b[0m\u001b[1;33m,\u001b[0m \u001b[0mdvh_df\u001b[0m \u001b[1;33m=\u001b[0m \u001b[0mdvh_group_section\u001b[0m\u001b[1;33m.\u001b[0m\u001b[0mread\u001b[0m\u001b[1;33m(\u001b[0m\u001b[0msource\u001b[0m\u001b[1;33m,\u001b[0m \u001b[0mcontext\u001b[0m\u001b[1;33m=\u001b[0m\u001b[0mcontext\u001b[0m\u001b[1;33m)\u001b[0m\u001b[1;33m\u001b[0m\u001b[1;33m\u001b[0m\u001b[0m\n",
      "\u001b[1;32m----> 3\u001b[1;33m \u001b[0mdvh_df\u001b[0m\u001b[1;33m.\u001b[0m\u001b[0mfillna\u001b[0m\u001b[1;33m(\u001b[0m\u001b[1;36m0\u001b[0m\u001b[1;33m,\u001b[0m \u001b[0minplace\u001b[0m\u001b[1;33m=\u001b[0m\u001b[1;32mTrue\u001b[0m\u001b[1;33m)\u001b[0m\u001b[1;33m\u001b[0m\u001b[1;33m\u001b[0m\u001b[0m\n",
      "\u001b[0m\u001b[0;32m      4\u001b[0m \u001b[1;33m\u001b[0m\u001b[0m\n",
      "\u001b[0;32m      5\u001b[0m \u001b[0mdvh\u001b[0m\u001b[1;33m.\u001b[0m\u001b[0mfillna\u001b[0m\u001b[1;33m(\u001b[0m\u001b[1;36m0\u001b[0m\u001b[1;33m,\u001b[0m \u001b[0minplace\u001b[0m\u001b[1;33m=\u001b[0m\u001b[1;32mTrue\u001b[0m\u001b[1;33m)\u001b[0m\u001b[1;33m\u001b[0m\u001b[1;33m\u001b[0m\u001b[0m\n",
      "\n",
      "\u001b[1;31mAttributeError\u001b[0m: 'dict' object has no attribute 'fillna'"
     ]
    }
   ],
   "source": [
    "source = BufferedIterator(test_source)\n",
    "structures_df, dvh_df = dvh_group_section.read(source, context=context)\n",
    "dvh_df.fillna(0, inplace=True)\n",
    "\n",
    "dvh.fillna(0, inplace=True)\n",
    "compare_dict(dvh_df.to_dict(), dvh.to_dict(), one_line=False)\n"
   ]
  },
  {
   "cell_type": "markdown",
   "metadata": {},
   "source": [
    "### Structures"
   ]
  },
  {
   "cell_type": "code",
   "execution_count": 124,
   "metadata": {},
   "outputs": [
    {
     "data": {
      "text/plain": [
       "{'Structure': 'PRV5 SpinalCanal',\n",
       " 'Approval Status': 'Approved',\n",
       " 'Plan': 'Plan Sum',\n",
       " 'Course': 'PLAN SUM',\n",
       " 'Volume [cc]': 121.5,\n",
       " 'Dose Cover.[%]': 100.0,\n",
       " 'Sampling Cover.[%]': 100.1,\n",
       " 'Min Dose [cGy]': 36.7,\n",
       " 'Max Dose [cGy]': 3670.1,\n",
       " 'Mean Dose [cGy]': 891.9,\n",
       " 'Modal Dose [cGy]': 44.5,\n",
       " 'Median Dose [cGy]': 863.2,\n",
       " 'STD [cGy]': 621.9,\n",
       " 'NDR': '',\n",
       " 'Equiv. Sphere Diam. [cm]': 6.1,\n",
       " 'Conformity Index': 'N/A',\n",
       " 'Gradient Measure [cm]': 'N/A'}"
      ]
     },
     "execution_count": 124,
     "metadata": {},
     "output_type": "execute_result"
    }
   ],
   "source": [
    "dvh_group_section = dvh_group_section\n",
    "# scan_section\n",
    "source = BufferedIterator(test_source)\n",
    "structures_df = structure_info_section.read(source, context=context)\n",
    "#compare_dict(structures_df.to_dict(), structures.to_dict(), one_line=False)\n",
    "structures_df"
   ]
  },
  {
   "cell_type": "code",
   "execution_count": null,
   "metadata": {},
   "outputs": [],
   "source": [
    "dvh_group_section = dvh_group_section\n",
    "# scan_section\n",
    "source = BufferedIterator(test_source)\n",
    "structures_df, dvh_df = dvh_group_section.read(source, context=context)\n",
    "#compare_dict(structures_df.to_dict(), structures.to_dict(), one_line=False)\n",
    "structures_df"
   ]
  }
 ],
 "metadata": {
  "kernelspec": {
   "display_name": "Python 3.8.12 ('sectionaryDev')",
   "language": "python",
   "name": "python3"
  },
  "language_info": {
   "codemirror_mode": {
    "name": "ipython",
    "version": 3
   },
   "file_extension": ".py",
   "mimetype": "text/x-python",
   "name": "python",
   "nbconvert_exporter": "python",
   "pygments_lexer": "ipython3",
   "version": "3.8.12"
  },
  "orig_nbformat": 4,
  "vscode": {
   "interpreter": {
    "hash": "890849be4bb9b5be1d044afe42e602ccc6ca20da23c054ee97c8186ec3939c45"
   }
  }
 },
 "nbformat": 4,
 "nbformat_minor": 2
}
