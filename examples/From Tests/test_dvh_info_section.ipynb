{
 "cells": [
  {
   "cell_type": "code",
   "execution_count": 6,
   "metadata": {},
   "outputs": [],
   "source": [
    "from functools import partial\n",
    "import sections\n",
    "import text_reader as tp\n",
    "from buffered_iterator import BufferedIterator"
   ]
  },
  {
   "cell_type": "code",
   "execution_count": 7,
   "metadata": {},
   "outputs": [],
   "source": [
    "DVH_TEST_TEXT = [\n",
    "        'Patient Name         : ____, ____',\n",
    "        'Patient ID           : 1234567',\n",
    "        'Comment              : DVHs for multiple plans and plan sums',\n",
    "        'Date                 : Friday, January 17, 2020 09:45:07',\n",
    "        'Exported by          : gsal',\n",
    "        'Type                 : Cumulative Dose Volume Histogram',\n",
    "        ('Description          : The cumulative DVH displays the '\n",
    "        'percentage (relative)'),\n",
    "        ('                       or volume (absolute) of structures '\n",
    "        'that receive a dose'),\n",
    "        '                      equal to or greater than a given dose.',\n",
    "        '',\n",
    "        'Plan sum: Plan Sum',\n",
    "        'Course: PLAN SUM',\n",
    "        'Prescribed dose [cGy]: not defined',\n",
    "        '% for dose (%): not defined',\n",
    "        '',\n",
    "        'Plan: PARR',\n",
    "        'Course: C1',\n",
    "        'Plan Status: Treatment Approved Thursday, January 02, '\n",
    "        '2020 12:55:56 by gsal',\n",
    "        'Prescribed dose [cGy]: 5000.0',\n",
    "        '% for dose (%): 100.0',\n",
    "        '',\n",
    "        'Structure: PRV5 SpinalCanal',\n",
    "        'Approval Status: Approved',\n",
    "        'Plan: Plan Sum',\n",
    "        'Course: PLAN SUM',\n",
    "        'Volume [cm³]: 121.5',\n",
    "        'Dose Cover.[%]: 100.0',\n",
    "        'Sampling Cover.[%]: 100.1',\n",
    "        'Min Dose [cGy]: 36.7',\n",
    "        'Max Dose [cGy]: 3670.1',\n",
    "        'Mean Dose [cGy]: 891.9',\n",
    "        'Modal Dose [cGy]: 44.5',\n",
    "        'Median Dose [cGy]: 863.2',\n",
    "        'STD [cGy]: 621.9',\n",
    "        'NDR: ',\n",
    "        'Equiv. Sphere Diam. [cm]: 6.1',\n",
    "        'Conformity Index: N/A',\n",
    "        'Gradient Measure [cm]: N/A',\n",
    "        '',\n",
    "        'Dose [cGy] Ratio of Total Structure Volume [%]',\n",
    "        '         0                       100',\n",
    "        '         1                       100',\n",
    "        '         2                       100',\n",
    "        '         3                       100',\n",
    "        '         4                       100',\n",
    "        '         5                       100',\n",
    "        '      3667              4.23876e-005',\n",
    "        '      3668              2.87336e-005',\n",
    "        '      3669              1.50797e-005',\n",
    "        '      3670               1.4257e-006',\n",
    "        '',\n",
    "        'Structure: PTV 50',\n",
    "        'Approval Status: Approved',\n",
    "        'Plan: Plan Sum',\n",
    "        'Course: PLAN SUM',\n",
    "        'Volume [cm³]: 363.6',\n",
    "        'Dose Cover.[%]: 100.0',\n",
    "        'Sampling Cover.[%]: 100.0',\n",
    "        'Min Dose [cGy]: 3985.9',\n",
    "        'Max Dose [cGy]: 5442.0',\n",
    "        'Mean Dose [cGy]: 5144.5',\n",
    "        'Modal Dose [cGy]: 5177.3',\n",
    "        'Median Dose [cGy]: 5166.9',\n",
    "        'STD [cGy]: 131.9',\n",
    "        'NDR: ',\n",
    "        'Equiv. Sphere Diam. [cm]: 8.9',\n",
    "        'Conformity Index: N/A',\n",
    "        'Gradient Measure [cm]: N/A',\n",
    "        '',\n",
    "        'Dose [cGy] Ratio of Total Structure Volume [%]',\n",
    "        '         0                       100',\n",
    "        '         1                       100',\n",
    "        '         2                       100',\n",
    "        '         3                       100',\n",
    "        '         4                       100',\n",
    "        '         5                       100',\n",
    "        '      5437               9.4777e-005',\n",
    "        '      5438              6.35607e-005',\n",
    "        '      5439              3.62425e-005',\n",
    "        '      5440              1.82336e-005',\n",
    "        '      5441              9.15003e-006',\n",
    "        '      5442               6.6481e-008'\n",
    "        ]\n"
   ]
  },
  {
   "cell_type": "code",
   "execution_count": 8,
   "metadata": {},
   "outputs": [],
   "source": [
    "context = {}\n",
    "\n",
    "dvh_info_end = sections.SectionBreak(\n",
    "    name='End of DVH Info',\n",
    "    sentinel=['Plan:', 'Plan sum:']\n",
    "    )\n",
    "\n",
    "dvh_info_section = sections.Section(\n",
    "    start_section=None,\n",
    "    end_section=dvh_info_end\n",
    "    )\n"
   ]
  },
  {
   "cell_type": "markdown",
   "metadata": {},
   "source": [
    "## Using `Scan`.\n",
    "\n",
    "### Identifying first source item:\n",
    "\n",
    "- Use `is_first_item` attribute to check for first line of source.\n",
    "  - Values can be:\n",
    "  > 1. None $\\to$ Before first item\n",
    "  > 2. True $\\to$ Is first item\n",
    "  > 3. False $\\to$ After first item\n",
    "- When calling next item:\n",
    "```python\n",
    "if self.is_first_item is None:\n",
    "     self.is_first_item = True\n",
    "else:\n",
    "     self.is_first_item = False\n",
    "```\n",
    "\n",
    "### Other useful values\n",
    "- Source count at start of section (0) if Source is new.\n",
    "- Source count after _Move to Start_\n",
    "  \n",
    "### Section vs. Source Count\n",
    "- Section count should match with Source cound because scan returns all source \n",
    "  items between start and end of section.\n",
    "  - `scan` is not called by `process` or `read`.\n",
    "  - `self.source_index` can be set in `scan`.\n",
    "\n",
    "**********\n",
    "```python\n",
    "  self._source_index = None  # clear the indexing\n",
    "  \n",
    "  @property\n",
    "  def source_index(self):\n",
    "      return self._source_index\n",
    "\n",
    "  @property\n",
    "  def source_item_count(self):\n",
    "      if not self._source_index:\n",
    "          return 0\n",
    "      return self._source_index[-1]\n",
    "\n",
    "  @property\n",
    "  def item_count(self):\n",
    "      if not self._source_index:\n",
    "          return 0\n",
    "      return len(self._source_index)\n",
    "```\n",
    "**********\n"
   ]
  },
  {
   "cell_type": "code",
   "execution_count": 9,
   "metadata": {},
   "outputs": [
    {
     "name": "stdout",
     "output_type": "stream",
     "text": [
      "Plan sum:\n"
     ]
    }
   ],
   "source": [
    "end_check = dvh_info_section.scan(DVH_TEST_TEXT, start_search=True)\n",
    "output = [row for row in end_check]  # pylint: disable=unused-variable\n",
    "event = dvh_info_section.context['Event']\n",
    "print(event)"
   ]
  },
  {
   "cell_type": "code",
   "execution_count": 10,
   "metadata": {},
   "outputs": [
    {
     "name": "stdout",
     "output_type": "stream",
     "text": [
      "['Patient Name         : ____, ____', 'Patient ID           : 1234567', 'Comment              : DVHs for multiple plans and plan sums', 'Date                 : Friday, January 17, 2020 09:45:07', 'Exported by          : gsal', 'Type                 : Cumulative Dose Volume Histogram', 'Description          : The cumulative DVH displays the percentage (relative)', '                       or volume (absolute) of structures that receive a dose', '                      equal to or greater than a given dose.', '']\n"
     ]
    }
   ],
   "source": [
    "end_check = dvh_info_section.scan(DVH_TEST_TEXT, start_search=True)\n",
    "scanned_lines = [row for row in end_check]\n",
    "print(scanned_lines)"
   ]
  }
 ],
 "metadata": {
  "kernelspec": {
   "display_name": "Python 3.8.12 ('sectionaryDev')",
   "language": "python",
   "name": "python3"
  },
  "language_info": {
   "codemirror_mode": {
    "name": "ipython",
    "version": 3
   },
   "file_extension": ".py",
   "mimetype": "text/x-python",
   "name": "python",
   "nbconvert_exporter": "python",
   "pygments_lexer": "ipython3",
   "version": "3.8.12"
  },
  "vscode": {
   "interpreter": {
    "hash": "890849be4bb9b5be1d044afe42e602ccc6ca20da23c054ee97c8186ec3939c45"
   }
  }
 },
 "nbformat": 4,
 "nbformat_minor": 4
}
