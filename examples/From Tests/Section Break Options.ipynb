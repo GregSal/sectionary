{
 "cells": [
  {
   "cell_type": "code",
   "execution_count": null,
   "metadata": {},
   "outputs": [],
   "source": []
  },
  {
   "cell_type": "markdown",
   "metadata": {},
   "source": [
    "## Setup"
   ]
  },
  {
   "cell_type": "raw",
   "metadata": {},
   "source": [
    "from pathlib import Path\n",
    "import sys\n",
    "\n",
    "env_str = !set HOMEPATH\n",
    "\n",
    "home_path = Path(r'C:\\\\' + env_str[0].split('=',1)[1].strip('\"'))\n",
    "print(home_path)\n",
    "\n",
    "base_path = home_path / r\"OneDrive - Queen's University/Python\\Projects/sectionary package\"\n",
    "tests_path = base_path / 'Tests'\n",
    "examples_path = base_path / 'examples'\n",
    "source_path = base_path / r'src/sectionary'\n",
    "\n",
    "sys.path.extend([\n",
    "    base_path,\n",
    "    tests_path,\n",
    "    examples_path,\n",
    "    source_path\n",
    "    ])\n",
    "\n",
    "\n",
    "print('PythonPaths:')\n",
    "for path_str in sys.path:\n",
    "    print(f'\\t{path_str}')"
   ]
  },
  {
   "cell_type": "markdown",
   "metadata": {},
   "source": [
    "### Imports"
   ]
  },
  {
   "cell_type": "code",
   "execution_count": 1,
   "metadata": {},
   "outputs": [],
   "source": [
    "from typing import List\n",
    "from pathlib import Path\n",
    "from pprint import pprint\n",
    "import re\n",
    "import sys\n",
    "\n",
    "import pandas as pd\n",
    "import xlwings as xw\n",
    "\n",
    "from buffered_iterator import BufferedIterator\n",
    "import text_reader as tp\n",
    "from sections import Rule, RuleSet, SectionBreak, ProcessingMethods, Section"
   ]
  },
  {
   "cell_type": "markdown",
   "metadata": {},
   "source": [
    "### Logging"
   ]
  },
  {
   "cell_type": "code",
   "execution_count": 2,
   "metadata": {},
   "outputs": [],
   "source": [
    "import logging\n",
    "logging.basicConfig(format='%(name)-20s - %(levelname)s: %(message)s')\n",
    "#logging.basicConfig(level=logging.DEBUG)\n",
    "logger = logging.getLogger('Two Line SubSection Tests')\n",
    "#logger.setLevel(logging.DEBUG)\n",
    "logger.setLevel(logging.INFO)"
   ]
  },
  {
   "cell_type": "markdown",
   "metadata": {},
   "source": [
    "### Display Functions"
   ]
  },
  {
   "cell_type": "code",
   "execution_count": 3,
   "metadata": {},
   "outputs": [],
   "source": [
    "#%%writefile display_functions.py"
   ]
  },
  {
   "cell_type": "code",
   "execution_count": 4,
   "metadata": {
    "notebookRunGroups": {
     "groupValue": "1"
    }
   },
   "outputs": [],
   "source": [
    "# %% Function to compare context for two sections.\n",
    "def compare_context(section1, section2):\n",
    "    ctx_template = '{key:16s}:\\t{item1:16s}\\t{item2:16s}'\n",
    "    context_1 = section1.context\n",
    "    context_2 = section2.context\n",
    "    keys_1 = set(context_1.keys())\n",
    "    keys_2 = set(context_2.keys())\n",
    "    all_keys = keys_1 | keys_2\n",
    "    for key in all_keys:\n",
    "        item1 = context_1.get(key, '')\n",
    "        item2 = context_2.get(key, '')\n",
    "        ctx_str = ctx_template.format(key=str(key), item1=str(item1), item2=str(item2))\n",
    "        print(ctx_str)\n",
    "        \n",
    "        \n",
    "# %% Compare Buffered Iterator contents\n",
    "def buffered_iterator_compare(iter1, iter2=None, iter3=None, \n",
    "                              label1='From Iterator', \n",
    "                              label2='To Iterator', label3=''):\n",
    "    \n",
    "    def extract_attrs(buf_obj, requested_item, as_list=True):\n",
    "        if not buf_obj:\n",
    "            text = ''\n",
    "        elif as_list:\n",
    "            text = str(list(buf_obj.__getattribute__(requested_item)))\n",
    "        else:\n",
    "            text = str(buf_obj.__getattribute__(requested_item))\n",
    "        return text\n",
    "        \n",
    "    def extract_attr_text(requested_item, iter1, iter2=None, iter3=None, \n",
    "                        as_list=True):    \n",
    "        attr_text = {\n",
    "            1: extract_attrs(iter1, requested_item, as_list),\n",
    "            2: extract_attrs(iter2, requested_item, as_list),\n",
    "            3: extract_attrs(iter3, requested_item, as_list),\n",
    "        }\n",
    "        return attr_text\n",
    "\n",
    "\n",
    "    row_template = ''.join([\n",
    "        '\\t{Label:<20s}',\n",
    "        '{first_iter_item:<35s}',\n",
    "        '{second_iter_item:<35s}',\n",
    "        '{third_iter_item:<35s}\\n'\n",
    "        ])   \n",
    "    attr_group = {\n",
    "        'Previous Items': ('previous_items', True),\n",
    "        'Future Items': ('future_items', True),\n",
    "        'Item Count': ('item_count', False),\n",
    "        'Step Back': ('_step_back', False),\n",
    "        'Buffer Size': ('buffer_size', False)\n",
    "        }\n",
    "\n",
    "    row_list = [\n",
    "        row_template.format(\n",
    "            Label='',\n",
    "            first_iter_item=label1, \n",
    "            second_iter_item=label2, \n",
    "            third_iter_item=label3)\n",
    "                ]\n",
    "\n",
    "    for label, attr_s in attr_group.items():\n",
    "        requested_item, as_list = attr_s\n",
    "        text_group = extract_attr_text(requested_item, iter1, iter2, iter3, as_list)\n",
    "        text_line = row_template.format(Label=label, \n",
    "                        first_iter_item=text_group[1],\n",
    "                        second_iter_item=text_group[2],\n",
    "                        third_iter_item=text_group[3])\n",
    "        row_list.append(text_line)\n",
    "    \n",
    "    iterator_compare_str = ''.join(row_list)\n",
    "    \n",
    "    return iterator_compare_str"
   ]
  },
  {
   "cell_type": "markdown",
   "metadata": {},
   "source": [
    "**********\n",
    "\n",
    "# Section Break options"
   ]
  },
  {
   "cell_type": "markdown",
   "metadata": {},
   "source": [
    "## Three line sections"
   ]
  },
  {
   "cell_type": "code",
   "execution_count": 5,
   "metadata": {},
   "outputs": [],
   "source": [
    "GENERIC_TEST_TEXT2 = [\n",
    "    'Text to be ignored',\n",
    "    'StartSection A',\n",
    "    'MiddleSection A',\n",
    "    'EndSection A',\n",
    "    'Unwanted text between sections',\n",
    "    'StartSection B',\n",
    "    'MiddleSection B',\n",
    "    'EndSection B',\n",
    "    'StartSection C',\n",
    "    'MiddleSection C',\n",
    "    'EndSection C',\n",
    "    'Even more text to be ignored', \n",
    "    ]"
   ]
  },
  {
   "cell_type": "markdown",
   "metadata": {},
   "source": [
    "**********\n",
    "\n",
    "### Initial Section and Sub-Section Definitions"
   ]
  },
  {
   "cell_type": "markdown",
   "metadata": {},
   "source": [
    "- Only definition line is:<br>\n",
    "`processor=[sub_section]`"
   ]
  },
  {
   "cell_type": "code",
   "execution_count": 6,
   "metadata": {},
   "outputs": [
    {
     "name": "stdout",
     "output_type": "stream",
     "text": [
      "[['Text to be ignored',\n",
      "  'StartSection A',\n",
      "  'MiddleSection A',\n",
      "  'EndSection A',\n",
      "  'Unwanted text between sections',\n",
      "  'StartSection B',\n",
      "  'MiddleSection B',\n",
      "  'EndSection B',\n",
      "  'StartSection C',\n",
      "  'MiddleSection C',\n",
      "  'EndSection C',\n",
      "  'Even more text to be ignored']]\n"
     ]
    }
   ],
   "source": [
    "sub_section = Section(\n",
    "    section_name='SubSection',\n",
    "    #start_section=SectionBreak('StartSection', break_offset='Before'),\n",
    "    #end_section=SectionBreak('EndSection', break_offset='After'),\n",
    "    #end_section=SectionBreak(True)\n",
    "    #end_on_first_item=True\n",
    "    )\n",
    "\n",
    "full_section = Section(\n",
    "    section_name='Full',\n",
    "    #start_section=SectionBreak('StartSection', break_offset='Before'),\n",
    "    #end_section=SectionBreak('EndSection', break_offset='After'),\n",
    "    #end_on_first_item=True\n",
    "    processor=sub_section  \n",
    "    )\n",
    "pprint(full_section.read(GENERIC_TEST_TEXT2))"
   ]
  },
  {
   "cell_type": "markdown",
   "metadata": {},
   "source": [
    "- ![Good](../examples/Valid.png) Results in all lines in one sub-list\n",
    "\n",
    "<table><thead><th>Expected</th><th>Actual</th></thead>\n",
    "<tr>\n",
    "  <td><code>\n",
    "    [<br>\n",
    "      ['Text to be ignored',<br>\n",
    "       'StartSection A',<br>\n",
    "       'MiddleSection A',<br>\n",
    "       'EndSection A',<br>\n",
    "       'Unwanted text between sections',<br>\n",
    "       'StartSection B',<br>\n",
    "       'MiddleSection B',<br>\n",
    "       'EndSection B',<br>\n",
    "       'StartSection C',<br>\n",
    "       'MiddleSection C',<br>\n",
    "       'EndSection C',<br>\n",
    "       'Even more text to be ignored']<br>\n",
    "      ]</code></td>\n",
    "  <td><code>\n",
    "    [<br>\n",
    "      ['Text to be ignored',<br>\n",
    "       'StartSection A',<br>\n",
    "       'MiddleSection A',<br>\n",
    "       'EndSection A',<br>\n",
    "       'Unwanted text between sections',<br>\n",
    "       'StartSection B',<br>\n",
    "       'MiddleSection B',<br>\n",
    "       'EndSection B',<br>\n",
    "       'StartSection C',<br>\n",
    "       'MiddleSection C',<br>\n",
    "       'EndSection C',<br>\n",
    "       'Even more text to be ignored']<br>\n",
    "      ]</code></td>\n",
    "</table>\n",
    "\n"
   ]
  },
  {
   "cell_type": "markdown",
   "metadata": {},
   "source": [
    "### Add start to Section Definition"
   ]
  },
  {
   "cell_type": "markdown",
   "metadata": {},
   "source": [
    "- Section start **Before** *StartSection*\n",
    "\n",
    "`start_section=SectionBreak('StartSection', break_offset='Before'),`"
   ]
  },
  {
   "cell_type": "code",
   "execution_count": 7,
   "metadata": {},
   "outputs": [
    {
     "name": "stdout",
     "output_type": "stream",
     "text": [
      "[['StartSection A',\n",
      "  'MiddleSection A',\n",
      "  'EndSection A',\n",
      "  'Unwanted text between sections',\n",
      "  'StartSection B',\n",
      "  'MiddleSection B',\n",
      "  'EndSection B',\n",
      "  'StartSection C',\n",
      "  'MiddleSection C',\n",
      "  'EndSection C',\n",
      "  'Even more text to be ignored']]\n"
     ]
    }
   ],
   "source": [
    "sub_section = Section(\n",
    "    section_name='SubSection',\n",
    "    #start_section=SectionBreak('StartSection', break_offset='Before'),\n",
    "    #end_section=SectionBreak('EndSection', break_offset='After'),\n",
    "    #end_section=SectionBreak(True)\n",
    "    #end_on_first_item=True\n",
    "    )\n",
    "\n",
    "full_section = Section(\n",
    "    section_name='Full',\n",
    "    start_section=SectionBreak('StartSection', break_offset='Before'),\n",
    "    #end_section=SectionBreak('EndSection', break_offset='After'),\n",
    "    #end_on_first_item=True,\n",
    "    processor=sub_section\n",
    "    )\n",
    "pprint(full_section.read(GENERIC_TEST_TEXT2))"
   ]
  },
  {
   "cell_type": "markdown",
   "metadata": {},
   "source": [
    "- ![Good](../examples/Valid.png) Includes all lines after first *StartSection* in single sub-list.\n",
    "\n",
    "<table><thead><th>Expected</th><th>Actual</th></thead>\n",
    "<tr>\n",
    "  <td><code>\n",
    "    [<br>\n",
    "      ['StartSection A',<br>\n",
    "       'MiddleSection A',<br>\n",
    "       'EndSection A',<br>\n",
    "       'Unwanted text between sections',<br>\n",
    "       'StartSection B',<br>\n",
    "       'MiddleSection B',<br>\n",
    "       'EndSection B',<br>\n",
    "       'StartSection C',<br>\n",
    "       'MiddleSection C',<br>\n",
    "       'EndSection C',<br>\n",
    "       'Even more text to be ignored']<br>\n",
    "    ]</code></td>\n",
    "  <td><code>\n",
    "    [<br>\n",
    "      ['StartSection A',<br>\n",
    "       'MiddleSection A',<br>\n",
    "       'EndSection A',<br>\n",
    "       'Unwanted text between sections',<br>\n",
    "       'StartSection B',<br>\n",
    "       'MiddleSection B',<br>\n",
    "       'EndSection B',<br>\n",
    "       'StartSection C',<br>\n",
    "       'MiddleSection C',<br>\n",
    "       'EndSection C',<br>\n",
    "       'Even more text to be ignored']<br>\n",
    "    ]</code></td>\n",
    "</table>\n",
    "\n"
   ]
  },
  {
   "cell_type": "markdown",
   "metadata": {},
   "source": [
    "### Add end to Section Definition"
   ]
  },
  {
   "cell_type": "markdown",
   "metadata": {},
   "source": [
    "- Section start **Before** *StartSection*\n",
    "- Section end **After** *EndSection*\n",
    "\n",
    "```python\n",
    "full_section = Section(section_name='Full',\n",
    "    start_section=SectionBreak('StartSection', break_offset='Before'),\n",
    "    end_section=SectionBreak('EndSection', break_offset='After'),\n",
    "    processor=sub_section \n",
    "    )\n",
    "```"
   ]
  },
  {
   "cell_type": "code",
   "execution_count": 8,
   "metadata": {},
   "outputs": [
    {
     "name": "stdout",
     "output_type": "stream",
     "text": [
      "[['StartSection A', 'MiddleSection A', 'EndSection A']]\n",
      "[['StartSection B', 'MiddleSection B', 'EndSection B']]\n",
      "[['StartSection C', 'MiddleSection C', 'EndSection C']]\n",
      "[]\n"
     ]
    }
   ],
   "source": [
    "sub_section = Section(\n",
    "    section_name='SubSection',\n",
    "    #start_section=SectionBreak('StartSection', break_offset='Before'),\n",
    "    #end_section=SectionBreak('EndSection', break_offset='After'),\n",
    "    #end_section=SectionBreak(True)\n",
    "    #end_on_first_item=True\n",
    "    )\n",
    "\n",
    "full_section = Section(\n",
    "    section_name='Full',\n",
    "    start_section=SectionBreak('StartSection', break_offset='Before'),\n",
    "    end_section=SectionBreak('EndSection', break_offset='After'),\n",
    "    #end_on_first_item=True,    \n",
    "    processor=sub_section\n",
    "    )\n",
    "\n",
    "test_iter = BufferedIterator(GENERIC_TEST_TEXT2)\n",
    "pprint(full_section.read(test_iter))\n",
    "pprint(full_section.read(test_iter))\n",
    "pprint(full_section.read(test_iter))\n",
    "pprint(full_section.read(test_iter))"
   ]
  },
  {
   "cell_type": "markdown",
   "metadata": {},
   "source": [
    "- ![Good](../examples/Valid.png) Includes all three lines of first section in single sub-list.\n",
    "- skips the *'Unwanted text between sections'* line.\n",
    "\n",
    "<table><thead><th>Expected</th><th>Actual</th></thead>\n",
    "<tr>\n",
    "  <td><code>\n",
    "    [<br>\n",
    "      ['StartSection A',<br>\n",
    "       'MiddleSection A',<br>\n",
    "       'EndSection A']<br>\n",
    "    ]</code></td>\n",
    "  <td><code>\n",
    "    [<br>\n",
    "      ['StartSection A',<br>\n",
    "       'MiddleSection A',<br>\n",
    "       'EndSection A']<br>\n",
    "    ]</code></td>\n",
    "</tr>\n",
    "<tr>\n",
    "  <td><code>\n",
    "    [<br>\n",
    "      ['StartSection B',<br>\n",
    "       'MiddleSection B',<br>\n",
    "       'EndSection B']<br>\n",
    "    ]</code></td>\n",
    "  <td><code>\n",
    "    [<br>\n",
    "      ['StartSection B',<br>\n",
    "       'MiddleSection B',<br>\n",
    "       'EndSection B']<br>\n",
    "    ]</code></td>\n",
    "</tr>\n",
    "<tr>\n",
    "  <td><code>\n",
    "    [<br>\n",
    "      ['StartSection C',<br>\n",
    "       'MiddleSection C',<br>\n",
    "       'EndSection C']<br>\n",
    "    ]</code></td>\n",
    "  <td><code>\n",
    "    [<br>\n",
    "      ['StartSection C',<br>\n",
    "       'MiddleSection C',<br>\n",
    "       'EndSection C']<br>\n",
    "    ]</code></td>\n",
    "</tr>\n",
    "<tr><td><code>[]</code></td><td><code>[]</code></td></tr>\n",
    "</table>\n",
    "\n"
   ]
  },
  {
   "cell_type": "markdown",
   "metadata": {},
   "source": [
    "### Define Muti-Section to Read Both Sections"
   ]
  },
  {
   "cell_type": "markdown",
   "metadata": {},
   "source": [
    "Add end to Section Definition\n",
    "- Section start **Before** *StartSection*\n",
    "- Section end **After** *EndSection*\n",
    "- Simple subsection\n",
    "- Multi Section defines Full Section as Sub Section with no start or end (All lines)\n",
    "\n",
    "```python\n",
    "sub_section = Section(section_name='SubSection')\n",
    "\n",
    "full_section = Section(section_name='Full',\n",
    "    start_section=SectionBreak('StartSection', break_offset='Before'),\n",
    "    end_section=SectionBreak('EndSection', break_offset='After'),\n",
    "    processor=sub_section \n",
    "    )\n",
    "\n",
    "multi_section = Section(\n",
    "    section_name='Multi',\n",
    "    processor=full_section \n",
    "    )\n",
    "```"
   ]
  },
  {
   "cell_type": "code",
   "execution_count": 9,
   "metadata": {},
   "outputs": [
    {
     "name": "stdout",
     "output_type": "stream",
     "text": [
      "[[['StartSection A', 'MiddleSection A', 'EndSection A']],\n",
      " [['StartSection B', 'MiddleSection B', 'EndSection B']],\n",
      " [['StartSection C', 'MiddleSection C', 'EndSection C']]]\n"
     ]
    }
   ],
   "source": [
    "sub_section = Section(\n",
    "    section_name='SubSection',\n",
    "    #start_section=SectionBreak('StartSection', break_offset='Before'),\n",
    "    #end_section=SectionBreak('EndSection', break_offset='After'),\n",
    "    #end_section=SectionBreak(True)\n",
    "    #end_on_first_item=True\n",
    "    )\n",
    "\n",
    "full_section = Section(\n",
    "    section_name='Full',\n",
    "    start_section=SectionBreak('StartSection', break_offset='Before'),\n",
    "    end_section=SectionBreak('EndSection', break_offset='After'),\n",
    "    processor=sub_section,\n",
    "    #end_on_first_item=True\n",
    "    )\n",
    "\n",
    "multi_section = Section(\n",
    "    section_name='Multi',\n",
    "    processor=full_section\n",
    "    #end_on_first_item=True\n",
    "    )\n",
    "\n",
    "pprint(multi_section.read(GENERIC_TEST_TEXT2))"
   ]
  },
  {
   "cell_type": "markdown",
   "metadata": {},
   "source": [
    "- ![Good](../examples/Valid.png)Includes all three lines of each section in its own sub-list.\n",
    "- Skips the *'Unwanted text between sections'* line.\n",
    "\n",
    "<table><thead><th>Expected</th><th>Actual</th></thead>\n",
    "<tr>\n",
    "  <td><code>\n",
    "    [<br>\n",
    "      [['StartSection A',<br>\n",
    "        'MiddleSection A',<br>\n",
    "        'EndSection A']],<br>\n",
    "      [['StartSection Name: B',<br>\n",
    "        'MiddleSection B',<br>\n",
    "        'EndSection Name: B']]<br>\n",
    "      [['StartSection Name: C',<br>\n",
    "        'MiddleSection C',<br>\n",
    "        'EndSection Name: C']]<br>\n",
    "    ]</code></td>    \n",
    "  <td><code>\n",
    "    [<br>\n",
    "      [['StartSection A',<br>\n",
    "        'MiddleSection A',<br>\n",
    "        'EndSection A']],<br>\n",
    "      [['StartSection Name: B',<br>\n",
    "        'MiddleSection B',<br>\n",
    "        'EndSection Name: B']]<br>\n",
    "      [['StartSection Name: C',<br>\n",
    "        'MiddleSection C',<br>\n",
    "        'EndSection Name: C']]<br>\n",
    "    ]</code></td></tr>\n",
    "</table>"
   ]
  },
  {
   "cell_type": "markdown",
   "metadata": {},
   "source": [
    "### Set Same Start and End Breaks for Section"
   ]
  },
  {
   "cell_type": "markdown",
   "metadata": {},
   "source": [
    "Add end to Section Definition\n",
    "- Section start **Before** *StartSection*\n",
    "- Section end **Before** *StartSection*\n",
    "- Simple subsection\n",
    "- Multi Section defines Full Section as Sub Section with no start or end (All lines)\n",
    "\n",
    "```python\n",
    "sub_section = Section(section_name='SubSection')\n",
    "\n",
    "full_section = Section(section_name='Full',\n",
    "    start_section=SectionBreak('StartSection', break_offset='Before'),\n",
    "    end_section=SectionBreak('StartSection', break_offset='Before'),\n",
    "    processor=sub_section \n",
    "    )\n",
    "\n",
    "multi_section = Section(\n",
    "    section_name='Multi',\n",
    "    processor=full_section \n",
    "    )\n",
    "```"
   ]
  },
  {
   "cell_type": "code",
   "execution_count": 10,
   "metadata": {},
   "outputs": [
    {
     "name": "stdout",
     "output_type": "stream",
     "text": [
      "[[['StartSection A',\n",
      "   'MiddleSection A',\n",
      "   'EndSection A',\n",
      "   'Unwanted text between sections']],\n",
      " [['StartSection B', 'MiddleSection B', 'EndSection B']],\n",
      " [['StartSection C',\n",
      "   'MiddleSection C',\n",
      "   'EndSection C',\n",
      "   'Even more text to be ignored']]]\n"
     ]
    }
   ],
   "source": [
    "sub_section = Section(\n",
    "    section_name='SubSection',\n",
    "    #start_section=SectionBreak('StartSection', break_offset='Before'),\n",
    "    #end_section=SectionBreak('EndSection', break_offset='After'),\n",
    "    #end_section=SectionBreak(True)\n",
    "    #end_on_first_item=True\n",
    "    )\n",
    "full_section = Section(\n",
    "    section_name='Full',\n",
    "    start_section=SectionBreak('StartSection', break_offset='Before'),\n",
    "    end_section=SectionBreak('StartSection', break_offset='Before'),\n",
    "    processor=sub_section,\n",
    "    #end_on_first_item=True\n",
    "    )\n",
    "\n",
    "multi_section = Section(section_name='Multi',\n",
    "    processor=full_section,\n",
    "    #end_on_first_item=True\n",
    "    )\n",
    "\n",
    "pprint(multi_section.read(GENERIC_TEST_TEXT2))"
   ]
  },
  {
   "cell_type": "markdown",
   "metadata": {},
   "source": [
    "- ![Good](../examples/Valid.png) Includes *'Unwanted text between sections'* and\n",
    "  *'Even more text to be ignored'*.\n",
    "- Includes *'Unwanted text between sections'* because the end of section A is \n",
    "  triggered by *'StartSection B'*. \n",
    "- Includes *'Even more text to be ignored'* because there are no more \n",
    "  *'StartSection'* lines to trigger an `end_section` break.\n",
    "\n",
    "<table><thead><th>Expected</th><th>Actual</th></thead>\n",
    "<tr>\n",
    "  <td><code>\n",
    "    [<br>\n",
    "      [['StartSection A',<br>\n",
    "        'MiddleSection A',<br>\n",
    "        'EndSection A',<br>\n",
    "        'Unwanted text between sections']],<br>\n",
    "      [['StartSection B',<br>\n",
    "        'MiddleSection B',<br>\n",
    "        'EndSection B']],<br>\n",
    "      [['StartSection C',<br>\n",
    "        'MiddleSection C',<br>\n",
    "        'EndSection C',<br>\n",
    "        'Even more text to be ignored']]<br>\n",
    "    ]</code></td>\n",
    "  <td><code>\n",
    "    [<br>\n",
    "      [['StartSection A',<br>\n",
    "        'MiddleSection A',<br>\n",
    "        'EndSection A',<br>\n",
    "        'Unwanted text between sections']],<br>\n",
    "      [['StartSection B',<br>\n",
    "        'MiddleSection B',<br>\n",
    "        'EndSection B']],<br>\n",
    "      [['StartSection C',<br>\n",
    "        'MiddleSection C',<br>\n",
    "        'EndSection C',<br>\n",
    "        'Even more text to be ignored']]<br>\n",
    "    ]</code></td>\n",
    "  </tr>\n",
    "</table>"
   ]
  },
  {
   "cell_type": "markdown",
   "metadata": {},
   "source": [
    "### Add `end_on_first_item=True` to Section"
   ]
  },
  {
   "cell_type": "markdown",
   "metadata": {},
   "source": [
    "Add end to Section Definition\n",
    "- Section start **Before** *StartSection*\n",
    "- Section end **After** *StartSection*\n",
    "- Simple subsection\n",
    "\n",
    "```python\n",
    "sub_section = Section(section_name='SubSection')\n",
    "\n",
    "full_section = Section(section_name='Full',\n",
    "    start_section=SectionBreak('StartSection', break_offset='Before'),\n",
    "    end_section=SectionBreak('StartSection', break_offset='Before'),\n",
    "    end_on_first_item=True,\n",
    "    processor=sub_section \n",
    "    )\n",
    "```"
   ]
  },
  {
   "cell_type": "code",
   "execution_count": 11,
   "metadata": {},
   "outputs": [
    {
     "name": "stdout",
     "output_type": "stream",
     "text": [
      "[]\n",
      "[]\n",
      "[]\n",
      "[]\n"
     ]
    }
   ],
   "source": [
    "sub_section = Section(\n",
    "    section_name='SubSection',\n",
    "    #start_section=SectionBreak('StartSection', break_offset='Before'),\n",
    "    #end_section=SectionBreak('EndSection', break_offset='After'),\n",
    "    #end_section=SectionBreak(True)\n",
    "    #end_on_first_item=True\n",
    "    )\n",
    "full_section = Section(\n",
    "    section_name='Full',\n",
    "    start_section=SectionBreak('StartSection', break_offset='Before'),\n",
    "    end_section=SectionBreak('StartSection', break_offset='Before'),\n",
    "    end_on_first_item=True,\n",
    "    processor=sub_section\n",
    "    )\n",
    "\n",
    "test_iter = BufferedIterator(GENERIC_TEST_TEXT2)\n",
    "pprint(full_section.read(test_iter))\n",
    "pprint(full_section.read(test_iter))\n",
    "\n",
    "test_iter = iter(GENERIC_TEST_TEXT2)\n",
    "pprint(full_section.read(test_iter))\n",
    "pprint(full_section.read(test_iter))"
   ]
  },
  {
   "cell_type": "markdown",
   "metadata": {},
   "source": [
    "- ![Good](../examples/Valid.png) Results in empty list because it both starts \n",
    "  and ends on first *'StartSection'*.\n",
    "\n",
    "|Expected|Actual|\n",
    "|-|-|\n",
    "|[]|[]|"
   ]
  },
  {
   "cell_type": "markdown",
   "metadata": {},
   "source": [
    "### <span style=\"color: red; font-weight: Bold\">Endless loop with `multi_section`</span>"
   ]
  },
  {
   "cell_type": "markdown",
   "metadata": {},
   "source": [
    "<span style=\"color: red; font-weight: Bold; font-variant: small-caps\">\n",
    "Do Not Try This\n",
    "</span>\n",
    "\n",
    "- Use `multi_section` to read multiple empty sections\n",
    "```python\n",
    "sub_section = Section(section_name='SubSection')\n",
    "\n",
    "full_section = Section(section_name='Full',\n",
    "    start_section=SectionBreak('StartSection', break_offset='Before'),\n",
    "    end_section=SectionBreak('StartSection', break_offset='Before'),\n",
    "    end_on_first_item=True,\n",
    "    processor=sub_section \n",
    "    )\n",
    "multi_section = Section(section_name='Multi',\n",
    "    processor=full_section\n",
    "    )\n",
    "print(multi_section.read(GENERIC_TEST_TEXT2))\n",
    "```\n",
    "- `full_section` both starts and ends on first *'StartSection'*.\n",
    "- No progress is made in in iterating through the source.\n",
    "- Trying to read multiple sections will result in an endless loop."
   ]
  },
  {
   "cell_type": "markdown",
   "metadata": {},
   "source": [
    "**********\n",
    "\n",
    "## SubSection Break Options\n",
    "- Section break checks start with the top most section\n",
    "- The section level containing the break will affect the way the list are nested."
   ]
  },
  {
   "cell_type": "markdown",
   "metadata": {},
   "source": [
    "### Add `start_section` to *sub_section* and remove it from *full_section*\n",
    "\n",
    "- SubSection start **Before** *StartSection*\n",
    "- Section end **After** *EndSection*\n",
    "\n",
    "\n",
    "```python\n",
    "sub_section = Section(section_name='SubSection',\n",
    "    start_section=SectionBreak('StartSection', break_offset='Before')\n",
    "    )\n",
    "\n",
    "full_section = Section(section_name='Full',\n",
    "    end_section=SectionBreak('EndSection', break_offset='After'),\n",
    "    processor=sub_section \n",
    "    )\n",
    "\n",
    "multi_section = Section(section_name='Multi',\n",
    "    processor=full_section\n",
    "    )\n",
    "```"
   ]
  },
  {
   "cell_type": "code",
   "execution_count": 12,
   "metadata": {},
   "outputs": [],
   "source": [
    "sub_section = Section(\n",
    "    section_name='SubSection',\n",
    "    start_section=SectionBreak('StartSection', break_offset='Before'),\n",
    "    #end_section=SectionBreak('EndSection', break_offset='After'),\n",
    "    #end_section=SectionBreak(True)\n",
    "    #end_on_first_item=True\n",
    "    )\n",
    "full_section = Section(\n",
    "    section_name='Full',\n",
    "    #start_section=SectionBreak('StartSection', break_offset='Before'),\n",
    "    end_section=SectionBreak('EndSection', break_offset='After'),\n",
    "    processor=sub_section,\n",
    "    #end_on_first_item=True\n",
    "    )\n",
    "\n",
    "multi_section = Section(section_name='Multi',\n",
    "    processor=full_section,\n",
    "    #end_on_first_item=True\n",
    "    )"
   ]
  },
  {
   "cell_type": "code",
   "execution_count": 13,
   "metadata": {},
   "outputs": [
    {
     "name": "stdout",
     "output_type": "stream",
     "text": [
      "[[['StartSection A', 'MiddleSection A', 'EndSection A']],\n",
      " [['StartSection B', 'MiddleSection B', 'EndSection B']],\n",
      " [['StartSection C', 'MiddleSection C', 'EndSection C']]]\n"
     ]
    }
   ],
   "source": [
    "pprint(multi_section.read(GENERIC_TEST_TEXT2))"
   ]
  },
  {
   "cell_type": "markdown",
   "metadata": {},
   "source": [
    "- ![Good](../examples/Valid.png) behaves the same way as when `start_section` \n",
    " was defined in *full_section*.\n",
    "\n",
    "<table><thead><th>Expected</th><th>Actual</th></thead>\n",
    "<tr>\n",
    "  <td><code>\n",
    "    [<br>\n",
    "      [['StartSection A',<br>\n",
    "        'MiddleSection A',<br>\n",
    "        'EndSection A']],<br>\n",
    "      [['StartSection Name: B',<br>\n",
    "        'MiddleSection B',<br>\n",
    "        'EndSection Name: B']]<br>\n",
    "      [['StartSection Name: C',<br>\n",
    "        'MiddleSection C',<br>\n",
    "        'EndSection Name: C']]<br>\n",
    "    ]</code></td>    \n",
    "  <td><code>\n",
    "    [<br>\n",
    "      [['StartSection A',<br>\n",
    "        'MiddleSection A',<br>\n",
    "        'EndSection A']],<br>\n",
    "      [['StartSection Name: B',<br>\n",
    "        'MiddleSection B',<br>\n",
    "        'EndSection Name: B']]<br>\n",
    "      [['StartSection Name: C',<br>\n",
    "        'MiddleSection C',<br>\n",
    "        'EndSection Name: C']]<br>\n",
    "    ]</code></td></tr>\n",
    "</table>"
   ]
  },
  {
   "cell_type": "markdown",
   "metadata": {},
   "source": [
    "### Add `end_section` to *sub_section* and remove it from *full_section*\n",
    "\n",
    "- SubSection end **After** *EndSection*\n",
    "- Section start **Before** *StartSection*\n",
    "\n",
    "```python\n",
    "sub_section = Section(section_name='SubSection',\n",
    "    end_section=SectionBreak('EndSection', break_offset='After'),\n",
    "    )\n",
    "\n",
    "full_section = Section(section_name='Full',\n",
    "    start_section=SectionBreak('StartSection', break_offset='Before')\n",
    "    processor=sub_section \n",
    "    )\n",
    "\n",
    "multi_section = Section(section_name='Multi',\n",
    "    processor=full_section\n",
    "    )\n",
    "```"
   ]
  },
  {
   "cell_type": "code",
   "execution_count": 14,
   "metadata": {},
   "outputs": [
    {
     "name": "stdout",
     "output_type": "stream",
     "text": [
      "[[['StartSection A', 'MiddleSection A', 'EndSection A'],\n",
      "  ['Unwanted text between sections',\n",
      "   'StartSection B',\n",
      "   'MiddleSection B',\n",
      "   'EndSection B'],\n",
      "  ['StartSection C', 'MiddleSection C', 'EndSection C'],\n",
      "  ['Even more text to be ignored']]]\n"
     ]
    }
   ],
   "source": [
    "sub_section = Section(\n",
    "    section_name='SubSection',\n",
    "    #start_section=SectionBreak('StartSection', break_offset='Before'),\n",
    "    end_section=SectionBreak('EndSection', break_offset='After'),\n",
    "    #end_section=SectionBreak(True)\n",
    "    #end_on_first_item=True\n",
    "    )\n",
    "full_section = Section(\n",
    "    section_name='Full',\n",
    "    start_section=SectionBreak('StartSection', break_offset='Before'),\n",
    "    #end_section=SectionBreak('EndSection', break_offset='After'),\n",
    "    processor=sub_section,\n",
    "    #end_on_first_item=True\n",
    "    )\n",
    "\n",
    "multi_section = Section(section_name='Multi',\n",
    "    processor=full_section,\n",
    "    #end_on_first_item=True\n",
    "    )\n",
    "\n",
    "pprint(multi_section.read(GENERIC_TEST_TEXT2))"
   ]
  },
  {
   "cell_type": "markdown",
   "metadata": {},
   "source": [
    "- ![Good](../examples/Valid.png) Includes *'Unwanted text between sections'* and\n",
    "  *'Even more text to be ignored'*.\n",
    "- `sub_section` has no `start_section` defined, so the it starts immediately. \n",
    "- `full_section` never ends and so the second sub-section starts right after \n",
    "  the first one ends. \n",
    "- **Note:** \n",
    "    - sub-list nesting is different:\n",
    "        > `[[[Section Lines], [Next Section Lines], ... ]]`<br>\n",
    "        > VS.<br>\n",
    "        > `[[[Section Lines]], [[Next Section Lines]], ... ]`<br>\n",
    "    - *'Even more text to be ignored'* is in its own sub-section.\n",
    "\n",
    "<table><thead><th>Expected</th><th>Actual</th></thead>\n",
    "<tr>\n",
    "  <td><code>\n",
    "    [[<br>\n",
    "      ['StartSection A',<br>\n",
    "       'MiddleSection A',<br>\n",
    "       'EndSection A'],<br>\n",
    "      ['Unwanted text between sections',<br>\n",
    "       'StartSection B',<br>\n",
    "        'MiddleSection B',<br>\n",
    "        'EndSection B'],<br>\n",
    "      ['StartSection C',<br>\n",
    "       'MiddleSection C',<br>\n",
    "       'EndSection C'],<br>\n",
    "      ['Even more text to be ignored']<br>\n",
    "    ]]</code></td>\n",
    "  <td><code>\n",
    "    [[<br>\n",
    "      ['StartSection A',<br>\n",
    "       'MiddleSection A',<br>\n",
    "       'EndSection A'],<br>\n",
    "      ['Unwanted text between sections',<br>\n",
    "       'StartSection B',<br>\n",
    "        'MiddleSection B',<br>\n",
    "        'EndSection B'],<br>\n",
    "      ['StartSection C',<br>\n",
    "       'MiddleSection C',<br>\n",
    "       'EndSection C'],<br>\n",
    "      ['Even more text to be ignored']<br>\n",
    "    ]]</code></td>\n",
    "  </tr>\n",
    "</table>"
   ]
  },
  {
   "cell_type": "markdown",
   "metadata": {},
   "source": [
    "### Add both `start_section` and `end_section` to *sub_section*. No breaks defined in *full_section*\n",
    "\n",
    "- SubSection start **Before** *StartSection*\n",
    "- SubSection end **After** *EndSection*\n",
    "\n",
    "\n",
    "```python\n",
    "sub_section = Section(section_name='SubSection',\n",
    "    start_section=SectionBreak('StartSection', break_offset='Before'\n",
    "    end_section=SectionBreak('EndSection', break_offset='After'),\n",
    "    )\n",
    "\n",
    "full_section = Section(section_name='Full',\n",
    "    processor=sub_section \n",
    "    )\n",
    "\n",
    "multi_section = Section(section_name='Multi',\n",
    "    processor=full_section\n",
    "    )\n",
    "```"
   ]
  },
  {
   "cell_type": "code",
   "execution_count": 15,
   "metadata": {},
   "outputs": [
    {
     "name": "stdout",
     "output_type": "stream",
     "text": [
      "[[['StartSection A', 'MiddleSection A', 'EndSection A'],\n",
      "  ['StartSection B', 'MiddleSection B', 'EndSection B'],\n",
      "  ['StartSection C', 'MiddleSection C', 'EndSection C']]]\n"
     ]
    }
   ],
   "source": [
    "sub_section = Section(\n",
    "    section_name='SubSection',\n",
    "    start_section=SectionBreak('StartSection', break_offset='Before'),\n",
    "    end_section=SectionBreak('EndSection', break_offset='After'),\n",
    "    #end_section=SectionBreak(True)\n",
    "    #end_on_first_item=True\n",
    "    )\n",
    "full_section = Section(\n",
    "    section_name='Full',\n",
    "    #start_section=SectionBreak('StartSection', break_offset='Before'),\n",
    "    #end_section=SectionBreak('EndSection', break_offset='After'),\n",
    "    processor=sub_section,\n",
    "    #end_on_first_item=True\n",
    "    )\n",
    "\n",
    "multi_section = Section(section_name='Multi',\n",
    "    processor=full_section,\n",
    "    #end_on_first_item=True\n",
    "    )\n",
    "\n",
    "pprint(multi_section.read(GENERIC_TEST_TEXT2))"
   ]
  },
  {
   "cell_type": "markdown",
   "metadata": {},
   "source": [
    "- ![Good](../examples/Valid.png) similar results to having both breaks defined in *full_section*.\n",
    "- **Note:** sub-list nesting is different:\n",
    "    > `[[[Section Lines], [Next Section Lines], ... ]]`<br>\n",
    "    > VS.<br>\n",
    "    > `[[[Section Lines]], [[Next Section Lines]], ... ]`<br>\n",
    "\n",
    "<table><thead><th>Expected</th><th>Actual</th></thead>\n",
    "<tr>\n",
    "  <td><code>\n",
    "    [[<br>\n",
    "      ['StartSection A',<br>\n",
    "       'MiddleSection A',<br>\n",
    "       'EndSection A'],<br>\n",
    "      ['StartSection B',<br>\n",
    "        'MiddleSection B',<br>\n",
    "        'EndSection B'],<br>\n",
    "      ['StartSection C',<br>\n",
    "       'MiddleSection C',<br>\n",
    "       'EndSection C']<br>\n",
    "    ]]</code></td>\n",
    "  <td><code>\n",
    "    [[<br>\n",
    "      ['StartSection A',<br>\n",
    "       'MiddleSection A',<br>\n",
    "       'EndSection A'],<br>\n",
    "      ['StartSection B',<br>\n",
    "        'MiddleSection B',<br>\n",
    "        'EndSection B'],<br>\n",
    "      ['StartSection C',<br>\n",
    "       'MiddleSection C',<br>\n",
    "       'EndSection C']<br>\n",
    "    ]]</code></td>\n",
    "  </tr>\n",
    "</table>"
   ]
  },
  {
   "cell_type": "markdown",
   "metadata": {},
   "source": [
    "### Read from *full_section* instead of *multi_section*"
   ]
  },
  {
   "cell_type": "code",
   "execution_count": 16,
   "metadata": {},
   "outputs": [
    {
     "name": "stdout",
     "output_type": "stream",
     "text": [
      "[['StartSection A', 'MiddleSection A', 'EndSection A'],\n",
      " ['StartSection B', 'MiddleSection B', 'EndSection B'],\n",
      " ['StartSection C', 'MiddleSection C', 'EndSection C']]\n"
     ]
    }
   ],
   "source": [
    "pprint(full_section.read(GENERIC_TEST_TEXT2))"
   ]
  },
  {
   "cell_type": "markdown",
   "metadata": {},
   "source": [
    "- ![Good](../examples/Valid.png) Similar results to reading *multi_section*.\n",
    "\n",
    "- **Note:** One less list level.\n",
    "\n",
    "<table><thead><th>Expected</th><th>Actual</th></thead>\n",
    "<tr>\n",
    "  <td><code>\n",
    "    [<br>\n",
    "      ['StartSection A',<br>\n",
    "       'MiddleSection A',<br>\n",
    "       'EndSection A'],<br>\n",
    "      ['StartSection B',<br>\n",
    "        'MiddleSection B',<br>\n",
    "        'EndSection B'],<br>\n",
    "      ['StartSection C',<br>\n",
    "       'MiddleSection C',<br>\n",
    "       'EndSection C']<br>\n",
    "    ]</code></td>\n",
    "  <td><code>\n",
    "    [<br>\n",
    "      ['StartSection A',<br>\n",
    "       'MiddleSection A',<br>\n",
    "       'EndSection A'],<br>\n",
    "      ['StartSection B',<br>\n",
    "        'MiddleSection B',<br>\n",
    "        'EndSection B'],<br>\n",
    "      ['StartSection C',<br>\n",
    "       'MiddleSection C',<br>\n",
    "       'EndSection C']<br>\n",
    "    ]</code></td>\n",
    "  </tr>\n",
    "</table>"
   ]
  },
  {
   "cell_type": "markdown",
   "metadata": {},
   "source": [
    "### Add `start_section` and `end_section` to both *sub_section* and *full_section*.\n",
    "\n",
    "- Section start **Before** *StartSection*\n",
    "- Section end **After** *EndSection*\n",
    "- SubSection start **Before** *StartSection*\n",
    "- SubSection end **After** *EndSection*\n",
    "\n",
    "```python\n",
    "sub_section = Section(section_name='SubSection',\n",
    "    start_section=SectionBreak('StartSection', break_offset='Before'\n",
    "    end_section=SectionBreak('EndSection', break_offset='After'),\n",
    "    )\n",
    "\n",
    "full_section = Section(section_name='Full',\n",
    "    start_section=SectionBreak('StartSection', break_offset='Before'\n",
    "    end_section=SectionBreak('EndSection', break_offset='After'),\n",
    "    processor=sub_section \n",
    "    )\n",
    "\n",
    "multi_section = Section(section_name='Multi',\n",
    "    processor=full_section\n",
    "    )\n",
    "```"
   ]
  },
  {
   "cell_type": "code",
   "execution_count": 17,
   "metadata": {},
   "outputs": [
    {
     "name": "stdout",
     "output_type": "stream",
     "text": [
      "[[['StartSection A', 'MiddleSection A', 'EndSection A']],\n",
      " [['StartSection B', 'MiddleSection B', 'EndSection B']],\n",
      " [['StartSection C', 'MiddleSection C', 'EndSection C']]]\n"
     ]
    }
   ],
   "source": [
    "sub_section = Section(\n",
    "    section_name='SubSection',\n",
    "    start_section=SectionBreak('StartSection', break_offset='Before'),\n",
    "    end_section=SectionBreak('EndSection', break_offset='After'),\n",
    "    #end_section=SectionBreak(True)\n",
    "    #end_on_first_item=True\n",
    "    )\n",
    "full_section = Section(\n",
    "    section_name='Full',\n",
    "    start_section=SectionBreak('StartSection', break_offset='Before'),\n",
    "    end_section=SectionBreak('EndSection', break_offset='After'),\n",
    "    processor=sub_section,\n",
    "    #end_on_first_item=True\n",
    "    )\n",
    "\n",
    "multi_section = Section(section_name='Multi',\n",
    "    processor=full_section,\n",
    "    #end_on_first_item=True\n",
    "    )\n",
    "\n",
    "pprint(multi_section.read(GENERIC_TEST_TEXT2))"
   ]
  },
  {
   "cell_type": "markdown",
   "metadata": {},
   "source": [
    "- ![Good](../examples/Valid.png) behaves the same way as when *sub_section* \n",
    "  did not have any breaks defined (including list levels).\n",
    "\n",
    "<table><thead><th>Expected</th><th>Actual</th></thead>\n",
    "<tr>\n",
    "  <td><code>\n",
    "    [<br>\n",
    "      [['StartSection A',<br>\n",
    "       'MiddleSection A',<br>\n",
    "       'EndSection A']],<br>\n",
    "      [['StartSection B',<br>\n",
    "        'MiddleSection B',<br>\n",
    "        'EndSection B']],<br>\n",
    "      [['StartSection C',<br>\n",
    "       'MiddleSection C',<br>\n",
    "       'EndSection C']]<br>\n",
    "    ]</code></td>\n",
    "  <td><code>\n",
    "    [<br>\n",
    "      [['StartSection A',<br>\n",
    "       'MiddleSection A',<br>\n",
    "       'EndSection A']],<br>\n",
    "      [['StartSection B',<br>\n",
    "        'MiddleSection B',<br>\n",
    "        'EndSection B']],<br>\n",
    "      [['StartSection C',<br>\n",
    "       'MiddleSection C',<br>\n",
    "       'EndSection C']]<br>\n",
    "    ]</code></td>\n",
    "  </tr>\n",
    "</table>"
   ]
  },
  {
   "cell_type": "markdown",
   "metadata": {},
   "source": [
    "### Change Start Sub-Section to **After**"
   ]
  },
  {
   "cell_type": "markdown",
   "metadata": {},
   "source": [
    "- Section start **Before** *StartSection*\n",
    "- Section end **After** *EndSection*\n",
    "- SubSection start **After** *StartSection*\n",
    "\n",
    "```python\n",
    "sub_section = Section(section_name='SubSection',\n",
    "    start_section=SectionBreak('StartSection', break_offset='After')\n",
    "    )\n",
    "\n",
    "full_section = Section(section_name='Full',\n",
    "    start_section=SectionBreak('StartSection', break_offset='Before'),\n",
    "    end_section=SectionBreak('EndSection', break_offset='After'),\n",
    "    processor=[sub_section] \n",
    "    )\n",
    "```"
   ]
  },
  {
   "cell_type": "code",
   "execution_count": 18,
   "metadata": {},
   "outputs": [
    {
     "name": "stdout",
     "output_type": "stream",
     "text": [
      "[[['MiddleSection A', 'EndSection A']],\n",
      " [['MiddleSection B', 'EndSection B']],\n",
      " [['MiddleSection C', 'EndSection C']]]\n"
     ]
    }
   ],
   "source": [
    "sub_section = Section(\n",
    "    section_name='SubSection',\n",
    "    start_section=SectionBreak('StartSection', break_offset='After')\n",
    "    #end_on_first_item=True,\n",
    "    #keep_partial=True,\n",
    "    #end_section=SectionBreak(True)\n",
    "    )\n",
    "\n",
    "full_section = Section(\n",
    "    section_name='Full',\n",
    "    start_section=SectionBreak('StartSection', break_offset='Before'),\n",
    "    end_section=SectionBreak('EndSection', break_offset='After'),\n",
    "    processor=sub_section \n",
    "    )\n",
    "\n",
    "multi_section = Section(section_name='Multi',\n",
    "    processor=full_section,\n",
    "    #end_on_first_item=True\n",
    "    )\n",
    "\n",
    "pprint(multi_section.read(GENERIC_TEST_TEXT2))"
   ]
  },
  {
   "cell_type": "markdown",
   "metadata": {},
   "source": [
    "- ![Good](../examples/Valid.png) *StartSection* lines are dropped.\n",
    "\n",
    "<table><thead><th>Expected</th><th>Actual</th></thead>\n",
    "<tr>\n",
    "  <td><code>\n",
    "    [<br>\n",
    "      [['MiddleSection A',\n",
    "       'EndSection A']],<br>\n",
    "      [['MiddleSection B',\n",
    "        'EndSection B']],<br>\n",
    "      [['MiddleSection C',\n",
    "       'EndSection C']]<br>\n",
    "    ]</code></td>\n",
    "  <td><code>\n",
    "    [<br>\n",
    "      [['MiddleSection A',\n",
    "       'EndSection A']],<br>\n",
    "      [['MiddleSection B',\n",
    "        'EndSection B']],<br>\n",
    "      [['MiddleSection C',\n",
    "       'EndSection C']]<br>\n",
    "    ]</code></td>\n",
    "  </tr>\n",
    "</table>"
   ]
  },
  {
   "cell_type": "markdown",
   "metadata": {},
   "source": [
    "### Run with two-line sections:\n",
    "> `[`<br>\n",
    "> `'Text to be ignored',`<br>\n",
    "> `'StartSection Name: A',`<br>\n",
    "> `'EndSection Name: A',`<br>\n",
    "> `'Text between sections',`<br>\n",
    "> `'StartSection Name: B',`<br>\n",
    "> `'EndSection Name: B',`<br>\n",
    "> `'More text to be ignored'`<br>\n",
    "> `]`<br>\n",
    "\n",
    "- Section start **Before** *StartSection*\n",
    "- Section end **After** *EndSection*\n",
    "- SubSection start **After** *StartSection*\n",
    "\n",
    "```python\n",
    "sub_section = Section(section_name='SubSection',\n",
    "    start_section=SectionBreak('StartSection', break_offset='After')\n",
    "    )\n",
    "\n",
    "full_section = Section(section_name='Full',\n",
    "    start_section=SectionBreak('StartSection', break_offset='Before'),\n",
    "    end_section=SectionBreak('EndSection', break_offset='After'),\n",
    "    processor=[sub_section] \n",
    "    )\n",
    "```"
   ]
  },
  {
   "cell_type": "code",
   "execution_count": 20,
   "metadata": {},
   "outputs": [],
   "source": [
    "GENERIC_TEST_TEXT = [\n",
    "    'Text to be ignored',\n",
    "    'StartSection Name: A',\n",
    "    'EndSection Name: A',\n",
    "    'Text between sections',\n",
    "    'StartSection Name: B',\n",
    "    'EndSection Name: B',\n",
    "    'More text to be ignored',\n",
    "    ]"
   ]
  },
  {
   "cell_type": "code",
   "execution_count": 21,
   "metadata": {},
   "outputs": [
    {
     "name": "stdout",
     "output_type": "stream",
     "text": [
      "[[['EndSection Name: A']], [['EndSection Name: B']]]\n"
     ]
    }
   ],
   "source": [
    "pprint(multi_section.read(GENERIC_TEST_TEXT))"
   ]
  },
  {
   "cell_type": "markdown",
   "metadata": {},
   "source": [
    "- ![Good](../examples/Valid.png) Results in both 'EndSections'\n",
    "<table><thead><th>Expected</th><th>Actual</th></thead>\n",
    " <tr> <td><code>\n",
    "    [<br>\n",
    "      [['EndSection Name: A']],<br>\n",
    "      [['EndSection Name: B']]<br>\n",
    "    ]</code></td>\n",
    "  <td><code>\n",
    "    [<br>\n",
    "      [['EndSection Name: A']],<br>\n",
    "      [['EndSection Name: B']]<br>\n",
    "    ]</code></td></tr>\n",
    "</table>"
   ]
  },
  {
   "cell_type": "code",
   "execution_count": 22,
   "metadata": {},
   "outputs": [
    {
     "name": "stdout",
     "output_type": "stream",
     "text": [
      "[[['EndSection A']], [['EndSection B']], [['EndSection C']]]\n"
     ]
    }
   ],
   "source": [
    "sub_section = Section(\n",
    "    section_name='SubSection',\n",
    "    start_section=SectionBreak('EndSection', break_offset='Before')\n",
    "    #end_on_first_item=True,\n",
    "    #keep_partial=True,\n",
    "    #end_section=SectionBreak(True)\n",
    "    )\n",
    "\n",
    "full_section = Section(\n",
    "    section_name='Full',\n",
    "    start_section=SectionBreak('StartSection', break_offset='Before'),\n",
    "    end_section=SectionBreak('EndSection', break_offset='After'),\n",
    "    processor=sub_section \n",
    "    )\n",
    "\n",
    "multi_section = Section(section_name='Multi',\n",
    "    processor=full_section,\n",
    "    #end_on_first_item=True\n",
    "    )\n",
    "\n",
    "pprint(multi_section.read(GENERIC_TEST_TEXT2))"
   ]
  },
  {
   "cell_type": "markdown",
   "metadata": {},
   "source": [
    "- ![Good](../examples/Valid.png) Results in three 'EndSections'\n",
    "<table><thead><th>Expected</th><th>Actual</th></thead>\n",
    " <tr> <td><code>\n",
    "    [<br>\n",
    "      [['EndSection Name: A']],<br>\n",
    "      [['EndSection Name: B']]<br>\n",
    "      [['EndSection Name: C']]<br>\n",
    "    ]</code></td>\n",
    "  <td><code>\n",
    "    [<br>\n",
    "      [['EndSection Name: A']],<br>\n",
    "      [['EndSection Name: B']]<br>\n",
    "      [['EndSection Name: C']]<br>\n",
    "    ]</code></td></tr>\n",
    "</table>"
   ]
  },
  {
   "cell_type": "code",
   "execution_count": 23,
   "metadata": {},
   "outputs": [
    {
     "data": {
      "text/plain": [
       "['Text to be ignored',\n",
       " 'StartSection Name: A',\n",
       " 'EndSection Name: A',\n",
       " 'Text between sections',\n",
       " 'StartSection Name: B',\n",
       " 'EndSection Name: B',\n",
       " 'More text to be ignored']"
      ]
     },
     "execution_count": 23,
     "metadata": {},
     "output_type": "execute_result"
    }
   ],
   "source": [
    "GENERIC_TEST_TEXT"
   ]
  },
  {
   "cell_type": "code",
   "execution_count": 24,
   "metadata": {},
   "outputs": [
    {
     "name": "stdout",
     "output_type": "stream",
     "text": [
      "[['EndSection Name: A']]\n"
     ]
    }
   ],
   "source": [
    "pprint(full_section.read(GENERIC_TEST_TEXT))"
   ]
  },
  {
   "cell_type": "markdown",
   "metadata": {},
   "source": [
    "- ![Good](../examples/Valid.png) Results in first 'EndSection'\n",
    "<table><thead><th>Expected</th><th>Actual</th></thead>\n",
    "<tr><td><code>[['EndSection Name: A']]</code></td>\n",
    "<td><code>[['EndSection Name: A']]</code></td></tr>\n",
    "</table>"
   ]
  },
  {
   "cell_type": "markdown",
   "metadata": {},
   "source": [
    "### Add start to SubSection Definition\n",
    "> `start_section=SectionBreak('EndSection', break_offset='Before')`"
   ]
  },
  {
   "cell_type": "code",
   "execution_count": 25,
   "metadata": {},
   "outputs": [
    {
     "name": "stdout",
     "output_type": "stream",
     "text": [
      "[['EndSection Name: A',\n",
      "  'Text between sections',\n",
      "  'StartSection Name: B',\n",
      "  'EndSection Name: B',\n",
      "  'More text to be ignored']]\n"
     ]
    }
   ],
   "source": [
    "sub_section = Section(\n",
    "    section_name='SubSection',\n",
    "    start_section=SectionBreak('EndSection', break_offset='Before'),  # Added to use alone\n",
    "    #end_on_first_item=True,\n",
    "    #keep_partial=True,\n",
    "    #end_section=SectionBreak(True)\n",
    "    )\n",
    "\n",
    "full_section = Section(\n",
    "    section_name='Full',\n",
    "    #start_section=SectionBreak('StartSection', break_offset='Before'),\n",
    "    #end_section=SectionBreak('EndSection', break_offset='After'),\n",
    "    processor=[sub_section] \n",
    "    )\n",
    "pprint(full_section.read(GENERIC_TEST_TEXT))"
   ]
  },
  {
   "cell_type": "markdown",
   "metadata": {},
   "source": [
    "- ![Good](../examples/Valid.png) Results in everything starting with first 'EndSection'.\n",
    "- There is no `end_section`, so everything after `start_section` triggers will be read.\n",
    "  \n",
    "<table><thead><th>Expected</th><th>Actual</th></thead>\n",
    "<tr><td><code>\n",
    "[['EndSection Name: A',<br>\n",
    "  'Text between sections',<br>\n",
    "  'StartSection Name: B',\n",
    "  'EndSection Name: B',<br>\n",
    "  'More text to be ignored']]</code></td>\n",
    "<td><code>\n",
    "[['EndSection Name: A',<br>\n",
    "  'Text between sections',<br>\n",
    "  'StartSection Name: B',\n",
    "  'EndSection Name: B',<br>\n",
    "  'More text to be ignored']]\n",
    "  </code></td></tr>\n",
    "</table>"
   ]
  },
  {
   "cell_type": "markdown",
   "metadata": {},
   "source": [
    "### Add *Start After* to Section Definition\n",
    "> `start_section=SectionBreak('StartSection', break_offset='After')`"
   ]
  },
  {
   "cell_type": "code",
   "execution_count": 26,
   "metadata": {},
   "outputs": [
    {
     "name": "stdout",
     "output_type": "stream",
     "text": [
      "[['EndSection Name: A',\n",
      "  'Text between sections',\n",
      "  'StartSection Name: B',\n",
      "  'EndSection Name: B',\n",
      "  'More text to be ignored']]\n"
     ]
    }
   ],
   "source": [
    "sub_section = Section(\n",
    "    section_name='SubSection',\n",
    "    #start_section=SectionBreak('EndSection', break_offset='Before'),  # Added to use alone\n",
    "    #end_on_first_item=True,\n",
    "    #keep_partial=True,\n",
    "    #end_section=SectionBreak(True)\n",
    "    )\n",
    "\n",
    "full_section = Section(\n",
    "    section_name='Full',\n",
    "    start_section=SectionBreak('StartSection', break_offset='After'),\n",
    "    #end_section=SectionBreak('EndSection', break_offset='After'),\n",
    "    processor=[sub_section]  \n",
    "    )\n",
    "pprint(full_section.read(GENERIC_TEST_TEXT))"
   ]
  },
  {
   "cell_type": "markdown",
   "metadata": {
    "notebookRunGroups": {
     "groupValue": "2"
    }
   },
   "source": [
    "- ![Good](../examples/Valid.png) Results in one line section starting with first 'EndSection'.\n",
    "- There is no `end_section`, so everything after `start_section` triggers will be read.\n",
    "  \n",
    "<table><thead><th>Expected</th><th>Actual</th></thead>\n",
    "<tr><td><code>\n",
    "[['EndSection Name: A',<BR>\n",
    "  'StartSection Name: B',\n",
    "  'EndSection Name: B',<BR>\n",
    "  'More text to be ignored']]\n",
    "  </code></td>\n",
    "<td><code>\n",
    "[['EndSection Name: A',<BR>\n",
    "  'StartSection Name: B',\n",
    "  'EndSection Name: B',<BR>\n",
    "  'More text to be ignored']]\n",
    "  </code></td></tr>\n",
    "</table>"
   ]
  },
  {
   "cell_type": "markdown",
   "metadata": {},
   "source": [
    "### Add *Start After StartSection* to Section Definition and <br>*Start Before End Section* to SubSection Definition\n",
    "> **Section Definition**<br> \n",
    "> `start_section=SectionBreak('StartSection', break_offset='After')`\n",
    "> \n",
    "> **SubSection Definition**<br>\n",
    "> `start_section=SectionBreak('EndSection', break_offset='Before')`\n",
    "    "
   ]
  },
  {
   "cell_type": "code",
   "execution_count": 27,
   "metadata": {},
   "outputs": [
    {
     "name": "stdout",
     "output_type": "stream",
     "text": [
      "[['EndSection Name: A',\n",
      "  'Text between sections',\n",
      "  'StartSection Name: B',\n",
      "  'EndSection Name: B',\n",
      "  'More text to be ignored']]\n"
     ]
    }
   ],
   "source": [
    "sub_section = Section(\n",
    "    section_name='SubSection',\n",
    "    start_section=SectionBreak('EndSection', break_offset='Before'),  # Added to use alone\n",
    "    #end_on_first_item=True,\n",
    "    #keep_partial=True,\n",
    "    #end_section=SectionBreak(True)\n",
    "    )\n",
    "\n",
    "full_section = Section(\n",
    "    section_name='Full',\n",
    "    start_section=SectionBreak('StartSection', break_offset='After'),\n",
    "    #end_section=SectionBreak('EndSection', break_offset='After'),\n",
    "    processor=[sub_section]  \n",
    "    )\n",
    "pprint(full_section.read(GENERIC_TEST_TEXT))"
   ]
  },
  {
   "cell_type": "markdown",
   "metadata": {},
   "source": [
    "- ![Good](../examples/Valid.png) Two competing `start_section`s Results in one line section starting with first 'EndSection'.\n",
    "- `full_section`'s `start_section=SectionBreak('StartSection', break_offset='After')` drives the start.\n",
    "- There is no `end_section`, so everything after `start_section` triggers will be read.\n",
    "  \n",
    "<table><thead><th>Expected</th><th>Actual</th></thead>\n",
    "<tr><td><code>\n",
    "[['EndSection Name: A',<br>\n",
    "  'Text between sections',<br>\n",
    "  'StartSection Name: B',\n",
    "  'EndSection Name: B',<br>\n",
    "  'More text to be ignored']]</code></td>\n",
    "<td><code>\n",
    "  [['EndSection Name: A',<br>\n",
    "  'Text between sections',<br>\n",
    "  'StartSection Name: B',\n",
    "  'EndSection Name: B',<br>\n",
    "  'More text to be ignored']]</code></td></tr>\n",
    "</table>"
   ]
  },
  {
   "cell_type": "markdown",
   "metadata": {},
   "source": [
    "### Add *Start After StartSection* to Section Definition and <br>*Start Before End Section* to SubSection Definition and <br>set *End On First Line* for SubSection\n",
    "> **Section Definition**<br> \n",
    "> `start_section=SectionBreak('StartSection', break_offset='After')`\n",
    "> \n",
    "> **SubSection Definition**<br>\n",
    "> `start_section=SectionBreak('EndSection', break_offset='Before'),`\n",
    "> `end_on_first_item=True,`\n",
    "    "
   ]
  },
  {
   "cell_type": "code",
   "execution_count": 28,
   "metadata": {},
   "outputs": [
    {
     "name": "stdout",
     "output_type": "stream",
     "text": [
      "[['EndSection Name: A',\n",
      "  'Text between sections',\n",
      "  'StartSection Name: B',\n",
      "  'EndSection Name: B',\n",
      "  'More text to be ignored']]\n"
     ]
    }
   ],
   "source": [
    "sub_section = Section(\n",
    "    section_name='SubSection',\n",
    "    start_section=SectionBreak('EndSection', break_offset='Before'),\n",
    "    end_on_first_item=True,\n",
    "    #keep_partial=True,\n",
    "    #end_section=SectionBreak(True)\n",
    "    )\n",
    "\n",
    "full_section = Section(\n",
    "    section_name='Full',\n",
    "    start_section=SectionBreak('StartSection', break_offset='After'),\n",
    "    #end_section=SectionBreak('EndSection', break_offset='After'),\n",
    "    processor=[sub_section]  \n",
    "    )\n",
    "pprint(full_section.read(GENERIC_TEST_TEXT))"
   ]
  },
  {
   "cell_type": "markdown",
   "metadata": {},
   "source": [
    "- ![Good](../examples/Valid.png) `end_on_first_item=True,` has no effect because no end_section is given.\n",
    "- Two competing `start_section`s Results in one line section starting with first 'EndSection'.\n",
    "- `full_section`'s `start_section=SectionBreak('StartSection', break_offset='After')` drives the start.\n",
    "- There is no `end_section`, so everything after `start_section` triggers will be read.\n",
    "  \n",
    "<table><thead><th>Expected</th><th>Actual</th></thead>\n",
    "<tr><td><code>\n",
    "[['EndSection Name: A',<br>\n",
    "  'Text between sections',<br>\n",
    "  'StartSection Name: B',\n",
    "  'EndSection Name: B',<br>\n",
    "  'More text to be ignored']]</code></td>\n",
    "<td><code>\n",
    "  [['EndSection Name: A',<br>\n",
    "  'Text between sections',<br>\n",
    "  'StartSection Name: B',\n",
    "  'EndSection Name: B',<br>\n",
    "  'More text to be ignored']]</code></td></tr>\n",
    "</table>"
   ]
  },
  {
   "cell_type": "markdown",
   "metadata": {},
   "source": [
    "### Add *Start After StartSection* to Section Definition, and <br>for SubSection Definition, set *Start* to  *Before EndSection*<br> and *End* to *`True` (Always Break)*\n",
    "> **Section Definition**<br> \n",
    "> `start_section=SectionBreak('StartSection', break_offset='After')`\n",
    "> \n",
    "> **SubSection Definition**<br>\n",
    "> `start_section=SectionBreak('EndSection', break_offset='Before'),`\n",
    "> `end_section=SectionBreak(True),`\n",
    "    "
   ]
  },
  {
   "cell_type": "code",
   "execution_count": 29,
   "metadata": {},
   "outputs": [
    {
     "name": "stdout",
     "output_type": "stream",
     "text": [
      "[['EndSection Name: A'], ['EndSection Name: B']]\n"
     ]
    }
   ],
   "source": [
    "sub_section = Section(\n",
    "    section_name='SubSection',\n",
    "    start_section=SectionBreak('EndSection', break_offset='Before'),  # Added to use alone\n",
    "    #end_on_first_item=True,\n",
    "    #keep_partial=True,\n",
    "    end_section=SectionBreak(True)\n",
    "    )\n",
    "\n",
    "full_section = Section(\n",
    "    section_name='Full',\n",
    "    start_section=SectionBreak('StartSection', break_offset='After'),\n",
    "    #end_section=SectionBreak('EndSection', break_offset='After'),\n",
    "    processor=[sub_section]  \n",
    "    )\n",
    "pprint(full_section.read(GENERIC_TEST_TEXT))"
   ]
  },
  {
   "cell_type": "markdown",
   "metadata": {},
   "source": [
    "- ![Good](../examples/Valid.png) Results in two one-line sections.\n",
    "  \n",
    "<table><thead><th>Expected</th><th>Actual</th></thead>\n",
    "<tr><td><code>\n",
    "[<br>\n",
    "['EndSection Name: A'],<br>\n",
    "['EndSection Name: B']<br>\n",
    "]\n",
    "  </code></td>\n",
    "<td><code>\n",
    "[<br>\n",
    "['EndSection Name: A'],<br>\n",
    "['EndSection Name: B']<br>\n",
    "]\n",
    "  </code></td></tr>\n",
    "</table>"
   ]
  },
  {
   "cell_type": "markdown",
   "metadata": {},
   "source": [
    "### Add *Start After StartSection* and <br>*End Before EndSection* to Section Definition, and <br>for SubSection Definition, set <br>*Start* to  *Before EndSection* and <br>*End* to *`True` (Always Break)*\n",
    "> **Section Definition**<br> \n",
    "> `start_section=SectionBreak('StartSection', break_offset='After'),`<br>\n",
    "> `end_section=SectionBreak('EndSection', break_offset='After'),`<br>\n",
    "    \n",
    "> \n",
    "> **SubSection Definition**<br>\n",
    "> `start_section=SectionBreak('EndSection', break_offset='Before'),`<br>\n",
    "> `end_section=SectionBreak(True),`\n",
    "    "
   ]
  },
  {
   "cell_type": "code",
   "execution_count": 30,
   "metadata": {},
   "outputs": [
    {
     "name": "stdout",
     "output_type": "stream",
     "text": [
      "[['EndSection Name: A'], ['EndSection Name: B']]\n"
     ]
    }
   ],
   "source": [
    "sub_section = Section(\n",
    "    section_name='SubSection',\n",
    "    start_section=SectionBreak('EndSection', break_offset='Before'),  # Added to use alone\n",
    "    #end_on_first_item=True,\n",
    "    #keep_partial=True,\n",
    "    end_section=SectionBreak(True)\n",
    "    )\n",
    "\n",
    "full_section = Section(\n",
    "    section_name='Full',\n",
    "    start_section=SectionBreak('StartSection', break_offset='After'),\n",
    "    end_section=SectionBreak('EndSection', break_offset='After'),\n",
    "    processor=[sub_section] \n",
    "    )\n",
    "\n",
    "pprint(full_section.read(GENERIC_TEST_TEXT))"
   ]
  },
  {
   "cell_type": "markdown",
   "metadata": {},
   "source": [
    "- ![Good](../examples/Valid.png) Results in two one-line sections.\n",
    "  \n",
    "<table><thead><th>Expected</th><th>Actual</th></thead>\n",
    "<tr><td><code>\n",
    "[<br>\n",
    "['EndSection Name: A'],<br>\n",
    "['EndSection Name: B']<br>\n",
    "]\n",
    "  </code></td>\n",
    "<td><code>\n",
    "[<br>\n",
    "['EndSection Name: A'],<br>\n",
    "['EndSection Name: B']<br>\n",
    "]\n",
    "  </code></td></tr>\n",
    "</table>"
   ]
  },
  {
   "cell_type": "markdown",
   "metadata": {},
   "source": [
    "<b>Break Analysis</b>\n",
    "<table><thead>\n",
    "<th>Text Line</th><th>Full Section</th><th>SubSection</th>\n",
    "</thead>\n",
    "<tr><td>'Text to be ignored'</td><td>Skipped</td><td>Skipped</td></tr>\n",
    "<tr><td>'StartSection Name: A'</td><td>Start Section After</td><td>Skipped</td></tr>\n",
    "<tr><td><b>'EndSection Name: A'</b></td><td><u>Processed</u><br>No End Section<br>(<code>end_on_first_item=False</code>)</td><td>Start Section Before<br>(<u>Processed</u>)<br>No End Section<br>(<code>end_on_first_item=False</code>)</td></tr>\n",
    "<tr><td>'Text between sections'</td><td><i>Processed</i></td><td>End Section Before</td></tr>\n",
    "<tr><td>'StartSection Name: B'</td><td><i>Processed</i></td><td>Skipped</td></tr>\n",
    "<tr><td><b>'EndSection Name: B'</b></td><td><u>Processed</u><br>End Section After</td><td>Start Section Before<br>(<u>Processed</u>)<br>No End Section<br>(<code>end_on_first_item=False</code>)</td></tr>\n",
    "<tr><td>'More text to be ignored'</td><td>End of Section</td><td>Not Reached</td></tr>\n",
    " </table>"
   ]
  },
  {
   "cell_type": "markdown",
   "metadata": {},
   "source": [
    "### Add *Start __Before__ StartSection* and <br>*End __Before__ EndSection* to Section definition, and <br>for *SubSection* definition, set <br>*Start* to  *__Before__ EndSection* and <br>*End* to *`True` (Always Break)*\n",
    "> **Section Definition**<br> \n",
    "> `start_section=SectionBreak('StartSection', break_offset='Before'),`<br>\n",
    "> `end_section=SectionBreak('EndSection', break_offset='After'),`\n",
    "    \n",
    "> \n",
    "> **SubSection Definition**<br>\n",
    "> `start_section=SectionBreak('EndSection', break_offset='Before'),`<br>\n",
    "> `end_section=SectionBreak(True),`\n",
    "    "
   ]
  },
  {
   "cell_type": "code",
   "execution_count": 31,
   "metadata": {},
   "outputs": [
    {
     "name": "stdout",
     "output_type": "stream",
     "text": [
      "[['EndSection Name: A']]\n"
     ]
    }
   ],
   "source": [
    "sub_section = Section(\n",
    "    section_name='SubSection',\n",
    "    start_section=SectionBreak('EndSection', break_offset='Before'),  # Added to use alone\n",
    "    #end_on_first_item=True,\n",
    "    #keep_partial=True,\n",
    "    end_section=SectionBreak(True)\n",
    "    )\n",
    "\n",
    "full_section = Section(\n",
    "    section_name='Full',\n",
    "    start_section=SectionBreak('StartSection', break_offset='Before'),\n",
    "    end_section=SectionBreak('EndSection', break_offset='After'),\n",
    "    processor=[sub_section]  \n",
    "    )\n",
    "pprint(full_section.read(GENERIC_TEST_TEXT))"
   ]
  },
  {
   "cell_type": "markdown",
   "metadata": {},
   "source": [
    "- ![Good](../examples/Valid.png) Results in single line section.\n",
    "- 'EndSection Name: A' is now the second line in Full Section, so the section ends after this line.\n",
    "  \n",
    "<table><thead><th>Expected</th><th>Actual</th></thead>\n",
    "<tr><td><code>[['EndSection Name: A']]</code></td>\n",
    "<td><code>[['EndSection Name: A']]</code></td></tr>\n",
    "</table>"
   ]
  },
  {
   "cell_type": "markdown",
   "metadata": {},
   "source": [
    "### Add *Start __Before__ StartSection* and <br>*End Before EndSection* to Section Definition, and <br>for SubSection Definition, set <br>*Start* to *__Before__ EndSection*, <br>*End* to *`True` (Always Break)* and <br>*Keep Partial* to *`True`*\n",
    "> **Section Definition**<br> \n",
    "> `start_section=SectionBreak('StartSection', break_offset='Before'),`<br>\n",
    "> `end_section=SectionBreak('EndSection', break_offset='After'),` <br>   \n",
    "> \n",
    "> **SubSection Definition**<br>\n",
    "> `start_section=SectionBreak('EndSection', break_offset='Before'),`<br>\n",
    "> `end_section=SectionBreak(True),`<br>\n",
    "> `keep_partial=True,`\n",
    "    "
   ]
  },
  {
   "cell_type": "code",
   "execution_count": 32,
   "metadata": {},
   "outputs": [
    {
     "name": "stdout",
     "output_type": "stream",
     "text": [
      "[['EndSection Name: A']]\n"
     ]
    }
   ],
   "source": [
    "sub_section = Section(\n",
    "    section_name='SubSection',\n",
    "    start_section=SectionBreak('EndSection', break_offset='Before'),  # Added to use alone\n",
    "    #end_on_first_item=True,\n",
    "    keep_partial=True,\n",
    "    end_section=SectionBreak(True)\n",
    "    )\n",
    "\n",
    "full_section = Section(\n",
    "    section_name='Full',\n",
    "    start_section=SectionBreak('StartSection', break_offset='Before'),\n",
    "    end_section=SectionBreak('EndSection', break_offset='After'),\n",
    "    processor=[sub_section]  \n",
    "    )\n",
    "pprint(full_section.read(GENERIC_TEST_TEXT))"
   ]
  },
  {
   "cell_type": "markdown",
   "metadata": {},
   "source": [
    "- ![Good](../examples/Valid.png) Results in the same single line section.\n",
    "- `keep_partial=True` has no effect.\n",
    "  \n",
    "<table><thead><th>Expected</th><th>Actual</th></thead>\n",
    "<tr><td><code>[['EndSection Name: A']]</code></td>\n",
    "<td><code>[['EndSection Name: A']]</code></td></tr>\n",
    "</table>"
   ]
  },
  {
   "cell_type": "markdown",
   "metadata": {},
   "source": [
    "### Add *Start __Before__ StartSection* and <br>*End Before EndSection* to Section Definition, and <br>don't set any SectionBreaks for SubSection Definition, \n",
    "> **Section Definition**<br> \n",
    "> `start_section=SectionBreak('StartSection', break_offset='Before'),`<br>\n",
    "> `end_section=SectionBreak('EndSection', break_offset='After'),`    \n",
    "    "
   ]
  },
  {
   "cell_type": "code",
   "execution_count": 33,
   "metadata": {},
   "outputs": [
    {
     "name": "stdout",
     "output_type": "stream",
     "text": [
      "[['StartSection Name: A', 'EndSection Name: A']]\n"
     ]
    }
   ],
   "source": [
    "sub_section = Section(\n",
    "    section_name='SubSection',\n",
    "    #start_section=SectionBreak('EndSection', break_offset='Before'),  # Added to use alone\n",
    "    #end_on_first_item=True,\n",
    "    #keep_partial=True,\n",
    "    #end_section=SectionBreak(True)\n",
    "    )\n",
    "\n",
    "full_section = Section(\n",
    "    section_name='Full',\n",
    "    start_section=SectionBreak('StartSection', break_offset='Before'),\n",
    "    end_section=SectionBreak('EndSection', break_offset='After'),\n",
    "    processor=[sub_section]  \n",
    "    )\n",
    "pprint(full_section.read(GENERIC_TEST_TEXT))"
   ]
  },
  {
   "cell_type": "markdown",
   "metadata": {},
   "source": [
    "- ![Good](../examples/Valid.png) Results in Two line section\n",
    "  \n",
    "<table><thead><th>Expected</th><th>Actual</th></thead>\n",
    "<tr><td><code>[[<br>'StartSection Name: A',<br>'EndSection Name: A'<br>]]</code></td>\n",
    "<td><code>[[<br>'StartSection Name: A',<br>'EndSection Name: A'<br>]]</code></td></tr>\n",
    "</table>"
   ]
  },
  {
   "cell_type": "markdown",
   "metadata": {},
   "source": [
    "### Add *Start __After__ StartSection* and <br>*End Before EndSection* to Section Definition, and <br>don't set any SectionBreaks for SubSection Definition, \n",
    "> **Section Definition**<br> \n",
    "> `start_section=SectionBreak('StartSection', break_offset='After'),`<br> \n",
    "> `end_section=SectionBreak('EndSection', break_offset='After'),` <br>    \n",
    "    "
   ]
  },
  {
   "cell_type": "code",
   "execution_count": 34,
   "metadata": {},
   "outputs": [
    {
     "name": "stdout",
     "output_type": "stream",
     "text": [
      "[['EndSection Name: A',\n",
      "  'Text between sections',\n",
      "  'StartSection Name: B',\n",
      "  'EndSection Name: B']]\n"
     ]
    }
   ],
   "source": [
    "sub_section = Section(\n",
    "    section_name='SubSection',\n",
    "    #start_section=SectionBreak('EndSection', break_offset='Before'),  # Added to use alone\n",
    "    #end_on_first_item=True,\n",
    "    #keep_partial=True,\n",
    "    #end_section=SectionBreak(True)\n",
    "    )\n",
    "\n",
    "full_section = Section(\n",
    "    section_name='Full',\n",
    "    start_section=SectionBreak('StartSection', break_offset='After'),\n",
    "    end_section=SectionBreak('EndSection', break_offset='After'),\n",
    "    processor=[sub_section]  \n",
    "    )\n",
    "pprint(full_section.read(GENERIC_TEST_TEXT))"
   ]
  },
  {
   "cell_type": "markdown",
   "metadata": {},
   "source": [
    "- ![Good](../examples/Valid.png) Starts with first 'EndSection' ends with second 'EndSection'.\n",
    "  \n",
    "<table><thead><th>Expected</th><th>Actual</th></thead>\n",
    "<tr><td><code>\n",
    "[['EndSection Name: A',<br>\n",
    "  'Text between sections',<br>\n",
    "  'StartSection Name: B',<br>\n",
    "  'EndSection Name: B']]\n",
    "</code></td>\n",
    "<td><code>\n",
    "[['EndSection Name: A',<br>\n",
    "  'Text between sections',<br>\n",
    "  'StartSection Name: B',<br>\n",
    "  'EndSection Name: B']]\n",
    "</code></td></tr>\n",
    "</table>"
   ]
  },
  {
   "cell_type": "markdown",
   "metadata": {},
   "source": [
    "### Set `end_on_first` to *True*. <br>*Start __After__ StartSection* and <br>*End Before EndSection* to Section Definition, and <br>don't set any SectionBreaks for SubSection Definition, \n",
    "> **Section Definition**<br> \n",
    "> `start_section=SectionBreak('StartSection', break_offset='After'),`<br> \n",
    "> `end_section=SectionBreak('EndSection', break_offset='After'),`<br>\n",
    "> `end_on_first_item=True`<br>"
   ]
  },
  {
   "cell_type": "code",
   "execution_count": 35,
   "metadata": {},
   "outputs": [
    {
     "name": "stdout",
     "output_type": "stream",
     "text": [
      "['EndSection Name: A']\n"
     ]
    }
   ],
   "source": [
    "sub_section = Section(\n",
    "    section_name='SubSection',\n",
    "    #start_section=SectionBreak('EndSection', break_offset='Before'),  # Added to use alone\n",
    "    #end_on_first_item=True,\n",
    "    #keep_partial=True,\n",
    "    #end_section=SectionBreak(True)\n",
    "    )\n",
    "\n",
    "full_section = Section(\n",
    "    section_name='Full',\n",
    "    start_section=SectionBreak('StartSection', break_offset='After'),\n",
    "    end_section=SectionBreak('EndSection', break_offset='After'),\n",
    "    end_on_first_item=True,\n",
    "    #subsections=[sub_section]  \n",
    "    )\n",
    "pprint(full_section.read(GENERIC_TEST_TEXT))"
   ]
  },
  {
   "cell_type": "markdown",
   "metadata": {},
   "source": [
    "- ![Good](../examples/Valid.png) Results in one line section\n",
    "  \n",
    "<table><thead><th>Expected</th><th>Actual</th></thead>\n",
    "<tr><td><code>[['EndSection Name: A']]</code></td>\n",
    "<td><code>[['EndSection Name: A']]</code></td></tr>\n",
    "</table>"
   ]
  },
  {
   "cell_type": "markdown",
   "metadata": {},
   "source": [
    "## Three line sections"
   ]
  },
  {
   "cell_type": "code",
   "execution_count": 36,
   "metadata": {},
   "outputs": [],
   "source": [
    "GENERIC_TEST_TEXT3 = [\n",
    "    'Text to be ignored',\n",
    "    'StartSection A',\n",
    "    'MiddleSection A',\n",
    "    'EndSection A',\n",
    "    'Unwanted text between sections',\n",
    "    'StartSection B',\n",
    "    'Random text in the middle of a section',\n",
    "    'MiddleSection B',\n",
    "    'EndSection B',\n",
    "    'StartSection C',\n",
    "    'MiddleSection C',\n",
    "    'EndSection C',\n",
    "    'Even more text to be ignored', \n",
    "    ]"
   ]
  },
  {
   "cell_type": "markdown",
   "metadata": {},
   "source": [
    "#### Single line subsection definitions "
   ]
  },
  {
   "cell_type": "code",
   "execution_count": 37,
   "metadata": {},
   "outputs": [],
   "source": [
    "start_sub_section = Section(\n",
    "    section_name='StartSubSection',\n",
    "    start_section=SectionBreak('StartSection', break_offset='Before'),\n",
    "    end_section=SectionBreak(True, break_offset='Before')\n",
    "    )\n",
    "\n",
    "middle_sub_section = Section(\n",
    "    section_name='MiddleSubSection',\n",
    "    start_section=SectionBreak('MiddleSection', break_offset='Before'),\n",
    "    end_section=SectionBreak(True, break_offset='Before')\n",
    "    )\n",
    "\n",
    "end_sub_section = Section(\n",
    "    section_name='EndSubSection',\n",
    "    start_section=SectionBreak('EndSection', break_offset='Before'),\n",
    "    end_section=SectionBreak(True, break_offset='Before')\n",
    "    )"
   ]
  },
  {
   "cell_type": "markdown",
   "metadata": {},
   "source": [
    "#### Defining ***three_part_section*** \n",
    "- Contains an ending break:\n",
    "    > `end_section=SectionBreak('ignored', break_offset='Before')`.\n",
    "\n",
    "- Contains 3 subsections:\n",
    "    > `[start_sub_section, middle_sub_section, end_sub_section]`"
   ]
  },
  {
   "cell_type": "code",
   "execution_count": 38,
   "metadata": {},
   "outputs": [
    {
     "ename": "BufferedIteratorValueError",
     "evalue": "Can't step back 9 items.\n\tonly have 4 previous items available.",
     "output_type": "error",
     "traceback": [
      "\u001b[1;31m---------------------------------------------------------------------------\u001b[0m",
      "\u001b[1;31mBufferedIteratorValueError\u001b[0m                Traceback (most recent call last)",
      "\u001b[1;32m~\\AppData\\Local\\Temp/ipykernel_7100/459974621.py\u001b[0m in \u001b[0;36m<module>\u001b[1;34m\u001b[0m\n\u001b[0;32m      4\u001b[0m     \u001b[0mprocessor\u001b[0m\u001b[1;33m=\u001b[0m\u001b[1;33m[\u001b[0m\u001b[0mstart_sub_section\u001b[0m\u001b[1;33m,\u001b[0m \u001b[0mmiddle_sub_section\u001b[0m\u001b[1;33m,\u001b[0m \u001b[0mend_sub_section\u001b[0m\u001b[1;33m]\u001b[0m\u001b[1;33m\u001b[0m\u001b[1;33m\u001b[0m\u001b[0m\n\u001b[0;32m      5\u001b[0m     )\n\u001b[1;32m----> 6\u001b[1;33m \u001b[0mpprint\u001b[0m\u001b[1;33m(\u001b[0m\u001b[0mthree_part_section\u001b[0m\u001b[1;33m.\u001b[0m\u001b[0mread\u001b[0m\u001b[1;33m(\u001b[0m\u001b[0mGENERIC_TEST_TEXT3\u001b[0m\u001b[1;33m)\u001b[0m\u001b[1;33m)\u001b[0m\u001b[1;33m\u001b[0m\u001b[1;33m\u001b[0m\u001b[0m\n\u001b[0m",
      "\u001b[1;32m~\\OneDrive - Queen's University\\Python\\Projects\\sectionary package\\src\\sectionary\\sections.py\u001b[0m in \u001b[0;36mread\u001b[1;34m(self, source, start_search, do_reset, initialize, context)\u001b[0m\n\u001b[0;32m   2529\u001b[0m         \u001b[0msection_processor\u001b[0m \u001b[1;33m=\u001b[0m \u001b[0mself\u001b[0m\u001b[1;33m.\u001b[0m\u001b[0mprocess\u001b[0m\u001b[1;33m(\u001b[0m\u001b[0msource\u001b[0m\u001b[1;33m,\u001b[0m \u001b[0minitialize\u001b[0m\u001b[1;33m=\u001b[0m\u001b[1;32mFalse\u001b[0m\u001b[1;33m)\u001b[0m\u001b[1;33m\u001b[0m\u001b[1;33m\u001b[0m\u001b[0m\n\u001b[0;32m   2530\u001b[0m         \u001b[1;31m# Apply the aggregate function\u001b[0m\u001b[1;33m\u001b[0m\u001b[1;33m\u001b[0m\u001b[1;33m\u001b[0m\u001b[0m\n\u001b[1;32m-> 2531\u001b[1;33m         \u001b[0msection_aggregate\u001b[0m \u001b[1;33m=\u001b[0m \u001b[0mself\u001b[0m\u001b[1;33m.\u001b[0m\u001b[0maggregate\u001b[0m\u001b[1;33m(\u001b[0m\u001b[0msection_processor\u001b[0m\u001b[1;33m,\u001b[0m \u001b[0mself\u001b[0m\u001b[1;33m.\u001b[0m\u001b[0mcontext\u001b[0m\u001b[1;33m)\u001b[0m\u001b[1;33m\u001b[0m\u001b[1;33m\u001b[0m\u001b[0m\n\u001b[0m\u001b[0;32m   2532\u001b[0m         \u001b[1;32mif\u001b[0m \u001b[0mself\u001b[0m\u001b[1;33m.\u001b[0m\u001b[0mscan_status\u001b[0m \u001b[1;32mnot\u001b[0m \u001b[1;32min\u001b[0m \u001b[1;33m[\u001b[0m\u001b[1;34m'Scan Complete'\u001b[0m\u001b[1;33m,\u001b[0m \u001b[1;34m'End of Source'\u001b[0m\u001b[1;33m]\u001b[0m\u001b[1;33m:\u001b[0m\u001b[1;33m\u001b[0m\u001b[1;33m\u001b[0m\u001b[0m\n\u001b[0;32m   2533\u001b[0m             \u001b[0mself\u001b[0m\u001b[1;33m.\u001b[0m\u001b[0mupdate_original_source\u001b[0m\u001b[1;33m(\u001b[0m\u001b[1;33m)\u001b[0m\u001b[1;33m\u001b[0m\u001b[1;33m\u001b[0m\u001b[0m\n",
      "\u001b[1;32m~\\OneDrive - Queen's University\\Python\\Projects\\sectionary package\\src\\sectionary\\sections.py\u001b[0m in \u001b[0;36m<lambda>\u001b[1;34m(func, item, context)\u001b[0m\n\u001b[0;32m    276\u001b[0m         }\n\u001b[0;32m    277\u001b[0m     process_sig = {\n\u001b[1;32m--> 278\u001b[1;33m         \u001b[1;33m(\u001b[0m\u001b[1;36m1\u001b[0m\u001b[1;33m,\u001b[0m \u001b[1;32mFalse\u001b[0m\u001b[1;33m)\u001b[0m\u001b[1;33m:\u001b[0m \u001b[1;32mlambda\u001b[0m \u001b[0mfunc\u001b[0m\u001b[1;33m,\u001b[0m \u001b[0mitem\u001b[0m\u001b[1;33m,\u001b[0m \u001b[0mcontext\u001b[0m\u001b[1;33m:\u001b[0m \u001b[0mfunc\u001b[0m\u001b[1;33m(\u001b[0m\u001b[0mitem\u001b[0m\u001b[1;33m)\u001b[0m\u001b[1;33m,\u001b[0m\u001b[1;33m\u001b[0m\u001b[1;33m\u001b[0m\u001b[0m\n\u001b[0m\u001b[0;32m    279\u001b[0m         \u001b[1;33m(\u001b[0m\u001b[1;36m2\u001b[0m\u001b[1;33m,\u001b[0m \u001b[1;32mFalse\u001b[0m\u001b[1;33m)\u001b[0m\u001b[1;33m:\u001b[0m \u001b[1;32mlambda\u001b[0m \u001b[0mfunc\u001b[0m\u001b[1;33m,\u001b[0m \u001b[0mitem\u001b[0m\u001b[1;33m,\u001b[0m \u001b[0mcontext\u001b[0m\u001b[1;33m:\u001b[0m \u001b[0mfunc\u001b[0m\u001b[1;33m(\u001b[0m\u001b[0mitem\u001b[0m\u001b[1;33m,\u001b[0m \u001b[0mcontext\u001b[0m\u001b[1;33m)\u001b[0m\u001b[1;33m,\u001b[0m\u001b[1;33m\u001b[0m\u001b[1;33m\u001b[0m\u001b[0m\n\u001b[0;32m    280\u001b[0m         \u001b[1;33m(\u001b[0m\u001b[1;36m1\u001b[0m\u001b[1;33m,\u001b[0m \u001b[1;32mTrue\u001b[0m\u001b[1;33m)\u001b[0m\u001b[1;33m:\u001b[0m \u001b[1;32mlambda\u001b[0m \u001b[0mfunc\u001b[0m\u001b[1;33m,\u001b[0m \u001b[0mitem\u001b[0m\u001b[1;33m,\u001b[0m \u001b[0mcontext\u001b[0m\u001b[1;33m:\u001b[0m \u001b[0mfunc\u001b[0m\u001b[1;33m(\u001b[0m\u001b[0mitem\u001b[0m\u001b[1;33m,\u001b[0m \u001b[1;33m**\u001b[0m\u001b[0mcontext\u001b[0m\u001b[1;33m)\u001b[0m\u001b[1;33m\u001b[0m\u001b[1;33m\u001b[0m\u001b[0m\n",
      "\u001b[1;32m~\\OneDrive - Queen's University\\Python\\Projects\\sectionary package\\src\\sectionary\\sections.py\u001b[0m in \u001b[0;36mprocess\u001b[1;34m(self, source, start_search, do_reset, initialize, context)\u001b[0m\n\u001b[0;32m   2472\u001b[0m         \u001b[1;32mwhile\u001b[0m \u001b[1;32mnot\u001b[0m \u001b[0mdone\u001b[0m\u001b[1;33m:\u001b[0m\u001b[1;33m\u001b[0m\u001b[1;33m\u001b[0m\u001b[0m\n\u001b[0;32m   2473\u001b[0m             \u001b[1;32mtry\u001b[0m\u001b[1;33m:\u001b[0m\u001b[1;33m\u001b[0m\u001b[1;33m\u001b[0m\u001b[0m\n\u001b[1;32m-> 2474\u001b[1;33m                 \u001b[0mitem_read\u001b[0m \u001b[1;33m=\u001b[0m \u001b[0mnext\u001b[0m\u001b[1;33m(\u001b[0m\u001b[0mread_iter\u001b[0m\u001b[1;33m)\u001b[0m\u001b[1;33m\u001b[0m\u001b[1;33m\u001b[0m\u001b[0m\n\u001b[0m\u001b[0;32m   2475\u001b[0m                 logger.debug(f'This is {self.section_name} item number: '\n\u001b[0;32m   2476\u001b[0m                              f'{self.item_count}')\n",
      "\u001b[1;32m~\\OneDrive - Queen's University\\Python\\Projects\\sectionary package\\src\\sectionary\\sections.py\u001b[0m in \u001b[0;36mread_subsections\u001b[1;34m(self, subsections, source, context)\u001b[0m\n\u001b[0;32m   2163\u001b[0m         \u001b[1;31m# Subsection Reading\u001b[0m\u001b[1;33m\u001b[0m\u001b[1;33m\u001b[0m\u001b[1;33m\u001b[0m\u001b[0m\n\u001b[0;32m   2164\u001b[0m         \u001b[1;32mwhile\u001b[0m \u001b[1;32mnot\u001b[0m \u001b[0mdone_read\u001b[0m\u001b[1;33m:\u001b[0m\u001b[1;33m\u001b[0m\u001b[1;33m\u001b[0m\u001b[0m\n\u001b[1;32m-> 2165\u001b[1;33m             read_items, s_context, done_read = sub_reader(subsections,\n\u001b[0m\u001b[0;32m   2166\u001b[0m                                                           buf_source, s_context)\n\u001b[0;32m   2167\u001b[0m             \u001b[1;32mif\u001b[0m \u001b[0mread_items\u001b[0m\u001b[1;33m:\u001b[0m  \u001b[1;31m# Don't return empty read results.\u001b[0m\u001b[1;33m\u001b[0m\u001b[1;33m\u001b[0m\u001b[0m\n",
      "\u001b[1;32m~\\OneDrive - Queen's University\\Python\\Projects\\sectionary package\\src\\sectionary\\sections.py\u001b[0m in \u001b[0;36mread_section\u001b[1;34m(subsections, buf_source, s_context)\u001b[0m\n\u001b[0;32m   2111\u001b[0m             \u001b[0mdone_read\u001b[0m \u001b[1;33m=\u001b[0m \u001b[1;32mFalse\u001b[0m\u001b[1;33m\u001b[0m\u001b[1;33m\u001b[0m\u001b[0m\n\u001b[0;32m   2112\u001b[0m             \u001b[0msubsection\u001b[0m \u001b[1;33m=\u001b[0m \u001b[0msubsections\u001b[0m\u001b[1;33m[\u001b[0m\u001b[1;36m0\u001b[0m\u001b[1;33m]\u001b[0m\u001b[1;33m\u001b[0m\u001b[1;33m\u001b[0m\u001b[0m\n\u001b[1;32m-> 2113\u001b[1;33m             read_itm = subsection.read(buf_source, context=s_context,\n\u001b[0m\u001b[0;32m   2114\u001b[0m                                        start_search=True)\n\u001b[0;32m   2115\u001b[0m             \u001b[0ms_context\u001b[0m\u001b[1;33m.\u001b[0m\u001b[0mupdate\u001b[0m\u001b[1;33m(\u001b[0m\u001b[0msubsection\u001b[0m\u001b[1;33m.\u001b[0m\u001b[0mcontext\u001b[0m\u001b[1;33m)\u001b[0m\u001b[1;33m\u001b[0m\u001b[1;33m\u001b[0m\u001b[0m\n",
      "\u001b[1;32m~\\OneDrive - Queen's University\\Python\\Projects\\sectionary package\\src\\sectionary\\sections.py\u001b[0m in \u001b[0;36mread\u001b[1;34m(self, source, start_search, do_reset, initialize, context)\u001b[0m\n\u001b[0;32m   2526\u001b[0m         \u001b[1;32mif\u001b[0m \u001b[0minitialize\u001b[0m\u001b[1;33m:\u001b[0m\u001b[1;33m\u001b[0m\u001b[1;33m\u001b[0m\u001b[0m\n\u001b[0;32m   2527\u001b[0m             \u001b[1;31m# Initialize the section\u001b[0m\u001b[1;33m\u001b[0m\u001b[1;33m\u001b[0m\u001b[1;33m\u001b[0m\u001b[0m\n\u001b[1;32m-> 2528\u001b[1;33m             \u001b[0msource\u001b[0m \u001b[1;33m=\u001b[0m \u001b[0mself\u001b[0m\u001b[1;33m.\u001b[0m\u001b[0minitialize\u001b[0m\u001b[1;33m(\u001b[0m\u001b[0msource\u001b[0m\u001b[1;33m,\u001b[0m \u001b[0mstart_search\u001b[0m\u001b[1;33m,\u001b[0m \u001b[0mdo_reset\u001b[0m\u001b[1;33m,\u001b[0m \u001b[0mcontext\u001b[0m\u001b[1;33m)\u001b[0m\u001b[1;33m\u001b[0m\u001b[1;33m\u001b[0m\u001b[0m\n\u001b[0m\u001b[0;32m   2529\u001b[0m         \u001b[0msection_processor\u001b[0m \u001b[1;33m=\u001b[0m \u001b[0mself\u001b[0m\u001b[1;33m.\u001b[0m\u001b[0mprocess\u001b[0m\u001b[1;33m(\u001b[0m\u001b[0msource\u001b[0m\u001b[1;33m,\u001b[0m \u001b[0minitialize\u001b[0m\u001b[1;33m=\u001b[0m\u001b[1;32mFalse\u001b[0m\u001b[1;33m)\u001b[0m\u001b[1;33m\u001b[0m\u001b[1;33m\u001b[0m\u001b[0m\n\u001b[0;32m   2530\u001b[0m         \u001b[1;31m# Apply the aggregate function\u001b[0m\u001b[1;33m\u001b[0m\u001b[1;33m\u001b[0m\u001b[1;33m\u001b[0m\u001b[0m\n",
      "\u001b[1;32m~\\OneDrive - Queen's University\\Python\\Projects\\sectionary package\\src\\sectionary\\sections.py\u001b[0m in \u001b[0;36minitialize\u001b[1;34m(self, supplied_source, start_search, do_reset, context)\u001b[0m\n\u001b[0;32m   2340\u001b[0m         \u001b[1;31m# If requested, advance through the source to the section start.\u001b[0m\u001b[1;33m\u001b[0m\u001b[1;33m\u001b[0m\u001b[1;33m\u001b[0m\u001b[0m\n\u001b[0;32m   2341\u001b[0m         \u001b[1;32mif\u001b[0m \u001b[0mstart_search\u001b[0m\u001b[1;33m:\u001b[0m\u001b[1;33m\u001b[0m\u001b[1;33m\u001b[0m\u001b[0m\n\u001b[1;32m-> 2342\u001b[1;33m             \u001b[0mself\u001b[0m\u001b[1;33m.\u001b[0m\u001b[0madvance_to_start\u001b[0m\u001b[1;33m(\u001b[0m\u001b[0mactive_source\u001b[0m\u001b[1;33m)\u001b[0m\u001b[1;33m\u001b[0m\u001b[1;33m\u001b[0m\u001b[0m\n\u001b[0m\u001b[0;32m   2343\u001b[0m         \u001b[1;32melse\u001b[0m\u001b[1;33m:\u001b[0m\u001b[1;33m\u001b[0m\u001b[1;33m\u001b[0m\u001b[0m\n\u001b[0;32m   2344\u001b[0m             \u001b[0mself\u001b[0m\u001b[1;33m.\u001b[0m\u001b[0mcontext\u001b[0m\u001b[1;33m[\u001b[0m\u001b[1;34m'Skipped Lines'\u001b[0m\u001b[1;33m]\u001b[0m \u001b[1;33m=\u001b[0m \u001b[1;33m[\u001b[0m\u001b[1;33m]\u001b[0m\u001b[1;33m\u001b[0m\u001b[1;33m\u001b[0m\u001b[0m\n",
      "\u001b[1;32m~\\OneDrive - Queen's University\\Python\\Projects\\sectionary package\\src\\sectionary\\sections.py\u001b[0m in \u001b[0;36madvance_to_start\u001b[1;34m(self, source)\u001b[0m\n\u001b[0;32m   2276\u001b[0m         \u001b[0mlogger\u001b[0m\u001b[1;33m.\u001b[0m\u001b[0mdebug\u001b[0m\u001b[1;33m(\u001b[0m\u001b[1;34mf'Advancing to start of {self.section_name}.'\u001b[0m\u001b[1;33m)\u001b[0m\u001b[1;33m\u001b[0m\u001b[1;33m\u001b[0m\u001b[0m\n\u001b[0;32m   2277\u001b[0m         \u001b[1;32mwhile\u001b[0m \u001b[1;32mTrue\u001b[0m\u001b[1;33m:\u001b[0m\u001b[1;33m\u001b[0m\u001b[1;33m\u001b[0m\u001b[0m\n\u001b[1;32m-> 2278\u001b[1;33m             \u001b[0mnext_item\u001b[0m \u001b[1;33m=\u001b[0m \u001b[0mself\u001b[0m\u001b[1;33m.\u001b[0m\u001b[0mstep_source\u001b[0m\u001b[1;33m(\u001b[0m\u001b[0msource\u001b[0m\u001b[1;33m)\u001b[0m\u001b[1;33m\u001b[0m\u001b[1;33m\u001b[0m\u001b[0m\n\u001b[0m\u001b[0;32m   2279\u001b[0m             \u001b[1;32mif\u001b[0m \u001b[0mself\u001b[0m\u001b[1;33m.\u001b[0m\u001b[0mscan_status\u001b[0m \u001b[1;32min\u001b[0m \u001b[1;33m[\u001b[0m\u001b[1;34m'Scan Complete'\u001b[0m\u001b[1;33m,\u001b[0m \u001b[1;34m'End of Source'\u001b[0m\u001b[1;33m]\u001b[0m\u001b[1;33m:\u001b[0m\u001b[1;33m\u001b[0m\u001b[1;33m\u001b[0m\u001b[0m\n\u001b[0;32m   2280\u001b[0m                 \u001b[1;32mbreak\u001b[0m\u001b[1;33m\u001b[0m\u001b[1;33m\u001b[0m\u001b[0m\n",
      "\u001b[1;32m~\\OneDrive - Queen's University\\Python\\Projects\\sectionary package\\src\\sectionary\\sections.py\u001b[0m in \u001b[0;36mstep_source\u001b[1;34m(self, source)\u001b[0m\n\u001b[0;32m   2244\u001b[0m             \u001b[1;31m# next must be called on the top level Source not the base one,\u001b[0m\u001b[1;33m\u001b[0m\u001b[1;33m\u001b[0m\u001b[1;33m\u001b[0m\u001b[0m\n\u001b[0;32m   2245\u001b[0m             \u001b[1;31m# otherwise it will not supply the correct item here.\u001b[0m\u001b[1;33m\u001b[0m\u001b[1;33m\u001b[0m\u001b[1;33m\u001b[0m\u001b[0m\n\u001b[1;32m-> 2246\u001b[1;33m             \u001b[0mnext_item\u001b[0m \u001b[1;33m=\u001b[0m \u001b[0mnext\u001b[0m\u001b[1;33m(\u001b[0m\u001b[0msource\u001b[0m\u001b[1;33m)\u001b[0m\u001b[1;33m\u001b[0m\u001b[1;33m\u001b[0m\u001b[0m\n\u001b[0m\u001b[0;32m   2247\u001b[0m         \u001b[1;32mexcept\u001b[0m \u001b[1;33m(\u001b[0m\u001b[0mRuntimeError\u001b[0m\u001b[1;33m)\u001b[0m \u001b[1;32mas\u001b[0m \u001b[0merr\u001b[0m\u001b[1;33m:\u001b[0m\u001b[1;33m\u001b[0m\u001b[1;33m\u001b[0m\u001b[0m\n\u001b[0;32m   2248\u001b[0m             \u001b[0mself\u001b[0m\u001b[1;33m.\u001b[0m\u001b[0mscan_status\u001b[0m \u001b[1;33m=\u001b[0m \u001b[1;34m'Scan Complete'\u001b[0m\u001b[1;33m\u001b[0m\u001b[1;33m\u001b[0m\u001b[0m\n",
      "\u001b[1;32m~\\OneDrive - Queen's University\\Python\\Projects\\sectionary package\\src\\sectionary\\buffered_iterator.py\u001b[0m in \u001b[0;36m__next__\u001b[1;34m(self)\u001b[0m\n\u001b[0;32m    115\u001b[0m         '''\n\u001b[0;32m    116\u001b[0m         \u001b[1;32mtry\u001b[0m\u001b[1;33m:\u001b[0m\u001b[1;33m\u001b[0m\u001b[1;33m\u001b[0m\u001b[0m\n\u001b[1;32m--> 117\u001b[1;33m             \u001b[0mnext_line\u001b[0m \u001b[1;33m=\u001b[0m \u001b[0mself\u001b[0m\u001b[1;33m.\u001b[0m\u001b[0mget_next_item\u001b[0m\u001b[1;33m(\u001b[0m\u001b[1;33m)\u001b[0m\u001b[1;33m\u001b[0m\u001b[1;33m\u001b[0m\u001b[0m\n\u001b[0m\u001b[0;32m    118\u001b[0m         \u001b[1;32mexcept\u001b[0m \u001b[0mBufferedIteratorEOF\u001b[0m \u001b[1;32mas\u001b[0m \u001b[0meof\u001b[0m\u001b[1;33m:\u001b[0m\u001b[1;33m\u001b[0m\u001b[1;33m\u001b[0m\u001b[0m\n\u001b[0;32m    119\u001b[0m             \u001b[1;32mraise\u001b[0m \u001b[0meof\u001b[0m\u001b[1;33m\u001b[0m\u001b[1;33m\u001b[0m\u001b[0m\n",
      "\u001b[1;32m~\\OneDrive - Queen's University\\Python\\Projects\\sectionary package\\src\\sectionary\\buffered_iterator.py\u001b[0m in \u001b[0;36mget_next_item\u001b[1;34m(self)\u001b[0m\n\u001b[0;32m     90\u001b[0m             \u001b[1;32mtry\u001b[0m\u001b[1;33m:\u001b[0m\u001b[1;33m\u001b[0m\u001b[1;33m\u001b[0m\u001b[0m\n\u001b[0;32m     91\u001b[0m                 \u001b[1;31m# Read from the iterator source\u001b[0m\u001b[1;33m\u001b[0m\u001b[1;33m\u001b[0m\u001b[1;33m\u001b[0m\u001b[0m\n\u001b[1;32m---> 92\u001b[1;33m                 \u001b[0mnext_item\u001b[0m \u001b[1;33m=\u001b[0m \u001b[0mself\u001b[0m\u001b[1;33m.\u001b[0m\u001b[0msource_gen\u001b[0m\u001b[1;33m.\u001b[0m\u001b[0m__next__\u001b[0m\u001b[1;33m(\u001b[0m\u001b[1;33m)\u001b[0m\u001b[1;33m\u001b[0m\u001b[1;33m\u001b[0m\u001b[0m\n\u001b[0m\u001b[0;32m     93\u001b[0m             \u001b[1;32mexcept\u001b[0m \u001b[1;33m(\u001b[0m\u001b[0mStopIteration\u001b[0m\u001b[1;33m,\u001b[0m \u001b[0mRuntimeError\u001b[0m\u001b[1;33m)\u001b[0m \u001b[1;32mas\u001b[0m \u001b[0meof\u001b[0m\u001b[1;33m:\u001b[0m\u001b[1;33m\u001b[0m\u001b[1;33m\u001b[0m\u001b[0m\n\u001b[0;32m     94\u001b[0m                 \u001b[1;31m# Treat \"StopIteration\" or \"RuntimeError\" exceptions as\u001b[0m\u001b[1;33m\u001b[0m\u001b[1;33m\u001b[0m\u001b[1;33m\u001b[0m\u001b[0m\n",
      "\u001b[1;32m~\\OneDrive - Queen's University\\Python\\Projects\\sectionary package\\src\\sectionary\\buffered_iterator.py\u001b[0m in \u001b[0;36m__iter__\u001b[1;34m(self)\u001b[0m\n\u001b[0;32m    132\u001b[0m         \u001b[1;32mwhile\u001b[0m \u001b[1;32mTrue\u001b[0m\u001b[1;33m:\u001b[0m\u001b[1;33m\u001b[0m\u001b[1;33m\u001b[0m\u001b[0m\n\u001b[0;32m    133\u001b[0m             \u001b[1;32mtry\u001b[0m\u001b[1;33m:\u001b[0m\u001b[1;33m\u001b[0m\u001b[1;33m\u001b[0m\u001b[0m\n\u001b[1;32m--> 134\u001b[1;33m                 \u001b[0mnext_line\u001b[0m \u001b[1;33m=\u001b[0m \u001b[0mself\u001b[0m\u001b[1;33m.\u001b[0m\u001b[0m__next__\u001b[0m\u001b[1;33m(\u001b[0m\u001b[1;33m)\u001b[0m\u001b[1;33m\u001b[0m\u001b[1;33m\u001b[0m\u001b[0m\n\u001b[0m\u001b[0;32m    135\u001b[0m             \u001b[1;32mexcept\u001b[0m \u001b[0mBufferedIteratorEOF\u001b[0m\u001b[1;33m:\u001b[0m\u001b[1;33m\u001b[0m\u001b[1;33m\u001b[0m\u001b[0m\n\u001b[0;32m    136\u001b[0m                 \u001b[1;32mbreak\u001b[0m\u001b[1;33m\u001b[0m\u001b[1;33m\u001b[0m\u001b[0m\n",
      "\u001b[1;32m~\\OneDrive - Queen's University\\Python\\Projects\\sectionary package\\src\\sectionary\\buffered_iterator.py\u001b[0m in \u001b[0;36m__next__\u001b[1;34m(self)\u001b[0m\n\u001b[0;32m    115\u001b[0m         '''\n\u001b[0;32m    116\u001b[0m         \u001b[1;32mtry\u001b[0m\u001b[1;33m:\u001b[0m\u001b[1;33m\u001b[0m\u001b[1;33m\u001b[0m\u001b[0m\n\u001b[1;32m--> 117\u001b[1;33m             \u001b[0mnext_line\u001b[0m \u001b[1;33m=\u001b[0m \u001b[0mself\u001b[0m\u001b[1;33m.\u001b[0m\u001b[0mget_next_item\u001b[0m\u001b[1;33m(\u001b[0m\u001b[1;33m)\u001b[0m\u001b[1;33m\u001b[0m\u001b[1;33m\u001b[0m\u001b[0m\n\u001b[0m\u001b[0;32m    118\u001b[0m         \u001b[1;32mexcept\u001b[0m \u001b[0mBufferedIteratorEOF\u001b[0m \u001b[1;32mas\u001b[0m \u001b[0meof\u001b[0m\u001b[1;33m:\u001b[0m\u001b[1;33m\u001b[0m\u001b[1;33m\u001b[0m\u001b[0m\n\u001b[0;32m    119\u001b[0m             \u001b[1;32mraise\u001b[0m \u001b[0meof\u001b[0m\u001b[1;33m\u001b[0m\u001b[1;33m\u001b[0m\u001b[0m\n",
      "\u001b[1;32m~\\OneDrive - Queen's University\\Python\\Projects\\sectionary package\\src\\sectionary\\buffered_iterator.py\u001b[0m in \u001b[0;36mget_next_item\u001b[1;34m(self)\u001b[0m\n\u001b[0;32m     90\u001b[0m             \u001b[1;32mtry\u001b[0m\u001b[1;33m:\u001b[0m\u001b[1;33m\u001b[0m\u001b[1;33m\u001b[0m\u001b[0m\n\u001b[0;32m     91\u001b[0m                 \u001b[1;31m# Read from the iterator source\u001b[0m\u001b[1;33m\u001b[0m\u001b[1;33m\u001b[0m\u001b[1;33m\u001b[0m\u001b[0m\n\u001b[1;32m---> 92\u001b[1;33m                 \u001b[0mnext_item\u001b[0m \u001b[1;33m=\u001b[0m \u001b[0mself\u001b[0m\u001b[1;33m.\u001b[0m\u001b[0msource_gen\u001b[0m\u001b[1;33m.\u001b[0m\u001b[0m__next__\u001b[0m\u001b[1;33m(\u001b[0m\u001b[1;33m)\u001b[0m\u001b[1;33m\u001b[0m\u001b[1;33m\u001b[0m\u001b[0m\n\u001b[0m\u001b[0;32m     93\u001b[0m             \u001b[1;32mexcept\u001b[0m \u001b[1;33m(\u001b[0m\u001b[0mStopIteration\u001b[0m\u001b[1;33m,\u001b[0m \u001b[0mRuntimeError\u001b[0m\u001b[1;33m)\u001b[0m \u001b[1;32mas\u001b[0m \u001b[0meof\u001b[0m\u001b[1;33m:\u001b[0m\u001b[1;33m\u001b[0m\u001b[1;33m\u001b[0m\u001b[0m\n\u001b[0;32m     94\u001b[0m                 \u001b[1;31m# Treat \"StopIteration\" or \"RuntimeError\" exceptions as\u001b[0m\u001b[1;33m\u001b[0m\u001b[1;33m\u001b[0m\u001b[1;33m\u001b[0m\u001b[0m\n",
      "\u001b[1;32m~\\OneDrive - Queen's University\\Python\\Projects\\sectionary package\\src\\sectionary\\sections.py\u001b[0m in \u001b[0;36mread_subsections\u001b[1;34m(self, subsections, source, context)\u001b[0m\n\u001b[0;32m   2175\u001b[0m         \u001b[0msource_pointer\u001b[0m \u001b[1;33m=\u001b[0m \u001b[0mbuf_source\u001b[0m\u001b[1;33m.\u001b[0m\u001b[0mitem_count\u001b[0m\u001b[1;33m\u001b[0m\u001b[1;33m\u001b[0m\u001b[0m\n\u001b[0;32m   2176\u001b[0m         \u001b[0mlogger\u001b[0m\u001b[1;33m.\u001b[0m\u001b[0mdebug\u001b[0m\u001b[1;33m(\u001b[0m\u001b[1;34mf'Moving section source to item #{source_pointer}'\u001b[0m\u001b[1;33m)\u001b[0m\u001b[1;33m\u001b[0m\u001b[1;33m\u001b[0m\u001b[0m\n\u001b[1;32m-> 2177\u001b[1;33m         \u001b[0mself\u001b[0m\u001b[1;33m.\u001b[0m\u001b[0msource\u001b[0m\u001b[1;33m.\u001b[0m\u001b[0mgoto_item\u001b[0m\u001b[1;33m(\u001b[0m\u001b[0msource_pointer\u001b[0m\u001b[1;33m,\u001b[0m \u001b[0mbuffer_overrun\u001b[0m\u001b[1;33m=\u001b[0m\u001b[1;32mTrue\u001b[0m\u001b[1;33m)\u001b[0m\u001b[1;33m\u001b[0m\u001b[1;33m\u001b[0m\u001b[0m\n\u001b[0m\u001b[0;32m   2178\u001b[0m \u001b[1;33m\u001b[0m\u001b[0m\n\u001b[0;32m   2179\u001b[0m     \u001b[1;32mdef\u001b[0m \u001b[0mis_boundary\u001b[0m\u001b[1;33m(\u001b[0m\u001b[0mself\u001b[0m\u001b[1;33m,\u001b[0m \u001b[0mline\u001b[0m\u001b[1;33m:\u001b[0m \u001b[0mstr\u001b[0m\u001b[1;33m,\u001b[0m \u001b[0mbreak_triggers\u001b[0m\u001b[1;33m:\u001b[0m \u001b[0mList\u001b[0m\u001b[1;33m[\u001b[0m\u001b[0mSectionBreak\u001b[0m\u001b[1;33m]\u001b[0m\u001b[1;33m)\u001b[0m\u001b[1;33m->\u001b[0m\u001b[0mbool\u001b[0m\u001b[1;33m:\u001b[0m\u001b[1;33m\u001b[0m\u001b[1;33m\u001b[0m\u001b[0m\n",
      "\u001b[1;32m~\\OneDrive - Queen's University\\Python\\Projects\\sectionary package\\src\\sectionary\\buffered_iterator.py\u001b[0m in \u001b[0;36mgoto_item\u001b[1;34m(self, item_num, buffer_overrun)\u001b[0m\n\u001b[0;32m    386\u001b[0m                 \u001b[1;34mf'Requested item is {item_num}. '\u001b[0m\u001b[1;33m\u001b[0m\u001b[1;33m\u001b[0m\u001b[0m\n\u001b[0;32m    387\u001b[0m                 f'Moving backwards {steps} item(s).')\n\u001b[1;32m--> 388\u001b[1;33m             \u001b[0mself\u001b[0m\u001b[1;33m.\u001b[0m\u001b[0mbackup\u001b[0m\u001b[1;33m(\u001b[0m\u001b[0msteps\u001b[0m\u001b[1;33m)\u001b[0m\u001b[1;33m\u001b[0m\u001b[1;33m\u001b[0m\u001b[0m\n\u001b[0m\u001b[0;32m    389\u001b[0m \u001b[1;33m\u001b[0m\u001b[0m\n\u001b[0;32m    390\u001b[0m     def link(self, other: BufferedIterator,\n",
      "\u001b[1;32m~\\OneDrive - Queen's University\\Python\\Projects\\sectionary package\\src\\sectionary\\buffered_iterator.py\u001b[0m in \u001b[0;36mbackup\u001b[1;34m(self, steps)\u001b[0m\n\u001b[0;32m    252\u001b[0m             \u001b[1;32mNone\u001b[0m\u001b[1;33m.\u001b[0m\u001b[1;33m\u001b[0m\u001b[1;33m\u001b[0m\u001b[0m\n\u001b[0;32m    253\u001b[0m        '''\n\u001b[1;32m--> 254\u001b[1;33m         \u001b[0mself\u001b[0m\u001b[1;33m.\u001b[0m\u001b[0mstep_back\u001b[0m \u001b[1;33m=\u001b[0m \u001b[0msteps\u001b[0m\u001b[1;33m\u001b[0m\u001b[1;33m\u001b[0m\u001b[0m\n\u001b[0m\u001b[0;32m    255\u001b[0m         \u001b[0mself\u001b[0m\u001b[1;33m.\u001b[0m\u001b[0mrewind\u001b[0m\u001b[1;33m(\u001b[0m\u001b[1;33m)\u001b[0m\u001b[1;33m\u001b[0m\u001b[1;33m\u001b[0m\u001b[0m\n\u001b[0;32m    256\u001b[0m \u001b[1;33m\u001b[0m\u001b[0m\n",
      "\u001b[1;32m~\\OneDrive - Queen's University\\Python\\Projects\\sectionary package\\src\\sectionary\\buffered_iterator.py\u001b[0m in \u001b[0;36mstep_back\u001b[1;34m(self, steps)\u001b[0m\n\u001b[0;32m    219\u001b[0m         \u001b[0mlogger\u001b[0m\u001b[1;33m.\u001b[0m\u001b[0mdebug\u001b[0m\u001b[1;33m(\u001b[0m\u001b[1;34mf'Have {len(self.previous_items)} Previous Items'\u001b[0m\u001b[1;33m)\u001b[0m\u001b[1;33m\u001b[0m\u001b[1;33m\u001b[0m\u001b[0m\n\u001b[0;32m    220\u001b[0m         \u001b[0mlogger\u001b[0m\u001b[1;33m.\u001b[0m\u001b[0mdebug\u001b[0m\u001b[1;33m(\u001b[0m\u001b[1;34mf'Need {steps} Steps back'\u001b[0m\u001b[1;33m)\u001b[0m\u001b[1;33m\u001b[0m\u001b[1;33m\u001b[0m\u001b[0m\n\u001b[1;32m--> 221\u001b[1;33m         \u001b[0msteps\u001b[0m \u001b[1;33m=\u001b[0m \u001b[0mself\u001b[0m\u001b[1;33m.\u001b[0m\u001b[0mcheck_steps\u001b[0m\u001b[1;33m(\u001b[0m\u001b[0msteps\u001b[0m\u001b[1;33m)\u001b[0m\u001b[1;33m\u001b[0m\u001b[1;33m\u001b[0m\u001b[0m\n\u001b[0m\u001b[0;32m    222\u001b[0m         \u001b[0mself\u001b[0m\u001b[1;33m.\u001b[0m\u001b[0m_step_back\u001b[0m \u001b[1;33m=\u001b[0m \u001b[0msteps\u001b[0m\u001b[1;33m\u001b[0m\u001b[1;33m\u001b[0m\u001b[0m\n\u001b[0;32m    223\u001b[0m         \u001b[0mself\u001b[0m\u001b[1;33m.\u001b[0m\u001b[0mrewind\u001b[0m\u001b[1;33m(\u001b[0m\u001b[1;33m)\u001b[0m\u001b[1;33m\u001b[0m\u001b[1;33m\u001b[0m\u001b[0m\n",
      "\u001b[1;32m~\\OneDrive - Queen's University\\Python\\Projects\\sectionary package\\src\\sectionary\\buffered_iterator.py\u001b[0m in \u001b[0;36mcheck_steps\u001b[1;34m(self, steps, backwards, skip)\u001b[0m\n\u001b[0;32m    181\u001b[0m                        \u001b[1;34mf\"only have {len(self.previous_items)} previous items \"\u001b[0m\u001b[1;33m\u001b[0m\u001b[1;33m\u001b[0m\u001b[0m\n\u001b[0;32m    182\u001b[0m                         \"available.\")\n\u001b[1;32m--> 183\u001b[1;33m                 \u001b[1;32mraise\u001b[0m \u001b[0mBufferedIteratorValueError\u001b[0m\u001b[1;33m(\u001b[0m\u001b[0mmsg\u001b[0m\u001b[1;33m)\u001b[0m\u001b[1;33m\u001b[0m\u001b[1;33m\u001b[0m\u001b[0m\n\u001b[0m\u001b[0;32m    184\u001b[0m         \u001b[1;32melif\u001b[0m \u001b[1;32mnot\u001b[0m \u001b[0mskip\u001b[0m\u001b[1;33m:\u001b[0m\u001b[1;33m\u001b[0m\u001b[1;33m\u001b[0m\u001b[0m\n\u001b[0;32m    185\u001b[0m             \u001b[1;31m# Check that steps < buffer_size\u001b[0m\u001b[1;33m\u001b[0m\u001b[1;33m\u001b[0m\u001b[1;33m\u001b[0m\u001b[0m\n",
      "\u001b[1;31mBufferedIteratorValueError\u001b[0m: Can't step back 9 items.\n\tonly have 4 previous items available."
     ]
    }
   ],
   "source": [
    "three_part_section = Section(\n",
    "    section_name='Top Section',\n",
    "    end_section=SectionBreak('ignored', break_offset='Before'),\n",
    "    processor=[start_sub_section, middle_sub_section, end_sub_section]\n",
    "    )\n",
    "pprint(three_part_section.read(GENERIC_TEST_TEXT3))"
   ]
  },
  {
   "cell_type": "markdown",
   "metadata": {},
   "source": [
    "![Good](../examples/Valid.png) All 3 sections and subsections are completed. \n",
    "\n",
    "<table>\n",
    "    <thead><th>Expected</th><th>Actual</th></thead>\n",
    "    <tr>\n",
    "        <td><code>\n",
    "          [<br>\n",
    "            [\n",
    "              ['StartSection Name: A'],<br> \n",
    "              ['MiddleSection A'],<br> \n",
    "              ['EndSection Name: A']\n",
    "            ],<br>\n",
    "            [\n",
    "              ['StartSection Name: B'],<br> \n",
    "              ['MiddleSection A'],<br> \n",
    "              ['EndSection Name: B']\n",
    "            ]<br>\n",
    "            [\n",
    "              ['StartSection Name: C'],<br> \n",
    "              ['MiddleSection C'],<br> \n",
    "              ['EndSection Name: C']\n",
    "            ]<br>\n",
    "          ]\n",
    "        </code></td>\n",
    "        <td><code>\n",
    "          [<br>\n",
    "            [\n",
    "              ['StartSection Name: A'],<br> \n",
    "              ['MiddleSection A'],<br> \n",
    "              ['EndSection Name: A']\n",
    "            ],<br>\n",
    "            [\n",
    "              ['StartSection Name: B'],<br> \n",
    "              ['MiddleSection A'],<br> \n",
    "              ['EndSection Name: B']\n",
    "            ]<br>\n",
    "            [\n",
    "              ['StartSection Name: C'],<br> \n",
    "              ['MiddleSection C'],<br> \n",
    "              ['EndSection Name: C']\n",
    "            ]<br>\n",
    "          ]\n",
    "        </code></td></tr>\n",
    "</table>"
   ]
  },
  {
   "cell_type": "markdown",
   "metadata": {},
   "source": [
    "- Section start **Before** *StartSection*\n",
    "- Section end **After** *EndSection*\n",
    "\n",
    "```python\n",
    "sub_section = Section(section_name='SubSection')\n",
    "\n",
    "full_section = Section(section_name='Full',\n",
    "    start_section=SectionBreak('StartSection', break_offset='Before'),\n",
    "    end_section=SectionBreak('EndSection', break_offset='After'),\n",
    "    processor=[sub_section] \n",
    "    )\n",
    "```"
   ]
  },
  {
   "cell_type": "code",
   "execution_count": null,
   "metadata": {},
   "outputs": [],
   "source": [
    "sub_section = Section(\n",
    "    section_name='SubSection',\n",
    "    #start_section=SectionBreak('StartSection', break_offset='After')\n",
    "    #end_on_first_item=True,\n",
    "    #keep_partial=True,\n",
    "    #end_section=SectionBreak(True)\n",
    "    )\n",
    "\n",
    "full_section = Section(\n",
    "    section_name='Full',\n",
    "    start_section=SectionBreak('StartSection', break_offset='Before'),\n",
    "    end_section=SectionBreak('EndSection', break_offset='After'),\n",
    "    processor=[sub_section] \n",
    "    )\n",
    "\n",
    "pprint(full_section.read(GENERIC_TEST_TEXT3))"
   ]
  },
  {
   "cell_type": "markdown",
   "metadata": {},
   "source": [
    "![Good](../examples/Valid.png) First section and all 3 subsections are completed. \n",
    "\n",
    "<table>\n",
    "  <thead><th>Expected</th><th>Actual</th></thead>\n",
    "  <tr><td><code>\n",
    "    [[<br>\n",
    "    'StartSection Name: A',<br> \n",
    "    'MiddleSection A',<br> \n",
    "    'EndSection Name: A'<br>\n",
    "    ]]\n",
    "    </code></td>\n",
    "    <td><code>\n",
    "    [[<br>\n",
    "    'StartSection Name: A',<br> \n",
    "    'MiddleSection A',<br> \n",
    "    'EndSection Name: A'<br>\n",
    "    ]]\n",
    "  </code></td></tr>\n",
    "</table>"
   ]
  }
 ],
 "metadata": {
  "kernelspec": {
   "display_name": "Python 3.8.12 ('sectionaryDev')",
   "language": "python",
   "name": "python3"
  },
  "language_info": {
   "codemirror_mode": {
    "name": "ipython",
    "version": 3
   },
   "file_extension": ".py",
   "mimetype": "text/x-python",
   "name": "python",
   "nbconvert_exporter": "python",
   "pygments_lexer": "ipython3",
   "version": "3.8.15 (default, Nov 24 2022, 14:38:14) [MSC v.1916 64 bit (AMD64)]"
  },
  "orig_nbformat": 4,
  "vscode": {
   "interpreter": {
    "hash": "890849be4bb9b5be1d044afe42e602ccc6ca20da23c054ee97c8186ec3939c45"
   }
  }
 },
 "nbformat": 4,
 "nbformat_minor": 2
}
