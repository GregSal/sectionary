{
 "cells": [
  {
   "cell_type": "markdown",
   "metadata": {},
   "source": [
    "# Tests of Buffered Iterator `link` method"
   ]
  },
  {
   "cell_type": "markdown",
   "metadata": {},
   "source": [
    "### Imports"
   ]
  },
  {
   "cell_type": "code",
   "execution_count": 1,
   "metadata": {},
   "outputs": [],
   "source": [
    "from pprint import pprint\n",
    "import random\n",
    "from buffered_iterator import BufferedIterator, BufferedIteratorEOF\n",
    "from buffered_iterator import BufferedIteratorValueError\n"
   ]
  },
  {
   "cell_type": "markdown",
   "metadata": {},
   "source": [
    "### Logging"
   ]
  },
  {
   "cell_type": "code",
   "execution_count": 2,
   "metadata": {},
   "outputs": [],
   "source": [
    "import logging\n",
    "logging.basicConfig(format='%(name)-20s - %(levelname)s: %(message)s')\n",
    "#logging.basicConfig(level=logging.DEBUG)\n",
    "logger = logging.getLogger('Line Count Tests')\n",
    "#logger.setLevel(logging.DEBUG)\n",
    "logger.setLevel(logging.INFO)\n"
   ]
  },
  {
   "cell_type": "markdown",
   "metadata": {},
   "source": [
    "### Basic Parameters"
   ]
  },
  {
   "cell_type": "code",
   "execution_count": 3,
   "metadata": {},
   "outputs": [],
   "source": [
    "buffer_size = 5\n",
    "num_items = 15\n"
   ]
  },
  {
   "cell_type": "markdown",
   "metadata": {},
   "source": [
    "### Display Functions"
   ]
  },
  {
   "cell_type": "code",
   "execution_count": 4,
   "metadata": {},
   "outputs": [],
   "source": [
    "def buffered_iterator_compare(iter1, iter2, \n",
    "                              label1='From Iterator', label2='To Iterator'):\n",
    "    \n",
    "    row_template = ''.join([\n",
    "        '\\t{Label:<20s}',\n",
    "        '{first_iter_item:<30s}',\n",
    "        '{second_iter_item:<30s}\\n'\n",
    "        ])\n",
    "\n",
    "    iterator_compare_str = ''.join([\n",
    "        row_template.format(Label='', \n",
    "                            first_iter_item=label1, \n",
    "                            second_iter_item=label2),\n",
    "        row_template.format(Label='Previous Items', \n",
    "                            first_iter_item=str(list(iter1.previous_items)),\n",
    "                            second_iter_item=str(list(iter2.previous_items))),\n",
    "        row_template.format(Label='Future Items', \n",
    "                            first_iter_item=str(list(iter1.future_items)),\n",
    "                            second_iter_item=str(list(iter2.future_items))),\n",
    "        row_template.format(Label='Item Count', \n",
    "                            first_iter_item=str(iter1.item_count),\n",
    "                            second_iter_item=str(iter2.item_count)),\n",
    "        row_template.format(Label='Step Back', \n",
    "                            first_iter_item=str(iter1._step_back),\n",
    "                            second_iter_item=str(iter2._step_back)),\n",
    "        row_template.format(Label='Buffer Size', \n",
    "                            first_iter_item=str(iter1.buffer_size),\n",
    "                            second_iter_item=str(iter2.buffer_size))\n",
    "        ])\n",
    "    \n",
    "    return iterator_compare_str"
   ]
  },
  {
   "cell_type": "markdown",
   "metadata": {},
   "source": [
    "## Tests"
   ]
  },
  {
   "cell_type": "markdown",
   "metadata": {},
   "source": [
    "### Validate minimum bluffer size is 1"
   ]
  },
  {
   "cell_type": "code",
   "execution_count": 5,
   "metadata": {},
   "outputs": [
    {
     "name": "stdout",
     "output_type": "stream",
     "text": [
      "pass\n"
     ]
    }
   ],
   "source": [
    "try:\n",
    "    test_iter = BufferedIterator(range(5), buffer_size=0)\n",
    "except BufferedIteratorValueError: \n",
    "    print('pass')"
   ]
  },
  {
   "cell_type": "markdown",
   "metadata": {},
   "source": [
    "### BufferedIterator Conditions\n",
    "- Two BufferedIterators\n",
    "    - __From__ BufferedIterator\n",
    "    - __To__ BufferedIterator\n",
    "<br>\n",
    "- Buffer Status (Previous & Future)\n",
    "    - empty\n",
    "    - full\n",
    "    - partial\n",
    "<br>\n",
    "- Iterator Status\n",
    "    - Not started\n",
    "    - In progress\n",
    "    - Closed\n",
    "<br>\n",
    "- Buffer Size\n",
    "    - Same\n",
    "    - Target larger\n",
    "    - Target smaller \n",
    "\t\t\n"
   ]
  },
  {
   "cell_type": "markdown",
   "metadata": {},
   "source": [
    "#### deque copying "
   ]
  },
  {
   "cell_type": "markdown",
   "metadata": {},
   "source": [
    "|Condition|From BufferedIterator|To BufferedIterator|\n",
    "|---------|---------------------|-------------------|\n",
    "|previous deque|full|full|\n",
    "|future deque|empty|empty|\n",
    "|iterator status|in progress|in progress|\n",
    "|buffer size|Same|Same| "
   ]
  },
  {
   "cell_type": "code",
   "execution_count": 6,
   "metadata": {},
   "outputs": [
    {
     "name": "stdout",
     "output_type": "stream",
     "text": [
      "\t                    From Iterator                 To Iterator                   \n",
      "\tPrevious Items      [7, 8, 9, 10, 11]             [17, 18, 19, 20, 21]          \n",
      "\tFuture Items        []                            []                            \n",
      "\tItem Count          12                            6                             \n",
      "\tStep Back           0                             0                             \n",
      "\tBuffer Size         5                             5                             \n",
      "\n",
      "\t                    From Iterator                 To Iterator                   \n",
      "\tPrevious Items      [7, 8, 9, 10, 11]             [7, 8, 9, 10, 11]             \n",
      "\tFuture Items        []                            []                            \n",
      "\tItem Count          12                            12                            \n",
      "\tStep Back           0                             0                             \n",
      "\tBuffer Size         5                             5                             \n",
      "\n"
     ]
    },
    {
     "data": {
      "text/plain": [
       "True"
      ]
     },
     "execution_count": 6,
     "metadata": {},
     "output_type": "execute_result"
    }
   ],
   "source": [
    "from_iter = BufferedIterator((i for i in range(num_items)), \n",
    "                              buffer_size=buffer_size)\n",
    "\n",
    "to_iter = BufferedIterator((i for i in range(num_items+1, num_items*2)), \n",
    "                              buffer_size=buffer_size)\n",
    "\n",
    "for i in range(buffer_size+1):\n",
    "    next(from_iter)\n",
    "    next(to_iter)\n",
    "    \n",
    "for i in range(buffer_size+1):\n",
    "    next(from_iter)\n",
    "\n",
    "print(buffered_iterator_compare(from_iter, to_iter))\n",
    "\n",
    "to_iter.link(from_iter)\n",
    "print(buffered_iterator_compare(from_iter, to_iter))\n",
    "\n",
    "from_iter.previous_items == to_iter.previous_items\n",
    "from_iter.future_items == to_iter.future_items "
   ]
  },
  {
   "cell_type": "markdown",
   "metadata": {},
   "source": [
    "\n",
    "|Condition|From BufferedIterator |To BufferedIterator|\n",
    "|---------|---------------------|-------------------|\n",
    "|previous deque|empty|empty|\n",
    "|future deque|full |full |\n",
    "|iterator status |in progress |in progress |\n",
    "|buffer size |Same|Same |\n",
    "#\n"
   ]
  },
  {
   "cell_type": "code",
   "execution_count": 7,
   "metadata": {},
   "outputs": [
    {
     "name": "stdout",
     "output_type": "stream",
     "text": [
      "\t                    From Iterator                 To Iterator                   \n",
      "\tPrevious Items      []                            []                            \n",
      "\tFuture Items        [1, 2, 3, 4, 5]               [17, 18, 19, 20, 21]          \n",
      "\tItem Count          1                             1                             \n",
      "\tStep Back           0                             0                             \n",
      "\tBuffer Size         5                             5                             \n",
      "\n",
      "\t                    From Iterator                 To Iterator                   \n",
      "\tPrevious Items      []                            []                            \n",
      "\tFuture Items        [1, 2, 3, 4, 5]               []                            \n",
      "\tItem Count          1                             1                             \n",
      "\tStep Back           0                             0                             \n",
      "\tBuffer Size         5                             5                             \n",
      "\n"
     ]
    },
    {
     "data": {
      "text/plain": [
       "False"
      ]
     },
     "execution_count": 7,
     "metadata": {},
     "output_type": "execute_result"
    }
   ],
   "source": [
    "from_iter = BufferedIterator((i for i in range(num_items)), \n",
    "                              buffer_size=buffer_size)\n",
    "\n",
    "to_iter = BufferedIterator((i for i in range(num_items+1, num_items*2)), \n",
    "                              buffer_size=buffer_size)\n",
    "\n",
    "for i in range(buffer_size + 1):\n",
    "    next(from_iter)\n",
    "    next(to_iter)\n",
    "from_iter.backup(buffer_size)\n",
    "to_iter.backup(buffer_size)\n",
    "\n",
    "print(buffered_iterator_compare(from_iter, to_iter))\n",
    "\n",
    "to_iter.link(from_iter)\n",
    "print(buffered_iterator_compare(from_iter, to_iter))\n",
    "\n",
    "from_iter.previous_items == to_iter.previous_items\n",
    "from_iter.future_items == to_iter.future_items "
   ]
  },
  {
   "cell_type": "code",
   "execution_count": 8,
   "metadata": {},
   "outputs": [
    {
     "name": "stdout",
     "output_type": "stream",
     "text": [
      "\t                    From Iterator                 To Iterator                   \n",
      "\tPrevious Items      []                            []                            \n",
      "\tFuture Items        [1, 2, 3, 4, 5]               [17, 18, 19, 20, 21]          \n",
      "\tItem Count          1                             1                             \n",
      "\tStep Back           0                             0                             \n",
      "\tBuffer Size         5                             5                             \n",
      "\n",
      "\t                    From Iterator                 To Iterator                   \n",
      "\tPrevious Items      []                            []                            \n",
      "\tFuture Items        [1, 2, 3, 4, 5]               [1, 2, 3, 4, 5]               \n",
      "\tItem Count          1                             1                             \n",
      "\tStep Back           0                             0                             \n",
      "\tBuffer Size         5                             5                             \n",
      "\n"
     ]
    },
    {
     "data": {
      "text/plain": [
       "True"
      ]
     },
     "execution_count": 8,
     "metadata": {},
     "output_type": "execute_result"
    }
   ],
   "source": [
    "from_iter = BufferedIterator((i for i in range(num_items)), \n",
    "                              buffer_size=buffer_size)\n",
    "\n",
    "to_iter = BufferedIterator((i for i in range(num_items+1, num_items*2)), \n",
    "                              buffer_size=buffer_size)\n",
    "\n",
    "for i in range(buffer_size + 1):\n",
    "    next(from_iter)\n",
    "    next(to_iter)\n",
    "from_iter.backup(buffer_size)\n",
    "to_iter.backup(buffer_size)\n",
    "\n",
    "print(buffered_iterator_compare(from_iter, to_iter))\n",
    "\n",
    "to_iter.link(from_iter, include_future_items=True)\n",
    "print(buffered_iterator_compare(from_iter, to_iter))\n",
    "\n",
    "from_iter.previous_items == to_iter.previous_items\n",
    "from_iter.future_items == to_iter.future_items "
   ]
  },
  {
   "cell_type": "markdown",
   "metadata": {},
   "source": [
    "\n",
    "|Condition|From BufferedIterator |To BufferedIterator|\n",
    "|---------|---------------------|-------------------|\n",
    "|previous deque|empty|full|\n",
    "|future deque|empty |empty |\n",
    "|iterator status |in progress |in progress |\n",
    "|buffer size |Same|Same|\t\n"
   ]
  },
  {
   "cell_type": "code",
   "execution_count": 9,
   "metadata": {},
   "outputs": [
    {
     "name": "stdout",
     "output_type": "stream",
     "text": [
      "\t                    From Iterator                 To Iterator                   \n",
      "\tPrevious Items      []                            [17, 18, 19, 20, 21]          \n",
      "\tFuture Items        []                            []                            \n",
      "\tItem Count          0                             6                             \n",
      "\tStep Back           0                             0                             \n",
      "\tBuffer Size         5                             5                             \n",
      "\n",
      "\t                    From Iterator                 To Iterator                   \n",
      "\tPrevious Items      []                            []                            \n",
      "\tFuture Items        []                            []                            \n",
      "\tItem Count          0                             0                             \n",
      "\tStep Back           0                             0                             \n",
      "\tBuffer Size         5                             5                             \n",
      "\n"
     ]
    },
    {
     "data": {
      "text/plain": [
       "True"
      ]
     },
     "execution_count": 9,
     "metadata": {},
     "output_type": "execute_result"
    }
   ],
   "source": [
    "from_iter = BufferedIterator((i for i in range(num_items)), \n",
    "                              buffer_size=buffer_size)\n",
    "\n",
    "to_iter = BufferedIterator((i for i in range(num_items+1, num_items*2)), \n",
    "                              buffer_size=buffer_size)\n",
    "\n",
    "for i in range(buffer_size + 1):\n",
    "    next(to_iter)\n",
    "\n",
    "print(buffered_iterator_compare(from_iter, to_iter))\n",
    "\n",
    "\n",
    "to_iter.link(from_iter)\n",
    "print(buffered_iterator_compare(from_iter, to_iter))\n",
    "\n",
    "from_iter.previous_items == to_iter.previous_items\n",
    "from_iter.future_items == to_iter.future_items "
   ]
  },
  {
   "cell_type": "markdown",
   "metadata": {},
   "source": [
    "\n",
    "|Condition|From BufferedIterator |To BufferedIterator|\n",
    "|---------|---------------------|-------------------|\n",
    "|previous deque|empty|empty|\n",
    "|future deque|empty |full |\n",
    "|iterator status |in progress |in progress |\n",
    "|buffer size |Same|Same|\t\n"
   ]
  },
  {
   "cell_type": "code",
   "execution_count": 10,
   "metadata": {},
   "outputs": [
    {
     "name": "stdout",
     "output_type": "stream",
     "text": [
      "\t                    From Iterator                 To Iterator                   \n",
      "\tPrevious Items      []                            []                            \n",
      "\tFuture Items        []                            [17, 18, 19, 20, 21]          \n",
      "\tItem Count          0                             1                             \n",
      "\tStep Back           0                             0                             \n",
      "\tBuffer Size         5                             5                             \n",
      "\n",
      "\t                    From Iterator                 To Iterator                   \n",
      "\tPrevious Items      []                            []                            \n",
      "\tFuture Items        []                            []                            \n",
      "\tItem Count          0                             0                             \n",
      "\tStep Back           0                             0                             \n",
      "\tBuffer Size         5                             5                             \n",
      "\n"
     ]
    },
    {
     "data": {
      "text/plain": [
       "True"
      ]
     },
     "execution_count": 10,
     "metadata": {},
     "output_type": "execute_result"
    }
   ],
   "source": [
    "from_iter = BufferedIterator((i for i in range(num_items)), \n",
    "                              buffer_size=buffer_size)\n",
    "\n",
    "to_iter = BufferedIterator((i for i in range(num_items+1, num_items*2)), \n",
    "                              buffer_size=buffer_size)\n",
    "\n",
    "for i in range(buffer_size + 1):\n",
    "    next(to_iter)\n",
    "to_iter.backup(buffer_size)\n",
    "\n",
    "print(buffered_iterator_compare(from_iter, to_iter))\n",
    "\n",
    "to_iter.link(from_iter)\n",
    "print(buffered_iterator_compare(from_iter, to_iter))\n",
    "\n",
    "from_iter.previous_items == to_iter.previous_items\n",
    "from_iter.future_items == to_iter.future_items "
   ]
  },
  {
   "cell_type": "markdown",
   "metadata": {},
   "source": [
    "\n",
    "|Condition|From BufferedIterator |To BufferedIterator|\n",
    "|---------|---------------------|-------------------|\n",
    "|previous deque|empty|full|\n",
    "|future deque|full |empty |\n",
    "|iterator status |in progress |in progress |\n",
    "|buffer size |Same|Same|\t\n"
   ]
  },
  {
   "cell_type": "code",
   "execution_count": 11,
   "metadata": {},
   "outputs": [
    {
     "name": "stdout",
     "output_type": "stream",
     "text": [
      "\t                    From Iterator                 To Iterator                   \n",
      "\tPrevious Items      []                            [17, 18, 19, 20, 21]          \n",
      "\tFuture Items        [1, 2, 3, 4, 5]               []                            \n",
      "\tItem Count          1                             6                             \n",
      "\tStep Back           0                             0                             \n",
      "\tBuffer Size         5                             5                             \n",
      "\n",
      "\t                    From Iterator                 To Iterator                   \n",
      "\tPrevious Items      []                            []                            \n",
      "\tFuture Items        [1, 2, 3, 4, 5]               []                            \n",
      "\tItem Count          1                             1                             \n",
      "\tStep Back           0                             0                             \n",
      "\tBuffer Size         5                             5                             \n",
      "\n"
     ]
    },
    {
     "data": {
      "text/plain": [
       "False"
      ]
     },
     "execution_count": 11,
     "metadata": {},
     "output_type": "execute_result"
    }
   ],
   "source": [
    "from_iter = BufferedIterator((i for i in range(num_items)), \n",
    "                              buffer_size=buffer_size)\n",
    "\n",
    "to_iter = BufferedIterator((i for i in range(num_items+1, num_items*2)), \n",
    "                              buffer_size=buffer_size)\n",
    "\n",
    "for i in range(buffer_size + 1):\n",
    "    next(from_iter)\n",
    "    next(to_iter)\n",
    "from_iter.backup(buffer_size)\n",
    "\n",
    "print(buffered_iterator_compare(from_iter, to_iter))\n",
    "\n",
    "to_iter.link(from_iter)\n",
    "print(buffered_iterator_compare(from_iter, to_iter))\n",
    "\n",
    "from_iter.previous_items == to_iter.previous_items\n",
    "from_iter.future_items == to_iter.future_items "
   ]
  },
  {
   "cell_type": "markdown",
   "metadata": {},
   "source": [
    "#### partial deque"
   ]
  },
  {
   "cell_type": "markdown",
   "metadata": {},
   "source": [
    "|Condition|From BufferedIterator|To BufferedIterator|\n",
    "|---------|---------------------|-------------------|\n",
    "|previous deque|partial|empty|\n",
    "|future deque|partial|empty|\n",
    "|iterator status|in progress|in progress|\n",
    "|buffer size|Same|Same| "
   ]
  },
  {
   "cell_type": "code",
   "execution_count": 12,
   "metadata": {},
   "outputs": [
    {
     "name": "stdout",
     "output_type": "stream",
     "text": [
      "\t                    From Iterator                 To Iterator                   \n",
      "\tPrevious Items      [0, 1]                        []                            \n",
      "\tFuture Items        [2, 3]                        []                            \n",
      "\tItem Count          2                             0                             \n",
      "\tStep Back           0                             0                             \n",
      "\tBuffer Size         5                             5                             \n",
      "\n",
      "\t                    From Iterator                 To Iterator                   \n",
      "\tPrevious Items      [0, 1]                        [0, 1]                        \n",
      "\tFuture Items        [2, 3]                        []                            \n",
      "\tItem Count          2                             2                             \n",
      "\tStep Back           0                             0                             \n",
      "\tBuffer Size         5                             5                             \n",
      "\n"
     ]
    },
    {
     "data": {
      "text/plain": [
       "False"
      ]
     },
     "execution_count": 12,
     "metadata": {},
     "output_type": "execute_result"
    }
   ],
   "source": [
    "from_iter = BufferedIterator((i for i in range(num_items)), \n",
    "                              buffer_size=buffer_size)\n",
    "\n",
    "to_iter = BufferedIterator((i for i in range(num_items+1, num_items*2)), \n",
    "                              buffer_size=buffer_size)\n",
    "\n",
    "fwd_count = random.randint(2, buffer_size-1)\n",
    "back_count = random.randint(1, fwd_count-1)\n",
    "\n",
    "for i in range(fwd_count):\n",
    "    next(from_iter)\n",
    "from_iter.backup(back_count)\n",
    "\n",
    "print(buffered_iterator_compare(from_iter, to_iter))\n",
    "\n",
    "to_iter.link(from_iter)\n",
    "print(buffered_iterator_compare(from_iter, to_iter))\n",
    "\n",
    "from_iter.previous_items == to_iter.previous_items\n",
    "from_iter.future_items == to_iter.future_items "
   ]
  },
  {
   "cell_type": "markdown",
   "metadata": {},
   "source": [
    "\n",
    "|Condition|From BufferedIterator|To BufferedIterator|\n",
    "|---------|---------------------|-------------------|\n",
    "|previous deque|partial|partial|\n",
    "|future deque|partial|partial|\n",
    "|iterator status|in progress|in progress|\n",
    "|buffer size|Same|Same| "
   ]
  },
  {
   "cell_type": "code",
   "execution_count": 13,
   "metadata": {},
   "outputs": [
    {
     "name": "stdout",
     "output_type": "stream",
     "text": [
      "\t                    From Iterator                 To Iterator                   \n",
      "\tPrevious Items      [0, 1]                        [16, 17]                      \n",
      "\tFuture Items        [2, 3]                        [18, 19]                      \n",
      "\tItem Count          2                             2                             \n",
      "\tStep Back           0                             0                             \n",
      "\tBuffer Size         5                             5                             \n",
      "\n",
      "\t                    From Iterator                 To Iterator                   \n",
      "\tPrevious Items      [0, 1]                        [0, 1]                        \n",
      "\tFuture Items        [2, 3]                        []                            \n",
      "\tItem Count          2                             2                             \n",
      "\tStep Back           0                             0                             \n",
      "\tBuffer Size         5                             5                             \n",
      "\n"
     ]
    },
    {
     "data": {
      "text/plain": [
       "False"
      ]
     },
     "execution_count": 13,
     "metadata": {},
     "output_type": "execute_result"
    }
   ],
   "source": [
    "from_iter = BufferedIterator((i for i in range(num_items)), \n",
    "                              buffer_size=buffer_size)\n",
    "\n",
    "to_iter = BufferedIterator((i for i in range(num_items+1, num_items*2)), \n",
    "                              buffer_size=buffer_size)\n",
    "\n",
    "fwd_count = random.randint(2, buffer_size-1)\n",
    "back_count = random.randint(1, fwd_count-1)\n",
    "\n",
    "for i in range(fwd_count):\n",
    "    next(from_iter)\n",
    "    next(to_iter)\n",
    "from_iter.backup(back_count)\n",
    "to_iter.backup(back_count)\n",
    "\n",
    "print(buffered_iterator_compare(from_iter, to_iter))\n",
    "\n",
    "to_iter.link(from_iter)\n",
    "print(buffered_iterator_compare(from_iter, to_iter))\n",
    "\n",
    "from_iter.previous_items == to_iter.previous_items\n",
    "from_iter.future_items == to_iter.future_items "
   ]
  },
  {
   "cell_type": "markdown",
   "metadata": {},
   "source": [
    "\n",
    "|Condition|From BufferedIterator |To BufferedIterator|\n",
    "|---------|---------------------|-------------------|\n",
    "|previous deque|partial|full|\n",
    "|future deque|partial |full |\n",
    "|iterator status |in progress |in progress |\n",
    "|buffer size |Same |Same |\n"
   ]
  },
  {
   "cell_type": "code",
   "execution_count": 14,
   "metadata": {},
   "outputs": [
    {
     "name": "stdout",
     "output_type": "stream",
     "text": [
      "\t                    From Iterator                 To Iterator                   \n",
      "\tPrevious Items      [0, 1]                        []                            \n",
      "\tFuture Items        [2]                           [17, 18, 19, 20, 21]          \n",
      "\tItem Count          2                             1                             \n",
      "\tStep Back           0                             0                             \n",
      "\tBuffer Size         5                             5                             \n",
      "\n",
      "\t                    From Iterator                 To Iterator                   \n",
      "\tPrevious Items      [0, 1]                        [0, 1]                        \n",
      "\tFuture Items        [2]                           []                            \n",
      "\tItem Count          2                             2                             \n",
      "\tStep Back           0                             0                             \n",
      "\tBuffer Size         5                             5                             \n",
      "\n"
     ]
    },
    {
     "data": {
      "text/plain": [
       "False"
      ]
     },
     "execution_count": 14,
     "metadata": {},
     "output_type": "execute_result"
    }
   ],
   "source": [
    "from_iter = BufferedIterator((i for i in range(num_items)), \n",
    "                              buffer_size=buffer_size)\n",
    "\n",
    "to_iter = BufferedIterator((i for i in range(num_items+1, num_items*2)), \n",
    "                              buffer_size=buffer_size)\n",
    "\n",
    "fwd_count = random.randint(2, buffer_size-1)\n",
    "back_count = random.randint(1, fwd_count-1)\n",
    "\n",
    "for i in range(fwd_count):\n",
    "    next(from_iter)\n",
    "from_iter.backup(back_count)\n",
    "\n",
    "for i in range(buffer_size + 1):\n",
    "    next(to_iter)\n",
    "to_iter.backup(buffer_size)\n",
    "\n",
    "print(buffered_iterator_compare(from_iter, to_iter))\n",
    "\n",
    "to_iter.link(from_iter)\n",
    "print(buffered_iterator_compare(from_iter, to_iter))\n",
    "\n",
    "from_iter.previous_items == to_iter.previous_items\n",
    "from_iter.future_items == to_iter.future_items "
   ]
  },
  {
   "cell_type": "markdown",
   "metadata": {},
   "source": [
    "#### _Different Buffer Size_\n",
    "\t\t\n",
    "|Condition|From BufferedIterator|To BufferedIterator|\n",
    "|---------|---------------------|-------------------|\n",
    "|previous deque|full|full|\n",
    "|future deque|empty|empty|\n",
    "|iterator status|in progress|in progress|\n",
    "|buffer size||Target larger| "
   ]
  },
  {
   "cell_type": "code",
   "execution_count": 15,
   "metadata": {},
   "outputs": [
    {
     "name": "stdout",
     "output_type": "stream",
     "text": [
      "\t                    From Iterator                 To Iterator                   \n",
      "\tPrevious Items      [1, 2, 3]                     [11, 12, 13, 14, 15]          \n",
      "\tFuture Items        []                            []                            \n",
      "\tItem Count          4                             6                             \n",
      "\tStep Back           0                             0                             \n",
      "\tBuffer Size         3                             5                             \n",
      "\n",
      "\t                    From Iterator                 To Iterator                   \n",
      "\tPrevious Items      [1, 2, 3]                     [1, 2, 3]                     \n",
      "\tFuture Items        []                            []                            \n",
      "\tItem Count          4                             4                             \n",
      "\tStep Back           0                             0                             \n",
      "\tBuffer Size         3                             5                             \n",
      "\n"
     ]
    },
    {
     "data": {
      "text/plain": [
       "True"
      ]
     },
     "execution_count": 15,
     "metadata": {},
     "output_type": "execute_result"
    }
   ],
   "source": [
    "num_items = 9\n",
    "buffer_size_from = 3\n",
    "buffer_size_to = 5\n",
    "\n",
    "from_iter = BufferedIterator((i for i in range(num_items)), \n",
    "                              buffer_size=buffer_size_from)\n",
    "\n",
    "to_iter = BufferedIterator((i for i in range(num_items+1, num_items*2)), \n",
    "                              buffer_size=buffer_size_to)\n",
    "\n",
    "fwd_count_from = buffer_size_from + 1\n",
    "\n",
    "for i in range(fwd_count_from):\n",
    "    next(from_iter)\n",
    "\n",
    "fwd_count_to = buffer_size_to + 1\n",
    "\n",
    "for i in range(buffer_size_to + 1):\n",
    "    next(to_iter)\n",
    "\n",
    "print(buffered_iterator_compare(from_iter, to_iter))\n",
    "\n",
    "to_iter.link(from_iter)\n",
    "print(buffered_iterator_compare(from_iter, to_iter))\n",
    "\n",
    "from_iter.previous_items == to_iter.previous_items\n",
    "from_iter.future_items == to_iter.future_items "
   ]
  },
  {
   "cell_type": "markdown",
   "metadata": {},
   "source": [
    "|Condition|From BufferedIterator |To BufferedIterator|\n",
    "|---------|---------------------|-------------------|\n",
    "|previous deque|full |full |\n",
    "|future deque|empty|empty|\n",
    "|iterator status |in progress |in progress |\n",
    "|buffer size ||Target smaller|Target smaller|\n",
    "\n",
    "**Note:** Since buffer sizes are different the _TO_ Previous Items will only contain the last _n_ items from `from_iter` , where _n_ is `buffer_size_to`."
   ]
  },
  {
   "cell_type": "code",
   "execution_count": 16,
   "metadata": {},
   "outputs": [
    {
     "name": "stdout",
     "output_type": "stream",
     "text": [
      "\t                    From Iterator                 To Iterator                   \n",
      "\tPrevious Items      [1, 2, 3, 4, 5]               [11, 12, 13]                  \n",
      "\tFuture Items        []                            []                            \n",
      "\tItem Count          6                             4                             \n",
      "\tStep Back           0                             0                             \n",
      "\tBuffer Size         5                             3                             \n",
      "\n",
      "\t                    From Iterator                 To Iterator                   \n",
      "\tPrevious Items      [1, 2, 3, 4, 5]               [3, 4, 5]                     \n",
      "\tFuture Items        []                            []                            \n",
      "\tItem Count          6                             6                             \n",
      "\tStep Back           0                             0                             \n",
      "\tBuffer Size         5                             3                             \n",
      "\n"
     ]
    },
    {
     "data": {
      "text/plain": [
       "True"
      ]
     },
     "execution_count": 16,
     "metadata": {},
     "output_type": "execute_result"
    }
   ],
   "source": [
    "num_items = 9\n",
    "buffer_size_from = 5\n",
    "buffer_size_to = 3\n",
    "\n",
    "from_iter = BufferedIterator((i for i in range(num_items)), \n",
    "                              buffer_size=buffer_size_from)\n",
    "\n",
    "to_iter = BufferedIterator((i for i in range(num_items+1, num_items*2)), \n",
    "                              buffer_size=buffer_size_to)\n",
    "\n",
    "fwd_count_from = buffer_size_from + 1\n",
    "\n",
    "for i in range(fwd_count_from):\n",
    "    next(from_iter)\n",
    "\n",
    "fwd_count_to = buffer_size_to + 1\n",
    "\n",
    "for i in range(buffer_size_to + 1):\n",
    "    next(to_iter)\n",
    "\n",
    "print(buffered_iterator_compare(from_iter, to_iter))\n",
    "\n",
    "to_iter.link(from_iter)\n",
    "print(buffered_iterator_compare(from_iter, to_iter))\n",
    "\n",
    "list(from_iter.previous_items)[-buffer_size_to:] == list(to_iter.previous_items)\n",
    "#from_iter.future_items == to_iter.future_items "
   ]
  },
  {
   "cell_type": "markdown",
   "metadata": {},
   "source": [
    "|Condition|From BufferedIterator |To BufferedIterator|\n",
    "|---------|---------------------|-------------------|\n",
    "|previous deque|empty|empty|\n",
    "|future deque|full |full |\n",
    "|iterator status |in progress |in progress |\n",
    "|buffer size ||Target larger||"
   ]
  },
  {
   "cell_type": "code",
   "execution_count": 17,
   "metadata": {},
   "outputs": [
    {
     "name": "stdout",
     "output_type": "stream",
     "text": [
      "\t                    From Iterator                 To Iterator                   \n",
      "\tPrevious Items      []                            []                            \n",
      "\tFuture Items        [1, 2, 3]                     [11, 12, 13, 14, 15]          \n",
      "\tItem Count          1                             1                             \n",
      "\tStep Back           0                             0                             \n",
      "\tBuffer Size         3                             5                             \n",
      "\n",
      "\t                    From Iterator                 To Iterator                   \n",
      "\tPrevious Items      []                            []                            \n",
      "\tFuture Items        [1, 2, 3]                     []                            \n",
      "\tItem Count          1                             1                             \n",
      "\tStep Back           0                             0                             \n",
      "\tBuffer Size         3                             5                             \n",
      "\n"
     ]
    },
    {
     "data": {
      "text/plain": [
       "False"
      ]
     },
     "execution_count": 17,
     "metadata": {},
     "output_type": "execute_result"
    }
   ],
   "source": [
    "num_items = 9\n",
    "buffer_size_from = 3\n",
    "buffer_size_to = 5\n",
    "from_iter = BufferedIterator((i for i in range(num_items)), \n",
    "                              buffer_size=buffer_size_from)\n",
    "\n",
    "to_iter = BufferedIterator((i for i in range(num_items+1, num_items*2)), \n",
    "                              buffer_size=buffer_size_to)\n",
    "\n",
    "fwd_count_from = buffer_size_from + 1\n",
    "back_count_from = buffer_size_from\n",
    "\n",
    "for i in range(fwd_count_from):\n",
    "    next(from_iter)\n",
    "from_iter.backup(back_count_from)\n",
    "\n",
    "fwd_count_to = buffer_size_to + 1\n",
    "back_count_to = buffer_size_to\n",
    "\n",
    "for i in range(buffer_size_to + 1):\n",
    "    next(to_iter)\n",
    "to_iter.backup(buffer_size_to)\n",
    "\n",
    "print(buffered_iterator_compare(from_iter, to_iter))\n",
    "\n",
    "to_iter.link(from_iter)\n",
    "print(buffered_iterator_compare(from_iter, to_iter))\n",
    "\n",
    "from_iter.previous_items == to_iter.previous_items\n",
    "from_iter.future_items == to_iter.future_items "
   ]
  },
  {
   "cell_type": "markdown",
   "metadata": {},
   "source": [
    "|Condition|From BufferedIterator |To BufferedIterator|\n",
    "|---------|---------------------|-------------------|\n",
    "|previous deque|empty|empty|\n",
    "|future deque|full |full |\n",
    "|iterator status |in progress |in progress |\n",
    "|buffer size ||Target smaller|Target smaller|\n",
    "\n",
    "**Note:** Since buffer sizes are different the _TO_ Previous Items will only contain the last _n_ items from `from_iter` , where _n_ is `buffer_size_to`."
   ]
  },
  {
   "cell_type": "code",
   "execution_count": 18,
   "metadata": {},
   "outputs": [
    {
     "name": "stdout",
     "output_type": "stream",
     "text": [
      "\t                    From Iterator                 To Iterator                   \n",
      "\tPrevious Items      []                            []                            \n",
      "\tFuture Items        [1, 2, 3, 4, 5]               [11, 12, 13]                  \n",
      "\tItem Count          1                             1                             \n",
      "\tStep Back           0                             0                             \n",
      "\tBuffer Size         5                             3                             \n",
      "\n",
      "\t                    From Iterator                 To Iterator                   \n",
      "\tPrevious Items      []                            []                            \n",
      "\tFuture Items        [1, 2, 3, 4, 5]               []                            \n",
      "\tItem Count          1                             1                             \n",
      "\tStep Back           0                             0                             \n",
      "\tBuffer Size         5                             3                             \n",
      "\n"
     ]
    },
    {
     "data": {
      "text/plain": [
       "False"
      ]
     },
     "execution_count": 18,
     "metadata": {},
     "output_type": "execute_result"
    }
   ],
   "source": [
    "num_items = 9\n",
    "buffer_size_from = 5\n",
    "buffer_size_to = 3\n",
    "from_iter = BufferedIterator((i for i in range(num_items)), \n",
    "                              buffer_size=buffer_size_from)\n",
    "\n",
    "to_iter = BufferedIterator((i for i in range(num_items+1, num_items*2)), \n",
    "                              buffer_size=buffer_size_to)\n",
    "\n",
    "fwd_count_from = buffer_size_from + 1\n",
    "back_count_from = buffer_size_from\n",
    "\n",
    "for i in range(fwd_count_from):\n",
    "    next(from_iter)\n",
    "from_iter.backup(back_count_from)\n",
    "\n",
    "fwd_count_to = buffer_size_to + 1\n",
    "back_count_to = buffer_size_to\n",
    "\n",
    "for i in range(buffer_size_to + 1):\n",
    "    next(to_iter)\n",
    "to_iter.backup(buffer_size_to)\n",
    "\n",
    "print(buffered_iterator_compare(from_iter, to_iter))\n",
    "\n",
    "to_iter.link(from_iter)\n",
    "print(buffered_iterator_compare(from_iter, to_iter))\n",
    "\n",
    "from_iter.previous_items == to_iter.previous_items\n",
    "list(from_iter.future_items)[-buffer_size_to:] == list(to_iter.future_items)"
   ]
  },
  {
   "cell_type": "markdown",
   "metadata": {},
   "source": [
    "|Condition|From BufferedIterator |To BufferedIterator|\n",
    "|---------|---------------------|-------------------|\n",
    "|previous deque|empty|full|\n",
    "|future deque|empty |empty |\n",
    "|iterator status |in progress |in progress |\n",
    "|buffer size ||Target smaller|"
   ]
  },
  {
   "cell_type": "code",
   "execution_count": 19,
   "metadata": {},
   "outputs": [
    {
     "name": "stdout",
     "output_type": "stream",
     "text": [
      "\t                    From Iterator                 To Iterator                   \n",
      "\tPrevious Items      []                            []                            \n",
      "\tFuture Items        []                            [12, 13, 14]                  \n",
      "\tItem Count          0                             1                             \n",
      "\tStep Back           0                             0                             \n",
      "\tBuffer Size         5                             3                             \n",
      "\n",
      "\t                    From Iterator                 To Iterator                   \n",
      "\tPrevious Items      []                            []                            \n",
      "\tFuture Items        []                            []                            \n",
      "\tItem Count          0                             0                             \n",
      "\tStep Back           0                             0                             \n",
      "\tBuffer Size         5                             3                             \n",
      "\n"
     ]
    },
    {
     "data": {
      "text/plain": [
       "True"
      ]
     },
     "execution_count": 19,
     "metadata": {},
     "output_type": "execute_result"
    }
   ],
   "source": [
    "num_items = 10\n",
    "buffer_size_from = 5\n",
    "buffer_size_to = 3\n",
    "from_iter = BufferedIterator((i for i in range(num_items)), \n",
    "                              buffer_size=buffer_size_from)\n",
    "\n",
    "to_iter = BufferedIterator((i for i in range(num_items+1, num_items*2)), \n",
    "                              buffer_size=buffer_size_to)\n",
    "\n",
    "fwd_count_to = buffer_size_to + 1\n",
    "back_count_to = buffer_size_to\n",
    "\n",
    "for i in range(buffer_size_to + 1):\n",
    "    next(to_iter)\n",
    "to_iter.backup(buffer_size_to)\n",
    "\n",
    "print(buffered_iterator_compare(from_iter, to_iter))\n",
    "\n",
    "to_iter.link(from_iter)\n",
    "print(buffered_iterator_compare(from_iter, to_iter))\n",
    "\n",
    "from_iter.previous_items == to_iter.previous_items\n",
    "from_iter.future_items == to_iter.future_items "
   ]
  },
  {
   "cell_type": "markdown",
   "metadata": {},
   "source": [
    "|Condition|From BufferedIterator|To BufferedIterator|\n",
    "|---------|---------------------|-------------------|\n",
    "|previous deque|partial|empty|\n",
    "|future deque|partial|empty|\n",
    "|iterator status|in progress|in progress|\n",
    "|buffer size ||Target smaller|"
   ]
  },
  {
   "cell_type": "code",
   "execution_count": 20,
   "metadata": {},
   "outputs": [
    {
     "name": "stdout",
     "output_type": "stream",
     "text": [
      "\t                    From Iterator                 To Iterator                   \n",
      "\tPrevious Items      [0, 1, 2]                     []                            \n",
      "\tFuture Items        [3]                           []                            \n",
      "\tItem Count          3                             0                             \n",
      "\tStep Back           0                             0                             \n",
      "\tBuffer Size         5                             3                             \n",
      "\n",
      "\t                    From Iterator                 To Iterator                   \n",
      "\tPrevious Items      [0, 1, 2]                     [0, 1, 2]                     \n",
      "\tFuture Items        [3]                           []                            \n",
      "\tItem Count          3                             3                             \n",
      "\tStep Back           0                             0                             \n",
      "\tBuffer Size         5                             3                             \n",
      "\n"
     ]
    },
    {
     "data": {
      "text/plain": [
       "False"
      ]
     },
     "execution_count": 20,
     "metadata": {},
     "output_type": "execute_result"
    }
   ],
   "source": [
    "num_items = 10\n",
    "buffer_size_from = 5\n",
    "buffer_size_to = 3\n",
    "from_iter = BufferedIterator((i for i in range(num_items)), \n",
    "                              buffer_size=buffer_size_from)\n",
    "\n",
    "to_iter = BufferedIterator((i for i in range(num_items+1, num_items*2)), \n",
    "                              buffer_size=buffer_size_to)\n",
    "\n",
    "fwd_count_from = random.randint(2, buffer_size_from-1)\n",
    "back_count_from = random.randint(1, fwd_count_from-1)\n",
    "\n",
    "for i in range(fwd_count_from):\n",
    "    next(from_iter)\n",
    "from_iter.backup(back_count_from)\n",
    "\n",
    "print(buffered_iterator_compare(from_iter, to_iter))\n",
    "\n",
    "to_iter.link(from_iter)\n",
    "print(buffered_iterator_compare(from_iter, to_iter))\n",
    "\n",
    "from_iter.previous_items == to_iter.previous_items\n",
    "from_iter.future_items == to_iter.future_items "
   ]
  },
  {
   "cell_type": "markdown",
   "metadata": {},
   "source": [
    "|Condition|From BufferedIterator|To BufferedIterator|\n",
    "|---------|---------------------|-------------------|\n",
    "|previous deque|partial|partial|\n",
    "|future deque|partial|partial|\n",
    "|iterator status|in progress|in progress|\n",
    "|buffer size ||Target smaller|"
   ]
  },
  {
   "cell_type": "code",
   "execution_count": 21,
   "metadata": {},
   "outputs": [
    {
     "name": "stdout",
     "output_type": "stream",
     "text": [
      "\t                    From Iterator                 To Iterator                   \n",
      "\tPrevious Items      [0]                           []                            \n",
      "\tFuture Items        [1]                           [12, 13, 14]                  \n",
      "\tItem Count          1                             1                             \n",
      "\tStep Back           0                             0                             \n",
      "\tBuffer Size         5                             3                             \n",
      "\n",
      "\t                    From Iterator                 To Iterator                   \n",
      "\tPrevious Items      [0]                           [0]                           \n",
      "\tFuture Items        [1]                           []                            \n",
      "\tItem Count          1                             1                             \n",
      "\tStep Back           0                             0                             \n",
      "\tBuffer Size         5                             3                             \n",
      "\n"
     ]
    },
    {
     "data": {
      "text/plain": [
       "False"
      ]
     },
     "execution_count": 21,
     "metadata": {},
     "output_type": "execute_result"
    }
   ],
   "source": [
    "num_items = 10\n",
    "buffer_size_from = 5\n",
    "buffer_size_to = 3\n",
    "from_iter = BufferedIterator((i for i in range(num_items)), \n",
    "                              buffer_size=buffer_size_from)\n",
    "\n",
    "to_iter = BufferedIterator((i for i in range(num_items+1, num_items*2)), \n",
    "                              buffer_size=buffer_size_to)\n",
    "\n",
    "fwd_count_from = random.randint(2, buffer_size_from-1)\n",
    "back_count_from = random.randint(1, fwd_count_from-1)\n",
    "\n",
    "for i in range(fwd_count_from):\n",
    "    next(from_iter)\n",
    "from_iter.backup(back_count_from)\n",
    "\n",
    "fwd_count_to = random.randint(2, buffer_size_to-1)\n",
    "back_count_to = random.randint(1, fwd_count_to-1)\n",
    "\n",
    "for i in range(buffer_size_to + 1):\n",
    "    next(to_iter)\n",
    "to_iter.backup(buffer_size_to)\n",
    "\n",
    "print(buffered_iterator_compare(from_iter, to_iter))\n",
    "\n",
    "to_iter.link(from_iter)\n",
    "print(buffered_iterator_compare(from_iter, to_iter))\n",
    "\n",
    "from_iter.previous_items == to_iter.previous_items\n",
    "from_iter.future_items == to_iter.future_items "
   ]
  },
  {
   "cell_type": "markdown",
   "metadata": {},
   "source": [
    "\n",
    "|Condition|From BufferedIterator |To BufferedIterator|\n",
    "|---------|---------------------|-------------------|\n",
    "|previous deque|partial|full|\n",
    "|future deque|partial |full |\n",
    "|iterator status |in progress |in progress |\n",
    "|buffer size ||Target larger||"
   ]
  },
  {
   "cell_type": "code",
   "execution_count": 22,
   "metadata": {},
   "outputs": [
    {
     "name": "stdout",
     "output_type": "stream",
     "text": [
      "\t                    From Iterator                 To Iterator                   \n",
      "\tPrevious Items      [0]                           []                            \n",
      "\tFuture Items        [1]                           [12, 13, 14, 15, 16]          \n",
      "\tItem Count          1                             1                             \n",
      "\tStep Back           0                             0                             \n",
      "\tBuffer Size         3                             5                             \n",
      "\n",
      "\t                    From Iterator                 To Iterator                   \n",
      "\tPrevious Items      [0]                           [0]                           \n",
      "\tFuture Items        [1]                           []                            \n",
      "\tItem Count          1                             1                             \n",
      "\tStep Back           0                             0                             \n",
      "\tBuffer Size         3                             5                             \n",
      "\n"
     ]
    },
    {
     "data": {
      "text/plain": [
       "False"
      ]
     },
     "execution_count": 22,
     "metadata": {},
     "output_type": "execute_result"
    }
   ],
   "source": [
    "num_items = 10\n",
    "buffer_size_from = 3\n",
    "buffer_size_to = 5\n",
    "from_iter = BufferedIterator((i for i in range(num_items)), \n",
    "                              buffer_size=buffer_size_from)\n",
    "\n",
    "to_iter = BufferedIterator((i for i in range(num_items+1, num_items*2)), \n",
    "                              buffer_size=buffer_size_to)\n",
    "\n",
    "fwd_count_from = random.randint(2, buffer_size_from-1)\n",
    "back_count_from = random.randint(1, fwd_count_from-1)\n",
    "\n",
    "for i in range(fwd_count_from):\n",
    "    next(from_iter)\n",
    "from_iter.backup(back_count_from)\n",
    "\n",
    "fwd_count_to = random.randint(2, buffer_size_to-1)\n",
    "back_count_to = random.randint(1, fwd_count_to-1)\n",
    "\n",
    "for i in range(buffer_size_to + 1):\n",
    "    next(to_iter)\n",
    "to_iter.backup(buffer_size_to)\n",
    "\n",
    "print(buffered_iterator_compare(from_iter, to_iter))\n",
    "\n",
    "to_iter.link(from_iter)\n",
    "print(buffered_iterator_compare(from_iter, to_iter))\n",
    "\n",
    "from_iter.previous_items == to_iter.previous_items\n",
    "from_iter.future_items == to_iter.future_items "
   ]
  },
  {
   "cell_type": "markdown",
   "metadata": {},
   "source": [
    "#### Iterator Copying\n",
    "\n",
    "**Note:** After update the two buffered iterators share the same base iterator. Advancing one will advance the other."
   ]
  },
  {
   "cell_type": "markdown",
   "metadata": {},
   "source": [
    "|Condition|From BufferedIterator |To BufferedIterator|\n",
    "|---------|---------------------|-------------------|\n",
    "|previous deque|full|empty|\n",
    "|future deque|full |empty |\n",
    "|iterator status |closed |in progress|\n",
    "|buffer size |Same |Same |\n",
    "#\n"
   ]
  },
  {
   "cell_type": "code",
   "execution_count": 23,
   "metadata": {},
   "outputs": [
    {
     "name": "stdout",
     "output_type": "stream",
     "text": [
      "\t                    From Iterator                 To Iterator                   \n",
      "\tPrevious Items      [5, 6, 7, 8, 9]               []                            \n",
      "\tFuture Items        []                            []                            \n",
      "\tItem Count          10                            0                             \n",
      "\tStep Back           0                             0                             \n",
      "\tBuffer Size         5                             5                             \n",
      "\n",
      "\t                    From Iterator                 To Iterator                   \n",
      "\tPrevious Items      [5, 6, 7, 8, 9]               [5, 6, 7, 8, 9]               \n",
      "\tFuture Items        []                            []                            \n",
      "\tItem Count          10                            10                            \n",
      "\tStep Back           0                             0                             \n",
      "\tBuffer Size         5                             5                             \n",
      "\n"
     ]
    }
   ],
   "source": [
    "num_items = 10\n",
    "buffer_size_from = 5\n",
    "buffer_size_to = 5\n",
    "from_iter = BufferedIterator((i for i in range(num_items)), \n",
    "                              buffer_size=buffer_size_from)\n",
    "\n",
    "to_iter = BufferedIterator((i for i in range(num_items+1, num_items*2)), \n",
    "                              buffer_size=buffer_size_to)\n",
    "\n",
    "fwd_count_from = num_items\n",
    "for i in range(fwd_count_from):\n",
    "    next(from_iter)\n",
    "\n",
    "print(buffered_iterator_compare(from_iter, to_iter))\n",
    "\n",
    "to_iter.link(from_iter)\n",
    "print(buffered_iterator_compare(from_iter, to_iter))\n",
    "\n",
    "from_iter.previous_items == to_iter.previous_items\n",
    "from_iter.future_items == to_iter.future_items \n",
    "\n",
    "try:\n",
    "    next(to_iter)\n",
    "except BufferedIteratorEOF:\n",
    "    print('pass')"
   ]
  },
  {
   "cell_type": "markdown",
   "metadata": {},
   "source": [
    "|Condition|From BufferedIterator |To BufferedIterator|\n",
    "|---------|---------------------|-------------------|\n",
    "|previous deque|full|full|\n",
    "|future deque|empty |empty |\n",
    "|iterator status |closed |closed|\n",
    "|buffer size |Same |Same |"
   ]
  },
  {
   "cell_type": "code",
   "execution_count": 24,
   "metadata": {},
   "outputs": [
    {
     "name": "stdout",
     "output_type": "stream",
     "text": [
      "\t                    From Iterator                 To Iterator                   \n",
      "\tPrevious Items      [5, 6, 7, 8, 9]               [15, 16, 17, 18, 19]          \n",
      "\tFuture Items        []                            []                            \n",
      "\tItem Count          10                            10                            \n",
      "\tStep Back           0                             0                             \n",
      "\tBuffer Size         5                             5                             \n",
      "\n",
      "\t                    From Iterator                 To Iterator                   \n",
      "\tPrevious Items      [5, 6, 7, 8, 9]               [5, 6, 7, 8, 9]               \n",
      "\tFuture Items        []                            []                            \n",
      "\tItem Count          10                            10                            \n",
      "\tStep Back           0                             0                             \n",
      "\tBuffer Size         5                             5                             \n",
      "\n",
      "pass\n"
     ]
    }
   ],
   "source": [
    "num_items = 10\n",
    "buffer_size_from = 5\n",
    "buffer_size_to = 5\n",
    "from_iter = BufferedIterator((i for i in range(num_items)), \n",
    "                              buffer_size=buffer_size_from)\n",
    "\n",
    "to_iter = BufferedIterator((i for i in range(num_items, num_items*2)), \n",
    "                              buffer_size=buffer_size_to)\n",
    "\n",
    "for i in range(num_items):\n",
    "    next(from_iter)\n",
    "for i in range(num_items):\n",
    "    next(to_iter)\n",
    "    \n",
    "print(buffered_iterator_compare(from_iter, to_iter))\n",
    "\n",
    "to_iter.link(from_iter)\n",
    "print(buffered_iterator_compare(from_iter, to_iter))\n",
    "\n",
    "from_iter.previous_items == to_iter.previous_items\n",
    "from_iter.future_items == to_iter.future_items \n",
    "\n",
    "try:\n",
    "    next(to_iter)\n",
    "except BufferedIteratorEOF:\n",
    "    print('pass')"
   ]
  },
  {
   "cell_type": "markdown",
   "metadata": {},
   "source": [
    " \n",
    "|Condition|From BufferedIterator |To BufferedIterator|\n",
    "|---------|---------------------|-------------------|\n",
    "|previous deque|empty|empty|\n",
    "|future deque|empty |empty |\n",
    "|iterator status |not started |not started |\n",
    "|buffer size |Same |Same |\n",
    "#\n",
    " \n"
   ]
  },
  {
   "cell_type": "code",
   "execution_count": 25,
   "metadata": {},
   "outputs": [
    {
     "name": "stdout",
     "output_type": "stream",
     "text": [
      "[0, 1, 2, 3, 4, 5, 6, 7, 8, 9]\n",
      "[10, 11, 12, 13, 14, 15, 16, 17, 18, 19]\n"
     ]
    }
   ],
   "source": [
    "num_items = 10\n",
    "buffer_size_from = 5\n",
    "buffer_size_to = 5\n",
    "from_iter = BufferedIterator((i for i in range(num_items)), \n",
    "                              buffer_size=buffer_size_from)\n",
    "\n",
    "to_iter = BufferedIterator((i for i in range(num_items, num_items*2)), \n",
    "                              buffer_size=buffer_size_to)\n",
    "to_iter.link(from_iter)\n",
    "print(list(from_iter))\n",
    "print(list(to_iter))"
   ]
  },
  {
   "cell_type": "code",
   "execution_count": 26,
   "metadata": {},
   "outputs": [
    {
     "name": "stdout",
     "output_type": "stream",
     "text": [
      "[10, 11, 12, 13, 14, 15, 16, 17, 18, 19]\n",
      "[0, 1, 2, 3, 4, 5, 6, 7, 8, 9]\n"
     ]
    }
   ],
   "source": [
    "num_items = 10\n",
    "buffer_size_from = 5\n",
    "buffer_size_to = 5\n",
    "from_iter = BufferedIterator((i for i in range(num_items)), \n",
    "                              buffer_size=buffer_size_from)\n",
    "\n",
    "to_iter = BufferedIterator((i for i in range(num_items, num_items*2)), \n",
    "                              buffer_size=buffer_size_to)\n",
    "\n",
    "to_iter.link(from_iter)\n",
    "\n",
    "print(list(to_iter))\n",
    "print(list(from_iter))"
   ]
  },
  {
   "cell_type": "markdown",
   "metadata": {},
   "source": [
    "|Condition|From BufferedIterator |To BufferedIterator|\n",
    "|---------|---------------------|-------------------|\n",
    "|previous deque|full|empty|\n",
    "|future deque|full |empty |\n",
    "|iterator status |in progress |not started |\n",
    "|buffer size |Same |Same |\n",
    "#\n"
   ]
  },
  {
   "cell_type": "markdown",
   "metadata": {},
   "source": [
    "\t\t\n",
    "### Make BufferedIterator of BufferedIterator\n",
    "\n",
    "- Verify that:\n",
    "- step back only impacts top iterator\n",
    "- queues in both store items from next\n",
    "- future Items in top are pulled by next without calling inner iterator\n",
    "- update works to pass future items from top to inner \n",
    "- What happens when updating top iterator with sub iterator?"
   ]
  },
  {
   "cell_type": "code",
   "execution_count": 27,
   "metadata": {},
   "outputs": [
    {
     "name": "stdout",
     "output_type": "stream",
     "text": [
      "\t                    From Iterator                 To Iterator                   \n",
      "\tPrevious Items      [0, 1, 2]                     []                            \n",
      "\tFuture Items        [3, 4]                        []                            \n",
      "\tItem Count          3                             0                             \n",
      "\tStep Back           0                             0                             \n",
      "\tBuffer Size         5                             5                             \n",
      "\n",
      "\t                    From Iterator                 To Iterator                   \n",
      "\tPrevious Items      [1, 2, 3, 4, 5]               [3, 4]                        \n",
      "\tFuture Items        []                            [5]                           \n",
      "\tItem Count          6                             2                             \n",
      "\tStep Back           0                             0                             \n",
      "\tBuffer Size         5                             5                             \n",
      "\n"
     ]
    }
   ],
   "source": [
    "num_items = 10\n",
    "buffer_size_top = 5\n",
    "buffer_size_sub = 5\n",
    "\n",
    "top_iter = BufferedIterator((i for i in range(num_items)), \n",
    "                              buffer_size=buffer_size_top)\n",
    "sub_iter = BufferedIterator(top_iter, buffer_size=buffer_size_sub)\n",
    "\n",
    "fwd_count_top =   5 # random.randint(2, buffer_size_top-1)\n",
    "back_count_top =  2 # random.randint(1, fwd_count_top)\n",
    "\n",
    "for i in range(fwd_count_top):\n",
    "    next(top_iter)\n",
    "top_iter.backup(back_count_top)\n",
    "print(buffered_iterator_compare(top_iter, sub_iter))\n",
    "\n",
    "fwd_count_sub = 3\n",
    "back_count_sub = 1\n",
    "\n",
    "for i in range(fwd_count_sub):\n",
    "    next(sub_iter)\n",
    "sub_iter.backup(back_count_sub)\n",
    "\n",
    "print(buffered_iterator_compare(top_iter, sub_iter))"
   ]
  },
  {
   "cell_type": "markdown",
   "metadata": {},
   "source": [
    "#### Test that queues in both store items from next\n",
    "- Advance Sub Iterator by Top Iterator Buffer Size and back by smaller amount\n",
    "- Top Iterator Previous Items should contain all items\n",
    "- Sub Iterator should split items between Previous Items and Future Items.\n",
    "- Top Iterator Item Count should equal Buffer Size.\n",
    "- Sub Iterator Item Count should equal Buffer Size - Step Back."
   ]
  },
  {
   "cell_type": "code",
   "execution_count": 28,
   "metadata": {},
   "outputs": [
    {
     "name": "stdout",
     "output_type": "stream",
     "text": [
      "\t                    Top Iterator                  Sub Iterator                  \n",
      "\tPrevious Items      [0, 1, 2, 3, 4]               [0, 1, 2, 3]                  \n",
      "\tFuture Items        []                            [4]                           \n",
      "\tItem Count          5                             4                             \n",
      "\tStep Back           0                             0                             \n",
      "\tBuffer Size         5                             5                             \n",
      "\n",
      "True\n",
      "True\n"
     ]
    }
   ],
   "source": [
    "num_items = 10\n",
    "buffer_size_top = 5\n",
    "buffer_size_sub = 5\n",
    "\n",
    "top_iter = BufferedIterator((i for i in range(num_items)), \n",
    "                              buffer_size=buffer_size_top)\n",
    "sub_iter = BufferedIterator(top_iter, buffer_size=buffer_size_sub)\n",
    "\n",
    "fwd_count_sub = buffer_size_top\n",
    "back_count_sub = random.randint(1, buffer_size_top-1)\n",
    "\n",
    "for i in range(fwd_count_sub):\n",
    "    next(sub_iter)\n",
    "sub_iter.backup(back_count_sub)\n",
    "\n",
    "print(buffered_iterator_compare(top_iter, sub_iter, \n",
    "                                label1='Top Iterator', \n",
    "                                label2='Sub Iterator'))\n",
    "\n",
    "print(len(top_iter.previous_items) == buffer_size_top)\n",
    "print(top_iter.previous_items == sub_iter.previous_items + sub_iter.future_items)"
   ]
  },
  {
   "cell_type": "markdown",
   "metadata": {},
   "source": [
    "#### Test that step back in top only impacts top iterator\n",
    "- Advance Sub Iterator by Top Iterator Buffer Size.\n",
    "- Backup Top Iterator by smaller amount.\n",
    "- Top Iterator should split items between Previous Items and Future Items.\n",
    "- Sub Iterator Previous Items should contain all items.\n",
    "- Top Iterator Item Count should equal Buffer Size - Step Back.\n",
    "- Sub Iterator Item Count should equal Buffer Size."
   ]
  },
  {
   "cell_type": "code",
   "execution_count": 29,
   "metadata": {},
   "outputs": [
    {
     "name": "stdout",
     "output_type": "stream",
     "text": [
      "\t                    Top Iterator                  Sub Iterator                  \n",
      "\tPrevious Items      [0, 1, 2, 3]                  [0, 1, 2, 3, 4]               \n",
      "\tFuture Items        [4]                           []                            \n",
      "\tItem Count          4                             5                             \n",
      "\tStep Back           0                             0                             \n",
      "\tBuffer Size         5                             5                             \n",
      "\n",
      "True\n",
      "True\n"
     ]
    }
   ],
   "source": [
    "num_items = 10\n",
    "buffer_size_top = 5\n",
    "buffer_size_sub = 5\n",
    "\n",
    "top_iter = BufferedIterator((i for i in range(num_items)), \n",
    "                              buffer_size=buffer_size_top)\n",
    "sub_iter = BufferedIterator(top_iter, buffer_size=buffer_size_sub)\n",
    "\n",
    "fwd_count_sub =   buffer_size_top\n",
    "back_count_top =  random.randint(1, fwd_count_sub)\n",
    "\n",
    "for i in range(fwd_count_sub):\n",
    "    next(sub_iter)   \n",
    "top_iter.backup(back_count_top)\n",
    "\n",
    "print(buffered_iterator_compare(top_iter, sub_iter, \n",
    "                                label1='Top Iterator', \n",
    "                                label2='Sub Iterator'))\n",
    "\n",
    "print(len(sub_iter.previous_items) == buffer_size_top)\n",
    "print(sub_iter.previous_items == top_iter.previous_items + top_iter.future_items)"
   ]
  },
  {
   "cell_type": "markdown",
   "metadata": {},
   "source": [
    "#### Test that future Items in top are pulled by next without calling inner iterator\n",
    "- Advance Sub Iterator by Top Iterator Buffer Size.\n",
    "- Backup Top Iterator by smaller amount.\n",
    "- Advance Top Iterator by even smaller amount.\n",
    "- Top Iterator should split items between Previous Items and Future Items.\n",
    "- Sub Iterator Previous Items should contain all items.\n",
    "- Top Iterator Item Count should equal Buffer Size - Step Back.\n",
    "- Sub Iterator Item Count should equal Buffer Size."
   ]
  },
  {
   "cell_type": "code",
   "execution_count": 30,
   "metadata": {},
   "outputs": [
    {
     "name": "stdout",
     "output_type": "stream",
     "text": [
      "\t                    Top Iterator                  Sub Iterator                  \n",
      "\tPrevious Items      [0]                           [0, 1, 2, 3, 4]               \n",
      "\tFuture Items        [1, 2, 3, 4]                  []                            \n",
      "\tItem Count          1                             5                             \n",
      "\tStep Back           0                             0                             \n",
      "\tBuffer Size         5                             5                             \n",
      "\n",
      "\t                    Top Iterator                  Sub Iterator                  \n",
      "\tPrevious Items      [0, 1]                        [0, 1, 2, 3, 4]               \n",
      "\tFuture Items        [2, 3, 4]                     []                            \n",
      "\tItem Count          2                             5                             \n",
      "\tStep Back           0                             0                             \n",
      "\tBuffer Size         5                             5                             \n",
      "\n",
      "True\n",
      "True\n"
     ]
    }
   ],
   "source": [
    "num_items = 10\n",
    "buffer_size_top = 5\n",
    "buffer_size_sub = 5\n",
    "\n",
    "top_iter = BufferedIterator((i for i in range(num_items)), \n",
    "                              buffer_size=buffer_size_top)\n",
    "sub_iter = BufferedIterator(top_iter, buffer_size=buffer_size_sub)\n",
    "\n",
    "fwd_count_sub =   buffer_size_top\n",
    "back_count_top =  random.randint(1, fwd_count_sub)\n",
    "fwd_count_top =   random.randint(1, back_count_top)\n",
    "\n",
    "for i in range(fwd_count_sub):\n",
    "    next(sub_iter)   \n",
    "top_iter.backup(back_count_top)\n",
    "\n",
    "print(buffered_iterator_compare(top_iter, sub_iter, \n",
    "                                label1='Top Iterator', \n",
    "                                label2='Sub Iterator'))\n",
    "for i in range(fwd_count_top):\n",
    "    next(top_iter)   \n",
    " \n",
    "print(buffered_iterator_compare(top_iter, sub_iter, \n",
    "                                label1='Top Iterator', \n",
    "                                label2='Sub Iterator'))\n",
    "   \n",
    "print(len(sub_iter.previous_items) == buffer_size_top)\n",
    "print(sub_iter.previous_items == top_iter.previous_items + top_iter.future_items)"
   ]
  },
  {
   "cell_type": "markdown",
   "metadata": {},
   "source": [
    "#### Test that update works to pass future items from top to sub \n",
    "- Advance Sub Iterator by Top Iterator Buffer Size and back by smaller amount\n",
    "- Top Iterator Previous Items should contain all items\n",
    "- Sub Iterator should split items between Previous Items and Future Items.\n",
    "- Top Iterator Item Count should equal Buffer Size.\n",
    "- Sub Iterator Item Count should equal Buffer Size - Step Back."
   ]
  },
  {
   "cell_type": "code",
   "execution_count": 31,
   "metadata": {},
   "outputs": [
    {
     "name": "stdout",
     "output_type": "stream",
     "text": [
      "\t                    Top Iterator                  Sub Iterator                  \n",
      "\tPrevious Items      [0, 1, 2]                     [0, 1, 2]                     \n",
      "\tFuture Items        []                            []                            \n",
      "\tItem Count          3                             3                             \n",
      "\tStep Back           0                             0                             \n",
      "\tBuffer Size         5                             5                             \n",
      "\n",
      "\t                    Top Iterator                  Sub Iterator                  \n",
      "\tPrevious Items      [0, 1, 2]                     [0, 1, 2]                     \n",
      "\tFuture Items        []                            []                            \n",
      "\tItem Count          3                             3                             \n",
      "\tStep Back           0                             0                             \n",
      "\tBuffer Size         5                             5                             \n",
      "\n",
      "False\n",
      "True\n",
      "[3, 4, 5, 6, 7, 8, 9]\n"
     ]
    }
   ],
   "source": [
    "num_items = 10\n",
    "buffer_size_top = 5\n",
    "buffer_size_sub = 5\n",
    "\n",
    "top_iter = BufferedIterator((i for i in range(num_items)), \n",
    "                              buffer_size=buffer_size_top)\n",
    "sub_iter = BufferedIterator(top_iter, buffer_size=buffer_size_sub)\n",
    "\n",
    "fwd_count_sub =   random.randint(1, buffer_size_sub - 1)\n",
    "fwd_count_top =   random.randint(1, buffer_size_top - fwd_count_sub)\n",
    "back_count_top =  random.randint(1, fwd_count_top)\n",
    "\n",
    "for i in range(fwd_count_sub):\n",
    "    next(sub_iter)   \n",
    "\n",
    "for i in range(fwd_count_top):\n",
    "    next(top_iter) \n",
    "\n",
    "top_iter.backup(back_count_top)\n",
    "next(sub_iter)\n",
    "print(buffered_iterator_compare(top_iter, sub_iter, \n",
    "                                label1='Top Iterator', \n",
    "                                label2='Sub Iterator'))\n",
    "\n",
    "\n",
    "sub_iter.link(top_iter)\n",
    "print(buffered_iterator_compare(top_iter, sub_iter, \n",
    "                                label1='Top Iterator', \n",
    "                                label2='Sub Iterator'))\n",
    "\n",
    "print(len(sub_iter.previous_items) == buffer_size_top)\n",
    "print(sub_iter.previous_items == top_iter.previous_items + top_iter.future_items)\n",
    "print(list(sub_iter))"
   ]
  },
  {
   "cell_type": "markdown",
   "metadata": {},
   "source": [
    "### Mixing Sub and top steps can loose items or duplicate"
   ]
  },
  {
   "cell_type": "code",
   "execution_count": 32,
   "metadata": {},
   "outputs": [
    {
     "name": "stdout",
     "output_type": "stream",
     "text": [
      "Advance Sub Iterator by 5 (Both iterators advance)\n",
      "\t                    Top Iterator                  Sub Iterator                  \n",
      "\tPrevious Items      [0, 1, 2, 3, 4]               [0, 1, 2, 3, 4]               \n",
      "\tFuture Items        []                            []                            \n",
      "\tItem Count          5                             5                             \n",
      "\tStep Back           0                             0                             \n",
      "\tBuffer Size         10                            10                            \n",
      "\n",
      "Advance Top Iterator by 2 (Sub Iterator does not advance).\n",
      "\t                    Top Iterator                  Sub Iterator                  \n",
      "\tPrevious Items      [0, 1, 2, 3, 4, 5, 6]         [0, 1, 2, 3, 4]               \n",
      "\tFuture Items        []                            []                            \n",
      "\tItem Count          7                             5                             \n",
      "\tStep Back           0                             0                             \n",
      "\tBuffer Size         10                            10                            \n",
      "\n",
      "Backup Top Iterator by 4 (Sub Iterator does not change).\n",
      "\t                    Top Iterator                  Sub Iterator                  \n",
      "\tPrevious Items      [0, 1, 2]                     [0, 1, 2, 3, 4]               \n",
      "\tFuture Items        [3, 4, 5, 6]                  []                            \n",
      "\tItem Count          3                             5                             \n",
      "\tStep Back           0                             0                             \n",
      "\tBuffer Size         10                            10                            \n",
      "\n",
      "Advance Sub Iterator by 2 (Sub Iterator gets previous items from top iterator).\n",
      "\t                    Top Iterator                  Sub Iterator                  \n",
      "\tPrevious Items      [0, 1, 2, 3, 4]               [0, 1, 2, 3, 4, 3, 4]         \n",
      "\tFuture Items        [5, 6]                        []                            \n",
      "\tItem Count          5                             7                             \n",
      "\tStep Back           0                             0                             \n",
      "\tBuffer Size         10                            10                            \n",
      "\n"
     ]
    }
   ],
   "source": [
    "num_items = 10\n",
    "buffer_size_top = 10\n",
    "buffer_size_sub = 10\n",
    "\n",
    "top_iter = BufferedIterator((i for i in range(num_items)), \n",
    "                              buffer_size=buffer_size_top)\n",
    "sub_iter = BufferedIterator(top_iter, buffer_size=buffer_size_sub)\n",
    "\n",
    "fwd_count_sub = buffer_size_sub - 5\n",
    "fwd_count_top = buffer_size_top - fwd_count_sub - 3\n",
    "back_count_top = 4\n",
    "fwd_count_sub2 = 2\n",
    "\n",
    "print(f'Advance Sub Iterator by {fwd_count_sub} (Both iterators advance)')\n",
    "for i in range(fwd_count_sub):\n",
    "    next(sub_iter)   \n",
    "print(buffered_iterator_compare(top_iter, sub_iter, \n",
    "                                label1='Top Iterator', \n",
    "                                label2='Sub Iterator'))\n",
    "\n",
    "print(f'Advance Top Iterator by {fwd_count_top} (Sub Iterator does not advance).')\n",
    "for i in range(fwd_count_top):\n",
    "    next(top_iter) \n",
    "print(buffered_iterator_compare(top_iter, sub_iter, \n",
    "                                label1='Top Iterator', \n",
    "                                label2='Sub Iterator'))\n",
    "\n",
    "print(f'Backup Top Iterator by {back_count_top} (Sub Iterator does not change).')\n",
    "top_iter.backup(back_count_top)\n",
    "print(buffered_iterator_compare(top_iter, sub_iter, \n",
    "                                label1='Top Iterator', \n",
    "                                label2='Sub Iterator'))\n",
    "\n",
    "print(f'Advance Sub Iterator by {fwd_count_sub2} (Sub Iterator gets previous items from top iterator).')\n",
    "for i in range(fwd_count_sub2):\n",
    "    next(sub_iter)     \n",
    "print(buffered_iterator_compare(top_iter, sub_iter, \n",
    "                                label1='Top Iterator', \n",
    "                                label2='Sub Iterator'))"
   ]
  },
  {
   "cell_type": "markdown",
   "metadata": {},
   "source": [
    "### BufferedIterator generators\n",
    "> **After update the two BufferedIterators share the same generator.**"
   ]
  },
  {
   "cell_type": "code",
   "execution_count": 33,
   "metadata": {},
   "outputs": [
    {
     "name": "stdout",
     "output_type": "stream",
     "text": [
      "BufferedIterator(source=<generator object <genexpr> at 0x0000023E781C9970>, buffer_size=5)\n",
      "\tBufferedIterator.previous_items = deque([1, 2, 3, 4, 5], maxlen=5)\n",
      "\tBufferedIterator.future_items = deque([], maxlen=5)\n",
      "\tBufferedIterator.item_count = 6\n",
      "\tBufferedIterator._step_back = 0\n",
      "[(6, 17), (7, 18), (8, 19)]\n",
      "BufferedIterator(source=<generator object <genexpr> at 0x0000023E781A7190>, buffer_size=5)\n",
      "\tBufferedIterator.previous_items = deque([5, 6, 7, 8, 9], maxlen=5)\n",
      "\tBufferedIterator.future_items = deque([], maxlen=5)\n",
      "\tBufferedIterator.item_count = 10\n",
      "\tBufferedIterator._step_back = 0\n",
      "BufferedIterator(source=<generator object <genexpr> at 0x0000023E781C9970>, buffer_size=5)\n",
      "\tBufferedIterator.previous_items = deque([4, 5, 17, 18, 19], maxlen=5)\n",
      "\tBufferedIterator.future_items = deque([], maxlen=5)\n",
      "\tBufferedIterator.item_count = 9\n",
      "\tBufferedIterator._step_back = 0\n"
     ]
    }
   ],
   "source": [
    "from_iter = BufferedIterator((i for i in range(num_items)), \n",
    "                              buffer_size=buffer_size)\n",
    "\n",
    "to_iter = BufferedIterator((i for i in range(num_items+1, num_items*2)), \n",
    "                              buffer_size=buffer_size)\n",
    "\n",
    "for i in range(buffer_size+1):\n",
    "    next(from_iter)\n",
    "    next(to_iter)\n",
    "\n",
    "#print(repr((from_iter)))\n",
    "#print(repr((to_iter)))\n",
    "\n",
    "to_iter.link(from_iter)\n",
    "print(repr((to_iter)))\n",
    "\n",
    "\n",
    "iter_match = []\n",
    "while True:\n",
    "    try:\n",
    "        i = next(from_iter)\n",
    "        j = next(to_iter)\n",
    "    except (StopIteration, BufferedIteratorEOF):\n",
    "        break\n",
    "    iter_match.append((i,j))\n",
    "pprint(iter_match)\n",
    "print(repr((from_iter)))\n",
    "print(repr((to_iter)))"
   ]
  },
  {
   "cell_type": "markdown",
   "metadata": {},
   "source": [
    "### What happens when updating top iterator with sub iterator?\n",
    "> iterator breaks"
   ]
  },
  {
   "cell_type": "code",
   "execution_count": 34,
   "metadata": {},
   "outputs": [
    {
     "name": "stdout",
     "output_type": "stream",
     "text": [
      "\t                    Top Iterator                  Sub Iterator                  \n",
      "\tPrevious Items      [0]                           [0]                           \n",
      "\tFuture Items        []                            []                            \n",
      "\tItem Count          1                             1                             \n",
      "\tStep Back           0                             0                             \n",
      "\tBuffer Size         5                             5                             \n",
      "\n",
      "[1, 2, 3, 4, 5, 6, 7, 8, 9]\n"
     ]
    }
   ],
   "source": [
    "num_items = 10\n",
    "buffer_size_top = 5\n",
    "buffer_size_sub = 5\n",
    "\n",
    "top_iter = BufferedIterator((i for i in range(num_items)), \n",
    "                              buffer_size=buffer_size_top)\n",
    "sub_iter = BufferedIterator(top_iter, buffer_size=buffer_size_sub)\n",
    "\n",
    "fwd_count_sub =   random.randint(1, buffer_size_sub - 1)\n",
    "fwd_count_top =   random.randint(1, buffer_size_top - fwd_count_sub)\n",
    "back_count_top =  random.randint(1, fwd_count_top)\n",
    "\n",
    "for i in range(fwd_count_sub):\n",
    "    next(sub_iter)   \n",
    "\n",
    "top_iter.link(sub_iter)\n",
    "print(buffered_iterator_compare(top_iter, sub_iter, \n",
    "                                label1='Top Iterator', \n",
    "                                label2='Sub Iterator'))\n",
    "print(list(sub_iter))"
   ]
  }
 ],
 "metadata": {
  "kernelspec": {
   "display_name": "Python 3.8.12 ('sectionaryDev')",
   "language": "python",
   "name": "python3"
  },
  "language_info": {
   "codemirror_mode": {
    "name": "ipython",
    "version": 3
   },
   "file_extension": ".py",
   "mimetype": "text/x-python",
   "name": "python",
   "nbconvert_exporter": "python",
   "pygments_lexer": "ipython3",
   "version": "3.8.12"
  },
  "orig_nbformat": 4,
  "vscode": {
   "interpreter": {
    "hash": "890849be4bb9b5be1d044afe42e602ccc6ca20da23c054ee97c8186ec3939c45"
   }
  }
 },
 "nbformat": 4,
 "nbformat_minor": 2
}
