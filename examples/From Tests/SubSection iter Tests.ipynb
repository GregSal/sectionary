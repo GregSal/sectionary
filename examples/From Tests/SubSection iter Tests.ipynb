{
 "cells": [
  {
   "attachments": {},
   "cell_type": "markdown",
   "metadata": {},
   "source": [
    "# SubSection Management Functions"
   ]
  },
  {
   "attachments": {},
   "cell_type": "markdown",
   "metadata": {},
   "source": [
    "## Setup"
   ]
  },
  {
   "attachments": {},
   "cell_type": "markdown",
   "metadata": {},
   "source": [
    "### Imports"
   ]
  },
  {
   "cell_type": "code",
   "execution_count": 1,
   "metadata": {},
   "outputs": [],
   "source": [
    "\n",
    "from typing import Any\n",
    "from typing import Dict, List, NamedTuple, TypeVar\n",
    "from typing import Iterable, Any, Callable, Union, Generator\n",
    "from typing import Tuple\n",
    "\n",
    "\n",
    "import re\n",
    "from pprint import pprint\n",
    "from functools import partial\n",
    "from abc import ABC, abstractmethod\n",
    "\n",
    "from sections import Section\n",
    "from sections import SectionBreak\n",
    "from buffered_iterator import BufferedIterator\n",
    "from sections import set_method, Rule, RuleSet\n",
    "from sections import ProcessingMethods"
   ]
  },
  {
   "attachments": {},
   "cell_type": "markdown",
   "metadata": {},
   "source": [
    "# TestSingleLineStartSections"
   ]
  },
  {
   "cell_type": "code",
   "execution_count": 2,
   "metadata": {},
   "outputs": [],
   "source": [
    "test_text = [\n",
    "    'Text to be ignored',\n",
    "    'StartSection A',\n",
    "    'EndSection A',\n",
    "    'StartSection B',\n",
    "    'EndSection B',\n",
    "    'More text to be ignored',\n",
    "    ]\n",
    "start_sub_section = Section(\n",
    "    name='StartSubSection',\n",
    "    start_section=SectionBreak('StartSection', break_offset='Before'),\n",
    "    end_section=SectionBreak('EndSection', break_offset='Before')\n",
    "    )\n",
    "test_iter = BufferedIterator(test_text)"
   ]
  },
  {
   "attachments": {},
   "cell_type": "markdown",
   "metadata": {},
   "source": [
    "Expect `['StartSection A']`"
   ]
  },
  {
   "cell_type": "code",
   "execution_count": 3,
   "metadata": {},
   "outputs": [
    {
     "data": {
      "text/plain": [
       "['StartSection A']"
      ]
     },
     "execution_count": 3,
     "metadata": {},
     "output_type": "execute_result"
    }
   ],
   "source": [
    "start_sub_section.read(test_iter)"
   ]
  },
  {
   "attachments": {},
   "cell_type": "markdown",
   "metadata": {},
   "source": [
    "Expect `['StartSection B']`"
   ]
  },
  {
   "cell_type": "code",
   "execution_count": 4,
   "metadata": {},
   "outputs": [
    {
     "data": {
      "text/plain": [
       "['StartSection B']"
      ]
     },
     "execution_count": 4,
     "metadata": {},
     "output_type": "execute_result"
    }
   ],
   "source": [
    "start_sub_section.read(test_iter)"
   ]
  },
  {
   "attachments": {},
   "cell_type": "markdown",
   "metadata": {},
   "source": [
    "Expect `[]`"
   ]
  },
  {
   "cell_type": "code",
   "execution_count": 5,
   "metadata": {},
   "outputs": [
    {
     "data": {
      "text/plain": [
       "[]"
      ]
     },
     "execution_count": 5,
     "metadata": {},
     "output_type": "execute_result"
    }
   ],
   "source": [
    "start_sub_section.read(test_iter)"
   ]
  },
  {
   "attachments": {},
   "cell_type": "markdown",
   "metadata": {},
   "source": [
    "# test_single_line_start_subsection"
   ]
  },
  {
   "attachments": {},
   "cell_type": "markdown",
   "metadata": {},
   "source": [
    "![Error](..\\Error.png) <br>\n",
    "**Expected** `[['StartSection A'], ['StartSection B']]`<br>\n",
    "**Got** `[['StartSection A'], []]`\n"
   ]
  },
  {
   "cell_type": "code",
   "execution_count": 6,
   "metadata": {},
   "outputs": [
    {
     "data": {
      "text/plain": [
       "[['StartSection A'], []]"
      ]
     },
     "execution_count": 6,
     "metadata": {},
     "output_type": "execute_result"
    }
   ],
   "source": [
    "test_text = [\n",
    "    'Text to be ignored',\n",
    "    'StartSection A',\n",
    "    'EndSection A',\n",
    "    'StartSection B',\n",
    "    'EndSection B',\n",
    "    'More text to be ignored',\n",
    "    ]\n",
    "start_sub_section = Section(\n",
    "    name='StartSubSection',\n",
    "    start_section=SectionBreak('StartSection', break_offset='Before'),\n",
    "    end_section=SectionBreak('EndSection', break_offset='Before')\n",
    "    )\n",
    "full_section = Section(\n",
    "    name='Full',\n",
    "    end_section=SectionBreak('ignored', break_offset='Before'),\n",
    "    processor=[start_sub_section]\n",
    "    )\n",
    "full_section.read(test_text)"
   ]
  },
  {
   "attachments": {},
   "cell_type": "markdown",
   "metadata": {},
   "source": [
    "# test_two_single_line_subsections"
   ]
  },
  {
   "attachments": {},
   "cell_type": "markdown",
   "metadata": {},
   "source": [
    "![Error](..\\Error.png) **Infinite loop**\n"
   ]
  },
  {
   "cell_type": "code",
   "execution_count": 7,
   "metadata": {},
   "outputs": [
    {
     "ename": "KeyboardInterrupt",
     "evalue": "",
     "output_type": "error",
     "traceback": [
      "\u001b[1;31m---------------------------------------------------------------------------\u001b[0m",
      "\u001b[1;31mKeyboardInterrupt\u001b[0m                         Traceback (most recent call last)",
      "\u001b[1;32m~\\AppData\\Local\\Temp\\ipykernel_18416\\2180575301.py\u001b[0m in \u001b[0;36m<module>\u001b[1;34m\u001b[0m\n\u001b[0;32m     21\u001b[0m     \u001b[0mprocessor\u001b[0m\u001b[1;33m=\u001b[0m\u001b[1;33m[\u001b[0m\u001b[1;33m(\u001b[0m\u001b[0mstart_sub_section\u001b[0m\u001b[1;33m,\u001b[0m \u001b[0mend_sub_section\u001b[0m\u001b[1;33m)\u001b[0m\u001b[1;33m]\u001b[0m\u001b[1;33m\u001b[0m\u001b[1;33m\u001b[0m\u001b[0m\n\u001b[0;32m     22\u001b[0m     )\n\u001b[1;32m---> 23\u001b[1;33m \u001b[0mread_1\u001b[0m \u001b[1;33m=\u001b[0m \u001b[0mfull_section\u001b[0m\u001b[1;33m.\u001b[0m\u001b[0mread\u001b[0m\u001b[1;33m(\u001b[0m\u001b[0mtest_text\u001b[0m\u001b[1;33m)\u001b[0m\u001b[1;33m\u001b[0m\u001b[1;33m\u001b[0m\u001b[0m\n\u001b[0m",
      "\u001b[1;32mD:\\OneDrive - Queen's University\\Python\\Projects\\sectionary package\\src\\sections.py\u001b[0m in \u001b[0;36mread\u001b[1;34m(self, source, start_search, context)\u001b[0m\n\u001b[0;32m   2708\u001b[0m         \u001b[1;31m# local variable to get it to update with the assemble function.\u001b[0m\u001b[1;33m\u001b[0m\u001b[1;33m\u001b[0m\u001b[1;33m\u001b[0m\u001b[0m\n\u001b[0;32m   2709\u001b[0m         \u001b[0mactive_context\u001b[0m \u001b[1;33m=\u001b[0m \u001b[0mself\u001b[0m\u001b[1;33m.\u001b[0m\u001b[0mcontext\u001b[0m\u001b[1;33m\u001b[0m\u001b[1;33m\u001b[0m\u001b[0m\n\u001b[1;32m-> 2710\u001b[1;33m         \u001b[0msection_assembled\u001b[0m \u001b[1;33m=\u001b[0m \u001b[0mself\u001b[0m\u001b[1;33m.\u001b[0m\u001b[0massemble\u001b[0m\u001b[1;33m(\u001b[0m\u001b[0msection_processor\u001b[0m\u001b[1;33m,\u001b[0m \u001b[0mactive_context\u001b[0m\u001b[1;33m)\u001b[0m\u001b[1;33m\u001b[0m\u001b[1;33m\u001b[0m\u001b[0m\n\u001b[0m\u001b[0;32m   2711\u001b[0m         \u001b[0mself\u001b[0m\u001b[1;33m.\u001b[0m\u001b[0mcontext\u001b[0m\u001b[1;33m.\u001b[0m\u001b[0mupdate\u001b[0m\u001b[1;33m(\u001b[0m\u001b[0mactive_context\u001b[0m\u001b[1;33m)\u001b[0m\u001b[1;33m\u001b[0m\u001b[1;33m\u001b[0m\u001b[0m\n\u001b[0;32m   2712\u001b[0m         \u001b[1;31m# Update the supplied context if it exists\u001b[0m\u001b[1;33m\u001b[0m\u001b[1;33m\u001b[0m\u001b[1;33m\u001b[0m\u001b[0m\n",
      "\u001b[1;32mD:\\OneDrive - Queen's University\\Python\\Projects\\sectionary package\\src\\sections.py\u001b[0m in \u001b[0;36m<lambda>\u001b[1;34m(func, item, context)\u001b[0m\n\u001b[0;32m    439\u001b[0m         }\n\u001b[0;32m    440\u001b[0m     process_sig = {\n\u001b[1;32m--> 441\u001b[1;33m         \u001b[1;33m(\u001b[0m\u001b[1;36m1\u001b[0m\u001b[1;33m,\u001b[0m \u001b[1;32mFalse\u001b[0m\u001b[1;33m)\u001b[0m\u001b[1;33m:\u001b[0m \u001b[1;32mlambda\u001b[0m \u001b[0mfunc\u001b[0m\u001b[1;33m,\u001b[0m \u001b[0mitem\u001b[0m\u001b[1;33m,\u001b[0m \u001b[0mcontext\u001b[0m\u001b[1;33m:\u001b[0m \u001b[0mfunc\u001b[0m\u001b[1;33m(\u001b[0m\u001b[0mitem\u001b[0m\u001b[1;33m)\u001b[0m\u001b[1;33m,\u001b[0m\u001b[1;33m\u001b[0m\u001b[1;33m\u001b[0m\u001b[0m\n\u001b[0m\u001b[0;32m    442\u001b[0m         \u001b[1;33m(\u001b[0m\u001b[1;36m2\u001b[0m\u001b[1;33m,\u001b[0m \u001b[1;32mFalse\u001b[0m\u001b[1;33m)\u001b[0m\u001b[1;33m:\u001b[0m \u001b[1;32mlambda\u001b[0m \u001b[0mfunc\u001b[0m\u001b[1;33m,\u001b[0m \u001b[0mitem\u001b[0m\u001b[1;33m,\u001b[0m \u001b[0mcontext\u001b[0m\u001b[1;33m:\u001b[0m \u001b[0mfunc\u001b[0m\u001b[1;33m(\u001b[0m\u001b[0mitem\u001b[0m\u001b[1;33m,\u001b[0m \u001b[0mcontext\u001b[0m\u001b[1;33m)\u001b[0m\u001b[1;33m,\u001b[0m\u001b[1;33m\u001b[0m\u001b[1;33m\u001b[0m\u001b[0m\n\u001b[0;32m    443\u001b[0m         \u001b[1;33m(\u001b[0m\u001b[1;36m1\u001b[0m\u001b[1;33m,\u001b[0m \u001b[1;32mTrue\u001b[0m\u001b[1;33m)\u001b[0m\u001b[1;33m:\u001b[0m \u001b[1;32mlambda\u001b[0m \u001b[0mfunc\u001b[0m\u001b[1;33m,\u001b[0m \u001b[0mitem\u001b[0m\u001b[1;33m,\u001b[0m \u001b[0mcontext\u001b[0m\u001b[1;33m:\u001b[0m \u001b[0mfunc\u001b[0m\u001b[1;33m(\u001b[0m\u001b[0mitem\u001b[0m\u001b[1;33m,\u001b[0m \u001b[1;33m**\u001b[0m\u001b[0mcontext\u001b[0m\u001b[1;33m)\u001b[0m\u001b[1;33m\u001b[0m\u001b[1;33m\u001b[0m\u001b[0m\n",
      "\u001b[1;32mD:\\OneDrive - Queen's University\\Python\\Projects\\sectionary package\\src\\sections.py\u001b[0m in \u001b[0;36mprocess\u001b[1;34m(self, source, start_search, context)\u001b[0m\n\u001b[0;32m   2655\u001b[0m         \u001b[1;32mwhile\u001b[0m \u001b[1;32mTrue\u001b[0m\u001b[1;33m:\u001b[0m\u001b[1;33m\u001b[0m\u001b[1;33m\u001b[0m\u001b[0m\n\u001b[0;32m   2656\u001b[0m             \u001b[1;32mtry\u001b[0m\u001b[1;33m:\u001b[0m\u001b[1;33m\u001b[0m\u001b[1;33m\u001b[0m\u001b[0m\n\u001b[1;32m-> 2657\u001b[1;33m                 \u001b[0mitem_read\u001b[0m \u001b[1;33m=\u001b[0m \u001b[0mnext\u001b[0m\u001b[1;33m(\u001b[0m\u001b[0mprocess_iter\u001b[0m\u001b[1;33m)\u001b[0m\u001b[1;33m\u001b[0m\u001b[1;33m\u001b[0m\u001b[0m\n\u001b[0m\u001b[0;32m   2658\u001b[0m             \u001b[1;32mexcept\u001b[0m \u001b[1;33m(\u001b[0m\u001b[0mStopIteration\u001b[0m\u001b[1;33m,\u001b[0m \u001b[0mRuntimeError\u001b[0m\u001b[1;33m)\u001b[0m\u001b[1;33m:\u001b[0m\u001b[1;33m\u001b[0m\u001b[1;33m\u001b[0m\u001b[0m\n\u001b[0;32m   2659\u001b[0m                 \u001b[1;32mbreak\u001b[0m  \u001b[1;31m# loop until iterator ends\u001b[0m\u001b[1;33m\u001b[0m\u001b[1;33m\u001b[0m\u001b[0m\n",
      "\u001b[1;32mD:\\OneDrive - Queen's University\\Python\\Projects\\sectionary package\\src\\sections.py\u001b[0m in \u001b[0;36mread_subsection_groups\u001b[1;34m(self, subsection_group, source, context)\u001b[0m\n\u001b[0;32m   1740\u001b[0m             \u001b[0msection_group\u001b[0m \u001b[1;33m=\u001b[0m \u001b[1;33m{\u001b[0m\u001b[1;33m}\u001b[0m\u001b[1;33m\u001b[0m\u001b[1;33m\u001b[0m\u001b[0m\n\u001b[0;32m   1741\u001b[0m             \u001b[1;32mfor\u001b[0m \u001b[0msubsection\u001b[0m \u001b[1;32min\u001b[0m \u001b[0msubsection_group\u001b[0m\u001b[1;33m:\u001b[0m\u001b[1;33m\u001b[0m\u001b[1;33m\u001b[0m\u001b[0m\n\u001b[1;32m-> 1742\u001b[1;33m                 subsection_item = subsection.read(active_source,\n\u001b[0m\u001b[0;32m   1743\u001b[0m                                                   context=context)\n\u001b[0;32m   1744\u001b[0m                 \u001b[1;31m# Generator exits are captured by the read method.\u001b[0m\u001b[1;33m\u001b[0m\u001b[1;33m\u001b[0m\u001b[1;33m\u001b[0m\u001b[0m\n",
      "\u001b[1;32mD:\\OneDrive - Queen's University\\Python\\Projects\\sectionary package\\src\\sections.py\u001b[0m in \u001b[0;36mread\u001b[1;34m(self, source, start_search, context)\u001b[0m\n\u001b[0;32m   2708\u001b[0m         \u001b[1;31m# local variable to get it to update with the assemble function.\u001b[0m\u001b[1;33m\u001b[0m\u001b[1;33m\u001b[0m\u001b[1;33m\u001b[0m\u001b[0m\n\u001b[0;32m   2709\u001b[0m         \u001b[0mactive_context\u001b[0m \u001b[1;33m=\u001b[0m \u001b[0mself\u001b[0m\u001b[1;33m.\u001b[0m\u001b[0mcontext\u001b[0m\u001b[1;33m\u001b[0m\u001b[1;33m\u001b[0m\u001b[0m\n\u001b[1;32m-> 2710\u001b[1;33m         \u001b[0msection_assembled\u001b[0m \u001b[1;33m=\u001b[0m \u001b[0mself\u001b[0m\u001b[1;33m.\u001b[0m\u001b[0massemble\u001b[0m\u001b[1;33m(\u001b[0m\u001b[0msection_processor\u001b[0m\u001b[1;33m,\u001b[0m \u001b[0mactive_context\u001b[0m\u001b[1;33m)\u001b[0m\u001b[1;33m\u001b[0m\u001b[1;33m\u001b[0m\u001b[0m\n\u001b[0m\u001b[0;32m   2711\u001b[0m         \u001b[0mself\u001b[0m\u001b[1;33m.\u001b[0m\u001b[0mcontext\u001b[0m\u001b[1;33m.\u001b[0m\u001b[0mupdate\u001b[0m\u001b[1;33m(\u001b[0m\u001b[0mactive_context\u001b[0m\u001b[1;33m)\u001b[0m\u001b[1;33m\u001b[0m\u001b[1;33m\u001b[0m\u001b[0m\n\u001b[0;32m   2712\u001b[0m         \u001b[1;31m# Update the supplied context if it exists\u001b[0m\u001b[1;33m\u001b[0m\u001b[1;33m\u001b[0m\u001b[1;33m\u001b[0m\u001b[0m\n",
      "\u001b[1;32mD:\\OneDrive - Queen's University\\Python\\Projects\\sectionary package\\src\\sections.py\u001b[0m in \u001b[0;36m<lambda>\u001b[1;34m(func, item, context)\u001b[0m\n\u001b[0;32m    439\u001b[0m         }\n\u001b[0;32m    440\u001b[0m     process_sig = {\n\u001b[1;32m--> 441\u001b[1;33m         \u001b[1;33m(\u001b[0m\u001b[1;36m1\u001b[0m\u001b[1;33m,\u001b[0m \u001b[1;32mFalse\u001b[0m\u001b[1;33m)\u001b[0m\u001b[1;33m:\u001b[0m \u001b[1;32mlambda\u001b[0m \u001b[0mfunc\u001b[0m\u001b[1;33m,\u001b[0m \u001b[0mitem\u001b[0m\u001b[1;33m,\u001b[0m \u001b[0mcontext\u001b[0m\u001b[1;33m:\u001b[0m \u001b[0mfunc\u001b[0m\u001b[1;33m(\u001b[0m\u001b[0mitem\u001b[0m\u001b[1;33m)\u001b[0m\u001b[1;33m,\u001b[0m\u001b[1;33m\u001b[0m\u001b[1;33m\u001b[0m\u001b[0m\n\u001b[0m\u001b[0;32m    442\u001b[0m         \u001b[1;33m(\u001b[0m\u001b[1;36m2\u001b[0m\u001b[1;33m,\u001b[0m \u001b[1;32mFalse\u001b[0m\u001b[1;33m)\u001b[0m\u001b[1;33m:\u001b[0m \u001b[1;32mlambda\u001b[0m \u001b[0mfunc\u001b[0m\u001b[1;33m,\u001b[0m \u001b[0mitem\u001b[0m\u001b[1;33m,\u001b[0m \u001b[0mcontext\u001b[0m\u001b[1;33m:\u001b[0m \u001b[0mfunc\u001b[0m\u001b[1;33m(\u001b[0m\u001b[0mitem\u001b[0m\u001b[1;33m,\u001b[0m \u001b[0mcontext\u001b[0m\u001b[1;33m)\u001b[0m\u001b[1;33m,\u001b[0m\u001b[1;33m\u001b[0m\u001b[1;33m\u001b[0m\u001b[0m\n\u001b[0;32m    443\u001b[0m         \u001b[1;33m(\u001b[0m\u001b[1;36m1\u001b[0m\u001b[1;33m,\u001b[0m \u001b[1;32mTrue\u001b[0m\u001b[1;33m)\u001b[0m\u001b[1;33m:\u001b[0m \u001b[1;32mlambda\u001b[0m \u001b[0mfunc\u001b[0m\u001b[1;33m,\u001b[0m \u001b[0mitem\u001b[0m\u001b[1;33m,\u001b[0m \u001b[0mcontext\u001b[0m\u001b[1;33m:\u001b[0m \u001b[0mfunc\u001b[0m\u001b[1;33m(\u001b[0m\u001b[0mitem\u001b[0m\u001b[1;33m,\u001b[0m \u001b[1;33m**\u001b[0m\u001b[0mcontext\u001b[0m\u001b[1;33m)\u001b[0m\u001b[1;33m\u001b[0m\u001b[1;33m\u001b[0m\u001b[0m\n",
      "\u001b[1;32mD:\\OneDrive - Queen's University\\Python\\Projects\\sectionary package\\src\\sections.py\u001b[0m in \u001b[0;36mprocess\u001b[1;34m(self, source, start_search, context)\u001b[0m\n\u001b[0;32m   2655\u001b[0m         \u001b[1;32mwhile\u001b[0m \u001b[1;32mTrue\u001b[0m\u001b[1;33m:\u001b[0m\u001b[1;33m\u001b[0m\u001b[1;33m\u001b[0m\u001b[0m\n\u001b[0;32m   2656\u001b[0m             \u001b[1;32mtry\u001b[0m\u001b[1;33m:\u001b[0m\u001b[1;33m\u001b[0m\u001b[1;33m\u001b[0m\u001b[0m\n\u001b[1;32m-> 2657\u001b[1;33m                 \u001b[0mitem_read\u001b[0m \u001b[1;33m=\u001b[0m \u001b[0mnext\u001b[0m\u001b[1;33m(\u001b[0m\u001b[0mprocess_iter\u001b[0m\u001b[1;33m)\u001b[0m\u001b[1;33m\u001b[0m\u001b[1;33m\u001b[0m\u001b[0m\n\u001b[0m\u001b[0;32m   2658\u001b[0m             \u001b[1;32mexcept\u001b[0m \u001b[1;33m(\u001b[0m\u001b[0mStopIteration\u001b[0m\u001b[1;33m,\u001b[0m \u001b[0mRuntimeError\u001b[0m\u001b[1;33m)\u001b[0m\u001b[1;33m:\u001b[0m\u001b[1;33m\u001b[0m\u001b[1;33m\u001b[0m\u001b[0m\n\u001b[0;32m   2659\u001b[0m                 \u001b[1;32mbreak\u001b[0m  \u001b[1;31m# loop until iterator ends\u001b[0m\u001b[1;33m\u001b[0m\u001b[1;33m\u001b[0m\u001b[0m\n",
      "\u001b[1;32mD:\\OneDrive - Queen's University\\Python\\Projects\\sectionary package\\src\\sections.py\u001b[0m in \u001b[0;36m<genexpr>\u001b[1;34m(.0)\u001b[0m\n\u001b[0;32m   1665\u001b[0m         \u001b[1;32mif\u001b[0m \u001b[0mfunc\u001b[0m\u001b[1;33m.\u001b[0m\u001b[0mis_gen\u001b[0m\u001b[1;33m:\u001b[0m\u001b[1;33m\u001b[0m\u001b[1;33m\u001b[0m\u001b[0m\n\u001b[0;32m   1666\u001b[0m             \u001b[1;32mreturn\u001b[0m \u001b[0mfunc\u001b[0m\u001b[1;33m(\u001b[0m\u001b[0miter\u001b[0m\u001b[1;33m(\u001b[0m\u001b[0msource\u001b[0m\u001b[1;33m)\u001b[0m\u001b[1;33m,\u001b[0m \u001b[0mcontext\u001b[0m\u001b[1;33m)\u001b[0m\u001b[1;33m\u001b[0m\u001b[1;33m\u001b[0m\u001b[0m\n\u001b[1;32m-> 1667\u001b[1;33m         \u001b[1;32mreturn\u001b[0m \u001b[1;33m(\u001b[0m\u001b[0mfunc\u001b[0m\u001b[1;33m(\u001b[0m\u001b[0mitem\u001b[0m\u001b[1;33m,\u001b[0m \u001b[0mcontext\u001b[0m\u001b[1;33m)\u001b[0m \u001b[1;32mfor\u001b[0m \u001b[0mitem\u001b[0m \u001b[1;32min\u001b[0m \u001b[0msource\u001b[0m\u001b[1;33m)\u001b[0m\u001b[1;33m\u001b[0m\u001b[1;33m\u001b[0m\u001b[0m\n\u001b[0m\u001b[0;32m   1668\u001b[0m \u001b[1;33m\u001b[0m\u001b[0m\n\u001b[0;32m   1669\u001b[0m     def read_subsection(self,\n",
      "\u001b[1;32mD:\\OneDrive - Queen's University\\Python\\Projects\\sectionary package\\src\\sections.py\u001b[0m in \u001b[0;36mscan\u001b[1;34m(self, source, start_search, context)\u001b[0m\n\u001b[0;32m   2609\u001b[0m         \u001b[1;31m# Read source until end boundary is found or source ends\u001b[0m\u001b[1;33m\u001b[0m\u001b[1;33m\u001b[0m\u001b[1;33m\u001b[0m\u001b[0m\n\u001b[0;32m   2610\u001b[0m         \u001b[1;32mwhile\u001b[0m \u001b[1;32mTrue\u001b[0m\u001b[1;33m:\u001b[0m\u001b[1;33m\u001b[0m\u001b[1;33m\u001b[0m\u001b[0m\n\u001b[1;32m-> 2611\u001b[1;33m             \u001b[0mnext_item\u001b[0m \u001b[1;33m=\u001b[0m \u001b[0mself\u001b[0m\u001b[1;33m.\u001b[0m\u001b[0mstep_source\u001b[0m\u001b[1;33m(\u001b[0m\u001b[1;33m)\u001b[0m\u001b[1;33m\u001b[0m\u001b[1;33m\u001b[0m\u001b[0m\n\u001b[0m\u001b[0;32m   2612\u001b[0m             \u001b[1;32mif\u001b[0m \u001b[0mself\u001b[0m\u001b[1;33m.\u001b[0m\u001b[0mscan_status\u001b[0m \u001b[1;32min\u001b[0m \u001b[1;33m[\u001b[0m\u001b[1;34m'Scan Complete'\u001b[0m\u001b[1;33m,\u001b[0m \u001b[1;34m'End of Source'\u001b[0m\u001b[1;33m]\u001b[0m\u001b[1;33m:\u001b[0m\u001b[1;33m\u001b[0m\u001b[1;33m\u001b[0m\u001b[0m\n\u001b[0;32m   2613\u001b[0m                 \u001b[1;32mbreak\u001b[0m  \u001b[1;31m# Break if end of source reached\u001b[0m\u001b[1;33m\u001b[0m\u001b[1;33m\u001b[0m\u001b[0m\n",
      "\u001b[1;32mD:\\OneDrive - Queen's University\\Python\\Projects\\sectionary package\\src\\sections.py\u001b[0m in \u001b[0;36mstep_source\u001b[1;34m(self)\u001b[0m\n\u001b[0;32m   2507\u001b[0m             \u001b[1;31m# next must be called on the top level Source not the base one,\u001b[0m\u001b[1;33m\u001b[0m\u001b[1;33m\u001b[0m\u001b[1;33m\u001b[0m\u001b[0m\n\u001b[0;32m   2508\u001b[0m             \u001b[1;31m# otherwise it will not supply the correct item here.\u001b[0m\u001b[1;33m\u001b[0m\u001b[1;33m\u001b[0m\u001b[1;33m\u001b[0m\u001b[0m\n\u001b[1;32m-> 2509\u001b[1;33m             \u001b[0mnext_item\u001b[0m \u001b[1;33m=\u001b[0m \u001b[0mnext\u001b[0m\u001b[1;33m(\u001b[0m\u001b[0mself\u001b[0m\u001b[1;33m.\u001b[0m\u001b[0msource\u001b[0m\u001b[1;33m)\u001b[0m\u001b[1;33m\u001b[0m\u001b[1;33m\u001b[0m\u001b[0m\n\u001b[0m\u001b[0;32m   2510\u001b[0m         \u001b[1;32mexcept\u001b[0m \u001b[1;33m(\u001b[0m\u001b[0mRuntimeError\u001b[0m\u001b[1;33m)\u001b[0m \u001b[1;32mas\u001b[0m \u001b[0merr\u001b[0m\u001b[1;33m:\u001b[0m\u001b[1;33m\u001b[0m\u001b[1;33m\u001b[0m\u001b[0m\n\u001b[0;32m   2511\u001b[0m             \u001b[0mself\u001b[0m\u001b[1;33m.\u001b[0m\u001b[0mscan_status\u001b[0m \u001b[1;33m=\u001b[0m \u001b[1;34m'Scan Complete'\u001b[0m\u001b[1;33m\u001b[0m\u001b[1;33m\u001b[0m\u001b[0m\n",
      "\u001b[1;32mD:\\OneDrive - Queen's University\\Python\\Projects\\sectionary package\\src\\buffered_iterator.py\u001b[0m in \u001b[0;36m__next__\u001b[1;34m(self)\u001b[0m\n\u001b[0;32m    227\u001b[0m         '''\n\u001b[0;32m    228\u001b[0m         \u001b[1;32mtry\u001b[0m\u001b[1;33m:\u001b[0m\u001b[1;33m\u001b[0m\u001b[1;33m\u001b[0m\u001b[0m\n\u001b[1;32m--> 229\u001b[1;33m             \u001b[0mnext_line\u001b[0m \u001b[1;33m=\u001b[0m \u001b[0mself\u001b[0m\u001b[1;33m.\u001b[0m\u001b[0mget_next_item\u001b[0m\u001b[1;33m(\u001b[0m\u001b[1;33m)\u001b[0m\u001b[1;33m\u001b[0m\u001b[1;33m\u001b[0m\u001b[0m\n\u001b[0m\u001b[0;32m    230\u001b[0m         \u001b[1;32mexcept\u001b[0m \u001b[0mBufferedIteratorEOF\u001b[0m \u001b[1;32mas\u001b[0m \u001b[0meof\u001b[0m\u001b[1;33m:\u001b[0m\u001b[1;33m\u001b[0m\u001b[1;33m\u001b[0m\u001b[0m\n\u001b[0;32m    231\u001b[0m             \u001b[1;32mraise\u001b[0m \u001b[0meof\u001b[0m\u001b[1;33m\u001b[0m\u001b[1;33m\u001b[0m\u001b[0m\n",
      "\u001b[1;32mD:\\OneDrive - Queen's University\\Python\\Projects\\sectionary package\\src\\buffered_iterator.py\u001b[0m in \u001b[0;36mget_next_item\u001b[1;34m(self)\u001b[0m\n\u001b[0;32m    200\u001b[0m             \u001b[1;32mtry\u001b[0m\u001b[1;33m:\u001b[0m\u001b[1;33m\u001b[0m\u001b[1;33m\u001b[0m\u001b[0m\n\u001b[0;32m    201\u001b[0m                 \u001b[1;31m# Read from the iterator source\u001b[0m\u001b[1;33m\u001b[0m\u001b[1;33m\u001b[0m\u001b[1;33m\u001b[0m\u001b[0m\n\u001b[1;32m--> 202\u001b[1;33m                 \u001b[0mnext_item\u001b[0m \u001b[1;33m=\u001b[0m \u001b[0mself\u001b[0m\u001b[1;33m.\u001b[0m\u001b[0msource_gen\u001b[0m\u001b[1;33m.\u001b[0m\u001b[0m__next__\u001b[0m\u001b[1;33m(\u001b[0m\u001b[1;33m)\u001b[0m\u001b[1;33m\u001b[0m\u001b[1;33m\u001b[0m\u001b[0m\n\u001b[0m\u001b[0;32m    203\u001b[0m             \u001b[1;32mexcept\u001b[0m \u001b[1;33m(\u001b[0m\u001b[0mStopIteration\u001b[0m\u001b[1;33m,\u001b[0m \u001b[0mRuntimeError\u001b[0m\u001b[1;33m)\u001b[0m \u001b[1;32mas\u001b[0m \u001b[0meof\u001b[0m\u001b[1;33m:\u001b[0m\u001b[1;33m\u001b[0m\u001b[1;33m\u001b[0m\u001b[0m\n\u001b[0;32m    204\u001b[0m                 \u001b[1;31m# Treat \"StopIteration\" or \"RuntimeError\" exceptions as\u001b[0m\u001b[1;33m\u001b[0m\u001b[1;33m\u001b[0m\u001b[1;33m\u001b[0m\u001b[0m\n",
      "\u001b[1;32mD:\\OneDrive - Queen's University\\Python\\Projects\\sectionary package\\src\\buffered_iterator.py\u001b[0m in \u001b[0;36m__iter__\u001b[1;34m(self)\u001b[0m\n\u001b[0;32m    244\u001b[0m         \u001b[1;32mwhile\u001b[0m \u001b[1;32mTrue\u001b[0m\u001b[1;33m:\u001b[0m\u001b[1;33m\u001b[0m\u001b[1;33m\u001b[0m\u001b[0m\n\u001b[0;32m    245\u001b[0m             \u001b[1;32mtry\u001b[0m\u001b[1;33m:\u001b[0m\u001b[1;33m\u001b[0m\u001b[1;33m\u001b[0m\u001b[0m\n\u001b[1;32m--> 246\u001b[1;33m                 \u001b[0mnext_line\u001b[0m \u001b[1;33m=\u001b[0m \u001b[0mself\u001b[0m\u001b[1;33m.\u001b[0m\u001b[0m__next__\u001b[0m\u001b[1;33m(\u001b[0m\u001b[1;33m)\u001b[0m\u001b[1;33m\u001b[0m\u001b[1;33m\u001b[0m\u001b[0m\n\u001b[0m\u001b[0;32m    247\u001b[0m             \u001b[1;32mexcept\u001b[0m \u001b[0mBufferedIteratorEOF\u001b[0m\u001b[1;33m:\u001b[0m\u001b[1;33m\u001b[0m\u001b[1;33m\u001b[0m\u001b[0m\n\u001b[0;32m    248\u001b[0m                 \u001b[1;32mbreak\u001b[0m\u001b[1;33m\u001b[0m\u001b[1;33m\u001b[0m\u001b[0m\n",
      "\u001b[1;32mD:\\OneDrive - Queen's University\\Python\\Projects\\sectionary package\\src\\buffered_iterator.py\u001b[0m in \u001b[0;36m__next__\u001b[1;34m(self)\u001b[0m\n\u001b[0;32m    227\u001b[0m         '''\n\u001b[0;32m    228\u001b[0m         \u001b[1;32mtry\u001b[0m\u001b[1;33m:\u001b[0m\u001b[1;33m\u001b[0m\u001b[1;33m\u001b[0m\u001b[0m\n\u001b[1;32m--> 229\u001b[1;33m             \u001b[0mnext_line\u001b[0m \u001b[1;33m=\u001b[0m \u001b[0mself\u001b[0m\u001b[1;33m.\u001b[0m\u001b[0mget_next_item\u001b[0m\u001b[1;33m(\u001b[0m\u001b[1;33m)\u001b[0m\u001b[1;33m\u001b[0m\u001b[1;33m\u001b[0m\u001b[0m\n\u001b[0m\u001b[0;32m    230\u001b[0m         \u001b[1;32mexcept\u001b[0m \u001b[0mBufferedIteratorEOF\u001b[0m \u001b[1;32mas\u001b[0m \u001b[0meof\u001b[0m\u001b[1;33m:\u001b[0m\u001b[1;33m\u001b[0m\u001b[1;33m\u001b[0m\u001b[0m\n\u001b[0;32m    231\u001b[0m             \u001b[1;32mraise\u001b[0m \u001b[0meof\u001b[0m\u001b[1;33m\u001b[0m\u001b[1;33m\u001b[0m\u001b[0m\n",
      "\u001b[1;32mD:\\OneDrive - Queen's University\\Python\\Projects\\sectionary package\\src\\buffered_iterator.py\u001b[0m in \u001b[0;36mget_next_item\u001b[1;34m(self)\u001b[0m\n\u001b[0;32m    200\u001b[0m             \u001b[1;32mtry\u001b[0m\u001b[1;33m:\u001b[0m\u001b[1;33m\u001b[0m\u001b[1;33m\u001b[0m\u001b[0m\n\u001b[0;32m    201\u001b[0m                 \u001b[1;31m# Read from the iterator source\u001b[0m\u001b[1;33m\u001b[0m\u001b[1;33m\u001b[0m\u001b[1;33m\u001b[0m\u001b[0m\n\u001b[1;32m--> 202\u001b[1;33m                 \u001b[0mnext_item\u001b[0m \u001b[1;33m=\u001b[0m \u001b[0mself\u001b[0m\u001b[1;33m.\u001b[0m\u001b[0msource_gen\u001b[0m\u001b[1;33m.\u001b[0m\u001b[0m__next__\u001b[0m\u001b[1;33m(\u001b[0m\u001b[1;33m)\u001b[0m\u001b[1;33m\u001b[0m\u001b[1;33m\u001b[0m\u001b[0m\n\u001b[0m\u001b[0;32m    203\u001b[0m             \u001b[1;32mexcept\u001b[0m \u001b[1;33m(\u001b[0m\u001b[0mStopIteration\u001b[0m\u001b[1;33m,\u001b[0m \u001b[0mRuntimeError\u001b[0m\u001b[1;33m)\u001b[0m \u001b[1;32mas\u001b[0m \u001b[0meof\u001b[0m\u001b[1;33m:\u001b[0m\u001b[1;33m\u001b[0m\u001b[1;33m\u001b[0m\u001b[0m\n\u001b[0;32m    204\u001b[0m                 \u001b[1;31m# Treat \"StopIteration\" or \"RuntimeError\" exceptions as\u001b[0m\u001b[1;33m\u001b[0m\u001b[1;33m\u001b[0m\u001b[1;33m\u001b[0m\u001b[0m\n",
      "\u001b[1;32mD:\\OneDrive - Queen's University\\Python\\Projects\\sectionary package\\src\\sections.py\u001b[0m in \u001b[0;36mscan\u001b[1;34m(self, source, start_search, context)\u001b[0m\n\u001b[0;32m   2609\u001b[0m         \u001b[1;31m# Read source until end boundary is found or source ends\u001b[0m\u001b[1;33m\u001b[0m\u001b[1;33m\u001b[0m\u001b[1;33m\u001b[0m\u001b[0m\n\u001b[0;32m   2610\u001b[0m         \u001b[1;32mwhile\u001b[0m \u001b[1;32mTrue\u001b[0m\u001b[1;33m:\u001b[0m\u001b[1;33m\u001b[0m\u001b[1;33m\u001b[0m\u001b[0m\n\u001b[1;32m-> 2611\u001b[1;33m             \u001b[0mnext_item\u001b[0m \u001b[1;33m=\u001b[0m \u001b[0mself\u001b[0m\u001b[1;33m.\u001b[0m\u001b[0mstep_source\u001b[0m\u001b[1;33m(\u001b[0m\u001b[1;33m)\u001b[0m\u001b[1;33m\u001b[0m\u001b[1;33m\u001b[0m\u001b[0m\n\u001b[0m\u001b[0;32m   2612\u001b[0m             \u001b[1;32mif\u001b[0m \u001b[0mself\u001b[0m\u001b[1;33m.\u001b[0m\u001b[0mscan_status\u001b[0m \u001b[1;32min\u001b[0m \u001b[1;33m[\u001b[0m\u001b[1;34m'Scan Complete'\u001b[0m\u001b[1;33m,\u001b[0m \u001b[1;34m'End of Source'\u001b[0m\u001b[1;33m]\u001b[0m\u001b[1;33m:\u001b[0m\u001b[1;33m\u001b[0m\u001b[1;33m\u001b[0m\u001b[0m\n\u001b[0;32m   2613\u001b[0m                 \u001b[1;32mbreak\u001b[0m  \u001b[1;31m# Break if end of source reached\u001b[0m\u001b[1;33m\u001b[0m\u001b[1;33m\u001b[0m\u001b[0m\n",
      "\u001b[1;32mD:\\OneDrive - Queen's University\\Python\\Projects\\sectionary package\\src\\sections.py\u001b[0m in \u001b[0;36mstep_source\u001b[1;34m(self)\u001b[0m\n\u001b[0;32m   2520\u001b[0m             \u001b[1;32melse\u001b[0m\u001b[1;33m:\u001b[0m\u001b[1;33m\u001b[0m\u001b[1;33m\u001b[0m\u001b[0m\n\u001b[0;32m   2521\u001b[0m                 \u001b[0mself\u001b[0m\u001b[1;33m.\u001b[0m\u001b[0mis_first_item\u001b[0m \u001b[1;33m=\u001b[0m \u001b[1;32mFalse\u001b[0m\u001b[1;33m\u001b[0m\u001b[1;33m\u001b[0m\u001b[0m\n\u001b[1;32m-> 2522\u001b[1;33m             \u001b[0mlogger\u001b[0m\u001b[1;33m.\u001b[0m\u001b[0mdebug\u001b[0m\u001b[1;33m(\u001b[0m\u001b[1;34mf'In:\\t{self.name}\\tGot item:\\t{next_item}'\u001b[0m\u001b[1;33m)\u001b[0m\u001b[1;33m\u001b[0m\u001b[1;33m\u001b[0m\u001b[0m\n\u001b[0m\u001b[0;32m   2523\u001b[0m         \u001b[1;32mfinally\u001b[0m\u001b[1;33m:\u001b[0m\u001b[1;33m\u001b[0m\u001b[1;33m\u001b[0m\u001b[0m\n\u001b[0;32m   2524\u001b[0m             \u001b[0mlogger\u001b[0m\u001b[1;33m.\u001b[0m\u001b[0mdebug\u001b[0m\u001b[1;33m(\u001b[0m\u001b[1;34mf'Break Status:\\t{self.scan_status}'\u001b[0m\u001b[1;33m)\u001b[0m\u001b[1;33m\u001b[0m\u001b[1;33m\u001b[0m\u001b[0m\n",
      "\u001b[1;32mc:\\Users\\smoke\\.conda\\envs\\sectionaryDev\\lib\\logging\\__init__.py\u001b[0m in \u001b[0;36mdebug\u001b[1;34m(self, msg, *args, **kwargs)\u001b[0m\n\u001b[0;32m   1422\u001b[0m         \u001b[0mself\u001b[0m\u001b[1;33m.\u001b[0m\u001b[0mmanager\u001b[0m\u001b[1;33m.\u001b[0m\u001b[0m_clear_cache\u001b[0m\u001b[1;33m(\u001b[0m\u001b[1;33m)\u001b[0m\u001b[1;33m\u001b[0m\u001b[1;33m\u001b[0m\u001b[0m\n\u001b[0;32m   1423\u001b[0m \u001b[1;33m\u001b[0m\u001b[0m\n\u001b[1;32m-> 1424\u001b[1;33m     \u001b[1;32mdef\u001b[0m \u001b[0mdebug\u001b[0m\u001b[1;33m(\u001b[0m\u001b[0mself\u001b[0m\u001b[1;33m,\u001b[0m \u001b[0mmsg\u001b[0m\u001b[1;33m,\u001b[0m \u001b[1;33m*\u001b[0m\u001b[0margs\u001b[0m\u001b[1;33m,\u001b[0m \u001b[1;33m**\u001b[0m\u001b[0mkwargs\u001b[0m\u001b[1;33m)\u001b[0m\u001b[1;33m:\u001b[0m\u001b[1;33m\u001b[0m\u001b[1;33m\u001b[0m\u001b[0m\n\u001b[0m\u001b[0;32m   1425\u001b[0m         \"\"\"\n\u001b[0;32m   1426\u001b[0m         \u001b[0mLog\u001b[0m \u001b[1;34m'msg % args'\u001b[0m \u001b[1;32mwith\u001b[0m \u001b[0mseverity\u001b[0m \u001b[1;34m'DEBUG'\u001b[0m\u001b[1;33m.\u001b[0m\u001b[1;33m\u001b[0m\u001b[1;33m\u001b[0m\u001b[0m\n",
      "\u001b[1;31mKeyboardInterrupt\u001b[0m: "
     ]
    }
   ],
   "source": [
    "test_text = [\n",
    "    'Text to be ignored',\n",
    "    'StartSection A',\n",
    "    'EndSection A',\n",
    "    'StartSection B',\n",
    "    'EndSection B',\n",
    "    'More text to be ignored',\n",
    "    ]\n",
    "start_sub_section = Section(\n",
    "    name='StartSubSection',\n",
    "    start_section=SectionBreak('StartSection', break_offset='Before'),\n",
    "    end_section=SectionBreak('EndSection', break_offset='Before')\n",
    "    )\n",
    "end_sub_section = Section(\n",
    "    name='EndSubSection',\n",
    "    start_section=SectionBreak('EndSection', break_offset='Before'),\n",
    "    end_section=SectionBreak(True, break_offset='Before')\n",
    "    )\n",
    "full_section = Section(\n",
    "    name='Full',\n",
    "    processor=[(start_sub_section, end_sub_section)]\n",
    "    )\n",
    "read_1 = full_section.read(test_text)"
   ]
  },
  {
   "cell_type": "code",
   "execution_count": 11,
   "metadata": {},
   "outputs": [
    {
     "name": "stdout",
     "output_type": "stream",
     "text": [
      "[{'EndSubSection': ['EndSection B'], 'StartSubSection': ['StartSection A']},\n",
      " None]\n"
     ]
    }
   ],
   "source": [
    "pprint(read_1)"
   ]
  },
  {
   "attachments": {},
   "cell_type": "markdown",
   "metadata": {},
   "source": [
    "Expected\n",
    "```\n",
    "    {'StartSubSection': ['StartSection A'],\n",
    "        'EndSubSection': ['EndSection A']},\n",
    "    {'StartSubSection': ['StartSection B'],\n",
    "        'EndSubSection': ['EndSection B']}\n",
    "```"
   ]
  },
  {
   "attachments": {},
   "cell_type": "markdown",
   "metadata": {},
   "source": [
    "Expected Output:\n",
    "```\n",
    "[\n",
    "    [['StartSection A', 'MiddleSection A', 'EndSection A']],\n",
    "    [['StartSection B', 'MiddleSection B', 'EndSection B']],\n",
    "    [['StartSection C', 'MiddleSection C', 'EndSection C']]\n",
    "    ]\n",
    "```"
   ]
  },
  {
   "cell_type": "markdown",
   "metadata": {},
   "source": [
    "![Error](..\\Error.png) **Infinite loop**\n"
   ]
  },
  {
   "cell_type": "code",
   "execution_count": 8,
   "metadata": {},
   "outputs": [
    {
     "ename": "KeyboardInterrupt",
     "evalue": "",
     "output_type": "error",
     "traceback": [
      "\u001b[1;31m---------------------------------------------------------------------------\u001b[0m",
      "\u001b[1;31mKeyboardInterrupt\u001b[0m                         Traceback (most recent call last)",
      "\u001b[1;32m~\\AppData\\Local\\Temp\\ipykernel_18416\\2239759477.py\u001b[0m in \u001b[0;36m<module>\u001b[1;34m\u001b[0m\n\u001b[0;32m     23\u001b[0m     \u001b[0mprocessor\u001b[0m\u001b[1;33m=\u001b[0m\u001b[0mfull_section\u001b[0m\u001b[1;33m\u001b[0m\u001b[1;33m\u001b[0m\u001b[0m\n\u001b[0;32m     24\u001b[0m     )\n\u001b[1;32m---> 25\u001b[1;33m \u001b[0mread_1\u001b[0m \u001b[1;33m=\u001b[0m \u001b[0mmulti_section\u001b[0m\u001b[1;33m.\u001b[0m\u001b[0mread\u001b[0m\u001b[1;33m(\u001b[0m\u001b[0mtest_text\u001b[0m\u001b[1;33m)\u001b[0m\u001b[1;33m\u001b[0m\u001b[1;33m\u001b[0m\u001b[0m\n\u001b[0m\u001b[0;32m     26\u001b[0m \u001b[0mread_1\u001b[0m\u001b[1;33m\u001b[0m\u001b[1;33m\u001b[0m\u001b[0m\n",
      "\u001b[1;32mD:\\OneDrive - Queen's University\\Python\\Projects\\sectionary package\\src\\sections.py\u001b[0m in \u001b[0;36mread\u001b[1;34m(self, source, start_search, context)\u001b[0m\n\u001b[0;32m   2708\u001b[0m         \u001b[1;31m# local variable to get it to update with the assemble function.\u001b[0m\u001b[1;33m\u001b[0m\u001b[1;33m\u001b[0m\u001b[1;33m\u001b[0m\u001b[0m\n\u001b[0;32m   2709\u001b[0m         \u001b[0mactive_context\u001b[0m \u001b[1;33m=\u001b[0m \u001b[0mself\u001b[0m\u001b[1;33m.\u001b[0m\u001b[0mcontext\u001b[0m\u001b[1;33m\u001b[0m\u001b[1;33m\u001b[0m\u001b[0m\n\u001b[1;32m-> 2710\u001b[1;33m         \u001b[0msection_assembled\u001b[0m \u001b[1;33m=\u001b[0m \u001b[0mself\u001b[0m\u001b[1;33m.\u001b[0m\u001b[0massemble\u001b[0m\u001b[1;33m(\u001b[0m\u001b[0msection_processor\u001b[0m\u001b[1;33m,\u001b[0m \u001b[0mactive_context\u001b[0m\u001b[1;33m)\u001b[0m\u001b[1;33m\u001b[0m\u001b[1;33m\u001b[0m\u001b[0m\n\u001b[0m\u001b[0;32m   2711\u001b[0m         \u001b[0mself\u001b[0m\u001b[1;33m.\u001b[0m\u001b[0mcontext\u001b[0m\u001b[1;33m.\u001b[0m\u001b[0mupdate\u001b[0m\u001b[1;33m(\u001b[0m\u001b[0mactive_context\u001b[0m\u001b[1;33m)\u001b[0m\u001b[1;33m\u001b[0m\u001b[1;33m\u001b[0m\u001b[0m\n\u001b[0;32m   2712\u001b[0m         \u001b[1;31m# Update the supplied context if it exists\u001b[0m\u001b[1;33m\u001b[0m\u001b[1;33m\u001b[0m\u001b[1;33m\u001b[0m\u001b[0m\n",
      "\u001b[1;32mD:\\OneDrive - Queen's University\\Python\\Projects\\sectionary package\\src\\sections.py\u001b[0m in \u001b[0;36m<lambda>\u001b[1;34m(func, item, context)\u001b[0m\n\u001b[0;32m    439\u001b[0m         }\n\u001b[0;32m    440\u001b[0m     process_sig = {\n\u001b[1;32m--> 441\u001b[1;33m         \u001b[1;33m(\u001b[0m\u001b[1;36m1\u001b[0m\u001b[1;33m,\u001b[0m \u001b[1;32mFalse\u001b[0m\u001b[1;33m)\u001b[0m\u001b[1;33m:\u001b[0m \u001b[1;32mlambda\u001b[0m \u001b[0mfunc\u001b[0m\u001b[1;33m,\u001b[0m \u001b[0mitem\u001b[0m\u001b[1;33m,\u001b[0m \u001b[0mcontext\u001b[0m\u001b[1;33m:\u001b[0m \u001b[0mfunc\u001b[0m\u001b[1;33m(\u001b[0m\u001b[0mitem\u001b[0m\u001b[1;33m)\u001b[0m\u001b[1;33m,\u001b[0m\u001b[1;33m\u001b[0m\u001b[1;33m\u001b[0m\u001b[0m\n\u001b[0m\u001b[0;32m    442\u001b[0m         \u001b[1;33m(\u001b[0m\u001b[1;36m2\u001b[0m\u001b[1;33m,\u001b[0m \u001b[1;32mFalse\u001b[0m\u001b[1;33m)\u001b[0m\u001b[1;33m:\u001b[0m \u001b[1;32mlambda\u001b[0m \u001b[0mfunc\u001b[0m\u001b[1;33m,\u001b[0m \u001b[0mitem\u001b[0m\u001b[1;33m,\u001b[0m \u001b[0mcontext\u001b[0m\u001b[1;33m:\u001b[0m \u001b[0mfunc\u001b[0m\u001b[1;33m(\u001b[0m\u001b[0mitem\u001b[0m\u001b[1;33m,\u001b[0m \u001b[0mcontext\u001b[0m\u001b[1;33m)\u001b[0m\u001b[1;33m,\u001b[0m\u001b[1;33m\u001b[0m\u001b[1;33m\u001b[0m\u001b[0m\n\u001b[0;32m    443\u001b[0m         \u001b[1;33m(\u001b[0m\u001b[1;36m1\u001b[0m\u001b[1;33m,\u001b[0m \u001b[1;32mTrue\u001b[0m\u001b[1;33m)\u001b[0m\u001b[1;33m:\u001b[0m \u001b[1;32mlambda\u001b[0m \u001b[0mfunc\u001b[0m\u001b[1;33m,\u001b[0m \u001b[0mitem\u001b[0m\u001b[1;33m,\u001b[0m \u001b[0mcontext\u001b[0m\u001b[1;33m:\u001b[0m \u001b[0mfunc\u001b[0m\u001b[1;33m(\u001b[0m\u001b[0mitem\u001b[0m\u001b[1;33m,\u001b[0m \u001b[1;33m**\u001b[0m\u001b[0mcontext\u001b[0m\u001b[1;33m)\u001b[0m\u001b[1;33m\u001b[0m\u001b[1;33m\u001b[0m\u001b[0m\n",
      "\u001b[1;32mD:\\OneDrive - Queen's University\\Python\\Projects\\sectionary package\\src\\sections.py\u001b[0m in \u001b[0;36mprocess\u001b[1;34m(self, source, start_search, context)\u001b[0m\n\u001b[0;32m   2655\u001b[0m         \u001b[1;32mwhile\u001b[0m \u001b[1;32mTrue\u001b[0m\u001b[1;33m:\u001b[0m\u001b[1;33m\u001b[0m\u001b[1;33m\u001b[0m\u001b[0m\n\u001b[0;32m   2656\u001b[0m             \u001b[1;32mtry\u001b[0m\u001b[1;33m:\u001b[0m\u001b[1;33m\u001b[0m\u001b[1;33m\u001b[0m\u001b[0m\n\u001b[1;32m-> 2657\u001b[1;33m                 \u001b[0mitem_read\u001b[0m \u001b[1;33m=\u001b[0m \u001b[0mnext\u001b[0m\u001b[1;33m(\u001b[0m\u001b[0mprocess_iter\u001b[0m\u001b[1;33m)\u001b[0m\u001b[1;33m\u001b[0m\u001b[1;33m\u001b[0m\u001b[0m\n\u001b[0m\u001b[0;32m   2658\u001b[0m             \u001b[1;32mexcept\u001b[0m \u001b[1;33m(\u001b[0m\u001b[0mStopIteration\u001b[0m\u001b[1;33m,\u001b[0m \u001b[0mRuntimeError\u001b[0m\u001b[1;33m)\u001b[0m\u001b[1;33m:\u001b[0m\u001b[1;33m\u001b[0m\u001b[1;33m\u001b[0m\u001b[0m\n\u001b[0;32m   2659\u001b[0m                 \u001b[1;32mbreak\u001b[0m  \u001b[1;31m# loop until iterator ends\u001b[0m\u001b[1;33m\u001b[0m\u001b[1;33m\u001b[0m\u001b[0m\n",
      "\u001b[1;32mD:\\OneDrive - Queen's University\\Python\\Projects\\sectionary package\\src\\sections.py\u001b[0m in \u001b[0;36mread_subsection\u001b[1;34m(self, subsection, source, context)\u001b[0m\n\u001b[0;32m   1690\u001b[0m         \u001b[0mdone\u001b[0m \u001b[1;33m=\u001b[0m \u001b[1;32mFalse\u001b[0m\u001b[1;33m\u001b[0m\u001b[1;33m\u001b[0m\u001b[0m\n\u001b[0;32m   1691\u001b[0m         \u001b[1;32mwhile\u001b[0m \u001b[1;32mnot\u001b[0m \u001b[0mdone\u001b[0m\u001b[1;33m:\u001b[0m\u001b[1;33m\u001b[0m\u001b[1;33m\u001b[0m\u001b[0m\n\u001b[1;32m-> 1692\u001b[1;33m             \u001b[0msection_item\u001b[0m \u001b[1;33m=\u001b[0m \u001b[0msubsection\u001b[0m\u001b[1;33m.\u001b[0m\u001b[0mread\u001b[0m\u001b[1;33m(\u001b[0m\u001b[0msource\u001b[0m\u001b[1;33m,\u001b[0m \u001b[0mcontext\u001b[0m\u001b[1;33m=\u001b[0m\u001b[0mcontext\u001b[0m\u001b[1;33m)\u001b[0m\u001b[1;33m\u001b[0m\u001b[1;33m\u001b[0m\u001b[0m\n\u001b[0m\u001b[0;32m   1693\u001b[0m             \u001b[1;31m# The calling source needs to be updated after every read call\u001b[0m\u001b[1;33m\u001b[0m\u001b[1;33m\u001b[0m\u001b[1;33m\u001b[0m\u001b[0m\n\u001b[0;32m   1694\u001b[0m             \u001b[1;31m# because the calling section may close without this loop exiting.\u001b[0m\u001b[1;33m\u001b[0m\u001b[1;33m\u001b[0m\u001b[1;33m\u001b[0m\u001b[0m\n",
      "\u001b[1;32mD:\\OneDrive - Queen's University\\Python\\Projects\\sectionary package\\src\\sections.py\u001b[0m in \u001b[0;36mread\u001b[1;34m(self, source, start_search, context)\u001b[0m\n\u001b[0;32m   2708\u001b[0m         \u001b[1;31m# local variable to get it to update with the assemble function.\u001b[0m\u001b[1;33m\u001b[0m\u001b[1;33m\u001b[0m\u001b[1;33m\u001b[0m\u001b[0m\n\u001b[0;32m   2709\u001b[0m         \u001b[0mactive_context\u001b[0m \u001b[1;33m=\u001b[0m \u001b[0mself\u001b[0m\u001b[1;33m.\u001b[0m\u001b[0mcontext\u001b[0m\u001b[1;33m\u001b[0m\u001b[1;33m\u001b[0m\u001b[0m\n\u001b[1;32m-> 2710\u001b[1;33m         \u001b[0msection_assembled\u001b[0m \u001b[1;33m=\u001b[0m \u001b[0mself\u001b[0m\u001b[1;33m.\u001b[0m\u001b[0massemble\u001b[0m\u001b[1;33m(\u001b[0m\u001b[0msection_processor\u001b[0m\u001b[1;33m,\u001b[0m \u001b[0mactive_context\u001b[0m\u001b[1;33m)\u001b[0m\u001b[1;33m\u001b[0m\u001b[1;33m\u001b[0m\u001b[0m\n\u001b[0m\u001b[0;32m   2711\u001b[0m         \u001b[0mself\u001b[0m\u001b[1;33m.\u001b[0m\u001b[0mcontext\u001b[0m\u001b[1;33m.\u001b[0m\u001b[0mupdate\u001b[0m\u001b[1;33m(\u001b[0m\u001b[0mactive_context\u001b[0m\u001b[1;33m)\u001b[0m\u001b[1;33m\u001b[0m\u001b[1;33m\u001b[0m\u001b[0m\n\u001b[0;32m   2712\u001b[0m         \u001b[1;31m# Update the supplied context if it exists\u001b[0m\u001b[1;33m\u001b[0m\u001b[1;33m\u001b[0m\u001b[1;33m\u001b[0m\u001b[0m\n",
      "\u001b[1;32mD:\\OneDrive - Queen's University\\Python\\Projects\\sectionary package\\src\\sections.py\u001b[0m in \u001b[0;36m<lambda>\u001b[1;34m(func, item, context)\u001b[0m\n\u001b[0;32m    439\u001b[0m         }\n\u001b[0;32m    440\u001b[0m     process_sig = {\n\u001b[1;32m--> 441\u001b[1;33m         \u001b[1;33m(\u001b[0m\u001b[1;36m1\u001b[0m\u001b[1;33m,\u001b[0m \u001b[1;32mFalse\u001b[0m\u001b[1;33m)\u001b[0m\u001b[1;33m:\u001b[0m \u001b[1;32mlambda\u001b[0m \u001b[0mfunc\u001b[0m\u001b[1;33m,\u001b[0m \u001b[0mitem\u001b[0m\u001b[1;33m,\u001b[0m \u001b[0mcontext\u001b[0m\u001b[1;33m:\u001b[0m \u001b[0mfunc\u001b[0m\u001b[1;33m(\u001b[0m\u001b[0mitem\u001b[0m\u001b[1;33m)\u001b[0m\u001b[1;33m,\u001b[0m\u001b[1;33m\u001b[0m\u001b[1;33m\u001b[0m\u001b[0m\n\u001b[0m\u001b[0;32m    442\u001b[0m         \u001b[1;33m(\u001b[0m\u001b[1;36m2\u001b[0m\u001b[1;33m,\u001b[0m \u001b[1;32mFalse\u001b[0m\u001b[1;33m)\u001b[0m\u001b[1;33m:\u001b[0m \u001b[1;32mlambda\u001b[0m \u001b[0mfunc\u001b[0m\u001b[1;33m,\u001b[0m \u001b[0mitem\u001b[0m\u001b[1;33m,\u001b[0m \u001b[0mcontext\u001b[0m\u001b[1;33m:\u001b[0m \u001b[0mfunc\u001b[0m\u001b[1;33m(\u001b[0m\u001b[0mitem\u001b[0m\u001b[1;33m,\u001b[0m \u001b[0mcontext\u001b[0m\u001b[1;33m)\u001b[0m\u001b[1;33m,\u001b[0m\u001b[1;33m\u001b[0m\u001b[1;33m\u001b[0m\u001b[0m\n\u001b[0;32m    443\u001b[0m         \u001b[1;33m(\u001b[0m\u001b[1;36m1\u001b[0m\u001b[1;33m,\u001b[0m \u001b[1;32mTrue\u001b[0m\u001b[1;33m)\u001b[0m\u001b[1;33m:\u001b[0m \u001b[1;32mlambda\u001b[0m \u001b[0mfunc\u001b[0m\u001b[1;33m,\u001b[0m \u001b[0mitem\u001b[0m\u001b[1;33m,\u001b[0m \u001b[0mcontext\u001b[0m\u001b[1;33m:\u001b[0m \u001b[0mfunc\u001b[0m\u001b[1;33m(\u001b[0m\u001b[0mitem\u001b[0m\u001b[1;33m,\u001b[0m \u001b[1;33m**\u001b[0m\u001b[0mcontext\u001b[0m\u001b[1;33m)\u001b[0m\u001b[1;33m\u001b[0m\u001b[1;33m\u001b[0m\u001b[0m\n",
      "\u001b[1;32mD:\\OneDrive - Queen's University\\Python\\Projects\\sectionary package\\src\\sections.py\u001b[0m in \u001b[0;36mprocess\u001b[1;34m(self, source, start_search, context)\u001b[0m\n\u001b[0;32m   2655\u001b[0m         \u001b[1;32mwhile\u001b[0m \u001b[1;32mTrue\u001b[0m\u001b[1;33m:\u001b[0m\u001b[1;33m\u001b[0m\u001b[1;33m\u001b[0m\u001b[0m\n\u001b[0;32m   2656\u001b[0m             \u001b[1;32mtry\u001b[0m\u001b[1;33m:\u001b[0m\u001b[1;33m\u001b[0m\u001b[1;33m\u001b[0m\u001b[0m\n\u001b[1;32m-> 2657\u001b[1;33m                 \u001b[0mitem_read\u001b[0m \u001b[1;33m=\u001b[0m \u001b[0mnext\u001b[0m\u001b[1;33m(\u001b[0m\u001b[0mprocess_iter\u001b[0m\u001b[1;33m)\u001b[0m\u001b[1;33m\u001b[0m\u001b[1;33m\u001b[0m\u001b[0m\n\u001b[0m\u001b[0;32m   2658\u001b[0m             \u001b[1;32mexcept\u001b[0m \u001b[1;33m(\u001b[0m\u001b[0mStopIteration\u001b[0m\u001b[1;33m,\u001b[0m \u001b[0mRuntimeError\u001b[0m\u001b[1;33m)\u001b[0m\u001b[1;33m:\u001b[0m\u001b[1;33m\u001b[0m\u001b[1;33m\u001b[0m\u001b[0m\n\u001b[0;32m   2659\u001b[0m                 \u001b[1;32mbreak\u001b[0m  \u001b[1;31m# loop until iterator ends\u001b[0m\u001b[1;33m\u001b[0m\u001b[1;33m\u001b[0m\u001b[0m\n",
      "\u001b[1;32mD:\\OneDrive - Queen's University\\Python\\Projects\\sectionary package\\src\\sections.py\u001b[0m in \u001b[0;36mread_subsection\u001b[1;34m(self, subsection, source, context)\u001b[0m\n\u001b[0;32m   1690\u001b[0m         \u001b[0mdone\u001b[0m \u001b[1;33m=\u001b[0m \u001b[1;32mFalse\u001b[0m\u001b[1;33m\u001b[0m\u001b[1;33m\u001b[0m\u001b[0m\n\u001b[0;32m   1691\u001b[0m         \u001b[1;32mwhile\u001b[0m \u001b[1;32mnot\u001b[0m \u001b[0mdone\u001b[0m\u001b[1;33m:\u001b[0m\u001b[1;33m\u001b[0m\u001b[1;33m\u001b[0m\u001b[0m\n\u001b[1;32m-> 1692\u001b[1;33m             \u001b[0msection_item\u001b[0m \u001b[1;33m=\u001b[0m \u001b[0msubsection\u001b[0m\u001b[1;33m.\u001b[0m\u001b[0mread\u001b[0m\u001b[1;33m(\u001b[0m\u001b[0msource\u001b[0m\u001b[1;33m,\u001b[0m \u001b[0mcontext\u001b[0m\u001b[1;33m=\u001b[0m\u001b[0mcontext\u001b[0m\u001b[1;33m)\u001b[0m\u001b[1;33m\u001b[0m\u001b[1;33m\u001b[0m\u001b[0m\n\u001b[0m\u001b[0;32m   1693\u001b[0m             \u001b[1;31m# The calling source needs to be updated after every read call\u001b[0m\u001b[1;33m\u001b[0m\u001b[1;33m\u001b[0m\u001b[1;33m\u001b[0m\u001b[0m\n\u001b[0;32m   1694\u001b[0m             \u001b[1;31m# because the calling section may close without this loop exiting.\u001b[0m\u001b[1;33m\u001b[0m\u001b[1;33m\u001b[0m\u001b[1;33m\u001b[0m\u001b[0m\n",
      "\u001b[1;32mD:\\OneDrive - Queen's University\\Python\\Projects\\sectionary package\\src\\sections.py\u001b[0m in \u001b[0;36mread\u001b[1;34m(self, source, start_search, context)\u001b[0m\n\u001b[0;32m   2708\u001b[0m         \u001b[1;31m# local variable to get it to update with the assemble function.\u001b[0m\u001b[1;33m\u001b[0m\u001b[1;33m\u001b[0m\u001b[1;33m\u001b[0m\u001b[0m\n\u001b[0;32m   2709\u001b[0m         \u001b[0mactive_context\u001b[0m \u001b[1;33m=\u001b[0m \u001b[0mself\u001b[0m\u001b[1;33m.\u001b[0m\u001b[0mcontext\u001b[0m\u001b[1;33m\u001b[0m\u001b[1;33m\u001b[0m\u001b[0m\n\u001b[1;32m-> 2710\u001b[1;33m         \u001b[0msection_assembled\u001b[0m \u001b[1;33m=\u001b[0m \u001b[0mself\u001b[0m\u001b[1;33m.\u001b[0m\u001b[0massemble\u001b[0m\u001b[1;33m(\u001b[0m\u001b[0msection_processor\u001b[0m\u001b[1;33m,\u001b[0m \u001b[0mactive_context\u001b[0m\u001b[1;33m)\u001b[0m\u001b[1;33m\u001b[0m\u001b[1;33m\u001b[0m\u001b[0m\n\u001b[0m\u001b[0;32m   2711\u001b[0m         \u001b[0mself\u001b[0m\u001b[1;33m.\u001b[0m\u001b[0mcontext\u001b[0m\u001b[1;33m.\u001b[0m\u001b[0mupdate\u001b[0m\u001b[1;33m(\u001b[0m\u001b[0mactive_context\u001b[0m\u001b[1;33m)\u001b[0m\u001b[1;33m\u001b[0m\u001b[1;33m\u001b[0m\u001b[0m\n\u001b[0;32m   2712\u001b[0m         \u001b[1;31m# Update the supplied context if it exists\u001b[0m\u001b[1;33m\u001b[0m\u001b[1;33m\u001b[0m\u001b[1;33m\u001b[0m\u001b[0m\n",
      "\u001b[1;32mD:\\OneDrive - Queen's University\\Python\\Projects\\sectionary package\\src\\sections.py\u001b[0m in \u001b[0;36m<lambda>\u001b[1;34m(func, item, context)\u001b[0m\n\u001b[0;32m    439\u001b[0m         }\n\u001b[0;32m    440\u001b[0m     process_sig = {\n\u001b[1;32m--> 441\u001b[1;33m         \u001b[1;33m(\u001b[0m\u001b[1;36m1\u001b[0m\u001b[1;33m,\u001b[0m \u001b[1;32mFalse\u001b[0m\u001b[1;33m)\u001b[0m\u001b[1;33m:\u001b[0m \u001b[1;32mlambda\u001b[0m \u001b[0mfunc\u001b[0m\u001b[1;33m,\u001b[0m \u001b[0mitem\u001b[0m\u001b[1;33m,\u001b[0m \u001b[0mcontext\u001b[0m\u001b[1;33m:\u001b[0m \u001b[0mfunc\u001b[0m\u001b[1;33m(\u001b[0m\u001b[0mitem\u001b[0m\u001b[1;33m)\u001b[0m\u001b[1;33m,\u001b[0m\u001b[1;33m\u001b[0m\u001b[1;33m\u001b[0m\u001b[0m\n\u001b[0m\u001b[0;32m    442\u001b[0m         \u001b[1;33m(\u001b[0m\u001b[1;36m2\u001b[0m\u001b[1;33m,\u001b[0m \u001b[1;32mFalse\u001b[0m\u001b[1;33m)\u001b[0m\u001b[1;33m:\u001b[0m \u001b[1;32mlambda\u001b[0m \u001b[0mfunc\u001b[0m\u001b[1;33m,\u001b[0m \u001b[0mitem\u001b[0m\u001b[1;33m,\u001b[0m \u001b[0mcontext\u001b[0m\u001b[1;33m:\u001b[0m \u001b[0mfunc\u001b[0m\u001b[1;33m(\u001b[0m\u001b[0mitem\u001b[0m\u001b[1;33m,\u001b[0m \u001b[0mcontext\u001b[0m\u001b[1;33m)\u001b[0m\u001b[1;33m,\u001b[0m\u001b[1;33m\u001b[0m\u001b[1;33m\u001b[0m\u001b[0m\n\u001b[0;32m    443\u001b[0m         \u001b[1;33m(\u001b[0m\u001b[1;36m1\u001b[0m\u001b[1;33m,\u001b[0m \u001b[1;32mTrue\u001b[0m\u001b[1;33m)\u001b[0m\u001b[1;33m:\u001b[0m \u001b[1;32mlambda\u001b[0m \u001b[0mfunc\u001b[0m\u001b[1;33m,\u001b[0m \u001b[0mitem\u001b[0m\u001b[1;33m,\u001b[0m \u001b[0mcontext\u001b[0m\u001b[1;33m:\u001b[0m \u001b[0mfunc\u001b[0m\u001b[1;33m(\u001b[0m\u001b[0mitem\u001b[0m\u001b[1;33m,\u001b[0m \u001b[1;33m**\u001b[0m\u001b[0mcontext\u001b[0m\u001b[1;33m)\u001b[0m\u001b[1;33m\u001b[0m\u001b[1;33m\u001b[0m\u001b[0m\n",
      "\u001b[1;32mD:\\OneDrive - Queen's University\\Python\\Projects\\sectionary package\\src\\sections.py\u001b[0m in \u001b[0;36mprocess\u001b[1;34m(self, source, start_search, context)\u001b[0m\n\u001b[0;32m   2655\u001b[0m         \u001b[1;32mwhile\u001b[0m \u001b[1;32mTrue\u001b[0m\u001b[1;33m:\u001b[0m\u001b[1;33m\u001b[0m\u001b[1;33m\u001b[0m\u001b[0m\n\u001b[0;32m   2656\u001b[0m             \u001b[1;32mtry\u001b[0m\u001b[1;33m:\u001b[0m\u001b[1;33m\u001b[0m\u001b[1;33m\u001b[0m\u001b[0m\n\u001b[1;32m-> 2657\u001b[1;33m                 \u001b[0mitem_read\u001b[0m \u001b[1;33m=\u001b[0m \u001b[0mnext\u001b[0m\u001b[1;33m(\u001b[0m\u001b[0mprocess_iter\u001b[0m\u001b[1;33m)\u001b[0m\u001b[1;33m\u001b[0m\u001b[1;33m\u001b[0m\u001b[0m\n\u001b[0m\u001b[0;32m   2658\u001b[0m             \u001b[1;32mexcept\u001b[0m \u001b[1;33m(\u001b[0m\u001b[0mStopIteration\u001b[0m\u001b[1;33m,\u001b[0m \u001b[0mRuntimeError\u001b[0m\u001b[1;33m)\u001b[0m\u001b[1;33m:\u001b[0m\u001b[1;33m\u001b[0m\u001b[1;33m\u001b[0m\u001b[0m\n\u001b[0;32m   2659\u001b[0m                 \u001b[1;32mbreak\u001b[0m  \u001b[1;31m# loop until iterator ends\u001b[0m\u001b[1;33m\u001b[0m\u001b[1;33m\u001b[0m\u001b[0m\n",
      "\u001b[1;32mD:\\OneDrive - Queen's University\\Python\\Projects\\sectionary package\\src\\sections.py\u001b[0m in \u001b[0;36m<genexpr>\u001b[1;34m(.0)\u001b[0m\n\u001b[0;32m   1665\u001b[0m         \u001b[1;32mif\u001b[0m \u001b[0mfunc\u001b[0m\u001b[1;33m.\u001b[0m\u001b[0mis_gen\u001b[0m\u001b[1;33m:\u001b[0m\u001b[1;33m\u001b[0m\u001b[1;33m\u001b[0m\u001b[0m\n\u001b[0;32m   1666\u001b[0m             \u001b[1;32mreturn\u001b[0m \u001b[0mfunc\u001b[0m\u001b[1;33m(\u001b[0m\u001b[0miter\u001b[0m\u001b[1;33m(\u001b[0m\u001b[0msource\u001b[0m\u001b[1;33m)\u001b[0m\u001b[1;33m,\u001b[0m \u001b[0mcontext\u001b[0m\u001b[1;33m)\u001b[0m\u001b[1;33m\u001b[0m\u001b[1;33m\u001b[0m\u001b[0m\n\u001b[1;32m-> 1667\u001b[1;33m         \u001b[1;32mreturn\u001b[0m \u001b[1;33m(\u001b[0m\u001b[0mfunc\u001b[0m\u001b[1;33m(\u001b[0m\u001b[0mitem\u001b[0m\u001b[1;33m,\u001b[0m \u001b[0mcontext\u001b[0m\u001b[1;33m)\u001b[0m \u001b[1;32mfor\u001b[0m \u001b[0mitem\u001b[0m \u001b[1;32min\u001b[0m \u001b[0msource\u001b[0m\u001b[1;33m)\u001b[0m\u001b[1;33m\u001b[0m\u001b[1;33m\u001b[0m\u001b[0m\n\u001b[0m\u001b[0;32m   1668\u001b[0m \u001b[1;33m\u001b[0m\u001b[0m\n\u001b[0;32m   1669\u001b[0m     def read_subsection(self,\n",
      "\u001b[1;32mD:\\OneDrive - Queen's University\\Python\\Projects\\sectionary package\\src\\sections.py\u001b[0m in \u001b[0;36mscan\u001b[1;34m(self, source, start_search, context)\u001b[0m\n\u001b[0;32m   2609\u001b[0m         \u001b[1;31m# Read source until end boundary is found or source ends\u001b[0m\u001b[1;33m\u001b[0m\u001b[1;33m\u001b[0m\u001b[1;33m\u001b[0m\u001b[0m\n\u001b[0;32m   2610\u001b[0m         \u001b[1;32mwhile\u001b[0m \u001b[1;32mTrue\u001b[0m\u001b[1;33m:\u001b[0m\u001b[1;33m\u001b[0m\u001b[1;33m\u001b[0m\u001b[0m\n\u001b[1;32m-> 2611\u001b[1;33m             \u001b[0mnext_item\u001b[0m \u001b[1;33m=\u001b[0m \u001b[0mself\u001b[0m\u001b[1;33m.\u001b[0m\u001b[0mstep_source\u001b[0m\u001b[1;33m(\u001b[0m\u001b[1;33m)\u001b[0m\u001b[1;33m\u001b[0m\u001b[1;33m\u001b[0m\u001b[0m\n\u001b[0m\u001b[0;32m   2612\u001b[0m             \u001b[1;32mif\u001b[0m \u001b[0mself\u001b[0m\u001b[1;33m.\u001b[0m\u001b[0mscan_status\u001b[0m \u001b[1;32min\u001b[0m \u001b[1;33m[\u001b[0m\u001b[1;34m'Scan Complete'\u001b[0m\u001b[1;33m,\u001b[0m \u001b[1;34m'End of Source'\u001b[0m\u001b[1;33m]\u001b[0m\u001b[1;33m:\u001b[0m\u001b[1;33m\u001b[0m\u001b[1;33m\u001b[0m\u001b[0m\n\u001b[0;32m   2613\u001b[0m                 \u001b[1;32mbreak\u001b[0m  \u001b[1;31m# Break if end of source reached\u001b[0m\u001b[1;33m\u001b[0m\u001b[1;33m\u001b[0m\u001b[0m\n",
      "\u001b[1;32mD:\\OneDrive - Queen's University\\Python\\Projects\\sectionary package\\src\\sections.py\u001b[0m in \u001b[0;36mstep_source\u001b[1;34m(self)\u001b[0m\n\u001b[0;32m   2507\u001b[0m             \u001b[1;31m# next must be called on the top level Source not the base one,\u001b[0m\u001b[1;33m\u001b[0m\u001b[1;33m\u001b[0m\u001b[1;33m\u001b[0m\u001b[0m\n\u001b[0;32m   2508\u001b[0m             \u001b[1;31m# otherwise it will not supply the correct item here.\u001b[0m\u001b[1;33m\u001b[0m\u001b[1;33m\u001b[0m\u001b[1;33m\u001b[0m\u001b[0m\n\u001b[1;32m-> 2509\u001b[1;33m             \u001b[0mnext_item\u001b[0m \u001b[1;33m=\u001b[0m \u001b[0mnext\u001b[0m\u001b[1;33m(\u001b[0m\u001b[0mself\u001b[0m\u001b[1;33m.\u001b[0m\u001b[0msource\u001b[0m\u001b[1;33m)\u001b[0m\u001b[1;33m\u001b[0m\u001b[1;33m\u001b[0m\u001b[0m\n\u001b[0m\u001b[0;32m   2510\u001b[0m         \u001b[1;32mexcept\u001b[0m \u001b[1;33m(\u001b[0m\u001b[0mRuntimeError\u001b[0m\u001b[1;33m)\u001b[0m \u001b[1;32mas\u001b[0m \u001b[0merr\u001b[0m\u001b[1;33m:\u001b[0m\u001b[1;33m\u001b[0m\u001b[1;33m\u001b[0m\u001b[0m\n\u001b[0;32m   2511\u001b[0m             \u001b[0mself\u001b[0m\u001b[1;33m.\u001b[0m\u001b[0mscan_status\u001b[0m \u001b[1;33m=\u001b[0m \u001b[1;34m'Scan Complete'\u001b[0m\u001b[1;33m\u001b[0m\u001b[1;33m\u001b[0m\u001b[0m\n",
      "\u001b[1;32mD:\\OneDrive - Queen's University\\Python\\Projects\\sectionary package\\src\\buffered_iterator.py\u001b[0m in \u001b[0;36m__next__\u001b[1;34m(self)\u001b[0m\n\u001b[0;32m    227\u001b[0m         '''\n\u001b[0;32m    228\u001b[0m         \u001b[1;32mtry\u001b[0m\u001b[1;33m:\u001b[0m\u001b[1;33m\u001b[0m\u001b[1;33m\u001b[0m\u001b[0m\n\u001b[1;32m--> 229\u001b[1;33m             \u001b[0mnext_line\u001b[0m \u001b[1;33m=\u001b[0m \u001b[0mself\u001b[0m\u001b[1;33m.\u001b[0m\u001b[0mget_next_item\u001b[0m\u001b[1;33m(\u001b[0m\u001b[1;33m)\u001b[0m\u001b[1;33m\u001b[0m\u001b[1;33m\u001b[0m\u001b[0m\n\u001b[0m\u001b[0;32m    230\u001b[0m         \u001b[1;32mexcept\u001b[0m \u001b[0mBufferedIteratorEOF\u001b[0m \u001b[1;32mas\u001b[0m \u001b[0meof\u001b[0m\u001b[1;33m:\u001b[0m\u001b[1;33m\u001b[0m\u001b[1;33m\u001b[0m\u001b[0m\n\u001b[0;32m    231\u001b[0m             \u001b[1;32mraise\u001b[0m \u001b[0meof\u001b[0m\u001b[1;33m\u001b[0m\u001b[1;33m\u001b[0m\u001b[0m\n",
      "\u001b[1;32mD:\\OneDrive - Queen's University\\Python\\Projects\\sectionary package\\src\\buffered_iterator.py\u001b[0m in \u001b[0;36mget_next_item\u001b[1;34m(self)\u001b[0m\n\u001b[0;32m    200\u001b[0m             \u001b[1;32mtry\u001b[0m\u001b[1;33m:\u001b[0m\u001b[1;33m\u001b[0m\u001b[1;33m\u001b[0m\u001b[0m\n\u001b[0;32m    201\u001b[0m                 \u001b[1;31m# Read from the iterator source\u001b[0m\u001b[1;33m\u001b[0m\u001b[1;33m\u001b[0m\u001b[1;33m\u001b[0m\u001b[0m\n\u001b[1;32m--> 202\u001b[1;33m                 \u001b[0mnext_item\u001b[0m \u001b[1;33m=\u001b[0m \u001b[0mself\u001b[0m\u001b[1;33m.\u001b[0m\u001b[0msource_gen\u001b[0m\u001b[1;33m.\u001b[0m\u001b[0m__next__\u001b[0m\u001b[1;33m(\u001b[0m\u001b[1;33m)\u001b[0m\u001b[1;33m\u001b[0m\u001b[1;33m\u001b[0m\u001b[0m\n\u001b[0m\u001b[0;32m    203\u001b[0m             \u001b[1;32mexcept\u001b[0m \u001b[1;33m(\u001b[0m\u001b[0mStopIteration\u001b[0m\u001b[1;33m,\u001b[0m \u001b[0mRuntimeError\u001b[0m\u001b[1;33m)\u001b[0m \u001b[1;32mas\u001b[0m \u001b[0meof\u001b[0m\u001b[1;33m:\u001b[0m\u001b[1;33m\u001b[0m\u001b[1;33m\u001b[0m\u001b[0m\n\u001b[0;32m    204\u001b[0m                 \u001b[1;31m# Treat \"StopIteration\" or \"RuntimeError\" exceptions as\u001b[0m\u001b[1;33m\u001b[0m\u001b[1;33m\u001b[0m\u001b[1;33m\u001b[0m\u001b[0m\n",
      "\u001b[1;32mD:\\OneDrive - Queen's University\\Python\\Projects\\sectionary package\\src\\sections.py\u001b[0m in \u001b[0;36mscan\u001b[1;34m(self, source, start_search, context)\u001b[0m\n\u001b[0;32m   2616\u001b[0m             \u001b[1;32mif\u001b[0m \u001b[0mself\u001b[0m\u001b[1;33m.\u001b[0m\u001b[0mend_on_first_item\u001b[0m \u001b[1;33m|\u001b[0m \u001b[1;33m(\u001b[0m\u001b[1;32mnot\u001b[0m \u001b[0mself\u001b[0m\u001b[1;33m.\u001b[0m\u001b[0mis_first_item\u001b[0m\u001b[1;33m)\u001b[0m\u001b[1;33m:\u001b[0m\u001b[1;33m\u001b[0m\u001b[1;33m\u001b[0m\u001b[0m\n\u001b[0;32m   2617\u001b[0m                 \u001b[0mlogger\u001b[0m\u001b[1;33m.\u001b[0m\u001b[0mdebug\u001b[0m\u001b[1;33m(\u001b[0m\u001b[1;34m'Checking for boundary'\u001b[0m\u001b[1;33m)\u001b[0m\u001b[1;33m\u001b[0m\u001b[1;33m\u001b[0m\u001b[0m\n\u001b[1;32m-> 2618\u001b[1;33m                 \u001b[1;32mif\u001b[0m \u001b[0mself\u001b[0m\u001b[1;33m.\u001b[0m\u001b[0mis_boundary\u001b[0m\u001b[1;33m(\u001b[0m\u001b[0mnext_item\u001b[0m\u001b[1;33m,\u001b[0m \u001b[0mself\u001b[0m\u001b[1;33m.\u001b[0m\u001b[0mend_section\u001b[0m\u001b[1;33m)\u001b[0m\u001b[1;33m:\u001b[0m\u001b[1;33m\u001b[0m\u001b[1;33m\u001b[0m\u001b[0m\n\u001b[0m\u001b[0;32m   2619\u001b[0m                     \u001b[1;32mbreak\u001b[0m  \u001b[1;31m# Break if section boundary reached\u001b[0m\u001b[1;33m\u001b[0m\u001b[1;33m\u001b[0m\u001b[0m\n\u001b[0;32m   2620\u001b[0m             \u001b[1;32myield\u001b[0m \u001b[0mnext_item\u001b[0m\u001b[1;33m\u001b[0m\u001b[1;33m\u001b[0m\u001b[0m\n",
      "\u001b[1;32mD:\\OneDrive - Queen's University\\Python\\Projects\\sectionary package\\src\\sections.py\u001b[0m in \u001b[0;36mis_boundary\u001b[1;34m(self, line, break_triggers)\u001b[0m\n\u001b[0;32m   2475\u001b[0m             \u001b[1;31m# break_trigger needs to access the base BufferedIterator Source\u001b[0m\u001b[1;33m\u001b[0m\u001b[1;33m\u001b[0m\u001b[1;33m\u001b[0m\u001b[0m\n\u001b[0;32m   2476\u001b[0m             \u001b[1;31m# not the top level one, otherwise it will not step back properly.\u001b[0m\u001b[1;33m\u001b[0m\u001b[1;33m\u001b[0m\u001b[1;33m\u001b[0m\u001b[0m\n\u001b[1;32m-> 2477\u001b[1;33m             \u001b[0mis_break\u001b[0m \u001b[1;33m=\u001b[0m \u001b[0mbreak_trigger\u001b[0m\u001b[1;33m.\u001b[0m\u001b[0mcheck\u001b[0m\u001b[1;33m(\u001b[0m\u001b[0mline\u001b[0m\u001b[1;33m,\u001b[0m \u001b[0mself\u001b[0m\u001b[1;33m.\u001b[0m\u001b[0msource\u001b[0m\u001b[1;33m,\u001b[0m \u001b[0mself\u001b[0m\u001b[1;33m.\u001b[0m\u001b[0mcontext\u001b[0m\u001b[1;33m)\u001b[0m\u001b[1;33m\u001b[0m\u001b[1;33m\u001b[0m\u001b[0m\n\u001b[0m\u001b[0;32m   2478\u001b[0m             \u001b[1;32mif\u001b[0m \u001b[0mis_break\u001b[0m\u001b[1;33m:\u001b[0m\u001b[1;33m\u001b[0m\u001b[1;33m\u001b[0m\u001b[0m\n\u001b[0;32m   2479\u001b[0m                 \u001b[0mlogger\u001b[0m\u001b[1;33m.\u001b[0m\u001b[0mdebug\u001b[0m\u001b[1;33m(\u001b[0m\u001b[1;34m'Section Break Detected'\u001b[0m\u001b[1;33m)\u001b[0m\u001b[1;33m\u001b[0m\u001b[1;33m\u001b[0m\u001b[0m\n",
      "\u001b[1;32mD:\\OneDrive - Queen's University\\Python\\Projects\\sectionary package\\src\\sections.py\u001b[0m in \u001b[0;36mcheck\u001b[1;34m(self, item, source, context)\u001b[0m\n\u001b[0;32m   1123\u001b[0m         \u001b[1;32mif\u001b[0m \u001b[0mself\u001b[0m\u001b[1;33m.\u001b[0m\u001b[0m_count_down\u001b[0m \u001b[1;32mis\u001b[0m \u001b[1;32mNone\u001b[0m\u001b[1;33m:\u001b[0m  \u001b[1;31m# No Active Count Down\u001b[0m\u001b[1;33m\u001b[0m\u001b[1;33m\u001b[0m\u001b[0m\n\u001b[0;32m   1124\u001b[0m             \u001b[1;31m# apply the trigger test.\u001b[0m\u001b[1;33m\u001b[0m\u001b[1;33m\u001b[0m\u001b[1;33m\u001b[0m\u001b[0m\n\u001b[1;32m-> 1125\u001b[1;33m             \u001b[0mis_event\u001b[0m \u001b[1;33m=\u001b[0m \u001b[0mself\u001b[0m\u001b[1;33m.\u001b[0m\u001b[0mevaluate\u001b[0m\u001b[1;33m(\u001b[0m\u001b[0mitem\u001b[0m\u001b[1;33m,\u001b[0m \u001b[0mcontext\u001b[0m\u001b[1;33m)\u001b[0m\u001b[1;33m\u001b[0m\u001b[1;33m\u001b[0m\u001b[0m\n\u001b[0m\u001b[0;32m   1126\u001b[0m             \u001b[1;32mif\u001b[0m \u001b[0mis_event\u001b[0m\u001b[1;33m:\u001b[0m\u001b[1;33m\u001b[0m\u001b[1;33m\u001b[0m\u001b[0m\n\u001b[0;32m   1127\u001b[0m                 \u001b[0mlogger\u001b[0m\u001b[1;33m.\u001b[0m\u001b[0mdebug\u001b[0m\u001b[1;33m(\u001b[0m\u001b[1;34mf'Break triggered by {self.event.test_name}'\u001b[0m\u001b[1;33m)\u001b[0m\u001b[1;33m\u001b[0m\u001b[1;33m\u001b[0m\u001b[0m\n",
      "\u001b[1;32mD:\\OneDrive - Queen's University\\Python\\Projects\\sectionary package\\src\\sections.py\u001b[0m in \u001b[0;36mevaluate\u001b[1;34m(self, item, context)\u001b[0m\n\u001b[0;32m    979\u001b[0m             \u001b[1;32mif\u001b[0m \u001b[0mtest_result\u001b[0m\u001b[1;33m:\u001b[0m\u001b[1;33m\u001b[0m\u001b[1;33m\u001b[0m\u001b[0m\n\u001b[0;32m    980\u001b[0m                 \u001b[0mtest_passed\u001b[0m \u001b[1;33m=\u001b[0m \u001b[1;32mTrue\u001b[0m\u001b[1;33m\u001b[0m\u001b[1;33m\u001b[0m\u001b[0m\n\u001b[1;32m--> 981\u001b[1;33m                 self._event.record_event(test_result, self.sentinel,\n\u001b[0m\u001b[0;32m    982\u001b[0m                                          self.name, self._sentinel_type)\n\u001b[0;32m    983\u001b[0m         \u001b[1;32mreturn\u001b[0m \u001b[0mtest_passed\u001b[0m\u001b[1;33m\u001b[0m\u001b[1;33m\u001b[0m\u001b[0m\n",
      "\u001b[1;32mD:\\OneDrive - Queen's University\\Python\\Projects\\sectionary package\\src\\sections.py\u001b[0m in \u001b[0;36mrecord_event\u001b[1;34m(self, test_result, sentinel, trigger_name, sentinel_type)\u001b[0m\n\u001b[0;32m    682\u001b[0m             \u001b[1;32melif\u001b[0m \u001b[0msentinel_type\u001b[0m \u001b[1;33m==\u001b[0m  \u001b[1;34m'String'\u001b[0m\u001b[1;33m:\u001b[0m\u001b[1;33m\u001b[0m\u001b[1;33m\u001b[0m\u001b[0m\n\u001b[0;32m    683\u001b[0m                 \u001b[0mself\u001b[0m\u001b[1;33m.\u001b[0m\u001b[0mtest_value\u001b[0m \u001b[1;33m=\u001b[0m \u001b[0msentinel\u001b[0m\u001b[1;33m\u001b[0m\u001b[1;33m\u001b[0m\u001b[0m\n\u001b[1;32m--> 684\u001b[1;33m                 \u001b[0mself\u001b[0m\u001b[1;33m.\u001b[0m\u001b[0mtest_name\u001b[0m \u001b[1;33m=\u001b[0m \u001b[0mstr\u001b[0m\u001b[1;33m(\u001b[0m\u001b[0msentinel\u001b[0m\u001b[1;33m)\u001b[0m\u001b[1;33m\u001b[0m\u001b[1;33m\u001b[0m\u001b[0m\n\u001b[0m\u001b[0;32m    685\u001b[0m             \u001b[1;32melif\u001b[0m \u001b[0msentinel_type\u001b[0m \u001b[1;33m==\u001b[0m  \u001b[1;34m'RE'\u001b[0m\u001b[1;33m:\u001b[0m\u001b[1;33m\u001b[0m\u001b[1;33m\u001b[0m\u001b[0m\n\u001b[0;32m    686\u001b[0m                 \u001b[0mself\u001b[0m\u001b[1;33m.\u001b[0m\u001b[0mtest_value\u001b[0m \u001b[1;33m=\u001b[0m \u001b[0mtest_result\u001b[0m\u001b[1;33m\u001b[0m\u001b[1;33m\u001b[0m\u001b[0m\n",
      "\u001b[1;31mKeyboardInterrupt\u001b[0m: "
     ]
    }
   ],
   "source": [
    "test_text = [\n",
    "    'Text to be ignored',\n",
    "    'StartSection A',\n",
    "    'MiddleSection A',\n",
    "    'EndSection A',\n",
    "    'Unwanted text between sections',\n",
    "    'StartSection B',\n",
    "    'MiddleSection B',\n",
    "    'EndSection B',\n",
    "    'StartSection C',\n",
    "    'MiddleSection C',\n",
    "    'EndSection C',\n",
    "    'Even more text to be ignored',\n",
    "    ]\n",
    "sub_section = Section(name='SubSection')\n",
    "full_section = Section(\n",
    "    name='Full', processor=sub_section,\n",
    "    start_section=SectionBreak('StartSection', break_offset='Before'),\n",
    "    end_section=SectionBreak('EndSection', break_offset='After')\n",
    "    )\n",
    "multi_section = Section(\n",
    "    name='Multi',\n",
    "    processor=full_section\n",
    "    )\n",
    "read_1 = multi_section.read(test_text)\n",
    "read_1"
   ]
  },
  {
   "attachments": {},
   "cell_type": "markdown",
   "metadata": {},
   "source": [
    "### Test Text"
   ]
  },
  {
   "cell_type": "code",
   "execution_count": 4,
   "metadata": {},
   "outputs": [],
   "source": [
    "test_text = [\n",
    "            'Text to be ignored',\n",
    "            'StartSection A',\n",
    "            'MiddleSection A',\n",
    "            'EndSection A',\n",
    "            'Unwanted text between sections',\n",
    "            'StartSection B',\n",
    "            'MiddleSection B',\n",
    "            'EndSection B',\n",
    "            'StartSection C',\n",
    "            'MiddleSection C',\n",
    "            'EndSection C',\n",
    "            'Even more text to be ignored',\n",
    "            ]\n",
    "\n",
    "short_multi_section_text = [\n",
    "    'StartSection Name:A',\n",
    "    'A Content1:a',\n",
    "    'EndSection Name:A',\n",
    "    'StartSection Name:B',\n",
    "    'A Content2:a',\n",
    "    'EndSection Name:B'\n",
    "    ]\n",
    "\n",
    "multi_section_text = [\n",
    "    'Text to be ignored',\n",
    "    'StartSection Name:A',\n",
    "    'A Content1:a',\n",
    "    'B Content1:b',\n",
    "    'C Content1:c',\n",
    "    'EndSection Name:A',\n",
    "    'StartSection Name:B',\n",
    "    'A Content2:a',\n",
    "    'B Content2:b',\n",
    "    'C Content2:c',\n",
    "    'EndSection Name:B',\n",
    "    'Even more text to be ignored',\n",
    "    ]\n"
   ]
  },
  {
   "attachments": {},
   "cell_type": "markdown",
   "metadata": {},
   "source": [
    "## Subsection Requirements\n",
    "### Context\n",
    "- Do not change the supplied context\n",
    "- Use *self.context*\n",
    "- *self.context* needs to be updated after every stage\n",
    "- Need to protect standard context items from being changed by sub sections"
   ]
  },
  {
   "attachments": {},
   "cell_type": "markdown",
   "metadata": {},
   "source": [
    "### Source\n",
    "- Supplied source needs to be isolated from the iterated source or it may exit too soon.\n",
    "- Section's source pointer needs to be adjusted so that any \"Future Items\" are not missed.\n",
    "- Both context and iterator should be isolated by default \n"
   ]
  },
  {
   "attachments": {},
   "cell_type": "markdown",
   "metadata": {},
   "source": [
    "## Functions for subsections"
   ]
  },
  {
   "cell_type": "code",
   "execution_count": 5,
   "metadata": {},
   "outputs": [],
   "source": [
    "def true_iterable(variable)-> bool:\n",
    "    '''Indicate if the variable is a non-string type iterable.\n",
    "    Arguments:\n",
    "        variable {Iterable[Any]} -- The variable to test.\n",
    "    Returns:\n",
    "        True if variable is a non-string iterable.\n",
    "    '''\n",
    "    return not isinstance(variable, str) and isinstance(variable, Iterable)  # pylint: disable=isinstance-second-argument-not-valid-type\n",
    "\n"
   ]
  },
  {
   "attachments": {},
   "cell_type": "markdown",
   "metadata": {},
   "source": [
    "### Check for empty object"
   ]
  },
  {
   "cell_type": "code",
   "execution_count": 6,
   "metadata": {},
   "outputs": [],
   "source": [
    "def is_empty(obj: Any)->bool:\n",
    "    '''Test whether an object is empty.\n",
    "\n",
    "    If object is None, it is empty.\n",
    "    If object has length 0 it is empty.\n",
    "    Otherwise it is not empty.\n",
    "\n",
    "    Args:\n",
    "        obj (Any): The object to be tested\n",
    "\n",
    "    Returns:\n",
    "        bool: Returns true if the object is empty.\n",
    "    '''\n",
    "    if obj is None:\n",
    "        return True\n",
    "    try:\n",
    "        has_length = len(obj)\n",
    "    except TypeError as err:\n",
    "            return False\n",
    "    else:\n",
    "        if has_length == 0:\n",
    "            return True\n",
    "        else:\n",
    "            return False"
   ]
  },
  {
   "attachments": {},
   "cell_type": "markdown",
   "metadata": {},
   "source": [
    "### Read a subsection"
   ]
  },
  {
   "cell_type": "code",
   "execution_count": 7,
   "metadata": {},
   "outputs": [],
   "source": [
    "def read_subsection(subsection: 'Section',\n",
    "                    source: ProcessedItemGen,\n",
    "                    context: ContextType = None\n",
    "                    ) -> Generator[AssembledItem, None, None]:\n",
    "    '''Iterate through the supplied source returning the assembled subsection.\n",
    "\n",
    "    This method is used when individual subsections are used as\n",
    "    ProcessingMethods.\n",
    "\n",
    "    Args:\n",
    "        subsection ('Section'): The sub-section object\n",
    "            ('Section' is a subclass of BaseSection)\n",
    "        source (ProcessedItemGen): The iterator resulting from applying\n",
    "            zero or more processing functions to the original source.\n",
    "        context (ContextType, optional): Break point information and any\n",
    "            additional information to be passed to and from the\n",
    "            sub-section instance. Defaults to None.\n",
    "    Yields:\n",
    "        Generator[AssembledItem, None, None]: The result of applying the\n",
    "            subsection.read method repeatedly to the supplied source.\n",
    "    '''\n",
    "    done = False\n",
    "    while not done:\n",
    "        section_item = subsection.read(source, context=context)\n",
    "        yield section_item\n",
    "        # Generator exits are captured by the read method.\n",
    "        # subsection.scan_status provides an indication of whether the\n",
    "        # iterator has been exhausted.\n",
    "        if subsection.scan_status in ['Scan Complete', 'End of Source']:\n",
    "            done=True"
   ]
  },
  {
   "attachments": {},
   "cell_type": "markdown",
   "metadata": {},
   "source": [
    "### Read a list of subsections as a group"
   ]
  },
  {
   "cell_type": "code",
   "execution_count": 8,
   "metadata": {},
   "outputs": [],
   "source": [
    "def assemble_subsection_group(subsection_group: Tuple['Section'],\n",
    "                        source: ProcessedItemGen,\n",
    "                        context: ContextType = None\n",
    "                        )->SubSectionGroupItem:\n",
    "    '''Build the assembled subset group from the supplied source\n",
    "\n",
    "    Sequentially applies the read() method of each Section object in\n",
    "    subsection_group to the supplied source, generating a dictionary where\n",
    "    the key is the section name and the value is the AssembledItem returned\n",
    "    by the read() method.\n",
    "\n",
    "    Args:\n",
    "        subsection_group (Tuple['Section']): The sequence of Section object\n",
    "            to be read from the source. ('Section' is a subclass of\n",
    "            BaseSection).\n",
    "        source (ProcessedItemGen): The iterator resulting from applying\n",
    "            zero or more processing functions to the original source.\n",
    "        context (ContextType, optional): Break point information and any\n",
    "            additional information to be passed to and from the\n",
    "            sub-section instance. Defaults to None.\n",
    "\n",
    "    Returns:\n",
    "        SubSectionGroupItem: _description_\n",
    "    '''\n",
    "    # Repeat until source is exhausted\n",
    "    done = False\n",
    "    while not done:\n",
    "        section_group = {}\n",
    "        for sub_section in subsection_group:\n",
    "            sub_section_item = sub_section.read(source, context=context)\n",
    "            # Generator exits are captured by the read method.\n",
    "            if sub_section.scan_status in ['Scan Complete', 'End of Source']:\n",
    "                if not is_empty(sub_section_item):\n",
    "                    # Don't return empty read results.\n",
    "                    section_group[sub_section.name] = sub_section_item\n",
    "                # Break if end of source reached\n",
    "                done = True\n",
    "                break\n",
    "            # Always store read result if subsection did not close\n",
    "            section_group[sub_section.name] = sub_section_item\n",
    "        if is_empty(section_group):\n",
    "            # Don't return empty section group.\n",
    "            yield None\n",
    "        else:\n",
    "            yield section_group\n"
   ]
  },
  {
   "cell_type": "code",
   "execution_count": 9,
   "metadata": {},
   "outputs": [],
   "source": [
    "## Single line subsections\n",
    "name_section = Section(\n",
    "    name='Name',\n",
    "    start_section=SectionBreak('StartSection', name='NameStart'),\n",
    "    end_section=SectionBreak(True, name='NameEnd')\n",
    "    )\n",
    "\n",
    "content_section = Section(\n",
    "    name='Content',\n",
    "    end_section=SectionBreak('EndSection', \n",
    "                             break_offset='Before', \n",
    "                             name='EndContent')\n",
    "    )\n",
    "\n",
    "end_section = Section(\n",
    "    name='End',\n",
    "    end_section=SectionBreak(True, name='EndEnd')\n",
    "    )\n"
   ]
  },
  {
   "attachments": {},
   "cell_type": "markdown",
   "metadata": {},
   "source": [
    "### Check individual subsections"
   ]
  },
  {
   "cell_type": "code",
   "execution_count": 10,
   "metadata": {},
   "outputs": [
    {
     "name": "stdout",
     "output_type": "stream",
     "text": [
      "['StartSection Name:A'] \n",
      "\n",
      "['A Content1:a', 'B Content1:b', 'C Content1:c'] \n",
      "\n",
      "['EndSection Name:A'] \n",
      "\n",
      "BufferedIterator(source=<list_iterator object at 0x000002749B9FCD00>, buffer_size=5)\n",
      "\tBufferedIterator.previous_items = deque(['A Content1:a', 'B Content1:b', 'C Content1:c', 'EndSection Name:A'], maxlen=5)\n",
      "\tBufferedIterator.future_items = deque(['StartSection Name:B'], maxlen=5)\n",
      "\tBufferedIterator.item_count = 6\n",
      "\tBufferedIterator.status = ACTIVE\n"
     ]
    }
   ],
   "source": [
    "test_iter = BufferedIterator(multi_section_text)\n",
    "\n",
    "print(name_section.read(test_iter),'\\n')\n",
    "\n",
    "print(content_section.read(test_iter),'\\n')\n",
    "\n",
    "print(end_section.read(test_iter),'\\n')\n",
    "\n",
    "print(repr(test_iter))"
   ]
  },
  {
   "attachments": {},
   "cell_type": "markdown",
   "metadata": {},
   "source": [
    "### Single Line Subsections as a group"
   ]
  },
  {
   "cell_type": "code",
   "execution_count": 11,
   "metadata": {},
   "outputs": [],
   "source": [
    "section_list = (name_section, content_section, end_section)"
   ]
  },
  {
   "cell_type": "code",
   "execution_count": 12,
   "metadata": {},
   "outputs": [
    {
     "name": "stdout",
     "output_type": "stream",
     "text": [
      "[{'Content': ['A Content1:a', 'B Content1:b', 'C Content1:c'],\n",
      "  'End': ['EndSection Name:A'],\n",
      "  'Name': ['StartSection Name:A']},\n",
      " {'Content': ['A Content2:a', 'B Content2:b', 'C Content2:c'],\n",
      "  'End': ['EndSection Name:B'],\n",
      "  'Name': ['StartSection Name:B']},\n",
      " None]\n",
      "\n",
      "{'Break': 'EndEnd',\n",
      " 'Current Section': 'Name',\n",
      " 'Event': True,\n",
      " 'Skipped Lines': ['Even more text to be ignored'],\n",
      " 'Status': 'End of Source',\n",
      " 'dummy': 'asdf'}\n"
     ]
    }
   ],
   "source": [
    "test_iter = BufferedIterator(multi_section_text)\n",
    "context = {'dummy': 'asdf'}\n",
    "\n",
    "combined_sections = [grp for grp in assemble_subsection_group(section_list,\n",
    "                                                              test_iter,\n",
    "                                                              context)]\n",
    "\n",
    "pprint(combined_sections)\n",
    "print()\n",
    "pprint(context)"
   ]
  },
  {
   "attachments": {},
   "cell_type": "markdown",
   "metadata": {},
   "source": [
    "# Done to Here"
   ]
  },
  {
   "attachments": {},
   "cell_type": "markdown",
   "metadata": {},
   "source": [
    "Generator exits are captured by the read method.\n",
    "`source.status` provides an indication of whether the\n",
    "iterator has been exhausted.\n",
    "```\n",
    "if source.status in 'Completed':\n",
    "    done=True\n",
    "```  \n",
    "\n",
    "However if `source` is not a BufferedIterator then it may not contain a \n",
    "`source.status` attribute.  \n",
    "\n",
    "\n",
    "Try `inspect.gi_running`"
   ]
  },
  {
   "cell_type": "code",
   "execution_count": 13,
   "metadata": {},
   "outputs": [],
   "source": [
    "import inspect"
   ]
  },
  {
   "cell_type": "code",
   "execution_count": 14,
   "metadata": {},
   "outputs": [
    {
     "data": {
      "text/plain": [
       "['Text to be ignored',\n",
       " 'StartSection Name:A',\n",
       " 'A Content1:a',\n",
       " 'B Content1:b',\n",
       " 'C Content1:c',\n",
       " 'EndSection Name:A',\n",
       " 'StartSection Name:B',\n",
       " 'A Content2:a',\n",
       " 'B Content2:b',\n",
       " 'C Content2:c',\n",
       " 'EndSection Name:B',\n",
       " 'Even more text to be ignored']"
      ]
     },
     "execution_count": 14,
     "metadata": {},
     "output_type": "execute_result"
    }
   ],
   "source": [
    "multi_section_text"
   ]
  },
  {
   "attachments": {},
   "cell_type": "markdown",
   "metadata": {},
   "source": [
    "![Error](..\\Error.png) There are 4 empty entries. only one is expected"
   ]
  },
  {
   "attachments": {},
   "cell_type": "markdown",
   "metadata": {},
   "source": [
    "### Generator function to step through entire source returning section groups"
   ]
  },
  {
   "cell_type": "code",
   "execution_count": 15,
   "metadata": {},
   "outputs": [
    {
     "name": "stdout",
     "output_type": "stream",
     "text": [
      "GEN_CREATED\n",
      "GEN_SUSPENDED\n",
      "GEN_SUSPENDED\n",
      "GEN_SUSPENDED\n",
      "GEN_CLOSED\n",
      "[{'Content': ['A Content1:a', 'B Content1:b', 'C Content1:c'],\n",
      "  'End': ['EndSection Name:A'],\n",
      "  'Name': ['StartSection Name:A']},\n",
      " {'Content': ['A Content2:a', 'B Content2:b', 'C Content2:c'],\n",
      "  'End': ['EndSection Name:B'],\n",
      "  'Name': ['StartSection Name:B']},\n",
      " None]\n"
     ]
    }
   ],
   "source": [
    "test_iter = BufferedIterator(multi_section_text)\n",
    "context = {'dummy': 'asdf'}\n",
    "\n",
    "s_iter = assemble_subsection_group(section_list, test_iter, context)\n",
    "print(inspect.getgeneratorstate(s_iter))\n",
    "combined_sections = []\n",
    "while True:\n",
    "    try:\n",
    "        combined_sections.append(next(s_iter))\n",
    "        print(inspect.getgeneratorstate(s_iter))\n",
    "    except StopIteration:\n",
    "        print(inspect.getgeneratorstate(s_iter))\n",
    "        break\n",
    "   \n",
    "\n",
    "pprint(combined_sections)\n"
   ]
  },
  {
   "cell_type": "code",
   "execution_count": 16,
   "metadata": {},
   "outputs": [
    {
     "name": "stdout",
     "output_type": "stream",
     "text": [
      "GEN_CREATED\n",
      "\n",
      "\n",
      "Output:\n",
      "{'Content': ['A Content1:a', 'B Content1:b', 'C Content1:c'],\n",
      " 'End': ['EndSection Name:A'],\n",
      " 'Name': ['StartSection Name:A']}\n",
      "\n",
      "context:\n",
      "{   'Break': 'EndEnd',\n",
      "    'Current Section': 'End',\n",
      "    'Event': True,\n",
      "    'Skipped Lines': [],\n",
      "    'Status': 'Break Triggered',\n",
      "    'dummy': 'asdf'}\n",
      "\n",
      "Source:\n",
      "BufferedIterator(source=<list_iterator object at 0x000002749B9FCC40>, buffer_size=5)\n",
      "\tBufferedIterator.previous_items = deque(['A Content1:a', 'B Content1:b', 'C Content1:c', 'EndSection Name:A'], maxlen=5)\n",
      "\tBufferedIterator.future_items = deque(['StartSection Name:B'], maxlen=5)\n",
      "\tBufferedIterator.item_count = 6\n",
      "\tBufferedIterator.status = ACTIVE\n",
      "\n",
      "\n",
      "Output:\n",
      "{'Content': ['A Content2:a', 'B Content2:b', 'C Content2:c'],\n",
      " 'End': ['EndSection Name:B'],\n",
      " 'Name': ['StartSection Name:B']}\n",
      "\n",
      "context:\n",
      "{   'Break': 'EndEnd',\n",
      "    'Current Section': 'End',\n",
      "    'Event': True,\n",
      "    'Skipped Lines': [],\n",
      "    'Status': 'Break Triggered',\n",
      "    'dummy': 'asdf'}\n",
      "\n",
      "Source:\n",
      "BufferedIterator(source=<list_iterator object at 0x000002749B9FCC40>, buffer_size=5)\n",
      "\tBufferedIterator.previous_items = deque(['A Content2:a', 'B Content2:b', 'C Content2:c', 'EndSection Name:B'], maxlen=5)\n",
      "\tBufferedIterator.future_items = deque(['Even more text to be ignored'], maxlen=5)\n",
      "\tBufferedIterator.item_count = 11\n",
      "\tBufferedIterator.status = ACTIVE\n",
      "\n",
      "\n",
      "Output:\n",
      "None\n",
      "\n",
      "context:\n",
      "{   'Break': 'EndEnd',\n",
      "    'Current Section': 'Name',\n",
      "    'Event': True,\n",
      "    'Skipped Lines': ['Even more text to be ignored'],\n",
      "    'Status': 'End of Source',\n",
      "    'dummy': 'asdf'}\n",
      "\n",
      "Source:\n",
      "BufferedIterator(source=<list_iterator object at 0x000002749B9FCC40>, buffer_size=5)\n",
      "\tBufferedIterator.previous_items = deque(['A Content2:a', 'B Content2:b', 'C Content2:c', 'EndSection Name:B', 'Even more text to be ignored'], maxlen=5)\n",
      "\tBufferedIterator.future_items = deque([], maxlen=5)\n",
      "\tBufferedIterator.item_count = 12\n",
      "\tBufferedIterator.status = CLOSED\n",
      "GEN_CLOSED\n",
      "[{'Content': ['A Content1:a', 'B Content1:b', 'C Content1:c'],\n",
      "  'End': ['EndSection Name:A'],\n",
      "  'Name': ['StartSection Name:A']},\n",
      " {'Content': ['A Content2:a', 'B Content2:b', 'C Content2:c'],\n",
      "  'End': ['EndSection Name:B'],\n",
      "  'Name': ['StartSection Name:B']}]\n"
     ]
    }
   ],
   "source": [
    "test_iter = BufferedIterator(multi_section_text)\n",
    "context = {'dummy': 'asdf'}\n",
    "\n",
    "s_iter = assemble_subsection_group(section_list, test_iter, context)\n",
    "print(inspect.getgeneratorstate(s_iter))\n",
    "combined_sections = []\n",
    "while True:\n",
    "    try:\n",
    "        itm = next(s_iter)\n",
    "        if not is_empty(itm):\n",
    "            # Don't return empty section group.\n",
    "            combined_sections.append(itm)\n",
    "        print('\\n\\nOutput:')\n",
    "        pprint(itm)\n",
    "        print('\\ncontext:')\n",
    "        pprint(context,indent=4)\n",
    "        print('\\nSource:')\n",
    "        print(repr(test_iter))\n",
    "    except StopIteration:\n",
    "        print(inspect.getgeneratorstate(s_iter))\n",
    "        break\n",
    "   \n",
    "\n",
    "pprint(combined_sections)\n"
   ]
  },
  {
   "attachments": {},
   "cell_type": "markdown",
   "metadata": {},
   "source": [
    "### Sections with the same name"
   ]
  },
  {
   "cell_type": "code",
   "execution_count": 33,
   "metadata": {},
   "outputs": [],
   "source": [
    "## Single line subsections\n",
    "name_section = Section(\n",
    "    name='subsection',\n",
    "    start_section=SectionBreak('StartSection', name='NameStart'),\n",
    "    end_section=SectionBreak(True, name='NameEnd')\n",
    "    )\n",
    "\n",
    "content_section = Section(\n",
    "    name='subsection',\n",
    "    end_section=SectionBreak('EndSection', \n",
    "                             break_offset='Before', \n",
    "                             name='EndContent')\n",
    "    )\n",
    "\n",
    "end_section = Section(\n",
    "    name='subsection2',\n",
    "    end_section=SectionBreak(True, name='EndEnd')\n",
    "    )\n",
    "\n",
    "subsection_group = (name_section, content_section, end_section)"
   ]
  },
  {
   "cell_type": "code",
   "execution_count": 23,
   "metadata": {},
   "outputs": [],
   "source": [
    "from collections import Counter"
   ]
  },
  {
   "cell_type": "code",
   "execution_count": 37,
   "metadata": {},
   "outputs": [
    {
     "data": {
      "text/plain": [
       "Counter({'subsection': 2, 'subsection2': 1})"
      ]
     },
     "execution_count": 37,
     "metadata": {},
     "output_type": "execute_result"
    }
   ],
   "source": [
    "section_names = Counter([sub_rdr.name for sub_rdr in subsection_group])\n",
    "section_names"
   ]
  },
  {
   "cell_type": "code",
   "execution_count": 38,
   "metadata": {},
   "outputs": [
    {
     "data": {
      "text/plain": [
       "True"
      ]
     },
     "execution_count": 38,
     "metadata": {},
     "output_type": "execute_result"
    }
   ],
   "source": [
    "len(section_names) < len(subsection_group)"
   ]
  },
  {
   "cell_type": "code",
   "execution_count": 41,
   "metadata": {},
   "outputs": [
    {
     "data": {
      "text/plain": [
       "{'subsection': 0, 'subsection2': 0}"
      ]
     },
     "execution_count": 41,
     "metadata": {},
     "output_type": "execute_result"
    }
   ],
   "source": [
    "name_count = {name: 0 for name in section_names.keys()}\n",
    "name_count"
   ]
  },
  {
   "cell_type": "code",
   "execution_count": 39,
   "metadata": {},
   "outputs": [],
   "source": [
    "a = iter(subsection_group)"
   ]
  },
  {
   "cell_type": "code",
   "execution_count": 40,
   "metadata": {},
   "outputs": [
    {
     "data": {
      "text/plain": [
       "'subsection'"
      ]
     },
     "execution_count": 40,
     "metadata": {},
     "output_type": "execute_result"
    }
   ],
   "source": [
    "sub_sec = next(a)\n",
    "name = sub_sec.name\n",
    "name"
   ]
  },
  {
   "cell_type": "code",
   "execution_count": 43,
   "metadata": {},
   "outputs": [
    {
     "data": {
      "text/plain": [
       "2"
      ]
     },
     "execution_count": 43,
     "metadata": {},
     "output_type": "execute_result"
    }
   ],
   "source": [
    "section_names[name]"
   ]
  },
  {
   "cell_type": "code",
   "execution_count": 29,
   "metadata": {},
   "outputs": [
    {
     "data": {
      "text/plain": [
       "2"
      ]
     },
     "execution_count": 29,
     "metadata": {},
     "output_type": "execute_result"
    }
   ],
   "source": [
    "unique_names = len(section_names)\n",
    "unique_names"
   ]
  },
  {
   "cell_type": "markdown",
   "metadata": {},
   "source": [
    "## Use this to test subsections with a non 1:1 processor"
   ]
  },
  {
   "cell_type": "code",
   "execution_count": null,
   "metadata": {},
   "outputs": [],
   "source": [
    "'''Testing Source and Section item counting.\n",
    "\n",
    "Process method should track the number of Source lines used for each processed line\n",
    "\n",
    "Processor creates sequence of source.item_count for each output item\n",
    "- Len(section.item_count) = # processed items\n",
    "- section.item_count[-1] = # source items (includes skipped source items)\n",
    "- Property item_count returns len(self._item_count)\n",
    "- Property source_item_count returns self._item_count[-1]\n",
    "'''\n",
    "\n",
    "# %% Imports\n",
    "import unittest\n",
    "from pprint import pprint\n",
    "import random\n",
    "from buffered_iterator import BufferedIterator\n",
    "\n",
    "from sections import SectionBreak, Section\n",
    "from sections import Rule, RuleSet, ProcessingMethods\n",
    "# %% Logging\n",
    "import logging\n",
    "logging.basicConfig(format='%(name)-20s - %(levelname)s: %(message)s')\n",
    "logger = logging.getLogger('Source Tracking Tests')\n",
    "logger.setLevel(logging.DEBUG)\n",
    "#logger.setLevel(logging.INFO)\n",
    "\n",
    "# %% Processing Functions\n",
    "def pairs(source):\n",
    "    '''Convert a sequence of items into a sequence of item pairs\n",
    "\n",
    "    Successive items are combined into length 2 tuples.\n",
    "\n",
    "    Args:\n",
    "        source (Sequence): any sequence of hashable items\n",
    "\n",
    "    Yields:\n",
    "        Tuple[Any]: Successive items combined into length 2 tuples.\n",
    "    '''\n",
    "    for item in source:\n",
    "        yield tuple([item, next(source)])\n",
    "\n",
    "\n",
    "def n_split(source):\n",
    "    '''Extract numbers from stings of comma separated integers.\n",
    "\n",
    "    Number are extracted by splitting on the commas.  Spaces are ignored.\n",
    "\n",
    "    Args:\n",
    "        source (Sequence[str]): A sequence of stings composed of comma separated\n",
    "            integers. e.g. ['0, 1', '2, 3', '4, 5' ...]\n",
    "\n",
    "    Yields:\n",
    "        int: Integer values extracted from the strings.\n",
    "    '''\n",
    "    for item in source:\n",
    "        nums = [int(num_s.strip()) for num_s in item.split(',')]\n",
    "        yield from nums\n",
    "\n",
    "\n",
    "def odd_nums(source):\n",
    "    '''Yield Odd items\n",
    "    Args:\n",
    "        source (Sequence[int]): A sequence of integers\n",
    "\n",
    "    Yields:\n",
    "        int: odd integers from the source\n",
    "    '''\n",
    "    for item in source:\n",
    "        if int(item)%2 == 1:\n",
    "            yield item\n",
    "\n",
    "# %% Test Source Tracking\n",
    "class TestSourceTracking(unittest.TestCase):\n",
    "    def setUp(self):\n",
    "        self.buffer_size = 5\n",
    "        self.num_items = 10\n",
    "\n",
    "        self.str_source = BufferedIterator(\n",
    "            (str(i) for i in range(self.num_items)),\n",
    "            buffer_size=self.buffer_size)\n",
    "\n",
    "        self.int_source = BufferedIterator(\n",
    "            (i for i in range(self.num_items)),\n",
    "            buffer_size=self.buffer_size)\n",
    "\n",
    "        self.pairs_source = BufferedIterator(\n",
    "            [f'{a}, {b}' for a, b in zip(range(0, self.num_items * 2, 2),\n",
    "                                         range(1, self.num_items * 2, 2))],\n",
    "            buffer_size=self.buffer_size)\n",
    "\n",
    "    def test_before_source_initialized(self):\n",
    "        '''Before source initialized\n",
    "            - Section.source_index is None\n",
    "            - Section.source_item_count is 0\n",
    "            - Section.item_count is 0\n",
    "        '''\n",
    "        empty_section = Section(name='empty')\n",
    "        source_index = empty_section.source_index\n",
    "        source_item_count = empty_section.source_item_count\n",
    "        item_count = empty_section.item_count\n",
    "        self.assertIsNone(source_index)\n",
    "        self.assertEqual(source_item_count, 0)\n",
    "        self.assertEqual(item_count, 0)\n",
    "\n",
    "    def test_source_beginning(self):\n",
    "        '''At beginning of source\n",
    "            - Section.source_index is empty list\n",
    "            - Section.source_item_count is 0\n",
    "            - Section.item_count is 0\n",
    "        '''\n",
    "        not_started_section = Section(name='Not Started')\n",
    "        not_started_section.source = self.int_source\n",
    "        source_index = not_started_section.source_index\n",
    "        source_item_count = not_started_section.source_item_count\n",
    "        item_count = not_started_section.item_count\n",
    "        self.assertEqual(source_index, [0])\n",
    "        self.assertEqual(source_item_count, 0)\n",
    "        self.assertEqual(item_count, 0)\n",
    "\n",
    "    def test_1_to_1_processor(self):\n",
    "        '''1-to-1 match\n",
    "            - range(n) as source\n",
    "            - processor just returns item\n",
    "            - for each section item:\n",
    "            - source.item_count = item = section.source_item_count\n",
    "            - source.item_count = section.item_count\n",
    "        '''\n",
    "        section_1_1 = Section(name='1-to-1 match')\n",
    "        for item in section_1_1.process(self.int_source):\n",
    "            with self.subTest(item=item):\n",
    "                source_count = self.int_source.item_count\n",
    "                source_item_count = section_1_1.source_item_count\n",
    "                item_count = section_1_1.item_count\n",
    "                self.assertEqual(item+1, source_count)\n",
    "                self.assertEqual(source_count, source_item_count)\n",
    "                self.assertEqual(source_count, item_count)\n",
    "\n",
    "    def test_2_to_1_processor(self):\n",
    "        '''2-to-1 match\n",
    "            - `range(n)` as source\n",
    "            - processor converts 2 successive source items into tuple of\n",
    "            length 2.\n",
    "            - for each section item:\n",
    "                - item = (source.item_count-2, source.item_count-1)\n",
    "                - source.item_count = section.source_item_count\n",
    "                - source.item_count = section.item_count * 2\n",
    "        '''\n",
    "        section_2_1 = Section(name='2-to-1 match',\n",
    "                              processor=[pairs])\n",
    "        for item in section_2_1.process(self.int_source):\n",
    "            with self.subTest(item=item):\n",
    "                source_count = self.int_source.item_count\n",
    "                source_item_count = section_2_1.source_item_count\n",
    "                item_count = section_2_1.item_count\n",
    "                expected_item = (source_count-2, source_count-1)\n",
    "                self.assertEqual(item, expected_item)\n",
    "                self.assertEqual(source_count, source_item_count)\n",
    "                self.assertEqual(source_item_count, item_count * 2)\n",
    "\n",
    "    def test_1_to_2_processor(self):\n",
    "        '''1-to-2 match\n",
    "        - Numerical pairs as source:\n",
    "            `['0, 1', '2, 3', '4, 5'` $\\cdots$`]`\n",
    "        - processor converts 1 source item into 2 output lines\n",
    "        - for each source item:\n",
    "            > `nums = [int(num_s.strip()) for num_s in item.split(',')]`<br>\n",
    "            > `section item 1 = nums[0]`,<br>\n",
    "            > `section item 2 = nums[1]`\n",
    "        - source.item_count = (section.item_count + 1) // 2\n",
    "        - section.source_item_count = section.source_index[-1]\n",
    "        '''\n",
    "        section_1_2 = Section(name='1-to-2 match',\n",
    "                              processor=[n_split])\n",
    "        for item in section_1_2.process(self.pairs_source):\n",
    "            with self.subTest(item=item):\n",
    "                source_count = self.pairs_source.item_count\n",
    "                source_item_count = section_1_2.source_item_count\n",
    "                item_count = section_1_2.item_count\n",
    "                self.assertEqual(item+1, item_count)\n",
    "                self.assertEqual(source_count, source_item_count)\n",
    "                self.assertEqual(source_count, (item_count+1) //2)\n",
    "\n",
    "    def test_skip_first_item_count(self):\n",
    "        '''Skip First Source Item\n",
    "            - (str(i) for i in range(n)) as source\n",
    "            - start_section='1', offset='Before'\n",
    "            - processor returns int(item)\n",
    "            - for each section item:\n",
    "                - source.item_count = item\n",
    "                - source.item_count = section.source.item_count\n",
    "                - source.item_count = section.item_count\n",
    "        '''\n",
    "        section_skip_0 = Section(\n",
    "            name='Skipped First Source Item',\n",
    "            start_section=SectionBreak('1', break_offset='Before')\n",
    "            )\n",
    "        for item in section_skip_0.process(self.str_source):\n",
    "            with self.subTest(item=item):\n",
    "                source_count = self.str_source.item_count\n",
    "                source_item_count = section_skip_0.source_item_count\n",
    "                item_count = section_skip_0.item_count\n",
    "                self.assertEqual(int(item)+1, source_count)\n",
    "                self.assertEqual(source_count, source_item_count)\n",
    "                self.assertEqual(int(item), item_count)\n",
    "\n",
    "    def test_skip_two_item_counts(self):\n",
    "        '''Skip First 2 Source Items\n",
    "            - (str(i) for i in range(n)) as source\n",
    "            - start_section='1', offset='After'\n",
    "            - processor returns int(item)\n",
    "            - for each section item:\n",
    "                - source.item_count = item + 1\n",
    "                - source.item_count = section.source_item_count\n",
    "                - source.item_count = section.item_count + 2\n",
    "        '''\n",
    "        section_skip_2 = Section(\n",
    "            name='Skipped First Source Item',\n",
    "            start_section=SectionBreak('1', break_offset='After')\n",
    "            )\n",
    "        for item in section_skip_2.process(self.str_source):\n",
    "            with self.subTest(item=item):\n",
    "                source_count = self.str_source.item_count\n",
    "                source_item_count = section_skip_2.source_item_count\n",
    "                item_count = section_skip_2.item_count\n",
    "                self.assertEqual(int(item)+1, source_count)\n",
    "                self.assertEqual(source_count, source_item_count)\n",
    "                self.assertEqual(source_count, item_count + 2)\n",
    "\n",
    "    def test_do_not_count_dropped_items(self):\n",
    "        '''Don't Count Dropped Items\n",
    "            - range(n) as source\n",
    "            - processor drops even items and yields odd items\n",
    "            - for each section item:\n",
    "                - item + 1 = source.item_count\n",
    "                - source.item_count = section.source_item_count\n",
    "                - source.item_count = section.item_count * 2\n",
    "        '''\n",
    "        section_odd = Section(\n",
    "            name='Odd Numbers',\n",
    "            processor=[odd_nums]\n",
    "            )\n",
    "        for item in section_odd.process(self.int_source):\n",
    "            with self.subTest(item=item):\n",
    "                source_count = self.int_source.item_count\n",
    "                source_item_count = section_odd.source_item_count\n",
    "                item_count = section_odd.item_count\n",
    "                self.assertEqual(item+1, source_count)\n",
    "                self.assertEqual(source_count, source_item_count)\n",
    "                self.assertEqual(source_count, item_count * 2)\n",
    "\n",
    "    def test_completed_section_item_count(self):\n",
    "        '''Completed Section Item Count\n",
    "            - (str(i) for i in range(n)) as source\n",
    "            - processor drops even items and yields odd items\n",
    "            - after section.read(source):\n",
    "                - source.item_count = section.source_item_count\n",
    "                - section.source_item_count = section.item_count = n * 2\n",
    "        '''\n",
    "        section_odd = Section(\n",
    "            name='Odd Numbers',\n",
    "            processor=[odd_nums]\n",
    "            )\n",
    "        section_odd.read(self.int_source)\n",
    "        source_count = self.int_source.item_count\n",
    "        source_item_count = section_odd.source_item_count\n",
    "        item_count = section_odd.item_count\n",
    "        self.assertEqual(source_count, source_item_count)\n",
    "        self.assertEqual(source_count, item_count * 2)\n",
    "\n",
    "    def test_completed_section_partial_source_item_count(self):\n",
    "        '''Partial Source Completed Section\n",
    "            - (str(i) for i in range(n)) as source\n",
    "            - Random start_section and end_section\n",
    "            - after section.read(source):\n",
    "                - source.item_count = section.source_item_count\n",
    "                - source.item_count = end_num\n",
    "                - section.item_count = end_num - start_num\n",
    "        '''\n",
    "        start_num = random.randint(1, self.num_items-2)\n",
    "        end_num = random.randint(start_num + 1, self.num_items)\n",
    "        part_section = Section(\n",
    "            name='Partial Source Section',\n",
    "            start_section=str(start_num),\n",
    "            end_section=str(end_num)\n",
    "            )\n",
    "        part_section.read(self.str_source)\n",
    "        source_count = self.str_source.item_count\n",
    "        source_item_count = part_section.source_item_count\n",
    "        item_count = part_section.item_count\n",
    "        self.assertEqual(source_count, source_item_count)\n",
    "        self.assertEqual(source_count, end_num)\n",
    "        self.assertEqual(item_count, end_num-start_num)\n",
    "\n",
    "    def test_completed_section_partial_source_with_end_before_item_count(self):\n",
    "        '''Completed Section With End Before\n",
    "            - `(str(i) for i in range(n))` as source\n",
    "            - end_section='2', offset='Before'\n",
    "            - after section.read(source):\n",
    "                - source.item_count = section.source_item_count\n",
    "                - source.item_count = section.item_count = 2\n",
    "        '''\n",
    "        section_end_before = Section(\n",
    "            name='End Before',\n",
    "            end_section=SectionBreak('2', break_offset='Before')\n",
    "            )\n",
    "\n",
    "        item_list = section_end_before.read(self.str_source)\n",
    "        source_count = self.str_source.item_count\n",
    "        source_item_count = section_end_before.source_item_count\n",
    "        item_count = section_end_before.item_count\n",
    "\n",
    "        self.assertEqual(source_count, 2)\n",
    "        self.assertEqual(source_item_count, 2)\n",
    "        self.assertEqual(item_count, 2)\n",
    "        self.assertEqual(item_list, ['0', '1'])\n",
    "\n",
    "    def test_completed_section_partial_source_with_end_after_item_count(self):\n",
    "        '''Completed Section With End After\n",
    "            - `(str(i) for i in range(n))` as source\n",
    "            - end_section='2', offset='After'\n",
    "            - after section.read(source):\n",
    "                - source.item_count = section.source_item_count\n",
    "                - source.item_count = section.item_count = 3\n",
    "        '''\n",
    "        section_end_before = Section(\n",
    "            name='End Before',\n",
    "            end_section=SectionBreak('2', break_offset='After')\n",
    "            )\n",
    "\n",
    "        item_list = section_end_before.read(self.str_source)\n",
    "        source_count = self.str_source.item_count\n",
    "        source_item_count = section_end_before.source_item_count\n",
    "        item_count = section_end_before.item_count\n",
    "\n",
    "        self.assertEqual(source_count, 3)\n",
    "        self.assertEqual(source_item_count, 3)\n",
    "        self.assertEqual(item_count, 3)\n",
    "        self.assertEqual(item_list, ['0', '1', '2'])\n",
    "\n",
    "\n",
    "if __name__ == '__main__':\n",
    "    unittest.main()\n"
   ]
  },
  {
   "cell_type": "markdown",
   "metadata": {},
   "source": [
    "## Use this to test subsections with a non 1:1 processor"
   ]
  },
  {
   "cell_type": "code",
   "execution_count": null,
   "metadata": {},
   "outputs": [],
   "source": [
    "'''Testing Source and Section item counting.\n",
    "\n",
    "Process method should track the number of Source lines used for each processed line\n",
    "\n",
    "Processor creates sequence of source.item_count for each output item\n",
    "- Len(section.item_count) = # processed items\n",
    "- section.item_count[-1] = # source items (includes skipped source items)\n",
    "- Property item_count returns len(self._item_count)\n",
    "- Property source_item_count returns self._item_count[-1]\n",
    "'''\n",
    "\n",
    "# %% Imports\n",
    "import unittest\n",
    "from pprint import pprint\n",
    "import random\n",
    "from buffered_iterator import BufferedIterator\n",
    "\n",
    "from sections import SectionBreak, Section\n",
    "from sections import Rule, RuleSet, ProcessingMethods\n",
    "# %% Logging\n",
    "import logging\n",
    "logging.basicConfig(format='%(name)-20s - %(levelname)s: %(message)s')\n",
    "logger = logging.getLogger('Source Tracking Tests')\n",
    "logger.setLevel(logging.DEBUG)\n",
    "#logger.setLevel(logging.INFO)\n",
    "\n",
    "# %% Processing Functions\n",
    "def pairs(source):\n",
    "    '''Convert a sequence of items into a sequence of item pairs\n",
    "\n",
    "    Successive items are combined into length 2 tuples.\n",
    "\n",
    "    Args:\n",
    "        source (Sequence): any sequence of hashable items\n",
    "\n",
    "    Yields:\n",
    "        Tuple[Any]: Successive items combined into length 2 tuples.\n",
    "    '''\n",
    "    for item in source:\n",
    "        yield tuple([item, next(source)])\n",
    "\n",
    "\n",
    "def n_split(source):\n",
    "    '''Extract numbers from stings of comma separated integers.\n",
    "\n",
    "    Number are extracted by splitting on the commas.  Spaces are ignored.\n",
    "\n",
    "    Args:\n",
    "        source (Sequence[str]): A sequence of stings composed of comma separated\n",
    "            integers. e.g. ['0, 1', '2, 3', '4, 5' ...]\n",
    "\n",
    "    Yields:\n",
    "        int: Integer values extracted from the strings.\n",
    "    '''\n",
    "    for item in source:\n",
    "        nums = [int(num_s.strip()) for num_s in item.split(',')]\n",
    "        yield from nums\n",
    "\n",
    "\n",
    "def odd_nums(source):\n",
    "    '''Yield Odd items\n",
    "    Args:\n",
    "        source (Sequence[int]): A sequence of integers\n",
    "\n",
    "    Yields:\n",
    "        int: odd integers from the source\n",
    "    '''\n",
    "    for item in source:\n",
    "        if int(item)%2 == 1:\n",
    "            yield item\n",
    "\n",
    "# %% Test Source Tracking\n",
    "class TestSourceTracking(unittest.TestCase):\n",
    "    def setUp(self):\n",
    "        self.buffer_size = 5\n",
    "        self.num_items = 10\n",
    "\n",
    "        self.str_source = BufferedIterator(\n",
    "            (str(i) for i in range(self.num_items)),\n",
    "            buffer_size=self.buffer_size)\n",
    "\n",
    "        self.int_source = BufferedIterator(\n",
    "            (i for i in range(self.num_items)),\n",
    "            buffer_size=self.buffer_size)\n",
    "\n",
    "        self.pairs_source = BufferedIterator(\n",
    "            [f'{a}, {b}' for a, b in zip(range(0, self.num_items * 2, 2),\n",
    "                                         range(1, self.num_items * 2, 2))],\n",
    "            buffer_size=self.buffer_size)\n",
    "\n",
    "    def test_before_source_initialized(self):\n",
    "        '''Before source initialized\n",
    "            - Section.source_index is None\n",
    "            - Section.source_item_count is 0\n",
    "            - Section.item_count is 0\n",
    "        '''\n",
    "        empty_section = Section(name='empty')\n",
    "        source_index = empty_section.source_index\n",
    "        source_item_count = empty_section.source_item_count\n",
    "        item_count = empty_section.item_count\n",
    "        self.assertIsNone(source_index)\n",
    "        self.assertEqual(source_item_count, 0)\n",
    "        self.assertEqual(item_count, 0)\n",
    "\n",
    "    def test_source_beginning(self):\n",
    "        '''At beginning of source\n",
    "            - Section.source_index is empty list\n",
    "            - Section.source_item_count is 0\n",
    "            - Section.item_count is 0\n",
    "        '''\n",
    "        not_started_section = Section(name='Not Started')\n",
    "        not_started_section.source = self.int_source\n",
    "        source_index = not_started_section.source_index\n",
    "        source_item_count = not_started_section.source_item_count\n",
    "        item_count = not_started_section.item_count\n",
    "        self.assertEqual(source_index, [0])\n",
    "        self.assertEqual(source_item_count, 0)\n",
    "        self.assertEqual(item_count, 0)\n",
    "\n",
    "    def test_1_to_1_processor(self):\n",
    "        '''1-to-1 match\n",
    "            - range(n) as source\n",
    "            - processor just returns item\n",
    "            - for each section item:\n",
    "            - source.item_count = item = section.source_item_count\n",
    "            - source.item_count = section.item_count\n",
    "        '''\n",
    "        section_1_1 = Section(name='1-to-1 match')\n",
    "        for item in section_1_1.process(self.int_source):\n",
    "            with self.subTest(item=item):\n",
    "                source_count = self.int_source.item_count\n",
    "                source_item_count = section_1_1.source_item_count\n",
    "                item_count = section_1_1.item_count\n",
    "                self.assertEqual(item+1, source_count)\n",
    "                self.assertEqual(source_count, source_item_count)\n",
    "                self.assertEqual(source_count, item_count)\n",
    "\n",
    "    def test_2_to_1_processor(self):\n",
    "        '''2-to-1 match\n",
    "            - `range(n)` as source\n",
    "            - processor converts 2 successive source items into tuple of\n",
    "            length 2.\n",
    "            - for each section item:\n",
    "                - item = (source.item_count-2, source.item_count-1)\n",
    "                - source.item_count = section.source_item_count\n",
    "                - source.item_count = section.item_count * 2\n",
    "        '''\n",
    "        section_2_1 = Section(name='2-to-1 match',\n",
    "                              processor=[pairs])\n",
    "        for item in section_2_1.process(self.int_source):\n",
    "            with self.subTest(item=item):\n",
    "                source_count = self.int_source.item_count\n",
    "                source_item_count = section_2_1.source_item_count\n",
    "                item_count = section_2_1.item_count\n",
    "                expected_item = (source_count-2, source_count-1)\n",
    "                self.assertEqual(item, expected_item)\n",
    "                self.assertEqual(source_count, source_item_count)\n",
    "                self.assertEqual(source_item_count, item_count * 2)\n",
    "\n",
    "    def test_1_to_2_processor(self):\n",
    "        '''1-to-2 match\n",
    "        - Numerical pairs as source:\n",
    "            `['0, 1', '2, 3', '4, 5'` $\\cdots$`]`\n",
    "        - processor converts 1 source item into 2 output lines\n",
    "        - for each source item:\n",
    "            > `nums = [int(num_s.strip()) for num_s in item.split(',')]`<br>\n",
    "            > `section item 1 = nums[0]`,<br>\n",
    "            > `section item 2 = nums[1]`\n",
    "        - source.item_count = (section.item_count + 1) // 2\n",
    "        - section.source_item_count = section.source_index[-1]\n",
    "        '''\n",
    "        section_1_2 = Section(name='1-to-2 match',\n",
    "                              processor=[n_split])\n",
    "        for item in section_1_2.process(self.pairs_source):\n",
    "            with self.subTest(item=item):\n",
    "                source_count = self.pairs_source.item_count\n",
    "                source_item_count = section_1_2.source_item_count\n",
    "                item_count = section_1_2.item_count\n",
    "                self.assertEqual(item+1, item_count)\n",
    "                self.assertEqual(source_count, source_item_count)\n",
    "                self.assertEqual(source_count, (item_count+1) //2)\n",
    "\n",
    "    def test_skip_first_item_count(self):\n",
    "        '''Skip First Source Item\n",
    "            - (str(i) for i in range(n)) as source\n",
    "            - start_section='1', offset='Before'\n",
    "            - processor returns int(item)\n",
    "            - for each section item:\n",
    "                - source.item_count = item\n",
    "                - source.item_count = section.source.item_count\n",
    "                - source.item_count = section.item_count\n",
    "        '''\n",
    "        section_skip_0 = Section(\n",
    "            name='Skipped First Source Item',\n",
    "            start_section=SectionBreak('1', break_offset='Before')\n",
    "            )\n",
    "        for item in section_skip_0.process(self.str_source):\n",
    "            with self.subTest(item=item):\n",
    "                source_count = self.str_source.item_count\n",
    "                source_item_count = section_skip_0.source_item_count\n",
    "                item_count = section_skip_0.item_count\n",
    "                self.assertEqual(int(item)+1, source_count)\n",
    "                self.assertEqual(source_count, source_item_count)\n",
    "                self.assertEqual(int(item), item_count)\n",
    "\n",
    "    def test_skip_two_item_counts(self):\n",
    "        '''Skip First 2 Source Items\n",
    "            - (str(i) for i in range(n)) as source\n",
    "            - start_section='1', offset='After'\n",
    "            - processor returns int(item)\n",
    "            - for each section item:\n",
    "                - source.item_count = item + 1\n",
    "                - source.item_count = section.source_item_count\n",
    "                - source.item_count = section.item_count + 2\n",
    "        '''\n",
    "        section_skip_2 = Section(\n",
    "            name='Skipped First Source Item',\n",
    "            start_section=SectionBreak('1', break_offset='After')\n",
    "            )\n",
    "        for item in section_skip_2.process(self.str_source):\n",
    "            with self.subTest(item=item):\n",
    "                source_count = self.str_source.item_count\n",
    "                source_item_count = section_skip_2.source_item_count\n",
    "                item_count = section_skip_2.item_count\n",
    "                self.assertEqual(int(item)+1, source_count)\n",
    "                self.assertEqual(source_count, source_item_count)\n",
    "                self.assertEqual(source_count, item_count + 2)\n",
    "\n",
    "    def test_do_not_count_dropped_items(self):\n",
    "        '''Don't Count Dropped Items\n",
    "            - range(n) as source\n",
    "            - processor drops even items and yields odd items\n",
    "            - for each section item:\n",
    "                - item + 1 = source.item_count\n",
    "                - source.item_count = section.source_item_count\n",
    "                - source.item_count = section.item_count * 2\n",
    "        '''\n",
    "        section_odd = Section(\n",
    "            name='Odd Numbers',\n",
    "            processor=[odd_nums]\n",
    "            )\n",
    "        for item in section_odd.process(self.int_source):\n",
    "            with self.subTest(item=item):\n",
    "                source_count = self.int_source.item_count\n",
    "                source_item_count = section_odd.source_item_count\n",
    "                item_count = section_odd.item_count\n",
    "                self.assertEqual(item+1, source_count)\n",
    "                self.assertEqual(source_count, source_item_count)\n",
    "                self.assertEqual(source_count, item_count * 2)\n",
    "\n",
    "    def test_completed_section_item_count(self):\n",
    "        '''Completed Section Item Count\n",
    "            - (str(i) for i in range(n)) as source\n",
    "            - processor drops even items and yields odd items\n",
    "            - after section.read(source):\n",
    "                - source.item_count = section.source_item_count\n",
    "                - section.source_item_count = section.item_count = n * 2\n",
    "        '''\n",
    "        section_odd = Section(\n",
    "            name='Odd Numbers',\n",
    "            processor=[odd_nums]\n",
    "            )\n",
    "        section_odd.read(self.int_source)\n",
    "        source_count = self.int_source.item_count\n",
    "        source_item_count = section_odd.source_item_count\n",
    "        item_count = section_odd.item_count\n",
    "        self.assertEqual(source_count, source_item_count)\n",
    "        self.assertEqual(source_count, item_count * 2)\n",
    "\n",
    "    def test_completed_section_partial_source_item_count(self):\n",
    "        '''Partial Source Completed Section\n",
    "            - (str(i) for i in range(n)) as source\n",
    "            - Random start_section and end_section\n",
    "            - after section.read(source):\n",
    "                - source.item_count = section.source_item_count\n",
    "                - source.item_count = end_num\n",
    "                - section.item_count = end_num - start_num\n",
    "        '''\n",
    "        start_num = random.randint(1, self.num_items-2)\n",
    "        end_num = random.randint(start_num + 1, self.num_items)\n",
    "        part_section = Section(\n",
    "            name='Partial Source Section',\n",
    "            start_section=str(start_num),\n",
    "            end_section=str(end_num)\n",
    "            )\n",
    "        part_section.read(self.str_source)\n",
    "        source_count = self.str_source.item_count\n",
    "        source_item_count = part_section.source_item_count\n",
    "        item_count = part_section.item_count\n",
    "        self.assertEqual(source_count, source_item_count)\n",
    "        self.assertEqual(source_count, end_num)\n",
    "        self.assertEqual(item_count, end_num-start_num)\n",
    "\n",
    "    def test_completed_section_partial_source_with_end_before_item_count(self):\n",
    "        '''Completed Section With End Before\n",
    "            - `(str(i) for i in range(n))` as source\n",
    "            - end_section='2', offset='Before'\n",
    "            - after section.read(source):\n",
    "                - source.item_count = section.source_item_count\n",
    "                - source.item_count = section.item_count = 2\n",
    "        '''\n",
    "        section_end_before = Section(\n",
    "            name='End Before',\n",
    "            end_section=SectionBreak('2', break_offset='Before')\n",
    "            )\n",
    "\n",
    "        item_list = section_end_before.read(self.str_source)\n",
    "        source_count = self.str_source.item_count\n",
    "        source_item_count = section_end_before.source_item_count\n",
    "        item_count = section_end_before.item_count\n",
    "\n",
    "        self.assertEqual(source_count, 2)\n",
    "        self.assertEqual(source_item_count, 2)\n",
    "        self.assertEqual(item_count, 2)\n",
    "        self.assertEqual(item_list, ['0', '1'])\n",
    "\n",
    "    def test_completed_section_partial_source_with_end_after_item_count(self):\n",
    "        '''Completed Section With End After\n",
    "            - `(str(i) for i in range(n))` as source\n",
    "            - end_section='2', offset='After'\n",
    "            - after section.read(source):\n",
    "                - source.item_count = section.source_item_count\n",
    "                - source.item_count = section.item_count = 3\n",
    "        '''\n",
    "        section_end_before = Section(\n",
    "            name='End Before',\n",
    "            end_section=SectionBreak('2', break_offset='After')\n",
    "            )\n",
    "\n",
    "        item_list = section_end_before.read(self.str_source)\n",
    "        source_count = self.str_source.item_count\n",
    "        source_item_count = section_end_before.source_item_count\n",
    "        item_count = section_end_before.item_count\n",
    "\n",
    "        self.assertEqual(source_count, 3)\n",
    "        self.assertEqual(source_item_count, 3)\n",
    "        self.assertEqual(item_count, 3)\n",
    "        self.assertEqual(item_list, ['0', '1', '2'])\n",
    "\n",
    "\n",
    "if __name__ == '__main__':\n",
    "    unittest.main()\n"
   ]
  },
  {
   "attachments": {},
   "cell_type": "markdown",
   "metadata": {},
   "source": [
    "## Single line subsections"
   ]
  },
  {
   "cell_type": "code",
   "execution_count": null,
   "metadata": {},
   "outputs": [],
   "source": [
    "name_section = Section(\n",
    "    name='Name',\n",
    "    start_section=SectionBreak('StartSection', name='NameStart'),\n",
    "    end_section=SectionBreak(True, name='NameEnd')\n",
    "    )\n",
    "\n",
    "content_section = Section(\n",
    "    name='Content',\n",
    "    end_section=SectionBreak('EndSection', \n",
    "                             break_offset='Before', \n",
    "                             name='EndContent')\n",
    "    )\n",
    "\n",
    "end_section = Section(\n",
    "    name='End',\n",
    "    end_section=SectionBreak(True, name='EndEnd')\n",
    "    )\n"
   ]
  },
  {
   "cell_type": "code",
   "execution_count": null,
   "metadata": {},
   "outputs": [],
   "source": [
    "section_list = (name_section, content_section, end_section)\n",
    "\n",
    "subsection_group = ProcessingMethods(section_list)\n",
    "\n",
    "full_section = Section(\n",
    "    name='Full Section',\n",
    "    processor=subsection_group\n",
    "    )\n",
    "\n"
   ]
  },
  {
   "cell_type": "code",
   "execution_count": null,
   "metadata": {},
   "outputs": [],
   "source": [
    "test_iter = BufferedIterator(multi_section_text)\n",
    "context = {'dummy': 'asdf'}\n",
    "\n",
    "full_section.read(test_iter)\n"
   ]
  },
  {
   "cell_type": "code",
   "execution_count": null,
   "metadata": {},
   "outputs": [],
   "source": [
    "\n",
    "pprint(combined_sections)\n",
    "print()\n",
    "pprint(context)"
   ]
  },
  {
   "attachments": {},
   "cell_type": "markdown",
   "metadata": {},
   "source": [
    "#### Subsection definitions"
   ]
  },
  {
   "cell_type": "code",
   "execution_count": null,
   "metadata": {},
   "outputs": [],
   "source": [
    "name_section = Section(\n",
    "    name='Name',\n",
    "    start_section=SectionBreak('Name', name='Name'),\n",
    "    end_section=SectionBreak(True, name='EndName')\n",
    "    )\n",
    "\n",
    "content_section = Section(\n",
    "    name='Content',\n",
    "    end_section=SectionBreak('EndSection', \n",
    "                             break_offset='Before', \n",
    "                             name='EndContent')\n",
    "    )\n",
    "\n",
    "end_section = Section(\n",
    "    name='End',\n",
    "    end_section=SectionBreak(True, name='EndEnd')\n",
    "    )\n",
    "\n",
    "section_list = [name_section, content_section, end_section]\n"
   ]
  },
  {
   "cell_type": "code",
   "execution_count": null,
   "metadata": {},
   "outputs": [],
   "source": [
    "from functools import partial\n",
    "proc_func = partial(read_section_list, section_list)\n",
    "test_context = {'dummy': 'Test'}\n",
    "\n",
    "full_section = Section(\n",
    "    name='Full Subsection',\n",
    "    #start_section=SectionBreak('StartSection', break_offset='Before'),\n",
    "    #end_section=SectionBreak('EndSection', break_offset='After'),\n",
    "    processor=proc_func\n",
    "    )\n",
    "\n",
    "full_section.read(test_iter, start_search=False)"
   ]
  },
  {
   "cell_type": "code",
   "execution_count": null,
   "metadata": {},
   "outputs": [],
   "source": [
    "read_section_list(section_list, test_iter)"
   ]
  },
  {
   "cell_type": "code",
   "execution_count": null,
   "metadata": {},
   "outputs": [],
   "source": [
    "\n",
    "print(repr(test_iter))"
   ]
  },
  {
   "cell_type": "raw",
   "metadata": {},
   "source": [
    "multi_section_text = [\n",
    "    'Text to be ignored',\n",
    "    'StartSection Name:A',\n",
    "    'A Content1:a',\n",
    "    'B Content1:b',\n",
    "    'C Content1:c',\n",
    "    'EndSection Name:A',\n",
    "    'StartSection Name:B',\n",
    "    'A Content2:a',\n",
    "    'B Content2:b',\n",
    "    'C Content2:c',\n",
    "    'EndSection Name:B'\n",
    "    'Even more text to be ignored',\n",
    "    ]"
   ]
  },
  {
   "cell_type": "raw",
   "metadata": {},
   "source": [
    "test_text = [\n",
    "            'Text to be ignored',\n",
    "            'StartSection A',\n",
    "            'MiddleSection A',\n",
    "            'EndSection A',\n",
    "            'Unwanted text between sections',\n",
    "            'StartSection B',\n",
    "            'MiddleSection B',\n",
    "            'EndSection B',\n",
    "            'StartSection C',\n",
    "            'MiddleSection C',\n",
    "            'EndSection C',\n",
    "            'Even more text to be ignored',\n",
    "            ]\n",
    "\n",
    "\n",
    "test_iter = BufferedIterator(test_text)\n",
    "\n",
    "single_section = Section(\n",
    "    name='SubSection',\n",
    "    start_section=SectionBreak('StartSection', break_offset='Before'),\n",
    "    end_section=SectionBreak('EndSection', break_offset='After')\n",
    "    )\n",
    "\n",
    "while True:\n",
    "    if single_section.scan_status in ['Scan Complete', 'End of Source']:\n",
    "        break\n",
    "    print(single_section.read(test_iter))\n",
    "    pprint(single_section.context)\n"
   ]
  }
 ],
 "metadata": {
  "kernelspec": {
   "display_name": "sectionaryDev",
   "language": "python",
   "name": "python3"
  },
  "language_info": {
   "codemirror_mode": {
    "name": "ipython",
    "version": 3
   },
   "file_extension": ".py",
   "mimetype": "text/x-python",
   "name": "python",
   "nbconvert_exporter": "python",
   "pygments_lexer": "ipython3",
   "version": "3.8.15"
  },
  "orig_nbformat": 4,
  "vscode": {
   "interpreter": {
    "hash": "890849be4bb9b5be1d044afe42e602ccc6ca20da23c054ee97c8186ec3939c45"
   }
  }
 },
 "nbformat": 4,
 "nbformat_minor": 2
}
