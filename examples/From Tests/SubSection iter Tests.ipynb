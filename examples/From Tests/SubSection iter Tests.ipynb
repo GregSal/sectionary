{
 "cells": [
  {
   "attachments": {},
   "cell_type": "markdown",
   "metadata": {},
   "source": [
    "# SubSection Management Functions"
   ]
  },
  {
   "attachments": {},
   "cell_type": "markdown",
   "metadata": {},
   "source": [
    "## Setup"
   ]
  },
  {
   "attachments": {},
   "cell_type": "markdown",
   "metadata": {},
   "source": [
    "### Imports"
   ]
  },
  {
   "cell_type": "code",
   "execution_count": 11,
   "metadata": {},
   "outputs": [],
   "source": [
    "\n",
    "from typing import Any\n",
    "from typing import Dict, List, NamedTuple, TypeVar\n",
    "from typing import Iterable, Any, Callable, Union, Generator\n",
    "from typing import Tuple\n",
    "\n",
    "\n",
    "import re\n",
    "from pprint import pprint\n",
    "from functools import partial\n",
    "from abc import ABC, abstractmethod\n",
    "\n",
    "from sections import Section\n",
    "from sections import SectionBreak\n",
    "from buffered_iterator import BufferedIterator\n",
    "from sections import set_method, Rule, RuleSet\n",
    "from sections import ProcessingMethods"
   ]
  },
  {
   "attachments": {},
   "cell_type": "markdown",
   "metadata": {},
   "source": [
    "# TestSingleLineStartSections"
   ]
  },
  {
   "cell_type": "code",
   "execution_count": 12,
   "metadata": {},
   "outputs": [],
   "source": [
    "test_text = [\n",
    "    'Text to be ignored',\n",
    "    'StartSection A',\n",
    "    'EndSection A',\n",
    "    'StartSection B',\n",
    "    'EndSection B',\n",
    "    'More text to be ignored',\n",
    "    ]\n",
    "start_sub_section = Section(\n",
    "    name='StartSubSection',\n",
    "    start_section=SectionBreak('StartSection', break_offset='Before'),\n",
    "    end_section=SectionBreak('EndSection', break_offset='Before')\n",
    "    )\n",
    "test_iter = BufferedIterator(test_text)\n"
   ]
  },
  {
   "attachments": {},
   "cell_type": "markdown",
   "metadata": {},
   "source": [
    "Expect `['StartSection A']`"
   ]
  },
  {
   "cell_type": "code",
   "execution_count": 13,
   "metadata": {},
   "outputs": [
    {
     "data": {
      "text/plain": [
       "['StartSection A']"
      ]
     },
     "execution_count": 13,
     "metadata": {},
     "output_type": "execute_result"
    }
   ],
   "source": [
    "start_sub_section.read(test_iter)"
   ]
  },
  {
   "attachments": {},
   "cell_type": "markdown",
   "metadata": {},
   "source": [
    "Expect `['StartSection B']`"
   ]
  },
  {
   "cell_type": "code",
   "execution_count": 14,
   "metadata": {},
   "outputs": [
    {
     "data": {
      "text/plain": [
       "['StartSection B']"
      ]
     },
     "execution_count": 14,
     "metadata": {},
     "output_type": "execute_result"
    }
   ],
   "source": [
    "start_sub_section.read(test_iter)"
   ]
  },
  {
   "attachments": {},
   "cell_type": "markdown",
   "metadata": {},
   "source": [
    "Expect `[]`"
   ]
  },
  {
   "cell_type": "code",
   "execution_count": 15,
   "metadata": {},
   "outputs": [
    {
     "data": {
      "text/plain": [
       "[]"
      ]
     },
     "execution_count": 15,
     "metadata": {},
     "output_type": "execute_result"
    }
   ],
   "source": [
    "start_sub_section.read(test_iter)"
   ]
  },
  {
   "attachments": {},
   "cell_type": "markdown",
   "metadata": {},
   "source": [
    "# test_single_line_start_subsection"
   ]
  },
  {
   "attachments": {},
   "cell_type": "markdown",
   "metadata": {},
   "source": [
    "![Good](..\\Valid.png) <br>\n",
    "**Expected** `[['StartSection A'], ['StartSection B']]`<br>\n",
    "**Got** `[['StartSection A'], ['StartSection B']]`\n"
   ]
  },
  {
   "cell_type": "code",
   "execution_count": 16,
   "metadata": {},
   "outputs": [
    {
     "data": {
      "text/plain": [
       "[['StartSection A'], ['StartSection B']]"
      ]
     },
     "execution_count": 16,
     "metadata": {},
     "output_type": "execute_result"
    }
   ],
   "source": [
    "test_text = [\n",
    "    'Text to be ignored',\n",
    "    'StartSection A',\n",
    "    'EndSection A',\n",
    "    'StartSection B',\n",
    "    'EndSection B',\n",
    "    'More text to be ignored',\n",
    "    ]\n",
    "start_sub_section = Section(\n",
    "    name='StartSubSection',\n",
    "    start_section=SectionBreak('StartSection', break_offset='Before'),\n",
    "    end_section=SectionBreak('EndSection', break_offset='Before')\n",
    "    )\n",
    "full_section = Section(\n",
    "    name='Full',\n",
    "    end_section=SectionBreak('ignored', break_offset='Before'),\n",
    "    processor=[start_sub_section]\n",
    "    )\n",
    "full_section.read(test_text)"
   ]
  },
  {
   "cell_type": "code",
   "execution_count": 17,
   "metadata": {},
   "outputs": [
    {
     "data": {
      "text/plain": [
       "[['StartSection A', 'EndSection A'], ['StartSection B', 'EndSection B']]"
      ]
     },
     "execution_count": 17,
     "metadata": {},
     "output_type": "execute_result"
    }
   ],
   "source": [
    "test_text = [\n",
    "    'Text to be ignored',\n",
    "    'StartSection A',\n",
    "    'EndSection A',\n",
    "    'StartSection B',\n",
    "    'EndSection B',\n",
    "    'More text to be ignored',\n",
    "    ]\n",
    "start_sub_section = Section(\n",
    "    name='SubSection',\n",
    "    start_search=False,\n",
    "    end_section=SectionBreak(True, break_offset='After')\n",
    "    )\n",
    "full_section = Section(\n",
    "    name='Full',\n",
    "    start_section=SectionBreak('ignored', break_offset='After'),\n",
    "    end_section=SectionBreak('ignored', break_offset='Before'),\n",
    "    processor=[start_sub_section]\n",
    "    )\n",
    "full_section.read(test_text)"
   ]
  },
  {
   "attachments": {},
   "cell_type": "markdown",
   "metadata": {},
   "source": [
    "# test_two_single_line_subsections"
   ]
  },
  {
   "cell_type": "code",
   "execution_count": 18,
   "metadata": {},
   "outputs": [
    {
     "data": {
      "text/plain": [
       "[{'StartSubSection': ['StartSection A'], 'EndSubSection': ['EndSection A']},\n",
       " {'StartSubSection': ['StartSection B'], 'EndSubSection': ['EndSection B']}]"
      ]
     },
     "execution_count": 18,
     "metadata": {},
     "output_type": "execute_result"
    }
   ],
   "source": [
    "test_text = [\n",
    "    'Text to be ignored',\n",
    "    'StartSection A',\n",
    "    'EndSection A',\n",
    "    'StartSection B',\n",
    "    'EndSection B',\n",
    "    'More text to be ignored',\n",
    "    ]\n",
    "start_sub_section = Section(\n",
    "    name='StartSubSection',\n",
    "    start_section=SectionBreak('StartSection', break_offset='Before'),\n",
    "    end_section=SectionBreak('EndSection', break_offset='Before')\n",
    "    )\n",
    "end_sub_section = Section(\n",
    "    name='EndSubSection',\n",
    "    start_section=SectionBreak('EndSection', break_offset='Before'),\n",
    "    end_section=SectionBreak(True, break_offset='Before')\n",
    "    )\n",
    "full_section = Section(\n",
    "    name='Full',\n",
    "    processor=[(start_sub_section, end_sub_section)]\n",
    "    )\n",
    "full_section.read(test_text)"
   ]
  },
  {
   "attachments": {},
   "cell_type": "markdown",
   "metadata": {},
   "source": [
    "Expected\n",
    "```\n",
    "[{\n",
    "    'StartSubSection': ['StartSection A'],\n",
    "    'EndSubSection': ['EndSection A']\n",
    "    },{\n",
    "    'StartSubSection': ['StartSection B'], \n",
    "    'EndSubSection': ['EndSection B']\n",
    "    }]\n",
    "```"
   ]
  },
  {
   "attachments": {},
   "cell_type": "markdown",
   "metadata": {},
   "source": [
    "Expected Output:\n",
    "```\n",
    "[\n",
    "    [['StartSection A', 'MiddleSection A', 'EndSection A']],\n",
    "    [['StartSection B', 'MiddleSection B', 'EndSection B']],\n",
    "    [['StartSection C', 'MiddleSection C', 'EndSection C']]\n",
    "    ]\n",
    "```"
   ]
  },
  {
   "cell_type": "code",
   "execution_count": 19,
   "metadata": {},
   "outputs": [
    {
     "data": {
      "text/plain": [
       "[[['StartSection A', 'MiddleSection A', 'EndSection A']],\n",
       " [['StartSection B', 'MiddleSection B', 'EndSection B']],\n",
       " [['StartSection C', 'MiddleSection C', 'EndSection C']]]"
      ]
     },
     "execution_count": 19,
     "metadata": {},
     "output_type": "execute_result"
    }
   ],
   "source": [
    "test_text = [\n",
    "    'Text to be ignored',\n",
    "    'StartSection A',\n",
    "    'MiddleSection A',\n",
    "    'EndSection A',\n",
    "    'Unwanted text between sections',\n",
    "    'StartSection B',\n",
    "    'MiddleSection B',\n",
    "    'EndSection B',\n",
    "    'StartSection C',\n",
    "    'MiddleSection C',\n",
    "    'EndSection C',\n",
    "    'Even more text to be ignored',\n",
    "    ]\n",
    "sub_section = Section(name='SubSection')\n",
    "full_section = Section(\n",
    "    name='Full', processor=sub_section,\n",
    "    start_section=SectionBreak('StartSection', break_offset='Before'),\n",
    "    end_section=SectionBreak('EndSection', break_offset='After')\n",
    "    )\n",
    "multi_section = Section(\n",
    "    name='Multi',\n",
    "    processor=full_section\n",
    "    )\n",
    "read_1 = multi_section.read(test_text)\n",
    "read_1"
   ]
  },
  {
   "attachments": {},
   "cell_type": "markdown",
   "metadata": {},
   "source": [
    "### Test Text"
   ]
  },
  {
   "cell_type": "code",
   "execution_count": 20,
   "metadata": {},
   "outputs": [],
   "source": [
    "test_text = [\n",
    "            'Text to be ignored',\n",
    "            'StartSection A',\n",
    "            'MiddleSection A',\n",
    "            'EndSection A',\n",
    "            'Unwanted text between sections',\n",
    "            'StartSection B',\n",
    "            'MiddleSection B',\n",
    "            'EndSection B',\n",
    "            'StartSection C',\n",
    "            'MiddleSection C',\n",
    "            'EndSection C',\n",
    "            'Even more text to be ignored',\n",
    "            ]\n",
    "\n",
    "short_multi_section_text = [\n",
    "    'StartSection Name:A',\n",
    "    'A Content1:a',\n",
    "    'EndSection Name:A',\n",
    "    'StartSection Name:B',\n",
    "    'A Content2:a',\n",
    "    'EndSection Name:B'\n",
    "    ]\n",
    "\n",
    "multi_section_text = [\n",
    "    'Text to be ignored',\n",
    "    'StartSection Name:A',\n",
    "    'A Content1:a',\n",
    "    'B Content1:b',\n",
    "    'C Content1:c',\n",
    "    'EndSection Name:A',\n",
    "    'StartSection Name:B',\n",
    "    'A Content2:a',\n",
    "    'B Content2:b',\n",
    "    'C Content2:c',\n",
    "    'EndSection Name:B',\n",
    "    'Even more text to be ignored',\n",
    "    ]\n"
   ]
  },
  {
   "attachments": {},
   "cell_type": "markdown",
   "metadata": {},
   "source": [
    "## Subsection Requirements\n",
    "### Context\n",
    "- Do not change the supplied context\n",
    "- Use *self.context*\n",
    "- *self.context* needs to be updated after every stage\n",
    "- Need to protect standard context items from being changed by sub sections"
   ]
  },
  {
   "attachments": {},
   "cell_type": "markdown",
   "metadata": {},
   "source": [
    "### Source\n",
    "- Supplied source needs to be isolated from the iterated source or it may exit too soon.\n",
    "- Section's source pointer needs to be adjusted so that any \"Future Items\" are not missed.\n",
    "- Both context and iterator should be isolated by default \n"
   ]
  },
  {
   "attachments": {},
   "cell_type": "markdown",
   "metadata": {},
   "source": [
    "## Functions for subsections"
   ]
  },
  {
   "cell_type": "code",
   "execution_count": 21,
   "metadata": {},
   "outputs": [],
   "source": [
    "def true_iterable(variable)-> bool:\n",
    "    '''Indicate if the variable is a non-string type iterable.\n",
    "    Arguments:\n",
    "        variable {Iterable[Any]} -- The variable to test.\n",
    "    Returns:\n",
    "        True if variable is a non-string iterable.\n",
    "    '''\n",
    "    return not isinstance(variable, str) and isinstance(variable, Iterable)  # pylint: disable=isinstance-second-argument-not-valid-type\n",
    "\n"
   ]
  },
  {
   "attachments": {},
   "cell_type": "markdown",
   "metadata": {},
   "source": [
    "### Check for empty object"
   ]
  },
  {
   "cell_type": "code",
   "execution_count": 22,
   "metadata": {},
   "outputs": [],
   "source": [
    "def is_empty(obj: Any)->bool:\n",
    "    '''Test whether an object is empty.\n",
    "\n",
    "    If object is None, it is empty.\n",
    "    If object has length 0 it is empty.\n",
    "    Otherwise it is not empty.\n",
    "\n",
    "    Args:\n",
    "        obj (Any): The object to be tested\n",
    "\n",
    "    Returns:\n",
    "        bool: Returns true if the object is empty.\n",
    "    '''\n",
    "    if obj is None:\n",
    "        return True\n",
    "    try:\n",
    "        has_length = len(obj)\n",
    "    except TypeError as err:\n",
    "            return False\n",
    "    else:\n",
    "        if has_length == 0:\n",
    "            return True\n",
    "        else:\n",
    "            return False"
   ]
  },
  {
   "attachments": {},
   "cell_type": "markdown",
   "metadata": {},
   "source": [
    "### Read a subsection"
   ]
  },
  {
   "cell_type": "code",
   "execution_count": 24,
   "metadata": {},
   "outputs": [],
   "source": [
    "## Single line subsections\n",
    "name_section = Section(\n",
    "    name='Name',\n",
    "    start_section=SectionBreak('StartSection', name='NameStart'),\n",
    "    end_section=SectionBreak(True, name='NameEnd')\n",
    "    )\n",
    "\n",
    "content_section = Section(\n",
    "    name='Content',\n",
    "    end_section=SectionBreak('EndSection', \n",
    "                             break_offset='Before', \n",
    "                             name='EndContent')\n",
    "    )\n",
    "\n",
    "end_section = Section(\n",
    "    name='End',\n",
    "    end_section=SectionBreak(True, name='EndEnd')\n",
    "    )\n"
   ]
  },
  {
   "attachments": {},
   "cell_type": "markdown",
   "metadata": {},
   "source": [
    "### Check individual subsections"
   ]
  },
  {
   "cell_type": "code",
   "execution_count": 25,
   "metadata": {},
   "outputs": [
    {
     "name": "stdout",
     "output_type": "stream",
     "text": [
      "['StartSection Name:A'] \n",
      "\n",
      "['A Content1:a', 'B Content1:b', 'C Content1:c'] \n",
      "\n",
      "['EndSection Name:A'] \n",
      "\n",
      "BufferedIterator(source=<list_iterator object at 0x0000023A6B14EB50>, buffer_size=5)\n",
      "\tBufferedIterator.previous_items = deque(['A Content1:a', 'B Content1:b', 'C Content1:c', 'EndSection Name:A'], maxlen=5)\n",
      "\tBufferedIterator.future_items = deque(['StartSection Name:B'], maxlen=5)\n",
      "\tBufferedIterator.item_count = 6\n",
      "\tBufferedIterator.status = ACTIVE\n"
     ]
    }
   ],
   "source": [
    "test_iter = BufferedIterator(multi_section_text)\n",
    "\n",
    "print(name_section.read(test_iter),'\\n')\n",
    "\n",
    "print(content_section.read(test_iter),'\\n')\n",
    "\n",
    "print(end_section.read(test_iter),'\\n')\n",
    "\n",
    "print(repr(test_iter))"
   ]
  },
  {
   "attachments": {},
   "cell_type": "markdown",
   "metadata": {},
   "source": [
    "### Single Line Subsections as a group"
   ]
  },
  {
   "cell_type": "code",
   "execution_count": 26,
   "metadata": {},
   "outputs": [],
   "source": [
    "section_list = (name_section, content_section, end_section)"
   ]
  },
  {
   "cell_type": "code",
   "execution_count": 27,
   "metadata": {},
   "outputs": [
    {
     "ename": "NameError",
     "evalue": "name 'assemble_subsection_group' is not defined",
     "output_type": "error",
     "traceback": [
      "\u001b[1;31m---------------------------------------------------------------------------\u001b[0m",
      "\u001b[1;31mNameError\u001b[0m                                 Traceback (most recent call last)",
      "\u001b[1;32m~\\AppData\\Local\\Temp\\ipykernel_15748\\3424575006.py\u001b[0m in \u001b[0;36m<module>\u001b[1;34m\u001b[0m\n\u001b[0;32m      2\u001b[0m \u001b[0mcontext\u001b[0m \u001b[1;33m=\u001b[0m \u001b[1;33m{\u001b[0m\u001b[1;34m'dummy'\u001b[0m\u001b[1;33m:\u001b[0m \u001b[1;34m'asdf'\u001b[0m\u001b[1;33m}\u001b[0m\u001b[1;33m\u001b[0m\u001b[1;33m\u001b[0m\u001b[0m\n\u001b[0;32m      3\u001b[0m \u001b[1;33m\u001b[0m\u001b[0m\n\u001b[1;32m----> 4\u001b[1;33m combined_sections = [grp for grp in assemble_subsection_group(section_list,\n\u001b[0m\u001b[0;32m      5\u001b[0m                                                               \u001b[0mtest_iter\u001b[0m\u001b[1;33m,\u001b[0m\u001b[1;33m\u001b[0m\u001b[1;33m\u001b[0m\u001b[0m\n\u001b[0;32m      6\u001b[0m                                                               context)]\n",
      "\u001b[1;31mNameError\u001b[0m: name 'assemble_subsection_group' is not defined"
     ]
    }
   ],
   "source": [
    "test_iter = BufferedIterator(multi_section_text)\n",
    "context = {'dummy': 'asdf'}\n",
    "\n",
    "combined_sections = [grp for grp in assemble_subsection_group(section_list,\n",
    "                                                              test_iter,\n",
    "                                                              context)]\n",
    "\n",
    "pprint(combined_sections)\n",
    "print()\n",
    "pprint(context)"
   ]
  },
  {
   "attachments": {},
   "cell_type": "markdown",
   "metadata": {},
   "source": [
    "# Done to Here"
   ]
  },
  {
   "attachments": {},
   "cell_type": "markdown",
   "metadata": {},
   "source": [
    "Generator exits are captured by the read method.\n",
    "`source.status` provides an indication of whether the\n",
    "iterator has been exhausted.\n",
    "```\n",
    "if source.status in 'Completed':\n",
    "    done=True\n",
    "```  \n",
    "\n",
    "However if `source` is not a BufferedIterator then it may not contain a \n",
    "`source.status` attribute.  \n",
    "\n",
    "\n",
    "Try `inspect.gi_running`"
   ]
  },
  {
   "cell_type": "code",
   "execution_count": null,
   "metadata": {},
   "outputs": [],
   "source": [
    "import inspect"
   ]
  },
  {
   "cell_type": "code",
   "execution_count": 28,
   "metadata": {},
   "outputs": [
    {
     "data": {
      "text/plain": [
       "['Text to be ignored',\n",
       " 'StartSection Name:A',\n",
       " 'A Content1:a',\n",
       " 'B Content1:b',\n",
       " 'C Content1:c',\n",
       " 'EndSection Name:A',\n",
       " 'StartSection Name:B',\n",
       " 'A Content2:a',\n",
       " 'B Content2:b',\n",
       " 'C Content2:c',\n",
       " 'EndSection Name:B',\n",
       " 'Even more text to be ignored']"
      ]
     },
     "execution_count": 28,
     "metadata": {},
     "output_type": "execute_result"
    }
   ],
   "source": [
    "multi_section_text"
   ]
  },
  {
   "attachments": {},
   "cell_type": "markdown",
   "metadata": {},
   "source": [
    "![Error](..\\Error.png) There are 4 empty entries. only one is expected"
   ]
  },
  {
   "attachments": {},
   "cell_type": "markdown",
   "metadata": {},
   "source": [
    "### Generator function to step through entire source returning section groups"
   ]
  },
  {
   "cell_type": "code",
   "execution_count": 29,
   "metadata": {},
   "outputs": [
    {
     "ename": "NameError",
     "evalue": "name 'assemble_subsection_group' is not defined",
     "output_type": "error",
     "traceback": [
      "\u001b[1;31m---------------------------------------------------------------------------\u001b[0m",
      "\u001b[1;31mNameError\u001b[0m                                 Traceback (most recent call last)",
      "\u001b[1;32m~\\AppData\\Local\\Temp\\ipykernel_15748\\2643237975.py\u001b[0m in \u001b[0;36m<module>\u001b[1;34m\u001b[0m\n\u001b[0;32m      2\u001b[0m \u001b[0mcontext\u001b[0m \u001b[1;33m=\u001b[0m \u001b[1;33m{\u001b[0m\u001b[1;34m'dummy'\u001b[0m\u001b[1;33m:\u001b[0m \u001b[1;34m'asdf'\u001b[0m\u001b[1;33m}\u001b[0m\u001b[1;33m\u001b[0m\u001b[1;33m\u001b[0m\u001b[0m\n\u001b[0;32m      3\u001b[0m \u001b[1;33m\u001b[0m\u001b[0m\n\u001b[1;32m----> 4\u001b[1;33m \u001b[0ms_iter\u001b[0m \u001b[1;33m=\u001b[0m \u001b[0massemble_subsection_group\u001b[0m\u001b[1;33m(\u001b[0m\u001b[0msection_list\u001b[0m\u001b[1;33m,\u001b[0m \u001b[0mtest_iter\u001b[0m\u001b[1;33m,\u001b[0m \u001b[0mcontext\u001b[0m\u001b[1;33m)\u001b[0m\u001b[1;33m\u001b[0m\u001b[1;33m\u001b[0m\u001b[0m\n\u001b[0m\u001b[0;32m      5\u001b[0m \u001b[0mprint\u001b[0m\u001b[1;33m(\u001b[0m\u001b[0minspect\u001b[0m\u001b[1;33m.\u001b[0m\u001b[0mgetgeneratorstate\u001b[0m\u001b[1;33m(\u001b[0m\u001b[0ms_iter\u001b[0m\u001b[1;33m)\u001b[0m\u001b[1;33m)\u001b[0m\u001b[1;33m\u001b[0m\u001b[1;33m\u001b[0m\u001b[0m\n\u001b[0;32m      6\u001b[0m \u001b[0mcombined_sections\u001b[0m \u001b[1;33m=\u001b[0m \u001b[1;33m[\u001b[0m\u001b[1;33m]\u001b[0m\u001b[1;33m\u001b[0m\u001b[1;33m\u001b[0m\u001b[0m\n",
      "\u001b[1;31mNameError\u001b[0m: name 'assemble_subsection_group' is not defined"
     ]
    }
   ],
   "source": [
    "test_iter = BufferedIterator(multi_section_text)\n",
    "context = {'dummy': 'asdf'}\n",
    "\n",
    "s_iter = assemble_subsection_group(section_list, test_iter, context)\n",
    "print(inspect.getgeneratorstate(s_iter))\n",
    "combined_sections = []\n",
    "while True:\n",
    "    try:\n",
    "        combined_sections.append(next(s_iter))\n",
    "        print(inspect.getgeneratorstate(s_iter))\n",
    "    except StopIteration:\n",
    "        print(inspect.getgeneratorstate(s_iter))\n",
    "        break\n",
    "   \n",
    "\n",
    "pprint(combined_sections)\n"
   ]
  },
  {
   "cell_type": "code",
   "execution_count": null,
   "metadata": {},
   "outputs": [],
   "source": [
    "test_iter = BufferedIterator(multi_section_text)\n",
    "context = {'dummy': 'asdf'}\n",
    "\n",
    "s_iter = assemble_subsection_group(section_list, test_iter, context)\n",
    "print(inspect.getgeneratorstate(s_iter))\n",
    "combined_sections = []\n",
    "while True:\n",
    "    try:\n",
    "        itm = next(s_iter)\n",
    "        if not is_empty(itm):\n",
    "            # Don't return empty section group.\n",
    "            combined_sections.append(itm)\n",
    "        print('\\n\\nOutput:')\n",
    "        pprint(itm)\n",
    "        print('\\ncontext:')\n",
    "        pprint(context,indent=4)\n",
    "        print('\\nSource:')\n",
    "        print(repr(test_iter))\n",
    "    except StopIteration:\n",
    "        print(inspect.getgeneratorstate(s_iter))\n",
    "        break\n",
    "   \n",
    "\n",
    "pprint(combined_sections)\n"
   ]
  },
  {
   "attachments": {},
   "cell_type": "markdown",
   "metadata": {},
   "source": [
    "### Sections with the same name"
   ]
  },
  {
   "cell_type": "code",
   "execution_count": null,
   "metadata": {},
   "outputs": [],
   "source": [
    "## Single line subsections\n",
    "name_section = Section(\n",
    "    name='subsection',\n",
    "    start_section=SectionBreak('StartSection', name='NameStart'),\n",
    "    end_section=SectionBreak(True, name='NameEnd')\n",
    "    )\n",
    "\n",
    "content_section = Section(\n",
    "    name='subsection',\n",
    "    end_section=SectionBreak('EndSection', \n",
    "                             break_offset='Before', \n",
    "                             name='EndContent')\n",
    "    )\n",
    "\n",
    "end_section = Section(\n",
    "    name='subsection2',\n",
    "    end_section=SectionBreak(True, name='EndEnd')\n",
    "    )\n",
    "\n",
    "subsection_group = (name_section, content_section, end_section)"
   ]
  },
  {
   "cell_type": "code",
   "execution_count": null,
   "metadata": {},
   "outputs": [],
   "source": [
    "from collections import Counter"
   ]
  },
  {
   "cell_type": "code",
   "execution_count": null,
   "metadata": {},
   "outputs": [],
   "source": [
    "section_names = Counter([sub_rdr.name for sub_rdr in subsection_group])\n",
    "section_names"
   ]
  },
  {
   "cell_type": "code",
   "execution_count": null,
   "metadata": {},
   "outputs": [],
   "source": [
    "len(section_names) < len(subsection_group)"
   ]
  },
  {
   "cell_type": "code",
   "execution_count": null,
   "metadata": {},
   "outputs": [],
   "source": [
    "name_count = {name: 0 for name in section_names.keys()}\n",
    "name_count"
   ]
  },
  {
   "cell_type": "code",
   "execution_count": null,
   "metadata": {},
   "outputs": [],
   "source": [
    "a = iter(subsection_group)"
   ]
  },
  {
   "cell_type": "code",
   "execution_count": null,
   "metadata": {},
   "outputs": [],
   "source": [
    "sub_sec = next(a)\n",
    "name = sub_sec.name\n",
    "name"
   ]
  },
  {
   "cell_type": "code",
   "execution_count": null,
   "metadata": {},
   "outputs": [],
   "source": [
    "section_names[name]"
   ]
  },
  {
   "cell_type": "code",
   "execution_count": null,
   "metadata": {},
   "outputs": [],
   "source": [
    "unique_names = len(section_names)\n",
    "unique_names"
   ]
  },
  {
   "cell_type": "markdown",
   "metadata": {},
   "source": [
    "## Use this to test subsections with a non 1:1 processor"
   ]
  },
  {
   "cell_type": "code",
   "execution_count": null,
   "metadata": {},
   "outputs": [],
   "source": [
    "'''Testing Source and Section item counting.\n",
    "\n",
    "Process method should track the number of Source lines used for each processed line\n",
    "\n",
    "Processor creates sequence of source.item_count for each output item\n",
    "- Len(section.item_count) = # processed items\n",
    "- section.item_count[-1] = # source items (includes skipped source items)\n",
    "- Property item_count returns len(self._item_count)\n",
    "- Property source_item_count returns self._item_count[-1]\n",
    "'''\n",
    "\n",
    "# %% Imports\n",
    "import unittest\n",
    "from pprint import pprint\n",
    "import random\n",
    "from buffered_iterator import BufferedIterator\n",
    "\n",
    "from sections import SectionBreak, Section\n",
    "from sections import Rule, RuleSet, ProcessingMethods\n",
    "# %% Logging\n",
    "import logging\n",
    "logging.basicConfig(format='%(name)-20s - %(levelname)s: %(message)s')\n",
    "logger = logging.getLogger('Source Tracking Tests')\n",
    "logger.setLevel(logging.DEBUG)\n",
    "#logger.setLevel(logging.INFO)\n",
    "\n",
    "# %% Processing Functions\n",
    "def pairs(source):\n",
    "    '''Convert a sequence of items into a sequence of item pairs\n",
    "\n",
    "    Successive items are combined into length 2 tuples.\n",
    "\n",
    "    Args:\n",
    "        source (Sequence): any sequence of hashable items\n",
    "\n",
    "    Yields:\n",
    "        Tuple[Any]: Successive items combined into length 2 tuples.\n",
    "    '''\n",
    "    for item in source:\n",
    "        yield tuple([item, next(source)])\n",
    "\n",
    "\n",
    "def n_split(source):\n",
    "    '''Extract numbers from stings of comma separated integers.\n",
    "\n",
    "    Number are extracted by splitting on the commas.  Spaces are ignored.\n",
    "\n",
    "    Args:\n",
    "        source (Sequence[str]): A sequence of stings composed of comma separated\n",
    "            integers. e.g. ['0, 1', '2, 3', '4, 5' ...]\n",
    "\n",
    "    Yields:\n",
    "        int: Integer values extracted from the strings.\n",
    "    '''\n",
    "    for item in source:\n",
    "        nums = [int(num_s.strip()) for num_s in item.split(',')]\n",
    "        yield from nums\n",
    "\n",
    "\n",
    "def odd_nums(source):\n",
    "    '''Yield Odd items\n",
    "    Args:\n",
    "        source (Sequence[int]): A sequence of integers\n",
    "\n",
    "    Yields:\n",
    "        int: odd integers from the source\n",
    "    '''\n",
    "    for item in source:\n",
    "        if int(item)%2 == 1:\n",
    "            yield item\n",
    "\n",
    "# %% Test Source Tracking\n",
    "class TestSourceTracking(unittest.TestCase):\n",
    "    def setUp(self):\n",
    "        self.buffer_size = 5\n",
    "        self.num_items = 10\n",
    "\n",
    "        self.str_source = BufferedIterator(\n",
    "            (str(i) for i in range(self.num_items)),\n",
    "            buffer_size=self.buffer_size)\n",
    "\n",
    "        self.int_source = BufferedIterator(\n",
    "            (i for i in range(self.num_items)),\n",
    "            buffer_size=self.buffer_size)\n",
    "\n",
    "        self.pairs_source = BufferedIterator(\n",
    "            [f'{a}, {b}' for a, b in zip(range(0, self.num_items * 2, 2),\n",
    "                                         range(1, self.num_items * 2, 2))],\n",
    "            buffer_size=self.buffer_size)\n",
    "\n",
    "    def test_before_source_initialized(self):\n",
    "        '''Before source initialized\n",
    "            - Section.source_index is None\n",
    "            - Section.source_item_count is 0\n",
    "            - Section.item_count is 0\n",
    "        '''\n",
    "        empty_section = Section(name='empty')\n",
    "        source_index = empty_section.source_index\n",
    "        source_item_count = empty_section.source_item_count\n",
    "        item_count = empty_section.item_count\n",
    "        self.assertIsNone(source_index)\n",
    "        self.assertEqual(source_item_count, 0)\n",
    "        self.assertEqual(item_count, 0)\n",
    "\n",
    "    def test_source_beginning(self):\n",
    "        '''At beginning of source\n",
    "            - Section.source_index is empty list\n",
    "            - Section.source_item_count is 0\n",
    "            - Section.item_count is 0\n",
    "        '''\n",
    "        not_started_section = Section(name='Not Started')\n",
    "        not_started_section.source = self.int_source\n",
    "        source_index = not_started_section.source_index\n",
    "        source_item_count = not_started_section.source_item_count\n",
    "        item_count = not_started_section.item_count\n",
    "        self.assertEqual(source_index, [0])\n",
    "        self.assertEqual(source_item_count, 0)\n",
    "        self.assertEqual(item_count, 0)\n",
    "\n",
    "    def test_1_to_1_processor(self):\n",
    "        '''1-to-1 match\n",
    "            - range(n) as source\n",
    "            - processor just returns item\n",
    "            - for each section item:\n",
    "            - source.item_count = item = section.source_item_count\n",
    "            - source.item_count = section.item_count\n",
    "        '''\n",
    "        section_1_1 = Section(name='1-to-1 match')\n",
    "        for item in section_1_1.process(self.int_source):\n",
    "            with self.subTest(item=item):\n",
    "                source_count = self.int_source.item_count\n",
    "                source_item_count = section_1_1.source_item_count\n",
    "                item_count = section_1_1.item_count\n",
    "                self.assertEqual(item+1, source_count)\n",
    "                self.assertEqual(source_count, source_item_count)\n",
    "                self.assertEqual(source_count, item_count)\n",
    "\n",
    "    def test_2_to_1_processor(self):\n",
    "        '''2-to-1 match\n",
    "            - `range(n)` as source\n",
    "            - processor converts 2 successive source items into tuple of\n",
    "            length 2.\n",
    "            - for each section item:\n",
    "                - item = (source.item_count-2, source.item_count-1)\n",
    "                - source.item_count = section.source_item_count\n",
    "                - source.item_count = section.item_count * 2\n",
    "        '''\n",
    "        section_2_1 = Section(name='2-to-1 match',\n",
    "                              processor=[pairs])\n",
    "        for item in section_2_1.process(self.int_source):\n",
    "            with self.subTest(item=item):\n",
    "                source_count = self.int_source.item_count\n",
    "                source_item_count = section_2_1.source_item_count\n",
    "                item_count = section_2_1.item_count\n",
    "                expected_item = (source_count-2, source_count-1)\n",
    "                self.assertEqual(item, expected_item)\n",
    "                self.assertEqual(source_count, source_item_count)\n",
    "                self.assertEqual(source_item_count, item_count * 2)\n",
    "\n",
    "    def test_1_to_2_processor(self):\n",
    "        '''1-to-2 match\n",
    "        - Numerical pairs as source:\n",
    "            `['0, 1', '2, 3', '4, 5'` $\\cdots$`]`\n",
    "        - processor converts 1 source item into 2 output lines\n",
    "        - for each source item:\n",
    "            > `nums = [int(num_s.strip()) for num_s in item.split(',')]`<br>\n",
    "            > `section item 1 = nums[0]`,<br>\n",
    "            > `section item 2 = nums[1]`\n",
    "        - source.item_count = (section.item_count + 1) // 2\n",
    "        - section.source_item_count = section.source_index[-1]\n",
    "        '''\n",
    "        section_1_2 = Section(name='1-to-2 match',\n",
    "                              processor=[n_split])\n",
    "        for item in section_1_2.process(self.pairs_source):\n",
    "            with self.subTest(item=item):\n",
    "                source_count = self.pairs_source.item_count\n",
    "                source_item_count = section_1_2.source_item_count\n",
    "                item_count = section_1_2.item_count\n",
    "                self.assertEqual(item+1, item_count)\n",
    "                self.assertEqual(source_count, source_item_count)\n",
    "                self.assertEqual(source_count, (item_count+1) //2)\n",
    "\n",
    "    def test_skip_first_item_count(self):\n",
    "        '''Skip First Source Item\n",
    "            - (str(i) for i in range(n)) as source\n",
    "            - start_section='1', offset='Before'\n",
    "            - processor returns int(item)\n",
    "            - for each section item:\n",
    "                - source.item_count = item\n",
    "                - source.item_count = section.source.item_count\n",
    "                - source.item_count = section.item_count\n",
    "        '''\n",
    "        section_skip_0 = Section(\n",
    "            name='Skipped First Source Item',\n",
    "            start_section=SectionBreak('1', break_offset='Before')\n",
    "            )\n",
    "        for item in section_skip_0.process(self.str_source):\n",
    "            with self.subTest(item=item):\n",
    "                source_count = self.str_source.item_count\n",
    "                source_item_count = section_skip_0.source_item_count\n",
    "                item_count = section_skip_0.item_count\n",
    "                self.assertEqual(int(item)+1, source_count)\n",
    "                self.assertEqual(source_count, source_item_count)\n",
    "                self.assertEqual(int(item), item_count)\n",
    "\n",
    "    def test_skip_two_item_counts(self):\n",
    "        '''Skip First 2 Source Items\n",
    "            - (str(i) for i in range(n)) as source\n",
    "            - start_section='1', offset='After'\n",
    "            - processor returns int(item)\n",
    "            - for each section item:\n",
    "                - source.item_count = item + 1\n",
    "                - source.item_count = section.source_item_count\n",
    "                - source.item_count = section.item_count + 2\n",
    "        '''\n",
    "        section_skip_2 = Section(\n",
    "            name='Skipped First Source Item',\n",
    "            start_section=SectionBreak('1', break_offset='After')\n",
    "            )\n",
    "        for item in section_skip_2.process(self.str_source):\n",
    "            with self.subTest(item=item):\n",
    "                source_count = self.str_source.item_count\n",
    "                source_item_count = section_skip_2.source_item_count\n",
    "                item_count = section_skip_2.item_count\n",
    "                self.assertEqual(int(item)+1, source_count)\n",
    "                self.assertEqual(source_count, source_item_count)\n",
    "                self.assertEqual(source_count, item_count + 2)\n",
    "\n",
    "    def test_do_not_count_dropped_items(self):\n",
    "        '''Don't Count Dropped Items\n",
    "            - range(n) as source\n",
    "            - processor drops even items and yields odd items\n",
    "            - for each section item:\n",
    "                - item + 1 = source.item_count\n",
    "                - source.item_count = section.source_item_count\n",
    "                - source.item_count = section.item_count * 2\n",
    "        '''\n",
    "        section_odd = Section(\n",
    "            name='Odd Numbers',\n",
    "            processor=[odd_nums]\n",
    "            )\n",
    "        for item in section_odd.process(self.int_source):\n",
    "            with self.subTest(item=item):\n",
    "                source_count = self.int_source.item_count\n",
    "                source_item_count = section_odd.source_item_count\n",
    "                item_count = section_odd.item_count\n",
    "                self.assertEqual(item+1, source_count)\n",
    "                self.assertEqual(source_count, source_item_count)\n",
    "                self.assertEqual(source_count, item_count * 2)\n",
    "\n",
    "    def test_completed_section_item_count(self):\n",
    "        '''Completed Section Item Count\n",
    "            - (str(i) for i in range(n)) as source\n",
    "            - processor drops even items and yields odd items\n",
    "            - after section.read(source):\n",
    "                - source.item_count = section.source_item_count\n",
    "                - section.source_item_count = section.item_count = n * 2\n",
    "        '''\n",
    "        section_odd = Section(\n",
    "            name='Odd Numbers',\n",
    "            processor=[odd_nums]\n",
    "            )\n",
    "        section_odd.read(self.int_source)\n",
    "        source_count = self.int_source.item_count\n",
    "        source_item_count = section_odd.source_item_count\n",
    "        item_count = section_odd.item_count\n",
    "        self.assertEqual(source_count, source_item_count)\n",
    "        self.assertEqual(source_count, item_count * 2)\n",
    "\n",
    "    def test_completed_section_partial_source_item_count(self):\n",
    "        '''Partial Source Completed Section\n",
    "            - (str(i) for i in range(n)) as source\n",
    "            - Random start_section and end_section\n",
    "            - after section.read(source):\n",
    "                - source.item_count = section.source_item_count\n",
    "                - source.item_count = end_num\n",
    "                - section.item_count = end_num - start_num\n",
    "        '''\n",
    "        start_num = random.randint(1, self.num_items-2)\n",
    "        end_num = random.randint(start_num + 1, self.num_items)\n",
    "        part_section = Section(\n",
    "            name='Partial Source Section',\n",
    "            start_section=str(start_num),\n",
    "            end_section=str(end_num)\n",
    "            )\n",
    "        part_section.read(self.str_source)\n",
    "        source_count = self.str_source.item_count\n",
    "        source_item_count = part_section.source_item_count\n",
    "        item_count = part_section.item_count\n",
    "        self.assertEqual(source_count, source_item_count)\n",
    "        self.assertEqual(source_count, end_num)\n",
    "        self.assertEqual(item_count, end_num-start_num)\n",
    "\n",
    "    def test_completed_section_partial_source_with_end_before_item_count(self):\n",
    "        '''Completed Section With End Before\n",
    "            - `(str(i) for i in range(n))` as source\n",
    "            - end_section='2', offset='Before'\n",
    "            - after section.read(source):\n",
    "                - source.item_count = section.source_item_count\n",
    "                - source.item_count = section.item_count = 2\n",
    "        '''\n",
    "        section_end_before = Section(\n",
    "            name='End Before',\n",
    "            end_section=SectionBreak('2', break_offset='Before')\n",
    "            )\n",
    "\n",
    "        item_list = section_end_before.read(self.str_source)\n",
    "        source_count = self.str_source.item_count\n",
    "        source_item_count = section_end_before.source_item_count\n",
    "        item_count = section_end_before.item_count\n",
    "\n",
    "        self.assertEqual(source_count, 2)\n",
    "        self.assertEqual(source_item_count, 2)\n",
    "        self.assertEqual(item_count, 2)\n",
    "        self.assertEqual(item_list, ['0', '1'])\n",
    "\n",
    "    def test_completed_section_partial_source_with_end_after_item_count(self):\n",
    "        '''Completed Section With End After\n",
    "            - `(str(i) for i in range(n))` as source\n",
    "            - end_section='2', offset='After'\n",
    "            - after section.read(source):\n",
    "                - source.item_count = section.source_item_count\n",
    "                - source.item_count = section.item_count = 3\n",
    "        '''\n",
    "        section_end_before = Section(\n",
    "            name='End Before',\n",
    "            end_section=SectionBreak('2', break_offset='After')\n",
    "            )\n",
    "\n",
    "        item_list = section_end_before.read(self.str_source)\n",
    "        source_count = self.str_source.item_count\n",
    "        source_item_count = section_end_before.source_item_count\n",
    "        item_count = section_end_before.item_count\n",
    "\n",
    "        self.assertEqual(source_count, 3)\n",
    "        self.assertEqual(source_item_count, 3)\n",
    "        self.assertEqual(item_count, 3)\n",
    "        self.assertEqual(item_list, ['0', '1', '2'])\n",
    "\n",
    "\n",
    "if __name__ == '__main__':\n",
    "    unittest.main()\n"
   ]
  },
  {
   "cell_type": "markdown",
   "metadata": {},
   "source": [
    "## Use this to test subsections with a non 1:1 processor"
   ]
  },
  {
   "cell_type": "code",
   "execution_count": null,
   "metadata": {},
   "outputs": [],
   "source": [
    "'''Testing Source and Section item counting.\n",
    "\n",
    "Process method should track the number of Source lines used for each processed line\n",
    "\n",
    "Processor creates sequence of source.item_count for each output item\n",
    "- Len(section.item_count) = # processed items\n",
    "- section.item_count[-1] = # source items (includes skipped source items)\n",
    "- Property item_count returns len(self._item_count)\n",
    "- Property source_item_count returns self._item_count[-1]\n",
    "'''\n",
    "\n",
    "# %% Imports\n",
    "import unittest\n",
    "from pprint import pprint\n",
    "import random\n",
    "from buffered_iterator import BufferedIterator\n",
    "\n",
    "from sections import SectionBreak, Section\n",
    "from sections import Rule, RuleSet, ProcessingMethods\n",
    "# %% Logging\n",
    "import logging\n",
    "logging.basicConfig(format='%(name)-20s - %(levelname)s: %(message)s')\n",
    "logger = logging.getLogger('Source Tracking Tests')\n",
    "logger.setLevel(logging.DEBUG)\n",
    "#logger.setLevel(logging.INFO)\n",
    "\n",
    "# %% Processing Functions\n",
    "def pairs(source):\n",
    "    '''Convert a sequence of items into a sequence of item pairs\n",
    "\n",
    "    Successive items are combined into length 2 tuples.\n",
    "\n",
    "    Args:\n",
    "        source (Sequence): any sequence of hashable items\n",
    "\n",
    "    Yields:\n",
    "        Tuple[Any]: Successive items combined into length 2 tuples.\n",
    "    '''\n",
    "    for item in source:\n",
    "        yield tuple([item, next(source)])\n",
    "\n",
    "\n",
    "def n_split(source):\n",
    "    '''Extract numbers from stings of comma separated integers.\n",
    "\n",
    "    Number are extracted by splitting on the commas.  Spaces are ignored.\n",
    "\n",
    "    Args:\n",
    "        source (Sequence[str]): A sequence of stings composed of comma separated\n",
    "            integers. e.g. ['0, 1', '2, 3', '4, 5' ...]\n",
    "\n",
    "    Yields:\n",
    "        int: Integer values extracted from the strings.\n",
    "    '''\n",
    "    for item in source:\n",
    "        nums = [int(num_s.strip()) for num_s in item.split(',')]\n",
    "        yield from nums\n",
    "\n",
    "\n",
    "def odd_nums(source):\n",
    "    '''Yield Odd items\n",
    "    Args:\n",
    "        source (Sequence[int]): A sequence of integers\n",
    "\n",
    "    Yields:\n",
    "        int: odd integers from the source\n",
    "    '''\n",
    "    for item in source:\n",
    "        if int(item)%2 == 1:\n",
    "            yield item\n",
    "\n",
    "# %% Test Source Tracking\n",
    "class TestSourceTracking(unittest.TestCase):\n",
    "    def setUp(self):\n",
    "        self.buffer_size = 5\n",
    "        self.num_items = 10\n",
    "\n",
    "        self.str_source = BufferedIterator(\n",
    "            (str(i) for i in range(self.num_items)),\n",
    "            buffer_size=self.buffer_size)\n",
    "\n",
    "        self.int_source = BufferedIterator(\n",
    "            (i for i in range(self.num_items)),\n",
    "            buffer_size=self.buffer_size)\n",
    "\n",
    "        self.pairs_source = BufferedIterator(\n",
    "            [f'{a}, {b}' for a, b in zip(range(0, self.num_items * 2, 2),\n",
    "                                         range(1, self.num_items * 2, 2))],\n",
    "            buffer_size=self.buffer_size)\n",
    "\n",
    "    def test_before_source_initialized(self):\n",
    "        '''Before source initialized\n",
    "            - Section.source_index is None\n",
    "            - Section.source_item_count is 0\n",
    "            - Section.item_count is 0\n",
    "        '''\n",
    "        empty_section = Section(name='empty')\n",
    "        source_index = empty_section.source_index\n",
    "        source_item_count = empty_section.source_item_count\n",
    "        item_count = empty_section.item_count\n",
    "        self.assertIsNone(source_index)\n",
    "        self.assertEqual(source_item_count, 0)\n",
    "        self.assertEqual(item_count, 0)\n",
    "\n",
    "    def test_source_beginning(self):\n",
    "        '''At beginning of source\n",
    "            - Section.source_index is empty list\n",
    "            - Section.source_item_count is 0\n",
    "            - Section.item_count is 0\n",
    "        '''\n",
    "        not_started_section = Section(name='Not Started')\n",
    "        not_started_section.source = self.int_source\n",
    "        source_index = not_started_section.source_index\n",
    "        source_item_count = not_started_section.source_item_count\n",
    "        item_count = not_started_section.item_count\n",
    "        self.assertEqual(source_index, [0])\n",
    "        self.assertEqual(source_item_count, 0)\n",
    "        self.assertEqual(item_count, 0)\n",
    "\n",
    "    def test_1_to_1_processor(self):\n",
    "        '''1-to-1 match\n",
    "            - range(n) as source\n",
    "            - processor just returns item\n",
    "            - for each section item:\n",
    "            - source.item_count = item = section.source_item_count\n",
    "            - source.item_count = section.item_count\n",
    "        '''\n",
    "        section_1_1 = Section(name='1-to-1 match')\n",
    "        for item in section_1_1.process(self.int_source):\n",
    "            with self.subTest(item=item):\n",
    "                source_count = self.int_source.item_count\n",
    "                source_item_count = section_1_1.source_item_count\n",
    "                item_count = section_1_1.item_count\n",
    "                self.assertEqual(item+1, source_count)\n",
    "                self.assertEqual(source_count, source_item_count)\n",
    "                self.assertEqual(source_count, item_count)\n",
    "\n",
    "    def test_2_to_1_processor(self):\n",
    "        '''2-to-1 match\n",
    "            - `range(n)` as source\n",
    "            - processor converts 2 successive source items into tuple of\n",
    "            length 2.\n",
    "            - for each section item:\n",
    "                - item = (source.item_count-2, source.item_count-1)\n",
    "                - source.item_count = section.source_item_count\n",
    "                - source.item_count = section.item_count * 2\n",
    "        '''\n",
    "        section_2_1 = Section(name='2-to-1 match',\n",
    "                              processor=[pairs])\n",
    "        for item in section_2_1.process(self.int_source):\n",
    "            with self.subTest(item=item):\n",
    "                source_count = self.int_source.item_count\n",
    "                source_item_count = section_2_1.source_item_count\n",
    "                item_count = section_2_1.item_count\n",
    "                expected_item = (source_count-2, source_count-1)\n",
    "                self.assertEqual(item, expected_item)\n",
    "                self.assertEqual(source_count, source_item_count)\n",
    "                self.assertEqual(source_item_count, item_count * 2)\n",
    "\n",
    "    def test_1_to_2_processor(self):\n",
    "        '''1-to-2 match\n",
    "        - Numerical pairs as source:\n",
    "            `['0, 1', '2, 3', '4, 5'` $\\cdots$`]`\n",
    "        - processor converts 1 source item into 2 output lines\n",
    "        - for each source item:\n",
    "            > `nums = [int(num_s.strip()) for num_s in item.split(',')]`<br>\n",
    "            > `section item 1 = nums[0]`,<br>\n",
    "            > `section item 2 = nums[1]`\n",
    "        - source.item_count = (section.item_count + 1) // 2\n",
    "        - section.source_item_count = section.source_index[-1]\n",
    "        '''\n",
    "        section_1_2 = Section(name='1-to-2 match',\n",
    "                              processor=[n_split])\n",
    "        for item in section_1_2.process(self.pairs_source):\n",
    "            with self.subTest(item=item):\n",
    "                source_count = self.pairs_source.item_count\n",
    "                source_item_count = section_1_2.source_item_count\n",
    "                item_count = section_1_2.item_count\n",
    "                self.assertEqual(item+1, item_count)\n",
    "                self.assertEqual(source_count, source_item_count)\n",
    "                self.assertEqual(source_count, (item_count+1) //2)\n",
    "\n",
    "    def test_skip_first_item_count(self):\n",
    "        '''Skip First Source Item\n",
    "            - (str(i) for i in range(n)) as source\n",
    "            - start_section='1', offset='Before'\n",
    "            - processor returns int(item)\n",
    "            - for each section item:\n",
    "                - source.item_count = item\n",
    "                - source.item_count = section.source.item_count\n",
    "                - source.item_count = section.item_count\n",
    "        '''\n",
    "        section_skip_0 = Section(\n",
    "            name='Skipped First Source Item',\n",
    "            start_section=SectionBreak('1', break_offset='Before')\n",
    "            )\n",
    "        for item in section_skip_0.process(self.str_source):\n",
    "            with self.subTest(item=item):\n",
    "                source_count = self.str_source.item_count\n",
    "                source_item_count = section_skip_0.source_item_count\n",
    "                item_count = section_skip_0.item_count\n",
    "                self.assertEqual(int(item)+1, source_count)\n",
    "                self.assertEqual(source_count, source_item_count)\n",
    "                self.assertEqual(int(item), item_count)\n",
    "\n",
    "    def test_skip_two_item_counts(self):\n",
    "        '''Skip First 2 Source Items\n",
    "            - (str(i) for i in range(n)) as source\n",
    "            - start_section='1', offset='After'\n",
    "            - processor returns int(item)\n",
    "            - for each section item:\n",
    "                - source.item_count = item + 1\n",
    "                - source.item_count = section.source_item_count\n",
    "                - source.item_count = section.item_count + 2\n",
    "        '''\n",
    "        section_skip_2 = Section(\n",
    "            name='Skipped First Source Item',\n",
    "            start_section=SectionBreak('1', break_offset='After')\n",
    "            )\n",
    "        for item in section_skip_2.process(self.str_source):\n",
    "            with self.subTest(item=item):\n",
    "                source_count = self.str_source.item_count\n",
    "                source_item_count = section_skip_2.source_item_count\n",
    "                item_count = section_skip_2.item_count\n",
    "                self.assertEqual(int(item)+1, source_count)\n",
    "                self.assertEqual(source_count, source_item_count)\n",
    "                self.assertEqual(source_count, item_count + 2)\n",
    "\n",
    "    def test_do_not_count_dropped_items(self):\n",
    "        '''Don't Count Dropped Items\n",
    "            - range(n) as source\n",
    "            - processor drops even items and yields odd items\n",
    "            - for each section item:\n",
    "                - item + 1 = source.item_count\n",
    "                - source.item_count = section.source_item_count\n",
    "                - source.item_count = section.item_count * 2\n",
    "        '''\n",
    "        section_odd = Section(\n",
    "            name='Odd Numbers',\n",
    "            processor=[odd_nums]\n",
    "            )\n",
    "        for item in section_odd.process(self.int_source):\n",
    "            with self.subTest(item=item):\n",
    "                source_count = self.int_source.item_count\n",
    "                source_item_count = section_odd.source_item_count\n",
    "                item_count = section_odd.item_count\n",
    "                self.assertEqual(item+1, source_count)\n",
    "                self.assertEqual(source_count, source_item_count)\n",
    "                self.assertEqual(source_count, item_count * 2)\n",
    "\n",
    "    def test_completed_section_item_count(self):\n",
    "        '''Completed Section Item Count\n",
    "            - (str(i) for i in range(n)) as source\n",
    "            - processor drops even items and yields odd items\n",
    "            - after section.read(source):\n",
    "                - source.item_count = section.source_item_count\n",
    "                - section.source_item_count = section.item_count = n * 2\n",
    "        '''\n",
    "        section_odd = Section(\n",
    "            name='Odd Numbers',\n",
    "            processor=[odd_nums]\n",
    "            )\n",
    "        section_odd.read(self.int_source)\n",
    "        source_count = self.int_source.item_count\n",
    "        source_item_count = section_odd.source_item_count\n",
    "        item_count = section_odd.item_count\n",
    "        self.assertEqual(source_count, source_item_count)\n",
    "        self.assertEqual(source_count, item_count * 2)\n",
    "\n",
    "    def test_completed_section_partial_source_item_count(self):\n",
    "        '''Partial Source Completed Section\n",
    "            - (str(i) for i in range(n)) as source\n",
    "            - Random start_section and end_section\n",
    "            - after section.read(source):\n",
    "                - source.item_count = section.source_item_count\n",
    "                - source.item_count = end_num\n",
    "                - section.item_count = end_num - start_num\n",
    "        '''\n",
    "        start_num = random.randint(1, self.num_items-2)\n",
    "        end_num = random.randint(start_num + 1, self.num_items)\n",
    "        part_section = Section(\n",
    "            name='Partial Source Section',\n",
    "            start_section=str(start_num),\n",
    "            end_section=str(end_num)\n",
    "            )\n",
    "        part_section.read(self.str_source)\n",
    "        source_count = self.str_source.item_count\n",
    "        source_item_count = part_section.source_item_count\n",
    "        item_count = part_section.item_count\n",
    "        self.assertEqual(source_count, source_item_count)\n",
    "        self.assertEqual(source_count, end_num)\n",
    "        self.assertEqual(item_count, end_num-start_num)\n",
    "\n",
    "    def test_completed_section_partial_source_with_end_before_item_count(self):\n",
    "        '''Completed Section With End Before\n",
    "            - `(str(i) for i in range(n))` as source\n",
    "            - end_section='2', offset='Before'\n",
    "            - after section.read(source):\n",
    "                - source.item_count = section.source_item_count\n",
    "                - source.item_count = section.item_count = 2\n",
    "        '''\n",
    "        section_end_before = Section(\n",
    "            name='End Before',\n",
    "            end_section=SectionBreak('2', break_offset='Before')\n",
    "            )\n",
    "\n",
    "        item_list = section_end_before.read(self.str_source)\n",
    "        source_count = self.str_source.item_count\n",
    "        source_item_count = section_end_before.source_item_count\n",
    "        item_count = section_end_before.item_count\n",
    "\n",
    "        self.assertEqual(source_count, 2)\n",
    "        self.assertEqual(source_item_count, 2)\n",
    "        self.assertEqual(item_count, 2)\n",
    "        self.assertEqual(item_list, ['0', '1'])\n",
    "\n",
    "    def test_completed_section_partial_source_with_end_after_item_count(self):\n",
    "        '''Completed Section With End After\n",
    "            - `(str(i) for i in range(n))` as source\n",
    "            - end_section='2', offset='After'\n",
    "            - after section.read(source):\n",
    "                - source.item_count = section.source_item_count\n",
    "                - source.item_count = section.item_count = 3\n",
    "        '''\n",
    "        section_end_before = Section(\n",
    "            name='End Before',\n",
    "            end_section=SectionBreak('2', break_offset='After')\n",
    "            )\n",
    "\n",
    "        item_list = section_end_before.read(self.str_source)\n",
    "        source_count = self.str_source.item_count\n",
    "        source_item_count = section_end_before.source_item_count\n",
    "        item_count = section_end_before.item_count\n",
    "\n",
    "        self.assertEqual(source_count, 3)\n",
    "        self.assertEqual(source_item_count, 3)\n",
    "        self.assertEqual(item_count, 3)\n",
    "        self.assertEqual(item_list, ['0', '1', '2'])\n",
    "\n",
    "\n",
    "if __name__ == '__main__':\n",
    "    unittest.main()\n"
   ]
  },
  {
   "attachments": {},
   "cell_type": "markdown",
   "metadata": {},
   "source": [
    "## Single line subsections"
   ]
  },
  {
   "cell_type": "code",
   "execution_count": null,
   "metadata": {},
   "outputs": [],
   "source": [
    "name_section = Section(\n",
    "    name='Name',\n",
    "    start_section=SectionBreak('StartSection', name='NameStart'),\n",
    "    end_section=SectionBreak(True, name='NameEnd')\n",
    "    )\n",
    "\n",
    "content_section = Section(\n",
    "    name='Content',\n",
    "    end_section=SectionBreak('EndSection', \n",
    "                             break_offset='Before', \n",
    "                             name='EndContent')\n",
    "    )\n",
    "\n",
    "end_section = Section(\n",
    "    name='End',\n",
    "    end_section=SectionBreak(True, name='EndEnd')\n",
    "    )\n"
   ]
  },
  {
   "cell_type": "code",
   "execution_count": null,
   "metadata": {},
   "outputs": [],
   "source": [
    "section_list = (name_section, content_section, end_section)\n",
    "\n",
    "subsection_group = ProcessingMethods(section_list)\n",
    "\n",
    "full_section = Section(\n",
    "    name='Full Section',\n",
    "    processor=subsection_group\n",
    "    )\n",
    "\n"
   ]
  },
  {
   "cell_type": "code",
   "execution_count": null,
   "metadata": {},
   "outputs": [],
   "source": [
    "test_iter = BufferedIterator(multi_section_text)\n",
    "context = {'dummy': 'asdf'}\n",
    "\n",
    "full_section.read(test_iter)\n"
   ]
  },
  {
   "cell_type": "code",
   "execution_count": null,
   "metadata": {},
   "outputs": [],
   "source": [
    "\n",
    "pprint(combined_sections)\n",
    "print()\n",
    "pprint(context)"
   ]
  },
  {
   "attachments": {},
   "cell_type": "markdown",
   "metadata": {},
   "source": [
    "#### Subsection definitions"
   ]
  },
  {
   "cell_type": "code",
   "execution_count": null,
   "metadata": {},
   "outputs": [],
   "source": [
    "name_section = Section(\n",
    "    name='Name',\n",
    "    start_section=SectionBreak('Name', name='Name'),\n",
    "    end_section=SectionBreak(True, name='EndName')\n",
    "    )\n",
    "\n",
    "content_section = Section(\n",
    "    name='Content',\n",
    "    end_section=SectionBreak('EndSection', \n",
    "                             break_offset='Before', \n",
    "                             name='EndContent')\n",
    "    )\n",
    "\n",
    "end_section = Section(\n",
    "    name='End',\n",
    "    end_section=SectionBreak(True, name='EndEnd')\n",
    "    )\n",
    "\n",
    "section_list = [name_section, content_section, end_section]\n"
   ]
  },
  {
   "cell_type": "code",
   "execution_count": null,
   "metadata": {},
   "outputs": [],
   "source": [
    "from functools import partial\n",
    "proc_func = partial(read_section_list, section_list)\n",
    "test_context = {'dummy': 'Test'}\n",
    "\n",
    "full_section = Section(\n",
    "    name='Full Subsection',\n",
    "    #start_section=SectionBreak('StartSection', break_offset='Before'),\n",
    "    #end_section=SectionBreak('EndSection', break_offset='After'),\n",
    "    processor=proc_func\n",
    "    )\n",
    "\n",
    "full_section.read(test_iter, start_search=False)"
   ]
  },
  {
   "cell_type": "code",
   "execution_count": null,
   "metadata": {},
   "outputs": [],
   "source": [
    "read_section_list(section_list, test_iter)"
   ]
  },
  {
   "cell_type": "code",
   "execution_count": null,
   "metadata": {},
   "outputs": [],
   "source": [
    "\n",
    "print(repr(test_iter))"
   ]
  },
  {
   "cell_type": "raw",
   "metadata": {},
   "source": [
    "multi_section_text = [\n",
    "    'Text to be ignored',\n",
    "    'StartSection Name:A',\n",
    "    'A Content1:a',\n",
    "    'B Content1:b',\n",
    "    'C Content1:c',\n",
    "    'EndSection Name:A',\n",
    "    'StartSection Name:B',\n",
    "    'A Content2:a',\n",
    "    'B Content2:b',\n",
    "    'C Content2:c',\n",
    "    'EndSection Name:B'\n",
    "    'Even more text to be ignored',\n",
    "    ]"
   ]
  },
  {
   "cell_type": "raw",
   "metadata": {},
   "source": [
    "test_text = [\n",
    "            'Text to be ignored',\n",
    "            'StartSection A',\n",
    "            'MiddleSection A',\n",
    "            'EndSection A',\n",
    "            'Unwanted text between sections',\n",
    "            'StartSection B',\n",
    "            'MiddleSection B',\n",
    "            'EndSection B',\n",
    "            'StartSection C',\n",
    "            'MiddleSection C',\n",
    "            'EndSection C',\n",
    "            'Even more text to be ignored',\n",
    "            ]\n",
    "\n",
    "\n",
    "test_iter = BufferedIterator(test_text)\n",
    "\n",
    "single_section = Section(\n",
    "    name='SubSection',\n",
    "    start_section=SectionBreak('StartSection', break_offset='Before'),\n",
    "    end_section=SectionBreak('EndSection', break_offset='After')\n",
    "    )\n",
    "\n",
    "while True:\n",
    "    if single_section.scan_status in ['Scan Complete', 'End of Source']:\n",
    "        break\n",
    "    print(single_section.read(test_iter))\n",
    "    pprint(single_section.context)\n"
   ]
  }
 ],
 "metadata": {
  "kernelspec": {
   "display_name": "sectionaryDev",
   "language": "python",
   "name": "python3"
  },
  "language_info": {
   "codemirror_mode": {
    "name": "ipython",
    "version": 3
   },
   "file_extension": ".py",
   "mimetype": "text/x-python",
   "name": "python",
   "nbconvert_exporter": "python",
   "pygments_lexer": "ipython3",
   "version": "3.8.15"
  },
  "orig_nbformat": 4,
  "vscode": {
   "interpreter": {
    "hash": "890849be4bb9b5be1d044afe42e602ccc6ca20da23c054ee97c8186ec3939c45"
   }
  }
 },
 "nbformat": 4,
 "nbformat_minor": 2
}
