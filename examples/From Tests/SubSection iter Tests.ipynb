{
 "cells": [
  {
   "attachments": {},
   "cell_type": "markdown",
   "metadata": {},
   "source": [
    "# SubSection Management"
   ]
  },
  {
   "attachments": {},
   "cell_type": "markdown",
   "metadata": {},
   "source": [
    "## Setup"
   ]
  },
  {
   "attachments": {},
   "cell_type": "markdown",
   "metadata": {},
   "source": [
    "### Imports"
   ]
  },
  {
   "cell_type": "code",
   "execution_count": 4,
   "metadata": {},
   "outputs": [],
   "source": [
    "from pprint import pprint\n",
    "from sections import Section\n",
    "from sections import SectionBreak\n",
    "from buffered_iterator import BufferedIterator\n",
    "from sections import set_method\n",
    "from sections import ProcessingMethods"
   ]
  },
  {
   "attachments": {},
   "cell_type": "markdown",
   "metadata": {},
   "source": [
    "### Test Text"
   ]
  },
  {
   "cell_type": "code",
   "execution_count": 5,
   "metadata": {},
   "outputs": [],
   "source": [
    "test_text = [\n",
    "            'Text to be ignored',\n",
    "            'StartSection A',\n",
    "            'MiddleSection A',\n",
    "            'EndSection A',\n",
    "            'Unwanted text between sections',\n",
    "            'StartSection B',\n",
    "            'MiddleSection B',\n",
    "            'EndSection B',\n",
    "            'StartSection C',\n",
    "            'MiddleSection C',\n",
    "            'EndSection C',\n",
    "            'Even more text to be ignored',\n",
    "            ]\n",
    "\n",
    "multi_section_text = [\n",
    "    'StartSection Name:A',\n",
    "    'A Content1:a',\n",
    "    'EndSection Name:A',\n",
    "    'StartSection Name:B',\n",
    "    'A Content2:a',\n",
    "    'EndSection Name:B'\n",
    "    ]"
   ]
  },
  {
   "attachments": {},
   "cell_type": "markdown",
   "metadata": {},
   "source": [
    "## Context updating\n",
    "\n",
    "Test external context updating"
   ]
  },
  {
   "attachments": {},
   "cell_type": "markdown",
   "metadata": {},
   "source": [
    "### Context update in function\n",
    "![Good](../Valid.png) test_context is being updated"
   ]
  },
  {
   "cell_type": "code",
   "execution_count": 6,
   "metadata": {},
   "outputs": [
    {
     "data": {
      "text/plain": [
       "{'dummy': 'Test', 'This Item': 'A'}"
      ]
     },
     "execution_count": 6,
     "metadata": {},
     "output_type": "execute_result"
    }
   ],
   "source": [
    "def set_context(item, context):\n",
    "    context['This Item'] = item\n",
    "    return item\n",
    "\n",
    "\n",
    "test_context = {'dummy': 'Test'}\n",
    "\n",
    "set_context('A', test_context)\n",
    "\n",
    "test_context"
   ]
  },
  {
   "attachments": {},
   "cell_type": "markdown",
   "metadata": {},
   "source": [
    "### Context update in *set_method* function\n",
    "![Good](../Valid.png) test_context is being updated"
   ]
  },
  {
   "cell_type": "code",
   "execution_count": 7,
   "metadata": {},
   "outputs": [
    {
     "data": {
      "text/plain": [
       "{'dummy': 'Test', 'This Item': 'A'}"
      ]
     },
     "execution_count": 7,
     "metadata": {},
     "output_type": "execute_result"
    }
   ],
   "source": [
    "def set_context(item, context):\n",
    "    context['This Item'] = item\n",
    "    return item\n",
    "\n",
    "\n",
    "use_function = set_method(set_context, method_type='Process')\n",
    "\n",
    "test_context = {'dummy': 'Test'}\n",
    "\n",
    "use_function('A', test_context)\n",
    "\n",
    "test_context"
   ]
  },
  {
   "attachments": {},
   "cell_type": "markdown",
   "metadata": {},
   "source": [
    "### Context update in ProcessingMethods\n",
    "![Good](../Valid.png) test_context is being updated"
   ]
  },
  {
   "cell_type": "code",
   "execution_count": 8,
   "metadata": {},
   "outputs": [
    {
     "name": "stdout",
     "output_type": "stream",
     "text": [
      "['StartSection Name:A',\n",
      " 'A Content1:a',\n",
      " 'EndSection Name:A',\n",
      " 'StartSection Name:B',\n",
      " 'A Content2:a',\n",
      " 'EndSection Name:B']\n"
     ]
    },
    {
     "data": {
      "text/plain": [
       "{'dummy': 'Test', 'This Item': 'EndSection Name:B'}"
      ]
     },
     "execution_count": 8,
     "metadata": {},
     "output_type": "execute_result"
    }
   ],
   "source": [
    "def set_context(item, context):\n",
    "    context['This Item'] = item\n",
    "    return item\n",
    "\n",
    "multi_section_text = [\n",
    "    'StartSection Name:A',\n",
    "    'A Content1:a',\n",
    "    'EndSection Name:A',\n",
    "    'StartSection Name:B',\n",
    "    'A Content2:a',\n",
    "    'EndSection Name:B'\n",
    "    ]\n",
    "\n",
    "test_iter = BufferedIterator(multi_section_text)\n",
    "test_context = {'dummy': 'Test'}\n",
    "\n",
    "processor = ProcessingMethods([set_context])\n",
    "\n",
    "pprint(processor.read(test_iter, test_context))\n",
    "\n",
    "test_context"
   ]
  },
  {
   "attachments": {},
   "cell_type": "markdown",
   "metadata": {},
   "source": [
    "### Context update with *section.processor.reader*\n",
    "![Good](../Valid.png) test_context is being updated"
   ]
  },
  {
   "cell_type": "code",
   "execution_count": 9,
   "metadata": {},
   "outputs": [
    {
     "name": "stdout",
     "output_type": "stream",
     "text": [
      "['StartSection Name:A',\n",
      " 'A Content1:a',\n",
      " 'EndSection Name:A',\n",
      " 'StartSection Name:B',\n",
      " 'A Content2:a',\n",
      " 'EndSection Name:B']\n",
      "test_context {'dummy': 'Test', 'This Item': 'EndSection Name:B'}\n"
     ]
    }
   ],
   "source": [
    "def set_context(item, context):\n",
    "    context['This Item'] = item\n",
    "    return item\n",
    "\n",
    "multi_section_text = [\n",
    "    'StartSection Name:A',\n",
    "    'A Content1:a',\n",
    "    'EndSection Name:A',\n",
    "    'StartSection Name:B',\n",
    "    'A Content2:a',\n",
    "    'EndSection Name:B'\n",
    "    ]\n",
    "\n",
    "test_iter = BufferedIterator(multi_section_text)\n",
    "test_context = {'dummy': 'Test'}\n",
    "\n",
    "content_section = Section(\n",
    "    name='Content',\n",
    "    end_section=SectionBreak('EndSection', break_offset='Before', name='EndContent'),\n",
    "    processor=set_context\n",
    "    )\n",
    "\n",
    "section_proc = content_section.processor.reader(test_iter, context = test_context)\n",
    "\n",
    "pprint([i for i in section_proc])\n",
    "\n",
    "print('test_context', test_context)\n"
   ]
  },
  {
   "attachments": {},
   "cell_type": "markdown",
   "metadata": {},
   "source": [
    "### Context update with *section.scan* and *section.processor.reader*\n",
    "![Good](../Valid.png) test_context is being updated\n"
   ]
  },
  {
   "cell_type": "code",
   "execution_count": 10,
   "metadata": {},
   "outputs": [
    {
     "name": "stdout",
     "output_type": "stream",
     "text": [
      "['StartSection Name:A', 'A Content1:a']\n"
     ]
    },
    {
     "data": {
      "text/plain": [
       "{'dummy': 'Test', 'This Item': 'A Content1:a'}"
      ]
     },
     "execution_count": 10,
     "metadata": {},
     "output_type": "execute_result"
    }
   ],
   "source": [
    "def set_context(item, context):\n",
    "    context['This Item'] = item\n",
    "    return item\n",
    "\n",
    "multi_section_text = [\n",
    "    'StartSection Name:A',\n",
    "    'A Content1:a',\n",
    "    'EndSection Name:A',\n",
    "    'StartSection Name:B',\n",
    "    'A Content2:a',\n",
    "    'EndSection Name:B'\n",
    "    ]\n",
    "\n",
    "test_iter = BufferedIterator(multi_section_text)\n",
    "test_context = {'dummy': 'Test'}\n",
    "\n",
    "\n",
    "content_section = Section(\n",
    "    name='Content',\n",
    "    end_section=SectionBreak('EndSection', break_offset='Before', name='EndContent'),\n",
    "    processor=set_context\n",
    "    )\n",
    "\n",
    "\n",
    "section_iter = content_section.scan(test_iter, context = test_context)\n",
    "read_iter = content_section.processor.reader(section_iter, context = test_context)\n",
    "\n",
    "pprint([i for i in read_iter])\n",
    "\n",
    "test_context"
   ]
  },
  {
   "attachments": {},
   "cell_type": "markdown",
   "metadata": {},
   "source": [
    "### Context update with *ProcessingMethods* using two functions\n",
    "![Good](../Valid.png) \n",
    "test_context is being propagated even when the second processing function \n",
    "doesn't take context."
   ]
  },
  {
   "cell_type": "code",
   "execution_count": 11,
   "metadata": {},
   "outputs": [
    {
     "name": "stdout",
     "output_type": "stream",
     "text": [
      "['StartSection Name:A',\n",
      " 'A Content1:a',\n",
      " 'EndSection Name:A',\n",
      " 'StartSection Name:B',\n",
      " 'A Content2:a',\n",
      " 'EndSection Name:B']\n"
     ]
    },
    {
     "data": {
      "text/plain": [
       "{'dummy': 'Test', 'This Item': 'EndSection Name:B'}"
      ]
     },
     "execution_count": 11,
     "metadata": {},
     "output_type": "execute_result"
    }
   ],
   "source": [
    "def set_context(item, context):\n",
    "    context['This Item'] = item\n",
    "    return item\n",
    "\n",
    "def do_nothing(item):\n",
    "    return item\n",
    "\n",
    "multi_section_text = [\n",
    "    'StartSection Name:A',\n",
    "    'A Content1:a',\n",
    "    'EndSection Name:A',\n",
    "    'StartSection Name:B',\n",
    "    'A Content2:a',\n",
    "    'EndSection Name:B'\n",
    "    ]\n",
    "\n",
    "test_iter = BufferedIterator(multi_section_text)\n",
    "test_context = {'dummy': 'Test'}\n",
    "\n",
    "processor = ProcessingMethods([set_context, do_nothing])\n",
    "\n",
    "pprint(processor.read(test_iter, test_context))\n",
    "\n",
    "test_context"
   ]
  },
  {
   "attachments": {},
   "cell_type": "markdown",
   "metadata": {},
   "source": [
    "### Context update with *section.scan*, *section.processor.reader* and *list()*\n",
    "![Good](../Valid.png) \n",
    "test_context is being updated when the list() function is called"
   ]
  },
  {
   "cell_type": "code",
   "execution_count": 12,
   "metadata": {},
   "outputs": [
    {
     "data": {
      "text/plain": [
       "{'dummy': 'Test', 'This Item': 'A Content1:a'}"
      ]
     },
     "execution_count": 12,
     "metadata": {},
     "output_type": "execute_result"
    }
   ],
   "source": [
    "def set_context(item, context):\n",
    "    context['This Item'] = item\n",
    "    return item\n",
    "\n",
    "multi_section_text = [\n",
    "    'StartSection Name:A',\n",
    "    'A Content1:a',\n",
    "    'EndSection Name:A',\n",
    "    'StartSection Name:B',\n",
    "    'A Content2:a',\n",
    "    'EndSection Name:B'\n",
    "    ]\n",
    "\n",
    "test_iter = BufferedIterator(multi_section_text)\n",
    "test_context = {'dummy': 'Test'}\n",
    "\n",
    "\n",
    "content_section = Section(\n",
    "    name='Content',\n",
    "    end_section=SectionBreak('EndSection', break_offset='Before', name='EndContent'),\n",
    "    processor=set_context\n",
    "    )\n",
    "\n",
    "\n",
    "section_iter = content_section.scan(test_iter, context = test_context)\n",
    "read_iter = content_section.processor.reader(section_iter, context = test_context)\n",
    "\n",
    "#pprint([i for i in read_iter])\n",
    "list(read_iter)\n",
    "\n",
    "test_context"
   ]
  },
  {
   "attachments": {},
   "cell_type": "markdown",
   "metadata": {},
   "source": [
    " ### Context update with *section.scan*, *section.processor.reader* and *section.assemble*\n",
    "![Good](../Valid.png) \n",
    "test_context is being updated when the section.assemble() function is called"
   ]
  },
  {
   "cell_type": "code",
   "execution_count": 13,
   "metadata": {},
   "outputs": [
    {
     "name": "stdout",
     "output_type": "stream",
     "text": [
      "['StartSection Name:A', 'A Content1:a']\n",
      "test_context {'dummy': 'Test', 'This Item': 'A Content1:a'}\n"
     ]
    }
   ],
   "source": [
    "def set_context(item, context):\n",
    "    context['This Item'] = item\n",
    "    return item\n",
    "\n",
    "multi_section_text = [\n",
    "    'StartSection Name:A',\n",
    "    'A Content1:a',\n",
    "    'EndSection Name:A',\n",
    "    'StartSection Name:B',\n",
    "    'A Content2:a',\n",
    "    'EndSection Name:B'\n",
    "    ]\n",
    "\n",
    "test_iter = BufferedIterator(multi_section_text)\n",
    "test_context = {'dummy': 'Test'}\n",
    "\n",
    "\n",
    "content_section = Section(\n",
    "    name='Content',\n",
    "    end_section=SectionBreak('EndSection', break_offset='Before', name='EndContent'),\n",
    "    processor=set_context\n",
    "    )\n",
    "\n",
    "\n",
    "section_iter = content_section.scan(test_iter, context = test_context)\n",
    "read_iter = content_section.processor.reader(section_iter, context = test_context)\n",
    "\n",
    "section_assembled = content_section.assemble(read_iter, context=test_context)\n",
    "\n",
    "pprint(section_assembled)\n",
    "print('test_context', test_context)\n"
   ]
  },
  {
   "attachments": {},
   "cell_type": "markdown",
   "metadata": {},
   "source": [
    " ### Context update with *section.read*\n",
    " \n",
    "![Good](../Valid.png) When the section.read() function is called\n",
    "- test_context is not being updated \n",
    "- content_section.context is being updated "
   ]
  },
  {
   "cell_type": "code",
   "execution_count": 14,
   "metadata": {},
   "outputs": [
    {
     "name": "stdout",
     "output_type": "stream",
     "text": [
      "['StartSection Name:A', 'A Content1:a'] \n",
      "\n",
      "test_context {'dummy': 'Test'} \n",
      "\n",
      "content_section.context\n",
      "{   'Break': 'EndContent',\n",
      "    'Current Section': 'Content',\n",
      "    'Event': 'EndSection',\n",
      "    'Skipped Lines': [],\n",
      "    'Status': 'Break Triggered',\n",
      "    'This Item': 'A Content1:a'}\n"
     ]
    }
   ],
   "source": [
    "def set_context(item, context):\n",
    "    context['This Item'] = item\n",
    "    return item\n",
    "\n",
    "multi_section_text = [\n",
    "    'StartSection Name:A',\n",
    "    'A Content1:a',\n",
    "    'EndSection Name:A',\n",
    "    'StartSection Name:B',\n",
    "    'A Content2:a',\n",
    "    'EndSection Name:B'\n",
    "    ]\n",
    "\n",
    "test_iter = BufferedIterator(multi_section_text)\n",
    "test_context = {'dummy': 'Test'}\n",
    "\n",
    "\n",
    "content_section = Section(\n",
    "    name='Content',\n",
    "    end_section=SectionBreak('EndSection', break_offset='Before', name='EndContent'),\n",
    "    processor=set_context\n",
    "    )\n",
    "\n",
    "\n",
    "assembled_section = content_section.read(test_iter, context = test_context)\n",
    "\n",
    "print(assembled_section,'\\n')\n",
    "print('test_context', test_context,'\\n')\n",
    "print('content_section.context')\n",
    "pprint(content_section.context, indent=4)"
   ]
  },
  {
   "attachments": {},
   "cell_type": "markdown",
   "metadata": {},
   "source": [
    "### Processing function that reads from context\n"
   ]
  },
  {
   "cell_type": "code",
   "execution_count": null,
   "metadata": {},
   "outputs": [
    {
     "name": "stdout",
     "output_type": "stream",
     "text": [
      "['StartSection A', 'MiddleSection A', 'EndSection A']\n",
      "['StartSection B', 'MiddleSection B', 'EndSection B']\n",
      "['StartSection C', 'MiddleSection C', 'EndSection C']\n",
      "[]\n",
      "single_section.context\n",
      "{   '3-part Section': 'EndSection C',\n",
      "    'Current Section': '3-part Section',\n",
      "    'Skipped Lines': ['Even more text to be ignored'],\n",
      "    'Status': 'End of Source'}\n"
     ]
    }
   ],
   "source": [
    "def set_context(item, context):\n",
    "    name = context.get('Current Section')\n",
    "    if name:                               \n",
    "        context[name] = item\n",
    "    else:\n",
    "        context['No section'] = item\n",
    "    return item\n",
    "\n",
    "\n",
    "def print_context(item, context):\n",
    "    pprint(context)\n",
    "    return item\n",
    "\n",
    "test_text = [\n",
    "            'Text to be ignored',\n",
    "            'StartSection A',\n",
    "            'MiddleSection A',\n",
    "            'EndSection A',\n",
    "            'Unwanted text between sections',\n",
    "            'StartSection B',\n",
    "            'MiddleSection B',\n",
    "            'EndSection B',\n",
    "            'StartSection C',\n",
    "            'MiddleSection C',\n",
    "            'EndSection C',\n",
    "            'Even more text to be ignored',\n",
    "            ]\n",
    "\n",
    "\n",
    "test_iter = BufferedIterator(test_text)\n",
    "\n",
    "single_section = Section(\n",
    "    name='3-part Section',\n",
    "    start_section=SectionBreak('StartSection', break_offset='Before'),\n",
    "    end_section=SectionBreak('EndSection', break_offset='After'),\n",
    "    processor=set_context\n",
    "    )\n",
    "\n",
    "while True:\n",
    "    if single_section.scan_status in ['Scan Complete', 'End of Source']:\n",
    "        break\n",
    "    assembled_section = single_section.read(test_iter)\n",
    "    print(assembled_section )\n",
    "\n",
    "print('single_section.context')\n",
    "pprint(single_section.context, indent=4)\n",
    "\n"
   ]
  },
  {
   "attachments": {},
   "cell_type": "markdown",
   "metadata": {},
   "source": [
    "### No context supplied\n",
    " \n",
    "![Good](../Valid.png) When the section.read() function is called\n",
    "- test_context is not being updated \n",
    "- content_section.context is being updated "
   ]
  },
  {
   "cell_type": "code",
   "execution_count": 15,
   "metadata": {},
   "outputs": [
    {
     "name": "stdout",
     "output_type": "stream",
     "text": [
      "['StartSection Name:A', 'A Content1:a'] \n",
      "\n",
      "test_context:\t None \n",
      "\n",
      "{'Break': 'EndContent',\n",
      " 'Current Section': 'Content',\n",
      " 'Event': 'EndSection',\n",
      " 'Skipped Lines': [],\n",
      " 'Status': 'Break Triggered',\n",
      " 'This Item': 'A Content1:a'}\n"
     ]
    }
   ],
   "source": [
    "def set_context(item, context):\n",
    "    context['This Item'] = item\n",
    "    return item\n",
    "\n",
    "multi_section_text = [\n",
    "    'StartSection Name:A',\n",
    "    'A Content1:a',\n",
    "    'EndSection Name:A',\n",
    "    'StartSection Name:B',\n",
    "    'A Content2:a',\n",
    "    'EndSection Name:B'\n",
    "    ]\n",
    "\n",
    "test_iter = BufferedIterator(multi_section_text)\n",
    "test_context = None\n",
    "\n",
    "content_section = Section(\n",
    "    name='Content',\n",
    "    end_section=SectionBreak('EndSection', break_offset='Before', name='EndContent'),\n",
    "    processor=set_context\n",
    "    )\n",
    "\n",
    "\n",
    "assembled_section = content_section.read(test_iter)\n",
    "\n",
    "print(assembled_section,'\\n')\n",
    "print('test_context:\\t', test_context,'\\n')\n",
    "pprint(content_section.context)"
   ]
  },
  {
   "attachments": {},
   "cell_type": "markdown",
   "metadata": {},
   "source": [
    "## Subsection Requirements\n",
    "### Context\n",
    "- Do not change the supplied context\n",
    "- Use *self.context*\n",
    "- *self.context* needs to be updated after every stage\n",
    "- Need to protect standard context items from being changed by sub sections"
   ]
  },
  {
   "attachments": {},
   "cell_type": "markdown",
   "metadata": {},
   "source": [
    "### Source\n",
    "- Supplied source needs to be isolated from the iterated source or it may exit too soon.\n",
    "- Section's source pointer needs to be adjusted so that any \"Future Items\" are not missed.\n",
    "- Both context and iterator should be isolated by default \n"
   ]
  },
  {
   "attachments": {},
   "cell_type": "markdown",
   "metadata": {},
   "source": [
    "# Multiple SubSections"
   ]
  },
  {
   "attachments": {},
   "cell_type": "markdown",
   "metadata": {},
   "source": [
    "## Single line subsections"
   ]
  },
  {
   "attachments": {},
   "cell_type": "markdown",
   "metadata": {},
   "source": [
    "### Check individual subsections"
   ]
  },
  {
   "cell_type": "code",
   "execution_count": 38,
   "metadata": {},
   "outputs": [
    {
     "name": "stdout",
     "output_type": "stream",
     "text": [
      "['StartSection Name:A']\n",
      "['A Content1:a']\n",
      "['EndSection Name:A']\n"
     ]
    }
   ],
   "source": [
    "multi_section_text = [\n",
    "    'StartSection Name:A',\n",
    "    'A Content1:a',\n",
    "    'EndSection Name:A',\n",
    "    'StartSection Name:B',\n",
    "    'A Content2:a',\n",
    "    'EndSection Name:B'\n",
    "    ]\n",
    "\n",
    "name_section = Section(\n",
    "    name='Name',\n",
    "    end_section=SectionBreak(True, name='NameEnd')\n",
    "    )\n",
    "content_section = Section(\n",
    "    name='Content',\n",
    "    end_section=SectionBreak('EndSection', break_offset='Before', name='EndContent')\n",
    "    )\n",
    "end_section = Section(\n",
    "    name='End',\n",
    "    end_section=SectionBreak(True, name='EndEnd')\n",
    "    )\n",
    "\n",
    "test_iter = BufferedIterator(multi_section_text)\n",
    "\n",
    "print(name_section.read(test_iter))\n",
    "print(content_section.read(test_iter))\n",
    "print(end_section.read(test_iter))"
   ]
  },
  {
   "attachments": {},
   "cell_type": "markdown",
   "metadata": {},
   "source": [
    "### List of subsections"
   ]
  },
  {
   "cell_type": "code",
   "execution_count": 40,
   "metadata": {},
   "outputs": [
    {
     "name": "stdout",
     "output_type": "stream",
     "text": [
      "[{'Content': ['A Content1:a'],\n",
      "  'End': ['EndSection Name:A'],\n",
      "  'Name': ['StartSection Name:A']},\n",
      " {'Content': ['A Content2:a'],\n",
      "  'End': ['EndSection Name:B'],\n",
      "  'Name': ['StartSection Name:B']}]\n"
     ]
    }
   ],
   "source": [
    "multi_section_text = [\n",
    "    'StartSection Name:A',\n",
    "    'A Content1:a',\n",
    "    'EndSection Name:A',\n",
    "    'StartSection Name:B',\n",
    "    'A Content2:a',\n",
    "    'EndSection Name:B'\n",
    "    ]\n",
    "\n",
    "name_section = Section(\n",
    "    name='Name',\n",
    "    end_section=SectionBreak(True, name='NameEnd')\n",
    "    )\n",
    "\n",
    "content_section = Section(\n",
    "    name='Content',\n",
    "    end_section=SectionBreak('EndSection', \n",
    "                             break_offset='Before', \n",
    "                             name='EndContent')\n",
    "    )\n",
    "\n",
    "end_section = Section(\n",
    "    name='End',\n",
    "    end_section=SectionBreak(True, name='EndEnd')\n",
    "    )\n",
    "\n",
    "test_iter = BufferedIterator(multi_section_text)\n",
    "section_list = [name_section, content_section, end_section]\n",
    "\n",
    "combined_sections = []\n",
    "while True:\n",
    "    section_group = {}\n",
    "    for sub_section in section_list:\n",
    "        sub_section_item = sub_section.read(test_iter)\n",
    "        section_group[sub_section.name] = sub_section_item\n",
    "    combined_sections.append(section_group)\n",
    "    if sub_section.scan_status in ['Scan Complete', 'End of Source']:\n",
    "        break\n",
    "    \n",
    "\n",
    "pprint(combined_sections)\n"
   ]
  },
  {
   "attachments": {},
   "cell_type": "markdown",
   "metadata": {},
   "source": [
    "# Done to Here"
   ]
  },
  {
   "attachments": {},
   "cell_type": "markdown",
   "metadata": {},
   "source": [
    "TODO Write a function to handle a list of objects containing .context and .name attributes and a .read() method"
   ]
  },
  {
   "cell_type": "code",
   "execution_count": null,
   "metadata": {},
   "outputs": [],
   "source": [
    "\n",
    "combined_sections = []\n",
    "while True:\n",
    "    section_group = {}\n",
    "    for sub_section in section_list:\n",
    "        sub_section_item = sub_section.read(test_iter)\n",
    "        section_group[sub_section.name] = sub_section_item\n",
    "    combined_sections.append(section_group)\n",
    "    if sub_section.scan_status in ['Scan Complete', 'End of Source']:\n",
    "        break\n",
    "    \n"
   ]
  },
  {
   "cell_type": "code",
   "execution_count": null,
   "metadata": {},
   "outputs": [],
   "source": [
    "name_section = Section(\n",
    "    name='SingleSection',\n",
    "    start_section=SectionBreak('StartSection', name='StartSection'),\n",
    "    end_section=SectionBreak('EndSection', name='EndSection')\n",
    "    )\n"
   ]
  },
  {
   "cell_type": "code",
   "execution_count": null,
   "metadata": {},
   "outputs": [],
   "source": [
    "full_section = Section(\n",
    "    name='Single Subsection',\n",
    "    start_section=SectionBreak('StartSection', break_offset='Before'),\n",
    "    end_section=SectionBreak('EndSection', break_offset='After'),\n",
    "    processor=[name_section, content_section, end_section]\n",
    "    )"
   ]
  },
  {
   "cell_type": "code",
   "execution_count": null,
   "metadata": {},
   "outputs": [],
   "source": [
    "multi_section_text = [\n",
    "    'Text to be ignored',\n",
    "    'StartSection Name:A',\n",
    "    'A Content1:a',\n",
    "    'B Content1:b',\n",
    "    'C Content1:c',\n",
    "    'EndSection Name:A',\n",
    "    'StartSection Name:B',\n",
    "    'A Content2:a',\n",
    "    'B Content2:b',\n",
    "    'C Content2:c',\n",
    "    'EndSection Name:B'\n",
    "    'Even more text to be ignored',\n",
    "    ]\n",
    "\n",
    "test_iter = BufferedIterator(multi_section_text)\n"
   ]
  },
  {
   "cell_type": "code",
   "execution_count": null,
   "metadata": {},
   "outputs": [],
   "source": [
    "def set_context(item, context):\n",
    "    name = context.get('Current Section')\n",
    "    if name:                               \n",
    "        context[name] = item\n",
    "    else:\n",
    "        context['No section'] = item\n",
    "    return item\n",
    "\n",
    "\n",
    "def print_context(item, context):\n",
    "    pprint(context)\n",
    "    return item\n"
   ]
  },
  {
   "cell_type": "code",
   "execution_count": null,
   "metadata": {},
   "outputs": [],
   "source": [
    "name_section = Section(\n",
    "    name='Name',\n",
    "    end_section=SectionBreak(True, name='NameEnd'),\n",
    "    processor=set_context\n",
    "    )\n",
    "content_section = Section(\n",
    "    name='Content',\n",
    "    end_section=SectionBreak('EndSection', break_offset='Before', name='EndContent'),\n",
    "    processor=set_context\n",
    "    )\n",
    "end_section = Section(\n",
    "    name='End',\n",
    "    end_section=SectionBreak(True, name='EndEnd'),\n",
    "    processor=print_context\n",
    "    )\n"
   ]
  },
  {
   "cell_type": "code",
   "execution_count": null,
   "metadata": {},
   "outputs": [],
   "source": [
    "full_section = Section(\n",
    "    name='Full',\n",
    "    start_section=SectionBreak('StartSection', break_offset='Before'),\n",
    "    end_section=SectionBreak('EndSection', break_offset='After'),\n",
    "    processor=[name_section, content_section, end_section]\n",
    "    )"
   ]
  },
  {
   "cell_type": "code",
   "execution_count": null,
   "metadata": {},
   "outputs": [],
   "source": [
    "\n",
    "section_list = [name_section, content_section, end_section]\n",
    "\n",
    "test_context = {'dummy': 'Test'}\n",
    "\n",
    "all_sections = []\n",
    "while True:\n",
    "    section_group = {}\n",
    "    active_context = test_context\n",
    "    for sub_section in section_list:\n",
    "        sub_section_item = sub_section.read(test_iter, context = test_context)\n",
    "        section_group[sub_section.name] = sub_section_item\n",
    "        active_context = sub_section.context\n",
    "    if sub_section.scan_status in ['Scan Complete', 'End of Source']:\n",
    "        break\n",
    "    all_sections.append(section_group)\n",
    "    \n",
    "\n",
    "print('test_context:\\t', test_context,'\\n')\n",
    "print('all_sections')\n",
    "pprint(all_sections, indent=4)\n",
    "\n",
    "print('sub_section.context')\n",
    "pprint(sub_section.context, indent=4)"
   ]
  },
  {
   "cell_type": "code",
   "execution_count": 19,
   "metadata": {},
   "outputs": [
    {
     "name": "stdout",
     "output_type": "stream",
     "text": [
      "{'Content': ['A Content1:a'],\n",
      " 'End': ['EndSection Name:A'],\n",
      " 'Name': ['StartSection Name:A']}\n",
      "{'Content': ['A Content2:a'],\n",
      " 'End': ['EndSection Name:B'],\n",
      " 'Name': ['StartSection Name:B']}\n",
      "{'Current Section': 'End', 'Skipped Lines': [], 'Status': 'End of Source'}\n"
     ]
    }
   ],
   "source": [
    "test_iter = BufferedIterator(multi_section_text)\n",
    "\n",
    "section_list = [name_section, content_section, end_section]\n",
    "\n",
    "test_context = {'dummy': 'Test'}\n",
    "\n",
    "\n",
    "\n",
    "while True:\n",
    "    section_group = {}\n",
    "    for sub_section in section_list:\n",
    "        sub_section_item = sub_section.read(test_iter, context = test_context)\n",
    "        section_group[sub_section.name] = sub_section_item\n",
    "        #pprint(sub_section.context)\n",
    "        #print()\n",
    "    pprint(section_group)\n",
    "    if sub_section.scan_status in ['Scan Complete', 'End of Source']:\n",
    "        break\n",
    "pprint(sub_section.context)\n"
   ]
  },
  {
   "cell_type": "raw",
   "metadata": {},
   "source": [
    "multi_section_text = [\n",
    "    'Text to be ignored',\n",
    "    'StartSection Name:A',\n",
    "    'A Content1:a',\n",
    "    'B Content1:b',\n",
    "    'C Content1:c',\n",
    "    'EndSection Name:A',\n",
    "    'StartSection Name:B',\n",
    "    'A Content2:a',\n",
    "    'B Content2:b',\n",
    "    'C Content2:c',\n",
    "    'EndSection Name:B'\n",
    "    'Even more text to be ignored',\n",
    "    ]"
   ]
  },
  {
   "cell_type": "raw",
   "metadata": {},
   "source": [
    "# This isolates the subsection context from the section context to\n",
    "# protect the section context items that shouldn't be changed by the\n",
    "# subsection.\n",
    "s_context = context.copy()\n",
    "\n",
    "# section_iter is wrapped in a BufferedIterator here so that the\n",
    "# subsection will return the appropriate indexing.\n",
    "buf_source = BufferedIterator(source)\n",
    "buf_source.link(self.source)"
   ]
  },
  {
   "attachments": {},
   "cell_type": "markdown",
   "metadata": {},
   "source": [
    "## set_subsection_reader\n",
    "``\n",
    "\n",
    "Converts section instances to functions that call the section reader.\n",
    "\n",
    "Args:<br>\n",
    "> **processing_def (ProcessMethodDef):** A processing method.\n",
    "\n",
    "Raises:<br>\n",
    ">  **ValueError:** For processing instruction items which are lists where\n",
    "        the list items are not all Section instances.\n",
    "\n",
    "Returns:<br>\n",
    ">  **ProcessMethodDef:** If processing_def is a section object, or a list\n",
    "    of section objects, return a partial function that calls the\n",
    "    section(s) read_subsections method.\n",
    "    Otherwise returns processing_def."
   ]
  },
  {
   "cell_type": "raw",
   "metadata": {},
   "source": [
    "def true_iterable(variable)-> bool:\n",
    "    '''Indicate if the variable is a non-string type iterable.\n",
    "    Arguments:\n",
    "        variable {Iterable[Any]} -- The variable to test.\n",
    "    Returns:\n",
    "        True if variable is a non-string iterable.\n",
    "    '''\n",
    "    return not isinstance(variable, str) and isinstance(variable, Iterable)  # pylint: disable=isinstance-second-argument-not-valid-type\n"
   ]
  },
  {
   "cell_type": "raw",
   "metadata": {},
   "source": [
    "def is_sections(func_list):\n",
    "    # Tests whether methods in a list are Section objects.\n",
    "    is_sec = [isinstance(sub_rdr, self.__class__)\n",
    "                for sub_rdr in func_list]\n",
    "    return is_sec\n"
   ]
  },
  {
   "cell_type": "raw",
   "metadata": {},
   "source": [
    "def is_all_sections(func):\n",
    "    sec_check = all(\n",
    "        isinstance(sub_rdr, self.__class__)\n",
    "        for sub_rdr in func\n",
    "        )\n",
    "    return sec_check\n"
   ]
  },
  {
   "cell_type": "raw",
   "metadata": {},
   "source": [
    "def section_naming(func):\n",
    "    # Give subsections unique names so that the dictionary of section\n",
    "    # reads won't loose anything.\n",
    "    section_names = [sub_rdr.name for sub_rdr in func]\n",
    "    unique_names = set(section_names)\n",
    "    if len(unique_names) < len(section_names):\n",
    "        renamed = list()\n",
    "        for idx, sub_rdr in enumerate(func):\n",
    "            name = sub_rdr.name\n",
    "            new_name = name + str(idx)\n",
    "            sub_rdr.name = new_name\n",
    "            renamed.append(sub_rdr)\n",
    "    else:\n",
    "        renamed = func\n",
    "    return renamed\n"
   ]
  },
  {
   "cell_type": "raw",
   "metadata": {},
   "source": [
    "def set_subsection_reader(self, processing_def):\n",
    "    # Look for individual subsections\n",
    "    if isinstance(processing_def, (self.__class__)):\n",
    "        read_func = partial(Section.read_subsections, self,\n",
    "                            subsections=[processing_def])\n",
    "        return read_func\n",
    "    # Look for subsection groups\n",
    "    if true_iterable(processing_def):\n",
    "        # Lists inside the list of processing methods should be a list of\n",
    "        # sections.  Check if all item is the list are type Section.\n",
    "        sec_check = is_sections(processing_def)\n",
    "        if all(sec_check):\n",
    "            cln_func = section_naming(processing_def)\n",
    "            read_func = partial(Section.read_subsections, self,\n",
    "                                subsections=cln_func)\n",
    "            return read_func\n",
    "        elif any(sec_check):\n",
    "            msg = ' '.join(['If an individual processing function is a '\n",
    "                            'list all items in the list must be of type '\n",
    "                            'Section.'])\n",
    "            raise ValueError(msg)\n",
    "        else:\n",
    "            return processing_def\n",
    "    return processing_def\n"
   ]
  },
  {
   "cell_type": "raw",
   "metadata": {},
   "source": [
    "def read_subsections(self, source: SectionGen, context: ContextType,\n",
    "                         subsections: List[Section])->ProcessOutput:\n",
    "        '''Read a single or group of subsections.\n",
    "\n",
    "        This method is used for section instances supplied as processor items to\n",
    "        this section definition. It calls the Section.read method on each\n",
    "        subsection.  It isolates this section's source and context from the\n",
    "        subsection so that the section iterator's next() is only called when\n",
    "        necessary and so the subsection's status does not mix with this\n",
    "        section's status.\n",
    "\n",
    "        This section's context attribute is updated after all subsections have\n",
    "        been read and if necessary, this section's source pointer is adjusted\n",
    "        so that any \"Future Items\" are not missed.\n",
    "\n",
    "        Arguments:\n",
    "            source (SectionGen): This section's processor iterator.\n",
    "            context (ContextType): This section's context.\n",
    "            subsections (List[Section]): The subsections to be read.\n",
    "\n",
    "        Yields:\n",
    "            ProcessOutput:\n",
    "                If subsections is a Section instance:\n",
    "                    The assemble result from calling subsections.read()\n",
    "                If subsections is a list of Section instances:\n",
    "                    A dictionary where the keys are the subsection names and the\n",
    "                    values are the results from calling subsection.read().\n",
    "        '''\n",
    "        def read_section(subsections, buf_source, s_context):\n",
    "            done_read = False\n",
    "            subsection = subsections[0]\n",
    "            read_itm = subsection.read(buf_source, context=s_context,\n",
    "                                       start_search=True)\n",
    "            s_context.update(subsection.context)\n",
    "            if subsection.scan_status in ['End of Source']:\n",
    "                done_read = True  # Break if end of source reached\n",
    "            return read_itm, s_context, done_read\n",
    "\n",
    "        def read_group(subsections, buf_source, s_context):\n",
    "            read_items = dict()\n",
    "            done_read = False\n",
    "            for sub_sec in subsections:\n",
    "                read_itm = sub_sec.read(buf_source, context=s_context,\n",
    "                                                start_search=True)\n",
    "                s_context.update(sub_sec.context)\n",
    "                if sub_sec.scan_status in ['End of Source']:\n",
    "                    done_read = True  # Break if end of source reached\n",
    "                    if not is_empty(read_itm):  # Don't return empty read results.\n",
    "                        read_items[sub_sec.name] = read_itm\n",
    "                        break\n",
    "                else:\n",
    "                    # Always store read result is subsection did not close\n",
    "                    read_items[sub_sec.name] = read_itm\n",
    "            return read_items, s_context, done_read\n",
    "\n",
    "        # Prepare for Subsection Read\n",
    "        # Test for end of source\n",
    "        if self.scan_status in ['Scan Complete', 'End of Source']:\n",
    "            return  # Break if end of source reached\n",
    "        done_read = False\n",
    "\n",
    "        # This isolates the subsection context from the section context to\n",
    "        # protect the section context items that shouldn't be changed by the\n",
    "        # subsection.\n",
    "        s_context = context.copy()\n",
    "\n",
    "        # section_iter is wrapped in a BufferedIterator here so that the\n",
    "        # subsection will return the appropriate indexing.\n",
    "        buf_source = BufferedIterator(source)\n",
    "        buf_source.link(self.source)\n",
    "\n",
    "        # Select single subsection or subsection group\n",
    "        if len(subsections) == 1:\n",
    "            # Reading single subsection\n",
    "            logger.debug(f'Process single sub-section '\n",
    "                         f'{subsections[0].name} in: '\n",
    "                         f'{self.name}')\n",
    "            sub_reader = read_section\n",
    "        else:\n",
    "            sub_reader = read_group\n",
    "\n",
    "        # Subsection Reading\n",
    "        while not done_read:\n",
    "            read_items, s_context, done_read = sub_reader(subsections,\n",
    "                                                          buf_source, s_context)\n",
    "            if read_items:  # Don't return empty read results.\n",
    "                yield read_items\n",
    "\n",
    "        # Wrap up after subsection(s) read\n",
    "        # This updates the relevant items in the section context\n",
    "        self.context.update(s_context)\n",
    "\n",
    "        # re-align section source with subsection source\n",
    "        source_pointer = buf_source.item_count\n",
    "        logger.debug(f'Moving section source to item #{source_pointer}')\n",
    "        self.source.goto_item(source_pointer, buffer_overrun=True)"
   ]
  },
  {
   "cell_type": "raw",
   "metadata": {},
   "source": [
    "# replace Section objects with\n",
    "cleaned_processing_def = list()\n",
    "for func in processing_def:\n",
    "    clean_func = self.set_subsection_reader(func)\n",
    "    cleaned_processing_def.append(clean_func)"
   ]
  },
  {
   "cell_type": "raw",
   "metadata": {},
   "source": [
    "\n",
    "all_sections = Section(name='AllSections')\n",
    "all_sections.read(test_text)\n",
    "\n",
    "single_section = Section(\n",
    "    name='SubSection',\n",
    "    start_section=SectionBreak('StartSection', break_offset='Before'),\n",
    "    end_section=SectionBreak('EndSection', break_offset='After')\n",
    "    )\n",
    "single_section.read(test_text)"
   ]
  },
  {
   "cell_type": "raw",
   "metadata": {},
   "source": [
    "test_text = [\n",
    "            'Text to be ignored',\n",
    "            'StartSection A',\n",
    "            'MiddleSection A',\n",
    "            'EndSection A',\n",
    "            'Unwanted text between sections',\n",
    "            'StartSection B',\n",
    "            'MiddleSection B',\n",
    "            'EndSection B',\n",
    "            'StartSection C',\n",
    "            'MiddleSection C',\n",
    "            'EndSection C',\n",
    "            'Even more text to be ignored',\n",
    "            ]\n",
    "\n",
    "\n",
    "test_iter = BufferedIterator(test_text)\n",
    "\n",
    "single_section = Section(\n",
    "    name='SubSection',\n",
    "    start_section=SectionBreak('StartSection', break_offset='Before'),\n",
    "    end_section=SectionBreak('EndSection', break_offset='After')\n",
    "    )\n",
    "\n",
    "while True:\n",
    "    if single_section.scan_status in ['Scan Complete', 'End of Source']:\n",
    "        break\n",
    "    print(single_section.read(test_iter))\n",
    "    pprint(single_section.context)\n"
   ]
  }
 ],
 "metadata": {
  "kernelspec": {
   "display_name": "sectionaryDev",
   "language": "python",
   "name": "python3"
  },
  "language_info": {
   "codemirror_mode": {
    "name": "ipython",
    "version": 3
   },
   "file_extension": ".py",
   "mimetype": "text/x-python",
   "name": "python",
   "nbconvert_exporter": "python",
   "pygments_lexer": "ipython3",
   "version": "3.8.15"
  },
  "orig_nbformat": 4,
  "vscode": {
   "interpreter": {
    "hash": "890849be4bb9b5be1d044afe42e602ccc6ca20da23c054ee97c8186ec3939c45"
   }
  }
 },
 "nbformat": 4,
 "nbformat_minor": 2
}
