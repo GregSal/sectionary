{
 "cells": [
  {
   "attachments": {},
   "cell_type": "markdown",
   "metadata": {},
   "source": [
    "# Context updating\n",
    "Test external context updating"
   ]
  },
  {
   "attachments": {},
   "cell_type": "markdown",
   "metadata": {},
   "source": [
    "## Setup"
   ]
  },
  {
   "attachments": {},
   "cell_type": "markdown",
   "metadata": {},
   "source": [
    "### Imports"
   ]
  },
  {
   "cell_type": "code",
   "execution_count": 1,
   "metadata": {},
   "outputs": [],
   "source": [
    "from typing import Any\n",
    "\n",
    "from pprint import pprint\n",
    "from sections import Section\n",
    "from sections import SectionBreak\n",
    "from buffered_iterator import BufferedIterator\n",
    "from sections import set_method\n",
    "from sections import ProcessingMethods"
   ]
  },
  {
   "attachments": {},
   "cell_type": "markdown",
   "metadata": {},
   "source": [
    "### Test Text"
   ]
  },
  {
   "cell_type": "code",
   "execution_count": 2,
   "metadata": {},
   "outputs": [],
   "source": [
    "test_text = [\n",
    "            'Text to be ignored',\n",
    "            'StartSection A',\n",
    "            'MiddleSection A',\n",
    "            'EndSection A',\n",
    "            'Unwanted text between sections',\n",
    "            'StartSection B',\n",
    "            'MiddleSection B',\n",
    "            'EndSection B',\n",
    "            'StartSection C',\n",
    "            'MiddleSection C',\n",
    "            'EndSection C',\n",
    "            'Even more text to be ignored',\n",
    "            ]\n",
    "\n",
    "multi_section_text = [\n",
    "    'StartSection Name:A',\n",
    "    'A Content1:a',\n",
    "    'EndSection Name:A',\n",
    "    'StartSection Name:B',\n",
    "    'A Content2:a',\n",
    "    'EndSection Name:B'\n",
    "    ]"
   ]
  },
  {
   "attachments": {},
   "cell_type": "markdown",
   "metadata": {},
   "source": [
    "### Context update in function\n",
    "![Good](../examples\\Valid.png)test_context is being updated"
   ]
  },
  {
   "cell_type": "code",
   "execution_count": 3,
   "metadata": {},
   "outputs": [
    {
     "data": {
      "text/plain": [
       "{'dummy': 'Test', 'This Item': 'A'}"
      ]
     },
     "execution_count": 3,
     "metadata": {},
     "output_type": "execute_result"
    }
   ],
   "source": [
    "def set_context(item, context):\n",
    "    context['This Item'] = item\n",
    "    return item\n",
    "\n",
    "\n",
    "test_context = {'dummy': 'Test'}\n",
    "\n",
    "set_context('A', test_context)\n",
    "\n",
    "test_context"
   ]
  },
  {
   "attachments": {},
   "cell_type": "markdown",
   "metadata": {},
   "source": [
    "### Context update in *set_method* function\n",
    "![Good](../examples\\Valid.png)\n",
    "test_context is being updated"
   ]
  },
  {
   "cell_type": "code",
   "execution_count": 4,
   "metadata": {},
   "outputs": [
    {
     "data": {
      "text/plain": [
       "{'dummy': 'Test', 'This Item': 'A'}"
      ]
     },
     "execution_count": 4,
     "metadata": {},
     "output_type": "execute_result"
    }
   ],
   "source": [
    "def set_context(item, context):\n",
    "    context['This Item'] = item\n",
    "    return item\n",
    "\n",
    "\n",
    "use_function = set_method(set_context, method_type='Process')\n",
    "\n",
    "test_context = {'dummy': 'Test'}\n",
    "\n",
    "use_function('A', test_context)\n",
    "\n",
    "test_context"
   ]
  },
  {
   "attachments": {},
   "cell_type": "markdown",
   "metadata": {},
   "source": [
    "### Context update in ProcessingMethods\n",
    "![Good](../examples\\Valid.png)\n",
    "test_context is being updated"
   ]
  },
  {
   "cell_type": "code",
   "execution_count": 5,
   "metadata": {},
   "outputs": [
    {
     "name": "stdout",
     "output_type": "stream",
     "text": [
      "['StartSection Name:A',\n",
      " 'A Content1:a',\n",
      " 'EndSection Name:A',\n",
      " 'StartSection Name:B',\n",
      " 'A Content2:a',\n",
      " 'EndSection Name:B']\n"
     ]
    },
    {
     "data": {
      "text/plain": [
       "{'dummy': 'Test', 'This Item': 'EndSection Name:B'}"
      ]
     },
     "execution_count": 5,
     "metadata": {},
     "output_type": "execute_result"
    }
   ],
   "source": [
    "def set_context(item, context):\n",
    "    context['This Item'] = item\n",
    "    return item\n",
    "\n",
    "multi_section_text = [\n",
    "    'StartSection Name:A',\n",
    "    'A Content1:a',\n",
    "    'EndSection Name:A',\n",
    "    'StartSection Name:B',\n",
    "    'A Content2:a',\n",
    "    'EndSection Name:B'\n",
    "    ]\n",
    "\n",
    "test_iter = BufferedIterator(multi_section_text)\n",
    "test_context = {'dummy': 'Test'}\n",
    "\n",
    "processor = ProcessingMethods([set_context])\n",
    "\n",
    "pprint(processor.read(test_iter, test_context))\n",
    "\n",
    "test_context"
   ]
  },
  {
   "attachments": {},
   "cell_type": "markdown",
   "metadata": {},
   "source": [
    "### Context update with *section.processor.reader*\n",
    "![Good](../examples\\Valid.png)\n",
    "test_context is being updated"
   ]
  },
  {
   "cell_type": "code",
   "execution_count": 6,
   "metadata": {},
   "outputs": [
    {
     "name": "stdout",
     "output_type": "stream",
     "text": [
      "['StartSection Name:A',\n",
      " 'A Content1:a',\n",
      " 'EndSection Name:A',\n",
      " 'StartSection Name:B',\n",
      " 'A Content2:a',\n",
      " 'EndSection Name:B']\n",
      "test_context {'dummy': 'Test', 'This Item': 'EndSection Name:B'}\n"
     ]
    }
   ],
   "source": [
    "def set_context(item, context):\n",
    "    context['This Item'] = item\n",
    "    return item\n",
    "\n",
    "multi_section_text = [\n",
    "    'StartSection Name:A',\n",
    "    'A Content1:a',\n",
    "    'EndSection Name:A',\n",
    "    'StartSection Name:B',\n",
    "    'A Content2:a',\n",
    "    'EndSection Name:B'\n",
    "    ]\n",
    "\n",
    "test_iter = BufferedIterator(multi_section_text)\n",
    "test_context = {'dummy': 'Test'}\n",
    "\n",
    "content_section = Section(\n",
    "    name='Content',\n",
    "    end_section=SectionBreak('EndSection', break_offset='Before', name='EndContent'),\n",
    "    processor=set_context\n",
    "    )\n",
    "\n",
    "section_proc = content_section.processor.reader(test_iter, context = test_context)\n",
    "\n",
    "pprint([i for i in section_proc])\n",
    "\n",
    "print('test_context', test_context)\n"
   ]
  },
  {
   "attachments": {},
   "cell_type": "markdown",
   "metadata": {},
   "source": [
    "### Context update with *section.scan* and *section.processor.reader*\n",
    "![Good](../examples\\Valid.png)\n",
    "test_context is being updated"
   ]
  },
  {
   "cell_type": "code",
   "execution_count": 7,
   "metadata": {},
   "outputs": [
    {
     "name": "stdout",
     "output_type": "stream",
     "text": [
      "['StartSection Name:A', 'A Content1:a']\n"
     ]
    },
    {
     "data": {
      "text/plain": [
       "{'dummy': 'Test',\n",
       " 'This Item': 'A Content1:a',\n",
       " 'Current Section': 'Content',\n",
       " 'Status': 'Break Triggered',\n",
       " 'Skipped Lines': [],\n",
       " 'Event': 'EndSection',\n",
       " 'Break': 'EndContent'}"
      ]
     },
     "execution_count": 7,
     "metadata": {},
     "output_type": "execute_result"
    }
   ],
   "source": [
    "def set_context(item, context):\n",
    "    context['This Item'] = item\n",
    "    return item\n",
    "\n",
    "multi_section_text = [\n",
    "    'StartSection Name:A',\n",
    "    'A Content1:a',\n",
    "    'EndSection Name:A',\n",
    "    'StartSection Name:B',\n",
    "    'A Content2:a',\n",
    "    'EndSection Name:B'\n",
    "    ]\n",
    "\n",
    "test_iter = BufferedIterator(multi_section_text)\n",
    "test_context = {'dummy': 'Test'}\n",
    "\n",
    "\n",
    "content_section = Section(\n",
    "    name='Content',\n",
    "    end_section=SectionBreak('EndSection', break_offset='Before', name='EndContent'),\n",
    "    processor=set_context\n",
    "    )\n",
    "\n",
    "\n",
    "section_iter = content_section.scan(test_iter, context = test_context)\n",
    "read_iter = content_section.processor.reader(section_iter, context = test_context)\n",
    "\n",
    "pprint([i for i in read_iter])\n",
    "\n",
    "test_context"
   ]
  },
  {
   "attachments": {},
   "cell_type": "markdown",
   "metadata": {},
   "source": [
    "### Context update with *ProcessingMethods* using two functions\n",
    "![Good](../examples\\Valid.png)\n",
    "`test_context` is being propagated even when the second processing function \n",
    "doesn't take context."
   ]
  },
  {
   "cell_type": "code",
   "execution_count": 8,
   "metadata": {},
   "outputs": [
    {
     "name": "stdout",
     "output_type": "stream",
     "text": [
      "['StartSection Name:A',\n",
      " 'A Content1:a',\n",
      " 'EndSection Name:A',\n",
      " 'StartSection Name:B',\n",
      " 'A Content2:a',\n",
      " 'EndSection Name:B']\n"
     ]
    },
    {
     "data": {
      "text/plain": [
       "{'dummy': 'Test', 'This Item': 'EndSection Name:B'}"
      ]
     },
     "execution_count": 8,
     "metadata": {},
     "output_type": "execute_result"
    }
   ],
   "source": [
    "def set_context(item, context):\n",
    "    context['This Item'] = item\n",
    "    return item\n",
    "\n",
    "def do_nothing(item):\n",
    "    return item\n",
    "\n",
    "multi_section_text = [\n",
    "    'StartSection Name:A',\n",
    "    'A Content1:a',\n",
    "    'EndSection Name:A',\n",
    "    'StartSection Name:B',\n",
    "    'A Content2:a',\n",
    "    'EndSection Name:B'\n",
    "    ]\n",
    "\n",
    "test_iter = BufferedIterator(multi_section_text)\n",
    "test_context = {'dummy': 'Test'}\n",
    "\n",
    "processor = ProcessingMethods([set_context, do_nothing])\n",
    "\n",
    "pprint(processor.read(test_iter, test_context))\n",
    "\n",
    "test_context"
   ]
  },
  {
   "attachments": {},
   "cell_type": "markdown",
   "metadata": {},
   "source": [
    "### Context update with *section.scan*, *section.processor.reader* and *list()*\n",
    "![Good](../examples\\Valid.png)\n",
    "`test_context` is being updated when the list() function is called"
   ]
  },
  {
   "cell_type": "code",
   "execution_count": 9,
   "metadata": {},
   "outputs": [
    {
     "data": {
      "text/plain": [
       "{'dummy': 'Test',\n",
       " 'This Item': 'A Content1:a',\n",
       " 'Current Section': 'Content',\n",
       " 'Status': 'Break Triggered',\n",
       " 'Skipped Lines': [],\n",
       " 'Event': 'EndSection',\n",
       " 'Break': 'EndContent'}"
      ]
     },
     "execution_count": 9,
     "metadata": {},
     "output_type": "execute_result"
    }
   ],
   "source": [
    "def set_context(item, context):\n",
    "    context['This Item'] = item\n",
    "    return item\n",
    "\n",
    "multi_section_text = [\n",
    "    'StartSection Name:A',\n",
    "    'A Content1:a',\n",
    "    'EndSection Name:A',\n",
    "    'StartSection Name:B',\n",
    "    'A Content2:a',\n",
    "    'EndSection Name:B'\n",
    "    ]\n",
    "\n",
    "test_iter = BufferedIterator(multi_section_text)\n",
    "test_context = {'dummy': 'Test'}\n",
    "\n",
    "\n",
    "content_section = Section(\n",
    "    name='Content',\n",
    "    end_section=SectionBreak('EndSection', break_offset='Before', name='EndContent'),\n",
    "    processor=set_context\n",
    "    )\n",
    "\n",
    "\n",
    "section_iter = content_section.scan(test_iter, context = test_context)\n",
    "read_iter = content_section.processor.reader(section_iter, context = test_context)\n",
    "\n",
    "#pprint([i for i in read_iter])\n",
    "list(read_iter)\n",
    "\n",
    "test_context"
   ]
  },
  {
   "attachments": {},
   "cell_type": "markdown",
   "metadata": {},
   "source": [
    " ### Context update with *section.scan*, *section.processor.reader* and *section.assemble*\n",
    "![Good](../examples\\Valid.png)\n",
    "test_context is being updated when the section.assemble() function is called"
   ]
  },
  {
   "cell_type": "code",
   "execution_count": 10,
   "metadata": {},
   "outputs": [
    {
     "name": "stdout",
     "output_type": "stream",
     "text": [
      "['StartSection Name:A', 'A Content1:a']\n",
      "test_context {'dummy': 'Test', 'This Item': 'A Content1:a', 'Current Section': 'Content', 'Status': 'Break Triggered', 'Skipped Lines': [], 'Event': 'EndSection', 'Break': 'EndContent'}\n"
     ]
    }
   ],
   "source": [
    "def set_context(item, context):\n",
    "    context['This Item'] = item\n",
    "    return item\n",
    "\n",
    "multi_section_text = [\n",
    "    'StartSection Name:A',\n",
    "    'A Content1:a',\n",
    "    'EndSection Name:A',\n",
    "    'StartSection Name:B',\n",
    "    'A Content2:a',\n",
    "    'EndSection Name:B'\n",
    "    ]\n",
    "\n",
    "test_iter = BufferedIterator(multi_section_text)\n",
    "test_context = {'dummy': 'Test'}\n",
    "\n",
    "\n",
    "content_section = Section(\n",
    "    name='Content',\n",
    "    end_section=SectionBreak('EndSection', break_offset='Before', name='EndContent'),\n",
    "    processor=set_context\n",
    "    )\n",
    "\n",
    "\n",
    "section_iter = content_section.scan(test_iter, context = test_context)\n",
    "read_iter = content_section.processor.reader(section_iter, context = test_context)\n",
    "\n",
    "section_assembled = content_section.assemble(read_iter, context=test_context)\n",
    "\n",
    "pprint(section_assembled)\n",
    "print('test_context', test_context)\n"
   ]
  },
  {
   "attachments": {},
   "cell_type": "markdown",
   "metadata": {},
   "source": [
    " ### Context update with *section.read*\n",
    "![Good](../examples\\Valid.png)\n",
    "When the section.read() function is called\n",
    "- test_context is not being updated \n",
    "- content_section.context is being updated "
   ]
  },
  {
   "cell_type": "code",
   "execution_count": 11,
   "metadata": {},
   "outputs": [
    {
     "name": "stdout",
     "output_type": "stream",
     "text": [
      "['StartSection Name:A', 'A Content1:a'] \n",
      "\n",
      "test_context {'dummy': 'Test', 'Current Section': 'Content', 'Status': 'Break Triggered', 'Skipped Lines': [], 'Event': 'EndSection', 'Break': 'EndContent', 'This Item': 'A Content1:a'} \n",
      "\n",
      "content_section.context\n",
      "{   'Break': 'EndContent',\n",
      "    'Current Section': 'Content',\n",
      "    'Event': 'EndSection',\n",
      "    'Skipped Lines': [],\n",
      "    'Status': 'Break Triggered',\n",
      "    'This Item': 'A Content1:a',\n",
      "    'dummy': 'Test'}\n"
     ]
    }
   ],
   "source": [
    "def set_context(item, context):\n",
    "    context['This Item'] = item\n",
    "    return item\n",
    "\n",
    "multi_section_text = [\n",
    "    'StartSection Name:A',\n",
    "    'A Content1:a',\n",
    "    'EndSection Name:A',\n",
    "    'StartSection Name:B',\n",
    "    'A Content2:a',\n",
    "    'EndSection Name:B'\n",
    "    ]\n",
    "\n",
    "test_iter = BufferedIterator(multi_section_text)\n",
    "test_context = {'dummy': 'Test'}\n",
    "\n",
    "\n",
    "content_section = Section(\n",
    "    name='Content',\n",
    "    end_section=SectionBreak('EndSection', break_offset='Before', name='EndContent'),\n",
    "    processor=set_context\n",
    "    )\n",
    "\n",
    "\n",
    "assembled_section = content_section.read(test_iter, context = test_context)\n",
    "\n",
    "print(assembled_section,'\\n')\n",
    "print('test_context', test_context,'\\n')\n",
    "print('content_section.context')\n",
    "pprint(content_section.context, indent=4)"
   ]
  },
  {
   "attachments": {},
   "cell_type": "markdown",
   "metadata": {},
   "source": [
    "### Processing function that reads from context\n",
    "![Good](../examples\\Valid.png)\n",
    "Processing function takes 'Current Section' from context and uses it to create new context item."
   ]
  },
  {
   "cell_type": "code",
   "execution_count": 12,
   "metadata": {},
   "outputs": [
    {
     "name": "stdout",
     "output_type": "stream",
     "text": [
      "['StartSection A', 'MiddleSection A', 'EndSection A']\n",
      "['StartSection B', 'MiddleSection B', 'EndSection B']\n",
      "['StartSection C', 'MiddleSection C', 'EndSection C']\n",
      "[]\n",
      "single_section.context\n",
      "{   '3-part Section': 'EndSection C',\n",
      "    'Current Section': '3-part Section',\n",
      "    'Skipped Lines': ['Even more text to be ignored'],\n",
      "    'Status': 'End of Source'}\n"
     ]
    }
   ],
   "source": [
    "def set_context(item, context):\n",
    "    name = context.get('Current Section')\n",
    "    if name:                               \n",
    "        context[name] = item\n",
    "    else:\n",
    "        context['No section'] = item\n",
    "    return item\n",
    "\n",
    "\n",
    "def print_context(item, context):\n",
    "    pprint(context)\n",
    "    return item\n",
    "\n",
    "test_text = [\n",
    "            'Text to be ignored',\n",
    "            'StartSection A',\n",
    "            'MiddleSection A',\n",
    "            'EndSection A',\n",
    "            'Unwanted text between sections',\n",
    "            'StartSection B',\n",
    "            'MiddleSection B',\n",
    "            'EndSection B',\n",
    "            'StartSection C',\n",
    "            'MiddleSection C',\n",
    "            'EndSection C',\n",
    "            'Even more text to be ignored',\n",
    "            ]\n",
    "\n",
    "\n",
    "test_iter = BufferedIterator(test_text)\n",
    "\n",
    "single_section = Section(\n",
    "    name='3-part Section',\n",
    "    start_section=SectionBreak('StartSection', break_offset='Before'),\n",
    "    end_section=SectionBreak('EndSection', break_offset='After'),\n",
    "    processor=set_context\n",
    "    )\n",
    "\n",
    "while True:\n",
    "    if single_section.scan_status in ['Scan Complete', 'End of Source']:\n",
    "        break\n",
    "    assembled_section = single_section.read(test_iter)\n",
    "    print(assembled_section )\n",
    "\n",
    "print('single_section.context')\n",
    "pprint(single_section.context, indent=4)\n",
    "\n"
   ]
  },
  {
   "attachments": {},
   "cell_type": "markdown",
   "metadata": {},
   "source": [
    "### No context supplied\n",
    " ![Good](../examples\\Valid.png)\n",
    "When the section.read() function is called\n",
    "- test_context is not being updated \n",
    "- content_section.context is being updated "
   ]
  },
  {
   "cell_type": "code",
   "execution_count": 13,
   "metadata": {},
   "outputs": [
    {
     "name": "stdout",
     "output_type": "stream",
     "text": [
      "['StartSection Name:A', 'A Content1:a'] \n",
      "\n",
      "test_context:\t None \n",
      "\n",
      "{'Break': 'EndContent',\n",
      " 'Current Section': 'Content',\n",
      " 'Event': 'EndSection',\n",
      " 'Skipped Lines': [],\n",
      " 'Status': 'Break Triggered',\n",
      " 'This Item': 'A Content1:a'}\n"
     ]
    }
   ],
   "source": [
    "def set_context(item, context):\n",
    "    context['This Item'] = item\n",
    "    return item\n",
    "\n",
    "multi_section_text = [\n",
    "    'StartSection Name:A',\n",
    "    'A Content1:a',\n",
    "    'EndSection Name:A',\n",
    "    'StartSection Name:B',\n",
    "    'A Content2:a',\n",
    "    'EndSection Name:B'\n",
    "    ]\n",
    "\n",
    "test_iter = BufferedIterator(multi_section_text)\n",
    "test_context = None\n",
    "\n",
    "content_section = Section(\n",
    "    name='Content',\n",
    "    end_section=SectionBreak('EndSection', break_offset='Before', name='EndContent'),\n",
    "    processor=set_context\n",
    "    )\n",
    "\n",
    "\n",
    "assembled_section = content_section.read(test_iter)\n",
    "\n",
    "print(assembled_section,'\\n')\n",
    "print('test_context:\\t', test_context,'\\n')\n",
    "pprint(content_section.context)"
   ]
  }
 ],
 "metadata": {
  "kernelspec": {
   "display_name": "sectionaryDev",
   "language": "python",
   "name": "python3"
  },
  "language_info": {
   "codemirror_mode": {
    "name": "ipython",
    "version": 3
   },
   "file_extension": ".py",
   "mimetype": "text/x-python",
   "name": "python",
   "nbconvert_exporter": "python",
   "pygments_lexer": "ipython3",
   "version": "3.8.15 (default, Nov 24 2022, 14:38:14) [MSC v.1916 64 bit (AMD64)]"
  },
  "orig_nbformat": 4,
  "vscode": {
   "interpreter": {
    "hash": "890849be4bb9b5be1d044afe42e602ccc6ca20da23c054ee97c8186ec3939c45"
   }
  }
 },
 "nbformat": 4,
 "nbformat_minor": 2
}
