{
 "cells": [
  {
   "cell_type": "markdown",
   "metadata": {},
   "source": [
    "# Subsections Issue"
   ]
  },
  {
   "cell_type": "markdown",
   "metadata": {},
   "source": [
    "## Setup"
   ]
  },
  {
   "cell_type": "markdown",
   "metadata": {},
   "source": [
    "### Imports"
   ]
  },
  {
   "cell_type": "code",
   "execution_count": 1,
   "metadata": {},
   "outputs": [],
   "source": [
    "from typing import List\n",
    "from pathlib import Path\n",
    "from pprint import pprint\n",
    "import re\n",
    "import sys\n",
    "\n",
    "import pandas as pd\n",
    "import xlwings as xw\n",
    "\n",
    "import text_reader as tp\n",
    "from sections import Rule, RuleSet, SectionBreak, ProcessingMethods, Section"
   ]
  },
  {
   "cell_type": "markdown",
   "metadata": {},
   "source": [
    "### Logging"
   ]
  },
  {
   "cell_type": "raw",
   "metadata": {},
   "source": [
    "import logging\n",
    "logging.basicConfig(format='%(name)-20s - %(levelname)s: %(message)s')\n",
    "logging.basicConfig(level=logging.DEBUG)\n",
    "logger = logging.getLogger('Text Processing')\n",
    "logger.setLevel(logging.DEBUG)"
   ]
  },
  {
   "cell_type": "markdown",
   "metadata": {},
   "source": [
    "## DIR Listing Example"
   ]
  },
  {
   "cell_type": "markdown",
   "metadata": {},
   "source": [
    "### Source Data"
   ]
  },
  {
   "cell_type": "code",
   "execution_count": 2,
   "metadata": {},
   "outputs": [],
   "source": [
    "raw_dir_text = '''\n",
    " Volume in drive C is Windows\n",
    " Volume Serial Number is DAE7-D5BA\n",
    "\n",
    " Directory of c:\\\\users\\\\...\\\\Test Dir Structure\n",
    "\n",
    "2021-12-27  03:33 PM    <DIR>          .\n",
    "2021-12-27  03:33 PM    <DIR>          ..\n",
    "2021-12-27  04:03 PM    <DIR>          Dir1\n",
    "2021-12-27  05:27 PM    <DIR>          Dir2\n",
    "2016-02-25  09:59 PM                 3 TestFile1.txt\n",
    "2016-02-15  06:46 PM                 7 TestFile2.rtf\n",
    "2016-02-15  06:47 PM                 0 TestFile3.docx\n",
    "2016-04-21  01:06 PM              3491 xcopy.txt\n",
    "               4 File(s)           3501 bytes\n",
    "\n",
    " Directory of c:\\\\users\\\\...\\\\Test Dir Structure\\Dir1\n",
    "\n",
    "2021-12-27  04:03 PM    <DIR>          .\n",
    "2021-12-27  04:03 PM    <DIR>          ..\n",
    "2016-02-15  06:48 PM                 0 File in Dir One.txt\n",
    "2021-12-27  03:45 PM    <DIR>          SubFolder1\n",
    "2021-12-27  03:45 PM    <DIR>          SubFolder2\n",
    "               1 File(s)              0 bytes\n",
    "'''\n",
    "dir_text = raw_dir_text.splitlines()"
   ]
  },
  {
   "cell_type": "markdown",
   "metadata": {},
   "source": [
    "### DIR line processing functions"
   ]
  },
  {
   "cell_type": "code",
   "execution_count": 3,
   "metadata": {},
   "outputs": [],
   "source": [
    "def dir_name_split(dir_line: str) -> str:\n",
    "    '''Extract the folder name from the full path.\n",
    "\n",
    "    Args:\n",
    "        dir_line (str): The directory path line from a DIR folder listing.\n",
    "\n",
    "    Returns (str): A tab delimited line with 'Folder Name:' before the tab and\n",
    "        the folder name after the tab.\n",
    "    '''\n",
    "    output_line = 'Folder Name:\\t' + dir_line.rsplit('\\\\', 1)[1]\n",
    "    return output_line\n",
    "\n",
    "\n",
    "def file_count_split(dir_line: str) -> str:\n",
    "    '''Extract the number of files from the \"File(s)\" DIR line.\n",
    "\n",
    "    Args:\n",
    "        dir_line (str): The \"File(s)\" line from a DIR folder listing.\n",
    "\n",
    "    Returns (str): A tab delimited line with 'Number of Files:' before the tab\n",
    "        and the extracted number of files after the tab.\n",
    "    '''\n",
    "    output_line = 'Number of Files:\\t' + dir_line.strip().split(' ', 1)[0]\n",
    "    return output_line\n",
    "\n",
    "\n",
    "def get_file_name(dir_line: str) -> str:\n",
    "    '''Extract the name of the file or subdirectory from a DIR line.\n",
    "\n",
    "    Args:\n",
    "        dir_line (str): A main listing line from a DIR folder listing.\n",
    "\n",
    "    Returns (str): A tab delimited line with 'File:' or 'Subdirectory:'before\n",
    "        the tab and the extracted name of the file or subdirectory after\n",
    "        the tab.\n",
    "    '''\n",
    "    if len(dir_line) < 39:  # This deals with blank lines.\n",
    "        output_line = ''\n",
    "    elif '<DIR>' in dir_line:  # Contains a subdirectory name.\n",
    "        output_line = '\\tSubdirectory:\\t' + dir_line[39:]\n",
    "    else:  # Contains a file name.\n",
    "        output_line = '\\tFile:\\t\\t' + dir_line[39:]\n",
    "    return output_line\n"
   ]
  },
  {
   "cell_type": "markdown",
   "metadata": {},
   "source": [
    "### Sub-Section Definitions"
   ]
  },
  {
   "cell_type": "code",
   "execution_count": 4,
   "metadata": {},
   "outputs": [],
   "source": [
    "dir_section = Section(\n",
    "    section_name='DirectoryName',\n",
    "    end_section=SectionBreak(True),\n",
    "    processor=[dir_name_split]\n",
    "    )\n",
    "\n",
    "filename_section = Section(\n",
    "    section_name='FileNames',\n",
    "    end_section=SectionBreak('File(s)', break_offset='Before'),\n",
    "    processor=[get_file_name]\n",
    "    )\n",
    "\n",
    "files_section = Section(\n",
    "    section_name='NumberOfFiles',\n",
    "    end_section=SectionBreak(True),\n",
    "    processor=[file_count_split]\n",
    "    )"
   ]
  },
  {
   "cell_type": "markdown",
   "metadata": {},
   "source": [
    "###  Combined Section Definition"
   ]
  },
  {
   "cell_type": "code",
   "execution_count": 5,
   "metadata": {},
   "outputs": [],
   "source": [
    "dir_section = Section(\n",
    "    section_name='Full Directory',\n",
    "    start_section='Directory of',\n",
    "    end_section=SectionBreak('File(s)', break_offset='After'),\n",
    "    processor=[dir_section, filename_section, files_section]\n",
    "    )"
   ]
  },
  {
   "cell_type": "markdown",
   "metadata": {},
   "source": [
    "### **FIXME** Files Count sub-section returning empty list"
   ]
  },
  {
   "cell_type": "code",
   "execution_count": 6,
   "metadata": {},
   "outputs": [
    {
     "name": "stdout",
     "output_type": "stream",
     "text": [
      "[[['Folder Name:\\tTest Dir Structure'],\n",
      "  ['',\n",
      "   '\\tSubdirectory:\\t.',\n",
      "   '\\tSubdirectory:\\t..',\n",
      "   '\\tSubdirectory:\\tDir1',\n",
      "   '\\tSubdirectory:\\tDir2',\n",
      "   '\\tFile:\\t\\tTestFile1.txt',\n",
      "   '\\tFile:\\t\\tTestFile2.rtf',\n",
      "   '\\tFile:\\t\\tTestFile3.docx',\n",
      "   '\\tFile:\\t\\txcopy.txt'],\n",
      "  ['Number of Files:\\t4']]]\n"
     ]
    }
   ],
   "source": [
    "pprint(dir_section.read(dir_text))"
   ]
  },
  {
   "cell_type": "markdown",
   "metadata": {},
   "source": [
    "## Very Simple Source for Testing"
   ]
  },
  {
   "cell_type": "markdown",
   "metadata": {},
   "source": [
    "### Initial Test Data"
   ]
  },
  {
   "cell_type": "code",
   "execution_count": 7,
   "metadata": {},
   "outputs": [],
   "source": [
    "GENERIC_TEST_TEXT = [\n",
    "    'StartSection Name:         A',\n",
    "    'A Content1:a',\n",
    "    'B Content1:b',\n",
    "    'C Content1:c',\n",
    "    'EndSection Name:A'\n",
    "    ]"
   ]
  },
  {
   "cell_type": "markdown",
   "metadata": {},
   "source": [
    "### Sub-section Definitions"
   ]
  },
  {
   "cell_type": "code",
   "execution_count": 8,
   "metadata": {},
   "outputs": [],
   "source": [
    "name_section = Section(\n",
    "    section_name='Name',\n",
    "    end_section=SectionBreak(True)\n",
    "    )\n",
    "content_section = Section(\n",
    "    section_name='Content',\n",
    "    end_section=SectionBreak('EndSection', break_offset='Before')\n",
    "    )\n",
    "end_section = Section(\n",
    "    section_name='End',\n",
    "    end_section=SectionBreak(True)\n",
    "    )\n",
    "full_section = Section(\n",
    "    section_name='Full',\n",
    "    start_section=SectionBreak('StartSection', break_offset='Before'),\n",
    "    end_section=SectionBreak('EndSection', break_offset='After'),\n",
    "    processor=[name_section, content_section, end_section]\n",
    "    )"
   ]
  },
  {
   "cell_type": "markdown",
   "metadata": {},
   "source": [
    "### **FIXME** Bug Occurring with Last Section"
   ]
  },
  {
   "cell_type": "code",
   "execution_count": 9,
   "metadata": {},
   "outputs": [
    {
     "name": "stdout",
     "output_type": "stream",
     "text": [
      "[[['StartSection Name:         A'],\n",
      "  ['A Content1:a', 'B Content1:b', 'C Content1:c'],\n",
      "  ['EndSection Name:A']]]\n"
     ]
    }
   ],
   "source": [
    "pprint(full_section.read(GENERIC_TEST_TEXT))"
   ]
  },
  {
   "cell_type": "markdown",
   "metadata": {},
   "source": [
    "- `end_section` sub-section returning Empty List"
   ]
  },
  {
   "cell_type": "markdown",
   "metadata": {},
   "source": [
    "## Trying Different Scenarios"
   ]
  },
  {
   "cell_type": "markdown",
   "metadata": {},
   "source": [
    "### Base reference\n",
    "- `end_section` sub-section returning Empty List"
   ]
  },
  {
   "cell_type": "code",
   "execution_count": 10,
   "metadata": {},
   "outputs": [
    {
     "name": "stdout",
     "output_type": "stream",
     "text": [
      "[[['StartSection Name:         A'],\n",
      "  ['A Content1:a', 'B Content1:b', 'C Content1:c'],\n",
      "  ['EndSection Name:A']]]\n"
     ]
    }
   ],
   "source": [
    "full_section = Section(\n",
    "    section_name='Full',\n",
    "    start_section=SectionBreak('StartSection', break_offset='Before'),\n",
    "    end_section=SectionBreak('EndSection', break_offset='After'),\n",
    "    processor=[name_section, content_section, end_section]\n",
    "    )\n",
    "pprint(full_section.read(GENERIC_TEST_TEXT))\n"
   ]
  },
  {
   "cell_type": "markdown",
   "metadata": {},
   "source": [
    "### Removing SubSections."
   ]
  },
  {
   "cell_type": "code",
   "execution_count": 11,
   "metadata": {},
   "outputs": [
    {
     "name": "stdout",
     "output_type": "stream",
     "text": [
      "['StartSection Name:         A',\n",
      " 'A Content1:a',\n",
      " 'B Content1:b',\n",
      " 'C Content1:c',\n",
      " 'EndSection Name:A']\n"
     ]
    }
   ],
   "source": [
    "full_section = Section(\n",
    "    section_name='Full',\n",
    "    start_section=SectionBreak('StartSection', break_offset='Before'),\n",
    "    end_section=SectionBreak('EndSection', break_offset='After')\n",
    "    )\n",
    "\n",
    "pprint(full_section.read(GENERIC_TEST_TEXT))"
   ]
  },
  {
   "cell_type": "markdown",
   "metadata": {},
   "source": [
    "- Result is correct section list"
   ]
  },
  {
   "cell_type": "markdown",
   "metadata": {},
   "source": [
    "### Removing Only Last (`end_section`) Section."
   ]
  },
  {
   "cell_type": "code",
   "execution_count": 12,
   "metadata": {},
   "outputs": [
    {
     "name": "stdout",
     "output_type": "stream",
     "text": [
      "[[['StartSection Name:         A'],\n",
      "  ['A Content1:a', 'B Content1:b', 'C Content1:c']],\n",
      " [['EndSection Name:A'], []]]\n"
     ]
    }
   ],
   "source": [
    "full_section = Section(\n",
    "    section_name='Full',\n",
    "    start_section=SectionBreak('StartSection', break_offset='Before'),\n",
    "    end_section=SectionBreak('EndSection', break_offset='After'),\n",
    "    processor=[name_section, content_section]\n",
    "    )\n",
    "pprint(full_section.read(GENERIC_TEST_TEXT))\n"
   ]
  },
  {
   "cell_type": "markdown",
   "metadata": {},
   "source": [
    "- Get `None` where *'EndSection Name:A'* should be"
   ]
  },
  {
   "cell_type": "markdown",
   "metadata": {},
   "source": [
    "### Removing Only First (`name_section`) Section."
   ]
  },
  {
   "cell_type": "code",
   "execution_count": 13,
   "metadata": {},
   "outputs": [
    {
     "name": "stdout",
     "output_type": "stream",
     "text": [
      "[[['StartSection Name:         A',\n",
      "   'A Content1:a',\n",
      "   'B Content1:b',\n",
      "   'C Content1:c'],\n",
      "  ['EndSection Name:A']]]\n"
     ]
    }
   ],
   "source": [
    "full_section = Section(\n",
    "    section_name='Full',\n",
    "    start_section=SectionBreak('StartSection', break_offset='Before'),\n",
    "    end_section=SectionBreak('EndSection', break_offset='After'),\n",
    "    processor=[content_section, end_section]\n",
    "    )\n",
    "pprint(full_section.read(GENERIC_TEST_TEXT))\n"
   ]
  },
  {
   "cell_type": "markdown",
   "metadata": {},
   "source": [
    "- Get empty list where `['EndSection Name:A']` should be"
   ]
  },
  {
   "cell_type": "markdown",
   "metadata": {},
   "source": [
    "### Set `name_section` to stop *'Before'* *'Content'* line."
   ]
  },
  {
   "cell_type": "code",
   "execution_count": 14,
   "metadata": {},
   "outputs": [
    {
     "name": "stdout",
     "output_type": "stream",
     "text": [
      "[[['StartSection Name:         A'],\n",
      "  ['A Content1:a', 'B Content1:b', 'C Content1:c'],\n",
      "  ['EndSection Name:A']]]\n"
     ]
    }
   ],
   "source": [
    "name_section = Section(\n",
    "    section_name='Name',\n",
    "    end_section=SectionBreak('Content', break_offset='Before')\n",
    "    )\n",
    "full_section = Section(\n",
    "    section_name='Full',\n",
    "    start_section=SectionBreak('StartSection', break_offset='Before'),\n",
    "    end_section=SectionBreak('EndSection', break_offset='After'),\n",
    "    processor=[name_section, content_section, end_section]\n",
    "    )\n",
    "pprint(full_section.read(GENERIC_TEST_TEXT))"
   ]
  },
  {
   "cell_type": "markdown",
   "metadata": {},
   "source": [
    "- Get empty list where `['EndSection Name:A']` should be"
   ]
  },
  {
   "cell_type": "markdown",
   "metadata": {},
   "source": [
    "### Set `name_section` to stop *'After'* *'StartSection'* line."
   ]
  },
  {
   "cell_type": "code",
   "execution_count": 15,
   "metadata": {},
   "outputs": [
    {
     "name": "stdout",
     "output_type": "stream",
     "text": [
      "[[['StartSection Name:         A',\n",
      "   'A Content1:a',\n",
      "   'B Content1:b',\n",
      "   'C Content1:c',\n",
      "   'EndSection Name:A'],\n",
      "  [],\n",
      "  []]]\n"
     ]
    }
   ],
   "source": [
    "name_section = Section(\n",
    "    section_name='Name',\n",
    "    end_section=SectionBreak('StartSection', break_offset='After')\n",
    "    )\n",
    "full_section = Section(\n",
    "    section_name='Full',\n",
    "    start_section=SectionBreak('StartSection', break_offset='Before'),\n",
    "    end_section=SectionBreak('EndSection', break_offset='After'),\n",
    "    processor=[name_section, content_section, end_section]\n",
    "    )\n",
    "pprint(full_section.read(GENERIC_TEST_TEXT))"
   ]
  },
  {
   "cell_type": "markdown",
   "metadata": {},
   "source": [
    "- Result is `[None]`"
   ]
  },
  {
   "cell_type": "markdown",
   "metadata": {},
   "source": [
    "### Set `name_section` back to original: `end_section=SectionBreak(True)`<br>Set `end_section` to stop *'After'* *'EndSection'* line."
   ]
  },
  {
   "cell_type": "code",
   "execution_count": 16,
   "metadata": {},
   "outputs": [
    {
     "name": "stdout",
     "output_type": "stream",
     "text": [
      "[[['StartSection Name:         A'],\n",
      "  ['A Content1:a', 'B Content1:b', 'C Content1:c'],\n",
      "  ['EndSection Name:A']]]\n"
     ]
    }
   ],
   "source": [
    "name_section = Section(\n",
    "    section_name='Name',\n",
    "    end_section=SectionBreak(True)\n",
    "    )\n",
    "end_section = Section(\n",
    "    section_name='End',\n",
    "    end_section=SectionBreak('EndSection', break_offset='After')\n",
    "    )\n",
    "full_section = Section(\n",
    "    section_name='Full',\n",
    "    start_section=SectionBreak('StartSection', break_offset='Before'),\n",
    "    end_section=SectionBreak('EndSection', break_offset='After'),\n",
    "    processor=[name_section, content_section, end_section]\n",
    "    )\n",
    "pprint(full_section.read(GENERIC_TEST_TEXT))"
   ]
  },
  {
   "cell_type": "markdown",
   "metadata": {},
   "source": [
    "- Get empty list where `['EndSection Name:A']` should be"
   ]
  },
  {
   "cell_type": "markdown",
   "metadata": {},
   "source": [
    "## Trying Different Scenarios With New Section *B*."
   ]
  },
  {
   "cell_type": "code",
   "execution_count": 17,
   "metadata": {},
   "outputs": [],
   "source": [
    "GENERIC_TEST_TEXT = [\n",
    "    'StartSection Name:         A',\n",
    "    'A Content1:a',\n",
    "    'B Content1:b',\n",
    "    'C Content1:c',\n",
    "    'EndSection Name:A',\n",
    "    'StartSection Name:         B',\n",
    "    'A Content1:a',\n",
    "    'B Content1:b',\n",
    "    'C Content1:c',\n",
    "    'EndSection Name:B'\n",
    "    ]"
   ]
  },
  {
   "cell_type": "markdown",
   "metadata": {},
   "source": [
    "### Set `full_section` to stop *'Before'* *'StartSection'* line."
   ]
  },
  {
   "cell_type": "code",
   "execution_count": 18,
   "metadata": {},
   "outputs": [
    {
     "name": "stdout",
     "output_type": "stream",
     "text": [
      "[[['StartSection Name:         A'],\n",
      "  ['A Content1:a', 'B Content1:b', 'C Content1:c'],\n",
      "  ['EndSection Name:A']]]\n"
     ]
    }
   ],
   "source": [
    "full_section = Section(\n",
    "    section_name='Full',\n",
    "    start_section=SectionBreak('StartSection', break_offset='Before'),\n",
    "    end_section=SectionBreak('StartSection', break_offset='Before'),\n",
    "    processor=[name_section, content_section, end_section]\n",
    "    )\n",
    "\n",
    "pprint(full_section.read(GENERIC_TEST_TEXT))"
   ]
  },
  {
   "cell_type": "markdown",
   "metadata": {},
   "source": [
    "- Result is `[None]`"
   ]
  },
  {
   "cell_type": "markdown",
   "metadata": {},
   "source": [
    "### Creating Super-Section with `full_section` as Sub-Section."
   ]
  },
  {
   "cell_type": "code",
   "execution_count": 19,
   "metadata": {},
   "outputs": [
    {
     "name": "stdout",
     "output_type": "stream",
     "text": [
      "[[['StartSection Name:         A'],\n",
      "  ['A Content1:a', 'B Content1:b', 'C Content1:c'],\n",
      "  ['EndSection Name:A']]]\n"
     ]
    }
   ],
   "source": [
    "full_section = Section(\n",
    "    section_name='Full',\n",
    "    start_section=SectionBreak('StartSection', break_offset='Before'),\n",
    "    end_section=SectionBreak('StartSection', break_offset='Before'),\n",
    "    processor=[name_section, content_section, end_section]\n",
    "    )\n",
    "pprint(full_section.read(GENERIC_TEST_TEXT))\n"
   ]
  },
  {
   "cell_type": "markdown",
   "metadata": {},
   "source": [
    "**This Hangs if Run**\n",
    "\n",
    "```\n",
    "    all_sections = Section(processor=[full_section])\n",
    "\n",
    "    pprint(all_sections.read(GENERIC_TEST_TEXT))\n",
    "```"
   ]
  },
  {
   "cell_type": "markdown",
   "metadata": {},
   "source": [
    "## Adding *'End Of Section'* line to Test Data"
   ]
  },
  {
   "cell_type": "code",
   "execution_count": 20,
   "metadata": {},
   "outputs": [],
   "source": [
    "GENERIC_TEST_TEXT = [\n",
    "    'StartSection Name:         A',\n",
    "    'A Content1:a',\n",
    "    'B Content1:b',\n",
    "    'C Content1:c',\n",
    "    'EndSection Name:A',\n",
    "    'End Of Section',\n",
    "    'More text'\n",
    "    ]"
   ]
  },
  {
   "cell_type": "markdown",
   "metadata": {},
   "source": [
    "#### Set `full_section` to stop *'Before'* *'End Of Section'* line."
   ]
  },
  {
   "cell_type": "code",
   "execution_count": 21,
   "metadata": {},
   "outputs": [
    {
     "name": "stdout",
     "output_type": "stream",
     "text": [
      "[[['StartSection Name:         A'],\n",
      "  ['A Content1:a', 'B Content1:b', 'C Content1:c'],\n",
      "  ['EndSection Name:A']]]\n"
     ]
    }
   ],
   "source": [
    "\n",
    "full_section = Section(\n",
    "    section_name='Full',\n",
    "    start_section=SectionBreak('StartSection', break_offset='Before'),\n",
    "    end_section=SectionBreak('End Of Section', break_offset='Before'),\n",
    "    processor=[name_section, content_section, end_section]\n",
    "    )\n",
    "\n",
    "pprint(full_section.read(GENERIC_TEST_TEXT))"
   ]
  },
  {
   "cell_type": "markdown",
   "metadata": {},
   "source": [
    "- `end_section` sub-section now returning correctly\n"
   ]
  },
  {
   "cell_type": "markdown",
   "metadata": {},
   "source": [
    "#### Setting `end_section` to *'StartSection'* with `break_offset` set to *'Before'*"
   ]
  },
  {
   "cell_type": "code",
   "execution_count": 22,
   "metadata": {},
   "outputs": [
    {
     "name": "stdout",
     "output_type": "stream",
     "text": [
      "[[['StartSection Name:         A'],\n",
      "  ['A Content1:a', 'B Content1:b', 'C Content1:c'],\n",
      "  ['EndSection Name:A', 'End Of Section', 'More text']]]\n"
     ]
    }
   ],
   "source": [
    "full_section = Section(\n",
    "    section_name='Full',\n",
    "    start_section=SectionBreak('StartSection', break_offset='Before'),\n",
    "    end_section=SectionBreak('StartSection', break_offset='Before'),\n",
    "    processor=[name_section, content_section, end_section]\n",
    "    )\n",
    "\n",
    "pprint(full_section.read(GENERIC_TEST_TEXT))"
   ]
  },
  {
   "cell_type": "markdown",
   "metadata": {},
   "source": [
    "- Result is `[None]`"
   ]
  }
 ],
 "metadata": {
  "interpreter": {
   "hash": "890849be4bb9b5be1d044afe42e602ccc6ca20da23c054ee97c8186ec3939c45"
  },
  "kernelspec": {
   "display_name": "Python 3.8.12 ('sectionaryDev')",
   "language": "python",
   "name": "python3"
  },
  "language_info": {
   "codemirror_mode": {
    "name": "ipython",
    "version": 3
   },
   "file_extension": ".py",
   "mimetype": "text/x-python",
   "name": "python",
   "nbconvert_exporter": "python",
   "pygments_lexer": "ipython3",
   "version": "3.8.12"
  },
  "orig_nbformat": 4
 },
 "nbformat": 4,
 "nbformat_minor": 2
}
