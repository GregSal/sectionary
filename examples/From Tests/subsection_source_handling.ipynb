{
 "cells": [
  {
   "cell_type": "markdown",
   "metadata": {},
   "source": [
    "# Tests of Subsection source handling"
   ]
  },
  {
   "cell_type": "markdown",
   "metadata": {},
   "source": [
    "### Imports"
   ]
  },
  {
   "cell_type": "code",
   "execution_count": 1,
   "metadata": {},
   "outputs": [],
   "source": [
    "from typing import List\n",
    "from pathlib import Path\n",
    "from pprint import pprint\n",
    "import re\n",
    "import sys\n",
    "\n",
    "import pandas as pd\n",
    "import xlwings as xw\n",
    "\n",
    "from buffered_iterator import BufferedIterator\n",
    "import text_reader as tp\n",
    "from sections import Rule, RuleSet, SectionBreak, ProcessingMethods, Section\n"
   ]
  },
  {
   "cell_type": "markdown",
   "metadata": {},
   "source": [
    "### Logging"
   ]
  },
  {
   "cell_type": "code",
   "execution_count": 2,
   "metadata": {},
   "outputs": [],
   "source": [
    "import logging\n",
    "logging.basicConfig(format='%(name)-20s - %(levelname)s: %(message)s')\n",
    "#logging.basicConfig(level=logging.DEBUG)\n",
    "logger = logging.getLogger('Text Processing')\n",
    "#logger.setLevel(logging.DEBUG)\n",
    "logger.setLevel(logging.INFO)\n"
   ]
  },
  {
   "cell_type": "markdown",
   "metadata": {},
   "source": [
    "### Function to compare context for two sections."
   ]
  },
  {
   "cell_type": "code",
   "execution_count": 3,
   "metadata": {},
   "outputs": [],
   "source": [
    "def compare_context(section1, section2):\n",
    "    ctx_template = '{key:16s}:\\t{item1:16s}\\t{item2:16s}'\n",
    "    context_1 = section1.context\n",
    "    context_2 = section2.context\n",
    "    keys_1 = set(context_1.keys())\n",
    "    keys_2 = set(context_2.keys())\n",
    "    all_keys = keys_1 | keys_2\n",
    "    for key in all_keys:\n",
    "        item1 = context_1.get(key, '')\n",
    "        item2 = context_2.get(key, '')\n",
    "        ctx_str = ctx_template.format(key=str(key), item1=str(item1), item2=str(item2))\n",
    "        print(ctx_str)"
   ]
  },
  {
   "cell_type": "markdown",
   "metadata": {},
   "source": [
    "### Source as Sequence of Integers"
   ]
  },
  {
   "cell_type": "code",
   "execution_count": 4,
   "metadata": {},
   "outputs": [],
   "source": [
    "n = 12\n",
    "str_source = [str(i) for i in range(n)]\n",
    "int_source = [i for i in range(n)]"
   ]
  },
  {
   "cell_type": "markdown",
   "metadata": {},
   "source": [
    "### Even and Odd Tests\n",
    "> `evens = [x for x in range(10) if x%2 == 0]`\n",
    "> \n",
    "> `evens = [x for x in range(10) if x&1 == 0]`\n",
    "> \n",
    "> `odds = [x for x in range(10) if x&1 != 0]`\n",
    "> \n",
    "> `odds = [x for x in range(10) if x&1 == 1]`\n"
   ]
  },
  {
   "cell_type": "code",
   "execution_count": 5,
   "metadata": {},
   "outputs": [],
   "source": [
    "is_even = lambda x: x&1 == 0\n",
    "is_odd = lambda x: x&1 == 1"
   ]
  },
  {
   "cell_type": "markdown",
   "metadata": {},
   "source": [
    "## Define Sections\n"
   ]
  },
  {
   "cell_type": "code",
   "execution_count": 6,
   "metadata": {},
   "outputs": [
    {
     "data": {
      "text/plain": [
       "[0, 1, 2, 3, 4, 5, 6, 7, 8, 9, 10, 11]"
      ]
     },
     "execution_count": 6,
     "metadata": {},
     "output_type": "execute_result"
    }
   ],
   "source": [
    "blank_section = Section()\n",
    "blank_section.read(int_source)"
   ]
  },
  {
   "cell_type": "code",
   "execution_count": 7,
   "metadata": {},
   "outputs": [],
   "source": [
    "sub_section = Section(\n",
    "    name='SubSection',\n",
    "    start_section=SectionBreak(is_odd, break_offset='After', name='Odd_start')\n",
    "    )"
   ]
  },
  {
   "cell_type": "code",
   "execution_count": 8,
   "metadata": {},
   "outputs": [
    {
     "name": "stdout",
     "output_type": "stream",
     "text": [
      "[2, 3, 4, 5, 6, 7, 8, 9, 10, 11]\n"
     ]
    }
   ],
   "source": [
    "pprint(sub_section.read(int_source))"
   ]
  },
  {
   "cell_type": "code",
   "execution_count": 9,
   "metadata": {},
   "outputs": [
    {
     "name": "stdout",
     "output_type": "stream",
     "text": [
      "[[2]]\n"
     ]
    }
   ],
   "source": [
    "full_section = Section(\n",
    "    name='Full',\n",
    "    start_section=SectionBreak(is_odd, \n",
    "                               break_offset='Before', \n",
    "                               name='Odd Start FullSection'),\n",
    "    end_section=SectionBreak(is_even, \n",
    "                             break_offset='After', \n",
    "                             name='Even End FullSection'\n",
    "                             ),\n",
    "    processor=sub_section\n",
    "    )\n",
    "pprint(full_section.read(int_source))"
   ]
  },
  {
   "cell_type": "code",
   "execution_count": 10,
   "metadata": {},
   "outputs": [
    {
     "name": "stdout",
     "output_type": "stream",
     "text": [
      "[[2, 3]]\n"
     ]
    }
   ],
   "source": [
    "full_section = Section(\n",
    "    name='Full',\n",
    "    start_section=SectionBreak(is_odd, \n",
    "                               break_offset='Before', \n",
    "                               name='Odd Start FullSection'),\n",
    "    end_section=SectionBreak(is_odd, \n",
    "                             break_offset='After', \n",
    "                             name='Odd End FullSection'\n",
    "                             ),\n",
    "    processor=sub_section\n",
    "    )\n",
    "pprint(full_section.read(int_source))"
   ]
  },
  {
   "cell_type": "code",
   "execution_count": 11,
   "metadata": {},
   "outputs": [
    {
     "name": "stdout",
     "output_type": "stream",
     "text": [
      "[[[2, 3]], [[6, 7]], [[10, 11]]]\n"
     ]
    }
   ],
   "source": [
    "multi_section = Section(name='Multi',\n",
    "    processor=full_section\n",
    "    )\n",
    "pprint(multi_section.read(int_source))"
   ]
  },
  {
   "cell_type": "code",
   "execution_count": 12,
   "metadata": {},
   "outputs": [
    {
     "name": "stdout",
     "output_type": "stream",
     "text": [
      "[[2]]\n"
     ]
    }
   ],
   "source": [
    "full_section = Section(\n",
    "    name='Full',\n",
    "    start_section=SectionBreak(is_odd, \n",
    "                               break_offset='Before', \n",
    "                               name='Odd Start FullSection'),\n",
    "    end_section=SectionBreak(is_odd, \n",
    "                             break_offset='Before', \n",
    "                             name='Odd Before End FullSection'\n",
    "                             ),\n",
    "    processor=sub_section\n",
    "    )\n",
    "pprint(full_section.read(int_source))"
   ]
  },
  {
   "cell_type": "code",
   "execution_count": 13,
   "metadata": {},
   "outputs": [
    {
     "name": "stdout",
     "output_type": "stream",
     "text": [
      "[[[2]], [[4]], [[6]], [[8]], [[10]]]\n"
     ]
    }
   ],
   "source": [
    "multi_section = Section(name='Multi',\n",
    "    processor=full_section\n",
    "    )\n",
    "pprint(multi_section.read(int_source))"
   ]
  },
  {
   "cell_type": "code",
   "execution_count": 14,
   "metadata": {},
   "outputs": [
    {
     "data": {
      "text/plain": [
       "[[[1], [2]], [[3], [4]], [[5], [6]], [[7], [8]], [[9], [10]], [[11], []]]"
      ]
     },
     "execution_count": 14,
     "metadata": {},
     "output_type": "execute_result"
    }
   ],
   "source": [
    "odd_section = Section(\n",
    "    start_section=SectionBreak(is_odd, break_offset='Before',name='Odd_start'),\n",
    "    end_section=SectionBreak(is_even, break_offset='Before',name='Odd_start'),\n",
    "    name='OddSection')\n",
    "\n",
    "even_section = Section(\n",
    "    start_section=SectionBreak(is_even, break_offset='Before',name='Even_start'),\n",
    "    end_section=SectionBreak(is_odd, break_offset='Before',name='Even_start'),\n",
    "    name='EvenSection')\n",
    "\n",
    "all_sections = Section(processor=[odd_section, even_section])\n",
    "all_sections.read(int_source)"
   ]
  },
  {
   "cell_type": "code",
   "execution_count": 15,
   "metadata": {},
   "outputs": [
    {
     "data": {
      "text/plain": [
       "[[[0], [1]], [[2], [3]], [[4], [5]], [[6], [7]], [[8], [9]], [[10], [11]]]"
      ]
     },
     "execution_count": 15,
     "metadata": {},
     "output_type": "execute_result"
    }
   ],
   "source": [
    "odd_section = Section(\n",
    "    start_section=SectionBreak(is_odd, break_offset='Before',name='Odd_start'),\n",
    "    end_section=SectionBreak(is_odd, break_offset='After',name='Odd_start'),\n",
    "    name='OddSection', end_on_first_item=True)\n",
    "\n",
    "even_section = Section(\n",
    "    start_section=SectionBreak(is_even, break_offset='Before',name='Even_start'),\n",
    "    end_section=SectionBreak(is_even, break_offset='After',name='Even_start'),\n",
    "    name='EvenSection', end_on_first_item=True)\n",
    "\n",
    "all_sections = Section(processor=[even_section, odd_section])\n",
    "all_sections.read(int_source)"
   ]
  },
  {
   "cell_type": "code",
   "execution_count": 16,
   "metadata": {},
   "outputs": [
    {
     "name": "stdout",
     "output_type": "stream",
     "text": [
      "[[[1], [2]]]\n"
     ]
    }
   ],
   "source": [
    "full_section = Section(\n",
    "    name='Full',\n",
    "    start_section=SectionBreak(is_odd, \n",
    "                               break_offset='Before', \n",
    "                               name='Odd Start FullSection'),\n",
    "    end_section=SectionBreak(is_odd, \n",
    "                             break_offset='Before', \n",
    "                             name='Odd Before End FullSection'\n",
    "                             ),\n",
    "    processor=[odd_section, even_section]\n",
    "    )\n",
    "pprint(full_section.read(int_source))"
   ]
  },
  {
   "cell_type": "code",
   "execution_count": 17,
   "metadata": {},
   "outputs": [
    {
     "name": "stdout",
     "output_type": "stream",
     "text": [
      "[[[1], [2]], [[3], []]]\n"
     ]
    }
   ],
   "source": [
    "full_section = Section(\n",
    "    name='Full',\n",
    "    start_section=SectionBreak(is_odd, \n",
    "                               break_offset='Before', \n",
    "                               name='Odd Start FullSection'),\n",
    "    end_section=SectionBreak(is_odd, \n",
    "                             break_offset='After', \n",
    "                             name='Odd End FullSection'\n",
    "                             ),\n",
    "    processor=[odd_section, even_section]\n",
    "    )\n",
    "pprint(full_section.read(int_source))"
   ]
  },
  {
   "cell_type": "code",
   "execution_count": 18,
   "metadata": {},
   "outputs": [
    {
     "data": {
      "text/plain": [
       "[1, 3, 5, 7, 9, 11]"
      ]
     },
     "execution_count": 18,
     "metadata": {},
     "output_type": "execute_result"
    }
   ],
   "source": [
    "odd_rule = Rule(is_odd, pass_method='Original', fail_method='None')\n",
    "odd_section = Section(processor=[odd_rule, tp.drop_blanks])\n",
    "odd_section.read(int_source)"
   ]
  }
 ],
 "metadata": {
  "kernelspec": {
   "display_name": "Python 3.8.12 ('sectionaryDev')",
   "language": "python",
   "name": "python3"
  },
  "language_info": {
   "codemirror_mode": {
    "name": "ipython",
    "version": 3
   },
   "file_extension": ".py",
   "mimetype": "text/x-python",
   "name": "python",
   "nbconvert_exporter": "python",
   "pygments_lexer": "ipython3",
   "version": "3.8.12"
  },
  "orig_nbformat": 4,
  "vscode": {
   "interpreter": {
    "hash": "890849be4bb9b5be1d044afe42e602ccc6ca20da23c054ee97c8186ec3939c45"
   }
  }
 },
 "nbformat": 4,
 "nbformat_minor": 2
}
