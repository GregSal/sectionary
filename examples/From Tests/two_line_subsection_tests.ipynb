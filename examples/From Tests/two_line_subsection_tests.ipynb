{
 "cells": [
  {
   "cell_type": "markdown",
   "metadata": {},
   "source": [
    "# Subsections Issue"
   ]
  },
  {
   "cell_type": "markdown",
   "metadata": {},
   "source": [
    "## Setup"
   ]
  },
  {
   "cell_type": "raw",
   "metadata": {},
   "source": [
    "from pathlib import Path\n",
    "import sys\n",
    "\n",
    "env_str = !set HOMEPATH\n",
    "\n",
    "home_path = Path(r'C:\\\\' + env_str[0].split('=',1)[1].strip('\"'))\n",
    "print(home_path)\n",
    "\n",
    "base_path = home_path / r\"OneDrive - Queen's University/Python\\Projects/sectionary package\"\n",
    "tests_path = base_path / 'Tests'\n",
    "examples_path = base_path / 'examples'\n",
    "source_path = base_path / r'src/sectionary'\n",
    "\n",
    "sys.path.extend([\n",
    "    base_path,\n",
    "    tests_path,\n",
    "    examples_path,\n",
    "    source_path\n",
    "    ])\n",
    "\n",
    "\n",
    "print('PythonPaths:')\n",
    "for path_str in sys.path:\n",
    "    print(f'\\t{path_str}')"
   ]
  },
  {
   "cell_type": "markdown",
   "metadata": {},
   "source": [
    "### Imports"
   ]
  },
  {
   "cell_type": "code",
   "execution_count": 1,
   "metadata": {},
   "outputs": [],
   "source": [
    "from typing import List\n",
    "from pathlib import Path\n",
    "from pprint import pprint\n",
    "import re\n",
    "import sys\n",
    "\n",
    "import pandas as pd\n",
    "import xlwings as xw\n",
    "\n",
    "from buffered_iterator import BufferedIterator\n",
    "import text_reader as tp\n",
    "from sections import Rule, RuleSet, SectionBreak, ProcessingMethods, Section"
   ]
  },
  {
   "cell_type": "markdown",
   "metadata": {},
   "source": [
    "### Logging"
   ]
  },
  {
   "cell_type": "code",
   "execution_count": 2,
   "metadata": {},
   "outputs": [],
   "source": [
    "import logging\n",
    "logging.basicConfig(format='%(name)-20s - %(levelname)s: %(message)s')\n",
    "#logging.basicConfig(level=logging.DEBUG)\n",
    "logger = logging.getLogger('Two Line SubSection Tests')\n",
    "#logger.setLevel(logging.DEBUG)\n",
    "logger.setLevel(logging.INFO)"
   ]
  },
  {
   "cell_type": "markdown",
   "metadata": {},
   "source": [
    "### Display Functions"
   ]
  },
  {
   "cell_type": "code",
   "execution_count": 3,
   "metadata": {},
   "outputs": [],
   "source": [
    "#%%writefile display_functions.py"
   ]
  },
  {
   "cell_type": "code",
   "execution_count": 4,
   "metadata": {
    "notebookRunGroups": {
     "groupValue": "1"
    }
   },
   "outputs": [],
   "source": [
    "# %% Function to compare context for two sections.\n",
    "def compare_context(section1, section2):\n",
    "    ctx_template = '{key:16s}:\\t{item1:16s}\\t{item2:16s}'\n",
    "    context_1 = section1.context\n",
    "    context_2 = section2.context\n",
    "    keys_1 = set(context_1.keys())\n",
    "    keys_2 = set(context_2.keys())\n",
    "    all_keys = keys_1 | keys_2\n",
    "    for key in all_keys:\n",
    "        item1 = context_1.get(key, '')\n",
    "        item2 = context_2.get(key, '')\n",
    "        ctx_str = ctx_template.format(key=str(key), item1=str(item1), item2=str(item2))\n",
    "        print(ctx_str)\n",
    "        \n",
    "        \n",
    "# %% Compare Buffered Iterator contents\n",
    "def buffered_iterator_compare(iter1, iter2=None, iter3=None, \n",
    "                              label1='From Iterator', \n",
    "                              label2='To Iterator', label3=''):\n",
    "    \n",
    "    def extract_attrs(buf_obj, requested_item, as_list=True):\n",
    "        if not buf_obj:\n",
    "            text = ''\n",
    "        elif as_list:\n",
    "            text = str(list(buf_obj.__getattribute__(requested_item)))\n",
    "        else:\n",
    "            text = str(buf_obj.__getattribute__(requested_item))\n",
    "        return text\n",
    "        \n",
    "    def extract_attr_text(requested_item, iter1, iter2=None, iter3=None, \n",
    "                        as_list=True):    \n",
    "        attr_text = {\n",
    "            1: extract_attrs(iter1, requested_item, as_list),\n",
    "            2: extract_attrs(iter2, requested_item, as_list),\n",
    "            3: extract_attrs(iter3, requested_item, as_list),\n",
    "        }\n",
    "        return attr_text\n",
    "\n",
    "\n",
    "    row_template = ''.join([\n",
    "        '\\t{Label:<20s}',\n",
    "        '{first_iter_item:<35s}',\n",
    "        '{second_iter_item:<35s}',\n",
    "        '{third_iter_item:<35s}\\n'\n",
    "        ])   \n",
    "    attr_group = {\n",
    "        'Previous Items': ('previous_items', True),\n",
    "        'Future Items': ('future_items', True),\n",
    "        'Item Count': ('item_count', False),\n",
    "        'Step Back': ('_step_back', False),\n",
    "        'Buffer Size': ('buffer_size', False)\n",
    "        }\n",
    "\n",
    "    row_list = [\n",
    "        row_template.format(\n",
    "            Label='',\n",
    "            first_iter_item=label1, \n",
    "            second_iter_item=label2, \n",
    "            third_iter_item=label3)\n",
    "                ]\n",
    "\n",
    "    for label, attr_s in attr_group.items():\n",
    "        requested_item, as_list = attr_s\n",
    "        text_group = extract_attr_text(requested_item, iter1, iter2, iter3, as_list)\n",
    "        text_line = row_template.format(Label=label, \n",
    "                        first_iter_item=text_group[1],\n",
    "                        second_iter_item=text_group[2],\n",
    "                        third_iter_item=text_group[3])\n",
    "        row_list.append(text_line)\n",
    "    \n",
    "    iterator_compare_str = ''.join(row_list)\n",
    "    \n",
    "    return iterator_compare_str"
   ]
  },
  {
   "cell_type": "markdown",
   "metadata": {},
   "source": [
    "### Initialize 2-line Section Tests"
   ]
  },
  {
   "cell_type": "markdown",
   "metadata": {},
   "source": [
    "#### 2-line Section Source"
   ]
  },
  {
   "cell_type": "code",
   "execution_count": 5,
   "metadata": {},
   "outputs": [],
   "source": [
    "GENERIC_TEST_TEXT = [\n",
    "    'Text to be ignored',\n",
    "    'StartSection Name: A',\n",
    "    'EndSection Name: A',\n",
    "    'StartSection Name: B',\n",
    "    'EndSection Name: B',\n",
    "    'More text to be ignored',\n",
    "    ]"
   ]
  },
  {
   "cell_type": "markdown",
   "metadata": {},
   "source": [
    "## Iterator Options"
   ]
  },
  {
   "cell_type": "markdown",
   "metadata": {},
   "source": [
    "### Two line section *StartSection*\n",
    "- Start *Before* `StartSection`\n",
    "- End *After* `EndSection`"
   ]
  },
  {
   "cell_type": "code",
   "execution_count": 6,
   "metadata": {},
   "outputs": [],
   "source": [
    "two_line_section = Section(\n",
    "    section_name='SubSection',\n",
    "    start_section=SectionBreak('StartSection', break_offset='Before'),\n",
    "    end_section=SectionBreak('EndSection', break_offset='After')\n",
    "    )"
   ]
  },
  {
   "cell_type": "markdown",
   "metadata": {},
   "source": [
    "#### Using a regular iterator"
   ]
  },
  {
   "cell_type": "code",
   "execution_count": 7,
   "metadata": {},
   "outputs": [
    {
     "name": "stdout",
     "output_type": "stream",
     "text": [
      "['StartSection Name: A', 'EndSection Name: A']\n",
      "[]\n"
     ]
    }
   ],
   "source": [
    "test_iter = iter(GENERIC_TEST_TEXT)\n",
    "pprint(two_line_section.read(test_iter))\n",
    "\n",
    "pprint(two_line_section.read(test_iter))"
   ]
  },
  {
   "cell_type": "markdown",
   "metadata": {},
   "source": [
    "![Good](../examples/Valid.png) A regular iterator is missing the buffer, so *Step Back* calls can loose future items.\n",
    "- The second call to `pprint(two_line_section.read(test_iter))` returns an empty list because the second *StartSection* line is lost.\n",
    "  \n",
    "|Expected|Actual|\n",
    "|-|-|\n",
    "|`['StartSection Name: A', 'EndSection Name: A']`|`['StartSection Name: A', 'EndSection Name: A']`|\n",
    "|`[]`|`[]`|"
   ]
  },
  {
   "cell_type": "markdown",
   "metadata": {},
   "source": [
    "#### Using a *BufferedIterator* source."
   ]
  },
  {
   "cell_type": "code",
   "execution_count": 8,
   "metadata": {},
   "outputs": [
    {
     "name": "stdout",
     "output_type": "stream",
     "text": [
      "['StartSection Name: A', 'EndSection Name: A']\n",
      "['StartSection Name: B', 'EndSection Name: B']\n",
      "[]\n"
     ]
    }
   ],
   "source": [
    "test_iter = BufferedIterator(GENERIC_TEST_TEXT)\n",
    "pprint(two_line_section.read(test_iter))\n",
    "pprint(two_line_section.read(test_iter))\n",
    "pprint(two_line_section.read(test_iter))"
   ]
  },
  {
   "cell_type": "markdown",
   "metadata": {},
   "source": [
    "![Good](../examples/Valid.png) Supplying a *BufferedIterator* preserves the *Step Back* item.\n",
    "- The Third call to `pprint(two_line_section.read(test_iter))` returns an empty list because a third *StartSection* is not found.\n",
    "\n",
    "|Expected|Actual|\n",
    "|-|-|\n",
    "|`['StartSection Name: A', 'EndSection Name: A']`|`['StartSection Name: A', 'EndSection Name: A']`|\n",
    "|`['StartSection Name: B', 'EndSection Name: B']`|`['StartSection Name: B', 'EndSection Name: B']`|\n",
    "|`[]`|`[]`|"
   ]
  },
  {
   "cell_type": "markdown",
   "metadata": {},
   "source": [
    "# Simple sections experimenting with start and end settings"
   ]
  },
  {
   "cell_type": "markdown",
   "metadata": {},
   "source": [
    "#### 2-line Section Source"
   ]
  },
  {
   "cell_type": "code",
   "execution_count": 9,
   "metadata": {},
   "outputs": [],
   "source": [
    "GENERIC_TEST_TEXT = [\n",
    "    'Text to be ignored',\n",
    "    'StartSection Name: A',\n",
    "    'EndSection Name: A',\n",
    "    'StartSection Name: B',\n",
    "    'EndSection Name: B',\n",
    "    'More text to be ignored',\n",
    "    ]"
   ]
  },
  {
   "cell_type": "markdown",
   "metadata": {},
   "source": [
    "## `end_on_first_item` Tests\n",
    "\n",
    "The `end_on_first_item` parameter in a section definition determines whether the \n",
    "`end_section` break tests are applied to the first line in a section.\n",
    "`end_on_first_item=True` does not *force* the section to complete after a single \n",
    "line.  It only makes it *possible* to stop after the first line.\n",
    "\n",
    "The value of this parameter is that repeat sections do not require distinct\n",
    "starting and ending sentinels. With `end_on_first_item=False` (the default) the \n",
    "same SectionBreak can be applied to both `start_section` and `end_section`.  \n",
    "In this case, the second occurrence of the section begins immediately at the \n",
    "end of the previous section."
   ]
  },
  {
   "cell_type": "code",
   "execution_count": 10,
   "metadata": {},
   "outputs": [],
   "source": [
    "GENERIC_TEST_TEXT = [\n",
    "    'Text to be ignored',\n",
    "    'StartSection A',\n",
    "    'EndSection A',\n",
    "    'StartSection B',\n",
    "    'EndSection B',\n",
    "    'More text to be ignored',\n",
    "    ]"
   ]
  },
  {
   "cell_type": "markdown",
   "metadata": {},
   "source": [
    "#### Setting `end_on_first_item=False` (the default)\n",
    "- Using identical `start_section` and `end_section`:\n",
    "    > `start_section=SectionBreak('StartSection', break_offset='Before')`<br>\n",
    "    > `end_section=SectionBreak('StartSection', break_offset='Before')`<br>\n",
    "\n",
    "- Do not test first line of section (the default).\n",
    "    > `end_on_first_item=False` "
   ]
  },
  {
   "cell_type": "code",
   "execution_count": 11,
   "metadata": {},
   "outputs": [
    {
     "name": "stdout",
     "output_type": "stream",
     "text": [
      "['StartSection A', 'EndSection A']\n"
     ]
    }
   ],
   "source": [
    "start_sub_section = Section(\n",
    "    section_name='StartSubSection',\n",
    "    start_section=SectionBreak('StartSection', break_offset='Before'),\n",
    "    end_section=SectionBreak('StartSection', break_offset='Before'),\n",
    "    end_on_first_item=False\n",
    "    )\n",
    "\n",
    "pprint(start_sub_section.read(GENERIC_TEST_TEXT))"
   ]
  },
  {
   "cell_type": "markdown",
   "metadata": {},
   "source": [
    "![Good](../examples/Valid.png) The first section is returned as a list.\n",
    "\n",
    "<table>\n",
    "    <thead><th>Expected</th><th>Actual</th></thead>\n",
    "    <tr>\n",
    "        <td><code>\n",
    "          ['StartSection A', 'EndSection A']\n",
    "        </code></td>\n",
    "        <td><code>\n",
    "          ['StartSection A', 'EndSection A']\n",
    "        </code></td></tr>\n",
    "</table>"
   ]
  },
  {
   "cell_type": "markdown",
   "metadata": {},
   "source": [
    "#### Defining a top section with a repeating subsection\n",
    "- Using identical `start_section` and `end_section`:\n",
    "    > `start_section=SectionBreak('StartSection', break_offset='Before')`<br>\n",
    "    > `end_section=SectionBreak('StartSection', break_offset='Before')`<br>\n",
    "\n",
    "- Do not test first line of section (the default).\n",
    "    > `end_on_first_item=False` "
   ]
  },
  {
   "cell_type": "code",
   "execution_count": 12,
   "metadata": {},
   "outputs": [
    {
     "name": "stdout",
     "output_type": "stream",
     "text": [
      "[['StartSection A', 'EndSection A'], ['StartSection B', 'EndSection B']]\n"
     ]
    }
   ],
   "source": [
    "start_sub_section = Section(\n",
    "    section_name='StartSubSection',\n",
    "    start_section=SectionBreak('StartSection', break_offset='Before'),\n",
    "    end_section=SectionBreak('EndSection', break_offset='After'),\n",
    "    end_on_first_item=False\n",
    "    )\n",
    "\n",
    "repeating_section = Section(\n",
    "    section_name='Top Section',\n",
    "    end_section=SectionBreak('More text to be ignored', break_offset='Before'),\n",
    "    processor=start_sub_section\n",
    "    )\n",
    "pprint(repeating_section.read(GENERIC_TEST_TEXT))"
   ]
  },
  {
   "cell_type": "markdown",
   "metadata": {},
   "source": [
    "![Good](../examples/Valid.png) Both subsections are returned as a list of lists.\n",
    "\n",
    "<table>\n",
    "    <thead><th>Expected</th><th>Actual</th></thead>\n",
    "    <tr>\n",
    "        <td><code>\n",
    "          [<br>\n",
    "          ['StartSection A', 'EndSection A'],<br>\n",
    "           ['StartSection B', 'EndSection B']<br>\n",
    "          ]\n",
    "        </code></td>\n",
    "        <td><code>\n",
    "          [<br>\n",
    "          ['StartSection A', 'EndSection A'],<br>\n",
    "           ['StartSection B', 'EndSection B']<br>\n",
    "          ]\n",
    "        </code></td></tr>\n",
    "</table>"
   ]
  },
  {
   "cell_type": "markdown",
   "metadata": {},
   "source": [
    "- Using the same section definition, except allow testing of the first line of \n",
    "  the section.\n",
    "    > `end_on_first_item=True` "
   ]
  },
  {
   "cell_type": "code",
   "execution_count": 13,
   "metadata": {},
   "outputs": [
    {
     "name": "stdout",
     "output_type": "stream",
     "text": [
      "[]\n"
     ]
    }
   ],
   "source": [
    "start_sub_section = Section(\n",
    "    section_name='StartSubSection',\n",
    "    start_section=SectionBreak('StartSection', break_offset='Before'),\n",
    "    end_section=SectionBreak('StartSection', break_offset='Before'),\n",
    "    end_on_first_item=True\n",
    "    )\n",
    "\n",
    "pprint(start_sub_section.read(GENERIC_TEST_TEXT))"
   ]
  },
  {
   "cell_type": "markdown",
   "metadata": {},
   "source": [
    "![Good](../examples/Valid.png) The ending SectionBreak triggers on the same \n",
    "item that triggers the start of the section.  This will always result in an \n",
    "empty section.\n",
    "\n",
    "|Expected|Actual|\n",
    "|-|-|\n",
    "|[]|[]|"
   ]
  },
  {
   "cell_type": "markdown",
   "metadata": {},
   "source": [
    "#### Single Line Section.\n",
    "- Using the same sentinel *('EndSection')*, but different `break_offset`.\n",
    "    > `start_section=SectionBreak('EndSection', break_offset='Before')`<br>\n",
    "    > `end_section=SectionBreak('EndSection', break_offset='After')`<br>\n",
    "\n",
    "- Allow testing of the first line of section.\n",
    "    > `end_on_first_item=True` "
   ]
  },
  {
   "cell_type": "code",
   "execution_count": 14,
   "metadata": {},
   "outputs": [
    {
     "name": "stdout",
     "output_type": "stream",
     "text": [
      "['EndSection A']\n"
     ]
    }
   ],
   "source": [
    "end_sub_section = Section(\n",
    "    section_name='EndSubSection',\n",
    "    start_section=SectionBreak('EndSection', break_offset='Before'),\n",
    "    end_section=SectionBreak('EndSection', break_offset='After'),\n",
    "    end_on_first_item=True\n",
    "    )\n",
    "\n",
    "pprint(end_sub_section.read(GENERIC_TEST_TEXT))"
   ]
  },
  {
   "cell_type": "markdown",
   "metadata": {},
   "source": [
    "![Good](../examples/Valid.png) Single line section.\n",
    "- Starts *Before* **EndSection** \n",
    "- Ends *After* **EndSection** (the same line)\n",
    "\n",
    "|Expected|Actual|\n",
    "|-|-|\n",
    "|['EndSection A']|['EndSection A']|"
   ]
  },
  {
   "cell_type": "markdown",
   "metadata": {},
   "source": [
    "#### Same section definition as above except with `end_on_first_item=False` "
   ]
  },
  {
   "cell_type": "code",
   "execution_count": 15,
   "metadata": {},
   "outputs": [
    {
     "name": "stdout",
     "output_type": "stream",
     "text": [
      "['EndSection A', 'StartSection B', 'EndSection B']\n"
     ]
    }
   ],
   "source": [
    "end_sub_section = Section(\n",
    "    section_name='EndSubSection',\n",
    "    start_section=SectionBreak('EndSection', break_offset='Before'),\n",
    "    end_section=SectionBreak('EndSection', break_offset='After'),\n",
    "    end_on_first_item=False\n",
    "    )\n",
    "\n",
    "pprint(end_sub_section.read(GENERIC_TEST_TEXT))"
   ]
  },
  {
   "cell_type": "markdown",
   "metadata": {},
   "source": [
    "![Good](../examples/Valid.png) Section continues until **After** next \n",
    "*EndSection* is found\n",
    "\n",
    "<table>\n",
    "    <thead><th>Expected</th><th>Actual</th></thead>\n",
    "    <tr>\n",
    "        <td><code>\n",
    "          ['EndSection Name: A',<br> \n",
    "          'StartSection Name: B',<br>\n",
    "          'EndSection Name: B']\n",
    "        </code></td>\n",
    "        <td><code>\n",
    "          ['EndSection Name: A',<br>\n",
    "          'StartSection Name: B',<br>\n",
    "          'EndSection Name: B']\n",
    "        </code></td></tr>\n",
    "</table>"
   ]
  },
  {
   "cell_type": "markdown",
   "metadata": {},
   "source": [
    "## Multiple Single line sections\n",
    "### Single line section *StartSection*\n",
    "> - Start *Before* `StartSection`\n",
    "> - End *Before* `EndSection`"
   ]
  },
  {
   "cell_type": "code",
   "execution_count": 16,
   "metadata": {},
   "outputs": [
    {
     "name": "stdout",
     "output_type": "stream",
     "text": [
      "['StartSection A']\n",
      "['StartSection B']\n",
      "[]\n"
     ]
    }
   ],
   "source": [
    "sub_section1 = Section(\n",
    "    section_name='SubSection',\n",
    "    start_section=SectionBreak('StartSection', break_offset='Before'),\n",
    "    end_section=SectionBreak('EndSection', break_offset='Before')\n",
    "    )\n",
    "\n",
    "test_iter = BufferedIterator(GENERIC_TEST_TEXT)\n",
    "pprint(sub_section1.read(test_iter))\n",
    "pprint(sub_section1.read(test_iter))\n",
    "pprint(sub_section1.read(test_iter))"
   ]
  },
  {
   "cell_type": "markdown",
   "metadata": {},
   "source": [
    "![Good](../examples/Valid.png) Single line `StartSections` are returned\n",
    "|Expected|Actual|\n",
    "|-|-|\n",
    "|`['StartSection Name: A']`|`['StartSection Name: A']`|\n",
    "|`['StartSection Name: B']`|`['StartSection Name: B']`|\n",
    "|`[]`|`[]`|"
   ]
  },
  {
   "cell_type": "markdown",
   "metadata": {},
   "source": [
    "### Defining a section that calls `sub_section1`"
   ]
  },
  {
   "cell_type": "code",
   "execution_count": 17,
   "metadata": {},
   "outputs": [
    {
     "name": "stdout",
     "output_type": "stream",
     "text": [
      "[['StartSection A'], ['StartSection B']]\n"
     ]
    }
   ],
   "source": [
    "full_section = Section(\n",
    "    section_name='Full',\n",
    "    end_section=SectionBreak('ignored', break_offset='Before'),\n",
    "    processor=[sub_section1]\n",
    "    )\n",
    "pprint(full_section.read(GENERIC_TEST_TEXT))"
   ]
  },
  {
   "cell_type": "markdown",
   "metadata": {},
   "source": [
    "![Good](../examples/Valid.png) Both *StartSection* lines are found.\n",
    "\n",
    "<table>\n",
    "    <thead><th>Expected</th><th>Actual</th></thead>\n",
    "    <tr>\n",
    "        <td><code>\n",
    "        [<br>\n",
    "          ['StartSection Name: A'],<br>\n",
    "          ['StartSection Name: B'],<br>\n",
    "        ]</code></td>\n",
    "        <td><code>\n",
    "        [<br>\n",
    "          ['StartSection Name: A'],<br>\n",
    "          ['StartSection Name: B'],<br>\n",
    "        ]</code></td></tr>\n",
    "</table>"
   ]
  },
  {
   "cell_type": "markdown",
   "metadata": {},
   "source": [
    "### Multiple Attempts to define Single line *EndSection* \n",
    "#### Attempt #1. Copy *StartSection* design\n",
    "> - Start *Before* `EndSection`\n",
    "> - End *Before* `StartSection`\n"
   ]
  },
  {
   "cell_type": "code",
   "execution_count": 18,
   "metadata": {},
   "outputs": [
    {
     "name": "stdout",
     "output_type": "stream",
     "text": [
      "['EndSection A']\n",
      "['EndSection B', 'More text to be ignored']\n",
      "[]\n"
     ]
    }
   ],
   "source": [
    "sub_section2a = Section(\n",
    "    section_name='SubSection',\n",
    "    start_section=SectionBreak('EndSection', break_offset='Before'),\n",
    "    end_section=SectionBreak('StartSection', break_offset='Before')\n",
    "    )\n",
    "test_iter = BufferedIterator(GENERIC_TEST_TEXT)\n",
    "pprint(sub_section2a.read(test_iter))\n",
    "pprint(sub_section2a.read(test_iter))\n",
    "pprint(sub_section2a.read(test_iter))"
   ]
  },
  {
   "cell_type": "markdown",
   "metadata": {},
   "source": [
    "![Good](../examples/Valid.png) The result is expected, but not desired.\n",
    "- This doesn't work well because there isn't another *StartSection* after the last it *EndSection*.\n",
    "- As a result, it includes the unwanted text after the last *EndSection*.\n",
    " \n",
    "|Expected|Actual|\n",
    "|-|-|\n",
    "|`['EndSection A']`|`['EndSection A']`|\n",
    "|`['EndSection B', 'More text to be ignored']`|`['EndSection B', 'More text to be ignored']`|\n",
    "|`[]`|`[]`|"
   ]
  },
  {
   "cell_type": "markdown",
   "metadata": {},
   "source": [
    "#### Attempt #2\n",
    "> - Start *Before* `EndSection`\n",
    "> - End *After* `EndSection`\n",
    "\n",
    "- This doesn't work because The first line is not tested so it only breaks after the second occurrence of *EndSection*."
   ]
  },
  {
   "cell_type": "code",
   "execution_count": 19,
   "metadata": {},
   "outputs": [
    {
     "name": "stdout",
     "output_type": "stream",
     "text": [
      "['EndSection A', 'StartSection B', 'EndSection B']\n",
      "[]\n",
      "[]\n"
     ]
    }
   ],
   "source": [
    "sub_section2b = Section(\n",
    "    section_name='SubSection',\n",
    "    start_section=SectionBreak('EndSection', break_offset='Before'),\n",
    "    end_section=SectionBreak('EndSection', break_offset='After'),\n",
    "    )\n",
    "test_iter = BufferedIterator(GENERIC_TEST_TEXT)\n",
    "pprint(sub_section2b.read(test_iter))\n",
    "pprint(sub_section2b.read(test_iter))\n",
    "pprint(sub_section2b.read(test_iter))"
   ]
  },
  {
   "cell_type": "markdown",
   "metadata": {},
   "source": [
    "![Good](../examples/Valid.png) \n",
    "\n",
    "|Expected|Actual|\n",
    "|-|-|\n",
    "|`['EndSection A', 'StartSection B', 'EndSection B']`|`['EndSection A', 'StartSection B', 'EndSection B']`|\n",
    "|`[]`|`[]`|\n",
    "|`[]`|`[]`|\n"
   ]
  },
  {
   "cell_type": "markdown",
   "metadata": {},
   "source": [
    "#### Attempt #3\n",
    "> - Start *Before* `EndSection`\n",
    "> - End *After* `EndSection`\n",
    "> - Enable testing of first item\n",
    "\n",
    "- This should work because the first line should be tested and trigger a break."
   ]
  },
  {
   "cell_type": "code",
   "execution_count": 20,
   "metadata": {},
   "outputs": [
    {
     "name": "stdout",
     "output_type": "stream",
     "text": [
      "['EndSection A']\n",
      "['EndSection B']\n",
      "[]\n"
     ]
    }
   ],
   "source": [
    "sub_section2c = Section(\n",
    "    section_name='SubSection',\n",
    "    start_section=SectionBreak('EndSection', break_offset='Before'),\n",
    "    end_section=SectionBreak('EndSection', break_offset='After'),\n",
    "    end_on_first_item=True,\n",
    "    )\n",
    "test_iter = BufferedIterator(GENERIC_TEST_TEXT)\n",
    "pprint(sub_section2c.read(test_iter))\n",
    "pprint(sub_section2c.read(test_iter))\n",
    "pprint(sub_section2c.read(test_iter))"
   ]
  },
  {
   "cell_type": "markdown",
   "metadata": {},
   "source": [
    "![Good](../examples/Valid.png) \n",
    "\n",
    "|Expected|Actual|\n",
    "|-|-|\n",
    "|`['EndSection A']`|`['EndSection A']`|\n",
    "|`['EndSection B']`|`['EndSection B']`|\n",
    "|`[]`|`[]`|\n"
   ]
  },
  {
   "cell_type": "markdown",
   "metadata": {},
   "source": [
    "#### Attempt #3.5\n",
    "> - Start *Before* `EndSection`\n",
    "> - End *Before* `EndSection`\n",
    "> - Enable testing of first item\n",
    "\n",
    "- This should __<u>not</u>__ work because the first line should be tested and \n",
    "  trigger a break before returning anything."
   ]
  },
  {
   "cell_type": "code",
   "execution_count": 21,
   "metadata": {},
   "outputs": [
    {
     "name": "stdout",
     "output_type": "stream",
     "text": [
      "[]\n",
      "[]\n",
      "[]\n"
     ]
    }
   ],
   "source": [
    "sub_section2cc = Section(\n",
    "    section_name='SubSection',\n",
    "    start_section=SectionBreak('EndSection', break_offset='Before'),\n",
    "    end_section=SectionBreak('EndSection', break_offset='Before'),\n",
    "    end_on_first_item=True,\n",
    "    )\n",
    "test_iter = BufferedIterator(GENERIC_TEST_TEXT)\n",
    "pprint(sub_section2cc.read(test_iter))\n",
    "pprint(sub_section2cc.read(test_iter))\n",
    "pprint(sub_section2cc.read(test_iter))"
   ]
  },
  {
   "cell_type": "markdown",
   "metadata": {},
   "source": [
    "![Good](../examples/Valid.png) \n",
    "\n",
    "|Expected|Actual|\n",
    "|-|-|\n",
    "|`[]`|`[]`|\n",
    "|`[]`|`[]`|\n",
    "|`[]`|`[]`|\n"
   ]
  },
  {
   "cell_type": "markdown",
   "metadata": {},
   "source": [
    "#### Attempt #4\n",
    "> - Start *Before* `EndSection`\n",
    "> - End is `True` (Always Break)\n",
    "> - Enable testing of first item\n",
    "\n",
    "- This should work because the first line should be tested and always trigger a break."
   ]
  },
  {
   "cell_type": "code",
   "execution_count": 22,
   "metadata": {},
   "outputs": [
    {
     "name": "stdout",
     "output_type": "stream",
     "text": [
      "['EndSection A']\n",
      "['EndSection B']\n",
      "[]\n"
     ]
    }
   ],
   "source": [
    "sub_section2d = Section(\n",
    "    section_name='SubSection',\n",
    "    start_section=SectionBreak('EndSection', break_offset='Before'),\n",
    "    end_section=SectionBreak(True, break_offset='After'),\n",
    "    end_on_first_item=True,\n",
    "    )\n",
    "test_iter = BufferedIterator(GENERIC_TEST_TEXT)\n",
    "pprint(sub_section2d.read(test_iter))\n",
    "pprint(sub_section2d.read(test_iter))\n",
    "pprint(sub_section2d.read(test_iter))"
   ]
  },
  {
   "cell_type": "markdown",
   "metadata": {},
   "source": [
    "![Good](../examples/Valid.png) \n",
    "\n",
    "|Expected|Actual|\n",
    "|-|-|\n",
    "|`['StartSection A']`|`['EndSection A']`|\n",
    "|`['StartSection B']`|`['EndSection B']`|\n",
    "|`[]`|`[]`|"
   ]
  },
  {
   "cell_type": "markdown",
   "metadata": {},
   "source": [
    "#### Attempt #5\n",
    "> - Start *Before* `EndSection`\n",
    "> - End is `True` (Always Break)\n",
    "> - Don't enable testing of first item\n",
    "\n",
    "- This should <u>not</u> work because the break should trigger on the second line."
   ]
  },
  {
   "cell_type": "code",
   "execution_count": 23,
   "metadata": {},
   "outputs": [
    {
     "name": "stdout",
     "output_type": "stream",
     "text": [
      "['EndSection A', 'StartSection B']\n",
      "['EndSection B', 'More text to be ignored']\n",
      "[]\n"
     ]
    }
   ],
   "source": [
    "sub_section2e = Section(\n",
    "    section_name='SubSection',\n",
    "    start_section=SectionBreak('EndSection', break_offset='Before'),\n",
    "    end_section=SectionBreak(True, break_offset='After')\n",
    "    )\n",
    "test_iter = BufferedIterator(GENERIC_TEST_TEXT)\n",
    "pprint(sub_section2e.read(test_iter))\n",
    "pprint(sub_section2e.read(test_iter))\n",
    "pprint(sub_section2e.read(test_iter))"
   ]
  },
  {
   "cell_type": "markdown",
   "metadata": {},
   "source": [
    "![Good](../examples/Valid.png) \n",
    "\n",
    "|Expected|Actual|\n",
    "|-|-|\n",
    "|`['EndSection A', 'StartSection B']`|`['EndSection A', 'StartSection B']`|\n",
    "|`['EndSection B', 'More text to be ignored']`|`['EndSection B', 'More text to be ignored']`|\n",
    "|`[]`|`[]`|\n",
    "\n",
    "**`end_section=SectionBreak(True)` defaults to `break_offset='Before'`**"
   ]
  },
  {
   "cell_type": "markdown",
   "metadata": {},
   "source": [
    "#### Attempt #6\n",
    "> - Start *Before* `EndSection`\n",
    "> - End *After* ___`True`___ (Always Break)\n",
    "> - Don't enable testing of first item\n",
    "\n",
    "- This should <u>not</u> work because the break should trigger *After* the second line."
   ]
  },
  {
   "cell_type": "code",
   "execution_count": 24,
   "metadata": {},
   "outputs": [
    {
     "name": "stdout",
     "output_type": "stream",
     "text": [
      "['EndSection A', 'StartSection B']\n",
      "['EndSection B', 'More text to be ignored']\n",
      "[]\n"
     ]
    }
   ],
   "source": [
    "sub_section2f = Section(\n",
    "    section_name='SubSection',\n",
    "    start_section=SectionBreak('EndSection', break_offset='Before'),\n",
    "    end_section=SectionBreak(True, break_offset='After')\n",
    "    )\n",
    "test_iter = BufferedIterator(GENERIC_TEST_TEXT)\n",
    "pprint(sub_section2f.read(test_iter))\n",
    "pprint(sub_section2f.read(test_iter))\n",
    "pprint(sub_section2f.read(test_iter))"
   ]
  },
  {
   "cell_type": "markdown",
   "metadata": {},
   "source": [
    "![Good](../examples/Valid.png)\n",
    "|Expected|Actual|\n",
    "|-|-|\n",
    "|`['EndSection A', 'StartSection B']`|`['EndSection A', 'StartSection B']`|\n",
    "|`['EndSection B', 'More text to be ignored']`|`['EndSection B', 'More text to be ignored']`|\n",
    "|`[]`|`[]`|"
   ]
  },
  {
   "cell_type": "markdown",
   "metadata": {},
   "source": [
    "#### Attempt #7\n",
    "> - Start *Before* `EndSection`\n",
    "> - Enable testing of first item\n",
    "> - No End setting\n",
    "\n",
    "- This should start with the first *EndSection* line and not stop until the end of the iterator."
   ]
  },
  {
   "cell_type": "code",
   "execution_count": 25,
   "metadata": {},
   "outputs": [
    {
     "name": "stdout",
     "output_type": "stream",
     "text": [
      "['EndSection A', 'StartSection B', 'EndSection B', 'More text to be ignored']\n",
      "[]\n",
      "[]\n"
     ]
    }
   ],
   "source": [
    "sub_section2g = Section(\n",
    "    section_name='SubSection',\n",
    "    start_section=SectionBreak('EndSection', break_offset='Before'),\n",
    "    end_on_first_item=True,\n",
    "    )\n",
    "test_iter = BufferedIterator(GENERIC_TEST_TEXT)\n",
    "pprint(sub_section2g.read(test_iter))\n",
    "pprint(sub_section2g.read(test_iter))\n",
    "pprint(sub_section2g.read(test_iter))"
   ]
  },
  {
   "cell_type": "markdown",
   "metadata": {},
   "source": [
    "![Good](../examples/Valid.png)\n",
    "|Expected|Actual|\n",
    "|-|-|\n",
    "|`['EndSection Name: A', ['StartSection Name: B', 'EndSection Name: B', 'More text to be ignored']`|`['EndSection Name: A', 'StartSection Name: B', 'EndSection Name: B', 'More text to be ignored']`|\n",
    "|`[]`|`[]`|\n",
    "|`[]`|`[]`|\n"
   ]
  },
  {
   "cell_type": "markdown",
   "metadata": {},
   "source": [
    "#### Single line section *EndSection* __Final Design__.\n",
    "> - Start *Before* `EndSection`\n",
    "> - End *Before* ___`True`___ (Always Break)\n",
    "> - Don't enable testing of first item\n",
    "\n",
    "- This should work because the break should trigger *Before* the second line."
   ]
  },
  {
   "cell_type": "code",
   "execution_count": 26,
   "metadata": {},
   "outputs": [
    {
     "name": "stdout",
     "output_type": "stream",
     "text": [
      "['EndSection A']\n",
      "['EndSection B']\n",
      "[]\n"
     ]
    }
   ],
   "source": [
    "sub_section2 = Section(\n",
    "    section_name='SubSection',\n",
    "    start_section=SectionBreak('EndSection', break_offset='Before'),\n",
    "    end_section=SectionBreak(True, break_offset='Before')\n",
    "    )\n",
    "test_iter = BufferedIterator(GENERIC_TEST_TEXT)\n",
    "pprint(sub_section2.read(test_iter))\n",
    "pprint(sub_section2.read(test_iter))\n",
    "pprint(sub_section2.read(test_iter))"
   ]
  },
  {
   "cell_type": "markdown",
   "metadata": {},
   "source": [
    "![Good](../examples/Valid.png) End breaks *Before* second line. \n",
    "\n",
    "|Expected|Actual|\n",
    "|-|-|\n",
    "|`['EndSection Name: A']`|`['EndSection Name: A']`|\n",
    "|`['EndSection Name: B']`|`['EndSection Name: B']`|\n",
    "|`[]`|`[]`|"
   ]
  },
  {
   "cell_type": "code",
   "execution_count": 27,
   "metadata": {},
   "outputs": [],
   "source": [
    "GENERIC_TEST_TEXT = [\n",
    "    'Text to be ignored',\n",
    "    'StartSection A',\n",
    "    'EndSection A',\n",
    "    'StartSection B',\n",
    "    'EndSection B', \n",
    "    'More text to be ignored',\n",
    "    ]"
   ]
  },
  {
   "cell_type": "code",
   "execution_count": 28,
   "metadata": {},
   "outputs": [],
   "source": [
    "start_sub_section = Section(\n",
    "    section_name='StartSection',\n",
    "    start_section=SectionBreak('StartSection', break_offset='Before'),\n",
    "    end_section=SectionBreak('EndSection', break_offset='Before')\n",
    "    )\n",
    "end_sub_section = Section(\n",
    "    section_name='EndSection',\n",
    "    start_section=SectionBreak('EndSection', break_offset='Before'),\n",
    "    end_section=SectionBreak(True, break_offset='Before')\n",
    "    )\n"
   ]
  },
  {
   "cell_type": "markdown",
   "metadata": {},
   "source": [
    "### Combined Start and End subsections Single line section \n",
    "***sub_section1***\n",
    "> - Start *Before* `StartSection`\n",
    "> - End *Before* `EndSection`\n",
    "\n",
    "***sub_section2*** \n",
    "> - Start *Before* `EndSection`\n",
    "> - End *Before* ___`True`___ (Always Break)\n",
    "> - Don't enable testing of first item\n",
    "\n",
    "`processor=[[sub_section1, sub_section2]]`"
   ]
  },
  {
   "cell_type": "code",
   "execution_count": 29,
   "metadata": {},
   "outputs": [
    {
     "name": "stdout",
     "output_type": "stream",
     "text": [
      "[{'EndSection': ['EndSection A'], 'StartSection': ['StartSection A']},\n",
      " {'EndSection': ['EndSection B'], 'StartSection': ['StartSection B']}]\n"
     ]
    }
   ],
   "source": [
    "\n",
    "full_section = Section(\n",
    "    section_name='Full',\n",
    "    processor=[[start_sub_section, end_sub_section]]\n",
    "    )\n",
    "pprint(full_section.read(GENERIC_TEST_TEXT))"
   ]
  },
  {
   "cell_type": "markdown",
   "metadata": {},
   "source": [
    "![Good](../examples/Valid.png) List of dictionaries. \n",
    "One dictionary for each section group.\n",
    "<table>\n",
    "    <thead><tr><th>Expected</th><th>Actual</th></tr></thead>\n",
    "        <tr>\n",
    "            <td><code>\n",
    "                [<br>  \n",
    "                {'StartSection': ['StartSection A'],<br>\n",
    "                'EndSection':   ['EndSection A']},<br>\n",
    "                {'StartSection': ['StartSection B'],<br>\n",
    "                'EndSection':   ['EndSection B']}<br>\n",
    "                ]\n",
    "            </code></td>\n",
    "            <td><code>\n",
    "                [<br>  \n",
    "                {'StartSection': ['StartSection A'],<br>\n",
    "                'EndSection':   ['EndSection A']},<br>\n",
    "                {'StartSection': ['StartSection B'],<br>\n",
    "                'EndSection':   ['EndSection B']}<br>\n",
    "                ]\n",
    "            </code></td>\n",
    "        </tr>\n",
    "</table>"
   ]
  },
  {
   "cell_type": "markdown",
   "metadata": {},
   "source": [
    "### Defining a Top Section that calls two single line subsections."
   ]
  },
  {
   "cell_type": "markdown",
   "metadata": {},
   "source": [
    "#### Two Subsection definitions "
   ]
  },
  {
   "cell_type": "code",
   "execution_count": 30,
   "metadata": {},
   "outputs": [],
   "source": [
    "start_sub_section = Section(\n",
    "    section_name='StartSection',\n",
    "    start_section=SectionBreak('StartSection', break_offset='Before'),\n",
    "    end_section=SectionBreak(True, break_offset='Before')\n",
    "    )\n",
    "end_sub_section = Section(\n",
    "    section_name='EndSection',\n",
    "    start_section=SectionBreak('EndSection', break_offset='Before'),\n",
    "    end_section=SectionBreak(True, break_offset='Before')\n",
    "    )\n"
   ]
  },
  {
   "cell_type": "markdown",
   "metadata": {},
   "source": [
    "#### Defining ***top_section*** \n",
    "- Contains an ending break:\n",
    "    > `end_section=SectionBreak('ignored', break_offset='Before')`."
   ]
  },
  {
   "cell_type": "code",
   "execution_count": 31,
   "metadata": {},
   "outputs": [
    {
     "name": "stdout",
     "output_type": "stream",
     "text": [
      "[{'EndSection': ['EndSection A'], 'StartSection': ['StartSection A']},\n",
      " {'EndSection': ['EndSection B'], 'StartSection': ['StartSection B']}]\n"
     ]
    }
   ],
   "source": [
    "\n",
    "top_section = Section(\n",
    "    section_name='Full',\n",
    "    end_section=SectionBreak('ignored', break_offset='Before'),\n",
    "    processor=[[start_sub_section, end_sub_section]]\n",
    "    )\n",
    "pprint(top_section.read(GENERIC_TEST_TEXT))"
   ]
  },
  {
   "cell_type": "markdown",
   "metadata": {},
   "source": [
    "![Good](../examples/Valid.png) List of dictionaries. \n",
    "One dictionary for each section group.\n",
    "<table>\n",
    "    <thead><tr><th>Expected</th><th>Actual</th></tr></thead>\n",
    "        <tr>\n",
    "            <td><code>\n",
    "                [<br>  \n",
    "                {'StartSection': ['StartSection A'],<br>\n",
    "                'EndSection':   ['EndSection A']},<br>\n",
    "                {'StartSection': ['StartSection B'],<br>\n",
    "                'EndSection':   ['EndSection B']}<br>\n",
    "                ]\n",
    "            </code></td>\n",
    "            <td><code>\n",
    "                [<br>  \n",
    "                {'StartSection': ['StartSection A'],<br>\n",
    "                'EndSection':   ['EndSection A']},<br>\n",
    "                {'StartSection': ['StartSection B'],<br>\n",
    "                'EndSection':   ['EndSection B']}<br>\n",
    "                ]\n",
    "            </code></td>\n",
    "        </tr>\n",
    "</table>"
   ]
  },
  {
   "cell_type": "markdown",
   "metadata": {},
   "source": [
    "#### Adding subsection C and subsection D"
   ]
  },
  {
   "cell_type": "code",
   "execution_count": 32,
   "metadata": {},
   "outputs": [
    {
     "name": "stdout",
     "output_type": "stream",
     "text": [
      "[{'EndSection': ['EndSection A'], 'StartSection': ['StartSection A']},\n",
      " {'EndSection': ['EndSection B'], 'StartSection': ['StartSection B']},\n",
      " {'EndSection': ['EndSection C'], 'StartSection': ['StartSection C']},\n",
      " {'EndSection': ['EndSection D'], 'StartSection': ['StartSection D']}]\n"
     ]
    }
   ],
   "source": [
    "GENERIC_TEST_TEXT = [\n",
    "    'Text to be ignored',\n",
    "    'StartSection A',\n",
    "    'EndSection A',\n",
    "    'StartSection B',\n",
    "    'EndSection B', \n",
    "    'StartSection C',\n",
    "    'EndSection C',\n",
    "    'StartSection D',\n",
    "    'EndSection D',\n",
    "    'More text to be ignored',\n",
    "    ]\n",
    "\n",
    "pprint(top_section.read(GENERIC_TEST_TEXT))"
   ]
  },
  {
   "cell_type": "markdown",
   "metadata": {},
   "source": [
    "![Good](../examples/Valid.png) List of dictionaries. \n",
    "One dictionary for each section group.\n",
    "<table>\n",
    "    <thead><tr><th>Expected</th><th>Actual</th></tr></thead>\n",
    "        <tr><td><code>[</code></td><td><code>[</code></td></tr>\n",
    "        <tr>\n",
    "            <td><code>\n",
    "                {'StartSection': ['StartSection A'],<br>\n",
    "                'EndSection':   ['EndSection A']},\n",
    "            </code></td>\n",
    "            <td><code>\n",
    "                {'StartSection': ['StartSection A'],<br>\n",
    "                'EndSection':   ['EndSection A']},\n",
    "            </code></td>\n",
    "        </tr><tr>\n",
    "            <td><code>\n",
    "                {'StartSection': ['StartSection B'],<br>\n",
    "                'EndSection':   ['EndSection B']},\n",
    "            </code></td>\n",
    "            <td><code>\n",
    "                {'StartSection': ['StartSection B'],<br>\n",
    "                'EndSection':   ['EndSection B']},\n",
    "            </code></td>\n",
    "        </tr><tr>\n",
    "            <td><code>\n",
    "                {'StartSection': ['StartSection C'],<br>\n",
    "                'EndSection':   ['EndSection C']},\n",
    "            </code></td>\n",
    "            <td><code>\n",
    "                {'StartSection': ['StartSection C'],<br>\n",
    "                'EndSection':   ['EndSection C']},\n",
    "            </code></td>\n",
    "        </tr><tr>\n",
    "            <td><code>\n",
    "                {'StartSection': ['StartSection D'],<br>\n",
    "                'EndSection':   ['EndSection D']},\n",
    "            </code></td>\n",
    "            <td><code>\n",
    "                {'StartSection': ['StartSection D'],<br>\n",
    "                'EndSection':   ['EndSection D']},\n",
    "            </code></td>\n",
    "        </tr>\n",
    "        <tr><td><code>]</code></td><td><code>]</code></td></tr>\n",
    "</table>"
   ]
  },
  {
   "cell_type": "markdown",
   "metadata": {},
   "source": [
    "### Including unwanted text in between subsections"
   ]
  },
  {
   "cell_type": "code",
   "execution_count": 33,
   "metadata": {},
   "outputs": [
    {
     "name": "stdout",
     "output_type": "stream",
     "text": [
      "[{'EndSection': ['EndSection A'], 'StartSection': ['StartSection A']},\n",
      " {'EndSection': ['EndSection C'], 'StartSection': ['StartSection B']}]\n"
     ]
    }
   ],
   "source": [
    "GENERIC_TEST_TEXT = [\n",
    "    'Text to be ignored',\n",
    "    'StartSection A',\n",
    "    'EndSection A',\n",
    "    'StartSection B',  # Missing 'EndSection B',\n",
    "    'StartSection C',\n",
    "    'EndSection C',\n",
    "    'More text to be ignored',   # 'ignored' triggers end of top section\n",
    "    'StartSection D',\n",
    "    'EndSection D',\n",
    "    'More text to be ignored',\n",
    "    ]\n",
    "\n",
    "pprint(top_section.read(GENERIC_TEST_TEXT))\n"
   ]
  },
  {
   "cell_type": "markdown",
   "metadata": {},
   "source": [
    "![Good](../examples/Valid.png) List of dictionaries stops after\n",
    " _'More text to be ignored'_ line.\n",
    "<table>\n",
    "    <thead><tr><th>Expected</th><th>Actual</th></tr></thead>\n",
    "        <tr><td><code>[</code></td><td><code>[</code></td></tr>\n",
    "        <tr>\n",
    "            <td><code>\n",
    "                {'StartSection': ['StartSection A'],<br>\n",
    "                'EndSection':   ['EndSection A']},\n",
    "            </code></td>\n",
    "            <td><code>\n",
    "                {'StartSection': ['StartSection A'],<br>\n",
    "                'EndSection':   ['EndSection A']},\n",
    "            </code></td>\n",
    "        </tr><tr>\n",
    "            <td><code>\n",
    "                {'StartSection': ['StartSection B'],<br>\n",
    "                'EndSection':   ['EndSection B']},\n",
    "            </code></td>\n",
    "            <td><code>\n",
    "                {'StartSection': ['StartSection B'],<br>\n",
    "                'EndSection':   ['EndSection B']},\n",
    "            </code></td>\n",
    "        </tr><tr>\n",
    "            <td><code>\n",
    "                {'StartSection': ['StartSection C'],<br>\n",
    "                'EndSection':   ['EndSection C']},\n",
    "            </code></td>\n",
    "            <td><code>\n",
    "                {'StartSection': ['StartSection C'],<br>\n",
    "                'EndSection':   ['EndSection C']},\n",
    "            </code></td>\n",
    "        </tr>\n",
    "        <tr><td><code>]</code></td><td><code>]</code></td></tr>\n",
    "</table>"
   ]
  },
  {
   "cell_type": "markdown",
   "metadata": {},
   "source": [
    "#### Including unwanted text in between the start and end of subsection C"
   ]
  },
  {
   "cell_type": "code",
   "execution_count": 34,
   "metadata": {},
   "outputs": [
    {
     "name": "stdout",
     "output_type": "stream",
     "text": [
      "[{'EndSection': ['EndSection A'], 'StartSection': ['StartSection A']},\n",
      " {'EndSection': ['EndSection B'], 'StartSection': ['StartSection B']},\n",
      " {'StartSection': ['StartSection C']}]\n"
     ]
    }
   ],
   "source": [
    "GENERIC_TEST_TEXT = [\n",
    "    'Text to be ignored',\n",
    "    'StartSection A',\n",
    "    'EndSection A',\n",
    "    'StartSection B',\n",
    "    'EndSection B', \n",
    "    'StartSection C',\n",
    "    'More text to be ignored',   # 'ignored' triggers end of top section\n",
    "    'EndSection C',\n",
    "    'StartSection D',\n",
    "    'EndSection D',\n",
    "    'More text to be ignored',\n",
    "    ]\n",
    "\n",
    "pprint(top_section.read(GENERIC_TEST_TEXT))"
   ]
  },
  {
   "cell_type": "markdown",
   "metadata": {},
   "source": [
    "![Good](../examples/Valid.png) List of dictionaries stops after\n",
    " _'More text to be ignored'_ line.\n",
    " For Section __C__, only _'StartSection'_ is in the dictionary.\n",
    "<table>\n",
    "    <thead><tr><th>Expected</th><th>Actual</th></tr></thead>\n",
    "        <tr><td><code>[</code></td><td><code>[</code></td></tr>\n",
    "        <tr>\n",
    "            <td><code>\n",
    "                {'StartSection': ['StartSection A'],<br>\n",
    "                'EndSection':   ['EndSection A']},\n",
    "            </code></td>\n",
    "            <td><code>\n",
    "                {'StartSection': ['StartSection A'],<br>\n",
    "                'EndSection':   ['EndSection A']},\n",
    "            </code></td>\n",
    "        </tr><tr>\n",
    "            <td><code>\n",
    "                {'StartSection': ['StartSection B'],<br>\n",
    "                'EndSection':   ['EndSection B']},\n",
    "            </code></td>\n",
    "            <td><code>\n",
    "                {'StartSection': ['StartSection B'],<br>\n",
    "                'EndSection':   ['EndSection B']},\n",
    "            </code></td>\n",
    "        </tr><tr>\n",
    "            <td><code>\n",
    "                {'StartSection': ['StartSection C']},\n",
    "            </code></td>\n",
    "            <td><code>\n",
    "                {'StartSection': ['StartSection C']},\n",
    "            </code></td>\n",
    "        </tr>\n",
    "        <tr><td><code>]</code></td><td><code>]</code></td></tr>\n",
    "</table>"
   ]
  },
  {
   "cell_type": "markdown",
   "metadata": {},
   "source": [
    "#### Dropping the corresponding *EndSection* for a *StartSection*."
   ]
  },
  {
   "cell_type": "code",
   "execution_count": 35,
   "metadata": {},
   "outputs": [
    {
     "name": "stdout",
     "output_type": "stream",
     "text": [
      "[{'EndSection': ['EndSection A'], 'StartSection': ['StartSection A']},\n",
      " {'EndSection': ['EndSection C'], 'StartSection': ['StartSection B']},\n",
      " {'EndSection': ['EndSection D'], 'StartSection': ['StartSection D']}]\n"
     ]
    }
   ],
   "source": [
    "GENERIC_TEST_TEXT = [\n",
    "    'Text to be ignored',\n",
    "    'StartSection A',\n",
    "    'EndSection A',\n",
    "    'StartSection B',  # Missing 'EndSection B',\n",
    "    'StartSection C',\n",
    "    'EndSection C',\n",
    "    'StartSection D',\n",
    "    'EndSection D',\n",
    "    'More text to be ignored',\n",
    "    ]\n",
    "\n",
    "pprint(top_section.read(GENERIC_TEST_TEXT))\n"
   ]
  },
  {
   "cell_type": "markdown",
   "metadata": {},
   "source": [
    "![Good](../examples/Valid.png) _'StartSection B'_ is read, then section ends. \n",
    "`top_section` then ignores all lines until start of next `end_sub_section`:\n",
    "_'EndSection C'_.\n",
    "<style type=\"text/css\">\n",
    ".hl{font-weight:bold;color:cyan;font-size: 110%;font-family: serif}\n",
    "</style>\n",
    "<table>\n",
    "    <thead><tr><th>Expected</th><th>Actual</th></tr></thead>\n",
    "        <tr><td><code>[</code></td><td><code>[</code></td></tr>\n",
    "        <tr>\n",
    "            <td><code>\n",
    "                {'StartSection': ['StartSection A'],<br>\n",
    "                'EndSection':   ['EndSection A']},\n",
    "            </code></td>\n",
    "            <td><code>\n",
    "                {'StartSection': ['StartSection A'],<br>\n",
    "                'EndSection':   ['EndSection A']},\n",
    "            </code></td>\n",
    "        </tr><tr>\n",
    "            <td><code>\n",
    "                {'StartSection': ['StartSection <Span class=\"hl\">B</Span>'],<br>\n",
    "                'EndSection':   ['EndSection <Span class=\"hl\">C</Span>']},\n",
    "            </code></td>\n",
    "            <td><code>\n",
    "                {'StartSection': ['StartSection <Span class=\"hl\">B</Span>'],<br>\n",
    "                'EndSection':   ['EndSection <Span class=\"hl\">C</Span>']},\n",
    "            </code></td>\n",
    "        </tr><tr>\n",
    "            <td><code>\n",
    "                {'StartSection': ['StartSection D'],<br>\n",
    "                'EndSection':   ['EndSection D']},\n",
    "            </code></td>\n",
    "            <td><code>\n",
    "                {'StartSection': ['StartSection D'],<br>\n",
    "                'EndSection':   ['EndSection D']},\n",
    "            </code></td>\n",
    "        </tr>\n",
    "        <tr><td><code>]</code></td><td><code>]</code></td></tr>\n",
    "</table>"
   ]
  },
  {
   "cell_type": "markdown",
   "metadata": {},
   "source": [
    "#### Dropping the corresponding *StartSection* for an *EndSection*."
   ]
  },
  {
   "cell_type": "code",
   "execution_count": 36,
   "metadata": {},
   "outputs": [
    {
     "name": "stdout",
     "output_type": "stream",
     "text": [
      "[{'EndSection': ['EndSection A'], 'StartSection': ['StartSection A']},\n",
      " {'EndSection': ['EndSection B'], 'StartSection': ['StartSection B']},\n",
      " {'EndSection': ['EndSection D'], 'StartSection': ['StartSection D']}]\n"
     ]
    }
   ],
   "source": [
    "GENERIC_TEST_TEXT = [\n",
    "    'Text to be ignored',\n",
    "    'StartSection A',\n",
    "    'EndSection A',\n",
    "    'StartSection B',  \n",
    "    'EndSection B',  # Missing 'StartSection C',\n",
    "    'EndSection C',\n",
    "    'StartSection D',\n",
    "    'EndSection D',\n",
    "    'More text to be ignored',\n",
    "    ]\n",
    "\n",
    "pprint(top_section.read(GENERIC_TEST_TEXT))\n"
   ]
  },
  {
   "cell_type": "markdown",
   "metadata": {},
   "source": [
    "![Good](../examples/Valid.png) The entire _Section C_ is skipped because it \n",
    "will not look for an _EndSection_ until a _StartSection_ is found.\n",
    "<table>\n",
    "    <thead><tr><th>Expected</th><th>Actual</th></tr></thead>\n",
    "        <tr><td><code>[</code></td><td><code>[</code></td></tr>\n",
    "        <tr>\n",
    "            <td><code>\n",
    "                {'StartSection': ['StartSection A'],<br>\n",
    "                'EndSection':   ['EndSection A']},\n",
    "            </code></td>\n",
    "            <td><code>\n",
    "                {'StartSection': ['StartSection A'],<br>\n",
    "                'EndSection':   ['EndSection A']},\n",
    "            </code></td>\n",
    "        </tr><tr>\n",
    "            <td><code>\n",
    "                {'StartSection': ['StartSection B'],<br>\n",
    "                'EndSection':   ['EndSection B']},\n",
    "            </code></td>\n",
    "            <td><code>\n",
    "                {'StartSection': ['StartSection B'],<br>\n",
    "                'EndSection':   ['EndSection B']},\n",
    "            </code></td>\n",
    "        </tr><tr>\n",
    "            <td><code>\n",
    "                {'StartSection': ['StartSection D'],<br>\n",
    "                'EndSection':   ['EndSection D']},\n",
    "            </code></td>\n",
    "            <td><code>\n",
    "                {'StartSection': ['StartSection D'],<br>\n",
    "                'EndSection':   ['EndSection D']},\n",
    "            </code></td>\n",
    "        </tr>\n",
    "        <tr><td><code>]</code></td><td><code>]</code></td></tr>\n",
    "</table>"
   ]
  },
  {
   "cell_type": "markdown",
   "metadata": {},
   "source": [
    "## Check *Source* status\n",
    "- Check ___Source___ status after section read."
   ]
  },
  {
   "cell_type": "code",
   "execution_count": 37,
   "metadata": {},
   "outputs": [
    {
     "name": "stdout",
     "output_type": "stream",
     "text": [
      "previous_items\n",
      "['EndSection B', 'EndSection C', 'StartSection D', 'EndSection D']\n",
      "\n",
      "future_items\n",
      "['More text to be ignored']\n"
     ]
    }
   ],
   "source": [
    "sub_section = Section(\n",
    "    section_name='SubSection',\n",
    "    start_section=SectionBreak('StartSection', break_offset='Before', name='SubSectionStart'),\n",
    "    end_section=SectionBreak('EndSection', break_offset='After', name='SubSectionEnd')\n",
    "    )\n",
    "full_section = Section(\n",
    "    section_name='Full',\n",
    "    end_section=SectionBreak('ignored', break_offset='Before'),\n",
    "    processor=sub_section\n",
    "    )\n",
    "a = full_section.read(GENERIC_TEST_TEXT)\n",
    "print('previous_items')\n",
    "pprint(list(full_section.source.previous_items))\n",
    "print()\n",
    "print('future_items')\n",
    "pprint(list(full_section.source.future_items ))"
   ]
  },
  {
   "cell_type": "markdown",
   "metadata": {},
   "source": [
    "#### Expected source values\n",
    "<table>\n",
    "<thead>\n",
    "  <tr>\n",
    "    <th>Buffer</th>\n",
    "    <th>Expected</th>\n",
    "    <th>Actual</th>\n",
    "    <th>Test</th>\n",
    "  </tr>\n",
    "</thead>\n",
    "<tr><td><b>previous_items</b></td>\n",
    "<td><code>['StartSection A', 'EndSection A',<br>\n",
    "           'StartSection B', 'EndSection B']</code></td>\n",
    "<td><code>['StartSection A', 'EndSection A',<br>\n",
    "           'StartSection B', 'EndSection B']</code></td>\n",
    "<td><img src=\"../examples/Valid.png\" alt=\"Good\"/></td></tr>\n",
    "<tr><td><b>future_items</b></td>\n",
    "<td><code>['More text to be ignored']</code></td>\n",
    "<td><code>['More text to be ignored']</code></td>\n",
    "<td><img src=\"../examples/Valid.png\" alt=\"Good\"/></td></tr>\n",
    "</table>"
   ]
  }
 ],
 "metadata": {
  "interpreter": {
   "hash": "bdd6de19b6444c4abd83e7de365882263ac0d7d20a0aa7e5f5ebd36d3365c333"
  },
  "kernelspec": {
   "display_name": "Python (sectionaryDev)",
   "language": "python",
   "name": "sectionarydev"
  },
  "language_info": {
   "codemirror_mode": {
    "name": "ipython",
    "version": 3
   },
   "file_extension": ".py",
   "mimetype": "text/x-python",
   "name": "python",
   "nbconvert_exporter": "python",
   "pygments_lexer": "ipython3",
   "version": "3.8.12"
  }
 },
 "nbformat": 4,
 "nbformat_minor": 4
}
