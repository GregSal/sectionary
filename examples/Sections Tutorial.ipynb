{
 "cells": [
  {
   "cell_type": "markdown",
   "metadata": {},
   "source": [
    "# Section Introductory Tutorial"
   ]
  },
  {
   "cell_type": "markdown",
   "metadata": {},
   "source": [
    "## Introduction"
   ]
  },
  {
   "cell_type": "markdown",
   "metadata": {},
   "source": [
    " There are many good text readers and parsers available for Python (such as *csv*), \n",
    " but they generally assume that the source they are reading from has uniform \n",
    " formatting throughout.  However, often this is not the case. Different parts \n",
    " of a text file may contain different types of information each of which require different approached to reading the data. \n",
    "\n",
    " The Sections module is used to define, read and process distinct groups of items\n",
    " -- usually lines of text -- from an iterable source.  \n",
    "\n",
    "The principal class is:\n",
    "\n",
    "    Section(section_name: str = 'Section',\n",
    "            start_section: (SectionBreak, List[SectionBreak], str, Optional)\n",
    "            end_section: (SectionBreak, List[SectionBreak], str, Optional)\n",
    "            processor: (ProcessingMethods, Section, List[Section], Optional)\n",
    "            aggregate: (Callable, Optional)\n",
    "            keep_partial: bool = False)\n",
    "\n",
    "- Section defines a continuous portion of a text stream or other iterable.\n",
    "\n",
    "- A section definition may include:\n",
    "\n",
    "    - Starting and ending break points.\n",
    "    - Processing instructions.\n",
    "    - An aggregation method.\n",
    "\n",
    "- A Section instance is created by defining one or Once a section has been defined, it can be applied to an iterator using:\n",
    "\n",
    "`read(source)`\n",
    "> Where\n",
    "> *source* is any iterable supplying the text lines to be parsed.\n",
    "\n",
    "Supporting classes:\n",
    "\n",
    "`Trigger(sentinel, location=None, name)`: \n",
    ">  Define a test for evaluating a source item.\n",
    "\n",
    "`SectionBreak(sentinel, location, break_offset, name)`: \n",
    ">  Identify the start or end of a section.\n",
    "\n",
    "`Rule(sentinel, location, pass_method, fail_method, name)`: \n",
    ">  Apply a method based on trigger test result.\n",
    "\n",
    "`RuleSet(rule_list, default, name)`:  \n",
    ">  Apply a sequence of Rules, stopping with the first Rule to pass.\n",
    "        \n",
    "`ProcessingMethods(processing_methods, name)`: \n",
    ">  Apply a series of functions to a supplied sequence of items."
   ]
  },
  {
   "cell_type": "markdown",
   "metadata": {},
   "source": [
    "**Note:** Although the examples given here are focused on text, The Sectionary package works with any type of sequence."
   ]
  },
  {
   "cell_type": "markdown",
   "metadata": {
    "jupyter": {
     "outputs_hidden": true,
     "source_hidden": true
    }
   },
   "source": [
    "## Imports"
   ]
  },
  {
   "cell_type": "markdown",
   "metadata": {
    "jupyter": {
     "source_hidden": true
    }
   },
   "source": [
    "#### Standard Python Modules"
   ]
  },
  {
   "cell_type": "code",
   "execution_count": 25,
   "metadata": {
    "jupyter": {
     "source_hidden": true
    }
   },
   "outputs": [],
   "source": [
    "from pathlib import Path\n",
    "from pprint import pprint\n",
    "#import re"
   ]
  },
  {
   "cell_type": "markdown",
   "metadata": {
    "jupyter": {
     "source_hidden": true
    }
   },
   "source": [
    "#### Useful Third Party Packages"
   ]
  },
  {
   "cell_type": "code",
   "execution_count": 45,
   "metadata": {
    "jupyter": {
     "source_hidden": true
    }
   },
   "outputs": [],
   "source": [
    "import pandas as pd\n",
    "#import xlwings as xw"
   ]
  },
  {
   "cell_type": "markdown",
   "metadata": {
    "jupyter": {
     "source_hidden": true
    }
   },
   "source": [
    "#### Sectionary Imports"
   ]
  },
  {
   "cell_type": "raw",
   "metadata": {},
   "source": [
    "# Add module to PythonPath\n",
    "import sys\n",
    "sectionary_relative_path = r'../src/sectionary')\n",
    "sectionary_path = str(Path(sectionary_relative_path).resolve())\n",
    "sys.path.append(sectionary_path)"
   ]
  },
  {
   "cell_type": "code",
   "execution_count": 26,
   "metadata": {},
   "outputs": [],
   "source": [
    "import sections\n",
    "#import text_reader as tp\n",
    "#from sections import Rule, RuleSet, SectionBreak, ProcessingMethods, Section"
   ]
  },
  {
   "cell_type": "markdown",
   "metadata": {},
   "source": [
    "## The Text to be Processed"
   ]
  },
  {
   "cell_type": "markdown",
   "metadata": {
    "jupyter": {
     "source_hidden": true
    }
   },
   "source": [
    "This tutorial uses the output from the Windows `dir` command:\n",
    "> `DIR \"Test Dir Structure\" /S /N /-C /T:W >  \"test_DIR_Data.txt\"`\n",
    "\n",
    "More information on this command syntax and resulting output can be found \n",
    "[here](MS_Dir_Output.html)"
   ]
  },
  {
   "cell_type": "markdown",
   "metadata": {},
   "source": [
    "The output from the `Dir` command is read in as a list of text lines by the command:\n",
    "`dir_text = Path('test_DIR_Data.txt').read_text().splitlines()`"
   ]
  },
  {
   "cell_type": "code",
   "execution_count": 27,
   "metadata": {},
   "outputs": [],
   "source": [
    "dir_text = Path('test_DIR_Data.txt').read_text().splitlines()"
   ]
  },
  {
   "cell_type": "markdown",
   "metadata": {},
   "source": [
    "`dir_text` also can be obtained directly using an _iPython_ command:\n",
    "> `dir_text = !DIR \"Test Dir Structure\" /S /N /-C /T:W`"
   ]
  },
  {
   "cell_type": "markdown",
   "metadata": {
    "jupyter": {
     "source_hidden": true
    }
   },
   "source": [
    "### `Dir` Output Structure"
   ]
  },
  {
   "cell_type": "markdown",
   "metadata": {},
   "source": [
    "The first 24 lines of `dir_text` are:\n"
   ]
  },
  {
   "cell_type": "code",
   "execution_count": 28,
   "metadata": {},
   "outputs": [
    {
     "name": "stdout",
     "output_type": "stream",
     "text": [
      "\t  Volume in drive C is Windows\n",
      "\t  Volume Serial Number is DAE7-D5BA\n",
      "\t \n",
      "\t  Directory of c:\\users\\...\\Test Dir Structure\n",
      "\t \n",
      "\t 2021-12-27  03:33 PM    <DIR>          .\n",
      "\t 2021-12-27  03:33 PM    <DIR>          ..\n",
      "\t 2021-12-27  04:03 PM    <DIR>          Dir1\n",
      "\t 2021-12-27  05:27 PM    <DIR>          Dir2\n",
      "\t 2016-02-25  09:59 PM                 3 TestFile1.txt\n",
      "\t 2016-02-15  06:46 PM                 7 TestFile2.rtf\n",
      "\t 2016-02-15  06:47 PM                 0 TestFile3.docx\n",
      "\t 2016-04-21  01:06 PM              3491 xcopy.txt\n",
      "\t                4 File(s)           3501 bytes\n",
      "\t \n",
      "\t  Directory of c:\\users\\...\\Test Dir Structure\\Dir1\n",
      "\t \n",
      "\t 2021-12-27  04:03 PM    <DIR>          .\n",
      "\t 2021-12-27  04:03 PM    <DIR>          ..\n",
      "\t 2016-02-15  06:48 PM                 0 File in Dir One.txt\n"
     ]
    }
   ],
   "source": [
    "for line in dir_text[0:20]:\n",
    "    print('\\t', line)"
   ]
  },
  {
   "cell_type": "markdown",
   "metadata": {
    "jupyter": {
     "source_hidden": true
    }
   },
   "source": [
    "We will ignore the first two lines (the *header section*)"
   ]
  },
  {
   "cell_type": "code",
   "execution_count": 29,
   "metadata": {
    "collapsed": true,
    "jupyter": {
     "outputs_hidden": true,
     "source_hidden": true
    }
   },
   "outputs": [
    {
     "name": "stdout",
     "output_type": "stream",
     "text": [
      "\t  Volume in drive C is Windows\n",
      "\t  Volume Serial Number is DAE7-D5BA\n"
     ]
    }
   ],
   "source": [
    "for line in dir_text[0:2]:\n",
    "    print('\\t', line)"
   ]
  },
  {
   "cell_type": "markdown",
   "metadata": {
    "jupyter": {
     "source_hidden": true
    }
   },
   "source": [
    "After this come multiple Folder sections something like this:"
   ]
  },
  {
   "cell_type": "code",
   "execution_count": 30,
   "metadata": {
    "collapsed": true,
    "jupyter": {
     "outputs_hidden": true,
     "source_hidden": true
    }
   },
   "outputs": [
    {
     "name": "stdout",
     "output_type": "stream",
     "text": [
      " Directory of c:\\users\\...\\Test Dir Structure\n",
      "\n",
      "2021-12-27  03:33 PM    <DIR>          .\n",
      "2021-12-27  03:33 PM    <DIR>          ..\n",
      "2021-12-27  04:03 PM    <DIR>          Dir1\n",
      "2021-12-27  05:27 PM    <DIR>          Dir2\n",
      "               4 File(s)           3501 bytes\n"
     ]
    }
   ],
   "source": [
    "print(dir_text[3])\n",
    "print()\n",
    "for line in dir_text[5:9]:\n",
    "    print(line)\n",
    "print(dir_text[13])"
   ]
  },
  {
   "cell_type": "markdown",
   "metadata": {},
   "source": [
    "## Defining a Section"
   ]
  },
  {
   "cell_type": "markdown",
   "metadata": {},
   "source": [
    "The start and end of a folder listing can be identified by key phrases:\n",
    "- The section start is identified by the text '*Directory of*'\n",
    "- The section end is identified by the text '*File(s)*'"
   ]
  },
  {
   "cell_type": "markdown",
   "metadata": {},
   "source": [
    "### Define a Section Based on these start and end identifiers"
   ]
  },
  {
   "cell_type": "code",
   "execution_count": 31,
   "metadata": {
    "collapsed": true,
    "jupyter": {
     "outputs_hidden": true,
     "source_hidden": true
    }
   },
   "outputs": [
    {
     "data": {
      "text/plain": [
       "[' Directory of c:\\\\users\\\\...\\\\Test Dir Structure',\n",
       " '',\n",
       " '2021-12-27  03:33 PM    <DIR>          .',\n",
       " '2021-12-27  03:33 PM    <DIR>          ..',\n",
       " '2021-12-27  04:03 PM    <DIR>          Dir1',\n",
       " '2021-12-27  05:27 PM    <DIR>          Dir2',\n",
       " '2016-02-25  09:59 PM                 3 TestFile1.txt',\n",
       " '2016-02-15  06:46 PM                 7 TestFile2.rtf',\n",
       " '2016-02-15  06:47 PM                 0 TestFile3.docx',\n",
       " '2016-04-21  01:06 PM              3491 xcopy.txt']"
      ]
     },
     "execution_count": 31,
     "metadata": {},
     "output_type": "execute_result"
    }
   ],
   "source": [
    "dir_section = sections.Section(\n",
    "    start_section='Directory of', \n",
    "    end_section='File(s)'\n",
    "    )\n",
    "dir_section.read(dir_text)"
   ]
  },
  {
   "cell_type": "markdown",
   "metadata": {
    "jupyter": {
     "source_hidden": true
    }
   },
   "source": [
    "`dir_section.read(dir_text)` returned the first folder listing in *dir_text*.\n",
    "However, it is missing the final line:"
   ]
  },
  {
   "cell_type": "code",
   "execution_count": 32,
   "metadata": {
    "collapsed": true,
    "jupyter": {
     "outputs_hidden": true,
     "source_hidden": true
    }
   },
   "outputs": [
    {
     "name": "stdout",
     "output_type": "stream",
     "text": [
      "               4 File(s)           3501 bytes\n"
     ]
    }
   ],
   "source": [
    "print(dir_text[13])"
   ]
  },
  {
   "cell_type": "markdown",
   "metadata": {
    "jupyter": {
     "source_hidden": true
    }
   },
   "source": [
    "To include this line, we need to define the `end_section` to end *After* the specified text.  We include this information by creating a `SectionBreak` object and explicitly including the last line using the `break_offset` argument:"
   ]
  },
  {
   "cell_type": "code",
   "execution_count": 33,
   "metadata": {
    "collapsed": true,
    "jupyter": {
     "outputs_hidden": true,
     "source_hidden": true
    }
   },
   "outputs": [
    {
     "data": {
      "text/plain": [
       "[' Directory of c:\\\\users\\\\...\\\\Test Dir Structure',\n",
       " '',\n",
       " '2021-12-27  03:33 PM    <DIR>          .',\n",
       " '2021-12-27  03:33 PM    <DIR>          ..',\n",
       " '2021-12-27  04:03 PM    <DIR>          Dir1',\n",
       " '2021-12-27  05:27 PM    <DIR>          Dir2',\n",
       " '2016-02-25  09:59 PM                 3 TestFile1.txt',\n",
       " '2016-02-15  06:46 PM                 7 TestFile2.rtf',\n",
       " '2016-02-15  06:47 PM                 0 TestFile3.docx',\n",
       " '2016-04-21  01:06 PM              3491 xcopy.txt',\n",
       " '               4 File(s)           3501 bytes']"
      ]
     },
     "execution_count": 33,
     "metadata": {},
     "output_type": "execute_result"
    }
   ],
   "source": [
    "dir_section = sections.Section(\n",
    "    start_section='Directory of',\n",
    "    end_section=sections.SectionBreak('File(s)', break_offset='After'))\n",
    "\n",
    "dir_section.read(dir_text)"
   ]
  },
  {
   "cell_type": "markdown",
   "metadata": {
    "jupyter": {
     "source_hidden": true
    }
   },
   "source": [
    "dir_text is a list so `dir_section.read(dir_text)` starts over at the beginning each time it is called."
   ]
  },
  {
   "cell_type": "code",
   "execution_count": 34,
   "metadata": {
    "collapsed": true,
    "jupyter": {
     "outputs_hidden": true,
     "source_hidden": true
    }
   },
   "outputs": [
    {
     "name": "stdout",
     "output_type": "stream",
     "text": [
      "[' Directory of c:\\\\users\\\\...\\\\Test Dir Structure',\n",
      " '',\n",
      " '2021-12-27  03:33 PM    <DIR>          .',\n",
      " '2021-12-27  03:33 PM    <DIR>          ..',\n",
      " '2021-12-27  04:03 PM    <DIR>          Dir1',\n",
      " '2021-12-27  05:27 PM    <DIR>          Dir2',\n",
      " '2016-02-25  09:59 PM                 3 TestFile1.txt',\n",
      " '2016-02-15  06:46 PM                 7 TestFile2.rtf',\n",
      " '2016-02-15  06:47 PM                 0 TestFile3.docx',\n",
      " '2016-04-21  01:06 PM              3491 xcopy.txt',\n",
      " '               4 File(s)           3501 bytes']\n",
      "[' Directory of c:\\\\users\\\\...\\\\Test Dir Structure',\n",
      " '',\n",
      " '2021-12-27  03:33 PM    <DIR>          .',\n",
      " '2021-12-27  03:33 PM    <DIR>          ..',\n",
      " '2021-12-27  04:03 PM    <DIR>          Dir1',\n",
      " '2021-12-27  05:27 PM    <DIR>          Dir2',\n",
      " '2016-02-25  09:59 PM                 3 TestFile1.txt',\n",
      " '2016-02-15  06:46 PM                 7 TestFile2.rtf',\n",
      " '2016-02-15  06:47 PM                 0 TestFile3.docx',\n",
      " '2016-04-21  01:06 PM              3491 xcopy.txt',\n",
      " '               4 File(s)           3501 bytes']\n"
     ]
    }
   ],
   "source": [
    "pprint(dir_section.read(dir_text))\n",
    "pprint(dir_section.read(dir_text))"
   ]
  },
  {
   "cell_type": "markdown",
   "metadata": {
    "jupyter": {
     "source_hidden": true
    }
   },
   "source": [
    "By creating an iterator from *dir_text* `dir_text_iter = iter(dir_text)` \n",
    "(representing a text stream source) \n",
    "successive calls to `dir_section.read(dir_text_iter)` \n",
    "will return the next directory group"
   ]
  },
  {
   "cell_type": "code",
   "execution_count": 35,
   "metadata": {
    "collapsed": true,
    "jupyter": {
     "outputs_hidden": true,
     "source_hidden": true
    }
   },
   "outputs": [
    {
     "name": "stdout",
     "output_type": "stream",
     "text": [
      "[' Directory of c:\\\\users\\\\...\\\\Test Dir Structure',\n",
      " '',\n",
      " '2021-12-27  03:33 PM    <DIR>          .',\n",
      " '2021-12-27  03:33 PM    <DIR>          ..',\n",
      " '2021-12-27  04:03 PM    <DIR>          Dir1',\n",
      " '2021-12-27  05:27 PM    <DIR>          Dir2',\n",
      " '2016-02-25  09:59 PM                 3 TestFile1.txt',\n",
      " '2016-02-15  06:46 PM                 7 TestFile2.rtf',\n",
      " '2016-02-15  06:47 PM                 0 TestFile3.docx',\n",
      " '2016-04-21  01:06 PM              3491 xcopy.txt',\n",
      " '               4 File(s)           3501 bytes']\n",
      "[' Directory of c:\\\\users\\\\...\\\\Test Dir Structure\\\\Dir1',\n",
      " '',\n",
      " '2021-12-27  04:03 PM    <DIR>          .',\n",
      " '2021-12-27  04:03 PM    <DIR>          ..',\n",
      " '2016-02-15  06:48 PM                 0 File in Dir One.txt',\n",
      " '2021-12-27  03:45 PM    <DIR>          SubFolder1',\n",
      " '2021-12-27  03:45 PM    <DIR>          SubFolder2',\n",
      " '               1 File(s)              0 bytes']\n"
     ]
    }
   ],
   "source": [
    "dir_text_iter = iter(dir_text)\n",
    "pprint(dir_section.read(dir_text_iter))\n",
    "pprint(dir_section.read(dir_text_iter))"
   ]
  },
  {
   "cell_type": "markdown",
   "metadata": {},
   "source": [
    "## Section Processing\n",
    "Identifying sections is only the first step.\n",
    "Next lets do something with the section text."
   ]
  },
  {
   "cell_type": "markdown",
   "metadata": {},
   "source": [
    "### Section Aggregate functions\n",
    "Summarize a section's content by supplying the section definition with \n",
    "an `Aggregate` method.\n",
    "\n",
    "`aggregate` (AggregateFunction, optional): \n",
    "A function used to collect and format, the section into a single object.\n",
    "Defaults to None, which returns a list.\n",
    "\n",
    "An `AggregateFunction` is a function that accepts a sequence of items as its first argument.  It may also accept a *Context* dictionary as its second argument, which supplies attributes generates in the Section class."
   ]
  },
  {
   "cell_type": "markdown",
   "metadata": {},
   "source": [
    "#### Important Note:\n",
    "The sequence object passed to the `AggregateFunction` is actually a generator.  This is done to allow stream type sequences to be handled well.\n",
    "\n",
    "When used with a for loop, a generator behaves just like a list, but a generator cannot be *sliced*.  If slicing is needed, simply convert the generator to a list with:<br>\n",
    "> `section_list = list(section_gen)`."
   ]
  },
  {
   "cell_type": "markdown",
   "metadata": {},
   "source": [
    " ### Format of a line from a dir listing\n",
    " The DIR output is formatted into columns with spaces for padding.\n",
    " The information can be extracted by identifying start and end columns:\n",
    " (The numbers on teh top an bottom are provided to aid with counting the text)\n",
    "```\n",
    "00000000001111111111222222222233333333334444444444555555555566666666667777777777\n",
    "01234567890123456789012345678901234567890123456789012345678901234567890123456789\n",
    "2021-12-27  03:33 PM    <DIR>          .\n",
    "2021-12-27  03:33 PM    <DIR>          ..\n",
    "2021-12-27  04:03 PM    <DIR>          Dir1\n",
    "2021-12-27  05:27 PM    <DIR>          Dir2\n",
    "2016-02-25  09:59 PM                 3 TestFile1.txt\n",
    "2016-02-15  06:46 PM                 7 TestFile2.rtf\n",
    "2016-02-15  06:47 PM                 0 TestFile3.docx\n",
    "2016-04-21  01:06 PM              3491 xcopy.txt\n",
    "00000000001111111111222222222233333333334444444444555555555566666666667777777777\n",
    "01234567890123456789012345678901234567890123456789012345678901234567890123456789\n",
    "```\n",
    "- The First **20** characters contain the date and time\n",
    "- The ending characters, starting at character number **39** \n",
    "contain the name of the file or directory\n",
    "- The file size is in characters **29** to **38**\n",
    "- Sub-directory names can be identified by the text _`<DIR>`_"
   ]
  },
  {
   "cell_type": "markdown",
   "metadata": {},
   "source": [
    "The `summarize_directory` function converts a folder listing into a list of dictionaries and from there into a *Pandas* DataFrame"
   ]
  },
  {
   "cell_type": "code",
   "execution_count": 54,
   "metadata": {},
   "outputs": [],
   "source": [
    "def summarize_directory(dir_src):\n",
    "    dir_list = list(dir_src)  # Convert generator into a list\n",
    "    \n",
    "    # The first line contains the folder name: \n",
    "    #         Directory of c:\\\\users\\\\...\\\\Test Dir Structure\n",
    "    folder_name = dir_list[0].rsplit('\\\\', 1)[1]\n",
    "    \n",
    "    # The last line contains the number of files\n",
    "    file_count = dir_list[-1].strip().split(' ', 1)[0]\n",
    "    \n",
    "    # Process the rest of the lines \n",
    "    # (There is a blank line between the folder name and the first)\n",
    "    folder_list = list()\n",
    "    for dir_line in dir_list[2:-1]:\n",
    "        # Include the folder info for each listing\n",
    "        folder_dict = {\n",
    "            'Folder': folder_name,\n",
    "            'NumFiles': file_count\n",
    "            }\n",
    "        \n",
    "        # First 20 characters contain the date\n",
    "        folder_dict['DateModified'] = dir_line[:20].strip()\n",
    "        \n",
    "        # Ending Characters, starting at #39 contain the name of \n",
    "        # the file or directory\n",
    "        folder_dict['Name'] = dir_line[39:].strip()\n",
    "        \n",
    "        # Check if the listing is a file or directory\n",
    "        # Directories will contain the text <DIR>\n",
    "        if '<DIR>' in dir_line:\n",
    "            folder_dict['IsDir'] = True\n",
    "            # No FileSize for directories\n",
    "            folder_dict['FileSize'] = ''\n",
    "        else:\n",
    "            folder_dict['IsDir'] = False\n",
    "            # The File Size is given in characters 29 to 38\n",
    "            folder_dict['FileSize'] = dir_line[29:38].strip()\n",
    "        folder_list.append(folder_dict)\n",
    "    # Convert the list to a Pandas Dataframe for easy viewing\n",
    "    folder_data = pd.DataFrame(folder_list)\n",
    "    return  folder_data"
   ]
  },
  {
   "cell_type": "markdown",
   "metadata": {},
   "source": [
    "With `aggregate=summarize_directory` in the *dir_section* definition,\n",
    "the command `dir_section.read(dir_text)` results in a DataFrame object representing the folder listing."
   ]
  },
  {
   "cell_type": "code",
   "execution_count": 55,
   "metadata": {
    "collapsed": true,
    "jupyter": {
     "outputs_hidden": true,
     "source_hidden": true
    }
   },
   "outputs": [
    {
     "data": {
      "text/html": [
       "<div>\n",
       "<style scoped>\n",
       "    .dataframe tbody tr th:only-of-type {\n",
       "        vertical-align: middle;\n",
       "    }\n",
       "\n",
       "    .dataframe tbody tr th {\n",
       "        vertical-align: top;\n",
       "    }\n",
       "\n",
       "    .dataframe thead th {\n",
       "        text-align: right;\n",
       "    }\n",
       "</style>\n",
       "<table border=\"1\" class=\"dataframe\">\n",
       "  <thead>\n",
       "    <tr style=\"text-align: right;\">\n",
       "      <th></th>\n",
       "      <th>Folder</th>\n",
       "      <th>NumFiles</th>\n",
       "      <th>DateModified</th>\n",
       "      <th>Name</th>\n",
       "      <th>IsDir</th>\n",
       "      <th>FileSize</th>\n",
       "    </tr>\n",
       "  </thead>\n",
       "  <tbody>\n",
       "    <tr>\n",
       "      <th>0</th>\n",
       "      <td>Test Dir Structure</td>\n",
       "      <td>4</td>\n",
       "      <td>2021-12-27  03:33 PM</td>\n",
       "      <td>.</td>\n",
       "      <td>True</td>\n",
       "      <td></td>\n",
       "    </tr>\n",
       "    <tr>\n",
       "      <th>1</th>\n",
       "      <td>Test Dir Structure</td>\n",
       "      <td>4</td>\n",
       "      <td>2021-12-27  03:33 PM</td>\n",
       "      <td>..</td>\n",
       "      <td>True</td>\n",
       "      <td></td>\n",
       "    </tr>\n",
       "    <tr>\n",
       "      <th>2</th>\n",
       "      <td>Test Dir Structure</td>\n",
       "      <td>4</td>\n",
       "      <td>2021-12-27  04:03 PM</td>\n",
       "      <td>Dir1</td>\n",
       "      <td>True</td>\n",
       "      <td></td>\n",
       "    </tr>\n",
       "    <tr>\n",
       "      <th>3</th>\n",
       "      <td>Test Dir Structure</td>\n",
       "      <td>4</td>\n",
       "      <td>2021-12-27  05:27 PM</td>\n",
       "      <td>Dir2</td>\n",
       "      <td>True</td>\n",
       "      <td></td>\n",
       "    </tr>\n",
       "    <tr>\n",
       "      <th>4</th>\n",
       "      <td>Test Dir Structure</td>\n",
       "      <td>4</td>\n",
       "      <td>2016-02-25  09:59 PM</td>\n",
       "      <td>TestFile1.txt</td>\n",
       "      <td>False</td>\n",
       "      <td>3</td>\n",
       "    </tr>\n",
       "    <tr>\n",
       "      <th>5</th>\n",
       "      <td>Test Dir Structure</td>\n",
       "      <td>4</td>\n",
       "      <td>2016-02-15  06:46 PM</td>\n",
       "      <td>TestFile2.rtf</td>\n",
       "      <td>False</td>\n",
       "      <td>7</td>\n",
       "    </tr>\n",
       "    <tr>\n",
       "      <th>6</th>\n",
       "      <td>Test Dir Structure</td>\n",
       "      <td>4</td>\n",
       "      <td>2016-02-15  06:47 PM</td>\n",
       "      <td>TestFile3.docx</td>\n",
       "      <td>False</td>\n",
       "      <td>0</td>\n",
       "    </tr>\n",
       "    <tr>\n",
       "      <th>7</th>\n",
       "      <td>Test Dir Structure</td>\n",
       "      <td>4</td>\n",
       "      <td>2016-04-21  01:06 PM</td>\n",
       "      <td>xcopy.txt</td>\n",
       "      <td>False</td>\n",
       "      <td>3491</td>\n",
       "    </tr>\n",
       "  </tbody>\n",
       "</table>\n",
       "</div>"
      ],
      "text/plain": [
       "               Folder NumFiles          DateModified            Name  IsDir  \\\n",
       "0  Test Dir Structure        4  2021-12-27  03:33 PM               .   True   \n",
       "1  Test Dir Structure        4  2021-12-27  03:33 PM              ..   True   \n",
       "2  Test Dir Structure        4  2021-12-27  04:03 PM            Dir1   True   \n",
       "3  Test Dir Structure        4  2021-12-27  05:27 PM            Dir2   True   \n",
       "4  Test Dir Structure        4  2016-02-25  09:59 PM   TestFile1.txt  False   \n",
       "5  Test Dir Structure        4  2016-02-15  06:46 PM   TestFile2.rtf  False   \n",
       "6  Test Dir Structure        4  2016-02-15  06:47 PM  TestFile3.docx  False   \n",
       "7  Test Dir Structure        4  2016-04-21  01:06 PM       xcopy.txt  False   \n",
       "\n",
       "  FileSize  \n",
       "0           \n",
       "1           \n",
       "2           \n",
       "3           \n",
       "4        3  \n",
       "5        7  \n",
       "6        0  \n",
       "7     3491  "
      ]
     },
     "execution_count": 55,
     "metadata": {},
     "output_type": "execute_result"
    }
   ],
   "source": [
    "dir_section = sections.Section(\n",
    "    start_section='Directory of',\n",
    "    end_section=sections.SectionBreak('File(s)', break_offset='After'),\n",
    "    aggregate=summarize_directory)\n",
    "\n",
    "dir_section.read(dir_text)"
   ]
  },
  {
   "cell_type": "markdown",
   "metadata": {},
   "source": [
    "# *DONE TO HERE*"
   ]
  },
  {
   "cell_type": "code",
   "execution_count": null,
   "metadata": {},
   "outputs": [
    {
     "name": "stdout",
     "output_type": "stream",
     "text": [
      "00000000001111111111222222222233333333334444444444555555555566666666667777777777\n",
      "01234567890123456789012345678901234567890123456789012345678901234567890123456789\n"
     ]
    }
   ],
   "source": [
    "ones = ''.join([str(i) for i in range(10)])\n",
    "ones*8\n",
    "tens = ''.join([str(i)*10 for i in range(8)])\n",
    "tens\n",
    "print(tens)\n",
    "print(ones*8)"
   ]
  },
  {
   "cell_type": "markdown",
   "metadata": {},
   "source": [
    "\n",
    "> For the directory line, extract the directory name from the full path:\n",
    "`'Folder Name:\\t' + dir_line.rsplit('\\\\', 1)[1]`\n",
    "\n",
    "> Get the number of files in the directory:\n",
    "`'\\tNumber of Files:\\t' + dir_line.strip().split(' ', 1)[0]`\n",
    "\n",
    "> Identify subdirectories:\n",
    "`'\\tSubdirectory:\\t' + dir_line[36:]`\n",
    "\n",
    "> Identify files:\n",
    "`'\\tFile:\\t' + dir_line[36:]`   "
   ]
  },
  {
   "cell_type": "code",
   "execution_count": 36,
   "metadata": {},
   "outputs": [],
   "source": [
    "def summarize_directory(dir_list):\n",
    "    output_list = list()\n",
    "    for dir_line in dir_list:\n",
    "        # Get the directory name\n",
    "        if 'Directory of' in dir_line:\n",
    "            output_line = 'Folder Name:\\t' + dir_line.rsplit('\\\\', 1)[1]\n",
    "        # Label the subdirectories\n",
    "        elif '<DIR>' in dir_line:\n",
    "            output_line = '\\tSubdirectory:\\t' + dir_line[36:]\n",
    "        # Label the file counts\n",
    "        elif 'File(s)' in dir_line:\n",
    "            output_line = 'Number of Files:\\t' + dir_line.strip().split(' ', 1)[0]\n",
    "        # Label the files\n",
    "        else:\n",
    "            output_line = '\\tFile:\\t\\t' + dir_line[36:]\n",
    "        output_list.append(output_line)\n",
    "    return output_list "
   ]
  },
  {
   "cell_type": "code",
   "execution_count": 37,
   "metadata": {
    "collapsed": true,
    "jupyter": {
     "outputs_hidden": true,
     "source_hidden": true
    }
   },
   "outputs": [
    {
     "name": "stdout",
     "output_type": "stream",
     "text": [
      "Folder Name:\tTest Dir Structure\n",
      "\tFile:\t\t\n",
      "\tSubdirectory:\t   .\n",
      "\tSubdirectory:\t   ..\n",
      "\tSubdirectory:\t   Dir1\n",
      "\tSubdirectory:\t   Dir2\n",
      "\tFile:\t\t 3 TestFile1.txt\n",
      "\tFile:\t\t 7 TestFile2.rtf\n",
      "\tFile:\t\t 0 TestFile3.docx\n",
      "\tFile:\t\t91 xcopy.txt\n",
      "Number of Files:\t4\n"
     ]
    }
   ],
   "source": [
    "dir_section = sections.Section(\n",
    "    start_section='Directory of',\n",
    "    end_section=sections.SectionBreak('File(s)', break_offset='After'),\n",
    "    aggregate=summarize_directory)\n",
    "\n",
    "for item in dir_section.read(dir_text):\n",
    "    print(item)"
   ]
  },
  {
   "cell_type": "code",
   "execution_count": null,
   "metadata": {},
   "outputs": [],
   "source": [
    "def process_directory(dir_line):\n",
    "    # Get the directory name\n",
    "    if 'Directory of' in dir_line:\n",
    "        output_line = 'Folder Name:\\t' + dir_line.rsplit('\\\\', 1)[1]\n",
    "    # Label the subdirectories\n",
    "    elif '<DIR>' in dir_line:\n",
    "        output_line = '\\tSubdirectory:\\t' + dir_line[36:]\n",
    "    # Label the file counts\n",
    "    elif 'File(s)' in dir_line:\n",
    "        output_line = 'Number of Files:\\t' + dir_line.strip().split(' ', 1)[0]\n",
    "    # Label the files\n",
    "    else:\n",
    "        output_line = '\\tFile:\\t\\t' + dir_line[36:]\n",
    "    return output_line "
   ]
  },
  {
   "cell_type": "code",
   "execution_count": null,
   "metadata": {
    "collapsed": true,
    "jupyter": {
     "outputs_hidden": true,
     "source_hidden": true
    }
   },
   "outputs": [],
   "source": [
    "dir_text_iter = iter(dir_text)\n",
    "pprint(dir_section.read(dir_text_iter))\n",
    "pprint(dir_section.read(dir_text_iter))"
   ]
  },
  {
   "cell_type": "code",
   "execution_count": null,
   "metadata": {},
   "outputs": [],
   "source": [
    "dir_section = Section(start_section='Directory of', \n",
    "                      end_section=SectionBreak('File(s)', break_offset='After'),\n",
    "                      processor=ProcessingMethods([process_directory]))\n",
    "\n",
    "output = dir_section.read(dir_text)\n",
    "for line in output:\n",
    "    print(line)"
   ]
  },
  {
   "cell_type": "markdown",
   "metadata": {},
   "source": [
    "### Rule and RuleSets\n",
    "Instead of having one function `process_directory()` that manages all possible \n",
    "text lines in the section, the function can be broken down into parts by \n",
    "defining *Rules*."
   ]
  },
  {
   "cell_type": "code",
   "execution_count": null,
   "metadata": {},
   "outputs": [],
   "source": [
    "def dir_name_split(line):\n",
    "    return ['Folder Name:', line.rsplit('\\\\', 1)[1]]\n",
    "dir_name_rule = Rule('Directory of', pass_method=dir_name_split)\n",
    "\n",
    "def file_count_split(line):\n",
    "    return ['Number of Files:', line.strip().split(' ', 1)[0]]\n",
    "file_count_rule = Rule('File(s)', pass_method=file_count_split)\n",
    "\n",
    "def subfolder(line):\n",
    "    return ['Subdirectory:', line[36:]]\n",
    "subfolder_rule = Rule('<DIR>', pass_method=subfolder)\n",
    "\n",
    "def file(line):\n",
    "    return ['File:' + line[36:]]\n",
    "\n",
    "dir_process = RuleSet([dir_name_rule, file_count_rule, subfolder_rule], \n",
    "                      default=file)"
   ]
  },
  {
   "cell_type": "code",
   "execution_count": null,
   "metadata": {},
   "outputs": [],
   "source": [
    "dir_section = Section(start_section='Directory of', \n",
    "                      end_section=SectionBreak('File(s)', break_offset='After'),\n",
    "                      processor=ProcessingMethods([dir_process]))\n",
    "\n",
    "output = dir_section.read(dir_text)\n",
    "for line in output:\n",
    "    print(line)"
   ]
  },
  {
   "cell_type": "code",
   "execution_count": null,
   "metadata": {
    "collapsed": true,
    "jupyter": {
     "outputs_hidden": true,
     "source_hidden": true
    }
   },
   "outputs": [],
   "source": [
    "dir_section = Section(start_section='Directory of', \n",
    "                      end_section=SectionBreak('File(s)', break_offset='After'),\n",
    "                      processor=[dir_process])\n",
    "\n",
    "output = dir_section.read(dir_text)\n",
    "for line in output:\n",
    "    print(line)"
   ]
  },
  {
   "cell_type": "code",
   "execution_count": null,
   "metadata": {
    "jupyter": {
     "source_hidden": true
    }
   },
   "outputs": [],
   "source": [
    "def dir_name_split(line):\n",
    "    # Get the directory name\n",
    "    if 'Directory of' in line:\n",
    "        return ['Folder Name:', line.rsplit('\\\\', 1)[1]]\n",
    "    return line\n",
    "\n",
    "def subfolder(line):\n",
    "    # Label the subdirectories\n",
    "    if '<DIR>' in line:\n",
    "        return ['Subdirectory:', line[36:]]\n",
    "    return line\n",
    "\n",
    "def file_count_split(line):\n",
    "    # Label the file counts\n",
    "    if 'File(s)' in line:\n",
    "        return ['Number of Files:', line.strip().split(' ', 1)[0]]\n",
    "    return line\n",
    "\n",
    "def file(line):\n",
    "    # Label the files\n",
    "    return ['File:' + line[36:]] "
   ]
  },
  {
   "cell_type": "code",
   "execution_count": null,
   "metadata": {
    "jupyter": {
     "source_hidden": true
    }
   },
   "outputs": [],
   "source": [
    "print('column index')\n",
    "print(''.join(str(i)*10 for i in range(10)))\n",
    "print(''.join(str(i) for i in range(10))*10)\n",
    "print(dir_text[9])\n",
    "    "
   ]
  },
  {
   "cell_type": "raw",
   "metadata": {
    "jupyter": {
     "source_hidden": true
    }
   },
   "source": [
    "**The DIR output has the following structure:**\n",
    "    \n",
    "    Header Section:\n",
    "         Volume in drive C has no label.\n",
    "         Volume Serial Number is 56DB-14A7\n",
    "\n",
    "Multiple Folder sections ... \n",
    "    \n",
    "    Summary Section:\n",
    "         Total Files Listed:\n",
    "                  11 File(s)          72507 bytes\n",
    "                  23 Dir(s)     63927545856 bytes free\n",
    "\n",
    "Each Folder section has the following line types:\n",
    "    \n",
    "    Directory Label:\n",
    "         Directory of C:\\Test Dir Structure\n",
    "    Directory listing:\n",
    "        2021-06-18  14:54    <DIR>          Dir1\n",
    "    File listing:\n",
    "        2016-02-25  22:59                 3 TestFile1.txt\n",
    "    File Count:\n",
    "               4 File(s)           3501 bytes\n",
    "    "
   ]
  },
  {
   "cell_type": "code",
   "execution_count": null,
   "metadata": {
    "jupyter": {
     "source_hidden": true
    }
   },
   "outputs": [],
   "source": [
    "\n",
    "\n",
    "#%% Regex Parsing patterns\n",
    "# File Count and summary:\n",
    "     #          1 File(s)          59904 bytes\n",
    "     #         23 Dir(s)     63927545856 bytes free\n",
    "folder_summary_pt = re.compile(\n",
    "    '(?P<files>'       # beginning of files string group\n",
    "    '[0-9]+'           # Integer number of files\n",
    "    ')'                # end of files string group\n",
    "    '[ ]+'             # Arbitrary number of spaces\n",
    "    '(?P<type>'        # beginning of type string group\n",
    "    'File|Dir'         # \"File\" or \" Dir\" text\n",
    "    ')'                # end of type string group\n",
    "    '\\\\(s\\\\)'          # \"(s)\" text\n",
    "    '[ ]+'             # Arbitrary number of spaces\n",
    "    '(?P<size>'        # beginning of size string group\n",
    "    '[0-9]+'           # Integer size of folder\n",
    "    ')'                # end of size string group\n",
    "    ' bytes'           # \"bytes\" text\n",
    "    )\n",
    "date_pattern = tp.build_date_re(compile_re=False)\n",
    "file_listing_pt = re.compile(\n",
    "    f'{date_pattern}'  # Insert date pattern\n",
    "    '[ ]+'             # Arbitrary number of spaces\n",
    "    '(?P<size>'        # beginning of size string group\n",
    "    '[0-9]+'           # Integer size of folder\n",
    "    ')'                # end of size string group\n",
    "    ' '                # Single space\n",
    "    '(?P<filename>'    # beginning of filename string group\n",
    "    '.*'               # Integer size of folder\n",
    "    ')'                # end of size string group\n",
    "    '$'                # end of string\n",
    "    )\n",
    "\n",
    "\n",
    "#%% Line Parsing Functions\n",
    "# Directory Label Rule\n",
    "\n",
    "def extract_directory(line: str, event, *args,\n",
    "                    context=None, **kwargs) -> List[List[str]]:\n",
    "    '''Extract Directory path from folder header.\n",
    "    '''\n",
    "    full_dir = line.replace('Directory of', '').strip()\n",
    "    return [full_dir]\n",
    "\n",
    "\n",
    "dir_header_rule = Rule(\n",
    "    name='Dir Header Rule',\n",
    "    sentinel='Directory of ',\n",
    "    pass_method=extract_directory\n",
    "    )\n",
    "\n",
    "\n",
    "# skip <DIR>\n",
    "def blank_line(*args, **kwargs) -> List[List[str]]:\n",
    "    return [['']]\n",
    "\n",
    "\n",
    "skip_dir_rule = Rule(\n",
    "    name='Skip <DIR> Rule',\n",
    "    sentinel=' <DIR> ',\n",
    "    pass_method='Blank'\n",
    "    )\n",
    "skip_totals_rule = Rule(\n",
    "    name='Skip Total Files Header Rule',\n",
    "    sentinel='Total Files Listed:',\n",
    "    pass_method='Blank'\n",
    "    )\n",
    "\n",
    "\n",
    "# Regular file listings\n",
    "def file_parse(line: str, event, *args, **kwargs) -> List[List[str]]:\n",
    "    '''Break file data into three columns containing Filename, Date, Size.\n",
    "\n",
    "    Typical file is:\n",
    "        2016-02-25  22:59     3 TestFile1.txt\n",
    "    File line is parsed using a regular expression with 3 named groups.\n",
    "    Output for the example above is:\n",
    "        [[TestFile1.txt , 2016-02-25  22:59, 3]]\n",
    "\n",
    "    Args:\n",
    "        line (str): The text line to be parsed.\n",
    "        event (re.match): The results of the trigger test on the line.\n",
    "            Contains 3 named groups: ['date', 'size', 'filename'].\n",
    "        *args & **kwargs: Catch unused extra parameters passed to file_parse.\n",
    "\n",
    "    Returns:\n",
    "        tp.ParseResults: A one-item list containing the parsed file\n",
    "            information as a 3-item tuple:\n",
    "                [(filename: str, date: str, file size: int)].\n",
    "    '''\n",
    "    file_line_parts = event.test_value.groupdict(default='')\n",
    "    parsed_line = tuple([\n",
    "        file_line_parts['filename'],\n",
    "        tp.make_date_time_string(event),\n",
    "        int(file_line_parts['size'])\n",
    "        ])\n",
    "    return parsed_line\n",
    "\n",
    "\n",
    "# Regular File Parsing Rule\n",
    "file_listing_rule = Rule(file_listing_pt, pass_method=file_parse,\n",
    "                            name='Files_rule')\n",
    "\n",
    "\n",
    "# File Count Parsing Rule\n",
    "def file_count_parse(line: str, event, *args, **kwargs) -> List[List[str]]:\n",
    "    '''Break file data into two rows containing:\n",
    "           Number of files, & Directory size.\n",
    "\n",
    "    Output has the following format:\n",
    "        ['Number of files', file count value: int]\n",
    "        ['Directory Size', directory size value: int]\n",
    "\n",
    "    Typical line is:\n",
    "        4 File(s)           3501 bytes\n",
    "    File count is parsed using a regular expression with 2 named groups.\n",
    "\n",
    "    Args:\n",
    "        line (str): The text line to be parsed.\n",
    "        event (re.match): The results of the trigger test size the line.\n",
    "            Contains 3 named groups: ['files', 'type', 'size'].\n",
    "        *args & **kwargs: Catch unused extra parameters passed to file_parse.\n",
    "\n",
    "    Returns:\n",
    "        tp.ParseResults: The parsed file information.\n",
    "            The parsed file information consists of three lines with the\n",
    "            following format:\n",
    "                'Number of files', file count value: int\n",
    "                'Directory Size', directory size value: int\n",
    "    '''\n",
    "    file_count_parts = event.groupdict(default='')\n",
    "    # Manage case where bytes free is given:\n",
    "    # 23 Dir(s)     63927545856 bytes free\n",
    "    if line.strip().endswith('free'):\n",
    "        file_count_parts['size_label'] = 'Free Space'\n",
    "    else:\n",
    "        file_count_parts['size_label'] = 'Size'\n",
    "    parsed_line_template = ''.join([\n",
    "        'Number of {type}s, {files}\\n',\n",
    "        'Directory {size_label}, {size}'\n",
    "        ])\n",
    "    parsed_line_str = parsed_line_template.format(**file_count_parts)\n",
    "    parsed_line = [new_line.split(',')\n",
    "                   for new_line in parsed_line_str.splitlines()]\n",
    "    return parsed_line\n",
    "file_count_rule = Rule(folder_summary_pt, pass_method=file_count_parse,\n",
    "                          name='Files_rule')\n",
    "\n",
    "\n",
    "skip_file_count_rule = Rule(\n",
    "    name='Skip File(s) Rule',\n",
    "    sentinel=folder_summary_pt,\n",
    "    pass_method='Blank'\n",
    "    )\n",
    "\n",
    "\n",
    "# Files / DIRs Parse\n",
    "def make_files_rule() -> Rule:\n",
    "    '''If  File(s) or  Dir(s) extract # files & size\n",
    "        '''\n",
    "    def files_total_parse(line, event, *args, **kwargs) -> List[List[str]]:\n",
    "        '''Break file counts into three columns containing:\n",
    "           Type (File or Dir), Count, Size.\n",
    "\n",
    "        The line:\n",
    "               11 File(s)          72507 bytes\n",
    "        Results in:\n",
    "            [('File', 11, 3501)]\n",
    "        The line:\n",
    "           23 Dir(s)     63927545856 bytes free\n",
    "        Results in:\n",
    "            [('Dir', 23, 3501)]\n",
    "\n",
    "    Args:\n",
    "        line (str): The text line to be parsed.\n",
    "        event (re.match): The results of the trigger test on the line.\n",
    "            Contains 3 named groups: ['type', 'files', 'size'].\n",
    "        *args & **kwargs: Catch unused extra parameters passed to file_parse.\n",
    "\n",
    "    Returns:\n",
    "        tp.ParseResults: A one-item list containing the parsed file count\n",
    "            information as a 3-item tuple:\n",
    "                [(Type: str (File or Dir), Count: int, Size: int)].\n",
    "        '''\n",
    "        files_dict = event.test_value.groupdict(default='')\n",
    "        parsed_line = tuple([\n",
    "            files_dict[\"type\"],\n",
    "            files_dict[\"files\"],\n",
    "            files_dict[\"size\"]\n",
    "            ])\n",
    "        return [parsed_line]\n",
    "\n",
    "    files_total_rule = Rule(folder_summary_pt,\n",
    "                               pass_method=files_total_parse,\n",
    "                               name='Files_Total_rule')\n",
    "    return files_total_rule\n",
    "\n",
    "\n",
    "default_csv = tp.define_csv_parser('dir_files', delimiter=':',\n",
    "                                       skipinitialspace=True)\n",
    "\n",
    "\n",
    "#%% Line Processing\n",
    "def print_lines(parsed_list):\n",
    "    output = list()\n",
    "    for item in parsed_list:\n",
    "        pprint(item)\n",
    "        output.append(item)\n",
    "    return output\n",
    "\n",
    "\n",
    "def to_folder_dict(folder_list):\n",
    "    '''Combine folder info into dictionary.\n",
    "    '''\n",
    "    # TODO separate directory info from file info\n",
    "    #The first line in the folder list is the directory path\n",
    "    directory = ''\n",
    "    if folder_list:\n",
    "        d_list = folder_list[0]\n",
    "        if d_list:\n",
    "            directory = d_list[0]\n",
    "    folder_dict = {'Directory': directory}\n",
    "    for folder_info in folder_list[1:]:\n",
    "        filename, date, file_size = folder_info\n",
    "        full_path = '\\\\'.join([directory, filename])\n",
    "        file_parts = filename.rsplit('.', 1)\n",
    "        if len(file_parts) > 1:\n",
    "            extension = file_parts[1]\n",
    "        else:\n",
    "            extension = ''\n",
    "        folder_dict = {\n",
    "            'Path': full_path,\n",
    "            'Directory': directory,\n",
    "            'Filename': filename,\n",
    "            'Extension': extension,\n",
    "            'Date': date,\n",
    "            'Size': file_size\n",
    "            }\n",
    "    return folder_dict\n",
    "\n",
    "\n",
    "def make_files_table(dir_gen):\n",
    "    '''Combine folder info dictionaries into Pandas DataFrame.\n",
    "    '''\n",
    "    list_of_folders = list(dir_gen)\n",
    "    files_table = pd.DataFrame(list_of_folders)\n",
    "    files_table.set_index('Path')\n",
    "    return files_table\n",
    "\n",
    "\n",
    "#%% Reader definitions\n",
    "default_parser = tp.define_csv_parser('dir_files', delimiter=':',\n",
    "                                       skipinitialspace=True)\n",
    "heading_reader = ProcessingMethods([\n",
    "    default_parser,\n",
    "    tp.trim_items\n",
    "    ])\n",
    "folder_reader = ProcessingMethods([\n",
    "    RuleSet([skip_dir_rule, file_listing_rule, dir_header_rule,\n",
    "             skip_file_count_rule], default=default_parser),\n",
    "    tp.drop_blanks\n",
    "    ])\n",
    "summary_reader = ProcessingMethods([\n",
    "    RuleSet([file_count_rule, skip_totals_rule], default=default_parser),\n",
    "    tp.drop_blanks\n",
    "    ])\n",
    "\n",
    "\n",
    "#%% SectionBreak definitions\n",
    "folder_start = SectionBreak(\n",
    "    name='Start of Folder', sentinel='Directory of', break_offset='Before')\n",
    "folder_end = SectionBreak(name='End of Folder',sentinel=folder_summary_pt,\n",
    "                             break_offset='After')\n",
    "summary_start = SectionBreak(sentinel='Total Files Listed:',\n",
    "                                name='Start of DIR Summary', break_offset='Before')\n",
    "\n",
    "\n",
    "#%% Section definitions\n",
    "header_section = Section(\n",
    "    section_name='Header',\n",
    "    start_section=None,\n",
    "    end_section=folder_start,\n",
    "    processor=heading_reader,\n",
    "    aggregate=print_lines\n",
    "    )\n",
    "folder_section = Section(\n",
    "    section_name='Folder',\n",
    "    start_section=folder_start,\n",
    "    end_section=folder_end,\n",
    "    processor=folder_reader,\n",
    "    aggregate=to_folder_dict\n",
    "    )\n",
    "all_folder_section = Section(\n",
    "    section_name='All Folders',\n",
    "    start_section=folder_start,\n",
    "    end_section=summary_start,\n",
    "    processor=[folder_section],\n",
    "    aggregate=make_files_table\n",
    "    )\n",
    "summary_section = Section(\n",
    "    section_name='Summary',\n",
    "    start_section=summary_start,\n",
    "    end_section=None,\n",
    "    processor=summary_reader,\n",
    "    aggregate=tp.to_dict\n",
    "    )\n",
    "\n",
    "\n",
    "#%% Main Iteration\n",
    "def main():\n",
    "    # Test File\n",
    "    base_path = Path.cwd() / 'examples'\n",
    "    test_file = base_path / 'test_DIR_Data.txt'\n",
    "\n",
    "    # Call Primary routine\n",
    "    context = {\n",
    "        'File Name': test_file.name,\n",
    "        'File Path': test_file.parent,\n",
    "        'top_dir': str(base_path),\n",
    "        'tree_name': 'Test folder Tree'\n",
    "        }\n",
    "\n",
    "    source = tp.file_reader(test_file)\n",
    "    file_info = all_folder_section.read(source, context)\n",
    "    #summary = summary_section.read(source, **context)\n",
    "\n",
    "    # Output  Data\n",
    "    xw.view(file_info)\n",
    "    print('done')\n",
    "\n",
    "if __name__ == '__main__':\n",
    "    main()"
   ]
  },
  {
   "cell_type": "code",
   "execution_count": null,
   "metadata": {
    "jupyter": {
     "source_hidden": true
    }
   },
   "outputs": [],
   "source": [
    "print('column index')\n",
    "print(''.join(str(i)*10 for i in range(10)))\n",
    "print(''.join(str(i) for i in range(10))*10)\n",
    "print(dir_text[9])\n",
    "    "
   ]
  },
  {
   "cell_type": "code",
   "execution_count": null,
   "metadata": {
    "jupyter": {
     "source_hidden": true
    }
   },
   "outputs": [],
   "source": [
    "a =dir_text[3]\n",
    "a.index('\\\\')\n",
    "a.rsplit('\\\\', 1)\n",
    "#'Folder Name:\\t' + a.rsplit('\\\\', 1)[0]"
   ]
  },
  {
   "cell_type": "code",
   "execution_count": null,
   "metadata": {},
   "outputs": [],
   "source": []
  },
  {
   "cell_type": "code",
   "execution_count": null,
   "metadata": {},
   "outputs": [],
   "source": []
  }
 ],
 "metadata": {
  "interpreter": {
   "hash": "60a1f208f299629c0c5615e2cc619a90192052a9831bd288ceae6c3a09c71508"
  },
  "kernelspec": {
   "display_name": "Python 3 (ipykernel)",
   "language": "python",
   "name": "python3"
  },
  "language_info": {
   "codemirror_mode": {
    "name": "ipython",
    "version": 3
   },
   "file_extension": ".py",
   "mimetype": "text/x-python",
   "name": "python",
   "nbconvert_exporter": "python",
   "pygments_lexer": "ipython3",
   "version": "3.8.12"
  }
 },
 "nbformat": 4,
 "nbformat_minor": 4
}
