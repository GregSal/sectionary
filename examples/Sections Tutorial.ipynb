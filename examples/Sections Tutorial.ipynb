{
 "cells": [
  {
   "cell_type": "markdown",
   "source": [
    "# Section Introductory Tutorial"
   ],
   "metadata": {
    "jupyter": {
     "source_hidden": true
    }
   }
  },
  {
   "cell_type": "markdown",
   "source": [
    " There are many good text readers and parsers available for Python (such as *csv*), \r\n",
    " but they generally assume that the source they are reading from has uniform \r\n",
    " formatting throughout.  However, often this is not the case. Different parts \r\n",
    " of a text file may contain different types of information each of which require different approached to reading the data. \r\n",
    "\r\n",
    " The Sections module is used to define, read and process distinct groups of items\r\n",
    " -- usually lines of text -- from an iterable source.  \r\n",
    "\r\n",
    "The principal class is:\r\n",
    "\r\n",
    "    Section(section_name: str = 'Section',\r\n",
    "            start_section: (SectionBreak, List[SectionBreak], str, Optional)\r\n",
    "            end_section: (SectionBreak, List[SectionBreak], str, Optional)\r\n",
    "            processor: (ProcessingMethods, Section, List[Section], Optional)\r\n",
    "            aggregate: (Callable, Optional)\r\n",
    "            keep_partial: bool = False)\r\n",
    "\r\n",
    "- Section defines a continuous portion of a text stream or other iterable.\r\n",
    "\r\n",
    "- A section definition may include:\r\n",
    "\r\n",
    "    - Starting and ending break points.\r\n",
    "    - Processing instructions.\r\n",
    "    - An aggregation method.\r\n",
    "\r\n",
    "- A Section instance is created by defining one or more of these components.\r\n",
    "Once a section has been defined, it can be applied to an iterator using:\r\n",
    "\r\n",
    "        section.read(source)\r\n",
    "    Where\r\n",
    "        *source* is any iterable supplying the text lines to be parsed.\r\n",
    "\r\n",
    "Supporting classes:\r\n",
    "\r\n",
    "    Trigger(sentinel, location=None, name): Define a test for evaluating a\r\n",
    "        source item.\r\n",
    "\r\n",
    "    SectionBreak(sentinel, location, break_offset, name): Identify the start or\r\n",
    "        end of a section.\r\n",
    "\r\n",
    "    Rule(sentinel, location, pass_method, fail_method, name): Apply a method\r\n",
    "        based on trigger test result.\r\n",
    "\r\n",
    "    RuleSet(rule_list, default, name):  Apply a sequence of Rules,\r\n",
    "        stopping with the first Rule to pass.\r\n",
    "        \r\n",
    "    ProcessingMethods(processing_methods, name): Applies a series of functions\r\n",
    "        to a supplied sequence of items."
   ],
   "metadata": {}
  },
  {
   "cell_type": "markdown",
   "source": [
    "This tutorial uses the output from the Windows `dir` command:\r\n",
    "> `DIR \"Test Dir Structure\" /S /N /-C /T:W >  \"test_DIR_Data.txt\"`\r\n",
    "\r\n",
    "More information on this command syntax and resulting output can be found \r\n",
    "[here](MS_Dir_Output.html)"
   ],
   "metadata": {
    "jupyter": {
     "source_hidden": true
    }
   }
  },
  {
   "cell_type": "markdown",
   "source": [
    "### Imports"
   ],
   "metadata": {
    "jupyter": {
     "outputs_hidden": true,
     "source_hidden": true
    }
   }
  },
  {
   "cell_type": "code",
   "execution_count": 1,
   "source": [
    "from pathlib import Path\r\n",
    "\r\n",
    "# Add module to PythonPath\r\n",
    "import sys\r\n",
    "sys.path.append(r'../src/sectionary') \r\n",
    "from sections import Section"
   ],
   "outputs": [],
   "metadata": {
    "jupyter": {
     "source_hidden": true
    }
   }
  },
  {
   "cell_type": "markdown",
   "source": [
    "The first 24 lines of `test_DIR_Data.txt` are:\r\n",
    "\r\n",
    "    Volume in drive C has no label.\r\n",
    "    Volume Serial Number is ABCD-1234\r\n",
    "\r\n",
    "    Directory of C:\\Users\\ ... \\Test Dir Structure\r\n",
    "\r\n",
    "    2021-06-18  14:54    <DIR>          .\r\n",
    "    2021-06-18  14:54    <DIR>          ..\r\n",
    "    2021-06-18  14:54    <DIR>          Dir1\r\n",
    "    2021-06-18  14:54    <DIR>          Dir2\r\n",
    "    2016-02-25  22:59                 3 TestFile1.txt\r\n",
    "    2016-02-15  19:46                 7 TestFile2.rtf\r\n",
    "    2016-02-15  19:47                 0 TestFile3.docx\r\n",
    "    2016-04-21  14:06              3491 xcopy.txt\r\n",
    "                   4 File(s)           3501 bytes\r\n",
    "\r\n",
    "    Directory of C:\\Users\\ ... \\Test Dir Structure\\Dir1\r\n",
    "\r\n",
    "    2021-06-18  14:54    <DIR>          .\r\n",
    "    2021-06-18  14:54    <DIR>          ..\r\n",
    "    2016-02-15  19:48                 0 File in Dir One.txt\r\n",
    "    2021-06-18  14:54    <DIR>          SubFolder1\r\n",
    "    2021-06-18  14:54    <DIR>          SubFolder2\r\n",
    "                   1 File(s)              0 bytes\r\n",
    "\r\n"
   ],
   "metadata": {}
  },
  {
   "cell_type": "markdown",
   "source": [
    "The start and end of a folder listing can be identified by key phrases:\r\n",
    "- The section start is identified by the text '*Directory of*'\r\n",
    "- The section end is identified by the text '*File(s)*'\r\n",
    "\r\n",
    "**Define a Section Based on these start and end identifiers:**"
   ],
   "metadata": {}
  },
  {
   "cell_type": "code",
   "execution_count": 33,
   "source": [
    "dir_section = Section(start_section='Directory of', end_section='File(s)')\r\n",
    "dir_section.read(dir_text)"
   ],
   "outputs": [
    {
     "output_type": "execute_result",
     "data": {
      "text/plain": [
       "[\" Directory of C:\\\\Users\\\\gsalomon\\\\OneDrive - Queen's University\\\\Python\\\\Projects\\\\EclipseRelated\\\\PyUtilities\\\\Text Processing\\\\Text Files\\\\Test Dir Structure\",\n",
       " '',\n",
       " '2021-06-18  14:54    <DIR>          .',\n",
       " '2021-06-18  14:54    <DIR>          ..',\n",
       " '2021-06-18  14:54    <DIR>          Dir1',\n",
       " '2021-06-18  14:54    <DIR>          Dir2',\n",
       " '2016-02-25  22:59                 3 TestFile1.txt',\n",
       " '2016-02-15  19:46                 7 TestFile2.rtf',\n",
       " '2016-02-15  19:47                 0 TestFile3.docx',\n",
       " '2016-04-21  14:06              3491 xcopy.txt']"
      ]
     },
     "metadata": {},
     "execution_count": 33
    }
   ],
   "metadata": {
    "collapsed": true,
    "jupyter": {
     "outputs_hidden": true,
     "source_hidden": true
    }
   }
  },
  {
   "cell_type": "markdown",
   "source": [
    "`dir_section.read(dir_text)` returned the first folder listing in *dir_text*.\n",
    "However, it is missing the final line:"
   ],
   "metadata": {
    "jupyter": {
     "source_hidden": true
    }
   }
  },
  {
   "cell_type": "code",
   "execution_count": 34,
   "source": [
    "print(dir_text[13])"
   ],
   "outputs": [
    {
     "output_type": "stream",
     "name": "stdout",
     "text": [
      "               4 File(s)           3501 bytes\n"
     ]
    }
   ],
   "metadata": {
    "collapsed": true,
    "jupyter": {
     "outputs_hidden": true,
     "source_hidden": true
    }
   }
  },
  {
   "cell_type": "markdown",
   "source": [
    "To include this line, we need to define the end_setion to end *After* the specified text.  We include this information by explicitly creating a `SectionBreak` object:"
   ],
   "metadata": {
    "jupyter": {
     "source_hidden": true
    }
   }
  },
  {
   "cell_type": "code",
   "execution_count": 35,
   "source": [
    "dir_section = Section(start_section='Directory of', \r\n",
    "                      end_section=SectionBreak('File(s)', break_offset='After'))\r\n",
    "\r\n",
    "dir_section.read(dir_text)"
   ],
   "outputs": [
    {
     "output_type": "execute_result",
     "data": {
      "text/plain": [
       "[\" Directory of C:\\\\Users\\\\gsalomon\\\\OneDrive - Queen's University\\\\Python\\\\Projects\\\\EclipseRelated\\\\PyUtilities\\\\Text Processing\\\\Text Files\\\\Test Dir Structure\",\n",
       " '',\n",
       " '2021-06-18  14:54    <DIR>          .',\n",
       " '2021-06-18  14:54    <DIR>          ..',\n",
       " '2021-06-18  14:54    <DIR>          Dir1',\n",
       " '2021-06-18  14:54    <DIR>          Dir2',\n",
       " '2016-02-25  22:59                 3 TestFile1.txt',\n",
       " '2016-02-15  19:46                 7 TestFile2.rtf',\n",
       " '2016-02-15  19:47                 0 TestFile3.docx',\n",
       " '2016-04-21  14:06              3491 xcopy.txt',\n",
       " '               4 File(s)           3501 bytes']"
      ]
     },
     "metadata": {},
     "execution_count": 35
    }
   ],
   "metadata": {
    "collapsed": true,
    "jupyter": {
     "outputs_hidden": true,
     "source_hidden": true
    }
   }
  },
  {
   "cell_type": "markdown",
   "source": [
    "dir_text is a list so `dir_section.read(dir_text)` starts over at the beginning each time it is called."
   ],
   "metadata": {
    "jupyter": {
     "source_hidden": true
    }
   }
  },
  {
   "cell_type": "code",
   "execution_count": 36,
   "source": [
    "dir_section.read(dir_text)"
   ],
   "outputs": [
    {
     "output_type": "execute_result",
     "data": {
      "text/plain": [
       "[\" Directory of C:\\\\Users\\\\gsalomon\\\\OneDrive - Queen's University\\\\Python\\\\Projects\\\\EclipseRelated\\\\PyUtilities\\\\Text Processing\\\\Text Files\\\\Test Dir Structure\",\n",
       " '',\n",
       " '2021-06-18  14:54    <DIR>          .',\n",
       " '2021-06-18  14:54    <DIR>          ..',\n",
       " '2021-06-18  14:54    <DIR>          Dir1',\n",
       " '2021-06-18  14:54    <DIR>          Dir2',\n",
       " '2016-02-25  22:59                 3 TestFile1.txt',\n",
       " '2016-02-15  19:46                 7 TestFile2.rtf',\n",
       " '2016-02-15  19:47                 0 TestFile3.docx',\n",
       " '2016-04-21  14:06              3491 xcopy.txt',\n",
       " '               4 File(s)           3501 bytes']"
      ]
     },
     "metadata": {},
     "execution_count": 36
    }
   ],
   "metadata": {
    "collapsed": true,
    "jupyter": {
     "outputs_hidden": true,
     "source_hidden": true
    }
   }
  },
  {
   "cell_type": "code",
   "execution_count": 37,
   "source": [
    "dir_section.read(dir_text)"
   ],
   "outputs": [
    {
     "output_type": "execute_result",
     "data": {
      "text/plain": [
       "[\" Directory of C:\\\\Users\\\\gsalomon\\\\OneDrive - Queen's University\\\\Python\\\\Projects\\\\EclipseRelated\\\\PyUtilities\\\\Text Processing\\\\Text Files\\\\Test Dir Structure\",\n",
       " '',\n",
       " '2021-06-18  14:54    <DIR>          .',\n",
       " '2021-06-18  14:54    <DIR>          ..',\n",
       " '2021-06-18  14:54    <DIR>          Dir1',\n",
       " '2021-06-18  14:54    <DIR>          Dir2',\n",
       " '2016-02-25  22:59                 3 TestFile1.txt',\n",
       " '2016-02-15  19:46                 7 TestFile2.rtf',\n",
       " '2016-02-15  19:47                 0 TestFile3.docx',\n",
       " '2016-04-21  14:06              3491 xcopy.txt',\n",
       " '               4 File(s)           3501 bytes']"
      ]
     },
     "metadata": {},
     "execution_count": 37
    }
   ],
   "metadata": {
    "collapsed": true,
    "jupyter": {
     "outputs_hidden": true,
     "source_hidden": true
    }
   }
  },
  {
   "cell_type": "markdown",
   "source": [
    "By creating an iterator from *dir_text* `dir_text_iter = iter(dir_text)` \r\n",
    "(representing a text stream source) \r\n",
    "successive calls to `dir_section.read(dir_text_iter)` \r\n",
    "will return the next directory group"
   ],
   "metadata": {
    "jupyter": {
     "source_hidden": true
    }
   }
  },
  {
   "cell_type": "code",
   "execution_count": 38,
   "source": [
    "dir_text_iter = iter(dir_text)\r\n",
    "dir_section.read(dir_text_iter)\r\n"
   ],
   "outputs": [
    {
     "output_type": "execute_result",
     "data": {
      "text/plain": [
       "[\" Directory of C:\\\\Users\\\\gsalomon\\\\OneDrive - Queen's University\\\\Python\\\\Projects\\\\EclipseRelated\\\\PyUtilities\\\\Text Processing\\\\Text Files\\\\Test Dir Structure\",\n",
       " '',\n",
       " '2021-06-18  14:54    <DIR>          .',\n",
       " '2021-06-18  14:54    <DIR>          ..',\n",
       " '2021-06-18  14:54    <DIR>          Dir1',\n",
       " '2021-06-18  14:54    <DIR>          Dir2',\n",
       " '2016-02-25  22:59                 3 TestFile1.txt',\n",
       " '2016-02-15  19:46                 7 TestFile2.rtf',\n",
       " '2016-02-15  19:47                 0 TestFile3.docx',\n",
       " '2016-04-21  14:06              3491 xcopy.txt',\n",
       " '               4 File(s)           3501 bytes']"
      ]
     },
     "metadata": {},
     "execution_count": 38
    }
   ],
   "metadata": {
    "collapsed": true,
    "jupyter": {
     "outputs_hidden": true,
     "source_hidden": true
    }
   }
  },
  {
   "cell_type": "code",
   "execution_count": 39,
   "source": [
    "dir_section.read(dir_text_iter)"
   ],
   "outputs": [
    {
     "output_type": "execute_result",
     "data": {
      "text/plain": [
       "[\" Directory of C:\\\\Users\\\\gsalomon\\\\OneDrive - Queen's University\\\\Python\\\\Projects\\\\EclipseRelated\\\\PyUtilities\\\\Text Processing\\\\Text Files\\\\Test Dir Structure\\\\Dir1\",\n",
       " '',\n",
       " '2021-06-18  14:54    <DIR>          .',\n",
       " '2021-06-18  14:54    <DIR>          ..',\n",
       " '2016-02-15  19:48                 0 File in Dir One.txt',\n",
       " '2021-06-18  14:54    <DIR>          SubFolder1',\n",
       " '2021-06-18  14:54    <DIR>          SubFolder2',\n",
       " '               1 File(s)              0 bytes']"
      ]
     },
     "metadata": {},
     "execution_count": 39
    }
   ],
   "metadata": {
    "collapsed": true,
    "jupyter": {
     "outputs_hidden": true,
     "source_hidden": true
    }
   }
  },
  {
   "cell_type": "markdown",
   "source": [
    "## Section Processing\r\n",
    "Next lets do something with the section text.\r\n",
    "\r\n",
    "Summarize a section's content by supplying the section with an `Aggregate`\r\n",
    "method.\r\n",
    "\r\n",
    "*Section*'s  `aggregate` argument (AggregateCallableOptions, optional): A function used to\r\n",
    "                collect and format, the processor output into a single object.\r\n",
    "                Defaults to None, which returns a list of the processor output.\r\n",
    "\r\n",
    "AggregateFunc = Callable[[ProcessedList, ContextType], AggregatedItem]\r\n",
    "AggregateCallableOptions = Union[AggregateFunc,\r\n",
    "                               Callable[[ProcessedList], AggregatedItem],\r\n",
    "                               Callable[..., ProcessedList]]\r\n",
    "                                          "
   ],
   "metadata": {}
  },
  {
   "cell_type": "code",
   "execution_count": 46,
   "source": [
    "print(Section.__init__.__doc__)"
   ],
   "outputs": [
    {
     "output_type": "stream",
     "name": "stdout",
     "text": [
      "Creates an Section instance that defines a continuous portion of a\n",
      "        text stream to be processed in a specific way.\n",
      "\n",
      "        Arguments:\n",
      "            section_name (str, optional): A label to be applied to the section.\n",
      "                Defaults to 'Section'.\n",
      "            start_section (BreakOptions, optional): The SectionBreak(s) used\n",
      "                to identify the location of the start of the section. Defaults\n",
      "                to None, indicating the section begins with the first text\n",
      "                line in the iterator.\n",
      "            end_section (BreakOptions, optional): The SectionBreak(s) used\n",
      "                to identify the location of the end of the section. Defaults\n",
      "                to None, indicating the section ends with the last text line\n",
      "                in the iterator.\n",
      "            processor (ProcessMethodOptions, optional): Instructions for\n",
      "                processing and the section items.  processor can be None, in\n",
      "                which case the section will use the default SectionProcessor,\n",
      "                it can be a SectionProcessor instance, a Section instance, or a\n",
      "                list of Section instances.\n",
      "            aggregate (AggregateCallableOptions, optional): A function used to\n",
      "                collect and format, the processor output into a single object.\n",
      "                Defaults to None, which returns a list of the processor output.\n",
      "            keep_partial (bool, optional): In the case where the reader is\n",
      "                composed of one or more subsections and the main section ends\n",
      "                before the subsections end. If keep_partial is true the partial\n",
      "                subsection(s) will be returned, otherwise they will be dropped.\n",
      "                Defaults to False,\n",
      "        Returns:\n",
      "            New Section.\n",
      "        \n"
     ]
    }
   ],
   "metadata": {}
  },
  {
   "cell_type": "markdown",
   "source": [
    "\r\n",
    "> For the directory line, extract the directory name from the full path:\r\n",
    "`'Folder Name:\\t' + dir_line.rsplit('\\\\', 1)[1]`\r\n",
    "\r\n",
    "> Get the number of files in the directory:\r\n",
    "`'\\tNumber of Files:\\t' + dir_line.strip().split(' ', 1)[0]`\r\n",
    "\r\n",
    "> Identify subdirectories:\r\n",
    "`'\\tSubdirectory:\\t' + dir_line[36:]`\r\n",
    "\r\n",
    "> Identify files:\r\n",
    "`'\\tFile:\\t' + dir_line[36:]`   "
   ],
   "metadata": {}
  },
  {
   "cell_type": "code",
   "execution_count": 41,
   "source": [
    "def process_directory(dir_line):\r\n",
    "    # Get the directory name\r\n",
    "    if 'Directory of' in dir_line:\r\n",
    "        output_line = 'Folder Name:\\t' + dir_line.rsplit('\\\\', 1)[1]\r\n",
    "    # Label the subdirectories\r\n",
    "    elif '<DIR>' in dir_line:\r\n",
    "        output_line = '\\tSubdirectory:\\t' + dir_line[36:]\r\n",
    "    # Label the file counts\r\n",
    "    elif 'File(s)' in dir_line:\r\n",
    "        output_line = 'Number of Files:\\t' + dir_line.strip().split(' ', 1)[0]\r\n",
    "    # Label the files\r\n",
    "    else:\r\n",
    "        output_line = '\\tFile:\\t\\t' + dir_line[36:]\r\n",
    "    return output_line "
   ],
   "outputs": [],
   "metadata": {}
  },
  {
   "cell_type": "code",
   "execution_count": 42,
   "source": [
    "dir_section = Section(start_section='Directory of', \r\n",
    "                      end_section=SectionBreak('File(s)', break_offset='After'),\r\n",
    "                      processor=ProcessingMethods([process_directory]))\r\n",
    "\r\n",
    "output = dir_section.read(dir_text)\r\n",
    "for line in output:\r\n",
    "    print(line)"
   ],
   "outputs": [
    {
     "output_type": "stream",
     "name": "stdout",
     "text": [
      "Folder Name:\tTest Dir Structure\n",
      "\tFile:\t\t\n",
      "\tSubdirectory:\t.\n",
      "\tSubdirectory:\t..\n",
      "\tSubdirectory:\tDir1\n",
      "\tSubdirectory:\tDir2\n",
      "\tFile:\t\tTestFile1.txt\n",
      "\tFile:\t\tTestFile2.rtf\n",
      "\tFile:\t\tTestFile3.docx\n",
      "\tFile:\t\txcopy.txt\n",
      "Number of Files:\t4\n"
     ]
    }
   ],
   "metadata": {}
  },
  {
   "cell_type": "markdown",
   "source": [
    "### Rule and RuleSets\r\n",
    "Instead of having one function `process_directory()` that manages all possible \r\n",
    "text lines in the section, the function can be broken down into parts by \r\n",
    "defining *Rules*."
   ],
   "metadata": {}
  },
  {
   "cell_type": "code",
   "execution_count": 43,
   "source": [
    "def dir_name_split(line):\r\n",
    "    return ['Folder Name:', line.rsplit('\\\\', 1)[1]]\r\n",
    "dir_name_rule = Rule('Directory of', pass_method=dir_name_split)\r\n",
    "\r\n",
    "def file_count_split(line):\r\n",
    "    return ['Number of Files:', line.strip().split(' ', 1)[0]]\r\n",
    "file_count_rule = Rule('File(s)', pass_method=file_count_split)\r\n",
    "\r\n",
    "def subfolder(line):\r\n",
    "    return ['Subdirectory:', line[36:]]\r\n",
    "subfolder_rule = Rule('<DIR>', pass_method=subfolder)\r\n",
    "\r\n",
    "def file(line):\r\n",
    "    return ['File:' + line[36:]]\r\n",
    "\r\n",
    "dir_process = RuleSet([dir_name_rule, file_count_rule, subfolder_rule], \r\n",
    "                      default=file)"
   ],
   "outputs": [],
   "metadata": {}
  },
  {
   "cell_type": "code",
   "execution_count": 44,
   "source": [
    "dir_section = Section(start_section='Directory of', \r\n",
    "                      end_section=SectionBreak('File(s)', break_offset='After'),\r\n",
    "                      processor=ProcessingMethods([dir_process]))\r\n",
    "\r\n",
    "output = dir_section.read(dir_text)\r\n",
    "for line in output:\r\n",
    "    print(line)"
   ],
   "outputs": [
    {
     "output_type": "stream",
     "name": "stdout",
     "text": [
      "['Folder Name:', 'Test Dir Structure']\n",
      "['File:']\n",
      "['Subdirectory:', '.']\n",
      "['Subdirectory:', '..']\n",
      "['Subdirectory:', 'Dir1']\n",
      "['Subdirectory:', 'Dir2']\n",
      "['File:TestFile1.txt']\n",
      "['File:TestFile2.rtf']\n",
      "['File:TestFile3.docx']\n",
      "['File:xcopy.txt']\n",
      "['Number of Files:', '4']\n"
     ]
    }
   ],
   "metadata": {}
  },
  {
   "cell_type": "markdown",
   "source": [
    "# *DONE TO HERE*"
   ],
   "metadata": {}
  },
  {
   "cell_type": "code",
   "execution_count": 45,
   "source": [
    "dir_section = Section(start_section='Directory of', \r\n",
    "                      end_section=SectionBreak('File(s)', break_offset='After'),\r\n",
    "                      processor=[dir_process])\r\n",
    "\r\n",
    "output = dir_section.read(dir_text)\r\n",
    "for line in output:\r\n",
    "    print(line)"
   ],
   "outputs": [
    {
     "output_type": "error",
     "ename": "TypeError",
     "evalue": "'NoneType' object is not callable",
     "traceback": [
      "\u001b[1;31m---------------------------------------------------------------------------\u001b[0m",
      "\u001b[1;31mTypeError\u001b[0m                                 Traceback (most recent call last)",
      "\u001b[1;32m<ipython-input-45-df41c2428b4c>\u001b[0m in \u001b[0;36m<module>\u001b[1;34m\u001b[0m\n\u001b[0;32m      3\u001b[0m                       processor=[dir_process])\n\u001b[0;32m      4\u001b[0m \u001b[1;33m\u001b[0m\u001b[0m\n\u001b[1;32m----> 5\u001b[1;33m \u001b[0moutput\u001b[0m \u001b[1;33m=\u001b[0m \u001b[0mdir_section\u001b[0m\u001b[1;33m.\u001b[0m\u001b[0mread\u001b[0m\u001b[1;33m(\u001b[0m\u001b[0mdir_text\u001b[0m\u001b[1;33m)\u001b[0m\u001b[1;33m\u001b[0m\u001b[1;33m\u001b[0m\u001b[0m\n\u001b[0m\u001b[0;32m      6\u001b[0m \u001b[1;32mfor\u001b[0m \u001b[0mline\u001b[0m \u001b[1;32min\u001b[0m \u001b[0moutput\u001b[0m\u001b[1;33m:\u001b[0m\u001b[1;33m\u001b[0m\u001b[1;33m\u001b[0m\u001b[0m\n\u001b[0;32m      7\u001b[0m     \u001b[0mprint\u001b[0m\u001b[1;33m(\u001b[0m\u001b[0mline\u001b[0m\u001b[1;33m)\u001b[0m\u001b[1;33m\u001b[0m\u001b[1;33m\u001b[0m\u001b[0m\n",
      "\u001b[1;32m~\\OneDrive - Queen's University\\Python\\Projects\\sectionary package\\src\\sectionary\\sections.py\u001b[0m in \u001b[0;36mread\u001b[1;34m(self, source, start_search, do_reset, context)\u001b[0m\n\u001b[0;32m   2174\u001b[0m         \u001b[0msource\u001b[0m \u001b[1;33m=\u001b[0m \u001b[0mself\u001b[0m\u001b[1;33m.\u001b[0m\u001b[0minitialize\u001b[0m\u001b[1;33m(\u001b[0m\u001b[0msource\u001b[0m\u001b[1;33m,\u001b[0m \u001b[0mstart_search\u001b[0m\u001b[1;33m,\u001b[0m \u001b[0mdo_reset\u001b[0m\u001b[1;33m,\u001b[0m \u001b[0mcontext\u001b[0m\u001b[1;33m)\u001b[0m\u001b[1;33m\u001b[0m\u001b[1;33m\u001b[0m\u001b[0m\n\u001b[0;32m   2175\u001b[0m         \u001b[0msection_iter\u001b[0m \u001b[1;33m=\u001b[0m \u001b[0mself\u001b[0m\u001b[1;33m.\u001b[0m\u001b[0mgen\u001b[0m\u001b[1;33m(\u001b[0m\u001b[0msource\u001b[0m\u001b[1;33m)\u001b[0m\u001b[1;33m\u001b[0m\u001b[1;33m\u001b[0m\u001b[0m\n\u001b[1;32m-> 2176\u001b[1;33m         section_reader = self._section_reader(section_iter, self.processor,\n\u001b[0m\u001b[0;32m   2177\u001b[0m                                               context)\n\u001b[0;32m   2178\u001b[0m         \u001b[0msection_items\u001b[0m \u001b[1;33m=\u001b[0m \u001b[0mlist\u001b[0m\u001b[1;33m(\u001b[0m\u001b[1;33m)\u001b[0m\u001b[1;33m\u001b[0m\u001b[1;33m\u001b[0m\u001b[0m\n",
      "\u001b[1;31mTypeError\u001b[0m: 'NoneType' object is not callable"
     ]
    }
   ],
   "metadata": {
    "collapsed": true,
    "jupyter": {
     "outputs_hidden": true,
     "source_hidden": true
    }
   }
  },
  {
   "cell_type": "code",
   "execution_count": null,
   "source": [
    "def dir_name_split(line):\r\n",
    "    # Get the directory name\r\n",
    "    if 'Directory of' in line:\r\n",
    "        return ['Folder Name:', line.rsplit('\\\\', 1)[1]]\r\n",
    "    return line\r\n",
    "\r\n",
    "def subfolder(line):\r\n",
    "    # Label the subdirectories\r\n",
    "    if '<DIR>' in line:\r\n",
    "        return ['Subdirectory:', line[36:]]\r\n",
    "    return line\r\n",
    "\r\n",
    "def file_count_split(line):\r\n",
    "    # Label the file counts\r\n",
    "    if 'File(s)' in line:\r\n",
    "        return ['Number of Files:', line.strip().split(' ', 1)[0]]\r\n",
    "    return line\r\n",
    "\r\n",
    "def file(line):\r\n",
    "    # Label the files\r\n",
    "    return ['File:' + line[36:]] "
   ],
   "outputs": [],
   "metadata": {
    "jupyter": {
     "source_hidden": true
    }
   }
  },
  {
   "cell_type": "code",
   "execution_count": null,
   "source": [
    "print('column index')\r\n",
    "print(''.join(str(i)*10 for i in range(10)))\r\n",
    "print(''.join(str(i) for i in range(10))*10)\r\n",
    "print(dir_text[9])\r\n",
    "    "
   ],
   "outputs": [],
   "metadata": {
    "jupyter": {
     "source_hidden": true
    }
   }
  },
  {
   "cell_type": "raw",
   "source": [
    "**The DIR output has the following structure:**\r\n",
    "    \r\n",
    "    Header Section:\r\n",
    "         Volume in drive C has no label.\r\n",
    "         Volume Serial Number is 56DB-14A7\r\n",
    "\r\n",
    "Multiple Folder sections ... \r\n",
    "    \r\n",
    "    Summary Section:\r\n",
    "         Total Files Listed:\r\n",
    "                  11 File(s)          72507 bytes\r\n",
    "                  23 Dir(s)     63927545856 bytes free\r\n",
    "\r\n",
    "Each Folder section has the following line types:\r\n",
    "    \r\n",
    "    Directory Label:\r\n",
    "         Directory of C:\\Test Dir Structure\r\n",
    "    Directory listing:\r\n",
    "        2021-06-18  14:54    <DIR>          Dir1\r\n",
    "    File listing:\r\n",
    "        2016-02-25  22:59                 3 TestFile1.txt\r\n",
    "    File Count:\r\n",
    "               4 File(s)           3501 bytes\r\n",
    "    "
   ],
   "metadata": {
    "jupyter": {
     "source_hidden": true
    }
   }
  },
  {
   "cell_type": "code",
   "execution_count": null,
   "source": [
    "\r\n",
    "\r\n",
    "#%% Regex Parsing patterns\r\n",
    "# File Count and summary:\r\n",
    "     #          1 File(s)          59904 bytes\r\n",
    "     #         23 Dir(s)     63927545856 bytes free\r\n",
    "folder_summary_pt = re.compile(\r\n",
    "    '(?P<files>'       # beginning of files string group\r\n",
    "    '[0-9]+'           # Integer number of files\r\n",
    "    ')'                # end of files string group\r\n",
    "    '[ ]+'             # Arbitrary number of spaces\r\n",
    "    '(?P<type>'        # beginning of type string group\r\n",
    "    'File|Dir'         # \"File\" or \" Dir\" text\r\n",
    "    ')'                # end of type string group\r\n",
    "    '\\\\(s\\\\)'          # \"(s)\" text\r\n",
    "    '[ ]+'             # Arbitrary number of spaces\r\n",
    "    '(?P<size>'        # beginning of size string group\r\n",
    "    '[0-9]+'           # Integer size of folder\r\n",
    "    ')'                # end of size string group\r\n",
    "    ' bytes'           # \"bytes\" text\r\n",
    "    )\r\n",
    "date_pattern = tp.build_date_re(compile_re=False)\r\n",
    "file_listing_pt = re.compile(\r\n",
    "    f'{date_pattern}'  # Insert date pattern\r\n",
    "    '[ ]+'             # Arbitrary number of spaces\r\n",
    "    '(?P<size>'        # beginning of size string group\r\n",
    "    '[0-9]+'           # Integer size of folder\r\n",
    "    ')'                # end of size string group\r\n",
    "    ' '                # Single space\r\n",
    "    '(?P<filename>'    # beginning of filename string group\r\n",
    "    '.*'               # Integer size of folder\r\n",
    "    ')'                # end of size string group\r\n",
    "    '$'                # end of string\r\n",
    "    )\r\n",
    "\r\n",
    "\r\n",
    "#%% Line Parsing Functions\r\n",
    "# Directory Label Rule\r\n",
    "\r\n",
    "def extract_directory(line: str, event, *args,\r\n",
    "                    context=None, **kwargs) -> List[List[str]]:\r\n",
    "    '''Extract Directory path from folder header.\r\n",
    "    '''\r\n",
    "    full_dir = line.replace('Directory of', '').strip()\r\n",
    "    return [full_dir]\r\n",
    "\r\n",
    "\r\n",
    "dir_header_rule = Rule(\r\n",
    "    name='Dir Header Rule',\r\n",
    "    sentinel='Directory of ',\r\n",
    "    pass_method=extract_directory\r\n",
    "    )\r\n",
    "\r\n",
    "\r\n",
    "# skip <DIR>\r\n",
    "def blank_line(*args, **kwargs) -> List[List[str]]:\r\n",
    "    return [['']]\r\n",
    "\r\n",
    "\r\n",
    "skip_dir_rule = Rule(\r\n",
    "    name='Skip <DIR> Rule',\r\n",
    "    sentinel=' <DIR> ',\r\n",
    "    pass_method='Blank'\r\n",
    "    )\r\n",
    "skip_totals_rule = Rule(\r\n",
    "    name='Skip Total Files Header Rule',\r\n",
    "    sentinel='Total Files Listed:',\r\n",
    "    pass_method='Blank'\r\n",
    "    )\r\n",
    "\r\n",
    "\r\n",
    "# Regular file listings\r\n",
    "def file_parse(line: str, event, *args, **kwargs) -> List[List[str]]:\r\n",
    "    '''Break file data into three columns containing Filename, Date, Size.\r\n",
    "\r\n",
    "    Typical file is:\r\n",
    "        2016-02-25  22:59     3 TestFile1.txt\r\n",
    "    File line is parsed using a regular expression with 3 named groups.\r\n",
    "    Output for the example above is:\r\n",
    "        [[TestFile1.txt , 2016-02-25  22:59, 3]]\r\n",
    "\r\n",
    "    Args:\r\n",
    "        line (str): The text line to be parsed.\r\n",
    "        event (re.match): The results of the trigger test on the line.\r\n",
    "            Contains 3 named groups: ['date', 'size', 'filename'].\r\n",
    "        *args & **kwargs: Catch unused extra parameters passed to file_parse.\r\n",
    "\r\n",
    "    Returns:\r\n",
    "        tp.ParseResults: A one-item list containing the parsed file\r\n",
    "            information as a 3-item tuple:\r\n",
    "                [(filename: str, date: str, file size: int)].\r\n",
    "    '''\r\n",
    "    file_line_parts = event.test_value.groupdict(default='')\r\n",
    "    parsed_line = tuple([\r\n",
    "        file_line_parts['filename'],\r\n",
    "        tp.make_date_time_string(event),\r\n",
    "        int(file_line_parts['size'])\r\n",
    "        ])\r\n",
    "    return parsed_line\r\n",
    "\r\n",
    "\r\n",
    "# Regular File Parsing Rule\r\n",
    "file_listing_rule = Rule(file_listing_pt, pass_method=file_parse,\r\n",
    "                            name='Files_rule')\r\n",
    "\r\n",
    "\r\n",
    "# File Count Parsing Rule\r\n",
    "def file_count_parse(line: str, event, *args, **kwargs) -> List[List[str]]:\r\n",
    "    '''Break file data into two rows containing:\r\n",
    "           Number of files, & Directory size.\r\n",
    "\r\n",
    "    Output has the following format:\r\n",
    "        ['Number of files', file count value: int]\r\n",
    "        ['Directory Size', directory size value: int]\r\n",
    "\r\n",
    "    Typical line is:\r\n",
    "        4 File(s)           3501 bytes\r\n",
    "    File count is parsed using a regular expression with 2 named groups.\r\n",
    "\r\n",
    "    Args:\r\n",
    "        line (str): The text line to be parsed.\r\n",
    "        event (re.match): The results of the trigger test size the line.\r\n",
    "            Contains 3 named groups: ['files', 'type', 'size'].\r\n",
    "        *args & **kwargs: Catch unused extra parameters passed to file_parse.\r\n",
    "\r\n",
    "    Returns:\r\n",
    "        tp.ParseResults: The parsed file information.\r\n",
    "            The parsed file information consists of three lines with the\r\n",
    "            following format:\r\n",
    "                'Number of files', file count value: int\r\n",
    "                'Directory Size', directory size value: int\r\n",
    "    '''\r\n",
    "    file_count_parts = event.groupdict(default='')\r\n",
    "    # Manage case where bytes free is given:\r\n",
    "    # 23 Dir(s)     63927545856 bytes free\r\n",
    "    if line.strip().endswith('free'):\r\n",
    "        file_count_parts['size_label'] = 'Free Space'\r\n",
    "    else:\r\n",
    "        file_count_parts['size_label'] = 'Size'\r\n",
    "    parsed_line_template = ''.join([\r\n",
    "        'Number of {type}s, {files}\\n',\r\n",
    "        'Directory {size_label}, {size}'\r\n",
    "        ])\r\n",
    "    parsed_line_str = parsed_line_template.format(**file_count_parts)\r\n",
    "    parsed_line = [new_line.split(',')\r\n",
    "                   for new_line in parsed_line_str.splitlines()]\r\n",
    "    return parsed_line\r\n",
    "file_count_rule = Rule(folder_summary_pt, pass_method=file_count_parse,\r\n",
    "                          name='Files_rule')\r\n",
    "\r\n",
    "\r\n",
    "skip_file_count_rule = Rule(\r\n",
    "    name='Skip File(s) Rule',\r\n",
    "    sentinel=folder_summary_pt,\r\n",
    "    pass_method='Blank'\r\n",
    "    )\r\n",
    "\r\n",
    "\r\n",
    "# Files / DIRs Parse\r\n",
    "def make_files_rule() -> Rule:\r\n",
    "    '''If  File(s) or  Dir(s) extract # files & size\r\n",
    "        '''\r\n",
    "    def files_total_parse(line, event, *args, **kwargs) -> List[List[str]]:\r\n",
    "        '''Break file counts into three columns containing:\r\n",
    "           Type (File or Dir), Count, Size.\r\n",
    "\r\n",
    "        The line:\r\n",
    "               11 File(s)          72507 bytes\r\n",
    "        Results in:\r\n",
    "            [('File', 11, 3501)]\r\n",
    "        The line:\r\n",
    "           23 Dir(s)     63927545856 bytes free\r\n",
    "        Results in:\r\n",
    "            [('Dir', 23, 3501)]\r\n",
    "\r\n",
    "    Args:\r\n",
    "        line (str): The text line to be parsed.\r\n",
    "        event (re.match): The results of the trigger test on the line.\r\n",
    "            Contains 3 named groups: ['type', 'files', 'size'].\r\n",
    "        *args & **kwargs: Catch unused extra parameters passed to file_parse.\r\n",
    "\r\n",
    "    Returns:\r\n",
    "        tp.ParseResults: A one-item list containing the parsed file count\r\n",
    "            information as a 3-item tuple:\r\n",
    "                [(Type: str (File or Dir), Count: int, Size: int)].\r\n",
    "        '''\r\n",
    "        files_dict = event.test_value.groupdict(default='')\r\n",
    "        parsed_line = tuple([\r\n",
    "            files_dict[\"type\"],\r\n",
    "            files_dict[\"files\"],\r\n",
    "            files_dict[\"size\"]\r\n",
    "            ])\r\n",
    "        return [parsed_line]\r\n",
    "\r\n",
    "    files_total_rule = Rule(folder_summary_pt,\r\n",
    "                               pass_method=files_total_parse,\r\n",
    "                               name='Files_Total_rule')\r\n",
    "    return files_total_rule\r\n",
    "\r\n",
    "\r\n",
    "default_csv = tp.define_csv_parser('dir_files', delimiter=':',\r\n",
    "                                       skipinitialspace=True)\r\n",
    "\r\n",
    "\r\n",
    "#%% Line Processing\r\n",
    "def print_lines(parsed_list):\r\n",
    "    output = list()\r\n",
    "    for item in parsed_list:\r\n",
    "        pprint(item)\r\n",
    "        output.append(item)\r\n",
    "    return output\r\n",
    "\r\n",
    "\r\n",
    "def to_folder_dict(folder_list):\r\n",
    "    '''Combine folder info into dictionary.\r\n",
    "    '''\r\n",
    "    # TODO separate directory info from file info\r\n",
    "    #The first line in the folder list is the directory path\r\n",
    "    directory = ''\r\n",
    "    if folder_list:\r\n",
    "        d_list = folder_list[0]\r\n",
    "        if d_list:\r\n",
    "            directory = d_list[0]\r\n",
    "    folder_dict = {'Directory': directory}\r\n",
    "    for folder_info in folder_list[1:]:\r\n",
    "        filename, date, file_size = folder_info\r\n",
    "        full_path = '\\\\'.join([directory, filename])\r\n",
    "        file_parts = filename.rsplit('.', 1)\r\n",
    "        if len(file_parts) > 1:\r\n",
    "            extension = file_parts[1]\r\n",
    "        else:\r\n",
    "            extension = ''\r\n",
    "        folder_dict = {\r\n",
    "            'Path': full_path,\r\n",
    "            'Directory': directory,\r\n",
    "            'Filename': filename,\r\n",
    "            'Extension': extension,\r\n",
    "            'Date': date,\r\n",
    "            'Size': file_size\r\n",
    "            }\r\n",
    "    return folder_dict\r\n",
    "\r\n",
    "\r\n",
    "def make_files_table(dir_gen):\r\n",
    "    '''Combine folder info dictionaries into Pandas DataFrame.\r\n",
    "    '''\r\n",
    "    list_of_folders = list(dir_gen)\r\n",
    "    files_table = pd.DataFrame(list_of_folders)\r\n",
    "    files_table.set_index('Path')\r\n",
    "    return files_table\r\n",
    "\r\n",
    "\r\n",
    "#%% Reader definitions\r\n",
    "default_parser = tp.define_csv_parser('dir_files', delimiter=':',\r\n",
    "                                       skipinitialspace=True)\r\n",
    "heading_reader = ProcessingMethods([\r\n",
    "    default_parser,\r\n",
    "    tp.trim_items\r\n",
    "    ])\r\n",
    "folder_reader = ProcessingMethods([\r\n",
    "    RuleSet([skip_dir_rule, file_listing_rule, dir_header_rule,\r\n",
    "             skip_file_count_rule], default=default_parser),\r\n",
    "    tp.drop_blanks\r\n",
    "    ])\r\n",
    "summary_reader = ProcessingMethods([\r\n",
    "    RuleSet([file_count_rule, skip_totals_rule], default=default_parser),\r\n",
    "    tp.drop_blanks\r\n",
    "    ])\r\n",
    "\r\n",
    "\r\n",
    "#%% SectionBreak definitions\r\n",
    "folder_start = SectionBreak(\r\n",
    "    name='Start of Folder', sentinel='Directory of', break_offset='Before')\r\n",
    "folder_end = SectionBreak(name='End of Folder',sentinel=folder_summary_pt,\r\n",
    "                             break_offset='After')\r\n",
    "summary_start = SectionBreak(sentinel='Total Files Listed:',\r\n",
    "                                name='Start of DIR Summary', break_offset='Before')\r\n",
    "\r\n",
    "\r\n",
    "#%% Section definitions\r\n",
    "header_section = Section(\r\n",
    "    section_name='Header',\r\n",
    "    start_section=None,\r\n",
    "    end_section=folder_start,\r\n",
    "    processor=heading_reader,\r\n",
    "    aggregate=print_lines\r\n",
    "    )\r\n",
    "folder_section = Section(\r\n",
    "    section_name='Folder',\r\n",
    "    start_section=folder_start,\r\n",
    "    end_section=folder_end,\r\n",
    "    processor=folder_reader,\r\n",
    "    aggregate=to_folder_dict\r\n",
    "    )\r\n",
    "all_folder_section = Section(\r\n",
    "    section_name='All Folders',\r\n",
    "    start_section=folder_start,\r\n",
    "    end_section=summary_start,\r\n",
    "    processor=[folder_section],\r\n",
    "    aggregate=make_files_table\r\n",
    "    )\r\n",
    "summary_section = Section(\r\n",
    "    section_name='Summary',\r\n",
    "    start_section=summary_start,\r\n",
    "    end_section=None,\r\n",
    "    processor=summary_reader,\r\n",
    "    aggregate=tp.to_dict\r\n",
    "    )\r\n",
    "\r\n",
    "\r\n",
    "#%% Main Iteration\r\n",
    "def main():\r\n",
    "    # Test File\r\n",
    "    base_path = Path.cwd() / 'examples'\r\n",
    "    test_file = base_path / 'test_DIR_Data.txt'\r\n",
    "\r\n",
    "    # Call Primary routine\r\n",
    "    context = {\r\n",
    "        'File Name': test_file.name,\r\n",
    "        'File Path': test_file.parent,\r\n",
    "        'top_dir': str(base_path),\r\n",
    "        'tree_name': 'Test folder Tree'\r\n",
    "        }\r\n",
    "\r\n",
    "    source = tp.file_reader(test_file)\r\n",
    "    file_info = all_folder_section.read(source, context)\r\n",
    "    #summary = summary_section.read(source, **context)\r\n",
    "\r\n",
    "    # Output  Data\r\n",
    "    xw.view(file_info)\r\n",
    "    print('done')\r\n",
    "\r\n",
    "if __name__ == '__main__':\r\n",
    "    main()"
   ],
   "outputs": [],
   "metadata": {
    "jupyter": {
     "source_hidden": true
    }
   }
  },
  {
   "cell_type": "code",
   "execution_count": null,
   "source": [
    "print('column index')\r\n",
    "print(''.join(str(i)*10 for i in range(10)))\r\n",
    "print(''.join(str(i) for i in range(10))*10)\r\n",
    "print(dir_text[9])\r\n",
    "    "
   ],
   "outputs": [],
   "metadata": {
    "jupyter": {
     "source_hidden": true
    }
   }
  },
  {
   "cell_type": "code",
   "execution_count": null,
   "source": [
    "a =dir_text[3]\r\n",
    "a.index('\\\\')\r\n",
    "a.rsplit('\\\\', 1)\r\n",
    "#'Folder Name:\\t' + a.rsplit('\\\\', 1)[0]"
   ],
   "outputs": [],
   "metadata": {
    "jupyter": {
     "source_hidden": true
    }
   }
  },
  {
   "cell_type": "code",
   "execution_count": null,
   "source": [],
   "outputs": [],
   "metadata": {}
  },
  {
   "cell_type": "code",
   "execution_count": null,
   "source": [],
   "outputs": [],
   "metadata": {}
  }
 ],
 "metadata": {
  "interpreter": {
   "hash": "60a1f208f299629c0c5615e2cc619a90192052a9831bd288ceae6c3a09c71508"
  },
  "kernelspec": {
   "name": "python3",
   "display_name": "Python 3.8.6 64-bit ('Standard': conda)"
  },
  "language_info": {
   "codemirror_mode": {
    "name": "ipython",
    "version": 3
   },
   "file_extension": ".py",
   "mimetype": "text/x-python",
   "name": "python",
   "nbconvert_exporter": "python",
   "pygments_lexer": "ipython3",
   "version": "3.8.6"
  }
 },
 "nbformat": 4,
 "nbformat_minor": 4
}