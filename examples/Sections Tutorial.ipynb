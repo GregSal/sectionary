{
 "cells": [
  {
   "attachments": {},
   "cell_type": "markdown",
   "metadata": {},
   "source": [
    "# Section Introductory Tutorial"
   ]
  },
  {
   "attachments": {},
   "cell_type": "markdown",
   "metadata": {},
   "source": [
    "## Section Components\n",
    "A section defines a continuous portion of a text stream or other iterable.\n",
    "A Section instance is the set of definitions for managing a sequence. the same instance can be used repeatedly on different sequence inputs or even on different portions of the same sequence.\n",
    "\n",
    "The section definition may include:\n",
    "- Boundary definitions for the section's start and end.\n",
    "- Formatting or processing instructions for parsing text, changing data types, and merging or dropping sequence items.\n",
    "- An assembly method, which combines all of the processed items into a single item such as a list, dictionary or pandas DataFrame.\n",
    "\n",
    "\n",
    "\n",
    "### Boundaries\n",
    "At its simplest a section is a definition of the start and/or end of a a sequence.\n",
    "\n",
    "#### SectionBreak\n",
    "### Formatting\n",
    "#### ProcessingMethods\n",
    "### Summary\n",
    "#### assemble Functions"
   ]
  },
  {
   "attachments": {},
   "cell_type": "markdown",
   "metadata": {},
   "source": [
    "## \"Hello World\"\n",
    "A Sectionary equivalent to the traditional \"Hello World\" example."
   ]
  },
  {
   "cell_type": "code",
   "execution_count": 2,
   "metadata": {},
   "outputs": [
    {
     "data": {
      "text/plain": [
       "['H', 'e', 'l', 'l', 'o', ' ', 'W', 'o', 'r', 'l', 'd']"
      ]
     },
     "execution_count": 2,
     "metadata": {},
     "output_type": "execute_result"
    }
   ],
   "source": [
    "from sections import Section\n",
    "s = Section()\n",
    "s.read('Hello World')"
   ]
  },
  {
   "attachments": {},
   "cell_type": "markdown",
   "metadata": {},
   "source": [
    "1. treats the string 'Hello World' as a sequence\n",
    "2. iterates through the entire sequence (No Boundaries are defined), converting it into a list (The default assemble function)"
   ]
  },
  {
   "cell_type": "code",
   "execution_count": 3,
   "metadata": {},
   "outputs": [
    {
     "data": {
      "text/plain": [
       "['W', 'o', 'r', 'l', 'd']"
      ]
     },
     "execution_count": 3,
     "metadata": {},
     "output_type": "execute_result"
    }
   ],
   "source": [
    "from sections import Section\n",
    "s = Section('W')\n",
    "s.read('Hello World')"
   ]
  },
  {
   "attachments": {},
   "cell_type": "markdown",
   "metadata": {},
   "source": [
    "1. 'W' is a starting Boundary.\n",
    "2. iterates through the sequence starting with the first 'W' encountered.\n",
    "3. "
   ]
  },
  {
   "cell_type": "code",
   "execution_count": 4,
   "metadata": {},
   "outputs": [
    {
     "data": {
      "text/plain": [
       "['H', 'e', 'l', 'l', 'o', ' ']"
      ]
     },
     "execution_count": 4,
     "metadata": {},
     "output_type": "execute_result"
    }
   ],
   "source": [
    "from sections import Section\n",
    "s = Section('H','W')\n",
    "s.read('Hello World')"
   ]
  },
  {
   "attachments": {},
   "cell_type": "markdown",
   "metadata": {},
   "source": [
    "1. 'H' is a starting Boundary.\n",
    "2. 'W' is an ending Boundary.\n",
    "3. iterates through the sequence starting with the first 'H' encountered and ending with the first 'W' encountered."
   ]
  },
  {
   "cell_type": "code",
   "execution_count": 3,
   "metadata": {},
   "outputs": [
    {
     "data": {
      "text/plain": [
       "['H', 'E', 'L', 'L', 'O', ' ']"
      ]
     },
     "execution_count": 3,
     "metadata": {},
     "output_type": "execute_result"
    }
   ],
   "source": [
    "from sections import Section\n",
    "s = Section('H','W', str.upper)\n",
    "s.read('Hello World')"
   ]
  },
  {
   "attachments": {},
   "cell_type": "markdown",
   "metadata": {},
   "source": [
    "1. str.upper is a Processor (Formatting) function\n",
    "2. str.upper is applied to each item (letter) in the sequence (string) before building the list"
   ]
  },
  {
   "cell_type": "code",
   "execution_count": 9,
   "metadata": {},
   "outputs": [
    {
     "data": {
      "text/plain": [
       "'H.E.L.L.O. '"
      ]
     },
     "execution_count": 9,
     "metadata": {},
     "output_type": "execute_result"
    }
   ],
   "source": [
    "from functools import partial\n",
    "from sections import Section\n",
    "j = partial(str.join, '.')\n",
    "s = Section('H','W', str.upper, assemble=j)\n",
    "s.read('Hello World')"
   ]
  },
  {
   "attachments": {},
   "cell_type": "markdown",
   "metadata": {},
   "source": [
    "# *DONE TO HERE*"
   ]
  },
  {
   "attachments": {},
   "cell_type": "markdown",
   "metadata": {},
   "source": [
    "## Introduction"
   ]
  },
  {
   "attachments": {},
   "cell_type": "markdown",
   "metadata": {},
   "source": [
    " There are many good text readers and parsers available for Python (such as *csv*), \n",
    " but they generally assume that the source they are reading from has uniform \n",
    " formatting throughout.  However, often this is not the case. Different parts \n",
    " of a text file may contain different types of information each of which require different approached to reading the data. \n",
    "\n",
    " The Sections module is used to define, read and process distinct groups of items\n",
    " -- usually lines of text -- from an iterable source.  \n",
    "\n",
    "The principal class is:\n",
    "\n",
    "    Section(name: str = 'Section',\n",
    "            start_section: (SectionBreak, List[SectionBreak], str, Optional)\n",
    "            end_section: (SectionBreak, List[SectionBreak], str, Optional)\n",
    "            processor: (ProcessingMethods, Section, List[Section], Optional)\n",
    "            assemble: (Callable, Optional)\n",
    "            keep_partial: bool = False)\n",
    "\n",
    "- Section defines a continuous portion of a text stream or other iterable.\n",
    "\n",
    "- A section definition may include:\n",
    "\n",
    "    - Starting and ending break points.\n",
    "    - Processing instructions.\n",
    "    - An assembly method.\n",
    "\n",
    "- A Section instance is created by defining one or Once a section has been defined, it can be applied to an iterator using:\n",
    "\n",
    "`read(source)`\n",
    "> Where\n",
    "> *source* is any iterable supplying the text lines to be parsed.\n",
    "\n",
    "Supporting classes:\n",
    "\n",
    "`Trigger(sentinel, location=None, name)`: \n",
    ">  Define a test for evaluating a source item.\n",
    "\n",
    "`SectionBreak(sentinel, location, break_offset, name)`: \n",
    ">  Identify the start or end of a section.\n",
    "\n",
    "`Rule(sentinel, location, pass_method, fail_method, name)`: \n",
    ">  Apply a method based on trigger test result.\n",
    "\n",
    "`RuleSet(rule_list, default, name)`:  \n",
    ">  Apply a sequence of Rules, stopping with the first Rule to pass.\n",
    "        \n",
    "`ProcessingMethods(processing_methods, name)`: \n",
    ">  Apply a series of functions to a supplied sequence of items."
   ]
  },
  {
   "attachments": {},
   "cell_type": "markdown",
   "metadata": {},
   "source": [
    "**Note:** Although the examples given here are focused on text, The Sectionary package works with any type of sequence."
   ]
  },
  {
   "attachments": {},
   "cell_type": "markdown",
   "metadata": {
    "jupyter": {
     "outputs_hidden": true,
     "source_hidden": true
    }
   },
   "source": [
    "## Imports"
   ]
  },
  {
   "attachments": {},
   "cell_type": "markdown",
   "metadata": {
    "jupyter": {
     "source_hidden": true
    }
   },
   "source": [
    "#### Standard Python Modules"
   ]
  },
  {
   "cell_type": "code",
   "execution_count": 3,
   "metadata": {
    "jupyter": {
     "source_hidden": true
    }
   },
   "outputs": [],
   "source": [
    "from pathlib import Path\n",
    "from pprint import pprint\n",
    "import inspect\n",
    "import re"
   ]
  },
  {
   "attachments": {},
   "cell_type": "markdown",
   "metadata": {
    "jupyter": {
     "source_hidden": true
    }
   },
   "source": [
    "#### Useful Third Party Packages"
   ]
  },
  {
   "cell_type": "code",
   "execution_count": 4,
   "metadata": {
    "jupyter": {
     "source_hidden": true
    }
   },
   "outputs": [],
   "source": [
    "import pandas as pd\n",
    "#import xlwings as xw"
   ]
  },
  {
   "attachments": {},
   "cell_type": "markdown",
   "metadata": {
    "jupyter": {
     "source_hidden": true
    }
   },
   "source": [
    "#### Sectionary Imports"
   ]
  },
  {
   "cell_type": "raw",
   "metadata": {},
   "source": [
    "# Add module to PythonPath\n",
    "import sys\n",
    "sectionary_relative_path = r'../src/sectionary')\n",
    "sectionary_path = str(Path(sectionary_relative_path).resolve())\n",
    "sys.path.append(sectionary_path)"
   ]
  },
  {
   "cell_type": "code",
   "execution_count": 5,
   "metadata": {},
   "outputs": [],
   "source": [
    "import sections\n",
    "#import text_reader as tp\n",
    "#from sections import Rule, RuleSet, SectionBreak, ProcessingMethods, Section"
   ]
  },
  {
   "attachments": {},
   "cell_type": "markdown",
   "metadata": {},
   "source": [
    "## The Text to be Processed"
   ]
  },
  {
   "attachments": {},
   "cell_type": "markdown",
   "metadata": {
    "jupyter": {
     "source_hidden": true
    }
   },
   "source": [
    "This tutorial uses the output from the Windows `dir` command:\n",
    "> `DIR \"Test Dir Structure\" /S /N /-C /T:W >  \"test_DIR_Data.txt\"`\n",
    "\n",
    "More information on this command syntax and resulting output can be found \n",
    "[here](MS_Dir_Output.html)"
   ]
  },
  {
   "attachments": {},
   "cell_type": "markdown",
   "metadata": {},
   "source": [
    "The output from the `Dir` command is read in as a list of text lines by the command:\n",
    "`dir_text = Path('test_DIR_Data.txt').read_text().splitlines()`"
   ]
  },
  {
   "cell_type": "code",
   "execution_count": 8,
   "metadata": {},
   "outputs": [],
   "source": [
    "dir_text = Path('test_DIR_Data.txt').read_text().splitlines()"
   ]
  },
  {
   "attachments": {},
   "cell_type": "markdown",
   "metadata": {},
   "source": [
    "`dir_text` also can be obtained directly using an _iPython_ command:\n",
    "> `dir_text = !DIR \"Test Dir Structure\" /S /N /-C /T:W`"
   ]
  },
  {
   "attachments": {},
   "cell_type": "markdown",
   "metadata": {
    "jupyter": {
     "source_hidden": true
    }
   },
   "source": [
    "### `Dir` Output Structure"
   ]
  },
  {
   "attachments": {},
   "cell_type": "markdown",
   "metadata": {},
   "source": [
    "The first 24 lines of `dir_text` are:\n"
   ]
  },
  {
   "cell_type": "code",
   "execution_count": 9,
   "metadata": {},
   "outputs": [
    {
     "name": "stdout",
     "output_type": "stream",
     "text": [
      "\t  Volume in drive C is Windows\n",
      "\t  Volume Serial Number is DAE7-D5BA\n",
      "\t \n",
      "\t  Directory of c:\\users\\...\\Test Dir Structure\n",
      "\t \n",
      "\t 2021-12-27  03:33 PM    <DIR>          .\n",
      "\t 2021-12-27  03:33 PM    <DIR>          ..\n",
      "\t 2021-12-27  04:03 PM    <DIR>          Dir1\n",
      "\t 2021-12-27  05:27 PM    <DIR>          Dir2\n",
      "\t 2016-02-25  09:59 PM                 3 TestFile1.txt\n",
      "\t 2016-02-15  06:46 PM                 7 TestFile2.rtf\n",
      "\t 2016-02-15  06:47 PM                 0 TestFile3.docx\n",
      "\t 2016-04-21  01:06 PM              3491 xcopy.txt\n",
      "\t                4 File(s)           3501 bytes\n",
      "\t \n",
      "\t  Directory of c:\\users\\...\\Test Dir Structure\\Dir1\n",
      "\t \n",
      "\t 2021-12-27  04:03 PM    <DIR>          .\n",
      "\t 2021-12-27  04:03 PM    <DIR>          ..\n",
      "\t 2016-02-15  06:48 PM                 0 File in Dir One.txt\n"
     ]
    }
   ],
   "source": [
    "for line in dir_text[0:20]:\n",
    "    print('\\t', line)"
   ]
  },
  {
   "attachments": {},
   "cell_type": "markdown",
   "metadata": {
    "jupyter": {
     "source_hidden": true
    }
   },
   "source": [
    "We will ignore the first two lines (the *header section*)"
   ]
  },
  {
   "cell_type": "code",
   "execution_count": 10,
   "metadata": {
    "collapsed": true,
    "jupyter": {
     "outputs_hidden": true,
     "source_hidden": true
    }
   },
   "outputs": [
    {
     "name": "stdout",
     "output_type": "stream",
     "text": [
      "\t  Volume in drive C is Windows\n",
      "\t  Volume Serial Number is DAE7-D5BA\n"
     ]
    }
   ],
   "source": [
    "for line in dir_text[0:2]:\n",
    "    print('\\t', line)"
   ]
  },
  {
   "attachments": {},
   "cell_type": "markdown",
   "metadata": {
    "jupyter": {
     "source_hidden": true
    }
   },
   "source": [
    "After this come multiple Folder sections something like this:"
   ]
  },
  {
   "cell_type": "code",
   "execution_count": 11,
   "metadata": {
    "collapsed": true,
    "jupyter": {
     "outputs_hidden": true,
     "source_hidden": true
    }
   },
   "outputs": [
    {
     "name": "stdout",
     "output_type": "stream",
     "text": [
      " Directory of c:\\users\\...\\Test Dir Structure\n",
      "\n",
      "2021-12-27  03:33 PM    <DIR>          .\n",
      "2021-12-27  03:33 PM    <DIR>          ..\n",
      "2021-12-27  04:03 PM    <DIR>          Dir1\n",
      "2021-12-27  05:27 PM    <DIR>          Dir2\n",
      "               4 File(s)           3501 bytes\n"
     ]
    }
   ],
   "source": [
    "print(dir_text[3])\n",
    "print()\n",
    "for line in dir_text[5:9]:\n",
    "    print(line)\n",
    "print(dir_text[13])"
   ]
  },
  {
   "attachments": {},
   "cell_type": "markdown",
   "metadata": {},
   "source": [
    "## Defining a Section"
   ]
  },
  {
   "attachments": {},
   "cell_type": "markdown",
   "metadata": {},
   "source": [
    "The start and end of a folder listing can be identified by key phrases:\n",
    "- The section start is identified by the text '*Directory of*'\n",
    "- The section end is identified by the text '*File(s)*'"
   ]
  },
  {
   "attachments": {},
   "cell_type": "markdown",
   "metadata": {},
   "source": [
    "### Define a Section Based on these start and end identifiers"
   ]
  },
  {
   "cell_type": "code",
   "execution_count": 12,
   "metadata": {
    "collapsed": true,
    "jupyter": {
     "outputs_hidden": true,
     "source_hidden": true
    }
   },
   "outputs": [
    {
     "data": {
      "text/plain": [
       "[' Directory of c:\\\\users\\\\...\\\\Test Dir Structure',\n",
       " '',\n",
       " '2021-12-27  03:33 PM    <DIR>          .',\n",
       " '2021-12-27  03:33 PM    <DIR>          ..',\n",
       " '2021-12-27  04:03 PM    <DIR>          Dir1',\n",
       " '2021-12-27  05:27 PM    <DIR>          Dir2',\n",
       " '2016-02-25  09:59 PM                 3 TestFile1.txt',\n",
       " '2016-02-15  06:46 PM                 7 TestFile2.rtf',\n",
       " '2016-02-15  06:47 PM                 0 TestFile3.docx',\n",
       " '2016-04-21  01:06 PM              3491 xcopy.txt']"
      ]
     },
     "execution_count": 12,
     "metadata": {},
     "output_type": "execute_result"
    }
   ],
   "source": [
    "dir_section = sections.Section(\n",
    "    start_section='Directory of', \n",
    "    end_section='File(s)'\n",
    "    )\n",
    "dir_section.read(dir_text)"
   ]
  },
  {
   "attachments": {},
   "cell_type": "markdown",
   "metadata": {
    "jupyter": {
     "source_hidden": true
    }
   },
   "source": [
    "`dir_section.read(dir_text)` returned the first folder listing in *dir_text*.\n",
    "However, it is missing the final line:"
   ]
  },
  {
   "cell_type": "code",
   "execution_count": 13,
   "metadata": {
    "collapsed": true,
    "jupyter": {
     "outputs_hidden": true,
     "source_hidden": true
    }
   },
   "outputs": [
    {
     "name": "stdout",
     "output_type": "stream",
     "text": [
      "               4 File(s)           3501 bytes\n"
     ]
    }
   ],
   "source": [
    "print(dir_text[13])"
   ]
  },
  {
   "attachments": {},
   "cell_type": "markdown",
   "metadata": {
    "jupyter": {
     "source_hidden": true
    }
   },
   "source": [
    "To include this line, we need to define the `end_section` to end *After* the specified text.  We include this information by creating a `SectionBreak` object and explicitly including the last line using the `break_offset` argument:"
   ]
  },
  {
   "cell_type": "code",
   "execution_count": 14,
   "metadata": {
    "collapsed": true,
    "jupyter": {
     "outputs_hidden": true,
     "source_hidden": true
    }
   },
   "outputs": [
    {
     "data": {
      "text/plain": [
       "[' Directory of c:\\\\users\\\\...\\\\Test Dir Structure',\n",
       " '',\n",
       " '2021-12-27  03:33 PM    <DIR>          .',\n",
       " '2021-12-27  03:33 PM    <DIR>          ..',\n",
       " '2021-12-27  04:03 PM    <DIR>          Dir1',\n",
       " '2021-12-27  05:27 PM    <DIR>          Dir2',\n",
       " '2016-02-25  09:59 PM                 3 TestFile1.txt',\n",
       " '2016-02-15  06:46 PM                 7 TestFile2.rtf',\n",
       " '2016-02-15  06:47 PM                 0 TestFile3.docx',\n",
       " '2016-04-21  01:06 PM              3491 xcopy.txt',\n",
       " '               4 File(s)           3501 bytes']"
      ]
     },
     "execution_count": 14,
     "metadata": {},
     "output_type": "execute_result"
    }
   ],
   "source": [
    "dir_section = sections.Section(\n",
    "    start_section='Directory of',\n",
    "    end_section=sections.SectionBreak('File(s)', break_offset='After'))\n",
    "\n",
    "dir_section.read(dir_text)"
   ]
  },
  {
   "attachments": {},
   "cell_type": "markdown",
   "metadata": {
    "jupyter": {
     "source_hidden": true
    }
   },
   "source": [
    "dir_text is a list so `dir_section.read(dir_text)` starts over at the beginning each time it is called."
   ]
  },
  {
   "cell_type": "code",
   "execution_count": 15,
   "metadata": {
    "collapsed": true,
    "jupyter": {
     "outputs_hidden": true,
     "source_hidden": true
    }
   },
   "outputs": [
    {
     "name": "stdout",
     "output_type": "stream",
     "text": [
      "[' Directory of c:\\\\users\\\\...\\\\Test Dir Structure',\n",
      " '',\n",
      " '2021-12-27  03:33 PM    <DIR>          .',\n",
      " '2021-12-27  03:33 PM    <DIR>          ..',\n",
      " '2021-12-27  04:03 PM    <DIR>          Dir1',\n",
      " '2021-12-27  05:27 PM    <DIR>          Dir2',\n",
      " '2016-02-25  09:59 PM                 3 TestFile1.txt',\n",
      " '2016-02-15  06:46 PM                 7 TestFile2.rtf',\n",
      " '2016-02-15  06:47 PM                 0 TestFile3.docx',\n",
      " '2016-04-21  01:06 PM              3491 xcopy.txt',\n",
      " '               4 File(s)           3501 bytes']\n",
      "[' Directory of c:\\\\users\\\\...\\\\Test Dir Structure',\n",
      " '',\n",
      " '2021-12-27  03:33 PM    <DIR>          .',\n",
      " '2021-12-27  03:33 PM    <DIR>          ..',\n",
      " '2021-12-27  04:03 PM    <DIR>          Dir1',\n",
      " '2021-12-27  05:27 PM    <DIR>          Dir2',\n",
      " '2016-02-25  09:59 PM                 3 TestFile1.txt',\n",
      " '2016-02-15  06:46 PM                 7 TestFile2.rtf',\n",
      " '2016-02-15  06:47 PM                 0 TestFile3.docx',\n",
      " '2016-04-21  01:06 PM              3491 xcopy.txt',\n",
      " '               4 File(s)           3501 bytes']\n"
     ]
    }
   ],
   "source": [
    "pprint(dir_section.read(dir_text))\n",
    "pprint(dir_section.read(dir_text))"
   ]
  },
  {
   "attachments": {},
   "cell_type": "markdown",
   "metadata": {
    "jupyter": {
     "source_hidden": true
    }
   },
   "source": [
    "By creating an iterator from *dir_text* `dir_text_iter = iter(dir_text)` \n",
    "(representing a text stream source) \n",
    "successive calls to `dir_section.read(dir_text_iter)` \n",
    "will return the next directory group"
   ]
  },
  {
   "cell_type": "code",
   "execution_count": 16,
   "metadata": {
    "collapsed": true,
    "jupyter": {
     "outputs_hidden": true,
     "source_hidden": true
    }
   },
   "outputs": [
    {
     "name": "stdout",
     "output_type": "stream",
     "text": [
      "[' Directory of c:\\\\users\\\\...\\\\Test Dir Structure',\n",
      " '',\n",
      " '2021-12-27  03:33 PM    <DIR>          .',\n",
      " '2021-12-27  03:33 PM    <DIR>          ..',\n",
      " '2021-12-27  04:03 PM    <DIR>          Dir1',\n",
      " '2021-12-27  05:27 PM    <DIR>          Dir2',\n",
      " '2016-02-25  09:59 PM                 3 TestFile1.txt',\n",
      " '2016-02-15  06:46 PM                 7 TestFile2.rtf',\n",
      " '2016-02-15  06:47 PM                 0 TestFile3.docx',\n",
      " '2016-04-21  01:06 PM              3491 xcopy.txt',\n",
      " '               4 File(s)           3501 bytes']\n",
      "[' Directory of c:\\\\users\\\\...\\\\Test Dir Structure\\\\Dir1',\n",
      " '',\n",
      " '2021-12-27  04:03 PM    <DIR>          .',\n",
      " '2021-12-27  04:03 PM    <DIR>          ..',\n",
      " '2016-02-15  06:48 PM                 0 File in Dir One.txt',\n",
      " '2021-12-27  03:45 PM    <DIR>          SubFolder1',\n",
      " '2021-12-27  03:45 PM    <DIR>          SubFolder2',\n",
      " '               1 File(s)              0 bytes']\n"
     ]
    }
   ],
   "source": [
    "dir_text_iter = iter(dir_text)\n",
    "pprint(dir_section.read(dir_text_iter))\n",
    "pprint(dir_section.read(dir_text_iter))"
   ]
  },
  {
   "attachments": {},
   "cell_type": "markdown",
   "metadata": {},
   "source": [
    "## Section Processing\n",
    "Identifying sections is only the first step.\n",
    "Next let's do something with the section text."
   ]
  },
  {
   "attachments": {},
   "cell_type": "markdown",
   "metadata": {},
   "source": [
    "### Section assemble functions\n",
    "Summarize a section's content by supplying the section definition with \n",
    "an `assemble` method.\n",
    "\n",
    "`assemble` (AssembleFunction, optional): \n",
    "A function used to collect and format, the section into a single object.\n",
    "Defaults to None, which returns a list.\n",
    "\n",
    "An `AssembleFunction` is a function that accepts a sequence of items as its first argument.  It may also accept a *Context* dictionary as its second argument, which supplies attributes generates in the Section class."
   ]
  },
  {
   "attachments": {},
   "cell_type": "markdown",
   "metadata": {},
   "source": [
    "#### Important Note:\n",
    "The sequence object passed to the `AssembleFunction` is actually a generator.  This is done to allow stream type sequences to be handled well.\n",
    "\n",
    "When used with a for loop, a generator behaves just like a list, but a generator cannot be *sliced*.  If slicing is needed, simply convert the generator to a list with:<br>\n",
    "> `section_list = list(section_gen)`."
   ]
  },
  {
   "attachments": {},
   "cell_type": "markdown",
   "metadata": {},
   "source": [
    " #### Format of a line from a dir listing\n",
    " The DIR output is formatted into columns with spaces for padding.\n",
    " The information can be extracted by identifying start and end columns:\n",
    " (The numbers on teh top an bottom are provided to aid with counting the text)\n",
    "```\n",
    "00000000001111111111222222222233333333334444444444555555555566666666667777777777\n",
    "01234567890123456789012345678901234567890123456789012345678901234567890123456789\n",
    "2021-12-27  03:33 PM    <DIR>          .\n",
    "2021-12-27  03:33 PM    <DIR>          ..\n",
    "2021-12-27  04:03 PM    <DIR>          Dir1\n",
    "2021-12-27  05:27 PM    <DIR>          Dir2\n",
    "2016-02-25  09:59 PM                 3 TestFile1.txt\n",
    "2016-02-15  06:46 PM                 7 TestFile2.rtf\n",
    "2016-02-15  06:47 PM                 0 TestFile3.docx\n",
    "2016-04-21  01:06 PM              3491 xcopy.txt\n",
    "00000000001111111111222222222233333333334444444444555555555566666666667777777777\n",
    "01234567890123456789012345678901234567890123456789012345678901234567890123456789\n",
    "```\n",
    "- The First **20** characters contain the date and time\n",
    "- The ending characters, starting at character number **39** \n",
    "contain the name of the file or directory\n",
    "- The file size is in characters **29** to **38**\n",
    "- Sub-directory names can be identified by the text _`<DIR>`_"
   ]
  },
  {
   "attachments": {},
   "cell_type": "markdown",
   "metadata": {},
   "source": [
    "The `summarize_directory` function converts a folder listing into a list of dictionaries and from there into a *Pandas* DataFrame"
   ]
  },
  {
   "cell_type": "code",
   "execution_count": 17,
   "metadata": {},
   "outputs": [],
   "source": [
    "def summarize_directory(dir_src):\n",
    "    dir_list = list(dir_src)  # Convert generator into a list\n",
    "    # If the section is not found dir_list will be empty\n",
    "    if not dir_list:\n",
    "        return pd.DataFrame\n",
    "    \n",
    "    # The first line contains the folder name: \n",
    "    #         Directory of c:\\\\users\\\\...\\\\Test Dir Structure\n",
    "    folder_name = dir_list[0].rsplit('\\\\', 1)[1]\n",
    "    \n",
    "    # The last line contains the number of files\n",
    "    file_count = dir_list[-1].strip().split(' ', 1)[0]\n",
    "    \n",
    "    # Process the rest of the lines \n",
    "    # (There is a blank line between the folder name and the first)\n",
    "    folder_list = list()\n",
    "    for dir_line in dir_list[2:-1]:\n",
    "        # Include the folder info for each listing\n",
    "        folder_dict = {\n",
    "            'Folder': folder_name,\n",
    "            'NumFiles': file_count\n",
    "            }\n",
    "        \n",
    "        # First 20 characters contain the date\n",
    "        folder_dict['DateModified'] = dir_line[:20].strip()\n",
    "        \n",
    "        # Ending Characters, starting at #39 contain the name of \n",
    "        # the file or directory\n",
    "        folder_dict['Name'] = dir_line[39:].strip()\n",
    "        \n",
    "        # Check if the listing is a file or directory\n",
    "        # Directories will contain the text <DIR>\n",
    "        if '<DIR>' in dir_line:\n",
    "            folder_dict['IsDir'] = True\n",
    "            # No FileSize for directories\n",
    "            folder_dict['FileSize'] = ''\n",
    "        else:\n",
    "            folder_dict['IsDir'] = False\n",
    "            # The File Size is given in characters 29 to 38\n",
    "            folder_dict['FileSize'] = dir_line[29:38].strip()\n",
    "            \n",
    "        # ignore the `.` and `..` entries (current directory and parent directory)\n",
    "        if folder_dict['Name'] not in ['.', '..']:\n",
    "            folder_list.append(folder_dict)\n",
    "    # Convert the list to a Pandas Dataframe for easy viewing\n",
    "    folder_data = pd.DataFrame(folder_list)\n",
    "    return  folder_data"
   ]
  },
  {
   "attachments": {},
   "cell_type": "markdown",
   "metadata": {},
   "source": [
    "With `assemble=summarize_directory` in the *dir_section* definition,\n",
    "the command `dir_section.read(dir_text)` results in a DataFrame object representing the folder listing."
   ]
  },
  {
   "cell_type": "code",
   "execution_count": 18,
   "metadata": {
    "collapsed": true,
    "jupyter": {
     "outputs_hidden": true,
     "source_hidden": true
    }
   },
   "outputs": [
    {
     "data": {
      "text/html": [
       "<div>\n",
       "<style scoped>\n",
       "    .dataframe tbody tr th:only-of-type {\n",
       "        vertical-align: middle;\n",
       "    }\n",
       "\n",
       "    .dataframe tbody tr th {\n",
       "        vertical-align: top;\n",
       "    }\n",
       "\n",
       "    .dataframe thead th {\n",
       "        text-align: right;\n",
       "    }\n",
       "</style>\n",
       "<table border=\"1\" class=\"dataframe\">\n",
       "  <thead>\n",
       "    <tr style=\"text-align: right;\">\n",
       "      <th></th>\n",
       "      <th>Folder</th>\n",
       "      <th>NumFiles</th>\n",
       "      <th>DateModified</th>\n",
       "      <th>Name</th>\n",
       "      <th>IsDir</th>\n",
       "      <th>FileSize</th>\n",
       "    </tr>\n",
       "  </thead>\n",
       "  <tbody>\n",
       "    <tr>\n",
       "      <th>0</th>\n",
       "      <td>Test Dir Structure</td>\n",
       "      <td>4</td>\n",
       "      <td>2021-12-27  04:03 PM</td>\n",
       "      <td>Dir1</td>\n",
       "      <td>True</td>\n",
       "      <td></td>\n",
       "    </tr>\n",
       "    <tr>\n",
       "      <th>1</th>\n",
       "      <td>Test Dir Structure</td>\n",
       "      <td>4</td>\n",
       "      <td>2021-12-27  05:27 PM</td>\n",
       "      <td>Dir2</td>\n",
       "      <td>True</td>\n",
       "      <td></td>\n",
       "    </tr>\n",
       "    <tr>\n",
       "      <th>2</th>\n",
       "      <td>Test Dir Structure</td>\n",
       "      <td>4</td>\n",
       "      <td>2016-02-25  09:59 PM</td>\n",
       "      <td>TestFile1.txt</td>\n",
       "      <td>False</td>\n",
       "      <td>3</td>\n",
       "    </tr>\n",
       "    <tr>\n",
       "      <th>3</th>\n",
       "      <td>Test Dir Structure</td>\n",
       "      <td>4</td>\n",
       "      <td>2016-02-15  06:46 PM</td>\n",
       "      <td>TestFile2.rtf</td>\n",
       "      <td>False</td>\n",
       "      <td>7</td>\n",
       "    </tr>\n",
       "    <tr>\n",
       "      <th>4</th>\n",
       "      <td>Test Dir Structure</td>\n",
       "      <td>4</td>\n",
       "      <td>2016-02-15  06:47 PM</td>\n",
       "      <td>TestFile3.docx</td>\n",
       "      <td>False</td>\n",
       "      <td>0</td>\n",
       "    </tr>\n",
       "    <tr>\n",
       "      <th>5</th>\n",
       "      <td>Test Dir Structure</td>\n",
       "      <td>4</td>\n",
       "      <td>2016-04-21  01:06 PM</td>\n",
       "      <td>xcopy.txt</td>\n",
       "      <td>False</td>\n",
       "      <td>3491</td>\n",
       "    </tr>\n",
       "  </tbody>\n",
       "</table>\n",
       "</div>"
      ],
      "text/plain": [
       "               Folder NumFiles          DateModified            Name  IsDir  \\\n",
       "0  Test Dir Structure        4  2021-12-27  04:03 PM            Dir1   True   \n",
       "1  Test Dir Structure        4  2021-12-27  05:27 PM            Dir2   True   \n",
       "2  Test Dir Structure        4  2016-02-25  09:59 PM   TestFile1.txt  False   \n",
       "3  Test Dir Structure        4  2016-02-15  06:46 PM   TestFile2.rtf  False   \n",
       "4  Test Dir Structure        4  2016-02-15  06:47 PM  TestFile3.docx  False   \n",
       "5  Test Dir Structure        4  2016-04-21  01:06 PM       xcopy.txt  False   \n",
       "\n",
       "  FileSize  \n",
       "0           \n",
       "1           \n",
       "2        3  \n",
       "3        7  \n",
       "4        0  \n",
       "5     3491  "
      ]
     },
     "execution_count": 18,
     "metadata": {},
     "output_type": "execute_result"
    }
   ],
   "source": [
    "dir_section = sections.Section(\n",
    "    start_section='Directory of',\n",
    "    end_section=sections.SectionBreak('File(s)', break_offset='After'),\n",
    "    assemble=summarize_directory)\n",
    "\n",
    "dir_section.read(dir_text)"
   ]
  },
  {
   "attachments": {},
   "cell_type": "markdown",
   "metadata": {},
   "source": [
    "### Section Processing Tools\n",
    "\n",
    "The `summarize_directory()` function, that converts the entire folder section into a DataFrame, can be broken down into parts by including a *processor* as part of the Section definition. There are a number of advantages this modular design.\n",
    "1. A sequence of smaller function each focusing on a single task improves the readability of the overall code.\n",
    "2. It makes it easier to modify the code if the structure of the sourec changes slightly.\n",
    "> For example: If the date format or the column spacing changes, it is simpler to replace a function that reads dates or splits columns than to modify a large function that is doing many things.\n",
    "\n",
    "3. As we will see later, it allows for much more complex Sections to be defined."
   ]
  },
  {
   "attachments": {},
   "cell_type": "markdown",
   "metadata": {},
   "source": [
    "#### `processor` Instructions\n",
    "The *processor* argument supplies either a single item or list of functions or One of:\n",
    "*Standard Action* names to be applied to each of the section items.  \n",
    "    which case the section will use the default SectionProcessor,\n",
    "    it can be a SectionProcessor instance, a Section instance, or a\n",
    "    list of Section instances.\n",
    "\n",
    "Standard Action name\n",
    "        'Original': return the original item supplied.\n",
    "        'Blank': return ''  (an empty string).\n",
    "        'None': return None.\n",
    "\n",
    "Custom function\n",
    "- First argument is the item to be processed\n",
    "- Optional second argument is the Section's *Context* dictionary.\n",
    "- keyword arguments can be used to accept specific items from the Section's \n",
    "*Context* dictionary, provided there is a trailing **kwarks argument to catch \n",
    "the remainder of the Section's *Context* dictionary.\n",
    "\n",
    "- returns \n",
    "(SourceItem, ContextType)->ProcessedItems\n",
    "\n",
    "function([SourceItem], ContextType)->ProcessedItems\n",
    "func(item  [, other(s)] **context)\n",
    "function(SourceItem, **context)->ProcessedItems\n",
    "                               Callable[, ProcessedItems],\n",
    "                               Callable[..., ProcessedItems]]\n",
    "\n",
    "If not supplied (or None), the section items as \n",
    "they are obtained from the Source Iterator.\n",
    "NoneApplies a series of functions to a supplied sequence of items.\n",
    "\n",
    "    Processing Methods combines a series of functions, generator functions,\n",
    "    Rules, and/or Rule Sets (Processes) to produce a single generator function.\n",
    "    The generator function will iterate through a supplied source of items\n",
    "    returning the final processed item. The output type of each Process must\n",
    "    match the expected input type of the next Process in the series.  No\n",
    "    validation tests are done on this.\n",
    "\n",
    "    A Process applied to a Source (a sequence of SourceItems) results in\n",
    "    a sequence of ProcessedItems.  The relation between SourceItems and\n",
    "    ProcessedItems is not necessarily 1:1.\n",
    "       1 SourceItem ≠1 ProcessedItem;\n",
    "    \t  • 1 SourceItem → 1 ProcessedItem\n",
    "    \t  • 1 SourceItem → 2+ ProcessedItems\n",
    "    \t  • 2+ SourceItems → 1 ProcessedItem\n",
    "\n",
    "    Generator functions are used when multiple input items are\n",
    "    required to generate an output item, or when one SourceItem results in\n",
    "    multiple ProcessedItems. In general, regular functions are used when there\n",
    "    is a one-to-one correspondence between input item and output item.  RuleSets\n",
    "    are used when the function that should be applied to the SourceItem(s)\n",
    "    depends on the result of one or more tests (Triggers).  Individual Rules can\n",
    "    be used when only a single Trigger is required (by using both the Pass and\n",
    "    Fail methods of the Rule) or to modify some of the SourceItems while leaving\n",
    "    others unchanged (by setting the Fail method to 'Original').  For Rules or\n",
    "    RuleSets it is important that the output is of the same type regardless of\n",
    "    whether the Trigger(s) pass or fail.\n",
    "\n",
    "    Processing functions should accept one the following argument sets:\n",
    "        func(item)\n",
    "        func(item, ** context)\n",
    "        func(item, context)\n",
    "        func(item, [other(s),] ** context)\n",
    "\n",
    "ContextType = Union[Dict[str, Any], None]\n",
    "ProcessedItems = Union[ProcessedItem, Generator[ProcessedItem]\n",
    "\n",
    "ProcessedItem = TypeVar('ProcessedItem')\n",
    "SourceItem = TypeVar('SourceItem')\n",
    "process_actions = {\n",
    "        'Original': lambda test_object, context: test_object,\n",
    "        'Blank':  lambda test_object, context: '',\n",
    "        'None':  lambda test_object, context: None\n",
    "        }\n"
   ]
  },
  {
   "cell_type": "code",
   "execution_count": null,
   "metadata": {},
   "outputs": [
    {
     "name": "stdout",
     "output_type": "stream",
     "text": [
      "\u001b[1;31mInit signature:\u001b[0m\n",
      "\u001b[0msections\u001b[0m\u001b[1;33m.\u001b[0m\u001b[0mProcessingMethods\u001b[0m\u001b[1;33m(\u001b[0m\u001b[1;33m\n",
      "\u001b[0m    \u001b[0mprocessing_methods\u001b[0m\u001b[1;33m:\u001b[0m \u001b[1;34m'List[ProcessMethodOptions]'\u001b[0m \u001b[1;33m=\u001b[0m \u001b[1;32mNone\u001b[0m\u001b[1;33m,\u001b[0m\u001b[1;33m\n",
      "\u001b[0m    \u001b[0mname\u001b[0m\u001b[1;33m=\u001b[0m\u001b[1;34m'Processor'\u001b[0m\u001b[1;33m,\u001b[0m\u001b[1;33m\n",
      "\u001b[0m\u001b[1;33m)\u001b[0m\u001b[1;33m\u001b[0m\u001b[1;33m\u001b[0m\u001b[0m\n",
      "\u001b[1;31mDocstring:\u001b[0m     \n",
      "Applies a series of functions to a supplied sequence of items.\n",
      "\n",
      "Processing Methods combines a series of functions, generator functions,\n",
      "Rules, and/or Rule Sets (Processes) to produce a single generator function.\n",
      "The generator function will iterate through a supplied source of items\n",
      "returning the final processed item. The output type of each Process must\n",
      "match the expected input type of the next Process in the series.  No\n",
      "validation tests are done on this.\n",
      "\n",
      "A Process applied to a Source (a sequence of SourceItems) results in\n",
      "a sequence of ProcessedItems.  The relation between SourceItems and\n",
      "ProcessedItems is not necessarily 1:1.\n",
      "   1 SourceItem ≠1 ProcessedItem;\n",
      "      • 1 SourceItem → 1 ProcessedItem\n",
      "      • 1 SourceItem → 2+ ProcessedItems\n",
      "      • 2+ SourceItems → 1 ProcessedItem\n",
      "\n",
      "Generator functions are used when multiple input items are\n",
      "required to generate an output item, or when one SourceItem results in\n",
      "multiple ProcessedItems. In general, regular functions are used when there\n",
      "is a one-to-one correspondence between input item and output item.  RuleSets\n",
      "are used when the function that should be applied to the SourceItem(s)\n",
      "depends on the result of one or more tests (Triggers).  Individual Rules can\n",
      "be used when only a single Trigger is required (by using both the Pass and\n",
      "Fail methods of the Rule) or to modify some of the SourceItems while leaving\n",
      "others unchanged (by setting the Fail method to 'Original').  For Rules or\n",
      "RuleSets it is important that the output is of the same type regardless of\n",
      "whether the Trigger(s) pass or fail.\n",
      "\n",
      "Processing functions should accept one the following argument sets:\n",
      "    func(item)\n",
      "    func(item, ** context)\n",
      "    func(item, context)\n",
      "    func(item, [other(s),] ** context)\n",
      "\n",
      "Arguments:\n",
      "    processing_methods (ProcessGroup): The sequence of Processes (functions,\n",
      "        generator functions, Rules, and/or RuleSets) to be applied to a\n",
      "        source.\n",
      "    name (str): Reference label for the processing method.\n",
      "        Defaults to 'Processor'\n",
      "\n",
      "Methods:\n",
      "    process(self, item, context)->RuleResult:\n",
      "    reader(self, buffered_source, context):\n",
      "    read(self, buffered_source, context):\n",
      "        a generator function, accepting a source text stream\n",
      "            and yielding the processed text. Defaults to None, which sets\n",
      "            a basic csv parser.\n",
      "\u001b[1;31mInit docstring:\u001b[0m\n",
      "Applies a series of functions to a supplied sequence of items.\n",
      "\n",
      "Processing functions should accept one the following argument sets:\n",
      "    func(item)\n",
      "    func(item, ** context)\n",
      "    func(item, context)\n",
      "    func(item, [other(s),] ** context)\n",
      "\n",
      "Arguments:\n",
      "    processing_methods (ProcessGroup): The sequence of Processes\n",
      "        (functions, generator functions, Rules, and/or RuleSets) to be\n",
      "        applied to the section source.\n",
      "    name (str): Reference label for the processing method.\n",
      "        Defaults to 'Processor'\n",
      "\u001b[1;31mFile:\u001b[0m           c:\\users\\smoke\\onedrive - queen's university\\python\\projects\\sectionary package\\src\\sectionary\\sections.py\n",
      "\u001b[1;31mType:\u001b[0m           type\n",
      "\u001b[1;31mSubclasses:\u001b[0m     \n"
     ]
    }
   ],
   "source": [
    "?sections.ProcessingMethods"
   ]
  },
  {
   "attachments": {},
   "cell_type": "markdown",
   "metadata": {},
   "source": [
    "sections.ProcessingMethods(\n",
    "    processing_methods: 'List[ProcessMethodOptions]' = None,\n",
    "    name='Processor',\n",
    ")\n",
    "Docstring:     \n",
    "Applies a series of functions to a supplied sequence of items.\n",
    "\n",
    "Processing Methods combines a series of functions, generator functions,\n",
    "Rules, and/or Rule Sets (Processes) to produce a single generator function.\n",
    "The generator function will iterate through a supplied source of items\n",
    "returning the final processed item. The output type of each Process must\n",
    "match the expected input type of the next Process in the series.  No\n",
    "validation tests are done on this.\n",
    "\n",
    "A Process applied to a Source (a sequence of SourceItems) results in\n",
    "a sequence of ProcessedItems.  The relation between SourceItems and\n",
    "ProcessedItems is not necessarily 1:1.\n",
    "   1 SourceItem ≠1 ProcessedItem;\n",
    "      • 1 SourceItem → 1 ProcessedItem\n",
    "      • 1 SourceItem → 2+ ProcessedItems\n",
    "      • 2+ SourceItems → 1 ProcessedItem\n",
    "\n",
    "Generator functions are used when multiple input items are\n",
    "required to generate an output item, or when one SourceItem results in\n",
    "multiple ProcessedItems. In general, regular functions are used when there\n",
    "is a one-to-one correspondence between input item and output item.  RuleSets\n",
    "are used when the function that should be applied to the SourceItem(s)\n",
    "depends on the result of one or more tests (Triggers).  Individual Rules can\n",
    "be used when only a single Trigger is required (by using both the Pass and\n",
    "Fail methods of the Rule) or to modify some of the SourceItems while leaving\n",
    "others unchanged (by setting the Fail method to 'Original').  For Rules or\n",
    "RuleSets it is important that the output is of the same type regardless of\n",
    "whether the Trigger(s) pass or fail.\n",
    "\n",
    "Processing functions should accept one the following argument sets:\n",
    "    func(item)\n",
    "    func(item, ** context)\n",
    "    func(item, context)\n",
    "    func(item, [other(s),] ** context)\n",
    "\n",
    "Arguments:\n",
    "    processing_methods (ProcessGroup): The sequence of Processes (functions,\n",
    "        generator functions, Rules, and/or RuleSets) to be applied to a\n",
    "        source.\n",
    "    name (str): Reference label for the processing method.\n",
    "        Defaults to 'Processor'\n",
    "\n",
    "Methods:\n",
    "    process(self, item, context)->RuleResult:\n",
    "    reader(self, buffered_source, context):\n",
    "    read(self, buffered_source, context):\n",
    "        a generator function, accepting a source text stream\n",
    "            and yielding the processed text. Defaults to None, which sets\n",
    "            a basic csv parser.\n"
   ]
  },
  {
   "attachments": {},
   "cell_type": "markdown",
   "metadata": {},
   "source": [
    "### Combine the folder tables (*DataFrames*) into one large table"
   ]
  },
  {
   "attachments": {},
   "cell_type": "markdown",
   "metadata": {},
   "source": [
    "The folder tables (*DataFrames*) can be combined to produce one large table"
   ]
  },
  {
   "cell_type": "code",
   "execution_count": 19,
   "metadata": {},
   "outputs": [],
   "source": [
    "def combine_dataframes(df_list):\n",
    "    # Remove empty DataFrames from the list\n",
    "    valid_df = [frm for frm in df_list if not frm.empty]\n",
    "    \n",
    "    # Combine the folder tables\n",
    "    folder_table = pd.concat(valid_df, ignore_index=True)\n",
    "    \n",
    "    # Set a table index\n",
    "    folder_table.set_index(['Folder', 'Name'], inplace=True)\n",
    "    return folder_table"
   ]
  },
  {
   "attachments": {},
   "cell_type": "markdown",
   "metadata": {},
   "source": [
    "Itterate through all of the `Dir` output text until it is completed, obtaining a table of information for each folder.  Then combine all of the folder tables into one large table."
   ]
  },
  {
   "cell_type": "code",
   "execution_count": 20,
   "metadata": {},
   "outputs": [
    {
     "data": {
      "text/html": [
       "<div>\n",
       "<style scoped>\n",
       "    .dataframe tbody tr th:only-of-type {\n",
       "        vertical-align: middle;\n",
       "    }\n",
       "\n",
       "    .dataframe tbody tr th {\n",
       "        vertical-align: top;\n",
       "    }\n",
       "\n",
       "    .dataframe thead th {\n",
       "        text-align: right;\n",
       "    }\n",
       "</style>\n",
       "<table border=\"1\" class=\"dataframe\">\n",
       "  <thead>\n",
       "    <tr style=\"text-align: right;\">\n",
       "      <th></th>\n",
       "      <th></th>\n",
       "      <th>NumFiles</th>\n",
       "      <th>DateModified</th>\n",
       "      <th>IsDir</th>\n",
       "      <th>FileSize</th>\n",
       "    </tr>\n",
       "    <tr>\n",
       "      <th>Folder</th>\n",
       "      <th>Name</th>\n",
       "      <th></th>\n",
       "      <th></th>\n",
       "      <th></th>\n",
       "      <th></th>\n",
       "    </tr>\n",
       "  </thead>\n",
       "  <tbody>\n",
       "    <tr>\n",
       "      <th rowspan=\"6\" valign=\"top\">Test Dir Structure</th>\n",
       "      <th>Dir1</th>\n",
       "      <td>4</td>\n",
       "      <td>2021-12-27  04:03 PM</td>\n",
       "      <td>True</td>\n",
       "      <td></td>\n",
       "    </tr>\n",
       "    <tr>\n",
       "      <th>Dir2</th>\n",
       "      <td>4</td>\n",
       "      <td>2021-12-27  05:27 PM</td>\n",
       "      <td>True</td>\n",
       "      <td></td>\n",
       "    </tr>\n",
       "    <tr>\n",
       "      <th>TestFile1.txt</th>\n",
       "      <td>4</td>\n",
       "      <td>2016-02-25  09:59 PM</td>\n",
       "      <td>False</td>\n",
       "      <td>3</td>\n",
       "    </tr>\n",
       "    <tr>\n",
       "      <th>TestFile2.rtf</th>\n",
       "      <td>4</td>\n",
       "      <td>2016-02-15  06:46 PM</td>\n",
       "      <td>False</td>\n",
       "      <td>7</td>\n",
       "    </tr>\n",
       "    <tr>\n",
       "      <th>TestFile3.docx</th>\n",
       "      <td>4</td>\n",
       "      <td>2016-02-15  06:47 PM</td>\n",
       "      <td>False</td>\n",
       "      <td>0</td>\n",
       "    </tr>\n",
       "    <tr>\n",
       "      <th>xcopy.txt</th>\n",
       "      <td>4</td>\n",
       "      <td>2016-04-21  01:06 PM</td>\n",
       "      <td>False</td>\n",
       "      <td>3491</td>\n",
       "    </tr>\n",
       "    <tr>\n",
       "      <th rowspan=\"3\" valign=\"top\">Dir1</th>\n",
       "      <th>File in Dir One.txt</th>\n",
       "      <td>1</td>\n",
       "      <td>2016-02-15  06:48 PM</td>\n",
       "      <td>False</td>\n",
       "      <td>0</td>\n",
       "    </tr>\n",
       "    <tr>\n",
       "      <th>SubFolder1</th>\n",
       "      <td>1</td>\n",
       "      <td>2021-12-27  03:45 PM</td>\n",
       "      <td>True</td>\n",
       "      <td></td>\n",
       "    </tr>\n",
       "    <tr>\n",
       "      <th>SubFolder2</th>\n",
       "      <td>1</td>\n",
       "      <td>2021-12-27  03:45 PM</td>\n",
       "      <td>True</td>\n",
       "      <td></td>\n",
       "    </tr>\n",
       "    <tr>\n",
       "      <th>SubFolder1</th>\n",
       "      <th>File in SubFolder One.rtf</th>\n",
       "      <td>1</td>\n",
       "      <td>2016-03-19  09:26 AM</td>\n",
       "      <td>False</td>\n",
       "      <td>7</td>\n",
       "    </tr>\n",
       "    <tr>\n",
       "      <th rowspan=\"2\" valign=\"top\">SubFolder2</th>\n",
       "      <th>Another File in Sub Folder 2.jnt</th>\n",
       "      <td>2</td>\n",
       "      <td>2016-02-15  06:49 PM</td>\n",
       "      <td>False</td>\n",
       "      <td>4544</td>\n",
       "    </tr>\n",
       "    <tr>\n",
       "      <th>File in Sub Folder 2.jnt</th>\n",
       "      <td>2</td>\n",
       "      <td>2016-02-15  06:49 PM</td>\n",
       "      <td>False</td>\n",
       "      <td>4544</td>\n",
       "    </tr>\n",
       "    <tr>\n",
       "      <th rowspan=\"2\" valign=\"top\">Dir2</th>\n",
       "      <th>File in Dir 2.rtf</th>\n",
       "      <td>1</td>\n",
       "      <td>2016-02-15  06:50 PM</td>\n",
       "      <td>False</td>\n",
       "      <td>7</td>\n",
       "    </tr>\n",
       "    <tr>\n",
       "      <th>Sub Folder in Dir2</th>\n",
       "      <td>1</td>\n",
       "      <td>2021-12-27  01:02 PM</td>\n",
       "      <td>True</td>\n",
       "      <td></td>\n",
       "    </tr>\n",
       "    <tr>\n",
       "      <th>Sub Folder in Dir2</th>\n",
       "      <th>Sub SubFolder</th>\n",
       "      <td>0</td>\n",
       "      <td>2021-12-27  05:26 PM</td>\n",
       "      <td>True</td>\n",
       "      <td></td>\n",
       "    </tr>\n",
       "    <tr>\n",
       "      <th rowspan=\"2\" valign=\"top\">Sub SubFolder</th>\n",
       "      <th>New Text Document.txt</th>\n",
       "      <td>1</td>\n",
       "      <td>2016-03-18  09:53 PM</td>\n",
       "      <td>False</td>\n",
       "      <td>0</td>\n",
       "    </tr>\n",
       "    <tr>\n",
       "      <th>Sub Sub SubFolder</th>\n",
       "      <td>1</td>\n",
       "      <td>2021-12-27  05:05 PM</td>\n",
       "      <td>True</td>\n",
       "      <td></td>\n",
       "    </tr>\n",
       "    <tr>\n",
       "      <th>Sub Sub SubFolder</th>\n",
       "      <th>Sub Sub Sub File.pub</th>\n",
       "      <td>1</td>\n",
       "      <td>2016-02-15  06:51 PM</td>\n",
       "      <td>False</td>\n",
       "      <td>59904</td>\n",
       "    </tr>\n",
       "  </tbody>\n",
       "</table>\n",
       "</div>"
      ],
      "text/plain": [
       "                                                    NumFiles  \\\n",
       "Folder             Name                                        \n",
       "Test Dir Structure Dir1                                    4   \n",
       "                   Dir2                                    4   \n",
       "                   TestFile1.txt                           4   \n",
       "                   TestFile2.rtf                           4   \n",
       "                   TestFile3.docx                          4   \n",
       "                   xcopy.txt                               4   \n",
       "Dir1               File in Dir One.txt                     1   \n",
       "                   SubFolder1                              1   \n",
       "                   SubFolder2                              1   \n",
       "SubFolder1         File in SubFolder One.rtf               1   \n",
       "SubFolder2         Another File in Sub Folder 2.jnt        2   \n",
       "                   File in Sub Folder 2.jnt                2   \n",
       "Dir2               File in Dir 2.rtf                       1   \n",
       "                   Sub Folder in Dir2                      1   \n",
       "Sub Folder in Dir2 Sub SubFolder                           0   \n",
       "Sub SubFolder      New Text Document.txt                   1   \n",
       "                   Sub Sub SubFolder                       1   \n",
       "Sub Sub SubFolder  Sub Sub Sub File.pub                    1   \n",
       "\n",
       "                                                             DateModified  \\\n",
       "Folder             Name                                                     \n",
       "Test Dir Structure Dir1                              2021-12-27  04:03 PM   \n",
       "                   Dir2                              2021-12-27  05:27 PM   \n",
       "                   TestFile1.txt                     2016-02-25  09:59 PM   \n",
       "                   TestFile2.rtf                     2016-02-15  06:46 PM   \n",
       "                   TestFile3.docx                    2016-02-15  06:47 PM   \n",
       "                   xcopy.txt                         2016-04-21  01:06 PM   \n",
       "Dir1               File in Dir One.txt               2016-02-15  06:48 PM   \n",
       "                   SubFolder1                        2021-12-27  03:45 PM   \n",
       "                   SubFolder2                        2021-12-27  03:45 PM   \n",
       "SubFolder1         File in SubFolder One.rtf         2016-03-19  09:26 AM   \n",
       "SubFolder2         Another File in Sub Folder 2.jnt  2016-02-15  06:49 PM   \n",
       "                   File in Sub Folder 2.jnt          2016-02-15  06:49 PM   \n",
       "Dir2               File in Dir 2.rtf                 2016-02-15  06:50 PM   \n",
       "                   Sub Folder in Dir2                2021-12-27  01:02 PM   \n",
       "Sub Folder in Dir2 Sub SubFolder                     2021-12-27  05:26 PM   \n",
       "Sub SubFolder      New Text Document.txt             2016-03-18  09:53 PM   \n",
       "                   Sub Sub SubFolder                 2021-12-27  05:05 PM   \n",
       "Sub Sub SubFolder  Sub Sub Sub File.pub              2016-02-15  06:51 PM   \n",
       "\n",
       "                                                     IsDir FileSize  \n",
       "Folder             Name                                              \n",
       "Test Dir Structure Dir1                               True           \n",
       "                   Dir2                               True           \n",
       "                   TestFile1.txt                     False        3  \n",
       "                   TestFile2.rtf                     False        7  \n",
       "                   TestFile3.docx                    False        0  \n",
       "                   xcopy.txt                         False     3491  \n",
       "Dir1               File in Dir One.txt               False        0  \n",
       "                   SubFolder1                         True           \n",
       "                   SubFolder2                         True           \n",
       "SubFolder1         File in SubFolder One.rtf         False        7  \n",
       "SubFolder2         Another File in Sub Folder 2.jnt  False     4544  \n",
       "                   File in Sub Folder 2.jnt          False     4544  \n",
       "Dir2               File in Dir 2.rtf                 False        7  \n",
       "                   Sub Folder in Dir2                 True           \n",
       "Sub Folder in Dir2 Sub SubFolder                      True           \n",
       "Sub SubFolder      New Text Document.txt             False        0  \n",
       "                   Sub Sub SubFolder                  True           \n",
       "Sub Sub SubFolder  Sub Sub Sub File.pub              False    59904  "
      ]
     },
     "execution_count": 20,
     "metadata": {},
     "output_type": "execute_result"
    }
   ],
   "source": [
    "dir_text_iter = (txt for txt in iter(dir_text))\n",
    "folder_list = list()\n",
    "gen_status = inspect.getgeneratorstate(dir_text_iter)\n",
    "while gen_status not in 'GEN_CLOSED':\n",
    "   folder_list.append(dir_section.read(dir_text_iter))\n",
    "   gen_status = inspect.getgeneratorstate(dir_text_iter)\n",
    "combine_dataframes(folder_list)"
   ]
  },
  {
   "attachments": {},
   "cell_type": "markdown",
   "metadata": {},
   "source": [
    "## Sections of Sections"
   ]
  },
  {
   "attachments": {},
   "cell_type": "markdown",
   "metadata": {},
   "source": [
    "Sections can be composed of other sections.\n",
    "In this simple example the `all_folders` Section is obtained from the sequence of dir_section objects that can be extracted from the `Dir` output text, and the `combine_dataframes` function is given as the assemble method."
   ]
  },
  {
   "cell_type": "code",
   "execution_count": 21,
   "metadata": {},
   "outputs": [],
   "source": [
    "all_folders = sections.Section(\n",
    "    processor=dir_section,\n",
    "    assemble=combine_dataframes)"
   ]
  },
  {
   "attachments": {},
   "cell_type": "markdown",
   "metadata": {},
   "source": [
    "The iteration over all folders then reduces to one line:"
   ]
  },
  {
   "cell_type": "code",
   "execution_count": 22,
   "metadata": {},
   "outputs": [
    {
     "data": {
      "text/html": [
       "<div>\n",
       "<style scoped>\n",
       "    .dataframe tbody tr th:only-of-type {\n",
       "        vertical-align: middle;\n",
       "    }\n",
       "\n",
       "    .dataframe tbody tr th {\n",
       "        vertical-align: top;\n",
       "    }\n",
       "\n",
       "    .dataframe thead th {\n",
       "        text-align: right;\n",
       "    }\n",
       "</style>\n",
       "<table border=\"1\" class=\"dataframe\">\n",
       "  <thead>\n",
       "    <tr style=\"text-align: right;\">\n",
       "      <th></th>\n",
       "      <th></th>\n",
       "      <th>NumFiles</th>\n",
       "      <th>DateModified</th>\n",
       "      <th>IsDir</th>\n",
       "      <th>FileSize</th>\n",
       "    </tr>\n",
       "    <tr>\n",
       "      <th>Folder</th>\n",
       "      <th>Name</th>\n",
       "      <th></th>\n",
       "      <th></th>\n",
       "      <th></th>\n",
       "      <th></th>\n",
       "    </tr>\n",
       "  </thead>\n",
       "  <tbody>\n",
       "    <tr>\n",
       "      <th rowspan=\"6\" valign=\"top\">Test Dir Structure</th>\n",
       "      <th>Dir1</th>\n",
       "      <td>4</td>\n",
       "      <td>2021-12-27  04:03 PM</td>\n",
       "      <td>True</td>\n",
       "      <td></td>\n",
       "    </tr>\n",
       "    <tr>\n",
       "      <th>Dir2</th>\n",
       "      <td>4</td>\n",
       "      <td>2021-12-27  05:27 PM</td>\n",
       "      <td>True</td>\n",
       "      <td></td>\n",
       "    </tr>\n",
       "    <tr>\n",
       "      <th>TestFile1.txt</th>\n",
       "      <td>4</td>\n",
       "      <td>2016-02-25  09:59 PM</td>\n",
       "      <td>False</td>\n",
       "      <td>3</td>\n",
       "    </tr>\n",
       "    <tr>\n",
       "      <th>TestFile2.rtf</th>\n",
       "      <td>4</td>\n",
       "      <td>2016-02-15  06:46 PM</td>\n",
       "      <td>False</td>\n",
       "      <td>7</td>\n",
       "    </tr>\n",
       "    <tr>\n",
       "      <th>TestFile3.docx</th>\n",
       "      <td>4</td>\n",
       "      <td>2016-02-15  06:47 PM</td>\n",
       "      <td>False</td>\n",
       "      <td>0</td>\n",
       "    </tr>\n",
       "    <tr>\n",
       "      <th>xcopy.txt</th>\n",
       "      <td>4</td>\n",
       "      <td>2016-04-21  01:06 PM</td>\n",
       "      <td>False</td>\n",
       "      <td>3491</td>\n",
       "    </tr>\n",
       "    <tr>\n",
       "      <th rowspan=\"3\" valign=\"top\">Dir1</th>\n",
       "      <th>File in Dir One.txt</th>\n",
       "      <td>1</td>\n",
       "      <td>2016-02-15  06:48 PM</td>\n",
       "      <td>False</td>\n",
       "      <td>0</td>\n",
       "    </tr>\n",
       "    <tr>\n",
       "      <th>SubFolder1</th>\n",
       "      <td>1</td>\n",
       "      <td>2021-12-27  03:45 PM</td>\n",
       "      <td>True</td>\n",
       "      <td></td>\n",
       "    </tr>\n",
       "    <tr>\n",
       "      <th>SubFolder2</th>\n",
       "      <td>1</td>\n",
       "      <td>2021-12-27  03:45 PM</td>\n",
       "      <td>True</td>\n",
       "      <td></td>\n",
       "    </tr>\n",
       "    <tr>\n",
       "      <th>SubFolder1</th>\n",
       "      <th>File in SubFolder One.rtf</th>\n",
       "      <td>1</td>\n",
       "      <td>2016-03-19  09:26 AM</td>\n",
       "      <td>False</td>\n",
       "      <td>7</td>\n",
       "    </tr>\n",
       "    <tr>\n",
       "      <th rowspan=\"2\" valign=\"top\">SubFolder2</th>\n",
       "      <th>Another File in Sub Folder 2.jnt</th>\n",
       "      <td>2</td>\n",
       "      <td>2016-02-15  06:49 PM</td>\n",
       "      <td>False</td>\n",
       "      <td>4544</td>\n",
       "    </tr>\n",
       "    <tr>\n",
       "      <th>File in Sub Folder 2.jnt</th>\n",
       "      <td>2</td>\n",
       "      <td>2016-02-15  06:49 PM</td>\n",
       "      <td>False</td>\n",
       "      <td>4544</td>\n",
       "    </tr>\n",
       "    <tr>\n",
       "      <th rowspan=\"2\" valign=\"top\">Dir2</th>\n",
       "      <th>File in Dir 2.rtf</th>\n",
       "      <td>1</td>\n",
       "      <td>2016-02-15  06:50 PM</td>\n",
       "      <td>False</td>\n",
       "      <td>7</td>\n",
       "    </tr>\n",
       "    <tr>\n",
       "      <th>Sub Folder in Dir2</th>\n",
       "      <td>1</td>\n",
       "      <td>2021-12-27  01:02 PM</td>\n",
       "      <td>True</td>\n",
       "      <td></td>\n",
       "    </tr>\n",
       "    <tr>\n",
       "      <th>Sub Folder in Dir2</th>\n",
       "      <th>Sub SubFolder</th>\n",
       "      <td>0</td>\n",
       "      <td>2021-12-27  05:26 PM</td>\n",
       "      <td>True</td>\n",
       "      <td></td>\n",
       "    </tr>\n",
       "    <tr>\n",
       "      <th rowspan=\"2\" valign=\"top\">Sub SubFolder</th>\n",
       "      <th>New Text Document.txt</th>\n",
       "      <td>1</td>\n",
       "      <td>2016-03-18  09:53 PM</td>\n",
       "      <td>False</td>\n",
       "      <td>0</td>\n",
       "    </tr>\n",
       "    <tr>\n",
       "      <th>Sub Sub SubFolder</th>\n",
       "      <td>1</td>\n",
       "      <td>2021-12-27  05:05 PM</td>\n",
       "      <td>True</td>\n",
       "      <td></td>\n",
       "    </tr>\n",
       "    <tr>\n",
       "      <th>Sub Sub SubFolder</th>\n",
       "      <th>Sub Sub Sub File.pub</th>\n",
       "      <td>1</td>\n",
       "      <td>2016-02-15  06:51 PM</td>\n",
       "      <td>False</td>\n",
       "      <td>59904</td>\n",
       "    </tr>\n",
       "  </tbody>\n",
       "</table>\n",
       "</div>"
      ],
      "text/plain": [
       "                                                    NumFiles  \\\n",
       "Folder             Name                                        \n",
       "Test Dir Structure Dir1                                    4   \n",
       "                   Dir2                                    4   \n",
       "                   TestFile1.txt                           4   \n",
       "                   TestFile2.rtf                           4   \n",
       "                   TestFile3.docx                          4   \n",
       "                   xcopy.txt                               4   \n",
       "Dir1               File in Dir One.txt                     1   \n",
       "                   SubFolder1                              1   \n",
       "                   SubFolder2                              1   \n",
       "SubFolder1         File in SubFolder One.rtf               1   \n",
       "SubFolder2         Another File in Sub Folder 2.jnt        2   \n",
       "                   File in Sub Folder 2.jnt                2   \n",
       "Dir2               File in Dir 2.rtf                       1   \n",
       "                   Sub Folder in Dir2                      1   \n",
       "Sub Folder in Dir2 Sub SubFolder                           0   \n",
       "Sub SubFolder      New Text Document.txt                   1   \n",
       "                   Sub Sub SubFolder                       1   \n",
       "Sub Sub SubFolder  Sub Sub Sub File.pub                    1   \n",
       "\n",
       "                                                             DateModified  \\\n",
       "Folder             Name                                                     \n",
       "Test Dir Structure Dir1                              2021-12-27  04:03 PM   \n",
       "                   Dir2                              2021-12-27  05:27 PM   \n",
       "                   TestFile1.txt                     2016-02-25  09:59 PM   \n",
       "                   TestFile2.rtf                     2016-02-15  06:46 PM   \n",
       "                   TestFile3.docx                    2016-02-15  06:47 PM   \n",
       "                   xcopy.txt                         2016-04-21  01:06 PM   \n",
       "Dir1               File in Dir One.txt               2016-02-15  06:48 PM   \n",
       "                   SubFolder1                        2021-12-27  03:45 PM   \n",
       "                   SubFolder2                        2021-12-27  03:45 PM   \n",
       "SubFolder1         File in SubFolder One.rtf         2016-03-19  09:26 AM   \n",
       "SubFolder2         Another File in Sub Folder 2.jnt  2016-02-15  06:49 PM   \n",
       "                   File in Sub Folder 2.jnt          2016-02-15  06:49 PM   \n",
       "Dir2               File in Dir 2.rtf                 2016-02-15  06:50 PM   \n",
       "                   Sub Folder in Dir2                2021-12-27  01:02 PM   \n",
       "Sub Folder in Dir2 Sub SubFolder                     2021-12-27  05:26 PM   \n",
       "Sub SubFolder      New Text Document.txt             2016-03-18  09:53 PM   \n",
       "                   Sub Sub SubFolder                 2021-12-27  05:05 PM   \n",
       "Sub Sub SubFolder  Sub Sub Sub File.pub              2016-02-15  06:51 PM   \n",
       "\n",
       "                                                     IsDir FileSize  \n",
       "Folder             Name                                              \n",
       "Test Dir Structure Dir1                               True           \n",
       "                   Dir2                               True           \n",
       "                   TestFile1.txt                     False        3  \n",
       "                   TestFile2.rtf                     False        7  \n",
       "                   TestFile3.docx                    False        0  \n",
       "                   xcopy.txt                         False     3491  \n",
       "Dir1               File in Dir One.txt               False        0  \n",
       "                   SubFolder1                         True           \n",
       "                   SubFolder2                         True           \n",
       "SubFolder1         File in SubFolder One.rtf         False        7  \n",
       "SubFolder2         Another File in Sub Folder 2.jnt  False     4544  \n",
       "                   File in Sub Folder 2.jnt          False     4544  \n",
       "Dir2               File in Dir 2.rtf                 False        7  \n",
       "                   Sub Folder in Dir2                 True           \n",
       "Sub Folder in Dir2 Sub SubFolder                      True           \n",
       "Sub SubFolder      New Text Document.txt             False        0  \n",
       "                   Sub Sub SubFolder                  True           \n",
       "Sub Sub SubFolder  Sub Sub Sub File.pub              False    59904  "
      ]
     },
     "execution_count": 22,
     "metadata": {},
     "output_type": "execute_result"
    }
   ],
   "source": [
    "all_folders.read(dir_text)"
   ]
  },
  {
   "attachments": {},
   "cell_type": "markdown",
   "metadata": {},
   "source": [
    "### The processor argument"
   ]
  },
  {
   "attachments": {},
   "cell_type": "markdown",
   "metadata": {},
   "source": [
    "processor is an optional argument which instructs the Section reader to apply a sequence of functions to the section items.\n",
    "\n",
    "Processing Methods combines a series of functions, generator functions,\n",
    "Rules, and/or Rule Sets (Processes) to produce a single generator function.\n",
    "The generator function will iterate through a supplied source of items\n",
    "returning the final processed item. The output type of each Process must\n",
    "match the expected input type of the next Process in the series.  No\n",
    "validation tests are done on this.\n",
    "\n",
    "A Process applied to a Source (a sequence of SourceItems) results in\n",
    "a sequence of ProcessedItems.  The relation between SourceItems and\n",
    "ProcessedItems is not necessarily 1:1.\n",
    "   1 SourceItem ≠1 ProcessedItem;\n",
    "      • 1 SourceItem → 1 ProcessedItem\n",
    "      • 1 SourceItem → 2+ ProcessedItems\n",
    "      • 2+ SourceItems → 1 ProcessedItem\n",
    "\n",
    "Generator functions are used when multiple input items are\n",
    "required to generate an output item, or when one SourceItem results in(or `None`), in which case the section will use the default SectionProcessor.\n",
    "\n",
    "(ProcessMethodOptions, optional): Instructions for\n",
    "    processing and the section items.  processor can be None,\n",
    "    it can be a SectionProcessor instance, a Section instance, or a\n",
    "    list of Section instances.\n",
    "One of:\n",
    "Standard Action name\n",
    "        'Original': return the original item supplied.\n",
    "        'Blank': return ''  (an empty string).\n",
    "        'None': return None.\n",
    "\n",
    "Custom function\n",
    "- First argument is the item to be processed\n",
    "- Optional second argument is the Section's *Context* dictionary.\n",
    "- keyword arguments can be used to accept specific items from the Section's \n",
    "*Context* dictionary, provided there is a trailing **kwarks argument to catch \n",
    "the remainder of the Section's *Context* dictionary.\n",
    "\n",
    "- returns \n",
    "(SourceItem, ContextType)->ProcessedItems\n",
    "\n",
    "function([SourceItem], ContextType)->ProcessedItems\n",
    "func(item  [, other(s)] **context)\n",
    "function(SourceItem, **context)->ProcessedItems\n",
    "                               Callable[, ProcessedItems],\n",
    "                               Callable[..., ProcessedItems]]\n",
    "\n",
    "None\n",
    "\n",
    "ContextType = Union[Dict[str, Any], None]\n",
    "ProcessedItems = Union[ProcessedItem, Generator[ProcessedItem]\n",
    "\n",
    "ProcessedItem = TypeVar('ProcessedItem')\n",
    "SourceItem = TypeVar('SourceItem')\n",
    "process_actions = {\n",
    "        'Original': lambda test_object, context: test_object,\n",
    "        'Blank':  lambda test_object, context: '',\n",
    "        'None':  lambda test_object, context: None\n",
    "        }\n"
   ]
  },
  {
   "cell_type": "code",
   "execution_count": 6,
   "metadata": {},
   "outputs": [
    {
     "name": "stdout",
     "output_type": "stream",
     "text": [
      "\u001b[1;31mInit signature:\u001b[0m\n",
      "\u001b[0msections\u001b[0m\u001b[1;33m.\u001b[0m\u001b[0mProcessingMethods\u001b[0m\u001b[1;33m(\u001b[0m\u001b[1;33m\n",
      "\u001b[0m    \u001b[0mprocessing_methods\u001b[0m\u001b[1;33m:\u001b[0m \u001b[1;34m'List[ProcessMethodOptions]'\u001b[0m \u001b[1;33m=\u001b[0m \u001b[1;32mNone\u001b[0m\u001b[1;33m,\u001b[0m\u001b[1;33m\n",
      "\u001b[0m    \u001b[0mname\u001b[0m\u001b[1;33m=\u001b[0m\u001b[1;34m'Processor'\u001b[0m\u001b[1;33m,\u001b[0m\u001b[1;33m\n",
      "\u001b[0m\u001b[1;33m)\u001b[0m\u001b[1;33m\u001b[0m\u001b[1;33m\u001b[0m\u001b[0m\n",
      "\u001b[1;31mDocstring:\u001b[0m     \n",
      "Applies a series of functions to a supplied sequence of items.\n",
      "\n",
      "Processing Methods combines a series of functions, generator functions,\n",
      "Rules, and/or Rule Sets (Processes) to produce a single generator function.\n",
      "The generator function will iterate through a supplied source of items\n",
      "returning the final processed item. The output type of each Process must\n",
      "match the expected input type of the next Process in the series.  No\n",
      "validation tests are done on this.\n",
      "\n",
      "A Process applied to a Source (a sequence of SourceItems) results in\n",
      "a sequence of ProcessedItems.  The relation between SourceItems and\n",
      "ProcessedItems is not necessarily 1:1.\n",
      "   1 SourceItem ≠1 ProcessedItem;\n",
      "      • 1 SourceItem → 1 ProcessedItem\n",
      "      • 1 SourceItem → 2+ ProcessedItems\n",
      "      • 2+ SourceItems → 1 ProcessedItem\n",
      "\n",
      "Generator functions are used when multiple input items are\n",
      "required to generate an output item, or when one SourceItem results in\n",
      "multiple ProcessedItems. In general, regular functions are used when there\n",
      "is a one-to-one correspondence between input item and output item.  RuleSets\n",
      "are used when the function that should be applied to the SourceItem(s)\n",
      "depends on the result of one or more tests (Triggers).  Individual Rules can\n",
      "be used when only a single Trigger is required (by using both the Pass and\n",
      "Fail methods of the Rule) or to modify some of the SourceItems while leaving\n",
      "others unchanged (by setting the Fail method to 'Original').  For Rules or\n",
      "RuleSets it is important that the output is of the same type regardless of\n",
      "whether the Trigger(s) pass or fail.\n",
      "\n",
      "Processing functions should accept one the following argument sets:\n",
      "    func(item)\n",
      "    func(item, ** context)\n",
      "    func(item, context)\n",
      "    func(item, [other(s),] ** context)\n",
      "\n",
      "Arguments:\n",
      "    processing_methods (ProcessGroup): The sequence of Processes (functions,\n",
      "        generator functions, Rules, and/or RuleSets) to be applied to a\n",
      "        source.\n",
      "    name (str): Reference label for the processing method.\n",
      "        Defaults to 'Processor'\n",
      "\n",
      "Methods:\n",
      "    process(self, item, context)->RuleResult:\n",
      "    reader(self, buffered_source, context):\n",
      "    read(self, buffered_source, context):\n",
      "        a generator function, accepting a source text stream\n",
      "            and yielding the processed text. Defaults to None, which sets\n",
      "            a basic csv parser.\n",
      "\u001b[1;31mInit docstring:\u001b[0m\n",
      "Applies a series of functions to a supplied sequence of items.\n",
      "\n",
      "Processing functions should accept one the following argument sets:\n",
      "    func(item)\n",
      "    func(item, ** context)\n",
      "    func(item, context)\n",
      "    func(item, [other(s),] ** context)\n",
      "\n",
      "Arguments:\n",
      "    processing_methods (ProcessGroup): The sequence of Processes\n",
      "        (functions, generator functions, Rules, and/or RuleSets) to be\n",
      "        applied to the section source.\n",
      "    name (str): Reference label for the processing method.\n",
      "        Defaults to 'Processor'\n",
      "\u001b[1;31mFile:\u001b[0m           c:\\users\\smoke\\onedrive - queen's university\\python\\projects\\sectionary package\\src\\sectionary\\sections.py\n",
      "\u001b[1;31mType:\u001b[0m           type\n",
      "\u001b[1;31mSubclasses:\u001b[0m     \n"
     ]
    }
   ],
   "source": [
    "?sections.ProcessingMethods"
   ]
  },
  {
   "attachments": {},
   "cell_type": "markdown",
   "metadata": {},
   "source": [
    "sections.ProcessingMethods(\n",
    "    processing_methods: 'List[ProcessMethodOptions]' = None,\n",
    "    name='Processor',\n",
    ")\n",
    "Docstring:     \n",
    "Applies a series of functions to a supplied sequence of items.\n",
    "\n",
    "Processing Methods combines a series of functions, generator functions,\n",
    "Rules, and/or Rule Sets (Processes) to produce a single generator function.\n",
    "The generator function will iterate through a supplied source of items\n",
    "returning the final processed item. The output type of each Process must\n",
    "match the expected input type of the next Process in the series.  No\n",
    "validation tests are done on this.\n",
    "\n",
    "A Process applied to a Source (a sequence of SourceItems) results in\n",
    "a sequence of ProcessedItems.  The relation between SourceItems and\n",
    "ProcessedItems is not necessarily 1:1.\n",
    "   1 SourceItem ≠1 ProcessedItem;\n",
    "      • 1 SourceItem → 1 ProcessedItem\n",
    "      • 1 SourceItem → 2+ ProcessedItems\n",
    "      • 2+ SourceItems → 1 ProcessedItem\n",
    "\n",
    "Generator functions are used when multiple input items are\n",
    "required to generate an output item, or when one SourceItem results in\n",
    "multiple ProcessedItems. In general, regular functions are used when there\n",
    "is a one-to-one correspondence between input item and output item.  RuleSets\n",
    "are used when the function that should be applied to the SourceItem(s)\n",
    "depends on the result of one or more tests (Triggers).  Individual Rules can\n",
    "be used when only a single Trigger is required (by using both the Pass and\n",
    "Fail methods of the Rule) or to modify some of the SourceItems while leaving\n",
    "others unchanged (by setting the Fail method to 'Original').  For Rules or\n",
    "RuleSets it is important that the output is of the same type regardless of\n",
    "whether the Trigger(s) pass or fail.\n",
    "\n",
    "Processing functions should accept one the following argument sets:\n",
    "    func(item)\n",
    "    func(item, ** context)\n",
    "    func(item, context)\n",
    "    func(item, [other(s),] ** context)\n",
    "\n",
    "Arguments:\n",
    "    processing_methods (ProcessGroup): The sequence of Processes (functions,\n",
    "        generator functions, Rules, and/or RuleSets) to be applied to a\n",
    "        source.\n",
    "    name (str): Reference label for the processing method.\n",
    "        Defaults to 'Processor'\n",
    "\n",
    "Methods:\n",
    "    process(self, item, context)->RuleResult:\n",
    "    reader(self, buffered_source, context):\n",
    "    read(self, buffered_source, context):\n",
    "        a generator function, accepting a source text stream\n",
    "            and yielding the processed text. Defaults to None, which sets\n",
    "            a basic csv parser.\n"
   ]
  },
  {
   "attachments": {},
   "cell_type": "markdown",
   "metadata": {},
   "source": [
    "### Rule and RuleSets\n",
    "Instead of having one function `summarize_directory()` that manages all possible \n",
    "text lines in the folder section, the function can be broken down into parts by \n",
    "defining *Rules*.  There are a number of advantages this modular design.\n",
    "1. The same *Rule* can be re-used for other similar Sections.\n",
    "2. The specific condition(s) and action(s) of the *Rule* are separated from the \n",
    "code required to implement them.\n",
    "2. *Rule* definitions can be placed in logical groups for clarity.\n"
   ]
  },
  {
   "attachments": {},
   "cell_type": "markdown",
   "metadata": {},
   "source": [
    "#### Rule\n",
    "The ***Rule*** class Defines action to take on an item depending on the result of a test.\n",
    "\n",
    "A *Rule* is defined by:\n",
    "1. A *condition*, which defines a test to apply to an object.\n",
    "2. One or both of:\n",
    "    1. A pass_method: a function applied if the condition passes\n",
    "    2. A fail_method: a function applied if the condition fails.\n",
    "\n",
    "The *condition* can be:\n",
    "- A string or list of strings.  The condition will pass if the item being tested \n",
    "matches with the string (or with any of the strings in the list).\n",
    "- A  Compiled regular expression pattern or list pf patterns. The condition \n",
    "will pass if the pattern (or one of the patterns in the list) successfully \n",
    "matches in the item being tested. \n",
    "- A function or list of functions. The condition will pass if the function \n",
    "(or one of the functions in the list) returns a non-blank (None, '', []) value \n",
    "when applied to the item being tested.\n",
    "\n",
    "The *location* argument is a sentinel modifier that applies to string or\n",
    "regular expression sentinels. location can be one of:\n",
    "\n",
    "|location    | str test                  | re.Pattern test          |\n",
    "|------------|---------------------------|--------------------------|\n",
    "|    IN      | sentinel in item          | sentinel.search(item)    |\n",
    "|    START   | item.startswith(sentinel) | sentinel.match(item)     |\n",
    "|    END     | item.endswith(sentinel),  | NotImplementedError      |\n",
    "|    FULL    | sentinel == item          | sentinel.fullmatch(item) |\n",
    "\n",
    "Both pass_method and fail_method should have one of the following\n",
    "argument signatures:\n",
    "- rule_method(item: SourceItem)\n",
    "- rule_method(item: SourceItem, ** context)\n",
    "- rule_method(item: SourceItem, event: TriggerEvent)\n",
    "- rule_method(item: SourceItem, event: TriggerEvent, **context)\n",
    "\n",
    "Both pass_method and fail_method should return the same data type. No\n",
    "checking is done to validate this.\n",
    "\n",
    "In addition to a callable, the pass, fail and default attributes can be\n",
    "the names of standard actions:\n",
    "|String    | Resulting Action                         |\n",
    "|----------|------------------------------------------|\n",
    "|'Original'| return the item being.                   |\n",
    "|'Event'   | return the self.event object.            |\n",
    "|'Value'   | return the self.event.test_value object. |\n",
    "|'Name'    | return the self.event.test_name object.  |\n",
    "|'None'    | return None                              |\n",
    "|'Blank'   | return ''  (an empty string)             |"
   ]
  },
  {
   "attachments": {},
   "cell_type": "markdown",
   "metadata": {},
   "source": [
    "#### RuleSet\n",
    "The ***RuleSet*** class is composed of a sequence of *Rules* where one, and only one of the Rules will be applied.  The *Rules* are applied in order and once a *Rule* passes, no further *Rules* are applied.  If none of the *Rules* in the *RuleSet* pass, then a *Default Action* is applied.  In essence they act like a collection of `elif` statements, with a concluding `else`."
   ]
  },
  {
   "attachments": {},
   "cell_type": "markdown",
   "metadata": {},
   "source": [
    "A regular expression is used for the file and directory listing text"
   ]
  },
  {
   "attachments": {},
   "cell_type": "markdown",
   "metadata": {},
   "source": [
    "#### File Listing Regular Expression\n",
    "- Begins with numeric date and time, \n",
    "- Allow for different date delimiters: `-`, `/` or `\\`\n",
    "- Time ends with possible AM or PM 2 to 20 Spaces at the beginning of the line.\n",
    "- Possible `<DIR>` text as Directory indicator\n",
    "- Possible integer for *FileSize*\n",
    "- Name is all remaining characters in the line"
   ]
  },
  {
   "cell_type": "code",
   "execution_count": 3,
   "metadata": {},
   "outputs": [],
   "source": [
    "file_listing = re.compile(\n",
    "    # Initial spaces\n",
    "    '^'              # Start of line\n",
    "    # Date and Time\n",
    "    '(?P<DateTime>'  # Beginning of DateTime group\n",
    "    '[0-9 -/\\\\:]+'   # Numeric date and time with different possible delimiters\n",
    "    '[AaPp][Mm]?'    # Possible AM or PM\n",
    "    ')'              # End of DateTime group  \n",
    "\n",
    "    '\\s+'            # Whitespace\n",
    "    \n",
    "    # Directory Indicator\n",
    "    '(?P<Directory>' # Beginning of Directory group\n",
    "    '<DIR>'          # <DIR> text\n",
    "    ')?'             # End of optional Directory group\n",
    "    \n",
    "    '\\s{6,}'         # Minimum of 6 spaces \n",
    "    \n",
    "    # FileSize  \n",
    "    '(?P<FileSize>'  # Beginning of FileSize group\n",
    "    '[0-9]+'         # An integer number\n",
    "    ')?'             # End of optional FileSize group\n",
    "  \n",
    "    '\\s+' # Whitespace\n",
    "    \n",
    "    # File or Directory Name\n",
    "    '(?P<Name>'      # Beginning of Name group\n",
    "    '.*'             # All remaining characters\n",
    "    ')'              # End of Name group\n",
    "    \n",
    "    # End of Line  \n",
    "    '$'              # End of line\n",
    "    )"
   ]
  },
  {
   "cell_type": "code",
   "execution_count": 25,
   "metadata": {
    "collapsed": true,
    "jupyter": {
     "outputs_hidden": true,
     "source_hidden": true
    }
   },
   "outputs": [],
   "source": [
    "dir_section = sections.Section(\n",
    "    start_section='Directory of',\n",
    "    end_section=sections.SectionBreak('File(s)', break_offset='After'))\n",
    "\n",
    "a = dir_section.read(dir_text)"
   ]
  },
  {
   "cell_type": "code",
   "execution_count": 31,
   "metadata": {},
   "outputs": [
    {
     "data": {
      "text/plain": [
       "{'DateTime': '2016-02-25  09:59 PM',\n",
       " 'Directory': None,\n",
       " 'FileSize': '3',\n",
       " 'Name': 'TestFile1.txt'}"
      ]
     },
     "execution_count": 31,
     "metadata": {},
     "output_type": "execute_result"
    }
   ],
   "source": [
    "b = file_listing.fullmatch(a[6])\n",
    "b.groupdict()"
   ]
  },
  {
   "cell_type": "code",
   "execution_count": null,
   "metadata": {},
   "outputs": [],
   "source": [
    "def dir_name_split(line):\n",
    "    return ['Folder', line.rsplit('\\\\', 1)[1]]\n",
    "dir_name_rule = sections.Rule('Directory of', pass_method=dir_name_split)\n",
    "\n",
    "def file_count_split(line):\n",
    "    return ['NumFiles', line.strip().split(' ', 1)[0]]\n",
    "file_count_rule = sections.Rule('File(s)', pass_method=file_count_split)\n",
    "\n",
    "def subfolder(line):\n",
    "    return ['Subdirectory:', line[36:]]\n",
    "subfolder_rule = sections.Rule('<DIR>', pass_method=subfolder)\n",
    "\n",
    "def file(line):\n",
    "    return ['File:' + line[36:]]\n",
    "\n",
    "dir_process = sections.RuleSet([dir_name_rule, file_count_rule, subfolder_rule], \n",
    "                      default=file)"
   ]
  },
  {
   "attachments": {},
   "cell_type": "markdown",
   "metadata": {},
   "source": [
    "# The first line contains the folder name: \n",
    "#         Directory of c:\\\\users\\\\...\\\\Test Dir Structure\n",
    "folder_name = dir_list[0].rsplit('\\\\', 1)[1]\n",
    "\n",
    "# The last line contains the number of files\n",
    "file_count = dir_list[-1].strip().split(' ', 1)[0]\n",
    "\n",
    "# Process the rest of the lines \n",
    "# (There is a blank line between the folder name and the first)\n",
    "folder_list = list()\n",
    "for dir_line in dir_list[2:-1]:\n",
    "    # Include the folder info for each listing\n",
    "    folder_dict = {\n",
    "        'Folder': folder_name,\n",
    "        'NumFiles': file_count\n",
    "        }\n",
    "    \n",
    "    # First 20 characters contain the date\n",
    "    folder_dict['DateModified'] = dir_line[:20].strip()\n",
    "    \n",
    "    # Ending Characters, starting at #39 contain the name of \n",
    "    # the file or directory\n",
    "    folder_dict['Name'] = dir_line[39:].strip()\n",
    "    \n",
    "    # Check if the listing is a file or directory\n",
    "    # Directories will contain the text <DIR>\n",
    "    if '<DIR>' in dir_line:\n",
    "        folder_dict['IsDir'] = True\n",
    "        # No FileSize for directories\n",
    "        folder_dict['FileSize'] = ''\n",
    "    else:\n",
    "        folder_dict['IsDir'] = False\n",
    "        # The File Size is given in characters 29 to 38\n",
    "        folder_dict['FileSize'] = dir_line[29:38].strip()\n",
    "        \n",
    "    # ignore the `.` and `..` entries (current directory and parent directory)\n",
    "    if folder_dict['Name'] not in ['.', '..']:\n",
    "        folder_list.append(folder_dict)\n",
    "# Convert the list to a Pandas Dataframe for easy viewing\n",
    "folder_data = pd.DataFrame(folder_list)"
   ]
  },
  {
   "cell_type": "code",
   "execution_count": null,
   "metadata": {},
   "outputs": [],
   "source": [
    "dir_section = Section(start_section='Directory of', \n",
    "                      end_section=SectionBreak('File(s)', break_offset='After'),\n",
    "                      processor=ProcessingMethods([dir_process]))\n",
    "\n",
    "output = dir_section.read(dir_text)\n",
    "for line in output:\n",
    "    print(line)"
   ]
  },
  {
   "cell_type": "code",
   "execution_count": null,
   "metadata": {
    "collapsed": true,
    "jupyter": {
     "outputs_hidden": true,
     "source_hidden": true
    }
   },
   "outputs": [],
   "source": [
    "dir_section = Section(start_section='Directory of', \n",
    "                      end_section=SectionBreak('File(s)', break_offset='After'),\n",
    "                      processor=[dir_process])\n",
    "\n",
    "output = dir_section.read(dir_text)\n",
    "for line in output:\n",
    "    print(line)"
   ]
  },
  {
   "cell_type": "code",
   "execution_count": null,
   "metadata": {
    "jupyter": {
     "source_hidden": true
    }
   },
   "outputs": [],
   "source": [
    "def dir_name_split(line):\n",
    "    # Get the directory name\n",
    "    if 'Directory of' in line:\n",
    "        return ['Folder Name:', line.rsplit('\\\\', 1)[1]]\n",
    "    return line\n",
    "\n",
    "def subfolder(line):\n",
    "    # Label the subdirectories\n",
    "    if '<DIR>' in line:\n",
    "        return ['Subdirectory:', line[36:]]\n",
    "    return line\n",
    "\n",
    "def file_count_split(line):\n",
    "    # Label the file counts\n",
    "    if 'File(s)' in line:\n",
    "        return ['Number of Files:', line.strip().split(' ', 1)[0]]\n",
    "    return line\n",
    "\n",
    "def file(line):\n",
    "    # Label the files\n",
    "    return ['File:' + line[36:]] "
   ]
  },
  {
   "cell_type": "code",
   "execution_count": null,
   "metadata": {
    "jupyter": {
     "source_hidden": true
    }
   },
   "outputs": [],
   "source": [
    "print('column index')\n",
    "print(''.join(str(i)*10 for i in range(10)))\n",
    "print(''.join(str(i) for i in range(10))*10)\n",
    "print(dir_text[9])\n",
    "    "
   ]
  },
  {
   "cell_type": "raw",
   "metadata": {
    "jupyter": {
     "source_hidden": true
    }
   },
   "source": [
    "**The DIR output has the following structure:**\n",
    "    \n",
    "    Header Section:\n",
    "         Volume in drive C has no label.\n",
    "         Volume Serial Number is 56DB-14A7\n",
    "\n",
    "Multiple Folder sections ... \n",
    "    \n",
    "    Summary Section:\n",
    "         Total Files Listed:\n",
    "                  11 File(s)          72507 bytes\n",
    "                  23 Dir(s)     63927545856 bytes free\n",
    "\n",
    "Each Folder section has the following line types:\n",
    "    \n",
    "    Directory Label:\n",
    "         Directory of C:\\Test Dir Structure\n",
    "    Directory listing:\n",
    "        2021-06-18  14:54    <DIR>          Dir1\n",
    "    File listing:\n",
    "        2016-02-25  22:59                 3 TestFile1.txt\n",
    "    File Count:\n",
    "               4 File(s)           3501 bytes\n",
    "    "
   ]
  },
  {
   "cell_type": "code",
   "execution_count": null,
   "metadata": {
    "jupyter": {
     "source_hidden": true
    }
   },
   "outputs": [],
   "source": [
    "\n",
    "\n",
    "#%% Regex Parsing patterns\n",
    "# File Count and summary:\n",
    "     #          1 File(s)          59904 bytes\n",
    "     #         23 Dir(s)     63927545856 bytes free\n",
    "folder_summary_pt = re.compile(\n",
    "    '(?P<files>'       # beginning of files string group\n",
    "    '[0-9]+'           # Integer number of files\n",
    "    ')'                # end of files string group\n",
    "    '[ ]+'             # Arbitrary number of spaces\n",
    "    '(?P<type>'        # beginning of type string group\n",
    "    'File|Dir'         # \"File\" or \" Dir\" text\n",
    "    ')'                # end of type string group\n",
    "    '\\\\(s\\\\)'          # \"(s)\" text\n",
    "    '[ ]+'             # Arbitrary number of spaces\n",
    "    '(?P<size>'        # beginning of size string group\n",
    "    '[0-9]+'           # Integer size of folder\n",
    "    ')'                # end of size string group\n",
    "    ' bytes'           # \"bytes\" text\n",
    "    )\n",
    "date_pattern = tp.build_date_re(compile_re=False)\n",
    "file_listing_pt = re.compile(\n",
    "    f'{date_pattern}'  # Insert date pattern\n",
    "    '[ ]+'             # Arbitrary number of spaces\n",
    "    '(?P<size>'        # beginning of size string group\n",
    "    '[0-9]+'           # Integer size of folder\n",
    "    ')'                # end of size string group\n",
    "    ' '                # Single space\n",
    "    '(?P<filename>'    # beginning of filename string group\n",
    "    '.*'               # Integer size of folder\n",
    "    ')'                # end of size string group\n",
    "    '$'                # end of string\n",
    "    )\n",
    "\n",
    "\n",
    "#%% Line Parsing Functions\n",
    "# Directory Label Rule\n",
    "\n",
    "def extract_directory(line: str, event, *args,\n",
    "                    context=None, **kwargs) -> List[List[str]]:\n",
    "    '''Extract Directory path from folder header.\n",
    "    '''\n",
    "    full_dir = line.replace('Directory of', '').strip()\n",
    "    return [full_dir]\n",
    "\n",
    "\n",
    "dir_header_rule = Rule(\n",
    "    name='Dir Header Rule',\n",
    "    sentinel='Directory of ',\n",
    "    pass_method=extract_directory\n",
    "    )\n",
    "\n",
    "\n",
    "# skip <DIR>\n",
    "def blank_line(*args, **kwargs) -> List[List[str]]:\n",
    "    return [['']]\n",
    "\n",
    "\n",
    "skip_dir_rule = Rule(\n",
    "    name='Skip <DIR> Rule',\n",
    "    sentinel=' <DIR> ',\n",
    "    pass_method='Blank'\n",
    "    )\n",
    "skip_totals_rule = Rule(\n",
    "    name='Skip Total Files Header Rule',\n",
    "    sentinel='Total Files Listed:',\n",
    "    pass_method='Blank'\n",
    "    )\n",
    "\n",
    "\n",
    "# Regular file listings\n",
    "def file_parse(line: str, event, *args, **kwargs) -> List[List[str]]:\n",
    "    '''Break file data into three columns containing Filename, Date, Size.\n",
    "\n",
    "    Typical file is:\n",
    "        2016-02-25  22:59     3 TestFile1.txt\n",
    "    File line is parsed using a regular expression with 3 named groups.\n",
    "    Output for the example above is:\n",
    "        [[TestFile1.txt , 2016-02-25  22:59, 3]]\n",
    "\n",
    "    Args:\n",
    "        line (str): The text line to be parsed.\n",
    "        event (re.match): The results of the trigger test on the line.\n",
    "            Contains 3 named groups: ['date', 'size', 'filename'].\n",
    "        *args & **kwargs: Catch unused extra parameters passed to file_parse.\n",
    "\n",
    "    Returns:\n",
    "        tp.ParseResults: A one-item list containing the parsed file\n",
    "            information as a 3-item tuple:\n",
    "                [(filename: str, date: str, file size: int)].\n",
    "    '''\n",
    "    file_line_parts = event.test_value.groupdict(default='')\n",
    "    parsed_line = tuple([\n",
    "        file_line_parts['filename'],\n",
    "        tp.make_date_time_string(event),\n",
    "        int(file_line_parts['size'])\n",
    "        ])\n",
    "    return parsed_line\n",
    "\n",
    "\n",
    "# Regular File Parsing Rule\n",
    "file_listing_rule = Rule(file_listing_pt, pass_method=file_parse,\n",
    "                            name='Files_rule')\n",
    "\n",
    "\n",
    "# File Count Parsing Rule\n",
    "def file_count_parse(line: str, event, *args, **kwargs) -> List[List[str]]:\n",
    "    '''Break file data into two rows containing:\n",
    "           Number of files, & Directory size.\n",
    "\n",
    "    Output has the following format:\n",
    "        ['Number of files', file count value: int]\n",
    "        ['Directory Size', directory size value: int]\n",
    "\n",
    "    Typical line is:\n",
    "        4 File(s)           3501 bytes\n",
    "    File count is parsed using a regular expression with 2 named groups.\n",
    "\n",
    "    Args:\n",
    "        line (str): The text line to be parsed.\n",
    "        event (re.match): The results of the trigger test size the line.\n",
    "            Contains 3 named groups: ['files', 'type', 'size'].\n",
    "        *args & **kwargs: Catch unused extra parameters passed to file_parse.\n",
    "\n",
    "    Returns:\n",
    "        tp.ParseResults: The parsed file information.\n",
    "            The parsed file information consists of three lines with the\n",
    "            following format:\n",
    "                'Number of files', file count value: int\n",
    "                'Directory Size', directory size value: int\n",
    "    '''\n",
    "    file_count_parts = event.groupdict(default='')\n",
    "    # Manage case where bytes free is given:\n",
    "    # 23 Dir(s)     63927545856 bytes free\n",
    "    if line.strip().endswith('free'):\n",
    "        file_count_parts['size_label'] = 'Free Space'\n",
    "    else:\n",
    "        file_count_parts['size_label'] = 'Size'\n",
    "    parsed_line_template = ''.join([\n",
    "        'Number of {type}s, {files}\\n',\n",
    "        'Directory {size_label}, {size}'\n",
    "        ])\n",
    "    parsed_line_str = parsed_line_template.format(**file_count_parts)\n",
    "    parsed_line = [new_line.split(',')\n",
    "                   for new_line in parsed_line_str.splitlines()]\n",
    "    return parsed_line\n",
    "file_count_rule = Rule(folder_summary_pt, pass_method=file_count_parse,\n",
    "                          name='Files_rule')\n",
    "\n",
    "\n",
    "skip_file_count_rule = Rule(\n",
    "    name='Skip File(s) Rule',\n",
    "    sentinel=folder_summary_pt,\n",
    "    pass_method='Blank'\n",
    "    )\n",
    "\n",
    "\n",
    "# Files / DIRs Parse\n",
    "def make_files_rule() -> Rule:\n",
    "    '''If  File(s) or  Dir(s) extract # files & size\n",
    "        '''\n",
    "    def files_total_parse(line, event, *args, **kwargs) -> List[List[str]]:\n",
    "        '''Break file counts into three columns containing:\n",
    "           Type (File or Dir), Count, Size.\n",
    "\n",
    "        The line:\n",
    "               11 File(s)          72507 bytes\n",
    "        Results in:\n",
    "            [('File', 11, 3501)]\n",
    "        The line:\n",
    "           23 Dir(s)     63927545856 bytes free\n",
    "        Results in:\n",
    "            [('Dir', 23, 3501)]\n",
    "\n",
    "    Args:\n",
    "        line (str): The text line to be parsed.\n",
    "        event (re.match): The results of the trigger test on the line.\n",
    "            Contains 3 named groups: ['type', 'files', 'size'].\n",
    "        *args & **kwargs: Catch unused extra parameters passed to file_parse.\n",
    "\n",
    "    Returns:\n",
    "        tp.ParseResults: A one-item list containing the parsed file count\n",
    "            information as a 3-item tuple:\n",
    "                [(Type: str (File or Dir), Count: int, Size: int)].\n",
    "        '''\n",
    "        files_dict = event.test_value.groupdict(default='')\n",
    "        parsed_line = tuple([\n",
    "            files_dict[\"type\"],\n",
    "            files_dict[\"files\"],\n",
    "            files_dict[\"size\"]\n",
    "            ])\n",
    "        return [parsed_line]\n",
    "\n",
    "    files_total_rule = Rule(folder_summary_pt,\n",
    "                               pass_method=files_total_parse,\n",
    "                               name='Files_Total_rule')\n",
    "    return files_total_rule\n",
    "\n",
    "\n",
    "default_csv = tp.define_csv_parser('dir_files', delimiter=':',\n",
    "                                       skipinitialspace=True)\n",
    "\n",
    "\n",
    "#%% Line Processing\n",
    "def print_lines(parsed_list):\n",
    "    output = list()\n",
    "    for item in parsed_list:\n",
    "        pprint(item)\n",
    "        output.append(item)\n",
    "    return output\n",
    "\n",
    "\n",
    "def to_folder_dict(folder_list):\n",
    "    '''Combine folder info into dictionary.\n",
    "    '''\n",
    "    # TODO separate directory info from file info\n",
    "    #The first line in the folder list is the directory path\n",
    "    directory = ''\n",
    "    if folder_list:\n",
    "        d_list = folder_list[0]\n",
    "        if d_list:\n",
    "            directory = d_list[0]\n",
    "    folder_dict = {'Directory': directory}\n",
    "    for folder_info in folder_list[1:]:\n",
    "        filename, date, file_size = folder_info\n",
    "        full_path = '\\\\'.join([directory, filename])\n",
    "        file_parts = filename.rsplit('.', 1)\n",
    "        if len(file_parts) > 1:\n",
    "            extension = file_parts[1]\n",
    "        else:\n",
    "            extension = ''\n",
    "        folder_dict = {\n",
    "            'Path': full_path,\n",
    "            'Directory': directory,\n",
    "            'Filename': filename,\n",
    "            'Extension': extension,\n",
    "            'Date': date,\n",
    "            'Size': file_size\n",
    "            }\n",
    "    return folder_dict\n",
    "\n",
    "\n",
    "def make_files_table(dir_gen):\n",
    "    '''Combine folder info dictionaries into Pandas DataFrame.\n",
    "    '''\n",
    "    list_of_folders = list(dir_gen)\n",
    "    files_table = pd.DataFrame(list_of_folders)\n",
    "    files_table.set_index('Path')\n",
    "    return files_table\n",
    "\n",
    "\n",
    "#%% Reader definitions\n",
    "default_parser = tp.define_csv_parser('dir_files', delimiter=':',\n",
    "                                       skipinitialspace=True)\n",
    "heading_reader = ProcessingMethods([\n",
    "    default_parser,\n",
    "    tp.trim_items\n",
    "    ])\n",
    "folder_reader = ProcessingMethods([\n",
    "    RuleSet([skip_dir_rule, file_listing_rule, dir_header_rule,\n",
    "             skip_file_count_rule], default=default_parser),\n",
    "    tp.drop_blanks\n",
    "    ])\n",
    "summary_reader = ProcessingMethods([\n",
    "    RuleSet([file_count_rule, skip_totals_rule], default=default_parser),\n",
    "    tp.drop_blanks\n",
    "    ])\n",
    "\n",
    "\n",
    "#%% SectionBreak definitions\n",
    "folder_start = SectionBreak(\n",
    "    name='Start of Folder', sentinel='Directory of', break_offset='Before')\n",
    "folder_end = SectionBreak(name='End of Folder',sentinel=folder_summary_pt,\n",
    "                             break_offset='After')\n",
    "summary_start = SectionBreak(sentinel='Total Files Listed:',\n",
    "                                name='Start of DIR Summary', break_offset='Before')\n",
    "\n",
    "\n",
    "#%% Section definitions\n",
    "header_section = Section(\n",
    "    name='Header',\n",
    "    start_section=None,\n",
    "    end_section=folder_start,\n",
    "    processor=heading_reader,\n",
    "    assemble=print_lines\n",
    "    )\n",
    "folder_section = Section(\n",
    "    name='Folder',\n",
    "    start_section=folder_start,\n",
    "    end_section=folder_end,\n",
    "    processor=folder_reader,\n",
    "    assemble=to_folder_dict\n",
    "    )\n",
    "all_folder_section = Section(\n",
    "    name='All Folders',\n",
    "    start_section=folder_start,\n",
    "    end_section=summary_start,\n",
    "    processor=[folder_section],\n",
    "    assemble=make_files_table\n",
    "    )\n",
    "summary_section = Section(\n",
    "    name='Summary',\n",
    "    start_section=summary_start,\n",
    "    end_section=None,\n",
    "    processor=summary_reader,\n",
    "    assemble=tp.to_dict\n",
    "    )\n",
    "\n",
    "\n",
    "#%% Main Iteration\n",
    "def main():\n",
    "    # Test File\n",
    "    base_path = Path.cwd() / 'examples'\n",
    "    test_file = base_path / 'test_DIR_Data.txt'\n",
    "\n",
    "    # Call Primary routine\n",
    "    context = {\n",
    "        'File Name': test_file.name,\n",
    "        'File Path': test_file.parent,\n",
    "        'top_dir': str(base_path),\n",
    "        'tree_name': 'Test folder Tree'\n",
    "        }\n",
    "\n",
    "    source = tp.file_reader(test_file)\n",
    "    file_info = all_folder_section.read(source, context)\n",
    "    #summary = summary_section.read(source, **context)\n",
    "\n",
    "    # Output  Data\n",
    "    xw.view(file_info)\n",
    "    print('done')\n",
    "\n",
    "if __name__ == '__main__':\n",
    "    main()"
   ]
  },
  {
   "cell_type": "code",
   "execution_count": null,
   "metadata": {
    "jupyter": {
     "source_hidden": true
    }
   },
   "outputs": [],
   "source": [
    "print('column index')\n",
    "print(''.join(str(i)*10 for i in range(10)))\n",
    "print(''.join(str(i) for i in range(10))*10)\n",
    "print(dir_text[9])\n",
    "    "
   ]
  },
  {
   "cell_type": "code",
   "execution_count": null,
   "metadata": {
    "jupyter": {
     "source_hidden": true
    }
   },
   "outputs": [],
   "source": [
    "a =dir_text[3]\n",
    "a.index('\\\\')\n",
    "a.rsplit('\\\\', 1)\n",
    "#'Folder Name:\\t' + a.rsplit('\\\\', 1)[0]"
   ]
  },
  {
   "cell_type": "code",
   "execution_count": null,
   "metadata": {},
   "outputs": [
    {
     "name": "stdout",
     "output_type": "stream",
     "text": [
      "00000000001111111111222222222233333333334444444444555555555566666666667777777777\n",
      "01234567890123456789012345678901234567890123456789012345678901234567890123456789\n"
     ]
    }
   ],
   "source": [
    "ones = ''.join([str(i) for i in range(10)])\n",
    "ones*8\n",
    "tens = ''.join([str(i)*10 for i in range(8)])\n",
    "tens\n",
    "print(tens)\n",
    "print(ones*8)"
   ]
  },
  {
   "cell_type": "code",
   "execution_count": null,
   "metadata": {},
   "outputs": [],
   "source": []
  },
  {
   "cell_type": "code",
   "execution_count": null,
   "metadata": {},
   "outputs": [],
   "source": []
  }
 ],
 "metadata": {
  "kernelspec": {
   "display_name": "Python 3.8.12 ('sectionaryDev')",
   "language": "python",
   "name": "python3"
  },
  "language_info": {
   "codemirror_mode": {
    "name": "ipython",
    "version": 3
   },
   "file_extension": ".py",
   "mimetype": "text/x-python",
   "name": "python",
   "nbconvert_exporter": "python",
   "pygments_lexer": "ipython3",
   "version": "3.8.15"
  },
  "vscode": {
   "interpreter": {
    "hash": "890849be4bb9b5be1d044afe42e602ccc6ca20da23c054ee97c8186ec3939c45"
   }
  }
 },
 "nbformat": 4,
 "nbformat_minor": 4
}
