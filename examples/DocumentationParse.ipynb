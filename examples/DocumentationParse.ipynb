{
 "cells": [
  {
   "cell_type": "code",
   "execution_count": 1,
   "metadata": {},
   "outputs": [],
   "source": [
    "from pathlib import Path\n",
    "from functools import partial\n",
    "from typing import  List, Union\n",
    "\n",
    "from sections import true_iterable\n",
    "\n",
    "from text_reader import FixedWidthParser, define_fixed_width_parser\n",
    "from text_reader import trim_items, to_dataframe\n",
    "from sections import Section, SectionBreak, ProcessingMethods\n",
    "# Rule, RuleSet, ProcessingMethods"
   ]
  },
  {
   "cell_type": "raw",
   "metadata": {},
   "source": [
    "print(f'In module: {__name__}')\n",
    "print(f'current path is: {Path.cwd()}\\n')\n",
    "\n",
    "print('PythonPaths:')\n",
    "for path_str in sys.path:\n",
    "    print(f'\\t{path_str}')\n"
   ]
  },
  {
   "cell_type": "code",
   "execution_count": 9,
   "metadata": {},
   "outputs": [],
   "source": [
    "TEXT_DIR = Path.cwd() / 'examples'"
   ]
  },
  {
   "cell_type": "code",
   "execution_count": 10,
   "metadata": {},
   "outputs": [],
   "source": [
    "text_file_name = 'Varian System Database Reference Guide V13.6.txt'\n",
    "text_file_path = TEXT_DIR / text_file_name\n",
    "raw_text = text_file_path.read_text(encoding='utf8', errors='ignore')\n",
    "raw_line = raw_text.splitlines()"
   ]
  },
  {
   "cell_type": "code",
   "execution_count": 11,
   "metadata": {},
   "outputs": [],
   "source": [
    "start_marker = 'Table 3  VDT Name to Microsoft SQL Datatype'\n",
    "end_marker = 'Entity'"
   ]
  },
  {
   "cell_type": "code",
   "execution_count": 12,
   "metadata": {},
   "outputs": [],
   "source": [
    "start_text = raw_text.find(start_marker)\n",
    "end_text = raw_text.find(end_marker, start_text)\n",
    "lines = raw_text[start_text:end_text].splitlines()"
   ]
  },
  {
   "cell_type": "code",
   "execution_count": 13,
   "metadata": {},
   "outputs": [],
   "source": [
    "def drop_lines(lines: List[str], text_list:Union[List[str], str])->List[str]:\n",
    "    # convert single string to one element list of strings\n",
    "    if not true_iterable(text_list):\n",
    "        text_list = [text_list]\n",
    "        \n",
    "    processed_lines = lines\n",
    "    for drop_text in text_list:\n",
    "        processed_lines = [line for line in processed_lines \n",
    "                           if drop_text not in line]\n",
    "    \n",
    "    return processed_lines"
   ]
  },
  {
   "cell_type": "code",
   "execution_count": 14,
   "metadata": {},
   "outputs": [],
   "source": [
    "tbl_parse = define_fixed_width_parser(locations = [37])\n",
    "brk_text = [\n",
    "    'Abbreviations for Table and Column Names',\n",
    "    'variansystem Database Overview'\n",
    "    ]\n",
    "drop_page_brk = partial(drop_lines, text_list=brk_text)\n",
    "abr_proc = ProcessingMethods([drop_page_brk, tbl_parse])"
   ]
  },
  {
   "cell_type": "code",
   "execution_count": 15,
   "metadata": {},
   "outputs": [],
   "source": [
    "start_marker = SectionBreak('Table 3  VDT Name to Microsoft SQL Datatype',\n",
    "                            break_offset='After')\n",
    "end_marker = SectionBreak('Entity', break_offset='Before')\n",
    "dir_section = Section(start_section=start_marker, end_section=end_marker)\n",
    "a = dir_section.read(raw_text.splitlines())"
   ]
  },
  {
   "cell_type": "code",
   "execution_count": 16,
   "metadata": {},
   "outputs": [
    {
     "ename": "AttributeError",
     "evalue": "'functools.partial' object has no attribute 'is_gen'",
     "output_type": "error",
     "traceback": [
      "\u001b[1;31m---------------------------------------------------------------------------\u001b[0m",
      "\u001b[1;31mAttributeError\u001b[0m                            Traceback (most recent call last)",
      "\u001b[1;32m~\\AppData\\Local\\Temp/ipykernel_3600/626060720.py\u001b[0m in \u001b[0;36m<module>\u001b[1;34m\u001b[0m\n\u001b[1;32m----> 1\u001b[1;33m \u001b[0mabr_proc\u001b[0m\u001b[1;33m.\u001b[0m\u001b[0mread\u001b[0m\u001b[1;33m(\u001b[0m\u001b[0ma\u001b[0m\u001b[1;33m)\u001b[0m\u001b[1;33m\u001b[0m\u001b[1;33m\u001b[0m\u001b[0m\n\u001b[0m",
      "\u001b[1;32m~\\OneDrive - Queen's University\\Python\\Projects\\sectionary package\\src\\sectionary\\sections.py\u001b[0m in \u001b[0;36mread\u001b[1;34m(self, source, context)\u001b[0m\n\u001b[0;32m   1468\u001b[0m             \u001b[0minput\u001b[0m \u001b[0msource\u001b[0m \u001b[0msequence\u001b[0m\u001b[1;33m.\u001b[0m\u001b[1;33m\u001b[0m\u001b[1;33m\u001b[0m\u001b[0m\n\u001b[0;32m   1469\u001b[0m         '''\n\u001b[1;32m-> 1470\u001b[1;33m         \u001b[0mprocess_gen\u001b[0m \u001b[1;33m=\u001b[0m \u001b[0mself\u001b[0m\u001b[1;33m.\u001b[0m\u001b[0mreader\u001b[0m\u001b[1;33m(\u001b[0m\u001b[0msource\u001b[0m\u001b[1;33m,\u001b[0m \u001b[0mcontext\u001b[0m\u001b[1;33m)\u001b[0m\u001b[1;33m\u001b[0m\u001b[1;33m\u001b[0m\u001b[0m\n\u001b[0m\u001b[0;32m   1471\u001b[0m         \u001b[0mprocessed_items\u001b[0m \u001b[1;33m=\u001b[0m \u001b[0mlist\u001b[0m\u001b[1;33m(\u001b[0m\u001b[1;33m)\u001b[0m\u001b[1;33m\u001b[0m\u001b[1;33m\u001b[0m\u001b[0m\n\u001b[0;32m   1472\u001b[0m         \u001b[1;32mwhile\u001b[0m \u001b[1;32mTrue\u001b[0m\u001b[1;33m:\u001b[0m\u001b[1;33m\u001b[0m\u001b[1;33m\u001b[0m\u001b[0m\n",
      "\u001b[1;32m~\\OneDrive - Queen's University\\Python\\Projects\\sectionary package\\src\\sectionary\\sections.py\u001b[0m in \u001b[0;36mreader\u001b[1;34m(self, source, context)\u001b[0m\n\u001b[0;32m   1426\u001b[0m         \u001b[0mnext_source\u001b[0m \u001b[1;33m=\u001b[0m \u001b[0msource\u001b[0m\u001b[1;33m\u001b[0m\u001b[1;33m\u001b[0m\u001b[0m\n\u001b[0;32m   1427\u001b[0m         \u001b[1;32mfor\u001b[0m \u001b[0mfunc\u001b[0m \u001b[1;32min\u001b[0m \u001b[0mself\u001b[0m\u001b[1;33m.\u001b[0m\u001b[0mprocessing_methods\u001b[0m\u001b[1;33m:\u001b[0m\u001b[1;33m\u001b[0m\u001b[1;33m\u001b[0m\u001b[0m\n\u001b[1;32m-> 1428\u001b[1;33m             \u001b[0mnext_source\u001b[0m \u001b[1;33m=\u001b[0m \u001b[0mself\u001b[0m\u001b[1;33m.\u001b[0m\u001b[0mfunc_to_iter\u001b[0m\u001b[1;33m(\u001b[0m\u001b[0mnext_source\u001b[0m\u001b[1;33m,\u001b[0m \u001b[0mfunc\u001b[0m\u001b[1;33m,\u001b[0m \u001b[0mcontext\u001b[0m\u001b[1;33m)\u001b[0m\u001b[1;33m\u001b[0m\u001b[1;33m\u001b[0m\u001b[0m\n\u001b[0m\u001b[0;32m   1429\u001b[0m         \u001b[0mfinal_generator\u001b[0m \u001b[1;33m=\u001b[0m \u001b[0miter\u001b[0m\u001b[1;33m(\u001b[0m\u001b[0mnext_source\u001b[0m\u001b[1;33m)\u001b[0m\u001b[1;33m\u001b[0m\u001b[1;33m\u001b[0m\u001b[0m\n\u001b[0;32m   1430\u001b[0m         \u001b[1;32mreturn\u001b[0m \u001b[0mfinal_generator\u001b[0m\u001b[1;33m\u001b[0m\u001b[1;33m\u001b[0m\u001b[0m\n",
      "\u001b[1;32m~\\OneDrive - Queen's University\\Python\\Projects\\sectionary package\\src\\sectionary\\sections.py\u001b[0m in \u001b[0;36mfunc_to_iter\u001b[1;34m(source, func, context)\u001b[0m\n\u001b[0;32m   1406\u001b[0m         \u001b[1;31m# Test whether the function is a generator function as identified\u001b[0m\u001b[1;33m\u001b[0m\u001b[1;33m\u001b[0m\u001b[1;33m\u001b[0m\u001b[0m\n\u001b[0;32m   1407\u001b[0m         \u001b[1;31m# earlier by the set_method function.\u001b[0m\u001b[1;33m\u001b[0m\u001b[1;33m\u001b[0m\u001b[1;33m\u001b[0m\u001b[0m\n\u001b[1;32m-> 1408\u001b[1;33m         \u001b[1;32mif\u001b[0m \u001b[0mfunc\u001b[0m\u001b[1;33m.\u001b[0m\u001b[0mis_gen\u001b[0m\u001b[1;33m:\u001b[0m\u001b[1;33m\u001b[0m\u001b[1;33m\u001b[0m\u001b[0m\n\u001b[0m\u001b[0;32m   1409\u001b[0m             \u001b[1;32mreturn\u001b[0m \u001b[0mfunc\u001b[0m\u001b[1;33m(\u001b[0m\u001b[0miter\u001b[0m\u001b[1;33m(\u001b[0m\u001b[0msource\u001b[0m\u001b[1;33m)\u001b[0m\u001b[1;33m,\u001b[0m \u001b[0mcontext\u001b[0m\u001b[1;33m)\u001b[0m\u001b[1;33m\u001b[0m\u001b[1;33m\u001b[0m\u001b[0m\n\u001b[0;32m   1410\u001b[0m         \u001b[1;32mreturn\u001b[0m \u001b[1;33m(\u001b[0m\u001b[0mfunc\u001b[0m\u001b[1;33m(\u001b[0m\u001b[0mitem\u001b[0m\u001b[1;33m,\u001b[0m \u001b[0mcontext\u001b[0m\u001b[1;33m)\u001b[0m \u001b[1;32mfor\u001b[0m \u001b[0mitem\u001b[0m \u001b[1;32min\u001b[0m \u001b[0msource\u001b[0m\u001b[1;33m)\u001b[0m\u001b[1;33m\u001b[0m\u001b[1;33m\u001b[0m\u001b[0m\n",
      "\u001b[1;31mAttributeError\u001b[0m: 'functools.partial' object has no attribute 'is_gen'"
     ]
    }
   ],
   "source": [
    "abr_proc.read(a)"
   ]
  },
  {
   "cell_type": "code",
   "execution_count": null,
   "metadata": {},
   "outputs": [],
   "source": [
    "text_list = [\n",
    "    'Table 3  VDT Name to Microsoft SQL Datatype',\n",
    "    'variansystem Database Overview'\n",
    "    ]\n",
    "clean_lines = drop_lines(lines, text_list)\n",
    "dt_parse = FixedWidthParser(locations = [37])\n",
    "processed_lines = dt_parse.parser(clean_lines)\n",
    "data_type_lookup = to_dataframe([trim_items(l) for l in processed_lines])\n",
    "data_type_lookup.set_index('VDT Name', inplace=True)"
   ]
  },
  {
   "cell_type": "code",
   "execution_count": null,
   "metadata": {},
   "outputs": [],
   "source": [
    "'Zones are only used to show a logical organization of the database structure.'\n",
    "'The poster is a simplified entity-relationship (ER) diagram'"
   ]
  },
  {
   "cell_type": "code",
   "execution_count": null,
   "metadata": {},
   "outputs": [],
   "source": [
    "'Abbreviations for Table and Column Names'\n",
    "'Chapter 3                    Building Queries and Reports'"
   ]
  },
  {
   "cell_type": "code",
   "execution_count": null,
   "metadata": {},
   "outputs": [],
   "source": [
    "tbl_parse = define_fixed_width_parser(locations = [37])\n",
    "brk_text = [\n",
    "    'Abbreviations for Table and Column Names',\n",
    "    'variansystem Database Overview'\n",
    "    ]\n",
    "drop_page_brk = partial(drop_lines, text_list=brk_text)\n"
   ]
  },
  {
   "cell_type": "code",
   "execution_count": null,
   "metadata": {},
   "outputs": [],
   "source": [
    "dir_section = Section(\n",
    "    start_section=SectionBreak('Abbreviations for Table and Column Names', \n",
    "                               break_offset='After'), \n",
    "    end_section=SectionBreak('Chapter 3', break_offset='Before')\n",
    "    )\n",
    "\n",
    "a = dir_section.read(raw_text.splitlines())"
   ]
  },
  {
   "cell_type": "code",
   "execution_count": null,
   "metadata": {},
   "outputs": [],
   "source": [
    "b = drop_page_brk(a)\n",
    "c = tbl_parse(b)\n",
    "d = trim_items(c)"
   ]
  },
  {
   "cell_type": "code",
   "execution_count": null,
   "metadata": {},
   "outputs": [],
   "source": [
    "tbl_parse(drop_page_brk(a))\n"
   ]
  },
  {
   "cell_type": "code",
   "execution_count": null,
   "metadata": {},
   "outputs": [],
   "source": [
    "abr_proc = ProcessingMethods([drop_page_brk, tbl_parse, trim_items])"
   ]
  },
  {
   "cell_type": "code",
   "execution_count": null,
   "metadata": {},
   "outputs": [],
   "source": [
    "from sectionary.sections import *\n"
   ]
  },
  {
   "cell_type": "code",
   "execution_count": null,
   "metadata": {},
   "outputs": [],
   "source": [
    "use_function = sig_match(drop_page_brk, sig_type='Process')\n",
    "use_function.is_gen = True\n",
    "use_function.__getattribute__('is_gen')"
   ]
  },
  {
   "cell_type": "code",
   "execution_count": null,
   "metadata": {},
   "outputs": [],
   "source": [
    "given_method = drop_page_brk\n",
    "method_type='Process'\n",
    "if isinstance(given_method, str):\n",
    "    use_function = standard_action(given_method, method_type)\n",
    "    use_function.is_gen = False\n",
    "else:\n",
    "    use_function = sig_match(given_method, sig_type=method_type)\n",
    "    # Add a special attribute to use_function because sig_match hides\n",
    "    # whether rule_method is a generator function.  This attribute is\n",
    "    # checked when the function is called.\n",
    "    if isgeneratorfunction(given_method):\n",
    "        use_function.is_gen = True\n",
    "    elif isinstance(given_method, partial):\n",
    "        print('hello')\n",
    "        if isgeneratorfunction(given_method.func):\n",
    "            use_function.is_gen = True\n",
    "    else:\n",
    "        print('hi')\n",
    "        use_function.is_gen = False\n",
    "#isgeneratorfunction(given_method)\n",
    "#use_function.__getattribute__('is_gen')"
   ]
  },
  {
   "cell_type": "code",
   "execution_count": null,
   "metadata": {},
   "outputs": [],
   "source": [
    "abr_proc.read(a)"
   ]
  },
  {
   "cell_type": "code",
   "execution_count": null,
   "metadata": {},
   "outputs": [],
   "source": [
    "dir_section = Section(\n",
    "    start_section=SectionBreak('Abbreviations for Table and Column Names', \n",
    "                               break_offset='After'), \n",
    "    end_section=SectionBreak('Chapter 3', break_offset='Before'),\n",
    "    processor=abr_proc)\n",
    "\n",
    "dir_section.read(raw_text.splitlines())"
   ]
  },
  {
   "cell_type": "code",
   "execution_count": null,
   "metadata": {},
   "outputs": [],
   "source": [
    "text_list = [\n",
    "    'Table 3  VDT Name to Microsoft SQL Datatype',\n",
    "    'variansystem Database Overview'\n",
    "    ]\n",
    "clean_lines = drop_lines(lines, text_list)\n",
    "dt_parse = FixedWidthParser(locations = [37])\n",
    "processed_lines = dt_parse.parser(clean_lines)\n",
    "data_type_lookup = to_dataframe([trim_items(l) for l in processed_lines])\n",
    "data_type_lookup.set_index('VDT Name', inplace=True)"
   ]
  },
  {
   "cell_type": "code",
   "execution_count": null,
   "metadata": {},
   "outputs": [],
   "source": [
    "print('\\n'.join(clean_lines))"
   ]
  }
 ],
 "metadata": {
  "interpreter": {
   "hash": "66ef33868397d4b3ba585aec6a96f4069dc5c8f4bfb13ad07430863a61fdf935"
  },
  "kernelspec": {
   "display_name": "Python 3.9.7 64-bit ('variandb_relations': conda)",
   "language": "python",
   "name": "python3"
  },
  "language_info": {
   "codemirror_mode": {
    "name": "ipython",
    "version": 3
   },
   "file_extension": ".py",
   "mimetype": "text/x-python",
   "name": "python",
   "nbconvert_exporter": "python",
   "pygments_lexer": "ipython3",
   "version": "3.8.12"
  },
  "orig_nbformat": 4
 },
 "nbformat": 4,
 "nbformat_minor": 2
}
