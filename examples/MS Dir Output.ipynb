{
 "cells": [
  {
   "cell_type": "markdown",
   "source": [
    "# Output from Windows Dir command"
   ],
   "metadata": {
    "jupyter": {
     "source_hidden": true
    }
   }
  },
  {
   "cell_type": "markdown",
   "source": [
    "The Windows `dir` command displays a list of a directory's files and subdirectories.  \n",
    "It's output will be used to showcase some of the features of the *sectionary* package.\n",
    "\n",
    "Adding switches (options) to the `dir` command control what it displays and the format of the output.\n",
    "In thses examples we will be using the command line:\n",
    "\n",
    "`DIR \"Test Dir Structure\" /S /N /-C /T:W >  \"test_DIR_Data.txt\"`\n",
    "\n",
    "| Switch | Description                                                                                              |\n",
    "|--------|----------------------------------------------------------------------------------------------------------|\n",
    "| /S     | Lists every occurrence of the specified file name within the specified directory and all subdirectories. |\n",
    "| /N     | Displays a long list format with file names on the far right of the screen.                              |\n",
    "| /-C    | Hides the thousand separator in file sizes.                                                              |\n",
    "| /T:W   | Specifies which time field to display as \"Last written\".                                                 |\n",
    "| >      | Redirect the output to the specified file.                                                               |\n",
    "\n",
    "For more information, see [DIR Command Syntax](https://docs.microsoft.com/en-us/windows-server/administration/windows-commands/dir)"
   ],
   "metadata": {
    "jupyter": {
     "source_hidden": true
    }
   }
  },
  {
   "cell_type": "markdown",
   "source": [
    "## The Sample `Dir` Output"
   ],
   "metadata": {
    "jupyter": {
     "source_hidden": true
    }
   }
  },
  {
   "cell_type": "markdown",
   "source": [
    "## `Dir` Output Structure\n",
    "The first two lines, the *header section*, refer to the volume. We will ignore \n",
    "these lines.\n",
    "\n",
    "    Volume in drive C has no label.\n",
    "    Volume Serial Number is 56DB-14A7"
   ],
   "metadata": {}
  },
  {
   "cell_type": "markdown",
   "source": [
    "After the header come multiple Folder sections with a standard structure for \n",
    "each one.\n",
    "\n",
    "The Directory listing begins with a header line:\n",
    "\n",
    "> Directory of *\\<Full Directory Path>*\n",
    "\n",
    "Next come this subdirectory listings beginning with two standard ones `.`\n",
    "and `..`, representing the current directory and the parent directory \n",
    "respectively[^1][^2].\n",
    "\n",
    "    2021-06-18  14:54    <DIR>          .\n",
    "    2021-06-18  14:54    <DIR>          ..\n",
    "    2021-06-18  14:54    <DIR>          Dir1\n",
    "    2021-06-18  14:54    <DIR>          Dir2\n",
    "\n",
    " [^1]: The date and time formats used are local specific.\n",
    "\n",
    " [^2]: The meaning of date and time depends on the `/Tx` switch.\n",
    "\n",
    "After this come the file listings.  Similar to the directories, \n",
    "the first column is a date and time[^2].  The second column is the file size \n",
    "in bytes, right justified.\n",
    "    \n",
    "    2016-02-25  22:59                 3 TestFile1.txt\n",
    "    2016-02-15  19:46                 7 TestFile2.rtf\n",
    "    2016-02-15  19:47                 0 TestFile3.docx\n",
    "\n",
    "Finally, the directory listing ends with a summary line containing the Number of files in te directory and the total:\n",
    "\n",
    "    <N> File(s)           <Size> bytes\n",
    "\n"
   ],
   "metadata": {
    "jupyter": {
     "source_hidden": true
    }
   }
  },
  {
   "cell_type": "markdown",
   "source": [
    "The first 24 lines of `test_DIR_Data.txt` are:\n",
    "\n",
    "    Volume in drive C has no label.\n",
    "    Volume Serial Number is ABCD-1234\n",
    "\n",
    "    Directory of C:\\Users\\ ... \\Test Dir Structure\n",
    "\n",
    "    2021-06-18  14:54    <DIR>          .\n",
    "    2021-06-18  14:54    <DIR>          ..\n",
    "    2021-06-18  14:54    <DIR>          Dir1\n",
    "    2021-06-18  14:54    <DIR>          Dir2\n",
    "    2016-02-25  22:59                 3 TestFile1.txt\n",
    "    2016-02-15  19:46                 7 TestFile2.rtf\n",
    "    2016-02-15  19:47                 0 TestFile3.docx\n",
    "    2016-04-21  14:06              3491 xcopy.txt\n",
    "                   4 File(s)           3501 bytes\n",
    "\n",
    "    Directory of C:\\Users\\ ... \\Test Dir Structure\\Dir1\n",
    "\n",
    "    2021-06-18  14:54    <DIR>          .\n",
    "    2021-06-18  14:54    <DIR>          ..\n",
    "    2016-02-15  19:48                 0 File in Dir One.txt\n",
    "    2021-06-18  14:54    <DIR>          SubFolder1\n",
    "    2021-06-18  14:54    <DIR>          SubFolder2\n",
    "                   1 File(s)              0 bytes\n",
    "\n"
   ],
   "metadata": {}
  },
  {
   "cell_type": "markdown",
   "source": [
    "![Test Dir Structure Tree](TestDirStructureImage.png)"
   ],
   "metadata": {}
  }
 ],
 "metadata": {
  "interpreter": {
   "hash": "60a1f208f299629c0c5615e2cc619a90192052a9831bd288ceae6c3a09c71508"
  },
  "kernelspec": {
   "name": "python3",
   "display_name": "Python 3.8.6 64-bit ('Standard': conda)"
  },
  "language_info": {
   "codemirror_mode": {
    "name": "ipython",
    "version": 3
   },
   "file_extension": ".py",
   "mimetype": "text/x-python",
   "name": "python",
   "nbconvert_exporter": "python",
   "pygments_lexer": "ipython3",
   "version": "3.8.6"
  }
 },
 "nbformat": 4,
 "nbformat_minor": 4
}