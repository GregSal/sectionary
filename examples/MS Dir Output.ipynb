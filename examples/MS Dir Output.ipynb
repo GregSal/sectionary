{
 "cells": [
  {
   "cell_type": "markdown",
   "source": [
    "# Output from Windows Dir command"
   ],
   "metadata": {
    "jupyter": {
     "source_hidden": true
    }
   }
  },
  {
   "cell_type": "markdown",
   "source": [
    "The Windows `dir` command displays a list of a directory's files and subdirectories.  \r\n",
    "It's output will be used to showcase some of the features of the *sectionary* package.\r\n",
    "\r\n",
    "Adding switches (options) to the `dir` command control what it displays and the format of the output.\r\n",
    "In thses examples we will be using the command line:\r\n",
    "\r\n",
    "`DIR \"Test Dir Structure\" /S /N /-C /T:W >  \"test_DIR_Data.txt\"`\r\n",
    "\r\n",
    "| Switch | Description                                                                                              |\r\n",
    "|--------|----------------------------------------------------------------------------------------------------------|\r\n",
    "| /S     | Lists every occurrence of the specified file name within the specified directory and all subdirectories. |\r\n",
    "| /N     | Displays a long list format with file names on the far right of the screen.                              |\r\n",
    "| /-C    | Hides the thousand separator in file sizes.                                                              |\r\n",
    "| /T:W   | Specifies which time field to display as \"Last written\".                                                 |\r\n",
    "| >      | Redirect the output to the specified file.                                                               |\r\n",
    "\r\n",
    "For more information, see [DIR Command Syntax](https://docs.microsoft.com/en-us/windows-server/administration/windows-commands/dir)"
   ],
   "metadata": {
    "jupyter": {
     "source_hidden": true
    }
   }
  },
  {
   "cell_type": "markdown",
   "source": [
    "## The Sample `Dir` Output"
   ],
   "metadata": {
    "jupyter": {
     "source_hidden": true
    }
   }
  },
  {
   "cell_type": "markdown",
   "source": [
    "## `Dir` Output Structure\r\n",
    "The first two lines, the *header section*, refer to the volume. We will ignore \r\n",
    "these lines.\r\n",
    "\r\n",
    "    Volume in drive C has no label.\r\n",
    "    Volume Serial Number is 56DB-14A7"
   ],
   "metadata": {}
  },
  {
   "cell_type": "markdown",
   "source": [
    "After the header come multiple Folder sections with a standard structure for \r\n",
    "each one.\r\n",
    "\r\n",
    "The Directory listing begins with a header line:\r\n",
    "\r\n",
    "> Directory of *\\<Full Directory Path>*\r\n",
    "\r\n",
    "Next come this subdirectory listings beginning with two standard ones `.`\r\n",
    "and `..`, representing the current directory and the parent directory \r\n",
    "respectively[^1][^2].\r\n",
    "\r\n",
    "    2021-06-18  14:54    <DIR>          .\r\n",
    "    2021-06-18  14:54    <DIR>          ..\r\n",
    "    2021-06-18  14:54    <DIR>          Dir1\r\n",
    "    2021-06-18  14:54    <DIR>          Dir2\r\n",
    "\r\n",
    " [^1]: The date and time formats used are local specific.\r\n",
    "\r\n",
    " [^2]: The meaning of date and time depends on the `/Tx` switch.\r\n",
    "\r\n",
    "After this come the file listings.  Similar to the directories, \r\n",
    "the first column is a date and time[^2].  The second column is the file size \r\n",
    "in bytes, right justified.\r\n",
    "    \r\n",
    "    2016-02-25  22:59                 3 TestFile1.txt\r\n",
    "    2016-02-15  19:46                 7 TestFile2.rtf\r\n",
    "    2016-02-15  19:47                 0 TestFile3.docx\r\n",
    "\r\n",
    "Finally, the directory listing ends with a summary line containing the Number of files in te directory and the total:\r\n",
    "\r\n",
    "    <N> File(s)           <Size> bytes\r\n",
    "\r\n"
   ],
   "metadata": {
    "jupyter": {
     "source_hidden": true
    }
   }
  },
  {
   "cell_type": "markdown",
   "source": [
    "The first 24 lines of `test_DIR_Data.txt` are:\r\n",
    "\r\n",
    "    Volume in drive C has no label.\r\n",
    "    Volume Serial Number is ABCD-1234\r\n",
    "\r\n",
    "    Directory of C:\\Users\\ ... \\Test Dir Structure\r\n",
    "\r\n",
    "    2021-06-18  14:54    <DIR>          .\r\n",
    "    2021-06-18  14:54    <DIR>          ..\r\n",
    "    2021-06-18  14:54    <DIR>          Dir1\r\n",
    "    2021-06-18  14:54    <DIR>          Dir2\r\n",
    "    2016-02-25  22:59                 3 TestFile1.txt\r\n",
    "    2016-02-15  19:46                 7 TestFile2.rtf\r\n",
    "    2016-02-15  19:47                 0 TestFile3.docx\r\n",
    "    2016-04-21  14:06              3491 xcopy.txt\r\n",
    "                   4 File(s)           3501 bytes\r\n",
    "\r\n",
    "    Directory of C:\\Users\\ ... \\Test Dir Structure\\Dir1\r\n",
    "\r\n",
    "    2021-06-18  14:54    <DIR>          .\r\n",
    "    2021-06-18  14:54    <DIR>          ..\r\n",
    "    2016-02-15  19:48                 0 File in Dir One.txt\r\n",
    "    2021-06-18  14:54    <DIR>          SubFolder1\r\n",
    "    2021-06-18  14:54    <DIR>          SubFolder2\r\n",
    "                   1 File(s)              0 bytes\r\n",
    "\r\n"
   ],
   "metadata": {}
  },
  {
   "cell_type": "markdown",
   "source": [
    "![Test Dir Structure Tree](TestDirStructureImage.png)"
   ],
   "metadata": {}
  }
 ],
 "metadata": {
  "interpreter": {
   "hash": "60a1f208f299629c0c5615e2cc619a90192052a9831bd288ceae6c3a09c71508"
  },
  "kernelspec": {
   "name": "python3",
   "display_name": "Python 3.8.6 64-bit ('Standard': conda)"
  },
  "language_info": {
   "codemirror_mode": {
    "name": "ipython",
    "version": 3
   },
   "file_extension": ".py",
   "mimetype": "text/x-python",
   "name": "python",
   "nbconvert_exporter": "python",
   "pygments_lexer": "ipython3",
   "version": "3.8.6"
  }
 },
 "nbformat": 4,
 "nbformat_minor": 4
}