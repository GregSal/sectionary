{
 "cells": [
  {
   "cell_type": "code",
   "execution_count": 1,
   "metadata": {},
   "outputs": [],
   "source": [
    "import inspect\n",
    "from typing import Literal, Dict, Any"
   ]
  },
  {
   "cell_type": "code",
   "execution_count": 6,
   "metadata": {},
   "outputs": [],
   "source": [
    "class CustomCallable:\n",
    "    '''Function class with custom annotations.\n",
    "    '''\n",
    "    def __init__(self):\n",
    "        self._annotations = {}  # Initialize an empty annotations dictionary\n",
    "        # Initialize default signature\n",
    "        self._signature = inspect.Signature([\n",
    "            inspect.Parameter('args', inspect.Parameter.VAR_POSITIONAL),\n",
    "            inspect.Parameter('kwargs', inspect.Parameter.VAR_KEYWORD)\n",
    "            ])\n",
    "\n",
    "    def __call__(self, *args, **kwargs) -> Literal['Hello from CustomCallable!']:\n",
    "        result = \"Hello from CustomCallable!\"\n",
    "        return result\n",
    "\n",
    "    @property\n",
    "    def __signature__(self) -> inspect.Signature:\n",
    "        '''The Signature can be set as an attribute.'''\n",
    "        return self._signature\n",
    "\n",
    "    @__signature__.setter\n",
    "    def __signature__(self, sig: inspect.Signature) -> None:\n",
    "        self._signature = sig\n",
    "\n",
    "    @property\n",
    "    def __annotations__(self) -> Dict[str, Any]:\n",
    "        '''The annotations can be set as an attribute.'''\n",
    "        return self._annotation\n",
    "\n",
    "    @__annotations__.setter\n",
    "    def __annotations__(self, anote: Dict[str, Any]) -> None:\n",
    "        self._annotation = anote\n"
   ]
  },
  {
   "cell_type": "code",
   "execution_count": 8,
   "metadata": {},
   "outputs": [],
   "source": [
    "my_callable = CustomCallable()\n",
    "my_callable.__annotations__ = {\"arg1\": int, \"arg2\": str, \"return\": bool}\n",
    "my_callable.__signature__ = inspect.Signature([\n",
    "        inspect.Parameter('arg1', inspect.Parameter.POSITIONAL_OR_KEYWORD, annotation=int),\n",
    "        inspect.Parameter('arg2', inspect.Parameter.POSITIONAL_OR_KEYWORD, annotation=str)\n",
    "        ], return_annotation=Any)\n"
   ]
  },
  {
   "cell_type": "code",
   "execution_count": 9,
   "metadata": {},
   "outputs": [
    {
     "data": {
      "text/plain": [
       "'(arg1: int, arg2: str) -> Any'"
      ]
     },
     "execution_count": 9,
     "metadata": {},
     "output_type": "execute_result"
    }
   ],
   "source": [
    "str(inspect.signature(my_callable))"
   ]
  },
  {
   "cell_type": "code",
   "execution_count": 10,
   "metadata": {},
   "outputs": [
    {
     "data": {
      "text/plain": [
       "{'arg1': int, 'arg2': str, 'return': bool}"
      ]
     },
     "execution_count": 10,
     "metadata": {},
     "output_type": "execute_result"
    }
   ],
   "source": [
    "my_callable.__annotations__"
   ]
  },
  {
   "cell_type": "code",
   "execution_count": null,
   "metadata": {},
   "outputs": [],
   "source": [
    "CustomCallable()"
   ]
  },
  {
   "cell_type": "code",
   "execution_count": null,
   "metadata": {},
   "outputs": [],
   "source": [
    "result = my_callable(42, \"world\")"
   ]
  },
  {
   "attachments": {
    "image.png": {
     "image/png": "[encoded data removed]"
    }
   },
   "cell_type": "markdown",
   "metadata": {},
   "source": [
    "**Type Hint PopUp**\n",
    "\n",
    "![image.png](attachment:image.png)"
   ]
  },
  {
   "cell_type": "markdown",
   "metadata": {},
   "source": [
    "**Should be:**\n",
    "\n",
    "'(arg1: int, arg2: str) -> Any'"
   ]
  }
 ],
 "metadata": {
  "kernelspec": {
   "display_name": "sectionaryDev",
   "language": "python",
   "name": "python3"
  },
  "language_info": {
   "codemirror_mode": {
    "name": "ipython",
    "version": 3
   },
   "file_extension": ".py",
   "mimetype": "text/x-python",
   "name": "python",
   "nbconvert_exporter": "python",
   "pygments_lexer": "ipython3",
   "version": "3.12.1"
  }
 },
 "nbformat": 4,
 "nbformat_minor": 2
}
