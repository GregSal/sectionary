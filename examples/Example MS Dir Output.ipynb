{
 "cells": [
  {
   "cell_type": "markdown",
   "metadata": {
    "jupyter": {
     "source_hidden": true
    }
   },
   "source": [
    "# Example: Output from Windows Dir command\n",
    "This tutorial demonstrates the main features of the Sectionary package with a simple example; parsing the output of the Windows `DIR` command."
   ]
  },
  {
   "cell_type": "markdown",
   "metadata": {
    "jupyter": {
     "outputs_hidden": true,
     "source_hidden": true
    }
   },
   "source": [
    "### Imports"
   ]
  },
  {
   "cell_type": "markdown",
   "metadata": {
    "jupyter": {
     "source_hidden": true
    }
   },
   "source": [
    "#### Standard Python Modules"
   ]
  },
  {
   "cell_type": "code",
   "execution_count": 39,
   "metadata": {
    "jupyter": {
     "source_hidden": true
    }
   },
   "outputs": [],
   "source": [
    "from typing import List\n",
    "from pathlib import Path\n",
    "from pprint import pprint\n",
    "import re\n",
    "import sys"
   ]
  },
  {
   "cell_type": "markdown",
   "metadata": {
    "jupyter": {
     "source_hidden": true
    }
   },
   "source": [
    "#### Useful Third Party Packages"
   ]
  },
  {
   "cell_type": "code",
   "execution_count": 40,
   "metadata": {
    "jupyter": {
     "source_hidden": true
    }
   },
   "outputs": [],
   "source": [
    "import pandas as pd\n",
    "import xlwings as xw"
   ]
  },
  {
   "cell_type": "markdown",
   "metadata": {
    "jupyter": {
     "source_hidden": true
    }
   },
   "source": [
    "#### Sectionary Imports"
   ]
  },
  {
   "cell_type": "code",
   "execution_count": 41,
   "metadata": {
    "jupyter": {
     "source_hidden": true
    }
   },
   "outputs": [],
   "source": [
    "#sys.path.append(r'../src/sectionary') \n",
    "\n",
    "import text_reader as tp\n",
    "from sections import Rule, RuleSet, SectionBreak, ProcessingMethods, Section"
   ]
  },
  {
   "cell_type": "markdown",
   "metadata": {
    "jupyter": {
     "source_hidden": true
    }
   },
   "source": [
    "## The Sample `Dir` Output"
   ]
  },
  {
   "cell_type": "markdown",
   "metadata": {
    "jupyter": {
     "source_hidden": true
    }
   },
   "source": [
    "The Windows `dir` command displays a list of a directory's files and subdirectories.  \n",
    "It's output will be used to showcase some of the features of the *sectionary* package.\n",
    "\n",
    "Adding switches (options) to the `dir` command control what it displays and the format of the output.\n",
    "In thses examples we will be using the command line:\n",
    "\n",
    "`DIR \"Test Dir Structure\" /S /N /-C /T:W >  \"test_DIR_Data.txt\"`\n",
    "\n",
    "| Switch | Description                                                                                              |\n",
    "|--------|----------------------------------------------------------------------------------------------------------|\n",
    "| /S     | Lists every occurrence of the specified file name within the specified directory and all subdirectories. |\n",
    "| /N     | Displays a long list format with file names on the far right of the screen.                              |\n",
    "| /-C    | Hides the thousand separator in file sizes.                                                              |\n",
    "| /T:W   | Specifies which time field to display as \"Last written\".                                                 |\n",
    "| >      | Redirect the output to the specified file.                                                               |\n",
    "\n",
    "For more information, see [DIR Command Syntax](https://docs.microsoft.com/en-us/windows-server/administration/windows-commands/dir)"
   ]
  },
  {
   "cell_type": "code",
   "execution_count": 42,
   "metadata": {
    "jupyter": {
     "source_hidden": true
    }
   },
   "outputs": [],
   "source": [
    "test_file = Path.cwd() / 'examples' / 'test_DIR_Data.txt'\n",
    "dir_text = test_file.read_text().splitlines()"
   ]
  },
  {
   "cell_type": "markdown",
   "metadata": {
    "jupyter": {
     "source_hidden": true
    }
   },
   "source": [
    "### `Dir` Output Structure"
   ]
  },
  {
   "cell_type": "markdown",
   "metadata": {
    "jupyter": {
     "source_hidden": true
    }
   },
   "source": [
    "The first 20 lines of the diretory listing are:"
   ]
  },
  {
   "cell_type": "code",
   "execution_count": 43,
   "metadata": {
    "collapsed": true,
    "jupyter": {
     "outputs_hidden": true,
     "source_hidden": true
    }
   },
   "outputs": [
    {
     "name": "stdout",
     "output_type": "stream",
     "text": [
      "\t  Volume in drive C is Windows\n",
      "\t  Volume Serial Number is DAE7-D5BA\n",
      "\t \n",
      "\t  Directory of c:\\users\\...\\Test Dir Structure\n",
      "\t \n",
      "\t 2021-12-27  03:33 PM    <DIR>          .\n",
      "\t 2021-12-27  03:33 PM    <DIR>          ..\n",
      "\t 2021-12-27  04:03 PM    <DIR>          Dir1\n",
      "\t 2021-12-27  05:27 PM    <DIR>          Dir2\n",
      "\t 2016-02-25  09:59 PM                 3 TestFile1.txt\n",
      "\t 2016-02-15  06:46 PM                 7 TestFile2.rtf\n",
      "\t 2016-02-15  06:47 PM                 0 TestFile3.docx\n",
      "\t 2016-04-21  01:06 PM              3491 xcopy.txt\n",
      "\t                4 File(s)           3501 bytes\n",
      "\t \n",
      "\t  Directory of c:\\users\\...\\Test Dir Structure\\Dir1\n",
      "\t \n",
      "\t 2021-12-27  04:03 PM    <DIR>          .\n",
      "\t 2021-12-27  04:03 PM    <DIR>          ..\n",
      "\t 2016-02-15  06:48 PM                 0 File in Dir One.txt\n"
     ]
    }
   ],
   "source": [
    "for line in dir_text[0:20]:\n",
    "    print('\\t', line)"
   ]
  },
  {
   "cell_type": "markdown",
   "metadata": {
    "jupyter": {
     "source_hidden": true
    }
   },
   "source": [
    "We want to ignore the first two lines (the *header section*)"
   ]
  },
  {
   "cell_type": "code",
   "execution_count": 44,
   "metadata": {
    "collapsed": true,
    "jupyter": {
     "outputs_hidden": true,
     "source_hidden": true
    }
   },
   "outputs": [
    {
     "name": "stdout",
     "output_type": "stream",
     "text": [
      "\t  Volume in drive C is Windows\n",
      "\t  Volume Serial Number is DAE7-D5BA\n"
     ]
    }
   ],
   "source": [
    "for line in dir_text[0:2]:\n",
    "    print('\\t', line)"
   ]
  },
  {
   "cell_type": "markdown",
   "metadata": {
    "jupyter": {
     "source_hidden": true
    }
   },
   "source": [
    "After this come multiple Folder sections something like this:"
   ]
  },
  {
   "cell_type": "code",
   "execution_count": 45,
   "metadata": {
    "collapsed": true,
    "jupyter": {
     "outputs_hidden": true,
     "source_hidden": true
    }
   },
   "outputs": [
    {
     "name": "stdout",
     "output_type": "stream",
     "text": [
      " Directory of c:\\users\\ ... \\Test Dir Structure\n",
      "\n",
      "2021-12-27  03:33 PM    <DIR>          .\n",
      "2021-12-27  03:33 PM    <DIR>          ..\n",
      "2021-12-27  04:03 PM    <DIR>          Dir1\n",
      "2021-12-27  05:27 PM    <DIR>          Dir2\n",
      "               4 File(s)           3501 bytes\n"
     ]
    }
   ],
   "source": [
    "print(dir_text[3][0:23], '...', dir_text[3][-19:])\n",
    "print()\n",
    "for line in dir_text[5:9]:\n",
    "    print(line)\n",
    "print(dir_text[13])"
   ]
  },
  {
   "cell_type": "markdown",
   "metadata": {},
   "source": [
    "## Define a Section (section breaks)"
   ]
  },
  {
   "cell_type": "markdown",
   "metadata": {
    "jupyter": {
     "source_hidden": true
    }
   },
   "source": [
    "### Define a Section Based on start and end identifiers:\n",
    "\n",
    "The start and end of the folder listing can be identified by key phrases:\n",
    "- The section start is identified by the text '*Directory of*'\n",
    "- The section end is identified by the text '*File(s)*'"
   ]
  },
  {
   "cell_type": "code",
   "execution_count": 46,
   "metadata": {
    "collapsed": true,
    "jupyter": {
     "outputs_hidden": true,
     "source_hidden": true
    }
   },
   "outputs": [
    {
     "data": {
      "text/plain": [
       "[' Directory of c:\\\\users\\\\...\\\\Test Dir Structure',\n",
       " '',\n",
       " '2021-12-27  03:33 PM    <DIR>          .',\n",
       " '2021-12-27  03:33 PM    <DIR>          ..',\n",
       " '2021-12-27  04:03 PM    <DIR>          Dir1',\n",
       " '2021-12-27  05:27 PM    <DIR>          Dir2',\n",
       " '2016-02-25  09:59 PM                 3 TestFile1.txt',\n",
       " '2016-02-15  06:46 PM                 7 TestFile2.rtf',\n",
       " '2016-02-15  06:47 PM                 0 TestFile3.docx',\n",
       " '2016-04-21  01:06 PM              3491 xcopy.txt']"
      ]
     },
     "execution_count": 46,
     "metadata": {},
     "output_type": "execute_result"
    }
   ],
   "source": [
    "dir_section = Section(start_section='Directory of', end_section='File(s)')\n",
    "dir_section.read(dir_text)"
   ]
  },
  {
   "cell_type": "markdown",
   "metadata": {},
   "source": [
    "### SectionBreak objects"
   ]
  },
  {
   "cell_type": "markdown",
   "metadata": {
    "jupyter": {
     "source_hidden": true
    }
   },
   "source": [
    "`dir_section.read(dir_text)` returned the first folder listing in *dir_text*.\n",
    "However, it is missing the final line:"
   ]
  },
  {
   "cell_type": "code",
   "execution_count": 47,
   "metadata": {
    "collapsed": true,
    "jupyter": {
     "outputs_hidden": true,
     "source_hidden": true
    }
   },
   "outputs": [
    {
     "name": "stdout",
     "output_type": "stream",
     "text": [
      "               4 File(s)           3501 bytes\n"
     ]
    }
   ],
   "source": [
    "print(dir_text[13])"
   ]
  },
  {
   "cell_type": "markdown",
   "metadata": {
    "jupyter": {
     "source_hidden": true
    }
   },
   "source": [
    "To include this line, we need to define the end_setion to end *After* the specified text.  We include this information by explicitly creating a `SectionBreak` object:"
   ]
  },
  {
   "cell_type": "code",
   "execution_count": 48,
   "metadata": {
    "collapsed": true,
    "jupyter": {
     "outputs_hidden": true,
     "source_hidden": true
    }
   },
   "outputs": [
    {
     "data": {
      "text/plain": [
       "[' Directory of c:\\\\users\\\\...\\\\Test Dir Structure',\n",
       " '',\n",
       " '2021-12-27  03:33 PM    <DIR>          .',\n",
       " '2021-12-27  03:33 PM    <DIR>          ..',\n",
       " '2021-12-27  04:03 PM    <DIR>          Dir1',\n",
       " '2021-12-27  05:27 PM    <DIR>          Dir2',\n",
       " '2016-02-25  09:59 PM                 3 TestFile1.txt',\n",
       " '2016-02-15  06:46 PM                 7 TestFile2.rtf',\n",
       " '2016-02-15  06:47 PM                 0 TestFile3.docx',\n",
       " '2016-04-21  01:06 PM              3491 xcopy.txt',\n",
       " '               4 File(s)           3501 bytes']"
      ]
     },
     "execution_count": 48,
     "metadata": {},
     "output_type": "execute_result"
    }
   ],
   "source": [
    "dir_section = Section(start_section='Directory of', \n",
    "                      end_section=SectionBreak('File(s)', break_offset='After'))\n",
    "\n",
    "dir_section.read(dir_text)"
   ]
  },
  {
   "cell_type": "markdown",
   "metadata": {},
   "source": [
    "## Iterating through multiple sections"
   ]
  },
  {
   "cell_type": "markdown",
   "metadata": {
    "jupyter": {
     "source_hidden": true
    }
   },
   "source": [
    "dir_text is a list so `dir_section.read(dir_text)` starts over at the beginning each time it is called."
   ]
  },
  {
   "cell_type": "code",
   "execution_count": 49,
   "metadata": {
    "collapsed": true,
    "jupyter": {
     "outputs_hidden": true,
     "source_hidden": true
    }
   },
   "outputs": [
    {
     "data": {
      "text/plain": [
       "[' Directory of c:\\\\users\\\\...\\\\Test Dir Structure',\n",
       " '',\n",
       " '2021-12-27  03:33 PM    <DIR>          .',\n",
       " '2021-12-27  03:33 PM    <DIR>          ..',\n",
       " '2021-12-27  04:03 PM    <DIR>          Dir1',\n",
       " '2021-12-27  05:27 PM    <DIR>          Dir2',\n",
       " '2016-02-25  09:59 PM                 3 TestFile1.txt',\n",
       " '2016-02-15  06:46 PM                 7 TestFile2.rtf',\n",
       " '2016-02-15  06:47 PM                 0 TestFile3.docx',\n",
       " '2016-04-21  01:06 PM              3491 xcopy.txt',\n",
       " '               4 File(s)           3501 bytes']"
      ]
     },
     "execution_count": 49,
     "metadata": {},
     "output_type": "execute_result"
    }
   ],
   "source": [
    "dir_section.read(dir_text)"
   ]
  },
  {
   "cell_type": "code",
   "execution_count": 50,
   "metadata": {
    "collapsed": true,
    "jupyter": {
     "outputs_hidden": true,
     "source_hidden": true
    }
   },
   "outputs": [
    {
     "data": {
      "text/plain": [
       "[' Directory of c:\\\\users\\\\...\\\\Test Dir Structure',\n",
       " '',\n",
       " '2021-12-27  03:33 PM    <DIR>          .',\n",
       " '2021-12-27  03:33 PM    <DIR>          ..',\n",
       " '2021-12-27  04:03 PM    <DIR>          Dir1',\n",
       " '2021-12-27  05:27 PM    <DIR>          Dir2',\n",
       " '2016-02-25  09:59 PM                 3 TestFile1.txt',\n",
       " '2016-02-15  06:46 PM                 7 TestFile2.rtf',\n",
       " '2016-02-15  06:47 PM                 0 TestFile3.docx',\n",
       " '2016-04-21  01:06 PM              3491 xcopy.txt',\n",
       " '               4 File(s)           3501 bytes']"
      ]
     },
     "execution_count": 50,
     "metadata": {},
     "output_type": "execute_result"
    }
   ],
   "source": [
    "dir_section.read(dir_text)"
   ]
  },
  {
   "cell_type": "markdown",
   "metadata": {
    "jupyter": {
     "source_hidden": true
    }
   },
   "source": [
    "By creating an iterator from *dir_text* `dir_text_iter = iter(dir_text)` \n",
    "(representing a text stream source) \n",
    "successive calls to `dir_section.read(dir_text_iter)` \n",
    "will return the next directory group"
   ]
  },
  {
   "cell_type": "code",
   "execution_count": 51,
   "metadata": {
    "collapsed": true,
    "jupyter": {
     "outputs_hidden": true,
     "source_hidden": true
    }
   },
   "outputs": [
    {
     "data": {
      "text/plain": [
       "[' Directory of c:\\\\users\\\\...\\\\Test Dir Structure',\n",
       " '',\n",
       " '2021-12-27  03:33 PM    <DIR>          .',\n",
       " '2021-12-27  03:33 PM    <DIR>          ..',\n",
       " '2021-12-27  04:03 PM    <DIR>          Dir1',\n",
       " '2021-12-27  05:27 PM    <DIR>          Dir2',\n",
       " '2016-02-25  09:59 PM                 3 TestFile1.txt',\n",
       " '2016-02-15  06:46 PM                 7 TestFile2.rtf',\n",
       " '2016-02-15  06:47 PM                 0 TestFile3.docx',\n",
       " '2016-04-21  01:06 PM              3491 xcopy.txt',\n",
       " '               4 File(s)           3501 bytes']"
      ]
     },
     "execution_count": 51,
     "metadata": {},
     "output_type": "execute_result"
    }
   ],
   "source": [
    "dir_text_iter = iter(dir_text)\n",
    "dir_section.read(dir_text_iter)"
   ]
  },
  {
   "cell_type": "code",
   "execution_count": 52,
   "metadata": {
    "collapsed": true,
    "jupyter": {
     "outputs_hidden": true,
     "source_hidden": true
    }
   },
   "outputs": [
    {
     "data": {
      "text/plain": [
       "[' Directory of c:\\\\users\\\\...\\\\Test Dir Structure\\\\Dir1',\n",
       " '',\n",
       " '2021-12-27  04:03 PM    <DIR>          .',\n",
       " '2021-12-27  04:03 PM    <DIR>          ..',\n",
       " '2016-02-15  06:48 PM                 0 File in Dir One.txt',\n",
       " '2021-12-27  03:45 PM    <DIR>          SubFolder1',\n",
       " '2021-12-27  03:45 PM    <DIR>          SubFolder2',\n",
       " '               1 File(s)              0 bytes']"
      ]
     },
     "execution_count": 52,
     "metadata": {},
     "output_type": "execute_result"
    }
   ],
   "source": [
    "dir_section.read(dir_text_iter)"
   ]
  },
  {
   "cell_type": "markdown",
   "metadata": {},
   "source": [
    "## Section Processing\n",
    "\n",
    "Once identified, a section's content can be *processed* before being returned.\n",
    "Automatic processing of the items in a section's content is specified with the \n",
    "*processor* argument in the *Section* definition. \n",
    "\n",
    "The *processor* argument takes a list of functions, *Rules*, or *RuleSets*. If \n",
    "the processor argument is not given or is `None` the items in the section are \n",
    "returned as-is.  *Rules* and *RuleSets* will be discussed in the next section.\n",
    "\n",
    "Processor functions have one required positional argument, the item to be \n",
    "processed.  In addition, the function may contain a second positional argument,\n",
    "a *context* dictionary.  The *context* dictionary will be discussed in a more\n",
    "detail in a later section.  Additional keyword arguments may also be included.  \n",
    "If the keyword matches with a key in the section's *context*, The corresponding \n",
    "*context* value will be supplied.  Otherwise the keyword argument will be \n",
    "ignored.\n",
    "\n",
    "The functions will be applied in list order with the input of the function being \n",
    "the output from the previous function.  This means that the expected input type \n",
    "of a processor function should be able to handle all possible output types from \n",
    "the previous function in the list.\n",
    "\n",
    "Processor functions may also be generator functions, in which case the required \n",
    "positional argument is the sequence to iterate over.  This can be useful if the \n",
    "processing involves skipping items or merging of multiple items.  Examples of \n",
    "this will be given in a separate tutorial."
   ]
  },
  {
   "cell_type": "markdown",
   "metadata": {},
   "source": [
    "### Processing Directory Listing Parts\n",
    "There are 4 different text line types in a directory listing section as we have \n",
    "defined it.  \n",
    "1. The directory path\n",
    "2. Subdirectory listings\n",
    "3. File listings\n",
    "4. number of flies\n",
    "\n",
    "Here we will write simple functions for each line type and a single processor \n",
    "function to handle all 4 types."
   ]
  },
  {
   "cell_type": "markdown",
   "metadata": {},
   "source": [
    "#### Directory Path\n",
    "- The directory path line begins with the text *Directory of*:\n",
    "> `Directory of c:\\users\\...\\Test Dir Structure`\n",
    "- Extract the directory name from the full path:\n",
    "    1. Split the path at the last '\\'. \n",
    "    2. Keep the right hand part after the split.<br>\n",
    "    `text_line.rsplit('\\\\', 1)[1]`\n",
    "- Return a tab delimited line with:\n",
    "    - *Folder Name:* before the tab and \n",
    "    - The directory name after the tab\n",
    "  \n",
    "`output_line = 'Folder Name:\\t' + dir_line.rsplit('\\\\', 1)[1]`"
   ]
  },
  {
   "cell_type": "code",
   "execution_count": 53,
   "metadata": {},
   "outputs": [],
   "source": [
    "def dir_name_split(dir_line):\n",
    "    output_line = 'Folder Name:\\t' + dir_line.rsplit('\\\\', 1)[1]\n",
    "    return output_line"
   ]
  },
  {
   "cell_type": "markdown",
   "metadata": {},
   "source": [
    "#### Number of Files\n",
    "- The last line in the listing gives the number of files in the directory.\n",
    "- That line contains the text *File(s)*:\n",
    "> `\t                4 File(s)           3501 bytes`\n",
    "- Extract the number of files from the beginning of the line:\n",
    "    1. Strip off the initial white space.\n",
    "    2. Split the remaining text after the first space\n",
    "    3. Keep the left hand part before the split.<br>\n",
    "    `text_line.strip().split(' ', 1)[0]`    \n",
    "- Return a tab delimited line with:\n",
    "    - An initial tab\n",
    "    - The text *Number of Files:* followed by another tab\n",
    "    - The extracted number of files.\n",
    "\n",
    "`output_line = 'Number of Files:\\t' + dir_line.strip().split(' ', 1)[0]`"
   ]
  },
  {
   "cell_type": "code",
   "execution_count": 54,
   "metadata": {},
   "outputs": [],
   "source": [
    "def file_count_split(dir_line):\n",
    "    output_line = 'Number of Files:\\t' + dir_line.strip().split(' ', 1)[0]\n",
    "    return output_line"
   ]
  },
  {
   "cell_type": "markdown",
   "metadata": {},
   "source": [
    "#### Subdirectories\n",
    "- Lines containing a directory listing are indicated with the text *\\<DIR\\>*\n",
    "> `2021-12-27  04:03 PM    <DIR>          Dir1`\n",
    "- The name of the subdirectory begins at text column 36<br>\n",
    "    `text_line[36:]`    \n",
    "- Return a tab delimited line with:\n",
    "    - An initial tab\n",
    "    - The text *Subdirectory:* followed by another tab\n",
    "    - The extracted name of the subdirectory.\n",
    "\n",
    "`output_line = '\\tSubdirectory:\\t' + dir_line[36:]`"
   ]
  },
  {
   "cell_type": "code",
   "execution_count": 55,
   "metadata": {},
   "outputs": [],
   "source": [
    "def get_subfolder_name(dir_line):\n",
    "    output_line = '\\tSubdirectory:\\t' + dir_line[36:]\n",
    "    return output_line"
   ]
  },
  {
   "cell_type": "markdown",
   "metadata": {},
   "source": [
    "#### Files\n",
    "- The remaining lines are assumed to contain file information.\n",
    "- `\t 2016-02-25  09:59 PM                 3 TestFile1.txt`\n",
    "- The name of the file begins at text column 36<br>\n",
    "    `text_line[36:]`    \n",
    "- Return a tab delimited line with:\n",
    "    - An initial tab\n",
    "    - The text *File:* followed by another tab\n",
    "    - The extracted name of the file.\n",
    "\n",
    "`output_line = '\\tFile:\\t\\t' + dir_line[36:]`"
   ]
  },
  {
   "cell_type": "code",
   "execution_count": 56,
   "metadata": {},
   "outputs": [],
   "source": [
    "def get_file_name(dir_line):\n",
    "    output_line = '\\tFile:\\t\\t' + dir_line[36:]\n",
    "    return output_line"
   ]
  },
  {
   "cell_type": "markdown",
   "metadata": {},
   "source": [
    "#### Process Directory Function\n",
    "Combine the above functions into one function that checks for the appropriate line"
   ]
  },
  {
   "cell_type": "code",
   "execution_count": 57,
   "metadata": {},
   "outputs": [],
   "source": [
    "def process_directory(dir_line):\n",
    "    # Get the directory name\n",
    "    if 'Directory of' in dir_line:\n",
    "        output_line = dir_name_split(dir_line)\n",
    "    # Label the subdirectories\n",
    "    elif '<DIR>' in dir_line:\n",
    "        output_line = get_subfolder_name(dir_line)\n",
    "    # Label the file counts\n",
    "    elif 'File(s)' in dir_line:\n",
    "        output_line = file_count_split(dir_line)\n",
    "    # Label the files\n",
    "    else:\n",
    "        output_line = get_file_name(dir_line)\n",
    "    return output_line "
   ]
  },
  {
   "cell_type": "markdown",
   "metadata": {},
   "source": [
    "#### New Dir Section Definition"
   ]
  },
  {
   "cell_type": "code",
   "execution_count": 58,
   "metadata": {},
   "outputs": [
    {
     "name": "stdout",
     "output_type": "stream",
     "text": [
      "Folder Name:\tTest Dir Structure\n",
      "\tFile:\t\t\n",
      "\tSubdirectory:\t   .\n",
      "\tSubdirectory:\t   ..\n",
      "\tSubdirectory:\t   Dir1\n",
      "\tSubdirectory:\t   Dir2\n",
      "\tFile:\t\t 3 TestFile1.txt\n",
      "\tFile:\t\t 7 TestFile2.rtf\n",
      "\tFile:\t\t 0 TestFile3.docx\n",
      "\tFile:\t\t91 xcopy.txt\n",
      "Number of Files:\t4\n"
     ]
    }
   ],
   "source": [
    "dir_section = Section(start_section='Directory of',\n",
    "                      end_section=SectionBreak('File(s)', break_offset='After'),\n",
    "                      processor=[process_directory])\n",
    "\n",
    "output = dir_section.read(dir_text)\n",
    "for line in output:\n",
    "    print(line)"
   ]
  },
  {
   "cell_type": "markdown",
   "metadata": {},
   "source": [
    "# *DONE TO HERE*"
   ]
  },
  {
   "cell_type": "markdown",
   "metadata": {},
   "source": [
    "1. Section Assembles\n",
    "2. Subsections\n",
    "3. Using the Context dictionary\n",
    "    1. Setting context values when calling Section.read\n",
    "    2. Accessing default context values\n",
    "4. assemble options"
   ]
  },
  {
   "cell_type": "markdown",
   "metadata": {},
   "source": [
    "## Sub-Sections\n",
    "As mentioned above, there are 4 different text line types in a directory listing \n",
    "section *as we have defined it*.  However, we could define the directory listing section as a sequence of 3 sub-sections:\n",
    "1. The directory path\n",
    "2. Subdirectory and File listings\n",
    "3. number of flies\n",
    "\n",
    "Here we will write these three sub-section definitions and combine them as \n",
    "sub-sections in a directory listing section."
   ]
  },
  {
   "cell_type": "markdown",
   "metadata": {},
   "source": [
    "### Directory Name and File Count Processing Functions"
   ]
  },
  {
   "cell_type": "markdown",
   "metadata": {},
   "source": [
    "As a reminder, A typical directory listing is shown below:"
   ]
  },
  {
   "cell_type": "code",
   "execution_count": 59,
   "metadata": {
    "collapsed": true,
    "jupyter": {
     "outputs_hidden": true,
     "source_hidden": true
    }
   },
   "outputs": [
    {
     "name": "stdout",
     "output_type": "stream",
     "text": [
      "\t  Directory of c:\\users\\...\\Test Dir Structure\n",
      "\t \n",
      "\t 2021-12-27  03:33 PM    <DIR>          .\n",
      "\t 2021-12-27  03:33 PM    <DIR>          ..\n",
      "\t 2021-12-27  04:03 PM    <DIR>          Dir1\n",
      "\t 2021-12-27  05:27 PM    <DIR>          Dir2\n",
      "\t 2016-02-25  09:59 PM                 3 TestFile1.txt\n",
      "\t 2016-02-15  06:46 PM                 7 TestFile2.rtf\n",
      "\t 2016-02-15  06:47 PM                 0 TestFile3.docx\n",
      "\t 2016-04-21  01:06 PM              3491 xcopy.txt\n",
      "\t                4 File(s)           3501 bytes\n",
      "\t \n"
     ]
    }
   ],
   "source": [
    "for line in dir_text[3:15]:\n",
    "    print('\\t', line)"
   ]
  },
  {
   "cell_type": "markdown",
   "metadata": {},
   "source": [
    "We will use the same directory name and file count processing functions as \n",
    "before, but for simplicity will combine the file and subdirectory processing \n",
    "functions."
   ]
  },
  {
   "cell_type": "code",
   "execution_count": 60,
   "metadata": {},
   "outputs": [],
   "source": [
    "def dir_name_split(dir_line: str) -> str:\n",
    "    '''Extract the folder name from the full path.\n",
    "\n",
    "    Args:\n",
    "        dir_line (str): The directory path line from a DIR folder listing.\n",
    "    \n",
    "    Returns (str): A tab delimited line with 'Folder Name:' before the tab and\n",
    "        the folder name after the tab.\n",
    "    '''\n",
    "    output_line = 'Folder Name:\\t' + dir_line.rsplit('\\\\', 1)[1]\n",
    "    return output_line\n",
    "    \n",
    "\n",
    "def file_count_split(dir_line: str) -> str:\n",
    "    '''Extract the number of files from the \"File(s)\" DIR line.\n",
    "\n",
    "    Args:\n",
    "        dir_line (str): The \"File(s)\" line from a DIR folder listing.\n",
    "    \n",
    "    Returns (str): A tab delimited line with 'Number of Files:' before the tab \n",
    "        and the extracted number of files after the tab.\n",
    "    '''\n",
    "    output_line = 'Number of Files:\\t' + dir_line.strip().split(' ', 1)[0]\n",
    "    return output_line"
   ]
  },
  {
   "cell_type": "markdown",
   "metadata": {},
   "source": [
    "#### File Names Processing Function"
   ]
  },
  {
   "cell_type": "code",
   "execution_count": 61,
   "metadata": {
    "collapsed": true,
    "jupyter": {
     "outputs_hidden": true,
     "source_hidden": true
    }
   },
   "outputs": [
    {
     "name": "stdout",
     "output_type": "stream",
     "text": [
      "00000000001111111111222222222233333333334444444444\n",
      "01234567890123456789012345678901234567890123456789\n",
      "                                       |\n",
      "2021-12-27  04:03 PM    <DIR>          Dir1\n",
      "2016-04-21  01:06 PM              3491 xcopy.txt\n",
      "                                       |\n"
     ]
    }
   ],
   "source": [
    "divider = ' '*39 + '|'\n",
    "\n",
    "print(''.join(str(i)*10 for i in range(5)))\n",
    "print(''.join(str(i) for i in range(10))*5)\n",
    "print(divider)\n",
    "print(dir_text[7])\n",
    "print(dir_text[12])\n",
    "print(divider)"
   ]
  },
  {
   "cell_type": "markdown",
   "metadata": {},
   "source": [
    "- Lines in between the directory path line and the \"File(s)\" DIR line contain \n",
    "  subdirectory or file names.\n",
    "- Lines containing a directory listing are indicated with the text '\\<DIR\\>'\n",
    "    > `2021-12-27  04:03 PM    <DIR>          Dir1`\n",
    "- Lines containing a file listing have the same format except without the \n",
    "  '\\<DIR\\>' text.\n",
    "    > `2016-02-25  09:59 PM                 3 TestFile1.txt`\n",
    "- The name of the file or subdirectory begins at text column 39\n",
    "    > `text_line[39:]`   "
   ]
  },
  {
   "cell_type": "code",
   "execution_count": 62,
   "metadata": {},
   "outputs": [],
   "source": [
    "def get_file_name(dir_line: str) -> str:\n",
    "    '''Extract the name of the file or subdirectory from a DIR line.\n",
    "\n",
    "    Args:\n",
    "        dir_line (str): A main listing line from a DIR folder listing.\n",
    "    \n",
    "    Returns (str): A tab delimited line with 'File:' or 'Subdirectory:'before \n",
    "        the tab and the extracted name of the file or subdirectory after \n",
    "        the tab.\n",
    "    '''\n",
    "    if len(dir_line) < 39:  # This deals with blank lines.\n",
    "        output_line = ''\n",
    "    elif '<DIR>' in dir_line:  # Contains a subdirectory name.\n",
    "        output_line = '\\tSubdirectory:\\t' + dir_line[39:]\n",
    "    else:  # Contains a file name.\n",
    "        output_line = '\\tFile:\\t\\t' + dir_line[39:]\n",
    "    return output_line"
   ]
  },
  {
   "cell_type": "markdown",
   "metadata": {},
   "source": [
    " ##### File and Sub-directory Section Start and End\n",
    "- The subdirectory or file listings begins **after** the line containing the \n",
    "  text '*Directory of*'\n",
    "- The subdirectory or file listings end **before** the line containing the text \n",
    "- '*File(s)*' "
   ]
  },
  {
   "cell_type": "markdown",
   "metadata": {},
   "source": [
    "### Sub-Section Definitions\n",
    "The start and end of the folder listing can be identified by key phrases:\n",
    "- The section start is identified by the text '*Directory of*'\n",
    "- The section end is identified by the text '*File(s)*'\n",
    "\n",
    "\n",
    "- The directory path line is the first line in the folder listing, so we do not \n",
    "  need to define a `start_section`[1].\n",
    "- All on the sub-section we define for the folder listing section can be assumed \n",
    "  to begin immediately after the end of the previous sub-section. This means we\n",
    "  do not need to define a `start_section` for any of the sub-sections.\n",
    "- The `dir_path` and `file_count` sections are both a single lines, so we wish \n",
    "  to stop after the first line.\n",
    "- To do this, `end_section` is set to `True` so that it will unconditionally \n",
    "  stop after the first line.\n",
    "- The `file_listing` section end is identified by the text '*File(s)*' on the \n",
    "  next line. The `SectionBreak` argument `break_offset` is set to '*Before*', which allows the next sub-section `file_count` to begin with that line.\n",
    "\n",
    "[1]: **NOTE:** A section's `end_section` and any sub-sections `start_section` begin checking with the *Second Item* in the section.  If we set \n",
    "`start_section='Directory of'` for this sub-section, is would search for the \n",
    "*next* occurrence of 'Directory of', which doesn't exist; and so would return \n",
    "a empty sub-sections.  This is a deliberate arrangement to make it possible to identify repeating sub-sections using identical `start_section` and \n",
    "`end_section`.\n"
   ]
  },
  {
   "cell_type": "code",
   "execution_count": 63,
   "metadata": {},
   "outputs": [],
   "source": [
    "dir_path = Section(\n",
    "    end_section=SectionBreak(True), \n",
    "    processor=[dir_name_split]\n",
    "    )\n",
    "\n",
    "\n",
    "file_count = Section(\n",
    "    end_section=SectionBreak(True), \n",
    "    processor=[file_count_split]\n",
    "    )\n",
    "\n",
    "\n",
    "file_listing = Section(\n",
    "    start_section=SectionBreak('Directory of', break_offset='After'),\n",
    "    end_section=SectionBreak('File(s)', break_offset='Before'),\n",
    "    processor=[get_file_name]\n",
    "    )"
   ]
  },
  {
   "cell_type": "markdown",
   "metadata": {},
   "source": [
    "#### Combining Sub-Section to Form a New Section.\n",
    "The `dir_section`,`filename_section`, and `files_section` can be combined to form a full directory listing section:\n",
    "*Note:* The Sub-sections must be combined in the order they will appear in the source."
   ]
  },
  {
   "cell_type": "code",
   "execution_count": 64,
   "metadata": {},
   "outputs": [
    {
     "data": {
      "text/plain": [
       "[None]"
      ]
     },
     "execution_count": 64,
     "metadata": {},
     "output_type": "execute_result"
    }
   ],
   "source": [
    "dir_section = Section(\n",
    "    start_section='Directory of',\n",
    "    end_section=SectionBreak('File(s)', break_offset='After'),\n",
    "    processor=[dir_path, file_listing, file_count]\n",
    "    )\n",
    "\n",
    "dir_section.read(dir_text)\n",
    "# FIXME List of subsections returning None"
   ]
  },
  {
   "cell_type": "code",
   "execution_count": 39,
   "metadata": {
    "collapsed": true,
    "jupyter": {
     "outputs_hidden": true,
     "source_hidden": true
    }
   },
   "outputs": [
    {
     "name": "stdout",
     "output_type": "stream",
     "text": [
      "\t  Directory of c:\\users\\...\\Test Dir Structure\n",
      "\t \n",
      "\t 2021-12-27  03:33 PM    <DIR>          .\n",
      "\t 2021-12-27  03:33 PM    <DIR>          ..\n",
      "\t 2021-12-27  04:03 PM    <DIR>          Dir1\n",
      "\t 2021-12-27  05:27 PM    <DIR>          Dir2\n",
      "\t 2016-02-25  09:59 PM                 3 TestFile1.txt\n",
      "\t 2016-02-15  06:46 PM                 7 TestFile2.rtf\n",
      "\t 2016-02-15  06:47 PM                 0 TestFile3.docx\n",
      "\t 2016-04-21  01:06 PM              3491 xcopy.txt\n",
      "\t                4 File(s)           3501 bytes\n",
      "\t \n",
      "\t  Directory of c:\\users\\...\\Test Dir Structure\\Dir1\n",
      "\t \n",
      "\t 2021-12-27  04:03 PM    <DIR>          .\n",
      "\t 2021-12-27  04:03 PM    <DIR>          ..\n",
      "\t 2016-02-15  06:48 PM                 0 File in Dir One.txt\n"
     ]
    }
   ],
   "source": [
    "for line in dir_text[3:20]:\n",
    "    print('\\t', line)"
   ]
  },
  {
   "cell_type": "markdown",
   "metadata": {},
   "source": [
    "## Section Assembles\n",
    "\n",
    "A section's content can be summarized by supplying the section with an \n",
    "`assemble` method.  The `assemble` argument takes an *assemble* function; one\n",
    "that combines the section sequence into a single object."
   ]
  },
  {
   "cell_type": "markdown",
   "metadata": {},
   "source": [
    "#### assemble Functions\n",
    "assemble function are functions that can act on a sequence to combine them in \n",
    "some form.  The simplest assemble function (and also the default) is the \n",
    "built-in list command.\n",
    "\n",
    "The assemble function has one required positional argument, the sequence to be \n",
    "assembled.  In addition, the function may contain a second positional argument,\n",
    "a *context* dictionary.  The *context* dictionary will be discussed in a more\n",
    "detail in a later section.  Additional keyword arguments may also be included.  \n",
    "If the keyword matches with a key in the section's *context*, The corresponding \n",
    "*context* value will be supplied.  Otherwise the keyword argument will be \n",
    "ignored."
   ]
  },
  {
   "cell_type": "markdown",
   "metadata": {},
   "source": [
    "1. Use Processor function as assemble\n",
    "2. assemble function to build dictionary\n",
    "3. assemble function for user interaction (for Later)"
   ]
  },
  {
   "cell_type": "markdown",
   "metadata": {},
   "source": [
    "## Documentation"
   ]
  },
  {
   "cell_type": "code",
   "execution_count": 40,
   "metadata": {
    "jupyter": {
     "source_hidden": true
    }
   },
   "outputs": [],
   "source": [
    "#print(Section.__doc__)\n",
    "#print(SectionBreak.__init__.__doc__)\n",
    "#print(Section.__init__.__doc__)\n",
    "#print(ProcessingMethods.__doc__)\n",
    "#print(ProcessingMethods.__init__.__doc__)\n",
    "#print(Rule.__doc__)\n",
    "#print(Rule.__init__.__doc__)\n",
    "#print(RuleSet.__doc__)\n",
    "#print(RuleSet.__init__.__doc__)\n",
    "\n",
    "#from sections import Trigger, TriggerEvent\n",
    "#print(Trigger.__doc__)\n",
    "#print(Trigger.__init__.__doc__)\n",
    "#print(TriggerEvent.__doc__)\n",
    "#print(TriggerEvent.__init__.__doc__)\n"
   ]
  },
  {
   "cell_type": "raw",
   "metadata": {},
   "source": [
    "Trigger.__doc__\n",
    "Test definition for evaluating a source item.\n",
    "\n",
    "    A trigger is formed by a conditional definition to be applied to source\n",
    "    items.  The conditional definition is generated from one of the following\n",
    "    sentinel types:\n",
    "\n",
    "        None:   A place holder conditional that will never pass.\n",
    "\n",
    "        bool:   A conditional that will either always pass or always fail.\n",
    "\n",
    "        int:    A conditional that will pass after being called the specified\n",
    "                number of times. -- Not Yet Implemented.\n",
    "\n",
    "        str or List[str]:\n",
    "                A conditional that will pass if the item being tested matches\n",
    "                with the string (or with any of the strings in the list).  The\n",
    "                location attribute dictates the type of match required.\n",
    "\n",
    "        re.Pattern or List[re.Pattern]:  Compiled regular expression pattern(s)\n",
    "            A conditional that will pass if the pattern (or one of the patterns\n",
    "            in the list) successfully matches in the item being tested. The\n",
    "            location attribute dictates the type of regular expression match\n",
    "            required. Regular Expression patterns must be compiled with\n",
    "            re.compile(string) to distinguish them from plain text sentinels.\n",
    "\n",
    "        Callable or List[Callable]:\n",
    "                A conditional that will pass if the sentinel function (or one\n",
    "                of the functions in the list) returns a non-blank\n",
    "                (None, '', []) value when applied to the item being tested.\n",
    "\n",
    "    The location argument is a sentinel modifier that applies to str or\n",
    "        re.Pattern types of sentinels. location can be one of:\n",
    "            location    str test                    re.Pattern test\n",
    "              IN      sentinel in item            sentinel.search(item)\n",
    "              START   item.startswith(sentinel)   sentinel.match(item)\n",
    "              END     item.endswith(sentinel),    NotImplementedError\n",
    "              FULL    sentinel == item            sentinel.fullmatch(item)\n",
    "\n",
    "    When a test is applied, the event property is updated based on whether the\n",
    "        test passes and the type of test.\n",
    "\n",
    "        If the test fails:\n",
    "            event -> None.\n",
    "\n",
    "        If the test passes:\n",
    "            sentinel Type                   event Type\n",
    "\n",
    "            bool (True)                     bool (True)\n",
    "\n",
    "            int:                            int: the integer value of the\n",
    "                                                sentinel.\n",
    "\n",
    "            str or List[str]                str: the specific string in the\n",
    "                                                list that caused the pass.\n",
    "\n",
    "            re.Pattern or List[re.Pattern]  re.match: the match object\n",
    "                                                generated by applying the\n",
    "                                                pattern to the item.\n",
    "\n",
    "            Callable or List[Callable]      Any: The return value of the\n",
    "                                                successful function.\n",
    "\n",
    "    If the supplied sentinel is a list of strings, compiled regular expressions\n",
    "    or functions, the trigger will step through each sentinel element in the\n",
    "    list, evaluating them against the supplied item to test.  When a test\n",
    "    passes, no additional items in the list will be tested.\n",
    "\n",
    "    Attributes:\n",
    "            sentinel (None, bool, int, str, re.Pattern, Callable, or\n",
    "                      List[str], List[re.Pattern], List[Callable]): The\n",
    "                object(s) used to generate the conditional definition.\n",
    "\n",
    "                Note: int type sentinel is not yet implemented.\n",
    "\n",
    "            name (str, optional): A reference label for the Trigger.\n",
    "                A reference name for the section instance.\n",
    "\n",
    "            event (TriggerEvent): Information resulting from applying the test.\n",
    "    \n"
   ]
  },
  {
   "cell_type": "raw",
   "metadata": {},
   "source": [
    "Trigger.__init__.__doc__\n",
    "Define test(s) that signal a trigger event.\n",
    "\n",
    "        Arguments:\n",
    "            name (str, optional): A reference label for the Trigger.\n",
    "            sentinel (TriggerOptions): Object(s) used to generate the\n",
    "                conditional definition.\n",
    "                Note: int type sentinel is not yet implemented.\n",
    "            location (str, optional):  A sentinel modifier that applies to str\n",
    "                or re.Pattern types of sentinels. For other sentinel types it\n",
    "                is ignored. One of  ['IN', 'START', 'END', 'FULL', None].\n",
    "                Default is None, which is treated as 'IN'\n",
    "                if sentinel is a string type:\n",
    "                    location == 'IN' -> sentinel in line,\n",
    "                    location == 'START' -> line.startswith(sentinel), in line,\n",
    "                    location == 'END' -> line.endswith(sentinel),\n",
    "                    location == 'FULL' -> sentinel == line.\n",
    "                if sentinel is a Regular Expression type:\n",
    "                    location == 'IN' -> sentinel.search(line),\n",
    "                    location == 'START' -> sentinel.match(line),\n",
    "                    location == 'FULL' -> sentinel.fullmatch(line),\n",
    "                    location == 'END' -> raise NotImplementedError."
   ]
  },
  {
   "cell_type": "raw",
   "metadata": {},
   "source": [
    "TriggerEvent.__doc__\n",
    "Trigger test result information.\n",
    "\n",
    "    Attributes:\n",
    "        trigger_name (str): The name of the trigger the test is associated\n",
    "            with.\n",
    "        test_passed (bool): True if one of the applied tests passed; otherwise\n",
    "            False.\n",
    "        test_name (str): Label describing the passed text. Defaults to ''.\n",
    "            The test name type depends on sentinel_type:\n",
    "            type(sentinel)      test_name\n",
    "              None                'None'\n",
    "              bool                str(sentinel)\n",
    "              int                 str(sentinel)\n",
    "              str                 sentinel\n",
    "              List[str]           The sentinel item triggering the event\n",
    "              re.Pattern          sentinel.pattern\n",
    "              List[re.Pattern]    sentinel.pattern for the triggering item.\n",
    "              Callable            sentinel.__name__\n",
    "              List[Callable]      sentinel.__name__ for the triggering item.\n",
    "        test_value (EventType): Information resulting from applying the test.\n",
    "            The test_value object type depends on sentinel_type:\n",
    "                type(sentinel)      type(test_value)\n",
    "                  None                bool = False\n",
    "                  bool                bool\n",
    "                  int                 int = sentinel\n",
    "                  str                 str = sentinel\n",
    "                  List[str]           str = one of sentinel items\n",
    "                  re.Pattern          re.match\n",
    "                  List[re.Pattern]    re.match\n",
    "                  Callable            CallableResult\n",
    "                  List[Callable]      CallableResult"
   ]
  },
  {
   "cell_type": "raw",
   "metadata": {},
   "source": [
    "Rule.__doc__\n",
    "Defines action to take on an item depending on the result of a test.\n",
    "\n",
    "    A Rule is a subclass of Trigger, with two additional attributes and\n",
    "    related methods:\n",
    "        pass_method RuleMethod: The method to apply if the test passes.\n",
    "        fail_method RuleMethod: The method to apply if the test fails.\n",
    "\n",
    "    An additional default_method class attribute defines the action to assign\n",
    "    for undefined pass or fail methods.\n",
    "\n",
    "    Both pass_method and fail_method should have one of the following\n",
    "    argument signatures:\n",
    "        rule_method(item: SourceItem)\n",
    "        rule_method(item: SourceItem, ** context)\n",
    "        rule_method(item: SourceItem, event: TriggerEvent)\n",
    "        rule_method(item: SourceItem, event: TriggerEvent, **context)\n",
    "        rule_method(item: SourceItem, event: TriggerEvent, context)\n",
    "\n",
    "    Both pass_method and fail_method should return the same data type. No\n",
    "    checking is done to validate this.\n",
    "\n",
    "    In addition to a callable, the pass, fail and default attributes can be\n",
    "    the names of standard actions:\n",
    "        'Original': return the item being.\n",
    "        'Event': return the self.event object.\n",
    "        'Value': return the self.event.test_value object.\n",
    "        'Name': return the self.event.test_name object.\n",
    "        'None': return None\n",
    "        'Blank': return ''  (an empty string)\n",
    "\n",
    "    Attributes:\n",
    "        sentinel (None, bool, int, str, re.Pattern, Callable, or\n",
    "                  List[str], List[re.Pattern], List[Callable]): the object(s)\n",
    "            used to generate the conditional definition.\n",
    "        event (TriggerEvent): Information resulting from applying the test.\n",
    "        name (str): A text label for the rule.\n",
    "        pass_method (Callable, str, optional): The method to apply if the test\n",
    "            passes.\n",
    "        fail_method (Callable, str, optional): The method to apply if the test\n",
    "            fails.\n",
    "    ClassLevelAttribute:\n",
    "        default_method (Callable, str, optional): The method to use as the\n",
    "            pass or fail method if not specified defaults to 'Original'.\n",
    "    See Trigger class for more information on the sentinel and event attributes.\n",
    "    \n"
   ]
  },
  {
   "cell_type": "raw",
   "metadata": {},
   "source": [
    "Rule.__init__.__doc__\n",
    "Apply a method based on trigger test result.\n",
    "\n",
    "        Arguments:\n",
    "            sentinel (TriggerOptions): Object(s) used to generate the\n",
    "                conditional definition.\n",
    "            location (str, optional):  A sentinel modifier that applies to str\n",
    "                or re.Pattern types of sentinels. For other sentinel types it\n",
    "                is ignored. One of  ['IN', 'START', 'END', 'FULL', None].\n",
    "                Default is None, which is treated as 'IN'\n",
    "\n",
    "            See Trigger class for more information on the sentinel and event\n",
    "            arguments.\n",
    "\n",
    "            name (str, optional): A reference label for the Rule.\n",
    "\n",
    "            pass_method (RuleMethodOptions): A function, or the name of a\n",
    "                standard action to be implemented if the test passes on the\n",
    "                supplied item.\n",
    "            fail_method (RuleMethodOptions): A function, or the name of a\n",
    "                standard action to be implemented if the test fails on the\n",
    "                supplied item.\n",
    "\n",
    "        Both pass_method and fail_method should have one of the following\n",
    "        argument signatures:\n",
    "                rule_method(item: SourceItem)\n",
    "                rule_method(item: SourceItem, **context)\n",
    "                rule_method(item: SourceItem, event: TriggerEvent)\n",
    "                rule_method(item: SourceItem, event: TriggerEvent, **context)\n",
    "                rule_method(item: SourceItem, event: TriggerEvent, context)\n",
    "        Instead of a callable, pass_method and fail_method can be the name of a\n",
    "        standard actions:\n",
    "                'Original': return the item being.\n",
    "                'Event': return the self.event object.\n",
    "                'Value': return the self.event.test_value object.\n",
    "                'Name': return the self.event.test_name object.\n",
    "                'None': return None\n",
    "                'Blank': return ''  (an empty string)\n",
    "        Both pass_method and fail_method should return the same data type. No\n",
    "        checking is done to validate this.\n",
    "        \n"
   ]
  },
  {
   "cell_type": "raw",
   "metadata": {},
   "source": [
    "RuleSet.__doc__\n",
    "Combines related Rules to provide multiple choices for actions.\n",
    "\n",
    "    A Rule Set takes A sequence of Rules and a default method each Rule in the\n",
    "    sequence will be applied to the input until One of the rules triggers. At\n",
    "    that point The sequence ends.  if no Rule triggers then the default method\n",
    "    is applied.  Each of the Rules (and the default) should expect the same\n",
    "    input type and should produce the same output type.\n",
    "\n",
    "    The default_method should have one of the following argument signatures:\n",
    "        rule_method(item: SourceItem)\n",
    "        rule_method(item: SourceItem, context)\n",
    "\n",
    "    The default_method can also be the names of a standard action:\n",
    "        'Original': return the item being.\n",
    "        'None': return None\n",
    "        'Blank': return ''  (an empty string)\n",
    "\n",
    "    All Rules in the RuleSet Should expect the same input data type and should\n",
    "    return the same data type. No checking is done to validate this.  The\n",
    "    return type from the default method should also match that of the Rules.\n",
    "\n",
    "    Attributes:\n",
    "        rule_seq (List[Rule]): The Rules to apply to the supplied object. The\n",
    "        result on only one of the Rules will be returned (the first one to\n",
    "        pass).  If none of the Rules pass, the output from the default method\n",
    "        will be returned.\n",
    "\n",
    "        default_method (ProcessFunc): The method to apply if none of the Rules\n",
    "            pass.\n",
    "        name (str): A text label for the rule set.\n",
    "    \n"
   ]
  },
  {
   "cell_type": "raw",
   "metadata": {},
   "source": [
    "RuleSet.__init__.__doc__\n",
    "Apply a sequence of Rules, stopping with the first Rule to pass.\n",
    "\n",
    "        A RuleSet is a combination of Rules that expect similar input and\n",
    "        produce similar output. The rules are applied one-by-one to the input\n",
    "        object, stopping a rule passes. The output from that rule is returned\n",
    "        and all of the remaining rules in the set are skipped.\n",
    "\n",
    "        A default_method attribute defines the action to take if none of the\n",
    "        Rules in the set pass.\n",
    "\n",
    "        Arguments:\n",
    "            rule_list (List[Rule]): A list of rules to apply in the order\n",
    "                they are to be applied.\n",
    "            default (ProcessMethodOptions):  The method to apply if none of the\n",
    "                Rules pass. The default_method should have one of the\n",
    "                following argument signatures:\n",
    "                    rule_method(item: SourceItem)\n",
    "                    rule_method(item: SourceItem, context)\n",
    "                Or be the names of a standard action:\n",
    "                    'Original': return the item being.\n",
    "                    'Event': return the self.event object.\n",
    "                    'None': return None\n",
    "                    'Blank': return ''  (an empty string)\n",
    "                Defaults to 'None'.\n",
    "            name (str, optional): A reference label for the RuleSet.\n",
    "\n",
    "        All Rules in the RuleSet Should expect the same input data type and\n",
    "        should return the same data type. No checking is done to validate this.\n",
    "        The return type from the default method should also match that of the\n",
    "        Rules.\n",
    "        \n"
   ]
  },
  {
   "cell_type": "raw",
   "metadata": {},
   "source": [
    "ProcessingMethods.__init__.__doc__\n",
    "Applies a series of functions to a supplied sequence of items.\n",
    "\n",
    "        Processing functions should accept one the following argument sets:\n",
    "            func(item)\n",
    "            func(item, ** context)\n",
    "            func(item, context)\n",
    "            func(item, [other(s),] ** context)\n",
    "\n",
    "        Arguments:\n",
    "            processing_methods (ProcessGroup): The sequence of Processes\n",
    "                (functions, generator functions, Rules, and/or RuleSets) to be\n",
    "                applied to the section source.\n",
    "            name (str): Reference label for the processing method.\n",
    "                Defaults to 'Processor'"
   ]
  },
  {
   "cell_type": "raw",
   "metadata": {},
   "source": [
    "ProcessingMethods.__doc__\n",
    "Applies a series of functions to a supplied sequence of items.\n",
    "\n",
    "    Processing Methods combines a series of functions, generator functions,\n",
    "    Rules, and/or Rule Sets (Processes) to produce a single generator function.\n",
    "    The generator function will iterate through a supplied source of items\n",
    "    returning the final processed item. The output type of each Process must\n",
    "    match the expected input type of the next Process in the series.  No\n",
    "    validation tests are done on this.\n",
    "\n",
    "    A Process applied to a Source (a sequence of SourceItems) results in\n",
    "    a sequence of ProcessedItems.  The relation between SourceItems and\n",
    "    ProcessedItems is not necessarily 1:1.\n",
    "       1 SourceItem ≠1 ProcessedItem;\n",
    "    \t  • 1 SourceItem → 1 ProcessedItem\n",
    "    \t  • 1 SourceItem → 2+ ProcessedItems\n",
    "    \t  • 2+ SourceItems → 1 ProcessedItem\n",
    "\n",
    "    Generator functions are used when multiple input items are\n",
    "    required to generate an output item, or when one SourceItem results in\n",
    "    multiple ProcessedItems. In general, regular functions are used when there\n",
    "    is a one-to-one correspondence between input item and output item.  RuleSets\n",
    "    are used when the function that should be applied to the SourceItem(s)\n",
    "    depends on the result of one or more tests (Triggers).  Individual Rules can\n",
    "    be used when only a single Trigger is required (by using both the Pass and\n",
    "    Fail methods of the Rule) or to modify some of the SourceItems while leaving\n",
    "    others unchanged (by setting the Fail method to 'Original').  For Rules or\n",
    "    RuleSets it is important that the output is of the same type regardless of\n",
    "    whether the Trigger(s) pass or fail.\n",
    "\n",
    "    Processing functions should accept one the following argument sets:\n",
    "        func(item)\n",
    "        func(item, ** context)\n",
    "        func(item, context)\n",
    "        func(item, [other(s),] ** context)\n",
    "\n",
    "    Arguments:\n",
    "        processing_methods (ProcessGroup): The sequence of Processes (functions,\n",
    "            generator functions, Rules, and/or RuleSets) to be applied to a\n",
    "            source.\n",
    "        name (str): Reference label for the processing method.\n",
    "            Defaults to 'Processor'\n",
    "\n",
    "    Methods:\n",
    "        process(self, item, context)->RuleResult:\n",
    "        reader(self, buffered_source, context):\n",
    "        read(self, buffered_source, context):\n",
    "            a generator function, accepting a source text stream\n",
    "                and yielding the processed text. Defaults to None, which sets\n",
    "                a basic csv parser.\n",
    "    \n"
   ]
  },
  {
   "cell_type": "raw",
   "metadata": {},
   "source": [
    "Section.__doc__\n",
    "Defines a continuous portion of a text stream or other iterable.\n",
    "\n",
    "    A section definition may include:\n",
    "        ○ Starting and ending break points.\n",
    "        ○ Processing instructions.\n",
    "        ○ An assembly method.\n",
    "\n",
    "    A Section instance is created by defining one or more of these components.\n",
    "    Once a section has been defined, it can be applied to an iterator using:\n",
    "        section.read(source)\n",
    "        Where\n",
    "            source is any iterable supplying the text lines to be parsed.\n",
    "\n",
    "    section.read, the primary method has the following steps:\n",
    "        1. Iterate through the text source, checking for the start of the\n",
    "            section (optional).\n",
    "        2. Continue to iterate through the text source, applying the defined\n",
    "            processing rules to each line, while checking for the end of the\n",
    "            section.\n",
    "        3. Apply an assembling function to the processed text to convert it\n",
    "            to the desired output format.\n",
    "\n",
    "    section.scan and section.process are alternate methods.\n",
    "        section.scan returns a generator that starts at the beginning of the\n",
    "            section and iterates through to the end of the section without\n",
    "            applying any processing or assembly.\n",
    "\n",
    "        section.process returns a generator that starts at the beginning of\n",
    "            the section and iterates through to the end of the section\n",
    "            applying the defined processing, but omitting the assembly.\n",
    "\n",
    "    Attributes:\n",
    "            section_name (str): A reference name for the section instance.\n",
    "            keep_partial (bool): In the case where the reader is\n",
    "                composed of one or more subsections and the main section ends\n",
    "                before the subsections end. If keep_partial is true the partial\n",
    "                subsection(s) will be returned, otherwise they will be dropped.\n",
    "            scan_status (str): Indicates section reading progress. It is useful\n",
    "                for providing user feedback when the section reading process\n",
    "                is lengthy.  scan_status Will contain one of the following\n",
    "                text strings:\n",
    "                   'Not Started'\n",
    "                   'At the start of section {section_name}'\n",
    "                   'Scan In Progress'\n",
    "                   'Break Triggered'\n",
    "                   'Scan Complete'\n",
    "            context (Dict[str, Any]): Break point information and any\n",
    "                additional information to be passed to and from break point,\n",
    "                processing and assembly methods. This is the primary method\n",
    "                for different reading stages to pass contextual information.\n",
    "                When a section boundary is encountered (including sub-sections)\n",
    "                two items will be added to the context dictionary:\n",
    "                    'Break': (str): The name of the Trigger instance that\n",
    "                        activated the boundary condition.\n",
    "\n",
    "                    'Event' (bool, str, re.match): Information on the\n",
    "                        boundary condition returned by the Trigger instance.\n",
    "                            If Trigger always passes, 'Event' will be True.\n",
    "                            If Trigger matched a string, bool, 'Event' will\n",
    "                                be the matching string.\n",
    "\n",
    "                            If Trigger matched a regular expression, 'Event'\n",
    "                                will be the resulting re.match object.\n",
    "  \n"
   ]
  },
  {
   "cell_type": "raw",
   "metadata": {},
   "source": [
    "SectionBreak.__init__.__doc__\n",
    "Defines trigger and offset for a Boundary point.\n",
    "\n",
    "        Arguments:\n",
    "            sentinel (TriggerOptions): Object(s) used to generate the\n",
    "                conditional definition.\n",
    "            location (str, optional):  A sentinel modifier that applies to str\n",
    "                or re.Pattern types of sentinels. For other sentinel types it\n",
    "                is ignored. One of  ['IN', 'START', 'END', 'FULL', None].\n",
    "                Default is None, which is treated as 'IN'\n",
    "\n",
    "            See Trigger class for more information on the sentinel and event\n",
    "            arguments.\n",
    "\n",
    "            break_offset (int, str, optional): The number of Source items\n",
    "                before (negative) or after (positive) between the item that\n",
    "                causes a trigger event and the boundary.  offset can also be\n",
    "                one of\n",
    "                    'After' =  0, or\n",
    "                    'Before' = -1\n",
    "                Defaults to 'Before'.\n",
    "            name (str, optional): A reference label for the Boundary."
   ]
  },
  {
   "cell_type": "raw",
   "metadata": {},
   "source": [
    "Section.__init__.__doc__\n",
    "Creates an Section instance that defines a continuous portion of a\n",
    "        text stream to be processed in a specific way.\n",
    "\n",
    "        Arguments:\n",
    "            start_section (BreakOptions, optional): The SectionBreak(s) used\n",
    "                to identify the location of the start of the section. Defaults\n",
    "                to None, indicating the section begins with the first text\n",
    "                line in the iterator.\n",
    "            end_section (BreakOptions, optional): The SectionBreak(s) used\n",
    "                to identify the location of the end of the section. Defaults\n",
    "                to None, indicating the section ends with the last text line\n",
    "                in the iterator.\n",
    "            processor (ProcessMethodOptions, optional): Instructions for\n",
    "                processing and the section items.  A function or list of\n",
    "                functions to be applied to each item from the source sequence\n",
    "                that is identified as part of the section.  If processor is a\n",
    "                list of functions, the function will be applied in list order,\n",
    "                with the input of the function being the output of the previous\n",
    "                function in the list. See ProcessingMethods for more details on\n",
    "                valid processor functions.  If processor is None (the default),\n",
    "                the the section items are returned unmodified.\n",
    "            subsections (SectionOptions, optional): a Section instance,\n",
    "                or a list of Section instances contained within the section\n",
    "                being defined.\n",
    "            assemble (AssembleCallableOptions, optional): A function used to\n",
    "                collect and format, the processor output into a single object.\n",
    "                Defaults to None, which returns a list of the processor output.\n",
    "            section_name (str, optional): A label to be applied to the section.\n",
    "                Defaults to 'Section'.\n",
    "            keep_partial (bool, optional): In the case where the reader is\n",
    "                composed of one or more subsections and the main section ends\n",
    "                before the subsections end. If keep_partial is true the partial\n",
    "                subsection(s) will be returned, otherwise they will be dropped.\n",
    "                Defaults to False.\n",
    "            end_on_first_item (bool, optional): If True, the item that triggers\n",
    "                the start of a section may also trigger the end of the section.\n",
    "                If False, the first item in the section will not be tested for\n",
    "                an end breakpoint. This is useful in cases where both\n",
    "                start_section and end_section might undesirably trigger on the\n",
    "                same line, resulting in an empty section.  Defaults to False.\n",
    "        Returns:\n",
    "            New Section.\n",
    "        \n"
   ]
  }
 ],
 "metadata": {
  "kernelspec": {
   "display_name": "Python 3.8.12 ('sectionaryDev')",
   "language": "python",
   "name": "python3"
  },
  "language_info": {
   "codemirror_mode": {
    "name": "ipython",
    "version": 3
   },
   "file_extension": ".py",
   "mimetype": "text/x-python",
   "name": "python",
   "nbconvert_exporter": "python",
   "pygments_lexer": "ipython3",
   "version": "3.8.12"
  },
  "vscode": {
   "interpreter": {
    "hash": "890849be4bb9b5be1d044afe42e602ccc6ca20da23c054ee97c8186ec3939c45"
   }
  }
 },
 "nbformat": 4,
 "nbformat_minor": 4
}
