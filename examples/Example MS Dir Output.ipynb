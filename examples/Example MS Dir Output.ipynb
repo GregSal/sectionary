{
 "cells": [
  {
   "cell_type": "markdown",
   "metadata": {
    "jupyter": {
     "source_hidden": true
    }
   },
   "source": [
    "# Example: Output from Windows Dir command"
   ]
  },
  {
   "cell_type": "markdown",
   "metadata": {
    "jupyter": {
     "source_hidden": true
    }
   },
   "source": [
    "The Windows `dir` command displays a list of a directory's files and subdirectories.  \n",
    "It's output will be used to showcase some of the features of the *sectionary* package.\n",
    "\n",
    "Adding switches (options) to the `dir` command control what it displays and the format of the output.\n",
    "In thses examples we will be using the command line:\n",
    "\n",
    "`DIR \"Test Dir Structure\" /S /N /-C /T:W >  \"test_DIR_Data.txt\"`\n",
    "\n",
    "| Switch | Description                                                                                              |\n",
    "|--------|----------------------------------------------------------------------------------------------------------|\n",
    "| /S     | Lists every occurrence of the specified file name within the specified directory and all subdirectories. |\n",
    "| /N     | Displays a long list format with file names on the far right of the screen.                              |\n",
    "| /-C    | Hides the thousand separator in file sizes.                                                              |\n",
    "| /T:W   | Specifies which time field to display as \"Last written\".                                                 |\n",
    "| >      | Redirect the output to the specified file.                                                               |\n",
    "\n",
    "For more information, see [DIR Command Syntax](https://docs.microsoft.com/en-us/windows-server/administration/windows-commands/dir)"
   ]
  },
  {
   "cell_type": "markdown",
   "metadata": {
    "jupyter": {
     "outputs_hidden": true,
     "source_hidden": true
    }
   },
   "source": [
    "### Imports"
   ]
  },
  {
   "cell_type": "markdown",
   "metadata": {
    "jupyter": {
     "source_hidden": true
    }
   },
   "source": [
    "#### Standard Python Modules"
   ]
  },
  {
   "cell_type": "code",
   "execution_count": 1,
   "metadata": {
    "jupyter": {
     "source_hidden": true
    }
   },
   "outputs": [],
   "source": [
    "from pathlib import Path\n",
    "from pprint import pprint\n",
    "import re\n",
    "import sys"
   ]
  },
  {
   "cell_type": "markdown",
   "metadata": {
    "jupyter": {
     "source_hidden": true
    }
   },
   "source": [
    "#### Useful Third Party Packages"
   ]
  },
  {
   "cell_type": "code",
   "execution_count": 2,
   "metadata": {
    "jupyter": {
     "source_hidden": true
    }
   },
   "outputs": [],
   "source": [
    "import pandas as pd\n",
    "import xlwings as xw"
   ]
  },
  {
   "cell_type": "markdown",
   "metadata": {
    "jupyter": {
     "source_hidden": true
    }
   },
   "source": [
    "#### Sectionary Imports"
   ]
  },
  {
   "cell_type": "code",
   "execution_count": 3,
   "metadata": {
    "jupyter": {
     "source_hidden": true
    }
   },
   "outputs": [],
   "source": [
    "sys.path.append(r'../src/sectionary') \n",
    "\n",
    "import text_reader as tp\n",
    "from sections import Rule, RuleSet, SectionBreak, ProcessingMethods, Section"
   ]
  },
  {
   "cell_type": "code",
   "execution_count": 4,
   "metadata": {
    "jupyter": {
     "source_hidden": true
    }
   },
   "outputs": [],
   "source": [
    "#print(Section.__doc__)"
   ]
  },
  {
   "cell_type": "code",
   "execution_count": 5,
   "metadata": {
    "jupyter": {
     "source_hidden": true
    }
   },
   "outputs": [],
   "source": [
    "#print(SectionBreak.__init__.__doc__)"
   ]
  },
  {
   "cell_type": "markdown",
   "metadata": {
    "jupyter": {
     "source_hidden": true
    }
   },
   "source": [
    "## The Sample `Dir` Output"
   ]
  },
  {
   "cell_type": "code",
   "execution_count": 6,
   "metadata": {
    "jupyter": {
     "source_hidden": true
    }
   },
   "outputs": [],
   "source": [
    "dir_text = Path('test_DIR_Data.txt').read_text().splitlines()"
   ]
  },
  {
   "cell_type": "markdown",
   "metadata": {
    "jupyter": {
     "source_hidden": true
    }
   },
   "source": [
    "### `Dir` Output Structure"
   ]
  },
  {
   "cell_type": "markdown",
   "metadata": {
    "jupyter": {
     "source_hidden": true
    }
   },
   "source": [
    "The first 20 lines of the diretory listing are:"
   ]
  },
  {
   "cell_type": "code",
   "execution_count": 7,
   "metadata": {
    "collapsed": true,
    "jupyter": {
     "outputs_hidden": true,
     "source_hidden": true
    }
   },
   "outputs": [
    {
     "name": "stdout",
     "output_type": "stream",
     "text": [
      "\t  Volume in drive C is Windows\n",
      "\t  Volume Serial Number is DAE7-D5BA\n",
      "\t \n",
      "\t  Directory of c:\\users\\...\\Test Dir Structure\n",
      "\t \n",
      "\t 2021-12-27  03:33 PM    <DIR>          .\n",
      "\t 2021-12-27  03:33 PM    <DIR>          ..\n",
      "\t 2021-12-27  04:03 PM    <DIR>          Dir1\n",
      "\t 2021-12-27  05:27 PM    <DIR>          Dir2\n",
      "\t 2016-02-25  09:59 PM                 3 TestFile1.txt\n",
      "\t 2016-02-15  06:46 PM                 7 TestFile2.rtf\n",
      "\t 2016-02-15  06:47 PM                 0 TestFile3.docx\n",
      "\t 2016-04-21  01:06 PM              3491 xcopy.txt\n",
      "\t                4 File(s)           3501 bytes\n",
      "\t \n",
      "\t  Directory of c:\\users\\...\\Test Dir Structure\\Dir1\n",
      "\t \n",
      "\t 2021-12-27  04:03 PM    <DIR>          .\n",
      "\t 2021-12-27  04:03 PM    <DIR>          ..\n",
      "\t 2016-02-15  06:48 PM                 0 File in Dir One.txt\n"
     ]
    }
   ],
   "source": [
    "for line in dir_text[0:20]:\n",
    "    print('\\t', line)"
   ]
  },
  {
   "cell_type": "markdown",
   "metadata": {
    "jupyter": {
     "source_hidden": true
    }
   },
   "source": [
    "We want to ignore the first two lines (the *header section*)"
   ]
  },
  {
   "cell_type": "code",
   "execution_count": 31,
   "metadata": {
    "collapsed": true,
    "jupyter": {
     "outputs_hidden": true,
     "source_hidden": true
    }
   },
   "outputs": [
    {
     "name": "stdout",
     "output_type": "stream",
     "text": [
      "\t  Volume in drive C has no label.\n",
      "\t  Volume Serial Number is 56DB-14A7\n"
     ]
    }
   ],
   "source": [
    "for line in dir_text[0:2]:\n",
    "    print('\\t', line)"
   ]
  },
  {
   "cell_type": "markdown",
   "metadata": {
    "jupyter": {
     "source_hidden": true
    }
   },
   "source": [
    "After this come multiple Folder sections something like this:"
   ]
  },
  {
   "cell_type": "code",
   "execution_count": 32,
   "metadata": {
    "collapsed": true,
    "jupyter": {
     "outputs_hidden": true,
     "source_hidden": true
    }
   },
   "outputs": [
    {
     "name": "stdout",
     "output_type": "stream",
     "text": [
      " Directory of C:\\Users\\ ... \\Test Dir Structure\n",
      "\n",
      "2021-06-18  14:54    <DIR>          .\n",
      "2021-06-18  14:54    <DIR>          ..\n",
      "2021-06-18  14:54    <DIR>          Dir1\n",
      "2021-06-18  14:54    <DIR>          Dir2\n",
      "               4 File(s)           3501 bytes\n"
     ]
    }
   ],
   "source": [
    "print(dir_text[3][0:23], '...', dir_text[3][-19:])\n",
    "print()\n",
    "for line in dir_text[5:9]:\n",
    "    print(line)\n",
    "print(dir_text[13])"
   ]
  },
  {
   "cell_type": "markdown",
   "metadata": {
    "jupyter": {
     "source_hidden": true
    }
   },
   "source": [
    "The start and end of the folder listing can be identified by key phrases:\n",
    "- The section start is identified by the text '*Directory of*'\n",
    "- The section end is identified by the text '*File(s)*'\n",
    "\n",
    "**Define a Section Based on these start and end identifiers:**"
   ]
  },
  {
   "cell_type": "code",
   "execution_count": 33,
   "metadata": {
    "collapsed": true,
    "jupyter": {
     "outputs_hidden": true,
     "source_hidden": true
    }
   },
   "outputs": [
    {
     "data": {
      "text/plain": [
       "[\" Directory of C:\\\\Users\\\\gsalomon\\\\OneDrive - Queen's University\\\\Python\\\\Projects\\\\EclipseRelated\\\\PyUtilities\\\\Text Processing\\\\Text Files\\\\Test Dir Structure\",\n",
       " '',\n",
       " '2021-06-18  14:54    <DIR>          .',\n",
       " '2021-06-18  14:54    <DIR>          ..',\n",
       " '2021-06-18  14:54    <DIR>          Dir1',\n",
       " '2021-06-18  14:54    <DIR>          Dir2',\n",
       " '2016-02-25  22:59                 3 TestFile1.txt',\n",
       " '2016-02-15  19:46                 7 TestFile2.rtf',\n",
       " '2016-02-15  19:47                 0 TestFile3.docx',\n",
       " '2016-04-21  14:06              3491 xcopy.txt']"
      ]
     },
     "execution_count": 33,
     "metadata": {},
     "output_type": "execute_result"
    }
   ],
   "source": [
    "dir_section = Section(start_section='Directory of', end_section='File(s)')\n",
    "dir_section.read(dir_text)"
   ]
  },
  {
   "cell_type": "markdown",
   "metadata": {
    "jupyter": {
     "source_hidden": true
    }
   },
   "source": [
    "`dir_section.read(dir_text)` returned the first folder listing in *dir_text*.\n",
    "However, it is missing the final line:"
   ]
  },
  {
   "cell_type": "code",
   "execution_count": 34,
   "metadata": {
    "collapsed": true,
    "jupyter": {
     "outputs_hidden": true,
     "source_hidden": true
    }
   },
   "outputs": [
    {
     "name": "stdout",
     "output_type": "stream",
     "text": [
      "               4 File(s)           3501 bytes\n"
     ]
    }
   ],
   "source": [
    "print(dir_text[13])"
   ]
  },
  {
   "cell_type": "markdown",
   "metadata": {
    "jupyter": {
     "source_hidden": true
    }
   },
   "source": [
    "To include this line, we need to define the end_setion to end *After* the specified text.  We include this information by explicitly creating a `SectionBreak` object:"
   ]
  },
  {
   "cell_type": "code",
   "execution_count": 35,
   "metadata": {
    "collapsed": true,
    "jupyter": {
     "outputs_hidden": true,
     "source_hidden": true
    }
   },
   "outputs": [
    {
     "data": {
      "text/plain": [
       "[\" Directory of C:\\\\Users\\\\gsalomon\\\\OneDrive - Queen's University\\\\Python\\\\Projects\\\\EclipseRelated\\\\PyUtilities\\\\Text Processing\\\\Text Files\\\\Test Dir Structure\",\n",
       " '',\n",
       " '2021-06-18  14:54    <DIR>          .',\n",
       " '2021-06-18  14:54    <DIR>          ..',\n",
       " '2021-06-18  14:54    <DIR>          Dir1',\n",
       " '2021-06-18  14:54    <DIR>          Dir2',\n",
       " '2016-02-25  22:59                 3 TestFile1.txt',\n",
       " '2016-02-15  19:46                 7 TestFile2.rtf',\n",
       " '2016-02-15  19:47                 0 TestFile3.docx',\n",
       " '2016-04-21  14:06              3491 xcopy.txt',\n",
       " '               4 File(s)           3501 bytes']"
      ]
     },
     "execution_count": 35,
     "metadata": {},
     "output_type": "execute_result"
    }
   ],
   "source": [
    "dir_section = Section(start_section='Directory of', \n",
    "                      end_section=SectionBreak('File(s)', break_offset='After'))\n",
    "\n",
    "dir_section.read(dir_text)"
   ]
  },
  {
   "cell_type": "markdown",
   "metadata": {
    "jupyter": {
     "source_hidden": true
    }
   },
   "source": [
    "dir_text is a list so `dir_section.read(dir_text)` starts over at the beginning each time it is called."
   ]
  },
  {
   "cell_type": "code",
   "execution_count": 36,
   "metadata": {
    "collapsed": true,
    "jupyter": {
     "outputs_hidden": true,
     "source_hidden": true
    }
   },
   "outputs": [
    {
     "data": {
      "text/plain": [
       "[\" Directory of C:\\\\Users\\\\gsalomon\\\\OneDrive - Queen's University\\\\Python\\\\Projects\\\\EclipseRelated\\\\PyUtilities\\\\Text Processing\\\\Text Files\\\\Test Dir Structure\",\n",
       " '',\n",
       " '2021-06-18  14:54    <DIR>          .',\n",
       " '2021-06-18  14:54    <DIR>          ..',\n",
       " '2021-06-18  14:54    <DIR>          Dir1',\n",
       " '2021-06-18  14:54    <DIR>          Dir2',\n",
       " '2016-02-25  22:59                 3 TestFile1.txt',\n",
       " '2016-02-15  19:46                 7 TestFile2.rtf',\n",
       " '2016-02-15  19:47                 0 TestFile3.docx',\n",
       " '2016-04-21  14:06              3491 xcopy.txt',\n",
       " '               4 File(s)           3501 bytes']"
      ]
     },
     "execution_count": 36,
     "metadata": {},
     "output_type": "execute_result"
    }
   ],
   "source": [
    "dir_section.read(dir_text)"
   ]
  },
  {
   "cell_type": "code",
   "execution_count": 37,
   "metadata": {
    "collapsed": true,
    "jupyter": {
     "outputs_hidden": true,
     "source_hidden": true
    }
   },
   "outputs": [
    {
     "data": {
      "text/plain": [
       "[\" Directory of C:\\\\Users\\\\gsalomon\\\\OneDrive - Queen's University\\\\Python\\\\Projects\\\\EclipseRelated\\\\PyUtilities\\\\Text Processing\\\\Text Files\\\\Test Dir Structure\",\n",
       " '',\n",
       " '2021-06-18  14:54    <DIR>          .',\n",
       " '2021-06-18  14:54    <DIR>          ..',\n",
       " '2021-06-18  14:54    <DIR>          Dir1',\n",
       " '2021-06-18  14:54    <DIR>          Dir2',\n",
       " '2016-02-25  22:59                 3 TestFile1.txt',\n",
       " '2016-02-15  19:46                 7 TestFile2.rtf',\n",
       " '2016-02-15  19:47                 0 TestFile3.docx',\n",
       " '2016-04-21  14:06              3491 xcopy.txt',\n",
       " '               4 File(s)           3501 bytes']"
      ]
     },
     "execution_count": 37,
     "metadata": {},
     "output_type": "execute_result"
    }
   ],
   "source": [
    "dir_section.read(dir_text)"
   ]
  },
  {
   "cell_type": "markdown",
   "metadata": {
    "jupyter": {
     "source_hidden": true
    }
   },
   "source": [
    "By creating an iterator from *dir_text* `dir_text_iter = iter(dir_text)` \n",
    "(representing a text stream source) \n",
    "successive calls to `dir_section.read(dir_text_iter)` \n",
    "will return the next directory group"
   ]
  },
  {
   "cell_type": "code",
   "execution_count": 38,
   "metadata": {
    "collapsed": true,
    "jupyter": {
     "outputs_hidden": true,
     "source_hidden": true
    }
   },
   "outputs": [
    {
     "data": {
      "text/plain": [
       "[\" Directory of C:\\\\Users\\\\gsalomon\\\\OneDrive - Queen's University\\\\Python\\\\Projects\\\\EclipseRelated\\\\PyUtilities\\\\Text Processing\\\\Text Files\\\\Test Dir Structure\",\n",
       " '',\n",
       " '2021-06-18  14:54    <DIR>          .',\n",
       " '2021-06-18  14:54    <DIR>          ..',\n",
       " '2021-06-18  14:54    <DIR>          Dir1',\n",
       " '2021-06-18  14:54    <DIR>          Dir2',\n",
       " '2016-02-25  22:59                 3 TestFile1.txt',\n",
       " '2016-02-15  19:46                 7 TestFile2.rtf',\n",
       " '2016-02-15  19:47                 0 TestFile3.docx',\n",
       " '2016-04-21  14:06              3491 xcopy.txt',\n",
       " '               4 File(s)           3501 bytes']"
      ]
     },
     "execution_count": 38,
     "metadata": {},
     "output_type": "execute_result"
    }
   ],
   "source": [
    "dir_text_iter = iter(dir_text)\n",
    "dir_section.read(dir_text_iter)\n"
   ]
  },
  {
   "cell_type": "code",
   "execution_count": 39,
   "metadata": {
    "collapsed": true,
    "jupyter": {
     "outputs_hidden": true,
     "source_hidden": true
    }
   },
   "outputs": [
    {
     "data": {
      "text/plain": [
       "[\" Directory of C:\\\\Users\\\\gsalomon\\\\OneDrive - Queen's University\\\\Python\\\\Projects\\\\EclipseRelated\\\\PyUtilities\\\\Text Processing\\\\Text Files\\\\Test Dir Structure\\\\Dir1\",\n",
       " '',\n",
       " '2021-06-18  14:54    <DIR>          .',\n",
       " '2021-06-18  14:54    <DIR>          ..',\n",
       " '2016-02-15  19:48                 0 File in Dir One.txt',\n",
       " '2021-06-18  14:54    <DIR>          SubFolder1',\n",
       " '2021-06-18  14:54    <DIR>          SubFolder2',\n",
       " '               1 File(s)              0 bytes']"
      ]
     },
     "execution_count": 39,
     "metadata": {},
     "output_type": "execute_result"
    }
   ],
   "source": [
    "dir_section.read(dir_text_iter)"
   ]
  },
  {
   "cell_type": "markdown",
   "metadata": {},
   "source": [
    "## Section Processing\n",
    "Next lets do something with the section text.\n",
    "\n",
    "Summarize a section's content by supplying the section with an `Aggregate`\n",
    "method.\n",
    "\n",
    "*Section*'s  `aggregate` argument (AggregateCallableOptions, optional): A function used to\n",
    "                collect and format, the processor output into a single object.\n",
    "                Defaults to None, which returns a list of the processor output.\n",
    "\n",
    "AggregateFunc = Callable[[ProcessedList, ContextType], AggregatedItem]\n",
    "AggregateCallableOptions = Union[AggregateFunc,\n",
    "                               Callable[[ProcessedList], AggregatedItem],\n",
    "                               Callable[..., ProcessedList]]\n",
    "                                          "
   ]
  },
  {
   "cell_type": "code",
   "execution_count": 46,
   "metadata": {},
   "outputs": [
    {
     "name": "stdout",
     "output_type": "stream",
     "text": [
      "Creates an Section instance that defines a continuous portion of a\n",
      "        text stream to be processed in a specific way.\n",
      "\n",
      "        Arguments:\n",
      "            section_name (str, optional): A label to be applied to the section.\n",
      "                Defaults to 'Section'.\n",
      "            start_section (BreakOptions, optional): The SectionBreak(s) used\n",
      "                to identify the location of the start of the section. Defaults\n",
      "                to None, indicating the section begins with the first text\n",
      "                line in the iterator.\n",
      "            end_section (BreakOptions, optional): The SectionBreak(s) used\n",
      "                to identify the location of the end of the section. Defaults\n",
      "                to None, indicating the section ends with the last text line\n",
      "                in the iterator.\n",
      "            processor (ProcessMethodOptions, optional): Instructions for\n",
      "                processing and the section items.  processor can be None, in\n",
      "                which case the section will use the default SectionProcessor,\n",
      "                it can be a SectionProcessor instance, a Section instance, or a\n",
      "                list of Section instances.\n",
      "            aggregate (AggregateCallableOptions, optional): A function used to\n",
      "                collect and format, the processor output into a single object.\n",
      "                Defaults to None, which returns a list of the processor output.\n",
      "            keep_partial (bool, optional): In the case where the reader is\n",
      "                composed of one or more subsections and the main section ends\n",
      "                before the subsections end. If keep_partial is true the partial\n",
      "                subsection(s) will be returned, otherwise they will be dropped.\n",
      "                Defaults to False,\n",
      "        Returns:\n",
      "            New Section.\n",
      "        \n"
     ]
    }
   ],
   "source": [
    "print(Section.__init__.__doc__)"
   ]
  },
  {
   "cell_type": "markdown",
   "metadata": {},
   "source": [
    "\n",
    "> For the directory line, extract the directory name from the full path:\n",
    "`'Folder Name:\\t' + dir_line.rsplit('\\\\', 1)[1]`\n",
    "\n",
    "> Get the number of files in the directory:\n",
    "`'\\tNumber of Files:\\t' + dir_line.strip().split(' ', 1)[0]`\n",
    "\n",
    "> Identify subdirectories:\n",
    "`'\\tSubdirectory:\\t' + dir_line[36:]`\n",
    "\n",
    "> Identify files:\n",
    "`'\\tFile:\\t' + dir_line[36:]`   "
   ]
  },
  {
   "cell_type": "code",
   "execution_count": 41,
   "metadata": {},
   "outputs": [],
   "source": [
    "def process_directory(dir_line):\n",
    "    # Get the directory name\n",
    "    if 'Directory of' in dir_line:\n",
    "        output_line = 'Folder Name:\\t' + dir_line.rsplit('\\\\', 1)[1]\n",
    "    # Label the subdirectories\n",
    "    elif '<DIR>' in dir_line:\n",
    "        output_line = '\\tSubdirectory:\\t' + dir_line[36:]\n",
    "    # Label the file counts\n",
    "    elif 'File(s)' in dir_line:\n",
    "        output_line = 'Number of Files:\\t' + dir_line.strip().split(' ', 1)[0]\n",
    "    # Label the files\n",
    "    else:\n",
    "        output_line = '\\tFile:\\t\\t' + dir_line[36:]\n",
    "    return output_line "
   ]
  },
  {
   "cell_type": "code",
   "execution_count": 42,
   "metadata": {},
   "outputs": [
    {
     "name": "stdout",
     "output_type": "stream",
     "text": [
      "Folder Name:\tTest Dir Structure\n",
      "\tFile:\t\t\n",
      "\tSubdirectory:\t.\n",
      "\tSubdirectory:\t..\n",
      "\tSubdirectory:\tDir1\n",
      "\tSubdirectory:\tDir2\n",
      "\tFile:\t\tTestFile1.txt\n",
      "\tFile:\t\tTestFile2.rtf\n",
      "\tFile:\t\tTestFile3.docx\n",
      "\tFile:\t\txcopy.txt\n",
      "Number of Files:\t4\n"
     ]
    }
   ],
   "source": [
    "dir_section = Section(start_section='Directory of', \n",
    "                      end_section=SectionBreak('File(s)', break_offset='After'),\n",
    "                      processor=ProcessingMethods([process_directory]))\n",
    "\n",
    "output = dir_section.read(dir_text)\n",
    "for line in output:\n",
    "    print(line)"
   ]
  },
  {
   "cell_type": "markdown",
   "metadata": {},
   "source": [
    "### Rule and RuleSets\n",
    "Instead of having one function `process_directory()` that manages all possible \n",
    "text lines in the section, the function can be broken down into parts by \n",
    "defining *Rules*."
   ]
  },
  {
   "cell_type": "code",
   "execution_count": 43,
   "metadata": {},
   "outputs": [],
   "source": [
    "def dir_name_split(line):\n",
    "    return ['Folder Name:', line.rsplit('\\\\', 1)[1]]\n",
    "dir_name_rule = Rule('Directory of', pass_method=dir_name_split)\n",
    "\n",
    "def file_count_split(line):\n",
    "    return ['Number of Files:', line.strip().split(' ', 1)[0]]\n",
    "file_count_rule = Rule('File(s)', pass_method=file_count_split)\n",
    "\n",
    "def subfolder(line):\n",
    "    return ['Subdirectory:', line[36:]]\n",
    "subfolder_rule = Rule('<DIR>', pass_method=subfolder)\n",
    "\n",
    "def file(line):\n",
    "    return ['File:' + line[36:]]\n",
    "\n",
    "dir_process = RuleSet([dir_name_rule, file_count_rule, subfolder_rule], \n",
    "                      default=file)"
   ]
  },
  {
   "cell_type": "code",
   "execution_count": 44,
   "metadata": {},
   "outputs": [
    {
     "name": "stdout",
     "output_type": "stream",
     "text": [
      "['Folder Name:', 'Test Dir Structure']\n",
      "['File:']\n",
      "['Subdirectory:', '.']\n",
      "['Subdirectory:', '..']\n",
      "['Subdirectory:', 'Dir1']\n",
      "['Subdirectory:', 'Dir2']\n",
      "['File:TestFile1.txt']\n",
      "['File:TestFile2.rtf']\n",
      "['File:TestFile3.docx']\n",
      "['File:xcopy.txt']\n",
      "['Number of Files:', '4']\n"
     ]
    }
   ],
   "source": [
    "dir_section = Section(start_section='Directory of', \n",
    "                      end_section=SectionBreak('File(s)', break_offset='After'),\n",
    "                      processor=ProcessingMethods([dir_process]))\n",
    "\n",
    "output = dir_section.read(dir_text)\n",
    "for line in output:\n",
    "    print(line)"
   ]
  },
  {
   "cell_type": "markdown",
   "metadata": {},
   "source": [
    "# *DONE TO HERE*"
   ]
  },
  {
   "cell_type": "code",
   "execution_count": 45,
   "metadata": {
    "collapsed": true,
    "jupyter": {
     "outputs_hidden": true,
     "source_hidden": true
    }
   },
   "outputs": [
    {
     "ename": "TypeError",
     "evalue": "'NoneType' object is not callable",
     "output_type": "error",
     "traceback": [
      "\u001b[1;31m---------------------------------------------------------------------------\u001b[0m",
      "\u001b[1;31mTypeError\u001b[0m                                 Traceback (most recent call last)",
      "\u001b[1;32m<ipython-input-45-df41c2428b4c>\u001b[0m in \u001b[0;36m<module>\u001b[1;34m\u001b[0m\n\u001b[0;32m      3\u001b[0m                       processor=[dir_process])\n\u001b[0;32m      4\u001b[0m \u001b[1;33m\u001b[0m\u001b[0m\n\u001b[1;32m----> 5\u001b[1;33m \u001b[0moutput\u001b[0m \u001b[1;33m=\u001b[0m \u001b[0mdir_section\u001b[0m\u001b[1;33m.\u001b[0m\u001b[0mread\u001b[0m\u001b[1;33m(\u001b[0m\u001b[0mdir_text\u001b[0m\u001b[1;33m)\u001b[0m\u001b[1;33m\u001b[0m\u001b[1;33m\u001b[0m\u001b[0m\n\u001b[0m\u001b[0;32m      6\u001b[0m \u001b[1;32mfor\u001b[0m \u001b[0mline\u001b[0m \u001b[1;32min\u001b[0m \u001b[0moutput\u001b[0m\u001b[1;33m:\u001b[0m\u001b[1;33m\u001b[0m\u001b[1;33m\u001b[0m\u001b[0m\n\u001b[0;32m      7\u001b[0m     \u001b[0mprint\u001b[0m\u001b[1;33m(\u001b[0m\u001b[0mline\u001b[0m\u001b[1;33m)\u001b[0m\u001b[1;33m\u001b[0m\u001b[1;33m\u001b[0m\u001b[0m\n",
      "\u001b[1;32m~\\OneDrive - Queen's University\\Python\\Projects\\sectionary package\\src\\sectionary\\sections.py\u001b[0m in \u001b[0;36mread\u001b[1;34m(self, source, start_search, do_reset, context)\u001b[0m\n\u001b[0;32m   2174\u001b[0m         \u001b[0msource\u001b[0m \u001b[1;33m=\u001b[0m \u001b[0mself\u001b[0m\u001b[1;33m.\u001b[0m\u001b[0minitialize\u001b[0m\u001b[1;33m(\u001b[0m\u001b[0msource\u001b[0m\u001b[1;33m,\u001b[0m \u001b[0mstart_search\u001b[0m\u001b[1;33m,\u001b[0m \u001b[0mdo_reset\u001b[0m\u001b[1;33m,\u001b[0m \u001b[0mcontext\u001b[0m\u001b[1;33m)\u001b[0m\u001b[1;33m\u001b[0m\u001b[1;33m\u001b[0m\u001b[0m\n\u001b[0;32m   2175\u001b[0m         \u001b[0msection_iter\u001b[0m \u001b[1;33m=\u001b[0m \u001b[0mself\u001b[0m\u001b[1;33m.\u001b[0m\u001b[0mgen\u001b[0m\u001b[1;33m(\u001b[0m\u001b[0msource\u001b[0m\u001b[1;33m)\u001b[0m\u001b[1;33m\u001b[0m\u001b[1;33m\u001b[0m\u001b[0m\n\u001b[1;32m-> 2176\u001b[1;33m         section_reader = self._section_reader(section_iter, self.processor,\n\u001b[0m\u001b[0;32m   2177\u001b[0m                                               context)\n\u001b[0;32m   2178\u001b[0m         \u001b[0msection_items\u001b[0m \u001b[1;33m=\u001b[0m \u001b[0mlist\u001b[0m\u001b[1;33m(\u001b[0m\u001b[1;33m)\u001b[0m\u001b[1;33m\u001b[0m\u001b[1;33m\u001b[0m\u001b[0m\n",
      "\u001b[1;31mTypeError\u001b[0m: 'NoneType' object is not callable"
     ]
    }
   ],
   "source": [
    "dir_section = Section(start_section='Directory of', \n",
    "                      end_section=SectionBreak('File(s)', break_offset='After'),\n",
    "                      processor=[dir_process])\n",
    "\n",
    "output = dir_section.read(dir_text)\n",
    "for line in output:\n",
    "    print(line)"
   ]
  },
  {
   "cell_type": "code",
   "execution_count": null,
   "metadata": {
    "jupyter": {
     "source_hidden": true
    }
   },
   "outputs": [],
   "source": [
    "def dir_name_split(line):\n",
    "    # Get the directory name\n",
    "    if 'Directory of' in line:\n",
    "        return ['Folder Name:', line.rsplit('\\\\', 1)[1]]\n",
    "    return line\n",
    "\n",
    "def subfolder(line):\n",
    "    # Label the subdirectories\n",
    "    if '<DIR>' in line:\n",
    "        return ['Subdirectory:', line[36:]]\n",
    "    return line\n",
    "\n",
    "def file_count_split(line):\n",
    "    # Label the file counts\n",
    "    if 'File(s)' in line:\n",
    "        return ['Number of Files:', line.strip().split(' ', 1)[0]]\n",
    "    return line\n",
    "\n",
    "def file(line):\n",
    "    # Label the files\n",
    "    return ['File:' + line[36:]] "
   ]
  },
  {
   "cell_type": "code",
   "execution_count": null,
   "metadata": {
    "jupyter": {
     "source_hidden": true
    }
   },
   "outputs": [],
   "source": [
    "print('column index')\n",
    "print(''.join(str(i)*10 for i in range(10)))\n",
    "print(''.join(str(i) for i in range(10))*10)\n",
    "print(dir_text[9])\n",
    "    "
   ]
  },
  {
   "cell_type": "raw",
   "metadata": {
    "jupyter": {
     "source_hidden": true
    }
   },
   "source": [
    "**The DIR output has the following structure:**\n",
    "    \n",
    "    Header Section:\n",
    "         Volume in drive C has no label.\n",
    "         Volume Serial Number is 56DB-14A7\n",
    "\n",
    "Multiple Folder sections ... \n",
    "    \n",
    "    Summary Section:\n",
    "         Total Files Listed:\n",
    "                  11 File(s)          72507 bytes\n",
    "                  23 Dir(s)     63927545856 bytes free\n",
    "\n",
    "Each Folder section has the following line types:\n",
    "    \n",
    "    Directory Label:\n",
    "         Directory of C:\\Test Dir Structure\n",
    "    Directory listing:\n",
    "        2021-06-18  14:54    <DIR>          Dir1\n",
    "    File listing:\n",
    "        2016-02-25  22:59                 3 TestFile1.txt\n",
    "    File Count:\n",
    "               4 File(s)           3501 bytes\n",
    "    "
   ]
  },
  {
   "cell_type": "code",
   "execution_count": null,
   "metadata": {
    "jupyter": {
     "source_hidden": true
    }
   },
   "outputs": [],
   "source": [
    "\n",
    "\n",
    "#%% Regex Parsing patterns\n",
    "# File Count and summary:\n",
    "     #          1 File(s)          59904 bytes\n",
    "     #         23 Dir(s)     63927545856 bytes free\n",
    "folder_summary_pt = re.compile(\n",
    "    '(?P<files>'       # beginning of files string group\n",
    "    '[0-9]+'           # Integer number of files\n",
    "    ')'                # end of files string group\n",
    "    '[ ]+'             # Arbitrary number of spaces\n",
    "    '(?P<type>'        # beginning of type string group\n",
    "    'File|Dir'         # \"File\" or \" Dir\" text\n",
    "    ')'                # end of type string group\n",
    "    '\\\\(s\\\\)'          # \"(s)\" text\n",
    "    '[ ]+'             # Arbitrary number of spaces\n",
    "    '(?P<size>'        # beginning of size string group\n",
    "    '[0-9]+'           # Integer size of folder\n",
    "    ')'                # end of size string group\n",
    "    ' bytes'           # \"bytes\" text\n",
    "    )\n",
    "date_pattern = tp.build_date_re(compile_re=False)\n",
    "file_listing_pt = re.compile(\n",
    "    f'{date_pattern}'  # Insert date pattern\n",
    "    '[ ]+'             # Arbitrary number of spaces\n",
    "    '(?P<size>'        # beginning of size string group\n",
    "    '[0-9]+'           # Integer size of folder\n",
    "    ')'                # end of size string group\n",
    "    ' '                # Single space\n",
    "    '(?P<filename>'    # beginning of filename string group\n",
    "    '.*'               # Integer size of folder\n",
    "    ')'                # end of size string group\n",
    "    '$'                # end of string\n",
    "    )\n",
    "\n",
    "\n",
    "#%% Line Parsing Functions\n",
    "# Directory Label Rule\n",
    "\n",
    "def extract_directory(line: str, event, *args,\n",
    "                    context=None, **kwargs) -> List[List[str]]:\n",
    "    '''Extract Directory path from folder header.\n",
    "    '''\n",
    "    full_dir = line.replace('Directory of', '').strip()\n",
    "    return [full_dir]\n",
    "\n",
    "\n",
    "dir_header_rule = Rule(\n",
    "    name='Dir Header Rule',\n",
    "    sentinel='Directory of ',\n",
    "    pass_method=extract_directory\n",
    "    )\n",
    "\n",
    "\n",
    "# skip <DIR>\n",
    "def blank_line(*args, **kwargs) -> List[List[str]]:\n",
    "    return [['']]\n",
    "\n",
    "\n",
    "skip_dir_rule = Rule(\n",
    "    name='Skip <DIR> Rule',\n",
    "    sentinel=' <DIR> ',\n",
    "    pass_method='Blank'\n",
    "    )\n",
    "skip_totals_rule = Rule(\n",
    "    name='Skip Total Files Header Rule',\n",
    "    sentinel='Total Files Listed:',\n",
    "    pass_method='Blank'\n",
    "    )\n",
    "\n",
    "\n",
    "# Regular file listings\n",
    "def file_parse(line: str, event, *args, **kwargs) -> List[List[str]]:\n",
    "    '''Break file data into three columns containing Filename, Date, Size.\n",
    "\n",
    "    Typical file is:\n",
    "        2016-02-25  22:59     3 TestFile1.txt\n",
    "    File line is parsed using a regular expression with 3 named groups.\n",
    "    Output for the example above is:\n",
    "        [[TestFile1.txt , 2016-02-25  22:59, 3]]\n",
    "\n",
    "    Args:\n",
    "        line (str): The text line to be parsed.\n",
    "        event (re.match): The results of the trigger test on the line.\n",
    "            Contains 3 named groups: ['date', 'size', 'filename'].\n",
    "        *args & **kwargs: Catch unused extra parameters passed to file_parse.\n",
    "\n",
    "    Returns:\n",
    "        tp.ParseResults: A one-item list containing the parsed file\n",
    "            information as a 3-item tuple:\n",
    "                [(filename: str, date: str, file size: int)].\n",
    "    '''\n",
    "    file_line_parts = event.test_value.groupdict(default='')\n",
    "    parsed_line = tuple([\n",
    "        file_line_parts['filename'],\n",
    "        tp.make_date_time_string(event),\n",
    "        int(file_line_parts['size'])\n",
    "        ])\n",
    "    return parsed_line\n",
    "\n",
    "\n",
    "# Regular File Parsing Rule\n",
    "file_listing_rule = Rule(file_listing_pt, pass_method=file_parse,\n",
    "                            name='Files_rule')\n",
    "\n",
    "\n",
    "# File Count Parsing Rule\n",
    "def file_count_parse(line: str, event, *args, **kwargs) -> List[List[str]]:\n",
    "    '''Break file data into two rows containing:\n",
    "           Number of files, & Directory size.\n",
    "\n",
    "    Output has the following format:\n",
    "        ['Number of files', file count value: int]\n",
    "        ['Directory Size', directory size value: int]\n",
    "\n",
    "    Typical line is:\n",
    "        4 File(s)           3501 bytes\n",
    "    File count is parsed using a regular expression with 2 named groups.\n",
    "\n",
    "    Args:\n",
    "        line (str): The text line to be parsed.\n",
    "        event (re.match): The results of the trigger test size the line.\n",
    "            Contains 3 named groups: ['files', 'type', 'size'].\n",
    "        *args & **kwargs: Catch unused extra parameters passed to file_parse.\n",
    "\n",
    "    Returns:\n",
    "        tp.ParseResults: The parsed file information.\n",
    "            The parsed file information consists of three lines with the\n",
    "            following format:\n",
    "                'Number of files', file count value: int\n",
    "                'Directory Size', directory size value: int\n",
    "    '''\n",
    "    file_count_parts = event.groupdict(default='')\n",
    "    # Manage case where bytes free is given:\n",
    "    # 23 Dir(s)     63927545856 bytes free\n",
    "    if line.strip().endswith('free'):\n",
    "        file_count_parts['size_label'] = 'Free Space'\n",
    "    else:\n",
    "        file_count_parts['size_label'] = 'Size'\n",
    "    parsed_line_template = ''.join([\n",
    "        'Number of {type}s, {files}\\n',\n",
    "        'Directory {size_label}, {size}'\n",
    "        ])\n",
    "    parsed_line_str = parsed_line_template.format(**file_count_parts)\n",
    "    parsed_line = [new_line.split(',')\n",
    "                   for new_line in parsed_line_str.splitlines()]\n",
    "    return parsed_line\n",
    "file_count_rule = Rule(folder_summary_pt, pass_method=file_count_parse,\n",
    "                          name='Files_rule')\n",
    "\n",
    "\n",
    "skip_file_count_rule = Rule(\n",
    "    name='Skip File(s) Rule',\n",
    "    sentinel=folder_summary_pt,\n",
    "    pass_method='Blank'\n",
    "    )\n",
    "\n",
    "\n",
    "# Files / DIRs Parse\n",
    "def make_files_rule() -> Rule:\n",
    "    '''If  File(s) or  Dir(s) extract # files & size\n",
    "        '''\n",
    "    def files_total_parse(line, event, *args, **kwargs) -> List[List[str]]:\n",
    "        '''Break file counts into three columns containing:\n",
    "           Type (File or Dir), Count, Size.\n",
    "\n",
    "        The line:\n",
    "               11 File(s)          72507 bytes\n",
    "        Results in:\n",
    "            [('File', 11, 3501)]\n",
    "        The line:\n",
    "           23 Dir(s)     63927545856 bytes free\n",
    "        Results in:\n",
    "            [('Dir', 23, 3501)]\n",
    "\n",
    "    Args:\n",
    "        line (str): The text line to be parsed.\n",
    "        event (re.match): The results of the trigger test on the line.\n",
    "            Contains 3 named groups: ['type', 'files', 'size'].\n",
    "        *args & **kwargs: Catch unused extra parameters passed to file_parse.\n",
    "\n",
    "    Returns:\n",
    "        tp.ParseResults: A one-item list containing the parsed file count\n",
    "            information as a 3-item tuple:\n",
    "                [(Type: str (File or Dir), Count: int, Size: int)].\n",
    "        '''\n",
    "        files_dict = event.test_value.groupdict(default='')\n",
    "        parsed_line = tuple([\n",
    "            files_dict[\"type\"],\n",
    "            files_dict[\"files\"],\n",
    "            files_dict[\"size\"]\n",
    "            ])\n",
    "        return [parsed_line]\n",
    "\n",
    "    files_total_rule = Rule(folder_summary_pt,\n",
    "                               pass_method=files_total_parse,\n",
    "                               name='Files_Total_rule')\n",
    "    return files_total_rule\n",
    "\n",
    "\n",
    "default_csv = tp.define_csv_parser('dir_files', delimiter=':',\n",
    "                                       skipinitialspace=True)\n",
    "\n",
    "\n",
    "#%% Line Processing\n",
    "def print_lines(parsed_list):\n",
    "    output = list()\n",
    "    for item in parsed_list:\n",
    "        pprint(item)\n",
    "        output.append(item)\n",
    "    return output\n",
    "\n",
    "\n",
    "def to_folder_dict(folder_list):\n",
    "    '''Combine folder info into dictionary.\n",
    "    '''\n",
    "    # TODO separate directory info from file info\n",
    "    #The first line in the folder list is the directory path\n",
    "    directory = ''\n",
    "    if folder_list:\n",
    "        d_list = folder_list[0]\n",
    "        if d_list:\n",
    "            directory = d_list[0]\n",
    "    folder_dict = {'Directory': directory}\n",
    "    for folder_info in folder_list[1:]:\n",
    "        filename, date, file_size = folder_info\n",
    "        full_path = '\\\\'.join([directory, filename])\n",
    "        file_parts = filename.rsplit('.', 1)\n",
    "        if len(file_parts) > 1:\n",
    "            extension = file_parts[1]\n",
    "        else:\n",
    "            extension = ''\n",
    "        folder_dict = {\n",
    "            'Path': full_path,\n",
    "            'Directory': directory,\n",
    "            'Filename': filename,\n",
    "            'Extension': extension,\n",
    "            'Date': date,\n",
    "            'Size': file_size\n",
    "            }\n",
    "    return folder_dict\n",
    "\n",
    "\n",
    "def make_files_table(dir_gen):\n",
    "    '''Combine folder info dictionaries into Pandas DataFrame.\n",
    "    '''\n",
    "    list_of_folders = list(dir_gen)\n",
    "    files_table = pd.DataFrame(list_of_folders)\n",
    "    files_table.set_index('Path')\n",
    "    return files_table\n",
    "\n",
    "\n",
    "#%% Reader definitions\n",
    "default_parser = tp.define_csv_parser('dir_files', delimiter=':',\n",
    "                                       skipinitialspace=True)\n",
    "heading_reader = ProcessingMethods([\n",
    "    default_parser,\n",
    "    tp.trim_items\n",
    "    ])\n",
    "folder_reader = ProcessingMethods([\n",
    "    RuleSet([skip_dir_rule, file_listing_rule, dir_header_rule,\n",
    "             skip_file_count_rule], default=default_parser),\n",
    "    tp.drop_blanks\n",
    "    ])\n",
    "summary_reader = ProcessingMethods([\n",
    "    RuleSet([file_count_rule, skip_totals_rule], default=default_parser),\n",
    "    tp.drop_blanks\n",
    "    ])\n",
    "\n",
    "\n",
    "#%% SectionBreak definitions\n",
    "folder_start = SectionBreak(\n",
    "    name='Start of Folder', sentinel='Directory of', break_offset='Before')\n",
    "folder_end = SectionBreak(name='End of Folder',sentinel=folder_summary_pt,\n",
    "                             break_offset='After')\n",
    "summary_start = SectionBreak(sentinel='Total Files Listed:',\n",
    "                                name='Start of DIR Summary', break_offset='Before')\n",
    "\n",
    "\n",
    "#%% Section definitions\n",
    "header_section = Section(\n",
    "    section_name='Header',\n",
    "    start_section=None,\n",
    "    end_section=folder_start,\n",
    "    processor=heading_reader,\n",
    "    aggregate=print_lines\n",
    "    )\n",
    "folder_section = Section(\n",
    "    section_name='Folder',\n",
    "    start_section=folder_start,\n",
    "    end_section=folder_end,\n",
    "    processor=folder_reader,\n",
    "    aggregate=to_folder_dict\n",
    "    )\n",
    "all_folder_section = Section(\n",
    "    section_name='All Folders',\n",
    "    start_section=folder_start,\n",
    "    end_section=summary_start,\n",
    "    processor=[folder_section],\n",
    "    aggregate=make_files_table\n",
    "    )\n",
    "summary_section = Section(\n",
    "    section_name='Summary',\n",
    "    start_section=summary_start,\n",
    "    end_section=None,\n",
    "    processor=summary_reader,\n",
    "    aggregate=tp.to_dict\n",
    "    )\n",
    "\n",
    "\n",
    "#%% Main Iteration\n",
    "def main():\n",
    "    # Test File\n",
    "    base_path = Path.cwd() / 'examples'\n",
    "    test_file = base_path / 'test_DIR_Data.txt'\n",
    "\n",
    "    # Call Primary routine\n",
    "    context = {\n",
    "        'File Name': test_file.name,\n",
    "        'File Path': test_file.parent,\n",
    "        'top_dir': str(base_path),\n",
    "        'tree_name': 'Test folder Tree'\n",
    "        }\n",
    "\n",
    "    source = tp.file_reader(test_file)\n",
    "    file_info = all_folder_section.read(source, context)\n",
    "    #summary = summary_section.read(source, **context)\n",
    "\n",
    "    # Output  Data\n",
    "    xw.view(file_info)\n",
    "    print('done')\n",
    "\n",
    "if __name__ == '__main__':\n",
    "    main()"
   ]
  },
  {
   "cell_type": "code",
   "execution_count": null,
   "metadata": {
    "jupyter": {
     "source_hidden": true
    }
   },
   "outputs": [],
   "source": [
    "print('column index')\n",
    "print(''.join(str(i)*10 for i in range(10)))\n",
    "print(''.join(str(i) for i in range(10))*10)\n",
    "print(dir_text[9])\n",
    "    "
   ]
  },
  {
   "cell_type": "code",
   "execution_count": null,
   "metadata": {
    "jupyter": {
     "source_hidden": true
    }
   },
   "outputs": [],
   "source": [
    "a =dir_text[3]\n",
    "a.index('\\\\')\n",
    "a.rsplit('\\\\', 1)\n",
    "#'Folder Name:\\t' + a.rsplit('\\\\', 1)[0]"
   ]
  },
  {
   "cell_type": "code",
   "execution_count": null,
   "metadata": {},
   "outputs": [],
   "source": []
  },
  {
   "cell_type": "code",
   "execution_count": null,
   "metadata": {},
   "outputs": [],
   "source": []
  }
 ],
 "metadata": {
  "interpreter": {
   "hash": "60a1f208f299629c0c5615e2cc619a90192052a9831bd288ceae6c3a09c71508"
  },
  "kernelspec": {
   "display_name": "Python 3.8.6 64-bit ('Standard': conda)",
   "name": "python3"
  },
  "language_info": {
   "codemirror_mode": {
    "name": "ipython",
    "version": 3
   },
   "file_extension": ".py",
   "mimetype": "text/x-python",
   "name": "python",
   "nbconvert_exporter": "python",
   "pygments_lexer": "ipython3",
   "version": "3.8.12"
  }
 },
 "nbformat": 4,
 "nbformat_minor": 4
}
