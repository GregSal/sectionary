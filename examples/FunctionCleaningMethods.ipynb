{
 "cells": [
  {
   "attachments": {},
   "cell_type": "markdown",
   "metadata": {},
   "source": [
    "# Function Processing Module"
   ]
  },
  {
   "cell_type": "code",
   "execution_count": 2,
   "metadata": {},
   "outputs": [],
   "source": [
    "import inspect\n",
    "from inspect import signature\n",
    "from inspect import isgeneratorfunction\n",
    "from functools import wraps\n",
    "from collections import Counter\n",
    "from functools import partial\n",
    "\n",
    "from pprint import pprint\n",
    "\n",
    "import unittest\n",
    "from pathlib import Path\n",
    "from typing import List\n",
    "import re\n",
    "from sections import Rule, RuleSet\n",
    "import text_reader as tp"
   ]
  },
  {
   "cell_type": "markdown",
   "metadata": {},
   "source": [
    "## MapSig Class \n",
    "- An instance is a decorator used to wrap functions\n",
    "- When creating an instance, a \"Calling\" signature is defined and the resulting wrapped function will appear to have that signature.\n",
    "- The role of the decorator is to map the parameters in the signature of the wrapped function to the parameters signature for the original un-wrapped function.\n",
    "- If parameters are present in the wrapped function signature that cannot be mapped to a parameter in the original un-wrapped function signature, those parameter values will be silently dropped.\n",
    "- If required (positional) parameters are present in the original un-wrapped function signature that cannot be associated with a parameter (of any kind) in the wrapped function signature, an error will be raised when attempting to initialize the object.\n",
    "- The decorator also assigns appropriate annotation to the wrapped function.\n",
    "  - The wrapped function annotation specifies the new signature\n",
    "  - The wrapped function annotation uses the name and doc string from the original un-wrapped function.\n",
    "\n"
   ]
  },
  {
   "cell_type": "markdown",
   "metadata": {},
   "source": [
    "`context` parameter is unique.\n",
    "- If function has `context` keyword parameter, then it can modify `context` content.\n",
    "- If function does not have a `context` keyword parameter, but does have a `VAR_KEYWORD` parameter (`**kwargs`), then the `VAR_KEYWORD` parameter will receive the `context` content (but cannot modify it)."
   ]
  },
  {
   "cell_type": "markdown",
   "metadata": {},
   "source": [
    "#### Allow processing functions to take specific keyword arguments from context"
   ]
  },
  {
   "cell_type": "markdown",
   "metadata": {},
   "source": [
    "add a wrapper to trap unwanted context items"
   ]
  },
  {
   "cell_type": "markdown",
   "metadata": {},
   "source": [
    "1. Get parameters and defaults for all arguments of the\n",
    "   supplied function.\n",
    "2. Generate a defaults dictionary for all keyword\n",
    "   arguments.\n",
    "3. When called, pass non-keyword arguments directly to\n",
    "   the original function.\n",
    "4. Update the defaults dictionary with calling\n",
    "   keywords except the context keyword, if present.\n",
    "5. If context is among the default keyword arguments\n",
    "   and is supplied when called, add context to the keyword dictionary; otherwise search the supplied context for any keys in the defaults dictionary and use them to update the defaults dictionary.\n",
    "10. If a **kwargs is present in the original function,\n",
    "    pass all remaining context items using **context.\n",
    "\n"
   ]
  },
  {
   "cell_type": "markdown",
   "metadata": {},
   "source": [
    "### Initialization\n",
    "A MapSig object is defined by passing a dummy function that has teh desired signature for the final wrapped function.  e.g.\n",
    "\n",
    "```python\n",
    "def dummy_func(arg1: str, arg2='', **arg3)->str: pass\n",
    "\n",
    "three_arg_wrapper = MapSig(dummy_func)\n",
    "\n",
    "@three_arg_wrapper\n",
    "def one_string_func(string1: str)->str:\n",
    "    return string1.lower()\n",
    "\n",
    "one_string_func('ABC', 'DEF', extra_arg='Nothing')\n",
    ">>> 'abc'\n",
    "```"
   ]
  },
  {
   "cell_type": "markdown",
   "metadata": {},
   "source": [
    "### Mapping parameters between signatures."
   ]
  },
  {
   "cell_type": "markdown",
   "metadata": {},
   "source": [
    "The \"Calling\" signature is defined with sequence of argument definitions. \n",
    "\n",
    "**Argument Definition:**\n",
    "- **Name** (str): The name of the argument.\n",
    "- **Type** (str): _'Positional'_, _'Keyword'_, _'kwarg'_\n",
    "  - All _'Positional'_ arguments must precede the first _'Keyword'_ argument.\n",
    "  - A _'kwarg'_ argument is not required, but there can only be one _'kwarg'_ argument, and if present, it must be the last argument.\n",
    "  - If the \"Calling\" signature includes a _'kwarg'_ argument and the un-wrapped function signature contains a parameter name matching the _'kwarg'_ argument, the _'kwarg'_ argument will be passed as a dictionary object to the the un-wrapped function.\n",
    "  - If the \"Calling\" signature includes a _'kwarg'_ argument and the un-wrapped function signature **does not** contain a parameter name matching the _'kwarg'_ argument, but does contain it's own `**kwargs` type parameter, the _'kwarg'_ argument the _'kwarg'_ argument will be passed to the the un-wrapped function in the `**kwarg` style.\n",
    "  - The _'kwarg'_ argument is expected to have the `Dict[str, Any]` data type so that it can be passed to the un-wrapped function in the `**kwarg` style if required.\n",
    "- **Required** (bool, optional): If an argument is required, there must be a corresponding argument in the un-wrapped function signature.\n",
    "  - Default is False.\n",
    "  - Any _'Keyword'_ argument can be required regardless of order.\n",
    "  - The \"Calling\" signature must begin with any required _'Positional'_ arguments. (A required _'Positional'_ argument may not follow any non-required _'Positional'_ arguments.)"
   ]
  },
  {
   "cell_type": "markdown",
   "metadata": {},
   "source": [
    "#### \"Calling\" signature checks\n",
    "- if Type is not one of [_'Positional'_, _'Keyword'_, _'kwarg'_], `ValueError` is raised.\n",
    "- If a _'Positional'_ argument follows the first _'Keyword'_ argument, `ValueError` is raised.\n",
    "- If a \"required\" _'Positional'_ argument follows a \"non-required\" _'Positional'_ argument, `ValueError` is raised."
   ]
  },
  {
   "cell_type": "markdown",
   "metadata": {},
   "source": [
    "### \\_\\_call__ method\n",
    "- The `__call__(func)` method is used to wrap `func`.\n",
    "- It compares the `func` signature with the defined \"Calling\" signature\n",
    "\n",
    "1. _'Keyword'_ arguments are matched with `func` _'positional or keyword'_ and  _'keyword-only'_ parameters that have the same name.\n",
    "\n",
    "2. If the `func` signature **does not** contain a 'variadic keyword' (`**kwargs`) parameter, all _'Keyword'_ arguments **following** the first matched _'Keyword'_ argument are not passed to `func`. If any of those arguments is 'Required' a `ValueError` is raised.\n",
    "\n",
    "3. A sequence is created from the _'Positional'_ arguments and all arguments **preceding** the first matched _'Keyword'_ argument.\n",
    "  \n",
    "4. A second sequence is created from the _'positional-only'_ and _'positional or keyword'_ `func` parameters.\n",
    "\n",
    "5. The two sequences are mapped 1-to-1 until one of the sequences is exhausted. \n",
    "\n",
    "6. If the second sequence (containing `func` parameters) is exhausted first, and the `func` signature **does not** contain a 'variadic positional' (`*args`) parameter, any remaining _'Positional'_ arguments are not passed to `func`.  If any of those arguments is 'Required' a `ValueError` is raised.\n",
    "\n",
    "- defaults\n",
    "- `*args`\n",
    "- `**kwargs`\n",
    "- The _'kwarg'_ argument\n",
    "\n",
    "\n",
    "1. If the `func` signature **contains** a 'variadic keyword' (`**kwargs`), all un matched _'Keyword'_ arguments are passed to `func` via the `**kwargs` assignment.\n",
    "\n"
   ]
  },
  {
   "cell_type": "markdown",
   "metadata": {},
   "source": [
    "  \n",
    "> - Without a list of valid signatures it will assume that positional arguments \n",
    ">   come in the same order as in the final signature.\n",
    "> - Additional keyword arguments can be extracted from the 'varkw' argument \n",
    ">   (if it exists) in the final signature.\n",
    "> - Additional keyword arguments can be supplied during instance creation and passed\n",
    ">   to the called function."
   ]
  },
  {
   "attachments": {},
   "cell_type": "markdown",
   "metadata": {},
   "source": [
    "Move standard_action, sig_match, and set_method into the module"
   ]
  },
  {
   "cell_type": "markdown",
   "metadata": {},
   "source": [
    "## Classes as function wrappers\n",
    "- Class objects are decorators\n",
    "\n",
    "- Action class\n",
    "  - Convert *Action* strings into standard functions\n",
    "\n",
    "- StandardSig class\n",
    "  - Check the function argument signature against expected possible signatures.\n",
    "  - Wrap the function with a standard argument signature.\n",
    "\n",
    "- FunctionProcessor Class\n",
    "  - Apply specific Action and StandardSig instances\n",
    "  - Add attribute indicating if the supplied function is a generator."
   ]
  },
  {
   "cell_type": "markdown",
   "metadata": {},
   "source": [
    "### StandardSig Class \n",
    "  - Check the function argument signature against expected possible signatures.\n",
    "  - Wrap the function with a standard argument signature.\n",
    "  - Assign annotation to resulting function based on final signature and wrapped function.\n",
    "\n",
    "A sequence of variable definitions is given representing the desired final signature.\n",
    "\n",
    "has __call__ method \n",
    "\n",
    "\n",
    "\n",
    "Definition\n",
    "- Final (required) signature \n",
    "- Valid signatures\n",
    "  \n",
    "> - Without a list of valid signatures it will assume that positional arguments \n",
    ">   come in the same order as in the final signature.\n",
    "> - Additional keyword arguments can be extracted from the 'varkw' argument \n",
    ">   (if it exists) in the final signature.\n",
    "> - Additional keyword arguments can be supplied during instance creation and passed\n",
    ">   to the called function."
   ]
  },
  {
   "cell_type": "markdown",
   "metadata": {},
   "source": [
    "##### Example:\n",
    "\n",
    "**Required signature:**\n",
    "> `rule_method(test_object: SourceItem, event: TriggerEvent, context)`\n",
    "\n",
    "|Name: str  |Type: [type, str]|Required: bool  |Positional: bool|Notes: str|\n",
    "|-----------|-----------------|----------------|----------------|-----------|\n",
    "|test_object|SourceItem       |True            |True            |Must be present, cannot be in context|\n",
    "|event      |TriggerEvent     |False           |True            |can be in context?|\n",
    "|context    |'varkw'          |False           |True            |context  or **context|\n"
   ]
  },
  {
   "cell_type": "markdown",
   "metadata": {},
   "source": [
    "**Valid signatures**\n",
    "\n",
    "The conversion is based on number of arguments without defaults and the\n",
    "presence of a var keyword argument (**kwargs):\n",
    "\n",
    "\n",
    "|Signature                                 |Args|varkw  |Notes              |\n",
    "|------------------------------------------|----|-------|-------------------|\n",
    "|func(item)                                |1   |None   |                   |\n",
    "|func(item, **context)                     |1   |context|                   |\n",
    "|func(item, event)                         |2   |None   |                   |\n",
    "|func(item, event [, other(s)=defaults(s)])|1   |None   |                   |\n",
    "|func(item, event, **context)              |2   |context|                   |\n",
    "|func(item, event, context)                |3   |None   |Expected           |\n",
    "|func(item, event, [other(s),] **context)  |3+  |context|Not Yet Implemented|\n"
   ]
  },
  {
   "cell_type": "markdown",
   "metadata": {},
   "source": [
    "**Valid Action Names**\n",
    "- 'Original': return the original item supplied.\n",
    "- 'Blank': return ''  (an empty string).\n",
    "- 'None': return None.\n",
    "- 'Value': return the self.event.test_value object.\n",
    "- 'Name': return the self.event.test_name object.\n",
    "\n",
    "```python\n",
    "rule_sig = {\n",
    "    (1, False): lambda func, item, event, context: func(item),\n",
    "    (1, True): lambda func, item, event, context: func(item, **context),\n",
    "    (2, False): lambda func, item, event, context: func(item, event),\n",
    "    (2, True): lambda func, item, event, context: func(item, event, **context),\n",
    "    (3, False): lambda func, item, event, context: func(item, event, context)\n",
    "    }\n",
    "```"
   ]
  },
  {
   "cell_type": "markdown",
   "metadata": {},
   "source": [
    "### FunctionProcessor Class\n",
    "\n",
    "- Class objects are decorators / functions that \n",
    "  1. Convert *Action* strings into standard functions\n",
    "  3. Check the function argument signature against expected possible signatures.\n",
    "  4. Wrap the function with a standard argument signature.\n",
    "  5. Test whether a supplied function is a generator.\n",
    "  \n"
   ]
  },
  {
   "cell_type": "markdown",
   "metadata": {},
   "source": [
    "- Take text processing functions and convert them into *actions*"
   ]
  },
  {
   "cell_type": "markdown",
   "metadata": {},
   "source": [
    "- Convert set_method, sig_match, standard_action into a helper class\n",
    "\n",
    "The class can be initialized with signature and action definitions to create different objects for different function groups. When the object is applied to a function or string, it returns a corresponding function with the expected argument signature."
   ]
  },
  {
   "cell_type": "markdown",
   "metadata": {},
   "source": [
    "The class object is a custom decorator function."
   ]
  },
  {
   "attachments": {},
   "cell_type": "markdown",
   "metadata": {},
   "source": [
    "https://stackoverflow.com/questions/76304643/reuse-of-function-signature-type-hints-and-intellisense-args-kwargs\n"
   ]
  },
  {
   "attachments": {},
   "cell_type": "markdown",
   "metadata": {},
   "source": [
    "### Standard Actions\n",
    "*Convert a Method name to a Standard Function.*\n",
    "\n",
    "Take the name of a standard actions and return the matching function.\n",
    "\n",
    "**Arguments:**\n",
    "- action_name (str): The name of a standard action.\n",
    "- method_type (str): The type of action function expected.\n",
    "    One of ['Process', 'Rule']. Defaults to 'Process'\n",
    "\n",
    "**Raises: **\n",
    "- ValueError If the action_name or method_type supplied are not one of\n",
    "    the valid action names or method types.\n",
    "\n",
    "**Returns:**\n",
    "- (ProcessFunc, RuleFunc): One of the standard action functions."
   ]
  },
  {
   "attachments": {},
   "cell_type": "markdown",
   "metadata": {},
   "source": [
    "### sig_match\n",
    "*Convert the supplied function with a standard signature.*\n",
    "\n",
    "The conversion is based on number of arguments without defaults and the\n",
    "presence of a var keyword argument (**kwargs):\n",
    "\n",
    "**Arguments:**\n",
    "- given_method (MethodOptions): A function to be used as a rule\n",
    "        method or a process method.\n",
    "- sig_type (str, optional): The type of argument signature desired.  Can\n",
    "        be one of: 'Process' or 'Rule'.  Defaults to 'Process'.\n",
    "\n",
    "**Raises:**\n",
    "- ValueError If given_method does not have one of the expected\n",
    "    argument signature types.\n",
    "\n",
    "**Returns:**\n",
    "- (ProcessFunc, RuleFunc): A function with the standard Rule or Process\n",
    "        Method argument signature\n"
   ]
  },
  {
   "attachments": {},
   "cell_type": "markdown",
   "metadata": {},
   "source": [
    "### set_method\n",
    "*Convert the supplied function or action name to a Function with\n",
    "    the standard signature.*\n",
    "\n",
    "See the standard_action function for valid action names. See the sig_match\n",
    "function for valid function argument signatures.\n",
    "Add a special attribute to the returned function indicating if it is a\n",
    "generator function.\n",
    "\n",
    "**Arguments:**\n",
    "- given_method (RuleMethodOptions): A function, or the name of a\n",
    "    standard action.\n",
    "- method_type (str): The type of action function expected.\n",
    "    One of ['Process', 'Rule']. Defaults to 'Process'\n",
    "\n",
    "**Raises:**\n",
    "- ValueError If rule_method is a string and is not one of the\n",
    "    valid action names, or if rule_method is a function and does not\n",
    "    have one of the valid argument signature types.\n",
    "\n",
    "**Returns:**\n",
    "- (ProcessFunc, RuleFunc): A function with the standard Rule or Process\n",
    "        Method argument signature"
   ]
  },
  {
   "attachments": {},
   "cell_type": "markdown",
   "metadata": {},
   "source": [
    "### Method Types"
   ]
  },
  {
   "attachments": {},
   "cell_type": "markdown",
   "metadata": {},
   "source": [
    "#### rule\n",
    "- rule_method(item, context) is not allowed; use:\n",
    "    - rule_method(item, **context)          or\n",
    "    - rule_method(item, event, context)     instead.\n",
    "\n",
    "*Required signature:*\n",
    "> `rule_method(test_object: SourceItem, event: TriggerEvent, context)`\n",
    "\n",
    "|Signature                                 |Args|varkw  |Notes              |\n",
    "|------------------------------------------|----|-------|-------------------|\n",
    "|func(item)                                |1   |None   |                   |\n",
    "|func(item, **context)                     |1   |context|                   |\n",
    "|func(item, event)                         |2   |None   |                   |\n",
    "|func(item, event [, other(s)=defaults(s)])|1   |None   |                   |\n",
    "|func(item, event, **context)              |2   |context|                   |\n",
    "|func(item, event, context)                |3   |None   |Expected           |\n",
    "|func(item, event, [other(s),] **context)  |3+  |context|Not Yet Implemented|\n",
    "\n",
    "**Valid Action Names**\n",
    "- 'Original': return the original item supplied.\n",
    "- 'Blank': return ''  (an empty string).\n",
    "- 'None': return None.\n",
    "- 'Value': return the self.event.test_value object.\n",
    "- 'Name': return the self.event.test_name object."
   ]
  },
  {
   "attachments": {},
   "cell_type": "markdown",
   "metadata": {},
   "source": [
    "#### process\n",
    "- Also applies to Sentinel and Assemble methods.\n",
    "\n",
    "*Required signature:*\n",
    "> `process_method(test_object: SourceItem, context)`\n",
    "\n",
    "|Signature                                 |Args|varkw  |Notes              |\n",
    "|------------------------------------------|----|-------|-------------------|\n",
    "|func(item)                                |1   |None   |                   |\n",
    "|func(item  [, other(s)=defaults(s)])      |1   |None   |                   |\n",
    "|func(item, **context)                     |1   |context|                   |\n",
    "|func(item, context)                       |2   |None   |Expected           |\n",
    "|func(item  [, other(s)] **context)        |2+  |context|Not Yet Implemented|\n",
    "\n",
    "**Valid Action Names**\n",
    "- 'Original': return the original item supplied.\n",
    "- 'Blank': return ''  (an empty string).\n",
    "- 'None': return None.\n",
    "\n"
   ]
  },
  {
   "cell_type": "markdown",
   "metadata": {},
   "source": [
    "#### Function Signature options"
   ]
  },
  {
   "cell_type": "code",
   "execution_count": 6,
   "metadata": {},
   "outputs": [
    {
     "data": {
      "text/plain": [
       "['positional-only',\n",
       " 'positional or keyword',\n",
       " 'variadic positional',\n",
       " 'keyword-only',\n",
       " 'variadic keyword']"
      ]
     },
     "execution_count": 6,
     "metadata": {},
     "output_type": "execute_result"
    }
   ],
   "source": [
    "[k.description for k in inspect._ParameterKind.__members__.values()]"
   ]
  },
  {
   "cell_type": "code",
   "execution_count": 10,
   "metadata": {},
   "outputs": [
    {
     "data": {
      "text/plain": [
       "['POSITIONAL_ONLY',\n",
       " 'POSITIONAL_OR_KEYWORD',\n",
       " 'VAR_POSITIONAL',\n",
       " 'KEYWORD_ONLY',\n",
       " 'VAR_KEYWORD']"
      ]
     },
     "execution_count": 10,
     "metadata": {},
     "output_type": "execute_result"
    }
   ],
   "source": [
    "[k.name for k in inspect._ParameterKind.__members__.values()]"
   ]
  },
  {
   "cell_type": "markdown",
   "metadata": {},
   "source": [
    "**kind**\n",
    "> Describes how argument values are bound to the parameter. The possible values are accessible via Parameter (like Parameter.KEYWORD_ONLY), and support comparison and ordering, in the following order:\n",
    "\n",
    "|Name|Description|Meaning|\n",
    "|----|-----------|-------|\n",
    "POSITIONAL_ONLY|`'positional-only'`|Value must be supplied as a positional argument. Positional only parameters are those which appear before a / entry (if present) in a Python function definition.|\n",
    "|POSITIONAL_OR_KEYWORD|`'positional or keyword'`|Value may be supplied as either a keyword or positional argument (this is the standard binding behaviour for functions implemented in Python.)|\n",
    "|VAR_POSITIONAL|`'variadic positional'`|A tuple of positional arguments that aren’t bound to any other parameter. This corresponds to a *args parameter in a Python function definition.|\n",
    "|KEYWORD_ONLY|`'keyword-only'`|Value must be supplied as a keyword argument. Keyword only parameters are those which appear after a * or *args entry in a Python function definition.|\n",
    "|VAR_KEYWORD|`'variadic keyword'`|A dict of keyword arguments that aren’t bound to any other parameter. This corresponds to a **kwargs parameter in a Python function definition.|\n"
   ]
  },
  {
   "cell_type": "markdown",
   "metadata": {},
   "source": [
    "**Example:** "
   ]
  },
  {
   "cell_type": "code",
   "execution_count": 7,
   "metadata": {},
   "outputs": [],
   "source": [
    "def foo(a, /, b, *c, d, e=10, **f):\n",
    "    pass\n",
    "\n",
    "sig = signature(foo)\n"
   ]
  },
  {
   "cell_type": "markdown",
   "metadata": {},
   "source": [
    "*Count the number of parameters of each type*"
   ]
  },
  {
   "cell_type": "code",
   "execution_count": 8,
   "metadata": {},
   "outputs": [
    {
     "data": {
      "text/plain": [
       "Counter({'keyword-only': 2,\n",
       "         'positional-only': 1,\n",
       "         'positional or keyword': 1,\n",
       "         'variadic positional': 1,\n",
       "         'variadic keyword': 1})"
      ]
     },
     "execution_count": 8,
     "metadata": {},
     "output_type": "execute_result"
    }
   ],
   "source": [
    "Counter(param.kind.description for param in sig.parameters.values())\n"
   ]
  },
  {
   "cell_type": "code",
   "execution_count": 9,
   "metadata": {},
   "outputs": [
    {
     "data": {
      "text/plain": [
       "Counter({'KEYWORD_ONLY': 2,\n",
       "         'POSITIONAL_ONLY': 1,\n",
       "         'POSITIONAL_OR_KEYWORD': 1,\n",
       "         'VAR_POSITIONAL': 1,\n",
       "         'VAR_KEYWORD': 1})"
      ]
     },
     "execution_count": 9,
     "metadata": {},
     "output_type": "execute_result"
    }
   ],
   "source": [
    "Counter(param.kind.name for param in sig.parameters.values())\n"
   ]
  },
  {
   "cell_type": "markdown",
   "metadata": {},
   "source": [
    "*List all parameters, their type and their default (if it exists):*"
   ]
  },
  {
   "cell_type": "code",
   "execution_count": 65,
   "metadata": {},
   "outputs": [
    {
     "name": "stdout",
     "output_type": "stream",
     "text": [
      "a\tpositional-only          \n",
      "b\tpositional or keyword    \n",
      "c\tvariadic positional      \n",
      "d\tkeyword-only             \n",
      "e\tkeyword-only             10\n",
      "f\tvariadic keyword         \n"
     ]
    }
   ],
   "source": [
    "for param in sig.parameters.values():\n",
    "    if param.default is param.empty:\n",
    "        dft = ''\n",
    "    else:\n",
    "        dft = param.default\n",
    "    print(f'{param.name}\\t{param.kind.description:25s}{dft}')\n"
   ]
  },
  {
   "cell_type": "markdown",
   "metadata": {},
   "source": [
    "*print all keyword-only arguments without default values:*"
   ]
  },
  {
   "cell_type": "code",
   "execution_count": 60,
   "metadata": {},
   "outputs": [
    {
     "name": "stdout",
     "output_type": "stream",
     "text": [
      "Parameter: d\n"
     ]
    }
   ],
   "source": [
    "for param in sig.parameters.values():\n",
    "    if (param.kind == param.KEYWORD_ONLY and\n",
    "                       param.default is param.empty):\n",
    "        print('Parameter:', param)\n"
   ]
  },
  {
   "cell_type": "markdown",
   "metadata": {},
   "source": [
    "*Calling signature:*\n",
    "> `rule_method(test_object: Any, event: TriggerEvent, context)`\n",
    "\n",
    "*Allowed signatures:*\n",
    "> `func(arg1, event, context)`  *Both event and context as keyword args*<br>\n",
    "> `func(arg1, arg2,   arg3  )`  *Final signature*<br>\n",
    "> `func(arg1, arg2, **arg3  )`  *Immutable context*<br>\n",
    "> `func(arg1, arg2          )`  *No context*<br>\n",
    "> `func(arg1,       **arg3  )`  *No event*<br>\n",
    "> `func(arg1                )`\n",
    "> `func(arg1, event         )`  *event as keyword arg*<br>\n",
    "> `func(arg1, context       )`  *context as keyword arg*<br>\n",
    "> `func(arg1, context, event)`  *Reversed event and context keyword args*<br>\n",
    "\n",
    "> `func(*args, **kwargs)`  *Generic*<br>\n",
    "\n",
    "> `func(arg1, other_arg=`\\<Any> ...`          )`  *Arguments with defaults*<br>\n",
    "> `func(arg1, other_arg=`\\<Any> ...`, **arg3  )`  *other_arg is taken from context (if present)*<br>\n",
    "\n"
   ]
  },
  {
   "cell_type": "markdown",
   "metadata": {},
   "source": [
    "1. 'VAR_POSITIONAL' parameter present\n",
    "   1. Number of parameters before 'VAR_POSITIONAL' parameter less than or equal to expected number.\n",
    "   2. All parameter names after the 'VAR_POSITIONAL' parameter match.\n",
    "   3. Required 'KEYWORD_ONLY' parameters present\n",
    "\n",
    "2. 'VAR_KEYWORD' parameter present\n",
    "   1. Number of positional parameters before 'VAR_KEYWORD' parameter less than or equal to expected number.\n",
    "   2. 'context' is not the name of any parameter except 'VAR_KEYWORD'\n",
    "   3. Required 'POSITIONAL_ONLY' parameters present\n",
    "\n",
    "3. Number of parameters less than or equal to expected number.\n",
    "   1. No unmatched parameter names present (order irrelevant)\n",
    "      1. All parameter names present match.\n",
    "      2. All required parameters present. \n",
    "   2. Unmatched parameter names present.  (order of matched parameter names irrelevant)\n",
    "      1. All unmatched parameter names precede the matched parameter names.\n",
    "      2. All unmatched parameter do not map by order to a matched parameter name. \n",
    "      3. Required 'KEYWORD_ONLY' parameters present.\n",
    "\n",
    "\n",
    "4. Unmatched keyword parameter names present.\n",
    "   1. All unmatched positional parameter names precede the matched parameter names.\n",
    "   2. All unmatched parameters do not map by order to a matched parameter name. \n",
    "   3. Required 'KEYWORD_ONLY' parameters present.\n",
    "\n",
    "\n",
    "\n",
    "5. Number of parameters greater than expected number.\n",
    "6. All parameter names present match (but some non-required parameters missing, order still irrelevant)"
   ]
  },
  {
   "cell_type": "markdown",
   "metadata": {},
   "source": [
    "- 'POSITIONAL_ONLY'\n",
    "- 'POSITIONAL_OR_KEYWORD'\n",
    "- 'VAR_POSITIONAL'\n",
    "- 'KEYWORD_ONLY'\n",
    "- 'VAR_KEYWORD'"
   ]
  },
  {
   "cell_type": "code",
   "execution_count": 11,
   "metadata": {},
   "outputs": [
    {
     "name": "stdout",
     "output_type": "stream",
     "text": [
      "4\n",
      "5\n",
      "6\n"
     ]
    }
   ],
   "source": [
    "def bar(a=1, b=2, c=3):\n",
    "    print(a)\n",
    "    print(b)\n",
    "    print(c)\n",
    "\n",
    "bar(b=5, c=6, a=4)"
   ]
  },
  {
   "cell_type": "code",
   "execution_count": 15,
   "metadata": {},
   "outputs": [
    {
     "name": "stdout",
     "output_type": "stream",
     "text": [
      "5\n",
      "6\n",
      "7\n"
     ]
    }
   ],
   "source": [
    "bar(5, c=7, b=6)"
   ]
  },
  {
   "cell_type": "markdown",
   "metadata": {},
   "source": [
    "#### Testing supplied function signature\n",
    "1. Check for matching argument names\n",
    "2. check for VAR_KEYWORD"
   ]
  },
  {
   "cell_type": "code",
   "execution_count": 17,
   "metadata": {},
   "outputs": [],
   "source": [
    "def parse_prescribed_dose(line, event, **context)->List[List[str]]:# pylint: disable=unused-argument\n",
    "    '''Split \"Prescribed dose [cGy]\" into 2 lines:\n",
    "        Prescribed dose\n",
    "        Prescribed dose Unit\n",
    "        '''\n",
    "    parse_template = [\n",
    "        ['Prescribed dose', '{dose}'],\n",
    "        ['Prescribed dose Unit', '{unit}']\n",
    "        ]\n",
    "    match_results = event.test_value.groupdict()\n",
    "    if match_results['dose'] == 'not defined':\n",
    "        parsed_lines = [\n",
    "            ['Prescribed dose', ''],\n",
    "            ['Prescribed dose Unit', '']\n",
    "            ]\n",
    "    else:\n",
    "        parsed_lines = [\n",
    "            [string_item.format(**match_results) for string_item in line_tmpl]\n",
    "            for line_tmpl in parse_template\n",
    "            ]\n",
    "    for line in parsed_lines:\n",
    "        yield line\n"
   ]
  },
  {
   "cell_type": "code",
   "execution_count": 16,
   "metadata": {},
   "outputs": [],
   "source": [
    "#%% Test Text\n",
    "test_lines = '''\n",
    "Prescribed dose [cGy]: 5000.0\n",
    "Prescribed dose [cGy]: not defined\n",
    "\n",
    "Plan Status: Unapproved\n",
    "Plan Status: Treatment Approved Thursday, January 02, 2020 12:55:56 by gsal\n",
    "\n",
    "% for dose(%): 100.0\n",
    "% for dose (%): not defined\n",
    "'''\n"
   ]
  },
  {
   "cell_type": "code",
   "execution_count": 18,
   "metadata": {},
   "outputs": [
    {
     "data": {
      "text/plain": [
       "True"
      ]
     },
     "execution_count": 18,
     "metadata": {},
     "output_type": "execute_result"
    }
   ],
   "source": [
    "inspect.isfunction(parse_prescribed_dose)"
   ]
  },
  {
   "cell_type": "code",
   "execution_count": 19,
   "metadata": {},
   "outputs": [],
   "source": [
    "a = signature(parse_prescribed_dose)\n"
   ]
  },
  {
   "cell_type": "code",
   "execution_count": 22,
   "metadata": {},
   "outputs": [
    {
     "data": {
      "text/plain": [
       "'(line, event, **context) -> List[List[str]]'"
      ]
     },
     "execution_count": 22,
     "metadata": {},
     "output_type": "execute_result"
    }
   ],
   "source": [
    "str(a)"
   ]
  },
  {
   "cell_type": "code",
   "execution_count": 21,
   "metadata": {},
   "outputs": [
    {
     "data": {
      "text/plain": [
       "3"
      ]
     },
     "execution_count": 21,
     "metadata": {},
     "output_type": "execute_result"
    }
   ],
   "source": [
    "len(a.parameters)"
   ]
  },
  {
   "cell_type": "code",
   "execution_count": 34,
   "metadata": {},
   "outputs": [
    {
     "data": {
      "text/plain": [
       "<_ParameterKind.POSITIONAL_OR_KEYWORD: 1>"
      ]
     },
     "execution_count": 34,
     "metadata": {},
     "output_type": "execute_result"
    }
   ],
   "source": [
    "b = [param.kind for param in a.parameters.values()]\n",
    "b[0]"
   ]
  },
  {
   "cell_type": "code",
   "execution_count": 38,
   "metadata": {},
   "outputs": [
    {
     "data": {
      "text/plain": [
       "mappingproxy({'POSITIONAL_ONLY': <_ParameterKind.POSITIONAL_ONLY: 0>,\n",
       "              'POSITIONAL_OR_KEYWORD': <_ParameterKind.POSITIONAL_OR_KEYWORD: 1>,\n",
       "              'VAR_POSITIONAL': <_ParameterKind.VAR_POSITIONAL: 2>,\n",
       "              'KEYWORD_ONLY': <_ParameterKind.KEYWORD_ONLY: 3>,\n",
       "              'VAR_KEYWORD': <_ParameterKind.VAR_KEYWORD: 4>})"
      ]
     },
     "execution_count": 38,
     "metadata": {},
     "output_type": "execute_result"
    }
   ],
   "source": [
    "inspect._ParameterKind.__members__"
   ]
  },
  {
   "cell_type": "code",
   "execution_count": 31,
   "metadata": {},
   "outputs": [
    {
     "data": {
      "text/plain": [
       "Counter({'positional or keyword': 2, 'variadic keyword': 1})"
      ]
     },
     "execution_count": 31,
     "metadata": {},
     "output_type": "execute_result"
    }
   ],
   "source": [
    "\n",
    "\n",
    "\n",
    "Counter(param.kind.description for param in a.parameters.values())"
   ]
  },
  {
   "cell_type": "code",
   "execution_count": null,
   "metadata": {},
   "outputs": [],
   "source": [
    "rule_sig = {\n",
    "    (1, False): lambda func, item, event, context: func(item),\n",
    "    (1, True): lambda func, item, event, context: func(item, **context),\n",
    "    (2, False): lambda func, item, event, context: func(item, event),\n",
    "    (2, True):\n",
    "        lambda func, item, event, context: func(item, event, **context),\n",
    "    (3, False):\n",
    "        lambda func, item, event, context: func(item, event, context)\n",
    "    }\n",
    "process_sig = {\n",
    "    (1, False): lambda func, item, context: func(item),\n",
    "    (2, False): lambda func, item, context: func(item, context),\n",
    "    (1, True): lambda func, item, context: func(item, **context)\n",
    "    }\n"
   ]
  },
  {
   "cell_type": "code",
   "execution_count": null,
   "metadata": {},
   "outputs": [],
   "source": [
    "\n",
    "arg_spec = inspect.getfullargspec(given_method)\n",
    "# Determine arg_count\n",
    "if not arg_spec.args:\n",
    "    if arg_spec.varargs:\n",
    "        arg_count = 1\n",
    "    else:\n",
    "        arg_count = 0\n",
    "elif not arg_spec.defaults:\n",
    "    arg_count = len(arg_spec.args)\n",
    "else:\n",
    "    arg_count = len(arg_spec.args) - len(arg_spec.defaults)\n",
    "    if arg_count == 0:\n",
    "        arg_count = 1\n",
    "\n",
    "# Determine presence of keyword argument catcher\n",
    "has_varkw = arg_spec.varkw is not None\n"
   ]
  },
  {
   "cell_type": "code",
   "execution_count": null,
   "metadata": {},
   "outputs": [
    {
     "data": {
      "text/plain": [
       "'event'"
      ]
     },
     "metadata": {},
     "output_type": "display_data"
    }
   ],
   "source": [
    "list(a.parameters.values())[1].name"
   ]
  },
  {
   "cell_type": "code",
   "execution_count": null,
   "metadata": {},
   "outputs": [
    {
     "data": {
      "text/plain": [
       "<BoundArguments (line='l')>"
      ]
     },
     "metadata": {},
     "output_type": "display_data"
    }
   ],
   "source": [
    "b = a.bind_partial('l')\n",
    "b"
   ]
  },
  {
   "cell_type": "code",
   "execution_count": null,
   "metadata": {},
   "outputs": [
    {
     "data": {
      "text/plain": [
       "<BoundArguments (line='l', context={})>"
      ]
     },
     "metadata": {},
     "output_type": "display_data"
    }
   ],
   "source": [
    "b.apply_defaults()\n",
    "b"
   ]
  },
  {
   "cell_type": "code",
   "execution_count": null,
   "metadata": {},
   "outputs": [
    {
     "data": {
      "text/plain": [
       "<Signature (line, event, **context) -> List[List[str]]>"
      ]
     },
     "metadata": {},
     "output_type": "display_data"
    }
   ],
   "source": [
    "b.signature"
   ]
  },
  {
   "cell_type": "code",
   "execution_count": null,
   "metadata": {},
   "outputs": [],
   "source": [
    "def date_parse(line, event)->List[List[str]]:\n",
    "    '''If Date,don't split beyond first :'''\n",
    "    parsed_line = [event.test_value, line.split(':',maxsplit=1)[1]]\n",
    "    return parsed_line\n"
   ]
  },
  {
   "cell_type": "code",
   "execution_count": null,
   "metadata": {},
   "outputs": [],
   "source": [
    "def approved_status_parse(line, event)->List[List[str]]:\n",
    "    '''If Treatment Approved, Split \"Plan Status\" into 3 lines:\n",
    "        Plan Status\n",
    "        Approved on\n",
    "        Approved by\n",
    "        '''\n",
    "    idx1 = line.find(event.test_value)\n",
    "    idx2 = idx1 + len(event.test_value)\n",
    "    idx3 = line.find('by')\n",
    "    idx4 = idx3 + 3\n",
    "    parsed_lines = [\n",
    "        ['Plan Status', line[idx1:idx2]],\n",
    "        ['Approved on', line[idx2:idx3]],\n",
    "        ['Approved by', line[idx4:]]\n",
    "        ]\n",
    "    for line in parsed_lines:\n",
    "        yield line"
   ]
  },
  {
   "cell_type": "code",
   "execution_count": null,
   "metadata": {},
   "outputs": [],
   "source": [
    "def make_float(item, context):\n",
    "    item_c = item.replace('Line','')\n",
    "    try:\n",
    "        num = float(item_c.strip())\n",
    "    except:\n",
    "        return None\n",
    "    output =  f'Line {num:5.2f}'\n",
    "    context['num'] = num\n",
    "    return output"
   ]
  },
  {
   "cell_type": "code",
   "execution_count": null,
   "metadata": {},
   "outputs": [],
   "source": [
    "\n",
    "if sig_type == 'Process':\n",
    "    sig_function = process_sig.get((arg_count, has_varkw))\n",
    "else:\n",
    "    sig_function = rule_sig.get((arg_count, has_varkw))\n",
    "if not sig_function:\n",
    "    raise ValueError('Invalid function type.')\n",
    "use_function = partial(sig_function, given_method)\n",
    "func_name = getattr(given_method, '__name__', None)\n",
    "if not func_name:\n",
    "    if isinstance(given_method, partial):\n",
    "        func_name = getattr(given_method.func, '__name__',\n",
    "                            'PartialFunction')\n",
    "    else:\n",
    "        func_name = 'PartialFunction'\n",
    "use_function.__name__ = func_name\n",
    "return use_function\n"
   ]
  },
  {
   "cell_type": "code",
   "execution_count": null,
   "metadata": {},
   "outputs": [],
   "source": [
    "class TestRuleExceptions(unittest.TestCase):\n",
    "\n",
    "    @unittest.skip('Currently rule_method(item, context) is allowed')\n",
    "    def test_no_event_arg(self):\n",
    "        test_func = lambda item, context: str(item) + repr(context)\n",
    "        with self.assertRaises(ValueError):\n",
    "            invalid_rule = Rule('T', pass_method=test_func)\n",
    "\n",
    "    def test_no_arg(self):\n",
    "        def test_func():\n",
    "            return \"T\"\n",
    "        with self.assertRaises(ValueError):\n",
    "            invalid_rule = Rule('T', pass_method=test_func)\n",
    "\n",
    "    def test_many_arg(self):\n",
    "        test_func = lambda item1, item2, event, context: 'a'\n",
    "        with self.assertRaises(ValueError):\n",
    "            invalid_rule = Rule('T', pass_method=test_func)\n",
    "\n",
    "    def test_bad_action(self):\n",
    "        with self.assertRaises(ValueError):\n",
    "            invalid_rule = Rule('T', pass_method='Not an Action')\n",
    "\n",
    "class TestRuleActions(unittest.TestCase):\n",
    "    def test_original_action(self):\n",
    "        test_text = 'Test Text'\n",
    "        test_rule = Rule('Text', pass_method='Original')\n",
    "        output = iter(test_rule(test_text))\n",
    "        result = next(output)\n",
    "        self.assertEqual(result, test_text)\n",
    "\n",
    "    def test_event_action(self):\n",
    "        test_text = 'Test Text'\n",
    "        sentinel = 'Text'\n",
    "        test_rule = Rule(sentinel, pass_method='Event')\n",
    "        output = iter(test_rule(test_text))\n",
    "        result = next(output)\n",
    "        self.assertEqual(result.test_value, sentinel)\n",
    "\n",
    "    def test_none_action(self):\n",
    "        test_text = 'Test Text'\n",
    "        test_rule = Rule('Text', pass_method='None')\n",
    "        output = iter(test_rule(test_text))\n",
    "        result = next(output)\n",
    "        self.assertIsNone(result)\n",
    "\n",
    "    def test_blank_action(self):\n",
    "        test_text = 'Test Text'\n",
    "        test_rule = Rule('Text', pass_method='Blank')\n",
    "        # Note this works because the Rule methods are not generator functions.\n",
    "        result = test_rule.apply(test_text)\n",
    "        self.assertEqual(result, '')\n",
    "\n",
    "class TestRuleFail(unittest.TestCase):\n",
    "    def test_fail_method(self):\n",
    "        test_text = 'Test Line'\n",
    "        test_rule = Rule('Text', pass_method='Blank',\n",
    "                            fail_method='Original')\n",
    "        # Note this works because the Rule methods are not generator functions.\n",
    "        result = test_rule.apply(test_text, {})\n",
    "        self.assertEqual(result, test_text)\n",
    "        result2 = test_rule.apply('Test Text', {})\n",
    "        self.assertEqual(result2, '')\n"
   ]
  }
 ],
 "metadata": {
  "kernelspec": {
   "display_name": "sectionaryDev",
   "language": "python",
   "name": "python3"
  },
  "language_info": {
   "codemirror_mode": {
    "name": "ipython",
    "version": 3
   },
   "file_extension": ".py",
   "mimetype": "text/x-python",
   "name": "python",
   "nbconvert_exporter": "python",
   "pygments_lexer": "ipython3",
   "version": "3.12.1"
  },
  "orig_nbformat": 4
 },
 "nbformat": 4,
 "nbformat_minor": 2
}
