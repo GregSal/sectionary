{
 "cells": [
  {
   "cell_type": "code",
   "execution_count": 1,
   "metadata": {},
   "outputs": [],
   "source": [
    "import inspect\n",
    "from inspect import isgeneratorfunction\n",
    "from functools import partial\n",
    "from functools import wraps\n",
    "from inspect import signature\n",
    "\n",
    "import unittest\n",
    "from pathlib import Path\n",
    "from typing import List\n",
    "import re\n",
    "from sections import Rule, RuleSet\n",
    "import text_reader as tp"
   ]
  },
  {
   "attachments": {},
   "cell_type": "markdown",
   "metadata": {},
   "source": [
    "# Function Processing Module"
   ]
  },
  {
   "attachments": {},
   "cell_type": "markdown",
   "metadata": {},
   "source": [
    "Move standard_action, sig_match, and set_method into the module"
   ]
  },
  {
   "cell_type": "markdown",
   "metadata": {},
   "source": [
    "## Classes as function wrappers\n",
    "- Class objects are decorators\n",
    "\n",
    "- Action class\n",
    "  - Convert *Action* strings into standard functions\n",
    "\n",
    "- StandardSig class\n",
    "  - Check the function argument signature against expected possible signatures.\n",
    "  - Wrap the function with a standard argument signature.\n",
    "\n",
    "- FunctionProcessor Class\n",
    "  - Apply specific Action and StandardSig instances\n",
    "  - Add attribute indicating if the supplied function is a generator."
   ]
  },
  {
   "cell_type": "markdown",
   "metadata": {},
   "source": [
    "### StandardSig Class \n",
    "  - Check the function argument signature against expected possible signatures.\n",
    "  - Wrap the function with a standard argument signature.\n",
    "  - Assign annotation to resulting function based on final signature and wrapped function.\n",
    "\n",
    "A sequence of variable definitions is given representing the desired final signature.\n",
    "\n",
    "has __call__ method \n",
    "\n",
    "\n",
    "\n",
    "Definition\n",
    "- Final (required) signature \n",
    "- Valid signatures\n",
    "  \n",
    "> - Without a list of valid signatures it will assume that positional arguments \n",
    ">   come in the same order as in the final signature.\n",
    "> - Additional keyword arguments can be extracted from the 'varkw' argument \n",
    ">   (if it exists) in the final signature.\n",
    "> - Additional keyword arguments can be supplied during instance creation and passed\n",
    ">   to the called function."
   ]
  },
  {
   "cell_type": "markdown",
   "metadata": {},
   "source": [
    "##### Example:\n",
    "\n",
    "**Required signature:**\n",
    "> `rule_method(test_object: SourceItem, event: TriggerEvent, context)`\n",
    "\n",
    "|Name: str  |Type: [type, str]|Required: bool  |Positional: bool|Notes: str|\n",
    "|-----------|-----------------|----------------|----------------|-----------|\n",
    "|test_object|SourceItem       |True            |True            |Must be present, cannot be in context|\n",
    "|event      |TriggerEvent     |False           |True            |can be in context?|\n",
    "|context    |'varkw'          |False           |True            |context  or **context|\n"
   ]
  },
  {
   "cell_type": "markdown",
   "metadata": {},
   "source": [
    "**Valid signatures**\n",
    "\n",
    "The conversion is based on number of arguments without defaults and the\n",
    "presence of a var keyword argument (**kwargs):\n",
    "\n",
    "\n",
    "|Signature                                 |Args|varkw  |Notes              |\n",
    "|------------------------------------------|----|-------|-------------------|\n",
    "|func(item)                                |1   |None   |                   |\n",
    "|func(item, **context)                     |1   |context|                   |\n",
    "|func(item, event)                         |2   |None   |                   |\n",
    "|func(item, event [, other(s)=defaults(s)])|1   |None   |                   |\n",
    "|func(item, event, **context)              |2   |context|                   |\n",
    "|func(item, event, context)                |3   |None   |Expected           |\n",
    "|func(item, event, [other(s),] **context)  |3+  |context|Not Yet Implemented|\n"
   ]
  },
  {
   "cell_type": "markdown",
   "metadata": {},
   "source": [
    "**Valid Action Names**\n",
    "- 'Original': return the original item supplied.\n",
    "- 'Blank': return ''  (an empty string).\n",
    "- 'None': return None.\n",
    "- 'Value': return the self.event.test_value object.\n",
    "- 'Name': return the self.event.test_name object.\n",
    "\n",
    "```python\n",
    "rule_sig = {\n",
    "    (1, False): lambda func, item, event, context: func(item),\n",
    "    (1, True): lambda func, item, event, context: func(item, **context),\n",
    "    (2, False): lambda func, item, event, context: func(item, event),\n",
    "    (2, True): lambda func, item, event, context: func(item, event, **context),\n",
    "    (3, False): lambda func, item, event, context: func(item, event, context)\n",
    "    }\n",
    "```"
   ]
  },
  {
   "cell_type": "markdown",
   "metadata": {},
   "source": [
    "### FunctionProcessor Class\n",
    "\n",
    "- Class objects are decorators / functions that \n",
    "  1. Convert *Action* strings into standard functions\n",
    "  3. Check the function argument signature against expected possible signatures.\n",
    "  4. Wrap the function with a standard argument signature.\n",
    "  5. Test whether a supplied function is a generator.\n",
    "  \n"
   ]
  },
  {
   "cell_type": "markdown",
   "metadata": {},
   "source": [
    "- Take text processing functions and convert them into *actions*"
   ]
  },
  {
   "cell_type": "markdown",
   "metadata": {},
   "source": [
    "- Convert set_method, sig_match, standard_action into a helper class\n",
    "\n",
    "The class can be initialized with signature and action definitions to create different objects for different function groups. When the object is applied to a function or string, it returns a corresponding function with the expected argument signature."
   ]
  },
  {
   "cell_type": "markdown",
   "metadata": {},
   "source": [
    "The class object is a custom decorator function."
   ]
  },
  {
   "cell_type": "markdown",
   "metadata": {},
   "source": [
    "[**Emulating callable objects**](https://docs.python.org/3/reference/datamodel.html#:~:text=3.3.6.%20Emulating%20callable%20objects%C2%B6)\n",
    "\n",
    "`object.__call__(self[, args...])`\n",
    "\n",
    "Called when the instance is *called* as a function; if this method is defined, \n",
    "`x(arg1, arg2, ...)` roughly translates to `type(x).__call__(x, arg1, ...)`."
   ]
  },
  {
   "cell_type": "markdown",
   "metadata": {},
   "source": [
    "You can decorate functions with classes - replacing the function with a class instance:"
   ]
  },
  {
   "cell_type": "code",
   "execution_count": 1,
   "metadata": {},
   "outputs": [
    {
     "name": "stdout",
     "output_type": "stream",
     "text": [
      "2\n"
     ]
    }
   ],
   "source": [
    "class countCalls(object):\n",
    "    \"\"\" decorator replaces a function with a \"countCalls\" instance\n",
    "    which behaves like the original function, but keeps track of calls\n",
    "    \"\"\"\n",
    "    def __init__ (self, functionToTrack):\n",
    "        self.functionToTrack = functionToTrack\n",
    "        self.timesCalled = 0\n",
    "    def __call__ (self, *args, **kwargs):\n",
    "        self.timesCalled += 1\n",
    "        return self.functionToTrack(*args, **kwargs)\n",
    "\n",
    "@countCalls\n",
    "def doNothing():\n",
    "    pass\n",
    "\n",
    "doNothing()\n",
    "doNothing()\n",
    "print(doNothing.timesCalled)\n"
   ]
  },
  {
   "cell_type": "code",
   "execution_count": 2,
   "metadata": {},
   "outputs": [],
   "source": [
    "def decorator_with_args(decorator_to_enhance):\n",
    "    \"\"\"\n",
    "    This function is supposed to be used as a decorator.\n",
    "    It must decorate an other function, that is intended to be used as a decorator.\n",
    "    Take a cup of coffee.\n",
    "    It will allow any decorator to accept an arbitrary number of arguments,\n",
    "    saving you the headache to remember how to do that every time.\n",
    "    \"\"\"\n",
    "    # We use the same trick we did to pass arguments\n",
    "    def decorator_maker(*args, **kwargs):\n",
    "        # We create on the fly a decorator that accepts only a function\n",
    "        # but keeps the passed arguments from the maker.\n",
    "        def decorator_wrapper(func):\n",
    "            # We return the result of the original decorator, which, after all,\n",
    "            # IS JUST AN ORDINARY FUNCTION (which returns a function).\n",
    "            # Only pitfall: the decorator must have this specific signature or it won't work:\n",
    "            return decorator_to_enhance(func, *args, **kwargs)\n",
    "        return decorator_wrapper\n",
    "    return decorator_maker\n"
   ]
  },
  {
   "cell_type": "markdown",
   "metadata": {},
   "source": [
    "It can be used as follows:"
   ]
  },
  {
   "cell_type": "code",
   "execution_count": 3,
   "metadata": {},
   "outputs": [
    {
     "name": "stdout",
     "output_type": "stream",
     "text": [
      "Decorated with (42, 404, 1024) {}\n",
      "Hello Universe and everything\n"
     ]
    }
   ],
   "source": [
    "# You create the function you will use as a decorator. And stick a decorator on it :-)\n",
    "# Don't forget, the signature is \"decorator(func, *args, **kwargs)\"\n",
    "@decorator_with_args\n",
    "def decorated_decorator(func, *args, **kwargs):\n",
    "    def wrapper(function_arg1, function_arg2):\n",
    "        print(\"Decorated with {0} {1}\".format(args, kwargs))\n",
    "        return func(function_arg1, function_arg2)\n",
    "    return wrapper\n",
    "# Then you decorate the functions you wish with your brand new decorated decorator.\n",
    "@decorated_decorator(42, 404, 1024)\n",
    "def decorated_function(function_arg1, function_arg2):\n",
    "    print(\"Hello {0} {1}\".format(function_arg1, function_arg2))\n",
    "decorated_function(\"Universe and\", \"everything\")\n",
    "#outputs:\n",
    "#Decorated with (42, 404, 1024) {}\n",
    "#Hello Universe and everything\n",
    "# Whoooot!\n"
   ]
  },
  {
   "attachments": {},
   "cell_type": "markdown",
   "metadata": {},
   "source": [
    "## Allow processing functions to take specific keyword arguments from context"
   ]
  },
  {
   "attachments": {},
   "cell_type": "markdown",
   "metadata": {},
   "source": [
    "add a wrapper to trap unwanted context items"
   ]
  },
  {
   "attachments": {},
   "cell_type": "markdown",
   "metadata": {},
   "source": [
    "1. Get parameters and defaults for all arguments of the\n",
    "   supplied function.\n",
    "2. Generate a defaults dictionary for all keyword\n",
    "   arguments.\n",
    "3. When called, pass non-keyword arguments directly to\n",
    "   the original function.\n",
    "4. Update the defaults dictionary with calling\n",
    "   keywords except the context keyword, if present.\n",
    "5. If context is among the default keyword arguments\n",
    "   and is supplied when called, add context to the keyword dictionary; otherwise search the supplied context for any keys in the defaults dictionary and use them to update the defaults dictionary.\n",
    "10. If a **kwargs is present in the original function,\n",
    "    pass all remaining context items using **context.\n",
    "\n"
   ]
  },
  {
   "attachments": {},
   "cell_type": "markdown",
   "metadata": {},
   "source": [
    "https://stackoverflow.com/questions/76304643/reuse-of-function-signature-type-hints-and-intellisense-args-kwargs\n"
   ]
  },
  {
   "attachments": {},
   "cell_type": "markdown",
   "metadata": {},
   "source": [
    "### Standard Actions\n",
    "*Convert a Method name to a Standard Function.*\n",
    "\n",
    "Take the name of a standard actions and return the matching function.\n",
    "\n",
    "**Arguments:**\n",
    "- action_name (str): The name of a standard action.\n",
    "- method_type (str): The type of action function expected.\n",
    "    One of ['Process', 'Rule']. Defaults to 'Process'\n",
    "\n",
    "**Raises: **\n",
    "- ValueError If the action_name or method_type supplied are not one of\n",
    "    the valid action names or method types.\n",
    "\n",
    "**Returns:**\n",
    "- (ProcessFunc, RuleFunc): One of the standard action functions."
   ]
  },
  {
   "attachments": {},
   "cell_type": "markdown",
   "metadata": {},
   "source": [
    "### sig_match\n",
    "*Convert the supplied function with a standard signature.*\n",
    "\n",
    "The conversion is based on number of arguments without defaults and the\n",
    "presence of a var keyword argument (**kwargs):\n",
    "\n",
    "**Arguments:**\n",
    "- given_method (MethodOptions): A function to be used as a rule\n",
    "        method or a process method.\n",
    "- sig_type (str, optional): The type of argument signature desired.  Can\n",
    "        be one of: 'Process' or 'Rule'.  Defaults to 'Process'.\n",
    "\n",
    "**Raises:**\n",
    "- ValueError If given_method does not have one of the expected\n",
    "    argument signature types.\n",
    "\n",
    "**Returns:**\n",
    "- (ProcessFunc, RuleFunc): A function with the standard Rule or Process\n",
    "        Method argument signature\n"
   ]
  },
  {
   "attachments": {},
   "cell_type": "markdown",
   "metadata": {},
   "source": [
    "### set_method\n",
    "*Convert the supplied function or action name to a Function with\n",
    "    the standard signature.*\n",
    "\n",
    "See the standard_action function for valid action names. See the sig_match\n",
    "function for valid function argument signatures.\n",
    "Add a special attribute to the returned function indicating if it is a\n",
    "generator function.\n",
    "\n",
    "**Arguments:**\n",
    "- given_method (RuleMethodOptions): A function, or the name of a\n",
    "    standard action.\n",
    "- method_type (str): The type of action function expected.\n",
    "    One of ['Process', 'Rule']. Defaults to 'Process'\n",
    "\n",
    "**Raises:**\n",
    "- ValueError If rule_method is a string and is not one of the\n",
    "    valid action names, or if rule_method is a function and does not\n",
    "    have one of the valid argument signature types.\n",
    "\n",
    "**Returns:**\n",
    "- (ProcessFunc, RuleFunc): A function with the standard Rule or Process\n",
    "        Method argument signature"
   ]
  },
  {
   "attachments": {},
   "cell_type": "markdown",
   "metadata": {},
   "source": [
    "### Method Types"
   ]
  },
  {
   "attachments": {},
   "cell_type": "markdown",
   "metadata": {},
   "source": [
    "#### rule\n",
    "- rule_method(item, context) is not allowed; use:\n",
    "    - rule_method(item, **context)          or\n",
    "    - rule_method(item, event, context)     instead.\n",
    "\n",
    "*Required signature:*\n",
    "> `rule_method(test_object: SourceItem, event: TriggerEvent, context)`\n",
    "\n",
    "|Signature                                 |Args|varkw  |Notes              |\n",
    "|------------------------------------------|----|-------|-------------------|\n",
    "|func(item)                                |1   |None   |                   |\n",
    "|func(item, **context)                     |1   |context|                   |\n",
    "|func(item, event)                         |2   |None   |                   |\n",
    "|func(item, event [, other(s)=defaults(s)])|1   |None   |                   |\n",
    "|func(item, event, **context)              |2   |context|                   |\n",
    "|func(item, event, context)                |3   |None   |Expected           |\n",
    "|func(item, event, [other(s),] **context)  |3+  |context|Not Yet Implemented|\n",
    "\n",
    "**Valid Action Names**\n",
    "- 'Original': return the original item supplied.\n",
    "- 'Blank': return ''  (an empty string).\n",
    "- 'None': return None.\n",
    "- 'Value': return the self.event.test_value object.\n",
    "- 'Name': return the self.event.test_name object."
   ]
  },
  {
   "attachments": {},
   "cell_type": "markdown",
   "metadata": {},
   "source": [
    "#### process\n",
    "- Also applies to Sentinel and Assemble methods.\n",
    "\n",
    "*Required signature:*\n",
    "> `process_method(test_object: SourceItem, context)`\n",
    "\n",
    "|Signature                                 |Args|varkw  |Notes              |\n",
    "|------------------------------------------|----|-------|-------------------|\n",
    "|func(item)                                |1   |None   |                   |\n",
    "|func(item  [, other(s)=defaults(s)])      |1   |None   |                   |\n",
    "|func(item, **context)                     |1   |context|                   |\n",
    "|func(item, context)                       |2   |None   |Expected           |\n",
    "|func(item  [, other(s)] **context)        |2+  |context|Not Yet Implemented|\n",
    "\n",
    "**Valid Action Names**\n",
    "- 'Original': return the original item supplied.\n",
    "- 'Blank': return ''  (an empty string).\n",
    "- 'None': return None.\n",
    "\n"
   ]
  },
  {
   "cell_type": "code",
   "execution_count": null,
   "metadata": {},
   "outputs": [],
   "source": [
    "#%% Test Text\n",
    "test_lines = '''\n",
    "Prescribed dose [cGy]: 5000.0\n",
    "Prescribed dose [cGy]: not defined\n",
    "\n",
    "Plan Status: Unapproved\n",
    "Plan Status: Treatment Approved Thursday, January 02, 2020 12:55:56 by gsal\n",
    "\n",
    "% for dose(%): 100.0\n",
    "% for dose (%): not defined\n",
    "'''\n"
   ]
  },
  {
   "cell_type": "code",
   "execution_count": null,
   "metadata": {},
   "outputs": [],
   "source": [
    "def parse_prescribed_dose(line, event, **context)->List[List[str]]:# pylint: disable=unused-argument\n",
    "    '''Split \"Prescribed dose [cGy]\" into 2 lines:\n",
    "        Prescribed dose\n",
    "        Prescribed dose Unit\n",
    "        '''\n",
    "    parse_template = [\n",
    "        ['Prescribed dose', '{dose}'],\n",
    "        ['Prescribed dose Unit', '{unit}']\n",
    "        ]\n",
    "    match_results = event.test_value.groupdict()\n",
    "    if match_results['dose'] == 'not defined':\n",
    "        parsed_lines = [\n",
    "            ['Prescribed dose', ''],\n",
    "            ['Prescribed dose Unit', '']\n",
    "            ]\n",
    "    else:\n",
    "        parsed_lines = [\n",
    "            [string_item.format(**match_results) for string_item in line_tmpl]\n",
    "            for line_tmpl in parse_template\n",
    "            ]\n",
    "    for line in parsed_lines:\n",
    "        yield line\n"
   ]
  },
  {
   "cell_type": "code",
   "execution_count": null,
   "metadata": {},
   "outputs": [
    {
     "data": {
      "text/plain": [
       "mappingproxy({'line': <Parameter \"line\">,\n",
       "              'event': <Parameter \"event\">,\n",
       "              'context': <Parameter \"**context\">})"
      ]
     },
     "metadata": {},
     "output_type": "display_data"
    }
   ],
   "source": [
    "a = signature(parse_prescribed_dose)\n",
    "a.parameters"
   ]
  },
  {
   "cell_type": "code",
   "execution_count": null,
   "metadata": {},
   "outputs": [
    {
     "data": {
      "text/plain": [
       "'event'"
      ]
     },
     "metadata": {},
     "output_type": "display_data"
    }
   ],
   "source": [
    "list(a.parameters.values())[1].name"
   ]
  },
  {
   "cell_type": "code",
   "execution_count": null,
   "metadata": {},
   "outputs": [
    {
     "data": {
      "text/plain": [
       "<BoundArguments (line='l')>"
      ]
     },
     "metadata": {},
     "output_type": "display_data"
    }
   ],
   "source": [
    "b = a.bind_partial('l')\n",
    "b"
   ]
  },
  {
   "cell_type": "code",
   "execution_count": null,
   "metadata": {},
   "outputs": [
    {
     "data": {
      "text/plain": [
       "<BoundArguments (line='l', context={})>"
      ]
     },
     "metadata": {},
     "output_type": "display_data"
    }
   ],
   "source": [
    "b.apply_defaults()\n",
    "b"
   ]
  },
  {
   "cell_type": "code",
   "execution_count": null,
   "metadata": {},
   "outputs": [
    {
     "data": {
      "text/plain": [
       "<Signature (line, event, **context) -> List[List[str]]>"
      ]
     },
     "metadata": {},
     "output_type": "display_data"
    }
   ],
   "source": [
    "b.signature"
   ]
  },
  {
   "cell_type": "code",
   "execution_count": null,
   "metadata": {},
   "outputs": [],
   "source": [
    "def date_parse(line, event)->List[List[str]]:\n",
    "    '''If Date,don't split beyond first :'''\n",
    "    parsed_line = [event.test_value, line.split(':',maxsplit=1)[1]]\n",
    "    return parsed_line\n"
   ]
  },
  {
   "cell_type": "code",
   "execution_count": null,
   "metadata": {},
   "outputs": [],
   "source": [
    "def approved_status_parse(line, event)->List[List[str]]:\n",
    "    '''If Treatment Approved, Split \"Plan Status\" into 3 lines:\n",
    "        Plan Status\n",
    "        Approved on\n",
    "        Approved by\n",
    "        '''\n",
    "    idx1 = line.find(event.test_value)\n",
    "    idx2 = idx1 + len(event.test_value)\n",
    "    idx3 = line.find('by')\n",
    "    idx4 = idx3 + 3\n",
    "    parsed_lines = [\n",
    "        ['Plan Status', line[idx1:idx2]],\n",
    "        ['Approved on', line[idx2:idx3]],\n",
    "        ['Approved by', line[idx4:]]\n",
    "        ]\n",
    "    for line in parsed_lines:\n",
    "        yield line"
   ]
  },
  {
   "cell_type": "code",
   "execution_count": null,
   "metadata": {},
   "outputs": [],
   "source": [
    "def make_float(item, context):\n",
    "    item_c = item.replace('Line','')\n",
    "    try:\n",
    "        num = float(item_c.strip())\n",
    "    except:\n",
    "        return None\n",
    "    output =  f'Line {num:5.2f}'\n",
    "    context['num'] = num\n",
    "    return output"
   ]
  },
  {
   "cell_type": "code",
   "execution_count": null,
   "metadata": {},
   "outputs": [],
   "source": [
    "class TestRuleExceptions(unittest.TestCase):\n",
    "\n",
    "    @unittest.skip('Currently rule_method(item, context) is allowed')\n",
    "    def test_no_event_arg(self):\n",
    "        test_func = lambda item, context: str(item) + repr(context)\n",
    "        with self.assertRaises(ValueError):\n",
    "            invalid_rule = Rule('T', pass_method=test_func)\n",
    "\n",
    "    def test_no_arg(self):\n",
    "        def test_func():\n",
    "            return \"T\"\n",
    "        with self.assertRaises(ValueError):\n",
    "            invalid_rule = Rule('T', pass_method=test_func)\n",
    "\n",
    "    def test_many_arg(self):\n",
    "        test_func = lambda item1, item2, event, context: 'a'\n",
    "        with self.assertRaises(ValueError):\n",
    "            invalid_rule = Rule('T', pass_method=test_func)\n",
    "\n",
    "    def test_bad_action(self):\n",
    "        with self.assertRaises(ValueError):\n",
    "            invalid_rule = Rule('T', pass_method='Not an Action')\n",
    "\n",
    "class TestRuleActions(unittest.TestCase):\n",
    "    def test_original_action(self):\n",
    "        test_text = 'Test Text'\n",
    "        test_rule = Rule('Text', pass_method='Original')\n",
    "        output = iter(test_rule(test_text))\n",
    "        result = next(output)\n",
    "        self.assertEqual(result, test_text)\n",
    "\n",
    "    def test_event_action(self):\n",
    "        test_text = 'Test Text'\n",
    "        sentinel = 'Text'\n",
    "        test_rule = Rule(sentinel, pass_method='Event')\n",
    "        output = iter(test_rule(test_text))\n",
    "        result = next(output)\n",
    "        self.assertEqual(result.test_value, sentinel)\n",
    "\n",
    "    def test_none_action(self):\n",
    "        test_text = 'Test Text'\n",
    "        test_rule = Rule('Text', pass_method='None')\n",
    "        output = iter(test_rule(test_text))\n",
    "        result = next(output)\n",
    "        self.assertIsNone(result)\n",
    "\n",
    "    def test_blank_action(self):\n",
    "        test_text = 'Test Text'\n",
    "        test_rule = Rule('Text', pass_method='Blank')\n",
    "        # Note this works because the Rule methods are not generator functions.\n",
    "        result = test_rule.apply(test_text)\n",
    "        self.assertEqual(result, '')\n",
    "\n",
    "class TestRuleFail(unittest.TestCase):\n",
    "    def test_fail_method(self):\n",
    "        test_text = 'Test Line'\n",
    "        test_rule = Rule('Text', pass_method='Blank',\n",
    "                            fail_method='Original')\n",
    "        # Note this works because the Rule methods are not generator functions.\n",
    "        result = test_rule.apply(test_text, {})\n",
    "        self.assertEqual(result, test_text)\n",
    "        result2 = test_rule.apply('Test Text', {})\n",
    "        self.assertEqual(result2, '')\n"
   ]
  }
 ],
 "metadata": {
  "kernelspec": {
   "display_name": "sectionaryDev",
   "language": "python",
   "name": "python3"
  },
  "language_info": {
   "codemirror_mode": {
    "name": "ipython",
    "version": 3
   },
   "file_extension": ".py",
   "mimetype": "text/x-python",
   "name": "python",
   "nbconvert_exporter": "python",
   "pygments_lexer": "ipython3",
   "version": "3.8.15"
  },
  "orig_nbformat": 4
 },
 "nbformat": 4,
 "nbformat_minor": 2
}
