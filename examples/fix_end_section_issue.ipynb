{
 "cells": [
  {
   "attachments": {},
   "cell_type": "markdown",
   "metadata": {},
   "source": [
    "# Fix End Section Issue\n",
    "The presence of end_section is preventing a section group from working as expected."
   ]
  },
  {
   "attachments": {},
   "cell_type": "markdown",
   "metadata": {},
   "source": [
    "## Imports"
   ]
  },
  {
   "cell_type": "code",
   "execution_count": 78,
   "metadata": {},
   "outputs": [],
   "source": [
    "from typing import Callable, List, Any, Dict, List, Tuple\n",
    "from types import GeneratorType\n",
    "\n",
    "from pathlib import Path\n",
    "import re\n",
    "from functools import partial\n",
    "from pprint import pprint\n",
    "\n",
    "import numpy as np\n",
    "import pandas as pd\n",
    "\n",
    "import text_reader as tp\n",
    "from buffered_iterator import BufferedIterator\n",
    "from sections import Rule, RuleSet, SectionBreak, Section, ProcessingMethods\n"
   ]
  },
  {
   "cell_type": "code",
   "execution_count": 79,
   "metadata": {},
   "outputs": [],
   "source": [
    "info_split = partial(str.split, sep=':', maxsplit=1)"
   ]
  },
  {
   "cell_type": "code",
   "execution_count": 80,
   "metadata": {},
   "outputs": [],
   "source": [
    "def plan_split(line: str)->List[str]:\n",
    "    '''Spilt a text line into two parts on ':'.\n",
    "\n",
    "    Spilt a text line into two parts on the first occurrence of ':'.\n",
    "    Remove leading and trailing spaces from each part.\n",
    "    Force the returned list to have length of two even if the text does not \n",
    "    contain a ':'.\n",
    "\n",
    "    Args:\n",
    "        line (str): The test to spilt\n",
    "\n",
    "    Returns:\n",
    "        List[str]: A length-2 list of strings\n",
    "    '''\n",
    "    parts = line.split(sep=':', maxsplit=1)\n",
    "    # Remove leading and trailing spaces from each part\n",
    "    clean_parts = [s.strip() for s in parts]\n",
    "    # If the line is blank return an empty list\n",
    "    if max(len(part) for part in clean_parts) == 0:\n",
    "        clean_parts = []\n",
    "    # Force clean_parts to be a length of 2\n",
    "    elif len(clean_parts) == 1:\n",
    "        clean_parts.append('')\n",
    "    return clean_parts"
   ]
  },
  {
   "cell_type": "code",
   "execution_count": 81,
   "metadata": {},
   "outputs": [],
   "source": [
    "def plan_lookup(plan_sections: List[Dict[str, Any]], \n",
    "                context: Dict[str, Any])->Dict[str, Dict[str, Any]]:\n",
    "    '''Build a dictionary of plan information and add it to context.\n",
    "    '''\n",
    "    all_plans = pd.DataFrame(plan for plan in plan_sections if plan)\n",
    "    all_plans.set_index(['Course', 'Plan'], inplace=True)\n",
    "    context['PlanLookup'] = all_plans\n",
    "    return all_plans"
   ]
  },
  {
   "cell_type": "code",
   "execution_count": 82,
   "metadata": {},
   "outputs": [],
   "source": [
    "# Prescribed Dose Rule\n",
    "def make_dose_data_rule() -> Rule:\n",
    "    '''return a Rule to Parse all Structure Dose lines.\n",
    "\n",
    "    Split dose parameter into label, value and unit if they exists, otherwise \n",
    "    split on the first ':'.\n",
    "    \n",
    "    The line:\n",
    "        Volume [cm³]: 38.3\n",
    "    Results in:\n",
    "        ['Volume', 38.3],\n",
    "        ['Volume unit', 'cm³']\n",
    "        \n",
    "    The line:\n",
    "        Approval Status: Approved\n",
    "    Results in:\n",
    "        ['Approval Status', 'Approved']\n",
    "        \n",
    "    The line:\n",
    "        Paddick CI: \n",
    "    Results in:\n",
    "        ['Paddick CI', '']\n",
    "\n",
    "    Returns (Rule): A sectionary Rule that will parse all Structure Dose lines.\n",
    "    '''\n",
    "    def parse_dose_data(line, event) -> tp.ProcessedList:\n",
    "        match_results = event.test_value.groupdict()\n",
    "        # Convert numerical value to float \n",
    "        match_results['value'] = float(match_results['value'])\n",
    "        value_label = match_results['label'].strip()\n",
    "        unit_label = value_label + ' unit'\n",
    "        parsed_lines = [\n",
    "            [value_label, match_results['value']],\n",
    "            [unit_label, match_results['unit']]\n",
    "            ]\n",
    "        for line in parsed_lines:\n",
    "            yield line\n",
    "\n",
    "    structure_dose_pattern = (\n",
    "        r'^(?P<label>[^[]+)'   # Initial parameter label\n",
    "        r'\\['                  # Unit start delimiter '['\n",
    "        r'(?P<unit>[^\\]]+)'    # unit group: text surrounded by []\n",
    "        r'\\]'                  # Unit end delimiter ']'\n",
    "        r'\\s*:\\s*'             # Value delimiter with possible whitespace\n",
    "        r'(?P<value>[0-9.]+)'  # value group Number\n",
    "        r'\\s*'                 # drop trailing whitespace\n",
    "        r'$'                   # end of string\n",
    "        )\n",
    "    re_pattern = re.compile(structure_dose_pattern)\n",
    "    dose_rule = Rule(name='make_dose_data_rule', \n",
    "                     sentinel=re_pattern, \n",
    "                     pass_method=parse_dose_data, \n",
    "                     fail_method=plan_split)\n",
    "    return dose_rule"
   ]
  },
  {
   "cell_type": "code",
   "execution_count": 83,
   "metadata": {},
   "outputs": [],
   "source": [
    "def header_parse(line: str) -> List[Tuple[str]]:\n",
    "    '''Split each column header into label and unit.\n",
    "\n",
    "    Accepts a string containing column labels and units.\n",
    "    Returns a list of two-item tuples. The first item is the label\n",
    "    and the second is the units.\n",
    "    A supplied line like:\n",
    "    `Dose [cGy]   Relative dose [%] Ratio of Total Structure Volume [%]`,\n",
    "    Gives:\n",
    "        [('Dose', 'cGy'), \n",
    "         ('Relative dose', '%'),\n",
    "         ('Ratio of Total Structure Volume', '%')\n",
    "         ]\n",
    "\n",
    "    Args:\n",
    "        line (str): Header line for DVH Curve\n",
    "\n",
    "    Returns:\n",
    "        List[Tuple[str]]: A list of two-item tuples. The first item is \n",
    "        the label and the second is the units. \n",
    "    '''\n",
    "    header_pattern = (\n",
    "        r'\\s*'               # Initial spaces\n",
    "        r'(?P<Label>'        # Beginning of label capture group\n",
    "        r'[A-Za-z /]*'       # Label text (can include spaced and '/') \n",
    "        r')'                 # End of label capture group        \n",
    "        r'\\s*'               # Possible whitespace\n",
    "        r'\\['                # Units start delimiter\n",
    "        r'(?P<Units>[^]]*)'  # Text containing units (all text until ']'\n",
    "        r'\\]'                # Units end delimiter\n",
    "        )\n",
    "    re_pattern = re.compile(header_pattern)\n",
    "    label_list = []\n",
    "    for match in re_pattern.finditer(line):\n",
    "        match_results = match.groupdict()\n",
    "        header = (match_results['Label'], match_results['Units'])\n",
    "        label_list.append(header)\n",
    "    return label_list\n"
   ]
  },
  {
   "cell_type": "code",
   "execution_count": 84,
   "metadata": {},
   "outputs": [],
   "source": [
    "def is_blank(line: str):\n",
    "    return len(line) == 0"
   ]
  },
  {
   "cell_type": "code",
   "execution_count": 85,
   "metadata": {},
   "outputs": [],
   "source": [
    "def split_data_points(line: str)->List[float]:\n",
    "    return [float(num) for num in line.split()]"
   ]
  },
  {
   "cell_type": "code",
   "execution_count": 86,
   "metadata": {},
   "outputs": [],
   "source": [
    "dose_info_section = Section(\n",
    "    name='Structure',\n",
    "    start_section=('Structure:', 'START', 'Before'),\n",
    "    end_section=(is_blank, None, 'Before'),\n",
    "    processor=[make_dose_data_rule()],\n",
    "    assemble=tp.to_dict\n",
    "    )"
   ]
  },
  {
   "cell_type": "code",
   "execution_count": 87,
   "metadata": {},
   "outputs": [],
   "source": [
    "dose_header_section = Section(\n",
    "    name='Header',\n",
    "    start_section=('Dose [', 'IN', 'Before'),\n",
    "    end_section=True,\n",
    "    processor=header_parse\n",
    "    )"
   ]
  },
  {
   "cell_type": "code",
   "execution_count": 88,
   "metadata": {},
   "outputs": [],
   "source": [
    "dose_curve_section = Section(\n",
    "    name='DVH Curve',\n",
    "    start_search=False,\n",
    "    end_section=('Structure:', 'START', 'Before'),\n",
    "    processor=split_data_points\n",
    "    )"
   ]
  },
  {
   "attachments": {},
   "cell_type": "markdown",
   "metadata": {},
   "source": [
    "![Error](Error.png) Section group not working\n",
    "\n",
    "- With end_section present, there is no output.\n",
    "\n",
    "> ```Python\n",
    "> >>> dvh_dose = Section(\n",
    ">         name='DVH Dose',\n",
    ">         start_search=('Structure:', 'START', 'Before'),\n",
    ">         end_section=('Structure:', 'START', 'Before'),\n",
    ">         processor=[(dose_info_section, \n",
    ">                     dose_header_section, \n",
    ">                     dose_curve_section)]\n",
    ">         )\n",
    "> >>> demo_dvh_text = demo_dvh_1.read_text(encoding='utf_8_sig').splitlines()\n",
    "> >>> dvh_dose.read(demo_dvh_text)\n",
    ">\n",
    "> []\n",
    "> ```\n",
    "\n",
    "- Without end_section present, the section group returns correctly.\n",
    "> ```Python\n",
    "> >>> dvh_dose = Section(\n",
    ">         name='DVH Dose',\n",
    ">         start_search=('Structure:', 'START', 'Before'),\n",
    ">         #end_section=('Structure:', 'START', 'Before'),\n",
    ">         processor=[(dose_info_section, \n",
    ">                     dose_header_section, \n",
    ">                     dose_curve_section)]\n",
    ">         )\n",
    "> >>> demo_dvh_text = demo_dvh_1.read_text(encoding='utf_8_sig').splitlines()\n",
    "> >>> dvh_dose.read(demo_dvh_text)\n",
    ">\n",
    "> [{'Structure': {'Structure': 'BODY',\n",
    ">    'Approval Status': 'Approved',\n",
    ">    'Plan': 'CHWR',\n",
    ">    'Course': 'C1',\n",
    ">    'Volume': 20449.1,\n",
    ">    'Volume unit': 'cm³',\n",
    ">    'Dose Cover.': 100.0,\n",
    ">    ...\n",
    ">    [100.0, 4250.0, 0.0],\n",
    ">    [101.0, 4292.5, 0.0],\n",
    ">    [102.0, 4335.0, 0.0],\n",
    ">    [103.0, 4377.5, 0.0],\n",
    ">    []]}]\n",
    "> ```\n"
   ]
  },
  {
   "cell_type": "code",
   "execution_count": 89,
   "metadata": {},
   "outputs": [],
   "source": [
    "test_text = '''\n",
    "Structure: BODY\n",
    "Approval Status: Approved\n",
    "Min Dose [%]: 0.0\n",
    ": \n",
    "\n",
    "Relative dose [%]          Dose [cGy] Ratio of Total Structure Volume [%]\n",
    "                0                   0                       100\n",
    "                1                42.5                   29.5637\n",
    "                2                  85                    20.601\n",
    "              102                4335                 0.0411928\n",
    "              103              4377.5                0.00206949\n",
    "\n",
    "Structure: Cricoid\n",
    "'''\n",
    "test_lines = test_text.splitlines()"
   ]
  },
  {
   "cell_type": "code",
   "execution_count": 90,
   "metadata": {},
   "outputs": [
    {
     "data": {
      "text/plain": [
       "[{'Structure': {'Structure': 'BODY',\n",
       "   'Approval Status': 'Approved',\n",
       "   'Min Dose': 0.0,\n",
       "   'Min Dose unit': '%'},\n",
       "  'Header': [[('Relative dose ', '%'),\n",
       "    ('Dose ', 'cGy'),\n",
       "    ('Ratio of Total Structure Volume ', '%')]],\n",
       "  'DVH Curve': [[0.0, 0.0, 100.0],\n",
       "   [1.0, 42.5, 29.5637],\n",
       "   [2.0, 85.0, 20.601],\n",
       "   [102.0, 4335.0, 0.0411928],\n",
       "   [103.0, 4377.5, 0.00206949],\n",
       "   []]}]"
      ]
     },
     "execution_count": 90,
     "metadata": {},
     "output_type": "execute_result"
    }
   ],
   "source": [
    "dvh_dose = Section(\n",
    "    name='DVH Dose',\n",
    "    start_section=('Structure:', 'START', 'Before'),\n",
    "    end_section=('Structure:', 'START', 'Before'),\n",
    "    end_on_first_item=False,\n",
    "    processor=[(dose_info_section, \n",
    "                dose_header_section, \n",
    "                dose_curve_section)]\n",
    "    )\n",
    "dvh_dose.read(test_lines)"
   ]
  },
  {
   "cell_type": "code",
   "execution_count": 91,
   "metadata": {},
   "outputs": [],
   "source": [
    "test_text = '''Structure: BODY\n",
    "Approval Status: Approved\n",
    "Min Dose [%]: 0.0\n",
    ": \n",
    "\n",
    "Relative dose [%]          Dose [cGy] Ratio of Total Structure Volume [%]\n",
    "                0                   0                       100\n",
    "                1                42.5                   29.5637\n",
    "                2                  85                    20.601\n",
    "              102                4335                 0.0411928\n",
    "              103              4377.5                0.00206949\n",
    "\n",
    "Structure: Cricoid\n",
    "'''\n",
    "test_lines = test_text.splitlines()"
   ]
  },
  {
   "cell_type": "code",
   "execution_count": 92,
   "metadata": {},
   "outputs": [
    {
     "data": {
      "text/plain": [
       "[{'Structure': {'Structure': 'BODY',\n",
       "   'Approval Status': 'Approved',\n",
       "   'Min Dose': 0.0,\n",
       "   'Min Dose unit': '%'},\n",
       "  'Header': [[('Relative dose ', '%'),\n",
       "    ('Dose ', 'cGy'),\n",
       "    ('Ratio of Total Structure Volume ', '%')]],\n",
       "  'DVH Curve': [[0.0, 0.0, 100.0],\n",
       "   [1.0, 42.5, 29.5637],\n",
       "   [2.0, 85.0, 20.601],\n",
       "   [102.0, 4335.0, 0.0411928],\n",
       "   [103.0, 4377.5, 0.00206949],\n",
       "   []]}]"
      ]
     },
     "execution_count": 92,
     "metadata": {},
     "output_type": "execute_result"
    }
   ],
   "source": [
    "dvh_dose = Section(\n",
    "    name='DVH Dose',\n",
    "    start_section=('Structure:', 'START', 'Before'),\n",
    "    end_section=('Structure:', 'START', 'Before'),\n",
    "    end_on_first_item=False,\n",
    "    processor=[(dose_info_section, \n",
    "                dose_header_section, \n",
    "                dose_curve_section)]\n",
    "    )\n",
    "dvh_dose.read(test_lines)"
   ]
  },
  {
   "attachments": {},
   "cell_type": "markdown",
   "metadata": {},
   "source": [
    "------"
   ]
  },
  {
   "cell_type": "code",
   "execution_count": 16,
   "metadata": {},
   "outputs": [],
   "source": [
    "test_text = '''\n",
    "Structure: BODY\n",
    "Approval Status: Approved\n",
    "Min Dose [%]: 0.0\n",
    ": \n",
    "\n",
    "Relative dose [%]          Dose [cGy] Ratio of Total Structure Volume [%]\n",
    "                0                   0                       100\n",
    "                1                42.5                   29.5637\n",
    "                2                  85                    20.601\n",
    "              102                4335                 0.0411928\n",
    "              103              4377.5                0.00206949\n",
    "\n",
    "Structure: Cricoid\n",
    "'''\n",
    "test_lines = test_text.splitlines()"
   ]
  },
  {
   "cell_type": "code",
   "execution_count": 17,
   "metadata": {},
   "outputs": [
    {
     "data": {
      "text/plain": [
       "['']"
      ]
     },
     "execution_count": 17,
     "metadata": {},
     "output_type": "execute_result"
    }
   ],
   "source": [
    "dvh_dose = Section(\n",
    "    name='DVH Dose',\n",
    "    start_search=('Structure:', 'START', 'Before'),\n",
    "    end_section=('Structure:', 'START', 'Before'),\n",
    "    end_on_first_item=False,\n",
    "    )\n",
    "dvh_dose.read(test_lines)"
   ]
  },
  {
   "cell_type": "code",
   "execution_count": 18,
   "metadata": {},
   "outputs": [],
   "source": [
    "test_text = '''Structure: BODY\n",
    "Approval Status: Approved\n",
    "Min Dose [%]: 0.0\n",
    ": \n",
    "\n",
    "Relative dose [%]          Dose [cGy] Ratio of Total Structure Volume [%]\n",
    "                0                   0                       100\n",
    "                1                42.5                   29.5637\n",
    "                2                  85                    20.601\n",
    "              102                4335                 0.0411928\n",
    "              103              4377.5                0.00206949\n",
    "\n",
    "Structure: Cricoid\n",
    "'''\n",
    "test_lines = test_text.splitlines()"
   ]
  },
  {
   "cell_type": "code",
   "execution_count": 19,
   "metadata": {},
   "outputs": [
    {
     "data": {
      "text/plain": [
       "['Structure: BODY',\n",
       " 'Approval Status: Approved',\n",
       " 'Min Dose [%]: 0.0',\n",
       " ': ',\n",
       " '',\n",
       " 'Relative dose [%]          Dose [cGy] Ratio of Total Structure Volume [%]',\n",
       " '                0                   0                       100',\n",
       " '                1                42.5                   29.5637',\n",
       " '                2                  85                    20.601',\n",
       " '              102                4335                 0.0411928',\n",
       " '              103              4377.5                0.00206949',\n",
       " '']"
      ]
     },
     "execution_count": 19,
     "metadata": {},
     "output_type": "execute_result"
    }
   ],
   "source": [
    "dvh_dose = Section(\n",
    "    name='DVH Dose',\n",
    "    start_search=('Structure:', 'START', 'Before'),\n",
    "    end_section=('Structure:', 'START', 'Before'),\n",
    "    end_on_first_item=False,\n",
    "    )\n",
    "dvh_dose.read(test_lines)"
   ]
  },
  {
   "cell_type": "code",
   "execution_count": 60,
   "metadata": {},
   "outputs": [],
   "source": [
    "test_text = '''\n",
    "Structure: BODY\n",
    ": \n",
    "\n",
    "Relative dose [%]          Dose [cGy] Ratio of Total Structure Volume [%]\n",
    "              103              4377.5                0.00206949\n",
    "\n",
    "Structure: Cricoid\n",
    "'''\n",
    "test_lines = test_text.splitlines()"
   ]
  },
  {
   "cell_type": "code",
   "execution_count": 61,
   "metadata": {},
   "outputs": [
    {
     "data": {
      "text/plain": [
       "['']"
      ]
     },
     "execution_count": 61,
     "metadata": {},
     "output_type": "execute_result"
    }
   ],
   "source": [
    "dvh_dose = Section(\n",
    "    name='DVH Dose',\n",
    "    start_search=('Structure:', 'START', 'Before'),\n",
    "    end_section=('Structure:', 'START', 'Before'),\n",
    "    end_on_first_item=False,\n",
    "    )\n",
    "dvh_dose.read(test_lines)"
   ]
  },
  {
   "cell_type": "code",
   "execution_count": 62,
   "metadata": {},
   "outputs": [],
   "source": [
    "test_text = '''\n",
    "Structure: BODY\n",
    "Relative dose [%]          Dose [cGy] Ratio of Total Structure Volume [%]\n",
    "              103              4377.5                0.00206949\n",
    "Structure: Cricoid\n",
    "'''\n",
    "test_lines = test_text.splitlines()"
   ]
  },
  {
   "cell_type": "code",
   "execution_count": 63,
   "metadata": {},
   "outputs": [
    {
     "data": {
      "text/plain": [
       "['']"
      ]
     },
     "execution_count": 63,
     "metadata": {},
     "output_type": "execute_result"
    }
   ],
   "source": [
    "dvh_dose = Section(\n",
    "    name='DVH Dose',\n",
    "    start_search=('Structure:', 'START', 'Before'),\n",
    "    end_section=('Structure:', 'START', 'Before'),\n",
    "    end_on_first_item=False,\n",
    "    )\n",
    "dvh_dose.read(test_lines)"
   ]
  },
  {
   "attachments": {},
   "cell_type": "markdown",
   "metadata": {},
   "source": [
    "------"
   ]
  },
  {
   "cell_type": "code",
   "execution_count": 68,
   "metadata": {},
   "outputs": [],
   "source": [
    "test_text = '''\n",
    "Structure: BODY\n",
    "EndSection A\n",
    "\n",
    "StartSection B\n",
    "Structure: Cricoid\n",
    "EndSection B\n",
    "'''\n",
    "test_lines = test_text.splitlines()"
   ]
  },
  {
   "cell_type": "code",
   "execution_count": 69,
   "metadata": {},
   "outputs": [
    {
     "data": {
      "text/plain": [
       "['']"
      ]
     },
     "execution_count": 69,
     "metadata": {},
     "output_type": "execute_result"
    }
   ],
   "source": [
    "dvh_dose = Section(\n",
    "    name='DVH Dose',\n",
    "    start_search=('Structure:', 'START', 'Before'),\n",
    "    end_section=('Structure:', 'START', 'Before'),\n",
    "    end_on_first_item=False,\n",
    "    )\n",
    "dvh_dose.read(test_lines)"
   ]
  },
  {
   "cell_type": "code",
   "execution_count": 70,
   "metadata": {},
   "outputs": [],
   "source": [
    "test_text = '''\n",
    "StartSection A\n",
    "EndSection A\n",
    "\n",
    "StartSection B\n",
    "EndSection B\n",
    "'''\n",
    "test_lines = test_text.splitlines()"
   ]
  },
  {
   "cell_type": "code",
   "execution_count": 71,
   "metadata": {},
   "outputs": [
    {
     "data": {
      "text/plain": [
       "['']"
      ]
     },
     "execution_count": 71,
     "metadata": {},
     "output_type": "execute_result"
    }
   ],
   "source": [
    "dvh_dose = Section(\n",
    "    name='DVH Dose',\n",
    "    start_search=('Start', 'START', 'Before'),\n",
    "    end_section=('Start', 'START', 'Before'),\n",
    "    end_on_first_item=False,\n",
    "    )\n",
    "dvh_dose.read(test_lines)"
   ]
  },
  {
   "cell_type": "code",
   "execution_count": 72,
   "metadata": {},
   "outputs": [],
   "source": [
    "test_text = '''StartSection A\n",
    "EndSection A\n",
    "\n",
    "StartSection B\n",
    "EndSection B\n",
    "'''\n",
    "test_lines = test_text.splitlines()"
   ]
  },
  {
   "cell_type": "code",
   "execution_count": 73,
   "metadata": {},
   "outputs": [
    {
     "data": {
      "text/plain": [
       "['StartSection A', 'EndSection A', '']"
      ]
     },
     "execution_count": 73,
     "metadata": {},
     "output_type": "execute_result"
    }
   ],
   "source": [
    "dvh_dose = Section(\n",
    "    name='DVH Dose',\n",
    "    start_search=('Start', 'START', 'Before'),\n",
    "    end_section=('Start', 'START', 'Before'),\n",
    "    end_on_first_item=False,\n",
    "    )\n",
    "dvh_dose.read(test_lines)"
   ]
  },
  {
   "attachments": {},
   "cell_type": "markdown",
   "metadata": {},
   "source": [
    "------"
   ]
  },
  {
   "cell_type": "code",
   "execution_count": 24,
   "metadata": {},
   "outputs": [],
   "source": [
    "test_text = '''\n",
    "StartSection A\n",
    "EndSection A\n",
    "\n",
    "StartSection B\n",
    "EndSection B\n",
    "'''\n",
    "test_lines = test_text.splitlines()"
   ]
  },
  {
   "cell_type": "code",
   "execution_count": 25,
   "metadata": {},
   "outputs": [],
   "source": [
    "full_section = Section(\n",
    "    name='Full',\n",
    "    start_section=('Start', 'START', 'Before'),\n",
    "    end_section=('Start', 'START', 'Before'),\n",
    "    end_on_first_item=False\n",
    "    )"
   ]
  },
  {
   "cell_type": "code",
   "execution_count": 26,
   "metadata": {},
   "outputs": [
    {
     "data": {
      "text/plain": [
       "['StartSection A', 'EndSection A', '']"
      ]
     },
     "execution_count": 26,
     "metadata": {},
     "output_type": "execute_result"
    }
   ],
   "source": [
    "full_section.read(test_lines)"
   ]
  },
  {
   "cell_type": "code",
   "execution_count": 27,
   "metadata": {},
   "outputs": [],
   "source": [
    "test_text = '''StartSection A\n",
    "EndSection A\n",
    "\n",
    "StartSection B\n",
    "EndSection B\n",
    "'''\n",
    "test_lines = test_text.splitlines()"
   ]
  },
  {
   "cell_type": "code",
   "execution_count": 28,
   "metadata": {},
   "outputs": [
    {
     "data": {
      "text/plain": [
       "['StartSection A', 'EndSection A', '']"
      ]
     },
     "execution_count": 28,
     "metadata": {},
     "output_type": "execute_result"
    }
   ],
   "source": [
    "full_section.read(test_lines)"
   ]
  },
  {
   "cell_type": "code",
   "execution_count": 29,
   "metadata": {},
   "outputs": [],
   "source": [
    "test_text = '''StartSection A\n",
    "EndSection A\n",
    "\n",
    "StartSection B\n",
    "EndSection B'''\n",
    "test_lines = test_text.splitlines()"
   ]
  },
  {
   "cell_type": "code",
   "execution_count": 30,
   "metadata": {},
   "outputs": [
    {
     "data": {
      "text/plain": [
       "['StartSection A', 'EndSection A', '']"
      ]
     },
     "execution_count": 30,
     "metadata": {},
     "output_type": "execute_result"
    }
   ],
   "source": [
    "full_section.read(test_lines)"
   ]
  },
  {
   "cell_type": "code",
   "execution_count": 31,
   "metadata": {},
   "outputs": [],
   "source": [
    "test_text = '''StartSection A\n",
    "EndSection A\n",
    "\n",
    "StartSection B\n",
    "EndSection B\n",
    "'''\n",
    "test_lines = test_text.splitlines()"
   ]
  },
  {
   "cell_type": "code",
   "execution_count": 32,
   "metadata": {},
   "outputs": [
    {
     "data": {
      "text/plain": [
       "['StartSection A', 'EndSection A', '']"
      ]
     },
     "execution_count": 32,
     "metadata": {},
     "output_type": "execute_result"
    }
   ],
   "source": [
    "full_section.read(test_lines)"
   ]
  },
  {
   "attachments": {},
   "cell_type": "markdown",
   "metadata": {},
   "source": [
    "------"
   ]
  },
  {
   "cell_type": "code",
   "execution_count": 33,
   "metadata": {},
   "outputs": [],
   "source": [
    "dvh_dose = Section(\n",
    "    name='DVH Dose',\n",
    "    start_search=('Structure:', 'START', 'Before'),\n",
    "    end_section=('Structure:', 'START', 'Before'),\n",
    "    end_on_first_item=False\n",
    "    )\n"
   ]
  },
  {
   "cell_type": "code",
   "execution_count": 34,
   "metadata": {},
   "outputs": [
    {
     "data": {
      "text/plain": [
       "['StartSection A', 'EndSection A', '', 'StartSection B', 'EndSection B']"
      ]
     },
     "execution_count": 34,
     "metadata": {},
     "output_type": "execute_result"
    }
   ],
   "source": [
    "dvh_dose.read(test_lines)"
   ]
  },
  {
   "cell_type": "code",
   "execution_count": 35,
   "metadata": {},
   "outputs": [],
   "source": [
    "test_text = '''\n",
    "Structure: BODY\n",
    "Approval Status: Approved\n",
    ": \n",
    "\n",
    "Structure: Cricoid\n",
    "'''\n",
    "test_lines = test_text.splitlines()"
   ]
  },
  {
   "cell_type": "code",
   "execution_count": 36,
   "metadata": {},
   "outputs": [
    {
     "data": {
      "text/plain": [
       "['']"
      ]
     },
     "execution_count": 36,
     "metadata": {},
     "output_type": "execute_result"
    }
   ],
   "source": [
    "dvh_dose.read(test_lines)"
   ]
  },
  {
   "attachments": {},
   "cell_type": "markdown",
   "metadata": {},
   "source": [
    "-----------"
   ]
  },
  {
   "cell_type": "code",
   "execution_count": 37,
   "metadata": {},
   "outputs": [],
   "source": [
    "full_section = Section(\n",
    "    name='Full',\n",
    "    start_section=('Start', 'START', 'Before'),\n",
    "    end_section=('Start', 'START', 'Before'),\n",
    "    end_on_first_item=False\n",
    "    )"
   ]
  },
  {
   "cell_type": "code",
   "execution_count": 38,
   "metadata": {},
   "outputs": [],
   "source": [
    "test_text = [\n",
    "    '',\n",
    "    'StartSection A',\n",
    "    'EndSection A',\n",
    "    '',\n",
    "    'StartSection B',\n",
    "    'EndSection B'\n",
    "    ]"
   ]
  },
  {
   "cell_type": "code",
   "execution_count": 39,
   "metadata": {},
   "outputs": [
    {
     "data": {
      "text/plain": [
       "['StartSection A', 'EndSection A', '']"
      ]
     },
     "execution_count": 39,
     "metadata": {},
     "output_type": "execute_result"
    }
   ],
   "source": [
    "full_section.read(test_text)"
   ]
  },
  {
   "cell_type": "code",
   "execution_count": 40,
   "metadata": {},
   "outputs": [],
   "source": [
    "test_text = '''StartSection A\n",
    "EndSection A\n",
    "\n",
    "StartSection B\n",
    "EndSection B'''\n",
    "test_lines = test_text.splitlines()"
   ]
  },
  {
   "cell_type": "code",
   "execution_count": 41,
   "metadata": {},
   "outputs": [
    {
     "data": {
      "text/plain": [
       "['StartSection A', 'EndSection A', '']"
      ]
     },
     "execution_count": 41,
     "metadata": {},
     "output_type": "execute_result"
    }
   ],
   "source": [
    "full_section.read(test_lines)"
   ]
  },
  {
   "cell_type": "code",
   "execution_count": 42,
   "metadata": {},
   "outputs": [],
   "source": [
    "test_text = '''\n",
    "StartSection A\n",
    "EndSection A\n",
    "\n",
    "StartSection B\n",
    "EndSection B'''\n",
    "test_lines = test_text.splitlines()"
   ]
  },
  {
   "cell_type": "code",
   "execution_count": 43,
   "metadata": {},
   "outputs": [
    {
     "data": {
      "text/plain": [
       "['StartSection A', 'EndSection A', '']"
      ]
     },
     "execution_count": 43,
     "metadata": {},
     "output_type": "execute_result"
    }
   ],
   "source": [
    "full_section.read(test_lines)"
   ]
  },
  {
   "cell_type": "code",
   "execution_count": 44,
   "metadata": {},
   "outputs": [],
   "source": [
    "test_text = '''Structure: BODY\n",
    "Approval Status: Approved\n",
    ": \n",
    "\n",
    "Structure: Cricoid\n",
    "'''\n",
    "test_lines = test_text.splitlines()"
   ]
  },
  {
   "cell_type": "code",
   "execution_count": 45,
   "metadata": {},
   "outputs": [],
   "source": [
    "full_section = Section(\n",
    "    name='Full',\n",
    "    start_section=('Structure', 'START', 'Before'),\n",
    "    end_section=('Structure', 'START', 'Before'),\n",
    "    end_on_first_item=False\n",
    "    )"
   ]
  },
  {
   "cell_type": "code",
   "execution_count": 46,
   "metadata": {},
   "outputs": [
    {
     "data": {
      "text/plain": [
       "['Structure: BODY', 'Approval Status: Approved', ': ', '']"
      ]
     },
     "execution_count": 46,
     "metadata": {},
     "output_type": "execute_result"
    }
   ],
   "source": [
    "full_section.read(test_lines)"
   ]
  },
  {
   "cell_type": "code",
   "execution_count": 47,
   "metadata": {},
   "outputs": [],
   "source": [
    "test_text = '''\n",
    "Structure: BODY\n",
    "Approval Status: Approved\n",
    ": \n",
    "\n",
    "Structure: Cricoid\n",
    "'''\n",
    "test_lines = test_text.splitlines()"
   ]
  },
  {
   "cell_type": "code",
   "execution_count": 48,
   "metadata": {},
   "outputs": [
    {
     "data": {
      "text/plain": [
       "['Structure: BODY', 'Approval Status: Approved', ': ', '']"
      ]
     },
     "execution_count": 48,
     "metadata": {},
     "output_type": "execute_result"
    }
   ],
   "source": [
    "full_section.read(test_lines)"
   ]
  },
  {
   "attachments": {},
   "cell_type": "markdown",
   "metadata": {},
   "source": [
    "------"
   ]
  },
  {
   "cell_type": "code",
   "execution_count": 49,
   "metadata": {},
   "outputs": [],
   "source": [
    "test_text = [\n",
    "            'Text to be ignored',\n",
    "            'StartSection A',\n",
    "            'MiddleSection A',\n",
    "            'EndSection A',            \n",
    "            'Unwanted text between sections',            \n",
    "            'StartSection B',\n",
    "            'MiddleSection B',\n",
    "            'EndSection B',\n",
    "            'StartSection C',\n",
    "            'MiddleSection C',\n",
    "            'EndSection C',\n",
    "            'Even more text to be ignored',\n",
    "            ]"
   ]
  },
  {
   "cell_type": "code",
   "execution_count": 50,
   "metadata": {},
   "outputs": [],
   "source": [
    "sub_section = Section(\n",
    "    name='SubSection',\n",
    "    start_section=('Start', 'START', 'Before'),\n",
    "    end_section=('Unwanted', 'IN', 'Before'),\n",
    "    processor=str.split,\n",
    "    assemble=tp.to_dict\n",
    "    )"
   ]
  },
  {
   "cell_type": "code",
   "execution_count": 51,
   "metadata": {},
   "outputs": [
    {
     "data": {
      "text/plain": [
       "{'StartSection': 'A', 'MiddleSection': 'A', 'EndSection': 'A'}"
      ]
     },
     "execution_count": 51,
     "metadata": {},
     "output_type": "execute_result"
    }
   ],
   "source": [
    "sub_section.read(test_text)"
   ]
  },
  {
   "cell_type": "code",
   "execution_count": 52,
   "metadata": {},
   "outputs": [],
   "source": [
    "unwanted_section = Section(\n",
    "    name='Unwanted',\n",
    "    start_section=('Unwanted', 'IN', 'Before'),\n",
    "    end_section=True\n",
    "    )"
   ]
  },
  {
   "cell_type": "code",
   "execution_count": 53,
   "metadata": {},
   "outputs": [],
   "source": [
    "full_section = Section(\n",
    "    name='Full',\n",
    "    start_section=('Start', 'START', 'Before'),\n",
    "    end_section=('Start', 'START', 'Before'),\n",
    "    processor=(sub_section, unwanted_section)\n",
    "    )"
   ]
  },
  {
   "cell_type": "code",
   "execution_count": 54,
   "metadata": {},
   "outputs": [
    {
     "data": {
      "text/plain": [
       "[{'SubSection': {'StartSection': 'A', 'MiddleSection': 'A', 'EndSection': 'A'},\n",
       "  'Unwanted': ['Unwanted text between sections']}]"
      ]
     },
     "execution_count": 54,
     "metadata": {},
     "output_type": "execute_result"
    }
   ],
   "source": [
    "full_section.read(test_text)"
   ]
  },
  {
   "attachments": {},
   "cell_type": "markdown",
   "metadata": {},
   "source": [
    "------"
   ]
  },
  {
   "cell_type": "code",
   "execution_count": 55,
   "metadata": {},
   "outputs": [],
   "source": [
    "start_section = Section(\n",
    "    name='StartSection',\n",
    "    start_section=('Start', 'START', 'Before'),\n",
    "    end_section=('Middle', 'IN', 'Before'),\n",
    "    processor=str.split,\n",
    "    assemble=tp.to_dict\n",
    "    )"
   ]
  },
  {
   "cell_type": "code",
   "execution_count": 56,
   "metadata": {},
   "outputs": [],
   "source": [
    "mid_section = Section(\n",
    "    name='MiddleSection',\n",
    "    start_section=('Middle', 'START', 'Before'),\n",
    "    end_section=True,\n",
    "    processor=str.split,\n",
    "    assemble=tp.to_dict\n",
    "    )"
   ]
  },
  {
   "cell_type": "code",
   "execution_count": 57,
   "metadata": {},
   "outputs": [],
   "source": [
    "end_section = Section(\n",
    "    name='RemainderSection',\n",
    "    start_section=('End', 'START', 'Before'),\n",
    "    end_section=('Start', 'START', 'Before')\n",
    "    )"
   ]
  },
  {
   "cell_type": "code",
   "execution_count": 58,
   "metadata": {},
   "outputs": [],
   "source": [
    "full_section = Section(\n",
    "    name='Full',\n",
    "    start_section=('Start', 'START', 'Before'),\n",
    "    end_section=('Start', 'START', 'Before'),\n",
    "    processor=[(start_section, mid_section, end_section)]\n",
    "    )"
   ]
  },
  {
   "cell_type": "code",
   "execution_count": 59,
   "metadata": {},
   "outputs": [
    {
     "data": {
      "text/plain": [
       "[{'StartSection': {'StartSection': 'A'},\n",
       "  'MiddleSection': {'MiddleSection': 'A'},\n",
       "  'RemainderSection': ['EndSection A', 'Unwanted text between sections']}]"
      ]
     },
     "execution_count": 59,
     "metadata": {},
     "output_type": "execute_result"
    }
   ],
   "source": [
    "full_section.read(test_text)"
   ]
  },
  {
   "attachments": {},
   "cell_type": "markdown",
   "metadata": {},
   "source": [
    "------"
   ]
  }
 ],
 "metadata": {
  "kernelspec": {
   "display_name": "sectionaryDev",
   "language": "python",
   "name": "python3"
  },
  "language_info": {
   "codemirror_mode": {
    "name": "ipython",
    "version": 3
   },
   "file_extension": ".py",
   "mimetype": "text/x-python",
   "name": "python",
   "nbconvert_exporter": "python",
   "pygments_lexer": "ipython3",
   "version": "3.8.15"
  },
  "orig_nbformat": 4
 },
 "nbformat": 4,
 "nbformat_minor": 2
}
