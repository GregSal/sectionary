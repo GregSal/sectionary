{
 "cells": [
  {
   "cell_type": "markdown",
   "metadata": {},
   "source": [
    "# Function Signatures"
   ]
  },
  {
   "cell_type": "code",
   "execution_count": 1,
   "metadata": {},
   "outputs": [],
   "source": [
    "import inspect\n",
    "from inspect import signature\n",
    "from collections import Counter\n"
   ]
  },
  {
   "cell_type": "markdown",
   "metadata": {},
   "source": [
    "## Introspecting callables with the Signature object\n",
    "\n",
    "The `Signature` object represents the call signature of a callable object and its return annotation. To retrieve a Signature object, use the `signature()` function.\n"
   ]
  },
  {
   "cell_type": "markdown",
   "metadata": {},
   "source": [
    "`inspect.signature(callable, *, follow_wrapped=True, globals=None, locals=None, eval_str=False)`\n",
    "> Return a Signature object for the given callable:\n",
    "> \n",
    "> ```python\n",
    "> from inspect import signature\n",
    "> def foo(a, *, b:int, **kwargs):\n",
    ">     pass\n",
    "> \n",
    "> sig = signature(foo)\n",
    "> str(sig)\n",
    "> ```\n",
    "> > '(a, *, b: int, **kwargs)'\n",
    "> \n",
    "> `str(sig.parameters['b'])`\n",
    "> > 'b: int'\n",
    "> \n",
    "> `sig.parameters['b'].annotation`\n",
    "> > \\<class 'int'>\n",
    ">\n",
    "> Accepts a wide range of Python callables, from plain functions and classes to `functools.partial()` objects.\n",
    ">\n",
    "> If the passed object has a `__signature__` attribute, this function returns it without further computations.\n",
    ">\n",
    "> For objects defined in modules using stringized annotations (`from __future__ import annotations`), `signature()` will attempt to automatically un-stringize the annotations using `get_annotations()`. The _globals_, _locals_, and _eval_str_ parameters are passed into `get_annotations()` when resolving the annotations; see the documentation for `get_annotations()` for instructions on how to use these parameters.\n",
    ">\n",
    "> Raises `ValueError` if no signature can be provided, and `TypeError` if that type of object is not supported. Also, if the annotations are stringized, and _eval_str_ is not false, the `eval()` call(s) to un-stringize the annotations in `get_annotations()` could potentially raise any kind of exception.\n",
    ">\n",
    "> A slash(/) in the signature of a function denotes that the parameters prior to it are >positional-only. For more info, see the _FAQ entry on positional-only parameters_.\n",
    ">\n",
    "> **Note:** Some callables may not be introspectable in certain implementations of Python. For example, in CPython, some built-in functions defined in C provide no metadata about their arguments.\n"
   ]
  },
  {
   "cell_type": "markdown",
   "metadata": {},
   "source": [
    "`class inspect.Signature(parameters=None, *, return_annotation=Signature.empty)`\n",
    "> A Signature object represents the call signature of a function and its return annotation. For each parameter accepted by the function it stores a Parameter object in its parameters collection.\n",
    ">\n",
    "> The optional parameters argument is a sequence of Parameter objects, which is validated to check that there are no parameters with duplicate names, and that the parameters are in the right order, i.e. positional-only first, then positional-or-keyword, and that parameters with defaults follow parameters without defaults.\n",
    ">\n",
    "> The optional return_annotation argument can be an arbitrary Python object. It represents the “return” annotation of the callable.\n",
    ">\n",
    "> Signature objects are immutable. Use `Signature.replace()` to make a modified copy.\n",
    "\n",
    "**empty**\n",
    "> A special class-level marker to specify absence of a return annotation.\n",
    "\n",
    "**parameters**\n",
    "> An ordered mapping of parameters’ names to the corresponding Parameter objects. Parameters appear in strict definition order, including keyword-only parameters.\n",
    "\n",
    "**return_annotation**\n",
    "> The “return” annotation for the callable. If the callable has no “return” annotation, this attribute is set to Signature.empty.\n",
    "\n",
    "`bind(*args, **kwargs)`\n",
    "> Create a mapping from positional and keyword arguments to parameters. Returns BoundArguments if *args and **kwargs match the signature, or raises a TypeError.\n",
    "\n",
    "`bind_partial(*args, **kwargs)`\n",
    "> Works the same way as Signature.bind(), but allows the omission of some required arguments (mimics functools.partial() behavior.) Returns BoundArguments, or raises a TypeError if the passed arguments do not match the signature.\n",
    "\n",
    "`replace(*[, parameters][, return_annotation])`\n",
    "> Create a new Signature instance based on the instance `replace()` was invoked on. It is possible to pass different parameters and/or return_annotation to override the corresponding properties of the base signature. To remove return_annotation from the copied Signature, pass in `Signature.empty`.\n",
    ">\n",
    ">```python\n",
    ">def test(a, b):\n",
    ">    pass\n",
    ">\n",
    ">sig = signature(test)\n",
    ">new_sig = sig.replace(return_annotation=\"new return anno\")\n",
    ">str(new_sig)\n",
    ">```\n",
    ">> \"(a, b) -> 'new return anno'\"\n",
    "\n",
    "`classmethod from_callable(obj, *, follow_wrapped=True, globals=None, locals=None, eval_str=False)`\n",
    "> Return a Signature (or its subclass) object for a given callable obj.\n",
    ">\n",
    "> This method simplifies subclassing of `Signature`:\n",
    ">\n",
    ">```python\n",
    ">class MySignature(Signature):\n",
    ">    pass\n",
    ">sig = MySignature.from_callable(sum)\n",
    ">assert isinstance(sig, MySignature)\n",
    "```\n",
    "\n",
    "Its behavior is otherwise identical to that of `signature()`.\n"
   ]
  },
  {
   "cell_type": "markdown",
   "metadata": {},
   "source": [
    "`class inspect.Parameter(name, kind, *, default=Parameter.empty, annotation=Parameter.empty)`\n",
    "> Parameter objects are immutable. Instead of modifying a Parameter object, you can use Parameter.replace() to create a modified copy.\n",
    "\n",
    "**empty**\n",
    "> A special class-level marker to specify absence of default values and annotations.\n",
    "\n",
    "**name**\n",
    "> The name of the parameter as a string. The name must be a valid Python identifier.\n",
    "\n",
    "\n",
    "**default**\n",
    "> The default value for the parameter. If the parameter has no default value, this attribute is set to Parameter.empty.\n",
    "\n",
    "***annotation***\n",
    "> The annotation for the parameter. If the parameter has no annotation, this attribute is set to Parameter.empty.\n",
    "\n",
    "**kind**\n",
    "> Describes how argument values are bound to the parameter. The possible values are accessible via Parameter (like Parameter.KEYWORD_ONLY), and support comparison and ordering, in the following order:\n",
    "\n",
    "|Name|Description|Meaning|\n",
    "|----|-----------|-------|\n",
    "POSITIONAL_ONLY|'positional-only'|Value must be supplied as a positional argument. Positional only parameters are those which appear before a / entry (if present) in a Python function definition.|\n",
    "|POSITIONAL_OR_KEYWORD|'positional or keyword'|Value may be supplied as either a keyword or positional argument (this is the standard binding behaviour for functions implemented in Python.)|\n",
    "|VAR_POSITIONAL|'variadic positional'|A tuple of positional arguments that aren’t bound to any other parameter. This corresponds to a *args parameter in a Python function definition.|\n",
    "|KEYWORD_ONLY|'keyword-only'|Value must be supplied as a keyword argument. Keyword only parameters are those which appear after a * or *args entry in a Python function definition.|\n",
    "|VAR_KEYWORD|'variadic keyword'|A dict of keyword arguments that aren’t bound to any other parameter. This corresponds to a **kwargs parameter in a Python function definition.|\n",
    "\n",
    "\n",
    "> Example: print all keyword-only arguments without default values:\n",
    ">\n",
    "> ```python\n",
    "> def foo(a, b, *, c, d=10):\n",
    ">     pass\n",
    "> \n",
    "> sig = signature(foo)\n",
    "> for param in sig.parameters.values():\n",
    ">     if (param.kind == param.KEYWORD_ONLY and\n",
    ">                        param.default is param.empty):\n",
    ">         print('Parameter:', param)\n",
    "> ```\n",
    "> >Parameter: c\n",
    "\n",
    "**kind.description**\n",
    "> Describes a enum value of Parameter.kind.\n",
    ">\n",
    "> Example: print all descriptions of arguments:\n",
    ">\n",
    ">```python\n",
    "> def foo(a, b, *, c, d=10):\n",
    ">     pass\n",
    "> \n",
    "> sig = signature(foo)\n",
    "> for param in sig.parameters.values():\n",
    ">     print(param.kind.description)\n",
    "> ```\n",
    "> > positional or keyword\n",
    "> > positional or keyword\n",
    "> > keyword-only\n",
    "> > keyword-only\n",
    "> \n",
    "`replace(*[, name][, kind][, default][, annotation])`\n",
    "> Create a new Parameter instance based on the instance replaced was invoked on. To override a Parameter attribute, pass the corresponding argument. To remove a default value or/and an annotation from a Parameter, pass Parameter.empty.\n",
    "\n",
    "> ```python\n",
    "> from inspect import Parameter\n",
    "> param = Parameter('foo', Parameter.KEYWORD_ONLY, default=42)\n",
    "> str(param)\n",
    "> ```\n",
    "> > 'foo=42'\n",
    "> \n",
    "> `str(param.replace()) # Will create a shallow copy of 'param'`\n",
    "> > 'foo=42'\n",
    "> \n",
    "> `str(param.replace(default=Parameter.empty, annotation='spam'))`\n",
    "> > \"foo: 'spam'\"\n"
   ]
  },
  {
   "cell_type": "markdown",
   "metadata": {},
   "source": [
    "`class inspect.BoundArguments`\n",
    "> Result of a Signature.bind() or Signature.bind_partial() call. Holds the mapping of arguments to the function’s parameters.\n",
    "\n",
    "**arguments**\n",
    "> A mutable mapping of parameters’ names to arguments’ values. Contains only explicitly bound arguments. Changes in arguments will reflect in args and kwargs.\n",
    "> \n",
    "> Should be used in conjunction with Signature.parameters for any argument processing purposes.\n",
    "> \n",
    "> **Note** Arguments for which Signature.bind() or Signature.bind_partial() relied on a default value are skipped. However, if needed, use BoundArguments.apply_defaults() to add them.\n",
    "\n",
    "**args**\n",
    "> A tuple of positional arguments values. Dynamically computed from the arguments attribute.\n",
    "\n",
    "**kwargs**\n",
    "> A dict of keyword arguments values. Dynamically computed from the arguments attribute.\n",
    "\n",
    "**signature**\n",
    "> A reference to the parent Signature object.\n",
    "\n",
    "`apply_defaults()`\n",
    "> Set default values for missing arguments.\n",
    "> \n",
    "> For variable-positional arguments (*args) the default is an empty tuple.\n",
    "> \n",
    "> For variable-keyword arguments (**kwargs) the default is an empty dict.\n",
    ">\n",
    "> ```python\n",
    "> def foo(a, b='ham', *args): pass\n",
    "> ba = inspect.signature(foo).bind('spam')\n",
    "> ba.apply_defaults()\n",
    "> ba.arguments\n",
    "> ```\n",
    "> . {'a': 'spam', 'b': 'ham', 'args': ()}\n",
    "\n",
    "The args and kwargs properties can be used to invoke functions:\n",
    "```python\n",
    "def test(a, *, b):\n",
    "    ...\n",
    "\n",
    "sig = signature(test)\n",
    "ba = sig.bind(10, b=20)\n",
    "test(*ba.args, **ba.kwargs)\n",
    "```\n",
    "\n",
    "\n",
    "**See also: ** PEP 362 - Function Signature Object. The detailed specification, implementation details and examples.(https://peps.python.org/pep-0362/)"
   ]
  },
  {
   "cell_type": "markdown",
   "metadata": {},
   "source": [
    "## Function Signature options"
   ]
  },
  {
   "cell_type": "code",
   "execution_count": 2,
   "metadata": {},
   "outputs": [
    {
     "data": {
      "text/plain": [
       "['positional-only',\n",
       " 'positional or keyword',\n",
       " 'variadic positional',\n",
       " 'keyword-only',\n",
       " 'variadic keyword']"
      ]
     },
     "execution_count": 2,
     "metadata": {},
     "output_type": "execute_result"
    }
   ],
   "source": [
    "[k.description for k in inspect._ParameterKind.__members__.values()]"
   ]
  },
  {
   "cell_type": "code",
   "execution_count": 3,
   "metadata": {},
   "outputs": [
    {
     "data": {
      "text/plain": [
       "['POSITIONAL_ONLY',\n",
       " 'POSITIONAL_OR_KEYWORD',\n",
       " 'VAR_POSITIONAL',\n",
       " 'KEYWORD_ONLY',\n",
       " 'VAR_KEYWORD']"
      ]
     },
     "execution_count": 3,
     "metadata": {},
     "output_type": "execute_result"
    }
   ],
   "source": [
    "[k.name for k in inspect._ParameterKind.__members__.values()]"
   ]
  },
  {
   "cell_type": "markdown",
   "metadata": {},
   "source": [
    "**Example:** "
   ]
  },
  {
   "cell_type": "code",
   "execution_count": 4,
   "metadata": {},
   "outputs": [],
   "source": [
    "def foo(a, /, b, *c, d, e=10, **f):\n",
    "    pass\n",
    "\n",
    "sig = signature(foo)\n"
   ]
  },
  {
   "cell_type": "markdown",
   "metadata": {},
   "source": [
    "*Count the number of parameters of each type*"
   ]
  },
  {
   "cell_type": "code",
   "execution_count": 5,
   "metadata": {},
   "outputs": [
    {
     "data": {
      "text/plain": [
       "Counter({'keyword-only': 2,\n",
       "         'positional-only': 1,\n",
       "         'positional or keyword': 1,\n",
       "         'variadic positional': 1,\n",
       "         'variadic keyword': 1})"
      ]
     },
     "execution_count": 5,
     "metadata": {},
     "output_type": "execute_result"
    }
   ],
   "source": [
    "Counter(param.kind.description for param in sig.parameters.values())\n"
   ]
  },
  {
   "cell_type": "code",
   "execution_count": 6,
   "metadata": {},
   "outputs": [
    {
     "data": {
      "text/plain": [
       "Counter({'KEYWORD_ONLY': 2,\n",
       "         'POSITIONAL_ONLY': 1,\n",
       "         'POSITIONAL_OR_KEYWORD': 1,\n",
       "         'VAR_POSITIONAL': 1,\n",
       "         'VAR_KEYWORD': 1})"
      ]
     },
     "execution_count": 6,
     "metadata": {},
     "output_type": "execute_result"
    }
   ],
   "source": [
    "Counter(param.kind.name for param in sig.parameters.values())\n"
   ]
  },
  {
   "cell_type": "markdown",
   "metadata": {},
   "source": [
    "*List all parameters, their type and their default (if it exists):*"
   ]
  },
  {
   "cell_type": "code",
   "execution_count": 7,
   "metadata": {},
   "outputs": [
    {
     "name": "stdout",
     "output_type": "stream",
     "text": [
      "a\tpositional-only          \n",
      "b\tpositional or keyword    \n",
      "c\tvariadic positional      \n",
      "d\tkeyword-only             \n",
      "e\tkeyword-only             10\n",
      "f\tvariadic keyword         \n"
     ]
    }
   ],
   "source": [
    "for param in sig.parameters.values():\n",
    "    if param.default is param.empty:\n",
    "        dft = ''\n",
    "    else:\n",
    "        dft = param.default\n",
    "    print(f'{param.name}\\t{param.kind.description:25s}{dft}')\n"
   ]
  },
  {
   "cell_type": "markdown",
   "metadata": {},
   "source": [
    "*print all keyword-only arguments without default values:*"
   ]
  },
  {
   "cell_type": "code",
   "execution_count": 8,
   "metadata": {},
   "outputs": [
    {
     "name": "stdout",
     "output_type": "stream",
     "text": [
      "Parameter: d\n"
     ]
    }
   ],
   "source": [
    "for param in sig.parameters.values():\n",
    "    if (param.kind == param.KEYWORD_ONLY and\n",
    "                       param.default is param.empty):\n",
    "        print('Parameter:', param)\n"
   ]
  },
  {
   "cell_type": "markdown",
   "metadata": {},
   "source": [
    "```python\n",
    "def foo(a, /, b, *c, d, e=10, **f):\n",
    "    pass\n",
    "```"
   ]
  },
  {
   "cell_type": "code",
   "execution_count": 9,
   "metadata": {},
   "outputs": [
    {
     "name": "stdout",
     "output_type": "stream",
     "text": [
      "<BoundArguments (a='A', b='B', c=(), d='D', e=10, f={})>\n"
     ]
    },
    {
     "data": {
      "text/plain": [
       "{'d': 'D', 'e': 10}"
      ]
     },
     "execution_count": 9,
     "metadata": {},
     "output_type": "execute_result"
    }
   ],
   "source": [
    "bnd = sig.bind('A', 'B', d='D')\n",
    "bnd.apply_defaults()\n",
    "print(bnd)\n",
    "bnd.kwargs"
   ]
  },
  {
   "cell_type": "code",
   "execution_count": 10,
   "metadata": {},
   "outputs": [
    {
     "data": {
      "text/plain": [
       "{'a': 'A', 'b': 'B', 'c': (), 'd': 'D', 'e': 10, 'f': {}}"
      ]
     },
     "execution_count": 10,
     "metadata": {},
     "output_type": "execute_result"
    }
   ],
   "source": [
    "bnd.arguments"
   ]
  },
  {
   "cell_type": "code",
   "execution_count": null,
   "metadata": {},
   "outputs": [],
   "source": [
    "def print_sig_info(sig):\n",
    "    for param in sig.parameters.values():\n",
    "        if param.default is param.empty:\n",
    "            dft = ''\n",
    "        else:\n",
    "            dft = param.default\n",
    "        print(f'{param.name}\\t{param.kind.description:25s}{dft}')"
   ]
  },
  {
   "cell_type": "markdown",
   "metadata": {},
   "source": [
    "## Reuse of function signature, type hints and intellisense `*args` `**kwargs`\n",
    "\n",
    "I was writing some python and got stumbled by an issue. I have tried to search for answers but seem to be lacking good keywords to find what I'm looking for.\n",
    "\n",
    "I'm trying to reuse a function signature form another function. The end goal is to have intellisense and low maintenance of the wrapper.\n",
    "\n",
    "```python\n",
    "class B:\n",
    "    \"\"\" Foreign class from other package \"\"\"\n",
    "    def __enter__(self):\n",
    "        ...\n",
    "    def __exit__(self, *_):\n",
    "        ...\n",
    "    def send(self, msg, timeout, ...):  # The function signature I want to re use for my function func. \n",
    "        ...\n",
    "    def get(self):\n",
    "        ...\n",
    "\n",
    "class A:\n",
    "    def __init__(self):\n",
    "        self.other = B()  # I don't control this class\n",
    "\n",
    "    def func(self, *args, **kwargs):  # <- I want to make MyPy and Intellisense to show hits from the B.send method. \n",
    "        with self.other as connection:\n",
    "            connection.send(*args, **kwargs)  # fire and forget method\n",
    "            response = connection.get()  # get data from a buffer (takes no arguments)\n",
    "        return response\n",
    "```\n",
    "\n",
    "Is there a way to use the function signature from `self.other.send` as the function signature for `A.func`?\n",
    "\n",
    "Searching for something like `functools.Wraps` but for this usage.\n",
    "\n",
    "I've tried using `functools.Wraps`, looking into `ParamSpec`. Oh man typing takes a while to get into.\n",
    "\n",
    "### Answer\n",
    "Yes, you can do this by creating a no-op decorator factory. The construct looks like this:\n",
    "\n",
    "```python\n",
    "import typing as t\n",
    "\n",
    "P = t.ParamSpec(\"P\")\n",
    "R = t.TypeVar(\"R\")\n",
    "\n",
    "def withSignatureFrom(\n",
    "    f: t.Callable[t.Concatenate[t.Any, P], R], /\n",
    ") -> t.Callable[\n",
    "    [t.Callable[t.Concatenate[t.Any, P], R]], t.Callable[t.Concatenate[t.Any, P], R]\n",
    "]:\n",
    "    return lambda _: _\n",
    "```\n",
    "\n",
    "- `f: t.Callable[t.Concatenate[t.Any, P], R]` indicates the signature to use;\n",
    "-> `t.Callable ...` is the decorator returned by the decorator factory. At runtime, this is the no-op `lambda _: _` (a decorator which just returns the decorated object unchanged).\n",
    "\n",
    "`Concatenate[t.Any, P]` is to prevent type mismatches in the first (`self`) parameter, because in your case, you're using an instance method signature from `class B` on `class A`, which are unrelated. To clarify, if you wanted exact typing, the decorator factory may look like this instead:\n",
    "\n",
    "```python\n",
    "def withSignatureFrom(\n",
    "    f: t.Callable[t.Concatenate[\"B\", P], R], /\n",
    ") -> t.Callable[\n",
    "    [t.Callable[t.Concatenate[\"A\", P], R]], t.Callable[t.Concatenate[\"A\", P], R]\n",
    "]:\n",
    "    return lambda _: _\n",
    "```\n",
    "\n",
    "But exact typing of the instance parameter is rarely useful (and if you do this, you can't use this construct outside of the classes `B` and `A`).\n",
    "\n",
    "Complete minimal working example:"
   ]
  },
  {
   "cell_type": "code",
   "execution_count": 12,
   "metadata": {},
   "outputs": [
    {
     "ename": "TypeError",
     "evalue": "The last parameter to Concatenate should be a ParamSpec variable or ellipsis.",
     "output_type": "error",
     "traceback": [
      "\u001b[1;31m---------------------------------------------------------------------------\u001b[0m",
      "\u001b[1;31mTypeError\u001b[0m                                 Traceback (most recent call last)",
      "Cell \u001b[1;32mIn[12], line 7\u001b[0m\n\u001b[0;32m      3\u001b[0m P \u001b[38;5;241m=\u001b[39m \u001b[38;5;28mstr\u001b[39m\n\u001b[0;32m      4\u001b[0m R \u001b[38;5;241m=\u001b[39m \u001b[38;5;28mint\u001b[39m\n\u001b[0;32m      6\u001b[0m \u001b[38;5;28;01mdef\u001b[39;00m \u001b[38;5;21mwithSignatureFrom\u001b[39m(\n\u001b[1;32m----> 7\u001b[0m     f: t\u001b[38;5;241m.\u001b[39mCallable[t\u001b[38;5;241m.\u001b[39mConcatenate[t\u001b[38;5;241m.\u001b[39mAny, P], R], \u001b[38;5;241m/\u001b[39m\n\u001b[0;32m      8\u001b[0m ) \u001b[38;5;241m-\u001b[39m\u001b[38;5;241m>\u001b[39m t\u001b[38;5;241m.\u001b[39mCallable[\n\u001b[0;32m      9\u001b[0m     [t\u001b[38;5;241m.\u001b[39mCallable[t\u001b[38;5;241m.\u001b[39mConcatenate[t\u001b[38;5;241m.\u001b[39mAny, P], R]], t\u001b[38;5;241m.\u001b[39mCallable[t\u001b[38;5;241m.\u001b[39mConcatenate[t\u001b[38;5;241m.\u001b[39mAny, P], R]\n\u001b[0;32m     10\u001b[0m ]:\n\u001b[0;32m     11\u001b[0m     \u001b[38;5;28;01mreturn\u001b[39;00m \u001b[38;5;28;01mlambda\u001b[39;00m _: _\n\u001b[0;32m     13\u001b[0m \u001b[38;5;28;01mclass\u001b[39;00m \u001b[38;5;21;01mB\u001b[39;00m:\n",
      "File \u001b[1;32md:\\.conda\\envs\\sectionaryDev\\Lib\\typing.py:384\u001b[0m, in \u001b[0;36m_tp_cache.<locals>.decorator.<locals>.inner\u001b[1;34m(*args, **kwds)\u001b[0m\n\u001b[0;32m    382\u001b[0m \u001b[38;5;28;01mexcept\u001b[39;00m \u001b[38;5;167;01mTypeError\u001b[39;00m:\n\u001b[0;32m    383\u001b[0m     \u001b[38;5;28;01mpass\u001b[39;00m  \u001b[38;5;66;03m# All real errors (not unhashable args) are raised below.\u001b[39;00m\n\u001b[1;32m--> 384\u001b[0m \u001b[38;5;28;01mreturn\u001b[39;00m func(\u001b[38;5;241m*\u001b[39margs, \u001b[38;5;241m*\u001b[39m\u001b[38;5;241m*\u001b[39mkwds)\n",
      "File \u001b[1;32md:\\.conda\\envs\\sectionaryDev\\Lib\\typing.py:496\u001b[0m, in \u001b[0;36m_SpecialForm.__getitem__\u001b[1;34m(self, parameters)\u001b[0m\n\u001b[0;32m    494\u001b[0m \u001b[38;5;129m@_tp_cache\u001b[39m\n\u001b[0;32m    495\u001b[0m \u001b[38;5;28;01mdef\u001b[39;00m \u001b[38;5;21m__getitem__\u001b[39m(\u001b[38;5;28mself\u001b[39m, parameters):\n\u001b[1;32m--> 496\u001b[0m     \u001b[38;5;28;01mreturn\u001b[39;00m \u001b[38;5;28mself\u001b[39m\u001b[38;5;241m.\u001b[39m_getitem(\u001b[38;5;28mself\u001b[39m, parameters)\n",
      "File \u001b[1;32md:\\.conda\\envs\\sectionaryDev\\Lib\\typing.py:803\u001b[0m, in \u001b[0;36mConcatenate\u001b[1;34m(self, parameters)\u001b[0m\n\u001b[0;32m    801\u001b[0m     parameters \u001b[38;5;241m=\u001b[39m (parameters,)\n\u001b[0;32m    802\u001b[0m \u001b[38;5;28;01mif\u001b[39;00m \u001b[38;5;129;01mnot\u001b[39;00m (parameters[\u001b[38;5;241m-\u001b[39m\u001b[38;5;241m1\u001b[39m] \u001b[38;5;129;01mis\u001b[39;00m \u001b[38;5;241m.\u001b[39m\u001b[38;5;241m.\u001b[39m\u001b[38;5;241m.\u001b[39m \u001b[38;5;129;01mor\u001b[39;00m \u001b[38;5;28misinstance\u001b[39m(parameters[\u001b[38;5;241m-\u001b[39m\u001b[38;5;241m1\u001b[39m], ParamSpec)):\n\u001b[1;32m--> 803\u001b[0m     \u001b[38;5;28;01mraise\u001b[39;00m \u001b[38;5;167;01mTypeError\u001b[39;00m(\u001b[38;5;124m\"\u001b[39m\u001b[38;5;124mThe last parameter to Concatenate should be a \u001b[39m\u001b[38;5;124m\"\u001b[39m\n\u001b[0;32m    804\u001b[0m                     \u001b[38;5;124m\"\u001b[39m\u001b[38;5;124mParamSpec variable or ellipsis.\u001b[39m\u001b[38;5;124m\"\u001b[39m)\n\u001b[0;32m    805\u001b[0m msg \u001b[38;5;241m=\u001b[39m \u001b[38;5;124m\"\u001b[39m\u001b[38;5;124mConcatenate[arg, ...]: each arg must be a type.\u001b[39m\u001b[38;5;124m\"\u001b[39m\n\u001b[0;32m    806\u001b[0m parameters \u001b[38;5;241m=\u001b[39m (\u001b[38;5;241m*\u001b[39m(_type_check(p, msg) \u001b[38;5;28;01mfor\u001b[39;00m p \u001b[38;5;129;01min\u001b[39;00m parameters[:\u001b[38;5;241m-\u001b[39m\u001b[38;5;241m1\u001b[39m]), parameters[\u001b[38;5;241m-\u001b[39m\u001b[38;5;241m1\u001b[39m])\n",
      "\u001b[1;31mTypeError\u001b[0m: The last parameter to Concatenate should be a ParamSpec variable or ellipsis."
     ]
    }
   ],
   "source": [
    "import typing as t\n",
    "import typing_extensions as tx\n",
    "P = str\n",
    "R = int\n",
    "\n",
    "def withSignatureFrom(\n",
    "    f: t.Callable[t.Concatenate[t.Any, P], R], /\n",
    ") -> t.Callable[\n",
    "    [t.Callable[t.Concatenate[t.Any, P], R]], t.Callable[t.Concatenate[t.Any, P], R]\n",
    "]:\n",
    "    return lambda _: _\n",
    "\n",
    "class B:\n",
    "    \"\"\"Foreign class from other package\"\"\"\n",
    "    def __enter__(self) -> tx.Self: ...\n",
    "    def __exit__(self, *_: t.Any) -> None: ...\n",
    "    def send(self, msg, timeout): ...\n",
    "    def get(self): ...\n",
    "\n",
    "class A:\n",
    "    other: B\n",
    "\n",
    "    def __init__(self) -> None:\n",
    "        self.other = B()  # I don't control this class\n",
    "\n",
    "    @withSignatureFrom(B.send)\n",
    "    def func(self, *args, **kwargs):\n",
    "        with self.other as connection:\n",
    "            connection.send(*args, **kwargs)  # fire and forget method\n",
    "            response = connection.get()  # get data from a buffer (takes no arguments)\n",
    "        return response"
   ]
  }
 ],
 "metadata": {
  "kernelspec": {
   "display_name": "sectionaryDev",
   "language": "python",
   "name": "python3"
  },
  "language_info": {
   "codemirror_mode": {
    "name": "ipython",
    "version": 3
   },
   "file_extension": ".py",
   "mimetype": "text/x-python",
   "name": "python",
   "nbconvert_exporter": "python",
   "pygments_lexer": "ipython3",
   "version": "3.12.1"
  }
 },
 "nbformat": 4,
 "nbformat_minor": 2
}
