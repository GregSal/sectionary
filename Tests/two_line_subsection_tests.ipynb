{
 "cells": [
  {
   "cell_type": "markdown",
   "metadata": {},
   "source": [
    "# Subsections Issue"
   ]
  },
  {
   "cell_type": "markdown",
   "metadata": {},
   "source": [
    "## Setup"
   ]
  },
  {
   "cell_type": "raw",
   "metadata": {},
   "source": [
    "from pathlib import Path\n",
    "import sys\n",
    "\n",
    "env_str = !set HOMEPATH\n",
    "\n",
    "home_path = Path(r'C:\\\\' + env_str[0].split('=',1)[1].strip('\"'))\n",
    "print(home_path)\n",
    "\n",
    "base_path = home_path / r\"OneDrive - Queen's University/Python\\Projects/sectionary package\"\n",
    "tests_path = base_path / 'Tests'\n",
    "examples_path = base_path / 'examples'\n",
    "source_path = base_path / r'src/sectionary'\n",
    "\n",
    "sys.path.extend([\n",
    "    base_path,\n",
    "    tests_path,\n",
    "    examples_path,\n",
    "    source_path\n",
    "    ])\n",
    "\n",
    "\n",
    "print('PythonPaths:')\n",
    "for path_str in sys.path:\n",
    "    print(f'\\t{path_str}')"
   ]
  },
  {
   "cell_type": "markdown",
   "metadata": {},
   "source": [
    "### Imports"
   ]
  },
  {
   "cell_type": "code",
   "execution_count": 1,
   "metadata": {},
   "outputs": [],
   "source": [
    "from typing import List\n",
    "from pathlib import Path\n",
    "from pprint import pprint\n",
    "import re\n",
    "import sys\n",
    "\n",
    "import pandas as pd\n",
    "import xlwings as xw\n",
    "\n",
    "from buffered_iterator import BufferedIterator\n",
    "import text_reader as tp\n",
    "from sections import Rule, RuleSet, SectionBreak, ProcessingMethods, Section"
   ]
  },
  {
   "cell_type": "markdown",
   "metadata": {},
   "source": [
    "### Logging"
   ]
  },
  {
   "cell_type": "code",
   "execution_count": 2,
   "metadata": {},
   "outputs": [],
   "source": [
    "import logging\n",
    "logging.basicConfig(format='%(name)-20s - %(levelname)s: %(message)s')\n",
    "#logging.basicConfig(level=logging.DEBUG)\n",
    "logger = logging.getLogger('Text Processing')\n",
    "#logger.setLevel(logging.DEBUG)\n",
    "logger.setLevel(logging.INFO)"
   ]
  },
  {
   "cell_type": "markdown",
   "metadata": {},
   "source": [
    "### Initialize 2-line Section Tests"
   ]
  },
  {
   "cell_type": "markdown",
   "metadata": {},
   "source": [
    "#### 2-line Section Source"
   ]
  },
  {
   "cell_type": "code",
   "execution_count": 3,
   "metadata": {},
   "outputs": [],
   "source": [
    "GENERIC_TEST_TEXT = [\n",
    "    'Text to be ignored',\n",
    "    'StartSection Name: A',\n",
    "    'EndSection Name: A',\n",
    "    'StartSection Name: B',\n",
    "    'EndSection Name: B',\n",
    "    'More text to be ignored',\n",
    "    ]"
   ]
  },
  {
   "cell_type": "markdown",
   "metadata": {},
   "source": [
    "## Simple sections experimenting with start and end settings"
   ]
  },
  {
   "cell_type": "markdown",
   "metadata": {},
   "source": [
    "### Two line section *StartSection*\n",
    "- Start *Before* `StartSection`\n",
    "- End *After* `EndSection`"
   ]
  },
  {
   "cell_type": "code",
   "execution_count": 4,
   "metadata": {},
   "outputs": [],
   "source": [
    "sub_section = Section(\n",
    "    section_name='SubSection',\n",
    "    start_section=SectionBreak('StartSection', break_offset='Before'),\n",
    "    end_section=SectionBreak('EndSection', break_offset='After')\n",
    "    )"
   ]
  },
  {
   "cell_type": "markdown",
   "metadata": {},
   "source": [
    "### Iterator Options"
   ]
  },
  {
   "cell_type": "markdown",
   "metadata": {},
   "source": [
    "- If a regular iterator is supplied the *Step Back* item is lost\n",
    "- The second call to `pprint(sub_section.read(test_iter))` returns an empty list \n",
    "  because the second *StartSection* line is lost."
   ]
  },
  {
   "cell_type": "code",
   "execution_count": 5,
   "metadata": {},
   "outputs": [
    {
     "name": "stdout",
     "output_type": "stream",
     "text": [
      "['StartSection Name: A', 'EndSection Name: A']\n",
      "[]\n"
     ]
    }
   ],
   "source": [
    "test_iter = iter(GENERIC_TEST_TEXT)\n",
    "pprint(sub_section.read(test_iter))\n",
    "\n",
    "pprint(sub_section.read(test_iter))"
   ]
  },
  {
   "cell_type": "markdown",
   "metadata": {},
   "source": [
    "- Supplying a *BufferedIterator* preserves the *Step Back* item.\n",
    "- The Third call to `pprint(sub_section.read(test_iter))` returns an empty list \n",
    "  because the default *aggregate* method is `list`, so no items in the sequence \n",
    "  returns an empty list."
   ]
  },
  {
   "cell_type": "code",
   "execution_count": 6,
   "metadata": {},
   "outputs": [
    {
     "name": "stdout",
     "output_type": "stream",
     "text": [
      "['StartSection Name: A', 'EndSection Name: A']\n",
      "['StartSection Name: B', 'EndSection Name: B']\n",
      "[]\n"
     ]
    }
   ],
   "source": [
    "test_iter = BufferedIterator(GENERIC_TEST_TEXT)\n",
    "pprint(sub_section.read(test_iter))\n",
    "pprint(sub_section.read(test_iter))\n",
    "pprint(sub_section.read(test_iter))"
   ]
  },
  {
   "cell_type": "markdown",
   "metadata": {},
   "source": [
    "- Using `subsections=sub_section` avoids the need for `BufferedIterator(GENERIC_TEST_TEXT)`"
   ]
  },
  {
   "cell_type": "code",
   "execution_count": 7,
   "metadata": {},
   "outputs": [
    {
     "name": "stdout",
     "output_type": "stream",
     "text": [
      "[['StartSection Name: A', 'EndSection Name: A'],\n",
      " ['StartSection Name: B', 'EndSection Name: B'],\n",
      " []]\n"
     ]
    }
   ],
   "source": [
    "full_section = Section(\n",
    "    section_name='Full',\n",
    "    subsections=sub_section,\n",
    "    keep_partial=True\n",
    "    )\n",
    "pprint(full_section.read(GENERIC_TEST_TEXT))"
   ]
  },
  {
   "cell_type": "markdown",
   "metadata": {},
   "source": [
    "![Good](../examples/Valid.png) The extra empty list at the end is expected here.\n",
    "- The extra empty list at the end results from the last line `'More text to be ignored'`. \n",
    "- `full_section` includes this line, but it is not included in the subsection.  \n",
    "- The `keep_partial=True` setting forces an empty set to be returned because no subsection data was found.\n",
    "\n",
    "|Expected|Actual|\n",
    "|-|-|\n",
    "|`['StartSection Name: A', 'EndSection Name: A']`|`['StartSection Name: A', 'EndSection Name: A']`|\n",
    "|`['StartSection Name: B', 'EndSection Name: B']`|`['StartSection Name: B', 'EndSection Name: B']`|\n",
    "|`[]`|`[]`|\n"
   ]
  },
  {
   "cell_type": "markdown",
   "metadata": {},
   "source": [
    "Using `keep_partial=False` to eliminate empty list."
   ]
  },
  {
   "cell_type": "code",
   "execution_count": 8,
   "metadata": {},
   "outputs": [
    {
     "name": "stdout",
     "output_type": "stream",
     "text": [
      "[['StartSection Name: A', 'EndSection Name: A'],\n",
      " ['StartSection Name: B', 'EndSection Name: B']]\n"
     ]
    }
   ],
   "source": [
    "full_section = Section(\n",
    "    section_name='Full',\n",
    "    end_section=SectionBreak('ignored', break_offset='Before'),\n",
    "    subsections=[sub_section],\n",
    "    keep_partial=False\n",
    "    )\n",
    "pprint(full_section.read(GENERIC_TEST_TEXT))"
   ]
  },
  {
   "cell_type": "markdown",
   "metadata": {},
   "source": [
    "![Good](../examples/Valid.png) \n",
    "The `keep_partial=False` setting forces the iterator to exit when full subsections are not found.\n",
    "\n",
    "|Expected|Actual|\n",
    "|-|-|\n",
    "|`['StartSection Name: A', 'EndSection Name: A']`|`['StartSection Name: A', 'EndSection Name: A']`|\n",
    "|`['StartSection Name: B', 'EndSection Name: B']`|`['StartSection Name: B', 'EndSection Name: B']`|\n",
    "|||\n"
   ]
  },
  {
   "cell_type": "markdown",
   "metadata": {},
   "source": [
    "### Single line section *StartSection*\n",
    "> - Start *Before* `StartSection`\n",
    "> - End *Before* `EndSection`"
   ]
  },
  {
   "cell_type": "code",
   "execution_count": 9,
   "metadata": {},
   "outputs": [
    {
     "name": "stdout",
     "output_type": "stream",
     "text": [
      "['StartSection Name: A']\n",
      "['StartSection Name: B']\n",
      "[]\n"
     ]
    }
   ],
   "source": [
    "sub_section1 = Section(\n",
    "    section_name='SubSection',\n",
    "    start_section=SectionBreak('StartSection', break_offset='Before'),\n",
    "    end_section=SectionBreak('EndSection', break_offset='Before')\n",
    "    )\n",
    "\n",
    "test_iter = BufferedIterator(GENERIC_TEST_TEXT)\n",
    "pprint(sub_section1.read(test_iter))\n",
    "pprint(sub_section1.read(test_iter))\n",
    "pprint(sub_section1.read(test_iter))"
   ]
  },
  {
   "cell_type": "code",
   "execution_count": 10,
   "metadata": {},
   "outputs": [
    {
     "name": "stdout",
     "output_type": "stream",
     "text": [
      "[['StartSection Name: A'], ['StartSection Name: B'], []]\n"
     ]
    }
   ],
   "source": [
    "\n",
    "full_section = Section(\n",
    "    section_name='Full',\n",
    "    end_section=SectionBreak('ignored', break_offset='Before'),\n",
    "    subsections=[sub_section1],\n",
    "    keep_partial=False  \n",
    "    )\n",
    "pprint(full_section.read(GENERIC_TEST_TEXT))"
   ]
  },
  {
   "cell_type": "markdown",
   "metadata": {},
   "source": [
    "# Is the extra blank line unexpected?"
   ]
  },
  {
   "cell_type": "markdown",
   "metadata": {},
   "source": [
    "![Bad](../examples/error.png) Extra empty list at the end.\n",
    "\n",
    "|Expected|Actual|\n",
    "|-|-|\n",
    "|`['StartSection Name: A']`|`['StartSection Name: A']`|\n",
    "|`['StartSection Name: B']`|`['StartSection Name: B']`|\n",
    "||`[]`|\n"
   ]
  },
  {
   "cell_type": "markdown",
   "metadata": {},
   "source": [
    "### Single line section *EndSection*\n",
    "#### Attempt #1\n",
    "> - Start *Before* `EndSection`\n",
    "> - End *Before* `StartSection`\n",
    "\n",
    "- This doesn't work well because it includes the unwanted text after the last *EndSection*"
   ]
  },
  {
   "cell_type": "code",
   "execution_count": 11,
   "metadata": {},
   "outputs": [
    {
     "name": "stdout",
     "output_type": "stream",
     "text": [
      "['EndSection Name: A']\n",
      "['EndSection Name: B', 'More text to be ignored']\n",
      "[]\n"
     ]
    }
   ],
   "source": [
    "sub_section2a = Section(\n",
    "    section_name='SubSection',\n",
    "    start_section=SectionBreak('EndSection', break_offset='Before'),\n",
    "    end_section=SectionBreak('StartSection', break_offset='Before')\n",
    "    )\n",
    "test_iter = BufferedIterator(GENERIC_TEST_TEXT)\n",
    "pprint(sub_section2a.read(test_iter))\n",
    "pprint(sub_section2a.read(test_iter))\n",
    "pprint(sub_section2a.read(test_iter))"
   ]
  },
  {
   "cell_type": "markdown",
   "metadata": {},
   "source": [
    "![Good](../examples/Valid.png) \n",
    "\n",
    "|Expected|Actual|\n",
    "|-|-|\n",
    "|`['EndSection Name: A']`|`['EndSection Name: A']`|\n",
    "|`['EndSection Name: B', 'More text to be ignored']`|`['EndSection Name: B', 'More text to be ignored']`|\n",
    "|`[]`|`[]`|\n"
   ]
  },
  {
   "cell_type": "markdown",
   "metadata": {},
   "source": [
    "#### Attempt #2\n",
    "> - Start *Before* `EndSection`\n",
    "> - End *After* `EndSection`\n",
    "\n",
    "- This doesn't work because The first line is not tested so it only breaks after the second occurrence of *EndSection*."
   ]
  },
  {
   "cell_type": "code",
   "execution_count": 12,
   "metadata": {},
   "outputs": [
    {
     "name": "stdout",
     "output_type": "stream",
     "text": [
      "['EndSection Name: A', 'StartSection Name: B', 'EndSection Name: B']\n",
      "[]\n",
      "[]\n"
     ]
    }
   ],
   "source": [
    "sub_section2b = Section(\n",
    "    section_name='SubSection',\n",
    "    start_section=SectionBreak('EndSection', break_offset='Before'),\n",
    "    end_section=SectionBreak('EndSection', break_offset='After'),\n",
    "    )\n",
    "test_iter = BufferedIterator(GENERIC_TEST_TEXT)\n",
    "pprint(sub_section2b.read(test_iter))\n",
    "pprint(sub_section2b.read(test_iter))\n",
    "pprint(sub_section2b.read(test_iter))"
   ]
  },
  {
   "cell_type": "markdown",
   "metadata": {},
   "source": [
    "![Good](../examples/Valid.png) \n",
    "\n",
    "|Expected|Actual|\n",
    "|-|-|\n",
    "|`['EndSection Name: A', 'StartSection Name: B', 'EndSection Name: B']`|`['EndSection Name: A', 'StartSection Name: B', 'EndSection Name: B']`|\n",
    "|`[]`|`[]`|\n",
    "|`[]`|`[]`|\n"
   ]
  },
  {
   "cell_type": "markdown",
   "metadata": {},
   "source": [
    "#### Attempt #3\n",
    "> - Start *Before* `EndSection`\n",
    "> - End *After* `EndSection`\n",
    "> - Enable testing of first item\n",
    "\n",
    "- This should work because the first line should be tested and trigger a break."
   ]
  },
  {
   "cell_type": "code",
   "execution_count": 13,
   "metadata": {},
   "outputs": [
    {
     "name": "stdout",
     "output_type": "stream",
     "text": [
      "['EndSection Name: A']\n",
      "['EndSection Name: B']\n",
      "[]\n"
     ]
    }
   ],
   "source": [
    "sub_section2c = Section(\n",
    "    section_name='SubSection',\n",
    "    start_section=SectionBreak('EndSection', break_offset='Before'),\n",
    "    end_section=SectionBreak('EndSection', break_offset='After'),\n",
    "    end_on_first_item=True,\n",
    "    )\n",
    "test_iter = BufferedIterator(GENERIC_TEST_TEXT)\n",
    "pprint(sub_section2c.read(test_iter))\n",
    "pprint(sub_section2c.read(test_iter))\n",
    "pprint(sub_section2c.read(test_iter))"
   ]
  },
  {
   "cell_type": "markdown",
   "metadata": {},
   "source": [
    "![Good](../examples/Valid.png) \n",
    "\n",
    "|Expected|Actual|\n",
    "|-|-|\n",
    "|`['EndSection Name: A']`|`['EndSection Name: A']`|\n",
    "|`['EndSection Name: B']`|`['EndSection Name: B']`|\n",
    "|`[]`|`[]`|\n"
   ]
  },
  {
   "cell_type": "markdown",
   "metadata": {},
   "source": [
    "#### Attempt #3.5\n",
    "> - Start *Before* `EndSection`\n",
    "> - End *Before* `EndSection`\n",
    "> - Enable testing of first item\n",
    "\n",
    "- This should __<u>not</u>__ work because the first line should be tested and \n",
    "  trigger a break before returning anything."
   ]
  },
  {
   "cell_type": "code",
   "execution_count": 14,
   "metadata": {},
   "outputs": [
    {
     "name": "stdout",
     "output_type": "stream",
     "text": [
      "[]\n",
      "[]\n",
      "[]\n"
     ]
    }
   ],
   "source": [
    "sub_section2cc = Section(\n",
    "    section_name='SubSection',\n",
    "    start_section=SectionBreak('EndSection', break_offset='Before'),\n",
    "    end_section=SectionBreak('EndSection', break_offset='Before'),\n",
    "    end_on_first_item=True,\n",
    "    )\n",
    "test_iter = BufferedIterator(GENERIC_TEST_TEXT)\n",
    "pprint(sub_section2cc.read(test_iter))\n",
    "pprint(sub_section2cc.read(test_iter))\n",
    "pprint(sub_section2cc.read(test_iter))"
   ]
  },
  {
   "cell_type": "markdown",
   "metadata": {},
   "source": [
    "![Good](../examples/Valid.png) \n",
    "\n",
    "|Expected|Actual|\n",
    "|-|-|\n",
    "|`[]`|`[]`|\n",
    "|`[]`|`[]`|\n",
    "|`[]`|`[]`|\n"
   ]
  },
  {
   "cell_type": "markdown",
   "metadata": {},
   "source": [
    "#### Attempt #4\n",
    "> - Start *Before* `EndSection`\n",
    "> - End is `True` (Always Break)\n",
    "> - Enable testing of first item\n",
    "\n",
    "- This should work because the first line should be tested and always trigger a break."
   ]
  },
  {
   "cell_type": "code",
   "execution_count": 15,
   "metadata": {},
   "outputs": [
    {
     "name": "stdout",
     "output_type": "stream",
     "text": [
      "['EndSection Name: A']\n",
      "['EndSection Name: B']\n",
      "[]\n"
     ]
    }
   ],
   "source": [
    "sub_section2d = Section(\n",
    "    section_name='SubSection',\n",
    "    start_section=SectionBreak('EndSection', break_offset='Before'),\n",
    "    end_section=SectionBreak(True, break_offset='After'),\n",
    "    end_on_first_item=True,\n",
    "    )\n",
    "test_iter = BufferedIterator(GENERIC_TEST_TEXT)\n",
    "pprint(sub_section2d.read(test_iter))\n",
    "pprint(sub_section2d.read(test_iter))\n",
    "pprint(sub_section2d.read(test_iter))"
   ]
  },
  {
   "cell_type": "markdown",
   "metadata": {},
   "source": [
    "![Good](../examples/Valid.png) \n",
    "\n",
    "|Expected|Actual|\n",
    "|-|-|\n",
    "|`['StartSection Name: A']`|`['EndSection Name: A']`|\n",
    "|`['StartSection Name: B']`|`['EndSection Name: B']`|\n",
    "|`[]`|`[]`|"
   ]
  },
  {
   "cell_type": "markdown",
   "metadata": {},
   "source": [
    "#### Attempt #5\n",
    "> - Start *Before* `EndSection`\n",
    "> - End is `True` (Always Break)\n",
    "> - Don't enable testing of first item\n",
    "\n",
    "- This should <u>not</u> work because the break should trigger on the second line."
   ]
  },
  {
   "cell_type": "code",
   "execution_count": 16,
   "metadata": {},
   "outputs": [
    {
     "name": "stdout",
     "output_type": "stream",
     "text": [
      "['EndSection Name: A', 'StartSection Name: B']\n",
      "['EndSection Name: B', 'More text to be ignored']\n",
      "[]\n"
     ]
    }
   ],
   "source": [
    "sub_section2e = Section(\n",
    "    section_name='SubSection',\n",
    "    start_section=SectionBreak('EndSection', break_offset='Before'),\n",
    "    end_section=SectionBreak(True, break_offset='After')\n",
    "    )\n",
    "test_iter = BufferedIterator(GENERIC_TEST_TEXT)\n",
    "pprint(sub_section2e.read(test_iter))\n",
    "pprint(sub_section2e.read(test_iter))\n",
    "pprint(sub_section2e.read(test_iter))"
   ]
  },
  {
   "cell_type": "markdown",
   "metadata": {},
   "source": [
    "![Good](../examples/Valid.png) \n",
    "\n",
    "|Expected|Actual|\n",
    "|-|-|\n",
    "|`['EndSection Name: A', 'StartSection Name: B']`|`['EndSection Name: A', 'StartSection Name: B']`|\n",
    "|`['EndSection Name: B', 'More text to be ignored']`|`['EndSection Name: B', 'More text to be ignored']`|\n",
    "|`[]`|`[]`|\n",
    "\n",
    "**`end_section=SectionBreak(True)` defaults to `break_offset='Before'`**"
   ]
  },
  {
   "cell_type": "markdown",
   "metadata": {},
   "source": [
    "#### Attempt #6\n",
    "> - Start *Before* `EndSection`\n",
    "> - End *After* ___`True`___ (Always Break)\n",
    "> - Don't enable testing of first item\n",
    "\n",
    "- This should <u>not</u> work because the break should trigger *After* the second line."
   ]
  },
  {
   "cell_type": "code",
   "execution_count": 17,
   "metadata": {},
   "outputs": [
    {
     "name": "stdout",
     "output_type": "stream",
     "text": [
      "['EndSection Name: A', 'StartSection Name: B']\n",
      "['EndSection Name: B', 'More text to be ignored']\n",
      "[]\n"
     ]
    }
   ],
   "source": [
    "sub_section2f = Section(\n",
    "    section_name='SubSection',\n",
    "    start_section=SectionBreak('EndSection', break_offset='Before'),\n",
    "    end_section=SectionBreak(True, break_offset='After')\n",
    "    )\n",
    "test_iter = BufferedIterator(GENERIC_TEST_TEXT)\n",
    "pprint(sub_section2f.read(test_iter))\n",
    "pprint(sub_section2f.read(test_iter))\n",
    "pprint(sub_section2f.read(test_iter))"
   ]
  },
  {
   "cell_type": "markdown",
   "metadata": {},
   "source": [
    "![Good](../examples/Valid.png)\n",
    "|Expected|Actual|\n",
    "|-|-|\n",
    "|`['EndSection Name: A', 'StartSection Name: B']`|`['EndSection Name: A', 'StartSection Name: B']`|\n",
    "|`['EndSection Name: B', 'More text to be ignored']`|`['EndSection Name: B', 'More text to be ignored']`|\n",
    "|`[]`|`[]`|"
   ]
  },
  {
   "cell_type": "markdown",
   "metadata": {},
   "source": [
    "#### Attempt #7\n",
    "> - Start *Before* `EndSection`\n",
    "> - Enable testing of first item\n",
    "> - No End setting\n",
    "\n",
    "- This should start with the first *EndSection* line and not stop until the end of the iterator."
   ]
  },
  {
   "cell_type": "code",
   "execution_count": 18,
   "metadata": {},
   "outputs": [
    {
     "name": "stdout",
     "output_type": "stream",
     "text": [
      "['EndSection Name: A',\n",
      " 'StartSection Name: B',\n",
      " 'EndSection Name: B',\n",
      " 'More text to be ignored']\n",
      "[]\n",
      "[]\n"
     ]
    }
   ],
   "source": [
    "sub_section2g = Section(\n",
    "    section_name='SubSection',\n",
    "    start_section=SectionBreak('EndSection', break_offset='Before'),\n",
    "    end_on_first_item=True,\n",
    "    )\n",
    "test_iter = BufferedIterator(GENERIC_TEST_TEXT)\n",
    "pprint(sub_section2g.read(test_iter))\n",
    "pprint(sub_section2g.read(test_iter))\n",
    "pprint(sub_section2g.read(test_iter))"
   ]
  },
  {
   "cell_type": "markdown",
   "metadata": {},
   "source": [
    "![Good](../examples/Valid.png)\n",
    "|Expected|Actual|\n",
    "|-|-|\n",
    "|`['EndSection Name: A', ['StartSection Name: B', 'EndSection Name: B', 'More text to be ignored']`|`['EndSection Name: A', 'StartSection Name: B', 'EndSection Name: B', 'More text to be ignored']`|\n",
    "|`[]`|`[]`|\n",
    "|`[]`|`[]`|\n"
   ]
  },
  {
   "cell_type": "markdown",
   "metadata": {},
   "source": [
    "#### Single line section *EndSection* __Final Design__.\n",
    "> - Start *Before* `EndSection`\n",
    "> - End *Before* ___`True`___ (Always Break)\n",
    "> - Don't enable testing of first item\n",
    "\n",
    "- This should work because the break should trigger *Before* the second line."
   ]
  },
  {
   "cell_type": "code",
   "execution_count": 19,
   "metadata": {},
   "outputs": [
    {
     "name": "stdout",
     "output_type": "stream",
     "text": [
      "['EndSection Name: A']\n",
      "['EndSection Name: B']\n",
      "[]\n"
     ]
    }
   ],
   "source": [
    "sub_section2 = Section(\n",
    "    section_name='SubSection',\n",
    "    start_section=SectionBreak('EndSection', break_offset='Before'),\n",
    "    end_section=SectionBreak(True, break_offset='Before')\n",
    "    )\n",
    "test_iter = BufferedIterator(GENERIC_TEST_TEXT)\n",
    "pprint(sub_section2.read(test_iter))\n",
    "pprint(sub_section2.read(test_iter))\n",
    "pprint(sub_section2.read(test_iter))"
   ]
  },
  {
   "cell_type": "markdown",
   "metadata": {},
   "source": [
    "![Good](../examples/Valid.png) End breaks *Before* second line. \n",
    "\n",
    "|Expected|Actual|\n",
    "|-|-|\n",
    "|`['EndSection Name: A']`|`['EndSection Name: A']`|\n",
    "|`['EndSection Name: B']`|`['EndSection Name: B']`|\n",
    "|`[]`|`[]`|"
   ]
  },
  {
   "cell_type": "markdown",
   "metadata": {},
   "source": [
    "### Combined Start and End subsections Single line section \n",
    "***sub_section1***\n",
    "> - Start *Before* `StartSection`\n",
    "> - End *Before* `EndSection`\n",
    "\n",
    "***sub_section2*** \n",
    "> - Start *Before* `EndSection`\n",
    "> - End *Before* ___`True`___ (Always Break)\n",
    "> - Don't enable testing of first item\n",
    "\n",
    "`subsections=[sub_section1, sub_section2]`"
   ]
  },
  {
   "cell_type": "code",
   "execution_count": 20,
   "metadata": {},
   "outputs": [
    {
     "name": "stdout",
     "output_type": "stream",
     "text": [
      "[[['StartSection Name: A'], ['EndSection Name: A']],\n",
      " [['StartSection Name: B'], ['EndSection Name: B']]]\n"
     ]
    }
   ],
   "source": [
    "\n",
    "full_section = Section(\n",
    "    section_name='Full',\n",
    "    subsections=[sub_section1, sub_section2]\n",
    "    )\n",
    "pprint(full_section.read(GENERIC_TEST_TEXT))"
   ]
  },
  {
   "cell_type": "markdown",
   "metadata": {},
   "source": [
    "![Good](../examples/Valid.png) Tree list levels with single item in deepest level andm two items in each of the other two levels.\n",
    "\n",
    "|Expected|Actual|\n",
    "|-|-|\n",
    "|`[['StartSection Name: A'], ['EndSection Name: A']]`|`[['StartSection Name: A'], ['EndSection Name: A']]`|\n",
    "|`[['StartSection Name: B'], ['EndSection Name: B']]`|`[['StartSection Name: B'], ['EndSection Name: B']]`|"
   ]
  },
  {
   "cell_type": "markdown",
   "metadata": {},
   "source": [
    "## Hysteresis Bug Fixed  ![Good](../examples/Valid.png) \n",
    "When `full_section` contains \n",
    "`end_section=SectionBreak('ignored', break_offset='Before')`, repeated calls produce different effects."
   ]
  },
  {
   "cell_type": "markdown",
   "metadata": {},
   "source": [
    "#### Define `SubSection`: \n",
    "- Start *Before* `StartSection`\n",
    "- End *After* `EndSection`"
   ]
  },
  {
   "cell_type": "code",
   "execution_count": 21,
   "metadata": {},
   "outputs": [],
   "source": [
    "sub_section = Section(\n",
    "    section_name='SubSection',\n",
    "    start_section=SectionBreak('StartSection', break_offset='Before', name='SubSectionStart'),\n",
    "    end_section=SectionBreak('EndSection', break_offset='After', name='SubSectionEnd')\n",
    "    )"
   ]
  },
  {
   "cell_type": "markdown",
   "metadata": {},
   "source": [
    "- Clear Hysteresis by running `full_section` without setting `end_section`"
   ]
  },
  {
   "cell_type": "code",
   "execution_count": 22,
   "metadata": {},
   "outputs": [
    {
     "name": "stdout",
     "output_type": "stream",
     "text": [
      "[['StartSection Name: A', 'EndSection Name: A'],\n",
      " ['StartSection Name: B', 'EndSection Name: B'],\n",
      " []]\n",
      "[['StartSection Name: A', 'EndSection Name: A'],\n",
      " ['StartSection Name: B', 'EndSection Name: B'],\n",
      " []]\n"
     ]
    }
   ],
   "source": [
    "full_section = Section(\n",
    "    section_name='Full',\n",
    "    subsections=sub_section,\n",
    "    keep_partial=False\n",
    "    )\n",
    "#a = full_section.read(GENERIC_TEST_TEXT)\n",
    "pprint(full_section.read(GENERIC_TEST_TEXT))\n",
    "pprint(full_section.read(GENERIC_TEST_TEXT))"
   ]
  },
  {
   "cell_type": "markdown",
   "metadata": {},
   "source": [
    "- Define `full_section` with \n",
    "`end_section=SectionBreak('ignored', break_offset='Before')`."
   ]
  },
  {
   "cell_type": "code",
   "execution_count": 23,
   "metadata": {},
   "outputs": [],
   "source": [
    "full_section = Section(\n",
    "    section_name='Full',\n",
    "    end_section=SectionBreak('ignored', break_offset='Before'),\n",
    "    subsections=sub_section\n",
    "    )"
   ]
  },
  {
   "cell_type": "markdown",
   "metadata": {},
   "source": [
    "- First time it runs as expected"
   ]
  },
  {
   "cell_type": "code",
   "execution_count": 24,
   "metadata": {},
   "outputs": [
    {
     "name": "stdout",
     "output_type": "stream",
     "text": [
      "[['StartSection Name: A', 'EndSection Name: A'],\n",
      " ['StartSection Name: B', 'EndSection Name: B']]\n"
     ]
    }
   ],
   "source": [
    "pprint(full_section.read(GENERIC_TEST_TEXT))"
   ]
  },
  {
   "cell_type": "markdown",
   "metadata": {},
   "source": [
    "![Good](../examples/Valid.png) \n",
    "Both full subsections found. No empty lists afterwards.\n",
    "\n",
    "|Expected|Actual|\n",
    "|-|-|\n",
    "|`['StartSection Name: A', 'EndSection Name: A']`|`['StartSection Name: A', 'EndSection Name: A']`|\n",
    "|`['StartSection Name: B', 'EndSection Name: B']`|`['StartSection Name: B', 'EndSection Name: B']`|"
   ]
  },
  {
   "cell_type": "markdown",
   "metadata": {},
   "source": [
    "- The second time, a line in the first subsection is missing."
   ]
  },
  {
   "cell_type": "code",
   "execution_count": 25,
   "metadata": {},
   "outputs": [
    {
     "name": "stdout",
     "output_type": "stream",
     "text": [
      "[['StartSection Name: A', 'EndSection Name: A'],\n",
      " ['StartSection Name: B', 'EndSection Name: B']]\n"
     ]
    }
   ],
   "source": [
    "pprint(full_section.read(GENERIC_TEST_TEXT))"
   ]
  },
  {
   "cell_type": "markdown",
   "metadata": {},
   "source": [
    "![Good](../examples/Valid.png)  Hysteresis Fixed\n",
    "\n",
    "|Expected|Actual|\n",
    "|-|-|\n",
    "|`['StartSection Name: A', 'EndSection Name: A']`|`['StartSection Name: A', 'EndSection Name: A']`|\n",
    "|`['StartSection Name: B', 'EndSection Name: B']`|`['StartSection Name: B', 'EndSection Name: B']`|\n"
   ]
  },
  {
   "cell_type": "code",
   "execution_count": 26,
   "metadata": {},
   "outputs": [
    {
     "name": "stdout",
     "output_type": "stream",
     "text": [
      "[['StartSection Name: A', 'EndSection Name: A'],\n",
      " ['StartSection Name: B', 'EndSection Name: B']]\n"
     ]
    }
   ],
   "source": [
    "pprint(full_section.read(GENERIC_TEST_TEXT))"
   ]
  },
  {
   "cell_type": "markdown",
   "metadata": {},
   "source": [
    "![Good](../examples/Valid.png)  Hysteresis Fixed for more repetitions.\n",
    "|Expected|Actual|\n",
    "|-|-|\n",
    "|`['StartSection Name: A', 'EndSection Name: A']`|`['StartSection Name: A', 'EndSection Name: A']`|\n",
    "|`['StartSection Name: B', 'EndSection Name: B']`|`['StartSection Name: B', 'EndSection Name: B']`|\n"
   ]
  },
  {
   "cell_type": "code",
   "execution_count": 27,
   "metadata": {},
   "outputs": [
    {
     "name": "stdout",
     "output_type": "stream",
     "text": [
      "[['StartSection Name: A', 'EndSection Name: A'],\n",
      " ['StartSection Name: B', 'EndSection Name: B']]\n"
     ]
    }
   ],
   "source": [
    "full_section = Section(\n",
    "    section_name='Full',\n",
    "    end_section=SectionBreak('ignored', break_offset='Before'),\n",
    "    subsections=sub_section\n",
    "    )\n",
    "pprint(full_section.read(GENERIC_TEST_TEXT))"
   ]
  },
  {
   "cell_type": "markdown",
   "metadata": {},
   "source": [
    "![Good](../examples/Valid.png)  Hysteresis Fixed Redefining `full_section`\n",
    "|Expected|Actual|\n",
    "|-|-|\n",
    "|`['StartSection Name: A', 'EndSection Name: A']`|`['StartSection Name: A', 'EndSection Name: A']`|\n",
    "|`['StartSection Name: B', 'EndSection Name: B']`|`['StartSection Name: B', 'EndSection Name: B']`|\n"
   ]
  },
  {
   "cell_type": "code",
   "execution_count": 28,
   "metadata": {},
   "outputs": [
    {
     "name": "stdout",
     "output_type": "stream",
     "text": [
      "[['StartSection Name: A', 'EndSection Name: A'],\n",
      " ['StartSection Name: B', 'EndSection Name: B']]\n"
     ]
    }
   ],
   "source": [
    "sub_section = Section(\n",
    "    section_name='SubSection',\n",
    "    start_section=SectionBreak('StartSection', break_offset='Before'),\n",
    "    end_section=SectionBreak('EndSection', break_offset='After')\n",
    "    )\n",
    "pprint(full_section.read(GENERIC_TEST_TEXT))"
   ]
  },
  {
   "cell_type": "markdown",
   "metadata": {},
   "source": [
    "![Good](../examples/Valid.png)  Hysteresis Fixed Redefining `sub_section`.\n",
    "|Expected|Actual|\n",
    "|-|-|\n",
    "|`['StartSection Name: A', 'EndSection Name: A']`|`['StartSection Name: A', 'EndSection Name: A']`|\n",
    "|`['StartSection Name: B', 'EndSection Name: B']`|`['StartSection Name: B', 'EndSection Name: B']`|\n"
   ]
  },
  {
   "cell_type": "code",
   "execution_count": 29,
   "metadata": {},
   "outputs": [
    {
     "name": "stdout",
     "output_type": "stream",
     "text": [
      "[['StartSection Name: A', 'EndSection Name: A'],\n",
      " ['StartSection Name: B', 'EndSection Name: B']]\n"
     ]
    }
   ],
   "source": [
    "sub_section = Section(\n",
    "    section_name='SubSection',\n",
    "    start_section=SectionBreak('StartSection', break_offset='Before'),\n",
    "    end_section=SectionBreak('EndSection', break_offset='After')\n",
    "    )\n",
    "\n",
    "full_section = Section(\n",
    "    section_name='Full',\n",
    "    end_section=SectionBreak('ignored', break_offset='Before'),\n",
    "    subsections=sub_section\n",
    "    )\n",
    "\n",
    "pprint(full_section.read(GENERIC_TEST_TEXT))"
   ]
  },
  {
   "cell_type": "markdown",
   "metadata": {},
   "source": [
    "![Good](../examples/Valid.png) \n",
    "Redefining __Both__ `sub_section` and `full_section` fixes the issue.\n",
    "\n",
    "|Expected|Actual|\n",
    "|-|-|\n",
    "|`['StartSection Name: A', 'EndSection Name: A']`|`['StartSection Name: A', 'EndSection Name: A']`|\n",
    "|`['StartSection Name: B', 'EndSection Name: B']`|`['StartSection Name: B', 'EndSection Name: B']`|"
   ]
  },
  {
   "cell_type": "markdown",
   "metadata": {},
   "source": [
    "### Try resetting the source"
   ]
  },
  {
   "cell_type": "markdown",
   "metadata": {},
   "source": [
    "- Clear Hysteresis by re-defining both `sub_section` and `full_section`"
   ]
  },
  {
   "cell_type": "code",
   "execution_count": 30,
   "metadata": {},
   "outputs": [],
   "source": [
    "sub_section = Section(\n",
    "    section_name='SubSection',\n",
    "    start_section=SectionBreak('StartSection', break_offset='Before'),\n",
    "    end_section=SectionBreak('EndSection', break_offset='After')\n",
    "    )\n",
    "\n",
    "full_section = Section(\n",
    "    section_name='Full',\n",
    "    end_section=SectionBreak('ignored', break_offset='Before'),\n",
    "    subsections=sub_section\n",
    "    )"
   ]
  },
  {
   "cell_type": "code",
   "execution_count": 31,
   "metadata": {},
   "outputs": [
    {
     "name": "stdout",
     "output_type": "stream",
     "text": [
      "[['StartSection Name: A', 'EndSection Name: A'],\n",
      " ['StartSection Name: B', 'EndSection Name: B']]\n",
      "[['StartSection Name: A', 'EndSection Name: A'],\n",
      " ['StartSection Name: B', 'EndSection Name: B']]\n"
     ]
    }
   ],
   "source": [
    "pprint(full_section.read(GENERIC_TEST_TEXT, context={'Dummy': 'Blank1'}))\n",
    "\n",
    "full_section.source = None\n",
    "sub_section.source = None\n",
    "\n",
    "pprint(full_section.read(GENERIC_TEST_TEXT, context={'Dummy': 'Blank1'}))"
   ]
  },
  {
   "cell_type": "markdown",
   "metadata": {},
   "source": [
    "- Resetting the source does not solve the problem.\n",
    "- First time it runs as expected\n",
    "- The second time, a line in the first subsection is missing.\n",
    "\n",
    "|Expected|First Run (`GENERIC_TEST_TEXT1`)|Second Run (`GENERIC_TEST_TEXT2`)|\n",
    "|-|-|-|\n",
    "||![Good](../examples/Valid.png) Both full subsections found. No empty lists afterwards.|![Good](../examples/Valid.png)  Hysteresis Fixed|\n",
    "|`['StartSection Name: A', 'EndSection Name: A']`|`['StartSection Name: A', 'EndSection Name: A']`|`['StartSection Name: A', 'EndSection Name: A']`|\n",
    "|`['StartSection Name: B', 'EndSection Name: B']`|`['StartSection Name: B', 'EndSection Name: B']`|`['StartSection Name: B', 'EndSection Name: B']`|\n"
   ]
  },
  {
   "cell_type": "markdown",
   "metadata": {},
   "source": [
    "### Use two different text sources"
   ]
  },
  {
   "cell_type": "code",
   "execution_count": 32,
   "metadata": {},
   "outputs": [],
   "source": [
    "GENERIC_TEST_TEXT1 = [\n",
    "    'Text to be ignored #1',\n",
    "    'StartSection Name: A',\n",
    "    'EndSection Name: A',\n",
    "    'StartSection Name: B',\n",
    "    'EndSection Name: B',\n",
    "    'More text to be ignored #1',\n",
    "    ]"
   ]
  },
  {
   "cell_type": "code",
   "execution_count": 33,
   "metadata": {},
   "outputs": [],
   "source": [
    "GENERIC_TEST_TEXT2 = [\n",
    "    'Text to be ignored #2',\n",
    "    'StartSection Name: C',\n",
    "    'EndSection Name: C',\n",
    "    'StartSection Name: D',\n",
    "    'EndSection Name: D',\n",
    "    'More text to be ignored #2',\n",
    "    ]"
   ]
  },
  {
   "cell_type": "markdown",
   "metadata": {},
   "source": [
    "- Clear Hysteresis by re-defining both `sub_section` and `full_section`"
   ]
  },
  {
   "cell_type": "code",
   "execution_count": 34,
   "metadata": {},
   "outputs": [],
   "source": [
    "sub_section = Section(\n",
    "    section_name='SubSection',\n",
    "    start_section=SectionBreak('StartSection', break_offset='Before'),\n",
    "    end_section=SectionBreak('EndSection', break_offset='After')\n",
    "    )\n",
    "\n",
    "full_section = Section(\n",
    "    section_name='Full',\n",
    "    end_section=SectionBreak('ignored', break_offset='Before'),\n",
    "    subsections=sub_section\n",
    "    )"
   ]
  },
  {
   "cell_type": "markdown",
   "metadata": {},
   "source": [
    "- First run with `GENERIC_TEST_TEXT1`\n",
    "- Second run with `GENERIC_TEST_TEXT2`"
   ]
  },
  {
   "cell_type": "code",
   "execution_count": 35,
   "metadata": {},
   "outputs": [
    {
     "name": "stdout",
     "output_type": "stream",
     "text": [
      "[['StartSection Name: A', 'EndSection Name: A'],\n",
      " ['StartSection Name: B', 'EndSection Name: B']]\n",
      "[['StartSection Name: C', 'EndSection Name: C'],\n",
      " ['StartSection Name: D', 'EndSection Name: D']]\n"
     ]
    }
   ],
   "source": [
    "pprint(full_section.read(GENERIC_TEST_TEXT1))\n",
    "pprint(full_section.read(GENERIC_TEST_TEXT2))"
   ]
  },
  {
   "cell_type": "markdown",
   "metadata": {},
   "source": [
    "- First time it runs as expected\n",
    "- The second time, a line in the first subsection is missing.\n",
    "  \n",
    "\n",
    "\n",
    "|Expected|First Run (`GENERIC_TEST_TEXT1`)|Second Run (`GENERIC_TEST_TEXT2`)|\n",
    "|-|-|-|\n",
    "||![Good](../examples/Valid.png) Both full subsections found. No empty lists afterwards.|![Good](../examples/Valid.png)  Hysteresis Fixed|\n",
    "|`['StartSection Name: A', 'EndSection Name: A']`(or `C`)|`['StartSection Name: A', 'EndSection Name: A']`|`['StartSection Name: C', 'EndSection Name: C']`|\n",
    "|`['StartSection Name: B', 'EndSection Name: B']`(or `D`)|`['StartSection Name: B', 'EndSection Name: B']`|`['StartSection Name: D', 'EndSection Name: D']`|\n",
    "\n"
   ]
  },
  {
   "cell_type": "markdown",
   "metadata": {},
   "source": [
    "### Compare *Source* before and after\n",
    "- Compare `full_section` and `sub_section` ___Source___ after first and second run."
   ]
  },
  {
   "cell_type": "markdown",
   "metadata": {},
   "source": [
    "#### First Run"
   ]
  },
  {
   "cell_type": "code",
   "execution_count": 36,
   "metadata": {},
   "outputs": [
    {
     "name": "stdout",
     "output_type": "stream",
     "text": [
      "[['StartSection Name: A', 'EndSection Name: A'],\n",
      " ['StartSection Name: B', 'EndSection Name: B']]\n",
      "\n",
      "full_section source after first run\n",
      "BufferedIterator(source=<list_iterator object at 0x0000021B14AF0E20>, buffer_size=5)\n",
      "\tBufferedIterator.previous_items = deque(['StartSection Name: A', 'EndSection Name: A', 'StartSection Name: B', 'EndSection Name: B'], maxlen=5)\n",
      "\tBufferedIterator.future_items = deque(['More text to be ignored'], maxlen=5)\n",
      "\tBufferedIterator._step_back = 0\n",
      "\n",
      "sub_section source after first run\n",
      "BufferedIterator(source=<list_iterator object at 0x0000021B14AF0E20>, buffer_size=5)\n",
      "\tBufferedIterator.previous_items = deque(['StartSection Name: A', 'EndSection Name: A', 'StartSection Name: B', 'EndSection Name: B'], maxlen=5)\n",
      "\tBufferedIterator.future_items = deque(['More text to be ignored'], maxlen=5)\n",
      "\tBufferedIterator._step_back = 0\n"
     ]
    }
   ],
   "source": [
    "pprint(full_section.read(GENERIC_TEST_TEXT, context={'Dummy': 'Blank1'}))\n",
    "print()\n",
    "print('full_section source after first run')\n",
    "print(repr(full_section.source))\n",
    "print()\n",
    "print('sub_section source after first run')\n",
    "print(repr(sub_section.source))"
   ]
  },
  {
   "cell_type": "markdown",
   "metadata": {},
   "source": [
    "#### Second Run"
   ]
  },
  {
   "cell_type": "code",
   "execution_count": 37,
   "metadata": {},
   "outputs": [
    {
     "name": "stdout",
     "output_type": "stream",
     "text": [
      "[['StartSection Name: A', 'EndSection Name: A'],\n",
      " ['StartSection Name: B', 'EndSection Name: B']]\n",
      "\n",
      "full_section source after first run\n",
      "BufferedIterator(source=<list_iterator object at 0x0000021B14AF0520>, buffer_size=5)\n",
      "\tBufferedIterator.previous_items = deque(['StartSection Name: A', 'EndSection Name: A', 'StartSection Name: B', 'EndSection Name: B'], maxlen=5)\n",
      "\tBufferedIterator.future_items = deque(['More text to be ignored'], maxlen=5)\n",
      "\tBufferedIterator._step_back = 0\n",
      "\n",
      "sub_section source after first run\n",
      "BufferedIterator(source=<list_iterator object at 0x0000021B14AF0520>, buffer_size=5)\n",
      "\tBufferedIterator.previous_items = deque(['StartSection Name: A', 'EndSection Name: A', 'StartSection Name: B', 'EndSection Name: B'], maxlen=5)\n",
      "\tBufferedIterator.future_items = deque(['More text to be ignored'], maxlen=5)\n",
      "\tBufferedIterator._step_back = 0\n"
     ]
    }
   ],
   "source": [
    "pprint(full_section.read(GENERIC_TEST_TEXT, context={'Dummy': 'Blank1'}))\n",
    "print()\n",
    "print('full_section source after first run')\n",
    "print(repr(full_section.source))\n",
    "print()\n",
    "print('sub_section source after first run')\n",
    "print(repr(sub_section.source))"
   ]
  },
  {
   "cell_type": "markdown",
   "metadata": {},
   "source": [
    "- Source is identical for main section and subsection.\n",
    "- Source is identical for between first and second run\n",
    "- `future_items` contains *'More text to be ignored'*."
   ]
  },
  {
   "cell_type": "markdown",
   "metadata": {},
   "source": [
    "### Compare Context before and after\n",
    "- Compare `full_section` and `sub_section` ___Context___ after first and second run."
   ]
  },
  {
   "cell_type": "markdown",
   "metadata": {},
   "source": [
    "- Clear Hysteresis by re-defining both `sub_section` and `full_section`"
   ]
  },
  {
   "cell_type": "code",
   "execution_count": 38,
   "metadata": {},
   "outputs": [],
   "source": [
    "sub_section = Section(\n",
    "    section_name='SubSection',\n",
    "    start_section=SectionBreak('StartSection', break_offset='Before'),\n",
    "    end_section=SectionBreak('EndSection', break_offset='After')\n",
    "    )\n",
    "\n",
    "full_section = Section(\n",
    "    section_name='Full',\n",
    "    end_section=SectionBreak('ignored', break_offset='Before'),\n",
    "    subsections=sub_section\n",
    "    )"
   ]
  },
  {
   "cell_type": "markdown",
   "metadata": {},
   "source": [
    "#### First Run"
   ]
  },
  {
   "cell_type": "code",
   "execution_count": 39,
   "metadata": {},
   "outputs": [
    {
     "name": "stdout",
     "output_type": "stream",
     "text": [
      "[['StartSection Name: A', 'EndSection Name: A'],\n",
      " ['StartSection Name: B', 'EndSection Name: B']]\n",
      "\n",
      "full_section context after first run\n",
      "{'Break': 'SectionBreak',\n",
      " 'Current Section': 'SubSection',\n",
      " 'Dummy': 'Blank1',\n",
      " 'Event': 'StartSection',\n",
      " 'Skipped Lines': [],\n",
      " 'Status': 'End of Source'}\n",
      "'Break Triggered'\n",
      "\n",
      "sub_section context after first run\n",
      "{'Break': 'SectionBreak',\n",
      " 'Current Section': 'SubSection',\n",
      " 'Dummy': 'Blank1',\n",
      " 'Event': 'StartSection',\n",
      " 'Skipped Lines': [],\n",
      " 'Status': 'End of Source'}\n",
      "'Scan Complete'\n"
     ]
    }
   ],
   "source": [
    "pprint(full_section.read(GENERIC_TEST_TEXT, context={'Dummy': 'Blank1'}))\n",
    "print()\n",
    "print('full_section context after first run')\n",
    "pprint(full_section.context)\n",
    "pprint(full_section.scan_status)\n",
    "print()\n",
    "print('sub_section context after first run')\n",
    "pprint(sub_section.context)\n",
    "pprint(sub_section.scan_status)"
   ]
  },
  {
   "cell_type": "markdown",
   "metadata": {},
   "source": [
    "- Context is identical for main section and subsection.\n",
    "- `'Current Section': 'SubSection'` given for both.\n",
    "- Initial 'Dummy' context item remains.\n",
    "- `'Skipped Lines': []` consistent with *main section* "
   ]
  },
  {
   "cell_type": "markdown",
   "metadata": {},
   "source": [
    "#### Second Run"
   ]
  },
  {
   "cell_type": "code",
   "execution_count": 40,
   "metadata": {},
   "outputs": [
    {
     "name": "stdout",
     "output_type": "stream",
     "text": [
      "[['StartSection Name: A', 'EndSection Name: A'],\n",
      " ['StartSection Name: B', 'EndSection Name: B']]\n",
      "\n",
      "full_section context after second run\n",
      "{'Break': 'SectionBreak',\n",
      " 'Current Section': 'SubSection',\n",
      " 'Dummy': 'Blank2',\n",
      " 'Event': 'StartSection',\n",
      " 'Skipped Lines': [],\n",
      " 'Status': 'End of Source'}\n",
      "'Break Triggered'\n",
      "\n",
      "sub_section context after second run\n",
      "{'Break': 'SectionBreak',\n",
      " 'Current Section': 'SubSection',\n",
      " 'Dummy': 'Blank2',\n",
      " 'Event': 'StartSection',\n",
      " 'Skipped Lines': [],\n",
      " 'Status': 'End of Source'}\n",
      "'Scan Complete'\n"
     ]
    }
   ],
   "source": [
    "pprint(full_section.read(GENERIC_TEST_TEXT, context={'Dummy': 'Blank2'}))\n",
    "print()\n",
    "print('full_section context after second run')\n",
    "pprint(full_section.context)\n",
    "pprint(full_section.scan_status)\n",
    "print()\n",
    "print('sub_section context after second run')\n",
    "pprint(sub_section.context)\n",
    "pprint(sub_section.scan_status)"
   ]
  },
  {
   "cell_type": "markdown",
   "metadata": {},
   "source": [
    "- Context is identical for *full_section* and *sub_section*.\n",
    "- *Skipped Lines* contains ___['EndSection Name: A']___\n",
    "- `'Current Section': 'SubSection'` given for both.\n",
    "- 'Dummy' context item has correctly become *Blank2*.\n",
    "- Context is identical for main section and subsection.\n",
    "- `'Current Section': 'SubSection'` given for both. \n",
    "- `full_section.scan_status` is *Break Triggered*, `sub_section.scan_status` is *Scan Complete*\n"
   ]
  },
  {
   "cell_type": "markdown",
   "metadata": {},
   "source": [
    "**full_section Context**\n",
    "<table>\n",
    "    <thead>\n",
    "        <th>Key</th>\n",
    "        <th>Expected Value</th>\n",
    "        <th>First Run Value</th>\n",
    "        <th>Second Run Value</th>\n",
    "        <th>Test</th>\n",
    "    </thead>\n",
    "        <tr><td>Current Section</td>\n",
    "            <td>Full</td>\n",
    "            <td>SubSection</td>\n",
    "            <td>SubSection</td>\n",
    "            <td><img src=\"../examples/error.png\" alt=\"Bad\"/></td></tr>\n",
    "    <tr><td>Dummy</td>\n",
    "        <td>Blank#</td>\n",
    "        <td>Blank1</td>  \n",
    "        <td>Blank2</td>\n",
    "        <td><img src=\"../examples/Valid.png\" alt=\"Good\"/></td></tr>\n",
    "    <tr><td>Skipped Lines</td>  \n",
    "        <td>[]</td>\n",
    "        <td>[]</td>            \n",
    "        <td>['EndSection Name: A']</td>\n",
    "        <td><img src=\"../examples/error.png\" alt=\"Bad\"/></td></tr>\n",
    "    <tr><td>Status</td>\n",
    "        <td><B><U>?</B></U></td>\n",
    "        <td>End of Source</td> \n",
    "        <td>End of Source</td>\n",
    "        <td><B><U>?</B></U></td></tr>\n",
    "    <tr><td>Break</td>          \n",
    "        <td>SectionBreak</td>\n",
    "        <td>SectionBreak</td>  \n",
    "        <td>SectionBreak</td>\n",
    "        <td><img src=\"../examples/Valid.png\" alt=\"Good\"/></td></tr>\n",
    "    <tr><td>Event</td>          \n",
    "        <td>ignored</td>\n",
    "        <td>StartSection</td>  \n",
    "        <td>StartSection</td>\n",
    "        <td><img src=\"../examples/error.png\" alt=\"Bad\"/></td></tr>\n",
    "</table>\n"
   ]
  },
  {
   "cell_type": "markdown",
   "metadata": {},
   "source": [
    "**sub_section Context**\n",
    "<table>\n",
    "    <thead>\n",
    "        <th>Key</th>\n",
    "        <th>Expected Value</th>\n",
    "        <th>First Run Value</th>\n",
    "        <th>Second Run Value</th>\n",
    "        <th>Test</th>\n",
    "    </thead>\n",
    "        <tr><td>Current Section</td>\n",
    "            <td>SubSection</td>\n",
    "            <td>SubSection</td>\n",
    "            <td>SubSection</td>\n",
    "            <td><img src=\"../examples/Valid.png\" alt=\"Good\"/></td></tr>\n",
    "    <tr><td>Dummy</td>\n",
    "        <td>Blank#</td>\n",
    "        <td>Blank1</td>  \n",
    "        <td>Blank2</td>\n",
    "        <td><img src=\"../examples/Valid.png\" alt=\"Good\"/></td></tr>\n",
    "    <tr><td>Skipped Lines</td>  \n",
    "        <td>['EndSection Name: A']</td>\n",
    "        <td>[]</td>            \n",
    "        <td>['EndSection Name: A']</td>\n",
    "        <td><img src=\"../examples/error.png\" alt=\"Bad\"/></td></tr>\n",
    "    <tr><td>Status</td>\n",
    "        <td><B><U>?</B></U></td>\n",
    "        <td>End of Source</td> \n",
    "        <td>End of Source</td>\n",
    "        <td><B><U>?</B></U></td></tr>\n",
    "    <tr><td>Break</td>          \n",
    "        <td>SectionBreak</td>\n",
    "        <td>SectionBreak</td>  \n",
    "        <td>SectionBreak</td>\n",
    "        <td><img src=\"../examples/Valid.png\" alt=\"Good\"/></td></tr>\n",
    "    <tr><td>Event</td>          \n",
    "        <td>EndSection</td>\n",
    "        <td>StartSection</td>  \n",
    "        <td>StartSection</td>\n",
    "        <td><img src=\"../examples/error.png\" alt=\"Bad\"/></td></tr>\n",
    "</table>\n"
   ]
  },
  {
   "cell_type": "markdown",
   "metadata": {},
   "source": [
    "# SectionBreak._count_down is not reset between runs\n",
    "FIXME Reset SectionBreak on Section Start"
   ]
  },
  {
   "cell_type": "markdown",
   "metadata": {},
   "source": [
    "**full_section Context**\n",
    "<table>\n",
    "    <thead>\n",
    "        <th>Key</th>\n",
    "        <th>Expected Value</th>\n",
    "        <th>First Run Value</th>\n",
    "        <th>Second Run Value</th>\n",
    "        <th>Test</th>\n",
    "    </thead>\n",
    "        <tr><td>Current Section</td>\n",
    "            <td>Full</td>\n",
    "            <td>SubSection</td>\n",
    "            <td>SubSection</td>\n",
    "            <td><img src=\"../examples/error.png\" alt=\"Bad\"/></td></tr>\n",
    "    <tr><td>Dummy</td>\n",
    "        <td>Blank#</td>\n",
    "        <td>Blank1</td>  \n",
    "        <td>Blank2</td>\n",
    "        <td><img src=\"../examples/Valid.png\" alt=\"Good\"/></td></tr>\n",
    "    <tr><td>Skipped Lines</td>  \n",
    "        <td>[]</td>\n",
    "        <td>[]</td>            \n",
    "        <td>['EndSection Name: A']</td>\n",
    "        <td><img src=\"../examples/error.png\" alt=\"Bad\"/></td></tr>\n",
    "    <tr><td>Status</td>\n",
    "        <td><B><U>?</B></U></td>\n",
    "        <td>End of Source</td> \n",
    "        <td>End of Source</td>\n",
    "        <td><B><U>?</B></U></td></tr>\n",
    "    <tr><td>Break</td>          \n",
    "        <td>SectionBreak</td>\n",
    "        <td>SectionBreak</td>  \n",
    "        <td>SectionBreak</td>\n",
    "        <td><img src=\"../examples/Valid.png\" alt=\"Good\"/></td></tr>\n",
    "    <tr><td>Event</td>          \n",
    "        <td>ignored</td>\n",
    "        <td>StartSection</td>  \n",
    "        <td>StartSection</td>\n",
    "        <td><img src=\"../examples/error.png\" alt=\"Bad\"/></td></tr>\n",
    "</table>\n"
   ]
  },
  {
   "cell_type": "markdown",
   "metadata": {},
   "source": [
    "# Context Fixes to do\n",
    "1. Create ProtectedDict subclass of dict\n",
    "   - Add optional protected_items to __ init __\n",
    "   - Redefine update to prevent updating items with keys in the protected_items list.\n",
    "2. convert self.scan_status to a property that sets and gets from self.context['Status']\n",
    "3. convert self.section_name to a property that sets and gets from self.context['Current Section']\n",
    "4. in `step_source` remove `break_context` and use `self.context['Status']`"
   ]
  },
  {
   "cell_type": "code",
   "execution_count": 41,
   "metadata": {},
   "outputs": [],
   "source": [
    "# FIXME Context updates should not be quite so indiscriminate\n",
    "#     self.context.update(sub_rdr.context)\n",
    "#     self.context.update(break_context)\n",
    "# TODO Setup a Local Context, which does not get passed to parent sections\n",
    "# TODO self.scan_status should become a private variable which sets and gets from self.context['Status']\n",
    "# TODO self.section_name should become a private variable which sets and gets from self.context['Current Section']\n",
    "# TODO in step_source remove break_context and use self.context['Status']\n"
   ]
  },
  {
   "cell_type": "markdown",
   "metadata": {},
   "source": [
    "***Context Standard Items***\n",
    "|Item Key|Value Description|\n",
    "|-|-|\n",
    "|Current Section|The assigned name of the section `self.section_name`|\n",
    "|Skipped Lines|A list of items in the source occurring before the first item of the section|\n",
    "|Status|The current section scanning status one of 'Not Started', 'RuntimeError', 'End of Source'. 'Scan In Progress'|\n",
    "|Break|The name assigned to the SectionBreak that most recently triggered. Before the section start this is not defined. While the section scan is in progress, this is the name of the StartSection. After the section ends, this is the name of the the EndSection.\n",
    "|Event|The result from the SectionBreak that most recently triggered; the `TriggerEvent.test_value`.  For more information see the TriggerEvent documentation.|\n",
    "                "
   ]
  },
  {
   "cell_type": "markdown",
   "metadata": {},
   "source": [
    "**********\n",
    "\n",
    "# DONE TO HERE"
   ]
  },
  {
   "cell_type": "markdown",
   "metadata": {},
   "source": [
    "**********\n",
    "\n",
    "### Initial Section and Sub-Section Definitions"
   ]
  },
  {
   "cell_type": "markdown",
   "metadata": {},
   "source": [
    "- Only definition line is:<br>\n",
    "`subsections=[sub_section]`"
   ]
  },
  {
   "cell_type": "code",
   "execution_count": 42,
   "metadata": {},
   "outputs": [
    {
     "name": "stdout",
     "output_type": "stream",
     "text": [
      "[['Text to be ignored',\n",
      "  'StartSection Name: A',\n",
      "  'EndSection Name: A',\n",
      "  'StartSection Name: B',\n",
      "  'EndSection Name: B',\n",
      "  'More text to be ignored']]\n"
     ]
    }
   ],
   "source": [
    "sub_section = Section(\n",
    "    section_name='SubSection',\n",
    "    #start_section=SectionBreak('EndSection', break_offset='Before'),  # Added to use alone\n",
    "    #end_on_first_item=True,\n",
    "    #keep_partial=True,\n",
    "    #end_section=SectionBreak(True)\n",
    "    )\n",
    "\n",
    "full_section = Section(\n",
    "    section_name='Full',\n",
    "    #start_section=SectionBreak('StartSection', break_offset='Before'),\n",
    "    #end_section=SectionBreak('EndSection', break_offset='After'),\n",
    "    subsections=[sub_section]  \n",
    "    )\n",
    "pprint(full_section.read(GENERIC_TEST_TEXT))"
   ]
  },
  {
   "cell_type": "markdown",
   "metadata": {},
   "source": [
    "- ![Good](../examples/Valid.png) Results in all lines in one sub-list"
   ]
  },
  {
   "cell_type": "markdown",
   "metadata": {},
   "source": [
    "**********\n",
    "\n",
    "## Section Break options"
   ]
  },
  {
   "cell_type": "markdown",
   "metadata": {},
   "source": [
    "### Add start to Section Definition"
   ]
  },
  {
   "cell_type": "markdown",
   "metadata": {},
   "source": [
    "- Section start **Before** *StartSection*\n",
    "\n",
    "`start_section=SectionBreak('StartSection', break_offset='Before'),`"
   ]
  },
  {
   "cell_type": "code",
   "execution_count": 43,
   "metadata": {},
   "outputs": [
    {
     "name": "stdout",
     "output_type": "stream",
     "text": [
      "[['StartSection Name: A',\n",
      "  'EndSection Name: A',\n",
      "  'StartSection Name: B',\n",
      "  'EndSection Name: B',\n",
      "  'More text to be ignored']]\n"
     ]
    }
   ],
   "source": [
    "sub_section = Section(\n",
    "    section_name='SubSection',\n",
    "    #start_section=SectionBreak('EndSection', break_offset='Before'),  # Added to use alone\n",
    "    #end_on_first_item=True,\n",
    "    #keep_partial=True,\n",
    "    #end_section=SectionBreak(True)\n",
    "    )\n",
    "\n",
    "full_section = Section(\n",
    "    section_name='Full',\n",
    "    start_section=SectionBreak('StartSection', break_offset='Before'),\n",
    "    #end_section=SectionBreak('EndSection', break_offset='After'),\n",
    "    subsections=[sub_section] \n",
    "    )\n",
    "pprint(full_section.read(GENERIC_TEST_TEXT))"
   ]
  },
  {
   "cell_type": "markdown",
   "metadata": {},
   "source": [
    "- ![Good](../examples/Valid.png) Includes all lines after first *StartSection* in single sub-list."
   ]
  },
  {
   "cell_type": "markdown",
   "metadata": {},
   "source": [
    "### Add end to Section Definition"
   ]
  },
  {
   "cell_type": "markdown",
   "metadata": {},
   "source": [
    "- Section start **Before** *StartSection*\n",
    "- Section end **After** *EndSection*\n",
    "\n",
    "```python\n",
    "full_section = Section(section_name='Full',\n",
    "    start_section=SectionBreak('StartSection', break_offset='Before'),\n",
    "    end_section=SectionBreak('EndSection', break_offset='After'),\n",
    "    subsections=[sub_section] \n",
    "    )\n",
    "```"
   ]
  },
  {
   "cell_type": "code",
   "execution_count": 44,
   "metadata": {},
   "outputs": [
    {
     "name": "stdout",
     "output_type": "stream",
     "text": [
      "[['StartSection Name: A', 'EndSection Name: A']]\n"
     ]
    }
   ],
   "source": [
    "sub_section = Section(\n",
    "    section_name='SubSection',\n",
    "    #start_section=SectionBreak('EndSection', break_offset='Before'),  # Added to use alone\n",
    "    #end_on_first_item=True,\n",
    "    #keep_partial=True,\n",
    "    #end_section=SectionBreak(True)\n",
    "    )\n",
    "\n",
    "full_section = Section(\n",
    "    section_name='Full',\n",
    "    start_section=SectionBreak('StartSection', break_offset='Before'),\n",
    "    end_section=SectionBreak('EndSection', break_offset='After'),\n",
    "    subsections=[sub_section] \n",
    "    )\n",
    "pprint(full_section.read(GENERIC_TEST_TEXT))"
   ]
  },
  {
   "cell_type": "markdown",
   "metadata": {},
   "source": [
    "- ![Good](../examples/Valid.png) Includes both lines of first section in single sub-list."
   ]
  },
  {
   "cell_type": "markdown",
   "metadata": {},
   "source": [
    "### Define Muti-Section to Read Both Sections"
   ]
  },
  {
   "cell_type": "markdown",
   "metadata": {},
   "source": [
    "Add end to Section Definition\n",
    "- Section start **Before** *StartSection*\n",
    "- Section end **After** *EndSection*\n",
    "- Simple subsection\n",
    "- Multi Section defines Full Section as Sub Section with no start or end (All lines)\n",
    "\n",
    "```python\n",
    "sub_section = Section(section_name='SubSection')\n",
    "\n",
    "full_section = Section(section_name='Full',\n",
    "    start_section=SectionBreak('StartSection', break_offset='Before'),\n",
    "    end_section=SectionBreak('EndSection', break_offset='After'),\n",
    "    subsections=[sub_section] \n",
    "    )\n",
    "\n",
    "multi_section = Section(\n",
    "    section_name='Multi',\n",
    "    subsections=[full_section] \n",
    "    )\n",
    "```"
   ]
  },
  {
   "cell_type": "code",
   "execution_count": 45,
   "metadata": {},
   "outputs": [
    {
     "name": "stdout",
     "output_type": "stream",
     "text": [
      "[[['StartSection Name: A', 'EndSection Name: A']],\n",
      " [['StartSection Name: B', 'EndSection Name: B']],\n",
      " [[]]]\n"
     ]
    }
   ],
   "source": [
    "sub_section = Section(\n",
    "    section_name='SubSection',\n",
    "    #start_section=SectionBreak('EndSection', break_offset='Before'),  # Added to use alone\n",
    "    #end_on_first_item=True,\n",
    "    #keep_partial=True,\n",
    "    #end_section=SectionBreak(True)\n",
    "    )\n",
    "\n",
    "full_section = Section(\n",
    "    section_name='Full',\n",
    "    start_section=SectionBreak('StartSection', break_offset='Before'),\n",
    "    end_section=SectionBreak('EndSection', break_offset='After'),\n",
    "    subsections=[sub_section] \n",
    "    )\n",
    "\n",
    "multi_section = Section(\n",
    "    section_name='Multi',\n",
    "    subsections=[full_section] \n",
    "    )\n",
    "\n",
    "pprint(multi_section.read(GENERIC_TEST_TEXT))"
   ]
  },
  {
   "cell_type": "markdown",
   "metadata": {},
   "source": [
    "- ![Bad](../examples/error.png) Includes both lines of each section in its own sub-list, but adds a blank sub-list at the end.\n",
    "- ??? Is this incorrect or is this expected???"
   ]
  },
  {
   "cell_type": "markdown",
   "metadata": {},
   "source": [
    "### Set Same Start and End Breaks for Section"
   ]
  },
  {
   "cell_type": "markdown",
   "metadata": {},
   "source": [
    "Add end to Section Definition\n",
    "- Section start **Before** *StartSection*\n",
    "- Section end **After** *StartSection*\n",
    "- Simple subsection\n",
    "- Multi Section defines Full Section as Sub Section with no start or end (All lines)\n",
    "\n",
    "```python\n",
    "sub_section = Section(section_name='SubSection')\n",
    "\n",
    "full_section = Section(section_name='Full',\n",
    "    start_section=SectionBreak('StartSection', break_offset='Before'),\n",
    "    end_section=SectionBreak('StartSection', break_offset='Before'),\n",
    "    subsections=[sub_section] \n",
    "    )\n",
    "\n",
    "multi_section = Section(\n",
    "    section_name='Multi',\n",
    "    subsections=[full_section] \n",
    "    )\n",
    "```"
   ]
  },
  {
   "cell_type": "code",
   "execution_count": 46,
   "metadata": {},
   "outputs": [
    {
     "name": "stdout",
     "output_type": "stream",
     "text": [
      "[['StartSection Name: A', 'EndSection Name: A'],\n",
      " ['StartSection Name: B', 'EndSection Name: B', 'More text to be ignored']]\n"
     ]
    }
   ],
   "source": [
    "full_section = Section(\n",
    "    section_name='Full',\n",
    "    start_section=SectionBreak('StartSection', break_offset='Before'),\n",
    "    end_section=SectionBreak('StartSection', break_offset='Before')\n",
    "    )\n",
    "\n",
    "multi_section = Section(section_name='Multi',\n",
    "    subsections=[full_section] \n",
    "    )\n",
    "\n",
    "pprint(multi_section.read(GENERIC_TEST_TEXT))"
   ]
  },
  {
   "cell_type": "markdown",
   "metadata": {},
   "source": [
    "- Without SubSection, it works as expected."
   ]
  },
  {
   "cell_type": "raw",
   "metadata": {},
   "source": [
    "sub_section = Section(section_name='SubSection')\n",
    "\n",
    "full_section = Section(section_name='Full',\n",
    "    start_section=SectionBreak('StartSection', break_offset='Before'),\n",
    "    end_section=SectionBreak('StartSection', break_offset='Before'),\n",
    "    subsections=[sub_section] \n",
    "    )\n",
    "\n",
    "multi_section = Section(\n",
    "    section_name='Multi',\n",
    "    subsections=[full_section] \n",
    "    )\n",
    "\n",
    "pprint(multi_section.read(GENERIC_TEST_TEXT))"
   ]
  },
  {
   "cell_type": "markdown",
   "metadata": {},
   "source": [
    "- ![Bad](../examples/error.png) Still Appears to hang"
   ]
  },
  {
   "cell_type": "markdown",
   "metadata": {},
   "source": [
    "**********\n",
    "\n",
    "## SubSection Break Options"
   ]
  },
  {
   "cell_type": "markdown",
   "metadata": {},
   "source": [
    "### Add *End on First* to Sub-Section"
   ]
  },
  {
   "cell_type": "markdown",
   "metadata": {},
   "source": [
    "- Section start **Before** *StartSection*\n",
    "- Section end **After** *EndSection*\n",
    "- SubSection **End On First**\n",
    "\n",
    "```python\n",
    "sub_section = Section(section_name='SubSection',\n",
    "    end_on_first_item=True,\n",
    "    )\n",
    "\n",
    "full_section = Section(section_name='Full',\n",
    "    start_section=SectionBreak('StartSection', break_offset='Before'),\n",
    "    end_section=SectionBreak('EndSection', break_offset='After'),\n",
    "    subsections=[sub_section] \n",
    "    )\n",
    "```"
   ]
  },
  {
   "cell_type": "code",
   "execution_count": 47,
   "metadata": {},
   "outputs": [
    {
     "name": "stdout",
     "output_type": "stream",
     "text": [
      "[['StartSection Name: A', 'EndSection Name: A']]\n"
     ]
    }
   ],
   "source": [
    "sub_section = Section(\n",
    "    section_name='SubSection',\n",
    "    #start_section=SectionBreak('StartSection', break_offset='After')\n",
    "    end_on_first_item=True,\n",
    "    #keep_partial=True,\n",
    "    #end_section=SectionBreak(True)\n",
    "    )\n",
    "\n",
    "full_section = Section(\n",
    "    section_name='Full',\n",
    "    start_section=SectionBreak('StartSection', break_offset='Before'),\n",
    "    end_section=SectionBreak('EndSection', break_offset='After'),\n",
    "    subsections=[sub_section] \n",
    "    )\n",
    "\n",
    "pprint(full_section.read(GENERIC_TEST_TEXT))"
   ]
  },
  {
   "cell_type": "markdown",
   "metadata": {},
   "source": [
    "- ![Good](../examples/Valid.png) Results in `[['StartSection Name: A', 'EndSection Name: A']]`."
   ]
  },
  {
   "cell_type": "markdown",
   "metadata": {},
   "source": [
    "### Add *End* as **True** to Sub-Section"
   ]
  },
  {
   "cell_type": "markdown",
   "metadata": {},
   "source": [
    "- Section start **Before** *StartSection*\n",
    "- Section end **After** *EndSection*\n",
    "- SubSection end is **True**  Should be the same as **End On First**\n",
    "\n",
    "```python\n",
    "sub_section = Section(section_name='SubSection',\n",
    "    end_section=SectionBreak(True)\n",
    "    )\n",
    "\n",
    "full_section = Section(section_name='Full',\n",
    "    start_section=SectionBreak('StartSection', break_offset='Before'),\n",
    "    end_section=SectionBreak('EndSection', break_offset='After'),\n",
    "    subsections=[sub_section] \n",
    "    )\n",
    "```"
   ]
  },
  {
   "cell_type": "code",
   "execution_count": 48,
   "metadata": {},
   "outputs": [
    {
     "name": "stdout",
     "output_type": "stream",
     "text": [
      "[['StartSection Name: A'], []]\n"
     ]
    }
   ],
   "source": [
    "sub_section = Section(\n",
    "    section_name='SubSection',\n",
    "    #start_section=SectionBreak('StartSection', break_offset='After')\n",
    "    #end_on_first_item=True,\n",
    "    #keep_partial=True,\n",
    "    end_section=SectionBreak(True)\n",
    "    )\n",
    "\n",
    "full_section = Section(\n",
    "    section_name='Full',\n",
    "    start_section=SectionBreak('StartSection', break_offset='Before'),\n",
    "    end_section=SectionBreak('EndSection', break_offset='After'),\n",
    "    subsections=[sub_section] \n",
    "    )\n",
    "\n",
    "pprint(full_section.read(GENERIC_TEST_TEXT))"
   ]
  },
  {
   "cell_type": "markdown",
   "metadata": {},
   "source": [
    "## What should  `end_section=SectionBreak(True)` result in?"
   ]
  },
  {
   "cell_type": "markdown",
   "metadata": {},
   "source": [
    "- ![Bad](../examples/error.png) Results in `['StartSection Name: A'], []` sub-lists, should have been `['StartSection Name: A']`.\n",
    "- ??? Is this incorrect or is this expected???"
   ]
  },
  {
   "cell_type": "markdown",
   "metadata": {},
   "source": [
    "### Add *Start* to Sub-Section"
   ]
  },
  {
   "cell_type": "markdown",
   "metadata": {},
   "source": [
    "- Section start **Before** *StartSection*\n",
    "- Section end **After** *EndSection*\n",
    "- SubSection start **Before** *EndSection*\n",
    "\n",
    "```python\n",
    "sub_section = Section(section_name='SubSection',\n",
    "    start_section=SectionBreak('EndSection', break_offset='Before')\n",
    "    )\n",
    "\n",
    "full_section = Section(section_name='Full',\n",
    "    start_section=SectionBreak('StartSection', break_offset='Before'),\n",
    "    end_section=SectionBreak('EndSection', break_offset='After'),\n",
    "    subsections=[sub_section] \n",
    "    )\n",
    "```"
   ]
  },
  {
   "cell_type": "code",
   "execution_count": 49,
   "metadata": {},
   "outputs": [
    {
     "name": "stdout",
     "output_type": "stream",
     "text": [
      "[[]]\n"
     ]
    }
   ],
   "source": [
    "sub_section = Section(\n",
    "    section_name='SubSection',\n",
    "    start_section=SectionBreak('EndSection', break_offset='Before')\n",
    "    #end_on_first_item=True,\n",
    "    #keep_partial=True,\n",
    "    #end_section=SectionBreak(True)\n",
    "    )\n",
    "\n",
    "full_section = Section(\n",
    "    section_name='Full',\n",
    "    start_section=SectionBreak('StartSection', break_offset='Before'),\n",
    "    end_section=SectionBreak('EndSection', break_offset='After'),\n",
    "    subsections=[sub_section] \n",
    "    )\n",
    "\n",
    "pprint(full_section.read(GENERIC_TEST_TEXT))"
   ]
  },
  {
   "cell_type": "markdown",
   "metadata": {},
   "source": [
    "- ![Bad](../examples/error.png) Results in blank sub-list."
   ]
  },
  {
   "cell_type": "markdown",
   "metadata": {},
   "source": [
    "### Change Start Sub-Section to **After**"
   ]
  },
  {
   "cell_type": "markdown",
   "metadata": {},
   "source": [
    "- Section start **Before** *StartSection*\n",
    "- Section end **After** *EndSection*\n",
    "- SubSection start **Before** *EndSection*\n",
    "\n",
    "```python\n",
    "sub_section = Section(section_name='SubSection',\n",
    "    start_section=SectionBreak('EndSection', break_offset='Before')\n",
    "    )\n",
    "\n",
    "full_section = Section(section_name='Full',\n",
    "    start_section=SectionBreak('StartSection', break_offset='Before'),\n",
    "    end_section=SectionBreak('EndSection', break_offset='After'),\n",
    "    subsections=[sub_section] \n",
    "    )\n",
    "```"
   ]
  },
  {
   "cell_type": "code",
   "execution_count": 50,
   "metadata": {},
   "outputs": [
    {
     "name": "stdout",
     "output_type": "stream",
     "text": [
      "[[]]\n"
     ]
    }
   ],
   "source": [
    "sub_section = Section(\n",
    "    section_name='SubSection',\n",
    "    start_section=SectionBreak('StartSection', break_offset='After')\n",
    "    #end_on_first_item=True,\n",
    "    #keep_partial=True,\n",
    "    #end_section=SectionBreak(True)\n",
    "    )\n",
    "\n",
    "full_section = Section(\n",
    "    section_name='Full',\n",
    "    start_section=SectionBreak('StartSection', break_offset='Before'),\n",
    "    end_section=SectionBreak('EndSection', break_offset='After'),\n",
    "    subsections=[sub_section] \n",
    "    )\n",
    "\n",
    "pprint(full_section.read(GENERIC_TEST_TEXT))"
   ]
  },
  {
   "cell_type": "markdown",
   "metadata": {},
   "source": [
    "- ![Bad](../examples/error.png) Results in blank sub-list."
   ]
  },
  {
   "cell_type": "markdown",
   "metadata": {},
   "source": [
    "### Add start to SubSection Definition\n",
    "> `start_section=SectionBreak('EndSection', break_offset='Before')`"
   ]
  },
  {
   "cell_type": "code",
   "execution_count": 51,
   "metadata": {},
   "outputs": [
    {
     "name": "stdout",
     "output_type": "stream",
     "text": [
      "[['EndSection Name: A',\n",
      "  'StartSection Name: B',\n",
      "  'EndSection Name: B',\n",
      "  'More text to be ignored']]\n"
     ]
    }
   ],
   "source": [
    "sub_section = Section(\n",
    "    section_name='SubSection',\n",
    "    start_section=SectionBreak('EndSection', break_offset='Before'),  # Added to use alone\n",
    "    #end_on_first_item=True,\n",
    "    #keep_partial=True,\n",
    "    #end_section=SectionBreak(True)\n",
    "    )\n",
    "\n",
    "full_section = Section(\n",
    "    section_name='Full',\n",
    "    #start_section=SectionBreak('StartSection', break_offset='Before'),\n",
    "    #end_section=SectionBreak('EndSection', break_offset='After'),\n",
    "    subsections=[sub_section] \n",
    "    )\n",
    "pprint(full_section.read(GENERIC_TEST_TEXT))"
   ]
  },
  {
   "cell_type": "markdown",
   "metadata": {},
   "source": [
    "- ![Bad](../examples/Error.png) - ??? Is this incorrect or is this expected???"
   ]
  },
  {
   "cell_type": "markdown",
   "metadata": {},
   "source": [
    "### Add *Start After* to Section Definition\n",
    "> `start_section=SectionBreak('StartSection', break_offset='After')`"
   ]
  },
  {
   "cell_type": "code",
   "execution_count": 52,
   "metadata": {},
   "outputs": [
    {
     "name": "stdout",
     "output_type": "stream",
     "text": [
      "[['EndSection Name: A',\n",
      "  'StartSection Name: B',\n",
      "  'EndSection Name: B',\n",
      "  'More text to be ignored']]\n"
     ]
    }
   ],
   "source": [
    "sub_section = Section(\n",
    "    section_name='SubSection',\n",
    "    #start_section=SectionBreak('EndSection', break_offset='Before'),  # Added to use alone\n",
    "    #end_on_first_item=True,\n",
    "    #keep_partial=True,\n",
    "    #end_section=SectionBreak(True)\n",
    "    )\n",
    "\n",
    "full_section = Section(\n",
    "    section_name='Full',\n",
    "    start_section=SectionBreak('StartSection', break_offset='After'),\n",
    "    #end_section=SectionBreak('EndSection', break_offset='After'),\n",
    "    subsections=[sub_section]  \n",
    "    )\n",
    "pprint(full_section.read(GENERIC_TEST_TEXT))"
   ]
  },
  {
   "cell_type": "markdown",
   "metadata": {},
   "source": [
    "- ![Good](../examples/Valid.png) Results in one line section"
   ]
  },
  {
   "cell_type": "markdown",
   "metadata": {},
   "source": [
    "### Add *Start After StartSection* to Section Definition and *Start Before End Section* to SubSection Definition\n",
    "> **Section Definition**<br> \n",
    "> `start_section=SectionBreak('StartSection', break_offset='After')`\n",
    "> \n",
    "> **SubSection Definition**<br>\n",
    "> `start_section=SectionBreak('EndSection', break_offset='Before')`\n",
    "    "
   ]
  },
  {
   "cell_type": "code",
   "execution_count": 53,
   "metadata": {},
   "outputs": [
    {
     "name": "stdout",
     "output_type": "stream",
     "text": [
      "[['EndSection Name: A',\n",
      "  'StartSection Name: B',\n",
      "  'EndSection Name: B',\n",
      "  'More text to be ignored']]\n"
     ]
    }
   ],
   "source": [
    "sub_section = Section(\n",
    "    section_name='SubSection',\n",
    "    start_section=SectionBreak('EndSection', break_offset='Before'),  # Added to use alone\n",
    "    #end_on_first_item=True,\n",
    "    #keep_partial=True,\n",
    "    #end_section=SectionBreak(True)\n",
    "    )\n",
    "\n",
    "full_section = Section(\n",
    "    section_name='Full',\n",
    "    start_section=SectionBreak('StartSection', break_offset='After'),\n",
    "    #end_section=SectionBreak('EndSection', break_offset='After'),\n",
    "    subsections=[sub_section]  \n",
    "    )\n",
    "pprint(full_section.read(GENERIC_TEST_TEXT))"
   ]
  },
  {
   "cell_type": "markdown",
   "metadata": {},
   "source": [
    "- ![Bad](../examples/error.png) - ??? Is this incorrect or is this expected???"
   ]
  },
  {
   "cell_type": "markdown",
   "metadata": {},
   "source": [
    "### Add *Start After StartSection* to Section Definition and *Start Before End Section* to SubSection Definition and set *End On First Line* for SubSection\n",
    "> **Section Definition**<br> \n",
    "> `start_section=SectionBreak('StartSection', break_offset='After')`\n",
    "> \n",
    "> **SubSection Definition**<br>\n",
    "> `start_section=SectionBreak('EndSection', break_offset='Before'),`\n",
    "> `end_on_first_item=True,`\n",
    "    "
   ]
  },
  {
   "cell_type": "code",
   "execution_count": 54,
   "metadata": {},
   "outputs": [
    {
     "name": "stdout",
     "output_type": "stream",
     "text": [
      "[['EndSection Name: A',\n",
      "  'StartSection Name: B',\n",
      "  'EndSection Name: B',\n",
      "  'More text to be ignored']]\n"
     ]
    }
   ],
   "source": [
    "sub_section = Section(\n",
    "    section_name='SubSection',\n",
    "    start_section=SectionBreak('EndSection', break_offset='Before'),  # Added to use alone\n",
    "    end_on_first_item=True,\n",
    "    #keep_partial=True,\n",
    "    #end_section=SectionBreak(True)\n",
    "    )\n",
    "\n",
    "full_section = Section(\n",
    "    section_name='Full',\n",
    "    start_section=SectionBreak('StartSection', break_offset='After'),\n",
    "    #end_section=SectionBreak('EndSection', break_offset='After'),\n",
    "    subsections=[sub_section]  \n",
    "    )\n",
    "pprint(full_section.read(GENERIC_TEST_TEXT))"
   ]
  },
  {
   "cell_type": "markdown",
   "metadata": {},
   "source": [
    "- ![Bad](../examples/Error.png) - ??? Is this incorrect or is this expected???"
   ]
  },
  {
   "cell_type": "markdown",
   "metadata": {},
   "source": [
    "### Add *Start After StartSection* to Section Definition, and for SubSection Definition, set *Start* to  *Before EndSection* and *End* to *`True` (Always Break)*\n",
    "> **Section Definition**<br> \n",
    "> `start_section=SectionBreak('StartSection', break_offset='After')`\n",
    "> \n",
    "> **SubSection Definition**<br>\n",
    "> `start_section=SectionBreak('EndSection', break_offset='Before'),`\n",
    "> `end_section=SectionBreak(True),`\n",
    "    "
   ]
  },
  {
   "cell_type": "code",
   "execution_count": 55,
   "metadata": {},
   "outputs": [
    {
     "name": "stdout",
     "output_type": "stream",
     "text": [
      "[['EndSection Name: A'], ['EndSection Name: B'], []]\n"
     ]
    }
   ],
   "source": [
    "sub_section = Section(\n",
    "    section_name='SubSection',\n",
    "    start_section=SectionBreak('EndSection', break_offset='Before'),  # Added to use alone\n",
    "    #end_on_first_item=True,\n",
    "    #keep_partial=True,\n",
    "    end_section=SectionBreak(True)\n",
    "    )\n",
    "\n",
    "full_section = Section(\n",
    "    section_name='Full',\n",
    "    start_section=SectionBreak('StartSection', break_offset='After'),\n",
    "    #end_section=SectionBreak('EndSection', break_offset='After'),\n",
    "    subsections=[sub_section]  \n",
    "    )\n",
    "pprint(full_section.read(GENERIC_TEST_TEXT))"
   ]
  },
  {
   "cell_type": "markdown",
   "metadata": {},
   "source": [
    "- ![Good](../examples/Valid.png) Results in one line section"
   ]
  },
  {
   "cell_type": "markdown",
   "metadata": {},
   "source": [
    "### Add *Start After StartSection* and *End Before EndSection* to Section Definition, and for SubSection Definition, set *Start* to  *Before EndSection* and *End* to *`True` (Always Break)*\n",
    "> **Section Definition**<br> \n",
    "> `start_section=SectionBreak('StartSection', break_offset='After'),`\n",
    "> `end_section=SectionBreak('EndSection', break_offset='After'),`\n",
    "    \n",
    "> \n",
    "> **SubSection Definition**<br>\n",
    "> `start_section=SectionBreak('EndSection', break_offset='Before'),`\n",
    "> `end_section=SectionBreak(True),`\n",
    "    "
   ]
  },
  {
   "cell_type": "code",
   "execution_count": 56,
   "metadata": {},
   "outputs": [
    {
     "name": "stdout",
     "output_type": "stream",
     "text": [
      "[['EndSection Name: A']]\n"
     ]
    }
   ],
   "source": [
    "sub_section = Section(\n",
    "    section_name='SubSection',\n",
    "    start_section=SectionBreak('EndSection', break_offset='Before'),  # Added to use alone\n",
    "    #end_on_first_item=True,\n",
    "    #keep_partial=True,\n",
    "    end_section=SectionBreak(True)\n",
    "    )\n",
    "\n",
    "full_section = Section(\n",
    "    section_name='Full',\n",
    "    start_section=SectionBreak('StartSection', break_offset='After'),\n",
    "    end_section=SectionBreak('EndSection', break_offset='After'),\n",
    "    subsections=[sub_section] \n",
    "    )\n",
    "pprint(full_section.read(GENERIC_TEST_TEXT))"
   ]
  },
  {
   "cell_type": "markdown",
   "metadata": {},
   "source": [
    "- ![Good](../examples/Valid.png) Results in one line section"
   ]
  },
  {
   "cell_type": "markdown",
   "metadata": {},
   "source": [
    "### Add *Start __Before__ StartSection* and *End Before EndSection* to Section Definition, and for SubSection Definition, set *Start* to  *Before EndSection* and *End* to *`True` (Always Break)*\n",
    "> **Section Definition**<br> \n",
    "> `start_section=SectionBreak('StartSection', break_offset='Before'),`\n",
    "> `end_section=SectionBreak('EndSection', break_offset='After'),`\n",
    "    \n",
    "> \n",
    "> **SubSection Definition**<br>\n",
    "> `start_section=SectionBreak('EndSection', break_offset='Before'),`\n",
    "> `end_section=SectionBreak(True),`\n",
    "    "
   ]
  },
  {
   "cell_type": "code",
   "execution_count": 57,
   "metadata": {},
   "outputs": [
    {
     "name": "stdout",
     "output_type": "stream",
     "text": [
      "[[]]\n"
     ]
    }
   ],
   "source": [
    "sub_section = Section(\n",
    "    section_name='SubSection',\n",
    "    start_section=SectionBreak('EndSection', break_offset='Before'),  # Added to use alone\n",
    "    #end_on_first_item=True,\n",
    "    #keep_partial=True,\n",
    "    end_section=SectionBreak(True)\n",
    "    )\n",
    "\n",
    "full_section = Section(\n",
    "    section_name='Full',\n",
    "    start_section=SectionBreak('StartSection', break_offset='Before'),\n",
    "    end_section=SectionBreak('EndSection', break_offset='After'),\n",
    "    subsections=[sub_section]  \n",
    "    )\n",
    "pprint(full_section.read(GENERIC_TEST_TEXT))"
   ]
  },
  {
   "cell_type": "markdown",
   "metadata": {},
   "source": [
    "- ![Bad](../examples/Error.png) Results in empty list of lists\n",
    "- ??? Is this incorrect or is this expected???"
   ]
  },
  {
   "cell_type": "markdown",
   "metadata": {},
   "source": [
    "### Add *Start __Before__ StartSection* and *End Before EndSection* to Section Definition, and for SubSection Definition, set *Start* to *Before EndSection*, *End* to *`True` (Always Break)* and *Keep Partial* to *`True`*\n",
    "> **Section Definition**<br> \n",
    "> `start_section=SectionBreak('StartSection', break_offset='Before'),`\n",
    "> `end_section=SectionBreak('EndSection', break_offset='After'),`    \n",
    "> \n",
    "> **SubSection Definition**<br>\n",
    "> `start_section=SectionBreak('EndSection', break_offset='Before'),`<br>\n",
    "> `end_section=SectionBreak(True),`<br>\n",
    "> `keep_partial=True,`\n",
    "    "
   ]
  },
  {
   "cell_type": "code",
   "execution_count": 58,
   "metadata": {},
   "outputs": [
    {
     "name": "stdout",
     "output_type": "stream",
     "text": [
      "[[]]\n"
     ]
    }
   ],
   "source": [
    "sub_section = Section(\n",
    "    section_name='SubSection',\n",
    "    start_section=SectionBreak('EndSection', break_offset='Before'),  # Added to use alone\n",
    "    #end_on_first_item=True,\n",
    "    keep_partial=True,\n",
    "    end_section=SectionBreak(True)\n",
    "    )\n",
    "\n",
    "full_section = Section(\n",
    "    section_name='Full',\n",
    "    start_section=SectionBreak('StartSection', break_offset='Before'),\n",
    "    end_section=SectionBreak('EndSection', break_offset='After'),\n",
    "    subsections=[sub_section]  \n",
    "    )\n",
    "pprint(full_section.read(GENERIC_TEST_TEXT))"
   ]
  },
  {
   "cell_type": "markdown",
   "metadata": {},
   "source": [
    "- ![Bad](../examples/Error.png) Results in empty list of lists\n",
    "- ??? Is this incorrect or is this expected???"
   ]
  },
  {
   "cell_type": "markdown",
   "metadata": {},
   "source": [
    "### Add *Start __Before__ StartSection* and *End Before EndSection* to Section Definition, and don't set any SectionBreaks for SubSection Definition, \n",
    "> **Section Definition**<br> \n",
    "> `start_section=SectionBreak('StartSection', break_offset='Before'),`\n",
    "> `end_section=SectionBreak('EndSection', break_offset='After'),`    \n",
    "    "
   ]
  },
  {
   "cell_type": "code",
   "execution_count": 59,
   "metadata": {},
   "outputs": [
    {
     "name": "stdout",
     "output_type": "stream",
     "text": [
      "[['StartSection Name: A', 'EndSection Name: A']]\n"
     ]
    }
   ],
   "source": [
    "sub_section = Section(\n",
    "    section_name='SubSection',\n",
    "    #start_section=SectionBreak('EndSection', break_offset='Before'),  # Added to use alone\n",
    "    #end_on_first_item=True,\n",
    "    #keep_partial=True,\n",
    "    #end_section=SectionBreak(True)\n",
    "    )\n",
    "\n",
    "full_section = Section(\n",
    "    section_name='Full',\n",
    "    start_section=SectionBreak('StartSection', break_offset='Before'),\n",
    "    end_section=SectionBreak('EndSection', break_offset='After'),\n",
    "    subsections=[sub_section]  \n",
    "    )\n",
    "pprint(full_section.read(GENERIC_TEST_TEXT))"
   ]
  },
  {
   "cell_type": "markdown",
   "metadata": {},
   "source": [
    "- ![Good](../examples/Valid.png) Results in Two line section"
   ]
  },
  {
   "cell_type": "markdown",
   "metadata": {},
   "source": [
    "### Add *Start __After__ StartSection* and *End Before EndSection* to Section Definition, and don't set any SectionBreaks for SubSection Definition, \n",
    "> **Section Definition**<br> \n",
    "> `start_section=SectionBreak('StartSection', break_offset='After'),`\n",
    "> `end_section=SectionBreak('EndSection', break_offset='After'),`    \n",
    "    "
   ]
  },
  {
   "cell_type": "code",
   "execution_count": 60,
   "metadata": {},
   "outputs": [
    {
     "name": "stdout",
     "output_type": "stream",
     "text": [
      "[['EndSection Name: A']]\n"
     ]
    }
   ],
   "source": [
    "sub_section = Section(\n",
    "    section_name='SubSection',\n",
    "    #start_section=SectionBreak('EndSection', break_offset='Before'),  # Added to use alone\n",
    "    #end_on_first_item=True,\n",
    "    #keep_partial=True,\n",
    "    #end_section=SectionBreak(True)\n",
    "    )\n",
    "\n",
    "full_section = Section(\n",
    "    section_name='Full',\n",
    "    start_section=SectionBreak('StartSection', break_offset='After'),\n",
    "    end_section=SectionBreak('EndSection', break_offset='After'),\n",
    "    subsections=[sub_section]  \n",
    "    )\n",
    "pprint(full_section.read(GENERIC_TEST_TEXT))"
   ]
  },
  {
   "cell_type": "markdown",
   "metadata": {},
   "source": [
    "- ![Good](../examples/Valid.png) Results in one line section"
   ]
  }
 ],
 "metadata": {
  "interpreter": {
   "hash": "bdd6de19b6444c4abd83e7de365882263ac0d7d20a0aa7e5f5ebd36d3365c333"
  },
  "kernelspec": {
   "display_name": "Python (sectionaryDev)",
   "language": "python",
   "name": "sectionarydev"
  },
  "language_info": {
   "codemirror_mode": {
    "name": "ipython",
    "version": 3
   },
   "file_extension": ".py",
   "mimetype": "text/x-python",
   "name": "python",
   "nbconvert_exporter": "python",
   "pygments_lexer": "ipython3",
   "version": "3.8.12"
  }
 },
 "nbformat": 4,
 "nbformat_minor": 4
}
