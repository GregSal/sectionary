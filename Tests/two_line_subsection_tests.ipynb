{
 "cells": [
  {
   "cell_type": "markdown",
   "metadata": {},
   "source": [
    "# Subsections Issue"
   ]
  },
  {
   "cell_type": "markdown",
   "metadata": {},
   "source": [
    "## Setup"
   ]
  },
  {
   "cell_type": "raw",
   "metadata": {},
   "source": [
    "from pathlib import Path\n",
    "import sys\n",
    "\n",
    "env_str = !set HOMEPATH\n",
    "\n",
    "home_path = Path(r'C:\\\\' + env_str[0].split('=',1)[1].strip('\"'))\n",
    "print(home_path)\n",
    "\n",
    "base_path = home_path / r\"OneDrive - Queen's University/Python\\Projects/sectionary package\"\n",
    "tests_path = base_path / 'Tests'\n",
    "examples_path = base_path / 'examples'\n",
    "source_path = base_path / r'src/sectionary'\n",
    "\n",
    "sys.path.extend([\n",
    "    base_path,\n",
    "    tests_path,\n",
    "    examples_path,\n",
    "    source_path\n",
    "    ])\n",
    "\n",
    "\n",
    "print('PythonPaths:')\n",
    "for path_str in sys.path:\n",
    "    print(f'\\t{path_str}')"
   ]
  },
  {
   "cell_type": "markdown",
   "metadata": {},
   "source": [
    "### Imports"
   ]
  },
  {
   "cell_type": "code",
   "execution_count": 1,
   "metadata": {},
   "outputs": [],
   "source": [
    "from typing import List\n",
    "from pathlib import Path\n",
    "from pprint import pprint\n",
    "import re\n",
    "import sys\n",
    "\n",
    "import pandas as pd\n",
    "import xlwings as xw\n",
    "\n",
    "from buffered_iterator import BufferedIterator\n",
    "import text_reader as tp\n",
    "from sections import Rule, RuleSet, SectionBreak, ProcessingMethods, Section"
   ]
  },
  {
   "cell_type": "markdown",
   "metadata": {},
   "source": [
    "### Logging"
   ]
  },
  {
   "cell_type": "code",
   "execution_count": 2,
   "metadata": {},
   "outputs": [],
   "source": [
    "import logging\n",
    "logging.basicConfig(format='%(name)-20s - %(levelname)s: %(message)s')\n",
    "#logging.basicConfig(level=logging.DEBUG)\n",
    "logger = logging.getLogger('Text Processing')\n",
    "#logger.setLevel(logging.DEBUG)\n",
    "logger.setLevel(logging.INFO)"
   ]
  },
  {
   "cell_type": "markdown",
   "metadata": {},
   "source": [
    "### Initialize 2-line Section Tests"
   ]
  },
  {
   "cell_type": "markdown",
   "metadata": {},
   "source": [
    "#### 2-line Section Source"
   ]
  },
  {
   "cell_type": "code",
   "execution_count": 3,
   "metadata": {},
   "outputs": [],
   "source": [
    "GENERIC_TEST_TEXT = [\n",
    "    'Text to be ignored',\n",
    "    'StartSection Name: A',\n",
    "    'EndSection Name: A',\n",
    "    'StartSection Name: B',\n",
    "    'EndSection Name: B',\n",
    "    'More text to be ignored',\n",
    "    ]"
   ]
  },
  {
   "cell_type": "markdown",
   "metadata": {},
   "source": [
    "## Iterator Options"
   ]
  },
  {
   "cell_type": "markdown",
   "metadata": {},
   "source": [
    "### Two line section *StartSection*\n",
    "- Start *Before* `StartSection`\n",
    "- End *After* `EndSection`"
   ]
  },
  {
   "cell_type": "code",
   "execution_count": 4,
   "metadata": {},
   "outputs": [],
   "source": [
    "two_line_section = Section(\n",
    "    section_name='SubSection',\n",
    "    start_section=SectionBreak('StartSection', break_offset='Before'),\n",
    "    end_section=SectionBreak('EndSection', break_offset='After')\n",
    "    )"
   ]
  },
  {
   "cell_type": "markdown",
   "metadata": {},
   "source": [
    "#### Using a regular iterator"
   ]
  },
  {
   "cell_type": "code",
   "execution_count": 5,
   "metadata": {},
   "outputs": [
    {
     "name": "stdout",
     "output_type": "stream",
     "text": [
      "['StartSection Name: A', 'EndSection Name: A']\n",
      "[]\n"
     ]
    }
   ],
   "source": [
    "test_iter = iter(GENERIC_TEST_TEXT)\n",
    "pprint(two_line_section.read(test_iter))\n",
    "\n",
    "pprint(two_line_section.read(test_iter))"
   ]
  },
  {
   "cell_type": "markdown",
   "metadata": {},
   "source": [
    "![Good](../examples/Valid.png) A regular iterator is missing the buffer, so *Step Back* calls can loose future items.\n",
    "- The second call to `pprint(two_line_section.read(test_iter))` returns an empty list because the second *StartSection* line is lost.\n",
    "  \n",
    "|Expected|Actual|\n",
    "|-|-|\n",
    "|`['StartSection Name: A', 'EndSection Name: A']`|`['StartSection Name: A', 'EndSection Name: A']`|\n",
    "|`[]`|`[]`|"
   ]
  },
  {
   "cell_type": "markdown",
   "metadata": {},
   "source": [
    "#### Using a *BufferedIterator* source."
   ]
  },
  {
   "cell_type": "code",
   "execution_count": 6,
   "metadata": {},
   "outputs": [
    {
     "name": "stdout",
     "output_type": "stream",
     "text": [
      "['StartSection Name: A', 'EndSection Name: A']\n",
      "['StartSection Name: B', 'EndSection Name: B']\n",
      "[]\n"
     ]
    }
   ],
   "source": [
    "test_iter = BufferedIterator(GENERIC_TEST_TEXT)\n",
    "pprint(two_line_section.read(test_iter))\n",
    "pprint(two_line_section.read(test_iter))\n",
    "pprint(two_line_section.read(test_iter))"
   ]
  },
  {
   "cell_type": "markdown",
   "metadata": {},
   "source": [
    "![Good](../examples/Valid.png) Supplying a *BufferedIterator* preserves the *Step Back* item.\n",
    "- The Third call to `pprint(two_line_section.read(test_iter))` returns an empty list because a third *StartSection* is not found.\n",
    "\n",
    "|Expected|Actual|\n",
    "|-|-|\n",
    "|`['StartSection Name: A', 'EndSection Name: A']`|`['StartSection Name: A', 'EndSection Name: A']`|\n",
    "|`['StartSection Name: B', 'EndSection Name: B']`|`['StartSection Name: B', 'EndSection Name: B']`|\n",
    "|`[]`|`[]`|"
   ]
  },
  {
   "cell_type": "markdown",
   "metadata": {},
   "source": [
    "# Simple sections experimenting with start and end settings"
   ]
  },
  {
   "cell_type": "markdown",
   "metadata": {},
   "source": [
    "#### 2-line Section Source"
   ]
  },
  {
   "cell_type": "code",
   "execution_count": 7,
   "metadata": {},
   "outputs": [],
   "source": [
    "GENERIC_TEST_TEXT = [\n",
    "    'Text to be ignored',\n",
    "    'StartSection Name: A',\n",
    "    'EndSection Name: A',\n",
    "    'StartSection Name: B',\n",
    "    'EndSection Name: B',\n",
    "    'More text to be ignored',\n",
    "    ]"
   ]
  },
  {
   "cell_type": "markdown",
   "metadata": {},
   "source": [
    "## `end_on_first_item` Tests\n",
    "\n",
    "The `end_on_first_item` parameter in a section definition determines whether the \n",
    "`end_section` break tests are applied to the first line in a section.\n",
    "`end_on_first_item=True` does not *force* the section to complete after a single \n",
    "line.  It only makes it *possible* to stop after the first line.\n",
    "\n",
    "The value of this parameter is that repeat sections do not require distinct\n",
    "starting and ending sentinels. With `end_on_first_item=False` (the default) the \n",
    "same SectionBreak can be applied to both `start_section` and `end_section`.  \n",
    "In this case, the second occurrence of the section begins immediately at the \n",
    "end of the previous section."
   ]
  },
  {
   "cell_type": "code",
   "execution_count": 8,
   "metadata": {},
   "outputs": [],
   "source": [
    "GENERIC_TEST_TEXT = [\n",
    "    'Text to be ignored',\n",
    "    'StartSection A',\n",
    "    'EndSection A',\n",
    "    'StartSection B',\n",
    "    'EndSection B',\n",
    "    'More text to be ignored',\n",
    "    ]"
   ]
  },
  {
   "cell_type": "markdown",
   "metadata": {},
   "source": [
    "#### Setting `end_on_first_item=False` (the default)\n",
    "- Using identical `start_section` and `end_section`:\n",
    "    > `start_section=SectionBreak('StartSection', break_offset='Before')`\n",
    "    > `end_section=SectionBreak('StartSection', break_offset='Before')`\n",
    "\n",
    "- Do not test first line of section (the default).\n",
    "    > `end_on_first_item=False` "
   ]
  },
  {
   "cell_type": "code",
   "execution_count": 9,
   "metadata": {},
   "outputs": [
    {
     "name": "stdout",
     "output_type": "stream",
     "text": [
      "['StartSection A', 'EndSection A']\n"
     ]
    }
   ],
   "source": [
    "start_sub_section = Section(\n",
    "    section_name='StartSubSection',\n",
    "    start_section=SectionBreak('StartSection', break_offset='Before'),\n",
    "    end_section=SectionBreak('StartSection', break_offset='Before'),\n",
    "    end_on_first_item=False\n",
    "    )\n",
    "\n",
    "pprint(start_sub_section.read(GENERIC_TEST_TEXT))"
   ]
  },
  {
   "cell_type": "markdown",
   "metadata": {},
   "source": [
    "![Good](../examples/Valid.png) The first section is returned as a list.\n",
    "\n",
    "<table>\n",
    "    <thead><th>Expected</th><th>Actual</th></thead>\n",
    "    <tr>\n",
    "        <td><code>\n",
    "          ['StartSection A', 'EndSection A']\n",
    "        </code></td>\n",
    "        <td><code>\n",
    "          ['StartSection A', 'EndSection A']\n",
    "        </code></td></tr>\n",
    "</table>"
   ]
  },
  {
   "cell_type": "markdown",
   "metadata": {},
   "source": [
    "#### Defining a top section with a repeating subsection\n",
    "- Using identical `start_section` and `end_section`:\n",
    "    > `start_section=SectionBreak('StartSection', break_offset='Before')`\n",
    "    > `end_section=SectionBreak('StartSection', break_offset='Before')`\n",
    "\n",
    "- Do not test first line of section (the default).\n",
    "    > `end_on_first_item=False` "
   ]
  },
  {
   "cell_type": "code",
   "execution_count": 10,
   "metadata": {},
   "outputs": [
    {
     "name": "stdout",
     "output_type": "stream",
     "text": [
      "[['StartSection A', 'EndSection A'], ['StartSection B', 'EndSection B']]\n"
     ]
    }
   ],
   "source": [
    "repeating_section = Section(\n",
    "    section_name='Top Section',\n",
    "    end_section=SectionBreak('More text to be ignored', break_offset='Before'),\n",
    "    subsections=start_sub_section\n",
    "    )\n",
    "pprint(repeating_section.read(GENERIC_TEST_TEXT))"
   ]
  },
  {
   "cell_type": "markdown",
   "metadata": {},
   "source": [
    "![Good](../examples/Valid.png) Both subsections are returned as a list of lists.\n",
    "\n",
    "<table>\n",
    "    <thead><th>Expected</th><th>Actual</th></thead>\n",
    "    <tr>\n",
    "        <td><code>\n",
    "          [<br>\n",
    "          ['StartSection A', 'EndSection A'],<br>\n",
    "           ['StartSection B', 'EndSection B']<br>\n",
    "          ]\n",
    "        </code></td>\n",
    "        <td><code>\n",
    "          [<br>\n",
    "          ['StartSection A', 'EndSection A'],<br>\n",
    "           ['StartSection B', 'EndSection B']<br>\n",
    "          ]\n",
    "        </code></td></tr>\n",
    "</table>"
   ]
  },
  {
   "cell_type": "markdown",
   "metadata": {},
   "source": [
    "- Using the same section definition, except allow testing of the first line of \n",
    "  the section.\n",
    "    > `end_on_first_item=True` "
   ]
  },
  {
   "cell_type": "code",
   "execution_count": 11,
   "metadata": {},
   "outputs": [
    {
     "name": "stdout",
     "output_type": "stream",
     "text": [
      "[]\n"
     ]
    }
   ],
   "source": [
    "start_sub_section = Section(\n",
    "    section_name='StartSubSection',\n",
    "    start_section=SectionBreak('StartSection', break_offset='Before'),\n",
    "    end_section=SectionBreak('StartSection', break_offset='Before'),\n",
    "    end_on_first_item=True\n",
    "    )\n",
    "\n",
    "pprint(start_sub_section.read(GENERIC_TEST_TEXT))"
   ]
  },
  {
   "cell_type": "markdown",
   "metadata": {},
   "source": [
    "![Good](../examples/Valid.png) The ending SectionBreak triggers on the same \n",
    "item that triggers the start of the section.  This will always result in an \n",
    "empty section.\n",
    "\n",
    "|Expected|Actual|\n",
    "|-|-|\n",
    "|[]|[]|"
   ]
  },
  {
   "cell_type": "markdown",
   "metadata": {},
   "source": [
    "#### Single Line Section.\n",
    "- Using the same sentinel *('EndSection')*, but different `break_offset`.\n",
    "    > `start_section=SectionBreak('EndSection', break_offset='Before')`\n",
    "    > `end_section=SectionBreak('EndSection', break_offset='After')`\n",
    "\n",
    "- Allow testing of the first line of section.\n",
    "    > `end_on_first_item=True` "
   ]
  },
  {
   "cell_type": "code",
   "execution_count": 12,
   "metadata": {},
   "outputs": [
    {
     "name": "stdout",
     "output_type": "stream",
     "text": [
      "['EndSection A']\n"
     ]
    }
   ],
   "source": [
    "end_sub_section = Section(\n",
    "    section_name='EndSubSection',\n",
    "    start_section=SectionBreak('EndSection', break_offset='Before'),\n",
    "    end_section=SectionBreak('EndSection', break_offset='After'),\n",
    "    end_on_first_item=True\n",
    "    )\n",
    "\n",
    "pprint(end_sub_section.read(GENERIC_TEST_TEXT))"
   ]
  },
  {
   "cell_type": "markdown",
   "metadata": {},
   "source": [
    "![Good](../examples/Valid.png) Single line section.\n",
    "- Starts *Before* **EndSection** \n",
    "- Ends *After* **EndSection** (the same line)\n",
    "\n",
    "|Expected|Actual|\n",
    "|-|-|\n",
    "|['EndSection A']|['EndSection A']|"
   ]
  },
  {
   "cell_type": "markdown",
   "metadata": {},
   "source": [
    "#### Same section definition as above except with `end_on_first_item=False` "
   ]
  },
  {
   "cell_type": "code",
   "execution_count": 13,
   "metadata": {},
   "outputs": [
    {
     "name": "stdout",
     "output_type": "stream",
     "text": [
      "['EndSection A', 'StartSection B', 'EndSection B']\n"
     ]
    }
   ],
   "source": [
    "end_sub_section = Section(\n",
    "    section_name='EndSubSection',\n",
    "    start_section=SectionBreak('EndSection', break_offset='Before'),\n",
    "    end_section=SectionBreak('EndSection', break_offset='After'),\n",
    "    end_on_first_item=False\n",
    "    )\n",
    "\n",
    "pprint(end_sub_section.read(GENERIC_TEST_TEXT))"
   ]
  },
  {
   "cell_type": "markdown",
   "metadata": {},
   "source": [
    "![Good](../examples/Valid.png) Section continues until **After** next \n",
    "*EndSection* is found\n",
    "\n",
    "<table>\n",
    "    <thead><th>Expected</th><th>Actual</th></thead>\n",
    "    <tr>\n",
    "        <td><code>\n",
    "          ['EndSection Name: A',<br> \n",
    "          'StartSection Name: B',<br>\n",
    "          'EndSection Name: B']\n",
    "        </code></td>\n",
    "        <td><code>\n",
    "          ['EndSection Name: A',<br>\n",
    "          'StartSection Name: B',<br>\n",
    "          'EndSection Name: B']\n",
    "        </code></td></tr>\n",
    "</table>"
   ]
  },
  {
   "cell_type": "markdown",
   "metadata": {},
   "source": [
    "## Multiple Single line sections\n",
    "### Single line section *StartSection*\n",
    "> - Start *Before* `StartSection`\n",
    "> - End *Before* `EndSection`"
   ]
  },
  {
   "cell_type": "code",
   "execution_count": 14,
   "metadata": {},
   "outputs": [
    {
     "name": "stdout",
     "output_type": "stream",
     "text": [
      "['StartSection A']\n",
      "['StartSection B']\n",
      "[]\n"
     ]
    }
   ],
   "source": [
    "sub_section1 = Section(\n",
    "    section_name='SubSection',\n",
    "    start_section=SectionBreak('StartSection', break_offset='Before'),\n",
    "    end_section=SectionBreak('EndSection', break_offset='Before')\n",
    "    )\n",
    "\n",
    "test_iter = BufferedIterator(GENERIC_TEST_TEXT)\n",
    "pprint(sub_section1.read(test_iter))\n",
    "pprint(sub_section1.read(test_iter))\n",
    "pprint(sub_section1.read(test_iter))"
   ]
  },
  {
   "cell_type": "markdown",
   "metadata": {},
   "source": [
    "![Good](../examples/Valid.png) Single line `StartSections` are returned\n",
    "|Expected|Actual|\n",
    "|-|-|\n",
    "|`['StartSection Name: A']`|`['StartSection Name: A']`|\n",
    "|`['StartSection Name: B']`|`['StartSection Name: B']`|\n",
    "|`[]`|`[]`|"
   ]
  },
  {
   "cell_type": "markdown",
   "metadata": {},
   "source": [
    "### Defining a section that calls `sub_section1`"
   ]
  },
  {
   "cell_type": "code",
   "execution_count": 15,
   "metadata": {},
   "outputs": [
    {
     "name": "stdout",
     "output_type": "stream",
     "text": [
      "[['StartSection A'], ['StartSection B']]\n"
     ]
    }
   ],
   "source": [
    "full_section = Section(\n",
    "    section_name='Full',\n",
    "    end_section=SectionBreak('ignored', break_offset='Before'),\n",
    "    subsections=[sub_section1]\n",
    "    )\n",
    "pprint(full_section.read(GENERIC_TEST_TEXT))"
   ]
  },
  {
   "cell_type": "markdown",
   "metadata": {},
   "source": [
    "![Good](../examples/Valid.png) Both *StartSection* lines are found.\n",
    "\n",
    "<table>\n",
    "    <thead><th>Expected</th><th>Actual</th></thead>\n",
    "    <tr>\n",
    "        <td><code>\n",
    "        [<br>\n",
    "          ['StartSection Name: A'],<br>\n",
    "          ['StartSection Name: B'],<br>\n",
    "        ]</code></td>\n",
    "        <td><code>\n",
    "        [<br>\n",
    "          ['StartSection Name: A'],<br>\n",
    "          ['StartSection Name: B'],<br>\n",
    "        ]</code></td></tr>\n",
    "</table>"
   ]
  },
  {
   "cell_type": "markdown",
   "metadata": {},
   "source": [
    "### Multiple Attempts to define Single line *EndSection* \n",
    "#### Attempt #1. Copy *StartSection* design\n",
    "> - Start *Before* `EndSection`\n",
    "> - End *Before* `StartSection`\n"
   ]
  },
  {
   "cell_type": "code",
   "execution_count": 16,
   "metadata": {},
   "outputs": [
    {
     "name": "stdout",
     "output_type": "stream",
     "text": [
      "['EndSection A']\n",
      "['EndSection B', 'More text to be ignored']\n",
      "[]\n"
     ]
    }
   ],
   "source": [
    "sub_section2a = Section(\n",
    "    section_name='SubSection',\n",
    "    start_section=SectionBreak('EndSection', break_offset='Before'),\n",
    "    end_section=SectionBreak('StartSection', break_offset='Before')\n",
    "    )\n",
    "test_iter = BufferedIterator(GENERIC_TEST_TEXT)\n",
    "pprint(sub_section2a.read(test_iter))\n",
    "pprint(sub_section2a.read(test_iter))\n",
    "pprint(sub_section2a.read(test_iter))"
   ]
  },
  {
   "cell_type": "markdown",
   "metadata": {},
   "source": [
    "![Good](../examples/Valid.png) The result is expected, but not desired.\n",
    "- This doesn't work well because there isn't another *StartSection* after the last it *EndSection*.\n",
    "- As a result, it includes the unwanted text after the last *EndSection*.\n",
    " \n",
    "|Expected|Actual|\n",
    "|-|-|\n",
    "|`['EndSection Name: A']`|`['EndSection Name: A']`|\n",
    "|`['EndSection Name: B', 'More text to be ignored']`|`['EndSection Name: B', 'More text to be ignored']`|\n",
    "|`[]`|`[]`|"
   ]
  },
  {
   "cell_type": "markdown",
   "metadata": {},
   "source": [
    "#### Attempt #2\n",
    "> - Start *Before* `EndSection`\n",
    "> - End *After* `EndSection`\n",
    "\n",
    "- This doesn't work because The first line is not tested so it only breaks after the second occurrence of *EndSection*."
   ]
  },
  {
   "cell_type": "code",
   "execution_count": 17,
   "metadata": {},
   "outputs": [
    {
     "name": "stdout",
     "output_type": "stream",
     "text": [
      "['EndSection A', 'StartSection B', 'EndSection B']\n",
      "[]\n",
      "[]\n"
     ]
    }
   ],
   "source": [
    "sub_section2b = Section(\n",
    "    section_name='SubSection',\n",
    "    start_section=SectionBreak('EndSection', break_offset='Before'),\n",
    "    end_section=SectionBreak('EndSection', break_offset='After'),\n",
    "    )\n",
    "test_iter = BufferedIterator(GENERIC_TEST_TEXT)\n",
    "pprint(sub_section2b.read(test_iter))\n",
    "pprint(sub_section2b.read(test_iter))\n",
    "pprint(sub_section2b.read(test_iter))"
   ]
  },
  {
   "cell_type": "markdown",
   "metadata": {},
   "source": [
    "![Good](../examples/Valid.png) \n",
    "\n",
    "|Expected|Actual|\n",
    "|-|-|\n",
    "|`['EndSection Name: A', 'StartSection Name: B', 'EndSection Name: B']`|`['EndSection Name: A', 'StartSection Name: B', 'EndSection Name: B']`|\n",
    "|`[]`|`[]`|\n",
    "|`[]`|`[]`|\n"
   ]
  },
  {
   "cell_type": "markdown",
   "metadata": {},
   "source": [
    "#### Attempt #3\n",
    "> - Start *Before* `EndSection`\n",
    "> - End *After* `EndSection`\n",
    "> - Enable testing of first item\n",
    "\n",
    "- This should work because the first line should be tested and trigger a break."
   ]
  },
  {
   "cell_type": "code",
   "execution_count": 18,
   "metadata": {},
   "outputs": [
    {
     "name": "stdout",
     "output_type": "stream",
     "text": [
      "['EndSection A']\n",
      "['EndSection B']\n",
      "[]\n"
     ]
    }
   ],
   "source": [
    "sub_section2c = Section(\n",
    "    section_name='SubSection',\n",
    "    start_section=SectionBreak('EndSection', break_offset='Before'),\n",
    "    end_section=SectionBreak('EndSection', break_offset='After'),\n",
    "    end_on_first_item=True,\n",
    "    )\n",
    "test_iter = BufferedIterator(GENERIC_TEST_TEXT)\n",
    "pprint(sub_section2c.read(test_iter))\n",
    "pprint(sub_section2c.read(test_iter))\n",
    "pprint(sub_section2c.read(test_iter))"
   ]
  },
  {
   "cell_type": "markdown",
   "metadata": {},
   "source": [
    "![Good](../examples/Valid.png) \n",
    "\n",
    "|Expected|Actual|\n",
    "|-|-|\n",
    "|`['EndSection Name: A']`|`['EndSection Name: A']`|\n",
    "|`['EndSection Name: B']`|`['EndSection Name: B']`|\n",
    "|`[]`|`[]`|\n"
   ]
  },
  {
   "cell_type": "markdown",
   "metadata": {},
   "source": [
    "#### Attempt #3.5\n",
    "> - Start *Before* `EndSection`\n",
    "> - End *Before* `EndSection`\n",
    "> - Enable testing of first item\n",
    "\n",
    "- This should __<u>not</u>__ work because the first line should be tested and \n",
    "  trigger a break before returning anything."
   ]
  },
  {
   "cell_type": "code",
   "execution_count": 19,
   "metadata": {},
   "outputs": [
    {
     "name": "stdout",
     "output_type": "stream",
     "text": [
      "[]\n",
      "[]\n",
      "[]\n"
     ]
    }
   ],
   "source": [
    "sub_section2cc = Section(\n",
    "    section_name='SubSection',\n",
    "    start_section=SectionBreak('EndSection', break_offset='Before'),\n",
    "    end_section=SectionBreak('EndSection', break_offset='Before'),\n",
    "    end_on_first_item=True,\n",
    "    )\n",
    "test_iter = BufferedIterator(GENERIC_TEST_TEXT)\n",
    "pprint(sub_section2cc.read(test_iter))\n",
    "pprint(sub_section2cc.read(test_iter))\n",
    "pprint(sub_section2cc.read(test_iter))"
   ]
  },
  {
   "cell_type": "markdown",
   "metadata": {},
   "source": [
    "![Good](../examples/Valid.png) \n",
    "\n",
    "|Expected|Actual|\n",
    "|-|-|\n",
    "|`[]`|`[]`|\n",
    "|`[]`|`[]`|\n",
    "|`[]`|`[]`|\n"
   ]
  },
  {
   "cell_type": "markdown",
   "metadata": {},
   "source": [
    "#### Attempt #4\n",
    "> - Start *Before* `EndSection`\n",
    "> - End is `True` (Always Break)\n",
    "> - Enable testing of first item\n",
    "\n",
    "- This should work because the first line should be tested and always trigger a break."
   ]
  },
  {
   "cell_type": "code",
   "execution_count": 20,
   "metadata": {},
   "outputs": [
    {
     "name": "stdout",
     "output_type": "stream",
     "text": [
      "['EndSection A']\n",
      "['EndSection B']\n",
      "[]\n"
     ]
    }
   ],
   "source": [
    "sub_section2d = Section(\n",
    "    section_name='SubSection',\n",
    "    start_section=SectionBreak('EndSection', break_offset='Before'),\n",
    "    end_section=SectionBreak(True, break_offset='After'),\n",
    "    end_on_first_item=True,\n",
    "    )\n",
    "test_iter = BufferedIterator(GENERIC_TEST_TEXT)\n",
    "pprint(sub_section2d.read(test_iter))\n",
    "pprint(sub_section2d.read(test_iter))\n",
    "pprint(sub_section2d.read(test_iter))"
   ]
  },
  {
   "cell_type": "markdown",
   "metadata": {},
   "source": [
    "![Good](../examples/Valid.png) \n",
    "\n",
    "|Expected|Actual|\n",
    "|-|-|\n",
    "|`['StartSection Name: A']`|`['EndSection Name: A']`|\n",
    "|`['StartSection Name: B']`|`['EndSection Name: B']`|\n",
    "|`[]`|`[]`|"
   ]
  },
  {
   "cell_type": "markdown",
   "metadata": {},
   "source": [
    "#### Attempt #5\n",
    "> - Start *Before* `EndSection`\n",
    "> - End is `True` (Always Break)\n",
    "> - Don't enable testing of first item\n",
    "\n",
    "- This should <u>not</u> work because the break should trigger on the second line."
   ]
  },
  {
   "cell_type": "code",
   "execution_count": 21,
   "metadata": {},
   "outputs": [
    {
     "name": "stdout",
     "output_type": "stream",
     "text": [
      "['EndSection A', 'StartSection B']\n",
      "['EndSection B', 'More text to be ignored']\n",
      "[]\n"
     ]
    }
   ],
   "source": [
    "sub_section2e = Section(\n",
    "    section_name='SubSection',\n",
    "    start_section=SectionBreak('EndSection', break_offset='Before'),\n",
    "    end_section=SectionBreak(True, break_offset='After')\n",
    "    )\n",
    "test_iter = BufferedIterator(GENERIC_TEST_TEXT)\n",
    "pprint(sub_section2e.read(test_iter))\n",
    "pprint(sub_section2e.read(test_iter))\n",
    "pprint(sub_section2e.read(test_iter))"
   ]
  },
  {
   "cell_type": "markdown",
   "metadata": {},
   "source": [
    "![Good](../examples/Valid.png) \n",
    "\n",
    "|Expected|Actual|\n",
    "|-|-|\n",
    "|`['EndSection Name: A', 'StartSection Name: B']`|`['EndSection Name: A', 'StartSection Name: B']`|\n",
    "|`['EndSection Name: B', 'More text to be ignored']`|`['EndSection Name: B', 'More text to be ignored']`|\n",
    "|`[]`|`[]`|\n",
    "\n",
    "**`end_section=SectionBreak(True)` defaults to `break_offset='Before'`**"
   ]
  },
  {
   "cell_type": "markdown",
   "metadata": {},
   "source": [
    "#### Attempt #6\n",
    "> - Start *Before* `EndSection`\n",
    "> - End *After* ___`True`___ (Always Break)\n",
    "> - Don't enable testing of first item\n",
    "\n",
    "- This should <u>not</u> work because the break should trigger *After* the second line."
   ]
  },
  {
   "cell_type": "code",
   "execution_count": 22,
   "metadata": {},
   "outputs": [
    {
     "name": "stdout",
     "output_type": "stream",
     "text": [
      "['EndSection A', 'StartSection B']\n",
      "['EndSection B', 'More text to be ignored']\n",
      "[]\n"
     ]
    }
   ],
   "source": [
    "sub_section2f = Section(\n",
    "    section_name='SubSection',\n",
    "    start_section=SectionBreak('EndSection', break_offset='Before'),\n",
    "    end_section=SectionBreak(True, break_offset='After')\n",
    "    )\n",
    "test_iter = BufferedIterator(GENERIC_TEST_TEXT)\n",
    "pprint(sub_section2f.read(test_iter))\n",
    "pprint(sub_section2f.read(test_iter))\n",
    "pprint(sub_section2f.read(test_iter))"
   ]
  },
  {
   "cell_type": "markdown",
   "metadata": {},
   "source": [
    "![Good](../examples/Valid.png)\n",
    "|Expected|Actual|\n",
    "|-|-|\n",
    "|`['EndSection Name: A', 'StartSection Name: B']`|`['EndSection Name: A', 'StartSection Name: B']`|\n",
    "|`['EndSection Name: B', 'More text to be ignored']`|`['EndSection Name: B', 'More text to be ignored']`|\n",
    "|`[]`|`[]`|"
   ]
  },
  {
   "cell_type": "markdown",
   "metadata": {},
   "source": [
    "#### Attempt #7\n",
    "> - Start *Before* `EndSection`\n",
    "> - Enable testing of first item\n",
    "> - No End setting\n",
    "\n",
    "- This should start with the first *EndSection* line and not stop until the end of the iterator."
   ]
  },
  {
   "cell_type": "code",
   "execution_count": 23,
   "metadata": {},
   "outputs": [
    {
     "name": "stdout",
     "output_type": "stream",
     "text": [
      "['EndSection A', 'StartSection B', 'EndSection B', 'More text to be ignored']\n",
      "[]\n",
      "[]\n"
     ]
    }
   ],
   "source": [
    "sub_section2g = Section(\n",
    "    section_name='SubSection',\n",
    "    start_section=SectionBreak('EndSection', break_offset='Before'),\n",
    "    end_on_first_item=True,\n",
    "    )\n",
    "test_iter = BufferedIterator(GENERIC_TEST_TEXT)\n",
    "pprint(sub_section2g.read(test_iter))\n",
    "pprint(sub_section2g.read(test_iter))\n",
    "pprint(sub_section2g.read(test_iter))"
   ]
  },
  {
   "cell_type": "markdown",
   "metadata": {},
   "source": [
    "![Good](../examples/Valid.png)\n",
    "|Expected|Actual|\n",
    "|-|-|\n",
    "|`['EndSection Name: A', ['StartSection Name: B', 'EndSection Name: B', 'More text to be ignored']`|`['EndSection Name: A', 'StartSection Name: B', 'EndSection Name: B', 'More text to be ignored']`|\n",
    "|`[]`|`[]`|\n",
    "|`[]`|`[]`|\n"
   ]
  },
  {
   "cell_type": "markdown",
   "metadata": {},
   "source": [
    "#### Single line section *EndSection* __Final Design__.\n",
    "> - Start *Before* `EndSection`\n",
    "> - End *Before* ___`True`___ (Always Break)\n",
    "> - Don't enable testing of first item\n",
    "\n",
    "- This should work because the break should trigger *Before* the second line."
   ]
  },
  {
   "cell_type": "code",
   "execution_count": 24,
   "metadata": {},
   "outputs": [
    {
     "name": "stdout",
     "output_type": "stream",
     "text": [
      "['EndSection A']\n",
      "['EndSection B']\n",
      "[]\n"
     ]
    }
   ],
   "source": [
    "sub_section2 = Section(\n",
    "    section_name='SubSection',\n",
    "    start_section=SectionBreak('EndSection', break_offset='Before'),\n",
    "    end_section=SectionBreak(True, break_offset='Before')\n",
    "    )\n",
    "test_iter = BufferedIterator(GENERIC_TEST_TEXT)\n",
    "pprint(sub_section2.read(test_iter))\n",
    "pprint(sub_section2.read(test_iter))\n",
    "pprint(sub_section2.read(test_iter))"
   ]
  },
  {
   "cell_type": "markdown",
   "metadata": {},
   "source": [
    "![Good](../examples/Valid.png) End breaks *Before* second line. \n",
    "\n",
    "|Expected|Actual|\n",
    "|-|-|\n",
    "|`['EndSection Name: A']`|`['EndSection Name: A']`|\n",
    "|`['EndSection Name: B']`|`['EndSection Name: B']`|\n",
    "|`[]`|`[]`|"
   ]
  },
  {
   "cell_type": "markdown",
   "metadata": {},
   "source": [
    "### Combined Start and End subsections Single line section \n",
    "***sub_section1***\n",
    "> - Start *Before* `StartSection`\n",
    "> - End *Before* `EndSection`\n",
    "\n",
    "***sub_section2*** \n",
    "> - Start *Before* `EndSection`\n",
    "> - End *Before* ___`True`___ (Always Break)\n",
    "> - Don't enable testing of first item\n",
    "\n",
    "`subsections=[sub_section1, sub_section2]`"
   ]
  },
  {
   "cell_type": "code",
   "execution_count": 25,
   "metadata": {},
   "outputs": [
    {
     "name": "stdout",
     "output_type": "stream",
     "text": [
      "[[['StartSection A'], ['EndSection A']], [['StartSection B'], ['EndSection B']]]\n"
     ]
    }
   ],
   "source": [
    "\n",
    "full_section = Section(\n",
    "    section_name='Full',\n",
    "    subsections=[sub_section1, sub_section2]\n",
    "    )\n",
    "pprint(full_section.read(GENERIC_TEST_TEXT))"
   ]
  },
  {
   "cell_type": "markdown",
   "metadata": {},
   "source": [
    "![Good](../examples/Valid.png) Tree list levels with single item in deepest level andm two items in each of the other two levels.\n",
    "\n",
    "|Expected|Actual|\n",
    "|-|-|\n",
    "|`[['StartSection Name: A'], ['EndSection Name: A']]`|`[['StartSection Name: A'], ['EndSection Name: A']]`|\n",
    "|`[['StartSection Name: B'], ['EndSection Name: B']]`|`[['StartSection Name: B'], ['EndSection Name: B']]`|"
   ]
  },
  {
   "cell_type": "markdown",
   "metadata": {},
   "source": [
    "## `keep_partial` Tests\n",
    "The `keep_partial` parameter in a section definition only applies when a list of subsections is given.  For all other cases the `keep_partial` parameter is ignored.\n",
    "With a parent section definition that contains a list of subsections, a situation can occur where the parent section or the source ends before all of the subsections have been completed. \n",
    "- When `keep_partial=True` is set the final subsection list returned will be missing items for the subsections that did nopt get read.\n",
    "\n",
    "- When `keep_partial=False` (the default) is set the incomplete final subsection list is not returned."
   ]
  },
  {
   "cell_type": "markdown",
   "metadata": {},
   "source": [
    "### Defining a Top Section that calls two single line subsections."
   ]
  },
  {
   "cell_type": "markdown",
   "metadata": {},
   "source": [
    "#### Two Subsection definitions "
   ]
  },
  {
   "cell_type": "code",
   "execution_count": 26,
   "metadata": {},
   "outputs": [],
   "source": [
    "start_sub_section = Section(\n",
    "    section_name='StartSubSection',\n",
    "    start_section=SectionBreak('StartSection', break_offset='Before'),\n",
    "    end_section=SectionBreak(True, break_offset='Before')\n",
    "    )\n",
    "\n",
    "end_sub_section = Section(\n",
    "    section_name='EndSubSection',\n",
    "    start_section=SectionBreak('EndSection', break_offset='Before'),\n",
    "    end_section=SectionBreak(True, break_offset='Before')\n",
    "    )"
   ]
  },
  {
   "cell_type": "markdown",
   "metadata": {},
   "source": [
    "#### Defining ***top_section*** \n",
    "- Contains an ending break:\n",
    "    > `end_section=SectionBreak('ignored', break_offset='Before')`."
   ]
  },
  {
   "cell_type": "code",
   "execution_count": 27,
   "metadata": {},
   "outputs": [
    {
     "name": "stdout",
     "output_type": "stream",
     "text": [
      "[[['StartSection A'], ['EndSection A']], [['StartSection B'], ['EndSection B']]]\n"
     ]
    }
   ],
   "source": [
    "top_section = Section(\n",
    "    section_name='Top Section',\n",
    "    end_section=SectionBreak('ignored', break_offset='Before'),\n",
    "    subsections=[start_sub_section, end_sub_section]\n",
    "    )\n",
    "pprint(top_section.read(GENERIC_TEST_TEXT))"
   ]
  },
  {
   "cell_type": "markdown",
   "metadata": {},
   "source": [
    "![Good](../examples/Valid.png) The Subsections are returned as lists of lists.\n",
    "\n",
    "<table>\n",
    "    <thead><th>Expected</th><th>Actual</th></thead>\n",
    "    <tr>\n",
    "        <td><code>\n",
    "          [<br>\n",
    "            [['StartSection Name: A'],<br>\n",
    "             ['EndSection Name: A']],<br>\n",
    "             [['StartSection Name: B'],<br>\n",
    "              ['EndSection Name: B']]<br>\n",
    "          ]\n",
    "        </code></td>\n",
    "        <td><code>\n",
    "          [<br>\n",
    "            [['StartSection Name: A'],<br>\n",
    "             ['EndSection Name: A']],<br>\n",
    "             [['StartSection Name: B'],<br>\n",
    "              ['EndSection Name: B']]<br>\n",
    "          ]\n",
    "        </code></td></tr>\n",
    "</table>"
   ]
  },
  {
   "cell_type": "markdown",
   "metadata": {},
   "source": [
    "#### Including unwanted text in between the start and end of subsection C"
   ]
  },
  {
   "cell_type": "code",
   "execution_count": 28,
   "metadata": {},
   "outputs": [
    {
     "name": "stdout",
     "output_type": "stream",
     "text": [
      "[[['StartSection A'], ['EndSection A']], [['StartSection B'], ['EndSection B']]]\n"
     ]
    }
   ],
   "source": [
    "GENERIC_TEST_TEXT1 = [\n",
    "    'Text to be ignored',\n",
    "    'StartSection A',\n",
    "    'EndSection A',\n",
    "    'StartSection B',\n",
    "    'EndSection B',\n",
    "    'StartSection C',\n",
    "    'More text to be ignored',   # 'ignored' triggers end of top section\n",
    "    'EndSection C',\n",
    "    'Even more text to be ignored', \n",
    "    ]\n",
    "\n",
    "pprint(top_section.read(GENERIC_TEST_TEXT1))"
   ]
  },
  {
   "cell_type": "markdown",
   "metadata": {},
   "source": [
    "![Good](../examples/Valid.png) Subsections A and B are returned Subsections C is dropped.\n",
    "\n",
    "<table>\n",
    "    <thead><th>Expected</th><th>Actual</th></thead>\n",
    "    <tr>\n",
    "        <td><code>\n",
    "          [<br>\n",
    "            [['StartSection A'], ['EndSection A']],<br>\n",
    "             [['StartSection B'], ['EndSection B']]<br>\n",
    "          ]\n",
    "        </code></td>\n",
    "        <td><code>\n",
    "          [<br>\n",
    "            [['StartSection A'], ['EndSection A']],<br>\n",
    "            [['StartSection B'], ['EndSection B']]<br>\n",
    "          ]\n",
    "        </code></td></tr>\n",
    "</table>"
   ]
  },
  {
   "cell_type": "markdown",
   "metadata": {},
   "source": [
    "#### Setting `keep_partial=False`\n",
    "- This should be the default"
   ]
  },
  {
   "cell_type": "code",
   "execution_count": 29,
   "metadata": {},
   "outputs": [
    {
     "name": "stdout",
     "output_type": "stream",
     "text": [
      "[[['StartSection A'], ['EndSection A']], [['StartSection B'], ['EndSection B']]]\n"
     ]
    }
   ],
   "source": [
    "top_section = Section(\n",
    "    section_name='Top Section',\n",
    "    end_section=SectionBreak('ignored', break_offset='Before'),\n",
    "    subsections=[start_sub_section, end_sub_section],\n",
    "    keep_partial=False\n",
    "    )\n",
    "\n",
    "pprint(top_section.read(GENERIC_TEST_TEXT1))"
   ]
  },
  {
   "cell_type": "markdown",
   "metadata": {},
   "source": [
    "![Good](../examples/Valid.png) The same result as not including `keep_partial=False`\n",
    "- Subsections A and B are returned. Subsections C is dropped.\n",
    "\n",
    "<table>\n",
    "    <thead><th>Expected</th><th>Actual</th></thead>\n",
    "    <tr>\n",
    "        <td><code>\n",
    "          [<br>\n",
    "            [['StartSection A'], ['EndSection A']],<br>\n",
    "            [['StartSection B'], ['EndSection B']]<br>\n",
    "          ]\n",
    "        </code></td>\n",
    "        <td><code>\n",
    "          [<br>\n",
    "            [['StartSection A'], ['EndSection A']],<br>\n",
    "            [['StartSection B'], ['EndSection B']]<br>\n",
    "          ]\n",
    "        </code></td></tr>\n",
    "</table>"
   ]
  },
  {
   "cell_type": "markdown",
   "metadata": {},
   "source": [
    "#### Setting `keep_partial=True`"
   ]
  },
  {
   "cell_type": "code",
   "execution_count": 30,
   "metadata": {},
   "outputs": [
    {
     "name": "stdout",
     "output_type": "stream",
     "text": [
      "[[['StartSection A'], ['EndSection A']],\n",
      " [['StartSection B'], ['EndSection B']],\n",
      " [['StartSection C'], []]]\n"
     ]
    }
   ],
   "source": [
    "top_section = Section(\n",
    "    section_name='Top Section',\n",
    "    end_section=SectionBreak('ignored', break_offset='Before'),\n",
    "    subsections=[start_sub_section, end_sub_section],\n",
    "    keep_partial=True\n",
    "    )\n",
    "\n",
    "pprint(top_section.read(GENERIC_TEST_TEXT1))"
   ]
  },
  {
   "cell_type": "markdown",
   "metadata": {},
   "source": [
    "![Bad](../examples/error.png) Expecting `['StartSection C']`, \n",
    "but not the following empty list.\n",
    "- That may not be a bad thing.\n",
    "- Just need to understand why it happens\n",
    "\n",
    "<table>\n",
    "    <thead><th>Expected</th><th>Actual</th></thead>\n",
    "    <tr>\n",
    "        <td><code>\n",
    "          [<br>\n",
    "            [['StartSection A'], ['EndSection A']],<br>\n",
    "            [['StartSection B'], ['EndSection B']]<br>\n",
    "            [['StartSection C']]<br>\n",
    "          ]\n",
    "        </code></td>\n",
    "        <td><code>\n",
    "          [<br>\n",
    "            [['StartSection A'], ['EndSection A']],<br>\n",
    "            [['StartSection B'], ['EndSection B']]<br>\n",
    "            [['StartSection C'], []]<br>\n",
    "          ]\n",
    "        </code></td></tr>\n",
    "</table>"
   ]
  },
  {
   "cell_type": "markdown",
   "metadata": {},
   "source": [
    "##### Using same `keep_partial=True` setting with original source."
   ]
  },
  {
   "cell_type": "code",
   "execution_count": 31,
   "metadata": {},
   "outputs": [
    {
     "name": "stdout",
     "output_type": "stream",
     "text": [
      "[[['StartSection A'], ['EndSection A']], [['StartSection B'], ['EndSection B']]]\n"
     ]
    }
   ],
   "source": [
    "pprint(top_section.read(GENERIC_TEST_TEXT))"
   ]
  },
  {
   "cell_type": "markdown",
   "metadata": {},
   "source": [
    "![Good](../examples/Valid.png) `keep_partial=True` has no effect because both \n",
    "subsections A and B are completed. \n",
    "\n",
    "<table>\n",
    "    <thead><th>Expected</th><th>Actual</th></thead>\n",
    "    <tr>\n",
    "        <td><code>\n",
    "          [<br>\n",
    "            [['StartSection Name: A'], ['EndSection Name: A']],<br>\n",
    "            [['StartSection Name: B'], ['EndSection Name: B']]<br>\n",
    "          ]\n",
    "        </code></td>\n",
    "        <td><code>\n",
    "          [<br>\n",
    "            [['StartSection Name: A'], ['EndSection Name: A']],<br>\n",
    "            [['StartSection Name: B'], ['EndSection Name: B']]<br>\n",
    "          ]\n",
    "        </code></td></tr>\n",
    "</table>"
   ]
  },
  {
   "cell_type": "markdown",
   "metadata": {},
   "source": [
    "##### Using same `keep_partial=True` with only `end_sub_section`."
   ]
  },
  {
   "cell_type": "code",
   "execution_count": 32,
   "metadata": {},
   "outputs": [
    {
     "name": "stdout",
     "output_type": "stream",
     "text": [
      "[['EndSection A'], ['EndSection B']]\n"
     ]
    }
   ],
   "source": [
    "top_section = Section(\n",
    "    section_name='Top Section',\n",
    "    end_section=SectionBreak('ignored', break_offset='Before'),\n",
    "    subsections=[end_sub_section],\n",
    "    keep_partial=True\n",
    "    )\n",
    "\n",
    "pprint(top_section.read(GENERIC_TEST_TEXT1))"
   ]
  },
  {
   "cell_type": "markdown",
   "metadata": {},
   "source": [
    "![Good](../examples/Valid.png) `keep_partial=True` has no effect because single \n",
    "subsections are processed differently. \n",
    "- Results in one less level of lists.\n",
    "\n",
    "<table>\n",
    "    <thead><th>Expected</th><th>Actual</th></thead>\n",
    "    <tr>\n",
    "        <td><code>\n",
    "          [<br>\n",
    "            ['EndSection Name: A'],<br>\n",
    "            ['EndSection Name: B']<br>\n",
    "          ]\n",
    "        </code></td>\n",
    "        <td><code>\n",
    "          [<br>\n",
    "            ['EndSection Name: A'],<br>\n",
    "            ['EndSection Name: B']<br>\n",
    "          ]\n",
    "        </code></td></tr>\n",
    "</table>"
   ]
  },
  {
   "cell_type": "markdown",
   "metadata": {},
   "source": [
    "#### Dropping the corresponding *EndSection* for a *StartSection*."
   ]
  },
  {
   "cell_type": "code",
   "execution_count": 33,
   "metadata": {},
   "outputs": [],
   "source": [
    "GENERIC_TEST_TEXT2 = [\n",
    "    'Text to be ignored',\n",
    "    'StartSection A',\n",
    "    'EndSection A',\n",
    "    'StartSection B',  # Missing 'EndSection B',\n",
    "    \n",
    "    'StartSection C',\n",
    "    'More text to be ignored',   # 'ignored' triggers end of top section\n",
    "    'EndSection C',\n",
    "    'Even more text to be ignored', \n",
    "    ]"
   ]
  },
  {
   "cell_type": "code",
   "execution_count": 34,
   "metadata": {},
   "outputs": [
    {
     "name": "stdout",
     "output_type": "stream",
     "text": [
      "[[['StartSection A'], ['EndSection A']], [['StartSection B'], []]]\n"
     ]
    }
   ],
   "source": [
    "top_section = Section(\n",
    "    section_name='Top Section',\n",
    "    end_section=SectionBreak('ignored', break_offset='Before'),\n",
    "    subsections=[start_sub_section, end_sub_section],\n",
    "    keep_partial=True\n",
    "    )\n",
    "\n",
    "pprint(top_section.read(GENERIC_TEST_TEXT2))"
   ]
  },
  {
   "cell_type": "markdown",
   "metadata": {},
   "source": [
    "![Bad](../examples/error.png) Expecting `['StartSection B']`, \n",
    "but not the following empty list.\n",
    "- 3rd section group never starts because **ignored** *Top Section* break line \n",
    "  occurs before next **EndSection**, so 2nd never finishes.\n",
    "\n",
    "<table>\n",
    "    <thead><th>Expected</th><th>Actual</th></thead>\n",
    "    <tr>\n",
    "        <td><code>\n",
    "          [<br>\n",
    "            [['StartSection A'], ['EndSection A']],<br>\n",
    "            [['StartSection B']]<br>\n",
    "          ]\n",
    "        </code></td>\n",
    "        <td><code>\n",
    "          [<br>\n",
    "            [['StartSection A'], ['EndSection A']],<br>\n",
    "            [['StartSection B'], []]<br>\n",
    "          ]\n",
    "        </code></td></tr>\n",
    "</table>"
   ]
  },
  {
   "cell_type": "code",
   "execution_count": 35,
   "metadata": {},
   "outputs": [
    {
     "name": "stdout",
     "output_type": "stream",
     "text": [
      "[[['StartSection A'], ['EndSection A']], [['StartSection B'], []]]\n"
     ]
    }
   ],
   "source": [
    "top_section = Section(\n",
    "    section_name='Top Section',\n",
    "    end_section=SectionBreak('ignored', break_offset='Before'),\n",
    "    subsections=[start_sub_section, end_sub_section],\n",
    "    keep_partial=False\n",
    "    )\n",
    "\n",
    "pprint(top_section.read(GENERIC_TEST_TEXT2))"
   ]
  },
  {
   "cell_type": "markdown",
   "metadata": {},
   "source": [
    "![Bad](../examples/error.png) Not expecting partial `['StartSection B']`.\n",
    "- 2nd section group never finishes because **ignored** *Top Section* break \n",
    "  line occurs.  Partial subsection should have been dropped.\n",
    "\n",
    "<table>\n",
    "    <thead><th>Expected</th><th>Actual</th></thead>\n",
    "    <tr>\n",
    "        <td><code>\n",
    "          [<br>\n",
    "            [['StartSection A'], ['EndSection A']]<br>\n",
    "          ]\n",
    "        </code></td>\n",
    "        <td><code>\n",
    "          [<br>\n",
    "            [['StartSection A'], ['EndSection A']],<br>\n",
    "            [['StartSection B'], []]<br>\n",
    "          ]\n",
    "        </code></td></tr>\n",
    "</table>"
   ]
  },
  {
   "cell_type": "markdown",
   "metadata": {},
   "source": [
    "### Including unwanted text in between subsections"
   ]
  },
  {
   "cell_type": "code",
   "execution_count": 36,
   "metadata": {},
   "outputs": [
    {
     "name": "stdout",
     "output_type": "stream",
     "text": [
      "[[['StartSection Name: A'], ['EndSection Name: A']],\n",
      " [['StartSection Name: B', 'More text to be ignored'], ['EndSection Name: B']]]\n"
     ]
    }
   ],
   "source": [
    "GENERIC_TEST_TEXT1 = [\n",
    "    'Text to be ignored',\n",
    "    'StartSection Name: A',\n",
    "    'EndSection Name: A',\n",
    "    'StartSection Name: B',\n",
    "    'More text to be ignored', \n",
    "    'EndSection Name: B',\n",
    "    'Even more text to be ignored', \n",
    "    ]\n",
    "\n",
    "pprint(full_section.read(GENERIC_TEST_TEXT1))"
   ]
  },
  {
   "cell_type": "markdown",
   "metadata": {},
   "source": [
    "![Good](../examples/Valid.png) The *to be ignored* text between subsections is dropped.\n",
    "\n",
    "|Expected|Actual|\n",
    "|-|-|\n",
    "|`[['StartSection Name: A'], ['EndSection Name: A']]`|`[['StartSection Name: A'], ['EndSection Name: A']]`|\n",
    "|`[['StartSection Name: B'], ['EndSection Name: B']]`|`[['StartSection Name: B'], ['EndSection Name: B']]`|"
   ]
  },
  {
   "cell_type": "markdown",
   "metadata": {},
   "source": [
    "## Hysteresis Bug Fixed  ![Good](../examples/Valid.png) \n",
    "When `full_section` contains \n",
    "`end_section=SectionBreak('ignored', break_offset='Before')`, repeated calls produce different effects."
   ]
  },
  {
   "cell_type": "markdown",
   "metadata": {},
   "source": [
    "#### Define `SubSection`: \n",
    "- Start *Before* `StartSection`\n",
    "- End *After* `EndSection`"
   ]
  },
  {
   "cell_type": "code",
   "execution_count": 37,
   "metadata": {},
   "outputs": [],
   "source": [
    "sub_section = Section(\n",
    "    section_name='SubSection',\n",
    "    start_section=SectionBreak('StartSection', break_offset='Before', name='SubSectionStart'),\n",
    "    end_section=SectionBreak('EndSection', break_offset='After', name='SubSectionEnd')\n",
    "    )"
   ]
  },
  {
   "cell_type": "markdown",
   "metadata": {},
   "source": [
    "1. Clear Hysteresis by running `full_section` without setting `end_section`\n",
    "2. Define `full_section` with \n",
    "`end_section=SectionBreak('ignored', break_offset='Before')`."
   ]
  },
  {
   "cell_type": "code",
   "execution_count": 38,
   "metadata": {},
   "outputs": [
    {
     "name": "stdout",
     "output_type": "stream",
     "text": [
      "[['StartSection A', 'EndSection A'], ['StartSection B', 'EndSection B']]\n"
     ]
    }
   ],
   "source": [
    "full_section = Section(\n",
    "    section_name='Full',\n",
    "    subsections=sub_section,\n",
    "    keep_partial=False\n",
    "    )\n",
    "a = full_section.read(GENERIC_TEST_TEXT)\n",
    "b = full_section.read(GENERIC_TEST_TEXT)\n",
    "\n",
    "full_section = Section(\n",
    "    section_name='Full',\n",
    "    end_section=SectionBreak('ignored', break_offset='Before'),\n",
    "    subsections=sub_section\n",
    "    )\n",
    "pprint(full_section.read(GENERIC_TEST_TEXT))"
   ]
  },
  {
   "cell_type": "markdown",
   "metadata": {},
   "source": [
    "![Good](../examples/Valid.png) \n",
    "First time it runs as expected\n",
    "- Both full subsections found. No empty lists afterwards.\n",
    "\n",
    "|Expected|Actual|\n",
    "|-|-|\n",
    "|`['StartSection Name: A', 'EndSection Name: A']`|`['StartSection Name: A', 'EndSection Name: A']`|\n",
    "|`['StartSection Name: B', 'EndSection Name: B']`|`['StartSection Name: B', 'EndSection Name: B']`|"
   ]
  },
  {
   "cell_type": "code",
   "execution_count": 39,
   "metadata": {},
   "outputs": [
    {
     "name": "stdout",
     "output_type": "stream",
     "text": [
      "[['StartSection A', 'EndSection A'], ['StartSection B', 'EndSection B']]\n"
     ]
    }
   ],
   "source": [
    "pprint(full_section.read(GENERIC_TEST_TEXT))"
   ]
  },
  {
   "cell_type": "markdown",
   "metadata": {},
   "source": [
    "![Good](../examples/Valid.png)  Hysteresis Fixed\n",
    "- Before bug fix, The second time, a line in the first subsection is missing.\n",
    "\n",
    "|Expected|Actual|\n",
    "|-|-|\n",
    "|`['StartSection Name: A', 'EndSection Name: A']`|`['StartSection Name: A', 'EndSection Name: A']`|\n",
    "|`['StartSection Name: B', 'EndSection Name: B']`|`['StartSection Name: B', 'EndSection Name: B']`|\n"
   ]
  },
  {
   "cell_type": "markdown",
   "metadata": {},
   "source": [
    "## Check *Source* status\n",
    "- Check ___Source___ status after section read."
   ]
  },
  {
   "cell_type": "code",
   "execution_count": 40,
   "metadata": {},
   "outputs": [
    {
     "name": "stdout",
     "output_type": "stream",
     "text": [
      "previous_items\n",
      "['StartSection A', 'EndSection A', 'StartSection B', 'EndSection B']\n",
      "\n",
      "future_items\n",
      "['More text to be ignored']\n"
     ]
    }
   ],
   "source": [
    "sub_section = Section(\n",
    "    section_name='SubSection',\n",
    "    start_section=SectionBreak('StartSection', break_offset='Before', name='SubSectionStart'),\n",
    "    end_section=SectionBreak('EndSection', break_offset='After', name='SubSectionEnd')\n",
    "    )\n",
    "full_section = Section(\n",
    "    section_name='Full',\n",
    "    end_section=SectionBreak('ignored', break_offset='Before'),\n",
    "    subsections=sub_section\n",
    "    )\n",
    "a = full_section.read(GENERIC_TEST_TEXT)\n",
    "print('previous_items')\n",
    "pprint(list(full_section.source.previous_items))\n",
    "print()\n",
    "print('future_items')\n",
    "pprint(list(full_section.source.future_items ))"
   ]
  },
  {
   "cell_type": "markdown",
   "metadata": {},
   "source": [
    "#### Expected source values\n",
    "<table>\n",
    "<thead>\n",
    "  <tr>\n",
    "    <th>Buffer</th>\n",
    "    <th>Expected</th>\n",
    "    <th>Actual</th>\n",
    "    <th>Test</th>\n",
    "  </tr>\n",
    "</thead>\n",
    "<tr><td><b>previous_items</b></td>\n",
    "<td><code>['StartSection A', 'EndSection A',<br>\n",
    "           'StartSection B', 'EndSection B']</code></td>\n",
    "<td><code>['StartSection A', 'EndSection A',<br>\n",
    "           'StartSection B', 'EndSection B']</code></td>\n",
    "<td><img src=\"../examples/Valid.png\" alt=\"Good\"/></td></tr>\n",
    "<tr><td><b>future_items</b></td>\n",
    "<td><code>['More text to be ignored']</code></td>\n",
    "<td><code>['More text to be ignored']</code></td>\n",
    "<td><img src=\"../examples/Valid.png\" alt=\"Good\"/></td></tr>\n",
    "</table>"
   ]
  },
  {
   "cell_type": "markdown",
   "metadata": {},
   "source": [
    "## Check Context\n",
    "\n",
    "***Context Standard Items***\n",
    "<table>\n",
    "<thead><th>Item Key</th><th>Value Description</th></thead>\n",
    "<tr><td>Current Section</td>\n",
    "<td>The assigned name of the section <i>self.section_name</i></td></tr>\n",
    "\n",
    "<tr><td>Skipped Lines</td>\n",
    "<td>A list of items in the source occurring before the first item of the section</td></tr>\n",
    "\n",
    "<tr><td>Status</td>\n",
    "<td>The current section scanning status one of:<ul>\n",
    "    <li>Not Started\n",
    "    <li>At section start\n",
    "    <li>Scan In Progress\n",
    "    <li>Break Triggered\n",
    "    <li>Scan Complete\n",
    "    <li>End of Source\n",
    "    </ul></td></tr>\n",
    "<tr><td>Break</td>\n",
    "<td>The name assigned to the SectionBreak that most recently triggered. \n",
    "Before the section start this is not defined. \n",
    "While the section scan is in progress, this is the name of the StartSection. \n",
    "After the section ends, this is the name of the the EndSection.</td></tr>\n",
    "<tr><td>\n",
    "Event</td>\n",
    "<td>The result from the SectionBreak that most recently triggered; the \n",
    "<i>TriggerEvent.test_value</i>.  \n",
    "For more information see the TriggerEvent documentation.</td></tr>\n",
    "</table>\n",
    "\n",
    "- Compare `full_section` and `sub_section` ___Context___ after reading.\n"
   ]
  },
  {
   "cell_type": "code",
   "execution_count": 41,
   "metadata": {},
   "outputs": [],
   "source": [
    "GENERIC_TEST_TEXT = [\n",
    "    'Text to be ignored',\n",
    "    'StartSection Name: A',\n",
    "    'EndSection Name: A',\n",
    "    'Text between sections',\n",
    "    'StartSection Name: B',\n",
    "    'EndSection Name: B',\n",
    "    'More text to be ignored',\n",
    "    ]"
   ]
  },
  {
   "cell_type": "code",
   "execution_count": 42,
   "metadata": {},
   "outputs": [
    {
     "name": "stdout",
     "output_type": "stream",
     "text": [
      "\n",
      "full_section context\n",
      "{'Break': 'End Section',\n",
      " 'Current Section': 'Top Section',\n",
      " 'Dummy': 'Blank1',\n",
      " 'Event': 'ignored',\n",
      " 'Skipped Lines': [],\n",
      " 'Status': 'Break Triggered'}\n",
      "'Break Triggered'\n",
      "\n",
      "sub_section context\n",
      "{'Break': 'SubSectionStart',\n",
      " 'Current Section': 'Sub-Section',\n",
      " 'Dummy': 'Blank1',\n",
      " 'Event': 'StartSection',\n",
      " 'Skipped Lines': ['Text between sections'],\n",
      " 'Status': 'End of Source'}\n",
      "'End of Source'\n"
     ]
    }
   ],
   "source": [
    "sub_section = Section(\n",
    "    section_name='Sub-Section',\n",
    "    start_section=SectionBreak('StartSection', break_offset='Before',\n",
    "                               name='SubSectionStart'),\n",
    "    end_section=SectionBreak('EndSection', break_offset='After', \n",
    "                             name='SubSectionEnd')\n",
    "    )\n",
    "full_section = Section(\n",
    "    section_name='Top Section',\n",
    "    end_section=SectionBreak('ignored', break_offset='Before', \n",
    "                             name='End Section'),\n",
    "    subsections=sub_section\n",
    "    )\n",
    "a = full_section.read(GENERIC_TEST_TEXT, context={'Dummy': 'Blank1'})\n",
    "print()\n",
    "print('full_section context')\n",
    "pprint(full_section.context)\n",
    "pprint(full_section.scan_status)\n",
    "print()\n",
    "print('sub_section context')\n",
    "pprint(sub_section.context)\n",
    "pprint(sub_section.scan_status)"
   ]
  },
  {
   "cell_type": "markdown",
   "metadata": {},
   "source": [
    "**Context Tests**\n",
    "<style type=\"text/css\">\n",
    ".tg th{font-weight:bold;text-align:center;vertical-align:middle}\n",
    ".tg td{font-weight:normal;text-align:left;vertical-align:top}\n",
    ".rh td{font-weight:bold;text-align:center;vertical-align:middle}\n",
    "</style>\n",
    "\n",
    "<table class=\"tg\">\n",
    "    <thead>\n",
    "        <tr>\n",
    "            <th rowspan=\"2\" text-align=\"center\">Key</th>\n",
    "            <th colspan=\"3\">Top Section</th>\n",
    "            <th colspan=\"3\">Sub-Section</th>\n",
    "        </tr><tr>\n",
    "            <th>Expected Value</th><th>Actual Value</th><th>Test</th>\n",
    "            <th>Expected Value</th><th>Actual Value</th><th>Test</th>\n",
    "        </tr>\n",
    "    </thead>\n",
    "        <tr><td class=\"rh\">Current Section</td>\n",
    "            <td>'Top Section'</td>\n",
    "            <td>'Top Section'</td>\n",
    "            <td><img src=\"../examples/Valid.png\" alt=\"Good\"/></td>\n",
    "            <td>'Sub-Section'</td>\n",
    "            <td>'Sub-Section'</td>\n",
    "            <td><img src=\"../examples/Valid.png\" alt=\"Good\"/></td>\n",
    "        </tr>\n",
    "    <tr><td class=\"rh\">Dummy</td>\n",
    "        <td>'Blank1'</td>  \n",
    "        <td>'Blank1'</td>\n",
    "        <td><img src=\"../examples/Valid.png\" alt=\"Good\"/></td>\n",
    "        <td>'Blank1'</td>  \n",
    "        <td>'Blank1'</td>\n",
    "        <td><img src=\"../examples/Valid.png\" alt=\"Good\"/></td>\n",
    "    </tr>\n",
    "    <tr><td class=\"rh\">Skipped Lines</td>  \n",
    "        <td>[]</td>\n",
    "        <td>[]</td>            \n",
    "        <td><img src=\"../examples/Valid.png\" alt=\"Good\"/></td>\n",
    "        <td>['Text between sections']</td>\n",
    "        <td>['Text between sections']</td>            \n",
    "        <td><img src=\"../examples/Valid.png\" alt=\"Good\"/></td>\n",
    "    </tr>\n",
    "    <tr><td class=\"rh\">Status</td>  \n",
    "        <td>'Break Triggered'</td>\n",
    "        <td>'Break Triggered'</td>            \n",
    "        <td><img src=\"../examples/Valid.png\" alt=\"Good\"/></td>\n",
    "        <td>'End of Source'</td>\n",
    "        <td>'End of Source'</td>            \n",
    "        <td><img src=\"../examples/Valid.png\" alt=\"Good\"/></td>\n",
    "    </tr>\n",
    "    <tr><td class=\"rh\">Break</td>  \n",
    "        <td>'End Section'</td>\n",
    "        <td>'End Section'</td>            \n",
    "        <td><img src=\"../examples/Valid.png\" alt=\"Good\"/></td>\n",
    "        <td>'SubSectionStart'</td>\n",
    "        <td>'SubSectionStart'</td>            \n",
    "        <td><img src=\"../examples/Valid.png\" alt=\"Good\"/></td>\n",
    "    </tr>\n",
    "    <tr><td class=\"rh\">Event</td>  \n",
    "        <td>'ignored'</td>\n",
    "        <td>'ignored'</td>            \n",
    "        <td><img src=\"../examples/Valid.png\" alt=\"Good\"/></td>\n",
    "        <td>'StartSection'</td>\n",
    "        <td>'StartSection'</td>            \n",
    "        <td><img src=\"../examples/Valid.png\" alt=\"Good\"/></td>\n",
    "    </tr>\n",
    "</table>"
   ]
  },
  {
   "cell_type": "markdown",
   "metadata": {},
   "source": [
    "- ***Current Section*** is the name of the section given at the section definition.\n",
    "    - For _full_section_,  `name='End Section'`\n",
    "    - For _sub_section_,   `name='Sub-Section'`\n",
    "- ***Dummy*** is a context element supplied at the time `full_section.read()` was \n",
    "  called. Since it is not one of the standard context items it is just along for \n",
    "  the ride unless a user defined function explicitly modifies it. \n",
    "    - The initially supplied value of ***Dummy*** = _'Blank1'_ is the same for \n",
    "      both _full_section_ and _sub_section_.\n",
    "- ***Skipped Lines*** is the list of unused lines encountered before the beginning \n",
    "  of the section.\n",
    "    - For _full_section_, start_section is not given so ***Skipped Lines*** is \n",
    "      an empty list.\n",
    "    - For _sub_section_, ***Skipped Lines*** is the lines skipped before the \n",
    "      most recent sub-section: ['Text between sections']\n",
    "- ***Status*** is the section state. \n",
    "    - _full_section_ has ended because the `end_section` break has triggered, so\n",
    "      ***Status*** = 'Break Triggered'\n",
    "    - _sub_section_ receives it's source from _full_section_, but \n",
    "      _full_section_ has ended.  _sub_section_ interprets this as and end to \n",
    "      it's source, so ***Status*** = 'End of Source'\n",
    "- ***Break*** is the name of the most recent break triggered while the section is \n",
    "   active.\n",
    "    - The `end_section` break of _full_section_ has triggered.  The name of \n",
    "      this SectionBreak was given as 'End Section', so \n",
    "      ***Break*** = 'End Section'.\n",
    "    - The `end_section` break of _sub_section_ never triggered because it's \n",
    "      source ended first. The most recent section break for _sub_section_ was \n",
    "      the `start_section`, so ***Break*** = 'SubSectionStart'.\n",
    "- ***Event*** is the Trigger specific value resulting from the last break.  For \n",
    "  string based breaks, ***Event*** is the string used to test for the break.\n",
    "    - The `end_section` break of _full_section_ was triggered by the string \n",
    "      'ignored', so ***Event*** = 'ignored'.\n",
    "    - The `start_section` break of _sub_section_ was triggered by the string \n",
    "      'StartSection', so ***Event*** = 'StartSection'."
   ]
  },
  {
   "cell_type": "markdown",
   "metadata": {},
   "source": [
    "**********\n",
    "\n",
    "# DONE TO HERE"
   ]
  },
  {
   "cell_type": "markdown",
   "metadata": {},
   "source": [
    "**********\n",
    "\n",
    "### Initial Section and Sub-Section Definitions"
   ]
  },
  {
   "cell_type": "markdown",
   "metadata": {},
   "source": [
    "- Only definition line is:<br>\n",
    "`subsections=[sub_section]`"
   ]
  },
  {
   "cell_type": "code",
   "execution_count": 50,
   "metadata": {},
   "outputs": [
    {
     "name": "stdout",
     "output_type": "stream",
     "text": [
      "[['Text to be ignored',\n",
      "  'StartSection Name: A',\n",
      "  'EndSection Name: A',\n",
      "  'Text between sections',\n",
      "  'StartSection Name: B',\n",
      "  'EndSection Name: B',\n",
      "  'More text to be ignored']]\n"
     ]
    }
   ],
   "source": [
    "sub_section = Section(\n",
    "    section_name='SubSection',\n",
    "    #start_section=SectionBreak('EndSection', break_offset='Before'),  # Added to use alone\n",
    "    #end_on_first_item=True,\n",
    "    #keep_partial=True,\n",
    "    #end_section=SectionBreak(True)\n",
    "    )\n",
    "\n",
    "full_section = Section(\n",
    "    section_name='Full',\n",
    "    #start_section=SectionBreak('StartSection', break_offset='Before'),\n",
    "    #end_section=SectionBreak('EndSection', break_offset='After'),\n",
    "    subsections=[sub_section]  \n",
    "    )\n",
    "pprint(full_section.read(GENERIC_TEST_TEXT))"
   ]
  },
  {
   "cell_type": "markdown",
   "metadata": {},
   "source": [
    "- ![Good](../examples/Valid.png) Results in all lines in one sub-list\n",
    "\n",
    "<table><thead><th>Expected</th><th>Actual</th></thead>\n",
    "<tr><td><code>\n",
    "[['Text to be ignored',<br>\n",
    "  'StartSection Name: A',\n",
    "  'EndSection Name: A',<br>\n",
    "  'StartSection Name: B',\n",
    "  'EndSection Name: B',<br>\n",
    "  'More text to be ignored']]\n",
    "  </code></td><td><code>\n",
    "  [['Text to be ignored',<br>\n",
    "  'StartSection Name: A',\n",
    "  'EndSection Name: A',<br>\n",
    "  'StartSection Name: B',\n",
    "  'EndSection Name: B',<br>\n",
    "  'More text to be ignored']]\n",
    "  </code></td></tr>\n",
    "</table>\n",
    "\n"
   ]
  },
  {
   "cell_type": "markdown",
   "metadata": {},
   "source": [
    "**********\n",
    "\n",
    "## Section Break options"
   ]
  },
  {
   "cell_type": "markdown",
   "metadata": {},
   "source": [
    "### Add start to Section Definition"
   ]
  },
  {
   "cell_type": "markdown",
   "metadata": {},
   "source": [
    "- Section start **Before** *StartSection*\n",
    "\n",
    "`start_section=SectionBreak('StartSection', break_offset='Before'),`"
   ]
  },
  {
   "cell_type": "code",
   "execution_count": 51,
   "metadata": {},
   "outputs": [
    {
     "name": "stdout",
     "output_type": "stream",
     "text": [
      "[['StartSection Name: A',\n",
      "  'EndSection Name: A',\n",
      "  'Text between sections',\n",
      "  'StartSection Name: B',\n",
      "  'EndSection Name: B',\n",
      "  'More text to be ignored']]\n"
     ]
    }
   ],
   "source": [
    "sub_section = Section(\n",
    "    section_name='SubSection',\n",
    "    #start_section=SectionBreak('EndSection', break_offset='Before'),  # Added to use alone\n",
    "    #end_on_first_item=True,\n",
    "    #keep_partial=True,\n",
    "    #end_section=SectionBreak(True)\n",
    "    )\n",
    "\n",
    "full_section = Section(\n",
    "    section_name='Full',\n",
    "    start_section=SectionBreak('StartSection', break_offset='Before'),\n",
    "    #end_section=SectionBreak('EndSection', break_offset='After'),\n",
    "    subsections=[sub_section] \n",
    "    )\n",
    "pprint(full_section.read(GENERIC_TEST_TEXT))"
   ]
  },
  {
   "cell_type": "markdown",
   "metadata": {},
   "source": [
    "- ![Good](../examples/Valid.png) Includes all lines after first *StartSection* in single sub-list.\n",
    "\n",
    "<table><thead><th>Expected</th><th>Actual</th></thead>\n",
    "<tr><td><code>\n",
    "[['StartSection Name: A',\n",
    "  'EndSection Name: A',<br>\n",
    "  'StartSection Name: B',\n",
    "  'EndSection Name: B',<br>\n",
    "  'More text to be ignored']]\n",
    "  </code></td><td><code>\n",
    "  [['StartSection Name: A',\n",
    "  'EndSection Name: A',<br>\n",
    "  'StartSection Name: B',\n",
    "  'EndSection Name: B',<br>\n",
    "  'More text to be ignored']]\n",
    "  </code></td></tr>\n",
    "</table>\n",
    "\n"
   ]
  },
  {
   "cell_type": "markdown",
   "metadata": {},
   "source": [
    "### Add end to Section Definition"
   ]
  },
  {
   "cell_type": "markdown",
   "metadata": {},
   "source": [
    "- Section start **Before** *StartSection*\n",
    "- Section end **After** *EndSection*\n",
    "\n",
    "```python\n",
    "full_section = Section(section_name='Full',\n",
    "    start_section=SectionBreak('StartSection', break_offset='Before'),\n",
    "    end_section=SectionBreak('EndSection', break_offset='After'),\n",
    "    subsections=[sub_section] \n",
    "    )\n",
    "```"
   ]
  },
  {
   "cell_type": "code",
   "execution_count": 52,
   "metadata": {},
   "outputs": [
    {
     "name": "stdout",
     "output_type": "stream",
     "text": [
      "[['StartSection Name: A', 'EndSection Name: A']]\n"
     ]
    }
   ],
   "source": [
    "sub_section = Section(\n",
    "    section_name='SubSection',\n",
    "    #start_section=SectionBreak('EndSection', break_offset='Before'),  # Added to use alone\n",
    "    #end_on_first_item=True,\n",
    "    #keep_partial=True,\n",
    "    #end_section=SectionBreak(True)\n",
    "    )\n",
    "\n",
    "full_section = Section(\n",
    "    section_name='Full',\n",
    "    start_section=SectionBreak('StartSection', break_offset='Before'),\n",
    "    end_section=SectionBreak('EndSection', break_offset='After'),\n",
    "    subsections=[sub_section] \n",
    "    )\n",
    "pprint(full_section.read(GENERIC_TEST_TEXT))"
   ]
  },
  {
   "cell_type": "markdown",
   "metadata": {},
   "source": [
    "- ![Good](../examples/Valid.png) Includes both lines of first section in single sub-list.\n",
    "\n",
    "<table><thead><th>Expected</th><th>Actual</th></thead>\n",
    "<tr><td><code>\n",
    "[['StartSection Name: A',\n",
    "  'EndSection Name: A']]\n",
    "  </code></td><td><code>\n",
    "  [['StartSection Name: A',\n",
    "  'EndSection Name: A']]\n",
    "  </code></td></tr>\n",
    "</table>\n",
    "\n"
   ]
  },
  {
   "cell_type": "markdown",
   "metadata": {},
   "source": [
    "### Define Muti-Section to Read Both Sections"
   ]
  },
  {
   "cell_type": "markdown",
   "metadata": {},
   "source": [
    "Add end to Section Definition\n",
    "- Section start **Before** *StartSection*\n",
    "- Section end **After** *EndSection*\n",
    "- Simple subsection\n",
    "- Multi Section defines Full Section as Sub Section with no start or end (All lines)\n",
    "\n",
    "```python\n",
    "sub_section = Section(section_name='SubSection')\n",
    "\n",
    "full_section = Section(section_name='Full',\n",
    "    start_section=SectionBreak('StartSection', break_offset='Before'),\n",
    "    end_section=SectionBreak('EndSection', break_offset='After'),\n",
    "    subsections=[sub_section] \n",
    "    )\n",
    "\n",
    "multi_section = Section(\n",
    "    section_name='Multi',\n",
    "    subsections=[full_section] \n",
    "    )\n",
    "```"
   ]
  },
  {
   "cell_type": "code",
   "execution_count": 53,
   "metadata": {},
   "outputs": [
    {
     "name": "stdout",
     "output_type": "stream",
     "text": [
      "[[['StartSection Name: A', 'EndSection Name: A']],\n",
      " [['StartSection Name: B', 'EndSection Name: B']]]\n"
     ]
    }
   ],
   "source": [
    "sub_section = Section(\n",
    "    section_name='SubSection',\n",
    "    #start_section=SectionBreak('EndSection', break_offset='Before'),  # Added to use alone\n",
    "    #end_on_first_item=True,\n",
    "    #keep_partial=True,\n",
    "    #end_section=SectionBreak(True)\n",
    "    )\n",
    "\n",
    "full_section = Section(\n",
    "    section_name='Full',\n",
    "    start_section=SectionBreak('StartSection', break_offset='Before'),\n",
    "    end_section=SectionBreak('EndSection', break_offset='After'),\n",
    "    subsections=[sub_section] \n",
    "    )\n",
    "\n",
    "multi_section = Section(\n",
    "    section_name='Multi',\n",
    "    subsections=[full_section] \n",
    "    )\n",
    "\n",
    "pprint(multi_section.read(GENERIC_TEST_TEXT))"
   ]
  },
  {
   "cell_type": "markdown",
   "metadata": {},
   "source": [
    "- ![Good](../examples/Valid.png)Includes both lines of each section in its own sub-list.\n",
    "- ??? Is this expected???  ![Bad](../examples/error.png)\n",
    "\n",
    "<table><thead><th>Expected</th><th>Actual</th></thead>\n",
    "<tr><td><code></code></td>\n",
    "<td><code>\n",
    "[[['StartSection Name: A', 'EndSection Name: A']],\n",
    " [['StartSection Name: B', 'EndSection Name: B']]]\n",
    "</code></td></tr>\n",
    "</table>"
   ]
  },
  {
   "cell_type": "markdown",
   "metadata": {},
   "source": [
    "### Set Same Start and End Breaks for Section"
   ]
  },
  {
   "cell_type": "markdown",
   "metadata": {},
   "source": [
    "Add end to Section Definition\n",
    "- Section start **Before** *StartSection*\n",
    "- Section end **After** *StartSection*\n",
    "- Simple subsection\n",
    "- Multi Section defines Full Section as Sub Section with no start or end (All lines)\n",
    "\n",
    "```python\n",
    "sub_section = Section(section_name='SubSection')\n",
    "\n",
    "full_section = Section(section_name='Full',\n",
    "    start_section=SectionBreak('StartSection', break_offset='Before'),\n",
    "    end_section=SectionBreak('StartSection', break_offset='Before'),\n",
    "    subsections=[sub_section] \n",
    "    )\n",
    "\n",
    "multi_section = Section(\n",
    "    section_name='Multi',\n",
    "    subsections=[full_section] \n",
    "    )\n",
    "```"
   ]
  },
  {
   "cell_type": "code",
   "execution_count": 54,
   "metadata": {},
   "outputs": [
    {
     "name": "stdout",
     "output_type": "stream",
     "text": [
      "[['StartSection Name: A', 'EndSection Name: A', 'Text between sections'],\n",
      " ['StartSection Name: B', 'EndSection Name: B', 'More text to be ignored']]\n"
     ]
    }
   ],
   "source": [
    "full_section = Section(\n",
    "    section_name='Full',\n",
    "    start_section=SectionBreak('StartSection', break_offset='Before'),\n",
    "    end_section=SectionBreak('StartSection', break_offset='Before')\n",
    "    )\n",
    "\n",
    "multi_section = Section(section_name='Multi',\n",
    "    subsections=[full_section] \n",
    "    )\n",
    "\n",
    "pprint(multi_section.read(GENERIC_TEST_TEXT))"
   ]
  },
  {
   "cell_type": "markdown",
   "metadata": {},
   "source": [
    "- ![Good](../examples/Valid.png) Without SubSection, it works as expected.\n",
    "\n",
    "<table><thead><th>Expected</th><th>Actual</th></thead>\n",
    "<tr><td><code>\n",
    "[['StartSection Name: A', 'EndSection Name: A'],<br>\n",
    " ['StartSection Name: B', 'EndSection Name: B',<br>\n",
    " 'More text to be ignored']]\n",
    "  </code></td><td><code>\n",
    "[['StartSection Name: A', 'EndSection Name: A'],<br>\n",
    " ['StartSection Name: B', 'EndSection Name: B',<br>\n",
    " 'More text to be ignored']]\n",
    "  </code></td></tr>\n",
    "</table>"
   ]
  },
  {
   "cell_type": "code",
   "execution_count": 55,
   "metadata": {},
   "outputs": [
    {
     "name": "stdout",
     "output_type": "stream",
     "text": [
      "[['StartSection Name: A', 'EndSection Name: A', 'Text between sections'],\n",
      " ['StartSection Name: B', 'EndSection Name: B', 'More text to be ignored']]\n"
     ]
    }
   ],
   "source": [
    "sub_section = Section(section_name='SubSection')\n",
    "\n",
    "full_section = Section(section_name='Full',\n",
    "    start_section=SectionBreak('StartSection', break_offset='Before'),\n",
    "    end_section=SectionBreak('StartSection', break_offset='Before')\n",
    "    )\n",
    "\n",
    "multi_section = Section(\n",
    "    section_name='Multi',\n",
    "    subsections=[full_section] \n",
    "    )\n",
    "\n",
    "pprint(multi_section.read(GENERIC_TEST_TEXT))"
   ]
  },
  {
   "cell_type": "code",
   "execution_count": 76,
   "metadata": {},
   "outputs": [
    {
     "name": "stdout",
     "output_type": "stream",
     "text": [
      "[['StartSection Name: A', 'EndSection Name: A', 'Text between sections']]\n"
     ]
    }
   ],
   "source": [
    "sub_section = Section(section_name='SubSection')\n",
    "\n",
    "full_section = Section(section_name='Full',\n",
    "    start_section=SectionBreak('StartSection', break_offset='Before'),\n",
    "    end_section=SectionBreak('StartSection', break_offset='Before'),\n",
    "    subsections=[sub_section] \n",
    "    )\n",
    "\n",
    "source = iter(GENERIC_TEST_TEXT)\n",
    "pprint(full_section.read(source))"
   ]
  },
  {
   "cell_type": "code",
   "execution_count": 58,
   "metadata": {},
   "outputs": [
    {
     "name": "stdout",
     "output_type": "stream",
     "text": [
      "[['Text to be ignored']]\n",
      "[['EndSection Name: A', 'Text between sections']]\n",
      "[['EndSection Name: B', 'More text to be ignored']]\n"
     ]
    }
   ],
   "source": [
    "sub_section = Section(section_name='SubSection')\n",
    "\n",
    "full_section = Section(section_name='Full',\n",
    "    start_section=SectionBreak('StartSection', break_offset='Before'),\n",
    "    end_section=SectionBreak('StartSection', break_offset='Before'),\n",
    "    subsections=[sub_section] \n",
    "    )\n",
    "\n",
    "source = iter(GENERIC_TEST_TEXT)\n",
    "pprint(full_section.read(source, start_search=False))\n",
    "pprint(full_section.read(source, start_search=False))\n",
    "pprint(full_section.read(source, start_search=False))"
   ]
  },
  {
   "cell_type": "code",
   "execution_count": 59,
   "metadata": {},
   "outputs": [
    {
     "name": "stdout",
     "output_type": "stream",
     "text": [
      "[['Text to be ignored']]\n",
      "[['StartSection Name: B', 'EndSection Name: B', 'More text to be ignored']]\n",
      "[]\n"
     ]
    }
   ],
   "source": [
    "sub_section = Section(section_name='SubSection')\n",
    "\n",
    "full_section = Section(section_name='Full',\n",
    "    start_section=SectionBreak('StartSection', break_offset='Before'),\n",
    "    end_section=SectionBreak('StartSection', break_offset='Before'),\n",
    "    subsections=[sub_section] \n",
    "    )\n",
    "\n",
    "source = iter(GENERIC_TEST_TEXT)\n",
    "pprint(full_section.read(source, start_search=False))\n",
    "pprint(full_section.read(source))\n",
    "pprint(full_section.read(source, start_search=False))"
   ]
  },
  {
   "cell_type": "code",
   "execution_count": 60,
   "metadata": {},
   "outputs": [
    {
     "name": "stdout",
     "output_type": "stream",
     "text": [
      "[['Text to be ignored']]\n",
      "[]\n",
      "[['EndSection Name: B', 'More text to be ignored']]\n"
     ]
    }
   ],
   "source": [
    "sub_section = Section(section_name='SubSection',end_on_first_item=True)\n",
    "\n",
    "full_section = Section(section_name='Full',\n",
    "    start_section=SectionBreak('StartSection', break_offset='Before'),\n",
    "    end_section=SectionBreak('StartSection', break_offset='Before'),\n",
    "    subsections=[sub_section],end_on_first_item=True\n",
    "    )\n",
    "\n",
    "source = iter(GENERIC_TEST_TEXT)\n",
    "pprint(full_section.read(source, start_search=False))\n",
    "pprint(full_section.read(source))\n",
    "pprint(full_section.read(source, start_search=False))"
   ]
  },
  {
   "cell_type": "code",
   "execution_count": 61,
   "metadata": {},
   "outputs": [
    {
     "name": "stdout",
     "output_type": "stream",
     "text": [
      "[[['StartSection Name: A', 'EndSection Name: A', 'Text between sections']],\n",
      " [['StartSection Name: B', 'EndSection Name: B', 'More text to be ignored']]]\n"
     ]
    }
   ],
   "source": [
    "sub_section = Section(section_name='SubSection')\n",
    "\n",
    "full_section = Section(section_name='Full',\n",
    "    start_section=SectionBreak('StartSection', break_offset='Before'),\n",
    "    end_section=SectionBreak('StartSection', break_offset='Before'),\n",
    "    subsections=[sub_section] \n",
    "    )\n",
    "\n",
    "multi_section = Section(\n",
    "    section_name='Multi',\n",
    "    subsections=[full_section] \n",
    "    )\n",
    "\n",
    "pprint(multi_section.read(GENERIC_TEST_TEXT))"
   ]
  },
  {
   "cell_type": "markdown",
   "metadata": {},
   "source": [
    "- ![Bad](../examples/error.png) Appears to work now\n",
    "\n",
    "<table><thead><th>Expected</th><th>Actual</th></thead>\n",
    "<tr><td><code></code></td>\n",
    "<td><code></code></td></tr>\n",
    "</table>"
   ]
  },
  {
   "cell_type": "markdown",
   "metadata": {},
   "source": [
    "**********\n",
    "\n",
    "## SubSection Break Options"
   ]
  },
  {
   "cell_type": "markdown",
   "metadata": {},
   "source": [
    "### Add *End on First* to Sub-Section"
   ]
  },
  {
   "cell_type": "markdown",
   "metadata": {},
   "source": [
    "- Section start **Before** *StartSection*\n",
    "- Section end **After** *EndSection*\n",
    "- SubSection **End On First**\n",
    "\n",
    "```python\n",
    "sub_section = Section(section_name='SubSection',\n",
    "    end_on_first_item=True,\n",
    "    )\n",
    "\n",
    "full_section = Section(section_name='Full',\n",
    "    start_section=SectionBreak('StartSection', break_offset='Before'),\n",
    "    end_section=SectionBreak('EndSection', break_offset='After'),\n",
    "    subsections=[sub_section] \n",
    "    )\n",
    "```"
   ]
  },
  {
   "cell_type": "code",
   "execution_count": 62,
   "metadata": {},
   "outputs": [
    {
     "name": "stdout",
     "output_type": "stream",
     "text": [
      "[['StartSection Name: A', 'EndSection Name: A']]\n"
     ]
    }
   ],
   "source": [
    "sub_section = Section(\n",
    "    section_name='SubSection',\n",
    "    #start_section=SectionBreak('StartSection', break_offset='After')\n",
    "    end_on_first_item=True,\n",
    "    #keep_partial=True,\n",
    "    #end_section=SectionBreak(True)\n",
    "    )\n",
    "\n",
    "full_section = Section(\n",
    "    section_name='Full',\n",
    "    start_section=SectionBreak('StartSection', break_offset='Before'),\n",
    "    end_section=SectionBreak('EndSection', break_offset='After'),\n",
    "    subsections=[sub_section] \n",
    "    )\n",
    "\n",
    "pprint(full_section.read(GENERIC_TEST_TEXT))"
   ]
  },
  {
   "cell_type": "markdown",
   "metadata": {},
   "source": [
    "- ![Good](../examples/Valid.png) Results in `[['StartSection Name: A', 'EndSection Name: A']]`.\n",
    "\n",
    "<table><thead><th>Expected</th><th>Actual</th></thead>\n",
    "<tr><td><code>[['StartSection Name: A', 'EndSection Name: A']]</code></td>\n",
    "<td><code>[['StartSection Name: A', 'EndSection Name: A']]</code></td></tr>\n",
    "</table>"
   ]
  },
  {
   "cell_type": "markdown",
   "metadata": {},
   "source": [
    "### Add *End* as **True** to Sub-Section"
   ]
  },
  {
   "cell_type": "markdown",
   "metadata": {},
   "source": [
    "- Section start **Before** *StartSection*\n",
    "- Section end **After** *EndSection*\n",
    "- SubSection end is **True**  Should be the same as **End On First**\n",
    "\n",
    "```python\n",
    "sub_section = Section(section_name='SubSection',\n",
    "    end_section=SectionBreak(True)\n",
    "    )\n",
    "\n",
    "full_section = Section(section_name='Full',\n",
    "    start_section=SectionBreak('StartSection', break_offset='Before'),\n",
    "    end_section=SectionBreak('EndSection', break_offset='After'),\n",
    "    subsections=[sub_section] \n",
    "    )\n",
    "```"
   ]
  },
  {
   "cell_type": "code",
   "execution_count": 63,
   "metadata": {},
   "outputs": [
    {
     "name": "stdout",
     "output_type": "stream",
     "text": [
      "[['StartSection Name: A']]\n"
     ]
    }
   ],
   "source": [
    "sub_section = Section(\n",
    "    section_name='SubSection',\n",
    "    #start_section=SectionBreak('StartSection', break_offset='After')\n",
    "    #end_on_first_item=True,\n",
    "    #keep_partial=True,\n",
    "    end_section=SectionBreak(True)\n",
    "    )\n",
    "\n",
    "full_section = Section(\n",
    "    section_name='Full',\n",
    "    start_section=SectionBreak('StartSection', break_offset='Before'),\n",
    "    end_section=SectionBreak('EndSection', break_offset='After'),\n",
    "    subsections=[sub_section] \n",
    "    )\n",
    "\n",
    "pprint(full_section.read(GENERIC_TEST_TEXT))"
   ]
  },
  {
   "cell_type": "markdown",
   "metadata": {},
   "source": [
    "#### What should `end_section=SectionBreak(True)` result in?\n",
    "- ![Good](../examples/Valid.png) Results in `['StartSection Name: A'], []`\n",
    "- ??? What is expected??? ![Bad](../examples/error.png)\n",
    "  \n",
    "<table><thead><th>Expected</th><th>Actual</th></thead>\n",
    "<tr><td><code></code></td>\n",
    "<td><code>[['StartSection Name: A']]</code></td></tr>\n",
    "</table>"
   ]
  },
  {
   "cell_type": "markdown",
   "metadata": {},
   "source": [
    "### Add *Start* to Sub-Section"
   ]
  },
  {
   "cell_type": "markdown",
   "metadata": {},
   "source": [
    "- Section start **Before** *StartSection*\n",
    "- Section end **After** *EndSection*\n",
    "- SubSection start **Before** *EndSection*\n",
    "\n",
    "```python\n",
    "sub_section = Section(section_name='SubSection',\n",
    "    start_section=SectionBreak('EndSection', break_offset='Before')\n",
    "    )\n",
    "\n",
    "full_section = Section(section_name='Full',\n",
    "    start_section=SectionBreak('StartSection', break_offset='Before'),\n",
    "    end_section=SectionBreak('EndSection', break_offset='After'),\n",
    "    subsections=[sub_section] \n",
    "    )\n",
    "```"
   ]
  },
  {
   "cell_type": "code",
   "execution_count": 64,
   "metadata": {},
   "outputs": [
    {
     "name": "stdout",
     "output_type": "stream",
     "text": [
      "[]\n"
     ]
    }
   ],
   "source": [
    "sub_section = Section(\n",
    "    section_name='SubSection',\n",
    "    start_section=SectionBreak('EndSection', break_offset='Before')\n",
    "    #end_on_first_item=True,\n",
    "    #keep_partial=True,\n",
    "    #end_section=SectionBreak(True)\n",
    "    )\n",
    "\n",
    "full_section = Section(\n",
    "    section_name='Full',\n",
    "    start_section=SectionBreak('StartSection', break_offset='Before'),\n",
    "    end_section=SectionBreak('EndSection', break_offset='After'),\n",
    "    subsections=[sub_section] \n",
    "    )\n",
    "\n",
    "pprint(full_section.read(GENERIC_TEST_TEXT))"
   ]
  },
  {
   "cell_type": "markdown",
   "metadata": {},
   "source": [
    "- ![Bad](../examples/error.png) Results in blank sub-list.\n",
    "<table><thead><th>Expected</th><th>Actual</th></thead>\n",
    "<tr><td><code></code></td>\n",
    "<td><code>[[]]</code></td></tr>\n",
    "</table>"
   ]
  },
  {
   "cell_type": "markdown",
   "metadata": {},
   "source": [
    "### Change Start Sub-Section to **After**"
   ]
  },
  {
   "cell_type": "markdown",
   "metadata": {},
   "source": [
    "- Section start **Before** *StartSection*\n",
    "- Section end **After** *EndSection*\n",
    "- SubSection start **Before** *EndSection*\n",
    "\n",
    "```python\n",
    "sub_section = Section(section_name='SubSection',\n",
    "    start_section=SectionBreak('EndSection', break_offset='Before')\n",
    "    )\n",
    "\n",
    "full_section = Section(section_name='Full',\n",
    "    start_section=SectionBreak('StartSection', break_offset='Before'),\n",
    "    end_section=SectionBreak('EndSection', break_offset='After'),\n",
    "    subsections=[sub_section] \n",
    "    )\n",
    "```"
   ]
  },
  {
   "cell_type": "code",
   "execution_count": 65,
   "metadata": {},
   "outputs": [
    {
     "name": "stdout",
     "output_type": "stream",
     "text": [
      "[]\n"
     ]
    }
   ],
   "source": [
    "sub_section = Section(\n",
    "    section_name='SubSection',\n",
    "    start_section=SectionBreak('StartSection', break_offset='After')\n",
    "    #end_on_first_item=True,\n",
    "    #keep_partial=True,\n",
    "    #end_section=SectionBreak(True)\n",
    "    )\n",
    "\n",
    "full_section = Section(\n",
    "    section_name='Full',\n",
    "    start_section=SectionBreak('StartSection', break_offset='Before'),\n",
    "    end_section=SectionBreak('EndSection', break_offset='After'),\n",
    "    subsections=[sub_section] \n",
    "    )\n",
    "\n",
    "pprint(full_section.read(GENERIC_TEST_TEXT))"
   ]
  },
  {
   "cell_type": "markdown",
   "metadata": {},
   "source": [
    "- ![Bad](../examples/error.png) Results in blank sub-list.\n",
    "<table><thead><th>Expected</th><th>Actual</th></thead>\n",
    "<tr><td><code></code></td>\n",
    "<td><code>[[]]</code></td></tr>\n",
    "</table>"
   ]
  },
  {
   "cell_type": "markdown",
   "metadata": {},
   "source": [
    "### Add start to SubSection Definition\n",
    "> `start_section=SectionBreak('EndSection', break_offset='Before')`"
   ]
  },
  {
   "cell_type": "code",
   "execution_count": 66,
   "metadata": {},
   "outputs": [
    {
     "name": "stdout",
     "output_type": "stream",
     "text": [
      "[['EndSection Name: A',\n",
      "  'Text between sections',\n",
      "  'StartSection Name: B',\n",
      "  'EndSection Name: B',\n",
      "  'More text to be ignored']]\n"
     ]
    }
   ],
   "source": [
    "sub_section = Section(\n",
    "    section_name='SubSection',\n",
    "    start_section=SectionBreak('EndSection', break_offset='Before'),  # Added to use alone\n",
    "    #end_on_first_item=True,\n",
    "    #keep_partial=True,\n",
    "    #end_section=SectionBreak(True)\n",
    "    )\n",
    "\n",
    "full_section = Section(\n",
    "    section_name='Full',\n",
    "    #start_section=SectionBreak('StartSection', break_offset='Before'),\n",
    "    #end_section=SectionBreak('EndSection', break_offset='After'),\n",
    "    subsections=[sub_section] \n",
    "    )\n",
    "pprint(full_section.read(GENERIC_TEST_TEXT))"
   ]
  },
  {
   "cell_type": "markdown",
   "metadata": {},
   "source": [
    "- ![Bad](../examples/Error.png) - ??? Is this incorrect or is this expected???\n",
    "  \n",
    "<table><thead><th>Expected</th><th>Actual</th></thead>\n",
    "<tr><td><code></code></td>\n",
    "<td><code>\n",
    "[['EndSection Name: A',<br>\n",
    "  'StartSection Name: B',\n",
    "  'EndSection Name: B',<br>\n",
    "  'More text to be ignored']]\n",
    "  </code></td></tr>\n",
    "</table>"
   ]
  },
  {
   "cell_type": "markdown",
   "metadata": {},
   "source": [
    "### Add *Start After* to Section Definition\n",
    "> `start_section=SectionBreak('StartSection', break_offset='After')`"
   ]
  },
  {
   "cell_type": "code",
   "execution_count": 67,
   "metadata": {},
   "outputs": [
    {
     "name": "stdout",
     "output_type": "stream",
     "text": [
      "[['EndSection Name: A',\n",
      "  'Text between sections',\n",
      "  'StartSection Name: B',\n",
      "  'EndSection Name: B',\n",
      "  'More text to be ignored']]\n"
     ]
    }
   ],
   "source": [
    "sub_section = Section(\n",
    "    section_name='SubSection',\n",
    "    #start_section=SectionBreak('EndSection', break_offset='Before'),  # Added to use alone\n",
    "    #end_on_first_item=True,\n",
    "    #keep_partial=True,\n",
    "    #end_section=SectionBreak(True)\n",
    "    )\n",
    "\n",
    "full_section = Section(\n",
    "    section_name='Full',\n",
    "    start_section=SectionBreak('StartSection', break_offset='After'),\n",
    "    #end_section=SectionBreak('EndSection', break_offset='After'),\n",
    "    subsections=[sub_section]  \n",
    "    )\n",
    "pprint(full_section.read(GENERIC_TEST_TEXT))"
   ]
  },
  {
   "cell_type": "markdown",
   "metadata": {
    "notebookRunGroups": {
     "groupValue": "2"
    }
   },
   "source": [
    "- ![Good](../examples/Valid.png) Results in one line section\n",
    "- ![Bad](../examples/Error.png) - ??? Is this incorrect or is this expected???\n",
    "  \n",
    "<table><thead><th>Expected</th><th>Actual</th></thead>\n",
    "<tr><td><code></code></td>\n",
    "<td><code>\n",
    "[['EndSection Name: A',\n",
    "  'StartSection Name: B',\n",
    "  'EndSection Name: B',\n",
    "  'More text to be ignored']]\n",
    "  </code></td></tr>\n",
    "</table>"
   ]
  },
  {
   "cell_type": "markdown",
   "metadata": {},
   "source": [
    "### Add *Start After StartSection* to Section Definition and *Start Before End Section* to SubSection Definition\n",
    "> **Section Definition**<br> \n",
    "> `start_section=SectionBreak('StartSection', break_offset='After')`\n",
    "> \n",
    "> **SubSection Definition**<br>\n",
    "> `start_section=SectionBreak('EndSection', break_offset='Before')`\n",
    "    "
   ]
  },
  {
   "cell_type": "code",
   "execution_count": 68,
   "metadata": {},
   "outputs": [
    {
     "name": "stdout",
     "output_type": "stream",
     "text": [
      "[['EndSection Name: A',\n",
      "  'Text between sections',\n",
      "  'StartSection Name: B',\n",
      "  'EndSection Name: B',\n",
      "  'More text to be ignored']]\n"
     ]
    }
   ],
   "source": [
    "sub_section = Section(\n",
    "    section_name='SubSection',\n",
    "    start_section=SectionBreak('EndSection', break_offset='Before'),  # Added to use alone\n",
    "    #end_on_first_item=True,\n",
    "    #keep_partial=True,\n",
    "    #end_section=SectionBreak(True)\n",
    "    )\n",
    "\n",
    "full_section = Section(\n",
    "    section_name='Full',\n",
    "    start_section=SectionBreak('StartSection', break_offset='After'),\n",
    "    #end_section=SectionBreak('EndSection', break_offset='After'),\n",
    "    subsections=[sub_section]  \n",
    "    )\n",
    "pprint(full_section.read(GENERIC_TEST_TEXT))"
   ]
  },
  {
   "cell_type": "markdown",
   "metadata": {},
   "source": [
    "- ![Bad](../examples/error.png) - ??? Is this incorrect or is this expected???\n",
    "  \n",
    "<table><thead><th>Expected</th><th>Actual</th></thead>\n",
    "<tr><td><code></code></td>\n",
    "<td><code>\n",
    "[['EndSection Name: A',\n",
    "  'StartSection Name: B',\n",
    "  'EndSection Name: B',\n",
    "  'More text to be ignored']]\n",
    "  </code></td></tr>\n",
    "</table>"
   ]
  },
  {
   "cell_type": "markdown",
   "metadata": {},
   "source": [
    "### Add *Start After StartSection* to Section Definition and *Start Before End Section* to SubSection Definition and set *End On First Line* for SubSection\n",
    "> **Section Definition**<br> \n",
    "> `start_section=SectionBreak('StartSection', break_offset='After')`\n",
    "> \n",
    "> **SubSection Definition**<br>\n",
    "> `start_section=SectionBreak('EndSection', break_offset='Before'),`\n",
    "> `end_on_first_item=True,`\n",
    "    "
   ]
  },
  {
   "cell_type": "code",
   "execution_count": 69,
   "metadata": {},
   "outputs": [
    {
     "name": "stdout",
     "output_type": "stream",
     "text": [
      "[['EndSection Name: A',\n",
      "  'Text between sections',\n",
      "  'StartSection Name: B',\n",
      "  'EndSection Name: B',\n",
      "  'More text to be ignored']]\n"
     ]
    }
   ],
   "source": [
    "sub_section = Section(\n",
    "    section_name='SubSection',\n",
    "    start_section=SectionBreak('EndSection', break_offset='Before'),  # Added to use alone\n",
    "    end_on_first_item=True,\n",
    "    #keep_partial=True,\n",
    "    #end_section=SectionBreak(True)\n",
    "    )\n",
    "\n",
    "full_section = Section(\n",
    "    section_name='Full',\n",
    "    start_section=SectionBreak('StartSection', break_offset='After'),\n",
    "    #end_section=SectionBreak('EndSection', break_offset='After'),\n",
    "    subsections=[sub_section]  \n",
    "    )\n",
    "pprint(full_section.read(GENERIC_TEST_TEXT))"
   ]
  },
  {
   "cell_type": "markdown",
   "metadata": {},
   "source": [
    "- ![Bad](../examples/Error.png) - ??? Is this incorrect or is this expected???\n",
    "  \n",
    "<table><thead><th>Expected</th><th>Actual</th></thead>\n",
    "<tr><td><code></code></td>\n",
    "<td><code>\n",
    "[['EndSection Name: A',\n",
    "  'StartSection Name: B',\n",
    "  'EndSection Name: B',\n",
    "  'More text to be ignored']]\n",
    "  </code></td></tr>\n",
    "</table>"
   ]
  },
  {
   "cell_type": "markdown",
   "metadata": {},
   "source": [
    "### Add *Start After StartSection* to Section Definition, and for SubSection Definition, set *Start* to  *Before EndSection* and *End* to *`True` (Always Break)*\n",
    "> **Section Definition**<br> \n",
    "> `start_section=SectionBreak('StartSection', break_offset='After')`\n",
    "> \n",
    "> **SubSection Definition**<br>\n",
    "> `start_section=SectionBreak('EndSection', break_offset='Before'),`\n",
    "> `end_section=SectionBreak(True),`\n",
    "    "
   ]
  },
  {
   "cell_type": "code",
   "execution_count": 70,
   "metadata": {},
   "outputs": [
    {
     "name": "stdout",
     "output_type": "stream",
     "text": [
      "[['EndSection Name: A'], ['EndSection Name: B']]\n"
     ]
    }
   ],
   "source": [
    "sub_section = Section(\n",
    "    section_name='SubSection',\n",
    "    start_section=SectionBreak('EndSection', break_offset='Before'),  # Added to use alone\n",
    "    #end_on_first_item=True,\n",
    "    #keep_partial=True,\n",
    "    end_section=SectionBreak(True)\n",
    "    )\n",
    "\n",
    "full_section = Section(\n",
    "    section_name='Full',\n",
    "    start_section=SectionBreak('StartSection', break_offset='After'),\n",
    "    #end_section=SectionBreak('EndSection', break_offset='After'),\n",
    "    subsections=[sub_section]  \n",
    "    )\n",
    "pprint(full_section.read(GENERIC_TEST_TEXT))"
   ]
  },
  {
   "cell_type": "markdown",
   "metadata": {},
   "source": [
    "- ![Good](../examples/Valid.png) Results in one line section\n",
    "- ![Bad](../examples/Error.png) - ??? Is this incorrect or is this expected???\n",
    "  \n",
    "<table><thead><th>Expected</th><th>Actual</th></thead>\n",
    "<tr><td><code></code></td>\n",
    "<td><code>\n",
    "[['EndSection Name: A'], ['EndSection Name: B'], []]\n",
    "  </code></td></tr>\n",
    "</table>"
   ]
  },
  {
   "cell_type": "markdown",
   "metadata": {},
   "source": [
    "### Add *Start After StartSection* and *End Before EndSection* to Section Definition, and for SubSection Definition, set *Start* to  *Before EndSection* and *End* to *`True` (Always Break)*\n",
    "> **Section Definition**<br> \n",
    "> `start_section=SectionBreak('StartSection', break_offset='After'),`\n",
    "> `end_section=SectionBreak('EndSection', break_offset='After'),`\n",
    "    \n",
    "> \n",
    "> **SubSection Definition**<br>\n",
    "> `start_section=SectionBreak('EndSection', break_offset='Before'),`\n",
    "> `end_section=SectionBreak(True),`\n",
    "    "
   ]
  },
  {
   "cell_type": "code",
   "execution_count": 71,
   "metadata": {},
   "outputs": [
    {
     "name": "stdout",
     "output_type": "stream",
     "text": [
      "[['EndSection Name: A']]\n"
     ]
    }
   ],
   "source": [
    "sub_section = Section(\n",
    "    section_name='SubSection',\n",
    "    start_section=SectionBreak('EndSection', break_offset='Before'),  # Added to use alone\n",
    "    #end_on_first_item=True,\n",
    "    #keep_partial=True,\n",
    "    end_section=SectionBreak(True)\n",
    "    )\n",
    "\n",
    "full_section = Section(\n",
    "    section_name='Full',\n",
    "    start_section=SectionBreak('StartSection', break_offset='After'),\n",
    "    end_section=SectionBreak('EndSection', break_offset='After'),\n",
    "    subsections=[sub_section] \n",
    "    )\n",
    "pprint(full_section.read(GENERIC_TEST_TEXT))"
   ]
  },
  {
   "cell_type": "markdown",
   "metadata": {},
   "source": [
    "- ![Good](../examples/Valid.png) Results in one line section\n",
    "- ![Bad](../examples/Error.png) - ??? Is this incorrect or is this expected???\n",
    "  \n",
    "<table><thead><th>Expected</th><th>Actual</th></thead>\n",
    "<tr><td><code></code></td>\n",
    "<td><code>\n",
    "[['EndSection Name: A']]\n",
    "  </code></td></tr>\n",
    "</table>"
   ]
  },
  {
   "cell_type": "markdown",
   "metadata": {},
   "source": [
    "### Add *Start __Before__ StartSection* and *End Before EndSection* to Section Definition, and for SubSection Definition, set *Start* to  *Before EndSection* and *End* to *`True` (Always Break)*\n",
    "> **Section Definition**<br> \n",
    "> `start_section=SectionBreak('StartSection', break_offset='Before'),`\n",
    "> `end_section=SectionBreak('EndSection', break_offset='After'),`\n",
    "    \n",
    "> \n",
    "> **SubSection Definition**<br>\n",
    "> `start_section=SectionBreak('EndSection', break_offset='Before'),`\n",
    "> `end_section=SectionBreak(True),`\n",
    "    "
   ]
  },
  {
   "cell_type": "code",
   "execution_count": 72,
   "metadata": {},
   "outputs": [
    {
     "name": "stdout",
     "output_type": "stream",
     "text": [
      "[]\n"
     ]
    }
   ],
   "source": [
    "sub_section = Section(\n",
    "    section_name='SubSection',\n",
    "    start_section=SectionBreak('EndSection', break_offset='Before'),  # Added to use alone\n",
    "    #end_on_first_item=True,\n",
    "    #keep_partial=True,\n",
    "    end_section=SectionBreak(True)\n",
    "    )\n",
    "\n",
    "full_section = Section(\n",
    "    section_name='Full',\n",
    "    start_section=SectionBreak('StartSection', break_offset='Before'),\n",
    "    end_section=SectionBreak('EndSection', break_offset='After'),\n",
    "    subsections=[sub_section]  \n",
    "    )\n",
    "pprint(full_section.read(GENERIC_TEST_TEXT))"
   ]
  },
  {
   "cell_type": "markdown",
   "metadata": {},
   "source": [
    "- ![Bad](../examples/Error.png) Results in empty list of lists\n",
    "- ??? Is this incorrect or is this expected???\n",
    "  \n",
    "<table><thead><th>Expected</th><th>Actual</th></thead>\n",
    "<tr><td><code></code></td>\n",
    "<td><code>[[]]</code></td></tr>\n",
    "</table>"
   ]
  },
  {
   "cell_type": "markdown",
   "metadata": {},
   "source": [
    "### Add *Start __Before__ StartSection* and *End Before EndSection* to Section Definition, and for SubSection Definition, set *Start* to *Before EndSection*, *End* to *`True` (Always Break)* and *Keep Partial* to *`True`*\n",
    "> **Section Definition**<br> \n",
    "> `start_section=SectionBreak('StartSection', break_offset='Before'),`\n",
    "> `end_section=SectionBreak('EndSection', break_offset='After'),`    \n",
    "> \n",
    "> **SubSection Definition**<br>\n",
    "> `start_section=SectionBreak('EndSection', break_offset='Before'),`<br>\n",
    "> `end_section=SectionBreak(True),`<br>\n",
    "> `keep_partial=True,`\n",
    "    "
   ]
  },
  {
   "cell_type": "code",
   "execution_count": 73,
   "metadata": {},
   "outputs": [
    {
     "name": "stdout",
     "output_type": "stream",
     "text": [
      "[]\n"
     ]
    }
   ],
   "source": [
    "sub_section = Section(\n",
    "    section_name='SubSection',\n",
    "    start_section=SectionBreak('EndSection', break_offset='Before'),  # Added to use alone\n",
    "    #end_on_first_item=True,\n",
    "    keep_partial=True,\n",
    "    end_section=SectionBreak(True)\n",
    "    )\n",
    "\n",
    "full_section = Section(\n",
    "    section_name='Full',\n",
    "    start_section=SectionBreak('StartSection', break_offset='Before'),\n",
    "    end_section=SectionBreak('EndSection', break_offset='After'),\n",
    "    subsections=[sub_section]  \n",
    "    )\n",
    "pprint(full_section.read(GENERIC_TEST_TEXT))"
   ]
  },
  {
   "cell_type": "markdown",
   "metadata": {},
   "source": [
    "- ![Bad](../examples/Error.png) Results in empty list of lists\n",
    "- ??? Is this incorrect or is this expected???\n",
    "  \n",
    "<table><thead><th>Expected</th><th>Actual</th></thead>\n",
    "<tr><td><code></code></td>\n",
    "<td><code>[[]]</code></td></tr>\n",
    "</table>"
   ]
  },
  {
   "cell_type": "markdown",
   "metadata": {},
   "source": [
    "### Add *Start __Before__ StartSection* and *End Before EndSection* to Section Definition, and don't set any SectionBreaks for SubSection Definition, \n",
    "> **Section Definition**<br> \n",
    "> `start_section=SectionBreak('StartSection', break_offset='Before'),`\n",
    "> `end_section=SectionBreak('EndSection', break_offset='After'),`    \n",
    "    "
   ]
  },
  {
   "cell_type": "code",
   "execution_count": 74,
   "metadata": {},
   "outputs": [
    {
     "name": "stdout",
     "output_type": "stream",
     "text": [
      "[['StartSection Name: A', 'EndSection Name: A']]\n"
     ]
    }
   ],
   "source": [
    "sub_section = Section(\n",
    "    section_name='SubSection',\n",
    "    #start_section=SectionBreak('EndSection', break_offset='Before'),  # Added to use alone\n",
    "    #end_on_first_item=True,\n",
    "    #keep_partial=True,\n",
    "    #end_section=SectionBreak(True)\n",
    "    )\n",
    "\n",
    "full_section = Section(\n",
    "    section_name='Full',\n",
    "    start_section=SectionBreak('StartSection', break_offset='Before'),\n",
    "    end_section=SectionBreak('EndSection', break_offset='After'),\n",
    "    subsections=[sub_section]  \n",
    "    )\n",
    "pprint(full_section.read(GENERIC_TEST_TEXT))"
   ]
  },
  {
   "cell_type": "markdown",
   "metadata": {},
   "source": [
    "- ![Good](../examples/Valid.png) Results in Two line section\n",
    "\n",
    "- ??? Is this incorrect or is this expected???\n",
    "  \n",
    "<table><thead><th>Expected</th><th>Actual</th></thead>\n",
    "<tr><td><code>[['StartSection Name: A', 'EndSection Name: A']]</code></td>\n",
    "<td><code>[['StartSection Name: A', 'EndSection Name: A']]</code></td></tr>\n",
    "</table>"
   ]
  },
  {
   "cell_type": "markdown",
   "metadata": {},
   "source": [
    "### Add *Start __After__ StartSection* and *End Before EndSection* to Section Definition, and don't set any SectionBreaks for SubSection Definition, \n",
    "> **Section Definition**<br> \n",
    "> `start_section=SectionBreak('StartSection', break_offset='After'),`\n",
    "> `end_section=SectionBreak('EndSection', break_offset='After'),`    \n",
    "    "
   ]
  },
  {
   "cell_type": "code",
   "execution_count": 75,
   "metadata": {},
   "outputs": [
    {
     "name": "stdout",
     "output_type": "stream",
     "text": [
      "[['EndSection Name: A',\n",
      "  'Text between sections',\n",
      "  'StartSection Name: B',\n",
      "  'EndSection Name: B']]\n"
     ]
    }
   ],
   "source": [
    "sub_section = Section(\n",
    "    section_name='SubSection',\n",
    "    #start_section=SectionBreak('EndSection', break_offset='Before'),  # Added to use alone\n",
    "    #end_on_first_item=True,\n",
    "    #keep_partial=True,\n",
    "    #end_section=SectionBreak(True)\n",
    "    )\n",
    "\n",
    "full_section = Section(\n",
    "    section_name='Full',\n",
    "    start_section=SectionBreak('StartSection', break_offset='After'),\n",
    "    end_section=SectionBreak('EndSection', break_offset='After'),\n",
    "    subsections=[sub_section]  \n",
    "    )\n",
    "pprint(full_section.read(GENERIC_TEST_TEXT))"
   ]
  },
  {
   "cell_type": "markdown",
   "metadata": {},
   "source": [
    "- ![Good](../examples/Valid.png) Results in one line section\n",
    "  \n",
    "<table><thead><th>Expected</th><th>Actual</th></thead>\n",
    "<tr><td><code>[['EndSection Name: A']]</code></td>\n",
    "<td><code>[['EndSection Name: A']]</code></td></tr>\n",
    "</table>"
   ]
  },
  {
   "cell_type": "markdown",
   "metadata": {},
   "source": [
    "## Three line sections"
   ]
  },
  {
   "cell_type": "code",
   "execution_count": null,
   "metadata": {},
   "outputs": [],
   "source": [
    "GENERIC_TEST_TEXT2 = [\n",
    "    'Text to be ignored',\n",
    "    'StartSection A',\n",
    "    'MiddleSection A',\n",
    "    'EndSection A',\n",
    "    'StartSection B',\n",
    "    'MiddleSection B',\n",
    "    'EndSection B',\n",
    "    'StartSection C',\n",
    "    'MiddleSection C',\n",
    "    'EndSection C',\n",
    "    'Even more text to be ignored', \n",
    "    ]"
   ]
  },
  {
   "cell_type": "markdown",
   "metadata": {},
   "source": [
    "#### Single line subsection definitions "
   ]
  },
  {
   "cell_type": "code",
   "execution_count": null,
   "metadata": {},
   "outputs": [],
   "source": [
    "start_sub_section = Section(\n",
    "    section_name='StartSubSection',\n",
    "    start_section=SectionBreak('StartSection', break_offset='Before'),\n",
    "    end_section=SectionBreak(True, break_offset='Before')\n",
    "    )\n",
    "\n",
    "middle_sub_section = Section(\n",
    "    section_name='MiddleSubSection',\n",
    "    start_section=SectionBreak('MiddleSection', break_offset='Before'),\n",
    "    end_section=SectionBreak(True, break_offset='Before')\n",
    "    )\n",
    "\n",
    "end_sub_section = Section(\n",
    "    section_name='EndSubSection',\n",
    "    start_section=SectionBreak('EndSection', break_offset='Before'),\n",
    "    end_section=SectionBreak(True, break_offset='Before')\n",
    "    )"
   ]
  },
  {
   "cell_type": "markdown",
   "metadata": {},
   "source": [
    "#### Defining ***three_part_section*** \n",
    "- Contains an ending break:\n",
    "    > `end_section=SectionBreak('ignored', break_offset='Before')`.\n",
    "\n",
    "- Contains 3 subsections:\n",
    "    > `[start_sub_section, middle_sub_section, end_sub_section]`"
   ]
  },
  {
   "cell_type": "code",
   "execution_count": null,
   "metadata": {},
   "outputs": [
    {
     "name": "stdout",
     "output_type": "stream",
     "text": [
      "[[['StartSection A'], ['MiddleSection A'], ['EndSection A']],\n",
      " [['StartSection B'], ['MiddleSection B'], ['EndSection B']],\n",
      " [['StartSection C'], ['MiddleSection C'], ['EndSection C']]]\n"
     ]
    }
   ],
   "source": [
    "three_part_section = Section(\n",
    "    section_name='Top Section',\n",
    "    end_section=SectionBreak('ignored', break_offset='Before'),\n",
    "    subsections=[start_sub_section, middle_sub_section, end_sub_section]\n",
    "    )\n",
    "pprint(three_part_section.read(GENERIC_TEST_TEXT2))"
   ]
  },
  {
   "cell_type": "markdown",
   "metadata": {},
   "source": [
    "![Good](../examples/Valid.png) All 3 sections and subsections are completed. \n",
    "\n",
    "<table>\n",
    "    <thead><th>Expected</th><th>Actual</th></thead>\n",
    "    <tr>\n",
    "        <td><code>\n",
    "          [<br>\n",
    "            [\n",
    "              ['StartSection Name: A'],<br> \n",
    "              ['MiddleSection A'],<br> \n",
    "              ['EndSection Name: A']\n",
    "            ],<br>\n",
    "            [\n",
    "              ['StartSection Name: B'],<br> \n",
    "              ['MiddleSection A'],<br> \n",
    "              ['EndSection Name: B']\n",
    "            ]<br>\n",
    "            [\n",
    "              ['StartSection Name: C'],<br> \n",
    "              ['MiddleSection C'],<br> \n",
    "              ['EndSection Name: C']\n",
    "            ]<br>\n",
    "          ]\n",
    "        </code></td>\n",
    "        <td><code>\n",
    "          [<br>\n",
    "            [\n",
    "              ['StartSection Name: A'],<br> \n",
    "              ['MiddleSection A'],<br> \n",
    "              ['EndSection Name: A']\n",
    "            ],<br>\n",
    "            [\n",
    "              ['StartSection Name: B'],<br> \n",
    "              ['MiddleSection A'],<br> \n",
    "              ['EndSection Name: B']\n",
    "            ]<br>\n",
    "            [\n",
    "              ['StartSection Name: C'],<br> \n",
    "              ['MiddleSection C'],<br> \n",
    "              ['EndSection Name: C']\n",
    "            ]<br>\n",
    "          ]\n",
    "        </code></td></tr>\n",
    "</table>"
   ]
  },
  {
   "cell_type": "markdown",
   "metadata": {},
   "source": [
    "- Section start **Before** *StartSection*\n",
    "- Section end **After** *EndSection*\n",
    "- SubSection **End On First**\n",
    "\n",
    "```python\n",
    "sub_section = Section(section_name='SubSection',\n",
    "    end_on_first_item=True,\n",
    "    )\n",
    "\n",
    "full_section = Section(section_name='Full',\n",
    "    start_section=SectionBreak('StartSection', break_offset='Before'),\n",
    "    end_section=SectionBreak('EndSection', break_offset='After'),\n",
    "    subsections=[sub_section] \n",
    "    )\n",
    "```"
   ]
  },
  {
   "cell_type": "code",
   "execution_count": null,
   "metadata": {},
   "outputs": [
    {
     "name": "stdout",
     "output_type": "stream",
     "text": [
      "[['StartSection Name: A', 'EndSection Name: A']]\n"
     ]
    }
   ],
   "source": [
    "sub_section = Section(\n",
    "    section_name='SubSection',\n",
    "    #start_section=SectionBreak('StartSection', break_offset='After')\n",
    "    end_on_first_item=True,\n",
    "    #keep_partial=True,\n",
    "    #end_section=SectionBreak(True)\n",
    "    )\n",
    "\n",
    "full_section = Section(\n",
    "    section_name='Full',\n",
    "    start_section=SectionBreak('StartSection', break_offset='Before'),\n",
    "    end_section=SectionBreak('EndSection', break_offset='After'),\n",
    "    subsections=[sub_section] \n",
    "    )\n",
    "\n",
    "pprint(full_section.read(GENERIC_TEST_TEXT))"
   ]
  },
  {
   "cell_type": "code",
   "execution_count": null,
   "metadata": {},
   "outputs": [
    {
     "name": "stdout",
     "output_type": "stream",
     "text": [
      "[[['StartSection Name: A'], ['EndSection Name: A']],\n",
      " [['StartSection Name: B'], ['EndSection Name: B']]]\n"
     ]
    }
   ],
   "source": [
    "top_section = Section(\n",
    "    section_name='Top Section',\n",
    "    end_section=SectionBreak('ignored', break_offset='Before'),\n",
    "    subsections=[start_sub_section, end_sub_section]\n",
    "    )\n",
    "pprint(top_section.read(GENERIC_TEST_TEXT))"
   ]
  },
  {
   "cell_type": "code",
   "execution_count": null,
   "metadata": {},
   "outputs": [],
   "source": [
    "sub_section = Section(\n",
    "    section_name='SubSection',\n",
    "    start_section=SectionBreak('StartSection', break_offset='Before'),\n",
    "    end_section=SectionBreak('StartSection', break_offset='After')\n",
    "    )"
   ]
  },
  {
   "cell_type": "code",
   "execution_count": null,
   "metadata": {},
   "outputs": [],
   "source": [
    "full_section = Section(\n",
    "    section_name='Full',\n",
    "    subsections=sub_section,\n",
    "    keep_partial=True\n",
    "    )"
   ]
  }
 ],
 "metadata": {
  "interpreter": {
   "hash": "bdd6de19b6444c4abd83e7de365882263ac0d7d20a0aa7e5f5ebd36d3365c333"
  },
  "kernelspec": {
   "display_name": "Python (sectionaryDev)",
   "language": "python",
   "name": "sectionarydev"
  },
  "language_info": {
   "codemirror_mode": {
    "name": "ipython",
    "version": 3
   },
   "file_extension": ".py",
   "mimetype": "text/x-python",
   "name": "python",
   "nbconvert_exporter": "python",
   "pygments_lexer": "ipython3",
   "version": "3.8.12"
  }
 },
 "nbformat": 4,
 "nbformat_minor": 4
}
