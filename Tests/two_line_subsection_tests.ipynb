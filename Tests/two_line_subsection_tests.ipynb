{
 "cells": [
  {
   "cell_type": "markdown",
   "metadata": {},
   "source": [
    "# Subsections Issue"
   ]
  },
  {
   "cell_type": "markdown",
   "metadata": {},
   "source": [
    "## Setup"
   ]
  },
  {
   "cell_type": "raw",
   "metadata": {},
   "source": [
    "from pathlib import Path\n",
    "import sys\n",
    "\n",
    "env_str = !set HOMEPATH\n",
    "\n",
    "home_path = Path(r'C:\\\\' + env_str[0].split('=',1)[1].strip('\"'))\n",
    "print(home_path)\n",
    "\n",
    "base_path = home_path / r\"OneDrive - Queen's University/Python\\Projects/sectionary package\"\n",
    "tests_path = base_path / 'Tests'\n",
    "examples_path = base_path / 'examples'\n",
    "source_path = base_path / r'src/sectionary'\n",
    "\n",
    "sys.path.extend([\n",
    "    base_path,\n",
    "    tests_path,\n",
    "    examples_path,\n",
    "    source_path\n",
    "    ])\n",
    "\n",
    "\n",
    "print('PythonPaths:')\n",
    "for path_str in sys.path:\n",
    "    print(f'\\t{path_str}')"
   ]
  },
  {
   "cell_type": "markdown",
   "metadata": {},
   "source": [
    "### Imports"
   ]
  },
  {
   "cell_type": "code",
   "execution_count": 1,
   "metadata": {},
   "outputs": [],
   "source": [
    "from typing import List\n",
    "from pathlib import Path\n",
    "from pprint import pprint\n",
    "import re\n",
    "import sys\n",
    "\n",
    "import pandas as pd\n",
    "import xlwings as xw\n",
    "\n",
    "import text_reader as tp\n",
    "from sections import Rule, RuleSet, SectionBreak, ProcessingMethods, Section"
   ]
  },
  {
   "cell_type": "markdown",
   "metadata": {},
   "source": [
    "### Logging"
   ]
  },
  {
   "cell_type": "raw",
   "metadata": {},
   "source": [
    "import logging\n",
    "logging.basicConfig(format='%(name)-20s - %(levelname)s: %(message)s')\n",
    "logging.basicConfig(level=logging.DEBUG)\n",
    "logger = logging.getLogger('Text Processing')\n",
    "logger.setLevel(logging.DEBUG)"
   ]
  },
  {
   "cell_type": "markdown",
   "metadata": {},
   "source": [
    "### Initialize 2-line Section Tests"
   ]
  },
  {
   "cell_type": "markdown",
   "metadata": {},
   "source": [
    "#### 2-line Section Source"
   ]
  },
  {
   "cell_type": "code",
   "execution_count": 2,
   "metadata": {},
   "outputs": [],
   "source": [
    "GENERIC_TEST_TEXT = [\n",
    "    'Text to be ignored',\n",
    "    'StartSection Name: A',\n",
    "    'EndSection Name: A',\n",
    "    'StartSection Name: B',\n",
    "    'EndSection Name: B',\n",
    "    'More text to be ignored',\n",
    "    ]"
   ]
  },
  {
   "cell_type": "markdown",
   "metadata": {},
   "source": [
    "**********\n",
    "\n",
    "### Initial Section and Sub-Section Definitions"
   ]
  },
  {
   "cell_type": "markdown",
   "metadata": {},
   "source": [
    "- Only definition line is:<br>\n",
    "`subsections=[sub_section]`"
   ]
  },
  {
   "cell_type": "code",
   "execution_count": 3,
   "metadata": {},
   "outputs": [
    {
     "name": "stderr",
     "output_type": "stream",
     "text": [
      "Buffered Iterator    - DEBUG: Getting item: Text to be ignored\t from source\n",
      "Buffered Iterator    - DEBUG: Have 1 Previous Items\n",
      "Buffered Iterator    - DEBUG: Need 1 Steps back\n",
      "Buffered Iterator    - DEBUG: Getting item: Text to be ignored\t from future_items\n",
      "Buffered Iterator    - DEBUG: Have 1 Previous Items\n",
      "Buffered Iterator    - DEBUG: Need 1 Steps back\n",
      "Buffered Iterator    - DEBUG: Getting item: Text to be ignored\t from future_items\n",
      "Buffered Iterator    - DEBUG: Getting item: StartSection Name: A\t from source\n",
      "Buffered Iterator    - DEBUG: Getting item: EndSection Name: A\t from source\n",
      "Buffered Iterator    - DEBUG: Getting item: StartSection Name: B\t from source\n",
      "Buffered Iterator    - DEBUG: Getting item: EndSection Name: B\t from source\n",
      "Buffered Iterator    - DEBUG: Getting item: More text to be ignored\t from source\n"
     ]
    },
    {
     "name": "stdout",
     "output_type": "stream",
     "text": [
      "[['Text to be ignored',\n",
      "  'StartSection Name: A',\n",
      "  'EndSection Name: A',\n",
      "  'StartSection Name: B',\n",
      "  'EndSection Name: B',\n",
      "  'More text to be ignored']]\n"
     ]
    }
   ],
   "source": [
    "sub_section = Section(\n",
    "    section_name='SubSection',\n",
    "    #start_section=SectionBreak('EndSection', break_offset='Before'),  # Added to use alone\n",
    "    #end_on_first_item=True,\n",
    "    #keep_partial=True,\n",
    "    #end_section=SectionBreak(True)\n",
    "    )\n",
    "\n",
    "full_section = Section(\n",
    "    section_name='Full',\n",
    "    #start_section=SectionBreak('StartSection', break_offset='Before'),\n",
    "    #end_section=SectionBreak('EndSection', break_offset='After'),\n",
    "    subsections=[sub_section]  \n",
    "    )\n",
    "pprint(full_section.read(GENERIC_TEST_TEXT))"
   ]
  },
  {
   "cell_type": "markdown",
   "metadata": {},
   "source": [
    "- ![Good](../examples/Valid.png) Results in all lines in one sub-list"
   ]
  },
  {
   "cell_type": "markdown",
   "metadata": {},
   "source": [
    "**********\n",
    "\n",
    "## Section Break options"
   ]
  },
  {
   "cell_type": "markdown",
   "metadata": {},
   "source": [
    "### Add start to Section Definition"
   ]
  },
  {
   "cell_type": "markdown",
   "metadata": {},
   "source": [
    "- Section start **Before** *StartSection*\n",
    "\n",
    "`start_section=SectionBreak('StartSection', break_offset='Before'),`"
   ]
  },
  {
   "cell_type": "code",
   "execution_count": 4,
   "metadata": {},
   "outputs": [
    {
     "name": "stderr",
     "output_type": "stream",
     "text": [
      "Buffered Iterator    - DEBUG: Getting item: Text to be ignored\t from source\n",
      "Buffered Iterator    - DEBUG: Getting item: StartSection Name: A\t from source\n",
      "Buffered Iterator    - DEBUG: Have 2 Previous Items\n",
      "Buffered Iterator    - DEBUG: Need 1 Steps back\n",
      "Buffered Iterator    - DEBUG: Getting item: StartSection Name: A\t from future_items\n",
      "Buffered Iterator    - DEBUG: Have 2 Previous Items\n",
      "Buffered Iterator    - DEBUG: Need 1 Steps back\n",
      "Buffered Iterator    - DEBUG: Getting item: StartSection Name: A\t from future_items\n",
      "Buffered Iterator    - DEBUG: Getting item: EndSection Name: A\t from source\n",
      "Buffered Iterator    - DEBUG: Getting item: StartSection Name: B\t from source\n",
      "Buffered Iterator    - DEBUG: Getting item: EndSection Name: B\t from source\n",
      "Buffered Iterator    - DEBUG: Getting item: More text to be ignored\t from source\n"
     ]
    },
    {
     "name": "stdout",
     "output_type": "stream",
     "text": [
      "[['StartSection Name: A',\n",
      "  'EndSection Name: A',\n",
      "  'StartSection Name: B',\n",
      "  'EndSection Name: B',\n",
      "  'More text to be ignored']]\n"
     ]
    }
   ],
   "source": [
    "sub_section = Section(\n",
    "    section_name='SubSection',\n",
    "    #start_section=SectionBreak('EndSection', break_offset='Before'),  # Added to use alone\n",
    "    #end_on_first_item=True,\n",
    "    #keep_partial=True,\n",
    "    #end_section=SectionBreak(True)\n",
    "    )\n",
    "\n",
    "full_section = Section(\n",
    "    section_name='Full',\n",
    "    start_section=SectionBreak('StartSection', break_offset='Before'),\n",
    "    #end_section=SectionBreak('EndSection', break_offset='After'),\n",
    "    subsections=[sub_section] \n",
    "    )\n",
    "pprint(full_section.read(GENERIC_TEST_TEXT))"
   ]
  },
  {
   "cell_type": "markdown",
   "metadata": {},
   "source": [
    "- ![Good](../examples/Valid.png) Includes all lines after first *StartSection* in single sub-list."
   ]
  },
  {
   "cell_type": "markdown",
   "metadata": {},
   "source": [
    "### Add end to Section Definition"
   ]
  },
  {
   "cell_type": "markdown",
   "metadata": {},
   "source": [
    "- Section start **Before** *StartSection*\n",
    "- Section end **After** *EndSection*\n",
    "\n",
    "```python\n",
    "full_section = Section(section_name='Full',\n",
    "    start_section=SectionBreak('StartSection', break_offset='Before'),\n",
    "    end_section=SectionBreak('EndSection', break_offset='After'),\n",
    "    subsections=[sub_section] \n",
    "    )\n",
    "```"
   ]
  },
  {
   "cell_type": "code",
   "execution_count": 5,
   "metadata": {},
   "outputs": [
    {
     "name": "stderr",
     "output_type": "stream",
     "text": [
      "Buffered Iterator    - DEBUG: Getting item: Text to be ignored\t from source\n",
      "Buffered Iterator    - DEBUG: Getting item: StartSection Name: A\t from source\n",
      "Buffered Iterator    - DEBUG: Have 2 Previous Items\n",
      "Buffered Iterator    - DEBUG: Need 1 Steps back\n",
      "Buffered Iterator    - DEBUG: Getting item: StartSection Name: A\t from future_items\n",
      "Buffered Iterator    - DEBUG: Have 2 Previous Items\n",
      "Buffered Iterator    - DEBUG: Need 1 Steps back\n",
      "Buffered Iterator    - DEBUG: Getting item: StartSection Name: A\t from future_items\n",
      "Buffered Iterator    - DEBUG: Getting item: EndSection Name: A\t from source\n",
      "Buffered Iterator    - DEBUG: Getting item: StartSection Name: B\t from source\n",
      "Buffered Iterator    - DEBUG: Have 4 Previous Items\n",
      "Buffered Iterator    - DEBUG: Need 1 Steps back\n"
     ]
    },
    {
     "name": "stdout",
     "output_type": "stream",
     "text": [
      "[['StartSection Name: A', 'EndSection Name: A']]\n"
     ]
    }
   ],
   "source": [
    "sub_section = Section(\n",
    "    section_name='SubSection',\n",
    "    #start_section=SectionBreak('EndSection', break_offset='Before'),  # Added to use alone\n",
    "    #end_on_first_item=True,\n",
    "    #keep_partial=True,\n",
    "    #end_section=SectionBreak(True)\n",
    "    )\n",
    "\n",
    "full_section = Section(\n",
    "    section_name='Full',\n",
    "    start_section=SectionBreak('StartSection', break_offset='Before'),\n",
    "    end_section=SectionBreak('EndSection', break_offset='After'),\n",
    "    subsections=[sub_section] \n",
    "    )\n",
    "pprint(full_section.read(GENERIC_TEST_TEXT))"
   ]
  },
  {
   "cell_type": "markdown",
   "metadata": {},
   "source": [
    "- ![Good](../examples/Valid.png) Includes both lines of first section in single sub-list."
   ]
  },
  {
   "cell_type": "markdown",
   "metadata": {},
   "source": [
    "### Define Muti-Section to Read Both Sections"
   ]
  },
  {
   "cell_type": "markdown",
   "metadata": {},
   "source": [
    "Add end to Section Definition\n",
    "- Section start **Before** *StartSection*\n",
    "- Section end **After** *EndSection*\n",
    "- Simple subsection\n",
    "- Multi Section defines Full Section as Sub Section with no start or end (All lines)\n",
    "\n",
    "```python\n",
    "sub_section = Section(section_name='SubSection')\n",
    "\n",
    "full_section = Section(section_name='Full',\n",
    "    start_section=SectionBreak('StartSection', break_offset='Before'),\n",
    "    end_section=SectionBreak('EndSection', break_offset='After'),\n",
    "    subsections=[sub_section] \n",
    "    )\n",
    "\n",
    "multi_section = Section(\n",
    "    section_name='Multi',\n",
    "    subsections=[full_section] \n",
    "    )\n",
    "```"
   ]
  },
  {
   "cell_type": "code",
   "execution_count": 6,
   "metadata": {},
   "outputs": [
    {
     "name": "stderr",
     "output_type": "stream",
     "text": [
      "Buffered Iterator    - DEBUG: Getting item: Text to be ignored\t from source\n",
      "Buffered Iterator    - DEBUG: Have 1 Previous Items\n",
      "Buffered Iterator    - DEBUG: Need 1 Steps back\n",
      "Buffered Iterator    - DEBUG: Getting item: Text to be ignored\t from future_items\n",
      "Buffered Iterator    - DEBUG: Getting item: StartSection Name: A\t from source\n",
      "Buffered Iterator    - DEBUG: Have 2 Previous Items\n",
      "Buffered Iterator    - DEBUG: Need 1 Steps back\n",
      "Buffered Iterator    - DEBUG: Getting item: StartSection Name: A\t from future_items\n",
      "Buffered Iterator    - DEBUG: Have 2 Previous Items\n",
      "Buffered Iterator    - DEBUG: Need 1 Steps back\n",
      "Buffered Iterator    - DEBUG: Getting item: StartSection Name: A\t from future_items\n",
      "Buffered Iterator    - DEBUG: Getting item: EndSection Name: A\t from source\n",
      "Buffered Iterator    - DEBUG: Getting item: StartSection Name: B\t from source\n",
      "Buffered Iterator    - DEBUG: Have 4 Previous Items\n",
      "Buffered Iterator    - DEBUG: Need 1 Steps back\n",
      "Buffered Iterator    - DEBUG: Getting item: StartSection Name: B\t from future_items\n",
      "Buffered Iterator    - DEBUG: Have 4 Previous Items\n",
      "Buffered Iterator    - DEBUG: Need 1 Steps back\n",
      "Buffered Iterator    - DEBUG: Getting item: StartSection Name: B\t from future_items\n",
      "Buffered Iterator    - DEBUG: Have 4 Previous Items\n",
      "Buffered Iterator    - DEBUG: Need 1 Steps back\n",
      "Buffered Iterator    - DEBUG: Getting item: StartSection Name: B\t from future_items\n",
      "Buffered Iterator    - DEBUG: Getting item: EndSection Name: B\t from source\n",
      "Buffered Iterator    - DEBUG: Getting item: More text to be ignored\t from source\n",
      "Buffered Iterator    - DEBUG: Have 5 Previous Items\n",
      "Buffered Iterator    - DEBUG: Need 1 Steps back\n",
      "Buffered Iterator    - DEBUG: Getting item: More text to be ignored\t from future_items\n"
     ]
    },
    {
     "name": "stdout",
     "output_type": "stream",
     "text": [
      "[[['StartSection Name: A', 'EndSection Name: A']],\n",
      " [['StartSection Name: B', 'EndSection Name: B']],\n",
      " [[]]]\n"
     ]
    }
   ],
   "source": [
    "sub_section = Section(\n",
    "    section_name='SubSection',\n",
    "    #start_section=SectionBreak('EndSection', break_offset='Before'),  # Added to use alone\n",
    "    #end_on_first_item=True,\n",
    "    #keep_partial=True,\n",
    "    #end_section=SectionBreak(True)\n",
    "    )\n",
    "\n",
    "full_section = Section(\n",
    "    section_name='Full',\n",
    "    start_section=SectionBreak('StartSection', break_offset='Before'),\n",
    "    end_section=SectionBreak('EndSection', break_offset='After'),\n",
    "    subsections=[sub_section] \n",
    "    )\n",
    "\n",
    "multi_section = Section(\n",
    "    section_name='Multi',\n",
    "    subsections=[full_section] \n",
    "    )\n",
    "\n",
    "pprint(multi_section.read(GENERIC_TEST_TEXT))"
   ]
  },
  {
   "cell_type": "markdown",
   "metadata": {},
   "source": [
    "- ![Bad](../examples/error.png) Includes both lines of each section in its own sub-list, but adds a blank sub-list at the end."
   ]
  },
  {
   "cell_type": "markdown",
   "metadata": {},
   "source": [
    "### Set Same Start and End Breaks for Section"
   ]
  },
  {
   "cell_type": "markdown",
   "metadata": {},
   "source": [
    "Add end to Section Definition\n",
    "- Section start **Before** *StartSection*\n",
    "- Section end **After** *StartSection*\n",
    "- Simple subsection\n",
    "- Multi Section defines Full Section as Sub Section with no start or end (All lines)\n",
    "\n",
    "```python\n",
    "sub_section = Section(section_name='SubSection')\n",
    "\n",
    "full_section = Section(section_name='Full',\n",
    "    start_section=SectionBreak('StartSection', break_offset='Before'),\n",
    "    end_section=SectionBreak('StartSection', break_offset='Before'),\n",
    "    subsections=[sub_section] \n",
    "    )\n",
    "\n",
    "multi_section = Section(\n",
    "    section_name='Multi',\n",
    "    subsections=[full_section] \n",
    "    )\n",
    "```"
   ]
  },
  {
   "cell_type": "code",
   "execution_count": 7,
   "metadata": {},
   "outputs": [
    {
     "name": "stderr",
     "output_type": "stream",
     "text": [
      "Buffered Iterator    - DEBUG: Getting item: Text to be ignored\t from source\n",
      "Buffered Iterator    - DEBUG: Have 1 Previous Items\n",
      "Buffered Iterator    - DEBUG: Need 1 Steps back\n",
      "Buffered Iterator    - DEBUG: Getting item: Text to be ignored\t from future_items\n",
      "Buffered Iterator    - DEBUG: Getting item: StartSection Name: A\t from source\n",
      "Buffered Iterator    - DEBUG: Have 2 Previous Items\n",
      "Buffered Iterator    - DEBUG: Need 1 Steps back\n",
      "Buffered Iterator    - DEBUG: Getting item: StartSection Name: A\t from future_items\n",
      "Buffered Iterator    - DEBUG: Getting item: EndSection Name: A\t from source\n",
      "Buffered Iterator    - DEBUG: Getting item: StartSection Name: B\t from source\n",
      "Buffered Iterator    - DEBUG: Have 4 Previous Items\n",
      "Buffered Iterator    - DEBUG: Need 1 Steps back\n",
      "Buffered Iterator    - DEBUG: Getting item: StartSection Name: B\t from future_items\n",
      "Buffered Iterator    - DEBUG: Have 4 Previous Items\n",
      "Buffered Iterator    - DEBUG: Need 1 Steps back\n",
      "Buffered Iterator    - DEBUG: Getting item: StartSection Name: B\t from future_items\n",
      "Buffered Iterator    - DEBUG: Getting item: EndSection Name: B\t from source\n",
      "Buffered Iterator    - DEBUG: Getting item: More text to be ignored\t from source\n"
     ]
    },
    {
     "name": "stdout",
     "output_type": "stream",
     "text": [
      "[['StartSection Name: A', 'EndSection Name: A'],\n",
      " ['StartSection Name: B', 'EndSection Name: B', 'More text to be ignored']]\n"
     ]
    }
   ],
   "source": [
    "full_section = Section(\n",
    "    section_name='Full',\n",
    "    start_section=SectionBreak('StartSection', break_offset='Before'),\n",
    "    end_section=SectionBreak('StartSection', break_offset='Before')\n",
    "    )\n",
    "\n",
    "multi_section = Section(section_name='Multi',\n",
    "    subsections=[full_section] \n",
    "    )\n",
    "\n",
    "pprint(multi_section.read(GENERIC_TEST_TEXT))"
   ]
  },
  {
   "cell_type": "markdown",
   "metadata": {},
   "source": [
    "- Without SubSection, it works as expected."
   ]
  },
  {
   "cell_type": "raw",
   "metadata": {},
   "source": [
    "sub_section = Section(section_name='SubSection')\n",
    "\n",
    "full_section = Section(section_name='Full',\n",
    "    start_section=SectionBreak('StartSection', break_offset='Before'),\n",
    "    end_section=SectionBreak('StartSection', break_offset='Before'),\n",
    "    subsections=[sub_section] \n",
    "    )\n",
    "\n",
    "multi_section = Section(\n",
    "    section_name='Multi',\n",
    "    subsections=[full_section] \n",
    "    )\n",
    "\n",
    "pprint(multi_section.read(GENERIC_TEST_TEXT))"
   ]
  },
  {
   "cell_type": "markdown",
   "metadata": {},
   "source": [
    "- ![Bad](../examples/error.png) Appears to hang"
   ]
  },
  {
   "cell_type": "markdown",
   "metadata": {},
   "source": [
    "**********\n",
    "\n",
    "## SubSection Break Options"
   ]
  },
  {
   "cell_type": "markdown",
   "metadata": {},
   "source": [
    "### Add *End on First* to Sub-Section"
   ]
  },
  {
   "cell_type": "markdown",
   "metadata": {},
   "source": [
    "- Section start **Before** *StartSection*\n",
    "- Section end **After** *EndSection*\n",
    "- SubSection **End On First**\n",
    "\n",
    "```python\n",
    "sub_section = Section(section_name='SubSection',\n",
    "    end_on_first_item=True,\n",
    "    )\n",
    "\n",
    "full_section = Section(section_name='Full',\n",
    "    start_section=SectionBreak('StartSection', break_offset='Before'),\n",
    "    end_section=SectionBreak('EndSection', break_offset='After'),\n",
    "    subsections=[sub_section] \n",
    "    )\n",
    "```"
   ]
  },
  {
   "cell_type": "code",
   "execution_count": 8,
   "metadata": {},
   "outputs": [
    {
     "name": "stderr",
     "output_type": "stream",
     "text": [
      "Buffered Iterator    - DEBUG: Getting item: Text to be ignored\t from source\n",
      "Buffered Iterator    - DEBUG: Getting item: StartSection Name: A\t from source\n",
      "Buffered Iterator    - DEBUG: Have 2 Previous Items\n",
      "Buffered Iterator    - DEBUG: Need 1 Steps back\n",
      "Buffered Iterator    - DEBUG: Getting item: StartSection Name: A\t from future_items\n",
      "Buffered Iterator    - DEBUG: Have 2 Previous Items\n",
      "Buffered Iterator    - DEBUG: Need 1 Steps back\n",
      "Buffered Iterator    - DEBUG: Getting item: StartSection Name: A\t from future_items\n",
      "Buffered Iterator    - DEBUG: Getting item: EndSection Name: A\t from source\n",
      "Buffered Iterator    - DEBUG: Getting item: StartSection Name: B\t from source\n",
      "Buffered Iterator    - DEBUG: Have 4 Previous Items\n",
      "Buffered Iterator    - DEBUG: Need 1 Steps back\n"
     ]
    },
    {
     "name": "stdout",
     "output_type": "stream",
     "text": [
      "[['EndSection Name: A']]\n"
     ]
    }
   ],
   "source": [
    "sub_section = Section(\n",
    "    section_name='SubSection',\n",
    "    #start_section=SectionBreak('StartSection', break_offset='After')\n",
    "    end_on_first_item=True,\n",
    "    #keep_partial=True,\n",
    "    #end_section=SectionBreak(True)\n",
    "    )\n",
    "\n",
    "full_section = Section(\n",
    "    section_name='Full',\n",
    "    start_section=SectionBreak('StartSection', break_offset='Before'),\n",
    "    end_section=SectionBreak('EndSection', break_offset='After'),\n",
    "    subsections=[sub_section] \n",
    "    )\n",
    "\n",
    "pprint(full_section.read(GENERIC_TEST_TEXT))"
   ]
  },
  {
   "cell_type": "markdown",
   "metadata": {},
   "source": [
    "- ![Bad](../examples/error.png) Results in `['EndSection Name: A']` sub-list, should have been `['StartSection Name: A']`."
   ]
  },
  {
   "cell_type": "markdown",
   "metadata": {},
   "source": [
    "### Add *End* as **True** to Sub-Section"
   ]
  },
  {
   "cell_type": "markdown",
   "metadata": {},
   "source": [
    "- Section start **Before** *StartSection*\n",
    "- Section end **After** *EndSection*\n",
    "- SubSection end is **True**  Should be the same as **End On First**\n",
    "\n",
    "```python\n",
    "sub_section = Section(section_name='SubSection',\n",
    "    end_section=SectionBreak(True)\n",
    "    )\n",
    "\n",
    "full_section = Section(section_name='Full',\n",
    "    start_section=SectionBreak('StartSection', break_offset='Before'),\n",
    "    end_section=SectionBreak('EndSection', break_offset='After'),\n",
    "    subsections=[sub_section] \n",
    "    )\n",
    "```"
   ]
  },
  {
   "cell_type": "code",
   "execution_count": 9,
   "metadata": {},
   "outputs": [
    {
     "name": "stderr",
     "output_type": "stream",
     "text": [
      "Buffered Iterator    - DEBUG: Getting item: Text to be ignored\t from source\n",
      "Buffered Iterator    - DEBUG: Getting item: StartSection Name: A\t from source\n",
      "Buffered Iterator    - DEBUG: Have 2 Previous Items\n",
      "Buffered Iterator    - DEBUG: Need 1 Steps back\n",
      "Buffered Iterator    - DEBUG: Getting item: StartSection Name: A\t from future_items\n",
      "Buffered Iterator    - DEBUG: Have 2 Previous Items\n",
      "Buffered Iterator    - DEBUG: Need 1 Steps back\n",
      "Buffered Iterator    - DEBUG: Getting item: StartSection Name: A\t from future_items\n",
      "Buffered Iterator    - DEBUG: Getting item: EndSection Name: A\t from source\n",
      "Buffered Iterator    - DEBUG: Have 3 Previous Items\n",
      "Buffered Iterator    - DEBUG: Need 1 Steps back\n",
      "Buffered Iterator    - DEBUG: Getting item: EndSection Name: A\t from future_items\n",
      "Buffered Iterator    - DEBUG: Have 3 Previous Items\n",
      "Buffered Iterator    - DEBUG: Need 1 Steps back\n"
     ]
    },
    {
     "name": "stdout",
     "output_type": "stream",
     "text": [
      "[['StartSection Name: A'], []]\n"
     ]
    }
   ],
   "source": [
    "sub_section = Section(\n",
    "    section_name='SubSection',\n",
    "    #start_section=SectionBreak('StartSection', break_offset='After')\n",
    "    #end_on_first_item=True,\n",
    "    #keep_partial=True,\n",
    "    end_section=SectionBreak(True)\n",
    "    )\n",
    "\n",
    "full_section = Section(\n",
    "    section_name='Full',\n",
    "    start_section=SectionBreak('StartSection', break_offset='Before'),\n",
    "    end_section=SectionBreak('EndSection', break_offset='After'),\n",
    "    subsections=[sub_section] \n",
    "    )\n",
    "\n",
    "pprint(full_section.read(GENERIC_TEST_TEXT))"
   ]
  },
  {
   "cell_type": "markdown",
   "metadata": {},
   "source": [
    "## What should  `end_section=SectionBreak(True)` result in?"
   ]
  },
  {
   "cell_type": "markdown",
   "metadata": {},
   "source": [
    "- ![Bad](../examples/error.png) Results in `['StartSection Name: A'], []` sub-lists, should have been `['StartSection Name: A']`."
   ]
  },
  {
   "cell_type": "markdown",
   "metadata": {},
   "source": [
    "### Add *Start* to Sub-Section"
   ]
  },
  {
   "cell_type": "markdown",
   "metadata": {},
   "source": [
    "- Section start **Before** *StartSection*\n",
    "- Section end **After** *EndSection*\n",
    "- SubSection start **Before** *EndSection*\n",
    "\n",
    "```python\n",
    "sub_section = Section(section_name='SubSection',\n",
    "    start_section=SectionBreak('EndSection', break_offset='Before')\n",
    "    )\n",
    "\n",
    "full_section = Section(section_name='Full',\n",
    "    start_section=SectionBreak('StartSection', break_offset='Before'),\n",
    "    end_section=SectionBreak('EndSection', break_offset='After'),\n",
    "    subsections=[sub_section] \n",
    "    )\n",
    "```"
   ]
  },
  {
   "cell_type": "code",
   "execution_count": 10,
   "metadata": {},
   "outputs": [
    {
     "name": "stderr",
     "output_type": "stream",
     "text": [
      "Buffered Iterator    - DEBUG: Getting item: Text to be ignored\t from source\n",
      "Buffered Iterator    - DEBUG: Getting item: StartSection Name: A\t from source\n",
      "Buffered Iterator    - DEBUG: Have 2 Previous Items\n",
      "Buffered Iterator    - DEBUG: Need 1 Steps back\n",
      "Buffered Iterator    - DEBUG: Getting item: StartSection Name: A\t from future_items\n",
      "Buffered Iterator    - DEBUG: Getting item: EndSection Name: A\t from source\n",
      "Buffered Iterator    - DEBUG: Have 3 Previous Items\n",
      "Buffered Iterator    - DEBUG: Need 1 Steps back\n",
      "Buffered Iterator    - DEBUG: Getting item: EndSection Name: A\t from future_items\n",
      "Buffered Iterator    - DEBUG: Have 3 Previous Items\n",
      "Buffered Iterator    - DEBUG: Need 1 Steps back\n"
     ]
    },
    {
     "name": "stdout",
     "output_type": "stream",
     "text": [
      "[[]]\n"
     ]
    }
   ],
   "source": [
    "sub_section = Section(\n",
    "    section_name='SubSection',\n",
    "    start_section=SectionBreak('EndSection', break_offset='Before')\n",
    "    #end_on_first_item=True,\n",
    "    #keep_partial=True,\n",
    "    #end_section=SectionBreak(True)\n",
    "    )\n",
    "\n",
    "full_section = Section(\n",
    "    section_name='Full',\n",
    "    start_section=SectionBreak('StartSection', break_offset='Before'),\n",
    "    end_section=SectionBreak('EndSection', break_offset='After'),\n",
    "    subsections=[sub_section] \n",
    "    )\n",
    "\n",
    "pprint(full_section.read(GENERIC_TEST_TEXT))"
   ]
  },
  {
   "cell_type": "markdown",
   "metadata": {},
   "source": [
    "- ![Bad](../examples/error.png) Results in blank sub-list."
   ]
  },
  {
   "cell_type": "markdown",
   "metadata": {},
   "source": [
    "### Change Start Sub-Section to **After*"
   ]
  },
  {
   "cell_type": "markdown",
   "metadata": {},
   "source": [
    "- Section start **Before** *StartSection*\n",
    "- Section end **After** *EndSection*\n",
    "- SubSection start **Before** *EndSection*\n",
    "\n",
    "```python\n",
    "sub_section = Section(section_name='SubSection',\n",
    "    start_section=SectionBreak('EndSection', break_offset='Before')\n",
    "    )\n",
    "\n",
    "full_section = Section(section_name='Full',\n",
    "    start_section=SectionBreak('StartSection', break_offset='Before'),\n",
    "    end_section=SectionBreak('EndSection', break_offset='After'),\n",
    "    subsections=[sub_section] \n",
    "    )\n",
    "```"
   ]
  },
  {
   "cell_type": "code",
   "execution_count": 11,
   "metadata": {},
   "outputs": [
    {
     "name": "stderr",
     "output_type": "stream",
     "text": [
      "Buffered Iterator    - DEBUG: Getting item: Text to be ignored\t from source\n",
      "Buffered Iterator    - DEBUG: Getting item: StartSection Name: A\t from source\n",
      "Buffered Iterator    - DEBUG: Have 2 Previous Items\n",
      "Buffered Iterator    - DEBUG: Need 1 Steps back\n",
      "Buffered Iterator    - DEBUG: Getting item: StartSection Name: A\t from future_items\n",
      "Buffered Iterator    - DEBUG: Getting item: EndSection Name: A\t from source\n",
      "Buffered Iterator    - DEBUG: Have 3 Previous Items\n",
      "Buffered Iterator    - DEBUG: Need 1 Steps back\n",
      "Buffered Iterator    - DEBUG: Getting item: EndSection Name: A\t from future_items\n",
      "Buffered Iterator    - DEBUG: Have 3 Previous Items\n",
      "Buffered Iterator    - DEBUG: Need 1 Steps back\n"
     ]
    },
    {
     "name": "stdout",
     "output_type": "stream",
     "text": [
      "[[]]\n"
     ]
    }
   ],
   "source": [
    "sub_section = Section(\n",
    "    section_name='SubSection',\n",
    "    start_section=SectionBreak('StartSection', break_offset='After')\n",
    "    #end_on_first_item=True,\n",
    "    #keep_partial=True,\n",
    "    #end_section=SectionBreak(True)\n",
    "    )\n",
    "\n",
    "full_section = Section(\n",
    "    section_name='Full',\n",
    "    start_section=SectionBreak('StartSection', break_offset='Before'),\n",
    "    end_section=SectionBreak('EndSection', break_offset='After'),\n",
    "    subsections=[sub_section] \n",
    "    )\n",
    "\n",
    "pprint(full_section.read(GENERIC_TEST_TEXT))"
   ]
  },
  {
   "cell_type": "markdown",
   "metadata": {},
   "source": [
    "- ![Bad](../examples/error.png) Results in blank sub-list."
   ]
  },
  {
   "cell_type": "markdown",
   "metadata": {},
   "source": [
    "# DONE TO HERE"
   ]
  },
  {
   "cell_type": "markdown",
   "metadata": {},
   "source": [
    "### Add start to SubSection Definition\n",
    "> `start_section=SectionBreak('EndSection', break_offset='Before')`"
   ]
  },
  {
   "cell_type": "code",
   "execution_count": 12,
   "metadata": {},
   "outputs": [
    {
     "name": "stderr",
     "output_type": "stream",
     "text": [
      "Buffered Iterator    - DEBUG: Getting item: Text to be ignored\t from source\n",
      "Buffered Iterator    - DEBUG: Have 1 Previous Items\n",
      "Buffered Iterator    - DEBUG: Need 1 Steps back\n",
      "Buffered Iterator    - DEBUG: Getting item: Text to be ignored\t from future_items\n",
      "Buffered Iterator    - DEBUG: Getting item: StartSection Name: A\t from source\n",
      "Buffered Iterator    - DEBUG: Getting item: EndSection Name: A\t from source\n",
      "Buffered Iterator    - DEBUG: Have 3 Previous Items\n",
      "Buffered Iterator    - DEBUG: Need 1 Steps back\n",
      "Buffered Iterator    - DEBUG: Getting item: EndSection Name: A\t from future_items\n",
      "Buffered Iterator    - DEBUG: Getting item: StartSection Name: B\t from source\n",
      "Buffered Iterator    - DEBUG: Getting item: EndSection Name: B\t from source\n",
      "Buffered Iterator    - DEBUG: Getting item: More text to be ignored\t from source\n"
     ]
    },
    {
     "name": "stdout",
     "output_type": "stream",
     "text": [
      "[['EndSection Name: A',\n",
      "  'StartSection Name: B',\n",
      "  'EndSection Name: B',\n",
      "  'More text to be ignored']]\n"
     ]
    }
   ],
   "source": [
    "sub_section = Section(\n",
    "    section_name='SubSection',\n",
    "    start_section=SectionBreak('EndSection', break_offset='Before'),  # Added to use alone\n",
    "    #end_on_first_item=True,\n",
    "    #keep_partial=True,\n",
    "    #end_section=SectionBreak(True)\n",
    "    )\n",
    "\n",
    "full_section = Section(\n",
    "    section_name='Full',\n",
    "    #start_section=SectionBreak('StartSection', break_offset='Before'),\n",
    "    #end_section=SectionBreak('EndSection', break_offset='After'),\n",
    "    subsections=[sub_section] \n",
    "    )\n",
    "pprint(full_section.read(GENERIC_TEST_TEXT))"
   ]
  },
  {
   "cell_type": "markdown",
   "metadata": {},
   "source": [
    "- ![Bad](../examples/Error.png) Results in Empty list of lists"
   ]
  },
  {
   "cell_type": "markdown",
   "metadata": {},
   "source": [
    "### Add *Start After* to Section Definition\n",
    "> `start_section=SectionBreak('StartSection', break_offset='After')`"
   ]
  },
  {
   "cell_type": "code",
   "execution_count": 13,
   "metadata": {},
   "outputs": [
    {
     "name": "stderr",
     "output_type": "stream",
     "text": [
      "Buffered Iterator    - DEBUG: Getting item: Text to be ignored\t from source\n",
      "Buffered Iterator    - DEBUG: Getting item: StartSection Name: A\t from source\n",
      "Buffered Iterator    - DEBUG: Getting item: EndSection Name: A\t from source\n",
      "Buffered Iterator    - DEBUG: Have 3 Previous Items\n",
      "Buffered Iterator    - DEBUG: Need 1 Steps back\n",
      "Buffered Iterator    - DEBUG: Getting item: EndSection Name: A\t from future_items\n",
      "Buffered Iterator    - DEBUG: Have 3 Previous Items\n",
      "Buffered Iterator    - DEBUG: Need 1 Steps back\n",
      "Buffered Iterator    - DEBUG: Getting item: EndSection Name: A\t from future_items\n",
      "Buffered Iterator    - DEBUG: Getting item: StartSection Name: B\t from source\n",
      "Buffered Iterator    - DEBUG: Getting item: EndSection Name: B\t from source\n",
      "Buffered Iterator    - DEBUG: Getting item: More text to be ignored\t from source\n"
     ]
    },
    {
     "name": "stdout",
     "output_type": "stream",
     "text": [
      "[['EndSection Name: A',\n",
      "  'StartSection Name: B',\n",
      "  'EndSection Name: B',\n",
      "  'More text to be ignored']]\n"
     ]
    }
   ],
   "source": [
    "sub_section = Section(\n",
    "    section_name='SubSection',\n",
    "    #start_section=SectionBreak('EndSection', break_offset='Before'),  # Added to use alone\n",
    "    #end_on_first_item=True,\n",
    "    #keep_partial=True,\n",
    "    #end_section=SectionBreak(True)\n",
    "    )\n",
    "\n",
    "full_section = Section(\n",
    "    section_name='Full',\n",
    "    start_section=SectionBreak('StartSection', break_offset='After'),\n",
    "    #end_section=SectionBreak('EndSection', break_offset='After'),\n",
    "    subsections=[sub_section]  \n",
    "    )\n",
    "pprint(full_section.read(GENERIC_TEST_TEXT))"
   ]
  },
  {
   "cell_type": "markdown",
   "metadata": {},
   "source": [
    "- ![Good](../examples/Valid.png) Results in one line section"
   ]
  },
  {
   "cell_type": "markdown",
   "metadata": {},
   "source": [
    "### Add *Start After StartSection* to Section Definition and *Start Before End Section* to SubSection Definition\n",
    "> **Section Definition**<br> \n",
    "> `start_section=SectionBreak('StartSection', break_offset='After')`\n",
    "> \n",
    "> **SubSection Definition**<br>\n",
    "> `start_section=SectionBreak('EndSection', break_offset='Before')`\n",
    "    "
   ]
  },
  {
   "cell_type": "code",
   "execution_count": 14,
   "metadata": {},
   "outputs": [
    {
     "name": "stderr",
     "output_type": "stream",
     "text": [
      "Buffered Iterator    - DEBUG: Getting item: Text to be ignored\t from source\n",
      "Buffered Iterator    - DEBUG: Getting item: StartSection Name: A\t from source\n",
      "Buffered Iterator    - DEBUG: Getting item: EndSection Name: A\t from source\n",
      "Buffered Iterator    - DEBUG: Have 3 Previous Items\n",
      "Buffered Iterator    - DEBUG: Need 1 Steps back\n",
      "Buffered Iterator    - DEBUG: Getting item: EndSection Name: A\t from future_items\n",
      "Buffered Iterator    - DEBUG: Have 3 Previous Items\n",
      "Buffered Iterator    - DEBUG: Need 1 Steps back\n",
      "Buffered Iterator    - DEBUG: Getting item: EndSection Name: A\t from future_items\n",
      "Buffered Iterator    - DEBUG: Getting item: StartSection Name: B\t from source\n",
      "Buffered Iterator    - DEBUG: Getting item: EndSection Name: B\t from source\n",
      "Buffered Iterator    - DEBUG: Getting item: More text to be ignored\t from source\n"
     ]
    },
    {
     "name": "stdout",
     "output_type": "stream",
     "text": [
      "[['EndSection Name: A',\n",
      "  'StartSection Name: B',\n",
      "  'EndSection Name: B',\n",
      "  'More text to be ignored']]\n"
     ]
    }
   ],
   "source": [
    "sub_section = Section(\n",
    "    section_name='SubSection',\n",
    "    start_section=SectionBreak('EndSection', break_offset='Before'),  # Added to use alone\n",
    "    #end_on_first_item=True,\n",
    "    #keep_partial=True,\n",
    "    #end_section=SectionBreak(True)\n",
    "    )\n",
    "\n",
    "full_section = Section(\n",
    "    section_name='Full',\n",
    "    start_section=SectionBreak('StartSection', break_offset='After'),\n",
    "    #end_section=SectionBreak('EndSection', break_offset='After'),\n",
    "    subsections=[sub_section]  \n",
    "    )\n",
    "pprint(full_section.read(GENERIC_TEST_TEXT))"
   ]
  },
  {
   "cell_type": "markdown",
   "metadata": {},
   "source": [
    "- ![Bad](../examples/error.png) Results in first and second section"
   ]
  },
  {
   "cell_type": "markdown",
   "metadata": {},
   "source": [
    "### Add *Start After StartSection* to Section Definition and *Start Before End Section* to SubSection Definition and set *End On First Line* for SubSection\n",
    "> **Section Definition**<br> \n",
    "> `start_section=SectionBreak('StartSection', break_offset='After')`\n",
    "> \n",
    "> **SubSection Definition**<br>\n",
    "> `start_section=SectionBreak('EndSection', break_offset='Before'),`\n",
    "> `end_on_first_item=True,`\n",
    "    "
   ]
  },
  {
   "cell_type": "code",
   "execution_count": 15,
   "metadata": {},
   "outputs": [
    {
     "name": "stderr",
     "output_type": "stream",
     "text": [
      "Buffered Iterator    - DEBUG: Getting item: Text to be ignored\t from source\n",
      "Buffered Iterator    - DEBUG: Getting item: StartSection Name: A\t from source\n",
      "Buffered Iterator    - DEBUG: Getting item: EndSection Name: A\t from source\n",
      "Buffered Iterator    - DEBUG: Have 3 Previous Items\n",
      "Buffered Iterator    - DEBUG: Need 1 Steps back\n",
      "Buffered Iterator    - DEBUG: Getting item: EndSection Name: A\t from future_items\n",
      "Buffered Iterator    - DEBUG: Have 3 Previous Items\n",
      "Buffered Iterator    - DEBUG: Need 1 Steps back\n",
      "Buffered Iterator    - DEBUG: Getting item: EndSection Name: A\t from future_items\n",
      "Buffered Iterator    - DEBUG: Getting item: StartSection Name: B\t from source\n",
      "Buffered Iterator    - DEBUG: Getting item: EndSection Name: B\t from source\n",
      "Buffered Iterator    - DEBUG: Getting item: More text to be ignored\t from source\n"
     ]
    },
    {
     "name": "stdout",
     "output_type": "stream",
     "text": [
      "[['StartSection Name: B', 'EndSection Name: B', 'More text to be ignored']]\n"
     ]
    }
   ],
   "source": [
    "sub_section = Section(\n",
    "    section_name='SubSection',\n",
    "    start_section=SectionBreak('EndSection', break_offset='Before'),  # Added to use alone\n",
    "    end_on_first_item=True,\n",
    "    #keep_partial=True,\n",
    "    #end_section=SectionBreak(True)\n",
    "    )\n",
    "\n",
    "full_section = Section(\n",
    "    section_name='Full',\n",
    "    start_section=SectionBreak('StartSection', break_offset='After'),\n",
    "    #end_section=SectionBreak('EndSection', break_offset='After'),\n",
    "    subsections=[sub_section]  \n",
    "    )\n",
    "pprint(full_section.read(GENERIC_TEST_TEXT))"
   ]
  },
  {
   "cell_type": "markdown",
   "metadata": {},
   "source": [
    "- ![Bad](../examples/Error.png) Results in second section"
   ]
  },
  {
   "cell_type": "markdown",
   "metadata": {},
   "source": [
    "### Add *Start After StartSection* to Section Definition, and for SubSection Definition, set *Start* to  *Before EndSection* and *End* to *`True` (Always Break)*\n",
    "> **Section Definition**<br> \n",
    "> `start_section=SectionBreak('StartSection', break_offset='After')`\n",
    "> \n",
    "> **SubSection Definition**<br>\n",
    "> `start_section=SectionBreak('EndSection', break_offset='Before'),`\n",
    "> `end_section=SectionBreak(True),`\n",
    "    "
   ]
  },
  {
   "cell_type": "code",
   "execution_count": 16,
   "metadata": {},
   "outputs": [
    {
     "name": "stderr",
     "output_type": "stream",
     "text": [
      "Buffered Iterator    - DEBUG: Getting item: Text to be ignored\t from source\n",
      "Buffered Iterator    - DEBUG: Getting item: StartSection Name: A\t from source\n",
      "Buffered Iterator    - DEBUG: Getting item: EndSection Name: A\t from source\n",
      "Buffered Iterator    - DEBUG: Have 3 Previous Items\n",
      "Buffered Iterator    - DEBUG: Need 1 Steps back\n",
      "Buffered Iterator    - DEBUG: Getting item: EndSection Name: A\t from future_items\n",
      "Buffered Iterator    - DEBUG: Have 3 Previous Items\n",
      "Buffered Iterator    - DEBUG: Need 1 Steps back\n",
      "Buffered Iterator    - DEBUG: Getting item: EndSection Name: A\t from future_items\n",
      "Buffered Iterator    - DEBUG: Getting item: StartSection Name: B\t from source\n",
      "Buffered Iterator    - DEBUG: Have 4 Previous Items\n",
      "Buffered Iterator    - DEBUG: Need 1 Steps back\n",
      "Buffered Iterator    - DEBUG: Getting item: StartSection Name: B\t from future_items\n",
      "Buffered Iterator    - DEBUG: Getting item: EndSection Name: B\t from source\n",
      "Buffered Iterator    - DEBUG: Have 5 Previous Items\n",
      "Buffered Iterator    - DEBUG: Need 1 Steps back\n",
      "Buffered Iterator    - DEBUG: Getting item: EndSection Name: B\t from future_items\n",
      "Buffered Iterator    - DEBUG: Getting item: More text to be ignored\t from source\n",
      "Buffered Iterator    - DEBUG: Have 5 Previous Items\n",
      "Buffered Iterator    - DEBUG: Need 1 Steps back\n",
      "Buffered Iterator    - DEBUG: Getting item: More text to be ignored\t from future_items\n"
     ]
    },
    {
     "name": "stdout",
     "output_type": "stream",
     "text": [
      "[['EndSection Name: A'], ['EndSection Name: B'], []]\n"
     ]
    }
   ],
   "source": [
    "sub_section = Section(\n",
    "    section_name='SubSection',\n",
    "    start_section=SectionBreak('EndSection', break_offset='Before'),  # Added to use alone\n",
    "    #end_on_first_item=True,\n",
    "    #keep_partial=True,\n",
    "    end_section=SectionBreak(True)\n",
    "    )\n",
    "\n",
    "full_section = Section(\n",
    "    section_name='Full',\n",
    "    start_section=SectionBreak('StartSection', break_offset='After'),\n",
    "    #end_section=SectionBreak('EndSection', break_offset='After'),\n",
    "    subsections=[sub_section]  \n",
    "    )\n",
    "pprint(full_section.read(GENERIC_TEST_TEXT))"
   ]
  },
  {
   "cell_type": "markdown",
   "metadata": {},
   "source": [
    "- ![Good](../examples/Valid.png) Results in one line section"
   ]
  },
  {
   "cell_type": "markdown",
   "metadata": {},
   "source": [
    "### Add *Start After StartSection* and *End Before EndSection* to Section Definition, and for SubSection Definition, set *Start* to  *Before EndSection* and *End* to *`True` (Always Break)*\n",
    "> **Section Definition**<br> \n",
    "> `start_section=SectionBreak('StartSection', break_offset='After'),`\n",
    "> `end_section=SectionBreak('EndSection', break_offset='After'),`\n",
    "    \n",
    "> \n",
    "> **SubSection Definition**<br>\n",
    "> `start_section=SectionBreak('EndSection', break_offset='Before'),`\n",
    "> `end_section=SectionBreak(True),`\n",
    "    "
   ]
  },
  {
   "cell_type": "code",
   "execution_count": 17,
   "metadata": {},
   "outputs": [
    {
     "name": "stderr",
     "output_type": "stream",
     "text": [
      "Buffered Iterator    - DEBUG: Getting item: Text to be ignored\t from source\n",
      "Buffered Iterator    - DEBUG: Getting item: StartSection Name: A\t from source\n",
      "Buffered Iterator    - DEBUG: Getting item: EndSection Name: A\t from source\n",
      "Buffered Iterator    - DEBUG: Have 3 Previous Items\n",
      "Buffered Iterator    - DEBUG: Need 1 Steps back\n",
      "Buffered Iterator    - DEBUG: Getting item: EndSection Name: A\t from future_items\n",
      "Buffered Iterator    - DEBUG: Have 3 Previous Items\n",
      "Buffered Iterator    - DEBUG: Need 1 Steps back\n",
      "Buffered Iterator    - DEBUG: Getting item: EndSection Name: A\t from future_items\n",
      "Buffered Iterator    - DEBUG: Getting item: StartSection Name: B\t from source\n",
      "Buffered Iterator    - DEBUG: Have 4 Previous Items\n",
      "Buffered Iterator    - DEBUG: Need 1 Steps back\n"
     ]
    },
    {
     "name": "stdout",
     "output_type": "stream",
     "text": [
      "[['EndSection Name: A']]\n"
     ]
    }
   ],
   "source": [
    "sub_section = Section(\n",
    "    section_name='SubSection',\n",
    "    start_section=SectionBreak('EndSection', break_offset='Before'),  # Added to use alone\n",
    "    #end_on_first_item=True,\n",
    "    #keep_partial=True,\n",
    "    end_section=SectionBreak(True)\n",
    "    )\n",
    "\n",
    "full_section = Section(\n",
    "    section_name='Full',\n",
    "    start_section=SectionBreak('StartSection', break_offset='After'),\n",
    "    end_section=SectionBreak('EndSection', break_offset='After'),\n",
    "    subsections=[sub_section] \n",
    "    )\n",
    "pprint(full_section.read(GENERIC_TEST_TEXT))"
   ]
  },
  {
   "cell_type": "markdown",
   "metadata": {},
   "source": [
    "- ![Good](../examples/Valid.png) Results in one line section"
   ]
  },
  {
   "cell_type": "markdown",
   "metadata": {},
   "source": [
    "### Add *Start __Before__ StartSection* and *End Before EndSection* to Section Definition, and for SubSection Definition, set *Start* to  *Before EndSection* and *End* to *`True` (Always Break)*\n",
    "> **Section Definition**<br> \n",
    "> `start_section=SectionBreak('StartSection', break_offset='Before'),`\n",
    "> `end_section=SectionBreak('EndSection', break_offset='After'),`\n",
    "    \n",
    "> \n",
    "> **SubSection Definition**<br>\n",
    "> `start_section=SectionBreak('EndSection', break_offset='Before'),`\n",
    "> `end_section=SectionBreak(True),`\n",
    "    "
   ]
  },
  {
   "cell_type": "code",
   "execution_count": 18,
   "metadata": {},
   "outputs": [
    {
     "name": "stderr",
     "output_type": "stream",
     "text": [
      "Buffered Iterator    - DEBUG: Getting item: Text to be ignored\t from source\n",
      "Buffered Iterator    - DEBUG: Getting item: StartSection Name: A\t from source\n",
      "Buffered Iterator    - DEBUG: Have 2 Previous Items\n",
      "Buffered Iterator    - DEBUG: Need 1 Steps back\n",
      "Buffered Iterator    - DEBUG: Getting item: StartSection Name: A\t from future_items\n",
      "Buffered Iterator    - DEBUG: Getting item: EndSection Name: A\t from source\n",
      "Buffered Iterator    - DEBUG: Have 3 Previous Items\n",
      "Buffered Iterator    - DEBUG: Need 1 Steps back\n",
      "Buffered Iterator    - DEBUG: Getting item: EndSection Name: A\t from future_items\n",
      "Buffered Iterator    - DEBUG: Have 3 Previous Items\n",
      "Buffered Iterator    - DEBUG: Need 1 Steps back\n"
     ]
    },
    {
     "name": "stdout",
     "output_type": "stream",
     "text": [
      "[[]]\n"
     ]
    }
   ],
   "source": [
    "sub_section = Section(\n",
    "    section_name='SubSection',\n",
    "    start_section=SectionBreak('EndSection', break_offset='Before'),  # Added to use alone\n",
    "    #end_on_first_item=True,\n",
    "    #keep_partial=True,\n",
    "    end_section=SectionBreak(True)\n",
    "    )\n",
    "\n",
    "full_section = Section(\n",
    "    section_name='Full',\n",
    "    start_section=SectionBreak('StartSection', break_offset='Before'),\n",
    "    end_section=SectionBreak('EndSection', break_offset='After'),\n",
    "    subsections=[sub_section]  \n",
    "    )\n",
    "pprint(full_section.read(GENERIC_TEST_TEXT))"
   ]
  },
  {
   "cell_type": "markdown",
   "metadata": {},
   "source": [
    "- ![Bad](../examples/Error.png) Results in empty list of lists"
   ]
  },
  {
   "cell_type": "markdown",
   "metadata": {},
   "source": [
    "### Add *Start __Before__ StartSection* and *End Before EndSection* to Section Definition, and for SubSection Definition, set *Start* to *Before EndSection*, *End* to *`True` (Always Break)* and *Keep Partial* to *`True`*\n",
    "> **Section Definition**<br> \n",
    "> `start_section=SectionBreak('StartSection', break_offset='Before'),`\n",
    "> `end_section=SectionBreak('EndSection', break_offset='After'),`    \n",
    "> \n",
    "> **SubSection Definition**<br>\n",
    "> `start_section=SectionBreak('EndSection', break_offset='Before'),`<br>\n",
    "> `end_section=SectionBreak(True),`<br>\n",
    "> `keep_partial=True,`\n",
    "    "
   ]
  },
  {
   "cell_type": "code",
   "execution_count": 19,
   "metadata": {},
   "outputs": [
    {
     "name": "stderr",
     "output_type": "stream",
     "text": [
      "Buffered Iterator    - DEBUG: Getting item: Text to be ignored\t from source\n",
      "Buffered Iterator    - DEBUG: Getting item: StartSection Name: A\t from source\n",
      "Buffered Iterator    - DEBUG: Have 2 Previous Items\n",
      "Buffered Iterator    - DEBUG: Need 1 Steps back\n",
      "Buffered Iterator    - DEBUG: Getting item: StartSection Name: A\t from future_items\n",
      "Buffered Iterator    - DEBUG: Getting item: EndSection Name: A\t from source\n",
      "Buffered Iterator    - DEBUG: Have 3 Previous Items\n",
      "Buffered Iterator    - DEBUG: Need 1 Steps back\n",
      "Buffered Iterator    - DEBUG: Getting item: EndSection Name: A\t from future_items\n",
      "Buffered Iterator    - DEBUG: Have 3 Previous Items\n",
      "Buffered Iterator    - DEBUG: Need 1 Steps back\n"
     ]
    },
    {
     "name": "stdout",
     "output_type": "stream",
     "text": [
      "[[]]\n"
     ]
    }
   ],
   "source": [
    "sub_section = Section(\n",
    "    section_name='SubSection',\n",
    "    start_section=SectionBreak('EndSection', break_offset='Before'),  # Added to use alone\n",
    "    #end_on_first_item=True,\n",
    "    keep_partial=True,\n",
    "    end_section=SectionBreak(True)\n",
    "    )\n",
    "\n",
    "full_section = Section(\n",
    "    section_name='Full',\n",
    "    start_section=SectionBreak('StartSection', break_offset='Before'),\n",
    "    end_section=SectionBreak('EndSection', break_offset='After'),\n",
    "    subsections=[sub_section]  \n",
    "    )\n",
    "pprint(full_section.read(GENERIC_TEST_TEXT))"
   ]
  },
  {
   "cell_type": "markdown",
   "metadata": {},
   "source": [
    "- ![Bad](../examples/Error.png) Results in empty list of lists"
   ]
  },
  {
   "cell_type": "markdown",
   "metadata": {},
   "source": [
    "### Add *Start __Before__ StartSection* and *End Before EndSection* to Section Definition, and don't set any SectionBreaks for SubSection Definition, \n",
    "> **Section Definition**<br> \n",
    "> `start_section=SectionBreak('StartSection', break_offset='Before'),`\n",
    "> `end_section=SectionBreak('EndSection', break_offset='After'),`    \n",
    "    "
   ]
  },
  {
   "cell_type": "code",
   "execution_count": 20,
   "metadata": {},
   "outputs": [
    {
     "name": "stderr",
     "output_type": "stream",
     "text": [
      "Buffered Iterator    - DEBUG: Getting item: Text to be ignored\t from source\n",
      "Buffered Iterator    - DEBUG: Getting item: StartSection Name: A\t from source\n",
      "Buffered Iterator    - DEBUG: Have 2 Previous Items\n",
      "Buffered Iterator    - DEBUG: Need 1 Steps back\n",
      "Buffered Iterator    - DEBUG: Getting item: StartSection Name: A\t from future_items\n",
      "Buffered Iterator    - DEBUG: Have 2 Previous Items\n",
      "Buffered Iterator    - DEBUG: Need 1 Steps back\n",
      "Buffered Iterator    - DEBUG: Getting item: StartSection Name: A\t from future_items\n",
      "Buffered Iterator    - DEBUG: Getting item: EndSection Name: A\t from source\n",
      "Buffered Iterator    - DEBUG: Getting item: StartSection Name: B\t from source\n",
      "Buffered Iterator    - DEBUG: Have 4 Previous Items\n",
      "Buffered Iterator    - DEBUG: Need 1 Steps back\n"
     ]
    },
    {
     "name": "stdout",
     "output_type": "stream",
     "text": [
      "[['StartSection Name: A', 'EndSection Name: A']]\n"
     ]
    }
   ],
   "source": [
    "sub_section = Section(\n",
    "    section_name='SubSection',\n",
    "    #start_section=SectionBreak('EndSection', break_offset='Before'),  # Added to use alone\n",
    "    #end_on_first_item=True,\n",
    "    #keep_partial=True,\n",
    "    #end_section=SectionBreak(True)\n",
    "    )\n",
    "\n",
    "full_section = Section(\n",
    "    section_name='Full',\n",
    "    start_section=SectionBreak('StartSection', break_offset='Before'),\n",
    "    end_section=SectionBreak('EndSection', break_offset='After'),\n",
    "    subsections=[sub_section]  \n",
    "    )\n",
    "pprint(full_section.read(GENERIC_TEST_TEXT))"
   ]
  },
  {
   "cell_type": "markdown",
   "metadata": {},
   "source": [
    "- ![Good](../examples/Valid.png) Results in Two line section"
   ]
  },
  {
   "cell_type": "markdown",
   "metadata": {},
   "source": [
    "### Add *Start __After__ StartSection* and *End Before EndSection* to Section Definition, and don't set any SectionBreaks for SubSection Definition, \n",
    "> **Section Definition**<br> \n",
    "> `start_section=SectionBreak('StartSection', break_offset='After'),`\n",
    "> `end_section=SectionBreak('EndSection', break_offset='After'),`    \n",
    "    "
   ]
  },
  {
   "cell_type": "code",
   "execution_count": 21,
   "metadata": {},
   "outputs": [
    {
     "name": "stderr",
     "output_type": "stream",
     "text": [
      "Buffered Iterator    - DEBUG: Getting item: Text to be ignored\t from source\n",
      "Buffered Iterator    - DEBUG: Getting item: StartSection Name: A\t from source\n",
      "Buffered Iterator    - DEBUG: Getting item: EndSection Name: A\t from source\n",
      "Buffered Iterator    - DEBUG: Have 3 Previous Items\n",
      "Buffered Iterator    - DEBUG: Need 1 Steps back\n",
      "Buffered Iterator    - DEBUG: Getting item: EndSection Name: A\t from future_items\n",
      "Buffered Iterator    - DEBUG: Have 3 Previous Items\n",
      "Buffered Iterator    - DEBUG: Need 1 Steps back\n",
      "Buffered Iterator    - DEBUG: Getting item: EndSection Name: A\t from future_items\n",
      "Buffered Iterator    - DEBUG: Getting item: StartSection Name: B\t from source\n",
      "Buffered Iterator    - DEBUG: Have 4 Previous Items\n",
      "Buffered Iterator    - DEBUG: Need 1 Steps back\n"
     ]
    },
    {
     "name": "stdout",
     "output_type": "stream",
     "text": [
      "[['EndSection Name: A']]\n"
     ]
    }
   ],
   "source": [
    "sub_section = Section(\n",
    "    section_name='SubSection',\n",
    "    #start_section=SectionBreak('EndSection', break_offset='Before'),  # Added to use alone\n",
    "    #end_on_first_item=True,\n",
    "    #keep_partial=True,\n",
    "    #end_section=SectionBreak(True)\n",
    "    )\n",
    "\n",
    "full_section = Section(\n",
    "    section_name='Full',\n",
    "    start_section=SectionBreak('StartSection', break_offset='After'),\n",
    "    end_section=SectionBreak('EndSection', break_offset='After'),\n",
    "    subsections=[sub_section]  \n",
    "    )\n",
    "pprint(full_section.read(GENERIC_TEST_TEXT))"
   ]
  },
  {
   "cell_type": "markdown",
   "metadata": {},
   "source": [
    "- ![Good](../examples/Valid.png) Results in one line section"
   ]
  }
 ],
 "metadata": {
  "interpreter": {
   "hash": "bdd6de19b6444c4abd83e7de365882263ac0d7d20a0aa7e5f5ebd36d3365c333"
  },
  "kernelspec": {
   "display_name": "Python (sectionaryDev)",
   "language": "python",
   "name": "sectionarydev"
  },
  "language_info": {
   "codemirror_mode": {
    "name": "ipython",
    "version": 3
   },
   "file_extension": ".py",
   "mimetype": "text/x-python",
   "name": "python",
   "nbconvert_exporter": "python",
   "pygments_lexer": "ipython3",
   "version": "3.8.12"
  }
 },
 "nbformat": 4,
 "nbformat_minor": 4
}
