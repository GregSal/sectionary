{
 "cells": [
  {
   "cell_type": "markdown",
   "metadata": {},
   "source": [
    "# Subsections Issue"
   ]
  },
  {
   "cell_type": "markdown",
   "metadata": {},
   "source": [
    "## Setup"
   ]
  },
  {
   "cell_type": "raw",
   "metadata": {},
   "source": [
    "from pathlib import Path\n",
    "import sys\n",
    "\n",
    "env_str = !set HOMEPATH\n",
    "\n",
    "home_path = Path(r'C:\\\\' + env_str[0].split('=',1)[1].strip('\"'))\n",
    "print(home_path)\n",
    "\n",
    "base_path = home_path / r\"OneDrive - Queen's University/Python\\Projects/sectionary package\"\n",
    "tests_path = base_path / 'Tests'\n",
    "examples_path = base_path / 'examples'\n",
    "source_path = base_path / r'src/sectionary'\n",
    "\n",
    "sys.path.extend([\n",
    "    base_path,\n",
    "    tests_path,\n",
    "    examples_path,\n",
    "    source_path\n",
    "    ])\n",
    "\n",
    "\n",
    "print('PythonPaths:')\n",
    "for path_str in sys.path:\n",
    "    print(f'\\t{path_str}')"
   ]
  },
  {
   "cell_type": "markdown",
   "metadata": {},
   "source": [
    "### Imports"
   ]
  },
  {
   "cell_type": "code",
   "execution_count": 1,
   "metadata": {},
   "outputs": [],
   "source": [
    "from typing import List\n",
    "from pathlib import Path\n",
    "from pprint import pprint\n",
    "import re\n",
    "import sys\n",
    "\n",
    "import pandas as pd\n",
    "import xlwings as xw\n",
    "\n",
    "from buffered_iterator import BufferedIterator\n",
    "import text_reader as tp\n",
    "from sections import Rule, RuleSet, SectionBreak, ProcessingMethods, Section"
   ]
  },
  {
   "cell_type": "markdown",
   "metadata": {},
   "source": [
    "### Logging"
   ]
  },
  {
   "cell_type": "code",
   "execution_count": 2,
   "metadata": {},
   "outputs": [],
   "source": [
    "import logging\n",
    "logging.basicConfig(format='%(name)-20s - %(levelname)s: %(message)s')\n",
    "#logging.basicConfig(level=logging.DEBUG)\n",
    "logger = logging.getLogger('Two Line SubSection Tests')\n",
    "logger.setLevel(logging.DEBUG)\n",
    "#logger.setLevel(logging.INFO)"
   ]
  },
  {
   "cell_type": "markdown",
   "metadata": {},
   "source": [
    "### Display Functions"
   ]
  },
  {
   "cell_type": "code",
   "execution_count": 3,
   "metadata": {},
   "outputs": [],
   "source": [
    "#%%writefile display_functions.py"
   ]
  },
  {
   "cell_type": "code",
   "execution_count": 4,
   "metadata": {},
   "outputs": [],
   "source": [
    "# %% Function to compare context for two sections.\n",
    "def compare_context(section1, section2):\n",
    "    ctx_template = '{key:16s}:\\t{item1:16s}\\t{item2:16s}'\n",
    "    context_1 = section1.context\n",
    "    context_2 = section2.context\n",
    "    keys_1 = set(context_1.keys())\n",
    "    keys_2 = set(context_2.keys())\n",
    "    all_keys = keys_1 | keys_2\n",
    "    for key in all_keys:\n",
    "        item1 = context_1.get(key, '')\n",
    "        item2 = context_2.get(key, '')\n",
    "        ctx_str = ctx_template.format(key=str(key), item1=str(item1), item2=str(item2))\n",
    "        print(ctx_str)\n",
    "        \n",
    "        \n",
    "# %% Compare Buffered Iterator contents\n",
    "def buffered_iterator_compare(iter1, iter2=None, iter3=None, \n",
    "                              label1='From Iterator', \n",
    "                              label2='To Iterator', label3=''):\n",
    "    \n",
    "    def extract_attrs(buf_obj, requested_item, as_list=True):\n",
    "        if not buf_obj:\n",
    "            text = ''\n",
    "        elif as_list:\n",
    "            text = str(list(buf_obj.__getattribute__(requested_item)))\n",
    "        else:\n",
    "            text = str(buf_obj.__getattribute__(requested_item))\n",
    "        return text\n",
    "        \n",
    "    def extract_attr_text(requested_item, iter1, iter2=None, iter3=None, \n",
    "                        as_list=True):    \n",
    "        attr_text = {\n",
    "            1: extract_attrs(iter1, requested_item, as_list),\n",
    "            2: extract_attrs(iter2, requested_item, as_list),\n",
    "            3: extract_attrs(iter3, requested_item, as_list),\n",
    "        }\n",
    "        return attr_text\n",
    "\n",
    "\n",
    "    row_template = ''.join([\n",
    "        '\\t{Label:<20s}',\n",
    "        '{first_iter_item:<35s}',\n",
    "        '{second_iter_item:<35s}',\n",
    "        '{third_iter_item:<35s}\\n'\n",
    "        ])   \n",
    "    attr_group = {\n",
    "        'Previous Items': ('previous_items', True),\n",
    "        'Future Items': ('future_items', True),\n",
    "        'Item Count': ('item_count', False),\n",
    "        'Step Back': ('_step_back', False),\n",
    "        'Buffer Size': ('buffer_size', False)\n",
    "        }\n",
    "\n",
    "    row_list = [\n",
    "        row_template.format(\n",
    "            Label='',\n",
    "            first_iter_item=label1, \n",
    "            second_iter_item=label2, \n",
    "            third_iter_item=label3)\n",
    "                ]\n",
    "\n",
    "    for label, attr_s in attr_group.items():\n",
    "        requested_item, as_list = attr_s\n",
    "        text_group = extract_attr_text(requested_item, iter1, iter2, iter3, as_list)\n",
    "        text_line = row_template.format(Label=label, \n",
    "                        first_iter_item=text_group[1],\n",
    "                        second_iter_item=text_group[2],\n",
    "                        third_iter_item=text_group[3])\n",
    "        row_list.append(text_line)\n",
    "    \n",
    "    iterator_compare_str = ''.join(row_list)\n",
    "    \n",
    "    return iterator_compare_str"
   ]
  },
  {
   "cell_type": "markdown",
   "metadata": {},
   "source": [
    "### Initialize 2-line Section Tests"
   ]
  },
  {
   "cell_type": "markdown",
   "metadata": {},
   "source": [
    "#### 2-line Section Source"
   ]
  },
  {
   "cell_type": "code",
   "execution_count": 5,
   "metadata": {},
   "outputs": [],
   "source": [
    "GENERIC_TEST_TEXT = [\n",
    "    'Text to be ignored',\n",
    "    'StartSection Name: A',\n",
    "    'EndSection Name: A',\n",
    "    'StartSection Name: B',\n",
    "    'EndSection Name: B',\n",
    "    'More text to be ignored',\n",
    "    ]"
   ]
  },
  {
   "cell_type": "markdown",
   "metadata": {},
   "source": [
    "## Iterator Options"
   ]
  },
  {
   "cell_type": "markdown",
   "metadata": {},
   "source": [
    "### Two line section *StartSection*\n",
    "- Start *Before* `StartSection`\n",
    "- End *After* `EndSection`"
   ]
  },
  {
   "cell_type": "code",
   "execution_count": 6,
   "metadata": {},
   "outputs": [],
   "source": [
    "two_line_section = Section(\n",
    "    section_name='SubSection',\n",
    "    start_section=SectionBreak('StartSection', break_offset='Before'),\n",
    "    end_section=SectionBreak('EndSection', break_offset='After')\n",
    "    )"
   ]
  },
  {
   "cell_type": "markdown",
   "metadata": {},
   "source": [
    "#### Using a regular iterator"
   ]
  },
  {
   "cell_type": "code",
   "execution_count": 7,
   "metadata": {},
   "outputs": [
    {
     "name": "stdout",
     "output_type": "stream",
     "text": [
      "['StartSection Name: A', 'EndSection Name: A']\n",
      "[]\n"
     ]
    }
   ],
   "source": [
    "test_iter = iter(GENERIC_TEST_TEXT)\n",
    "pprint(two_line_section.read(test_iter))\n",
    "\n",
    "pprint(two_line_section.read(test_iter))"
   ]
  },
  {
   "cell_type": "markdown",
   "metadata": {},
   "source": [
    "![Good](../examples/Valid.png) A regular iterator is missing the buffer, so *Step Back* calls can loose future items.\n",
    "- The second call to `pprint(two_line_section.read(test_iter))` returns an empty list because the second *StartSection* line is lost.\n",
    "  \n",
    "|Expected|Actual|\n",
    "|-|-|\n",
    "|`['StartSection Name: A', 'EndSection Name: A']`|`['StartSection Name: A', 'EndSection Name: A']`|\n",
    "|`[]`|`[]`|"
   ]
  },
  {
   "cell_type": "markdown",
   "metadata": {},
   "source": [
    "#### Using a *BufferedIterator* source."
   ]
  },
  {
   "cell_type": "code",
   "execution_count": 8,
   "metadata": {},
   "outputs": [
    {
     "name": "stdout",
     "output_type": "stream",
     "text": [
      "['StartSection Name: A', 'EndSection Name: A']\n",
      "['StartSection Name: B', 'EndSection Name: B']\n",
      "[]\n"
     ]
    }
   ],
   "source": [
    "test_iter = BufferedIterator(GENERIC_TEST_TEXT)\n",
    "pprint(two_line_section.read(test_iter))\n",
    "pprint(two_line_section.read(test_iter))\n",
    "pprint(two_line_section.read(test_iter))"
   ]
  },
  {
   "cell_type": "markdown",
   "metadata": {},
   "source": [
    "![Good](../examples/Valid.png) Supplying a *BufferedIterator* preserves the *Step Back* item.\n",
    "- The Third call to `pprint(two_line_section.read(test_iter))` returns an empty list because a third *StartSection* is not found.\n",
    "\n",
    "|Expected|Actual|\n",
    "|-|-|\n",
    "|`['StartSection Name: A', 'EndSection Name: A']`|`['StartSection Name: A', 'EndSection Name: A']`|\n",
    "|`['StartSection Name: B', 'EndSection Name: B']`|`['StartSection Name: B', 'EndSection Name: B']`|\n",
    "|`[]`|`[]`|"
   ]
  },
  {
   "cell_type": "markdown",
   "metadata": {},
   "source": [
    "# Simple sections experimenting with start and end settings"
   ]
  },
  {
   "cell_type": "markdown",
   "metadata": {},
   "source": [
    "#### 2-line Section Source"
   ]
  },
  {
   "cell_type": "code",
   "execution_count": 9,
   "metadata": {},
   "outputs": [],
   "source": [
    "GENERIC_TEST_TEXT = [\n",
    "    'Text to be ignored',\n",
    "    'StartSection Name: A',\n",
    "    'EndSection Name: A',\n",
    "    'StartSection Name: B',\n",
    "    'EndSection Name: B',\n",
    "    'More text to be ignored',\n",
    "    ]"
   ]
  },
  {
   "cell_type": "markdown",
   "metadata": {},
   "source": [
    "## `end_on_first_item` Tests\n",
    "\n",
    "The `end_on_first_item` parameter in a section definition determines whether the \n",
    "`end_section` break tests are applied to the first line in a section.\n",
    "`end_on_first_item=True` does not *force* the section to complete after a single \n",
    "line.  It only makes it *possible* to stop after the first line.\n",
    "\n",
    "The value of this parameter is that repeat sections do not require distinct\n",
    "starting and ending sentinels. With `end_on_first_item=False` (the default) the \n",
    "same SectionBreak can be applied to both `start_section` and `end_section`.  \n",
    "In this case, the second occurrence of the section begins immediately at the \n",
    "end of the previous section."
   ]
  },
  {
   "cell_type": "code",
   "execution_count": 10,
   "metadata": {},
   "outputs": [],
   "source": [
    "GENERIC_TEST_TEXT = [\n",
    "    'Text to be ignored',\n",
    "    'StartSection A',\n",
    "    'EndSection A',\n",
    "    'StartSection B',\n",
    "    'EndSection B',\n",
    "    'More text to be ignored',\n",
    "    ]"
   ]
  },
  {
   "cell_type": "markdown",
   "metadata": {},
   "source": [
    "#### Setting `end_on_first_item=False` (the default)\n",
    "- Using identical `start_section` and `end_section`:\n",
    "    > `start_section=SectionBreak('StartSection', break_offset='Before')`<br>\n",
    "    > `end_section=SectionBreak('StartSection', break_offset='Before')`<br>\n",
    "\n",
    "- Do not test first line of section (the default).\n",
    "    > `end_on_first_item=False` "
   ]
  },
  {
   "cell_type": "code",
   "execution_count": 11,
   "metadata": {},
   "outputs": [
    {
     "name": "stdout",
     "output_type": "stream",
     "text": [
      "['StartSection A', 'EndSection A']\n"
     ]
    }
   ],
   "source": [
    "start_sub_section = Section(\n",
    "    section_name='StartSubSection',\n",
    "    start_section=SectionBreak('StartSection', break_offset='Before'),\n",
    "    end_section=SectionBreak('StartSection', break_offset='Before'),\n",
    "    end_on_first_item=False\n",
    "    )\n",
    "\n",
    "pprint(start_sub_section.read(GENERIC_TEST_TEXT))"
   ]
  },
  {
   "cell_type": "markdown",
   "metadata": {},
   "source": [
    "![Good](../examples/Valid.png) The first section is returned as a list.\n",
    "\n",
    "<table>\n",
    "    <thead><th>Expected</th><th>Actual</th></thead>\n",
    "    <tr>\n",
    "        <td><code>\n",
    "          ['StartSection A', 'EndSection A']\n",
    "        </code></td>\n",
    "        <td><code>\n",
    "          ['StartSection A', 'EndSection A']\n",
    "        </code></td></tr>\n",
    "</table>"
   ]
  },
  {
   "cell_type": "markdown",
   "metadata": {},
   "source": [
    "# Done To Here"
   ]
  },
  {
   "cell_type": "code",
   "execution_count": 12,
   "metadata": {},
   "outputs": [
    {
     "name": "stdout",
     "output_type": "stream",
     "text": [
      "[['StartSection A']]\n"
     ]
    }
   ],
   "source": [
    "GENERIC_TEST_TEXT = [\n",
    "    'Text to be ignored',\n",
    "    'StartSection A',\n",
    "    'EndSection A',\n",
    "    'StartSection B',\n",
    "    'EndSection B',\n",
    "    'More text to be ignored',\n",
    "    ]\n",
    "buffered_test_text = BufferedIterator(GENERIC_TEST_TEXT)\n",
    "\n",
    "\n",
    "subsection = Section(\n",
    "    section_name='SubSection',\n",
    "    start_section=SectionBreak('StartSection', break_offset='Before'),\n",
    "    end_section=SectionBreak('EndSection', break_offset='Before'),\n",
    "    end_on_first_item=False\n",
    "    )\n",
    "#pprint(subsection.read(GENERIC_TEST_TEXT))\n",
    "\n",
    "repeating_section = Section(\n",
    "    section_name='Top Section',\n",
    "    end_section=SectionBreak('EndSection', break_offset='After'),\n",
    "    processor=subsection\n",
    "    )\n",
    "\n",
    "pprint(repeating_section.read(GENERIC_TEST_TEXT))"
   ]
  },
  {
   "cell_type": "code",
   "execution_count": 13,
   "metadata": {},
   "outputs": [
    {
     "name": "stdout",
     "output_type": "stream",
     "text": [
      "\t                    top_source                         sub_section_source                                                    \n",
      "\tPrevious Items      ['Text to be ignored', 'StartSection A', 'EndSection A']['Text to be ignored', 'StartSection A', 'EndSection A']                                   \n",
      "\tFuture Items        ['StartSection B']                 []                                                                    \n",
      "\tItem Count          3                                  3                                                                     \n",
      "\tStep Back           0                                  0                                                                     \n",
      "\tBuffer Size         5                                  5                                                                     \n",
      "\n"
     ]
    }
   ],
   "source": [
    "print(buffered_iterator_compare(repeating_section.source, subsection.source, \n",
    "                                label1='top_source', \n",
    "                                label2='sub_section_source'))\n",
    "\n"
   ]
  },
  {
   "cell_type": "code",
   "execution_count": 14,
   "metadata": {},
   "outputs": [
    {
     "name": "stdout",
     "output_type": "stream",
     "text": [
      "['0', '1', '2', '3', '4', '5', '6', '7', '8']\n"
     ]
    }
   ],
   "source": [
    "buffer_size = 10\n",
    "num_items = 9\n",
    "\n",
    "str_source = BufferedIterator((str(i) for i in range(num_items)), \n",
    "                              buffer_size=buffer_size)\n",
    "pprint(list(str_source))\n"
   ]
  },
  {
   "cell_type": "code",
   "execution_count": 15,
   "metadata": {},
   "outputs": [],
   "source": [
    "subsection = Section(\n",
    "    section_name='SubSection',\n",
    "    start_section=SectionBreak('3', break_offset='Before'),\n",
    "    end_section=SectionBreak('5', break_offset='After'),\n",
    "    end_on_first_item=False\n",
    "    )\n",
    "#pprint(subsection.read(GENERIC_TEST_TEXT))\n",
    "\n",
    "repeating_section = Section(\n",
    "    section_name='Top Section',\n",
    "    #end_section=SectionBreak('7', break_offset='After'),\n",
    "    processor=subsection\n",
    "    )\n"
   ]
  },
  {
   "cell_type": "code",
   "execution_count": 16,
   "metadata": {},
   "outputs": [],
   "source": [
    "def pairs(source):\n",
    "    for item in source:\n",
    "        yield tuple([item, next(source)])\n",
    "        \n",
    "        \n",
    "def odd_nums(source):\n",
    "    for item in source:\n",
    "        if int(item)%2 == 1:\n",
    "            yield item"
   ]
  },
  {
   "cell_type": "code",
   "execution_count": 17,
   "metadata": {},
   "outputs": [
    {
     "name": "stdout",
     "output_type": "stream",
     "text": [
      "[['3', '4', '5']]\n"
     ]
    }
   ],
   "source": [
    "str_source = BufferedIterator((str(i) for i in range(num_items)), \n",
    "                              buffer_size=buffer_size)\n",
    "pprint(repeating_section.read(str_source))"
   ]
  },
  {
   "cell_type": "code",
   "execution_count": 18,
   "metadata": {},
   "outputs": [
    {
     "name": "stdout",
     "output_type": "stream",
     "text": [
      "\t                    top_source                         sub_section_source                                                    \n",
      "\tPrevious Items      ['4', '5', '6', '7', '8']          ['4', '5', '6', '7', '8']                                             \n",
      "\tFuture Items        []                                 []                                                                    \n",
      "\tItem Count          9                                  9                                                                     \n",
      "\tStep Back           0                                  0                                                                     \n",
      "\tBuffer Size         5                                  5                                                                     \n",
      "\n"
     ]
    }
   ],
   "source": [
    "print(buffered_iterator_compare(repeating_section.source, subsection.source, \n",
    "                                label1='top_source', \n",
    "                                label2='sub_section_source'))\n",
    "\n"
   ]
  },
  {
   "cell_type": "code",
   "execution_count": 19,
   "metadata": {},
   "outputs": [
    {
     "name": "stdout",
     "output_type": "stream",
     "text": [
      "['3', '4', '5']\n"
     ]
    }
   ],
   "source": [
    "str_source = BufferedIterator((str(i) for i in range(num_items)), \n",
    "                              buffer_size=buffer_size)\n",
    "pprint(subsection.read(str_source))\n",
    "#pprint(subsection.read(str_source))"
   ]
  },
  {
   "cell_type": "code",
   "execution_count": 20,
   "metadata": {},
   "outputs": [
    {
     "name": "stdout",
     "output_type": "stream",
     "text": [
      "\t                    sub_section_source                 str_source                                                            \n",
      "\tPrevious Items      ['2', '3', '4', '5']               ['0', '1', '2', '3', '4', '5']                                        \n",
      "\tFuture Items        ['6']                              ['6']                                                                 \n",
      "\tItem Count          6                                  6                                                                     \n",
      "\tStep Back           0                                  0                                                                     \n",
      "\tBuffer Size         5                                  10                                                                    \n",
      "\n"
     ]
    }
   ],
   "source": [
    "print(buffered_iterator_compare(subsection.source, str_source,\n",
    "                                label1='sub_section_source', \n",
    "                                label2='str_source'))\n",
    "\n"
   ]
  },
  {
   "cell_type": "code",
   "execution_count": 21,
   "metadata": {},
   "outputs": [
    {
     "name": "stdout",
     "output_type": "stream",
     "text": [
      "[0, 4, 5, 6]\n",
      "6\n",
      "6\n",
      "3\n"
     ]
    }
   ],
   "source": [
    "print(subsection._source_index)\n",
    "print(subsection.source.item_count)\n",
    "print(subsection.source_item_count)\n",
    "print(subsection.item_count)"
   ]
  },
  {
   "cell_type": "code",
   "execution_count": 22,
   "metadata": {},
   "outputs": [
    {
     "name": "stdout",
     "output_type": "stream",
     "text": [
      "['3', '4', '5']\n"
     ]
    }
   ],
   "source": [
    "str_source = BufferedIterator((str(i) for i in range(num_items)), \n",
    "                              buffer_size=buffer_size)\n",
    "subsection = Section(\n",
    "    section_name='SubSection',\n",
    "    start_section=SectionBreak('3', break_offset='Before'),\n",
    "    end_section=SectionBreak('5', break_offset='After'),\n",
    "    end_on_first_item=False\n",
    "    )\n",
    "pprint(subsection.read(str_source))"
   ]
  },
  {
   "cell_type": "code",
   "execution_count": 23,
   "metadata": {},
   "outputs": [
    {
     "name": "stdout",
     "output_type": "stream",
     "text": [
      "\t                    sub_section_source                 str_source                                                            \n",
      "\tPrevious Items      ['2', '3', '4', '5']               ['0', '1', '2', '3', '4', '5']                                        \n",
      "\tFuture Items        ['6']                              ['6']                                                                 \n",
      "\tItem Count          6                                  6                                                                     \n",
      "\tStep Back           0                                  0                                                                     \n",
      "\tBuffer Size         5                                  10                                                                    \n",
      "\n"
     ]
    }
   ],
   "source": [
    "print(buffered_iterator_compare(subsection.source, str_source,\n",
    "                                label1='sub_section_source', \n",
    "                                label2='str_source'))\n",
    "\n"
   ]
  },
  {
   "cell_type": "code",
   "execution_count": 24,
   "metadata": {},
   "outputs": [
    {
     "name": "stdout",
     "output_type": "stream",
     "text": [
      "Item Count: 1  \tSource Item Count 9  \tSection Source Index: 9\n"
     ]
    },
    {
     "data": {
      "text/plain": [
       "[0, 7]"
      ]
     },
     "execution_count": 24,
     "metadata": {},
     "output_type": "execute_result"
    }
   ],
   "source": [
    "\n",
    "print(f'Item Count: {repeating_section.item_count}  \\t'\n",
    "        f'Source Item Count {repeating_section.source.item_count}  \\t'\n",
    "        f'Section Source Index: {repeating_section.source_item_count}')\n",
    "repeating_section.source_index\n",
    "\n"
   ]
  },
  {
   "cell_type": "code",
   "execution_count": 25,
   "metadata": {},
   "outputs": [
    {
     "name": "stdout",
     "output_type": "stream",
     "text": [
      "[0, 7]\n",
      "9\n",
      "9\n"
     ]
    }
   ],
   "source": [
    "print(repeating_section._source_index)\n",
    "print(repeating_section.source.item_count)\n",
    "print(repeating_section.source.item_count)"
   ]
  },
  {
   "cell_type": "code",
   "execution_count": 26,
   "metadata": {},
   "outputs": [
    {
     "name": "stdout",
     "output_type": "stream",
     "text": [
      "Item Count: 3  \tSource Item Count 6  \tSection Source Index: 6\n"
     ]
    },
    {
     "data": {
      "text/plain": [
       "[0, 4, 5, 6]"
      ]
     },
     "execution_count": 26,
     "metadata": {},
     "output_type": "execute_result"
    }
   ],
   "source": [
    "\n",
    "print(f'Item Count: {subsection.item_count}  \\t'\n",
    "        f'Source Item Count {subsection.source.item_count}  \\t'\n",
    "        f'Section Source Index: {subsection.source_item_count}')\n",
    "\n",
    "subsection.source_index"
   ]
  },
  {
   "cell_type": "markdown",
   "metadata": {},
   "source": [
    "#### Defining a top section with a repeating subsection\n",
    "- Using identical `start_section` and `end_section`:\n",
    "    > `start_section=SectionBreak('StartSection', break_offset='Before')`<br>\n",
    "    > `end_section=SectionBreak('StartSection', break_offset='Before')`<br>\n",
    "\n",
    "- Do not test first line of section (the default).\n",
    "    > `end_on_first_item=False` "
   ]
  },
  {
   "cell_type": "code",
   "execution_count": 27,
   "metadata": {},
   "outputs": [
    {
     "name": "stdout",
     "output_type": "stream",
     "text": [
      "[['StartSection A', 'EndSection A'], ['StartSection B', 'EndSection B']]\n"
     ]
    }
   ],
   "source": [
    "buffered_test_text = BufferedIterator(GENERIC_TEST_TEXT)\n",
    "\n",
    "start_sub_section = Section(\n",
    "    section_name='StartSubSection',\n",
    "    start_section=SectionBreak('StartSection', break_offset='Before'),\n",
    "    end_section=SectionBreak('StartSection', break_offset='Before'),\n",
    "    end_on_first_item=False\n",
    "    )\n",
    "\n",
    "repeating_section = Section(\n",
    "    section_name='Top Section',\n",
    "    end_section=SectionBreak('More text to be ignored', break_offset='Before'),\n",
    "    processor=start_sub_section\n",
    "    )\n",
    "pprint(repeating_section.read(buffered_test_text))"
   ]
  },
  {
   "cell_type": "markdown",
   "metadata": {},
   "source": [
    "![Error](../examples/Error.png) Source is not resetting to the correct spot."
   ]
  },
  {
   "cell_type": "code",
   "execution_count": 28,
   "metadata": {},
   "outputs": [
    {
     "name": "stdout",
     "output_type": "stream",
     "text": [
      "\t                    Top Source                         Subsection Source                                                     \n",
      "\tPrevious Items      ['StartSection A', 'EndSection A', 'StartSection B', 'EndSection B']['Text to be ignored', 'StartSection A', 'EndSection A', 'StartSection B', 'EndSection B']                                   \n",
      "\tFuture Items        ['More text to be ignored']        []                                                                    \n",
      "\tItem Count          5                                  5                                                                     \n",
      "\tStep Back           0                                  0                                                                     \n",
      "\tBuffer Size         5                                  5                                                                     \n",
      "\n"
     ]
    }
   ],
   "source": [
    "print(buffered_iterator_compare(buffered_test_text, start_sub_section.source,\n",
    "                                label1='Top Source', label2='Subsection Source'))"
   ]
  },
  {
   "cell_type": "markdown",
   "metadata": {},
   "source": [
    "![Error](../examples/Error.png) Source is not resetting to the correct spot.\n",
    "<table>\n",
    "    <thead><th>Expected</th><th>Actual</th></thead>\n",
    "    <tr>\n",
    "        <td><code>\n",
    "        Top Source<br>\n",
    "        Previous Items: ['Text to be ignored', 'StartSection A', 'EndSection A', 'StartSection B', 'EndSection B']<br>\n",
    "        Future Items: ['More text to be ignored']<br>\n",
    "        Item Count: 5\n",
    "        </code></td>\n",
    "        <td><code>\n",
    "        Top Source<br>\n",
    "        Previous Items: ['StartSection A']<br>\n",
    "        Future Items: ['EndSection A', 'StartSection B', 'EndSection B', 'More text to be ignored']<br>\n",
    "        Item Count: 2\n",
    "        </code></td></tr>\n",
    "</table>"
   ]
  },
  {
   "cell_type": "code",
   "execution_count": 29,
   "metadata": {},
   "outputs": [
    {
     "name": "stdout",
     "output_type": "stream",
     "text": [
      "[['StartSection A', 'EndSection A'], ['StartSection B', 'EndSection B']]\n"
     ]
    }
   ],
   "source": [
    "start_sub_section = Section(\n",
    "    section_name='StartSubSection',\n",
    "    start_section=SectionBreak('StartSection', break_offset='Before'),\n",
    "    end_section=SectionBreak('EndSection', break_offset='After'),\n",
    "    end_on_first_item=False\n",
    "    )\n",
    "\n",
    "repeating_section = Section(\n",
    "    section_name='Top Section',\n",
    "    end_section=SectionBreak('More text to be ignored', break_offset='Before'),\n",
    "    processor=start_sub_section\n",
    "    )\n",
    "pprint(repeating_section.read(GENERIC_TEST_TEXT))"
   ]
  },
  {
   "cell_type": "markdown",
   "metadata": {},
   "source": [
    "![Error](../examples/Error.png) Only the first subsection is returned.\n",
    "<table>\n",
    "    <thead><th>Expected</th><th>Actual</th></thead>\n",
    "    <tr>\n",
    "        <td><code>\n",
    "        ['StartSection A', 'EndSection A']\n",
    "        </code></td>\n",
    "        <td><code>\n",
    "          [<br>\n",
    "          ['StartSection A', 'EndSection A'],<br>\n",
    "           ['StartSection B', 'EndSection B']<br>\n",
    "          ]\n",
    "        </code></td></tr>\n",
    "</table>"
   ]
  },
  {
   "cell_type": "markdown",
   "metadata": {},
   "source": [
    "![Good](../examples/Valid.png) Both subsections are returned as a list of lists.\n",
    "\n",
    "<table>\n",
    "    <thead><th>Expected</th><th>Actual</th></thead>\n",
    "    <tr>\n",
    "        <td><code>\n",
    "          [<br>\n",
    "          ['StartSection A', 'EndSection A'],<br>\n",
    "           ['StartSection B', 'EndSection B']<br>\n",
    "          ]\n",
    "        </code></td>\n",
    "        <td><code>\n",
    "          [<br>\n",
    "          ['StartSection A', 'EndSection A'],<br>\n",
    "           ['StartSection B', 'EndSection B']<br>\n",
    "          ]\n",
    "        </code></td></tr>\n",
    "</table>"
   ]
  },
  {
   "cell_type": "markdown",
   "metadata": {},
   "source": [
    "- Using the same section definition, except allow testing of the first line of \n",
    "  the section.\n",
    "    > `end_on_first_item=True` "
   ]
  },
  {
   "cell_type": "code",
   "execution_count": 30,
   "metadata": {},
   "outputs": [
    {
     "name": "stdout",
     "output_type": "stream",
     "text": [
      "[]\n"
     ]
    }
   ],
   "source": [
    "start_sub_section = Section(\n",
    "    section_name='StartSubSection',\n",
    "    start_section=SectionBreak('StartSection', break_offset='Before'),\n",
    "    end_section=SectionBreak('StartSection', break_offset='Before'),\n",
    "    end_on_first_item=True\n",
    "    )\n",
    "\n",
    "pprint(start_sub_section.read(GENERIC_TEST_TEXT))"
   ]
  },
  {
   "cell_type": "markdown",
   "metadata": {},
   "source": [
    "![Good](../examples/Valid.png) The ending SectionBreak triggers on the same \n",
    "item that triggers the start of the section.  This will always result in an \n",
    "empty section.\n",
    "\n",
    "|Expected|Actual|\n",
    "|-|-|\n",
    "|[]|[]|"
   ]
  },
  {
   "cell_type": "markdown",
   "metadata": {},
   "source": [
    "#### Single Line Section.\n",
    "- Using the same sentinel *('EndSection')*, but different `break_offset`.\n",
    "    > `start_section=SectionBreak('EndSection', break_offset='Before')`<br>\n",
    "    > `end_section=SectionBreak('EndSection', break_offset='After')`<br>\n",
    "\n",
    "- Allow testing of the first line of section.\n",
    "    > `end_on_first_item=True` "
   ]
  },
  {
   "cell_type": "code",
   "execution_count": 31,
   "metadata": {},
   "outputs": [
    {
     "name": "stdout",
     "output_type": "stream",
     "text": [
      "['EndSection A']\n"
     ]
    }
   ],
   "source": [
    "end_sub_section = Section(\n",
    "    section_name='EndSubSection',\n",
    "    start_section=SectionBreak('EndSection', break_offset='Before'),\n",
    "    end_section=SectionBreak('EndSection', break_offset='After'),\n",
    "    end_on_first_item=True\n",
    "    )\n",
    "\n",
    "pprint(end_sub_section.read(GENERIC_TEST_TEXT))"
   ]
  },
  {
   "cell_type": "markdown",
   "metadata": {},
   "source": [
    "![Good](../examples/Valid.png) Single line section.\n",
    "- Starts *Before* **EndSection** \n",
    "- Ends *After* **EndSection** (the same line)\n",
    "\n",
    "|Expected|Actual|\n",
    "|-|-|\n",
    "|['EndSection A']|['EndSection A']|"
   ]
  },
  {
   "cell_type": "markdown",
   "metadata": {},
   "source": [
    "#### Same section definition as above except with `end_on_first_item=False` "
   ]
  },
  {
   "cell_type": "code",
   "execution_count": 32,
   "metadata": {},
   "outputs": [
    {
     "name": "stdout",
     "output_type": "stream",
     "text": [
      "['EndSection A', 'StartSection B', 'EndSection B']\n"
     ]
    }
   ],
   "source": [
    "end_sub_section = Section(\n",
    "    section_name='EndSubSection',\n",
    "    start_section=SectionBreak('EndSection', break_offset='Before'),\n",
    "    end_section=SectionBreak('EndSection', break_offset='After'),\n",
    "    end_on_first_item=False\n",
    "    )\n",
    "\n",
    "pprint(end_sub_section.read(GENERIC_TEST_TEXT))"
   ]
  },
  {
   "cell_type": "markdown",
   "metadata": {},
   "source": [
    "![Good](../examples/Valid.png) Section continues until **After** next \n",
    "*EndSection* is found\n",
    "\n",
    "<table>\n",
    "    <thead><th>Expected</th><th>Actual</th></thead>\n",
    "    <tr>\n",
    "        <td><code>\n",
    "          ['EndSection Name: A',<br> \n",
    "          'StartSection Name: B',<br>\n",
    "          'EndSection Name: B']\n",
    "        </code></td>\n",
    "        <td><code>\n",
    "          ['EndSection Name: A',<br>\n",
    "          'StartSection Name: B',<br>\n",
    "          'EndSection Name: B']\n",
    "        </code></td></tr>\n",
    "</table>"
   ]
  },
  {
   "cell_type": "markdown",
   "metadata": {},
   "source": [
    "## Multiple Single line sections\n",
    "### Single line section *StartSection*\n",
    "> - Start *Before* `StartSection`\n",
    "> - End *Before* `EndSection`"
   ]
  },
  {
   "cell_type": "code",
   "execution_count": 33,
   "metadata": {},
   "outputs": [
    {
     "name": "stdout",
     "output_type": "stream",
     "text": [
      "['StartSection A']\n",
      "['StartSection B']\n",
      "[]\n"
     ]
    }
   ],
   "source": [
    "sub_section1 = Section(\n",
    "    section_name='SubSection',\n",
    "    start_section=SectionBreak('StartSection', break_offset='Before'),\n",
    "    end_section=SectionBreak('EndSection', break_offset='Before')\n",
    "    )\n",
    "\n",
    "test_iter = BufferedIterator(GENERIC_TEST_TEXT)\n",
    "pprint(sub_section1.read(test_iter))\n",
    "pprint(sub_section1.read(test_iter))\n",
    "pprint(sub_section1.read(test_iter))"
   ]
  },
  {
   "cell_type": "markdown",
   "metadata": {},
   "source": [
    "![Good](../examples/Valid.png) Single line `StartSections` are returned\n",
    "|Expected|Actual|\n",
    "|-|-|\n",
    "|`['StartSection Name: A']`|`['StartSection Name: A']`|\n",
    "|`['StartSection Name: B']`|`['StartSection Name: B']`|\n",
    "|`[]`|`[]`|"
   ]
  },
  {
   "cell_type": "markdown",
   "metadata": {},
   "source": [
    "### Defining a section that calls `sub_section1`"
   ]
  },
  {
   "cell_type": "code",
   "execution_count": 34,
   "metadata": {},
   "outputs": [
    {
     "name": "stdout",
     "output_type": "stream",
     "text": [
      "['Text to be ignored',\n",
      " 'StartSection A',\n",
      " 'EndSection A',\n",
      " 'StartSection B',\n",
      " 'EndSection B']\n"
     ]
    }
   ],
   "source": [
    "full_section = Section(\n",
    "    section_name='Full',\n",
    "    end_section=SectionBreak('ignored', break_offset='Before'),\n",
    "    subsections=[sub_section1]\n",
    "    )\n",
    "pprint(full_section.read(GENERIC_TEST_TEXT))"
   ]
  },
  {
   "cell_type": "markdown",
   "metadata": {},
   "source": [
    "![Good](../examples/Valid.png) Both *StartSection* lines are found.\n",
    "\n",
    "<table>\n",
    "    <thead><th>Expected</th><th>Actual</th></thead>\n",
    "    <tr>\n",
    "        <td><code>\n",
    "        [<br>\n",
    "          ['StartSection Name: A'],<br>\n",
    "          ['StartSection Name: B'],<br>\n",
    "        ]</code></td>\n",
    "        <td><code>\n",
    "        [<br>\n",
    "          ['StartSection Name: A'],<br>\n",
    "          ['StartSection Name: B'],<br>\n",
    "        ]</code></td></tr>\n",
    "</table>"
   ]
  },
  {
   "cell_type": "markdown",
   "metadata": {},
   "source": [
    "### Multiple Attempts to define Single line *EndSection* \n",
    "#### Attempt #1. Copy *StartSection* design\n",
    "> - Start *Before* `EndSection`\n",
    "> - End *Before* `StartSection`\n"
   ]
  },
  {
   "cell_type": "code",
   "execution_count": 35,
   "metadata": {},
   "outputs": [
    {
     "name": "stdout",
     "output_type": "stream",
     "text": [
      "['EndSection A']\n",
      "['EndSection B', 'More text to be ignored']\n",
      "[]\n"
     ]
    }
   ],
   "source": [
    "sub_section2a = Section(\n",
    "    section_name='SubSection',\n",
    "    start_section=SectionBreak('EndSection', break_offset='Before'),\n",
    "    end_section=SectionBreak('StartSection', break_offset='Before')\n",
    "    )\n",
    "test_iter = BufferedIterator(GENERIC_TEST_TEXT)\n",
    "pprint(sub_section2a.read(test_iter))\n",
    "pprint(sub_section2a.read(test_iter))\n",
    "pprint(sub_section2a.read(test_iter))"
   ]
  },
  {
   "cell_type": "markdown",
   "metadata": {},
   "source": [
    "![Good](../examples/Valid.png) The result is expected, but not desired.\n",
    "- This doesn't work well because there isn't another *StartSection* after the last it *EndSection*.\n",
    "- As a result, it includes the unwanted text after the last *EndSection*.\n",
    " \n",
    "|Expected|Actual|\n",
    "|-|-|\n",
    "|`['EndSection A']`|`['EndSection A']`|\n",
    "|`['EndSection B', 'More text to be ignored']`|`['EndSection B', 'More text to be ignored']`|\n",
    "|`[]`|`[]`|"
   ]
  },
  {
   "cell_type": "markdown",
   "metadata": {},
   "source": [
    "#### Attempt #2\n",
    "> - Start *Before* `EndSection`\n",
    "> - End *After* `EndSection`\n",
    "\n",
    "- This doesn't work because The first line is not tested so it only breaks after the second occurrence of *EndSection*."
   ]
  },
  {
   "cell_type": "code",
   "execution_count": 36,
   "metadata": {},
   "outputs": [
    {
     "name": "stdout",
     "output_type": "stream",
     "text": [
      "['EndSection A', 'StartSection B', 'EndSection B']\n",
      "[]\n",
      "[]\n"
     ]
    }
   ],
   "source": [
    "sub_section2b = Section(\n",
    "    section_name='SubSection',\n",
    "    start_section=SectionBreak('EndSection', break_offset='Before'),\n",
    "    end_section=SectionBreak('EndSection', break_offset='After'),\n",
    "    )\n",
    "test_iter = BufferedIterator(GENERIC_TEST_TEXT)\n",
    "pprint(sub_section2b.read(test_iter))\n",
    "pprint(sub_section2b.read(test_iter))\n",
    "pprint(sub_section2b.read(test_iter))"
   ]
  },
  {
   "cell_type": "markdown",
   "metadata": {},
   "source": [
    "![Good](../examples/Valid.png) \n",
    "\n",
    "|Expected|Actual|\n",
    "|-|-|\n",
    "|`['EndSection A', 'StartSection B', 'EndSection B']`|`['EndSection A', 'StartSection B', 'EndSection B']`|\n",
    "|`[]`|`[]`|\n",
    "|`[]`|`[]`|\n"
   ]
  },
  {
   "cell_type": "markdown",
   "metadata": {},
   "source": [
    "#### Attempt #3\n",
    "> - Start *Before* `EndSection`\n",
    "> - End *After* `EndSection`\n",
    "> - Enable testing of first item\n",
    "\n",
    "- This should work because the first line should be tested and trigger a break."
   ]
  },
  {
   "cell_type": "code",
   "execution_count": 37,
   "metadata": {},
   "outputs": [
    {
     "name": "stdout",
     "output_type": "stream",
     "text": [
      "['EndSection A']\n",
      "['EndSection B']\n",
      "[]\n"
     ]
    }
   ],
   "source": [
    "sub_section2c = Section(\n",
    "    section_name='SubSection',\n",
    "    start_section=SectionBreak('EndSection', break_offset='Before'),\n",
    "    end_section=SectionBreak('EndSection', break_offset='After'),\n",
    "    end_on_first_item=True,\n",
    "    )\n",
    "test_iter = BufferedIterator(GENERIC_TEST_TEXT)\n",
    "pprint(sub_section2c.read(test_iter))\n",
    "pprint(sub_section2c.read(test_iter))\n",
    "pprint(sub_section2c.read(test_iter))"
   ]
  },
  {
   "cell_type": "markdown",
   "metadata": {},
   "source": [
    "![Good](../examples/Valid.png) \n",
    "\n",
    "|Expected|Actual|\n",
    "|-|-|\n",
    "|`['EndSection A']`|`['EndSection A']`|\n",
    "|`['EndSection B']`|`['EndSection B']`|\n",
    "|`[]`|`[]`|\n"
   ]
  },
  {
   "cell_type": "markdown",
   "metadata": {},
   "source": [
    "#### Attempt #3.5\n",
    "> - Start *Before* `EndSection`\n",
    "> - End *Before* `EndSection`\n",
    "> - Enable testing of first item\n",
    "\n",
    "- This should __<u>not</u>__ work because the first line should be tested and \n",
    "  trigger a break before returning anything."
   ]
  },
  {
   "cell_type": "code",
   "execution_count": 38,
   "metadata": {},
   "outputs": [
    {
     "name": "stdout",
     "output_type": "stream",
     "text": [
      "[]\n",
      "[]\n",
      "[]\n"
     ]
    }
   ],
   "source": [
    "sub_section2cc = Section(\n",
    "    section_name='SubSection',\n",
    "    start_section=SectionBreak('EndSection', break_offset='Before'),\n",
    "    end_section=SectionBreak('EndSection', break_offset='Before'),\n",
    "    end_on_first_item=True,\n",
    "    )\n",
    "test_iter = BufferedIterator(GENERIC_TEST_TEXT)\n",
    "pprint(sub_section2cc.read(test_iter))\n",
    "pprint(sub_section2cc.read(test_iter))\n",
    "pprint(sub_section2cc.read(test_iter))"
   ]
  },
  {
   "cell_type": "markdown",
   "metadata": {},
   "source": [
    "![Good](../examples/Valid.png) \n",
    "\n",
    "|Expected|Actual|\n",
    "|-|-|\n",
    "|`[]`|`[]`|\n",
    "|`[]`|`[]`|\n",
    "|`[]`|`[]`|\n"
   ]
  },
  {
   "cell_type": "markdown",
   "metadata": {},
   "source": [
    "#### Attempt #4\n",
    "> - Start *Before* `EndSection`\n",
    "> - End is `True` (Always Break)\n",
    "> - Enable testing of first item\n",
    "\n",
    "- This should work because the first line should be tested and always trigger a break."
   ]
  },
  {
   "cell_type": "code",
   "execution_count": 39,
   "metadata": {},
   "outputs": [
    {
     "name": "stdout",
     "output_type": "stream",
     "text": [
      "['EndSection A']\n",
      "['EndSection B']\n",
      "[]\n"
     ]
    }
   ],
   "source": [
    "sub_section2d = Section(\n",
    "    section_name='SubSection',\n",
    "    start_section=SectionBreak('EndSection', break_offset='Before'),\n",
    "    end_section=SectionBreak(True, break_offset='After'),\n",
    "    end_on_first_item=True,\n",
    "    )\n",
    "test_iter = BufferedIterator(GENERIC_TEST_TEXT)\n",
    "pprint(sub_section2d.read(test_iter))\n",
    "pprint(sub_section2d.read(test_iter))\n",
    "pprint(sub_section2d.read(test_iter))"
   ]
  },
  {
   "cell_type": "markdown",
   "metadata": {},
   "source": [
    "![Good](../examples/Valid.png) \n",
    "\n",
    "|Expected|Actual|\n",
    "|-|-|\n",
    "|`['StartSection A']`|`['EndSection A']`|\n",
    "|`['StartSection B']`|`['EndSection B']`|\n",
    "|`[]`|`[]`|"
   ]
  },
  {
   "cell_type": "markdown",
   "metadata": {},
   "source": [
    "#### Attempt #5\n",
    "> - Start *Before* `EndSection`\n",
    "> - End is `True` (Always Break)\n",
    "> - Don't enable testing of first item\n",
    "\n",
    "- This should <u>not</u> work because the break should trigger on the second line."
   ]
  },
  {
   "cell_type": "code",
   "execution_count": 40,
   "metadata": {},
   "outputs": [
    {
     "name": "stdout",
     "output_type": "stream",
     "text": [
      "['EndSection A', 'StartSection B']\n",
      "['EndSection B', 'More text to be ignored']\n",
      "[]\n"
     ]
    }
   ],
   "source": [
    "sub_section2e = Section(\n",
    "    section_name='SubSection',\n",
    "    start_section=SectionBreak('EndSection', break_offset='Before'),\n",
    "    end_section=SectionBreak(True, break_offset='After')\n",
    "    )\n",
    "test_iter = BufferedIterator(GENERIC_TEST_TEXT)\n",
    "pprint(sub_section2e.read(test_iter))\n",
    "pprint(sub_section2e.read(test_iter))\n",
    "pprint(sub_section2e.read(test_iter))"
   ]
  },
  {
   "cell_type": "markdown",
   "metadata": {},
   "source": [
    "![Good](../examples/Valid.png) \n",
    "\n",
    "|Expected|Actual|\n",
    "|-|-|\n",
    "|`['EndSection A', 'StartSection B']`|`['EndSection A', 'StartSection B']`|\n",
    "|`['EndSection B', 'More text to be ignored']`|`['EndSection B', 'More text to be ignored']`|\n",
    "|`[]`|`[]`|\n",
    "\n",
    "**`end_section=SectionBreak(True)` defaults to `break_offset='Before'`**"
   ]
  },
  {
   "cell_type": "markdown",
   "metadata": {},
   "source": [
    "#### Attempt #6\n",
    "> - Start *Before* `EndSection`\n",
    "> - End *After* ___`True`___ (Always Break)\n",
    "> - Don't enable testing of first item\n",
    "\n",
    "- This should <u>not</u> work because the break should trigger *After* the second line."
   ]
  },
  {
   "cell_type": "code",
   "execution_count": 41,
   "metadata": {},
   "outputs": [
    {
     "name": "stdout",
     "output_type": "stream",
     "text": [
      "['EndSection A', 'StartSection B']\n",
      "['EndSection B', 'More text to be ignored']\n",
      "[]\n"
     ]
    }
   ],
   "source": [
    "sub_section2f = Section(\n",
    "    section_name='SubSection',\n",
    "    start_section=SectionBreak('EndSection', break_offset='Before'),\n",
    "    end_section=SectionBreak(True, break_offset='After')\n",
    "    )\n",
    "test_iter = BufferedIterator(GENERIC_TEST_TEXT)\n",
    "pprint(sub_section2f.read(test_iter))\n",
    "pprint(sub_section2f.read(test_iter))\n",
    "pprint(sub_section2f.read(test_iter))"
   ]
  },
  {
   "cell_type": "markdown",
   "metadata": {},
   "source": [
    "![Good](../examples/Valid.png)\n",
    "|Expected|Actual|\n",
    "|-|-|\n",
    "|`['EndSection A', 'StartSection B']`|`['EndSection A', 'StartSection B']`|\n",
    "|`['EndSection B', 'More text to be ignored']`|`['EndSection B', 'More text to be ignored']`|\n",
    "|`[]`|`[]`|"
   ]
  },
  {
   "cell_type": "markdown",
   "metadata": {},
   "source": [
    "#### Attempt #7\n",
    "> - Start *Before* `EndSection`\n",
    "> - Enable testing of first item\n",
    "> - No End setting\n",
    "\n",
    "- This should start with the first *EndSection* line and not stop until the end of the iterator."
   ]
  },
  {
   "cell_type": "code",
   "execution_count": 42,
   "metadata": {},
   "outputs": [
    {
     "name": "stdout",
     "output_type": "stream",
     "text": [
      "['EndSection A', 'StartSection B', 'EndSection B', 'More text to be ignored']\n",
      "[]\n",
      "[]\n"
     ]
    }
   ],
   "source": [
    "sub_section2g = Section(\n",
    "    section_name='SubSection',\n",
    "    start_section=SectionBreak('EndSection', break_offset='Before'),\n",
    "    end_on_first_item=True,\n",
    "    )\n",
    "test_iter = BufferedIterator(GENERIC_TEST_TEXT)\n",
    "pprint(sub_section2g.read(test_iter))\n",
    "pprint(sub_section2g.read(test_iter))\n",
    "pprint(sub_section2g.read(test_iter))"
   ]
  },
  {
   "cell_type": "markdown",
   "metadata": {},
   "source": [
    "![Good](../examples/Valid.png)\n",
    "|Expected|Actual|\n",
    "|-|-|\n",
    "|`['EndSection Name: A', ['StartSection Name: B', 'EndSection Name: B', 'More text to be ignored']`|`['EndSection Name: A', 'StartSection Name: B', 'EndSection Name: B', 'More text to be ignored']`|\n",
    "|`[]`|`[]`|\n",
    "|`[]`|`[]`|\n"
   ]
  },
  {
   "cell_type": "markdown",
   "metadata": {},
   "source": [
    "#### Single line section *EndSection* __Final Design__.\n",
    "> - Start *Before* `EndSection`\n",
    "> - End *Before* ___`True`___ (Always Break)\n",
    "> - Don't enable testing of first item\n",
    "\n",
    "- This should work because the break should trigger *Before* the second line."
   ]
  },
  {
   "cell_type": "code",
   "execution_count": 43,
   "metadata": {},
   "outputs": [
    {
     "name": "stdout",
     "output_type": "stream",
     "text": [
      "['EndSection A']\n",
      "['EndSection B']\n",
      "[]\n"
     ]
    }
   ],
   "source": [
    "sub_section2 = Section(\n",
    "    section_name='SubSection',\n",
    "    start_section=SectionBreak('EndSection', break_offset='Before'),\n",
    "    end_section=SectionBreak(True, break_offset='Before')\n",
    "    )\n",
    "test_iter = BufferedIterator(GENERIC_TEST_TEXT)\n",
    "pprint(sub_section2.read(test_iter))\n",
    "pprint(sub_section2.read(test_iter))\n",
    "pprint(sub_section2.read(test_iter))"
   ]
  },
  {
   "cell_type": "markdown",
   "metadata": {},
   "source": [
    "![Good](../examples/Valid.png) End breaks *Before* second line. \n",
    "\n",
    "|Expected|Actual|\n",
    "|-|-|\n",
    "|`['EndSection Name: A']`|`['EndSection Name: A']`|\n",
    "|`['EndSection Name: B']`|`['EndSection Name: B']`|\n",
    "|`[]`|`[]`|"
   ]
  },
  {
   "cell_type": "markdown",
   "metadata": {},
   "source": [
    "### Combined Start and End subsections Single line section \n",
    "***sub_section1***\n",
    "> - Start *Before* `StartSection`\n",
    "> - End *Before* `EndSection`\n",
    "\n",
    "***sub_section2*** \n",
    "> - Start *Before* `EndSection`\n",
    "> - End *Before* ___`True`___ (Always Break)\n",
    "> - Don't enable testing of first item\n",
    "\n",
    "`subsections=[sub_section1, sub_section2]`"
   ]
  },
  {
   "cell_type": "code",
   "execution_count": 44,
   "metadata": {},
   "outputs": [
    {
     "name": "stdout",
     "output_type": "stream",
     "text": [
      "['Text to be ignored',\n",
      " 'StartSection A',\n",
      " 'EndSection A',\n",
      " 'StartSection B',\n",
      " 'EndSection B',\n",
      " 'More text to be ignored']\n"
     ]
    }
   ],
   "source": [
    "\n",
    "full_section = Section(\n",
    "    section_name='Full',\n",
    "    subsections=[sub_section1, sub_section2]\n",
    "    )\n",
    "pprint(full_section.read(GENERIC_TEST_TEXT))"
   ]
  },
  {
   "cell_type": "markdown",
   "metadata": {},
   "source": [
    "![Good](../examples/Valid.png) Tree list levels with single item in deepest level andm two items in each of the other two levels.\n",
    "\n",
    "|Expected|Actual|\n",
    "|-|-|\n",
    "|`[['StartSection Name: A'], ['EndSection Name: A']]`|`[['StartSection Name: A'], ['EndSection Name: A']]`|\n",
    "|`[['StartSection Name: B'], ['EndSection Name: B']]`|`[['StartSection Name: B'], ['EndSection Name: B']]`|"
   ]
  },
  {
   "cell_type": "markdown",
   "metadata": {},
   "source": [
    "## `keep_partial` Tests\n",
    "**keep_partial is not currently being implemented.**\n",
    " \n",
    "The `keep_partial` parameter in a section definition only applies when a list of subsections is given.  For all other cases the `keep_partial` parameter is ignored.\n",
    "With a parent section definition that contains a list of subsections, a situation can occur where the parent section or the source ends before all of the subsections have been completed. \n",
    "- When `keep_partial=True` is set the final subsection list returned will be missing items for the subsections that did nopt get read.\n",
    "\n",
    "- When `keep_partial=False` (the default) is set the incomplete final subsection list is not returned."
   ]
  },
  {
   "cell_type": "markdown",
   "metadata": {},
   "source": [
    "### Defining a Top Section that calls two single line subsections."
   ]
  },
  {
   "cell_type": "markdown",
   "metadata": {},
   "source": [
    "#### Two Subsection definitions "
   ]
  },
  {
   "cell_type": "code",
   "execution_count": 45,
   "metadata": {},
   "outputs": [],
   "source": [
    "start_sub_section = Section(\n",
    "    section_name='StartSubSection',\n",
    "    start_section=SectionBreak('StartSection', break_offset='Before'),\n",
    "    end_section=SectionBreak(True, break_offset='Before')\n",
    "    )\n",
    "\n",
    "end_sub_section = Section(\n",
    "    section_name='EndSubSection',\n",
    "    start_section=SectionBreak('EndSection', break_offset='Before'),\n",
    "    end_section=SectionBreak(True, break_offset='Before')\n",
    "    )"
   ]
  },
  {
   "cell_type": "markdown",
   "metadata": {},
   "source": [
    "#### Defining ***top_section*** \n",
    "- Contains an ending break:\n",
    "    > `end_section=SectionBreak('ignored', break_offset='Before')`."
   ]
  },
  {
   "cell_type": "code",
   "execution_count": 46,
   "metadata": {},
   "outputs": [
    {
     "name": "stdout",
     "output_type": "stream",
     "text": [
      "['Text to be ignored',\n",
      " 'StartSection A',\n",
      " 'EndSection A',\n",
      " 'StartSection B',\n",
      " 'EndSection B']\n"
     ]
    }
   ],
   "source": [
    "top_section = Section(\n",
    "    section_name='Top Section',\n",
    "    end_section=SectionBreak('ignored', break_offset='Before'),\n",
    "    subsections=[start_sub_section, end_sub_section]\n",
    "    )\n",
    "pprint(top_section.read(GENERIC_TEST_TEXT))"
   ]
  },
  {
   "cell_type": "markdown",
   "metadata": {},
   "source": [
    "![Good](../examples/Valid.png) The Subsections are returned as lists of lists.\n",
    "\n",
    "<table>\n",
    "    <thead><th>Expected</th><th>Actual</th></thead>\n",
    "    <tr>\n",
    "        <td><code>\n",
    "          [<br>\n",
    "            [['StartSection Name: A'],<br>\n",
    "             ['EndSection Name: A']],<br>\n",
    "             [['StartSection Name: B'],<br>\n",
    "              ['EndSection Name: B']]<br>\n",
    "          ]\n",
    "        </code></td>\n",
    "        <td><code>\n",
    "          [<br>\n",
    "            [['StartSection Name: A'],<br>\n",
    "             ['EndSection Name: A']],<br>\n",
    "             [['StartSection Name: B'],<br>\n",
    "              ['EndSection Name: B']]<br>\n",
    "          ]\n",
    "        </code></td></tr>\n",
    "</table>"
   ]
  },
  {
   "cell_type": "markdown",
   "metadata": {},
   "source": [
    "#### Including unwanted text in between the start and end of subsection C"
   ]
  },
  {
   "cell_type": "code",
   "execution_count": 47,
   "metadata": {},
   "outputs": [
    {
     "name": "stdout",
     "output_type": "stream",
     "text": [
      "['Text to be ignored',\n",
      " 'StartSection A',\n",
      " 'EndSection A',\n",
      " 'StartSection B',\n",
      " 'EndSection B',\n",
      " 'StartSection C']\n"
     ]
    }
   ],
   "source": [
    "GENERIC_TEST_TEXT1 = [\n",
    "    'Text to be ignored',\n",
    "    'StartSection A',\n",
    "    'EndSection A',\n",
    "    'StartSection B',\n",
    "    'EndSection B',\n",
    "    'StartSection C',\n",
    "    'More text to be ignored',   # 'ignored' triggers end of top section\n",
    "    'EndSection C',\n",
    "    'Even more text to be ignored', \n",
    "    ]\n",
    "\n",
    "pprint(top_section.read(GENERIC_TEST_TEXT1))"
   ]
  },
  {
   "cell_type": "markdown",
   "metadata": {},
   "source": [
    "![Good](../examples/Valid.png) Subsections A and B are returned Subsections C \n",
    "has an empty list instead of 'EndSection C'.\n",
    "\n",
    "<table>\n",
    "    <thead><th>Expected</th><th>Actual</th></thead>\n",
    "    <tr>\n",
    "        <td><code>\n",
    "          [<br>\n",
    "            [['StartSection A'], ['EndSection A']],<br>\n",
    "             [['StartSection B'], ['EndSection B']]<br>\n",
    "             [['StartSection C'], []]<br>\n",
    "          ]\n",
    "        </code></td>\n",
    "        <td><code>\n",
    "          [<br>\n",
    "            [['StartSection A'], ['EndSection A']],<br>\n",
    "            [['StartSection B'], ['EndSection B']]<br>\n",
    "            [['StartSection C'], []]<br>            \n",
    "          ]\n",
    "        </code></td></tr>\n",
    "</table>"
   ]
  },
  {
   "cell_type": "markdown",
   "metadata": {},
   "source": [
    "#### Setting `keep_partial=False`\n",
    "- This should be the default"
   ]
  },
  {
   "cell_type": "code",
   "execution_count": 48,
   "metadata": {},
   "outputs": [
    {
     "name": "stdout",
     "output_type": "stream",
     "text": [
      "['Text to be ignored',\n",
      " 'StartSection A',\n",
      " 'EndSection A',\n",
      " 'StartSection B',\n",
      " 'EndSection B',\n",
      " 'StartSection C']\n"
     ]
    }
   ],
   "source": [
    "top_section = Section(\n",
    "    section_name='Top Section',\n",
    "    end_section=SectionBreak('ignored', break_offset='Before'),\n",
    "    subsections=[start_sub_section, end_sub_section],\n",
    "    keep_partial=False\n",
    "    )\n",
    "\n",
    "pprint(top_section.read(GENERIC_TEST_TEXT1))"
   ]
  },
  {
   "cell_type": "markdown",
   "metadata": {},
   "source": [
    "![Good](../examples/Valid.png) Subsections A and B are returned Subsections C \n",
    "has an empty list instead of 'EndSection C'.\n",
    "- 3rd section group never starts because **ignored** *Top Section* break line \n",
    "  occurs before next **EndSection**, so 2nd never finishes.\n",
    "\n",
    "\n",
    "<table>\n",
    "    <thead><th>Expected</th><th>Actual</th></thead>\n",
    "    <tr>\n",
    "        <td><code>\n",
    "          [<br>\n",
    "            [['StartSection A'], ['EndSection A']],<br>\n",
    "             [['StartSection B'], ['EndSection B']]<br>\n",
    "             [['StartSection C'], []]<br>\n",
    "          ]\n",
    "        </code></td>\n",
    "        <td><code>\n",
    "          [<br>\n",
    "            [['StartSection A'], ['EndSection A']],<br>\n",
    "            [['StartSection B'], ['EndSection B']]<br>\n",
    "            [['StartSection C'], []]<br>            \n",
    "          ]\n",
    "        </code></td></tr>\n",
    "</table>"
   ]
  },
  {
   "cell_type": "markdown",
   "metadata": {},
   "source": [
    "#### Setting `keep_partial=True`"
   ]
  },
  {
   "cell_type": "code",
   "execution_count": 49,
   "metadata": {},
   "outputs": [
    {
     "name": "stdout",
     "output_type": "stream",
     "text": [
      "['Text to be ignored',\n",
      " 'StartSection A',\n",
      " 'EndSection A',\n",
      " 'StartSection B',\n",
      " 'EndSection B',\n",
      " 'StartSection C']\n"
     ]
    }
   ],
   "source": [
    "top_section = Section(\n",
    "    section_name='Top Section',\n",
    "    end_section=SectionBreak('ignored', break_offset='Before'),\n",
    "    subsections=[start_sub_section, end_sub_section],\n",
    "    keep_partial=True\n",
    "    )\n",
    "\n",
    "pprint(top_section.read(GENERIC_TEST_TEXT1))"
   ]
  },
  {
   "cell_type": "markdown",
   "metadata": {},
   "source": [
    "![Good](../examples/Valid.png) Subsections A and B are returned Subsections C \n",
    "has an empty list instead of 'EndSection C'.\n",
    "- 3rd section group never starts because **ignored** *Top Section* break line \n",
    "  occurs before next **EndSection**, so 2nd never finishes.\n",
    "\n",
    "<table>\n",
    "    <thead><th>Expected</th><th>Actual</th></thead>\n",
    "    <tr>\n",
    "        <td><code>\n",
    "          [<br>\n",
    "            [['StartSection A'], ['EndSection A']],<br>\n",
    "            [['StartSection B'], ['EndSection B']]<br>\n",
    "            [['StartSection C'], []]<br>\n",
    "          ]\n",
    "        </code></td>\n",
    "        <td><code>\n",
    "          [<br>\n",
    "            [['StartSection A'], ['EndSection A']],<br>\n",
    "            [['StartSection B'], ['EndSection B']]<br>\n",
    "            [['StartSection C'], []]<br>\n",
    "          ]\n",
    "        </code></td></tr>\n",
    "</table>"
   ]
  },
  {
   "cell_type": "markdown",
   "metadata": {},
   "source": [
    "##### Using same `keep_partial=True` setting with original source."
   ]
  },
  {
   "cell_type": "code",
   "execution_count": 50,
   "metadata": {},
   "outputs": [
    {
     "name": "stdout",
     "output_type": "stream",
     "text": [
      "['Text to be ignored',\n",
      " 'StartSection A',\n",
      " 'EndSection A',\n",
      " 'StartSection B',\n",
      " 'EndSection B']\n"
     ]
    }
   ],
   "source": [
    "pprint(top_section.read(GENERIC_TEST_TEXT))"
   ]
  },
  {
   "cell_type": "markdown",
   "metadata": {},
   "source": [
    "![Good](../examples/Valid.png) `keep_partial=True` has no effect because both \n",
    "subsections A and B are completed. \n",
    "\n",
    "<table>\n",
    "    <thead><th>Expected</th><th>Actual</th></thead>\n",
    "    <tr>\n",
    "        <td><code>\n",
    "          [<br>\n",
    "            [['StartSection Name: A'], ['EndSection Name: A']],<br>\n",
    "            [['StartSection Name: B'], ['EndSection Name: B']]<br>\n",
    "          ]\n",
    "        </code></td>\n",
    "        <td><code>\n",
    "          [<br>\n",
    "            [['StartSection Name: A'], ['EndSection Name: A']],<br>\n",
    "            [['StartSection Name: B'], ['EndSection Name: B']]<br>\n",
    "          ]\n",
    "        </code></td></tr>\n",
    "</table>"
   ]
  },
  {
   "cell_type": "markdown",
   "metadata": {},
   "source": [
    "##### Using same `keep_partial=True` with only `end_sub_section`."
   ]
  },
  {
   "cell_type": "code",
   "execution_count": 51,
   "metadata": {},
   "outputs": [
    {
     "name": "stdout",
     "output_type": "stream",
     "text": [
      "['Text to be ignored',\n",
      " 'StartSection A',\n",
      " 'EndSection A',\n",
      " 'StartSection B',\n",
      " 'EndSection B',\n",
      " 'StartSection C']\n"
     ]
    }
   ],
   "source": [
    "top_section = Section(\n",
    "    section_name='Top Section',\n",
    "    end_section=SectionBreak('ignored', break_offset='Before'),\n",
    "    subsections=[end_sub_section],\n",
    "    keep_partial=True\n",
    "    )\n",
    "\n",
    "pprint(top_section.read(GENERIC_TEST_TEXT1))"
   ]
  },
  {
   "cell_type": "markdown",
   "metadata": {},
   "source": [
    "![Good](../examples/Valid.png) `keep_partial=True` has no effect because single \n",
    "subsections are processed differently. \n",
    "- Results in one less level of lists.\n",
    "\n",
    "<table>\n",
    "    <thead><th>Expected</th><th>Actual</th></thead>\n",
    "    <tr>\n",
    "        <td><code>\n",
    "          [<br>\n",
    "            ['EndSection Name: A'],<br>\n",
    "            ['EndSection Name: B']<br>\n",
    "          ]\n",
    "        </code></td>\n",
    "        <td><code>\n",
    "          [<br>\n",
    "            ['EndSection Name: A'],<br>\n",
    "            ['EndSection Name: B']<br>\n",
    "          ]\n",
    "        </code></td></tr>\n",
    "</table>"
   ]
  },
  {
   "cell_type": "markdown",
   "metadata": {},
   "source": [
    "#### Dropping the corresponding *EndSection* for a *StartSection*."
   ]
  },
  {
   "cell_type": "code",
   "execution_count": 52,
   "metadata": {},
   "outputs": [],
   "source": [
    "GENERIC_TEST_TEXT2 = [\n",
    "    'Text to be ignored',\n",
    "    'StartSection A',\n",
    "    'EndSection A',\n",
    "    'StartSection B',  # Missing 'EndSection B',\n",
    "    \n",
    "    'StartSection C',\n",
    "    'More text to be ignored',   # 'ignored' triggers end of top section\n",
    "    'EndSection C',\n",
    "    'Even more text to be ignored', \n",
    "    ]"
   ]
  },
  {
   "cell_type": "code",
   "execution_count": 53,
   "metadata": {},
   "outputs": [
    {
     "name": "stdout",
     "output_type": "stream",
     "text": [
      "['Text to be ignored',\n",
      " 'StartSection A',\n",
      " 'EndSection A',\n",
      " 'StartSection B',\n",
      " 'StartSection C']\n"
     ]
    }
   ],
   "source": [
    "top_section = Section(\n",
    "    section_name='Top Section',\n",
    "    end_section=SectionBreak('ignored', break_offset='Before'),\n",
    "    subsections=[start_sub_section, end_sub_section],\n",
    "    keep_partial=True\n",
    "    )\n",
    "\n",
    "pprint(top_section.read(GENERIC_TEST_TEXT2))"
   ]
  },
  {
   "cell_type": "markdown",
   "metadata": {},
   "source": [
    "![Good](../examples/Valid.png) Expecting `['StartSection B'], []`.\n",
    "- 3rd section group never starts because **ignored** *Top Section* break line \n",
    "  occurs before next **EndSection**, so 2nd section never finishes.\n",
    "\n",
    "<table>\n",
    "    <thead><th>Expected</th><th>Actual</th></thead>\n",
    "    <tr>\n",
    "        <td><code>\n",
    "          [<br>\n",
    "            [['StartSection A'], ['EndSection A']],<br>\n",
    "            [['StartSection B'], []]<br>\n",
    "          ]\n",
    "        </code></td>\n",
    "        <td><code>\n",
    "          [<br>\n",
    "            [['StartSection A'], ['EndSection A']],<br>\n",
    "            [['StartSection B'], []]<br>\n",
    "          ]\n",
    "        </code></td></tr>\n",
    "</table>"
   ]
  },
  {
   "cell_type": "code",
   "execution_count": 54,
   "metadata": {},
   "outputs": [
    {
     "name": "stdout",
     "output_type": "stream",
     "text": [
      "['Text to be ignored',\n",
      " 'StartSection A',\n",
      " 'EndSection A',\n",
      " 'StartSection B',\n",
      " 'StartSection C']\n"
     ]
    }
   ],
   "source": [
    "top_section = Section(\n",
    "    section_name='Top Section',\n",
    "    end_section=SectionBreak('ignored', break_offset='Before'),\n",
    "    subsections=[start_sub_section, end_sub_section],\n",
    "    keep_partial=False\n",
    "    )\n",
    "\n",
    "pprint(top_section.read(GENERIC_TEST_TEXT2))"
   ]
  },
  {
   "cell_type": "markdown",
   "metadata": {},
   "source": [
    "![Good](../examples/Valid.png) Expecting partial `['StartSection B'], []`.\n",
    "- 2nd section group never finishes because **ignored** *Top Section* break \n",
    "  line occurs.  Partial subsection should have been dropped.\n",
    "\n",
    "<table>\n",
    "    <thead><th>Expected</th><th>Actual</th></thead>\n",
    "    <tr>\n",
    "        <td><code>\n",
    "          [<br>\n",
    "            [['StartSection A'], ['EndSection A']]<br>\n",
    "            [['StartSection B'], []]<br> \n",
    "          ]\n",
    "        </code></td>\n",
    "        <td><code>\n",
    "          [<br>\n",
    "            [['StartSection A'], ['EndSection A']],<br>\n",
    "            [['StartSection B'], []]<br>\n",
    "          ]\n",
    "        </code></td></tr>\n",
    "</table>"
   ]
  },
  {
   "cell_type": "markdown",
   "metadata": {},
   "source": [
    "### Including unwanted text in between subsections"
   ]
  },
  {
   "cell_type": "code",
   "execution_count": 55,
   "metadata": {},
   "outputs": [
    {
     "name": "stdout",
     "output_type": "stream",
     "text": [
      "['Text to be ignored',\n",
      " 'StartSection Name: A',\n",
      " 'EndSection Name: A',\n",
      " 'StartSection Name: B',\n",
      " 'More text to be ignored',\n",
      " 'EndSection Name: B',\n",
      " 'Even more text to be ignored']\n"
     ]
    }
   ],
   "source": [
    "GENERIC_TEST_TEXT1 = [\n",
    "    'Text to be ignored',\n",
    "    'StartSection Name: A',\n",
    "    'EndSection Name: A',\n",
    "    'StartSection Name: B',\n",
    "    'More text to be ignored', \n",
    "    'EndSection Name: B',\n",
    "    'Even more text to be ignored', \n",
    "    ]\n",
    "\n",
    "pprint(full_section.read(GENERIC_TEST_TEXT1))"
   ]
  },
  {
   "cell_type": "markdown",
   "metadata": {},
   "source": [
    "![Good](../examples/Valid.png) The *to be ignored* text between subsections is dropped.\n",
    "\n",
    "|Expected|Actual|\n",
    "|-|-|\n",
    "|`[['StartSection Name: A'], ['EndSection Name: A']]`|`[['StartSection Name: A'], ['EndSection Name: A']]`|\n",
    "|`[['StartSection Name: B'], ['EndSection Name: B']]`|`[['StartSection Name: B'], ['EndSection Name: B']]`|"
   ]
  },
  {
   "cell_type": "markdown",
   "metadata": {},
   "source": [
    "## Hysteresis Bug Fixed  ![Good](../examples/Valid.png) \n",
    "When `full_section` contains \n",
    "`end_section=SectionBreak('ignored', break_offset='Before')`, repeated calls produce different effects."
   ]
  },
  {
   "cell_type": "markdown",
   "metadata": {},
   "source": [
    "#### Define `SubSection`: \n",
    "- Start *Before* `StartSection`\n",
    "- End *After* `EndSection`"
   ]
  },
  {
   "cell_type": "code",
   "execution_count": 56,
   "metadata": {},
   "outputs": [],
   "source": [
    "sub_section = Section(\n",
    "    section_name='SubSection',\n",
    "    start_section=SectionBreak('StartSection', break_offset='Before', name='SubSectionStart'),\n",
    "    end_section=SectionBreak('EndSection', break_offset='After', name='SubSectionEnd')\n",
    "    )"
   ]
  },
  {
   "cell_type": "markdown",
   "metadata": {},
   "source": [
    "1. Clear Hysteresis by running `full_section` without setting `end_section`\n",
    "2. Define `full_section` with \n",
    "`end_section=SectionBreak('ignored', break_offset='Before')`."
   ]
  },
  {
   "cell_type": "code",
   "execution_count": 57,
   "metadata": {},
   "outputs": [
    {
     "name": "stdout",
     "output_type": "stream",
     "text": [
      "['Text to be ignored',\n",
      " 'StartSection A',\n",
      " 'EndSection A',\n",
      " 'StartSection B',\n",
      " 'EndSection B']\n"
     ]
    }
   ],
   "source": [
    "full_section = Section(\n",
    "    section_name='Full',\n",
    "    subsections=sub_section,\n",
    "    keep_partial=False\n",
    "    )\n",
    "a = full_section.read(GENERIC_TEST_TEXT)\n",
    "b = full_section.read(GENERIC_TEST_TEXT)\n",
    "\n",
    "full_section = Section(\n",
    "    section_name='Full',\n",
    "    end_section=SectionBreak('ignored', break_offset='Before'),\n",
    "    subsections=sub_section\n",
    "    )\n",
    "pprint(full_section.read(GENERIC_TEST_TEXT))"
   ]
  },
  {
   "cell_type": "markdown",
   "metadata": {},
   "source": [
    "![Good](../examples/Valid.png) \n",
    "First time it runs as expected\n",
    "- Both full subsections found. No empty lists afterwards.\n",
    "\n",
    "|Expected|Actual|\n",
    "|-|-|\n",
    "|`['StartSection Name: A', 'EndSection Name: A']`|`['StartSection Name: A', 'EndSection Name: A']`|\n",
    "|`['StartSection Name: B', 'EndSection Name: B']`|`['StartSection Name: B', 'EndSection Name: B']`|"
   ]
  },
  {
   "cell_type": "code",
   "execution_count": 58,
   "metadata": {},
   "outputs": [
    {
     "name": "stdout",
     "output_type": "stream",
     "text": [
      "['Text to be ignored',\n",
      " 'StartSection A',\n",
      " 'EndSection A',\n",
      " 'StartSection B',\n",
      " 'EndSection B']\n"
     ]
    }
   ],
   "source": [
    "pprint(full_section.read(GENERIC_TEST_TEXT))"
   ]
  },
  {
   "cell_type": "markdown",
   "metadata": {},
   "source": [
    "![Good](../examples/Valid.png)  Hysteresis Fixed\n",
    "- Before bug fix, The second time, a line in the first subsection is missing.\n",
    "\n",
    "|Expected|Actual|\n",
    "|-|-|\n",
    "|`['StartSection Name: A', 'EndSection Name: A']`|`['StartSection Name: A', 'EndSection Name: A']`|\n",
    "|`['StartSection Name: B', 'EndSection Name: B']`|`['StartSection Name: B', 'EndSection Name: B']`|\n"
   ]
  },
  {
   "cell_type": "markdown",
   "metadata": {},
   "source": [
    "## Check *Source* status\n",
    "- Check ___Source___ status after section read."
   ]
  },
  {
   "cell_type": "code",
   "execution_count": 59,
   "metadata": {},
   "outputs": [
    {
     "name": "stdout",
     "output_type": "stream",
     "text": [
      "previous_items\n",
      "['StartSection A', 'EndSection A', 'StartSection B', 'EndSection B']\n",
      "\n",
      "future_items\n",
      "['More text to be ignored']\n"
     ]
    }
   ],
   "source": [
    "sub_section = Section(\n",
    "    section_name='SubSection',\n",
    "    start_section=SectionBreak('StartSection', break_offset='Before', name='SubSectionStart'),\n",
    "    end_section=SectionBreak('EndSection', break_offset='After', name='SubSectionEnd')\n",
    "    )\n",
    "full_section = Section(\n",
    "    section_name='Full',\n",
    "    end_section=SectionBreak('ignored', break_offset='Before'),\n",
    "    subsections=sub_section\n",
    "    )\n",
    "a = full_section.read(GENERIC_TEST_TEXT)\n",
    "print('previous_items')\n",
    "pprint(list(full_section.source.previous_items))\n",
    "print()\n",
    "print('future_items')\n",
    "pprint(list(full_section.source.future_items ))"
   ]
  },
  {
   "cell_type": "markdown",
   "metadata": {},
   "source": [
    "#### Expected source values\n",
    "<table>\n",
    "<thead>\n",
    "  <tr>\n",
    "    <th>Buffer</th>\n",
    "    <th>Expected</th>\n",
    "    <th>Actual</th>\n",
    "    <th>Test</th>\n",
    "  </tr>\n",
    "</thead>\n",
    "<tr><td><b>previous_items</b></td>\n",
    "<td><code>['StartSection A', 'EndSection A',<br>\n",
    "           'StartSection B', 'EndSection B']</code></td>\n",
    "<td><code>['StartSection A', 'EndSection A',<br>\n",
    "           'StartSection B', 'EndSection B']</code></td>\n",
    "<td><img src=\"../examples/Valid.png\" alt=\"Good\"/></td></tr>\n",
    "<tr><td><b>future_items</b></td>\n",
    "<td><code>['More text to be ignored']</code></td>\n",
    "<td><code>['More text to be ignored']</code></td>\n",
    "<td><img src=\"../examples/Valid.png\" alt=\"Good\"/></td></tr>\n",
    "</table>"
   ]
  },
  {
   "cell_type": "markdown",
   "metadata": {},
   "source": [
    "## Check Context\n",
    "\n",
    "***Context Standard Items***\n",
    "<table>\n",
    "<thead><th>Item Key</th><th>Value Description</th></thead>\n",
    "<tr><td>Current Section</td>\n",
    "<td>The assigned name of the section <i>self.section_name</i></td></tr>\n",
    "\n",
    "<tr><td>Skipped Lines</td>\n",
    "<td>A list of items in the source occurring before the first item of the section</td></tr>\n",
    "\n",
    "<tr><td>Status</td>\n",
    "<td>The current section scanning status one of:<ul>\n",
    "    <li>Not Started\n",
    "    <li>At section start\n",
    "    <li>Scan In Progress\n",
    "    <li>Break Triggered\n",
    "    <li>Scan Complete\n",
    "    <li>End of Source\n",
    "    </ul></td></tr>\n",
    "<tr><td>Break</td>\n",
    "<td>The name assigned to the SectionBreak that most recently triggered. \n",
    "Before the section start this is not defined. \n",
    "While the section scan is in progress, this is the name of the StartSection. \n",
    "After the section ends, this is the name of the the EndSection.</td></tr>\n",
    "<tr><td>\n",
    "Event</td>\n",
    "<td>The result from the SectionBreak that most recently triggered; the \n",
    "<i>TriggerEvent.test_value</i>.  \n",
    "For more information see the TriggerEvent documentation.</td></tr>\n",
    "</table>\n",
    "\n",
    "- Compare `full_section` and `sub_section` ___Context___ after reading.\n"
   ]
  },
  {
   "cell_type": "code",
   "execution_count": 60,
   "metadata": {},
   "outputs": [],
   "source": [
    "GENERIC_TEST_TEXT = [\n",
    "    'Text to be ignored',\n",
    "    'StartSection Name: A',\n",
    "    'EndSection Name: A',\n",
    "    'Text between sections',\n",
    "    'StartSection Name: B',\n",
    "    'EndSection Name: B',\n",
    "    'More text to be ignored',\n",
    "    ]"
   ]
  },
  {
   "cell_type": "code",
   "execution_count": 61,
   "metadata": {},
   "outputs": [
    {
     "name": "stdout",
     "output_type": "stream",
     "text": [
      "\n",
      "full_section context\n",
      "{'Break': 'End Section',\n",
      " 'Current Section': 'Top Section',\n",
      " 'Dummy': 'Blank1',\n",
      " 'Event': 'ignored',\n",
      " 'Skipped Lines': [],\n",
      " 'Status': 'Break Triggered'}\n",
      "'Break Triggered'\n",
      "\n",
      "sub_section context\n",
      "{'Current Section': 'Sub-Section', 'Status': 'Not Started'}\n",
      "'Not Started'\n"
     ]
    }
   ],
   "source": [
    "sub_section = Section(\n",
    "    section_name='Sub-Section',\n",
    "    start_section=SectionBreak('StartSection', break_offset='Before',\n",
    "                               name='SubSectionStart'),\n",
    "    end_section=SectionBreak('EndSection', break_offset='After', \n",
    "                             name='SubSectionEnd')\n",
    "    )\n",
    "full_section = Section(\n",
    "    section_name='Top Section',\n",
    "    end_section=SectionBreak('ignored', break_offset='Before', \n",
    "                             name='End Section'),\n",
    "    subsections=sub_section\n",
    "    )\n",
    "a = full_section.read(GENERIC_TEST_TEXT, context={'Dummy': 'Blank1'})\n",
    "print()\n",
    "print('full_section context')\n",
    "pprint(full_section.context)\n",
    "pprint(full_section.scan_status)\n",
    "print()\n",
    "print('sub_section context')\n",
    "pprint(sub_section.context)\n",
    "pprint(sub_section.scan_status)"
   ]
  },
  {
   "cell_type": "markdown",
   "metadata": {},
   "source": [
    "**Context Tests**\n",
    "<style type=\"text/css\">\n",
    ".tg th{font-weight:bold;text-align:center;vertical-align:middle}\n",
    ".tg td{font-weight:normal;text-align:left;vertical-align:top}\n",
    ".rh td{font-weight:bold;text-align:center;vertical-align:middle}\n",
    "</style>\n",
    "\n",
    "<table class=\"tg\">\n",
    "    <thead>\n",
    "        <tr>\n",
    "            <th rowspan=\"2\" text-align=\"center\">Key</th>\n",
    "            <th colspan=\"3\">Top Section</th>\n",
    "            <th colspan=\"3\">Sub-Section</th>\n",
    "        </tr><tr>\n",
    "            <th>Expected Value</th><th>Actual Value</th><th>Test</th>\n",
    "            <th>Expected Value</th><th>Actual Value</th><th>Test</th>\n",
    "        </tr>\n",
    "    </thead>\n",
    "        <tr><td class=\"rh\">Current Section</td>\n",
    "            <td>'Top Section'</td>\n",
    "            <td>'Top Section'</td>\n",
    "            <td><img src=\"../examples/Valid.png\" alt=\"Good\"/></td>\n",
    "            <td>'Sub-Section'</td>\n",
    "            <td>'Sub-Section'</td>\n",
    "            <td><img src=\"../examples/Valid.png\" alt=\"Good\"/></td>\n",
    "        </tr>\n",
    "    <tr><td class=\"rh\">Dummy</td>\n",
    "        <td>'Blank1'</td>  \n",
    "        <td>'Blank1'</td>\n",
    "        <td><img src=\"../examples/Valid.png\" alt=\"Good\"/></td>\n",
    "        <td>'Blank1'</td>  \n",
    "        <td>'Blank1'</td>\n",
    "        <td><img src=\"../examples/Valid.png\" alt=\"Good\"/></td>\n",
    "    </tr>\n",
    "    <tr><td class=\"rh\">Skipped Lines</td>  \n",
    "        <td>[]</td>\n",
    "        <td>[]</td>            \n",
    "        <td><img src=\"../examples/Valid.png\" alt=\"Good\"/></td>\n",
    "        <td>['Text between sections']</td>\n",
    "        <td>['Text between sections']</td>            \n",
    "        <td><img src=\"../examples/Valid.png\" alt=\"Good\"/></td>\n",
    "    </tr>\n",
    "    <tr><td class=\"rh\">Status</td>  \n",
    "        <td>'Break Triggered'</td>\n",
    "        <td>'Break Triggered'</td>            \n",
    "        <td><img src=\"../examples/Valid.png\" alt=\"Good\"/></td>\n",
    "        <td>'End of Source'</td>\n",
    "        <td>'End of Source'</td>            \n",
    "        <td><img src=\"../examples/Valid.png\" alt=\"Good\"/></td>\n",
    "    </tr>\n",
    "    <tr><td class=\"rh\">Break</td>  \n",
    "        <td>'End Section'</td>\n",
    "        <td>'End Section'</td>            \n",
    "        <td><img src=\"../examples/Valid.png\" alt=\"Good\"/></td>\n",
    "        <td>'SubSectionStart'</td>\n",
    "        <td>'SubSectionStart'</td>            \n",
    "        <td><img src=\"../examples/Valid.png\" alt=\"Good\"/></td>\n",
    "    </tr>\n",
    "    <tr><td class=\"rh\">Event</td>  \n",
    "        <td>'ignored'</td>\n",
    "        <td>'ignored'</td>            \n",
    "        <td><img src=\"../examples/Valid.png\" alt=\"Good\"/></td>\n",
    "        <td>'StartSection'</td>\n",
    "        <td>'StartSection'</td>            \n",
    "        <td><img src=\"../examples/Valid.png\" alt=\"Good\"/></td>\n",
    "    </tr>\n",
    "</table>"
   ]
  },
  {
   "cell_type": "markdown",
   "metadata": {},
   "source": [
    "- ***Current Section*** is the name of the section given at the section definition.\n",
    "    - For _full_section_,  `name='End Section'`\n",
    "    - For _sub_section_,   `name='Sub-Section'`\n",
    "- ***Dummy*** is a context element supplied at the time `full_section.read()` was \n",
    "  called. Since it is not one of the standard context items it is just along for \n",
    "  the ride unless a user defined function explicitly modifies it. \n",
    "    - The initially supplied value of ***Dummy*** = _'Blank1'_ is the same for \n",
    "      both _full_section_ and _sub_section_.\n",
    "- ***Skipped Lines*** is the list of unused lines encountered before the beginning \n",
    "  of the section.\n",
    "    - For _full_section_, start_section is not given so ***Skipped Lines*** is \n",
    "      an empty list.\n",
    "    - For _sub_section_, ***Skipped Lines*** is the lines skipped before the \n",
    "      most recent sub-section: ['Text between sections']\n",
    "- ***Status*** is the section state. \n",
    "    - _full_section_ has ended because the `end_section` break has triggered, so\n",
    "      ***Status*** = 'Break Triggered'\n",
    "    - _sub_section_ receives it's source from _full_section_, but \n",
    "      _full_section_ has ended.  _sub_section_ interprets this as and end to \n",
    "      it's source, so ***Status*** = 'End of Source'\n",
    "- ***Break*** is the name of the most recent break triggered while the section is \n",
    "   active.\n",
    "    - The `end_section` break of _full_section_ has triggered.  The name of \n",
    "      this SectionBreak was given as 'End Section', so \n",
    "      ***Break*** = 'End Section'.\n",
    "    - The `end_section` break of _sub_section_ never triggered because it's \n",
    "      source ended first. The most recent section break for _sub_section_ was \n",
    "      the `start_section`, so ***Break*** = 'SubSectionStart'.\n",
    "- ***Event*** is the Trigger specific value resulting from the last break.  For \n",
    "  string based breaks, ***Event*** is the string used to test for the break.\n",
    "    - The `end_section` break of _full_section_ was triggered by the string \n",
    "      'ignored', so ***Event*** = 'ignored'.\n",
    "    - The `start_section` break of _sub_section_ was triggered by the string \n",
    "      'StartSection', so ***Event*** = 'StartSection'."
   ]
  },
  {
   "cell_type": "markdown",
   "metadata": {},
   "source": [
    "**********\n",
    "\n",
    "# Section Break options"
   ]
  },
  {
   "cell_type": "markdown",
   "metadata": {},
   "source": [
    "## Three line sections"
   ]
  },
  {
   "cell_type": "code",
   "execution_count": 62,
   "metadata": {},
   "outputs": [],
   "source": [
    "GENERIC_TEST_TEXT2 = [\n",
    "    'Text to be ignored',\n",
    "    'StartSection A',\n",
    "    'MiddleSection A',\n",
    "    'EndSection A',\n",
    "    'Unwanted text between sections',\n",
    "    'StartSection B',\n",
    "    'MiddleSection B',\n",
    "    'EndSection B',\n",
    "    'StartSection C',\n",
    "    'MiddleSection C',\n",
    "    'EndSection C',\n",
    "    'Even more text to be ignored', \n",
    "    ]"
   ]
  },
  {
   "cell_type": "markdown",
   "metadata": {},
   "source": [
    "**********\n",
    "\n",
    "### Initial Section and Sub-Section Definitions"
   ]
  },
  {
   "cell_type": "markdown",
   "metadata": {},
   "source": [
    "- Only definition line is:<br>\n",
    "`subsections=[sub_section]`"
   ]
  },
  {
   "cell_type": "code",
   "execution_count": 63,
   "metadata": {},
   "outputs": [
    {
     "name": "stdout",
     "output_type": "stream",
     "text": [
      "['Text to be ignored',\n",
      " 'StartSection A',\n",
      " 'MiddleSection A',\n",
      " 'EndSection A',\n",
      " 'Unwanted text between sections',\n",
      " 'StartSection B',\n",
      " 'MiddleSection B',\n",
      " 'EndSection B',\n",
      " 'StartSection C',\n",
      " 'MiddleSection C',\n",
      " 'EndSection C',\n",
      " 'Even more text to be ignored']\n"
     ]
    }
   ],
   "source": [
    "sub_section = Section(\n",
    "    section_name='SubSection',\n",
    "    #start_section=SectionBreak('StartSection', break_offset='Before'),\n",
    "    #end_section=SectionBreak('EndSection', break_offset='After'),\n",
    "    #end_section=SectionBreak(True)\n",
    "    #end_on_first_item=True\n",
    "    )\n",
    "\n",
    "full_section = Section(\n",
    "    section_name='Full',\n",
    "    #start_section=SectionBreak('StartSection', break_offset='Before'),\n",
    "    #end_section=SectionBreak('EndSection', break_offset='After'),\n",
    "    #end_on_first_item=True\n",
    "    subsections=sub_section  \n",
    "    )\n",
    "pprint(full_section.read(GENERIC_TEST_TEXT2))"
   ]
  },
  {
   "cell_type": "markdown",
   "metadata": {},
   "source": [
    "- ![Good](../examples/Valid.png) Results in all lines in one sub-list\n",
    "\n",
    "<table><thead><th>Expected</th><th>Actual</th></thead>\n",
    "<tr>\n",
    "  <td><code>\n",
    "    [<br>\n",
    "      ['Text to be ignored',<br>\n",
    "       'StartSection A',<br>\n",
    "       'MiddleSection A',<br>\n",
    "       'EndSection A',<br>\n",
    "       'Unwanted text between sections',<br>\n",
    "       'StartSection B',<br>\n",
    "       'MiddleSection B',<br>\n",
    "       'EndSection B',<br>\n",
    "       'StartSection C',<br>\n",
    "       'MiddleSection C',<br>\n",
    "       'EndSection C',<br>\n",
    "       'Even more text to be ignored']<br>\n",
    "      ]</code></td>\n",
    "  <td><code>\n",
    "    [<br>\n",
    "      ['Text to be ignored',<br>\n",
    "       'StartSection A',<br>\n",
    "       'MiddleSection A',<br>\n",
    "       'EndSection A',<br>\n",
    "       'Unwanted text between sections',<br>\n",
    "       'StartSection B',<br>\n",
    "       'MiddleSection B',<br>\n",
    "       'EndSection B',<br>\n",
    "       'StartSection C',<br>\n",
    "       'MiddleSection C',<br>\n",
    "       'EndSection C',<br>\n",
    "       'Even more text to be ignored']<br>\n",
    "      ]</code></td>\n",
    "</table>\n",
    "\n"
   ]
  },
  {
   "cell_type": "markdown",
   "metadata": {},
   "source": [
    "### Add start to Section Definition"
   ]
  },
  {
   "cell_type": "markdown",
   "metadata": {},
   "source": [
    "- Section start **Before** *StartSection*\n",
    "\n",
    "`start_section=SectionBreak('StartSection', break_offset='Before'),`"
   ]
  },
  {
   "cell_type": "code",
   "execution_count": 64,
   "metadata": {},
   "outputs": [
    {
     "name": "stdout",
     "output_type": "stream",
     "text": [
      "['StartSection A',\n",
      " 'MiddleSection A',\n",
      " 'EndSection A',\n",
      " 'Unwanted text between sections',\n",
      " 'StartSection B',\n",
      " 'MiddleSection B',\n",
      " 'EndSection B',\n",
      " 'StartSection C',\n",
      " 'MiddleSection C',\n",
      " 'EndSection C',\n",
      " 'Even more text to be ignored']\n"
     ]
    }
   ],
   "source": [
    "sub_section = Section(\n",
    "    section_name='SubSection',\n",
    "    #start_section=SectionBreak('StartSection', break_offset='Before'),\n",
    "    #end_section=SectionBreak('EndSection', break_offset='After'),\n",
    "    #end_section=SectionBreak(True)\n",
    "    #end_on_first_item=True\n",
    "    )\n",
    "\n",
    "full_section = Section(\n",
    "    section_name='Full',\n",
    "    start_section=SectionBreak('StartSection', break_offset='Before'),\n",
    "    #end_section=SectionBreak('EndSection', break_offset='After'),\n",
    "    #end_on_first_item=True,\n",
    "    subsections=sub_section\n",
    "    )\n",
    "pprint(full_section.read(GENERIC_TEST_TEXT2))"
   ]
  },
  {
   "cell_type": "markdown",
   "metadata": {},
   "source": [
    "- ![Good](../examples/Valid.png) Includes all lines after first *StartSection* in single sub-list.\n",
    "\n",
    "<table><thead><th>Expected</th><th>Actual</th></thead>\n",
    "<tr>\n",
    "  <td><code>\n",
    "    [<br>\n",
    "      ['StartSection A',<br>\n",
    "       'MiddleSection A',<br>\n",
    "       'EndSection A',<br>\n",
    "       'Unwanted text between sections',<br>\n",
    "       'StartSection B',<br>\n",
    "       'MiddleSection B',<br>\n",
    "       'EndSection B',<br>\n",
    "       'StartSection C',<br>\n",
    "       'MiddleSection C',<br>\n",
    "       'EndSection C',<br>\n",
    "       'Even more text to be ignored']<br>\n",
    "    ]</code></td>\n",
    "  <td><code>\n",
    "    [<br>\n",
    "      ['StartSection A',<br>\n",
    "       'MiddleSection A',<br>\n",
    "       'EndSection A',<br>\n",
    "       'Unwanted text between sections',<br>\n",
    "       'StartSection B',<br>\n",
    "       'MiddleSection B',<br>\n",
    "       'EndSection B',<br>\n",
    "       'StartSection C',<br>\n",
    "       'MiddleSection C',<br>\n",
    "       'EndSection C',<br>\n",
    "       'Even more text to be ignored']<br>\n",
    "    ]</code></td>\n",
    "</table>\n",
    "\n"
   ]
  },
  {
   "cell_type": "markdown",
   "metadata": {},
   "source": [
    "### Add end to Section Definition"
   ]
  },
  {
   "cell_type": "markdown",
   "metadata": {},
   "source": [
    "- Section start **Before** *StartSection*\n",
    "- Section end **After** *EndSection*\n",
    "\n",
    "```python\n",
    "full_section = Section(section_name='Full',\n",
    "    start_section=SectionBreak('StartSection', break_offset='Before'),\n",
    "    end_section=SectionBreak('EndSection', break_offset='After'),\n",
    "    subsections=sub_section \n",
    "    )\n",
    "```"
   ]
  },
  {
   "cell_type": "code",
   "execution_count": 65,
   "metadata": {},
   "outputs": [
    {
     "name": "stdout",
     "output_type": "stream",
     "text": [
      "['StartSection A', 'MiddleSection A', 'EndSection A']\n",
      "['StartSection B', 'MiddleSection B', 'EndSection B']\n",
      "['StartSection C', 'MiddleSection C', 'EndSection C']\n",
      "[]\n"
     ]
    }
   ],
   "source": [
    "sub_section = Section(\n",
    "    section_name='SubSection',\n",
    "    #start_section=SectionBreak('StartSection', break_offset='Before'),\n",
    "    #end_section=SectionBreak('EndSection', break_offset='After'),\n",
    "    #end_section=SectionBreak(True)\n",
    "    #end_on_first_item=True\n",
    "    )\n",
    "\n",
    "full_section = Section(\n",
    "    section_name='Full',\n",
    "    start_section=SectionBreak('StartSection', break_offset='Before'),\n",
    "    end_section=SectionBreak('EndSection', break_offset='After'),\n",
    "    #end_on_first_item=True,    \n",
    "    subsections=sub_section\n",
    "    )\n",
    "\n",
    "test_iter = BufferedIterator(GENERIC_TEST_TEXT2)\n",
    "pprint(full_section.read(test_iter))\n",
    "pprint(full_section.read(test_iter))\n",
    "pprint(full_section.read(test_iter))\n",
    "pprint(full_section.read(test_iter))"
   ]
  },
  {
   "cell_type": "markdown",
   "metadata": {},
   "source": [
    "- ![Good](../examples/Valid.png) Includes all three lines of first section in single sub-list.\n",
    "- skips the *'Unwanted text between sections'* line.\n",
    "\n",
    "<table><thead><th>Expected</th><th>Actual</th></thead>\n",
    "<tr>\n",
    "  <td><code>\n",
    "    [<br>\n",
    "      ['StartSection A',<br>\n",
    "       'MiddleSection A',<br>\n",
    "       'EndSection A']<br>\n",
    "    ]</code></td>\n",
    "  <td><code>\n",
    "    [<br>\n",
    "      ['StartSection A',<br>\n",
    "       'MiddleSection A',<br>\n",
    "       'EndSection A']<br>\n",
    "    ]</code></td>\n",
    "</tr>\n",
    "<tr>\n",
    "  <td><code>\n",
    "    [<br>\n",
    "      ['StartSection B',<br>\n",
    "       'MiddleSection B',<br>\n",
    "       'EndSection B']<br>\n",
    "    ]</code></td>\n",
    "  <td><code>\n",
    "    [<br>\n",
    "      ['StartSection B',<br>\n",
    "       'MiddleSection B',<br>\n",
    "       'EndSection B']<br>\n",
    "    ]</code></td>\n",
    "</tr>\n",
    "<tr>\n",
    "  <td><code>\n",
    "    [<br>\n",
    "      ['StartSection C',<br>\n",
    "       'MiddleSection C',<br>\n",
    "       'EndSection C']<br>\n",
    "    ]</code></td>\n",
    "  <td><code>\n",
    "    [<br>\n",
    "      ['StartSection C',<br>\n",
    "       'MiddleSection C',<br>\n",
    "       'EndSection C']<br>\n",
    "    ]</code></td>\n",
    "</tr>\n",
    "<tr><td><code>[]</code></td><td><code>[]</code></td></tr>\n",
    "</table>\n",
    "\n"
   ]
  },
  {
   "cell_type": "markdown",
   "metadata": {},
   "source": [
    "### Define Muti-Section to Read Both Sections"
   ]
  },
  {
   "cell_type": "markdown",
   "metadata": {},
   "source": [
    "Add end to Section Definition\n",
    "- Section start **Before** *StartSection*\n",
    "- Section end **After** *EndSection*\n",
    "- Simple subsection\n",
    "- Multi Section defines Full Section as Sub Section with no start or end (All lines)\n",
    "\n",
    "```python\n",
    "sub_section = Section(section_name='SubSection')\n",
    "\n",
    "full_section = Section(section_name='Full',\n",
    "    start_section=SectionBreak('StartSection', break_offset='Before'),\n",
    "    end_section=SectionBreak('EndSection', break_offset='After'),\n",
    "    subsections=sub_section \n",
    "    )\n",
    "\n",
    "multi_section = Section(\n",
    "    section_name='Multi',\n",
    "    subsections=full_section \n",
    "    )\n",
    "```"
   ]
  },
  {
   "cell_type": "code",
   "execution_count": 66,
   "metadata": {},
   "outputs": [
    {
     "name": "stdout",
     "output_type": "stream",
     "text": [
      "['Text to be ignored',\n",
      " 'StartSection A',\n",
      " 'MiddleSection A',\n",
      " 'EndSection A',\n",
      " 'Unwanted text between sections',\n",
      " 'StartSection B',\n",
      " 'MiddleSection B',\n",
      " 'EndSection B',\n",
      " 'StartSection C',\n",
      " 'MiddleSection C',\n",
      " 'EndSection C',\n",
      " 'Even more text to be ignored']\n"
     ]
    }
   ],
   "source": [
    "sub_section = Section(\n",
    "    section_name='SubSection',\n",
    "    #start_section=SectionBreak('StartSection', break_offset='Before'),\n",
    "    #end_section=SectionBreak('EndSection', break_offset='After'),\n",
    "    #end_section=SectionBreak(True)\n",
    "    #end_on_first_item=True\n",
    "    )\n",
    "\n",
    "full_section = Section(\n",
    "    section_name='Full',\n",
    "    start_section=SectionBreak('StartSection', break_offset='Before'),\n",
    "    end_section=SectionBreak('EndSection', break_offset='After'),\n",
    "    subsections=sub_section,\n",
    "    #end_on_first_item=True\n",
    "    )\n",
    "\n",
    "multi_section = Section(\n",
    "    section_name='Multi',\n",
    "    subsections=full_section\n",
    "    #end_on_first_item=True\n",
    "    )\n",
    "\n",
    "pprint(multi_section.read(GENERIC_TEST_TEXT2))"
   ]
  },
  {
   "cell_type": "markdown",
   "metadata": {},
   "source": [
    "- ![Good](../examples/Valid.png)Includes all three lines of each section in its own sub-list.\n",
    "- Skips the *'Unwanted text between sections'* line.\n",
    "\n",
    "<table><thead><th>Expected</th><th>Actual</th></thead>\n",
    "<tr>\n",
    "  <td><code>\n",
    "    [<br>\n",
    "      [['StartSection A',<br>\n",
    "        'MiddleSection A',<br>\n",
    "        'EndSection A']],<br>\n",
    "      [['StartSection Name: B',<br>\n",
    "        'MiddleSection B',<br>\n",
    "        'EndSection Name: B']]<br>\n",
    "      [['StartSection Name: C',<br>\n",
    "        'MiddleSection C',<br>\n",
    "        'EndSection Name: C']]<br>\n",
    "    ]</code></td>    \n",
    "  <td><code>\n",
    "    [<br>\n",
    "      [['StartSection A',<br>\n",
    "        'MiddleSection A',<br>\n",
    "        'EndSection A']],<br>\n",
    "      [['StartSection Name: B',<br>\n",
    "        'MiddleSection B',<br>\n",
    "        'EndSection Name: B']]<br>\n",
    "      [['StartSection Name: C',<br>\n",
    "        'MiddleSection C',<br>\n",
    "        'EndSection Name: C']]<br>\n",
    "    ]</code></td></tr>\n",
    "</table>"
   ]
  },
  {
   "cell_type": "markdown",
   "metadata": {},
   "source": [
    "### Set Same Start and End Breaks for Section"
   ]
  },
  {
   "cell_type": "markdown",
   "metadata": {},
   "source": [
    "Add end to Section Definition\n",
    "- Section start **Before** *StartSection*\n",
    "- Section end **Before** *StartSection*\n",
    "- Simple subsection\n",
    "- Multi Section defines Full Section as Sub Section with no start or end (All lines)\n",
    "\n",
    "```python\n",
    "sub_section = Section(section_name='SubSection')\n",
    "\n",
    "full_section = Section(section_name='Full',\n",
    "    start_section=SectionBreak('StartSection', break_offset='Before'),\n",
    "    end_section=SectionBreak('StartSection', break_offset='Before'),\n",
    "    subsections=sub_section \n",
    "    )\n",
    "\n",
    "multi_section = Section(\n",
    "    section_name='Multi',\n",
    "    subsections=full_section \n",
    "    )\n",
    "```"
   ]
  },
  {
   "cell_type": "code",
   "execution_count": 67,
   "metadata": {},
   "outputs": [
    {
     "name": "stdout",
     "output_type": "stream",
     "text": [
      "['Text to be ignored',\n",
      " 'StartSection A',\n",
      " 'MiddleSection A',\n",
      " 'EndSection A',\n",
      " 'Unwanted text between sections',\n",
      " 'StartSection B',\n",
      " 'MiddleSection B',\n",
      " 'EndSection B',\n",
      " 'StartSection C',\n",
      " 'MiddleSection C',\n",
      " 'EndSection C',\n",
      " 'Even more text to be ignored']\n"
     ]
    }
   ],
   "source": [
    "sub_section = Section(\n",
    "    section_name='SubSection',\n",
    "    #start_section=SectionBreak('StartSection', break_offset='Before'),\n",
    "    #end_section=SectionBreak('EndSection', break_offset='After'),\n",
    "    #end_section=SectionBreak(True)\n",
    "    #end_on_first_item=True\n",
    "    )\n",
    "full_section = Section(\n",
    "    section_name='Full',\n",
    "    start_section=SectionBreak('StartSection', break_offset='Before'),\n",
    "    end_section=SectionBreak('StartSection', break_offset='Before'),\n",
    "    subsections=sub_section,\n",
    "    #end_on_first_item=True\n",
    "    )\n",
    "\n",
    "multi_section = Section(section_name='Multi',\n",
    "    subsections=full_section,\n",
    "    #end_on_first_item=True\n",
    "    )\n",
    "\n",
    "pprint(multi_section.read(GENERIC_TEST_TEXT2))"
   ]
  },
  {
   "cell_type": "markdown",
   "metadata": {},
   "source": [
    "- ![Good](../examples/Valid.png) Includes *'Unwanted text between sections'* and\n",
    "  *'Even more text to be ignored'*.\n",
    "- Includes *'Unwanted text between sections'* because the end of section A is \n",
    "  triggered by *'StartSection B'*. \n",
    "- Includes *'Even more text to be ignored'* because there are no more \n",
    "  *'StartSection'* lines to trigger an `end_section` break.\n",
    "\n",
    "<table><thead><th>Expected</th><th>Actual</th></thead>\n",
    "<tr>\n",
    "  <td><code>\n",
    "    [<br>\n",
    "      [['StartSection A',<br>\n",
    "        'MiddleSection A',<br>\n",
    "        'EndSection A',<br>\n",
    "        'Unwanted text between sections']],<br>\n",
    "      [['StartSection B',<br>\n",
    "        'MiddleSection B',<br>\n",
    "        'EndSection B']],<br>\n",
    "      [['StartSection C',<br>\n",
    "        'MiddleSection C',<br>\n",
    "        'EndSection C',<br>\n",
    "        'Even more text to be ignored']]<br>\n",
    "    ]</code></td>\n",
    "  <td><code>\n",
    "    [<br>\n",
    "      [['StartSection A',<br>\n",
    "        'MiddleSection A',<br>\n",
    "        'EndSection A',<br>\n",
    "        'Unwanted text between sections']],<br>\n",
    "      [['StartSection B',<br>\n",
    "        'MiddleSection B',<br>\n",
    "        'EndSection B']],<br>\n",
    "      [['StartSection C',<br>\n",
    "        'MiddleSection C',<br>\n",
    "        'EndSection C',<br>\n",
    "        'Even more text to be ignored']]<br>\n",
    "    ]</code></td>\n",
    "  </tr>\n",
    "</table>"
   ]
  },
  {
   "cell_type": "markdown",
   "metadata": {},
   "source": [
    "### Add `end_on_first_item=True` to Section"
   ]
  },
  {
   "cell_type": "markdown",
   "metadata": {},
   "source": [
    "Add end to Section Definition\n",
    "- Section start **Before** *StartSection*\n",
    "- Section end **After** *StartSection*\n",
    "- Simple subsection\n",
    "\n",
    "```python\n",
    "sub_section = Section(section_name='SubSection')\n",
    "\n",
    "full_section = Section(section_name='Full',\n",
    "    start_section=SectionBreak('StartSection', break_offset='Before'),\n",
    "    end_section=SectionBreak('StartSection', break_offset='Before'),\n",
    "    end_on_first_item=True,\n",
    "    subsections=sub_section \n",
    "    )\n",
    "```"
   ]
  },
  {
   "cell_type": "code",
   "execution_count": 68,
   "metadata": {},
   "outputs": [
    {
     "name": "stdout",
     "output_type": "stream",
     "text": [
      "[]\n",
      "[]\n",
      "[]\n",
      "[]\n"
     ]
    }
   ],
   "source": [
    "sub_section = Section(\n",
    "    section_name='SubSection',\n",
    "    #start_section=SectionBreak('StartSection', break_offset='Before'),\n",
    "    #end_section=SectionBreak('EndSection', break_offset='After'),\n",
    "    #end_section=SectionBreak(True)\n",
    "    #end_on_first_item=True\n",
    "    )\n",
    "full_section = Section(\n",
    "    section_name='Full',\n",
    "    start_section=SectionBreak('StartSection', break_offset='Before'),\n",
    "    end_section=SectionBreak('StartSection', break_offset='Before'),\n",
    "    end_on_first_item=True,\n",
    "    subsections=sub_section\n",
    "    )\n",
    "\n",
    "test_iter = BufferedIterator(GENERIC_TEST_TEXT2)\n",
    "pprint(full_section.read(test_iter))\n",
    "pprint(full_section.read(test_iter))\n",
    "\n",
    "test_iter = iter(GENERIC_TEST_TEXT2)\n",
    "pprint(full_section.read(test_iter))\n",
    "pprint(full_section.read(test_iter))"
   ]
  },
  {
   "cell_type": "markdown",
   "metadata": {},
   "source": [
    "- ![Good](../examples/Valid.png) Results in empty list because it both starts \n",
    "  and ends on first *'StartSection'*.\n",
    "\n",
    "|Expected|Actual|\n",
    "|-|-|\n",
    "|[]|[]|"
   ]
  },
  {
   "cell_type": "markdown",
   "metadata": {},
   "source": [
    "### <span style=\"color: red; font-weight: Bold\">Endless loop with `multi_section`</span>"
   ]
  },
  {
   "cell_type": "markdown",
   "metadata": {},
   "source": [
    "<span style=\"color: red; font-weight: Bold; font-variant: small-caps\">\n",
    "Do Not Try This\n",
    "</span>\n",
    "\n",
    "- Use `multi_section` to read multiple empty sections\n",
    "```python\n",
    "sub_section = Section(section_name='SubSection')\n",
    "\n",
    "full_section = Section(section_name='Full',\n",
    "    start_section=SectionBreak('StartSection', break_offset='Before'),\n",
    "    end_section=SectionBreak('StartSection', break_offset='Before'),\n",
    "    end_on_first_item=True,\n",
    "    subsections=sub_section \n",
    "    )\n",
    "multi_section = Section(section_name='Multi',\n",
    "    subsections=full_section\n",
    "    )\n",
    "print(multi_section.read(GENERIC_TEST_TEXT2))\n",
    "```\n",
    "- `full_section` both starts and ends on first *'StartSection'*.\n",
    "- No progress is made in in iterating through the source.\n",
    "- Trying to read multiple sections will result in an endless loop."
   ]
  },
  {
   "cell_type": "markdown",
   "metadata": {},
   "source": [
    "**********\n",
    "\n",
    "## SubSection Break Options\n",
    "- Section break checks start with the top most section\n",
    "- The section level containing the break will affect the way the list are nested."
   ]
  },
  {
   "cell_type": "markdown",
   "metadata": {},
   "source": [
    "### Add `start_section` to *sub_section* and remove it from *full_section*\n",
    "\n",
    "- SubSection start **Before** *StartSection*\n",
    "- Section end **After** *EndSection*\n",
    "\n",
    "\n",
    "```python\n",
    "sub_section = Section(section_name='SubSection',\n",
    "    start_section=SectionBreak('StartSection', break_offset='Before')\n",
    "    )\n",
    "\n",
    "full_section = Section(section_name='Full',\n",
    "    end_section=SectionBreak('EndSection', break_offset='After'),\n",
    "    subsections=sub_section \n",
    "    )\n",
    "\n",
    "multi_section = Section(section_name='Multi',\n",
    "    subsections=full_section\n",
    "    )\n",
    "```"
   ]
  },
  {
   "cell_type": "code",
   "execution_count": 69,
   "metadata": {},
   "outputs": [],
   "source": [
    "sub_section = Section(\n",
    "    section_name='SubSection',\n",
    "    start_section=SectionBreak('StartSection', break_offset='Before'),\n",
    "    #end_section=SectionBreak('EndSection', break_offset='After'),\n",
    "    #end_section=SectionBreak(True)\n",
    "    #end_on_first_item=True\n",
    "    )\n",
    "full_section = Section(\n",
    "    section_name='Full',\n",
    "    #start_section=SectionBreak('StartSection', break_offset='Before'),\n",
    "    end_section=SectionBreak('EndSection', break_offset='After'),\n",
    "    subsections=sub_section,\n",
    "    #end_on_first_item=True\n",
    "    )\n",
    "\n",
    "multi_section = Section(section_name='Multi',\n",
    "    subsections=full_section,\n",
    "    #end_on_first_item=True\n",
    "    )"
   ]
  },
  {
   "cell_type": "code",
   "execution_count": 70,
   "metadata": {},
   "outputs": [
    {
     "name": "stdout",
     "output_type": "stream",
     "text": [
      "['Text to be ignored',\n",
      " 'StartSection A',\n",
      " 'MiddleSection A',\n",
      " 'EndSection A',\n",
      " 'Unwanted text between sections',\n",
      " 'StartSection B',\n",
      " 'MiddleSection B',\n",
      " 'EndSection B',\n",
      " 'StartSection C',\n",
      " 'MiddleSection C',\n",
      " 'EndSection C',\n",
      " 'Even more text to be ignored']\n"
     ]
    }
   ],
   "source": [
    "pprint(multi_section.read(GENERIC_TEST_TEXT2))"
   ]
  },
  {
   "cell_type": "markdown",
   "metadata": {},
   "source": [
    "- ![Good](../examples/Valid.png) behaves the same way as when `start_section` \n",
    " was defined in *full_section*.\n",
    "\n",
    "<table><thead><th>Expected</th><th>Actual</th></thead>\n",
    "<tr>\n",
    "  <td><code>\n",
    "    [<br>\n",
    "      [['StartSection A',<br>\n",
    "        'MiddleSection A',<br>\n",
    "        'EndSection A']],<br>\n",
    "      [['StartSection Name: B',<br>\n",
    "        'MiddleSection B',<br>\n",
    "        'EndSection Name: B']]<br>\n",
    "      [['StartSection Name: C',<br>\n",
    "        'MiddleSection C',<br>\n",
    "        'EndSection Name: C']]<br>\n",
    "    ]</code></td>    \n",
    "  <td><code>\n",
    "    [<br>\n",
    "      [['StartSection A',<br>\n",
    "        'MiddleSection A',<br>\n",
    "        'EndSection A']],<br>\n",
    "      [['StartSection Name: B',<br>\n",
    "        'MiddleSection B',<br>\n",
    "        'EndSection Name: B']]<br>\n",
    "      [['StartSection Name: C',<br>\n",
    "        'MiddleSection C',<br>\n",
    "        'EndSection Name: C']]<br>\n",
    "    ]</code></td></tr>\n",
    "</table>"
   ]
  },
  {
   "cell_type": "markdown",
   "metadata": {},
   "source": [
    "### Add `end_section` to *sub_section* and remove it from *full_section*\n",
    "\n",
    "- SubSection end **After** *EndSection*\n",
    "- Section start **Before** *StartSection*\n",
    "\n",
    "```python\n",
    "sub_section = Section(section_name='SubSection',\n",
    "    end_section=SectionBreak('EndSection', break_offset='After'),\n",
    "    )\n",
    "\n",
    "full_section = Section(section_name='Full',\n",
    "    start_section=SectionBreak('StartSection', break_offset='Before')\n",
    "    subsections=sub_section \n",
    "    )\n",
    "\n",
    "multi_section = Section(section_name='Multi',\n",
    "    subsections=full_section\n",
    "    )\n",
    "```"
   ]
  },
  {
   "cell_type": "code",
   "execution_count": 71,
   "metadata": {},
   "outputs": [
    {
     "name": "stdout",
     "output_type": "stream",
     "text": [
      "['Text to be ignored',\n",
      " 'StartSection A',\n",
      " 'MiddleSection A',\n",
      " 'EndSection A',\n",
      " 'Unwanted text between sections',\n",
      " 'StartSection B',\n",
      " 'MiddleSection B',\n",
      " 'EndSection B',\n",
      " 'StartSection C',\n",
      " 'MiddleSection C',\n",
      " 'EndSection C',\n",
      " 'Even more text to be ignored']\n"
     ]
    }
   ],
   "source": [
    "sub_section = Section(\n",
    "    section_name='SubSection',\n",
    "    #start_section=SectionBreak('StartSection', break_offset='Before'),\n",
    "    end_section=SectionBreak('EndSection', break_offset='After'),\n",
    "    #end_section=SectionBreak(True)\n",
    "    #end_on_first_item=True\n",
    "    )\n",
    "full_section = Section(\n",
    "    section_name='Full',\n",
    "    start_section=SectionBreak('StartSection', break_offset='Before'),\n",
    "    #end_section=SectionBreak('EndSection', break_offset='After'),\n",
    "    subsections=sub_section,\n",
    "    #end_on_first_item=True\n",
    "    )\n",
    "\n",
    "multi_section = Section(section_name='Multi',\n",
    "    subsections=full_section,\n",
    "    #end_on_first_item=True\n",
    "    )\n",
    "\n",
    "pprint(multi_section.read(GENERIC_TEST_TEXT2))"
   ]
  },
  {
   "cell_type": "markdown",
   "metadata": {},
   "source": [
    "- ![Good](../examples/Valid.png) Includes *'Unwanted text between sections'* and\n",
    "  *'Even more text to be ignored'*.\n",
    "- `sub_section` has no `start_section` defined, so the it starts immediately. \n",
    "- `full_section` never ends and so the second sub-section starts right after \n",
    "  the first one ends. \n",
    "- **Note:** \n",
    "    - sub-list nesting is different:\n",
    "        > `[[[Section Lines], [Next Section Lines], ... ]]`<br>\n",
    "        > VS.<br>\n",
    "        > `[[[Section Lines]], [[Next Section Lines]], ... ]`<br>\n",
    "    - *'Even more text to be ignored'* is in its own sub-section.\n",
    "\n",
    "<table><thead><th>Expected</th><th>Actual</th></thead>\n",
    "<tr>\n",
    "  <td><code>\n",
    "    [[<br>\n",
    "      ['StartSection A',<br>\n",
    "       'MiddleSection A',<br>\n",
    "       'EndSection A'],<br>\n",
    "      ['Unwanted text between sections',<br>\n",
    "       'StartSection B',<br>\n",
    "        'MiddleSection B',<br>\n",
    "        'EndSection B'],<br>\n",
    "      ['StartSection C',<br>\n",
    "       'MiddleSection C',<br>\n",
    "       'EndSection C'],<br>\n",
    "      ['Even more text to be ignored']<br>\n",
    "    ]]</code></td>\n",
    "  <td><code>\n",
    "    [[<br>\n",
    "      ['StartSection A',<br>\n",
    "       'MiddleSection A',<br>\n",
    "       'EndSection A'],<br>\n",
    "      ['Unwanted text between sections',<br>\n",
    "       'StartSection B',<br>\n",
    "        'MiddleSection B',<br>\n",
    "        'EndSection B'],<br>\n",
    "      ['StartSection C',<br>\n",
    "       'MiddleSection C',<br>\n",
    "       'EndSection C'],<br>\n",
    "      ['Even more text to be ignored']<br>\n",
    "    ]]</code></td>\n",
    "  </tr>\n",
    "</table>"
   ]
  },
  {
   "cell_type": "markdown",
   "metadata": {},
   "source": [
    "### Add both `start_section` and `end_section` to *sub_section*. No breaks defined in *full_section*\n",
    "\n",
    "- SubSection start **Before** *StartSection*\n",
    "- SubSection end **After** *EndSection*\n",
    "\n",
    "\n",
    "```python\n",
    "sub_section = Section(section_name='SubSection',\n",
    "    start_section=SectionBreak('StartSection', break_offset='Before'\n",
    "    end_section=SectionBreak('EndSection', break_offset='After'),\n",
    "    )\n",
    "\n",
    "full_section = Section(section_name='Full',\n",
    "    subsections=sub_section \n",
    "    )\n",
    "\n",
    "multi_section = Section(section_name='Multi',\n",
    "    subsections=full_section\n",
    "    )\n",
    "```"
   ]
  },
  {
   "cell_type": "code",
   "execution_count": 72,
   "metadata": {},
   "outputs": [
    {
     "name": "stdout",
     "output_type": "stream",
     "text": [
      "['Text to be ignored',\n",
      " 'StartSection A',\n",
      " 'MiddleSection A',\n",
      " 'EndSection A',\n",
      " 'Unwanted text between sections',\n",
      " 'StartSection B',\n",
      " 'MiddleSection B',\n",
      " 'EndSection B',\n",
      " 'StartSection C',\n",
      " 'MiddleSection C',\n",
      " 'EndSection C',\n",
      " 'Even more text to be ignored']\n"
     ]
    }
   ],
   "source": [
    "sub_section = Section(\n",
    "    section_name='SubSection',\n",
    "    start_section=SectionBreak('StartSection', break_offset='Before'),\n",
    "    end_section=SectionBreak('EndSection', break_offset='After'),\n",
    "    #end_section=SectionBreak(True)\n",
    "    #end_on_first_item=True\n",
    "    )\n",
    "full_section = Section(\n",
    "    section_name='Full',\n",
    "    #start_section=SectionBreak('StartSection', break_offset='Before'),\n",
    "    #end_section=SectionBreak('EndSection', break_offset='After'),\n",
    "    subsections=sub_section,\n",
    "    #end_on_first_item=True\n",
    "    )\n",
    "\n",
    "multi_section = Section(section_name='Multi',\n",
    "    subsections=full_section,\n",
    "    #end_on_first_item=True\n",
    "    )\n",
    "\n",
    "pprint(multi_section.read(GENERIC_TEST_TEXT2))"
   ]
  },
  {
   "cell_type": "markdown",
   "metadata": {},
   "source": [
    "- ![Good](../examples/Valid.png) similar results to having both breaks defined in *full_section*.\n",
    "- **Note:** sub-list nesting is different:\n",
    "    > `[[[Section Lines], [Next Section Lines], ... ]]`<br>\n",
    "    > VS.<br>\n",
    "    > `[[[Section Lines]], [[Next Section Lines]], ... ]`<br>\n",
    "\n",
    "<table><thead><th>Expected</th><th>Actual</th></thead>\n",
    "<tr>\n",
    "  <td><code>\n",
    "    [[<br>\n",
    "      ['StartSection A',<br>\n",
    "       'MiddleSection A',<br>\n",
    "       'EndSection A'],<br>\n",
    "      ['StartSection B',<br>\n",
    "        'MiddleSection B',<br>\n",
    "        'EndSection B'],<br>\n",
    "      ['StartSection C',<br>\n",
    "       'MiddleSection C',<br>\n",
    "       'EndSection C']<br>\n",
    "    ]]</code></td>\n",
    "  <td><code>\n",
    "    [[<br>\n",
    "      ['StartSection A',<br>\n",
    "       'MiddleSection A',<br>\n",
    "       'EndSection A'],<br>\n",
    "      ['StartSection B',<br>\n",
    "        'MiddleSection B',<br>\n",
    "        'EndSection B'],<br>\n",
    "      ['StartSection C',<br>\n",
    "       'MiddleSection C',<br>\n",
    "       'EndSection C']<br>\n",
    "    ]]</code></td>\n",
    "  </tr>\n",
    "</table>"
   ]
  },
  {
   "cell_type": "markdown",
   "metadata": {},
   "source": [
    "### Read from *full_section* instead of *multi_section*"
   ]
  },
  {
   "cell_type": "code",
   "execution_count": 73,
   "metadata": {},
   "outputs": [
    {
     "name": "stdout",
     "output_type": "stream",
     "text": [
      "['Text to be ignored',\n",
      " 'StartSection A',\n",
      " 'MiddleSection A',\n",
      " 'EndSection A',\n",
      " 'Unwanted text between sections',\n",
      " 'StartSection B',\n",
      " 'MiddleSection B',\n",
      " 'EndSection B',\n",
      " 'StartSection C',\n",
      " 'MiddleSection C',\n",
      " 'EndSection C',\n",
      " 'Even more text to be ignored']\n"
     ]
    }
   ],
   "source": [
    "pprint(full_section.read(GENERIC_TEST_TEXT2))"
   ]
  },
  {
   "cell_type": "markdown",
   "metadata": {},
   "source": [
    "- ![Good](../examples/Valid.png) Similar results to reading *multi_section*.\n",
    "\n",
    "- **Note:** One less list level.\n",
    "\n",
    "<table><thead><th>Expected</th><th>Actual</th></thead>\n",
    "<tr>\n",
    "  <td><code>\n",
    "    [<br>\n",
    "      ['StartSection A',<br>\n",
    "       'MiddleSection A',<br>\n",
    "       'EndSection A'],<br>\n",
    "      ['StartSection B',<br>\n",
    "        'MiddleSection B',<br>\n",
    "        'EndSection B'],<br>\n",
    "      ['StartSection C',<br>\n",
    "       'MiddleSection C',<br>\n",
    "       'EndSection C']<br>\n",
    "    ]</code></td>\n",
    "  <td><code>\n",
    "    [<br>\n",
    "      ['StartSection A',<br>\n",
    "       'MiddleSection A',<br>\n",
    "       'EndSection A'],<br>\n",
    "      ['StartSection B',<br>\n",
    "        'MiddleSection B',<br>\n",
    "        'EndSection B'],<br>\n",
    "      ['StartSection C',<br>\n",
    "       'MiddleSection C',<br>\n",
    "       'EndSection C']<br>\n",
    "    ]</code></td>\n",
    "  </tr>\n",
    "</table>"
   ]
  },
  {
   "cell_type": "markdown",
   "metadata": {},
   "source": [
    "### Add `start_section` and `end_section` to both *sub_section* and *full_section*.\n",
    "\n",
    "- Section start **Before** *StartSection*\n",
    "- Section end **After** *EndSection*\n",
    "- SubSection start **Before** *StartSection*\n",
    "- SubSection end **After** *EndSection*\n",
    "\n",
    "```python\n",
    "sub_section = Section(section_name='SubSection',\n",
    "    start_section=SectionBreak('StartSection', break_offset='Before'\n",
    "    end_section=SectionBreak('EndSection', break_offset='After'),\n",
    "    )\n",
    "\n",
    "full_section = Section(section_name='Full',\n",
    "    start_section=SectionBreak('StartSection', break_offset='Before'\n",
    "    end_section=SectionBreak('EndSection', break_offset='After'),\n",
    "    subsections=sub_section \n",
    "    )\n",
    "\n",
    "multi_section = Section(section_name='Multi',\n",
    "    subsections=full_section\n",
    "    )\n",
    "```"
   ]
  },
  {
   "cell_type": "code",
   "execution_count": 74,
   "metadata": {},
   "outputs": [
    {
     "name": "stdout",
     "output_type": "stream",
     "text": [
      "['Text to be ignored',\n",
      " 'StartSection A',\n",
      " 'MiddleSection A',\n",
      " 'EndSection A',\n",
      " 'Unwanted text between sections',\n",
      " 'StartSection B',\n",
      " 'MiddleSection B',\n",
      " 'EndSection B',\n",
      " 'StartSection C',\n",
      " 'MiddleSection C',\n",
      " 'EndSection C',\n",
      " 'Even more text to be ignored']\n"
     ]
    }
   ],
   "source": [
    "sub_section = Section(\n",
    "    section_name='SubSection',\n",
    "    start_section=SectionBreak('StartSection', break_offset='Before'),\n",
    "    end_section=SectionBreak('EndSection', break_offset='After'),\n",
    "    #end_section=SectionBreak(True)\n",
    "    #end_on_first_item=True\n",
    "    )\n",
    "full_section = Section(\n",
    "    section_name='Full',\n",
    "    start_section=SectionBreak('StartSection', break_offset='Before'),\n",
    "    end_section=SectionBreak('EndSection', break_offset='After'),\n",
    "    subsections=sub_section,\n",
    "    #end_on_first_item=True\n",
    "    )\n",
    "\n",
    "multi_section = Section(section_name='Multi',\n",
    "    subsections=full_section,\n",
    "    #end_on_first_item=True\n",
    "    )\n",
    "\n",
    "pprint(multi_section.read(GENERIC_TEST_TEXT2))"
   ]
  },
  {
   "cell_type": "markdown",
   "metadata": {},
   "source": [
    "- ![Good](../examples/Valid.png) behaves the same way as when *sub_section* \n",
    "  did not have any breaks defined (including list levels).\n",
    "\n",
    "<table><thead><th>Expected</th><th>Actual</th></thead>\n",
    "<tr>\n",
    "  <td><code>\n",
    "    [<br>\n",
    "      [['StartSection A',<br>\n",
    "       'MiddleSection A',<br>\n",
    "       'EndSection A']],<br>\n",
    "      [['StartSection B',<br>\n",
    "        'MiddleSection B',<br>\n",
    "        'EndSection B']],<br>\n",
    "      [['StartSection C',<br>\n",
    "       'MiddleSection C',<br>\n",
    "       'EndSection C']]<br>\n",
    "    ]</code></td>\n",
    "  <td><code>\n",
    "    [<br>\n",
    "      [['StartSection A',<br>\n",
    "       'MiddleSection A',<br>\n",
    "       'EndSection A']],<br>\n",
    "      [['StartSection B',<br>\n",
    "        'MiddleSection B',<br>\n",
    "        'EndSection B']],<br>\n",
    "      [['StartSection C',<br>\n",
    "       'MiddleSection C',<br>\n",
    "       'EndSection C']]<br>\n",
    "    ]</code></td>\n",
    "  </tr>\n",
    "</table>"
   ]
  },
  {
   "cell_type": "markdown",
   "metadata": {},
   "source": [
    "### Change Start Sub-Section to **After**"
   ]
  },
  {
   "cell_type": "markdown",
   "metadata": {},
   "source": [
    "- Section start **Before** *StartSection*\n",
    "- Section end **After** *EndSection*\n",
    "- SubSection start **After** *StartSection*\n",
    "\n",
    "```python\n",
    "sub_section = Section(section_name='SubSection',\n",
    "    start_section=SectionBreak('StartSection', break_offset='After')\n",
    "    )\n",
    "\n",
    "full_section = Section(section_name='Full',\n",
    "    start_section=SectionBreak('StartSection', break_offset='Before'),\n",
    "    end_section=SectionBreak('EndSection', break_offset='After'),\n",
    "    subsections=[sub_section] \n",
    "    )\n",
    "```"
   ]
  },
  {
   "cell_type": "code",
   "execution_count": 75,
   "metadata": {},
   "outputs": [
    {
     "name": "stdout",
     "output_type": "stream",
     "text": [
      "['Text to be ignored',\n",
      " 'StartSection A',\n",
      " 'MiddleSection A',\n",
      " 'EndSection A',\n",
      " 'Unwanted text between sections',\n",
      " 'StartSection B',\n",
      " 'MiddleSection B',\n",
      " 'EndSection B',\n",
      " 'StartSection C',\n",
      " 'MiddleSection C',\n",
      " 'EndSection C',\n",
      " 'Even more text to be ignored']\n"
     ]
    }
   ],
   "source": [
    "sub_section = Section(\n",
    "    section_name='SubSection',\n",
    "    start_section=SectionBreak('StartSection', break_offset='After')\n",
    "    #end_on_first_item=True,\n",
    "    #keep_partial=True,\n",
    "    #end_section=SectionBreak(True)\n",
    "    )\n",
    "\n",
    "full_section = Section(\n",
    "    section_name='Full',\n",
    "    start_section=SectionBreak('StartSection', break_offset='Before'),\n",
    "    end_section=SectionBreak('EndSection', break_offset='After'),\n",
    "    subsections=sub_section \n",
    "    )\n",
    "\n",
    "multi_section = Section(section_name='Multi',\n",
    "    subsections=full_section,\n",
    "    #end_on_first_item=True\n",
    "    )\n",
    "\n",
    "pprint(multi_section.read(GENERIC_TEST_TEXT2))"
   ]
  },
  {
   "cell_type": "markdown",
   "metadata": {},
   "source": [
    "- ![Good](../examples/Valid.png) *StartSection* lines are dropped.\n",
    "\n",
    "<table><thead><th>Expected</th><th>Actual</th></thead>\n",
    "<tr>\n",
    "  <td><code>\n",
    "    [<br>\n",
    "      [['MiddleSection A',\n",
    "       'EndSection A']],<br>\n",
    "      [['MiddleSection B',\n",
    "        'EndSection B']],<br>\n",
    "      [['MiddleSection C',\n",
    "       'EndSection C']]<br>\n",
    "    ]</code></td>\n",
    "  <td><code>\n",
    "    [<br>\n",
    "      [['MiddleSection A',\n",
    "       'EndSection A']],<br>\n",
    "      [['MiddleSection B',\n",
    "        'EndSection B']],<br>\n",
    "      [['MiddleSection C',\n",
    "       'EndSection C']]<br>\n",
    "    ]</code></td>\n",
    "  </tr>\n",
    "</table>"
   ]
  },
  {
   "cell_type": "markdown",
   "metadata": {},
   "source": [
    "### Run with two-line sections:\n",
    "> `[`<br>\n",
    "> `'Text to be ignored',`<br>\n",
    "> `'StartSection Name: A',`<br>\n",
    "> `'EndSection Name: A',`<br>\n",
    "> `'Text between sections',`<br>\n",
    "> `'StartSection Name: B',`<br>\n",
    "> `'EndSection Name: B',`<br>\n",
    "> `'More text to be ignored'`<br>\n",
    "> `]`<br>\n",
    "\n",
    "- Section start **Before** *StartSection*\n",
    "- Section end **After** *EndSection*\n",
    "- SubSection start **After** *StartSection*\n",
    "\n",
    "```python\n",
    "sub_section = Section(section_name='SubSection',\n",
    "    start_section=SectionBreak('StartSection', break_offset='After')\n",
    "    )\n",
    "\n",
    "full_section = Section(section_name='Full',\n",
    "    start_section=SectionBreak('StartSection', break_offset='Before'),\n",
    "    end_section=SectionBreak('EndSection', break_offset='After'),\n",
    "    subsections=[sub_section] \n",
    "    )\n",
    "```"
   ]
  },
  {
   "cell_type": "code",
   "execution_count": 76,
   "metadata": {},
   "outputs": [
    {
     "name": "stdout",
     "output_type": "stream",
     "text": [
      "['Text to be ignored',\n",
      " 'StartSection Name: A',\n",
      " 'EndSection Name: A',\n",
      " 'Text between sections',\n",
      " 'StartSection Name: B',\n",
      " 'EndSection Name: B',\n",
      " 'More text to be ignored']\n"
     ]
    }
   ],
   "source": [
    "pprint(multi_section.read(GENERIC_TEST_TEXT))"
   ]
  },
  {
   "cell_type": "markdown",
   "metadata": {},
   "source": [
    "- ![Good](../examples/Valid.png) Results in both 'EndSections'\n",
    "<table><thead><th>Expected</th><th>Actual</th></thead>\n",
    " <tr> <td><code>\n",
    "    [<br>\n",
    "      [['EndSection Name: A']],<br>\n",
    "      [['EndSection Name: B']]<br>\n",
    "    ]</code></td>\n",
    "  <td><code>\n",
    "    [<br>\n",
    "      [['EndSection Name: A']],<br>\n",
    "      [['EndSection Name: B']]<br>\n",
    "    ]</code></td></tr>\n",
    "</table>"
   ]
  },
  {
   "cell_type": "code",
   "execution_count": 77,
   "metadata": {},
   "outputs": [
    {
     "name": "stdout",
     "output_type": "stream",
     "text": [
      "['Text to be ignored',\n",
      " 'StartSection A',\n",
      " 'MiddleSection A',\n",
      " 'EndSection A',\n",
      " 'Unwanted text between sections',\n",
      " 'StartSection B',\n",
      " 'MiddleSection B',\n",
      " 'EndSection B',\n",
      " 'StartSection C',\n",
      " 'MiddleSection C',\n",
      " 'EndSection C',\n",
      " 'Even more text to be ignored']\n"
     ]
    }
   ],
   "source": [
    "sub_section = Section(\n",
    "    section_name='SubSection',\n",
    "    start_section=SectionBreak('EndSection', break_offset='Before')\n",
    "    #end_on_first_item=True,\n",
    "    #keep_partial=True,\n",
    "    #end_section=SectionBreak(True)\n",
    "    )\n",
    "\n",
    "full_section = Section(\n",
    "    section_name='Full',\n",
    "    start_section=SectionBreak('StartSection', break_offset='Before'),\n",
    "    end_section=SectionBreak('EndSection', break_offset='After'),\n",
    "    subsections=sub_section \n",
    "    )\n",
    "\n",
    "multi_section = Section(section_name='Multi',\n",
    "    subsections=full_section,\n",
    "    #end_on_first_item=True\n",
    "    )\n",
    "\n",
    "pprint(multi_section.read(GENERIC_TEST_TEXT2))"
   ]
  },
  {
   "cell_type": "markdown",
   "metadata": {},
   "source": [
    "- ![Good](../examples/Valid.png) Results in three 'EndSections'\n",
    "<table><thead><th>Expected</th><th>Actual</th></thead>\n",
    " <tr> <td><code>\n",
    "    [<br>\n",
    "      [['EndSection Name: A']],<br>\n",
    "      [['EndSection Name: B']]<br>\n",
    "      [['EndSection Name: C']]<br>\n",
    "    ]</code></td>\n",
    "  <td><code>\n",
    "    [<br>\n",
    "      [['EndSection Name: A']],<br>\n",
    "      [['EndSection Name: B']]<br>\n",
    "      [['EndSection Name: C']]<br>\n",
    "    ]</code></td></tr>\n",
    "</table>"
   ]
  },
  {
   "cell_type": "code",
   "execution_count": 78,
   "metadata": {},
   "outputs": [
    {
     "data": {
      "text/plain": [
       "['Text to be ignored',\n",
       " 'StartSection Name: A',\n",
       " 'EndSection Name: A',\n",
       " 'Text between sections',\n",
       " 'StartSection Name: B',\n",
       " 'EndSection Name: B',\n",
       " 'More text to be ignored']"
      ]
     },
     "execution_count": 78,
     "metadata": {},
     "output_type": "execute_result"
    }
   ],
   "source": [
    "GENERIC_TEST_TEXT"
   ]
  },
  {
   "cell_type": "code",
   "execution_count": 79,
   "metadata": {},
   "outputs": [
    {
     "name": "stdout",
     "output_type": "stream",
     "text": [
      "['StartSection Name: A', 'EndSection Name: A']\n"
     ]
    }
   ],
   "source": [
    "pprint(full_section.read(GENERIC_TEST_TEXT))"
   ]
  },
  {
   "cell_type": "markdown",
   "metadata": {},
   "source": [
    "- ![Good](../examples/Valid.png) Results in first 'EndSection'\n",
    "<table><thead><th>Expected</th><th>Actual</th></thead>\n",
    "<tr><td><code>[['EndSection Name: A']]</code></td>\n",
    "<td><code>[['EndSection Name: A']]</code></td></tr>\n",
    "</table>"
   ]
  },
  {
   "cell_type": "markdown",
   "metadata": {},
   "source": [
    "### Add start to SubSection Definition\n",
    "> `start_section=SectionBreak('EndSection', break_offset='Before')`"
   ]
  },
  {
   "cell_type": "code",
   "execution_count": 80,
   "metadata": {},
   "outputs": [
    {
     "name": "stdout",
     "output_type": "stream",
     "text": [
      "['Text to be ignored',\n",
      " 'StartSection Name: A',\n",
      " 'EndSection Name: A',\n",
      " 'Text between sections',\n",
      " 'StartSection Name: B',\n",
      " 'EndSection Name: B',\n",
      " 'More text to be ignored']\n"
     ]
    }
   ],
   "source": [
    "sub_section = Section(\n",
    "    section_name='SubSection',\n",
    "    start_section=SectionBreak('EndSection', break_offset='Before'),  # Added to use alone\n",
    "    #end_on_first_item=True,\n",
    "    #keep_partial=True,\n",
    "    #end_section=SectionBreak(True)\n",
    "    )\n",
    "\n",
    "full_section = Section(\n",
    "    section_name='Full',\n",
    "    #start_section=SectionBreak('StartSection', break_offset='Before'),\n",
    "    #end_section=SectionBreak('EndSection', break_offset='After'),\n",
    "    subsections=[sub_section] \n",
    "    )\n",
    "pprint(full_section.read(GENERIC_TEST_TEXT))"
   ]
  },
  {
   "cell_type": "markdown",
   "metadata": {},
   "source": [
    "- ![Good](../examples/Valid.png) Results in everything starting with first 'EndSection'.\n",
    "- There is no `end_section`, so everything after `start_section` triggers will be read.\n",
    "  \n",
    "<table><thead><th>Expected</th><th>Actual</th></thead>\n",
    "<tr><td><code>\n",
    "[['EndSection Name: A',<br>\n",
    "  'Text between sections',<br>\n",
    "  'StartSection Name: B',\n",
    "  'EndSection Name: B',<br>\n",
    "  'More text to be ignored']]</code></td>\n",
    "<td><code>\n",
    "[['EndSection Name: A',<br>\n",
    "  'Text between sections',<br>\n",
    "  'StartSection Name: B',\n",
    "  'EndSection Name: B',<br>\n",
    "  'More text to be ignored']]\n",
    "  </code></td></tr>\n",
    "</table>"
   ]
  },
  {
   "cell_type": "markdown",
   "metadata": {},
   "source": [
    "### Add *Start After* to Section Definition\n",
    "> `start_section=SectionBreak('StartSection', break_offset='After')`"
   ]
  },
  {
   "cell_type": "code",
   "execution_count": 81,
   "metadata": {},
   "outputs": [
    {
     "name": "stdout",
     "output_type": "stream",
     "text": [
      "['EndSection Name: A',\n",
      " 'Text between sections',\n",
      " 'StartSection Name: B',\n",
      " 'EndSection Name: B',\n",
      " 'More text to be ignored']\n"
     ]
    }
   ],
   "source": [
    "sub_section = Section(\n",
    "    section_name='SubSection',\n",
    "    #start_section=SectionBreak('EndSection', break_offset='Before'),  # Added to use alone\n",
    "    #end_on_first_item=True,\n",
    "    #keep_partial=True,\n",
    "    #end_section=SectionBreak(True)\n",
    "    )\n",
    "\n",
    "full_section = Section(\n",
    "    section_name='Full',\n",
    "    start_section=SectionBreak('StartSection', break_offset='After'),\n",
    "    #end_section=SectionBreak('EndSection', break_offset='After'),\n",
    "    subsections=[sub_section]  \n",
    "    )\n",
    "pprint(full_section.read(GENERIC_TEST_TEXT))"
   ]
  },
  {
   "cell_type": "markdown",
   "metadata": {
    "notebookRunGroups": {
     "groupValue": "2"
    }
   },
   "source": [
    "- ![Good](../examples/Valid.png) Results in one line section starting with first 'EndSection'.\n",
    "- There is no `end_section`, so everything after `start_section` triggers will be read.\n",
    "  \n",
    "<table><thead><th>Expected</th><th>Actual</th></thead>\n",
    "<tr><td><code>\n",
    "[['EndSection Name: A',<BR>\n",
    "  'StartSection Name: B',\n",
    "  'EndSection Name: B',<BR>\n",
    "  'More text to be ignored']]\n",
    "  </code></td>\n",
    "<td><code>\n",
    "[['EndSection Name: A',<BR>\n",
    "  'StartSection Name: B',\n",
    "  'EndSection Name: B',<BR>\n",
    "  'More text to be ignored']]\n",
    "  </code></td></tr>\n",
    "</table>"
   ]
  },
  {
   "cell_type": "markdown",
   "metadata": {},
   "source": [
    "### Add *Start After StartSection* to Section Definition and <br>*Start Before End Section* to SubSection Definition\n",
    "> **Section Definition**<br> \n",
    "> `start_section=SectionBreak('StartSection', break_offset='After')`\n",
    "> \n",
    "> **SubSection Definition**<br>\n",
    "> `start_section=SectionBreak('EndSection', break_offset='Before')`\n",
    "    "
   ]
  },
  {
   "cell_type": "code",
   "execution_count": 82,
   "metadata": {},
   "outputs": [
    {
     "name": "stdout",
     "output_type": "stream",
     "text": [
      "['EndSection Name: A',\n",
      " 'Text between sections',\n",
      " 'StartSection Name: B',\n",
      " 'EndSection Name: B',\n",
      " 'More text to be ignored']\n"
     ]
    }
   ],
   "source": [
    "sub_section = Section(\n",
    "    section_name='SubSection',\n",
    "    start_section=SectionBreak('EndSection', break_offset='Before'),  # Added to use alone\n",
    "    #end_on_first_item=True,\n",
    "    #keep_partial=True,\n",
    "    #end_section=SectionBreak(True)\n",
    "    )\n",
    "\n",
    "full_section = Section(\n",
    "    section_name='Full',\n",
    "    start_section=SectionBreak('StartSection', break_offset='After'),\n",
    "    #end_section=SectionBreak('EndSection', break_offset='After'),\n",
    "    subsections=[sub_section]  \n",
    "    )\n",
    "pprint(full_section.read(GENERIC_TEST_TEXT))"
   ]
  },
  {
   "cell_type": "markdown",
   "metadata": {},
   "source": [
    "- ![Good](../examples/Valid.png) Two competing `start_section`s Results in one line section starting with first 'EndSection'.\n",
    "- `full_section`'s `start_section=SectionBreak('StartSection', break_offset='After')` drives the start.\n",
    "- There is no `end_section`, so everything after `start_section` triggers will be read.\n",
    "  \n",
    "<table><thead><th>Expected</th><th>Actual</th></thead>\n",
    "<tr><td><code>\n",
    "[['EndSection Name: A',<br>\n",
    "  'Text between sections',<br>\n",
    "  'StartSection Name: B',\n",
    "  'EndSection Name: B',<br>\n",
    "  'More text to be ignored']]</code></td>\n",
    "<td><code>\n",
    "  [['EndSection Name: A',<br>\n",
    "  'Text between sections',<br>\n",
    "  'StartSection Name: B',\n",
    "  'EndSection Name: B',<br>\n",
    "  'More text to be ignored']]</code></td></tr>\n",
    "</table>"
   ]
  },
  {
   "cell_type": "markdown",
   "metadata": {},
   "source": [
    "### Add *Start After StartSection* to Section Definition and <br>*Start Before End Section* to SubSection Definition and <br>set *End On First Line* for SubSection\n",
    "> **Section Definition**<br> \n",
    "> `start_section=SectionBreak('StartSection', break_offset='After')`\n",
    "> \n",
    "> **SubSection Definition**<br>\n",
    "> `start_section=SectionBreak('EndSection', break_offset='Before'),`\n",
    "> `end_on_first_item=True,`\n",
    "    "
   ]
  },
  {
   "cell_type": "code",
   "execution_count": 83,
   "metadata": {},
   "outputs": [
    {
     "name": "stdout",
     "output_type": "stream",
     "text": [
      "['EndSection Name: A',\n",
      " 'Text between sections',\n",
      " 'StartSection Name: B',\n",
      " 'EndSection Name: B',\n",
      " 'More text to be ignored']\n"
     ]
    }
   ],
   "source": [
    "sub_section = Section(\n",
    "    section_name='SubSection',\n",
    "    start_section=SectionBreak('EndSection', break_offset='Before'),\n",
    "    end_on_first_item=True,\n",
    "    #keep_partial=True,\n",
    "    #end_section=SectionBreak(True)\n",
    "    )\n",
    "\n",
    "full_section = Section(\n",
    "    section_name='Full',\n",
    "    start_section=SectionBreak('StartSection', break_offset='After'),\n",
    "    #end_section=SectionBreak('EndSection', break_offset='After'),\n",
    "    subsections=[sub_section]  \n",
    "    )\n",
    "pprint(full_section.read(GENERIC_TEST_TEXT))"
   ]
  },
  {
   "cell_type": "markdown",
   "metadata": {},
   "source": [
    "- ![Good](../examples/Valid.png) `end_on_first_item=True,` has no effect because no end_section is given.\n",
    "- Two competing `start_section`s Results in one line section starting with first 'EndSection'.\n",
    "- `full_section`'s `start_section=SectionBreak('StartSection', break_offset='After')` drives the start.\n",
    "- There is no `end_section`, so everything after `start_section` triggers will be read.\n",
    "  \n",
    "<table><thead><th>Expected</th><th>Actual</th></thead>\n",
    "<tr><td><code>\n",
    "[['EndSection Name: A',<br>\n",
    "  'Text between sections',<br>\n",
    "  'StartSection Name: B',\n",
    "  'EndSection Name: B',<br>\n",
    "  'More text to be ignored']]</code></td>\n",
    "<td><code>\n",
    "  [['EndSection Name: A',<br>\n",
    "  'Text between sections',<br>\n",
    "  'StartSection Name: B',\n",
    "  'EndSection Name: B',<br>\n",
    "  'More text to be ignored']]</code></td></tr>\n",
    "</table>"
   ]
  },
  {
   "cell_type": "markdown",
   "metadata": {},
   "source": [
    "### Add *Start After StartSection* to Section Definition, and <br>for SubSection Definition, set *Start* to  *Before EndSection*<br> and *End* to *`True` (Always Break)*\n",
    "> **Section Definition**<br> \n",
    "> `start_section=SectionBreak('StartSection', break_offset='After')`\n",
    "> \n",
    "> **SubSection Definition**<br>\n",
    "> `start_section=SectionBreak('EndSection', break_offset='Before'),`\n",
    "> `end_section=SectionBreak(True),`\n",
    "    "
   ]
  },
  {
   "cell_type": "code",
   "execution_count": 84,
   "metadata": {},
   "outputs": [
    {
     "name": "stdout",
     "output_type": "stream",
     "text": [
      "['EndSection Name: A',\n",
      " 'Text between sections',\n",
      " 'StartSection Name: B',\n",
      " 'EndSection Name: B',\n",
      " 'More text to be ignored']\n"
     ]
    }
   ],
   "source": [
    "sub_section = Section(\n",
    "    section_name='SubSection',\n",
    "    start_section=SectionBreak('EndSection', break_offset='Before'),  # Added to use alone\n",
    "    #end_on_first_item=True,\n",
    "    #keep_partial=True,\n",
    "    end_section=SectionBreak(True)\n",
    "    )\n",
    "\n",
    "full_section = Section(\n",
    "    section_name='Full',\n",
    "    start_section=SectionBreak('StartSection', break_offset='After'),\n",
    "    #end_section=SectionBreak('EndSection', break_offset='After'),\n",
    "    subsections=[sub_section]  \n",
    "    )\n",
    "pprint(full_section.read(GENERIC_TEST_TEXT))"
   ]
  },
  {
   "cell_type": "markdown",
   "metadata": {},
   "source": [
    "- ![Good](../examples/Valid.png) Results in two one-line sections.\n",
    "  \n",
    "<table><thead><th>Expected</th><th>Actual</th></thead>\n",
    "<tr><td><code>\n",
    "[<br>\n",
    "['EndSection Name: A'],<br>\n",
    "['EndSection Name: B']<br>\n",
    "]\n",
    "  </code></td>\n",
    "<td><code>\n",
    "[<br>\n",
    "['EndSection Name: A'],<br>\n",
    "['EndSection Name: B']<br>\n",
    "]\n",
    "  </code></td></tr>\n",
    "</table>"
   ]
  },
  {
   "cell_type": "markdown",
   "metadata": {},
   "source": [
    "### Add *Start After StartSection* and <br>*End Before EndSection* to Section Definition, and <br>for SubSection Definition, set <br>*Start* to  *Before EndSection* and <br>*End* to *`True` (Always Break)*\n",
    "> **Section Definition**<br> \n",
    "> `start_section=SectionBreak('StartSection', break_offset='After'),`<br>\n",
    "> `end_section=SectionBreak('EndSection', break_offset='After'),`<br>\n",
    "    \n",
    "> \n",
    "> **SubSection Definition**<br>\n",
    "> `start_section=SectionBreak('EndSection', break_offset='Before'),`<br>\n",
    "> `end_section=SectionBreak(True),`\n",
    "    "
   ]
  },
  {
   "cell_type": "code",
   "execution_count": 85,
   "metadata": {},
   "outputs": [
    {
     "name": "stdout",
     "output_type": "stream",
     "text": [
      "['EndSection Name: A',\n",
      " 'Text between sections',\n",
      " 'StartSection Name: B',\n",
      " 'EndSection Name: B']\n"
     ]
    }
   ],
   "source": [
    "sub_section = Section(\n",
    "    section_name='SubSection',\n",
    "    start_section=SectionBreak('EndSection', break_offset='Before'),  # Added to use alone\n",
    "    #end_on_first_item=True,\n",
    "    #keep_partial=True,\n",
    "    end_section=SectionBreak(True)\n",
    "    )\n",
    "\n",
    "full_section = Section(\n",
    "    section_name='Full',\n",
    "    start_section=SectionBreak('StartSection', break_offset='After'),\n",
    "    end_section=SectionBreak('EndSection', break_offset='After'),\n",
    "    subsections=[sub_section] \n",
    "    )\n",
    "\n",
    "pprint(full_section.read(GENERIC_TEST_TEXT))"
   ]
  },
  {
   "cell_type": "markdown",
   "metadata": {},
   "source": [
    "- ![Good](../examples/Valid.png) Results in two one-line sections.\n",
    "  \n",
    "<table><thead><th>Expected</th><th>Actual</th></thead>\n",
    "<tr><td><code>\n",
    "[<br>\n",
    "['EndSection Name: A'],<br>\n",
    "['EndSection Name: B']<br>\n",
    "]\n",
    "  </code></td>\n",
    "<td><code>\n",
    "[<br>\n",
    "['EndSection Name: A'],<br>\n",
    "['EndSection Name: B']<br>\n",
    "]\n",
    "  </code></td></tr>\n",
    "</table>"
   ]
  },
  {
   "cell_type": "markdown",
   "metadata": {},
   "source": [
    "<b>Break Analysis</b>\n",
    "<table><thead>\n",
    "<th>Text Line</th><th>Full Section</th><th>SubSection</th>\n",
    "</thead>\n",
    "<tr><td>'Text to be ignored'</td><td>Skipped</td><td>Skipped</td></tr>\n",
    "<tr><td>'StartSection Name: A'</td><td>Start Section After</td><td>Skipped</td></tr>\n",
    "<tr><td><b>'EndSection Name: A'</b></td><td><u>Processed</u><br>No End Section<br>(<code>end_on_first_item=False</code>)</td><td>Start Section Before<br>(<u>Processed</u>)<br>No End Section<br>(<code>end_on_first_item=False</code>)</td></tr>\n",
    "<tr><td>'Text between sections'</td><td><i>Processed</i></td><td>End Section Before</td></tr>\n",
    "<tr><td>'StartSection Name: B'</td><td><i>Processed</i></td><td>Skipped</td></tr>\n",
    "<tr><td><b>'EndSection Name: B'</b></td><td><u>Processed</u><br>End Section After</td><td>Start Section Before<br>(<u>Processed</u>)<br>No End Section<br>(<code>end_on_first_item=False</code>)</td></tr>\n",
    "<tr><td>'More text to be ignored'</td><td>End of Section</td><td>Not Reached</td></tr>\n",
    " </table>"
   ]
  },
  {
   "cell_type": "markdown",
   "metadata": {},
   "source": [
    "### Add *Start __Before__ StartSection* and *End Before EndSection* to Section Definition, and for SubSection Definition, set *Start* to  *Before EndSection* and *End* to *`True` (Always Break)*\n",
    "> **Section Definition**<br> \n",
    "> `start_section=SectionBreak('StartSection', break_offset='Before'),`<br>\n",
    "> `end_section=SectionBreak('EndSection', break_offset='After'),`\n",
    "    \n",
    "> \n",
    "> **SubSection Definition**<br>\n",
    "> `start_section=SectionBreak('EndSection', break_offset='Before'),`<br>\n",
    "> `end_section=SectionBreak(True),`\n",
    "    "
   ]
  },
  {
   "cell_type": "code",
   "execution_count": 86,
   "metadata": {},
   "outputs": [
    {
     "name": "stdout",
     "output_type": "stream",
     "text": [
      "['StartSection Name: A', 'EndSection Name: A']\n"
     ]
    }
   ],
   "source": [
    "sub_section = Section(\n",
    "    section_name='SubSection',\n",
    "    start_section=SectionBreak('EndSection', break_offset='Before'),  # Added to use alone\n",
    "    #end_on_first_item=True,\n",
    "    #keep_partial=True,\n",
    "    end_section=SectionBreak(True)\n",
    "    )\n",
    "\n",
    "full_section = Section(\n",
    "    section_name='Full',\n",
    "    start_section=SectionBreak('StartSection', break_offset='Before'),\n",
    "    end_section=SectionBreak('EndSection', break_offset='After'),\n",
    "    subsections=[sub_section]  \n",
    "    )\n",
    "pprint(full_section.read(GENERIC_TEST_TEXT))"
   ]
  },
  {
   "cell_type": "markdown",
   "metadata": {},
   "source": [
    "- ![Good](../examples/Valid.png) Results in single line section.\n",
    "- 'EndSection Name: A' is now the second line in Full Section, so the section ends after this line.\n",
    "  \n",
    "<table><thead><th>Expected</th><th>Actual</th></thead>\n",
    "<tr><td><code>[['EndSection Name: A']]</code></td>\n",
    "<td><code>[['EndSection Name: A']]</code></td></tr>\n",
    "</table>"
   ]
  },
  {
   "cell_type": "markdown",
   "metadata": {},
   "source": [
    "### Add *Start __Before__ StartSection* and <br>*End Before EndSection* to Section Definition, and <br>for SubSection Definition, set <br>*Start* to *Before EndSection*, <br>*End* to *`True` (Always Break)* and <br>*Keep Partial* to *`True`*\n",
    "> **Section Definition**<br> \n",
    "> `start_section=SectionBreak('StartSection', break_offset='Before'),`<br>\n",
    "> `end_section=SectionBreak('EndSection', break_offset='After'),` <br>   \n",
    "> \n",
    "> **SubSection Definition**<br>\n",
    "> `start_section=SectionBreak('EndSection', break_offset='Before'),`<br>\n",
    "> `end_section=SectionBreak(True),`<br>\n",
    "> `keep_partial=True,`\n",
    "    "
   ]
  },
  {
   "cell_type": "code",
   "execution_count": 87,
   "metadata": {},
   "outputs": [
    {
     "name": "stdout",
     "output_type": "stream",
     "text": [
      "['StartSection Name: A', 'EndSection Name: A']\n"
     ]
    }
   ],
   "source": [
    "sub_section = Section(\n",
    "    section_name='SubSection',\n",
    "    start_section=SectionBreak('EndSection', break_offset='Before'),  # Added to use alone\n",
    "    #end_on_first_item=True,\n",
    "    keep_partial=True,\n",
    "    end_section=SectionBreak(True)\n",
    "    )\n",
    "\n",
    "full_section = Section(\n",
    "    section_name='Full',\n",
    "    start_section=SectionBreak('StartSection', break_offset='Before'),\n",
    "    end_section=SectionBreak('EndSection', break_offset='After'),\n",
    "    subsections=[sub_section]  \n",
    "    )\n",
    "pprint(full_section.read(GENERIC_TEST_TEXT))"
   ]
  },
  {
   "cell_type": "markdown",
   "metadata": {},
   "source": [
    "- ![Good](../examples/Valid.png) Results in the same single line section.\n",
    "- `keep_partial=True` has no effect.\n",
    "  \n",
    "<table><thead><th>Expected</th><th>Actual</th></thead>\n",
    "<tr><td><code>[['EndSection Name: A']]</code></td>\n",
    "<td><code>[['EndSection Name: A']]</code></td></tr>\n",
    "</table>"
   ]
  },
  {
   "cell_type": "markdown",
   "metadata": {},
   "source": [
    "### Add *Start __Before__ StartSection* and <br>*End Before EndSection* to Section Definition, and <br>don't set any SectionBreaks for SubSection Definition, \n",
    "> **Section Definition**<br> \n",
    "> `start_section=SectionBreak('StartSection', break_offset='Before'),`<br>\n",
    "> `end_section=SectionBreak('EndSection', break_offset='After'),`    \n",
    "    "
   ]
  },
  {
   "cell_type": "code",
   "execution_count": 88,
   "metadata": {},
   "outputs": [
    {
     "name": "stdout",
     "output_type": "stream",
     "text": [
      "['StartSection Name: A', 'EndSection Name: A']\n"
     ]
    }
   ],
   "source": [
    "sub_section = Section(\n",
    "    section_name='SubSection',\n",
    "    #start_section=SectionBreak('EndSection', break_offset='Before'),  # Added to use alone\n",
    "    #end_on_first_item=True,\n",
    "    #keep_partial=True,\n",
    "    #end_section=SectionBreak(True)\n",
    "    )\n",
    "\n",
    "full_section = Section(\n",
    "    section_name='Full',\n",
    "    start_section=SectionBreak('StartSection', break_offset='Before'),\n",
    "    end_section=SectionBreak('EndSection', break_offset='After'),\n",
    "    subsections=[sub_section]  \n",
    "    )\n",
    "pprint(full_section.read(GENERIC_TEST_TEXT))"
   ]
  },
  {
   "cell_type": "markdown",
   "metadata": {},
   "source": [
    "- ![Good](../examples/Valid.png) Results in Two line section\n",
    "  \n",
    "<table><thead><th>Expected</th><th>Actual</th></thead>\n",
    "<tr><td><code>[[<br>'StartSection Name: A',<br>'EndSection Name: A'<br>]]</code></td>\n",
    "<td><code>[[<br>'StartSection Name: A',<br>'EndSection Name: A'<br>]]</code></td></tr>\n",
    "</table>"
   ]
  },
  {
   "cell_type": "markdown",
   "metadata": {},
   "source": [
    "### Add *Start __After__ StartSection* and <br>*End Before EndSection* to Section Definition, and <br>don't set any SectionBreaks for SubSection Definition, \n",
    "> **Section Definition**<br> \n",
    "> `start_section=SectionBreak('StartSection', break_offset='After'),`<br> \n",
    "> `end_section=SectionBreak('EndSection', break_offset='After'),` <br>    \n",
    "    "
   ]
  },
  {
   "cell_type": "code",
   "execution_count": 89,
   "metadata": {},
   "outputs": [
    {
     "name": "stdout",
     "output_type": "stream",
     "text": [
      "['EndSection Name: A',\n",
      " 'Text between sections',\n",
      " 'StartSection Name: B',\n",
      " 'EndSection Name: B']\n"
     ]
    }
   ],
   "source": [
    "sub_section = Section(\n",
    "    section_name='SubSection',\n",
    "    #start_section=SectionBreak('EndSection', break_offset='Before'),  # Added to use alone\n",
    "    #end_on_first_item=True,\n",
    "    #keep_partial=True,\n",
    "    #end_section=SectionBreak(True)\n",
    "    )\n",
    "\n",
    "full_section = Section(\n",
    "    section_name='Full',\n",
    "    start_section=SectionBreak('StartSection', break_offset='After'),\n",
    "    end_section=SectionBreak('EndSection', break_offset='After'),\n",
    "    subsections=[sub_section]  \n",
    "    )\n",
    "pprint(full_section.read(GENERIC_TEST_TEXT))"
   ]
  },
  {
   "cell_type": "markdown",
   "metadata": {},
   "source": [
    "- ![Good](../examples/Valid.png) Starts with first 'EndSection' ends with second 'EndSection'.\n",
    "  \n",
    "<table><thead><th>Expected</th><th>Actual</th></thead>\n",
    "<tr><td><code>\n",
    "[['EndSection Name: A',<br>\n",
    "  'Text between sections',<br>\n",
    "  'StartSection Name: B',<br>\n",
    "  'EndSection Name: B']]\n",
    "</code></td>\n",
    "<td><code>\n",
    "[['EndSection Name: A',<br>\n",
    "  'Text between sections',<br>\n",
    "  'StartSection Name: B',<br>\n",
    "  'EndSection Name: B']]\n",
    "</code></td></tr>\n",
    "</table>"
   ]
  },
  {
   "cell_type": "markdown",
   "metadata": {},
   "source": [
    "### Set `end_on_first` to *True*. <br>*Start __After__ StartSection* and <br>*End Before EndSection* to Section Definition, and <br>don't set any SectionBreaks for SubSection Definition, \n",
    "> **Section Definition**<br> \n",
    "> `start_section=SectionBreak('StartSection', break_offset='After'),`<br> \n",
    "> `end_section=SectionBreak('EndSection', break_offset='After'),`<br>\n",
    "> `end_on_first_item=True`<br>"
   ]
  },
  {
   "cell_type": "code",
   "execution_count": 90,
   "metadata": {},
   "outputs": [
    {
     "name": "stdout",
     "output_type": "stream",
     "text": [
      "['EndSection Name: A']\n"
     ]
    }
   ],
   "source": [
    "sub_section = Section(\n",
    "    section_name='SubSection',\n",
    "    #start_section=SectionBreak('EndSection', break_offset='Before'),  # Added to use alone\n",
    "    #end_on_first_item=True,\n",
    "    #keep_partial=True,\n",
    "    #end_section=SectionBreak(True)\n",
    "    )\n",
    "\n",
    "full_section = Section(\n",
    "    section_name='Full',\n",
    "    start_section=SectionBreak('StartSection', break_offset='After'),\n",
    "    end_section=SectionBreak('EndSection', break_offset='After'),\n",
    "    end_on_first_item=True,\n",
    "    #subsections=[sub_section]  \n",
    "    )\n",
    "pprint(full_section.read(GENERIC_TEST_TEXT))"
   ]
  },
  {
   "cell_type": "markdown",
   "metadata": {},
   "source": [
    "- ![Good](../examples/Valid.png) Results in one line section\n",
    "  \n",
    "<table><thead><th>Expected</th><th>Actual</th></thead>\n",
    "<tr><td><code>[['EndSection Name: A']]</code></td>\n",
    "<td><code>[['EndSection Name: A']]</code></td></tr>\n",
    "</table>"
   ]
  },
  {
   "cell_type": "markdown",
   "metadata": {},
   "source": [
    "## Three line sections"
   ]
  },
  {
   "cell_type": "code",
   "execution_count": 91,
   "metadata": {},
   "outputs": [],
   "source": [
    "GENERIC_TEST_TEXT3 = [\n",
    "    'Text to be ignored',\n",
    "    'StartSection A',\n",
    "    'MiddleSection A',\n",
    "    'EndSection A',\n",
    "    'Unwanted text between sections',\n",
    "    'StartSection B',\n",
    "    'Random text in the middle of a section',\n",
    "    'MiddleSection B',\n",
    "    'EndSection B',\n",
    "    'StartSection C',\n",
    "    'MiddleSection C',\n",
    "    'EndSection C',\n",
    "    'Even more text to be ignored', \n",
    "    ]"
   ]
  },
  {
   "cell_type": "markdown",
   "metadata": {},
   "source": [
    "#### Single line subsection definitions "
   ]
  },
  {
   "cell_type": "code",
   "execution_count": 92,
   "metadata": {},
   "outputs": [],
   "source": [
    "start_sub_section = Section(\n",
    "    section_name='StartSubSection',\n",
    "    start_section=SectionBreak('StartSection', break_offset='Before'),\n",
    "    end_section=SectionBreak(True, break_offset='Before')\n",
    "    )\n",
    "\n",
    "middle_sub_section = Section(\n",
    "    section_name='MiddleSubSection',\n",
    "    start_section=SectionBreak('MiddleSection', break_offset='Before'),\n",
    "    end_section=SectionBreak(True, break_offset='Before')\n",
    "    )\n",
    "\n",
    "end_sub_section = Section(\n",
    "    section_name='EndSubSection',\n",
    "    start_section=SectionBreak('EndSection', break_offset='Before'),\n",
    "    end_section=SectionBreak(True, break_offset='Before')\n",
    "    )"
   ]
  },
  {
   "cell_type": "markdown",
   "metadata": {},
   "source": [
    "#### Defining ***three_part_section*** \n",
    "- Contains an ending break:\n",
    "    > `end_section=SectionBreak('ignored', break_offset='Before')`.\n",
    "\n",
    "- Contains 3 subsections:\n",
    "    > `[start_sub_section, middle_sub_section, end_sub_section]`"
   ]
  },
  {
   "cell_type": "code",
   "execution_count": 93,
   "metadata": {},
   "outputs": [
    {
     "name": "stdout",
     "output_type": "stream",
     "text": [
      "['Text to be ignored',\n",
      " 'StartSection A',\n",
      " 'MiddleSection A',\n",
      " 'EndSection A',\n",
      " 'Unwanted text between sections',\n",
      " 'StartSection B',\n",
      " 'Random text in the middle of a section',\n",
      " 'MiddleSection B',\n",
      " 'EndSection B',\n",
      " 'StartSection C',\n",
      " 'MiddleSection C',\n",
      " 'EndSection C']\n"
     ]
    }
   ],
   "source": [
    "three_part_section = Section(\n",
    "    section_name='Top Section',\n",
    "    end_section=SectionBreak('ignored', break_offset='Before'),\n",
    "    subsections=[start_sub_section, middle_sub_section, end_sub_section]\n",
    "    )\n",
    "pprint(three_part_section.read(GENERIC_TEST_TEXT3))"
   ]
  },
  {
   "cell_type": "markdown",
   "metadata": {},
   "source": [
    "![Good](../examples/Valid.png) All 3 sections and subsections are completed. \n",
    "\n",
    "<table>\n",
    "    <thead><th>Expected</th><th>Actual</th></thead>\n",
    "    <tr>\n",
    "        <td><code>\n",
    "          [<br>\n",
    "            [\n",
    "              ['StartSection Name: A'],<br> \n",
    "              ['MiddleSection A'],<br> \n",
    "              ['EndSection Name: A']\n",
    "            ],<br>\n",
    "            [\n",
    "              ['StartSection Name: B'],<br> \n",
    "              ['MiddleSection A'],<br> \n",
    "              ['EndSection Name: B']\n",
    "            ]<br>\n",
    "            [\n",
    "              ['StartSection Name: C'],<br> \n",
    "              ['MiddleSection C'],<br> \n",
    "              ['EndSection Name: C']\n",
    "            ]<br>\n",
    "          ]\n",
    "        </code></td>\n",
    "        <td><code>\n",
    "          [<br>\n",
    "            [\n",
    "              ['StartSection Name: A'],<br> \n",
    "              ['MiddleSection A'],<br> \n",
    "              ['EndSection Name: A']\n",
    "            ],<br>\n",
    "            [\n",
    "              ['StartSection Name: B'],<br> \n",
    "              ['MiddleSection A'],<br> \n",
    "              ['EndSection Name: B']\n",
    "            ]<br>\n",
    "            [\n",
    "              ['StartSection Name: C'],<br> \n",
    "              ['MiddleSection C'],<br> \n",
    "              ['EndSection Name: C']\n",
    "            ]<br>\n",
    "          ]\n",
    "        </code></td></tr>\n",
    "</table>"
   ]
  },
  {
   "cell_type": "markdown",
   "metadata": {},
   "source": [
    "- Section start **Before** *StartSection*\n",
    "- Section end **After** *EndSection*\n",
    "\n",
    "```python\n",
    "sub_section = Section(section_name='SubSection')\n",
    "\n",
    "full_section = Section(section_name='Full',\n",
    "    start_section=SectionBreak('StartSection', break_offset='Before'),\n",
    "    end_section=SectionBreak('EndSection', break_offset='After'),\n",
    "    subsections=[sub_section] \n",
    "    )\n",
    "```"
   ]
  },
  {
   "cell_type": "code",
   "execution_count": 94,
   "metadata": {},
   "outputs": [
    {
     "name": "stdout",
     "output_type": "stream",
     "text": [
      "['StartSection A', 'MiddleSection A', 'EndSection A']\n"
     ]
    }
   ],
   "source": [
    "sub_section = Section(\n",
    "    section_name='SubSection',\n",
    "    #start_section=SectionBreak('StartSection', break_offset='After')\n",
    "    #end_on_first_item=True,\n",
    "    #keep_partial=True,\n",
    "    #end_section=SectionBreak(True)\n",
    "    )\n",
    "\n",
    "full_section = Section(\n",
    "    section_name='Full',\n",
    "    start_section=SectionBreak('StartSection', break_offset='Before'),\n",
    "    end_section=SectionBreak('EndSection', break_offset='After'),\n",
    "    subsections=[sub_section] \n",
    "    )\n",
    "\n",
    "pprint(full_section.read(GENERIC_TEST_TEXT3))"
   ]
  },
  {
   "cell_type": "markdown",
   "metadata": {},
   "source": [
    "![Good](../examples/Valid.png) First section and all 3 subsections are completed. \n",
    "\n",
    "<table>\n",
    "  <thead><th>Expected</th><th>Actual</th></thead>\n",
    "  <tr><td><code>\n",
    "    [[<br>\n",
    "    'StartSection Name: A',<br> \n",
    "    'MiddleSection A',<br> \n",
    "    'EndSection Name: A'<br>\n",
    "    ]]\n",
    "    </code></td>\n",
    "    <td><code>\n",
    "    [[<br>\n",
    "    'StartSection Name: A',<br> \n",
    "    'MiddleSection A',<br> \n",
    "    'EndSection Name: A'<br>\n",
    "    ]]\n",
    "  </code></td></tr>\n",
    "</table>"
   ]
  }
 ],
 "metadata": {
  "interpreter": {
   "hash": "bdd6de19b6444c4abd83e7de365882263ac0d7d20a0aa7e5f5ebd36d3365c333"
  },
  "kernelspec": {
   "display_name": "Python (sectionaryDev)",
   "language": "python",
   "name": "sectionarydev"
  },
  "language_info": {
   "codemirror_mode": {
    "name": "ipython",
    "version": 3
   },
   "file_extension": ".py",
   "mimetype": "text/x-python",
   "name": "python",
   "nbconvert_exporter": "python",
   "pygments_lexer": "ipython3",
   "version": "3.8.12"
  }
 },
 "nbformat": 4,
 "nbformat_minor": 4
}
