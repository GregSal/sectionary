{
 "cells": [
  {
   "cell_type": "markdown",
   "metadata": {},
   "source": [
    "# Tests of Buffered Iterator Update method"
   ]
  },
  {
   "cell_type": "markdown",
   "metadata": {},
   "source": [
    "### Imports"
   ]
  },
  {
   "cell_type": "code",
   "execution_count": 1,
   "metadata": {},
   "outputs": [],
   "source": [
    "from pprint import pprint\n",
    "import random\n",
    "from buffered_iterator import BufferedIterator, BufferedIteratorEOF\n"
   ]
  },
  {
   "cell_type": "markdown",
   "metadata": {},
   "source": [
    "### Logging"
   ]
  },
  {
   "cell_type": "code",
   "execution_count": 2,
   "metadata": {},
   "outputs": [],
   "source": [
    "import logging\n",
    "logging.basicConfig(format='%(name)-20s - %(levelname)s: %(message)s')\n",
    "#logging.basicConfig(level=logging.DEBUG)\n",
    "logger = logging.getLogger('Line Count Tests')\n",
    "#logger.setLevel(logging.DEBUG)\n",
    "logger.setLevel(logging.INFO)\n"
   ]
  },
  {
   "cell_type": "markdown",
   "metadata": {},
   "source": [
    "### Basic Parameters"
   ]
  },
  {
   "cell_type": "code",
   "execution_count": 3,
   "metadata": {},
   "outputs": [],
   "source": [
    "buffer_size = 5\n",
    "num_items = 15\n"
   ]
  },
  {
   "cell_type": "markdown",
   "metadata": {},
   "source": [
    "### Display Functions"
   ]
  },
  {
   "cell_type": "code",
   "execution_count": 4,
   "metadata": {},
   "outputs": [],
   "source": [
    "def buffered_iterator_compare(iter1, iter2, \n",
    "                              label1='From Iterator', label2='To Iterator'):\n",
    "    \n",
    "    row_template = ''.join([\n",
    "        '\\t{Label:<20s}',\n",
    "        '{first_iter_item:<30s}',\n",
    "        '{second_iter_item:<30s}\\n'\n",
    "        ])\n",
    "\n",
    "    iterator_compare_str = ''.join([\n",
    "        row_template.format(Label='', \n",
    "                            first_iter_item=label1, \n",
    "                            second_iter_item=label2),\n",
    "        row_template.format(Label='Previous Items', \n",
    "                            first_iter_item=str(list(iter1.previous_items)),\n",
    "                            second_iter_item=str(list(iter2.previous_items))),\n",
    "        row_template.format(Label='Future Items', \n",
    "                            first_iter_item=str(list(iter1.future_items)),\n",
    "                            second_iter_item=str(list(iter2.future_items))),\n",
    "        row_template.format(Label='Item Count', \n",
    "                            first_iter_item=str(iter1.item_count),\n",
    "                            second_iter_item=str(iter2.item_count)),\n",
    "        row_template.format(Label='Step Back', \n",
    "                            first_iter_item=str(iter1._step_back),\n",
    "                            second_iter_item=str(iter2._step_back)),\n",
    "        row_template.format(Label='Buffer Size', \n",
    "                            first_iter_item=str(iter1.buffer_size),\n",
    "                            second_iter_item=str(iter2.buffer_size))\n",
    "        ])\n",
    "    \n",
    "    return iterator_compare_str"
   ]
  },
  {
   "cell_type": "markdown",
   "metadata": {},
   "source": [
    "## Tests"
   ]
  },
  {
   "cell_type": "markdown",
   "metadata": {},
   "source": [
    "### Validate minimum bluffer size is 1"
   ]
  },
  {
   "cell_type": "markdown",
   "metadata": {},
   "source": [
    "### BufferedIterator Conditions\n",
    "- Two BufferedIterators\n",
    "    - __From__ BufferedIterator\n",
    "    - __To__ BufferedIterator\n",
    "<br>\n",
    "- Buffer Status (Previous & Future)\n",
    "    - empty\n",
    "    - full\n",
    "    - partial\n",
    "<br>\n",
    "- Iterator Status\n",
    "    - Not started\n",
    "    - In progress\n",
    "    - Closed\n",
    "<br>\n",
    "- Buffer Size\n",
    "    - Same\n",
    "    - Target larger\n",
    "    - Target smaller \n",
    "\t\t\n"
   ]
  },
  {
   "cell_type": "markdown",
   "metadata": {},
   "source": [
    "#### deque copying "
   ]
  },
  {
   "cell_type": "markdown",
   "metadata": {},
   "source": [
    "|Condition|From BufferedIterator|To BufferedIterator|\n",
    "|---------|---------------------|-------------------|\n",
    "|previous deque|full|full|\n",
    "|future deque|empty|empty|\n",
    "|iterator status|in progress|in progress|\n",
    "|buffer size|Same|Same| "
   ]
  },
  {
   "cell_type": "code",
   "execution_count": 5,
   "metadata": {},
   "outputs": [
    {
     "name": "stdout",
     "output_type": "stream",
     "text": [
      "\t                    From Iterator                 To Iterator                   \n",
      "\tPrevious Items      [7, 8, 9, 10, 11]             [17, 18, 19, 20, 21]          \n",
      "\tFuture Items        []                            []                            \n",
      "\tItem Count          12                            6                             \n",
      "\tStep Back           0                             0                             \n",
      "\tBuffer Size         5                             5                             \n",
      "\n",
      "\t                    From Iterator                 To Iterator                   \n",
      "\tPrevious Items      [7, 8, 9, 10, 11]             [7, 8, 9, 10, 11]             \n",
      "\tFuture Items        []                            []                            \n",
      "\tItem Count          12                            12                            \n",
      "\tStep Back           0                             0                             \n",
      "\tBuffer Size         5                             5                             \n",
      "\n"
     ]
    },
    {
     "data": {
      "text/plain": [
       "True"
      ]
     },
     "execution_count": 5,
     "metadata": {},
     "output_type": "execute_result"
    }
   ],
   "source": [
    "from_iter = BufferedIterator((i for i in range(num_items)), \n",
    "                              buffer_size=buffer_size)\n",
    "\n",
    "to_iter = BufferedIterator((i for i in range(num_items+1, num_items*2)), \n",
    "                              buffer_size=buffer_size)\n",
    "\n",
    "for i in range(buffer_size+1):\n",
    "    next(from_iter)\n",
    "    next(to_iter)\n",
    "    \n",
    "for i in range(buffer_size+1):\n",
    "    next(from_iter)\n",
    "\n",
    "print(buffered_iterator_compare(from_iter, to_iter))\n",
    "\n",
    "to_iter.update(from_iter)\n",
    "print(buffered_iterator_compare(from_iter, to_iter))\n",
    "\n",
    "from_iter.previous_items == to_iter.previous_items\n",
    "from_iter.future_items == to_iter.future_items "
   ]
  },
  {
   "cell_type": "markdown",
   "metadata": {},
   "source": [
    "\n",
    "|Condition|From BufferedIterator |To BufferedIterator|\n",
    "|---------|---------------------|-------------------|\n",
    "|previous deque|empty|empty|\n",
    "|future deque|full |full |\n",
    "|iterator status |in progress |in progress |\n",
    "|buffer size |Same|Same |\n",
    "#\n"
   ]
  },
  {
   "cell_type": "code",
   "execution_count": 6,
   "metadata": {},
   "outputs": [
    {
     "name": "stdout",
     "output_type": "stream",
     "text": [
      "\t                    From Iterator                 To Iterator                   \n",
      "\tPrevious Items      []                            []                            \n",
      "\tFuture Items        [1, 2, 3, 4, 5]               [17, 18, 19, 20, 21]          \n",
      "\tItem Count          1                             1                             \n",
      "\tStep Back           0                             0                             \n",
      "\tBuffer Size         5                             5                             \n",
      "\n",
      "\t                    From Iterator                 To Iterator                   \n",
      "\tPrevious Items      []                            []                            \n",
      "\tFuture Items        [1, 2, 3, 4, 5]               [1, 2, 3, 4, 5]               \n",
      "\tItem Count          1                             1                             \n",
      "\tStep Back           0                             0                             \n",
      "\tBuffer Size         5                             5                             \n",
      "\n"
     ]
    },
    {
     "data": {
      "text/plain": [
       "True"
      ]
     },
     "execution_count": 6,
     "metadata": {},
     "output_type": "execute_result"
    }
   ],
   "source": [
    "from_iter = BufferedIterator((i for i in range(num_items)), \n",
    "                              buffer_size=buffer_size)\n",
    "\n",
    "to_iter = BufferedIterator((i for i in range(num_items+1, num_items*2)), \n",
    "                              buffer_size=buffer_size)\n",
    "\n",
    "for i in range(buffer_size + 1):\n",
    "    next(from_iter)\n",
    "    next(to_iter)\n",
    "from_iter.backup(buffer_size)\n",
    "to_iter.backup(buffer_size)\n",
    "\n",
    "print(buffered_iterator_compare(from_iter, to_iter))\n",
    "\n",
    "to_iter.update(from_iter)\n",
    "print(buffered_iterator_compare(from_iter, to_iter))\n",
    "\n",
    "from_iter.previous_items == to_iter.previous_items\n",
    "from_iter.future_items == to_iter.future_items "
   ]
  },
  {
   "cell_type": "markdown",
   "metadata": {},
   "source": [
    "\n",
    "|Condition|From BufferedIterator |To BufferedIterator|\n",
    "|---------|---------------------|-------------------|\n",
    "|previous deque|empty|full|\n",
    "|future deque|empty |empty |\n",
    "|iterator status |in progress |in progress |\n",
    "|buffer size |Same|Same|\t\n"
   ]
  },
  {
   "cell_type": "code",
   "execution_count": 7,
   "metadata": {},
   "outputs": [
    {
     "name": "stdout",
     "output_type": "stream",
     "text": [
      "\t                    From Iterator                 To Iterator                   \n",
      "\tPrevious Items      []                            [17, 18, 19, 20, 21]          \n",
      "\tFuture Items        []                            []                            \n",
      "\tItem Count          0                             6                             \n",
      "\tStep Back           0                             0                             \n",
      "\tBuffer Size         5                             5                             \n",
      "\n",
      "\t                    From Iterator                 To Iterator                   \n",
      "\tPrevious Items      []                            []                            \n",
      "\tFuture Items        []                            []                            \n",
      "\tItem Count          0                             0                             \n",
      "\tStep Back           0                             0                             \n",
      "\tBuffer Size         5                             5                             \n",
      "\n"
     ]
    },
    {
     "data": {
      "text/plain": [
       "True"
      ]
     },
     "execution_count": 7,
     "metadata": {},
     "output_type": "execute_result"
    }
   ],
   "source": [
    "from_iter = BufferedIterator((i for i in range(num_items)), \n",
    "                              buffer_size=buffer_size)\n",
    "\n",
    "to_iter = BufferedIterator((i for i in range(num_items+1, num_items*2)), \n",
    "                              buffer_size=buffer_size)\n",
    "\n",
    "for i in range(buffer_size + 1):\n",
    "    next(to_iter)\n",
    "\n",
    "print(buffered_iterator_compare(from_iter, to_iter))\n",
    "\n",
    "\n",
    "to_iter.update(from_iter)\n",
    "print(buffered_iterator_compare(from_iter, to_iter))\n",
    "\n",
    "from_iter.previous_items == to_iter.previous_items\n",
    "from_iter.future_items == to_iter.future_items "
   ]
  },
  {
   "cell_type": "markdown",
   "metadata": {},
   "source": [
    "\n",
    "|Condition|From BufferedIterator |To BufferedIterator|\n",
    "|---------|---------------------|-------------------|\n",
    "|previous deque|empty|empty|\n",
    "|future deque|empty |full |\n",
    "|iterator status |in progress |in progress |\n",
    "|buffer size |Same|Same|\t\n"
   ]
  },
  {
   "cell_type": "code",
   "execution_count": 8,
   "metadata": {},
   "outputs": [
    {
     "name": "stdout",
     "output_type": "stream",
     "text": [
      "\t                    From Iterator                 To Iterator                   \n",
      "\tPrevious Items      []                            []                            \n",
      "\tFuture Items        []                            [17, 18, 19, 20, 21]          \n",
      "\tItem Count          0                             1                             \n",
      "\tStep Back           0                             0                             \n",
      "\tBuffer Size         5                             5                             \n",
      "\n",
      "\t                    From Iterator                 To Iterator                   \n",
      "\tPrevious Items      []                            []                            \n",
      "\tFuture Items        []                            []                            \n",
      "\tItem Count          0                             0                             \n",
      "\tStep Back           0                             0                             \n",
      "\tBuffer Size         5                             5                             \n",
      "\n"
     ]
    },
    {
     "data": {
      "text/plain": [
       "True"
      ]
     },
     "execution_count": 8,
     "metadata": {},
     "output_type": "execute_result"
    }
   ],
   "source": [
    "from_iter = BufferedIterator((i for i in range(num_items)), \n",
    "                              buffer_size=buffer_size)\n",
    "\n",
    "to_iter = BufferedIterator((i for i in range(num_items+1, num_items*2)), \n",
    "                              buffer_size=buffer_size)\n",
    "\n",
    "for i in range(buffer_size + 1):\n",
    "    next(to_iter)\n",
    "to_iter.backup(buffer_size)\n",
    "\n",
    "print(buffered_iterator_compare(from_iter, to_iter))\n",
    "\n",
    "to_iter.update(from_iter)\n",
    "print(buffered_iterator_compare(from_iter, to_iter))\n",
    "\n",
    "from_iter.previous_items == to_iter.previous_items\n",
    "from_iter.future_items == to_iter.future_items "
   ]
  },
  {
   "cell_type": "markdown",
   "metadata": {},
   "source": [
    "\n",
    "|Condition|From BufferedIterator |To BufferedIterator|\n",
    "|---------|---------------------|-------------------|\n",
    "|previous deque|empty|full|\n",
    "|future deque|full |empty |\n",
    "|iterator status |in progress |in progress |\n",
    "|buffer size |Same|Same|\t\n"
   ]
  },
  {
   "cell_type": "code",
   "execution_count": 9,
   "metadata": {},
   "outputs": [
    {
     "name": "stdout",
     "output_type": "stream",
     "text": [
      "\t                    From Iterator                 To Iterator                   \n",
      "\tPrevious Items      []                            [17, 18, 19, 20, 21]          \n",
      "\tFuture Items        [1, 2, 3, 4, 5]               []                            \n",
      "\tItem Count          1                             6                             \n",
      "\tStep Back           0                             0                             \n",
      "\tBuffer Size         5                             5                             \n",
      "\n",
      "\t                    From Iterator                 To Iterator                   \n",
      "\tPrevious Items      []                            []                            \n",
      "\tFuture Items        [1, 2, 3, 4, 5]               [1, 2, 3, 4, 5]               \n",
      "\tItem Count          1                             1                             \n",
      "\tStep Back           0                             0                             \n",
      "\tBuffer Size         5                             5                             \n",
      "\n"
     ]
    },
    {
     "data": {
      "text/plain": [
       "True"
      ]
     },
     "execution_count": 9,
     "metadata": {},
     "output_type": "execute_result"
    }
   ],
   "source": [
    "from_iter = BufferedIterator((i for i in range(num_items)), \n",
    "                              buffer_size=buffer_size)\n",
    "\n",
    "to_iter = BufferedIterator((i for i in range(num_items+1, num_items*2)), \n",
    "                              buffer_size=buffer_size)\n",
    "\n",
    "for i in range(buffer_size + 1):\n",
    "    next(from_iter)\n",
    "    next(to_iter)\n",
    "from_iter.backup(buffer_size)\n",
    "\n",
    "print(buffered_iterator_compare(from_iter, to_iter))\n",
    "\n",
    "to_iter.update(from_iter)\n",
    "print(buffered_iterator_compare(from_iter, to_iter))\n",
    "\n",
    "from_iter.previous_items == to_iter.previous_items\n",
    "from_iter.future_items == to_iter.future_items "
   ]
  },
  {
   "cell_type": "markdown",
   "metadata": {},
   "source": [
    "#### partial deque"
   ]
  },
  {
   "cell_type": "markdown",
   "metadata": {},
   "source": [
    "|Condition|From BufferedIterator|To BufferedIterator|\n",
    "|---------|---------------------|-------------------|\n",
    "|previous deque|partial|empty|\n",
    "|future deque|partial|empty|\n",
    "|iterator status|in progress|in progress|\n",
    "|buffer size|Same|Same| "
   ]
  },
  {
   "cell_type": "code",
   "execution_count": 10,
   "metadata": {},
   "outputs": [
    {
     "name": "stdout",
     "output_type": "stream",
     "text": [
      "\t                    From Iterator                 To Iterator                   \n",
      "\tPrevious Items      [0]                           []                            \n",
      "\tFuture Items        [1, 2, 3]                     []                            \n",
      "\tItem Count          1                             0                             \n",
      "\tStep Back           0                             0                             \n",
      "\tBuffer Size         5                             5                             \n",
      "\n",
      "\t                    From Iterator                 To Iterator                   \n",
      "\tPrevious Items      [0]                           [0]                           \n",
      "\tFuture Items        [1, 2, 3]                     [1, 2, 3]                     \n",
      "\tItem Count          1                             1                             \n",
      "\tStep Back           0                             0                             \n",
      "\tBuffer Size         5                             5                             \n",
      "\n"
     ]
    },
    {
     "data": {
      "text/plain": [
       "True"
      ]
     },
     "execution_count": 10,
     "metadata": {},
     "output_type": "execute_result"
    }
   ],
   "source": [
    "from_iter = BufferedIterator((i for i in range(num_items)), \n",
    "                              buffer_size=buffer_size)\n",
    "\n",
    "to_iter = BufferedIterator((i for i in range(num_items+1, num_items*2)), \n",
    "                              buffer_size=buffer_size)\n",
    "\n",
    "fwd_count = random.randint(2, buffer_size-1)\n",
    "back_count = random.randint(1, fwd_count-1)\n",
    "\n",
    "for i in range(fwd_count):\n",
    "    next(from_iter)\n",
    "from_iter.backup(back_count)\n",
    "\n",
    "print(buffered_iterator_compare(from_iter, to_iter))\n",
    "\n",
    "to_iter.update(from_iter)\n",
    "print(buffered_iterator_compare(from_iter, to_iter))\n",
    "\n",
    "from_iter.previous_items == to_iter.previous_items\n",
    "from_iter.future_items == to_iter.future_items "
   ]
  },
  {
   "cell_type": "markdown",
   "metadata": {},
   "source": [
    "\n",
    "|Condition|From BufferedIterator|To BufferedIterator|\n",
    "|---------|---------------------|-------------------|\n",
    "|previous deque|partial|partial|\n",
    "|future deque|partial|partial|\n",
    "|iterator status|in progress|in progress|\n",
    "|buffer size|Same|Same| "
   ]
  },
  {
   "cell_type": "code",
   "execution_count": 11,
   "metadata": {},
   "outputs": [
    {
     "name": "stdout",
     "output_type": "stream",
     "text": [
      "\t                    From Iterator                 To Iterator                   \n",
      "\tPrevious Items      [0, 1]                        [16, 17]                      \n",
      "\tFuture Items        [2]                           [18]                          \n",
      "\tItem Count          2                             2                             \n",
      "\tStep Back           0                             0                             \n",
      "\tBuffer Size         5                             5                             \n",
      "\n",
      "\t                    From Iterator                 To Iterator                   \n",
      "\tPrevious Items      [0, 1]                        [0, 1]                        \n",
      "\tFuture Items        [2]                           [2]                           \n",
      "\tItem Count          2                             2                             \n",
      "\tStep Back           0                             0                             \n",
      "\tBuffer Size         5                             5                             \n",
      "\n"
     ]
    },
    {
     "data": {
      "text/plain": [
       "True"
      ]
     },
     "execution_count": 11,
     "metadata": {},
     "output_type": "execute_result"
    }
   ],
   "source": [
    "from_iter = BufferedIterator((i for i in range(num_items)), \n",
    "                              buffer_size=buffer_size)\n",
    "\n",
    "to_iter = BufferedIterator((i for i in range(num_items+1, num_items*2)), \n",
    "                              buffer_size=buffer_size)\n",
    "\n",
    "fwd_count = random.randint(2, buffer_size-1)\n",
    "back_count = random.randint(1, fwd_count-1)\n",
    "\n",
    "for i in range(fwd_count):\n",
    "    next(from_iter)\n",
    "    next(to_iter)\n",
    "from_iter.backup(back_count)\n",
    "to_iter.backup(back_count)\n",
    "\n",
    "print(buffered_iterator_compare(from_iter, to_iter))\n",
    "\n",
    "to_iter.update(from_iter)\n",
    "print(buffered_iterator_compare(from_iter, to_iter))\n",
    "\n",
    "from_iter.previous_items == to_iter.previous_items\n",
    "from_iter.future_items == to_iter.future_items "
   ]
  },
  {
   "cell_type": "markdown",
   "metadata": {},
   "source": [
    "\n",
    "|Condition|From BufferedIterator |To BufferedIterator|\n",
    "|---------|---------------------|-------------------|\n",
    "|previous deque|partial|full|\n",
    "|future deque|partial |full |\n",
    "|iterator status |in progress |in progress |\n",
    "|buffer size |Same |Same |\n"
   ]
  },
  {
   "cell_type": "code",
   "execution_count": 12,
   "metadata": {},
   "outputs": [
    {
     "name": "stdout",
     "output_type": "stream",
     "text": [
      "\t                    From Iterator                 To Iterator                   \n",
      "\tPrevious Items      [0]                           []                            \n",
      "\tFuture Items        [1]                           [17, 18, 19, 20, 21]          \n",
      "\tItem Count          1                             1                             \n",
      "\tStep Back           0                             0                             \n",
      "\tBuffer Size         5                             5                             \n",
      "\n",
      "\t                    From Iterator                 To Iterator                   \n",
      "\tPrevious Items      [0]                           [0]                           \n",
      "\tFuture Items        [1]                           [1]                           \n",
      "\tItem Count          1                             1                             \n",
      "\tStep Back           0                             0                             \n",
      "\tBuffer Size         5                             5                             \n",
      "\n"
     ]
    },
    {
     "data": {
      "text/plain": [
       "True"
      ]
     },
     "execution_count": 12,
     "metadata": {},
     "output_type": "execute_result"
    }
   ],
   "source": [
    "from_iter = BufferedIterator((i for i in range(num_items)), \n",
    "                              buffer_size=buffer_size)\n",
    "\n",
    "to_iter = BufferedIterator((i for i in range(num_items+1, num_items*2)), \n",
    "                              buffer_size=buffer_size)\n",
    "\n",
    "fwd_count = random.randint(2, buffer_size-1)\n",
    "back_count = random.randint(1, fwd_count-1)\n",
    "\n",
    "for i in range(fwd_count):\n",
    "    next(from_iter)\n",
    "from_iter.backup(back_count)\n",
    "\n",
    "for i in range(buffer_size + 1):\n",
    "    next(to_iter)\n",
    "to_iter.backup(buffer_size)\n",
    "\n",
    "print(buffered_iterator_compare(from_iter, to_iter))\n",
    "\n",
    "to_iter.update(from_iter)\n",
    "print(buffered_iterator_compare(from_iter, to_iter))\n",
    "\n",
    "from_iter.previous_items == to_iter.previous_items\n",
    "from_iter.future_items == to_iter.future_items "
   ]
  },
  {
   "cell_type": "markdown",
   "metadata": {},
   "source": [
    "\n",
    "#### _different buffer size_\n",
    "\n",
    "\t\t\n",
    "|Condition|From BufferedIterator|To BufferedIterator|\n",
    "|---------|---------------------|-------------------|\n",
    "|previous deque|full|full|\n",
    "|future deque|empty|empty|\n",
    "|iterator status|in progress|in progress|\n",
    "|buffer size|Target larger|Target larger| \n",
    "#\n",
    "\n",
    "|Condition|From BufferedIterator |To BufferedIterator|\n",
    "|---------|---------------------|-------------------|\n",
    "|previous deque|full|full|\n",
    "|future deque|full |full |\n",
    "|iterator status |in progress |in progress |\n",
    "|buffer size ||Target smaller|Target smaller|\n",
    "#\n",
    "\n",
    "|Condition|From BufferedIterator |To BufferedIterator|\n",
    "|---------|---------------------|-------------------|\n",
    "|previous deque|empty|full|\n",
    "|future deque|empty |full |\n",
    "|iterator status |in progress |in progress |\n",
    "|buffer size |Target smaller|default|\t\n",
    "\n",
    "|Condition|From BufferedIterator|To BufferedIterator|\n",
    "|---------|---------------------|-------------------|\n",
    "|previous deque|partial|empty|\n",
    "|future deque|partial|empty|\n",
    "|iterator status|in progress|in progress|\n",
    "|buffer size|default|default| \n",
    "#\n",
    "\n",
    "|Condition|From BufferedIterator|To BufferedIterator|\n",
    "|---------|---------------------|-------------------|\n",
    "|previous deque|partial|partial|\n",
    "|future deque|partial|partial|\n",
    "|iterator status|in progress|in progress|\n",
    "|buffer size|default|default| \n",
    "#\n",
    "\n",
    "|Condition|From BufferedIterator |To BufferedIterator|\n",
    "|---------|---------------------|-------------------|\n",
    "|previous deque|partial|full|\n",
    "|future deque|partial |full |\n",
    "|iterator status |in progress |in progress |\n",
    "|buffer size |default |default |"
   ]
  },
  {
   "cell_type": "markdown",
   "metadata": {},
   "source": [
    "#### iterator copying\n",
    "|Condition|From BufferedIterator |To BufferedIterator|\n",
    "|---------|---------------------|-------------------|\n",
    "|previous deque|full|empty|\n",
    "|future deque|full |empty |\n",
    "|iterator status |in progress |not started |\n",
    "|buffer size |Same |Same |\n",
    "#\n",
    " \n",
    "|Condition|From BufferedIterator |To BufferedIterator|\n",
    "|---------|---------------------|-------------------|\n",
    "|previous deque|empty|empty|\n",
    "|future deque|empty |empty |\n",
    "|iterator status |not started |not started |\n",
    "|buffer size |Same |Same |\n",
    "#\n",
    " \n",
    "|Condition|From BufferedIterator |To BufferedIterator|\n",
    "|---------|---------------------|-------------------|\n",
    "|previous deque|full|empty|\n",
    "|future deque|full |empty |\n",
    "|iterator status |closed |in progress|\n",
    "|buffer size |Same |Same |\n",
    "#\n",
    " \n",
    "|Condition|From BufferedIterator |To BufferedIterator|\n",
    "|---------|---------------------|-------------------|\n",
    "|previous deque|full|full|\n",
    "|future deque|full |empty |\n",
    "|iterator status |closed |closed|\n",
    "|buffer size |Same |Same |\n",
    "#"
   ]
  },
  {
   "cell_type": "markdown",
   "metadata": {},
   "source": [
    "\t\t\n",
    "### Make BufferedIterator of BufferedIterator\n",
    "\n",
    "- Verify that:\n",
    "- step back only impacts top iterator\n",
    "- queues in both store items from next\n",
    "- future Items in top are pulled by next without calling inner iterator\n",
    "- update works to pass future items from top to inner \n",
    "\t\t\n"
   ]
  },
  {
   "cell_type": "markdown",
   "metadata": {},
   "source": [
    "### BufferedIterator generators\n",
    "> **After update the two BufferedIterators share the same generator.**"
   ]
  },
  {
   "cell_type": "code",
   "execution_count": 13,
   "metadata": {},
   "outputs": [
    {
     "name": "stdout",
     "output_type": "stream",
     "text": [
      "BufferedIterator(source=<generator object <genexpr> at 0x00000261AE6D0190>, buffer_size=5)\n",
      "\tBufferedIterator.previous_items = deque([1, 2, 3, 4, 5], maxlen=5)\n",
      "\tBufferedIterator.future_items = deque([], maxlen=5)\n",
      "\tBufferedIterator.item_count = 6\n",
      "\tBufferedIterator._step_back = 0\n",
      "[(6, 7), (8, 9), (10, 11), (12, 13)]\n",
      "BufferedIterator(source=<generator object <genexpr> at 0x00000261AE6D0190>, buffer_size=5)\n",
      "\tBufferedIterator.previous_items = deque([6, 8, 10, 12, 14], maxlen=5)\n",
      "\tBufferedIterator.future_items = deque([], maxlen=5)\n",
      "\tBufferedIterator.item_count = 11\n",
      "\tBufferedIterator._step_back = 0\n",
      "BufferedIterator(source=<generator object <genexpr> at 0x00000261AE6D0190>, buffer_size=5)\n",
      "\tBufferedIterator.previous_items = deque([5, 7, 9, 11, 13], maxlen=5)\n",
      "\tBufferedIterator.future_items = deque([], maxlen=5)\n",
      "\tBufferedIterator.item_count = 10\n",
      "\tBufferedIterator._step_back = 0\n"
     ]
    }
   ],
   "source": [
    "from_iter = BufferedIterator((i for i in range(num_items)), \n",
    "                              buffer_size=buffer_size)\n",
    "\n",
    "to_iter = BufferedIterator((i for i in range(num_items+1, num_items*2)), \n",
    "                              buffer_size=buffer_size)\n",
    "\n",
    "for i in range(buffer_size+1):\n",
    "    next(from_iter)\n",
    "    next(to_iter)\n",
    "\n",
    "#print(repr((from_iter)))\n",
    "#print(repr((to_iter)))\n",
    "\n",
    "to_iter.update(from_iter)\n",
    "print(repr((to_iter)))\n",
    "\n",
    "\n",
    "iter_match = []\n",
    "while True:\n",
    "    try:\n",
    "        i = next(from_iter)\n",
    "        j = next(to_iter)\n",
    "    except (StopIteration, BufferedIteratorEOF):\n",
    "        break\n",
    "    iter_match.append((i,j))\n",
    "pprint(iter_match)\n",
    "print(repr((from_iter)))\n",
    "print(repr((to_iter)))"
   ]
  }
 ],
 "metadata": {
  "kernelspec": {
   "display_name": "Python 3.8.12 ('sectionaryDev')",
   "language": "python",
   "name": "python3"
  },
  "language_info": {
   "codemirror_mode": {
    "name": "ipython",
    "version": 3
   },
   "file_extension": ".py",
   "mimetype": "text/x-python",
   "name": "python",
   "nbconvert_exporter": "python",
   "pygments_lexer": "ipython3",
   "version": "3.8.12"
  },
  "orig_nbformat": 4,
  "vscode": {
   "interpreter": {
    "hash": "890849be4bb9b5be1d044afe42e602ccc6ca20da23c054ee97c8186ec3939c45"
   }
  }
 },
 "nbformat": 4,
 "nbformat_minor": 2
}
