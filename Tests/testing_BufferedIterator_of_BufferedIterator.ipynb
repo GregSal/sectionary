{
 "cells": [
  {
   "cell_type": "markdown",
   "metadata": {},
   "source": [
    "# Tests of Buffered Iterator of Buffered Iterator"
   ]
  },
  {
   "cell_type": "markdown",
   "metadata": {},
   "source": [
    "### Imports"
   ]
  },
  {
   "cell_type": "code",
   "execution_count": 1,
   "metadata": {},
   "outputs": [],
   "source": [
    "from pprint import pprint\n",
    "import random\n",
    "from buffered_iterator import BufferedIterator, BufferedIteratorEOF\n",
    "from buffered_iterator import BufferedIteratorValueError\n",
    "\n",
    "from sections import SectionBreak, Section\n",
    "from sections import Rule, RuleSet, ProcessingMethods\n"
   ]
  },
  {
   "cell_type": "markdown",
   "metadata": {},
   "source": [
    "### Logging"
   ]
  },
  {
   "cell_type": "code",
   "execution_count": 2,
   "metadata": {},
   "outputs": [],
   "source": [
    "import logging\n",
    "logging.basicConfig(format='%(name)-20s - %(levelname)s: %(message)s')\n",
    "#logging.basicConfig(level=logging.DEBUG)\n",
    "logger = logging.getLogger('Line Count Tests')\n",
    "#logger.setLevel(logging.DEBUG)\n",
    "logger.setLevel(logging.INFO)\n"
   ]
  },
  {
   "cell_type": "markdown",
   "metadata": {},
   "source": [
    "### Display Functions"
   ]
  },
  {
   "cell_type": "code",
   "execution_count": 3,
   "metadata": {},
   "outputs": [],
   "source": [
    "\n",
    "def buffered_iterator_compare(iter1, iter2=None, iter3=None, \n",
    "                              label1='From Iterator', \n",
    "                              label2='To Iterator', label3=''):\n",
    "    \n",
    "    def extract_attrs(buf_obj, requested_item, as_list=True):\n",
    "        if not buf_obj:\n",
    "            text = ''\n",
    "        elif as_list:\n",
    "            text = str(list(buf_obj.__getattribute__(requested_item)))\n",
    "        else:\n",
    "            text = str(buf_obj.__getattribute__(requested_item))\n",
    "        return text\n",
    "        \n",
    "    def extract_attr_text(requested_item, iter1, iter2=None, iter3=None, \n",
    "                        as_list=True):    \n",
    "        attr_text = {\n",
    "            1: extract_attrs(iter1, requested_item, as_list),\n",
    "            2: extract_attrs(iter2, requested_item, as_list),\n",
    "            3: extract_attrs(iter3, requested_item, as_list),\n",
    "        }\n",
    "        return attr_text\n",
    "\n",
    "\n",
    "    row_template = ''.join([\n",
    "        '\\t{Label:<20s}',\n",
    "        '{first_iter_item:<35s}',\n",
    "        '{second_iter_item:<35s}',\n",
    "        '{third_iter_item:<35s}\\n'\n",
    "        ])   \n",
    "    attr_group = {\n",
    "        'Previous Items': ('previous_items', True),\n",
    "        'Future Items': ('future_items', True),\n",
    "        'Item Count': ('item_count', False),\n",
    "        'Step Back': ('_step_back', False),\n",
    "        'Buffer Size': ('buffer_size', False)\n",
    "        }\n",
    "\n",
    "    row_list = [\n",
    "        row_template.format(\n",
    "            Label='',\n",
    "            first_iter_item=label1, \n",
    "            second_iter_item=label2, \n",
    "            third_iter_item=label3)\n",
    "                ]\n",
    "\n",
    "    for label, attr_s in attr_group.items():\n",
    "        requested_item, as_list = attr_s\n",
    "        text_group = extract_attr_text(requested_item, iter1, iter2, iter3, as_list)\n",
    "        text_line = row_template.format(Label=label, \n",
    "                        first_iter_item=text_group[1],\n",
    "                        second_iter_item=text_group[2],\n",
    "                        third_iter_item=text_group[3])\n",
    "        row_list.append(text_line)\n",
    "    \n",
    "    iterator_compare_str = ''.join(row_list)\n",
    "    \n",
    "    return iterator_compare_str"
   ]
  },
  {
   "cell_type": "markdown",
   "metadata": {},
   "source": [
    "# Nested Buffered Iterators\n",
    "\n",
    "Create three levels of nested BufferedIterators to observe the buffer spaces.\n",
    "1. BufferedIterator of String integers from '0' to `num_items`\n",
    "2. BufferedIterator of above (1.) BufferedIterator\n",
    "3. BufferedIterator of Section.process of above (2.) BufferedIterator\n",
    "\n",
    "**Section Definition**\n",
    "- The section is defined with start and end points that will leave an item in \n",
    "  the Future Items buffer.  \n",
    "- The section also has a processor that consumes two source items for each \n",
    "  section item.\n",
    "- Buffer Size is set to be larger than the source so all activity will be \n",
    "  captured.\n",
    "\n",
    "```\n",
    "def pairs(source):\n",
    "    for item in source:\n",
    "        yield tuple([item, next(source)])\n",
    "\n",
    "section_buf = Section(\n",
    "    section_name='Section for testing Nested Buffered Iterators',\n",
    "    start_section=SectionBreak('1', break_offset='After'),\n",
    "    end_section=SectionBreak('6', break_offset='Before'),\n",
    "    processor=[pairs]\n",
    "    )\n",
    "```"
   ]
  },
  {
   "cell_type": "code",
   "execution_count": 4,
   "metadata": {},
   "outputs": [
    {
     "name": "stdout",
     "output_type": "stream",
     "text": [
      "\t                    str_source                         top_source                         sec_source                         \n",
      "\tPrevious Items      ['0', '1', '2', '3', '4', '5', '6']['0', '1', '2', '3', '4', '5', '6'][('2', '3'), ('4', '5')]           \n",
      "\tFuture Items        []                                 []                                 []                                 \n",
      "\tItem Count          7                                  7                                  2                                  \n",
      "\tStep Back           0                                  0                                  0                                  \n",
      "\tBuffer Size         20                                 20                                 5                                  \n",
      "\n",
      "Item Count: 2  \tSource Item Count 6  \tSection Source Index: 6\n"
     ]
    },
    {
     "data": {
      "text/plain": [
       "[4, 6]"
      ]
     },
     "execution_count": 4,
     "metadata": {},
     "output_type": "execute_result"
    }
   ],
   "source": [
    "buffer_size = 20\n",
    "num_items = 15\n",
    "\n",
    "str_source = BufferedIterator((str(i) for i in range(num_items)), \n",
    "                              buffer_size=buffer_size)\n",
    "\n",
    "top_source = BufferedIterator(str_source, buffer_size=buffer_size)\n",
    "\n",
    "def pairs(source):\n",
    "    for item in source:\n",
    "        yield tuple([item, next(source)])\n",
    "\n",
    "section_buf = Section(\n",
    "    section_name='Section for testing Nested Buffered Iterators',\n",
    "    start_section=SectionBreak('1', break_offset='After'),\n",
    "    end_section=SectionBreak('6', break_offset='Before'),\n",
    "    processor=[pairs]\n",
    "    )\n",
    "\n",
    "sec_source = BufferedIterator(section_buf.process(top_source))\n",
    "\n",
    "# Run the iterator\n",
    "[i for i in sec_source]\n",
    "   \n",
    "\n",
    "print(buffered_iterator_compare(str_source, top_source, sec_source, \n",
    "                                label1='str_source', \n",
    "                                label2='top_source',\n",
    "                                label3='sec_source'))\n",
    "\n",
    "\n",
    "print(f'Item Count: {section_buf.item_count}  \\t'\n",
    "        f'Source Item Count {section_buf.source.item_count}  \\t'\n",
    "        f'Section Source Index: {section_buf.source_item_count}')\n",
    "\n",
    "section_buf.source_index"
   ]
  },
  {
   "cell_type": "markdown",
   "metadata": {},
   "source": [
    "## Tests"
   ]
  },
  {
   "cell_type": "code",
   "execution_count": 5,
   "metadata": {},
   "outputs": [
    {
     "name": "stdout",
     "output_type": "stream",
     "text": [
      "['StartSection Name: A', 'EndSection Name: A']\n",
      "\t                    After first Read                                                                                         \n",
      "\tPrevious Items      ['Text to be ignored', 'StartSection Name: A', 'EndSection Name: A']                                                                      \n",
      "\tFuture Items        ['StartSection Name: B']                                                                                 \n",
      "\tItem Count          3                                                                                                        \n",
      "\tStep Back           0                                                                                                        \n",
      "\tBuffer Size         5                                                                                                        \n",
      "\n",
      "Item Count: 2  \tSource Item Count 3  \tSection Source Index: 3\n",
      "['StartSection Name: B', 'EndSection Name: B']\n",
      "\t                    After second Read                                                                                        \n",
      "\tPrevious Items      ['StartSection Name: A', 'EndSection Name: A', 'StartSection Name: B', 'EndSection Name: B']                                                                      \n",
      "\tFuture Items        ['More text to be ignored']                                                                              \n",
      "\tItem Count          5                                                                                                        \n",
      "\tStep Back           0                                                                                                        \n",
      "\tBuffer Size         5                                                                                                        \n",
      "\n",
      "Item Count: 2  \tSource Item Count 5  \tSection Source Index: 5\n",
      "[]\n",
      "\t                    After second Read                                                                                        \n",
      "\tPrevious Items      ['StartSection Name: A', 'EndSection Name: A', 'StartSection Name: B', 'EndSection Name: B', 'More text to be ignored']                                                                      \n",
      "\tFuture Items        []                                                                                                       \n",
      "\tItem Count          6                                                                                                        \n",
      "\tStep Back           0                                                                                                        \n",
      "\tBuffer Size         5                                                                                                        \n",
      "\n",
      "Item Count: 0  \tSource Item Count 6  \tSection Source Index: 6\n"
     ]
    }
   ],
   "source": [
    "test_text = [\n",
    "    'Text to be ignored',\n",
    "    'StartSection Name: A',\n",
    "    'EndSection Name: A',\n",
    "    'StartSection Name: B',\n",
    "    'EndSection Name: B',\n",
    "    'More text to be ignored',\n",
    "    ]\n",
    "\n",
    "test_section = Section(\n",
    "    start_section=SectionBreak('StartSection', break_offset='Before'),\n",
    "    end_section=SectionBreak('EndSection', break_offset='After')\n",
    "    )\n",
    "        \n",
    "\n",
    "test_iter = BufferedIterator(test_text)\n",
    "\n",
    "print(test_section.read(test_iter))\n",
    "print(buffered_iterator_compare(test_iter, label1='After first Read', label2=''))\n",
    "print(f'Item Count: {test_section.item_count}  \\t'\n",
    "        f'Source Item Count {test_section.source.item_count}  \\t'\n",
    "        f'Section Source Index: {test_section.source_item_count}')\n",
    "\n",
    "\n",
    "print(test_section.read(test_iter))\n",
    "print(buffered_iterator_compare(test_iter, label1='After second Read', label2=''))\n",
    "print(f'Item Count: {test_section.item_count}  \\t'\n",
    "        f'Source Item Count {test_section.source.item_count}  \\t'\n",
    "        f'Section Source Index: {test_section.source_item_count}')\n",
    "\n",
    "\n",
    "print(test_section.read(test_iter))\n",
    "print(buffered_iterator_compare(test_iter, label1='After second Read', label2=''))\n",
    "print(f'Item Count: {test_section.item_count}  \\t'\n",
    "        f'Source Item Count {test_section.source.item_count}  \\t'\n",
    "        f'Section Source Index: {test_section.source_item_count}')\n"
   ]
  },
  {
   "cell_type": "code",
   "execution_count": 19,
   "metadata": {},
   "outputs": [
    {
     "name": "stdout",
     "output_type": "stream",
     "text": [
      "['StartSection Name: A', 'EndSection Name: A']\n",
      "['StartSection Name: B', 'EndSection Name: B']\n",
      "[]\n"
     ]
    }
   ],
   "source": [
    "test_text = [\n",
    "    'Text to be ignored',\n",
    "    'StartSection Name: A',\n",
    "    'EndSection Name: A',\n",
    "    'StartSection Name: B',\n",
    "    'EndSection Name: B',\n",
    "    'More text to be ignored',\n",
    "    ]\n",
    "\n",
    "test_section = Section(\n",
    "    start_section=SectionBreak('StartSection', break_offset='Before'),\n",
    "    end_section=SectionBreak('EndSection', break_offset='After')\n",
    "    )\n",
    "        \n",
    "\n",
    "test_iter = BufferedIterator(test_text)\n",
    "\n",
    "print(test_section.read(test_iter))\n",
    "print(test_section.read(test_iter))\n",
    "print(test_section.read(test_iter))\n"
   ]
  },
  {
   "cell_type": "code",
   "execution_count": 6,
   "metadata": {},
   "outputs": [],
   "source": [
    "test_text = [\n",
    "    'Text to be ignored',\n",
    "    'StartSection Name: A',\n",
    "    'EndSection Name: A',\n",
    "    'StartSection Name: B',\n",
    "    'EndSection Name: B',\n",
    "    'More text to be ignored',\n",
    "    ]\n",
    "\n",
    "sub_section = Section(\n",
    "    section_name='SubSection',\n",
    "    start_section=SectionBreak('StartSection', break_offset='Before', name='SubSectionStart'),\n",
    "    end_section=SectionBreak('EndSection', break_offset='After', name='SubSectionEnd')\n",
    "    )\n",
    "\n",
    "full_section = Section(\n",
    "    subsections=sub_section,\n",
    "    keep_partial=False\n",
    "    )\n"
   ]
  },
  {
   "cell_type": "code",
   "execution_count": 7,
   "metadata": {},
   "outputs": [],
   "source": [
    "a = full_section.read(test_text)\n"
   ]
  },
  {
   "cell_type": "code",
   "execution_count": 8,
   "metadata": {},
   "outputs": [
    {
     "data": {
      "text/plain": [
       "[['StartSection Name: A', 'EndSection Name: A']]"
      ]
     },
     "execution_count": 8,
     "metadata": {},
     "output_type": "execute_result"
    }
   ],
   "source": [
    "a"
   ]
  },
  {
   "cell_type": "code",
   "execution_count": 9,
   "metadata": {},
   "outputs": [
    {
     "name": "stdout",
     "output_type": "stream",
     "text": [
      "[['StartSection Name: A', 'EndSection Name: A']]\n",
      "[['StartSection Name: A', 'EndSection Name: A']]\n"
     ]
    }
   ],
   "source": [
    "\n",
    "b = full_section.read(test_text)\n",
    "\n",
    "full_section = Section(\n",
    "    section_name='Full',\n",
    "    end_section=SectionBreak('ignored', break_offset='Before'),\n",
    "    subsections=sub_section\n",
    "        )\n",
    "print(full_section.read(test_text))\n",
    "\n",
    "print(full_section.read(test_text))\n"
   ]
  },
  {
   "cell_type": "code",
   "execution_count": 10,
   "metadata": {},
   "outputs": [
    {
     "data": {
      "text/plain": [
       "[['StartSection Name: A', 'EndSection Name: A']]"
      ]
     },
     "execution_count": 10,
     "metadata": {},
     "output_type": "execute_result"
    }
   ],
   "source": [
    "a"
   ]
  },
  {
   "cell_type": "markdown",
   "metadata": {},
   "source": [
    "### Validate minimum bluffer size is 1"
   ]
  },
  {
   "cell_type": "code",
   "execution_count": 11,
   "metadata": {},
   "outputs": [
    {
     "name": "stdout",
     "output_type": "stream",
     "text": [
      "pass\n"
     ]
    }
   ],
   "source": [
    "try:\n",
    "    test_iter = BufferedIterator(range(5), buffer_size=0)\n",
    "except BufferedIteratorValueError: \n",
    "    print('pass')"
   ]
  },
  {
   "cell_type": "markdown",
   "metadata": {},
   "source": [
    "### Basic Parameters"
   ]
  },
  {
   "cell_type": "code",
   "execution_count": 12,
   "metadata": {},
   "outputs": [],
   "source": [
    "buffer_size = 8\n",
    "num_items = 15"
   ]
  },
  {
   "cell_type": "markdown",
   "metadata": {},
   "source": [
    "\t\t\n",
    "### Make BufferedIterator of BufferedIterator\n",
    "\n",
    "- Verify that:\n",
    "- step back only impacts top iterator\n",
    "- queues in both store items from next\n",
    "- future Items in top are pulled by next without calling inner iterator\n",
    "- update works to pass future items from top to inner \n",
    "- What happens when updating top iterator with sub iterator?"
   ]
  },
  {
   "cell_type": "code",
   "execution_count": 13,
   "metadata": {},
   "outputs": [
    {
     "name": "stdout",
     "output_type": "stream",
     "text": [
      "\t                    From Iterator                      To Iterator                                                           \n",
      "\tPrevious Items      [0, 1, 2]                          []                                                                    \n",
      "\tFuture Items        [3, 4]                             []                                                                    \n",
      "\tItem Count          3                                  0                                                                     \n",
      "\tStep Back           0                                  0                                                                     \n",
      "\tBuffer Size         5                                  5                                                                     \n",
      "\n",
      "\t                    From Iterator                      To Iterator                                                           \n",
      "\tPrevious Items      [1, 2, 3, 4, 5]                    [3, 4]                                                                \n",
      "\tFuture Items        []                                 [5]                                                                   \n",
      "\tItem Count          6                                  2                                                                     \n",
      "\tStep Back           0                                  0                                                                     \n",
      "\tBuffer Size         5                                  5                                                                     \n",
      "\n"
     ]
    }
   ],
   "source": [
    "num_items = 10\n",
    "buffer_size_top = 5\n",
    "buffer_size_sub = 5\n",
    "\n",
    "top_iter = BufferedIterator((i for i in range(num_items)), \n",
    "                              buffer_size=buffer_size_top)\n",
    "sub_iter = BufferedIterator(top_iter, buffer_size=buffer_size_sub)\n",
    "\n",
    "fwd_count_top =   5 # random.randint(2, buffer_size_top-1)\n",
    "back_count_top =  2 # random.randint(1, fwd_count_top)\n",
    "\n",
    "for i in range(fwd_count_top):\n",
    "    next(top_iter)\n",
    "top_iter.backup(back_count_top)\n",
    "print(buffered_iterator_compare(top_iter, sub_iter))\n",
    "\n",
    "fwd_count_sub = 3\n",
    "back_count_sub = 1\n",
    "\n",
    "for i in range(fwd_count_sub):\n",
    "    next(sub_iter)\n",
    "sub_iter.backup(back_count_sub)\n",
    "\n",
    "print(buffered_iterator_compare(top_iter, sub_iter))"
   ]
  },
  {
   "cell_type": "markdown",
   "metadata": {},
   "source": [
    "#### Test that queues in both store items from next\n",
    "- Advance Sub Iterator by Top Iterator Buffer Size and back by smaller amount\n",
    "- Top Iterator Previous Items should contain all items\n",
    "- Sub Iterator should split items between Previous Items and Future Items.\n",
    "- Top Iterator Item Count should equal Buffer Size.\n",
    "- Sub Iterator Item Count should equal Buffer Size - Step Back."
   ]
  },
  {
   "cell_type": "code",
   "execution_count": 14,
   "metadata": {},
   "outputs": [
    {
     "name": "stdout",
     "output_type": "stream",
     "text": [
      "\t                    Top Iterator                       Sub Iterator                                                          \n",
      "\tPrevious Items      [0, 1, 2, 3, 4]                    [0, 1]                                                                \n",
      "\tFuture Items        []                                 [2, 3, 4]                                                             \n",
      "\tItem Count          5                                  2                                                                     \n",
      "\tStep Back           0                                  0                                                                     \n",
      "\tBuffer Size         5                                  5                                                                     \n",
      "\n",
      "True\n",
      "True\n"
     ]
    }
   ],
   "source": [
    "num_items = 10\n",
    "buffer_size_top = 5\n",
    "buffer_size_sub = 5\n",
    "\n",
    "top_iter = BufferedIterator((i for i in range(num_items)), \n",
    "                              buffer_size=buffer_size_top)\n",
    "sub_iter = BufferedIterator(top_iter, buffer_size=buffer_size_sub)\n",
    "\n",
    "fwd_count_sub = buffer_size_top\n",
    "back_count_sub = random.randint(1, buffer_size_top-1)\n",
    "\n",
    "for i in range(fwd_count_sub):\n",
    "    next(sub_iter)\n",
    "sub_iter.backup(back_count_sub)\n",
    "\n",
    "print(buffered_iterator_compare(top_iter, sub_iter, \n",
    "                                label1='Top Iterator', \n",
    "                                label2='Sub Iterator'))\n",
    "\n",
    "print(len(top_iter.previous_items) == buffer_size_top)\n",
    "print(top_iter.previous_items == sub_iter.previous_items + sub_iter.future_items)"
   ]
  },
  {
   "cell_type": "markdown",
   "metadata": {},
   "source": [
    "#### Test that step back in top only impacts top iterator\n",
    "- Advance Sub Iterator by Top Iterator Buffer Size.\n",
    "- Backup Top Iterator by smaller amount.\n",
    "- Top Iterator should split items between Previous Items and Future Items.\n",
    "- Sub Iterator Previous Items should contain all items.\n",
    "- Top Iterator Item Count should equal Buffer Size - Step Back.\n",
    "- Sub Iterator Item Count should equal Buffer Size."
   ]
  },
  {
   "cell_type": "code",
   "execution_count": 15,
   "metadata": {},
   "outputs": [
    {
     "name": "stdout",
     "output_type": "stream",
     "text": [
      "\t                    Top Iterator                       Sub Iterator                                                          \n",
      "\tPrevious Items      [0, 1]                             [0, 1, 2, 3, 4]                                                       \n",
      "\tFuture Items        [2, 3, 4]                          []                                                                    \n",
      "\tItem Count          2                                  5                                                                     \n",
      "\tStep Back           0                                  0                                                                     \n",
      "\tBuffer Size         5                                  5                                                                     \n",
      "\n",
      "True\n",
      "True\n"
     ]
    }
   ],
   "source": [
    "num_items = 10\n",
    "buffer_size_top = 5\n",
    "buffer_size_sub = 5\n",
    "\n",
    "top_iter = BufferedIterator((i for i in range(num_items)), \n",
    "                              buffer_size=buffer_size_top)\n",
    "sub_iter = BufferedIterator(top_iter, buffer_size=buffer_size_sub)\n",
    "\n",
    "fwd_count_sub =   buffer_size_top\n",
    "back_count_top =  random.randint(1, fwd_count_sub)\n",
    "\n",
    "for i in range(fwd_count_sub):\n",
    "    next(sub_iter)   \n",
    "top_iter.backup(back_count_top)\n",
    "\n",
    "print(buffered_iterator_compare(top_iter, sub_iter, \n",
    "                                label1='Top Iterator', \n",
    "                                label2='Sub Iterator'))\n",
    "\n",
    "print(len(sub_iter.previous_items) == buffer_size_top)\n",
    "print(sub_iter.previous_items == top_iter.previous_items + top_iter.future_items)"
   ]
  },
  {
   "cell_type": "markdown",
   "metadata": {},
   "source": [
    "#### Test that future Items in top are pulled by next without calling inner iterator\n",
    "- Advance Sub Iterator by Top Iterator Buffer Size.\n",
    "- Backup Top Iterator by smaller amount.\n",
    "- Advance Top Iterator by even smaller amount.\n",
    "- Top Iterator should split items between Previous Items and Future Items.\n",
    "- Sub Iterator Previous Items should contain all items.\n",
    "- Top Iterator Item Count should equal Buffer Size - Step Back.\n",
    "- Sub Iterator Item Count should equal Buffer Size."
   ]
  },
  {
   "cell_type": "code",
   "execution_count": 16,
   "metadata": {},
   "outputs": [
    {
     "name": "stdout",
     "output_type": "stream",
     "text": [
      "\t                    Top Iterator                       Sub Iterator                                                          \n",
      "\tPrevious Items      [0, 1, 2, 3]                       [0, 1, 2, 3, 4]                                                       \n",
      "\tFuture Items        [4]                                []                                                                    \n",
      "\tItem Count          4                                  5                                                                     \n",
      "\tStep Back           0                                  0                                                                     \n",
      "\tBuffer Size         5                                  5                                                                     \n",
      "\n",
      "\t                    Top Iterator                       Sub Iterator                                                          \n",
      "\tPrevious Items      [0, 1, 2, 3, 4]                    [0, 1, 2, 3, 4]                                                       \n",
      "\tFuture Items        []                                 []                                                                    \n",
      "\tItem Count          5                                  5                                                                     \n",
      "\tStep Back           0                                  0                                                                     \n",
      "\tBuffer Size         5                                  5                                                                     \n",
      "\n",
      "True\n",
      "True\n"
     ]
    }
   ],
   "source": [
    "num_items = 10\n",
    "buffer_size_top = 5\n",
    "buffer_size_sub = 5\n",
    "\n",
    "top_iter = BufferedIterator((i for i in range(num_items)), \n",
    "                              buffer_size=buffer_size_top)\n",
    "sub_iter = BufferedIterator(top_iter, buffer_size=buffer_size_sub)\n",
    "\n",
    "fwd_count_sub =   buffer_size_top\n",
    "back_count_top =  random.randint(1, fwd_count_sub)\n",
    "fwd_count_top =   random.randint(1, back_count_top)\n",
    "\n",
    "for i in range(fwd_count_sub):\n",
    "    next(sub_iter)   \n",
    "top_iter.backup(back_count_top)\n",
    "\n",
    "print(buffered_iterator_compare(top_iter, sub_iter, \n",
    "                                label1='Top Iterator', \n",
    "                                label2='Sub Iterator'))\n",
    "for i in range(fwd_count_top):\n",
    "    next(top_iter)   \n",
    " \n",
    "print(buffered_iterator_compare(top_iter, sub_iter, \n",
    "                                label1='Top Iterator', \n",
    "                                label2='Sub Iterator'))\n",
    "   \n",
    "print(len(sub_iter.previous_items) == buffer_size_top)\n",
    "print(sub_iter.previous_items == top_iter.previous_items + top_iter.future_items)"
   ]
  },
  {
   "cell_type": "markdown",
   "metadata": {},
   "source": [
    "#### Test that link works to pass previous items from top to sub \n",
    "- Advance Sub Iterator by Top Iterator Buffer Size and back by smaller amount\n",
    "- Top Iterator Previous Items should contain all items\n",
    "- Sub Iterator should split items between Previous Items and Future Items.\n",
    "- Top Iterator Item Count should equal Buffer Size.\n",
    "- Sub Iterator Item Count should equal Buffer Size - Step Back."
   ]
  },
  {
   "cell_type": "code",
   "execution_count": 17,
   "metadata": {},
   "outputs": [
    {
     "name": "stdout",
     "output_type": "stream",
     "text": [
      "\t                    Top Iterator                       Sub Iterator                                                          \n",
      "\tPrevious Items      [0, 1, 2]                          [0, 1, 2]                                                             \n",
      "\tFuture Items        [3]                                []                                                                    \n",
      "\tItem Count          3                                  3                                                                     \n",
      "\tStep Back           0                                  0                                                                     \n",
      "\tBuffer Size         5                                  5                                                                     \n",
      "\n",
      "\t                    Top Iterator                       Sub Iterator                                                          \n",
      "\tPrevious Items      [0, 1, 2]                          [0, 1, 2]                                                             \n",
      "\tFuture Items        [3]                                []                                                                    \n",
      "\tItem Count          3                                  3                                                                     \n",
      "\tStep Back           0                                  0                                                                     \n",
      "\tBuffer Size         5                                  5                                                                     \n",
      "\n",
      "False\n",
      "False\n",
      "[3, 4, 5, 6, 7, 8, 9]\n"
     ]
    }
   ],
   "source": [
    "num_items = 10\n",
    "buffer_size_top = 5\n",
    "buffer_size_sub = 5\n",
    "\n",
    "top_iter = BufferedIterator((i for i in range(num_items)), \n",
    "                              buffer_size=buffer_size_top)\n",
    "sub_iter = BufferedIterator(top_iter, buffer_size=buffer_size_sub)\n",
    "\n",
    "fwd_count_sub =   random.randint(1, buffer_size_sub - 1)\n",
    "fwd_count_top =   random.randint(1, buffer_size_top - fwd_count_sub)\n",
    "back_count_top =  random.randint(1, fwd_count_top)\n",
    "\n",
    "for i in range(fwd_count_sub):\n",
    "    next(sub_iter)   \n",
    "\n",
    "for i in range(fwd_count_top):\n",
    "    next(top_iter) \n",
    "\n",
    "top_iter.backup(back_count_top)\n",
    "next(sub_iter)\n",
    "print(buffered_iterator_compare(top_iter, sub_iter, \n",
    "                                label1='Top Iterator', \n",
    "                                label2='Sub Iterator'))\n",
    "\n",
    "\n",
    "sub_iter.link(top_iter)\n",
    "print(buffered_iterator_compare(top_iter, sub_iter, \n",
    "                                label1='Top Iterator', \n",
    "                                label2='Sub Iterator'))\n",
    "\n",
    "print(len(sub_iter.previous_items) == buffer_size_top)\n",
    "print(sub_iter.previous_items == top_iter.previous_items + top_iter.future_items)\n",
    "print(list(sub_iter))"
   ]
  },
  {
   "cell_type": "markdown",
   "metadata": {},
   "source": [
    "### Mixing Sub and top steps can loose items or duplicate"
   ]
  },
  {
   "cell_type": "code",
   "execution_count": 18,
   "metadata": {},
   "outputs": [
    {
     "name": "stdout",
     "output_type": "stream",
     "text": [
      "Advance Sub Iterator by 5 (Both iterators advance)\n",
      "\t                    Top Iterator                       Sub Iterator                                                          \n",
      "\tPrevious Items      [0, 1, 2, 3, 4]                    [0, 1, 2, 3, 4]                                                       \n",
      "\tFuture Items        []                                 []                                                                    \n",
      "\tItem Count          5                                  5                                                                     \n",
      "\tStep Back           0                                  0                                                                     \n",
      "\tBuffer Size         10                                 10                                                                    \n",
      "\n",
      "Advance Top Iterator by 2 (Sub Iterator does not advance).\n",
      "\t                    Top Iterator                       Sub Iterator                                                          \n",
      "\tPrevious Items      [0, 1, 2, 3, 4, 5, 6]              [0, 1, 2, 3, 4]                                                       \n",
      "\tFuture Items        []                                 []                                                                    \n",
      "\tItem Count          7                                  5                                                                     \n",
      "\tStep Back           0                                  0                                                                     \n",
      "\tBuffer Size         10                                 10                                                                    \n",
      "\n",
      "Backup Top Iterator by 4 (Sub Iterator does not change).\n",
      "\t                    Top Iterator                       Sub Iterator                                                          \n",
      "\tPrevious Items      [0, 1, 2]                          [0, 1, 2, 3, 4]                                                       \n",
      "\tFuture Items        [3, 4, 5, 6]                       []                                                                    \n",
      "\tItem Count          3                                  5                                                                     \n",
      "\tStep Back           0                                  0                                                                     \n",
      "\tBuffer Size         10                                 10                                                                    \n",
      "\n",
      "Advance Sub Iterator by 2 (Sub Iterator gets previous items from top iterator).\n",
      "\t                    Top Iterator                       Sub Iterator                                                          \n",
      "\tPrevious Items      [0, 1, 2, 3, 4]                    [0, 1, 2, 3, 4, 3, 4]                                                 \n",
      "\tFuture Items        [5, 6]                             []                                                                    \n",
      "\tItem Count          5                                  7                                                                     \n",
      "\tStep Back           0                                  0                                                                     \n",
      "\tBuffer Size         10                                 10                                                                    \n",
      "\n"
     ]
    }
   ],
   "source": [
    "num_items = 10\n",
    "buffer_size_top = 10\n",
    "buffer_size_sub = 10\n",
    "\n",
    "top_iter = BufferedIterator((i for i in range(num_items)), \n",
    "                              buffer_size=buffer_size_top)\n",
    "sub_iter = BufferedIterator(top_iter, buffer_size=buffer_size_sub)\n",
    "\n",
    "fwd_count_sub = buffer_size_sub - 5\n",
    "fwd_count_top = buffer_size_top - fwd_count_sub - 3\n",
    "back_count_top = 4\n",
    "fwd_count_sub2 = 2\n",
    "\n",
    "print(f'Advance Sub Iterator by {fwd_count_sub} (Both iterators advance)')\n",
    "for i in range(fwd_count_sub):\n",
    "    next(sub_iter)   \n",
    "print(buffered_iterator_compare(top_iter, sub_iter, \n",
    "                                label1='Top Iterator', \n",
    "                                label2='Sub Iterator'))\n",
    "\n",
    "print(f'Advance Top Iterator by {fwd_count_top} (Sub Iterator does not advance).')\n",
    "for i in range(fwd_count_top):\n",
    "    next(top_iter) \n",
    "print(buffered_iterator_compare(top_iter, sub_iter, \n",
    "                                label1='Top Iterator', \n",
    "                                label2='Sub Iterator'))\n",
    "\n",
    "print(f'Backup Top Iterator by {back_count_top} (Sub Iterator does not change).')\n",
    "top_iter.backup(back_count_top)\n",
    "print(buffered_iterator_compare(top_iter, sub_iter, \n",
    "                                label1='Top Iterator', \n",
    "                                label2='Sub Iterator'))\n",
    "\n",
    "print(f'Advance Sub Iterator by {fwd_count_sub2} (Sub Iterator gets previous items from top iterator).')\n",
    "for i in range(fwd_count_sub2):\n",
    "    next(sub_iter)     \n",
    "print(buffered_iterator_compare(top_iter, sub_iter, \n",
    "                                label1='Top Iterator', \n",
    "                                label2='Sub Iterator'))"
   ]
  }
 ],
 "metadata": {
  "kernelspec": {
   "display_name": "Python 3.8.12 ('sectionaryDev')",
   "language": "python",
   "name": "python3"
  },
  "language_info": {
   "codemirror_mode": {
    "name": "ipython",
    "version": 3
   },
   "file_extension": ".py",
   "mimetype": "text/x-python",
   "name": "python",
   "nbconvert_exporter": "python",
   "pygments_lexer": "ipython3",
   "version": "3.8.12"
  },
  "orig_nbformat": 4,
  "vscode": {
   "interpreter": {
    "hash": "890849be4bb9b5be1d044afe42e602ccc6ca20da23c054ee97c8186ec3939c45"
   }
  }
 },
 "nbformat": 4,
 "nbformat_minor": 2
}
