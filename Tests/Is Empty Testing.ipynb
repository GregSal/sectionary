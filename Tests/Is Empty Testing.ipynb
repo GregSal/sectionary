{
 "cells": [
  {
   "cell_type": "markdown",
   "metadata": {},
   "source": [
    "# Testing for Empty read"
   ]
  },
  {
   "cell_type": "markdown",
   "metadata": {},
   "source": [
    "## Setup"
   ]
  },
  {
   "cell_type": "markdown",
   "metadata": {},
   "source": [
    "### Imports"
   ]
  },
  {
   "cell_type": "code",
   "execution_count": 1,
   "metadata": {},
   "outputs": [],
   "source": [
    "from typing import Callable, List\n",
    "\n",
    "import re\n",
    "import logging\n",
    "import pprint\n",
    "from pathlib import Path"
   ]
  },
  {
   "cell_type": "markdown",
   "metadata": {},
   "source": [
    "#### Packages"
   ]
  },
  {
   "cell_type": "code",
   "execution_count": 2,
   "metadata": {},
   "outputs": [],
   "source": [
    "import numpy as np\n",
    "import pandas as pd"
   ]
  },
  {
   "cell_type": "markdown",
   "metadata": {},
   "source": [
    "#### Local Imports"
   ]
  },
  {
   "cell_type": "raw",
   "metadata": {},
   "source": [
    "from buffered_iterator import BufferedIterator\n",
    "\n",
    "import text_reader as tp\n",
    "from sections import Rule, RuleSet, SectionBreak, Section, ProcessingMethods\n",
    "#import read_dvh_file"
   ]
  },
  {
   "cell_type": "markdown",
   "metadata": {},
   "source": [
    "Handle empty objects of different types.\n",
    "\n",
    "**Empty Object Examples**\n",
    "- _None_ will always be considered empty. `None` \n",
    "- _Empty String_ `''`\n",
    "- _Empty List_ `[]`\n",
    "- _Integer 0_ `0`\n",
    "- _DataFrame containing no values_ `pd.DataFrame()`\n",
    "- _Numpy Array containing all NaN_ `np.full((2, 3), np.nan, dtype=float)`\n",
    "- _DataFrame containing all NaN_ `pd.DataFrame(index=range(3), columns=range(2))`"
   ]
  },
  {
   "cell_type": "code",
   "execution_count": 20,
   "metadata": {},
   "outputs": [],
   "source": [
    "empty_read_itm_possibilities = [\n",
    "    None,\n",
    "    '',\n",
    "    [],\n",
    "    pd.DataFrame(),\n",
    "    np.empty((2, 3), dtype=float),\n",
    "    pd.DataFrame(index=range(3), columns=range(2))\n",
    "    ]\n"
   ]
  },
  {
   "cell_type": "code",
   "execution_count": 21,
   "metadata": {},
   "outputs": [
    {
     "name": "stdout",
     "output_type": "stream",
     "text": [
      "None\n",
      "\n",
      "[]\n",
      "Empty DataFrame\n",
      "Columns: []\n",
      "Index: []\n",
      "[[0. 0. 0.]\n",
      " [0. 0. 0.]]\n",
      "     0    1\n",
      "0  NaN  NaN\n",
      "1  NaN  NaN\n",
      "2  NaN  NaN\n"
     ]
    }
   ],
   "source": [
    "for itm in empty_read_itm_possibilities:\n",
    "    print(itm)"
   ]
  },
  {
   "cell_type": "code",
   "execution_count": 44,
   "metadata": {},
   "outputs": [
    {
     "name": "stdout",
     "output_type": "stream",
     "text": [
      "None is False\n",
      "'' is False\n",
      "[] is False\n",
      "<class 'ValueError'> raised by\n",
      " Empty DataFrame\n",
      "Columns: []\n",
      "Index: []\n",
      "<class 'ValueError'> raised by\n",
      " array([[0., 0., 0.],\n",
      "       [0., 0., 0.]])\n",
      "<class 'ValueError'> raised by\n",
      "      0    1\n",
      "0  NaN  NaN\n",
      "1  NaN  NaN\n",
      "2  NaN  NaN\n"
     ]
    }
   ],
   "source": [
    "for itm in empty_read_itm_possibilities:\n",
    "    try:\n",
    "        has_value = bool(itm)\n",
    "    except ValueError as err:\n",
    "        print(f'{str(err.__class__)} raised by\\n {repr(itm)}')\n",
    "    else:\n",
    "        print(f'{repr(itm)} is {str(has_value)}')"
   ]
  },
  {
   "cell_type": "code",
   "execution_count": 46,
   "metadata": {},
   "outputs": [
    {
     "name": "stdout",
     "output_type": "stream",
     "text": [
      "None is False\n",
      "'' is False\n",
      "[] is False\n",
      "<class 'ValueError'> raised by\n",
      "\tEmpty DataFrame\n",
      "Columns: []\n",
      "Index: []\n",
      "\n",
      "Is Empty DataFrame\n",
      "Columns: []\n",
      "Index: [] empty: True\n",
      "<class 'ValueError'> raised by\n",
      "\tarray([[0., 0., 0.],\n",
      "       [0., 0., 0.]])\n",
      "\n",
      "array([[0., 0., 0.],\n",
      "       [0., 0., 0.]])\n",
      " does not have an \"empty\" attribute.\n",
      "\n",
      "array([[0., 0., 0.],\n",
      "       [0., 0., 0.]])\n",
      " does not have an \"isna\" attribute.\n",
      "\n",
      "<class 'ValueError'> raised by\n",
      "\t     0    1\n",
      "0  NaN  NaN\n",
      "1  NaN  NaN\n",
      "2  NaN  NaN\n",
      "\n",
      "Is      0    1\n",
      "0  NaN  NaN\n",
      "1  NaN  NaN\n",
      "2  NaN  NaN empty: False\n"
     ]
    }
   ],
   "source": [
    "for itm in empty_read_itm_possibilities:\n",
    "    try:\n",
    "        has_value = bool(itm)\n",
    "    except ValueError as err:\n",
    "        print(f'{str(err.__class__)} raised by\\n\\t{repr(itm)}\\n')\n",
    "        has_empty_attribute = hasattr(itm,'empty')\n",
    "        if has_empty_attribute:\n",
    "            print(f'Is {repr(itm)} empty: {str(itm.empty)}')\n",
    "        else:\n",
    "            print(f'{repr(itm)}\\n does not have an \"empty\" attribute.\\n')\n",
    "            np.isnan(itm).all()\n",
    "            has_isna_attribute = hasattr(itm,'isna')\n",
    "            if has_isna_attribute:\n",
    "                print(f'Is {repr(itm)} empty: {str(itm.isna())}')\n",
    "            else:\n",
    "                print(f'{repr(itm)}\\n does not have an \"isna\" attribute.\\n')\n",
    "    else:\n",
    "        print(f'{repr(itm)} is {str(has_value)}')"
   ]
  },
  {
   "cell_type": "code",
   "execution_count": 18,
   "metadata": {},
   "outputs": [
    {
     "name": "stdout",
     "output_type": "stream",
     "text": [
      "[[nan nan nan]\n",
      " [nan nan nan]]\n"
     ]
    }
   ],
   "source": [
    "print(np.full((2, 3), np.nan, dtype=float))"
   ]
  },
  {
   "cell_type": "code",
   "execution_count": 16,
   "metadata": {},
   "outputs": [
    {
     "data": {
      "text/html": [
       "<div>\n",
       "<style scoped>\n",
       "    .dataframe tbody tr th:only-of-type {\n",
       "        vertical-align: middle;\n",
       "    }\n",
       "\n",
       "    .dataframe tbody tr th {\n",
       "        vertical-align: top;\n",
       "    }\n",
       "\n",
       "    .dataframe thead th {\n",
       "        text-align: right;\n",
       "    }\n",
       "</style>\n",
       "<table border=\"1\" class=\"dataframe\">\n",
       "  <thead>\n",
       "    <tr style=\"text-align: right;\">\n",
       "      <th></th>\n",
       "      <th>0</th>\n",
       "      <th>1</th>\n",
       "    </tr>\n",
       "  </thead>\n",
       "  <tbody>\n",
       "    <tr>\n",
       "      <th>0</th>\n",
       "      <td>NaN</td>\n",
       "      <td>NaN</td>\n",
       "    </tr>\n",
       "    <tr>\n",
       "      <th>1</th>\n",
       "      <td>NaN</td>\n",
       "      <td>NaN</td>\n",
       "    </tr>\n",
       "    <tr>\n",
       "      <th>2</th>\n",
       "      <td>NaN</td>\n",
       "      <td>NaN</td>\n",
       "    </tr>\n",
       "  </tbody>\n",
       "</table>\n",
       "</div>"
      ],
      "text/plain": [
       "     0    1\n",
       "0  NaN  NaN\n",
       "1  NaN  NaN\n",
       "2  NaN  NaN"
      ]
     },
     "execution_count": 16,
     "metadata": {},
     "output_type": "execute_result"
    }
   ],
   "source": [
    "pd.DataFrame(index=range(3), columns=range(2))"
   ]
  },
  {
   "cell_type": "code",
   "execution_count": 3,
   "metadata": {},
   "outputs": [
    {
     "data": {
      "text/plain": [
       "array([[nan, nan, nan],\n",
       "       [nan, nan, nan]])"
      ]
     },
     "execution_count": 3,
     "metadata": {},
     "output_type": "execute_result"
    }
   ],
   "source": [
    "a = np.full((2, 3), np.nan, dtype=float)\n",
    "a"
   ]
  },
  {
   "cell_type": "code",
   "execution_count": 4,
   "metadata": {},
   "outputs": [
    {
     "data": {
      "text/plain": [
       "array([[ True,  True,  True],\n",
       "       [ True,  True,  True]])"
      ]
     },
     "execution_count": 4,
     "metadata": {},
     "output_type": "execute_result"
    }
   ],
   "source": [
    "np.isnan(a)"
   ]
  },
  {
   "cell_type": "code",
   "execution_count": 5,
   "metadata": {},
   "outputs": [
    {
     "data": {
      "text/plain": [
       "True"
      ]
     },
     "execution_count": 5,
     "metadata": {},
     "output_type": "execute_result"
    }
   ],
   "source": [
    "np.isnan(a).all()"
   ]
  },
  {
   "cell_type": "code",
   "execution_count": 6,
   "metadata": {},
   "outputs": [
    {
     "data": {
      "text/plain": [
       "array([[nan, nan, nan],\n",
       "       [nan, nan,  1.]])"
      ]
     },
     "execution_count": 6,
     "metadata": {},
     "output_type": "execute_result"
    }
   ],
   "source": [
    "a = np.full((2, 3), np.nan, dtype=float)\n",
    "a[1,2] = 1\n",
    "a"
   ]
  },
  {
   "cell_type": "code",
   "execution_count": 7,
   "metadata": {},
   "outputs": [
    {
     "data": {
      "text/plain": [
       "array([[ True,  True,  True],\n",
       "       [ True,  True, False]])"
      ]
     },
     "execution_count": 7,
     "metadata": {},
     "output_type": "execute_result"
    }
   ],
   "source": [
    "np.isnan(a)"
   ]
  },
  {
   "cell_type": "code",
   "execution_count": 8,
   "metadata": {},
   "outputs": [
    {
     "data": {
      "text/plain": [
       "False"
      ]
     },
     "execution_count": 8,
     "metadata": {},
     "output_type": "execute_result"
    }
   ],
   "source": [
    "np.isnan(a).all()"
   ]
  },
  {
   "cell_type": "code",
   "execution_count": 9,
   "metadata": {},
   "outputs": [
    {
     "data": {
      "text/html": [
       "<div>\n",
       "<style scoped>\n",
       "    .dataframe tbody tr th:only-of-type {\n",
       "        vertical-align: middle;\n",
       "    }\n",
       "\n",
       "    .dataframe tbody tr th {\n",
       "        vertical-align: top;\n",
       "    }\n",
       "\n",
       "    .dataframe thead th {\n",
       "        text-align: right;\n",
       "    }\n",
       "</style>\n",
       "<table border=\"1\" class=\"dataframe\">\n",
       "  <thead>\n",
       "    <tr style=\"text-align: right;\">\n",
       "      <th></th>\n",
       "      <th>0</th>\n",
       "      <th>1</th>\n",
       "    </tr>\n",
       "  </thead>\n",
       "  <tbody>\n",
       "    <tr>\n",
       "      <th>0</th>\n",
       "      <td>NaN</td>\n",
       "      <td>NaN</td>\n",
       "    </tr>\n",
       "    <tr>\n",
       "      <th>1</th>\n",
       "      <td>NaN</td>\n",
       "      <td>NaN</td>\n",
       "    </tr>\n",
       "    <tr>\n",
       "      <th>2</th>\n",
       "      <td>NaN</td>\n",
       "      <td>NaN</td>\n",
       "    </tr>\n",
       "  </tbody>\n",
       "</table>\n",
       "</div>"
      ],
      "text/plain": [
       "     0    1\n",
       "0  NaN  NaN\n",
       "1  NaN  NaN\n",
       "2  NaN  NaN"
      ]
     },
     "execution_count": 9,
     "metadata": {},
     "output_type": "execute_result"
    }
   ],
   "source": [
    "a = pd.DataFrame(index=range(3), columns=range(2))\n",
    "a\n"
   ]
  },
  {
   "cell_type": "code",
   "execution_count": 10,
   "metadata": {},
   "outputs": [
    {
     "data": {
      "text/plain": [
       "False"
      ]
     },
     "execution_count": 10,
     "metadata": {},
     "output_type": "execute_result"
    }
   ],
   "source": [
    "a.empty"
   ]
  },
  {
   "cell_type": "code",
   "execution_count": 11,
   "metadata": {},
   "outputs": [
    {
     "ename": "SyntaxError",
     "evalue": "invalid syntax (Temp/ipykernel_20992/445316355.py, line 5)",
     "output_type": "error",
     "traceback": [
      "\u001b[1;36m  File \u001b[1;32m\"C:\\Users\\smoke\\AppData\\Local\\Temp/ipykernel_20992/445316355.py\"\u001b[1;36m, line \u001b[1;32m5\u001b[0m\n\u001b[1;33m    pd.DataFrame(),\u001b[0m\n\u001b[1;37m    ^\u001b[0m\n\u001b[1;31mSyntaxError\u001b[0m\u001b[1;31m:\u001b[0m invalid syntax\n"
     ]
    }
   ],
   "source": [
    "\n",
    "    \n"
   ]
  },
  {
   "cell_type": "code",
   "execution_count": null,
   "metadata": {},
   "outputs": [],
   "source": [
    "non_empty_read_itm_possibilities = [\n",
    "    'a',\n",
    "    [0],\n",
    "    0,\n",
    "    \n",
    "\n"
   ]
  },
  {
   "cell_type": "markdown",
   "metadata": {},
   "source": [
    "#### DVH"
   ]
  },
  {
   "cell_type": "code",
   "execution_count": null,
   "metadata": {},
   "outputs": [
    {
     "data": {
      "text/html": [
       "<div>\n",
       "<style scoped>\n",
       "    .dataframe tbody tr th:only-of-type {\n",
       "        vertical-align: middle;\n",
       "    }\n",
       "\n",
       "    .dataframe tbody tr th {\n",
       "        vertical-align: top;\n",
       "    }\n",
       "\n",
       "    .dataframe thead tr th {\n",
       "        text-align: left;\n",
       "    }\n",
       "</style>\n",
       "<table border=\"1\" class=\"dataframe\">\n",
       "  <thead>\n",
       "    <tr>\n",
       "      <th>Course</th>\n",
       "      <th colspan=\"4\" halign=\"left\">PLAN SUM</th>\n",
       "    </tr>\n",
       "    <tr>\n",
       "      <th>Plan</th>\n",
       "      <th colspan=\"4\" halign=\"left\">Plan Sum</th>\n",
       "    </tr>\n",
       "    <tr>\n",
       "      <th>Structure</th>\n",
       "      <th colspan=\"2\" halign=\"left\">PRV5 SpinalCanal</th>\n",
       "      <th colspan=\"2\" halign=\"left\">PTV 50</th>\n",
       "    </tr>\n",
       "    <tr>\n",
       "      <th>Data</th>\n",
       "      <th>Dose [cGy]</th>\n",
       "      <th>Ratio of Total Structure Volume [%]</th>\n",
       "      <th>Dose [cGy]</th>\n",
       "      <th>Ratio of Total Structure Volume [%]</th>\n",
       "    </tr>\n",
       "  </thead>\n",
       "  <tbody>\n",
       "    <tr>\n",
       "      <th>0</th>\n",
       "      <td>0.0</td>\n",
       "      <td>100.000000</td>\n",
       "      <td>0.0</td>\n",
       "      <td>1.000000e+02</td>\n",
       "    </tr>\n",
       "    <tr>\n",
       "      <th>1</th>\n",
       "      <td>1.0</td>\n",
       "      <td>100.000000</td>\n",
       "      <td>1.0</td>\n",
       "      <td>1.000000e+02</td>\n",
       "    </tr>\n",
       "    <tr>\n",
       "      <th>2</th>\n",
       "      <td>2.0</td>\n",
       "      <td>100.000000</td>\n",
       "      <td>2.0</td>\n",
       "      <td>1.000000e+02</td>\n",
       "    </tr>\n",
       "    <tr>\n",
       "      <th>3</th>\n",
       "      <td>3.0</td>\n",
       "      <td>100.000000</td>\n",
       "      <td>3.0</td>\n",
       "      <td>1.000000e+02</td>\n",
       "    </tr>\n",
       "    <tr>\n",
       "      <th>4</th>\n",
       "      <td>4.0</td>\n",
       "      <td>100.000000</td>\n",
       "      <td>4.0</td>\n",
       "      <td>1.000000e+02</td>\n",
       "    </tr>\n",
       "    <tr>\n",
       "      <th>5</th>\n",
       "      <td>5.0</td>\n",
       "      <td>100.000000</td>\n",
       "      <td>5.0</td>\n",
       "      <td>1.000000e+02</td>\n",
       "    </tr>\n",
       "    <tr>\n",
       "      <th>6</th>\n",
       "      <td>3667.0</td>\n",
       "      <td>0.000042</td>\n",
       "      <td>5437.0</td>\n",
       "      <td>9.477700e-05</td>\n",
       "    </tr>\n",
       "    <tr>\n",
       "      <th>7</th>\n",
       "      <td>3668.0</td>\n",
       "      <td>0.000029</td>\n",
       "      <td>5438.0</td>\n",
       "      <td>6.356070e-05</td>\n",
       "    </tr>\n",
       "    <tr>\n",
       "      <th>8</th>\n",
       "      <td>3669.0</td>\n",
       "      <td>0.000015</td>\n",
       "      <td>5439.0</td>\n",
       "      <td>3.624250e-05</td>\n",
       "    </tr>\n",
       "    <tr>\n",
       "      <th>9</th>\n",
       "      <td>3670.0</td>\n",
       "      <td>0.000001</td>\n",
       "      <td>5440.0</td>\n",
       "      <td>1.823360e-05</td>\n",
       "    </tr>\n",
       "    <tr>\n",
       "      <th>10</th>\n",
       "      <td>NaN</td>\n",
       "      <td>NaN</td>\n",
       "      <td>5441.0</td>\n",
       "      <td>9.150030e-06</td>\n",
       "    </tr>\n",
       "    <tr>\n",
       "      <th>11</th>\n",
       "      <td>NaN</td>\n",
       "      <td>NaN</td>\n",
       "      <td>5442.0</td>\n",
       "      <td>6.648100e-08</td>\n",
       "    </tr>\n",
       "  </tbody>\n",
       "</table>\n",
       "</div>"
      ],
      "text/plain": [
       "Course            PLAN SUM                                                 \\\n",
       "Plan              Plan Sum                                                  \n",
       "Structure PRV5 SpinalCanal                                         PTV 50   \n",
       "Data            Dose [cGy] Ratio of Total Structure Volume [%] Dose [cGy]   \n",
       "0                      0.0                          100.000000        0.0   \n",
       "1                      1.0                          100.000000        1.0   \n",
       "2                      2.0                          100.000000        2.0   \n",
       "3                      3.0                          100.000000        3.0   \n",
       "4                      4.0                          100.000000        4.0   \n",
       "5                      5.0                          100.000000        5.0   \n",
       "6                   3667.0                            0.000042     5437.0   \n",
       "7                   3668.0                            0.000029     5438.0   \n",
       "8                   3669.0                            0.000015     5439.0   \n",
       "9                   3670.0                            0.000001     5440.0   \n",
       "10                     NaN                                 NaN     5441.0   \n",
       "11                     NaN                                 NaN     5442.0   \n",
       "\n",
       "Course                                         \n",
       "Plan                                           \n",
       "Structure                                      \n",
       "Data      Ratio of Total Structure Volume [%]  \n",
       "0                                1.000000e+02  \n",
       "1                                1.000000e+02  \n",
       "2                                1.000000e+02  \n",
       "3                                1.000000e+02  \n",
       "4                                1.000000e+02  \n",
       "5                                1.000000e+02  \n",
       "6                                9.477700e-05  \n",
       "7                                6.356070e-05  \n",
       "8                                3.624250e-05  \n",
       "9                                1.823360e-05  \n",
       "10                               9.150030e-06  \n",
       "11                               6.648100e-08  "
      ]
     },
     "metadata": {},
     "output_type": "display_data"
    }
   ],
   "source": [
    "dvh = pd.DataFrame({\n",
    "    'Course': ['PLAN SUM', 'PLAN SUM', 'PLAN SUM', 'PLAN SUM'],\n",
    "    'Plan': ['Plan Sum', 'Plan Sum', 'Plan Sum', 'Plan Sum'],\n",
    "    'Structure': ['PRV5 SpinalCanal', 'PRV5 SpinalCanal',\n",
    "                    'PTV 50', 'PTV 50'],\n",
    "    'Data': ['Dose [cGy]', 'Ratio of Total Structure Volume [%]',\n",
    "                'Dose [cGy]', 'Ratio of Total Structure Volume [%]'],\n",
    "    0: [0, 100, 0, 100],\n",
    "    1: [1, 100, 1, 100],\n",
    "    2: [2, 100, 2, 100],\n",
    "    3: [3, 100, 3, 100],\n",
    "    4: [4, 100, 4, 100],\n",
    "    5: [5, 100, 5, 100],\n",
    "    6: [3667, 4.23876e-005, 5437, 9.4777e-005],\n",
    "    7: [3668, 2.87336e-005, 5438, 6.35607e-005],\n",
    "    8: [3669, 1.50797e-005, 5439, 3.62425e-005],\n",
    "    9: [3670, 1.4257e-006, 5440, 1.82336e-005],\n",
    "    10: [np.nan, np.nan, 5441, 9.15003e-006],\n",
    "    11: [np.nan, np.nan, 5442, 6.6481e-008]\n",
    "    })\n",
    "dvh.set_index(['Course', 'Plan', 'Structure', 'Data'],\n",
    "                inplace=True)\n",
    "dvh = dvh.T\n",
    "dvh"
   ]
  },
  {
   "cell_type": "markdown",
   "metadata": {},
   "source": [
    "#### Context"
   ]
  },
  {
   "cell_type": "code",
   "execution_count": null,
   "metadata": {},
   "outputs": [
    {
     "data": {
      "text/plain": [
       "{'File Name': 'Test_DVH_Sections.txt',\n",
       " 'File Path': WindowsPath(\"c:/Users/smoke/OneDrive - Queen's University/Python/Projects/sectionary package/Text Files/Test_DVH_Sections.txt\"),\n",
       " 'Line Count': 0}"
      ]
     },
     "metadata": {},
     "output_type": "display_data"
    }
   ],
   "source": [
    "context = {\n",
    "    'File Name': 'Test_DVH_Sections.txt',\n",
    "    'File Path': Path.cwd() / 'Text Files' / 'Test_DVH_Sections.txt',\n",
    "    'Line Count': 0\n",
    "    }\n",
    "context"
   ]
  }
 ],
 "metadata": {
  "kernelspec": {
   "display_name": "Python 3.8.12 ('sectionaryDev')",
   "language": "python",
   "name": "python3"
  },
  "language_info": {
   "codemirror_mode": {
    "name": "ipython",
    "version": 3
   },
   "file_extension": ".py",
   "mimetype": "text/x-python",
   "name": "python",
   "nbconvert_exporter": "python",
   "pygments_lexer": "ipython3",
   "version": "3.8.12"
  },
  "orig_nbformat": 4,
  "vscode": {
   "interpreter": {
    "hash": "890849be4bb9b5be1d044afe42e602ccc6ca20da23c054ee97c8186ec3939c45"
   }
  }
 },
 "nbformat": 4,
 "nbformat_minor": 2
}
