{
 "cells": [
  {
   "cell_type": "markdown",
   "metadata": {},
   "source": [
    "# Tests of Subsection source handling"
   ]
  },
  {
   "cell_type": "markdown",
   "metadata": {},
   "source": []
  },
  {
   "cell_type": "markdown",
   "metadata": {},
   "source": [
    "### Imports"
   ]
  },
  {
   "cell_type": "code",
   "execution_count": 1,
   "metadata": {},
   "outputs": [],
   "source": [
    "from pprint import pprint\n",
    "import random\n",
    "from buffered_iterator import BufferedIterator\n",
    "\n",
    "from sections import SectionBreak, Section\n",
    "from sections import Rule, RuleSet, ProcessingMethods"
   ]
  },
  {
   "cell_type": "markdown",
   "metadata": {},
   "source": [
    "### Logging"
   ]
  },
  {
   "cell_type": "code",
   "execution_count": 2,
   "metadata": {},
   "outputs": [],
   "source": [
    "import logging\n",
    "logging.basicConfig(format='%(name)-20s - %(levelname)s: %(message)s')\n",
    "#logging.basicConfig(level=logging.DEBUG)\n",
    "logger = logging.getLogger('Text Processing')\n",
    "#logger.setLevel(logging.DEBUG)\n",
    "logger.setLevel(logging.INFO)\n"
   ]
  },
  {
   "cell_type": "markdown",
   "metadata": {},
   "source": [
    "### Source as Sequence of Integers"
   ]
  },
  {
   "cell_type": "code",
   "execution_count": 3,
   "metadata": {},
   "outputs": [],
   "source": [
    "buffer_size = 5\n",
    "num_items = 10\n",
    "\n",
    "str_source = BufferedIterator((str(i) for i in range(num_items)), \n",
    "                              buffer_size=buffer_size)\n",
    "\n",
    "int_source = BufferedIterator((i for i in range(num_items)), \n",
    "                              buffer_size=buffer_size)"
   ]
  },
  {
   "cell_type": "markdown",
   "metadata": {},
   "source": [
    "# Test BufferedIterator Item Count"
   ]
  },
  {
   "cell_type": "code",
   "execution_count": 4,
   "metadata": {},
   "outputs": [],
   "source": [
    "buffer_size = 5\n",
    "num_items = 12\n"
   ]
  },
  {
   "cell_type": "code",
   "execution_count": 5,
   "metadata": {},
   "outputs": [],
   "source": [
    "str_source = BufferedIterator((str(i) for i in range(num_items)),\n",
    "                              buffer_size=buffer_size)\n",
    "int_source = BufferedIterator((i for i in range(num_items)),\n",
    "                              buffer_size=buffer_size)\n"
   ]
  },
  {
   "cell_type": "markdown",
   "metadata": {},
   "source": [
    "### test_initial_count_values\n",
    "Before iteration starts BufferedIterator.item_count=0.\n"
   ]
  },
  {
   "cell_type": "code",
   "execution_count": 6,
   "metadata": {},
   "outputs": [
    {
     "name": "stdout",
     "output_type": "stream",
     "text": [
      "0\n",
      "0\n"
     ]
    }
   ],
   "source": [
    "print(str_source._item_count)\n",
    "print(str_source.item_count)\n"
   ]
  },
  {
   "cell_type": "markdown",
   "metadata": {},
   "source": [
    "### test_count_value_tracking\n",
    "BufferedIterator.item_count should be one greater than the source item index \n",
    "for all items.\n"
   ]
  },
  {
   "cell_type": "code",
   "execution_count": 7,
   "metadata": {},
   "outputs": [
    {
     "name": "stdout",
     "output_type": "stream",
     "text": [
      "1 1\n",
      "2 2\n",
      "3 3\n",
      "4 4\n",
      "5 5\n",
      "6 6\n",
      "7 7\n",
      "8 8\n",
      "9 9\n",
      "10 10\n",
      "11 11\n",
      "12 12\n"
     ]
    }
   ],
   "source": [
    "int_source = BufferedIterator((i for i in range(num_items)),\n",
    "                              buffer_size=buffer_size)\n",
    "for i in int_source:\n",
    "    print(i+1, int_source.item_count)\n"
   ]
  },
  {
   "cell_type": "markdown",
   "metadata": {},
   "source": [
    "### test_post_iteration_count_value\n",
    "After iteration completes BufferedIterator.item_count should be the \n",
    "total number of items in the source.\n"
   ]
  },
  {
   "cell_type": "code",
   "execution_count": 8,
   "metadata": {},
   "outputs": [
    {
     "name": "stdout",
     "output_type": "stream",
     "text": [
      "12 12\n"
     ]
    }
   ],
   "source": [
    "int_source = BufferedIterator((i for i in range(num_items)),\n",
    "                              buffer_size=buffer_size)\n",
    "\n",
    "[i for i in int_source]\n",
    "\n",
    "print(num_items, int_source.item_count)\n"
   ]
  },
  {
   "cell_type": "markdown",
   "metadata": {},
   "source": [
    "### test_backup_count\n",
    "When backup is called on a BufferedIterator iterator,\n",
    "BufferedIterator.item_count should decrease by the corresponding amount.\n"
   ]
  },
  {
   "cell_type": "code",
   "execution_count": 9,
   "metadata": {},
   "outputs": [
    {
     "name": "stdout",
     "output_type": "stream",
     "text": [
      "Moving forward 10 steps; backing up 2 steps\n",
      "8 8\n",
      "7 7\n"
     ]
    }
   ],
   "source": [
    "str_source = BufferedIterator((str(i) for i in range(num_items-1)),\n",
    "                              buffer_size=buffer_size)\n",
    "\n",
    "fwd = random.randint(2, num_items)\n",
    "back = random.randint(1, min(fwd-1, buffer_size-1))\n",
    "print(f'Moving forward {fwd} steps; backing up {back} steps')\n",
    "\n",
    "for i in range(fwd):\n",
    "    next(str_source)\n",
    "str_source.backup(back)\n",
    "\n",
    "print(fwd-back, str_source.item_count)\n",
    "print(int(str_source.previous_items[-1]), str_source.item_count-1)\n"
   ]
  },
  {
   "cell_type": "markdown",
   "metadata": {},
   "source": [
    "### test_advance_count\n",
    "When advance is called on a BufferedIterator iterator,\n",
    "BufferedIterator.item_count should increase by the corresponding amount.\n"
   ]
  },
  {
   "cell_type": "code",
   "execution_count": 10,
   "metadata": {},
   "outputs": [
    {
     "name": "stdout",
     "output_type": "stream",
     "text": [
      "Moving forward 8 steps; advancing 3 more steps\n",
      "11 11\n",
      "10 10\n"
     ]
    }
   ],
   "source": [
    "int_source = BufferedIterator((i for i in range(num_items)),\n",
    "                              buffer_size=buffer_size)\n",
    "\n",
    "fwd = random.randint(0, num_items-1)\n",
    "adv = random.randint(1, min(num_items-fwd, buffer_size))\n",
    "print(f'Moving forward {fwd} steps; advancing {adv} more steps')\n",
    "\n",
    "for i in range(fwd):\n",
    "    next(int_source)\n",
    "int_source.advance(adv)\n",
    "\n",
    "print(fwd+adv, int_source.item_count)\n",
    "print(int_source.previous_items[-1], int_source.item_count-1)"
   ]
  },
  {
   "cell_type": "markdown",
   "metadata": {},
   "source": [
    "# TestBufferedIterator_goto_item(unittest.TestCase):\n"
   ]
  },
  {
   "cell_type": "code",
   "execution_count": 11,
   "metadata": {},
   "outputs": [],
   "source": [
    "buffer_size = 5\n",
    "num_items = 12"
   ]
  },
  {
   "cell_type": "code",
   "execution_count": 12,
   "metadata": {},
   "outputs": [],
   "source": [
    "\n",
    "str_source = BufferedIterator((str(i) for i in range(num_items)),\n",
    "                              buffer_size=buffer_size)\n",
    "\n",
    "int_source = BufferedIterator((i for i in range(num_items)),\n",
    "                              buffer_size=buffer_size)\n"
   ]
  },
  {
   "cell_type": "markdown",
   "metadata": {},
   "source": [
    "### test_goto_forward(self):\n",
    "`BufferedIterator.goto_item(n)` should make a call to `__next__()`\n",
    "return the $n_th$ item in the sequence.\n"
   ]
  },
  {
   "cell_type": "code",
   "execution_count": 13,
   "metadata": {},
   "outputs": [
    {
     "name": "stdout",
     "output_type": "stream",
     "text": [
      "Moving forward 4 steps; going to item 8\n",
      "8 8\n",
      "8 8\n"
     ]
    }
   ],
   "source": [
    "int_source = BufferedIterator((i for i in range(num_items)),\n",
    "                              buffer_size=buffer_size)\n",
    "\n",
    "fwd = random.randint(1, num_items-1)\n",
    "max_adv = fwd + min(num_items-fwd, buffer_size)\n",
    "item_choices = [i for i in range(fwd, max_adv)]\n",
    "target_item = random.choice(item_choices)\n",
    "print(f'Moving forward {fwd} steps; going to item {target_item}')\n",
    "\n",
    "for i in range(fwd):\n",
    "    next(int_source)\n",
    "int_source.goto_item(target_item)\n",
    "\n",
    "print(target_item, int_source.item_count)\n",
    "print(next(int_source), int_source.item_count-1)\n"
   ]
  },
  {
   "cell_type": "markdown",
   "metadata": {},
   "source": [
    "### test_goto_backwards\n",
    "\n",
    "`BufferedIterator.goto_item(n)` should make a call to `__next__()`\n",
    "return the $n_th$ item in the sequence.  When moving backwards, `n` is\n",
    "limited to `item_count - buffer_size` (the items in previous_items).\n"
   ]
  },
  {
   "cell_type": "code",
   "execution_count": 14,
   "metadata": {},
   "outputs": [
    {
     "name": "stdout",
     "output_type": "stream",
     "text": [
      "Moving forward 12 steps; going to item 9\n",
      "9 9\n",
      "9 9\n"
     ]
    }
   ],
   "source": [
    "int_source = BufferedIterator((i for i in range(num_items)),\n",
    "                              buffer_size=buffer_size)\n",
    "\n",
    "fwd = random.randint(2, num_items)\n",
    "item_idx = fwd - 1\n",
    "buffer_len = min(buffer_size, fwd)\n",
    "max_back = item_idx - buffer_len + 1\n",
    "item_choices = [i for i in range(item_idx, max_back, -1)]\n",
    "target_item = random.choice(item_choices)\n",
    "print(f'Moving forward {fwd} steps; going to item {target_item}')\n",
    "\n",
    "for i in range(fwd):\n",
    "    next(int_source)\n",
    "int_source.goto_item(target_item)\n",
    "\n",
    "print(target_item, int_source.item_count)\n",
    "print(next(int_source), int_source.item_count-1)\n"
   ]
  },
  {
   "cell_type": "markdown",
   "metadata": {},
   "source": [
    "### test_goto_beginning\n",
    "BufferedIterator.goto_item(0) should restart the iterator.\n",
    "\n",
    "- In order to move to the beginning the current location must be less\n",
    "than the buffer size.\n"
   ]
  },
  {
   "cell_type": "code",
   "execution_count": 15,
   "metadata": {},
   "outputs": [
    {
     "name": "stdout",
     "output_type": "stream",
     "text": [
      "Moving forward 5 steps; going to item 0\n",
      "BufferedIterator(source=<generator object <genexpr> at 0x0000024861A7D190>, buffer_size=5)\n",
      "\tBufferedIterator.previous_items = deque(['0', '1', '2', '3', '4'], maxlen=5)\n",
      "\tBufferedIterator.future_items = deque([], maxlen=5)\n",
      "\tBufferedIterator._step_back = 0\n",
      "0\n"
     ]
    }
   ],
   "source": [
    "str_source = BufferedIterator((str(i) for i in range(num_items)),\n",
    "                              buffer_size=buffer_size)\n",
    "\n",
    "fwd = random.randint(1, min(buffer_size, num_items))\n",
    "print(f'Moving forward {fwd} steps; going to item 0')\n",
    "for i in range(fwd):\n",
    "    next(str_source)\n",
    "print(repr(str_source))\n",
    "str_source.goto_item(0)\n",
    "\n",
    "print(str_source.item_count)"
   ]
  },
  {
   "cell_type": "markdown",
   "metadata": {},
   "source": [
    "# Track source items used by processor\n",
    "\n",
    "Process method should track the number of Source lines used for each processed line\n",
    "\n",
    "Processor creates sequence of source.item_count for each output item\n",
    "- Len(section.item_count) = # processed items\n",
    "- section.item_count[-1] = # source items (includes skipped source items)\n",
    "- Property item_count returns len(self._item_count)\n",
    "- Property source_item_count returns self._item_count[-1]\n"
   ]
  },
  {
   "cell_type": "markdown",
   "metadata": {},
   "source": [
    "## Tests"
   ]
  },
  {
   "cell_type": "markdown",
   "metadata": {},
   "source": [
    "### Before source initialized\n",
    "- Section.source_index is None\n",
    "- Section.source_item_count is 0\n",
    "- Section.item_count is 0"
   ]
  },
  {
   "cell_type": "code",
   "execution_count": 23,
   "metadata": {},
   "outputs": [
    {
     "name": "stdout",
     "output_type": "stream",
     "text": [
      "Section index is: None  \tSection Count 0  \tSection Source Index: 0\n"
     ]
    }
   ],
   "source": [
    "empty_section = Section(section_name='empty')\n",
    "\n",
    "source_index = empty_section.source_index\n",
    "source_items = empty_section.source_item_count\n",
    "item_count = empty_section.item_count\n",
    "\n",
    "print(f'Section index is: {repr(source_index)}  \\t'\n",
    "      f'Section Count {item_count}  \\t'\n",
    "      f'Section Source Index: {source_items}')\n"
   ]
  },
  {
   "cell_type": "markdown",
   "metadata": {},
   "source": [
    "### At beginning of source\n",
    "- Section.source_index is empty list\n",
    "- Section.source_item_count is 0\n",
    "- Section.item_count is 0"
   ]
  },
  {
   "cell_type": "code",
   "execution_count": 25,
   "metadata": {},
   "outputs": [
    {
     "name": "stdout",
     "output_type": "stream",
     "text": [
      "Section index is: []  \tSection Count 0  \tSection Source Index: 0\n"
     ]
    }
   ],
   "source": [
    "int_source = BufferedIterator((i for i in range(num_items)),\n",
    "                              buffer_size=buffer_size)\n",
    "\n",
    "not_started_section = Section(section_name='Not Started')\n",
    "not_started_section.source = int_source\n",
    "\n",
    "source_index = not_started_section.source_index\n",
    "source_items = not_started_section.source_item_count\n",
    "item_count = not_started_section.item_count\n",
    "\n",
    "print(f'Section index is: {repr(source_index)}  \\t'\n",
    "      f'Section Count {item_count}  \\t'\n",
    "      f'Section Source Index: {source_items}')\n"
   ]
  },
  {
   "cell_type": "markdown",
   "metadata": {},
   "source": [
    "### 1-to-1 match\n",
    "- range(n) as source\n",
    "- processor just returns item\n",
    "- for each section item: \n",
    "  - source.item_count = item = section.source_item_count \n",
    "  - source.item_count = section.item_count"
   ]
  },
  {
   "cell_type": "code",
   "execution_count": 18,
   "metadata": {},
   "outputs": [
    {
     "name": "stdout",
     "output_type": "stream",
     "text": [
      "[1]\n",
      "[1, 2]\n",
      "[1, 2, 3]\n",
      "[1, 2, 3, 4]\n",
      "[1, 2, 3, 4, 5]\n",
      "[1, 2, 3, 4, 5, 6]\n",
      "[1, 2, 3, 4, 5, 6, 7]\n",
      "[1, 2, 3, 4, 5, 6, 7, 8]\n",
      "[1, 2, 3, 4, 5, 6, 7, 8, 9]\n",
      "[1, 2, 3, 4, 5, 6, 7, 8, 9, 10]\n",
      "[1, 2, 3, 4, 5, 6, 7, 8, 9, 10, 11]\n",
      "[1, 2, 3, 4, 5, 6, 7, 8, 9, 10, 11, 12]\n"
     ]
    }
   ],
   "source": [
    "int_source = BufferedIterator((i for i in range(num_items)),\n",
    "                              buffer_size=buffer_size)\n",
    "\n",
    "section_1_1 = Section(\n",
    "    section_name='1-to-1 match',\n",
    "    )\n",
    "\n",
    "for item in section_1_1.process(int_source):\n",
    "    source_count = int_source.item_count\n",
    "    source_items = section_1_1.source_item_count\n",
    "    item_count = section_1_1.item_count\n",
    "    pprint(section_1_1._source_index)\n"
   ]
  },
  {
   "cell_type": "code",
   "execution_count": 19,
   "metadata": {},
   "outputs": [
    {
     "name": "stdout",
     "output_type": "stream",
     "text": [
      "Item: 0  \tSource Count: 1  \tSection Count 1  \tSection Source Index: 1\n",
      "Item: 1  \tSource Count: 2  \tSection Count 2  \tSection Source Index: 2\n",
      "Item: 2  \tSource Count: 3  \tSection Count 3  \tSection Source Index: 3\n",
      "Item: 3  \tSource Count: 4  \tSection Count 4  \tSection Source Index: 4\n",
      "Item: 4  \tSource Count: 5  \tSection Count 5  \tSection Source Index: 5\n",
      "Item: 5  \tSource Count: 6  \tSection Count 6  \tSection Source Index: 6\n",
      "Item: 6  \tSource Count: 7  \tSection Count 7  \tSection Source Index: 7\n",
      "Item: 7  \tSource Count: 8  \tSection Count 8  \tSection Source Index: 8\n",
      "Item: 8  \tSource Count: 9  \tSection Count 9  \tSection Source Index: 9\n",
      "Item: 9  \tSource Count: 10  \tSection Count 10  \tSection Source Index: 10\n",
      "Item: 10  \tSource Count: 11  \tSection Count 11  \tSection Source Index: 11\n",
      "Item: 11  \tSource Count: 12  \tSection Count 12  \tSection Source Index: 12\n"
     ]
    }
   ],
   "source": [
    "int_source = BufferedIterator((i for i in range(num_items)),\n",
    "                              buffer_size=buffer_size)\n",
    "\n",
    "section_1_1 = Section(\n",
    "    section_name='1-to-1 match',\n",
    "    )\n",
    "\n",
    "for item in section_1_1.process(int_source):\n",
    "    source_count = int_source.item_count\n",
    "    source_items = section_1_1.source_item_count\n",
    "    item_count = section_1_1.item_count\n",
    "    print(f'Item: {item}  \\tSource Count: {source_count}  \\t'\n",
    "          f'Section Count {item_count}  \\t'\n",
    "          f'Section Source Index: {source_items}')\n"
   ]
  },
  {
   "cell_type": "markdown",
   "metadata": {},
   "source": [
    "### 2-to-1 match\n",
    "- range(n) as source\n",
    "- processor converts 2 sucesssive source items into tuple of length 2\n",
    "- for each section item: \n",
    "  - item = (source.item_count-1, source.item_count) \n",
    "  - source.item_count = section.source_item_count\n",
    "  - source.item_count = (section.item_count + 1) // 2\n"
   ]
  },
  {
   "cell_type": "code",
   "execution_count": 20,
   "metadata": {},
   "outputs": [
    {
     "name": "stdout",
     "output_type": "stream",
     "text": [
      "Item: (0, 1)\tsource.item_count: 2\tsection.source_item_count: 2\tsection.item_count 1\n",
      "Item: (2, 3)\tsource.item_count: 4\tsection.source_item_count: 4\tsection.item_count 2\n",
      "Item: (4, 5)\tsource.item_count: 6\tsection.source_item_count: 6\tsection.item_count 3\n",
      "Item: (6, 7)\tsource.item_count: 8\tsection.source_item_count: 8\tsection.item_count 4\n",
      "Item: (8, 9)\tsource.item_count: 10\tsection.source_item_count: 10\tsection.item_count 5\n",
      "Item: (10, 11)\tsource.item_count: 12\tsection.source_item_count: 12\tsection.item_count 6\n"
     ]
    }
   ],
   "source": [
    "int_source = BufferedIterator((i for i in range(num_items)), \n",
    "                              buffer_size=buffer_size)\n",
    "\n",
    "def pairs(source):\n",
    "    for item in source:\n",
    "        yield tuple([item, next(source)])\n",
    "\n",
    "section_2_1 = Section(\n",
    "    section_name='1-to-1 match',\n",
    "    processor=[pairs]\n",
    "    )\n",
    "\n",
    "for item in section_2_1.process(int_source):\n",
    "    source_count = int_source.item_count\n",
    "    source_items = section_2_1.source_item_count\n",
    "    item_count = section_2_1.item_count\n",
    "    print(f'Item: {item}\\tsource.item_count: {source_count}\\t'\n",
    "          f'section.source_item_count: {source_items}\\t'\n",
    "          f'section.item_count {item_count}')\n"
   ]
  },
  {
   "cell_type": "code",
   "execution_count": 21,
   "metadata": {},
   "outputs": [
    {
     "name": "stdout",
     "output_type": "stream",
     "text": [
      "Item: ('2', '3')\tsource.item_count: 4\tsection.source_item_count: 4\tsection.item_count 1\n",
      "Item: ('4', '5')\tsource.item_count: 6\tsection.source_item_count: 6\tsection.item_count 2\n",
      "Item: ('6', '7')\tsource.item_count: 8\tsection.source_item_count: 8\tsection.item_count 3\n",
      "Item: ('8', '9')\tsource.item_count: 10\tsection.source_item_count: 10\tsection.item_count 4\n",
      "Item: ('10', '11')\tsource.item_count: 12\tsection.source_item_count: 12\tsection.item_count 5\n"
     ]
    }
   ],
   "source": [
    "str_source = BufferedIterator((str(i) for i in range(num_items)), \n",
    "                              buffer_size=buffer_size)\n",
    "\n",
    "def pairs(source):\n",
    "    for item in source:\n",
    "        yield tuple([item, next(source)])\n",
    "        \n",
    "subsection = Section(\n",
    "    section_name='subsection',\n",
    "    start_section=SectionBreak('2', break_offset='After')\n",
    "    )\n",
    "\n",
    "section_2_1 = Section(\n",
    "    section_name='2-to-1 match',\n",
    "    start_section=SectionBreak('2', break_offset='Before'),\n",
    "    end_section=SectionBreak('3', break_offset='After'),\n",
    "    processor=[pairs],\n",
    "    subsections=subsection\n",
    "    )\n",
    "\n",
    "for item in section_2_1.process(str_source):\n",
    "    source_count = str_source.item_count\n",
    "    source_items = section_2_1.source_item_count\n",
    "    item_count = section_2_1.item_count\n",
    "    print(f'Item: {item}\\tsource.item_count: {source_count}\\t'\n",
    "          f'section.source_item_count: {source_items}\\t'\n",
    "          f'section.item_count {item_count}')\n"
   ]
  },
  {
   "cell_type": "code",
   "execution_count": 22,
   "metadata": {},
   "outputs": [],
   "source": [
    "sub_section = Section(\n",
    "    section_name='SubSection',\n",
    "    start_section=SectionBreak('StartSection', break_offset='After')\n",
    "    )\n",
    "full_section = Section(\n",
    "    section_name='Full',\n",
    "    start_section=SectionBreak('StartSection', break_offset='Before'),\n",
    "    end_section=SectionBreak('EndSection', break_offset='After'),\n",
    "    subsections=sub_section\n",
    "    )\n",
    "multi_section = Section(section_name='Multi',\n",
    "    subsections=full_section\n",
    "    )"
   ]
  },
  {
   "cell_type": "markdown",
   "metadata": {},
   "source": [
    "\n",
    "3. 1 Skipped item\n",
    "- (str(i) for i in range(n)) as source\n",
    "- start_section='1', offset='Before' \n",
    "- processor returns int(item)\n",
    "- for each section item: \n",
    "\t- source.item_count = item + 1\n",
    "\t- source.item_count = section.source.item_count \n",
    "\t- source.item_count = section.item_count + 1\n",
    "  \n",
    "4. 2 Skipped items\n",
    "- (str(i) for i in range(n)) as source\n",
    "- start_section='1', offset='After' \n",
    "- processor returns int(item)\n",
    "- for each section item: \n",
    "\t- source.item_count = item + 2\n",
    "\t- source.item_count = section.source_item_count + 2\n",
    "\t- source.item_count = section.item_count + 1\n",
    "  \n",
    "5. Dropped items\n",
    "- range(n) as source\n",
    "- processor drops even items and yields odd items\n",
    "- for each section item: \n",
    "\t- item = source.item_count\n",
    "\t- source.item_count = section.source_item_count\n",
    "\t- source.item_count = (section.item_count + 1) // 2 \n",
    "\n",
    "6. Completed section\n",
    "- (str(i) for i in range(n)) as source\n",
    "- after section.read(source):\n",
    "\t- source.item_count = section.source_item_count = section.item_count = n\n",
    "\n",
    "7. Completed section with break before\n",
    "-` (str(i) for i in range(n)) as source\n",
    "- end_section='2', offset='Before' \n",
    "- after section.read(source):\n",
    "  - source.item_count = section.source_item_count = section.item_count = 2\n",
    "\n",
    "8. Completed section with break after\n",
    "- (str(i) for i in range(n)) as source\n",
    "- end_section='2', offset='After' \n",
    "- after section.read(source):\n",
    "\t- source.item_count = section.source_item_count = section.item_count = 3"
   ]
  },
  {
   "cell_type": "code",
   "execution_count": null,
   "metadata": {},
   "outputs": [],
   "source": []
  }
 ],
 "metadata": {
  "kernelspec": {
   "display_name": "Python 3.8.12 ('sectionaryDev')",
   "language": "python",
   "name": "python3"
  },
  "language_info": {
   "codemirror_mode": {
    "name": "ipython",
    "version": 3
   },
   "file_extension": ".py",
   "mimetype": "text/x-python",
   "name": "python",
   "nbconvert_exporter": "python",
   "pygments_lexer": "ipython3",
   "version": "3.8.12"
  },
  "orig_nbformat": 4,
  "vscode": {
   "interpreter": {
    "hash": "890849be4bb9b5be1d044afe42e602ccc6ca20da23c054ee97c8186ec3939c45"
   }
  }
 },
 "nbformat": 4,
 "nbformat_minor": 2
}
