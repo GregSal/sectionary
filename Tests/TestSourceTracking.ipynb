{
 "cells": [
  {
   "cell_type": "markdown",
   "metadata": {},
   "source": [
    "# Testing Source and Section item counting.\n",
    "\n",
    "Process method should track the number of Source lines used for each processed line\n",
    "\n",
    "Processor creates sequence of source.item_count for each output item\n",
    "- Len(section.item_count) = # processed items\n",
    "- section.item_count[-1] = # source items (includes skipped source items)\n",
    "- Property item_count returns len(self._item_count)\n",
    "- Property source_item_count returns self._item_count[-1]\n"
   ]
  },
  {
   "cell_type": "markdown",
   "metadata": {},
   "source": [
    "## Setup"
   ]
  },
  {
   "cell_type": "markdown",
   "metadata": {},
   "source": [
    "### Imports"
   ]
  },
  {
   "cell_type": "code",
   "execution_count": 4,
   "metadata": {},
   "outputs": [],
   "source": [
    "import unittest\n",
    "from pprint import pprint\n",
    "import random\n",
    "from buffered_iterator import BufferedIterator\n",
    "\n",
    "from sections import SectionBreak, Section\n",
    "from sections import Rule, RuleSet, ProcessingMethods\n"
   ]
  },
  {
   "cell_type": "markdown",
   "metadata": {},
   "source": [
    "### Logging"
   ]
  },
  {
   "cell_type": "code",
   "execution_count": 5,
   "metadata": {},
   "outputs": [],
   "source": [
    "import logging\n",
    "logging.basicConfig(format='%(name)-20s - %(levelname)s: %(message)s')\n",
    "logger = logging.getLogger('Source Tracking Tests')\n",
    "logger.setLevel(logging.DEBUG)\n",
    "#logger.setLevel(logging.INFO)\n"
   ]
  },
  {
   "cell_type": "markdown",
   "metadata": {},
   "source": [
    "## Processing Functions"
   ]
  },
  {
   "cell_type": "code",
   "execution_count": 6,
   "metadata": {},
   "outputs": [],
   "source": [
    "def pairs(source):\n",
    "    '''Convert a sequence of items into a sequence of item pairs\n",
    "\n",
    "    Successive items are combined into length 2 tuples.\n",
    "\n",
    "    Args:\n",
    "        source (Sequence): any sequence of hashable items\n",
    "\n",
    "    Yields:\n",
    "        Tuple[Any]: Successive items combined into length 2 tuples.\n",
    "    '''\n",
    "    for item in source:\n",
    "        yield tuple([item, next(source)])\n",
    "\n",
    "\n",
    "def odd_nums(source):\n",
    "    '''Yield Odd items\n",
    "    Args:\n",
    "        source (Sequence[int]): A sequence of integers\n",
    "\n",
    "    Yields:\n",
    "        int: odd integers from the source\n",
    "    '''\n",
    "    for item in source:\n",
    "        if int(item)%2 == 1:\n",
    "            yield item\n"
   ]
  },
  {
   "cell_type": "markdown",
   "metadata": {},
   "source": [
    "## Test Source Tracking\n"
   ]
  },
  {
   "cell_type": "markdown",
   "metadata": {},
   "source": [
    "### Setup"
   ]
  },
  {
   "cell_type": "code",
   "execution_count": 7,
   "metadata": {},
   "outputs": [],
   "source": [
    "buffer_size = 5\n",
    "num_items = 10\n"
   ]
  },
  {
   "cell_type": "code",
   "execution_count": 8,
   "metadata": {},
   "outputs": [],
   "source": [
    "str_source = BufferedIterator(\n",
    "    (str(i) for i in range(num_items)),\n",
    "    buffer_size=buffer_size)\n",
    "\n",
    "int_source = BufferedIterator(\n",
    "    (i for i in range(num_items)),\n",
    "    buffer_size=buffer_size)\n"
   ]
  },
  {
   "cell_type": "markdown",
   "metadata": {},
   "source": [
    "# test_completed_section_item_count(self):\n",
    "Completed Section Item Count\n",
    "- (str(i) for i in range(n)) as source\n",
    "- processor drops even items and yields odd items\n",
    "- after section.read(source):\n",
    "    - source.item_count = section.source_item_count\n",
    "    - section.source_item_count = section.item_count = n * 2\n",
    "\n"
   ]
  },
  {
   "cell_type": "code",
   "execution_count": 9,
   "metadata": {},
   "outputs": [],
   "source": [
    "def odd_nums(source):\n",
    "    '''Yield Odd items\n",
    "    Args:\n",
    "        source (Sequence[int]): A sequence of integers\n",
    "\n",
    "    Yields:\n",
    "        int: odd integers from the source\n",
    "    '''\n",
    "    for item in source:\n",
    "        if int(item)%2 == 1:\n",
    "            yield item\n"
   ]
  },
  {
   "cell_type": "code",
   "execution_count": 10,
   "metadata": {},
   "outputs": [
    {
     "data": {
      "text/plain": [
       "[1, 3, 5, 7, 9]"
      ]
     },
     "execution_count": 10,
     "metadata": {},
     "output_type": "execute_result"
    }
   ],
   "source": [
    "int_source = BufferedIterator(\n",
    "    (i for i in range(num_items)),\n",
    "    buffer_size=buffer_size)\n",
    "\n",
    "[i for i in odd_nums(int_source)]"
   ]
  },
  {
   "cell_type": "code",
   "execution_count": 11,
   "metadata": {},
   "outputs": [
    {
     "name": "stderr",
     "output_type": "stream",
     "text": [
      "Sections             - DEBUG: Resetting source for: Odd Numbers.\n",
      "Sections             - DEBUG: Starting New Section: Odd Numbers.\n",
      "Sections             - DEBUG: In:\tOdd Numbers\tGot item:\t0\n",
      "Sections             - DEBUG: Break Status:\tScan In Progress\n",
      "Sections             - DEBUG: This is source item number: 1 in Odd Numbers\n",
      "Sections             - DEBUG: Is first item? True\n",
      "Sections             - DEBUG: end_on_first_item is  False\n",
      "Sections             - DEBUG: This is Odd Numbers item number: 0\n",
      "Sections             - DEBUG: In:\tOdd Numbers\tGot item:\t1\n",
      "Sections             - DEBUG: Break Status:\tScan In Progress\n",
      "Sections             - DEBUG: This is source item number: 2 in Odd Numbers\n",
      "Sections             - DEBUG: Is first item? False\n",
      "Sections             - DEBUG: end_on_first_item is  False\n",
      "Sections             - DEBUG: Checking for boundary\n",
      "Sections             - DEBUG: Checking Trigger: NeverBreak\n",
      "Sections             - DEBUG: in section_break.check\n",
      "Sections             - DEBUG: This is Odd Numbers item number: 1\n",
      "Sections             - DEBUG: In:\tOdd Numbers\tGot item:\t2\n",
      "Sections             - DEBUG: Break Status:\tScan In Progress\n",
      "Sections             - DEBUG: This is source item number: 3 in Odd Numbers\n",
      "Sections             - DEBUG: Is first item? False\n",
      "Sections             - DEBUG: end_on_first_item is  False\n",
      "Sections             - DEBUG: Checking for boundary\n",
      "Sections             - DEBUG: Checking Trigger: NeverBreak\n",
      "Sections             - DEBUG: in section_break.check\n",
      "Sections             - DEBUG: This is Odd Numbers item number: 2\n",
      "Sections             - DEBUG: In:\tOdd Numbers\tGot item:\t3\n",
      "Sections             - DEBUG: Break Status:\tScan In Progress\n",
      "Sections             - DEBUG: This is source item number: 4 in Odd Numbers\n",
      "Sections             - DEBUG: Is first item? False\n",
      "Sections             - DEBUG: end_on_first_item is  False\n",
      "Sections             - DEBUG: Checking for boundary\n",
      "Sections             - DEBUG: Checking Trigger: NeverBreak\n",
      "Sections             - DEBUG: in section_break.check\n",
      "Sections             - DEBUG: This is Odd Numbers item number: 3\n",
      "Sections             - DEBUG: In:\tOdd Numbers\tGot item:\t4\n",
      "Sections             - DEBUG: Break Status:\tScan In Progress\n",
      "Sections             - DEBUG: This is source item number: 5 in Odd Numbers\n",
      "Sections             - DEBUG: Is first item? False\n",
      "Sections             - DEBUG: end_on_first_item is  False\n",
      "Sections             - DEBUG: Checking for boundary\n",
      "Sections             - DEBUG: Checking Trigger: NeverBreak\n",
      "Sections             - DEBUG: in section_break.check\n",
      "Sections             - DEBUG: This is Odd Numbers item number: 4\n",
      "Sections             - DEBUG: In:\tOdd Numbers\tGot item:\t5\n",
      "Sections             - DEBUG: Break Status:\tScan In Progress\n",
      "Sections             - DEBUG: This is source item number: 6 in Odd Numbers\n",
      "Sections             - DEBUG: Is first item? False\n",
      "Sections             - DEBUG: end_on_first_item is  False\n",
      "Sections             - DEBUG: Checking for boundary\n",
      "Sections             - DEBUG: Checking Trigger: NeverBreak\n",
      "Sections             - DEBUG: in section_break.check\n",
      "Sections             - DEBUG: This is Odd Numbers item number: 5\n",
      "Sections             - DEBUG: In:\tOdd Numbers\tGot item:\t6\n",
      "Sections             - DEBUG: Break Status:\tScan In Progress\n",
      "Sections             - DEBUG: This is source item number: 7 in Odd Numbers\n",
      "Sections             - DEBUG: Is first item? False\n",
      "Sections             - DEBUG: end_on_first_item is  False\n",
      "Sections             - DEBUG: Checking for boundary\n",
      "Sections             - DEBUG: Checking Trigger: NeverBreak\n",
      "Sections             - DEBUG: in section_break.check\n",
      "Sections             - DEBUG: This is Odd Numbers item number: 6\n",
      "Sections             - DEBUG: In:\tOdd Numbers\tGot item:\t7\n",
      "Sections             - DEBUG: Break Status:\tScan In Progress\n",
      "Sections             - DEBUG: This is source item number: 8 in Odd Numbers\n",
      "Sections             - DEBUG: Is first item? False\n",
      "Sections             - DEBUG: end_on_first_item is  False\n",
      "Sections             - DEBUG: Checking for boundary\n",
      "Sections             - DEBUG: Checking Trigger: NeverBreak\n",
      "Sections             - DEBUG: in section_break.check\n",
      "Sections             - DEBUG: This is Odd Numbers item number: 7\n",
      "Sections             - DEBUG: In:\tOdd Numbers\tGot item:\t8\n",
      "Sections             - DEBUG: Break Status:\tScan In Progress\n",
      "Sections             - DEBUG: This is source item number: 9 in Odd Numbers\n",
      "Sections             - DEBUG: Is first item? False\n",
      "Sections             - DEBUG: end_on_first_item is  False\n",
      "Sections             - DEBUG: Checking for boundary\n",
      "Sections             - DEBUG: Checking Trigger: NeverBreak\n",
      "Sections             - DEBUG: in section_break.check\n",
      "Sections             - DEBUG: This is Odd Numbers item number: 8\n",
      "Sections             - DEBUG: In:\tOdd Numbers\tGot item:\t9\n",
      "Sections             - DEBUG: Break Status:\tScan In Progress\n",
      "Sections             - DEBUG: This is source item number: 10 in Odd Numbers\n",
      "Sections             - DEBUG: Is first item? False\n",
      "Sections             - DEBUG: end_on_first_item is  False\n",
      "Sections             - DEBUG: Checking for boundary\n",
      "Sections             - DEBUG: Checking Trigger: NeverBreak\n",
      "Sections             - DEBUG: in section_break.check\n",
      "Sections             - DEBUG: This is Odd Numbers item number: 9\n",
      "Sections             - DEBUG: Break Status:\tEnd of Source\n"
     ]
    },
    {
     "data": {
      "text/plain": [
       "[0, 1, 2, 3, 4, 5, 6, 7, 8, 9]"
      ]
     },
     "execution_count": 11,
     "metadata": {},
     "output_type": "execute_result"
    }
   ],
   "source": [
    "int_source = BufferedIterator(\n",
    "    (i for i in range(num_items)),\n",
    "    buffer_size=buffer_size)\n",
    "\n",
    "section_odd = Section(\n",
    "    section_name='Odd Numbers',\n",
    "    processor=[odd_nums]\n",
    "    )\n",
    "section_odd.read(int_source)\n"
   ]
  },
  {
   "cell_type": "code",
   "execution_count": 12,
   "metadata": {},
   "outputs": [
    {
     "name": "stdout",
     "output_type": "stream",
     "text": [
      "10 10 10\n"
     ]
    }
   ],
   "source": [
    "source_count = int_source.item_count\n",
    "source_item_count = section_odd.source_item_count\n",
    "item_count = section_odd.item_count\n",
    "print(source_count, source_item_count, item_count)\n",
    "#self.assertEqual(source_count, source_item_count)\n",
    "#self.assertEqual(source_count, item_count * 2)"
   ]
  },
  {
   "cell_type": "markdown",
   "metadata": {},
   "source": [
    "### test_before_source_initialized\n",
    "Before source initialized\n",
    "- Section.source_index is None\n",
    "- Section.source_item_count is 0\n",
    "- Section.item_count is 0\n"
   ]
  },
  {
   "cell_type": "code",
   "execution_count": null,
   "metadata": {},
   "outputs": [],
   "source": [
    "empty_section = Section(section_name='empty')\n",
    "source_index = empty_section.source_index\n",
    "source_item_count = empty_section.source_item_count\n",
    "item_count = empty_section.item_count\n",
    "self.assertIsNone(source_index)\n",
    "self.assertEqual(source_item_count, 0)\n",
    "self.assertEqual(item_count, 0)"
   ]
  },
  {
   "cell_type": "code",
   "execution_count": null,
   "metadata": {},
   "outputs": [],
   "source": [
    "\n",
    "class TestSourceTracking(unittest.TestCase):\n",
    "\n",
    "\n",
    "\n",
    "    def test_source_beginning(self):\n",
    "        '''At beginning of source\n",
    "            - Section.source_index is empty list\n",
    "            - Section.source_item_count is 0\n",
    "            - Section.item_count is 0\n",
    "        '''\n",
    "        not_started_section = Section(section_name='Not Started')\n",
    "        not_started_section.source = self.int_source\n",
    "        source_index = not_started_section.source_index\n",
    "        source_item_count = not_started_section.source_item_count\n",
    "        item_count = not_started_section.item_count\n",
    "        self.assertEqual(source_index, [0])\n",
    "        self.assertEqual(source_item_count, 0)\n",
    "        self.assertEqual(item_count, 0)\n",
    "\n",
    "    def test_1_to_1_processor(self):\n",
    "        '''1-to-1 match\n",
    "            - range(n) as source\n",
    "            - processor just returns item\n",
    "            - for each section item:\n",
    "            - source.item_count = item = section.source_item_count\n",
    "            - source.item_count = section.item_count\n",
    "        '''\n",
    "        section_1_1 = Section(section_name='1-to-1 match')\n",
    "        for item in section_1_1.process(self.int_source):\n",
    "            with self.subTest(item=item):\n",
    "                source_count = self.int_source.item_count\n",
    "                source_item_count = section_1_1.source_item_count\n",
    "                item_count = section_1_1.item_count\n",
    "                self.assertEqual(item+1, source_count)\n",
    "                self.assertEqual(source_count, source_item_count)\n",
    "                self.assertEqual(source_count, item_count)\n",
    "\n",
    "    def test_2_to_1_processor(self):\n",
    "        '''2-to-1 match\n",
    "            - `range(n)` as source\n",
    "            - processor converts 2 successive source items into tuple of\n",
    "            length 2.\n",
    "            - for each section item:\n",
    "                - item = (source.item_count-2, source.item_count-1)\n",
    "                - source.item_count = section.source_item_count\n",
    "                - source.item_count = section.item_count * 2\n",
    "        '''\n",
    "        section_1_1 = Section(section_name='1-to-1 match')\n",
    "        for item in section_1_1.process(self.int_source):\n",
    "            with self.subTest(item=item):\n",
    "                source_count = self.int_source.item_count\n",
    "                source_item_count = section_1_1.source_item_count\n",
    "                item_count = section_1_1.item_count\n",
    "                self.assertEqual(item+1, source_count)\n",
    "                self.assertEqual(source_count, source_item_count)\n",
    "                self.assertEqual(source_count, item_count)\n",
    "\n",
    "    def test_skip_first_item_count(self):\n",
    "        '''Skip First Source Item\n",
    "            - (str(i) for i in range(n)) as source\n",
    "            - start_section='1', offset='Before'\n",
    "            - processor returns int(item)\n",
    "            - for each section item:\n",
    "                - source.item_count = item\n",
    "                - source.item_count = section.source.item_count\n",
    "                - source.item_count = section.item_count\n",
    "        '''\n",
    "        section_skip_0 = Section(\n",
    "            section_name='Skipped First Source Item',\n",
    "            start_section=SectionBreak('1', break_offset='Before')\n",
    "            )\n",
    "        for item in section_skip_0.process(self.str_source):\n",
    "            with self.subTest(item=item):\n",
    "                source_count = self.str_source.item_count\n",
    "                source_item_count = section_skip_0.source_item_count\n",
    "                item_count = section_skip_0.item_count\n",
    "                self.assertEqual(int(item)+1, source_count)\n",
    "                self.assertEqual(source_count, source_item_count)\n",
    "                self.assertEqual(int(item), item_count)\n",
    "\n",
    "    def test_skip_two_item_counts(self):\n",
    "        '''Skip First 2 Source Items\n",
    "            - (str(i) for i in range(n)) as source\n",
    "            - start_section='1', offset='After'\n",
    "            - processor returns int(item)\n",
    "            - for each section item:\n",
    "                - source.item_count = item + 1\n",
    "                - source.item_count = section.source_item_count\n",
    "                - source.item_count = section.item_count + 2\n",
    "        '''\n",
    "        section_skip_2 = Section(\n",
    "            section_name='Skipped First Source Item',\n",
    "            start_section=SectionBreak('1', break_offset='After')\n",
    "            )\n",
    "        for item in section_skip_2.process(self.str_source):\n",
    "            with self.subTest(item=item):\n",
    "                source_count = self.str_source.item_count\n",
    "                source_item_count = section_skip_2.source_item_count\n",
    "                item_count = section_skip_2.item_count\n",
    "                self.assertEqual(int(item)+1, source_count)\n",
    "                self.assertEqual(source_count, source_item_count)\n",
    "                self.assertEqual(source_count, item_count + 2)\n",
    "\n",
    "    def test_do_not_count_dropped_items(self):\n",
    "        '''Don't Count Dropped Items\n",
    "            - range(n) as source\n",
    "            - processor drops even items and yields odd items\n",
    "            - for each section item:\n",
    "                - item + 1 = source.item_count\n",
    "                - source.item_count = section.source_item_count\n",
    "                - source.item_count = section.item_count * 2\n",
    "        '''\n",
    "        section_odd = Section(\n",
    "            section_name='Odd Numbers',\n",
    "            processor=[odd_nums]\n",
    "            )\n",
    "        for item in section_odd.process(self.int_source):\n",
    "            with self.subTest(item=item):\n",
    "                source_count = self.int_source.item_count\n",
    "                source_item_count = section_odd.source_item_count\n",
    "                item_count = section_odd.item_count\n",
    "                self.assertEqual(item+1, source_count)\n",
    "                self.assertEqual(source_count, source_item_count)\n",
    "                self.assertEqual(source_count, item_count * 2)\n",
    "\n",
    "\n",
    "\n",
    "    def test_completed_section_partial_source_item_count(self):\n",
    "        '''Partial Source Completed Section\n",
    "            - (str(i) for i in range(n)) as source\n",
    "            - Random start_section and end_section\n",
    "            - after section.read(source):\n",
    "                - source.item_count = section.source_item_count\n",
    "                - source.item_count = end_num\n",
    "                - section.item_count = end_num - start_num\n",
    "        '''\n",
    "        start_num = random.randint(1, self.num_items-2)\n",
    "        end_num = random.randint(start_num + 1, self.num_items)\n",
    "        part_section = Section(\n",
    "            section_name='Partial Source Section',\n",
    "            start_section=str(start_num),\n",
    "            end_section=str(end_num)\n",
    "            )\n",
    "        part_section.read(self.str_source)\n",
    "        source_count = self.str_source.item_count\n",
    "        source_item_count = part_section.source_item_count\n",
    "        item_count = part_section.item_count\n",
    "        self.assertEqual(source_count, source_item_count)\n",
    "        self.assertEqual(source_count, end_num)\n",
    "        self.assertEqual(item_count, end_num-start_num)\n",
    "\n",
    "    def test_completed_section_partial_source_with_end_before_item_count(self):\n",
    "        '''Completed Section With End Before\n",
    "            - `(str(i) for i in range(n))` as source\n",
    "            - end_section='2', offset='Before'\n",
    "            - after section.read(source):\n",
    "                - source.item_count = section.source_item_count\n",
    "                - source.item_count = section.item_count = 2\n",
    "        '''\n",
    "        section_end_before = Section(\n",
    "            section_name='End Before',\n",
    "            end_section=SectionBreak('2', break_offset='Before')\n",
    "            )\n",
    "\n",
    "        item_list = section_end_before.read(self.str_source)\n",
    "        source_count = self.str_source.item_count\n",
    "        source_item_count = section_end_before.source_item_count\n",
    "        item_count = section_end_before.item_count\n",
    "\n",
    "        self.assertEqual(source_count, 2)\n",
    "        self.assertEqual(source_item_count, 2)\n",
    "        self.assertEqual(item_count, 2)\n",
    "        self.assertEqual(item_list, ['0', '1'])\n",
    "\n",
    "    def test_completed_section_partial_source_with_end_after_item_count(self):\n",
    "        '''Completed Section With End After\n",
    "            - `(str(i) for i in range(n))` as source\n",
    "            - end_section='2', offset='After'\n",
    "            - after section.read(source):\n",
    "                - source.item_count = section.source_item_count\n",
    "                - source.item_count = section.item_count = 3\n",
    "        '''\n",
    "        section_end_before = Section(\n",
    "            section_name='End Before',\n",
    "            end_section=SectionBreak('2', break_offset='After')\n",
    "            )\n",
    "\n",
    "        item_list = section_end_before.read(self.str_source)\n",
    "        source_count = self.str_source.item_count\n",
    "        source_item_count = section_end_before.source_item_count\n",
    "        item_count = section_end_before.item_count\n",
    "\n",
    "        self.assertEqual(source_count, 3)\n",
    "        self.assertEqual(source_item_count, 3)\n",
    "        self.assertEqual(item_count, 3)\n",
    "        self.assertEqual(item_list, ['0', '1', '2'])\n",
    "\n",
    "\n",
    "if __name__ == '__main__':\n",
    "    unittest.main()\n"
   ]
  }
 ],
 "metadata": {
  "kernelspec": {
   "display_name": "Python 3.8.12 ('sectionaryDev')",
   "language": "python",
   "name": "python3"
  },
  "language_info": {
   "codemirror_mode": {
    "name": "ipython",
    "version": 3
   },
   "file_extension": ".py",
   "mimetype": "text/x-python",
   "name": "python",
   "nbconvert_exporter": "python",
   "pygments_lexer": "ipython3",
   "version": "3.8.12"
  },
  "orig_nbformat": 4,
  "vscode": {
   "interpreter": {
    "hash": "890849be4bb9b5be1d044afe42e602ccc6ca20da23c054ee97c8186ec3939c45"
   }
  }
 },
 "nbformat": 4,
 "nbformat_minor": 2
}
