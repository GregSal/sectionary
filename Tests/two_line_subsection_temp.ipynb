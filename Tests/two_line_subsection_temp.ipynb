{
 "cells": [
  {
   "cell_type": "markdown",
   "metadata": {},
   "source": [
    "# Subsections Issue"
   ]
  },
  {
   "cell_type": "markdown",
   "metadata": {},
   "source": [
    "## Setup"
   ]
  },
  {
   "cell_type": "markdown",
   "metadata": {},
   "source": [
    "### Imports"
   ]
  },
  {
   "cell_type": "code",
   "execution_count": 1,
   "metadata": {},
   "outputs": [],
   "source": [
    "from typing import List\n",
    "from pathlib import Path\n",
    "from pprint import pprint\n",
    "import re\n",
    "import sys\n",
    "\n",
    "import pandas as pd\n",
    "import xlwings as xw\n",
    "\n",
    "from buffered_iterator import BufferedIterator\n",
    "import text_reader as tp\n",
    "from sections import Rule, RuleSet, SectionBreak, ProcessingMethods, Section"
   ]
  },
  {
   "cell_type": "markdown",
   "metadata": {},
   "source": [
    "### Function to compare context for two sections."
   ]
  },
  {
   "cell_type": "code",
   "execution_count": 3,
   "metadata": {},
   "outputs": [],
   "source": [
    "def compare_context(section1, section2):\n",
    "    ctx_template = '{key:16s}:\\t{item1:16s}\\t{item2:16s}'\n",
    "    context_1 = section1.context\n",
    "    context_2 = section2.context\n",
    "    keys_1 = set(context_1.keys())\n",
    "    keys_2 = set(context_2.keys())\n",
    "    all_keys = keys_1 | keys_2\n",
    "    for key in all_keys:\n",
    "        item1 = context_1.get(key, '')\n",
    "        item2 = context_2.get(key, '')\n",
    "        ctx_str = ctx_template.format(key=str(key), item1=str(item1), item2=str(item2))\n",
    "        print(ctx_str)"
   ]
  },
  {
   "cell_type": "markdown",
   "metadata": {},
   "source": [
    "# Simple sections experimenting with start and end settings"
   ]
  },
  {
   "cell_type": "markdown",
   "metadata": {},
   "source": [
    "### Defining a Top Section that calls two single line subsections."
   ]
  },
  {
   "cell_type": "markdown",
   "metadata": {},
   "source": [
    "#### Two Subsection definitions "
   ]
  },
  {
   "cell_type": "code",
   "execution_count": 27,
   "metadata": {},
   "outputs": [],
   "source": [
    "start_sub_section = Section(\n",
    "    section_name='StartSubSection',\n",
    "    start_section=SectionBreak('StartSection', break_offset='Before'),\n",
    "    end_section=SectionBreak(True, break_offset='Before')\n",
    "    )\n",
    "\n",
    "end_sub_section = Section(\n",
    "    section_name='EndSubSection',\n",
    "    start_section=SectionBreak('EndSection', break_offset='Before'),\n",
    "    end_section=SectionBreak(True, break_offset='Before')\n",
    "    )"
   ]
  },
  {
   "cell_type": "markdown",
   "metadata": {},
   "source": [
    "#### Including unwanted text in between the start and end of subsection C"
   ]
  },
  {
   "cell_type": "code",
   "execution_count": 29,
   "metadata": {},
   "outputs": [
    {
     "name": "stdout",
     "output_type": "stream",
     "text": [
      "[[['StartSection A'], ['EndSection A']], [['StartSection B'], ['EndSection B']]]\n"
     ]
    }
   ],
   "source": [
    "GENERIC_TEST_TEXT1 = [\n",
    "    'Text to be ignored',\n",
    "    'StartSection A',\n",
    "    'EndSection A',\n",
    "    'StartSection B',\n",
    "    'EndSection B',\n",
    "    'StartSection C',\n",
    "    'More text to be ignored',   # 'ignored' triggers end of top section\n",
    "    'EndSection C',\n",
    "    'Even more text to be ignored', \n",
    "    ]\n",
    "\n"
   ]
  },
  {
   "cell_type": "markdown",
   "metadata": {},
   "source": [
    "#### Setting `keep_partial=True`"
   ]
  },
  {
   "cell_type": "code",
   "execution_count": 80,
   "metadata": {},
   "outputs": [
    {
     "name": "stdout",
     "output_type": "stream",
     "text": [
      "[[['StartSection Name: A'], ['EndSection Name: A']],\n",
      " [['StartSection Name: B'], []]]\n"
     ]
    }
   ],
   "source": [
    "top_section = Section(\n",
    "    section_name='Top Section',\n",
    "    end_section=SectionBreak('ignored', break_offset='Before'),\n",
    "    subsections=[start_sub_section, end_sub_section],\n",
    "    keep_partial=True\n",
    "    )\n",
    "\n",
    "pprint(top_section.read(GENERIC_TEST_TEXT1))"
   ]
  },
  {
   "cell_type": "markdown",
   "metadata": {},
   "source": [
    "![Bad](../examples/error.png) Expecting `['StartSection C']`, \n",
    "but not the following empty list.\n",
    "- That may not be a bad thing.\n",
    "- Just need to understand why it happens\n",
    "\n",
    "<table>\n",
    "    <thead><th>Expected</th><th>Actual</th></thead>\n",
    "    <tr>\n",
    "        <td><code>\n",
    "          [<br>\n",
    "            [['StartSection A'], ['EndSection A']],<br>\n",
    "            [['StartSection B'], ['EndSection B']]<br>\n",
    "            [['StartSection C']]<br>\n",
    "          ]\n",
    "        </code></td>\n",
    "        <td><code>\n",
    "          [<br>\n",
    "            [['StartSection A'], ['EndSection A']],<br>\n",
    "            [['StartSection B'], ['EndSection B']]<br>\n",
    "            [['StartSection C'], []]<br>\n",
    "          ]\n",
    "        </code></td></tr>\n",
    "</table>"
   ]
  },
  {
   "cell_type": "markdown",
   "metadata": {},
   "source": [
    "#### Dropping the corresponding *EndSection* for a *StartSection*."
   ]
  },
  {
   "cell_type": "code",
   "execution_count": 34,
   "metadata": {},
   "outputs": [],
   "source": [
    "GENERIC_TEST_TEXT2 = [\n",
    "    'Text to be ignored',\n",
    "    'StartSection A',\n",
    "    'EndSection A',\n",
    "    'StartSection B',  # Missing 'EndSection B',\n",
    "    \n",
    "    'StartSection C',\n",
    "    'More text to be ignored',   # 'ignored' triggers end of top section\n",
    "    'EndSection C',\n",
    "    'Even more text to be ignored', \n",
    "    ]\n",
    "\n",
    "top_section = Section(\n",
    "    section_name='Top Section',\n",
    "    end_section=SectionBreak('ignored', break_offset='Before'),\n",
    "    subsections=[start_sub_section, end_sub_section],\n",
    "    keep_partial=True\n",
    "    )\n",
    "\n",
    "pprint(top_section.read(GENERIC_TEST_TEXT2))"
   ]
  },
  {
   "cell_type": "markdown",
   "metadata": {},
   "source": [
    "![Bad](../examples/error.png) Expecting `['StartSection B']`, \n",
    "but not the following empty list.\n",
    "- 3rd section group never starts because **ignored** *Top Section* break line \n",
    "  occurs before next **EndSection**, so 2nd never finishes.\n",
    "\n",
    "<table>\n",
    "    <thead><th>Expected</th><th>Actual</th></thead>\n",
    "    <tr>\n",
    "        <td><code>\n",
    "          [<br>\n",
    "            [['StartSection A'], ['EndSection A']],<br>\n",
    "            [['StartSection B']]<br>\n",
    "          ]\n",
    "        </code></td>\n",
    "        <td><code>\n",
    "          [<br>\n",
    "            [['StartSection A'], ['EndSection A']],<br>\n",
    "            [['StartSection B'], []]<br>\n",
    "          ]\n",
    "        </code></td></tr>\n",
    "</table>"
   ]
  },
  {
   "cell_type": "markdown",
   "metadata": {},
   "source": [
    "**********\n",
    "\n",
    "# Section Break options"
   ]
  },
  {
   "cell_type": "markdown",
   "metadata": {},
   "source": [
    "## Three line sections"
   ]
  },
  {
   "cell_type": "code",
   "execution_count": 44,
   "metadata": {},
   "outputs": [],
   "source": [
    "GENERIC_TEST_TEXT2 = [\n",
    "    'Text to be ignored',\n",
    "    'StartSection A',\n",
    "    'MiddleSection A',\n",
    "    'EndSection A',\n",
    "    'Unwanted text between sections',\n",
    "    'StartSection B',\n",
    "    'MiddleSection B',\n",
    "    'EndSection B',\n",
    "    'StartSection C',\n",
    "    'MiddleSection C',\n",
    "    'EndSection C',\n",
    "    'Even more text to be ignored', \n",
    "    ]"
   ]
  },
  {
   "cell_type": "markdown",
   "metadata": {},
   "source": [
    "### Add start to Section Definition"
   ]
  },
  {
   "cell_type": "markdown",
   "metadata": {},
   "source": [
    "- Section start **Before** *StartSection*\n",
    "\n",
    "`start_section=SectionBreak('StartSection', break_offset='Before'),`"
   ]
  },
  {
   "cell_type": "code",
   "execution_count": 46,
   "metadata": {},
   "outputs": [
    {
     "name": "stdout",
     "output_type": "stream",
     "text": [
      "[['StartSection A',\n",
      "  'MiddleSection A',\n",
      "  'EndSection A',\n",
      "  'Unwanted text between sections',\n",
      "  'StartSection B',\n",
      "  'MiddleSection B',\n",
      "  'EndSection B',\n",
      "  'StartSection C',\n",
      "  'MiddleSection C',\n",
      "  'EndSection C',\n",
      "  'Even more text to be ignored']]\n"
     ]
    }
   ],
   "source": [
    "sub_section = Section(\n",
    "    section_name='SubSection',\n",
    "    #start_section=SectionBreak('StartSection', break_offset='Before'),\n",
    "    #end_section=SectionBreak('EndSection', break_offset='After'),\n",
    "    #end_section=SectionBreak(True)\n",
    "    #end_on_first_item=True\n",
    "    )\n",
    "\n",
    "full_section = Section(\n",
    "    section_name='Full',\n",
    "    start_section=SectionBreak('StartSection', break_offset='Before'),\n",
    "    #end_section=SectionBreak('EndSection', break_offset='After'),\n",
    "    #end_on_first_item=True,\n",
    "    subsections=sub_section\n",
    "    )\n",
    "pprint(full_section.read(GENERIC_TEST_TEXT2))"
   ]
  },
  {
   "cell_type": "markdown",
   "metadata": {},
   "source": [
    "- ![Good](../examples/Valid.png) Includes all lines after first *StartSection* in single sub-list.\n",
    "\n",
    "<table><thead><th>Expected</th><th>Actual</th></thead>\n",
    "<tr>\n",
    "  <td><code>\n",
    "    [<br>\n",
    "      ['StartSection A',<br>\n",
    "       'MiddleSection A',<br>\n",
    "       'EndSection A',<br>\n",
    "       'Unwanted text between sections',<br>\n",
    "       'StartSection B',<br>\n",
    "       'MiddleSection B',<br>\n",
    "       'EndSection B',<br>\n",
    "       'StartSection C',<br>\n",
    "       'MiddleSection C',<br>\n",
    "       'EndSection C',<br>\n",
    "       'Even more text to be ignored']<br>\n",
    "    ]</code></td>\n",
    "  <td><code>\n",
    "    [<br>\n",
    "      ['StartSection A',<br>\n",
    "       'MiddleSection A',<br>\n",
    "       'EndSection A',<br>\n",
    "       'Unwanted text between sections',<br>\n",
    "       'StartSection B',<br>\n",
    "       'MiddleSection B',<br>\n",
    "       'EndSection B',<br>\n",
    "       'StartSection C',<br>\n",
    "       'MiddleSection C',<br>\n",
    "       'EndSection C',<br>\n",
    "       'Even more text to be ignored']<br>\n",
    "    ]</code></td>\n",
    "</table>\n",
    "\n"
   ]
  },
  {
   "cell_type": "markdown",
   "metadata": {},
   "source": [
    "### Add end to Section Definition"
   ]
  },
  {
   "cell_type": "markdown",
   "metadata": {},
   "source": [
    "- Section start **Before** *StartSection*\n",
    "- Section end **After** *EndSection*\n",
    "\n",
    "```python\n",
    "full_section = Section(section_name='Full',\n",
    "    start_section=SectionBreak('StartSection', break_offset='Before'),\n",
    "    end_section=SectionBreak('EndSection', break_offset='After'),\n",
    "    subsections=sub_section \n",
    "    )\n",
    "```"
   ]
  },
  {
   "cell_type": "code",
   "execution_count": 47,
   "metadata": {},
   "outputs": [
    {
     "name": "stdout",
     "output_type": "stream",
     "text": [
      "[['StartSection A', 'MiddleSection A', 'EndSection A']]\n",
      "[['StartSection B', 'MiddleSection B', 'EndSection B']]\n",
      "[['StartSection C', 'MiddleSection C', 'EndSection C']]\n",
      "[]\n"
     ]
    }
   ],
   "source": [
    "sub_section = Section(\n",
    "    section_name='SubSection',\n",
    "    #start_section=SectionBreak('StartSection', break_offset='Before'),\n",
    "    #end_section=SectionBreak('EndSection', break_offset='After'),\n",
    "    #end_section=SectionBreak(True)\n",
    "    #end_on_first_item=True\n",
    "    )\n",
    "\n",
    "full_section = Section(\n",
    "    section_name='Full',\n",
    "    start_section=SectionBreak('StartSection', break_offset='Before'),\n",
    "    end_section=SectionBreak('EndSection', break_offset='After'),\n",
    "    #end_on_first_item=True,    \n",
    "    subsections=sub_section\n",
    "    )\n",
    "\n",
    "test_iter = BufferedIterator(GENERIC_TEST_TEXT2)\n",
    "pprint(full_section.read(test_iter))\n",
    "pprint(full_section.read(test_iter))\n",
    "pprint(full_section.read(test_iter))\n",
    "pprint(full_section.read(test_iter))"
   ]
  },
  {
   "cell_type": "markdown",
   "metadata": {},
   "source": [
    "- ![Good](../examples/Valid.png) Includes all three lines of first section in single sub-list.\n",
    "- skips the *'Unwanted text between sections'* line.\n",
    "\n",
    "<table><thead><th>Expected</th><th>Actual</th></thead>\n",
    "<tr>\n",
    "  <td><code>\n",
    "    [<br>\n",
    "      ['StartSection A',<br>\n",
    "       'MiddleSection A',<br>\n",
    "       'EndSection A']<br>\n",
    "    ]</code></td>\n",
    "  <td><code>\n",
    "    [<br>\n",
    "      ['StartSection A',<br>\n",
    "       'MiddleSection A',<br>\n",
    "       'EndSection A']<br>\n",
    "    ]</code></td>\n",
    "</tr>\n",
    "<tr>\n",
    "  <td><code>\n",
    "    [<br>\n",
    "      ['StartSection B',<br>\n",
    "       'MiddleSection B',<br>\n",
    "       'EndSection B']<br>\n",
    "    ]</code></td>\n",
    "  <td><code>\n",
    "    [<br>\n",
    "      ['StartSection B',<br>\n",
    "       'MiddleSection B',<br>\n",
    "       'EndSection B']<br>\n",
    "    ]</code></td>\n",
    "</tr>\n",
    "<tr>\n",
    "  <td><code>\n",
    "    [<br>\n",
    "      ['StartSection C',<br>\n",
    "       'MiddleSection C',<br>\n",
    "       'EndSection C']<br>\n",
    "    ]</code></td>\n",
    "  <td><code>\n",
    "    [<br>\n",
    "      ['StartSection C',<br>\n",
    "       'MiddleSection C',<br>\n",
    "       'EndSection C']<br>\n",
    "    ]</code></td>\n",
    "</tr>\n",
    "<tr><td><code>[]</code></td><td><code>[]</code></td></tr>\n",
    "</table>\n",
    "\n"
   ]
  },
  {
   "cell_type": "markdown",
   "metadata": {},
   "source": [
    "### Define Muti-Section to Read Both Sections"
   ]
  },
  {
   "cell_type": "markdown",
   "metadata": {},
   "source": [
    "Add end to Section Definition\n",
    "- Section start **Before** *StartSection*\n",
    "- Section end **After** *EndSection*\n",
    "- Simple subsection\n",
    "- Multi Section defines Full Section as Sub Section with no start or end (All lines)\n",
    "\n",
    "```python\n",
    "sub_section = Section(section_name='SubSection')\n",
    "\n",
    "full_section = Section(section_name='Full',\n",
    "    start_section=SectionBreak('StartSection', break_offset='Before'),\n",
    "    end_section=SectionBreak('EndSection', break_offset='After'),\n",
    "    subsections=sub_section \n",
    "    )\n",
    "\n",
    "multi_section = Section(\n",
    "    section_name='Multi',\n",
    "    subsections=full_section \n",
    "    )\n",
    "```"
   ]
  },
  {
   "cell_type": "code",
   "execution_count": 48,
   "metadata": {},
   "outputs": [
    {
     "name": "stdout",
     "output_type": "stream",
     "text": [
      "[[['StartSection A', 'MiddleSection A', 'EndSection A']],\n",
      " [['StartSection B', 'MiddleSection B', 'EndSection B']],\n",
      " [['StartSection C', 'MiddleSection C', 'EndSection C']]]\n"
     ]
    }
   ],
   "source": [
    "sub_section = Section(\n",
    "    section_name='SubSection',\n",
    "    #start_section=SectionBreak('StartSection', break_offset='Before'),\n",
    "    #end_section=SectionBreak('EndSection', break_offset='After'),\n",
    "    #end_section=SectionBreak(True)\n",
    "    #end_on_first_item=True\n",
    "    )\n",
    "\n",
    "full_section = Section(\n",
    "    section_name='Full',\n",
    "    start_section=SectionBreak('StartSection', break_offset='Before'),\n",
    "    end_section=SectionBreak('EndSection', break_offset='After'),\n",
    "    subsections=sub_section,\n",
    "    #end_on_first_item=True\n",
    "    )\n",
    "\n",
    "multi_section = Section(\n",
    "    section_name='Multi',\n",
    "    subsections=full_section\n",
    "    #end_on_first_item=True\n",
    "    )\n",
    "\n",
    "pprint(multi_section.read(GENERIC_TEST_TEXT2))"
   ]
  },
  {
   "cell_type": "markdown",
   "metadata": {},
   "source": [
    "- ![Good](../examples/Valid.png)Includes all three lines of each section in its own sub-list.\n",
    "- Skips the *'Unwanted text between sections'* line.\n",
    "\n",
    "<table><thead><th>Expected</th><th>Actual</th></thead>\n",
    "<tr>\n",
    "  <td><code>\n",
    "    [<br>\n",
    "      [['StartSection A',<br>\n",
    "        'MiddleSection A',<br>\n",
    "        'EndSection A']],<br>\n",
    "      [['StartSection Name: B',<br>\n",
    "        'MiddleSection B',<br>\n",
    "        'EndSection Name: B']]<br>\n",
    "      [['StartSection Name: C',<br>\n",
    "        'MiddleSection C',<br>\n",
    "        'EndSection Name: C']]<br>\n",
    "    ]</code></td>    \n",
    "  <td><code>\n",
    "    [<br>\n",
    "      [['StartSection A',<br>\n",
    "        'MiddleSection A',<br>\n",
    "        'EndSection A']],<br>\n",
    "      [['StartSection Name: B',<br>\n",
    "        'MiddleSection B',<br>\n",
    "        'EndSection Name: B']]<br>\n",
    "      [['StartSection Name: C',<br>\n",
    "        'MiddleSection C',<br>\n",
    "        'EndSection Name: C']]<br>\n",
    "    ]</code></td></tr>\n",
    "</table>"
   ]
  },
  {
   "cell_type": "markdown",
   "metadata": {},
   "source": [
    "### Set Same Start and End Breaks for Section"
   ]
  },
  {
   "cell_type": "markdown",
   "metadata": {},
   "source": [
    "Add end to Section Definition\n",
    "- Section start **Before** *StartSection*\n",
    "- Section end **Before** *StartSection*\n",
    "- Simple subsection\n",
    "- Multi Section defines Full Section as Sub Section with no start or end (All lines)\n",
    "\n",
    "```python\n",
    "sub_section = Section(section_name='SubSection')\n",
    "\n",
    "full_section = Section(section_name='Full',\n",
    "    start_section=SectionBreak('StartSection', break_offset='Before'),\n",
    "    end_section=SectionBreak('StartSection', break_offset='Before'),\n",
    "    subsections=sub_section \n",
    "    )\n",
    "\n",
    "multi_section = Section(\n",
    "    section_name='Multi',\n",
    "    subsections=full_section \n",
    "    )\n",
    "```"
   ]
  },
  {
   "cell_type": "code",
   "execution_count": 49,
   "metadata": {},
   "outputs": [
    {
     "name": "stdout",
     "output_type": "stream",
     "text": [
      "[[['StartSection A',\n",
      "   'MiddleSection A',\n",
      "   'EndSection A',\n",
      "   'Unwanted text between sections']],\n",
      " [['StartSection B', 'MiddleSection B', 'EndSection B']],\n",
      " [['StartSection C',\n",
      "   'MiddleSection C',\n",
      "   'EndSection C',\n",
      "   'Even more text to be ignored']]]\n"
     ]
    }
   ],
   "source": [
    "sub_section = Section(\n",
    "    section_name='SubSection',\n",
    "    #start_section=SectionBreak('StartSection', break_offset='Before'),\n",
    "    #end_section=SectionBreak('EndSection', break_offset='After'),\n",
    "    #end_section=SectionBreak(True)\n",
    "    #end_on_first_item=True\n",
    "    )\n",
    "full_section = Section(\n",
    "    section_name='Full',\n",
    "    start_section=SectionBreak('StartSection', break_offset='Before'),\n",
    "    end_section=SectionBreak('StartSection', break_offset='Before'),\n",
    "    subsections=sub_section,\n",
    "    #end_on_first_item=True\n",
    "    )\n",
    "\n",
    "multi_section = Section(section_name='Multi',\n",
    "    subsections=full_section,\n",
    "    #end_on_first_item=True\n",
    "    )\n",
    "\n",
    "pprint(multi_section.read(GENERIC_TEST_TEXT2))"
   ]
  },
  {
   "cell_type": "markdown",
   "metadata": {},
   "source": [
    "- ![Good](../examples/Valid.png) Includes *'Unwanted text between sections'* and\n",
    "  *'Even more text to be ignored'*.\n",
    "- Includes *'Unwanted text between sections'* because the end of section A is \n",
    "  triggered by *'StartSection B'*. \n",
    "- Includes *'Even more text to be ignored'* because there are no more \n",
    "  *'StartSection'* lines to trigger an `end_section` break.\n",
    "\n",
    "<table><thead><th>Expected</th><th>Actual</th></thead>\n",
    "<tr>\n",
    "  <td><code>\n",
    "    [<br>\n",
    "      [['StartSection A',<br>\n",
    "        'MiddleSection A',<br>\n",
    "        'EndSection A',<br>\n",
    "        'Unwanted text between sections']],<br>\n",
    "      [['StartSection B',<br>\n",
    "        'MiddleSection B',<br>\n",
    "        'EndSection B']],<br>\n",
    "      [['StartSection C',<br>\n",
    "        'MiddleSection C',<br>\n",
    "        'EndSection C',<br>\n",
    "        'Even more text to be ignored']]<br>\n",
    "    ]</code></td>\n",
    "  <td><code>\n",
    "    [<br>\n",
    "      [['StartSection A',<br>\n",
    "        'MiddleSection A',<br>\n",
    "        'EndSection A',<br>\n",
    "        'Unwanted text between sections']],<br>\n",
    "      [['StartSection B',<br>\n",
    "        'MiddleSection B',<br>\n",
    "        'EndSection B']],<br>\n",
    "      [['StartSection C',<br>\n",
    "        'MiddleSection C',<br>\n",
    "        'EndSection C',<br>\n",
    "        'Even more text to be ignored']]<br>\n",
    "    ]</code></td>\n",
    "  </tr>\n",
    "</table>"
   ]
  },
  {
   "cell_type": "markdown",
   "metadata": {},
   "source": [
    "### Add `end_on_first_item=True` to Section"
   ]
  },
  {
   "cell_type": "markdown",
   "metadata": {},
   "source": [
    "Add end to Section Definition\n",
    "- Section start **Before** *StartSection*\n",
    "- Section end **After** *StartSection*\n",
    "- Simple subsection\n",
    "\n",
    "```python\n",
    "sub_section = Section(section_name='SubSection')\n",
    "\n",
    "full_section = Section(section_name='Full',\n",
    "    start_section=SectionBreak('StartSection', break_offset='Before'),\n",
    "    end_section=SectionBreak('StartSection', break_offset='Before'),\n",
    "    end_on_first_item=True,\n",
    "    subsections=sub_section \n",
    "    )\n",
    "```"
   ]
  },
  {
   "cell_type": "code",
   "execution_count": 50,
   "metadata": {},
   "outputs": [
    {
     "name": "stdout",
     "output_type": "stream",
     "text": [
      "[]\n",
      "[]\n",
      "[]\n",
      "[]\n"
     ]
    }
   ],
   "source": [
    "sub_section = Section(\n",
    "    section_name='SubSection',\n",
    "    #start_section=SectionBreak('StartSection', break_offset='Before'),\n",
    "    #end_section=SectionBreak('EndSection', break_offset='After'),\n",
    "    #end_section=SectionBreak(True)\n",
    "    #end_on_first_item=True\n",
    "    )\n",
    "full_section = Section(\n",
    "    section_name='Full',\n",
    "    start_section=SectionBreak('StartSection', break_offset='Before'),\n",
    "    end_section=SectionBreak('StartSection', break_offset='Before'),\n",
    "    end_on_first_item=True,\n",
    "    subsections=sub_section\n",
    "    )\n",
    "\n",
    "test_iter = BufferedIterator(GENERIC_TEST_TEXT2)\n",
    "pprint(full_section.read(test_iter))\n",
    "pprint(full_section.read(test_iter))\n",
    "\n",
    "test_iter = iter(GENERIC_TEST_TEXT2)\n",
    "pprint(full_section.read(test_iter))\n",
    "pprint(full_section.read(test_iter))"
   ]
  },
  {
   "cell_type": "markdown",
   "metadata": {},
   "source": [
    "- ![Good](../examples/Valid.png) Results in empty list because it both starts \n",
    "  and ends on first *'StartSection'*.\n",
    "\n",
    "|Expected|Actual|\n",
    "|-|-|\n",
    "|[]|[]|"
   ]
  },
  {
   "cell_type": "markdown",
   "metadata": {},
   "source": [
    "### <span style=\"color: red; font-weight: Bold\">Endless loop with `multi_section`</span>"
   ]
  },
  {
   "cell_type": "markdown",
   "metadata": {},
   "source": [
    "<span style=\"color: red; font-weight: Bold; font-variant: small-caps\">\n",
    "Do Not Try This\n",
    "</span>\n",
    "\n",
    "- Use `multi_section` to read multiple empty sections\n",
    "```python\n",
    "sub_section = Section(section_name='SubSection')\n",
    "\n",
    "full_section = Section(section_name='Full',\n",
    "    start_section=SectionBreak('StartSection', break_offset='Before'),\n",
    "    end_section=SectionBreak('StartSection', break_offset='Before'),\n",
    "    end_on_first_item=True,\n",
    "    subsections=sub_section \n",
    "    )\n",
    "multi_section = Section(section_name='Multi',\n",
    "    subsections=full_section\n",
    "    )\n",
    "```\n",
    "\n",
    "- `full_section` both starts and ends on first *'StartSection'*.\n",
    "- No progress is made in in iterating through the source.\n",
    "- Trying to read multiple sections will result in an endless loop."
   ]
  },
  {
   "cell_type": "markdown",
   "metadata": {},
   "source": [
    "**********\n",
    "\n",
    "## SubSection Break Options\n",
    "- Section break checks start with the top most section\n",
    "- The section level containing the break will affect the way the list are nested."
   ]
  },
  {
   "cell_type": "markdown",
   "metadata": {},
   "source": [
    "### Add `start_section` to *sub_section* and remove it from *full_section*\n",
    "\n",
    "- SubSection start **Before** *StartSection*\n",
    "- Section end **After** *EndSection*\n",
    "\n",
    "\n",
    "```python\n",
    "sub_section = Section(section_name='SubSection',\n",
    "    start_section=SectionBreak('StartSection', break_offset='Before')\n",
    "    )\n",
    "\n",
    "full_section = Section(section_name='Full',\n",
    "    end_section=SectionBreak('EndSection', break_offset='After'),\n",
    "    subsections=sub_section \n",
    "    )\n",
    "\n",
    "multi_section = Section(section_name='Multi',\n",
    "    subsections=full_section\n",
    "    )\n",
    "```"
   ]
  },
  {
   "cell_type": "code",
   "execution_count": 51,
   "metadata": {},
   "outputs": [],
   "source": [
    "sub_section = Section(\n",
    "    section_name='SubSection',\n",
    "    start_section=SectionBreak('StartSection', break_offset='Before'),\n",
    "    #end_section=SectionBreak('EndSection', break_offset='After'),\n",
    "    #end_section=SectionBreak(True)\n",
    "    #end_on_first_item=True\n",
    "    )\n",
    "full_section = Section(\n",
    "    section_name='Full',\n",
    "    #start_section=SectionBreak('StartSection', break_offset='Before'),\n",
    "    end_section=SectionBreak('EndSection', break_offset='After'),\n",
    "    subsections=sub_section,\n",
    "    #end_on_first_item=True\n",
    "    )\n",
    "\n",
    "multi_section = Section(section_name='Multi',\n",
    "    subsections=full_section,\n",
    "    #end_on_first_item=True\n",
    "    )"
   ]
  },
  {
   "cell_type": "code",
   "execution_count": 52,
   "metadata": {},
   "outputs": [
    {
     "name": "stdout",
     "output_type": "stream",
     "text": [
      "[[['StartSection A', 'MiddleSection A', 'EndSection A']],\n",
      " [['StartSection B', 'MiddleSection B', 'EndSection B']],\n",
      " [['StartSection C', 'MiddleSection C', 'EndSection C']]]\n"
     ]
    }
   ],
   "source": [
    "pprint(multi_section.read(GENERIC_TEST_TEXT2))"
   ]
  },
  {
   "cell_type": "markdown",
   "metadata": {},
   "source": [
    "- ![Good](../examples/Valid.png) behaves the same way as when `start_section` \n",
    " was defined in *full_section*.\n",
    "\n",
    "<table><thead><th>Expected</th><th>Actual</th></thead>\n",
    "<tr>\n",
    "  <td><code>\n",
    "    [<br>\n",
    "      [['StartSection A',<br>\n",
    "        'MiddleSection A',<br>\n",
    "        'EndSection A']],<br>\n",
    "      [['StartSection Name: B',<br>\n",
    "        'MiddleSection B',<br>\n",
    "        'EndSection Name: B']]<br>\n",
    "      [['StartSection Name: C',<br>\n",
    "        'MiddleSection C',<br>\n",
    "        'EndSection Name: C']]<br>\n",
    "    ]</code></td>    \n",
    "  <td><code>\n",
    "    [<br>\n",
    "      [['StartSection A',<br>\n",
    "        'MiddleSection A',<br>\n",
    "        'EndSection A']],<br>\n",
    "      [['StartSection Name: B',<br>\n",
    "        'MiddleSection B',<br>\n",
    "        'EndSection Name: B']]<br>\n",
    "      [['StartSection Name: C',<br>\n",
    "        'MiddleSection C',<br>\n",
    "        'EndSection Name: C']]<br>\n",
    "    ]</code></td></tr>\n",
    "</table>"
   ]
  },
  {
   "cell_type": "markdown",
   "metadata": {},
   "source": [
    "### Add `end_section` to *sub_section* and remove it from *full_section*\n",
    "\n",
    "- SubSection end **After** *EndSection*\n",
    "- Section start **Before** *StartSection*\n",
    "\n",
    "```python\n",
    "sub_section = Section(section_name='SubSection',\n",
    "    end_section=SectionBreak('EndSection', break_offset='After'),\n",
    "    )\n",
    "\n",
    "full_section = Section(section_name='Full',\n",
    "    start_section=SectionBreak('StartSection', break_offset='Before')\n",
    "    subsections=sub_section \n",
    "    )\n",
    "\n",
    "multi_section = Section(section_name='Multi',\n",
    "    subsections=full_section\n",
    "    )\n",
    "```"
   ]
  },
  {
   "cell_type": "code",
   "execution_count": 53,
   "metadata": {},
   "outputs": [
    {
     "name": "stdout",
     "output_type": "stream",
     "text": [
      "[[['StartSection A', 'MiddleSection A', 'EndSection A'],\n",
      "  ['Unwanted text between sections',\n",
      "   'StartSection B',\n",
      "   'MiddleSection B',\n",
      "   'EndSection B'],\n",
      "  ['StartSection C', 'MiddleSection C', 'EndSection C'],\n",
      "  ['Even more text to be ignored']]]\n"
     ]
    }
   ],
   "source": [
    "sub_section = Section(\n",
    "    section_name='SubSection',\n",
    "    #start_section=SectionBreak('StartSection', break_offset='Before'),\n",
    "    end_section=SectionBreak('EndSection', break_offset='After'),\n",
    "    #end_section=SectionBreak(True)\n",
    "    #end_on_first_item=True\n",
    "    )\n",
    "full_section = Section(\n",
    "    section_name='Full',\n",
    "    start_section=SectionBreak('StartSection', break_offset='Before'),\n",
    "    #end_section=SectionBreak('EndSection', break_offset='After'),\n",
    "    subsections=sub_section,\n",
    "    #end_on_first_item=True\n",
    "    )\n",
    "\n",
    "multi_section = Section(section_name='Multi',\n",
    "    subsections=full_section,\n",
    "    #end_on_first_item=True\n",
    "    )\n",
    "\n",
    "pprint(multi_section.read(GENERIC_TEST_TEXT2))"
   ]
  },
  {
   "cell_type": "markdown",
   "metadata": {},
   "source": [
    "- ![Good](../examples/Valid.png) Includes *'Unwanted text between sections'* and\n",
    "  *'Even more text to be ignored'*.\n",
    "- `sub_section` has no `start_section` defined, so the it starts immediately. \n",
    "- `full_section` never ends and so the second sub-section starts right after \n",
    "  the first one ends. \n",
    "- **Note:** \n",
    "    - sub-list nesting is different:\n",
    "        > `[[[Section Lines], [Next Section Lines], ... ]]`<br>\n",
    "        > VS.<br>\n",
    "        > `[[[Section Lines]], [[Next Section Lines]], ... ]`<br>\n",
    "    - *'Even more text to be ignored'* is in its own sub-section.\n",
    "\n",
    "<table><thead><th>Expected</th><th>Actual</th></thead>\n",
    "<tr>\n",
    "  <td><code>\n",
    "    [[<br>\n",
    "      ['StartSection A',<br>\n",
    "       'MiddleSection A',<br>\n",
    "       'EndSection A'],<br>\n",
    "      ['Unwanted text between sections',<br>\n",
    "       'StartSection B',<br>\n",
    "        'MiddleSection B',<br>\n",
    "        'EndSection B'],<br>\n",
    "      ['StartSection C',<br>\n",
    "       'MiddleSection C',<br>\n",
    "       'EndSection C'],<br>\n",
    "      ['Even more text to be ignored']<br>\n",
    "    ]]</code></td>\n",
    "  <td><code>\n",
    "    [[<br>\n",
    "      ['StartSection A',<br>\n",
    "       'MiddleSection A',<br>\n",
    "       'EndSection A'],<br>\n",
    "      ['Unwanted text between sections',<br>\n",
    "       'StartSection B',<br>\n",
    "        'MiddleSection B',<br>\n",
    "        'EndSection B'],<br>\n",
    "      ['StartSection C',<br>\n",
    "       'MiddleSection C',<br>\n",
    "       'EndSection C'],<br>\n",
    "      ['Even more text to be ignored']<br>\n",
    "    ]]</code></td>\n",
    "  </tr>\n",
    "</table>"
   ]
  },
  {
   "cell_type": "markdown",
   "metadata": {},
   "source": [
    "### Add both `start_section` and `end_section` to *sub_section*. No breaks defined in *full_section*\n",
    "\n",
    "- SubSection start **Before** *StartSection*\n",
    "- SubSection end **After** *EndSection*\n",
    "\n",
    "\n",
    "```python\n",
    "sub_section = Section(section_name='SubSection',\n",
    "    start_section=SectionBreak('StartSection', break_offset='Before'\n",
    "    end_section=SectionBreak('EndSection', break_offset='After'),\n",
    "    )\n",
    "\n",
    "full_section = Section(section_name='Full',\n",
    "    subsections=sub_section \n",
    "    )\n",
    "\n",
    "multi_section = Section(section_name='Multi',\n",
    "    subsections=full_section\n",
    "    )\n",
    "```"
   ]
  },
  {
   "cell_type": "code",
   "execution_count": 54,
   "metadata": {},
   "outputs": [
    {
     "name": "stdout",
     "output_type": "stream",
     "text": [
      "[[['StartSection A', 'MiddleSection A', 'EndSection A'],\n",
      "  ['StartSection B', 'MiddleSection B', 'EndSection B'],\n",
      "  ['StartSection C', 'MiddleSection C', 'EndSection C']]]\n"
     ]
    }
   ],
   "source": [
    "sub_section = Section(\n",
    "    section_name='SubSection',\n",
    "    start_section=SectionBreak('StartSection', break_offset='Before'),\n",
    "    end_section=SectionBreak('EndSection', break_offset='After'),\n",
    "    #end_section=SectionBreak(True)\n",
    "    #end_on_first_item=True\n",
    "    )\n",
    "full_section = Section(\n",
    "    section_name='Full',\n",
    "    #start_section=SectionBreak('StartSection', break_offset='Before'),\n",
    "    #end_section=SectionBreak('EndSection', break_offset='After'),\n",
    "    subsections=sub_section,\n",
    "    #end_on_first_item=True\n",
    "    )\n",
    "\n",
    "multi_section = Section(section_name='Multi',\n",
    "    subsections=full_section,\n",
    "    #end_on_first_item=True\n",
    "    )\n",
    "\n",
    "pprint(multi_section.read(GENERIC_TEST_TEXT2))"
   ]
  },
  {
   "cell_type": "markdown",
   "metadata": {},
   "source": [
    "- ![Good](../examples/Valid.png) similar results to having both breaks defined in *full_section*.\n",
    "- **Note:** sub-list nesting is different:\n",
    "    > `[[[Section Lines], [Next Section Lines], ... ]]`<br>\n",
    "    > VS.<br>\n",
    "    > `[[[Section Lines]], [[Next Section Lines]], ... ]`<br>\n",
    "\n",
    "<table><thead><th>Expected</th><th>Actual</th></thead>\n",
    "<tr>\n",
    "  <td><code>\n",
    "    [[<br>\n",
    "      ['StartSection A',<br>\n",
    "       'MiddleSection A',<br>\n",
    "       'EndSection A'],<br>\n",
    "      ['StartSection B',<br>\n",
    "        'MiddleSection B',<br>\n",
    "        'EndSection B'],<br>\n",
    "      ['StartSection C',<br>\n",
    "       'MiddleSection C',<br>\n",
    "       'EndSection C']<br>\n",
    "    ]]</code></td>\n",
    "  <td><code>\n",
    "    [[<br>\n",
    "      ['StartSection A',<br>\n",
    "       'MiddleSection A',<br>\n",
    "       'EndSection A'],<br>\n",
    "      ['StartSection B',<br>\n",
    "        'MiddleSection B',<br>\n",
    "        'EndSection B'],<br>\n",
    "      ['StartSection C',<br>\n",
    "       'MiddleSection C',<br>\n",
    "       'EndSection C']<br>\n",
    "    ]]</code></td>\n",
    "  </tr>\n",
    "</table>"
   ]
  },
  {
   "cell_type": "markdown",
   "metadata": {},
   "source": [
    "### Read from *full_section* instead of *multi_section*"
   ]
  },
  {
   "cell_type": "code",
   "execution_count": 55,
   "metadata": {},
   "outputs": [
    {
     "name": "stdout",
     "output_type": "stream",
     "text": [
      "[['StartSection A', 'MiddleSection A', 'EndSection A'],\n",
      " ['StartSection B', 'MiddleSection B', 'EndSection B'],\n",
      " ['StartSection C', 'MiddleSection C', 'EndSection C']]\n"
     ]
    }
   ],
   "source": [
    "pprint(full_section.read(GENERIC_TEST_TEXT2))"
   ]
  },
  {
   "cell_type": "markdown",
   "metadata": {},
   "source": [
    "- ![Good](../examples/Valid.png) Similar results to reading *multi_section*.\n",
    "\n",
    "- **Note:** One less list level.\n",
    "\n",
    "<table><thead><th>Expected</th><th>Actual</th></thead>\n",
    "<tr>\n",
    "  <td><code>\n",
    "    [<br>\n",
    "      ['StartSection A',<br>\n",
    "       'MiddleSection A',<br>\n",
    "       'EndSection A'],<br>\n",
    "      ['StartSection B',<br>\n",
    "        'MiddleSection B',<br>\n",
    "        'EndSection B'],<br>\n",
    "      ['StartSection C',<br>\n",
    "       'MiddleSection C',<br>\n",
    "       'EndSection C']<br>\n",
    "    ]</code></td>\n",
    "  <td><code>\n",
    "    [<br>\n",
    "      ['StartSection A',<br>\n",
    "       'MiddleSection A',<br>\n",
    "       'EndSection A'],<br>\n",
    "      ['StartSection B',<br>\n",
    "        'MiddleSection B',<br>\n",
    "        'EndSection B'],<br>\n",
    "      ['StartSection C',<br>\n",
    "       'MiddleSection C',<br>\n",
    "       'EndSection C']<br>\n",
    "    ]</code></td>\n",
    "  </tr>\n",
    "</table>"
   ]
  },
  {
   "cell_type": "markdown",
   "metadata": {},
   "source": [
    "### Add `start_section` and `end_section` to both *sub_section* and *full_section*.\n",
    "\n",
    "- Section start **Before** *StartSection*\n",
    "- Section end **After** *EndSection*\n",
    "- SubSection start **Before** *StartSection*\n",
    "- SubSection end **After** *EndSection*\n",
    "\n",
    "```python\n",
    "sub_section = Section(section_name='SubSection',\n",
    "    start_section=SectionBreak('StartSection', break_offset='Before'\n",
    "    end_section=SectionBreak('EndSection', break_offset='After'),\n",
    "    )\n",
    "\n",
    "full_section = Section(section_name='Full',\n",
    "    start_section=SectionBreak('StartSection', break_offset='Before'\n",
    "    end_section=SectionBreak('EndSection', break_offset='After'),\n",
    "    subsections=sub_section \n",
    "    )\n",
    "\n",
    "multi_section = Section(section_name='Multi',\n",
    "    subsections=full_section\n",
    "    )\n",
    "```"
   ]
  },
  {
   "cell_type": "code",
   "execution_count": 56,
   "metadata": {},
   "outputs": [
    {
     "name": "stdout",
     "output_type": "stream",
     "text": [
      "[[['StartSection A', 'MiddleSection A', 'EndSection A']],\n",
      " [['StartSection B', 'MiddleSection B', 'EndSection B']],\n",
      " [['StartSection C', 'MiddleSection C', 'EndSection C']]]\n"
     ]
    }
   ],
   "source": [
    "sub_section = Section(\n",
    "    section_name='SubSection',\n",
    "    start_section=SectionBreak('StartSection', break_offset='Before'),\n",
    "    end_section=SectionBreak('EndSection', break_offset='After'),\n",
    "    #end_section=SectionBreak(True)\n",
    "    #end_on_first_item=True\n",
    "    )\n",
    "full_section = Section(\n",
    "    section_name='Full',\n",
    "    start_section=SectionBreak('StartSection', break_offset='Before'),\n",
    "    end_section=SectionBreak('EndSection', break_offset='After'),\n",
    "    subsections=sub_section,\n",
    "    #end_on_first_item=True\n",
    "    )\n",
    "\n",
    "multi_section = Section(section_name='Multi',\n",
    "    subsections=full_section,\n",
    "    #end_on_first_item=True\n",
    "    )\n",
    "\n",
    "pprint(multi_section.read(GENERIC_TEST_TEXT2))"
   ]
  },
  {
   "cell_type": "markdown",
   "metadata": {},
   "source": [
    "- ![Good](../examples/Valid.png) behaves the same way as when *sub_section* \n",
    "  did not have any breaks defined (including list levels).\n",
    "\n",
    "<table><thead><th>Expected</th><th>Actual</th></thead>\n",
    "<tr>\n",
    "  <td><code>\n",
    "    [<br>\n",
    "      [['StartSection A',<br>\n",
    "       'MiddleSection A',<br>\n",
    "       'EndSection A']],<br>\n",
    "      [['StartSection B',<br>\n",
    "        'MiddleSection B',<br>\n",
    "        'EndSection B']],<br>\n",
    "      [['StartSection C',<br>\n",
    "       'MiddleSection C',<br>\n",
    "       'EndSection C']]<br>\n",
    "    ]</code></td>\n",
    "  <td><code>\n",
    "    [<br>\n",
    "      [['StartSection A',<br>\n",
    "       'MiddleSection A',<br>\n",
    "       'EndSection A']],<br>\n",
    "      [['StartSection B',<br>\n",
    "        'MiddleSection B',<br>\n",
    "        'EndSection B']],<br>\n",
    "      [['StartSection C',<br>\n",
    "       'MiddleSection C',<br>\n",
    "       'EndSection C']]<br>\n",
    "    ]</code></td>\n",
    "  </tr>\n",
    "</table>"
   ]
  },
  {
   "cell_type": "markdown",
   "metadata": {},
   "source": [
    "### Change Start Sub-Section to **After**"
   ]
  },
  {
   "cell_type": "markdown",
   "metadata": {},
   "source": [
    "- Section start **Before** *StartSection*\n",
    "- Section end **After** *EndSection*\n",
    "- SubSection start **After** *StartSection*\n",
    "\n",
    "```python\n",
    "sub_section = Section(section_name='SubSection',\n",
    "    start_section=SectionBreak('StartSection', break_offset='After')\n",
    "    )\n",
    "\n",
    "full_section = Section(section_name='Full',\n",
    "    start_section=SectionBreak('StartSection', break_offset='Before'),\n",
    "    end_section=SectionBreak('EndSection', break_offset='After'),\n",
    "    subsections=[sub_section] \n",
    "    )\n",
    "```"
   ]
  },
  {
   "cell_type": "code",
   "execution_count": 57,
   "metadata": {},
   "outputs": [
    {
     "name": "stdout",
     "output_type": "stream",
     "text": [
      "[[['MiddleSection A', 'EndSection A']],\n",
      " [['MiddleSection B', 'EndSection B']],\n",
      " [['MiddleSection C', 'EndSection C']]]\n"
     ]
    }
   ],
   "source": [
    "sub_section = Section(\n",
    "    section_name='SubSection',\n",
    "    start_section=SectionBreak('StartSection', break_offset='After')\n",
    "    #end_on_first_item=True,\n",
    "    #keep_partial=True,\n",
    "    #end_section=SectionBreak(True)\n",
    "    )\n",
    "\n",
    "full_section = Section(\n",
    "    section_name='Full',\n",
    "    start_section=SectionBreak('StartSection', break_offset='Before'),\n",
    "    end_section=SectionBreak('EndSection', break_offset='After'),\n",
    "    subsections=sub_section \n",
    "    )\n",
    "\n",
    "multi_section = Section(section_name='Multi',\n",
    "    subsections=full_section,\n",
    "    #end_on_first_item=True\n",
    "    )\n",
    "\n",
    "pprint(multi_section.read(GENERIC_TEST_TEXT2))"
   ]
  },
  {
   "cell_type": "markdown",
   "metadata": {},
   "source": [
    "- ![Good](../examples/Valid.png) *StartSection* lines are dropped.\n",
    "\n",
    "<table><thead><th>Expected</th><th>Actual</th></thead>\n",
    "<tr>\n",
    "  <td><code>\n",
    "    [<br>\n",
    "      [['MiddleSection A',\n",
    "       'EndSection A']],<br>\n",
    "      [['MiddleSection B',\n",
    "        'EndSection B']],<br>\n",
    "      [['MiddleSection C',\n",
    "       'EndSection C']]<br>\n",
    "    ]</code></td>\n",
    "  <td><code>\n",
    "    [<br>\n",
    "      [['MiddleSection A',\n",
    "       'EndSection A']],<br>\n",
    "      [['MiddleSection B',\n",
    "        'EndSection B']],<br>\n",
    "      [['MiddleSection C',\n",
    "       'EndSection C']]<br>\n",
    "    ]</code></td>\n",
    "  </tr>\n",
    "</table>"
   ]
  },
  {
   "cell_type": "markdown",
   "metadata": {},
   "source": [
    "**********\n",
    "\n",
    "# DONE TO HERE"
   ]
  },
  {
   "cell_type": "markdown",
   "metadata": {},
   "source": [
    "### Run with two-line sections:\n",
    "> `[`<br>\n",
    "> `'Text to be ignored',`<br>\n",
    "> `'StartSection Name: A',`<br>\n",
    "> `'EndSection Name: A',`<br>\n",
    "> `'Text between sections',`<br>\n",
    "> `'StartSection Name: B',`<br>\n",
    "> `'EndSection Name: B',`<br>\n",
    "> `'More text to be ignored'`<br>\n",
    "> `]`<br>\n",
    "\n",
    "- Section start **Before** *StartSection*\n",
    "- Section end **After** *EndSection*\n",
    "- SubSection start **After** *StartSection*\n",
    "\n",
    "```python\n",
    "sub_section = Section(section_name='SubSection',\n",
    "    start_section=SectionBreak('StartSection', break_offset='After')\n",
    "    )\n",
    "\n",
    "full_section = Section(section_name='Full',\n",
    "    start_section=SectionBreak('StartSection', break_offset='Before'),\n",
    "    end_section=SectionBreak('EndSection', break_offset='After'),\n",
    "    subsections=[sub_section] \n",
    "    )\n",
    "```"
   ]
  },
  {
   "cell_type": "code",
   "execution_count": 58,
   "metadata": {},
   "outputs": [
    {
     "name": "stdout",
     "output_type": "stream",
     "text": [
      "[]\n"
     ]
    }
   ],
   "source": [
    "pprint(multi_section.read(GENERIC_TEST_TEXT))"
   ]
  },
  {
   "cell_type": "markdown",
   "metadata": {},
   "source": [
    "- ![Bad](../examples/error.png) Results in blank sub-list.\n",
    "<table><thead><th>Expected</th><th>Actual</th></thead>\n",
    "  <td><code>\n",
    "    [<br>\n",
    "      [['EndSection Name: A']],<br>\n",
    "      [['EndSection Name: B']]<br>\n",
    "    ]</code></td>\n",
    "  <td><code>[]</code></td></tr>\n",
    "</table>"
   ]
  },
  {
   "cell_type": "code",
   "execution_count": 59,
   "metadata": {},
   "outputs": [
    {
     "name": "stdout",
     "output_type": "stream",
     "text": [
      "[]\n"
     ]
    }
   ],
   "source": [
    "sub_section = Section(\n",
    "    section_name='SubSection',\n",
    "    start_section=SectionBreak('EndSection', break_offset='Before')\n",
    "    #end_on_first_item=True,\n",
    "    #keep_partial=True,\n",
    "    #end_section=SectionBreak(True)\n",
    "    )\n",
    "\n",
    "full_section = Section(\n",
    "    section_name='Full',\n",
    "    start_section=SectionBreak('StartSection', break_offset='Before'),\n",
    "    end_section=SectionBreak('EndSection', break_offset='After'),\n",
    "    subsections=sub_section \n",
    "    )\n",
    "\n",
    "multi_section = Section(section_name='Multi',\n",
    "    subsections=full_section,\n",
    "    #end_on_first_item=True\n",
    "    )\n",
    "\n",
    "pprint(multi_section.read(GENERIC_TEST_TEXT2))"
   ]
  },
  {
   "cell_type": "code",
   "execution_count": 60,
   "metadata": {},
   "outputs": [
    {
     "data": {
      "text/plain": [
       "['Text to be ignored',\n",
       " 'StartSection Name: A',\n",
       " 'EndSection Name: A',\n",
       " 'Text between sections',\n",
       " 'StartSection Name: B',\n",
       " 'EndSection Name: B',\n",
       " 'More text to be ignored']"
      ]
     },
     "execution_count": 60,
     "metadata": {},
     "output_type": "execute_result"
    }
   ],
   "source": [
    "GENERIC_TEST_TEXT"
   ]
  },
  {
   "cell_type": "code",
   "execution_count": 61,
   "metadata": {},
   "outputs": [
    {
     "name": "stdout",
     "output_type": "stream",
     "text": [
      "[]\n"
     ]
    }
   ],
   "source": [
    "pprint(full_section.read(GENERIC_TEST_TEXT))"
   ]
  },
  {
   "cell_type": "markdown",
   "metadata": {},
   "source": [
    "- ![Bad](../examples/error.png) Results in blank sub-list.\n",
    "<table><thead><th>Expected</th><th>Actual</th></thead>\n",
    "<tr><td><code></code></td>\n",
    "<td><code>[[]]</code></td></tr>\n",
    "</table>"
   ]
  },
  {
   "cell_type": "markdown",
   "metadata": {},
   "source": [
    "### Add start to SubSection Definition\n",
    "> `start_section=SectionBreak('EndSection', break_offset='Before')`"
   ]
  },
  {
   "cell_type": "code",
   "execution_count": 62,
   "metadata": {},
   "outputs": [
    {
     "name": "stdout",
     "output_type": "stream",
     "text": [
      "[['EndSection Name: A',\n",
      "  'Text between sections',\n",
      "  'StartSection Name: B',\n",
      "  'EndSection Name: B',\n",
      "  'More text to be ignored']]\n"
     ]
    }
   ],
   "source": [
    "sub_section = Section(\n",
    "    section_name='SubSection',\n",
    "    start_section=SectionBreak('EndSection', break_offset='Before'),  # Added to use alone\n",
    "    #end_on_first_item=True,\n",
    "    #keep_partial=True,\n",
    "    #end_section=SectionBreak(True)\n",
    "    )\n",
    "\n",
    "full_section = Section(\n",
    "    section_name='Full',\n",
    "    #start_section=SectionBreak('StartSection', break_offset='Before'),\n",
    "    #end_section=SectionBreak('EndSection', break_offset='After'),\n",
    "    subsections=[sub_section] \n",
    "    )\n",
    "pprint(full_section.read(GENERIC_TEST_TEXT))"
   ]
  },
  {
   "cell_type": "markdown",
   "metadata": {},
   "source": [
    "- ![Bad](../examples/Error.png) - ??? Is this incorrect or is this expected???\n",
    "  \n",
    "<table><thead><th>Expected</th><th>Actual</th></thead>\n",
    "<tr><td><code></code></td>\n",
    "<td><code>\n",
    "[['EndSection Name: A',<br>\n",
    "  'StartSection Name: B',\n",
    "  'EndSection Name: B',<br>\n",
    "  'More text to be ignored']]\n",
    "  </code></td></tr>\n",
    "</table>"
   ]
  },
  {
   "cell_type": "markdown",
   "metadata": {},
   "source": [
    "### Add *Start After* to Section Definition\n",
    "> `start_section=SectionBreak('StartSection', break_offset='After')`"
   ]
  },
  {
   "cell_type": "code",
   "execution_count": 63,
   "metadata": {},
   "outputs": [
    {
     "name": "stdout",
     "output_type": "stream",
     "text": [
      "[['EndSection Name: A',\n",
      "  'Text between sections',\n",
      "  'StartSection Name: B',\n",
      "  'EndSection Name: B',\n",
      "  'More text to be ignored']]\n"
     ]
    }
   ],
   "source": [
    "sub_section = Section(\n",
    "    section_name='SubSection',\n",
    "    #start_section=SectionBreak('EndSection', break_offset='Before'),  # Added to use alone\n",
    "    #end_on_first_item=True,\n",
    "    #keep_partial=True,\n",
    "    #end_section=SectionBreak(True)\n",
    "    )\n",
    "\n",
    "full_section = Section(\n",
    "    section_name='Full',\n",
    "    start_section=SectionBreak('StartSection', break_offset='After'),\n",
    "    #end_section=SectionBreak('EndSection', break_offset='After'),\n",
    "    subsections=[sub_section]  \n",
    "    )\n",
    "pprint(full_section.read(GENERIC_TEST_TEXT))"
   ]
  },
  {
   "cell_type": "markdown",
   "metadata": {
    "notebookRunGroups": {
     "groupValue": "2"
    }
   },
   "source": [
    "- ![Good](../examples/Valid.png) Results in one line section\n",
    "- ![Bad](../examples/Error.png) - ??? Is this incorrect or is this expected???\n",
    "  \n",
    "<table><thead><th>Expected</th><th>Actual</th></thead>\n",
    "<tr><td><code></code></td>\n",
    "<td><code>\n",
    "[['EndSection Name: A',\n",
    "  'StartSection Name: B',\n",
    "  'EndSection Name: B',\n",
    "  'More text to be ignored']]\n",
    "  </code></td></tr>\n",
    "</table>"
   ]
  },
  {
   "cell_type": "markdown",
   "metadata": {},
   "source": [
    "### Add *Start After StartSection* to Section Definition and *Start Before End Section* to SubSection Definition\n",
    "> **Section Definition**<br> \n",
    "> `start_section=SectionBreak('StartSection', break_offset='After')`\n",
    "> \n",
    "> **SubSection Definition**<br>\n",
    "> `start_section=SectionBreak('EndSection', break_offset='Before')`\n",
    "    "
   ]
  },
  {
   "cell_type": "code",
   "execution_count": 64,
   "metadata": {},
   "outputs": [
    {
     "name": "stdout",
     "output_type": "stream",
     "text": [
      "[['EndSection Name: A',\n",
      "  'Text between sections',\n",
      "  'StartSection Name: B',\n",
      "  'EndSection Name: B',\n",
      "  'More text to be ignored']]\n"
     ]
    }
   ],
   "source": [
    "sub_section = Section(\n",
    "    section_name='SubSection',\n",
    "    start_section=SectionBreak('EndSection', break_offset='Before'),  # Added to use alone\n",
    "    #end_on_first_item=True,\n",
    "    #keep_partial=True,\n",
    "    #end_section=SectionBreak(True)\n",
    "    )\n",
    "\n",
    "full_section = Section(\n",
    "    section_name='Full',\n",
    "    start_section=SectionBreak('StartSection', break_offset='After'),\n",
    "    #end_section=SectionBreak('EndSection', break_offset='After'),\n",
    "    subsections=[sub_section]  \n",
    "    )\n",
    "pprint(full_section.read(GENERIC_TEST_TEXT))"
   ]
  },
  {
   "cell_type": "markdown",
   "metadata": {},
   "source": [
    "- ![Bad](../examples/error.png) - ??? Is this incorrect or is this expected???\n",
    "  \n",
    "<table><thead><th>Expected</th><th>Actual</th></thead>\n",
    "<tr><td><code></code></td>\n",
    "<td><code>\n",
    "[['EndSection Name: A',\n",
    "  'StartSection Name: B',\n",
    "  'EndSection Name: B',\n",
    "  'More text to be ignored']]\n",
    "  </code></td></tr>\n",
    "</table>"
   ]
  },
  {
   "cell_type": "markdown",
   "metadata": {},
   "source": [
    "### Add *Start After StartSection* to Section Definition and *Start Before End Section* to SubSection Definition and set *End On First Line* for SubSection\n",
    "> **Section Definition**<br> \n",
    "> `start_section=SectionBreak('StartSection', break_offset='After')`\n",
    "> \n",
    "> **SubSection Definition**<br>\n",
    "> `start_section=SectionBreak('EndSection', break_offset='Before'),`\n",
    "> `end_on_first_item=True,`\n",
    "    "
   ]
  },
  {
   "cell_type": "code",
   "execution_count": 65,
   "metadata": {},
   "outputs": [
    {
     "name": "stdout",
     "output_type": "stream",
     "text": [
      "[['EndSection Name: A',\n",
      "  'Text between sections',\n",
      "  'StartSection Name: B',\n",
      "  'EndSection Name: B',\n",
      "  'More text to be ignored']]\n"
     ]
    }
   ],
   "source": [
    "sub_section = Section(\n",
    "    section_name='SubSection',\n",
    "    start_section=SectionBreak('EndSection', break_offset='Before'),  # Added to use alone\n",
    "    end_on_first_item=True,\n",
    "    #keep_partial=True,\n",
    "    #end_section=SectionBreak(True)\n",
    "    )\n",
    "\n",
    "full_section = Section(\n",
    "    section_name='Full',\n",
    "    start_section=SectionBreak('StartSection', break_offset='After'),\n",
    "    #end_section=SectionBreak('EndSection', break_offset='After'),\n",
    "    subsections=[sub_section]  \n",
    "    )\n",
    "pprint(full_section.read(GENERIC_TEST_TEXT))"
   ]
  },
  {
   "cell_type": "markdown",
   "metadata": {},
   "source": [
    "- ![Bad](../examples/Error.png) - ??? Is this incorrect or is this expected???\n",
    "  \n",
    "<table><thead><th>Expected</th><th>Actual</th></thead>\n",
    "<tr><td><code></code></td>\n",
    "<td><code>\n",
    "[['EndSection Name: A',\n",
    "  'StartSection Name: B',\n",
    "  'EndSection Name: B',\n",
    "  'More text to be ignored']]\n",
    "  </code></td></tr>\n",
    "</table>"
   ]
  },
  {
   "cell_type": "markdown",
   "metadata": {},
   "source": [
    "### Add *Start After StartSection* to Section Definition, and for SubSection Definition, set *Start* to  *Before EndSection* and *End* to *`True` (Always Break)*\n",
    "> **Section Definition**<br> \n",
    "> `start_section=SectionBreak('StartSection', break_offset='After')`\n",
    "> \n",
    "> **SubSection Definition**<br>\n",
    "> `start_section=SectionBreak('EndSection', break_offset='Before'),`\n",
    "> `end_section=SectionBreak(True),`\n",
    "    "
   ]
  },
  {
   "cell_type": "code",
   "execution_count": 66,
   "metadata": {},
   "outputs": [
    {
     "name": "stdout",
     "output_type": "stream",
     "text": [
      "[['EndSection Name: A'], ['EndSection Name: B']]\n"
     ]
    }
   ],
   "source": [
    "sub_section = Section(\n",
    "    section_name='SubSection',\n",
    "    start_section=SectionBreak('EndSection', break_offset='Before'),  # Added to use alone\n",
    "    #end_on_first_item=True,\n",
    "    #keep_partial=True,\n",
    "    end_section=SectionBreak(True)\n",
    "    )\n",
    "\n",
    "full_section = Section(\n",
    "    section_name='Full',\n",
    "    start_section=SectionBreak('StartSection', break_offset='After'),\n",
    "    #end_section=SectionBreak('EndSection', break_offset='After'),\n",
    "    subsections=[sub_section]  \n",
    "    )\n",
    "pprint(full_section.read(GENERIC_TEST_TEXT))"
   ]
  },
  {
   "cell_type": "markdown",
   "metadata": {},
   "source": [
    "- ![Good](../examples/Valid.png) Results in one line section\n",
    "- ![Bad](../examples/Error.png) - ??? Is this incorrect or is this expected???\n",
    "  \n",
    "<table><thead><th>Expected</th><th>Actual</th></thead>\n",
    "<tr><td><code></code></td>\n",
    "<td><code>\n",
    "[['EndSection Name: A'], ['EndSection Name: B'], []]\n",
    "  </code></td></tr>\n",
    "</table>"
   ]
  },
  {
   "cell_type": "markdown",
   "metadata": {},
   "source": [
    "### Add *Start After StartSection* and *End Before EndSection* to Section Definition, and for SubSection Definition, set *Start* to  *Before EndSection* and *End* to *`True` (Always Break)*\n",
    "> **Section Definition**<br> \n",
    "> `start_section=SectionBreak('StartSection', break_offset='After'),`\n",
    "> `end_section=SectionBreak('EndSection', break_offset='After'),`\n",
    "    \n",
    "> \n",
    "> **SubSection Definition**<br>\n",
    "> `start_section=SectionBreak('EndSection', break_offset='Before'),`\n",
    "> `end_section=SectionBreak(True),`\n",
    "    "
   ]
  },
  {
   "cell_type": "code",
   "execution_count": 67,
   "metadata": {},
   "outputs": [
    {
     "name": "stdout",
     "output_type": "stream",
     "text": [
      "[['EndSection Name: A']]\n"
     ]
    }
   ],
   "source": [
    "sub_section = Section(\n",
    "    section_name='SubSection',\n",
    "    start_section=SectionBreak('EndSection', break_offset='Before'),  # Added to use alone\n",
    "    #end_on_first_item=True,\n",
    "    #keep_partial=True,\n",
    "    end_section=SectionBreak(True)\n",
    "    )\n",
    "\n",
    "full_section = Section(\n",
    "    section_name='Full',\n",
    "    start_section=SectionBreak('StartSection', break_offset='After'),\n",
    "    end_section=SectionBreak('EndSection', break_offset='After'),\n",
    "    subsections=[sub_section] \n",
    "    )\n",
    "pprint(full_section.read(GENERIC_TEST_TEXT))"
   ]
  },
  {
   "cell_type": "markdown",
   "metadata": {},
   "source": [
    "- ![Good](../examples/Valid.png) Results in one line section\n",
    "- ![Bad](../examples/Error.png) - ??? Is this incorrect or is this expected???\n",
    "  \n",
    "<table><thead><th>Expected</th><th>Actual</th></thead>\n",
    "<tr><td><code></code></td>\n",
    "<td><code>\n",
    "[['EndSection Name: A']]\n",
    "  </code></td></tr>\n",
    "</table>"
   ]
  },
  {
   "cell_type": "markdown",
   "metadata": {},
   "source": [
    "### Add *Start __Before__ StartSection* and *End Before EndSection* to Section Definition, and for SubSection Definition, set *Start* to  *Before EndSection* and *End* to *`True` (Always Break)*\n",
    "> **Section Definition**<br> \n",
    "> `start_section=SectionBreak('StartSection', break_offset='Before'),`\n",
    "> `end_section=SectionBreak('EndSection', break_offset='After'),`\n",
    "    \n",
    "> \n",
    "> **SubSection Definition**<br>\n",
    "> `start_section=SectionBreak('EndSection', break_offset='Before'),`\n",
    "> `end_section=SectionBreak(True),`\n",
    "    "
   ]
  },
  {
   "cell_type": "code",
   "execution_count": 68,
   "metadata": {},
   "outputs": [
    {
     "name": "stdout",
     "output_type": "stream",
     "text": [
      "[]\n"
     ]
    }
   ],
   "source": [
    "sub_section = Section(\n",
    "    section_name='SubSection',\n",
    "    start_section=SectionBreak('EndSection', break_offset='Before'),  # Added to use alone\n",
    "    #end_on_first_item=True,\n",
    "    #keep_partial=True,\n",
    "    end_section=SectionBreak(True)\n",
    "    )\n",
    "\n",
    "full_section = Section(\n",
    "    section_name='Full',\n",
    "    start_section=SectionBreak('StartSection', break_offset='Before'),\n",
    "    end_section=SectionBreak('EndSection', break_offset='After'),\n",
    "    subsections=[sub_section]  \n",
    "    )\n",
    "pprint(full_section.read(GENERIC_TEST_TEXT))"
   ]
  },
  {
   "cell_type": "markdown",
   "metadata": {},
   "source": [
    "- ![Bad](../examples/Error.png) Results in empty list of lists\n",
    "- ??? Is this incorrect or is this expected???\n",
    "  \n",
    "<table><thead><th>Expected</th><th>Actual</th></thead>\n",
    "<tr><td><code></code></td>\n",
    "<td><code>[[]]</code></td></tr>\n",
    "</table>"
   ]
  },
  {
   "cell_type": "markdown",
   "metadata": {},
   "source": [
    "### Add *Start __Before__ StartSection* and *End Before EndSection* to Section Definition, and for SubSection Definition, set *Start* to *Before EndSection*, *End* to *`True` (Always Break)* and *Keep Partial* to *`True`*\n",
    "> **Section Definition**<br> \n",
    "> `start_section=SectionBreak('StartSection', break_offset='Before'),`\n",
    "> `end_section=SectionBreak('EndSection', break_offset='After'),`    \n",
    "> \n",
    "> **SubSection Definition**<br>\n",
    "> `start_section=SectionBreak('EndSection', break_offset='Before'),`<br>\n",
    "> `end_section=SectionBreak(True),`<br>\n",
    "> `keep_partial=True,`\n",
    "    "
   ]
  },
  {
   "cell_type": "code",
   "execution_count": 69,
   "metadata": {},
   "outputs": [
    {
     "name": "stdout",
     "output_type": "stream",
     "text": [
      "[]\n"
     ]
    }
   ],
   "source": [
    "sub_section = Section(\n",
    "    section_name='SubSection',\n",
    "    start_section=SectionBreak('EndSection', break_offset='Before'),  # Added to use alone\n",
    "    #end_on_first_item=True,\n",
    "    keep_partial=True,\n",
    "    end_section=SectionBreak(True)\n",
    "    )\n",
    "\n",
    "full_section = Section(\n",
    "    section_name='Full',\n",
    "    start_section=SectionBreak('StartSection', break_offset='Before'),\n",
    "    end_section=SectionBreak('EndSection', break_offset='After'),\n",
    "    subsections=[sub_section]  \n",
    "    )\n",
    "pprint(full_section.read(GENERIC_TEST_TEXT))"
   ]
  },
  {
   "cell_type": "markdown",
   "metadata": {},
   "source": [
    "- ![Bad](../examples/Error.png) Results in empty list of lists\n",
    "- ??? Is this incorrect or is this expected???\n",
    "  \n",
    "<table><thead><th>Expected</th><th>Actual</th></thead>\n",
    "<tr><td><code></code></td>\n",
    "<td><code>[[]]</code></td></tr>\n",
    "</table>"
   ]
  },
  {
   "cell_type": "markdown",
   "metadata": {},
   "source": [
    "### Add *Start __Before__ StartSection* and *End Before EndSection* to Section Definition, and don't set any SectionBreaks for SubSection Definition, \n",
    "> **Section Definition**<br> \n",
    "> `start_section=SectionBreak('StartSection', break_offset='Before'),`\n",
    "> `end_section=SectionBreak('EndSection', break_offset='After'),`    \n",
    "    "
   ]
  },
  {
   "cell_type": "code",
   "execution_count": 70,
   "metadata": {},
   "outputs": [
    {
     "name": "stdout",
     "output_type": "stream",
     "text": [
      "[['StartSection Name: A', 'EndSection Name: A']]\n"
     ]
    }
   ],
   "source": [
    "sub_section = Section(\n",
    "    section_name='SubSection',\n",
    "    #start_section=SectionBreak('EndSection', break_offset='Before'),  # Added to use alone\n",
    "    #end_on_first_item=True,\n",
    "    #keep_partial=True,\n",
    "    #end_section=SectionBreak(True)\n",
    "    )\n",
    "\n",
    "full_section = Section(\n",
    "    section_name='Full',\n",
    "    start_section=SectionBreak('StartSection', break_offset='Before'),\n",
    "    end_section=SectionBreak('EndSection', break_offset='After'),\n",
    "    subsections=[sub_section]  \n",
    "    )\n",
    "pprint(full_section.read(GENERIC_TEST_TEXT))"
   ]
  },
  {
   "cell_type": "markdown",
   "metadata": {},
   "source": [
    "- ![Good](../examples/Valid.png) Results in Two line section\n",
    "\n",
    "- ??? Is this incorrect or is this expected???\n",
    "  \n",
    "<table><thead><th>Expected</th><th>Actual</th></thead>\n",
    "<tr><td><code>[['StartSection Name: A', 'EndSection Name: A']]</code></td>\n",
    "<td><code>[['StartSection Name: A', 'EndSection Name: A']]</code></td></tr>\n",
    "</table>"
   ]
  },
  {
   "cell_type": "markdown",
   "metadata": {},
   "source": [
    "### Add *Start __After__ StartSection* and *End Before EndSection* to Section Definition, and don't set any SectionBreaks for SubSection Definition, \n",
    "> **Section Definition**<br> \n",
    "> `start_section=SectionBreak('StartSection', break_offset='After'),`\n",
    "> `end_section=SectionBreak('EndSection', break_offset='After'),`    \n",
    "    "
   ]
  },
  {
   "cell_type": "code",
   "execution_count": 71,
   "metadata": {},
   "outputs": [
    {
     "name": "stdout",
     "output_type": "stream",
     "text": [
      "[['EndSection Name: A',\n",
      "  'Text between sections',\n",
      "  'StartSection Name: B',\n",
      "  'EndSection Name: B']]\n"
     ]
    }
   ],
   "source": [
    "sub_section = Section(\n",
    "    section_name='SubSection',\n",
    "    #start_section=SectionBreak('EndSection', break_offset='Before'),  # Added to use alone\n",
    "    #end_on_first_item=True,\n",
    "    #keep_partial=True,\n",
    "    #end_section=SectionBreak(True)\n",
    "    )\n",
    "\n",
    "full_section = Section(\n",
    "    section_name='Full',\n",
    "    start_section=SectionBreak('StartSection', break_offset='After'),\n",
    "    end_section=SectionBreak('EndSection', break_offset='After'),\n",
    "    subsections=[sub_section]  \n",
    "    )\n",
    "pprint(full_section.read(GENERIC_TEST_TEXT))"
   ]
  },
  {
   "cell_type": "markdown",
   "metadata": {},
   "source": [
    "- ![Good](../examples/Valid.png) Results in one line section\n",
    "  \n",
    "<table><thead><th>Expected</th><th>Actual</th></thead>\n",
    "<tr><td><code>[['EndSection Name: A']]</code></td>\n",
    "<td><code>[['EndSection Name: A']]</code></td></tr>\n",
    "</table>"
   ]
  },
  {
   "cell_type": "markdown",
   "metadata": {},
   "source": [
    "## Three line sections"
   ]
  },
  {
   "cell_type": "code",
   "execution_count": 72,
   "metadata": {},
   "outputs": [],
   "source": [
    "GENERIC_TEST_TEXT3 = [\n",
    "    'Text to be ignored',\n",
    "    'StartSection A',\n",
    "    'MiddleSection A',\n",
    "    'EndSection A',\n",
    "    'Unwanted text between sections',\n",
    "    'StartSection B',\n",
    "    'Random text in the middle of a section',\n",
    "    'MiddleSection B',\n",
    "    'EndSection B',\n",
    "    'StartSection C',\n",
    "    'MiddleSection C',\n",
    "    'EndSection C',\n",
    "    'Even more text to be ignored', \n",
    "    ]"
   ]
  },
  {
   "cell_type": "markdown",
   "metadata": {},
   "source": [
    "#### Single line subsection definitions "
   ]
  },
  {
   "cell_type": "code",
   "execution_count": 73,
   "metadata": {},
   "outputs": [],
   "source": [
    "start_sub_section = Section(\n",
    "    section_name='StartSubSection',\n",
    "    start_section=SectionBreak('StartSection', break_offset='Before'),\n",
    "    end_section=SectionBreak(True, break_offset='Before')\n",
    "    )\n",
    "\n",
    "middle_sub_section = Section(\n",
    "    section_name='MiddleSubSection',\n",
    "    start_section=SectionBreak('MiddleSection', break_offset='Before'),\n",
    "    end_section=SectionBreak(True, break_offset='Before')\n",
    "    )\n",
    "\n",
    "end_sub_section = Section(\n",
    "    section_name='EndSubSection',\n",
    "    start_section=SectionBreak('EndSection', break_offset='Before'),\n",
    "    end_section=SectionBreak(True, break_offset='Before')\n",
    "    )"
   ]
  },
  {
   "cell_type": "markdown",
   "metadata": {},
   "source": [
    "#### Defining ***three_part_section*** \n",
    "- Contains an ending break:\n",
    "    > `end_section=SectionBreak('ignored', break_offset='Before')`.\n",
    "\n",
    "- Contains 3 subsections:\n",
    "    > `[start_sub_section, middle_sub_section, end_sub_section]`"
   ]
  },
  {
   "cell_type": "code",
   "execution_count": 74,
   "metadata": {},
   "outputs": [
    {
     "name": "stdout",
     "output_type": "stream",
     "text": [
      "[[['StartSection A'], ['MiddleSection A'], ['EndSection A']],\n",
      " [['StartSection B'], ['MiddleSection B'], ['EndSection B']],\n",
      " [['StartSection C'], ['MiddleSection C'], ['EndSection C']]]\n"
     ]
    }
   ],
   "source": [
    "three_part_section = Section(\n",
    "    section_name='Top Section',\n",
    "    end_section=SectionBreak('ignored', break_offset='Before'),\n",
    "    subsections=[start_sub_section, middle_sub_section, end_sub_section]\n",
    "    )\n",
    "pprint(three_part_section.read(GENERIC_TEST_TEXT3))"
   ]
  },
  {
   "cell_type": "markdown",
   "metadata": {},
   "source": [
    "![Good](../examples/Valid.png) All 3 sections and subsections are completed. \n",
    "\n",
    "<table>\n",
    "    <thead><th>Expected</th><th>Actual</th></thead>\n",
    "    <tr>\n",
    "        <td><code>\n",
    "          [<br>\n",
    "            [\n",
    "              ['StartSection Name: A'],<br> \n",
    "              ['MiddleSection A'],<br> \n",
    "              ['EndSection Name: A']\n",
    "            ],<br>\n",
    "            [\n",
    "              ['StartSection Name: B'],<br> \n",
    "              ['MiddleSection A'],<br> \n",
    "              ['EndSection Name: B']\n",
    "            ]<br>\n",
    "            [\n",
    "              ['StartSection Name: C'],<br> \n",
    "              ['MiddleSection C'],<br> \n",
    "              ['EndSection Name: C']\n",
    "            ]<br>\n",
    "          ]\n",
    "        </code></td>\n",
    "        <td><code>\n",
    "          [<br>\n",
    "            [\n",
    "              ['StartSection Name: A'],<br> \n",
    "              ['MiddleSection A'],<br> \n",
    "              ['EndSection Name: A']\n",
    "            ],<br>\n",
    "            [\n",
    "              ['StartSection Name: B'],<br> \n",
    "              ['MiddleSection A'],<br> \n",
    "              ['EndSection Name: B']\n",
    "            ]<br>\n",
    "            [\n",
    "              ['StartSection Name: C'],<br> \n",
    "              ['MiddleSection C'],<br> \n",
    "              ['EndSection Name: C']\n",
    "            ]<br>\n",
    "          ]\n",
    "        </code></td></tr>\n",
    "</table>"
   ]
  },
  {
   "cell_type": "markdown",
   "metadata": {},
   "source": [
    "- Section start **Before** *StartSection*\n",
    "- Section end **After** *EndSection*\n",
    "- SubSection **End On First**\n",
    "\n",
    "```python\n",
    "sub_section = Section(section_name='SubSection',\n",
    "    end_on_first_item=True,\n",
    "    )\n",
    "\n",
    "full_section = Section(section_name='Full',\n",
    "    start_section=SectionBreak('StartSection', break_offset='Before'),\n",
    "    end_section=SectionBreak('EndSection', break_offset='After'),\n",
    "    subsections=[sub_section] \n",
    "    )\n",
    "```"
   ]
  },
  {
   "cell_type": "code",
   "execution_count": 75,
   "metadata": {},
   "outputs": [
    {
     "name": "stdout",
     "output_type": "stream",
     "text": [
      "[['StartSection A', 'MiddleSection A', 'EndSection A']]\n"
     ]
    }
   ],
   "source": [
    "sub_section = Section(\n",
    "    section_name='SubSection',\n",
    "    #start_section=SectionBreak('StartSection', break_offset='After')\n",
    "    end_on_first_item=True,\n",
    "    #keep_partial=True,\n",
    "    #end_section=SectionBreak(True)\n",
    "    )\n",
    "\n",
    "full_section = Section(\n",
    "    section_name='Full',\n",
    "    start_section=SectionBreak('StartSection', break_offset='Before'),\n",
    "    end_section=SectionBreak('EndSection', break_offset='After'),\n",
    "    subsections=[sub_section] \n",
    "    )\n",
    "\n",
    "pprint(full_section.read(GENERIC_TEST_TEXT3))"
   ]
  },
  {
   "cell_type": "code",
   "execution_count": 76,
   "metadata": {},
   "outputs": [
    {
     "name": "stdout",
     "output_type": "stream",
     "text": [
      "[[['StartSection A'], ['EndSection A']],\n",
      " [['StartSection B'], ['EndSection B']],\n",
      " [['StartSection C'], ['EndSection C']]]\n"
     ]
    }
   ],
   "source": [
    "top_section = Section(\n",
    "    section_name='Top Section',\n",
    "    end_section=SectionBreak('ignored', break_offset='Before'),\n",
    "    subsections=[start_sub_section, end_sub_section]\n",
    "    )\n",
    "pprint(top_section.read(GENERIC_TEST_TEXT3))"
   ]
  },
  {
   "cell_type": "code",
   "execution_count": 77,
   "metadata": {},
   "outputs": [],
   "source": [
    "sub_section = Section(\n",
    "    section_name='SubSection',\n",
    "    start_section=SectionBreak('StartSection', break_offset='Before'),\n",
    "    end_section=SectionBreak('StartSection', break_offset='After')\n",
    "    )"
   ]
  },
  {
   "cell_type": "code",
   "execution_count": 78,
   "metadata": {},
   "outputs": [],
   "source": [
    "full_section = Section(\n",
    "    section_name='Full',\n",
    "    subsections=sub_section,\n",
    "    keep_partial=True\n",
    "    )"
   ]
  },
  {
   "cell_type": "code",
   "execution_count": 79,
   "metadata": {},
   "outputs": [
    {
     "ename": "AttributeError",
     "evalue": "'list_iterator' object has no attribute 'previous_items'",
     "output_type": "error",
     "traceback": [
      "\u001b[1;31m---------------------------------------------------------------------------\u001b[0m",
      "\u001b[1;31mAttributeError\u001b[0m                            Traceback (most recent call last)",
      "\u001b[1;32m~\\AppData\\Local\\Temp/ipykernel_3172/2628161636.py\u001b[0m in \u001b[0;36m<module>\u001b[1;34m\u001b[0m\n\u001b[1;32m----> 1\u001b[1;33m \u001b[0mpprint\u001b[0m\u001b[1;33m(\u001b[0m\u001b[0mlist\u001b[0m\u001b[1;33m(\u001b[0m\u001b[0mtest_iter\u001b[0m\u001b[1;33m.\u001b[0m\u001b[0mprevious_items\u001b[0m\u001b[1;33m)\u001b[0m\u001b[1;33m)\u001b[0m\u001b[1;33m\u001b[0m\u001b[1;33m\u001b[0m\u001b[0m\n\u001b[0m",
      "\u001b[1;31mAttributeError\u001b[0m: 'list_iterator' object has no attribute 'previous_items'"
     ]
    }
   ],
   "source": [
    "pprint(list(test_iter.previous_items))"
   ]
  },
  {
   "cell_type": "code",
   "execution_count": null,
   "metadata": {},
   "outputs": [
    {
     "name": "stdout",
     "output_type": "stream",
     "text": [
      "['Even more text to be ignored']\n"
     ]
    }
   ],
   "source": [
    "pprint(list(test_iter.future_items))"
   ]
  },
  {
   "cell_type": "code",
   "execution_count": null,
   "metadata": {},
   "outputs": [
    {
     "name": "stdout",
     "output_type": "stream",
     "text": [
      "Status          :\tNot Started     \tNot Started     \n",
      "Current Section :\tFull            \tSubSection      \n"
     ]
    }
   ],
   "source": [
    "compare_context(full_section, sub_section)"
   ]
  }
 ],
 "metadata": {
  "kernelspec": {
   "display_name": "Python 3.8.12 ('sectionaryDev')",
   "language": "python",
   "name": "python3"
  },
  "language_info": {
   "codemirror_mode": {
    "name": "ipython",
    "version": 3
   },
   "file_extension": ".py",
   "mimetype": "text/x-python",
   "name": "python",
   "nbconvert_exporter": "python",
   "pygments_lexer": "ipython3",
   "version": "3.8.12"
  },
  "vscode": {
   "interpreter": {
    "hash": "890849be4bb9b5be1d044afe42e602ccc6ca20da23c054ee97c8186ec3939c45"
   }
  }
 },
 "nbformat": 4,
 "nbformat_minor": 4
}
