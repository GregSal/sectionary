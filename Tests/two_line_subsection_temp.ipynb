{
 "cells": [
  {
   "cell_type": "markdown",
   "metadata": {},
   "source": [
    "# Subsections Issue"
   ]
  },
  {
   "cell_type": "markdown",
   "metadata": {},
   "source": [
    "## Setup"
   ]
  },
  {
   "cell_type": "markdown",
   "metadata": {},
   "source": [
    "### Imports"
   ]
  },
  {
   "cell_type": "code",
   "execution_count": 1,
   "metadata": {},
   "outputs": [],
   "source": [
    "from typing import List\n",
    "from pathlib import Path\n",
    "from pprint import pprint\n",
    "import re\n",
    "import sys\n",
    "\n",
    "import pandas as pd\n",
    "import xlwings as xw\n",
    "\n",
    "from buffered_iterator import BufferedIterator\n",
    "import text_reader as tp\n",
    "from sections import Rule, RuleSet, SectionBreak, ProcessingMethods, Section"
   ]
  },
  {
   "cell_type": "markdown",
   "metadata": {},
   "source": [
    "### Function to compare context for two sections."
   ]
  },
  {
   "cell_type": "code",
   "execution_count": 2,
   "metadata": {},
   "outputs": [],
   "source": [
    "def compare_context(section1, section2):\n",
    "    ctx_template = '{key:16s}:\\t{item1:16s}\\t{item2:16s}'\n",
    "    context_1 = section1.context\n",
    "    context_2 = section2.context\n",
    "    keys_1 = set(context_1.keys())\n",
    "    keys_2 = set(context_2.keys())\n",
    "    all_keys = keys_1 | keys_2\n",
    "    for key in all_keys:\n",
    "        item1 = context_1.get(key, '')\n",
    "        item2 = context_2.get(key, '')\n",
    "        ctx_str = ctx_template.format(key=str(key), item1=str(item1), item2=str(item2))\n",
    "        print(ctx_str)"
   ]
  },
  {
   "cell_type": "code",
   "execution_count": 3,
   "metadata": {},
   "outputs": [],
   "source": [
    "GENERIC_TEST_TEXT = [\n",
    "    'Text to be ignored',\n",
    "    'StartSection Name: A',\n",
    "    'EndSection Name: A',\n",
    "    'Text between sections',\n",
    "    'StartSection Name: B',\n",
    "    'EndSection Name: B',\n",
    "    'More text to be ignored'\n",
    "    ]"
   ]
  },
  {
   "cell_type": "code",
   "execution_count": 4,
   "metadata": {},
   "outputs": [],
   "source": [
    "GENERIC_TEST_TEXT1 = [\n",
    "    'Text to be ignored',\n",
    "    'StartSection A',\n",
    "    'EndSection A',\n",
    "    'StartSection B',\n",
    "    'EndSection B',\n",
    "    'StartSection C',\n",
    "    'More text to be ignored',   # 'ignored' triggers end of top section\n",
    "    'EndSection C',\n",
    "    'Even more text to be ignored', \n",
    "    ]"
   ]
  },
  {
   "cell_type": "code",
   "execution_count": 5,
   "metadata": {},
   "outputs": [],
   "source": [
    "GENERIC_TEST_TEXT1a = [\n",
    "    'Text to be ignored',\n",
    "    'StartSection A',\n",
    "    'EndSection A',\n",
    "    'StartSection B',  # Missing 'EndSection B',\n",
    "    \n",
    "    'StartSection C',\n",
    "    'More text to be ignored',   # 'ignored' triggers end of top section\n",
    "    'EndSection C',\n",
    "    'Even more text to be ignored', \n",
    "    ]"
   ]
  },
  {
   "cell_type": "code",
   "execution_count": 6,
   "metadata": {},
   "outputs": [],
   "source": [
    "GENERIC_TEST_TEXT2 = [\n",
    "    'Text to be ignored',\n",
    "    'StartSection A',\n",
    "    'MiddleSection A',\n",
    "    'EndSection A',\n",
    "    'Unwanted text between sections',\n",
    "    'StartSection B',\n",
    "    'MiddleSection B',\n",
    "    'EndSection B',\n",
    "    'StartSection C',\n",
    "    'MiddleSection C',\n",
    "    'EndSection C',\n",
    "    'Even more text to be ignored', \n",
    "    ]"
   ]
  },
  {
   "cell_type": "markdown",
   "metadata": {},
   "source": [
    "## Three line sections"
   ]
  },
  {
   "cell_type": "markdown",
   "metadata": {},
   "source": [
    "**********\n",
    "\n",
    "# DONE TO HERE"
   ]
  },
  {
   "cell_type": "markdown",
   "metadata": {},
   "source": [
    "### Run with two-line sections:\n",
    "> `[`<br>\n",
    "> `'Text to be ignored',`<br>\n",
    "> `'StartSection Name: A',`<br>\n",
    "> `'EndSection Name: A',`<br>\n",
    "> `'Text between sections',`<br>\n",
    "> `'StartSection Name: B',`<br>\n",
    "> `'EndSection Name: B',`<br>\n",
    "> `'More text to be ignored'`<br>\n",
    "> `]`<br>\n",
    "\n",
    "- Section start **Before** *StartSection*\n",
    "- Section end **After** *EndSection*\n",
    "- SubSection start **After** *StartSection*\n",
    "\n",
    "```python\n",
    "sub_section = Section(section_name='SubSection',\n",
    "    start_section=SectionBreak('StartSection', break_offset='After')\n",
    "    )\n",
    "\n",
    "full_section = Section(section_name='Full',\n",
    "    start_section=SectionBreak('StartSection', break_offset='Before'),\n",
    "    end_section=SectionBreak('EndSection', break_offset='After'),\n",
    "    subsections=[sub_section] \n",
    "    )\n",
    "```"
   ]
  },
  {
   "cell_type": "code",
   "execution_count": 7,
   "metadata": {},
   "outputs": [],
   "source": [
    "sub_section = Section(\n",
    "    section_name='SubSection',\n",
    "    start_section=SectionBreak('StartSection', break_offset='After')\n",
    "    )\n",
    "full_section = Section(\n",
    "    section_name='Full',\n",
    "    start_section=SectionBreak('StartSection', break_offset='Before'),\n",
    "    end_section=SectionBreak('EndSection', break_offset='After'),\n",
    "    subsections=sub_section\n",
    "    )\n",
    "multi_section = Section(section_name='Multi',\n",
    "    subsections=full_section\n",
    "    )"
   ]
  },
  {
   "cell_type": "code",
   "execution_count": 8,
   "metadata": {},
   "outputs": [
    {
     "name": "stdout",
     "output_type": "stream",
     "text": [
      "[[['EndSection Name: A']], [['EndSection Name: B']]]\n"
     ]
    }
   ],
   "source": [
    "pprint(multi_section.read(GENERIC_TEST_TEXT))"
   ]
  },
  {
   "cell_type": "markdown",
   "metadata": {},
   "source": [
    "- ![Bad](../examples/error.png) Results in blank sub-list.\n",
    "<table><thead><th>Expected</th><th>Actual</th></thead>\n",
    "  <td><code>\n",
    "    [<br>\n",
    "      [['EndSection Name: A']],<br>\n",
    "      [['EndSection Name: B']]<br>\n",
    "    ]</code></td>\n",
    "  <td><code>[]</code></td></tr>\n",
    "</table>"
   ]
  },
  {
   "cell_type": "code",
   "execution_count": 9,
   "metadata": {},
   "outputs": [
    {
     "name": "stdout",
     "output_type": "stream",
     "text": [
      "[[['EndSection A']], [['EndSection B']], [['EndSection C']]]\n"
     ]
    }
   ],
   "source": [
    "sub_section = Section(\n",
    "    section_name='SubSection',\n",
    "    start_section=SectionBreak('EndSection', break_offset='Before')\n",
    "    #end_on_first_item=True,\n",
    "    #keep_partial=True,\n",
    "    #end_section=SectionBreak(True)\n",
    "    )\n",
    "\n",
    "full_section = Section(\n",
    "    section_name='Full',\n",
    "    start_section=SectionBreak('StartSection', break_offset='Before'),\n",
    "    end_section=SectionBreak('EndSection', break_offset='After'),\n",
    "    subsections=sub_section \n",
    "    )\n",
    "\n",
    "multi_section = Section(section_name='Multi',\n",
    "    subsections=full_section,\n",
    "    #end_on_first_item=True\n",
    "    )\n",
    "\n",
    "pprint(multi_section.read(GENERIC_TEST_TEXT2))"
   ]
  },
  {
   "cell_type": "code",
   "execution_count": 10,
   "metadata": {},
   "outputs": [
    {
     "name": "stdout",
     "output_type": "stream",
     "text": [
      "[['EndSection Name: A']]\n"
     ]
    }
   ],
   "source": [
    "pprint(full_section.read(GENERIC_TEST_TEXT))"
   ]
  },
  {
   "cell_type": "markdown",
   "metadata": {},
   "source": [
    "- ![Bad](../examples/error.png) Results in blank sub-list.\n",
    "<table><thead><th>Expected</th><th>Actual</th></thead>\n",
    "<tr><td><code></code></td>\n",
    "<td><code>[[]]</code></td></tr>\n",
    "</table>"
   ]
  },
  {
   "cell_type": "code",
   "execution_count": 15,
   "metadata": {},
   "outputs": [
    {
     "name": "stdout",
     "output_type": "stream",
     "text": [
      "[['EndSection Name: A'], ['EndSection Name: B']]\n"
     ]
    }
   ],
   "source": [
    "sub_section = Section(\n",
    "    section_name='SubSection',\n",
    "    start_section=SectionBreak('EndSection', break_offset='Before'),  # Added to use alone\n",
    "    #end_on_first_item=True,\n",
    "    #keep_partial=True,\n",
    "    end_section=SectionBreak(True)\n",
    "    )\n",
    "\n",
    "full_section = Section(\n",
    "    section_name='Full',\n",
    "    start_section=SectionBreak('StartSection', break_offset='After'),\n",
    "    #end_section=SectionBreak('EndSection', break_offset='After'),\n",
    "    subsections=[sub_section]  \n",
    "    )\n",
    "pprint(full_section.read(GENERIC_TEST_TEXT))"
   ]
  },
  {
   "cell_type": "markdown",
   "metadata": {},
   "source": [
    "- ![Good](../examples/Valid.png) Results in one line section\n",
    "- ![Bad](../examples/Error.png) - ??? Is this incorrect or is this expected???\n",
    "  \n",
    "<table><thead><th>Expected</th><th>Actual</th></thead>\n",
    "<tr><td><code></code></td>\n",
    "<td><code>\n",
    "[['EndSection Name: A'], ['EndSection Name: B'], []]\n",
    "  </code></td></tr>\n",
    "</table>"
   ]
  },
  {
   "cell_type": "markdown",
   "metadata": {},
   "source": [
    "### Add *Start After StartSection* and *End Before EndSection* to Section Definition, and for SubSection Definition, set *Start* to  *Before EndSection* and *End* to *`True` (Always Break)*\n",
    "> **Section Definition**<br> \n",
    "> `start_section=SectionBreak('StartSection', break_offset='After'),`\n",
    "> `end_section=SectionBreak('EndSection', break_offset='After'),`\n",
    "    \n",
    "> \n",
    "> **SubSection Definition**<br>\n",
    "> `start_section=SectionBreak('EndSection', break_offset='Before'),`\n",
    "> `end_section=SectionBreak(True),`\n",
    "    "
   ]
  },
  {
   "cell_type": "code",
   "execution_count": 16,
   "metadata": {},
   "outputs": [
    {
     "name": "stdout",
     "output_type": "stream",
     "text": [
      "[['EndSection Name: A'], ['EndSection Name: B']]\n"
     ]
    }
   ],
   "source": [
    "sub_section = Section(\n",
    "    section_name='SubSection',\n",
    "    start_section=SectionBreak('EndSection', break_offset='Before'),  # Added to use alone\n",
    "    #end_on_first_item=True,\n",
    "    #keep_partial=True,\n",
    "    end_section=SectionBreak(True)\n",
    "    )\n",
    "\n",
    "full_section = Section(\n",
    "    section_name='Full',\n",
    "    start_section=SectionBreak('StartSection', break_offset='After'),\n",
    "    end_section=SectionBreak('EndSection', break_offset='After'),\n",
    "    subsections=[sub_section] \n",
    "    )\n",
    "pprint(full_section.read(GENERIC_TEST_TEXT))"
   ]
  },
  {
   "cell_type": "markdown",
   "metadata": {},
   "source": [
    "- ![Good](../examples/Valid.png) Results in one line section\n",
    "- ![Bad](../examples/Error.png) - ??? Is this incorrect or is this expected???\n",
    "  \n",
    "<table><thead><th>Expected</th><th>Actual</th></thead>\n",
    "<tr><td><code></code></td>\n",
    "<td><code>\n",
    "[['EndSection Name: A']]\n",
    "  </code></td></tr>\n",
    "</table>"
   ]
  },
  {
   "cell_type": "markdown",
   "metadata": {},
   "source": [
    "### Add *Start __Before__ StartSection* and *End Before EndSection* to Section Definition, and for SubSection Definition, set *Start* to  *Before EndSection* and *End* to *`True` (Always Break)*\n",
    "> **Section Definition**<br> \n",
    "> `start_section=SectionBreak('StartSection', break_offset='Before'),`\n",
    "> `end_section=SectionBreak('EndSection', break_offset='After'),`\n",
    "    \n",
    "> \n",
    "> **SubSection Definition**<br>\n",
    "> `start_section=SectionBreak('EndSection', break_offset='Before'),`\n",
    "> `end_section=SectionBreak(True),`\n",
    "    "
   ]
  },
  {
   "cell_type": "code",
   "execution_count": 17,
   "metadata": {},
   "outputs": [
    {
     "name": "stdout",
     "output_type": "stream",
     "text": [
      "[['EndSection Name: A']]\n"
     ]
    }
   ],
   "source": [
    "sub_section = Section(\n",
    "    section_name='SubSection',\n",
    "    start_section=SectionBreak('EndSection', break_offset='Before'),  # Added to use alone\n",
    "    #end_on_first_item=True,\n",
    "    #keep_partial=True,\n",
    "    end_section=SectionBreak(True)\n",
    "    )\n",
    "\n",
    "full_section = Section(\n",
    "    section_name='Full',\n",
    "    start_section=SectionBreak('StartSection', break_offset='Before'),\n",
    "    end_section=SectionBreak('EndSection', break_offset='After'),\n",
    "    subsections=[sub_section]  \n",
    "    )\n",
    "pprint(full_section.read(GENERIC_TEST_TEXT))"
   ]
  },
  {
   "cell_type": "markdown",
   "metadata": {},
   "source": [
    "- ![Bad](../examples/Error.png) Results in empty list of lists\n",
    "- ??? Is this incorrect or is this expected???\n",
    "  \n",
    "<table><thead><th>Expected</th><th>Actual</th></thead>\n",
    "<tr><td><code></code></td>\n",
    "<td><code>[[]]</code></td></tr>\n",
    "</table>"
   ]
  },
  {
   "cell_type": "markdown",
   "metadata": {},
   "source": [
    "### Add *Start __Before__ StartSection* and *End Before EndSection* to Section Definition, and don't set any SectionBreaks for SubSection Definition, \n",
    "> **Section Definition**<br> \n",
    "> `start_section=SectionBreak('StartSection', break_offset='Before'),`\n",
    "> `end_section=SectionBreak('EndSection', break_offset='After'),`    \n",
    "    "
   ]
  },
  {
   "cell_type": "code",
   "execution_count": 19,
   "metadata": {},
   "outputs": [
    {
     "name": "stdout",
     "output_type": "stream",
     "text": [
      "[['StartSection Name: A', 'EndSection Name: A']]\n"
     ]
    }
   ],
   "source": [
    "sub_section = Section(\n",
    "    section_name='SubSection',\n",
    "    #start_section=SectionBreak('EndSection', break_offset='Before'),  # Added to use alone\n",
    "    #end_on_first_item=True,\n",
    "    #keep_partial=True,\n",
    "    #end_section=SectionBreak(True)\n",
    "    )\n",
    "\n",
    "full_section = Section(\n",
    "    section_name='Full',\n",
    "    start_section=SectionBreak('StartSection', break_offset='Before'),\n",
    "    end_section=SectionBreak('EndSection', break_offset='After'),\n",
    "    subsections=[sub_section]  \n",
    "    )\n",
    "pprint(full_section.read(GENERIC_TEST_TEXT))"
   ]
  },
  {
   "cell_type": "markdown",
   "metadata": {},
   "source": [
    "- ![Good](../examples/Valid.png) ![Bad](../examples/Error.png) ??? Is this incorrect or is this expected???\n",
    "  \n",
    "<table><thead><th>Expected</th><th>Actual</th></thead>\n",
    "<tr><td><code>[['StartSection Name: A', 'EndSection Name: A']]</code></td>\n",
    "<td><code>[['StartSection Name: A', 'EndSection Name: A']]</code></td></tr>\n",
    "</table>"
   ]
  },
  {
   "cell_type": "markdown",
   "metadata": {},
   "source": [
    "## Three line sections"
   ]
  },
  {
   "cell_type": "code",
   "execution_count": 21,
   "metadata": {},
   "outputs": [],
   "source": [
    "GENERIC_TEST_TEXT3 = [\n",
    "    'Text to be ignored',\n",
    "    'StartSection A',\n",
    "    'MiddleSection A',\n",
    "    'EndSection A',\n",
    "    'Unwanted text between sections',\n",
    "    'StartSection B',\n",
    "    'Random text in the middle of a section',\n",
    "    'MiddleSection B',\n",
    "    'EndSection B',\n",
    "    'StartSection C',\n",
    "    'MiddleSection C',\n",
    "    'EndSection C',\n",
    "    'Even more text to be ignored', \n",
    "    ]"
   ]
  },
  {
   "cell_type": "markdown",
   "metadata": {},
   "source": [
    "#### Single line subsection definitions "
   ]
  },
  {
   "cell_type": "code",
   "execution_count": 22,
   "metadata": {},
   "outputs": [],
   "source": [
    "start_sub_section = Section(\n",
    "    section_name='StartSubSection',\n",
    "    start_section=SectionBreak('StartSection', break_offset='Before'),\n",
    "    end_section=SectionBreak(True, break_offset='Before')\n",
    "    )\n",
    "\n",
    "middle_sub_section = Section(\n",
    "    section_name='MiddleSubSection',\n",
    "    start_section=SectionBreak('MiddleSection', break_offset='Before'),\n",
    "    end_section=SectionBreak(True, break_offset='Before')\n",
    "    )\n",
    "\n",
    "end_sub_section = Section(\n",
    "    section_name='EndSubSection',\n",
    "    start_section=SectionBreak('EndSection', break_offset='Before'),\n",
    "    end_section=SectionBreak(True, break_offset='Before')\n",
    "    )"
   ]
  },
  {
   "cell_type": "markdown",
   "metadata": {},
   "source": [
    "#### Defining ***three_part_section*** \n",
    "- Contains an ending break:\n",
    "    > `end_section=SectionBreak('ignored', break_offset='Before')`.\n",
    "\n",
    "- Contains 3 subsections:\n",
    "    > `[start_sub_section, middle_sub_section, end_sub_section]`"
   ]
  },
  {
   "cell_type": "code",
   "execution_count": 23,
   "metadata": {},
   "outputs": [
    {
     "name": "stdout",
     "output_type": "stream",
     "text": [
      "[[['StartSection A'], ['MiddleSection A'], ['EndSection A']],\n",
      " [['StartSection B'], ['MiddleSection B'], ['EndSection B']],\n",
      " [['StartSection C'], ['MiddleSection C'], ['EndSection C']]]\n"
     ]
    }
   ],
   "source": [
    "three_part_section = Section(\n",
    "    section_name='Top Section',\n",
    "    end_section=SectionBreak('ignored', break_offset='Before'),\n",
    "    subsections=[start_sub_section, middle_sub_section, end_sub_section]\n",
    "    )\n",
    "pprint(three_part_section.read(GENERIC_TEST_TEXT3))"
   ]
  },
  {
   "cell_type": "markdown",
   "metadata": {},
   "source": [
    "![Good](../examples/Valid.png) All 3 sections and subsections are completed. \n",
    "\n",
    "<table>\n",
    "    <thead><th>Expected</th><th>Actual</th></thead>\n",
    "    <tr>\n",
    "        <td><code>\n",
    "          [<br>\n",
    "            [\n",
    "              ['StartSection Name: A'],<br> \n",
    "              ['MiddleSection A'],<br> \n",
    "              ['EndSection Name: A']\n",
    "            ],<br>\n",
    "            [\n",
    "              ['StartSection Name: B'],<br> \n",
    "              ['MiddleSection A'],<br> \n",
    "              ['EndSection Name: B']\n",
    "            ]<br>\n",
    "            [\n",
    "              ['StartSection Name: C'],<br> \n",
    "              ['MiddleSection C'],<br> \n",
    "              ['EndSection Name: C']\n",
    "            ]<br>\n",
    "          ]\n",
    "        </code></td>\n",
    "        <td><code>\n",
    "          [<br>\n",
    "            [\n",
    "              ['StartSection Name: A'],<br> \n",
    "              ['MiddleSection A'],<br> \n",
    "              ['EndSection Name: A']\n",
    "            ],<br>\n",
    "            [\n",
    "              ['StartSection Name: B'],<br> \n",
    "              ['MiddleSection A'],<br> \n",
    "              ['EndSection Name: B']\n",
    "            ]<br>\n",
    "            [\n",
    "              ['StartSection Name: C'],<br> \n",
    "              ['MiddleSection C'],<br> \n",
    "              ['EndSection Name: C']\n",
    "            ]<br>\n",
    "          ]\n",
    "        </code></td></tr>\n",
    "</table>"
   ]
  },
  {
   "cell_type": "markdown",
   "metadata": {},
   "source": [
    "- Section start **Before** *StartSection*\n",
    "- Section end **After** *EndSection*\n",
    "- SubSection **End On First**\n",
    "\n",
    "```python\n",
    "sub_section = Section(section_name='SubSection',\n",
    "    end_on_first_item=True,\n",
    "    )\n",
    "\n",
    "full_section = Section(section_name='Full',\n",
    "    start_section=SectionBreak('StartSection', break_offset='Before'),\n",
    "    end_section=SectionBreak('EndSection', break_offset='After'),\n",
    "    subsections=[sub_section] \n",
    "    )\n",
    "```"
   ]
  },
  {
   "cell_type": "code",
   "execution_count": 24,
   "metadata": {},
   "outputs": [
    {
     "name": "stdout",
     "output_type": "stream",
     "text": [
      "[['StartSection A', 'MiddleSection A', 'EndSection A']]\n"
     ]
    }
   ],
   "source": [
    "sub_section = Section(\n",
    "    section_name='SubSection',\n",
    "    #start_section=SectionBreak('StartSection', break_offset='After')\n",
    "    end_on_first_item=True,\n",
    "    #keep_partial=True,\n",
    "    #end_section=SectionBreak(True)\n",
    "    )\n",
    "\n",
    "full_section = Section(\n",
    "    section_name='Full',\n",
    "    start_section=SectionBreak('StartSection', break_offset='Before'),\n",
    "    end_section=SectionBreak('EndSection', break_offset='After'),\n",
    "    subsections=[sub_section] \n",
    "    )\n",
    "\n",
    "pprint(full_section.read(GENERIC_TEST_TEXT3))"
   ]
  },
  {
   "cell_type": "code",
   "execution_count": 25,
   "metadata": {},
   "outputs": [
    {
     "name": "stdout",
     "output_type": "stream",
     "text": [
      "[[['StartSection A'], ['EndSection A']],\n",
      " [['StartSection B'], ['EndSection B']],\n",
      " [['StartSection C'], ['EndSection C']]]\n"
     ]
    }
   ],
   "source": [
    "top_section = Section(\n",
    "    section_name='Top Section',\n",
    "    end_section=SectionBreak('ignored', break_offset='Before'),\n",
    "    subsections=[start_sub_section, end_sub_section]\n",
    "    )\n",
    "pprint(top_section.read(GENERIC_TEST_TEXT3))"
   ]
  }
 ],
 "metadata": {
  "kernelspec": {
   "display_name": "Python 3.8.12 ('sectionaryDev')",
   "language": "python",
   "name": "python3"
  },
  "language_info": {
   "codemirror_mode": {
    "name": "ipython",
    "version": 3
   },
   "file_extension": ".py",
   "mimetype": "text/x-python",
   "name": "python",
   "nbconvert_exporter": "python",
   "pygments_lexer": "ipython3",
   "version": "3.8.12"
  },
  "vscode": {
   "interpreter": {
    "hash": "890849be4bb9b5be1d044afe42e602ccc6ca20da23c054ee97c8186ec3939c45"
   }
  }
 },
 "nbformat": 4,
 "nbformat_minor": 4
}
