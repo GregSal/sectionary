{
 "cells": [
  {
   "attachments": {},
   "cell_type": "markdown",
   "metadata": {},
   "source": [
    "# Multiple Single line sections\n",
    "## Single line section *StartSection*\n",
    "> - Start *Before* `StartSection`\n",
    "> - End *Before* `EndSection`"
   ]
  },
  {
   "cell_type": "code",
   "execution_count": null,
   "metadata": {},
   "outputs": [
    {
     "name": "stdout",
     "output_type": "stream",
     "text": [
      "['StartSection A']\n",
      "['StartSection B']\n",
      "[]\n"
     ]
    }
   ],
   "source": [
    "sub_section1 = Section(\n",
    "    name='SubSection',\n",
    "    start_section=SectionBreak('StartSection', break_offset='Before'),\n",
    "    end_section=SectionBreak('EndSection', break_offset='Before')\n",
    "    )\n",
    "\n",
    "test_iter = BufferedIterator(GENERIC_TEST_TEXT)\n",
    "pprint(sub_section1.read(test_iter))\n",
    "pprint(sub_section1.read(test_iter))\n",
    "pprint(sub_section1.read(test_iter))"
   ]
  },
  {
   "attachments": {},
   "cell_type": "markdown",
   "metadata": {},
   "source": [
    "Single line `StartSections` are returned\n",
    "|Expected|Actual|\n",
    "|-|-|\n",
    "|`['StartSection Name: A']`|`['StartSection Name: A']`|\n",
    "|`['StartSection Name: B']`|`['StartSection Name: B']`|\n",
    "|`[]`|`[]`|"
   ]
  },
  {
   "cell_type": "markdown",
   "metadata": {},
   "source": [
    "### Defining a section that calls `sub_section1`"
   ]
  },
  {
   "cell_type": "code",
   "execution_count": null,
   "metadata": {},
   "outputs": [
    {
     "name": "stdout",
     "output_type": "stream",
     "text": [
      "[['StartSection A'], ['StartSection B']]\n"
     ]
    }
   ],
   "source": [
    "full_section = Section(\n",
    "    name='Full',\n",
    "    end_section=SectionBreak('ignored', break_offset='Before'),\n",
    "    processor=[sub_section1]\n",
    "    )\n",
    "pprint(full_section.read(GENERIC_TEST_TEXT))"
   ]
  },
  {
   "attachments": {},
   "cell_type": "markdown",
   "metadata": {},
   "source": [
    "Both *StartSection* lines are found.\n",
    "\n",
    "<table>\n",
    "    <thead><th>Expected</th><th>Actual</th></thead>\n",
    "    <tr>\n",
    "        <td><code>\n",
    "        [<br>\n",
    "          ['StartSection Name: A'],<br>\n",
    "          ['StartSection Name: B'],<br>\n",
    "        ]</code></td>\n",
    "        <td><code>\n",
    "        [<br>\n",
    "          ['StartSection Name: A'],<br>\n",
    "          ['StartSection Name: B'],<br>\n",
    "        ]</code></td></tr>\n",
    "</table>"
   ]
  },
  {
   "cell_type": "markdown",
   "metadata": {},
   "source": [
    "### Multiple Attempts to define Single line *EndSection* \n",
    "#### Attempt #1. Copy *StartSection* design\n",
    "> - Start *Before* `EndSection`\n",
    "> - End *Before* `StartSection`\n"
   ]
  },
  {
   "cell_type": "code",
   "execution_count": null,
   "metadata": {},
   "outputs": [
    {
     "name": "stdout",
     "output_type": "stream",
     "text": [
      "['EndSection A']\n",
      "['EndSection B', 'More text to be ignored']\n",
      "[]\n"
     ]
    }
   ],
   "source": [
    "sub_section2a = Section(\n",
    "    name='SubSection',\n",
    "    start_section=SectionBreak('EndSection', break_offset='Before'),\n",
    "    end_section=SectionBreak('StartSection', break_offset='Before')\n",
    "    )\n",
    "test_iter = BufferedIterator(GENERIC_TEST_TEXT)\n",
    "pprint(sub_section2a.read(test_iter))\n",
    "pprint(sub_section2a.read(test_iter))\n",
    "pprint(sub_section2a.read(test_iter))"
   ]
  },
  {
   "attachments": {},
   "cell_type": "markdown",
   "metadata": {},
   "source": [
    "The result is expected, but not desired.\n",
    "- This doesn't work well because there isn't another *StartSection* after the last it *EndSection*.\n",
    "- As a result, it includes the unwanted text after the last *EndSection*.\n",
    " \n",
    "|Expected|Actual|\n",
    "|-|-|\n",
    "|`['EndSection A']`|`['EndSection A']`|\n",
    "|`['EndSection B', 'More text to be ignored']`|`['EndSection B', 'More text to be ignored']`|\n",
    "|`[]`|`[]`|"
   ]
  },
  {
   "cell_type": "markdown",
   "metadata": {},
   "source": [
    "#### Attempt #2\n",
    "> - Start *Before* `EndSection`\n",
    "> - End *After* `EndSection`\n",
    "\n",
    "- This doesn't work because The first line is not tested so it only breaks after the second occurrence of *EndSection*."
   ]
  },
  {
   "cell_type": "code",
   "execution_count": null,
   "metadata": {},
   "outputs": [
    {
     "name": "stdout",
     "output_type": "stream",
     "text": [
      "['EndSection A', 'StartSection B', 'EndSection B']\n",
      "[]\n",
      "[]\n"
     ]
    }
   ],
   "source": [
    "sub_section2b = Section(\n",
    "    name='SubSection',\n",
    "    start_section=SectionBreak('EndSection', break_offset='Before'),\n",
    "    end_section=SectionBreak('EndSection', break_offset='After'),\n",
    "    )\n",
    "test_iter = BufferedIterator(GENERIC_TEST_TEXT)\n",
    "pprint(sub_section2b.read(test_iter))\n",
    "pprint(sub_section2b.read(test_iter))\n",
    "pprint(sub_section2b.read(test_iter))"
   ]
  },
  {
   "attachments": {},
   "cell_type": "markdown",
   "metadata": {},
   "source": [
    "\n",
    "|Expected|Actual|\n",
    "|-|-|\n",
    "|`['EndSection A', 'StartSection B', 'EndSection B']`|`['EndSection A', 'StartSection B', 'EndSection B']`|\n",
    "|`[]`|`[]`|\n",
    "|`[]`|`[]`|\n"
   ]
  },
  {
   "cell_type": "markdown",
   "metadata": {},
   "source": [
    "#### Attempt #3\n",
    "> - Start *Before* `EndSection`\n",
    "> - End *After* `EndSection`\n",
    "> - Enable testing of first item\n",
    "\n",
    "- This should work because the first line should be tested and trigger a break."
   ]
  },
  {
   "cell_type": "code",
   "execution_count": null,
   "metadata": {},
   "outputs": [
    {
     "name": "stdout",
     "output_type": "stream",
     "text": [
      "['EndSection A']\n",
      "['EndSection B']\n",
      "[]\n"
     ]
    }
   ],
   "source": [
    "sub_section2c = Section(\n",
    "    name='SubSection',\n",
    "    start_section=SectionBreak('EndSection', break_offset='Before'),\n",
    "    end_section=SectionBreak('EndSection', break_offset='After'),\n",
    "    end_on_first_item=True,\n",
    "    )\n",
    "test_iter = BufferedIterator(GENERIC_TEST_TEXT)\n",
    "pprint(sub_section2c.read(test_iter))\n",
    "pprint(sub_section2c.read(test_iter))\n",
    "pprint(sub_section2c.read(test_iter))"
   ]
  },
  {
   "attachments": {},
   "cell_type": "markdown",
   "metadata": {},
   "source": [
    "\n",
    "\n",
    "|Expected|Actual|\n",
    "|-|-|\n",
    "|`['EndSection A']`|`['EndSection A']`|\n",
    "|`['EndSection B']`|`['EndSection B']`|\n",
    "|`[]`|`[]`|\n"
   ]
  },
  {
   "cell_type": "markdown",
   "metadata": {},
   "source": [
    "#### Attempt #3.5\n",
    "> - Start *Before* `EndSection`\n",
    "> - End *Before* `EndSection`\n",
    "> - Enable testing of first item\n",
    "\n",
    "- This should __<u>not</u>__ work because the first line should be tested and \n",
    "  trigger a break before returning anything."
   ]
  },
  {
   "cell_type": "code",
   "execution_count": null,
   "metadata": {},
   "outputs": [
    {
     "name": "stdout",
     "output_type": "stream",
     "text": [
      "[]\n",
      "[]\n",
      "[]\n"
     ]
    }
   ],
   "source": [
    "sub_section2cc = Section(\n",
    "    name='SubSection',\n",
    "    start_section=SectionBreak('EndSection', break_offset='Before'),\n",
    "    end_section=SectionBreak('EndSection', break_offset='Before'),\n",
    "    end_on_first_item=True,\n",
    "    )\n",
    "test_iter = BufferedIterator(GENERIC_TEST_TEXT)\n",
    "pprint(sub_section2cc.read(test_iter))\n",
    "pprint(sub_section2cc.read(test_iter))\n",
    "pprint(sub_section2cc.read(test_iter))"
   ]
  },
  {
   "attachments": {},
   "cell_type": "markdown",
   "metadata": {},
   "source": [
    "\n",
    "\n",
    "|Expected|Actual|\n",
    "|-|-|\n",
    "|`[]`|`[]`|\n",
    "|`[]`|`[]`|\n",
    "|`[]`|`[]`|\n"
   ]
  },
  {
   "cell_type": "markdown",
   "metadata": {},
   "source": [
    "#### Attempt #4\n",
    "> - Start *Before* `EndSection`\n",
    "> - End is `True` (Always Break)\n",
    "> - Enable testing of first item\n",
    "\n",
    "- This should work because the first line should be tested and always trigger a break."
   ]
  },
  {
   "cell_type": "code",
   "execution_count": null,
   "metadata": {},
   "outputs": [
    {
     "name": "stdout",
     "output_type": "stream",
     "text": [
      "['EndSection A']\n",
      "['EndSection B']\n",
      "[]\n"
     ]
    }
   ],
   "source": [
    "sub_section2d = Section(\n",
    "    name='SubSection',\n",
    "    start_section=SectionBreak('EndSection', break_offset='Before'),\n",
    "    end_section=SectionBreak(True, break_offset='After'),\n",
    "    end_on_first_item=True,\n",
    "    )\n",
    "test_iter = BufferedIterator(GENERIC_TEST_TEXT)\n",
    "pprint(sub_section2d.read(test_iter))\n",
    "pprint(sub_section2d.read(test_iter))\n",
    "pprint(sub_section2d.read(test_iter))"
   ]
  },
  {
   "attachments": {},
   "cell_type": "markdown",
   "metadata": {},
   "source": [
    "\n",
    "\n",
    "|Expected|Actual|\n",
    "|-|-|\n",
    "|`['StartSection A']`|`['EndSection A']`|\n",
    "|`['StartSection B']`|`['EndSection B']`|\n",
    "|`[]`|`[]`|"
   ]
  },
  {
   "cell_type": "markdown",
   "metadata": {},
   "source": [
    "#### Attempt #5\n",
    "> - Start *Before* `EndSection`\n",
    "> - End is `True` (Always Break)\n",
    "> - Don't enable testing of first item\n",
    "\n",
    "- This should <u>not</u> work because the break should trigger on the second line."
   ]
  },
  {
   "cell_type": "code",
   "execution_count": null,
   "metadata": {},
   "outputs": [
    {
     "name": "stdout",
     "output_type": "stream",
     "text": [
      "['EndSection A', 'StartSection B']\n",
      "['EndSection B', 'More text to be ignored']\n",
      "[]\n"
     ]
    }
   ],
   "source": [
    "sub_section2e = Section(\n",
    "    name='SubSection',\n",
    "    start_section=SectionBreak('EndSection', break_offset='Before'),\n",
    "    end_section=SectionBreak(True, break_offset='After')\n",
    "    )\n",
    "test_iter = BufferedIterator(GENERIC_TEST_TEXT)\n",
    "pprint(sub_section2e.read(test_iter))\n",
    "pprint(sub_section2e.read(test_iter))\n",
    "pprint(sub_section2e.read(test_iter))"
   ]
  },
  {
   "attachments": {},
   "cell_type": "markdown",
   "metadata": {},
   "source": [
    "\n",
    "\n",
    "|Expected|Actual|\n",
    "|-|-|\n",
    "|`['EndSection A', 'StartSection B']`|`['EndSection A', 'StartSection B']`|\n",
    "|`['EndSection B', 'More text to be ignored']`|`['EndSection B', 'More text to be ignored']`|\n",
    "|`[]`|`[]`|\n",
    "\n",
    "**`end_section=SectionBreak(True)` defaults to `break_offset='Before'`**"
   ]
  },
  {
   "cell_type": "markdown",
   "metadata": {},
   "source": [
    "#### Attempt #6\n",
    "> - Start *Before* `EndSection`\n",
    "> - End *After* ___`True`___ (Always Break)\n",
    "> - Don't enable testing of first item\n",
    "\n",
    "- This should <u>not</u> work because the break should trigger *After* the second line."
   ]
  },
  {
   "cell_type": "code",
   "execution_count": null,
   "metadata": {},
   "outputs": [
    {
     "name": "stdout",
     "output_type": "stream",
     "text": [
      "['EndSection A', 'StartSection B']\n",
      "['EndSection B', 'More text to be ignored']\n",
      "[]\n"
     ]
    }
   ],
   "source": [
    "sub_section2f = Section(\n",
    "    name='SubSection',\n",
    "    start_section=SectionBreak('EndSection', break_offset='Before'),\n",
    "    end_section=SectionBreak(True, break_offset='After')\n",
    "    )\n",
    "test_iter = BufferedIterator(GENERIC_TEST_TEXT)\n",
    "pprint(sub_section2f.read(test_iter))\n",
    "pprint(sub_section2f.read(test_iter))\n",
    "pprint(sub_section2f.read(test_iter))"
   ]
  },
  {
   "attachments": {},
   "cell_type": "markdown",
   "metadata": {},
   "source": [
    "\n",
    "|Expected|Actual|\n",
    "|-|-|\n",
    "|`['EndSection A', 'StartSection B']`|`['EndSection A', 'StartSection B']`|\n",
    "|`['EndSection B', 'More text to be ignored']`|`['EndSection B', 'More text to be ignored']`|\n",
    "|`[]`|`[]`|"
   ]
  },
  {
   "cell_type": "markdown",
   "metadata": {},
   "source": [
    "#### Attempt #7\n",
    "> - Start *Before* `EndSection`\n",
    "> - Enable testing of first item\n",
    "> - No End setting\n",
    "\n",
    "- This should start with the first *EndSection* line and not stop until the end of the iterator."
   ]
  },
  {
   "cell_type": "code",
   "execution_count": null,
   "metadata": {},
   "outputs": [
    {
     "name": "stdout",
     "output_type": "stream",
     "text": [
      "['EndSection A', 'StartSection B', 'EndSection B', 'More text to be ignored']\n",
      "[]\n",
      "[]\n"
     ]
    }
   ],
   "source": [
    "sub_section2g = Section(\n",
    "    name='SubSection',\n",
    "    start_section=SectionBreak('EndSection', break_offset='Before'),\n",
    "    end_on_first_item=True,\n",
    "    )\n",
    "test_iter = BufferedIterator(GENERIC_TEST_TEXT)\n",
    "pprint(sub_section2g.read(test_iter))\n",
    "pprint(sub_section2g.read(test_iter))\n",
    "pprint(sub_section2g.read(test_iter))"
   ]
  },
  {
   "attachments": {},
   "cell_type": "markdown",
   "metadata": {},
   "source": [
    "\n",
    "|Expected|Actual|\n",
    "|-|-|\n",
    "|`['EndSection Name: A', ['StartSection Name: B', 'EndSection Name: B', 'More text to be ignored']`|`['EndSection Name: A', 'StartSection Name: B', 'EndSection Name: B', 'More text to be ignored']`|\n",
    "|`[]`|`[]`|\n",
    "|`[]`|`[]`|\n"
   ]
  },
  {
   "cell_type": "markdown",
   "metadata": {},
   "source": [
    "#### Single line section *EndSection* __Final Design__.\n",
    "> - Start *Before* `EndSection`\n",
    "> - End *Before* ___`True`___ (Always Break)\n",
    "> - Don't enable testing of first item\n",
    "\n",
    "- This should work because the break should trigger *Before* the second line."
   ]
  },
  {
   "cell_type": "code",
   "execution_count": null,
   "metadata": {},
   "outputs": [
    {
     "name": "stdout",
     "output_type": "stream",
     "text": [
      "['EndSection A']\n",
      "['EndSection B']\n",
      "[]\n"
     ]
    }
   ],
   "source": [
    "sub_section2 = Section(\n",
    "    name='SubSection',\n",
    "    start_section=SectionBreak('EndSection', break_offset='Before'),\n",
    "    end_section=SectionBreak(True, break_offset='Before')\n",
    "    )\n",
    "test_iter = BufferedIterator(GENERIC_TEST_TEXT)\n",
    "pprint(sub_section2.read(test_iter))\n",
    "pprint(sub_section2.read(test_iter))\n",
    "pprint(sub_section2.read(test_iter))"
   ]
  },
  {
   "attachments": {},
   "cell_type": "markdown",
   "metadata": {},
   "source": [
    "End breaks *Before* second line. \n",
    "\n",
    "|Expected|Actual|\n",
    "|-|-|\n",
    "|`['EndSection Name: A']`|`['EndSection Name: A']`|\n",
    "|`['EndSection Name: B']`|`['EndSection Name: B']`|\n",
    "|`[]`|`[]`|"
   ]
  },
  {
   "cell_type": "code",
   "execution_count": null,
   "metadata": {},
   "outputs": [],
   "source": [
    "GENERIC_TEST_TEXT = [\n",
    "    'Text to be ignored',\n",
    "    'StartSection A',\n",
    "    'EndSection A',\n",
    "    'StartSection B',\n",
    "    'EndSection B', \n",
    "    'More text to be ignored',\n",
    "    ]"
   ]
  },
  {
   "cell_type": "code",
   "execution_count": null,
   "metadata": {},
   "outputs": [],
   "source": [
    "start_sub_section = Section(\n",
    "    name='StartSection',\n",
    "    start_section=SectionBreak('StartSection', break_offset='Before'),\n",
    "    end_section=SectionBreak('EndSection', break_offset='Before')\n",
    "    )\n",
    "end_sub_section = Section(\n",
    "    name='EndSection',\n",
    "    start_section=SectionBreak('EndSection', break_offset='Before'),\n",
    "    end_section=SectionBreak(True, break_offset='Before')\n",
    "    )\n"
   ]
  },
  {
   "cell_type": "markdown",
   "metadata": {},
   "source": [
    "### Combined Start and End subsections Single line section \n",
    "***sub_section1***\n",
    "> - Start *Before* `StartSection`\n",
    "> - End *Before* `EndSection`\n",
    "\n",
    "***sub_section2*** \n",
    "> - Start *Before* `EndSection`\n",
    "> - End *Before* ___`True`___ (Always Break)\n",
    "> - Don't enable testing of first item\n",
    "\n",
    "`processor=[[sub_section1, sub_section2]]`"
   ]
  },
  {
   "cell_type": "code",
   "execution_count": null,
   "metadata": {},
   "outputs": [
    {
     "name": "stdout",
     "output_type": "stream",
     "text": [
      "[{'EndSection': ['EndSection A'], 'StartSection': ['StartSection A']},\n",
      " {'EndSection': ['EndSection B'], 'StartSection': ['StartSection B']}]\n"
     ]
    }
   ],
   "source": [
    "\n",
    "full_section = Section(\n",
    "    name='Full',\n",
    "    processor=[[start_sub_section, end_sub_section]]\n",
    "    )\n",
    "pprint(full_section.read(GENERIC_TEST_TEXT))"
   ]
  },
  {
   "attachments": {},
   "cell_type": "markdown",
   "metadata": {},
   "source": [
    "List of dictionaries. \n",
    "One dictionary for each section group.\n",
    "<table>\n",
    "    <thead><tr><th>Expected</th><th>Actual</th></tr></thead>\n",
    "        <tr>\n",
    "            <td><code>\n",
    "                [<br>  \n",
    "                {'StartSection': ['StartSection A'],<br>\n",
    "                'EndSection':   ['EndSection A']},<br>\n",
    "                {'StartSection': ['StartSection B'],<br>\n",
    "                'EndSection':   ['EndSection B']}<br>\n",
    "                ]\n",
    "            </code></td>\n",
    "            <td><code>\n",
    "                [<br>  \n",
    "                {'StartSection': ['StartSection A'],<br>\n",
    "                'EndSection':   ['EndSection A']},<br>\n",
    "                {'StartSection': ['StartSection B'],<br>\n",
    "                'EndSection':   ['EndSection B']}<br>\n",
    "                ]\n",
    "            </code></td>\n",
    "        </tr>\n",
    "</table>"
   ]
  },
  {
   "cell_type": "markdown",
   "metadata": {},
   "source": [
    "### Defining a Top Section that calls two single line subsections."
   ]
  },
  {
   "cell_type": "markdown",
   "metadata": {},
   "source": [
    "#### Two Subsection definitions "
   ]
  },
  {
   "cell_type": "code",
   "execution_count": null,
   "metadata": {},
   "outputs": [],
   "source": [
    "start_sub_section = Section(\n",
    "    name='StartSection',\n",
    "    start_section=SectionBreak('StartSection', break_offset='Before'),\n",
    "    end_section=SectionBreak(True, break_offset='Before')\n",
    "    )\n",
    "end_sub_section = Section(\n",
    "    name='EndSection',\n",
    "    start_section=SectionBreak('EndSection', break_offset='Before'),\n",
    "    end_section=SectionBreak(True, break_offset='Before')\n",
    "    )\n"
   ]
  },
  {
   "cell_type": "markdown",
   "metadata": {},
   "source": [
    "#### Defining ***top_section*** \n",
    "- Contains an ending break:\n",
    "    > `end_section=SectionBreak('ignored', break_offset='Before')`."
   ]
  },
  {
   "cell_type": "code",
   "execution_count": null,
   "metadata": {},
   "outputs": [
    {
     "name": "stdout",
     "output_type": "stream",
     "text": [
      "[{'EndSection': ['EndSection A'], 'StartSection': ['StartSection A']},\n",
      " {'EndSection': ['EndSection B'], 'StartSection': ['StartSection B']}]\n"
     ]
    }
   ],
   "source": [
    "\n",
    "top_section = Section(\n",
    "    name='Full',\n",
    "    end_section=SectionBreak('ignored', break_offset='Before'),\n",
    "    processor=[[start_sub_section, end_sub_section]]\n",
    "    )\n",
    "pprint(top_section.read(GENERIC_TEST_TEXT))"
   ]
  },
  {
   "attachments": {},
   "cell_type": "markdown",
   "metadata": {},
   "source": [
    "List of dictionaries. \n",
    "One dictionary for each section group.\n",
    "<table>\n",
    "    <thead><tr><th>Expected</th><th>Actual</th></tr></thead>\n",
    "        <tr>\n",
    "            <td><code>\n",
    "                [<br>  \n",
    "                {'StartSection': ['StartSection A'],<br>\n",
    "                'EndSection':   ['EndSection A']},<br>\n",
    "                {'StartSection': ['StartSection B'],<br>\n",
    "                'EndSection':   ['EndSection B']}<br>\n",
    "                ]\n",
    "            </code></td>\n",
    "            <td><code>\n",
    "                [<br>  \n",
    "                {'StartSection': ['StartSection A'],<br>\n",
    "                'EndSection':   ['EndSection A']},<br>\n",
    "                {'StartSection': ['StartSection B'],<br>\n",
    "                'EndSection':   ['EndSection B']}<br>\n",
    "                ]\n",
    "            </code></td>\n",
    "        </tr>\n",
    "</table>"
   ]
  },
  {
   "cell_type": "markdown",
   "metadata": {},
   "source": [
    "#### Adding subsection C and subsection D"
   ]
  },
  {
   "cell_type": "code",
   "execution_count": null,
   "metadata": {},
   "outputs": [
    {
     "name": "stdout",
     "output_type": "stream",
     "text": [
      "[{'EndSection': ['EndSection A'], 'StartSection': ['StartSection A']},\n",
      " {'EndSection': ['EndSection B'], 'StartSection': ['StartSection B']},\n",
      " {'EndSection': ['EndSection C'], 'StartSection': ['StartSection C']},\n",
      " {'EndSection': ['EndSection D'], 'StartSection': ['StartSection D']}]\n"
     ]
    }
   ],
   "source": [
    "GENERIC_TEST_TEXT = [\n",
    "    'Text to be ignored',\n",
    "    'StartSection A',\n",
    "    'EndSection A',\n",
    "    'StartSection B',\n",
    "    'EndSection B', \n",
    "    'StartSection C',\n",
    "    'EndSection C',\n",
    "    'StartSection D',\n",
    "    'EndSection D',\n",
    "    'More text to be ignored',\n",
    "    ]\n",
    "\n",
    "pprint(top_section.read(GENERIC_TEST_TEXT))"
   ]
  },
  {
   "attachments": {},
   "cell_type": "markdown",
   "metadata": {},
   "source": [
    "List of dictionaries. \n",
    "One dictionary for each section group.\n",
    "<table>\n",
    "    <thead><tr><th>Expected</th><th>Actual</th></tr></thead>\n",
    "        <tr><td><code>[</code></td><td><code>[</code></td></tr>\n",
    "        <tr>\n",
    "            <td><code>\n",
    "                {'StartSection': ['StartSection A'],<br>\n",
    "                'EndSection':   ['EndSection A']},\n",
    "            </code></td>\n",
    "            <td><code>\n",
    "                {'StartSection': ['StartSection A'],<br>\n",
    "                'EndSection':   ['EndSection A']},\n",
    "            </code></td>\n",
    "        </tr><tr>\n",
    "            <td><code>\n",
    "                {'StartSection': ['StartSection B'],<br>\n",
    "                'EndSection':   ['EndSection B']},\n",
    "            </code></td>\n",
    "            <td><code>\n",
    "                {'StartSection': ['StartSection B'],<br>\n",
    "                'EndSection':   ['EndSection B']},\n",
    "            </code></td>\n",
    "        </tr><tr>\n",
    "            <td><code>\n",
    "                {'StartSection': ['StartSection C'],<br>\n",
    "                'EndSection':   ['EndSection C']},\n",
    "            </code></td>\n",
    "            <td><code>\n",
    "                {'StartSection': ['StartSection C'],<br>\n",
    "                'EndSection':   ['EndSection C']},\n",
    "            </code></td>\n",
    "        </tr><tr>\n",
    "            <td><code>\n",
    "                {'StartSection': ['StartSection D'],<br>\n",
    "                'EndSection':   ['EndSection D']},\n",
    "            </code></td>\n",
    "            <td><code>\n",
    "                {'StartSection': ['StartSection D'],<br>\n",
    "                'EndSection':   ['EndSection D']},\n",
    "            </code></td>\n",
    "        </tr>\n",
    "        <tr><td><code>]</code></td><td><code>]</code></td></tr>\n",
    "</table>"
   ]
  },
  {
   "cell_type": "markdown",
   "metadata": {},
   "source": [
    "### Including unwanted text in between subsections"
   ]
  },
  {
   "cell_type": "code",
   "execution_count": null,
   "metadata": {},
   "outputs": [
    {
     "name": "stdout",
     "output_type": "stream",
     "text": [
      "[{'EndSection': ['EndSection A'], 'StartSection': ['StartSection A']},\n",
      " {'EndSection': ['EndSection C'], 'StartSection': ['StartSection B']}]\n"
     ]
    }
   ],
   "source": [
    "GENERIC_TEST_TEXT = [\n",
    "    'Text to be ignored',\n",
    "    'StartSection A',\n",
    "    'EndSection A',\n",
    "    'StartSection B',  # Missing 'EndSection B',\n",
    "    'StartSection C',\n",
    "    'EndSection C',\n",
    "    'More text to be ignored',   # 'ignored' triggers end of top section\n",
    "    'StartSection D',\n",
    "    'EndSection D',\n",
    "    'More text to be ignored',\n",
    "    ]\n",
    "\n",
    "pprint(top_section.read(GENERIC_TEST_TEXT))\n"
   ]
  },
  {
   "attachments": {},
   "cell_type": "markdown",
   "metadata": {},
   "source": [
    "List of dictionaries stops after\n",
    " _'More text to be ignored'_ line.\n",
    "<table>\n",
    "    <thead><tr><th>Expected</th><th>Actual</th></tr></thead>\n",
    "        <tr><td><code>[</code></td><td><code>[</code></td></tr>\n",
    "        <tr>\n",
    "            <td><code>\n",
    "                {'StartSection': ['StartSection A'],<br>\n",
    "                'EndSection':   ['EndSection A']},\n",
    "            </code></td>\n",
    "            <td><code>\n",
    "                {'StartSection': ['StartSection A'],<br>\n",
    "                'EndSection':   ['EndSection A']},\n",
    "            </code></td>\n",
    "        </tr><tr>\n",
    "            <td><code>\n",
    "                {'StartSection': ['StartSection B'],<br>\n",
    "                'EndSection':   ['EndSection B']},\n",
    "            </code></td>\n",
    "            <td><code>\n",
    "                {'StartSection': ['StartSection B'],<br>\n",
    "                'EndSection':   ['EndSection B']},\n",
    "            </code></td>\n",
    "        </tr><tr>\n",
    "            <td><code>\n",
    "                {'StartSection': ['StartSection C'],<br>\n",
    "                'EndSection':   ['EndSection C']},\n",
    "            </code></td>\n",
    "            <td><code>\n",
    "                {'StartSection': ['StartSection C'],<br>\n",
    "                'EndSection':   ['EndSection C']},\n",
    "            </code></td>\n",
    "        </tr>\n",
    "        <tr><td><code>]</code></td><td><code>]</code></td></tr>\n",
    "</table>"
   ]
  },
  {
   "cell_type": "markdown",
   "metadata": {},
   "source": [
    "#### Including unwanted text in between the start and end of subsection C"
   ]
  },
  {
   "cell_type": "code",
   "execution_count": null,
   "metadata": {},
   "outputs": [
    {
     "name": "stdout",
     "output_type": "stream",
     "text": [
      "[{'EndSection': ['EndSection A'], 'StartSection': ['StartSection A']},\n",
      " {'EndSection': ['EndSection B'], 'StartSection': ['StartSection B']},\n",
      " {'StartSection': ['StartSection C']}]\n"
     ]
    }
   ],
   "source": [
    "GENERIC_TEST_TEXT = [\n",
    "    'Text to be ignored',\n",
    "    'StartSection A',\n",
    "    'EndSection A',\n",
    "    'StartSection B',\n",
    "    'EndSection B', \n",
    "    'StartSection C',\n",
    "    'More text to be ignored',   # 'ignored' triggers end of top section\n",
    "    'EndSection C',\n",
    "    'StartSection D',\n",
    "    'EndSection D',\n",
    "    'More text to be ignored',\n",
    "    ]\n",
    "\n",
    "pprint(top_section.read(GENERIC_TEST_TEXT))"
   ]
  },
  {
   "attachments": {},
   "cell_type": "markdown",
   "metadata": {},
   "source": [
    "List of dictionaries stops after\n",
    " _'More text to be ignored'_ line.\n",
    " For Section __C__, only _'StartSection'_ is in the dictionary.\n",
    "<table>\n",
    "    <thead><tr><th>Expected</th><th>Actual</th></tr></thead>\n",
    "        <tr><td><code>[</code></td><td><code>[</code></td></tr>\n",
    "        <tr>\n",
    "            <td><code>\n",
    "                {'StartSection': ['StartSection A'],<br>\n",
    "                'EndSection':   ['EndSection A']},\n",
    "            </code></td>\n",
    "            <td><code>\n",
    "                {'StartSection': ['StartSection A'],<br>\n",
    "                'EndSection':   ['EndSection A']},\n",
    "            </code></td>\n",
    "        </tr><tr>\n",
    "            <td><code>\n",
    "                {'StartSection': ['StartSection B'],<br>\n",
    "                'EndSection':   ['EndSection B']},\n",
    "            </code></td>\n",
    "            <td><code>\n",
    "                {'StartSection': ['StartSection B'],<br>\n",
    "                'EndSection':   ['EndSection B']},\n",
    "            </code></td>\n",
    "        </tr><tr>\n",
    "            <td><code>\n",
    "                {'StartSection': ['StartSection C']},\n",
    "            </code></td>\n",
    "            <td><code>\n",
    "                {'StartSection': ['StartSection C']},\n",
    "            </code></td>\n",
    "        </tr>\n",
    "        <tr><td><code>]</code></td><td><code>]</code></td></tr>\n",
    "</table>"
   ]
  },
  {
   "cell_type": "markdown",
   "metadata": {},
   "source": [
    "#### Dropping the corresponding *EndSection* for a *StartSection*."
   ]
  },
  {
   "cell_type": "code",
   "execution_count": null,
   "metadata": {},
   "outputs": [
    {
     "name": "stdout",
     "output_type": "stream",
     "text": [
      "[{'EndSection': ['EndSection A'], 'StartSection': ['StartSection A']},\n",
      " {'EndSection': ['EndSection C'], 'StartSection': ['StartSection B']},\n",
      " {'EndSection': ['EndSection D'], 'StartSection': ['StartSection D']}]\n"
     ]
    }
   ],
   "source": [
    "GENERIC_TEST_TEXT = [\n",
    "    'Text to be ignored',\n",
    "    'StartSection A',\n",
    "    'EndSection A',\n",
    "    'StartSection B',  # Missing 'EndSection B',\n",
    "    'StartSection C',\n",
    "    'EndSection C',\n",
    "    'StartSection D',\n",
    "    'EndSection D',\n",
    "    'More text to be ignored',\n",
    "    ]\n",
    "\n",
    "pprint(top_section.read(GENERIC_TEST_TEXT))\n"
   ]
  },
  {
   "attachments": {},
   "cell_type": "markdown",
   "metadata": {},
   "source": [
    "_'StartSection B'_ is read, then section ends. \n",
    "`top_section` then ignores all lines until start of next `end_sub_section`:\n",
    "_'EndSection C'_.\n",
    "<style type=\"text/css\">\n",
    ".hl{font-weight:bold;color:cyan;font-size: 110%;font-family: serif}\n",
    "</style>\n",
    "<table>\n",
    "    <thead><tr><th>Expected</th><th>Actual</th></tr></thead>\n",
    "        <tr><td><code>[</code></td><td><code>[</code></td></tr>\n",
    "        <tr>\n",
    "            <td><code>\n",
    "                {'StartSection': ['StartSection A'],<br>\n",
    "                'EndSection':   ['EndSection A']},\n",
    "            </code></td>\n",
    "            <td><code>\n",
    "                {'StartSection': ['StartSection A'],<br>\n",
    "                'EndSection':   ['EndSection A']},\n",
    "            </code></td>\n",
    "        </tr><tr>\n",
    "            <td><code>\n",
    "                {'StartSection': ['StartSection <Span class=\"hl\">B</Span>'],<br>\n",
    "                'EndSection':   ['EndSection <Span class=\"hl\">C</Span>']},\n",
    "            </code></td>\n",
    "            <td><code>\n",
    "                {'StartSection': ['StartSection <Span class=\"hl\">B</Span>'],<br>\n",
    "                'EndSection':   ['EndSection <Span class=\"hl\">C</Span>']},\n",
    "            </code></td>\n",
    "        </tr><tr>\n",
    "            <td><code>\n",
    "                {'StartSection': ['StartSection D'],<br>\n",
    "                'EndSection':   ['EndSection D']},\n",
    "            </code></td>\n",
    "            <td><code>\n",
    "                {'StartSection': ['StartSection D'],<br>\n",
    "                'EndSection':   ['EndSection D']},\n",
    "            </code></td>\n",
    "        </tr>\n",
    "        <tr><td><code>]</code></td><td><code>]</code></td></tr>\n",
    "</table>"
   ]
  },
  {
   "cell_type": "markdown",
   "metadata": {},
   "source": [
    "#### Dropping the corresponding *StartSection* for an *EndSection*."
   ]
  },
  {
   "cell_type": "code",
   "execution_count": null,
   "metadata": {},
   "outputs": [
    {
     "name": "stdout",
     "output_type": "stream",
     "text": [
      "[{'EndSection': ['EndSection A'], 'StartSection': ['StartSection A']},\n",
      " {'EndSection': ['EndSection B'], 'StartSection': ['StartSection B']},\n",
      " {'EndSection': ['EndSection D'], 'StartSection': ['StartSection D']}]\n"
     ]
    }
   ],
   "source": [
    "GENERIC_TEST_TEXT = [\n",
    "    'Text to be ignored',\n",
    "    'StartSection A',\n",
    "    'EndSection A',\n",
    "    'StartSection B',  \n",
    "    'EndSection B',  # Missing 'StartSection C',\n",
    "    'EndSection C',\n",
    "    'StartSection D',\n",
    "    'EndSection D',\n",
    "    'More text to be ignored',\n",
    "    ]\n",
    "\n",
    "pprint(top_section.read(GENERIC_TEST_TEXT))\n"
   ]
  },
  {
   "attachments": {},
   "cell_type": "markdown",
   "metadata": {},
   "source": [
    "The entire _Section C_ is skipped because it \n",
    "will not look for an _EndSection_ until a _StartSection_ is found.\n",
    "<table>\n",
    "    <thead><tr><th>Expected</th><th>Actual</th></tr></thead>\n",
    "        <tr><td><code>[</code></td><td><code>[</code></td></tr>\n",
    "        <tr>\n",
    "            <td><code>\n",
    "                {'StartSection': ['StartSection A'],<br>\n",
    "                'EndSection':   ['EndSection A']},\n",
    "            </code></td>\n",
    "            <td><code>\n",
    "                {'StartSection': ['StartSection A'],<br>\n",
    "                'EndSection':   ['EndSection A']},\n",
    "            </code></td>\n",
    "        </tr><tr>\n",
    "            <td><code>\n",
    "                {'StartSection': ['StartSection B'],<br>\n",
    "                'EndSection':   ['EndSection B']},\n",
    "            </code></td>\n",
    "            <td><code>\n",
    "                {'StartSection': ['StartSection B'],<br>\n",
    "                'EndSection':   ['EndSection B']},\n",
    "            </code></td>\n",
    "        </tr><tr>\n",
    "            <td><code>\n",
    "                {'StartSection': ['StartSection D'],<br>\n",
    "                'EndSection':   ['EndSection D']},\n",
    "            </code></td>\n",
    "            <td><code>\n",
    "                {'StartSection': ['StartSection D'],<br>\n",
    "                'EndSection':   ['EndSection D']},\n",
    "            </code></td>\n",
    "        </tr>\n",
    "        <tr><td><code>]</code></td><td><code>]</code></td></tr>\n",
    "</table>"
   ]
  }
 ],
 "metadata": {
  "kernelspec": {
   "display_name": "sectionaryDev",
   "language": "python",
   "name": "python3"
  },
  "language_info": {
   "name": "python",
   "version": "3.8.15 (default, Nov 24 2022, 14:38:14) [MSC v.1916 64 bit (AMD64)]"
  },
  "orig_nbformat": 4,
  "vscode": {
   "interpreter": {
    "hash": "890849be4bb9b5be1d044afe42e602ccc6ca20da23c054ee97c8186ec3939c45"
   }
  }
 },
 "nbformat": 4,
 "nbformat_minor": 2
}
