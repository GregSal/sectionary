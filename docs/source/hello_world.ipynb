{
 "cells": [
  {
   "attachments": {},
   "cell_type": "markdown",
   "metadata": {},
   "source": [
    "# A (Very) Simple Section"
   ]
  },
  {
   "attachments": {},
   "cell_type": "markdown",
   "metadata": {},
   "source": [
    "*Temporary Style Settings here*\n",
    "<style>\n",
    "li {\n",
    "    list-style: disc;\n",
    "    margin-left: 2em;\n",
    "}\n",
    "li p {\n",
    "    list-style: disk;\n",
    "    line-height: normal;\n",
    "    margin-bottom: 0;\n",
    "}\n",
    "table p {\n",
    "    list-style: disk;\n",
    "    line-height: normal;\n",
    "    margin-bottom: 0;\n",
    "    text-align: left;\n",
    "}\n",
    "</style>"
   ]
  },
  {
   "attachments": {},
   "cell_type": "markdown",
   "metadata": {},
   "source": [
    "No introduction to a programming language is complete without the classic \n",
    "\"Hello World\" example.  In keeping with that tradition, I give you a \n",
    "*sectionary version* of the \"Hello World\" example.\n",
    "\n",
    "The three principal components of a section:\n",
    "* Boundaries\n",
    "* Processing\n",
    "* Combining\n",
    "  \n",
    "are demonstrated in a very simple (and very useless) example.\n",
    "\n",
    "The code in each stage of this example is independent of previous stages. \n",
    "Copy the one you want without tracking back to previous stages."
   ]
  },
  {
   "attachments": {},
   "cell_type": "markdown",
   "metadata": {},
   "source": [
    "## A Vanilla Section Applied to \"Hello World\""
   ]
  },
  {
   "cell_type": "code",
   "execution_count": 1,
   "metadata": {},
   "outputs": [
    {
     "data": {
      "text/plain": [
       "['H', 'e', 'l', 'l', 'o', ' ', 'W', 'o', 'r', 'l', 'd']"
      ]
     },
     "execution_count": 1,
     "metadata": {},
     "output_type": "execute_result"
    }
   ],
   "source": [
    "# Import Section\n",
    "from sections import Section\n",
    "\n",
    "# Define a Section without any arguments\n",
    "vanilla_section = Section()\n",
    "\n",
    "# Apply the string 'Hello World' to our vanilla section \n",
    "vanilla_section.read('Hello World')"
   ]
  },
  {
   "attachments": {},
   "cell_type": "markdown",
   "metadata": {},
   "source": [
    "* The default section boundaries are no boundaries:\n",
    "    * Start at the beginning of the sequence\n",
    "    * End at the end of the sequence.\n",
    "* The default processing method is no processing - return the sequence items \n",
    "  unmodified.\n",
    "* The default combining method is a list of the sequence items.\n",
    "  \n",
    "`vanilla_section` treats the string *'Hello World'* as a sequence. \n",
    "It iterates through the entire sequence (no boundaries are defined), \n",
    "converting each item from the list (with no modification) \n",
    "into a list (the default combining function)."
   ]
  },
  {
   "attachments": {},
   "cell_type": "markdown",
   "metadata": {},
   "source": [
    "## Add a starting boundary"
   ]
  },
  {
   "cell_type": "code",
   "execution_count": 2,
   "metadata": {},
   "outputs": [
    {
     "data": {
      "text/plain": [
       "['W', 'o', 'r', 'l', 'd']"
      ]
     },
     "execution_count": 2,
     "metadata": {},
     "output_type": "execute_result"
    }
   ],
   "source": [
    "# Import Section\n",
    "from sections import Section\n",
    "\n",
    "# Define a Section that starts with 'W'\n",
    "w_start = Section('W')\n",
    "\n",
    "# Apply the string 'Hello World' to the section \n",
    "w_start.read('Hello World')"
   ]
  },
  {
   "attachments": {},
   "cell_type": "markdown",
   "metadata": {},
   "source": [
    "* The starting boundary for the section contains 'W'\n",
    "* The default ending boundary is used: End at the end of the sequence.\n",
    "* The default processing method is no processing - return the sequence items \n",
    "  unmodified.\n",
    "* The default combine method is a list of the sequence items.\n",
    "  \n",
    "`w_start` treats the string *'Hello World'* as a sequence. \n",
    "It skips all items until it finds one containing 'W'.\n",
    "Starting with that item it iterates through the remainder of the  sequence \n",
    "(no end boundary is defined), \n",
    "converting each item (with no modification) \n",
    "into a list (the default combine function)."
   ]
  },
  {
   "attachments": {},
   "cell_type": "markdown",
   "metadata": {},
   "source": [
    "## Add both a starting and ending boundary"
   ]
  },
  {
   "cell_type": "code",
   "execution_count": 3,
   "metadata": {},
   "outputs": [
    {
     "data": {
      "text/plain": [
       "['H', 'e', 'l', 'l', 'o', ' ']"
      ]
     },
     "execution_count": 3,
     "metadata": {},
     "output_type": "execute_result"
    }
   ],
   "source": [
    "# Import Section.\n",
    "from sections import Section\n",
    "\n",
    "# Define a Section that starts with 'H' and ends before 'W'.\n",
    "h_w_section = Section('H','W')\n",
    "\n",
    "# Apply the string 'Hello World' to the section \n",
    "h_w_section.read('Hello World')"
   ]
  },
  {
   "attachments": {},
   "cell_type": "markdown",
   "metadata": {},
   "source": [
    "* The starting boundary for the section contains 'H'\n",
    "* The ending boundary for the section contains 'W'\n",
    "* The default processing method is no processing - return the sequence items \n",
    "  unmodified.\n",
    "* The default combining method is a list of the sequence items.\n",
    "  \n",
    "`h_w_section` treats the string *'Hello World'* as a sequence. \n",
    "It skips all items until it finds one containing 'H'. (The first item in this case.)\n",
    "Starting with that item it iterates through the items in the sequence until it \n",
    "finds one containing 'W', stopping before that item. \n",
    "Each item in the section (with no modification) is combined into a list \n",
    "(the default combine function)."
   ]
  },
  {
   "attachments": {},
   "cell_type": "markdown",
   "metadata": {},
   "source": [
    "## Include a processing function as well as a starting and ending boundary"
   ]
  },
  {
   "cell_type": "code",
   "execution_count": 4,
   "metadata": {},
   "outputs": [
    {
     "data": {
      "text/plain": [
       "['H', 'E', 'L', 'L', 'O', ' ']"
      ]
     },
     "execution_count": 4,
     "metadata": {},
     "output_type": "execute_result"
    }
   ],
   "source": [
    "# Import Section.\n",
    "from sections import Section\n",
    "\n",
    "# Define a Section that starts with 'H' and ends before 'W'.\n",
    "# Define a processing method of str.upper.\n",
    "upper_h_w_section = Section('H','W', str.upper)\n",
    "\n",
    "# Apply the string 'Hello World' to the section \n",
    "upper_h_w_section.read('Hello World')"
   ]
  },
  {
   "attachments": {},
   "cell_type": "markdown",
   "metadata": {},
   "source": [
    "* The starting boundary for the section contains 'H'\n",
    "* The ending boundary for the section contains 'W'\n",
    "* The processing method is `str.upper` - convert the text into uppercase.\n",
    "* The default combine method is a list of the sequence items.\n",
    "  \n",
    "`upper_h_w_section` treats the string *'Hello World'* as a sequence. \n",
    "It skips all items until it finds one containing 'H'. (The first item in this case.)\n",
    "Starting with that item it iterates through the items in the sequence until it \n",
    "finds one containing 'W', stopping before that item. \n",
    "Each item in the section is converted to uppercase (the processing function) \n",
    "and then combined into a list (the default combine function)."
   ]
  },
  {
   "attachments": {},
   "cell_type": "markdown",
   "metadata": {},
   "source": [
    "## A Section with all three components provided."
   ]
  },
  {
   "cell_type": "code",
   "execution_count": 5,
   "metadata": {},
   "outputs": [
    {
     "data": {
      "text/plain": [
       "'H.E.L.L.O. '"
      ]
     },
     "execution_count": 5,
     "metadata": {},
     "output_type": "execute_result"
    }
   ],
   "source": [
    "# Import partial and Section.\n",
    "from functools import partial\n",
    "from sections import Section\n",
    "\n",
    "# Use partial to define a function that combines strings with '.' as a separator.\n",
    "dot_join = partial(str.join, '.')\n",
    "\n",
    "# Define a Section that starts with 'H' and ends before 'W'.\n",
    "# Define a processing method of str.upper.\n",
    "# Define dot_join as the combine function.\n",
    "joined_upper_h_w_section = Section('H','W', str.upper, dot_join)\n",
    "\n",
    "# Apply the string 'Hello World' to the section \n",
    "joined_upper_h_w_section.read('Hello World')"
   ]
  },
  {
   "attachments": {},
   "cell_type": "markdown",
   "metadata": {},
   "source": [
    "* The starting boundary for the section contains 'H'\n",
    "* The ending boundary for the section contains 'W'\n",
    "* The processing method is `str.upper` - convert the text into uppercase.\n",
    "* The combine method is `partial(str.join, '.')`.\n",
    "  \n",
    "`joined_upper_h_w_section` treats the string *'Hello World'* as a sequence. \n",
    "It skips all items until it finds one containing 'H'. (The first item in this case.)\n",
    "Starting with that item it iterates through the items in the sequence until it \n",
    "finds one containing 'W', stopping before that item. \n",
    "Each item in the section is converted to uppercase (the processing function).\n",
    "The uppercase letters are then combined into a single string with '.' as a \n",
    "separator. (`dot_join = partial(str.join, '.')`)."
   ]
  },
  {
   "attachments": {},
   "cell_type": "markdown",
   "metadata": {},
   "source": [
    "The example given here uses simple boundary, process and combine components to \n",
    "illustrate how they work together.\n",
    "Next, checkout the **Basics** to get more details on these components.\n",
    "Then checkout the tutorials in the **User Guide** for more advanced \n",
    "demonstrations of each component."
   ]
  }
 ],
 "metadata": {
  "kernelspec": {
   "display_name": "sectionaryDev",
   "language": "python",
   "name": "python3"
  },
  "language_info": {
   "codemirror_mode": {
    "name": "ipython",
    "version": 3
   },
   "file_extension": ".py",
   "mimetype": "text/x-python",
   "name": "python",
   "nbconvert_exporter": "python",
   "pygments_lexer": "ipython3",
   "version": "3.8.15"
  },
  "orig_nbformat": 4,
  "vscode": {
   "interpreter": {
    "hash": "890849be4bb9b5be1d044afe42e602ccc6ca20da23c054ee97c8186ec3939c45"
   }
  }
 },
 "nbformat": 4,
 "nbformat_minor": 2
}
