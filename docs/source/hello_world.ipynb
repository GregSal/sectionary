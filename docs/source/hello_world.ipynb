{
 "cells": [
  {
   "cell_type": "markdown",
   "metadata": {},
   "source": [
    "# A Simple Section"
   ]
  },
  {
   "attachments": {},
   "cell_type": "markdown",
   "metadata": {},
   "source": [
    "## Section Components\n",
    "A section defines a continuous portion of a text stream or other iterable.\n",
    "A Section instance is the set of definitions for managing a sequence. the same \n",
    "instance can be used repeatedly on different sequence inputs or even on \n",
    "different portions of the same sequence.\n",
    "\n",
    "The section definition may include:\n",
    "- Boundary definitions for the section's start and end.\n",
    "- Formatting or processing instructions for manipulating section items.\n",
    "- An merge method, which combines all of the processed items into a single \n",
    "  object such as a list, dictionary or pandas DataFrame.\n"
   ]
  },
  {
   "cell_type": "markdown",
   "metadata": {},
   "source": [
    "## \"Hello World\"\n",
    "A Sectionary equivalent to the traditional \"Hello World\" example."
   ]
  },
  {
   "cell_type": "code",
   "execution_count": 2,
   "metadata": {},
   "outputs": [
    {
     "data": {
      "text/plain": [
       "['H', 'e', 'l', 'l', 'o', ' ', 'W', 'o', 'r', 'l', 'd']"
      ]
     },
     "execution_count": 2,
     "metadata": {},
     "output_type": "execute_result"
    }
   ],
   "source": [
    "from sections import Section\n",
    "s = Section()\n",
    "s.read('Hello World')"
   ]
  },
  {
   "cell_type": "markdown",
   "metadata": {},
   "source": [
    "1. treats the string 'Hello World' as a sequence\n",
    "2. iterates through the entire sequence (No Boundaries are defined), converting it into a list (The default aggregate function)"
   ]
  },
  {
   "cell_type": "code",
   "execution_count": 3,
   "metadata": {},
   "outputs": [
    {
     "data": {
      "text/plain": [
       "['W', 'o', 'r', 'l', 'd']"
      ]
     },
     "execution_count": 3,
     "metadata": {},
     "output_type": "execute_result"
    }
   ],
   "source": [
    "from sections import Section\n",
    "s = Section('W')\n",
    "s.read('Hello World')"
   ]
  },
  {
   "cell_type": "markdown",
   "metadata": {},
   "source": [
    "1. 'W' is a starting Boundary.\n",
    "2. iterates through the sequence starting with the first 'W' encountered.\n",
    "3. "
   ]
  },
  {
   "cell_type": "code",
   "execution_count": 4,
   "metadata": {},
   "outputs": [
    {
     "data": {
      "text/plain": [
       "['H', 'e', 'l', 'l', 'o', ' ']"
      ]
     },
     "execution_count": 4,
     "metadata": {},
     "output_type": "execute_result"
    }
   ],
   "source": [
    "from sections import Section\n",
    "s = Section('H','W')\n",
    "s.read('Hello World')"
   ]
  },
  {
   "cell_type": "markdown",
   "metadata": {},
   "source": [
    "1. 'H' is a starting Boundary.\n",
    "2. 'W' is an ending Boundary.\n",
    "3. iterates through the sequence starting with the first 'H' encountered and ending with the first 'W' encountered."
   ]
  },
  {
   "cell_type": "code",
   "execution_count": 7,
   "metadata": {},
   "outputs": [
    {
     "data": {
      "text/plain": [
       "['H', 'E', 'L', 'L', 'O', ' ']"
      ]
     },
     "execution_count": 7,
     "metadata": {},
     "output_type": "execute_result"
    }
   ],
   "source": [
    "from sections import Section\n",
    "s = Section('H','W', str.upper)\n",
    "s.read('Hello World')"
   ]
  },
  {
   "cell_type": "markdown",
   "metadata": {},
   "source": [
    "1. str.upper is a Processor (Formatting) function\n",
    "2. str.upper is applied to each item (letter) in the sequence (string) before building the list"
   ]
  },
  {
   "cell_type": "code",
   "execution_count": 6,
   "metadata": {},
   "outputs": [
    {
     "data": {
      "text/plain": [
       "'H.E.L.L.O. '"
      ]
     },
     "execution_count": 6,
     "metadata": {},
     "output_type": "execute_result"
    }
   ],
   "source": [
    "from functools import partial\n",
    "from sections import Section\n",
    "j = partial(str.join, '.')\n",
    "s = Section('H','W', str.upper, aggregate=j)\n",
    "s.read('Hello World')"
   ]
  }
 ],
 "metadata": {
  "kernelspec": {
   "display_name": "sectionaryDev",
   "language": "python",
   "name": "python3"
  },
  "language_info": {
   "codemirror_mode": {
    "name": "ipython",
    "version": 3
   },
   "file_extension": ".py",
   "mimetype": "text/x-python",
   "name": "python",
   "nbconvert_exporter": "python",
   "pygments_lexer": "ipython3",
   "version": "3.8.15"
  },
  "orig_nbformat": 4,
  "vscode": {
   "interpreter": {
    "hash": "890849be4bb9b5be1d044afe42e602ccc6ca20da23c054ee97c8186ec3939c45"
   }
  }
 },
 "nbformat": 4,
 "nbformat_minor": 2
}
