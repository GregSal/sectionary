{
 "cells": [
  {
   "attachments": {},
   "cell_type": "markdown",
   "metadata": {},
   "source": [
    "# Iterator Options"
   ]
  },
  {
   "attachments": {},
   "cell_type": "markdown",
   "metadata": {},
   "source": [
    "Need Introductory text here"
   ]
  },
  {
   "cell_type": "markdown",
   "metadata": {},
   "source": [
    "## Setup"
   ]
  },
  {
   "cell_type": "markdown",
   "metadata": {},
   "source": [
    "### Imports"
   ]
  },
  {
   "cell_type": "code",
   "execution_count": 2,
   "metadata": {},
   "outputs": [],
   "source": [
    "from pprint import pprint\n",
    "from pathlib import Path\n",
    "\n",
    "from buffered_iterator import BufferedIterator\n",
    "from sections import Section, SectionBreak"
   ]
  },
  {
   "attachments": {},
   "cell_type": "markdown",
   "metadata": {},
   "source": [
    "### 2-line Section Source"
   ]
  },
  {
   "cell_type": "code",
   "execution_count": 3,
   "metadata": {},
   "outputs": [],
   "source": [
    "GENERIC_TEST_TEXT = [\n",
    "    'Text to be ignored',\n",
    "    'StartSection Name: A',\n",
    "    'EndSection Name: A',\n",
    "    'StartSection Name: B',\n",
    "    'EndSection Name: B',\n",
    "    'More text to be ignored',\n",
    "    ]"
   ]
  },
  {
   "cell_type": "markdown",
   "metadata": {},
   "source": [
    "### Two line section *StartSection*\n",
    "- Start *Before* `StartSection`\n",
    "- End *After* `EndSection`"
   ]
  },
  {
   "cell_type": "code",
   "execution_count": 4,
   "metadata": {},
   "outputs": [],
   "source": [
    "# TODO Add extensive comments to the section definition\n",
    "two_line_section = Section(\n",
    "    name='SubSection',\n",
    "    start_section=SectionBreak('StartSection', break_offset='Before'),\n",
    "    end_section=SectionBreak('EndSection', break_offset='After')\n",
    "    )"
   ]
  },
  {
   "attachments": {},
   "cell_type": "markdown",
   "metadata": {},
   "source": [
    "## Using a regular iterator"
   ]
  },
  {
   "cell_type": "code",
   "execution_count": 5,
   "metadata": {},
   "outputs": [
    {
     "name": "stdout",
     "output_type": "stream",
     "text": [
      "['StartSection Name: A', 'EndSection Name: A']\n",
      "[]\n"
     ]
    }
   ],
   "source": [
    "test_iter = iter(GENERIC_TEST_TEXT)\n",
    "pprint(two_line_section.read(test_iter))\n",
    "\n",
    "pprint(two_line_section.read(test_iter))"
   ]
  },
  {
   "attachments": {},
   "cell_type": "markdown",
   "metadata": {},
   "source": [
    "A regular iterator is missing the buffer, so *Step Back* calls can loose future items.\n",
    "- The second call to `pprint(two_line_section.read(test_iter))` returns an empty list because the second *StartSection* line is lost.\n",
    "  \n",
    "|Expected|Actual|\n",
    "|-|-|\n",
    "|`['StartSection Name: A', 'EndSection Name: A']`|`['StartSection Name: A', 'EndSection Name: A']`|\n",
    "|`[]`|`[]`|"
   ]
  },
  {
   "attachments": {},
   "cell_type": "markdown",
   "metadata": {},
   "source": [
    "## Using a *BufferedIterator* source."
   ]
  },
  {
   "cell_type": "code",
   "execution_count": 6,
   "metadata": {},
   "outputs": [
    {
     "name": "stdout",
     "output_type": "stream",
     "text": [
      "['StartSection Name: A', 'EndSection Name: A']\n",
      "['StartSection Name: B', 'EndSection Name: B']\n",
      "[]\n"
     ]
    }
   ],
   "source": [
    "test_iter = BufferedIterator(GENERIC_TEST_TEXT)\n",
    "pprint(two_line_section.read(test_iter))\n",
    "pprint(two_line_section.read(test_iter))\n",
    "pprint(two_line_section.read(test_iter))"
   ]
  },
  {
   "attachments": {},
   "cell_type": "markdown",
   "metadata": {},
   "source": [
    "Supplying a *BufferedIterator* preserves the *Step Back* item.\n",
    "- The Third call to `pprint(two_line_section.read(test_iter))` returns an empty list because a third *StartSection* is not found.\n",
    "\n",
    "|Expected|Actual|\n",
    "|-|-|\n",
    "|`['StartSection Name: A', 'EndSection Name: A']`|`['StartSection Name: A', 'EndSection Name: A']`|\n",
    "|`['StartSection Name: B', 'EndSection Name: B']`|`['StartSection Name: B', 'EndSection Name: B']`|\n",
    "|`[]`|`[]`|"
   ]
  },
  {
   "attachments": {},
   "cell_type": "markdown",
   "metadata": {},
   "source": [
    "## From a file\n",
    "\n",
    "*Note the `\\n` at the end of the lines.*"
   ]
  },
  {
   "cell_type": "code",
   "execution_count": 7,
   "metadata": {},
   "outputs": [
    {
     "name": "stdout",
     "output_type": "stream",
     "text": [
      "['StartSection Name: A\\n', 'EndSection Name: A\\n']\n"
     ]
    }
   ],
   "source": [
    "# Create the example file\n",
    "example_file = Path.cwd() / 'examples' / 'example_text.txt'\n",
    "with open(example_file, 'w') as f:\n",
    "    f.write('\\n'.join(GENERIC_TEST_TEXT))\n",
    "\n",
    "# Pass the file to the Section object   \n",
    "with open(example_file, 'r') as f:\n",
    "    print(two_line_section.read(f))\n",
    "\n",
    "# Delete the file after use\n",
    "example_file.unlink()"
   ]
  },
  {
   "attachments": {},
   "cell_type": "markdown",
   "metadata": {},
   "source": [
    "## From a stream\n",
    "\n",
    "Consider using Jupyter magic commands to create a pipe that is fed into the \n",
    "section reader."
   ]
  },
  {
   "attachments": {},
   "cell_type": "markdown",
   "metadata": {},
   "source": [
    "## Output Options\n",
    "\n",
    "### Identify\n",
    "\n",
    "`Section.Scan()`\n",
    "\n",
    "### Process\n",
    "\n",
    "`Section.Process()`"
   ]
  }
 ],
 "metadata": {
  "kernelspec": {
   "display_name": "sectionaryDev",
   "language": "python",
   "name": "python3"
  },
  "language_info": {
   "codemirror_mode": {
    "name": "ipython",
    "version": 3
   },
   "file_extension": ".py",
   "mimetype": "text/x-python",
   "name": "python",
   "nbconvert_exporter": "python",
   "pygments_lexer": "ipython3",
   "version": "3.8.15 (default, Nov 24 2022, 14:38:14) [MSC v.1916 64 bit (AMD64)]"
  },
  "orig_nbformat": 4,
  "vscode": {
   "interpreter": {
    "hash": "890849be4bb9b5be1d044afe42e602ccc6ca20da23c054ee97c8186ec3939c45"
   }
  }
 },
 "nbformat": 4,
 "nbformat_minor": 2
}
