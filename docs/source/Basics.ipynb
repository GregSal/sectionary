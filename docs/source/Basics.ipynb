{
 "cells": [
  {
   "attachments": {},
   "cell_type": "markdown",
   "metadata": {},
   "source": [
    "# The Basics"
   ]
  },
  {
   "attachments": {},
   "cell_type": "markdown",
   "metadata": {},
   "source": [
    "*Temporary Style Settings here*\n",
    "<style>\n",
    "li {\n",
    "    list-style: disc;\n",
    "    margin-left: 2em;\n",
    "}\n",
    "li p {\n",
    "    list-style: disk;\n",
    "    line-height: normal;\n",
    "    margin-bottom: 0;\n",
    "}\n",
    "table p {\n",
    "    list-style: disk;\n",
    "    line-height: normal;\n",
    "    margin: 0 2em;\n",
    "    text-align: left;\n",
    "}\n",
    "</style>"
   ]
  },
  {
   "attachments": {},
   "cell_type": "markdown",
   "metadata": {},
   "source": [
    "## Section Components\n",
    "\n",
    "A section defines a continuous portion of a text stream or other iterable.\n",
    "A Section instance is the set of definitions for managing a sequence. the same \n",
    "instance can be used repeatedly on different sequence inputs or even on \n",
    "different portions of the same sequence.\n",
    "\n",
    "The section definition may include:\n",
    "* Boundary definitions for identifying the section's start and end.\n",
    "* Formatting or processing instructions for manipulating section items.\n",
    "* A merge method, which combines all of the processed items into a \n",
    "  single item such as a list."
   ]
  },
  {
   "attachments": {},
   "cell_type": "markdown",
   "metadata": {},
   "source": [
    "\n",
    "The code in each stage of this example is independent of previous stages. \n",
    "Copy the one you want without tracking back to previous stages."
   ]
  },
  {
   "attachments": {},
   "cell_type": "markdown",
   "metadata": {},
   "source": [
    "## Boundary Definitions"
   ]
  },
  {
   "attachments": {},
   "cell_type": "markdown",
   "metadata": {},
   "source": [
    "Every section has a *start_section* and an *end_section* which define the \n",
    "boundaries of the section.  The *start_section* and *end_section* each contain \n",
    "one or more *SectionBreak* objects\n",
    "\n",
    "A *SectionBreak* is built from a *sentinel* and two optional modifiers:\n",
    "* location\n",
    "* offset\n",
    "\n",
    "The *SectionBreak* can also be given a name, that can be used to identify which\n",
    "*SectionBreak* was triggered when a section boundary definition contains \n",
    "multiple *SectionBreaks*.  See **Advanced Section Breaks** for more details. "
   ]
  },
  {
   "attachments": {},
   "cell_type": "markdown",
   "metadata": {},
   "source": [
    "### Boundary Defaults\n",
    "\n",
    "If *start_section* is not explicitly defined it defaults to `True` \n",
    "(*AlwaysBreak*), indicating the section begins with the first item in the \n",
    "supplied sequence.\n",
    "\n",
    "If *end_section* is not explicitly defined it defaults to `False`, \n",
    "(*NeverBreak*)indicating the section continues through the last item in the \n",
    "supplied sequence.\n"
   ]
  },
  {
   "cell_type": "code",
   "execution_count": 1,
   "metadata": {},
   "outputs": [
    {
     "name": "stdout",
     "output_type": "stream",
     "text": [
      "['First line', 'Second line', 'Third line', 'Fourth line']\n"
     ]
    }
   ],
   "source": [
    "from sections import Section\n",
    "from pprint import pprint\n",
    "\n",
    "example_sequence = [\n",
    "    'First line',\n",
    "    'Second line',\n",
    "    'Third line',\n",
    "    'Fourth line'\n",
    "    ]\n",
    "\n",
    "default_section = Section()\n",
    "pprint(default_section.read(example_sequence))"
   ]
  },
  {
   "attachments": {},
   "cell_type": "markdown",
   "metadata": {},
   "source": [
    "The section above uses the default boundary definitions (and default everything else for that matter).\n",
    "With the default boundary definitions, every item in *example_sequence* is included in the section."
   ]
  },
  {
   "attachments": {},
   "cell_type": "markdown",
   "metadata": {},
   "source": [
    "### Simple Text Boundary Definitions\n",
    "The simplest boundary definitions is just a text string contained in the start or end item."
   ]
  },
  {
   "cell_type": "code",
   "execution_count": 2,
   "metadata": {},
   "outputs": [
    {
     "name": "stdout",
     "output_type": "stream",
     "text": [
      "['Second line', 'Third line']\n"
     ]
    }
   ],
   "source": [
    "from sections import Section\n",
    "from pprint import pprint\n",
    "\n",
    "example_sequence = [\n",
    "    'First line',\n",
    "    'Second line',\n",
    "    'Third line',\n",
    "    'Fourth line'\n",
    "    ]\n",
    "text_boundary_section = Section(start_section='Second', \n",
    "                                end_section='Fourth')\n",
    "\n",
    "pprint(text_boundary_section.read(example_sequence))"
   ]
  },
  {
   "attachments": {},
   "cell_type": "markdown",
   "metadata": {},
   "source": [
    "* `start_section='Second'` Causes the section to begin with the line containing *'Second'*\n",
    "* `end_section='Fourth'` Causes the section to end before the line containing *'Fourth'*"
   ]
  },
  {
   "attachments": {},
   "cell_type": "markdown",
   "metadata": {},
   "source": [
    "### Adding a *location* Modifier to a String Boundary Definition \n",
    "By default, when a string is used to define a boundary, any occurrence of that \n",
    "string within a sequence item will trigger the boundary.\n",
    "For example:"
   ]
  },
  {
   "cell_type": "code",
   "execution_count": 3,
   "metadata": {},
   "outputs": [
    {
     "name": "stdout",
     "output_type": "stream",
     "text": [
      "['Second line', 'Third line']\n"
     ]
    }
   ],
   "source": [
    "from sections import Section\n",
    "from pprint import pprint\n",
    "\n",
    "\n",
    "example_sequence = [\n",
    "    'First line',\n",
    "    'Second line',\n",
    "    'Third line',\n",
    "    'Fourth line'\n",
    "   ]\n",
    "text_boundary_section = Section(start_section='S', \n",
    "                                end_section='Fo')\n",
    "\n",
    "pprint(text_boundary_section.read(example_sequence))"
   ]
  },
  {
   "attachments": {},
   "cell_type": "markdown",
   "metadata": {},
   "source": [
    "<b>S</b> was found in '<b>S</b>econd line' and\n",
    "<b>Fo</b> was found in '<b>Fo</b>urth line'.\n",
    "\n",
    "But what if as <b>S</b> was found in an earlier line?  For Example:"
   ]
  },
  {
   "cell_type": "code",
   "execution_count": 4,
   "metadata": {},
   "outputs": [
    {
     "name": "stdout",
     "output_type": "stream",
     "text": [
      "['Text String to be ignored', 'First line', 'Second line', 'Third line']\n"
     ]
    }
   ],
   "source": [
    "from sections import Section, SectionBreak\n",
    "from pprint import pprint\n",
    "\n",
    "\n",
    "example_sequence = [\n",
    "    'Text String to be ignored',\n",
    "    'First line',\n",
    "    'Second line',\n",
    "    'Third line',\n",
    "    'Fourth line',\n",
    "    'Even more text to be ignored', \n",
    "   ]\n",
    "\n",
    "text_boundary_section = Section(start_section='S', \n",
    "                                end_section='Fo')\n",
    "\n",
    "pprint(text_boundary_section.read(example_sequence))"
   ]
  },
  {
   "attachments": {},
   "cell_type": "markdown",
   "metadata": {},
   "source": [
    "The <b>S</b> in '<b>S</b>tring' triggered the boundary.\n",
    "\n",
    "The optional `location` modifier allows you to specify where in the item string \n",
    "to search for the specified text.\n",
    "\n",
    "The location argument can be one of:\n",
    "<table>\n",
    "<thead><tr><th><code>location</code> Value</th><th>Search Method</th></tr></thead>\n",
    "<tbody>\n",
    "<tr><td>'IN'</td><td><code>text in item</code></td></tr>\n",
    "<tr><td>'START'</td><td><code>item.startswith(text)</code></td></tr>\n",
    "<tr><td>'END'</td><td><code>item.endswith(text)</code></td></tr>\n",
    "<tr><td>'FULL'</td><td><code>item == text</code></td></tr>\n",
    "</tbody></table>\n",
    "\n",
    "The section definition can then be given as:"
   ]
  },
  {
   "cell_type": "code",
   "execution_count": 5,
   "metadata": {},
   "outputs": [
    {
     "name": "stdout",
     "output_type": "stream",
     "text": [
      "['Second line', 'Third line']\n"
     ]
    }
   ],
   "source": [
    "from sections import Section, SectionBreak\n",
    "from pprint import pprint\n",
    "\n",
    "\n",
    "example_sequence = [\n",
    "    'Text String to be ignored',\n",
    "    'First line',\n",
    "    'Second line',\n",
    "    'Third line',\n",
    "    'Fourth line',\n",
    "    'Even more text to be ignored', \n",
    "   ]\n",
    "\n",
    "text_boundary_section = Section(start_section=('S', 'START'),\n",
    "                                end_section='Fo')\n",
    "\n",
    "pprint(text_boundary_section.read(example_sequence))"
   ]
  },
  {
   "attachments": {},
   "cell_type": "markdown",
   "metadata": {},
   "source": [
    "Notice that `start_section=('S', 'START')` is now being set as a tuple.\n",
    "\n",
    "An alternative, and perhaps clearer way to write the same this is to explicitly \n",
    "pass a `SectionBreak` object to `start_section` like this:"
   ]
  },
  {
   "cell_type": "code",
   "execution_count": 6,
   "metadata": {},
   "outputs": [
    {
     "name": "stdout",
     "output_type": "stream",
     "text": [
      "['Second line', 'Third line']\n"
     ]
    }
   ],
   "source": [
    "from sections import Section, SectionBreak\n",
    "from pprint import pprint\n",
    "\n",
    "\n",
    "example_sequence = [\n",
    "    'Text String to be ignored',\n",
    "    'First line',\n",
    "    'Second line',\n",
    "    'Third line',\n",
    "    'Fourth line',\n",
    "    'Even more text to be ignored', \n",
    "   ]\n",
    "\n",
    "text_boundary_section = Section(\n",
    "    start_section=SectionBreak(sentinel='S', location='START'),\n",
    "    end_section='Fo'\n",
    "    )\n",
    "\n",
    "pprint(text_boundary_section.read(example_sequence))"
   ]
  },
  {
   "attachments": {},
   "cell_type": "markdown",
   "metadata": {},
   "source": [
    "For more information on the `location` modifier see *Advanced Section Breaks* "
   ]
  },
  {
   "cell_type": "code",
   "execution_count": 7,
   "metadata": {},
   "outputs": [
    {
     "name": "stdout",
     "output_type": "stream",
     "text": [
      "['Text String to be ignored', 'First line', 'Second line', 'Third line']\n"
     ]
    }
   ],
   "source": [
    "from sections import Section, SectionBreak\n",
    "from pprint import pprint\n",
    "\n",
    "\n",
    "example_sequence = [\n",
    "    'Text String to be ignored',\n",
    "    'First line',\n",
    "    'Second line',\n",
    "    'Third line',\n",
    "    'Fourth line',\n",
    "    'Even more text to be ignored', \n",
    "   ]\n",
    "\n",
    "text_boundary_section = Section(start_section='S', \n",
    "                                end_section='Fo')\n",
    "\n",
    "pprint(text_boundary_section.read(example_sequence))"
   ]
  },
  {
   "attachments": {},
   "cell_type": "markdown",
   "metadata": {},
   "source": [
    "### Adding an *Offset* to a Boundary Definition\n",
    "By default section boundaries occur *before* the item that triggers the \n",
    "boundary condition.\n",
    "This can be changed using the optional `break_offset` argument.\n",
    "\n",
    "The two most popular `break_offset` options are:\n",
    "<table>\n",
    "<thead><tr><th><code>break_offset</code> Value</th><th>Effect</th></tr></thead>\n",
    "<tbody>\n",
    "<tr><td>'After'</td>\n",
    "<td>The SectionBreak occurs between the item that triggered the boundary and the \n",
    "next item.</td></tr>\n",
    "<tr><td>'Before' <i>(the default)</i></td>\n",
    "<td>The SectionBreak occurs is just before the item that triggered the \n",
    "boundary</td></tr>\n",
    "</tbody></table>\n",
    "\n",
    "For example, to include *'Fourth line'* in the section without knowing what \n",
    "comes next:"
   ]
  },
  {
   "cell_type": "code",
   "execution_count": 8,
   "metadata": {},
   "outputs": [
    {
     "name": "stdout",
     "output_type": "stream",
     "text": [
      "['Second line', 'Third line', 'Fourth line']\n"
     ]
    }
   ],
   "source": [
    "from sections import Section, SectionBreak\n",
    "from pprint import pprint\n",
    "\n",
    "\n",
    "example_sequence = [\n",
    "    'Text String to be ignored',\n",
    "    'First line',\n",
    "    'Second line',\n",
    "    'Third line',\n",
    "    'Fourth line',\n",
    "    'Even more text to be ignored', \n",
    "   ]\n",
    "\n",
    "text_boundary_section = Section(\n",
    "    start_section=SectionBreak(sentinel='S', location='START'),\n",
    "    end_section=SectionBreak(sentinel='Fo', break_offset='After')\n",
    "    )\n",
    "\n",
    "pprint(text_boundary_section.read(example_sequence))"
   ]
  },
  {
   "attachments": {},
   "cell_type": "markdown",
   "metadata": {},
   "source": [
    "For more information on the `break_offset` modifier see *Advanced Section Breaks* "
   ]
  },
  {
   "attachments": {},
   "cell_type": "markdown",
   "metadata": {},
   "source": [
    "### Defining a section boundary with a function.\n",
    "A function can also be used to define a boundary.\n",
    "\n",
    "In it's simplest form, the function should accept a single argument of the \n",
    "same type as the input sequence's items and return a boolean.  When the function\n",
    "returns `True` a boundary is triggered.\n",
    "\n",
    "For example:"
   ]
  },
  {
   "cell_type": "code",
   "execution_count": 9,
   "metadata": {},
   "outputs": [
    {
     "name": "stdout",
     "output_type": "stream",
     "text": [
      "The sequence is:\t [1, 2, 3, 4, 5, 6, 7, 8, 9]\n",
      "The section is: \t [3, 4, 5]\n"
     ]
    }
   ],
   "source": [
    "from sections import Section, SectionBreak\n",
    "\n",
    "\n",
    "numeric_sequence = [i for i in range(1,10)]\n",
    "print('The sequence is:\\t', numeric_sequence)\n",
    "\n",
    "\n",
    "def multiple_of_three(num):\n",
    "    return num % 3 == 0  # True if num is a multiple of 3\n",
    "\n",
    "\n",
    "function_boundary_section = Section(start_section=multiple_of_three,\n",
    "                                    end_section=multiple_of_three)\n",
    "\n",
    "print('The section is: \\t', function_boundary_section.read(numeric_sequence))"
   ]
  },
  {
   "attachments": {},
   "cell_type": "markdown",
   "metadata": {},
   "source": [
    "In the example above:\n",
    "* The sequence consists of a list of integers from 1 to 9.\n",
    "* The function `multiple_of_three` returns `True` when it's input is a multiple \n",
    "of 3 and returns `False` otherwise.\n",
    "* Both `start_section` and `end_section` are set as the `multiple_of_three` \n",
    "function.\n",
    "* The section starts with the first multiple of three (3) and ends before the \n",
    "second multiple of three (6)."
   ]
  },
  {
   "attachments": {},
   "cell_type": "markdown",
   "metadata": {},
   "source": [
    "For more information on section boundaries see *Advanced Section Breaks* and \n",
    "*Using Context*"
   ]
  }
 ],
 "metadata": {
  "kernelspec": {
   "display_name": "sectionaryDev",
   "language": "python",
   "name": "python3"
  },
  "language_info": {
   "codemirror_mode": {
    "name": "ipython",
    "version": 3
   },
   "file_extension": ".py",
   "mimetype": "text/x-python",
   "name": "python",
   "nbconvert_exporter": "python",
   "pygments_lexer": "ipython3",
   "version": "3.8.15"
  },
  "orig_nbformat": 4,
  "vscode": {
   "interpreter": {
    "hash": "890849be4bb9b5be1d044afe42e602ccc6ca20da23c054ee97c8186ec3939c45"
   }
  }
 },
 "nbformat": 4,
 "nbformat_minor": 2
}
