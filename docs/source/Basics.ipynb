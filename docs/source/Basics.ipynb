{
 "cells": [
  {
   "attachments": {},
   "cell_type": "markdown",
   "metadata": {},
   "source": [
    "# The Basics"
   ]
  },
  {
   "attachments": {},
   "cell_type": "markdown",
   "metadata": {},
   "source": [
    "*Temporary Style Settings here*\n",
    "<style>\n",
    "li {\n",
    "    list-style: disc;\n",
    "    margin-left: 2em;\n",
    "}\n",
    "li p {\n",
    "    list-style: disk;\n",
    "    line-height: normal;\n",
    "    margin-bottom: 0;\n",
    "}\n",
    "table p {\n",
    "    list-style: disk;\n",
    "    line-height: normal;\n",
    "    margin: 0 2em\n",
    "    ;\n",
    "    text-align: left;\n",
    "}\n",
    "</style>"
   ]
  },
  {
   "attachments": {},
   "cell_type": "markdown",
   "metadata": {},
   "source": [
    "## Section Components\n",
    "\n",
    "A section defines a continuous portion of a text stream or other iterable.\n",
    "A Section instance is the set of definitions for managing a sequence. the same \n",
    "instance can be used repeatedly on different sequence inputs or even on \n",
    "different portions of the same sequence.\n",
    "\n",
    "The section definition may include:\n",
    "* Boundary definitions for identifying the section's start and end.\n",
    "* Formatting or processing instructions for manipulating section items.\n",
    "* A merge method, which combines all of the processed items into a \n",
    "  single item such as a list."
   ]
  },
  {
   "attachments": {},
   "cell_type": "markdown",
   "metadata": {},
   "source": [
    "\n",
    "The code in each stage of this example is independent of previous stages. \n",
    "Copy the one you want without tracking back to previous stages."
   ]
  },
  {
   "attachments": {},
   "cell_type": "markdown",
   "metadata": {},
   "source": [
    "## Boundary Definitions"
   ]
  },
  {
   "attachments": {},
   "cell_type": "markdown",
   "metadata": {},
   "source": [
    "Every section has a *start_section* and an *end_section* which define the \n",
    "boundaries of the section.  The *start_section* and *end_section* each contain \n",
    "one or more *SectionBreak* objects\n",
    "\n",
    "A *SectionBreak* is built from a *sentinel* and two optional modifiers:\n",
    "* location\n",
    "* offset\n",
    "\n",
    "The *SectionBreak* can also be given a name, that can be used to identify which\n",
    "*SectionBreak* was triggered when a section boundary definition contains \n",
    "multiple *SectionBreaks*.  See **Advanced Section Breaks** for more details. "
   ]
  },
  {
   "attachments": {},
   "cell_type": "markdown",
   "metadata": {},
   "source": [
    "### Boundary Defaults\n",
    "\n",
    "If *start_section* is not explicitly defined it defaults to `True` \n",
    "(*AlwaysBreak*), indicating the section begins with the first item in the \n",
    "supplied sequence.\n",
    "\n",
    "If *end_section* is not explicitly defined it defaults to `False`, \n",
    "(*NeverBreak*)indicating the section continues through the last item in the \n",
    "supplied sequence.\n"
   ]
  },
  {
   "cell_type": "code",
   "execution_count": 1,
   "metadata": {},
   "outputs": [
    {
     "name": "stdout",
     "output_type": "stream",
     "text": [
      "['First line', 'Second line', 'Third line', 'Fourth line']\n"
     ]
    }
   ],
   "source": [
    "from sections import Section\n",
    "from pprint import pprint\n",
    "\n",
    "example_sequence = [\n",
    "    'First line',\n",
    "    'Second line',\n",
    "    'Third line',\n",
    "    'Fourth line'\n",
    "    ]\n",
    "\n",
    "default_section = Section()\n",
    "pprint(default_section.read(example_sequence))"
   ]
  },
  {
   "attachments": {},
   "cell_type": "markdown",
   "metadata": {},
   "source": [
    "The section above uses the default boundary definitions (and default everything else for that matter).\n",
    "With the default boundary definitions, every item in *example_sequence* is included in the section."
   ]
  },
  {
   "attachments": {},
   "cell_type": "markdown",
   "metadata": {},
   "source": [
    "### Simple Text Boundary Definitions\n",
    "The simplest boundary definitions is just a text string contained in the start or end item."
   ]
  },
  {
   "cell_type": "code",
   "execution_count": 2,
   "metadata": {},
   "outputs": [
    {
     "name": "stdout",
     "output_type": "stream",
     "text": [
      "['Second line', 'Third line']\n"
     ]
    }
   ],
   "source": [
    "from sections import Section\n",
    "from pprint import pprint\n",
    "\n",
    "example_sequence = [\n",
    "    'First line',\n",
    "    'Second line',\n",
    "    'Third line',\n",
    "    'Fourth line'\n",
    "    ]\n",
    "text_boundary_section = Section(start_section='Second', \n",
    "                                end_section='Fourth')\n",
    "\n",
    "pprint(text_boundary_section.read(example_sequence))"
   ]
  },
  {
   "attachments": {},
   "cell_type": "markdown",
   "metadata": {},
   "source": [
    "* `start_section='Second'` Causes the section to begin with the line containing *'Second'*\n",
    "* `end_section='Fourth'` Causes the section to end before the line containing *'Fourth'*"
   ]
  },
  {
   "attachments": {},
   "cell_type": "markdown",
   "metadata": {},
   "source": [
    "### Adding a *location* Modifier to a String Boundary Definition \n",
    "By default, when a string is used to define a boundary, any occurrence of that \n",
    "string within a sequence item will trigger the boundary.\n",
    "For example:"
   ]
  },
  {
   "cell_type": "code",
   "execution_count": 3,
   "metadata": {},
   "outputs": [
    {
     "name": "stdout",
     "output_type": "stream",
     "text": [
      "['Second line', 'Third line']\n"
     ]
    }
   ],
   "source": [
    "from sections import Section\n",
    "from pprint import pprint\n",
    "\n",
    "\n",
    "example_sequence = [\n",
    "    'First line',\n",
    "    'Second line',\n",
    "    'Third line',\n",
    "    'Fourth line'\n",
    "   ]\n",
    "text_boundary_section = Section(start_section='S', \n",
    "                                end_section='Fo')\n",
    "\n",
    "pprint(text_boundary_section.read(example_sequence))"
   ]
  },
  {
   "attachments": {},
   "cell_type": "markdown",
   "metadata": {},
   "source": [
    "<b>S</b> was found in '<b>S</b>econd line' and\n",
    "<b>Fo</b> was found in '<b>Fo</b>urth line'.\n",
    "\n",
    "But what if as <b>S</b> was found in an earlier line?  For Example:"
   ]
  },
  {
   "cell_type": "code",
   "execution_count": 4,
   "metadata": {},
   "outputs": [
    {
     "name": "stdout",
     "output_type": "stream",
     "text": [
      "['Text String to be ignored', 'First line', 'Second line', 'Third line']\n"
     ]
    }
   ],
   "source": [
    "from sections import Section, SectionBreak\n",
    "from pprint import pprint\n",
    "\n",
    "\n",
    "example_sequence = [\n",
    "    'Text String to be ignored',\n",
    "    'First line',\n",
    "    'Second line',\n",
    "    'Third line',\n",
    "    'Fourth line',\n",
    "    'Even more text to be ignored', \n",
    "   ]\n",
    "\n",
    "text_boundary_section = Section(start_section='S', \n",
    "                                end_section='Fo')\n",
    "\n",
    "pprint(text_boundary_section.read(example_sequence))"
   ]
  },
  {
   "attachments": {},
   "cell_type": "markdown",
   "metadata": {},
   "source": [
    "The <b>S</b> in '<b>S</b>tring' triggered the boundary.\n",
    "\n",
    "The optional `location` modifier allows you to specify where in the item string \n",
    "to search for the specified text.\n",
    "\n",
    "The location argument can be one of:\n",
    "<table>\n",
    "<thead><tr><th><code>location</code> Value</th><th>Search Method</th></tr></thead>\n",
    "<tbody>\n",
    "<tr><td>'IN'</td><td><code>text in item</code></td></tr>\n",
    "<tr><td>'START'</td><td><code>item.startswith(text)</code></td></tr>\n",
    "<tr><td>'END'</td><td><code>item.endswith(text)</code></td></tr>\n",
    "<tr><td>'FULL'</td><td><code>item == text</code></td></tr>\n",
    "</tbody></table>\n",
    "\n",
    "The section definition can then be given as:"
   ]
  },
  {
   "cell_type": "code",
   "execution_count": 5,
   "metadata": {},
   "outputs": [
    {
     "name": "stdout",
     "output_type": "stream",
     "text": [
      "['Second line', 'Third line']\n"
     ]
    }
   ],
   "source": [
    "from sections import Section, SectionBreak\n",
    "from pprint import pprint\n",
    "\n",
    "\n",
    "example_sequence = [\n",
    "    'Text String to be ignored',\n",
    "    'First line',\n",
    "    'Second line',\n",
    "    'Third line',\n",
    "    'Fourth line',\n",
    "    'Even more text to be ignored', \n",
    "   ]\n",
    "\n",
    "text_boundary_section = Section(start_section=('S', 'START'),\n",
    "                                end_section='Fo')\n",
    "\n",
    "pprint(text_boundary_section.read(example_sequence))"
   ]
  },
  {
   "attachments": {},
   "cell_type": "markdown",
   "metadata": {},
   "source": [
    "Notice that `start_section=('S', 'START')` is now being set as a tuple.\n",
    "\n",
    "An alternative, and perhaps clearer way to write the same this is to explicitly \n",
    "pass a `SectionBreak` object to `start_section` like this:"
   ]
  },
  {
   "cell_type": "code",
   "execution_count": 6,
   "metadata": {},
   "outputs": [
    {
     "name": "stdout",
     "output_type": "stream",
     "text": [
      "['Second line', 'Third line']\n"
     ]
    }
   ],
   "source": [
    "from sections import Section, SectionBreak\n",
    "from pprint import pprint\n",
    "\n",
    "\n",
    "example_sequence = [\n",
    "    'Text String to be ignored',\n",
    "    'First line',\n",
    "    'Second line',\n",
    "    'Third line',\n",
    "    'Fourth line',\n",
    "    'Even more text to be ignored', \n",
    "   ]\n",
    "\n",
    "text_boundary_section = Section(\n",
    "    start_section=SectionBreak(sentinel='S', location='START'),\n",
    "    end_section='Fo'\n",
    "    )\n",
    "\n",
    "pprint(text_boundary_section.read(example_sequence))"
   ]
  },
  {
   "attachments": {},
   "cell_type": "markdown",
   "metadata": {},
   "source": [
    "For more information on the `location` modifier see *Advanced Section Breaks* "
   ]
  },
  {
   "cell_type": "code",
   "execution_count": 7,
   "metadata": {},
   "outputs": [
    {
     "name": "stdout",
     "output_type": "stream",
     "text": [
      "['Text String to be ignored', 'First line', 'Second line', 'Third line']\n"
     ]
    }
   ],
   "source": [
    "from sections import Section, SectionBreak\n",
    "from pprint import pprint\n",
    "\n",
    "\n",
    "example_sequence = [\n",
    "    'Text String to be ignored',\n",
    "    'First line',\n",
    "    'Second line',\n",
    "    'Third line',\n",
    "    'Fourth line',\n",
    "    'Even more text to be ignored', \n",
    "   ]\n",
    "\n",
    "text_boundary_section = Section(start_section='S', \n",
    "                                end_section='Fo')\n",
    "\n",
    "pprint(text_boundary_section.read(example_sequence))"
   ]
  },
  {
   "attachments": {},
   "cell_type": "markdown",
   "metadata": {},
   "source": [
    "### Adding an *Offset* to a Boundary Definition\n",
    "By default section boundaries occur *before* the item that triggers the \n",
    "boundary condition.\n",
    "This can be changed using the optional `break_offset` argument.\n",
    "\n",
    "The two most popular `break_offset` options are:\n",
    "<table>\n",
    "<thead><tr><th><code>break_offset</code> Value</th><th>Effect</th></tr></thead>\n",
    "<tbody>\n",
    "<tr><td>'After'</td>\n",
    "<td>The SectionBreak occurs between the item that triggered the boundary and the \n",
    "next item.</td></tr>\n",
    "<tr><td>'Before' <i>(the default)</i></td>\n",
    "<td>The SectionBreak occurs is just before the item that triggered the \n",
    "boundary</td></tr>\n",
    "</tbody></table>\n",
    "\n",
    "For example, to include *'Fourth line'* in the section without knowing what \n",
    "comes next:"
   ]
  },
  {
   "cell_type": "code",
   "execution_count": 8,
   "metadata": {},
   "outputs": [
    {
     "name": "stdout",
     "output_type": "stream",
     "text": [
      "['Second line', 'Third line', 'Fourth line']\n"
     ]
    }
   ],
   "source": [
    "from sections import Section, SectionBreak\n",
    "from pprint import pprint\n",
    "\n",
    "\n",
    "example_sequence = [\n",
    "    'Text String to be ignored',\n",
    "    'First line',\n",
    "    'Second line',\n",
    "    'Third line',\n",
    "    'Fourth line',\n",
    "    'Even more text to be ignored', \n",
    "   ]\n",
    "\n",
    "text_boundary_section = Section(\n",
    "    start_section=SectionBreak(sentinel='S', location='START'),\n",
    "    end_section=SectionBreak(sentinel='Fo', break_offset='After')\n",
    "    )\n",
    "\n",
    "pprint(text_boundary_section.read(example_sequence))"
   ]
  },
  {
   "attachments": {},
   "cell_type": "markdown",
   "metadata": {},
   "source": [
    "For more information on the `break_offset` modifier see *Advanced Section Breaks* "
   ]
  },
  {
   "attachments": {},
   "cell_type": "markdown",
   "metadata": {},
   "source": [
    "### Defining a section boundary with a function.\n",
    "A function can also be used to define a boundary.\n",
    "\n",
    "In it's simplest form, the function should accept a single argument of the \n",
    "same type as the input sequence's items and return a boolean.  When the function\n",
    "returns `True` a boundary is triggered.\n",
    "\n",
    "For example:"
   ]
  },
  {
   "cell_type": "code",
   "execution_count": 9,
   "metadata": {},
   "outputs": [
    {
     "name": "stdout",
     "output_type": "stream",
     "text": [
      "The sequence is:\t [1, 2, 3, 4, 5, 6, 7, 8, 9]\n",
      "The section is: \t [3, 4, 5]\n"
     ]
    }
   ],
   "source": [
    "from sections import Section, SectionBreak\n",
    "\n",
    "\n",
    "numeric_sequence = [i for i in range(1,10)]\n",
    "print('The sequence is:\\t', numeric_sequence)\n",
    "\n",
    "\n",
    "def multiple_of_three(num):\n",
    "    return num % 3 == 0  # True if num is a multiple of 3\n",
    "\n",
    "\n",
    "function_boundary_section = Section(start_section=multiple_of_three,\n",
    "                                    end_section=multiple_of_three)\n",
    "\n",
    "print('The section is: \\t', function_boundary_section.read(numeric_sequence))"
   ]
  },
  {
   "attachments": {},
   "cell_type": "markdown",
   "metadata": {},
   "source": [
    "In the example above:\n",
    "* The sequence consists of a list of integers from 1 to 9.\n",
    "* The function `multiple_of_three` returns `True` when it's input is a multiple \n",
    "of 3 and returns `False` otherwise.\n",
    "* Both `start_section` and `end_section` are set as the `multiple_of_three` \n",
    "function.\n",
    "* The section starts with the first multiple of three (3) and ends before the \n",
    "second multiple of three (6)."
   ]
  },
  {
   "attachments": {},
   "cell_type": "markdown",
   "metadata": {},
   "source": [
    "For more information on section boundaries see *Advanced Section Breaks* and \n",
    "*Using Context*"
   ]
  },
  {
   "attachments": {},
   "cell_type": "markdown",
   "metadata": {},
   "source": [
    "## Basic Processing\n",
    "Identifying a section of a larger sequence is only the first step in reading a \n",
    "section.  To be useful, a section usually needs to apply some custom processing \n",
    "to extract and format the desired information from the section items.\n",
    "\n",
    "Here we will illustrate some basic processing methods involving:\n",
    "* Single functions\n",
    "* Multiple functions\n",
    "* Generator functions\n"
   ]
  },
  {
   "attachments": {},
   "cell_type": "markdown",
   "metadata": {},
   "source": [
    "### Processing Functions That Act on a Single Item"
   ]
  },
  {
   "attachments": {},
   "cell_type": "markdown",
   "metadata": {},
   "source": [
    "To illustrate the use of processing functions we will use the refurbished PC \n",
    "price list below.\n",
    "\n",
    "Each line of text will be one source item. \n",
    "Our goal will be to convert each row into a one-item dictionary with the \n",
    "model as the key and the price as a float value.  "
   ]
  },
  {
   "attachments": {},
   "cell_type": "markdown",
   "metadata": {},
   "source": [
    "**Refurbished PC Price List**"
   ]
  },
  {
   "attachments": {},
   "cell_type": "raw",
   "metadata": {},
   "source": [
    "MODEL NAME, CPU, RAM, PRICE\n",
    "THINKCENTRE X1, Core i5/6200, 8, $260\n",
    "THINKCENTRE M78, AMD A8-6500, 8, $30\n",
    "THINKCENTRE M53, Celeron, 8, $60\n",
    "THINKCENTRE M710Q, Intel Pentium, 8, $40\n",
    "DELL OPTIPLEX 7060, Core i7-8700, 8, $385\n",
    "DELL OPTIPLEX 790, Core i5/2500, 4, $20"
   ]
  },
  {
   "attachments": {},
   "cell_type": "markdown",
   "metadata": {},
   "source": [
    "1. To begin with, we will drop the header line.  We can do that by setting the \n",
    "   starting boundary to occur after the line that starts with 'MODEL':   \n",
    "      > ```\n",
    "      > skip_header=SectionBreak(\n",
    "      >    sentinel='MODEL',      # Look for the text 'MODEL'.\n",
    "      >    location='START',      # Look at the beginning of the text line.\n",
    "      >    break_offset='After'   # Set the boundary point after the line.\n",
    "      >    )\n",
    "      > ```\n",
    "2. Next we convert each text line into a list of strings by splitting text line \n",
    "   at every occurrence of a comma using the following command:\n",
    "      > `text_list = text.split(',')`\n",
    "\n",
    "3. We then remove the '\\$' with:\n",
    "      > `text_list = [txt.replace('$', '') for txt in text_list]`\n",
    "\n",
    "4. Next we remove space from the start and end of each substring using:\n",
    "      > `text_list = [txt.strip() for txt in text_list]`\n",
    "\n",
    "5. Then we keep only the first and last columns as a two-item tuple:\n",
    "      > `selected_output = (text_list[0], text_list[-1])`\n",
    "\n",
    "6. Finally we convert a 2-item tuple into a one-item dictionary with a \n",
    "   float value with:\n",
    "      > `output = {selected_output[0]: float(selected_output[1])}`\n"
   ]
  },
  {
   "cell_type": "code",
   "execution_count": null,
   "metadata": {},
   "outputs": [
    {
     "name": "stdout",
     "output_type": "stream",
     "text": [
      "[{'THINKCENTRE X1': 260.0},\n",
      " {'THINKCENTRE M78': 30.0},\n",
      " {'THINKCENTRE M53': 60.0},\n",
      " {'THINKCENTRE M710Q': 40.0},\n",
      " {'DELL OPTIPLEX 7060': 385.0},\n",
      " {'DELL OPTIPLEX 790': 20.0}]\n"
     ]
    }
   ],
   "source": [
    "# pprint is used to produce nicely formatted output.\n",
    "from pprint import pprint\n",
    "\n",
    "# Import Section and SectionBreak\n",
    "from sections import Section, SectionBreak\n",
    "\n",
    "# This is the demo input we will use.\n",
    "price_list = [\n",
    "'MODEL NAME, CPU, RAM, PRICE',\n",
    "'THINKCENTRE X1, Core i5/6200, 8, $260',\n",
    "'THINKCENTRE M78, AMD A8-6500, 8, $30',\n",
    "'THINKCENTRE M53, Celeron, 8, $60',\n",
    "'THINKCENTRE M710Q, Intel Pentium, 8, $40',\n",
    "'DELL OPTIPLEX 7060, Core i7-8700, 8, $385',\n",
    "'DELL OPTIPLEX 790, Core i5/2500, 4, $20'\n",
    "]\n",
    "\n",
    "# Define the starting boundary: After the line that starts with 'MODEL'\n",
    "skip_header=SectionBreak(sentinel='MODEL', \n",
    "                         location='START', \n",
    "                         break_offset='After')\n",
    "\n",
    "def price_list_process(text):\n",
    "    '''Convert the first and last item from a csv string into a one-item \n",
    "    dictionary.\n",
    "\n",
    "    Split the supplied string at every occurrence of a comma.\n",
    "    Remove space from the start and end of each substring.\n",
    "    Remove every occurrence of '$' from each substring.\n",
    "    Select the first and last column.\n",
    "    Convert them into a dictionary.\n",
    "\n",
    "    Args:\n",
    "        text (str): The csv string to be parsed.\n",
    "\n",
    "    Returns:\n",
    "        dict[str, float]: The first column from the supplied csv as the key and \n",
    "        the last column as a float value.\n",
    "    '''\n",
    "    # Split text at every occurrence of ','.\n",
    "    text_list = text.split(',')\n",
    "    # Remove space from the start and end of each substring.\n",
    "    text_list = [txt.strip() for txt in text_list]\n",
    "    # Remove every occurrence of '$' from each substring.\n",
    "    text_list = [txt.replace('$', '') for txt in text_list]\n",
    "    # Keep only the first and last columns\n",
    "    selected_output = (text_list[0], text_list[-1])\n",
    "    # Convert a 2-item tuple into a one-item dictionary with a float value.\n",
    "    output = {selected_output[0]: float(selected_output[1])}\n",
    "    return output\n",
    "\n",
    "# Define the section `price_list_section` \n",
    "price_list_section = Section(start_section=skip_header, \n",
    "                             processor=price_list_process)\n",
    "\n",
    "# Read the `price_list` text using the `price_list_section` \n",
    "pprint(price_list_section.read(price_list))"
   ]
  },
  {
   "attachments": {},
   "cell_type": "markdown",
   "metadata": {},
   "source": [
    "### Sequential Processing (Multiple Processing Functions)\n",
    "* The generator chain\n",
    "* Data Type Consistency Principle\n",
    "\n",
    "The output type of each Process must\n",
    "match the expected input type of the next Process in the series.  No\n",
    "validation tests are done on this.\n",
    "\n",
    "A list of functions, or\n",
    "                similar to be applied to each item from the source sequence that\n",
    "                is identified as part of the section.  The functions will be\n",
    "                applied in list order, with the input of each function being the\n",
    "                output of the previous function in the list. If processor is\n",
    "                None(the default), the the section items are returned\n",
    "                unmodified."
   ]
  },
  {
   "cell_type": "code",
   "execution_count": null,
   "metadata": {},
   "outputs": [
    {
     "name": "stdout",
     "output_type": "stream",
     "text": [
      "[{'THINKCENTRE X1': 260.0},\n",
      " {'THINKCENTRE M78': 30.0},\n",
      " {'THINKCENTRE M53': 60.0},\n",
      " {'THINKCENTRE M710Q': 40.0},\n",
      " {'DELL OPTIPLEX 7060': 385.0},\n",
      " {'DELL OPTIPLEX 790': 20.0}]\n"
     ]
    }
   ],
   "source": [
    "# pprint is used to produce nicely formatted output.\n",
    "from pprint import pprint\n",
    "\n",
    "# Import Section and SectionBreak\n",
    "from sections import Section, SectionBreak\n",
    "\n",
    "# This is the demo input we will use.\n",
    "price_list = [\n",
    "'MODEL NAME, CPU, RAM, PRICE',\n",
    "'THINKCENTRE X1, Core i5/6200, 8, $260',\n",
    "'THINKCENTRE M78, AMD A8-6500, 8, $30',\n",
    "'THINKCENTRE M53, Celeron, 8, $60',\n",
    "'THINKCENTRE M710Q, Intel Pentium, 8, $40',\n",
    "'DELL OPTIPLEX 7060, Core i7-8700, 8, $385',\n",
    "'DELL OPTIPLEX 790, Core i5/2500, 4, $20'\n",
    "]\n",
    "\n",
    "# Define the starting boundary: After the line that starts with 'MODEL'\n",
    "skip_header=SectionBreak(sentinel='MODEL', \n",
    "                         location='START', \n",
    "                         break_offset='After')\n",
    "\n",
    "# Mini-functions for each processing action\n",
    "def csv_parse(text):\n",
    "    '''Split the supplied string at every occurrence of a comma.'''\n",
    "    return text.split(',')\n",
    "\n",
    "\n",
    "def drop_d(text_list):\n",
    "    '''Remove every occurrence of '$' from each substring.'''\n",
    "    return [txt.replace('$', '') for txt in text_list]\n",
    "\n",
    "\n",
    "def drop_space(text_list):\n",
    "    '''Remove space from the start and end of each substring.'''\n",
    "    return [txt.strip() for txt in text_list]\n",
    "\n",
    "\n",
    "def select_columns(text_list):\n",
    "    '''Select the first and last columns.'''\n",
    "    return (text_list[0], text_list[-1])\n",
    "\n",
    "\n",
    "    selected_output = (text_list[0], text_list[-1])\n",
    "def tuple_to_dict(text_tuple):\n",
    "    '''Convert a 2-item tuple into a one-item dictionary with a float value.'''\n",
    "    return {text_tuple[0]: float(text_tuple[1])}\n",
    "\n",
    "\n",
    "# Define the section `price_list_section` \n",
    "price_list_section = Section(start_section=skip_header, \n",
    "                             processor=[csv_parse, drop_d, drop_space, \n",
    "                                        select_columns, tuple_to_dict])\n",
    "\n",
    "# Read the `price_list` text using the `price_list_section` \n",
    "pprint(price_list_section.read(price_list))"
   ]
  },
  {
   "cell_type": "markdown",
   "metadata": {},
   "source": [
    "\n",
    "Because parsing text is such a common requirement, the sectionary package comes  \n",
    "with a number of text parsing functions.  Refer to the **Text Functions** \n",
    "tutorial for examples of some of those functions."
   ]
  }
 ],
 "metadata": {
  "kernelspec": {
   "display_name": "sectionaryDev",
   "language": "python",
   "name": "python3"
  },
  "language_info": {
   "codemirror_mode": {
    "name": "ipython",
    "version": 3
   },
   "file_extension": ".py",
   "mimetype": "text/x-python",
   "name": "python",
   "nbconvert_exporter": "python",
   "pygments_lexer": "ipython3",
   "version": "3.8.15 (default, Nov 24 2022, 14:38:14) [MSC v.1916 64 bit (AMD64)]"
  },
  "orig_nbformat": 4,
  "vscode": {
   "interpreter": {
    "hash": "890849be4bb9b5be1d044afe42e602ccc6ca20da23c054ee97c8186ec3939c45"
   }
  }
 },
 "nbformat": 4,
 "nbformat_minor": 2
}
