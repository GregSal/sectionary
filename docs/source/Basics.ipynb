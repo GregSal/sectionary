{
 "cells": [
  {
   "attachments": {},
   "cell_type": "markdown",
   "metadata": {},
   "source": [
    "# The Basics"
   ]
  },
  {
   "attachments": {},
   "cell_type": "markdown",
   "metadata": {},
   "source": [
    "*Temporary Style Settings here*\n",
    "<style>\n",
    "li {\n",
    "    list-style: disc;\n",
    "    margin-left: 2em;\n",
    "}\n",
    "li p {\n",
    "    list-style: disk;\n",
    "    line-height: normal;\n",
    "    margin-bottom: 0;\n",
    "}\n",
    "table p {\n",
    "    list-style: disk;\n",
    "    line-height: normal;\n",
    "    margin: 0 2em\n",
    "    ;\n",
    "    text-align: left;\n",
    "}\n",
    "</style>"
   ]
  },
  {
   "attachments": {},
   "cell_type": "markdown",
   "metadata": {},
   "source": [
    "## Section Components\n",
    "\n",
    "A section defines a continuous portion of a text stream or other iterable.\n",
    "A Section instance is the set of definitions for managing a sequence. the same \n",
    "instance can be used repeatedly on different sequence inputs or even on \n",
    "different portions of the same sequence.\n",
    "\n",
    "The section definition may include:\n",
    "* Boundary definitions for identifying the section's start and end.\n",
    "* Formatting or processing instructions for manipulating section items.\n",
    "* A merge method, which combines all of the processed items into a \n",
    "  single item such as a list."
   ]
  },
  {
   "attachments": {},
   "cell_type": "markdown",
   "metadata": {},
   "source": [
    "\n",
    "The code in each stage of this example is independent of previous stages. \n",
    "Copy the one you want without tracking back to previous stages."
   ]
  },
  {
   "attachments": {},
   "cell_type": "markdown",
   "metadata": {},
   "source": [
    "## Boundary Definitions"
   ]
  },
  {
   "attachments": {},
   "cell_type": "markdown",
   "metadata": {},
   "source": [
    "Every section has a *start_section* and an *end_section* which define the \n",
    "boundaries of the section.  The *start_section* and *end_section* each contain \n",
    "one or more *SectionBreak* objects\n",
    "\n",
    "A *SectionBreak* is built from a *sentinel* and two optional modifiers:\n",
    "* location\n",
    "* offset\n",
    "\n",
    "The *SectionBreak* can also be given a name, that can be used to identify which\n",
    "*SectionBreak* was triggered when a section boundary definition contains \n",
    "multiple *SectionBreaks*.  See **Advanced Section Breaks** for more details. "
   ]
  },
  {
   "attachments": {},
   "cell_type": "markdown",
   "metadata": {},
   "source": [
    "### Boundary Defaults\n",
    "\n",
    "If *start_section* is not explicitly defined it defaults to `True` \n",
    "(*AlwaysBreak*), indicating the section begins with the first item in the \n",
    "supplied sequence.\n",
    "\n",
    "If *end_section* is not explicitly defined it defaults to `False`, \n",
    "(*NeverBreak*)indicating the section continues through the last item in the \n",
    "supplied sequence.\n"
   ]
  },
  {
   "cell_type": "code",
   "execution_count": 1,
   "metadata": {},
   "outputs": [
    {
     "name": "stdout",
     "output_type": "stream",
     "text": [
      "['First line', 'Second line', 'Third line', 'Fourth line']\n"
     ]
    }
   ],
   "source": [
    "from sections import Section\n",
    "from pprint import pprint\n",
    "\n",
    "example_sequence = [\n",
    "    'First line',\n",
    "    'Second line',\n",
    "    'Third line',\n",
    "    'Fourth line'\n",
    "    ]\n",
    "\n",
    "default_section = Section()\n",
    "pprint(default_section.read(example_sequence))"
   ]
  },
  {
   "attachments": {},
   "cell_type": "markdown",
   "metadata": {},
   "source": [
    "The section above uses the default boundary definitions (and default everything else for that matter).\n",
    "With the default boundary definitions, every item in *example_sequence* is included in the section."
   ]
  },
  {
   "attachments": {},
   "cell_type": "markdown",
   "metadata": {},
   "source": [
    "### Simple Text Boundary Definitions\n",
    "The simplest boundary definitions is just a text string contained in the start or end item."
   ]
  },
  {
   "cell_type": "code",
   "execution_count": 2,
   "metadata": {},
   "outputs": [
    {
     "name": "stdout",
     "output_type": "stream",
     "text": [
      "['Second line', 'Third line']\n"
     ]
    }
   ],
   "source": [
    "from sections import Section\n",
    "from pprint import pprint\n",
    "\n",
    "example_sequence = [\n",
    "    'First line',\n",
    "    'Second line',\n",
    "    'Third line',\n",
    "    'Fourth line'\n",
    "    ]\n",
    "text_boundary_section = Section(start_section='Second', \n",
    "                                end_section='Fourth')\n",
    "\n",
    "pprint(text_boundary_section.read(example_sequence))"
   ]
  },
  {
   "attachments": {},
   "cell_type": "markdown",
   "metadata": {},
   "source": [
    "* `start_section='Second'` Causes the section to begin with the line containing *'Second'*\n",
    "* `end_section='Fourth'` Causes the section to end before the line containing *'Fourth'*"
   ]
  },
  {
   "attachments": {},
   "cell_type": "markdown",
   "metadata": {},
   "source": [
    "### Adding a *location* Modifier to a String Boundary Definition \n",
    "By default, when a string is used to define a boundary, any occurrence of that \n",
    "string within a sequence item will trigger the boundary.\n",
    "For example:"
   ]
  },
  {
   "cell_type": "code",
   "execution_count": 3,
   "metadata": {},
   "outputs": [
    {
     "name": "stdout",
     "output_type": "stream",
     "text": [
      "['Second line', 'Third line']\n"
     ]
    }
   ],
   "source": [
    "from sections import Section\n",
    "from pprint import pprint\n",
    "\n",
    "\n",
    "example_sequence = [\n",
    "    'First line',\n",
    "    'Second line',\n",
    "    'Third line',\n",
    "    'Fourth line'\n",
    "   ]\n",
    "text_boundary_section = Section(start_section='S', \n",
    "                                end_section='Fo')\n",
    "\n",
    "pprint(text_boundary_section.read(example_sequence))"
   ]
  },
  {
   "attachments": {},
   "cell_type": "markdown",
   "metadata": {},
   "source": [
    "<b>S</b> was found in '<b>S</b>econd line' and\n",
    "<b>Fo</b> was found in '<b>Fo</b>urth line'.\n",
    "\n",
    "But what if as <b>S</b> was found in an earlier line?  For Example:"
   ]
  },
  {
   "cell_type": "code",
   "execution_count": 4,
   "metadata": {},
   "outputs": [
    {
     "name": "stdout",
     "output_type": "stream",
     "text": [
      "['Text String to be ignored', 'First line', 'Second line', 'Third line']\n"
     ]
    }
   ],
   "source": [
    "from sections import Section, SectionBreak\n",
    "from pprint import pprint\n",
    "\n",
    "\n",
    "example_sequence = [\n",
    "    'Text String to be ignored',\n",
    "    'First line',\n",
    "    'Second line',\n",
    "    'Third line',\n",
    "    'Fourth line',\n",
    "    'Even more text to be ignored', \n",
    "   ]\n",
    "\n",
    "text_boundary_section = Section(start_section='S', \n",
    "                                end_section='Fo')\n",
    "\n",
    "pprint(text_boundary_section.read(example_sequence))"
   ]
  },
  {
   "attachments": {},
   "cell_type": "markdown",
   "metadata": {},
   "source": [
    "The <b>S</b> in '<b>S</b>tring' triggered the boundary.\n",
    "\n",
    "The optional `location` modifier allows you to specify where in the item string \n",
    "to search for the specified text.\n",
    "\n",
    "The location argument can be one of:\n",
    "<table>\n",
    "<thead><tr><th><code>location</code> Value</th><th>Search Method</th></tr></thead>\n",
    "<tbody>\n",
    "<tr><td>'IN'</td><td><code>text in item</code></td></tr>\n",
    "<tr><td>'START'</td><td><code>item.startswith(text)</code></td></tr>\n",
    "<tr><td>'END'</td><td><code>item.endswith(text)</code></td></tr>\n",
    "<tr><td>'FULL'</td><td><code>item == text</code></td></tr>\n",
    "</tbody></table>\n",
    "\n",
    "The section definition can then be given as:"
   ]
  },
  {
   "cell_type": "code",
   "execution_count": 5,
   "metadata": {},
   "outputs": [
    {
     "name": "stdout",
     "output_type": "stream",
     "text": [
      "['Second line', 'Third line']\n"
     ]
    }
   ],
   "source": [
    "from sections import Section, SectionBreak\n",
    "from pprint import pprint\n",
    "\n",
    "\n",
    "example_sequence = [\n",
    "    'Text String to be ignored',\n",
    "    'First line',\n",
    "    'Second line',\n",
    "    'Third line',\n",
    "    'Fourth line',\n",
    "    'Even more text to be ignored', \n",
    "   ]\n",
    "\n",
    "text_boundary_section = Section(start_section=('S', 'START'),\n",
    "                                end_section='Fo')\n",
    "\n",
    "pprint(text_boundary_section.read(example_sequence))"
   ]
  },
  {
   "attachments": {},
   "cell_type": "markdown",
   "metadata": {},
   "source": [
    "Notice that `start_section=('S', 'START')` is now being set as a tuple.\n",
    "\n",
    "An alternative, and perhaps clearer way to write the same this is to explicitly \n",
    "pass a `SectionBreak` object to `start_section` like this:"
   ]
  },
  {
   "cell_type": "code",
   "execution_count": 6,
   "metadata": {},
   "outputs": [
    {
     "name": "stdout",
     "output_type": "stream",
     "text": [
      "['Second line', 'Third line']\n"
     ]
    }
   ],
   "source": [
    "from sections import Section, SectionBreak\n",
    "from pprint import pprint\n",
    "\n",
    "\n",
    "example_sequence = [\n",
    "    'Text String to be ignored',\n",
    "    'First line',\n",
    "    'Second line',\n",
    "    'Third line',\n",
    "    'Fourth line',\n",
    "    'Even more text to be ignored', \n",
    "   ]\n",
    "\n",
    "text_boundary_section = Section(\n",
    "    start_section=SectionBreak(sentinel='S', location='START'),\n",
    "    end_section='Fo'\n",
    "    )\n",
    "\n",
    "pprint(text_boundary_section.read(example_sequence))"
   ]
  },
  {
   "attachments": {},
   "cell_type": "markdown",
   "metadata": {},
   "source": [
    "For more information on the `location` modifier see *Advanced Section Breaks* "
   ]
  },
  {
   "cell_type": "code",
   "execution_count": 7,
   "metadata": {},
   "outputs": [
    {
     "name": "stdout",
     "output_type": "stream",
     "text": [
      "['Text String to be ignored', 'First line', 'Second line', 'Third line']\n"
     ]
    }
   ],
   "source": [
    "from sections import Section, SectionBreak\n",
    "from pprint import pprint\n",
    "\n",
    "\n",
    "example_sequence = [\n",
    "    'Text String to be ignored',\n",
    "    'First line',\n",
    "    'Second line',\n",
    "    'Third line',\n",
    "    'Fourth line',\n",
    "    'Even more text to be ignored', \n",
    "   ]\n",
    "\n",
    "text_boundary_section = Section(start_section='S', \n",
    "                                end_section='Fo')\n",
    "\n",
    "pprint(text_boundary_section.read(example_sequence))"
   ]
  },
  {
   "attachments": {},
   "cell_type": "markdown",
   "metadata": {},
   "source": [
    "### Adding an *Offset* to a Boundary Definition\n",
    "By default section boundaries occur *before* the item that triggers the \n",
    "boundary condition.\n",
    "This can be changed using the optional `break_offset` argument.\n",
    "\n",
    "The two most popular `break_offset` options are:\n",
    "<table>\n",
    "<thead><tr><th><code>break_offset</code> Value</th><th>Effect</th></tr></thead>\n",
    "<tbody>\n",
    "<tr><td>'After'</td>\n",
    "<td>The SectionBreak occurs between the item that triggered the boundary and the \n",
    "next item.</td></tr>\n",
    "<tr><td>'Before' <i>(the default)</i></td>\n",
    "<td>The SectionBreak occurs is just before the item that triggered the \n",
    "boundary</td></tr>\n",
    "</tbody></table>\n",
    "\n",
    "For example, to include *'Fourth line'* in the section without knowing what \n",
    "comes next:"
   ]
  },
  {
   "cell_type": "code",
   "execution_count": 8,
   "metadata": {},
   "outputs": [
    {
     "name": "stdout",
     "output_type": "stream",
     "text": [
      "['Second line', 'Third line', 'Fourth line']\n"
     ]
    }
   ],
   "source": [
    "from sections import Section, SectionBreak\n",
    "from pprint import pprint\n",
    "\n",
    "\n",
    "example_sequence = [\n",
    "    'Text String to be ignored',\n",
    "    'First line',\n",
    "    'Second line',\n",
    "    'Third line',\n",
    "    'Fourth line',\n",
    "    'Even more text to be ignored', \n",
    "   ]\n",
    "\n",
    "text_boundary_section = Section(\n",
    "    start_section=SectionBreak(sentinel='S', location='START'),\n",
    "    end_section=SectionBreak(sentinel='Fo', break_offset='After')\n",
    "    )\n",
    "\n",
    "pprint(text_boundary_section.read(example_sequence))"
   ]
  },
  {
   "attachments": {},
   "cell_type": "markdown",
   "metadata": {},
   "source": [
    "For more information on the `break_offset` modifier see *Advanced Section Breaks* "
   ]
  },
  {
   "attachments": {},
   "cell_type": "markdown",
   "metadata": {},
   "source": [
    "### Defining a section boundary with a function.\n",
    "A function can also be used to define a boundary.\n",
    "\n",
    "In it's simplest form, the function should accept a single argument of the \n",
    "same type as the input sequence's items and return a boolean.  When the function\n",
    "returns `True` a boundary is triggered.\n",
    "\n",
    "For example:"
   ]
  },
  {
   "cell_type": "code",
   "execution_count": 9,
   "metadata": {},
   "outputs": [
    {
     "name": "stdout",
     "output_type": "stream",
     "text": [
      "The sequence is:\t [1, 2, 3, 4, 5, 6, 7, 8, 9]\n",
      "The section is: \t [3, 4, 5]\n"
     ]
    }
   ],
   "source": [
    "from sections import Section, SectionBreak\n",
    "\n",
    "\n",
    "numeric_sequence = [i for i in range(1,10)]\n",
    "print('The sequence is:\\t', numeric_sequence)\n",
    "\n",
    "\n",
    "def multiple_of_three(num):\n",
    "    return num % 3 == 0  # True if num is a multiple of 3\n",
    "\n",
    "\n",
    "function_boundary_section = Section(start_section=multiple_of_three,\n",
    "                                    end_section=multiple_of_three)\n",
    "\n",
    "print('The section is: \\t', function_boundary_section.read(numeric_sequence))"
   ]
  },
  {
   "attachments": {},
   "cell_type": "markdown",
   "metadata": {},
   "source": [
    "In the example above:\n",
    "* The sequence consists of a list of integers from 1 to 9.\n",
    "* The function `multiple_of_three` returns `True` when it's input is a multiple \n",
    "of 3 and returns `False` otherwise.\n",
    "* Both `start_section` and `end_section` are set as the `multiple_of_three` \n",
    "function.\n",
    "* The section starts with the first multiple of three (3) and ends before the \n",
    "second multiple of three (6)."
   ]
  },
  {
   "attachments": {},
   "cell_type": "markdown",
   "metadata": {},
   "source": [
    "For more information on section boundaries see *Advanced Section Breaks* and \n",
    "*Using Context*"
   ]
  },
  {
   "attachments": {},
   "cell_type": "markdown",
   "metadata": {},
   "source": [
    "## Basic Processing\n",
    "Identifying a section of a larger sequence is only the first step in reading a \n",
    "section.  To be useful, a section usually needs to apply some custom processing \n",
    "to extract and format the desired information from the section items.\n",
    "\n",
    "Here we will illustrate some basic processing methods."
   ]
  },
  {
   "attachments": {},
   "cell_type": "markdown",
   "metadata": {},
   "source": [
    "### Processing Functions That Act on a Single Item"
   ]
  },
  {
   "attachments": {},
   "cell_type": "markdown",
   "metadata": {},
   "source": [
    "To illustrate the use of processing functions we will use the refurbished PC \n",
    "price list below.\n",
    "\n",
    "The price list is in a comma separated variable (csv) style with the columns:\n",
    "\n",
    "1. MODEL NAME\n",
    "2. CPU\n",
    "3. RAM\n",
    "4. PRICE\n",
    "\n",
    "\n",
    "Each line of text will be one source item. \n",
    "Our processing goal will be to convert each row into a two-item tuple containing\n",
    "the model and the price.  \n",
    "\n",
    "To focus on the processing part, the first line with the column names will be \n",
    "excluded from the sequence."
   ]
  },
  {
   "attachments": {},
   "cell_type": "markdown",
   "metadata": {},
   "source": [
    "**Refurbished PC Price List**"
   ]
  },
  {
   "attachments": {},
   "cell_type": "raw",
   "metadata": {},
   "source": [
    "MODEL NAME, CPU, RAM, PRICE\n",
    "THINKCENTRE X1, Core i5/6200, 8, $260\n",
    "THINKCENTRE M78, AMD A8-6500, 8, $30\n",
    "THINKCENTRE M53, Celeron, 8, $60\n",
    "THINKCENTRE M710Q, Intel Pentium, 8, $40\n",
    "DELL OPTIPLEX 7060, Core i7-8700, 8, $385\n",
    "DELL OPTIPLEX 790, Core i5/2500, 4, $20"
   ]
  },
  {
   "attachments": {},
   "cell_type": "markdown",
   "metadata": {},
   "source": [
    "1. To begin with, we convert each text line into a list of strings by splitting text line \n",
    "   at every occurrence of a comma using the following command:<br>\n",
    "    <code>text_list = text.split(',')</code>\n",
    "\n",
    "2. We then remove the '\\$' with:<br>\n",
    "    <code>text_list = [txt.replace('$', '') for txt in text_list]</code>\n",
    "\n",
    "3. Next we remove space from the start and end of each substring using:<br>\n",
    "    <code>text_list = [txt.strip() for txt in text_list]</code>\n",
    "\n",
    "4. Finally, we keep only the first and last columns as a two-item tuple:<br>\n",
    "    <code>selected_output = (text_list[0], text_list[-1])</code>\n"
   ]
  },
  {
   "cell_type": "code",
   "execution_count": 10,
   "metadata": {},
   "outputs": [
    {
     "name": "stdout",
     "output_type": "stream",
     "text": [
      "[('THINKCENTRE X1', '260'),\n",
      " ('THINKCENTRE M78', '30'),\n",
      " ('THINKCENTRE M53', '60'),\n",
      " ('THINKCENTRE M710Q', '40'),\n",
      " ('DELL OPTIPLEX 7060', '385'),\n",
      " ('DELL OPTIPLEX 790', '20')]\n"
     ]
    }
   ],
   "source": [
    "# pprint is used to produce nicely formatted output.\n",
    "from pprint import pprint\n",
    "\n",
    "# Import Section and SectionBreak\n",
    "from sections import Section\n",
    "\n",
    "# This is the demo input we will use.\n",
    "price_list = [\n",
    "    'THINKCENTRE X1, Core i5/6200, 8, $260',\n",
    "    'THINKCENTRE M78, AMD A8-6500, 8, $30',\n",
    "    'THINKCENTRE M53, Celeron, 8, $60',\n",
    "    'THINKCENTRE M710Q, Intel Pentium, 8, $40',\n",
    "    'DELL OPTIPLEX 7060, Core i7-8700, 8, $385',\n",
    "    'DELL OPTIPLEX 790, Core i5/2500, 4, $20'\n",
    "    ]\n",
    "\n",
    "\n",
    "def price_list_process(text):\n",
    "    '''Convert the first and last item from a csv string into a one-item \n",
    "    dictionary.\n",
    "\n",
    "    Split the supplied string at every occurrence of a comma.\n",
    "    Remove space from the start and end of each substring.\n",
    "    Remove every occurrence of '$' from each substring.\n",
    "    Select the first and last column.\n",
    "\n",
    "    Args:\n",
    "        text (str): The csv string to be parsed.\n",
    "\n",
    "    Returns:\n",
    "        Tuple[str]: The first and last columns from the supplied csv after \n",
    "            cleaning.\n",
    "    '''\n",
    "    # Split text at every occurrence of ','.\n",
    "    text_list = text.split(',')\n",
    "    # Remove space from the start and end of each substring.\n",
    "    text_list = [txt.strip() for txt in text_list]\n",
    "    # Remove every occurrence of '$' from each substring.\n",
    "    text_list = [txt.replace('$', '') for txt in text_list]\n",
    "    # Keep only the first and last columns\n",
    "    selected_output = (text_list[0], text_list[-1])\n",
    "    return selected_output\n",
    "\n",
    "# Define the section `price_list_section` \n",
    "price_list_section = Section(processor=price_list_process)\n",
    "\n",
    "# Read the `price_list` text using the `price_list_section` \n",
    "pprint(price_list_section.read(price_list))"
   ]
  },
  {
   "attachments": {},
   "cell_type": "markdown",
   "metadata": {},
   "source": [
    "### Sequential Processing (Multiple Processing Functions)\n",
    "\n",
    "In the above example a single function was used to perform all of the \n",
    "processing.  An alternative approach is to provide a list of multiple functions \n",
    "as the `processor`.  Each function is applied in list order, with the input the \n",
    "second function being the output from the first function and so on.  This \n",
    "approach has the advantage of allowing functions to be reused on different \n",
    "sections and in some cases improves the clarity of the section definitions.\n",
    "\n",
    "**Note:** The output type of each function must match the expected input type of \n",
    "the next function in the series.  No validation tests are done on this.\n",
    "\n",
    "The example below performs the same processing as the previous example, except \n",
    "that it uses a separate function for each step. "
   ]
  },
  {
   "cell_type": "code",
   "execution_count": 11,
   "metadata": {},
   "outputs": [
    {
     "name": "stdout",
     "output_type": "stream",
     "text": [
      "[('THINKCENTRE X1', '260'),\n",
      " ('THINKCENTRE M78', '30'),\n",
      " ('THINKCENTRE M53', '60'),\n",
      " ('THINKCENTRE M710Q', '40'),\n",
      " ('DELL OPTIPLEX 7060', '385'),\n",
      " ('DELL OPTIPLEX 790', '20')]\n"
     ]
    }
   ],
   "source": [
    "# pprint is used to produce nicely formatted output.\n",
    "from pprint import pprint\n",
    "\n",
    "# Import Section and SectionBreak\n",
    "from sections import Section\n",
    "\n",
    "# This is the demo input we will use.\n",
    "price_list = [\n",
    "    'THINKCENTRE X1, Core i5/6200, 8, $260',\n",
    "    'THINKCENTRE M78, AMD A8-6500, 8, $30',\n",
    "    'THINKCENTRE M53, Celeron, 8, $60',\n",
    "    'THINKCENTRE M710Q, Intel Pentium, 8, $40',\n",
    "    'DELL OPTIPLEX 7060, Core i7-8700, 8, $385',\n",
    "    'DELL OPTIPLEX 790, Core i5/2500, 4, $20'\n",
    "    ]\n",
    "\n",
    "# Mini-functions for each processing action\n",
    "def csv_parse(text):\n",
    "    '''Split the supplied string at every occurrence of a comma.'''\n",
    "    return text.split(',')\n",
    "\n",
    "\n",
    "def drop_d(text_list):\n",
    "    '''Remove every occurrence of '$' from each substring.'''\n",
    "    return [txt.replace('$', '') for txt in text_list]\n",
    "\n",
    "\n",
    "def drop_space(text_list):\n",
    "    '''Remove space from the start and end of each substring.'''\n",
    "    return [txt.strip() for txt in text_list]\n",
    "\n",
    "\n",
    "def select_columns(text_list):\n",
    "    '''Select the first and last columns.'''\n",
    "    return (text_list[0], text_list[-1])\n",
    "\n",
    "\n",
    "# Define the section `price_list_section` \n",
    "price_list_section = Section(processor=[csv_parse, drop_d, drop_space, \n",
    "                                        select_columns])\n",
    "\n",
    "\n",
    "# Read the `price_list` text using the `price_list_section` \n",
    "pprint(price_list_section.read(price_list))"
   ]
  },
  {
   "attachments": {},
   "cell_type": "markdown",
   "metadata": {},
   "source": [
    "For more examples of processing methods refer to the **Advanced Processing** \n",
    "tutorial, the **Subsections** tutorial, the **Context** tutorial and the \n",
    "**Text Functions** tutorial."
   ]
  },
  {
   "attachments": {},
   "cell_type": "markdown",
   "metadata": {},
   "source": [
    "## Basic Item Assembling"
   ]
  },
  {
   "attachments": {},
   "cell_type": "markdown",
   "metadata": {},
   "source": [
    "Assembling, the final section component involves combining all of the section \n",
    "items into a single object.  The default assembly function is `list()`; the \n",
    "items in the section are returned as a list.  \n",
    "\n",
    "In this example we will supply an assembly function that will convert the \n",
    "2-item tuple generated by the processing example into a dictionary with the \n",
    "model as the key and the price as a float value.  \n",
    "\n",
    "To focus on the assembly part, the supplied sequence will be the output from \n",
    "the previous processing example."
   ]
  },
  {
   "cell_type": "code",
   "execution_count": 12,
   "metadata": {},
   "outputs": [
    {
     "name": "stdout",
     "output_type": "stream",
     "text": [
      "{'DELL OPTIPLEX 7060': 385.0,\n",
      " 'DELL OPTIPLEX 790': 20.0,\n",
      " 'THINKCENTRE M53': 60.0,\n",
      " 'THINKCENTRE M710Q': 40.0,\n",
      " 'THINKCENTRE M78': 30.0,\n",
      " 'THINKCENTRE X1': 260.0}\n"
     ]
    }
   ],
   "source": [
    "# pprint is used to produce nicely formatted output.\n",
    "from pprint import pprint\n",
    "\n",
    "# Import Section\n",
    "from sections import Section\n",
    "\n",
    "# This is the demo input we will use.\n",
    "price_tuple = [\n",
    "    ('THINKCENTRE X1', '260'),\n",
    "    ('THINKCENTRE M78', '30'),\n",
    "    ('THINKCENTRE M53', '60'),\n",
    "    ('THINKCENTRE M710Q', '40'),\n",
    "    ('DELL OPTIPLEX 7060', '385'),\n",
    "    ('DELL OPTIPLEX 790', '20')\n",
    "    ]\n",
    "\n",
    "def tuples_to_dict(text_tuples):\n",
    "    '''Convert a sequence of 2-item tuples into a item dictionary \n",
    "    with the first tuple element as the key and the second as a float value.\n",
    "    '''\n",
    "    combined_dict = {row[0]: float(row[1]) for row in text_tuples}\n",
    "    return combined_dict\n",
    "\n",
    "\n",
    "# Define the section `price_dict_section` \n",
    "price_dict_section = Section(aggregate=tuples_to_dict)\n",
    "\n",
    "\n",
    "# Read the `price_tuple` text using the `price_dict_section` \n",
    "pprint(price_dict_section.read(price_tuple))"
   ]
  },
  {
   "attachments": {},
   "cell_type": "markdown",
   "metadata": {},
   "source": [
    "# The Basics All In One"
   ]
  },
  {
   "attachments": {},
   "cell_type": "markdown",
   "metadata": {},
   "source": [
    "Here we will conclude the basics introduction with all three components in one \n",
    "section.  The three components will:\n",
    "\n",
    "1. Skip the first (header) line.\n",
    "2. Convert each row into a two-item tuple containing the model and the price.  \n",
    "3. Convert the 2-item tuple into a dictionary with the model as the key and the \n",
    "   price as a float value.  "
   ]
  },
  {
   "cell_type": "code",
   "execution_count": 13,
   "metadata": {},
   "outputs": [
    {
     "name": "stdout",
     "output_type": "stream",
     "text": [
      "{'DELL OPTIPLEX 7060': 385.0,\n",
      " 'DELL OPTIPLEX 790': 20.0,\n",
      " 'THINKCENTRE M53': 60.0,\n",
      " 'THINKCENTRE M710Q': 40.0,\n",
      " 'THINKCENTRE M78': 30.0,\n",
      " 'THINKCENTRE X1': 260.0}\n"
     ]
    }
   ],
   "source": [
    "# pprint is used to produce nicely formatted output.\n",
    "from pprint import pprint\n",
    "\n",
    "# Import Section and SectionBreak\n",
    "from sections import Section\n",
    "\n",
    "# This is the demo input we will use.\n",
    "price_list = [\n",
    "    'MODEL NAME, CPU, RAM, PRICE',\n",
    "    'THINKCENTRE X1, Core i5/6200, 8, $260',\n",
    "    'THINKCENTRE M78, AMD A8-6500, 8, $30',\n",
    "    'THINKCENTRE M53, Celeron, 8, $60',\n",
    "    'THINKCENTRE M710Q, Intel Pentium, 8, $40',\n",
    "    'DELL OPTIPLEX 7060, Core i7-8700, 8, $385',\n",
    "    'DELL OPTIPLEX 790, Core i5/2500, 4, $20'\n",
    "    ]\n",
    "\n",
    "# Mini-functions for each processing action\n",
    "def csv_parse(text):\n",
    "    '''Split the supplied string at every occurrence of a comma.'''\n",
    "    return text.split(',')\n",
    "\n",
    "\n",
    "def drop_d(text_list):\n",
    "    '''Remove every occurrence of '$' from each substring.'''\n",
    "    return [txt.replace('$', '') for txt in text_list]\n",
    "\n",
    "\n",
    "def drop_space(text_list):\n",
    "    '''Remove space from the start and end of each substring.'''\n",
    "    return [txt.strip() for txt in text_list]\n",
    "\n",
    "\n",
    "def select_columns(text_list):\n",
    "    '''Select the first and last columns.'''\n",
    "    return (text_list[0], text_list[-1])\n",
    "\n",
    "\n",
    "# Assembly function\n",
    "def tuples_to_dict(text_tuples):\n",
    "    '''Convert a sequence of 2-item tuples into a item dictionary \n",
    "    with the first tuple element as the key and the second as a float value.\n",
    "    '''\n",
    "    # Use a dictionary generator to take each two-element tuple, set the first \n",
    "    # as the dictionary key and convert the second into a float value.\n",
    "    combined_dict = {row[0]: float(row[1]) for row in text_tuples}\n",
    "    return combined_dict\n",
    "\n",
    "\n",
    "# Define the section `price_all_in_one_section` \n",
    "# Define the starting boundary: After the line that starts with 'MODEL'\n",
    "# Define the processor: split the text at each ',' remove the '\\$' and spaces,\n",
    "#   convert the first and last columns to a two-item tuple.\n",
    "# Define the Assembler: Convert the 2-item tuple into a dictionary.  \n",
    "price_all_in_one_section = Section(start_section=('MODEL', 'START', 'After'),\n",
    "                                   processor=[csv_parse, drop_d, drop_space, \n",
    "                                              select_columns],\n",
    "                                   aggregate=tuples_to_dict)\n",
    "\n",
    "\n",
    "# Read the `price_list` text using the `price_all_in_one_section` \n",
    "pprint(price_all_in_one_section.read(price_list))"
   ]
  },
  {
   "attachments": {},
   "cell_type": "markdown",
   "metadata": {},
   "source": [
    "These are simple introductory examples to fully unleash the power of the section \n",
    "module, see the tutorials in the Users Guide:\n",
    "* **Advanced Section Breaks**\n",
    "* **Advanced Processing** \n",
    "* **Subsections**\n",
    "* **Context**\n",
    "* **Text Functions**"
   ]
  }
 ],
 "metadata": {
  "kernelspec": {
   "display_name": "sectionaryDev",
   "language": "python",
   "name": "python3"
  },
  "language_info": {
   "codemirror_mode": {
    "name": "ipython",
    "version": 3
   },
   "file_extension": ".py",
   "mimetype": "text/x-python",
   "name": "python",
   "nbconvert_exporter": "python",
   "pygments_lexer": "ipython3",
   "version": "3.8.15 (default, Nov 24 2022, 14:38:14) [MSC v.1916 64 bit (AMD64)]"
  },
  "orig_nbformat": 4,
  "vscode": {
   "interpreter": {
    "hash": "890849be4bb9b5be1d044afe42e602ccc6ca20da23c054ee97c8186ec3939c45"
   }
  }
 },
 "nbformat": 4,
 "nbformat_minor": 2
}
