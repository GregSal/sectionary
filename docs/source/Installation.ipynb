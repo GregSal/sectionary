{
 "cells": [
  {
   "attachments": {},
   "cell_type": "markdown",
   "metadata": {},
   "source": [
    "# Installing Sectionary"
   ]
  },
  {
   "cell_type": "markdown",
   "metadata": {},
   "source": [
    "**Here be Dragons**"
   ]
  },
  {
   "attachments": {},
   "cell_type": "markdown",
   "metadata": {
    "nbsphinx": "hidden",
    "tags": []
   },
   "source": [
    "## Install the official release\n",
    "sectionary, being a Python library, requires Python. If you’re not sure whether or not your version of Python is supported, check this table."
   ]
  },
  {
   "attachments": {},
   "cell_type": "markdown",
   "metadata": {
    "nbsphinx": "hidden",
    "tags": []
   },
   "source": [
    "## Install using pip\n",
    "sectionary is available on PyPI, the official third-party Python software repository. The simplest way to install from PyPI is using pip with the command:\n",
    "\n",
    "pip install sectionary\n",
    "You may need to use this instead, depending on your operating system:\n",
    "\n",
    "python -m pip install sectionary\n",
    "You can also perform an offline installation by downloading and installing one of the release *.whl files. For example, with the v2.0 release:\n",
    "\n",
    "pip install sectionary-2.0.0-py3-none-any.whl"
   ]
  },
  {
   "attachments": {},
   "cell_type": "markdown",
   "metadata": {
    "nbsphinx": "hidden",
    "tags": []
   },
   "source": [
    "## Install using conda\n",
    "sectionary is also available for conda at conda-forge:\n",
    "\n",
    "conda install -c conda-forge sectionary\n"
   ]
  },
  {
   "attachments": {},
   "cell_type": "markdown",
   "metadata": {
    "nbsphinx": "hidden",
    "tags": []
   },
   "source": [
    "## Downloading example/test files\n",
    "To keep the package size small, example/test files are not distributed with sectionary and are instead kept in the sectionary-data repository. To get the complete set of testing and example files you can either install the sectionary-data repository:\n",
    "\n",
    "pip install git+https://github.com/pydicom/sectionary-data\n",
    "Or download the missing files to the local cache (after installing sectionary):\n",
    "\n",
    "python -c \"import sectionary; sectionary.data.fetch_data_files()\"\n"
   ]
  }
 ],
 "metadata": {
  "kernelspec": {
   "display_name": "Python 3 (ipykernel)",
   "language": "python",
   "name": "python3"
  },
  "language_info": {
   "codemirror_mode": {
    "name": "ipython",
    "version": 3
   },
   "file_extension": ".py",
   "mimetype": "text/x-python",
   "name": "python",
   "nbconvert_exporter": "python",
   "pygments_lexer": "ipython3",
   "version": "3.8.15 (default, Nov 24 2022, 14:38:14) [MSC v.1916 64 bit (AMD64)]"
  },
  "vscode": {
   "interpreter": {
    "hash": "890849be4bb9b5be1d044afe42e602ccc6ca20da23c054ee97c8186ec3939c45"
   }
  }
 },
 "nbformat": 4,
 "nbformat_minor": 4
}
