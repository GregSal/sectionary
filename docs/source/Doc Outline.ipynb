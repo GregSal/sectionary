{
 "cells": [
  {
   "attachments": {},
   "cell_type": "markdown",
   "metadata": {},
   "source": [
    "# Sectionary Documentation"
   ]
  },
  {
   "attachments": {},
   "cell_type": "markdown",
   "metadata": {},
   "source": [
    "### Introduction\n",
    "\n",
    "### Features"
   ]
  },
  {
   "attachments": {},
   "cell_type": "markdown",
   "metadata": {},
   "source": [
    "## Getting Started\n",
    "\n",
    "### Quick Start\n",
    "\n",
    "#### Installation\n",
    "\n",
    "#### A simple section\n",
    "\n",
    "### The Basics\n",
    "\n",
    "#### Section Breaks\n",
    "\n",
    "#### Processors\n",
    "\n",
    "#### Aggregation"
   ]
  },
  {
   "attachments": {},
   "cell_type": "markdown",
   "metadata": {},
   "source": [
    "## User Guide\n",
    "\n",
    "A collection of tutorials on various topics\n",
    "\n",
    "### Triggers\n",
    "\n",
    "### Using Context\n",
    "\n",
    "### Advanced Processing\n",
    "\n",
    "#### Item counting\n",
    "\n",
    "#### Subsections\n",
    "\n",
    "##### Repeating Subsections\n",
    "\n",
    "##### Section Groups\n",
    "\n",
    "#### Rules and Rule Sets\n",
    "\n",
    "#### Text Tools\n",
    "\n",
    "### Iterator Options\n",
    "\n",
    "#### Types of Sources\n",
    "\n",
    "##### Lists\n",
    "\n",
    "##### Files\n",
    "\n",
    "##### Streams\n",
    "\n",
    "##### Generators\n",
    "\n",
    "#### Scan() and Process()\n",
    "\n",
    "#### Buffered Iterators *Under the Hood*\n",
    "\n"
   ]
  },
  {
   "attachments": {},
   "cell_type": "markdown",
   "metadata": {},
   "source": [
    "## Examples\n",
    "\n",
    "### MS DIR Output\n",
    "\n",
    "### Read Printout\n",
    "\n",
    "### Read DVH\n",
    "\n",
    "### Parse Python Code"
   ]
  },
  {
   "attachments": {},
   "cell_type": "markdown",
   "metadata": {},
   "source": [
    "## API Reference"
   ]
  }
 ],
 "metadata": {
  "kernelspec": {
   "display_name": "sectionaryDev",
   "language": "python",
   "name": "python3"
  },
  "language_info": {
   "name": "python",
   "version": "3.8.15 (default, Nov 24 2022, 14:38:14) [MSC v.1916 64 bit (AMD64)]"
  },
  "orig_nbformat": 4,
  "vscode": {
   "interpreter": {
    "hash": "890849be4bb9b5be1d044afe42e602ccc6ca20da23c054ee97c8186ec3939c45"
   }
  }
 },
 "nbformat": 4,
 "nbformat_minor": 2
}
