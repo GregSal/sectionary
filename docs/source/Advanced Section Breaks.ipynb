{
 "cells": [
  {
   "attachments": {},
   "cell_type": "markdown",
   "metadata": {},
   "source": [
    "# Advanced Section Breaks"
   ]
  },
  {
   "attachments": {},
   "cell_type": "markdown",
   "metadata": {},
   "source": [
    "*Temporary Style Settings here*\n",
    "<style>\n",
    "li {\n",
    "    list-style: disc;\n",
    "    margin-left: 2em;\n",
    "}\n",
    "li p {\n",
    "    list-style: disk;\n",
    "    line-height: normal;\n",
    "    margin-bottom: 0;\n",
    "}\n",
    "table p {\n",
    "    list-style: disk;\n",
    "    line-height: normal;\n",
    "    margin-bottom: 0;\n",
    "    text-align: left;\n",
    "}\n",
    "</style>"
   ]
  },
  {
   "attachments": {},
   "cell_type": "markdown",
   "metadata": {},
   "source": [
    "### Sentinels"
   ]
  },
  {
   "attachments": {},
   "cell_type": "markdown",
   "metadata": {},
   "source": [
    "A variety of different Sentinel types can be used. Some sentinel types can also \n",
    "be provided as a list, where if any one of the sentinels in the list pass the \n",
    "break is triggered. The table below lists the possible sentinel types:\n",
    "\n",
    "<table>\n",
    "<thead>\n",
    "<tr><th>Sentinel Type</th><th>Description</th></tr>\n",
    "</thead><tbody>\n",
    "<tr><td>A boolean</td>\n",
    "<td>A *SectionBreak* that will either always pass or always fail.</td></tr>\n",
    "\n",
    "<tr><td>A string or list of strings</td>\n",
    "<td>A *SectionBreak* that will pass if the item being tested matches with the \n",
    "string (or with any of the strings in the list). The location attribute \n",
    "dictates the type of match required.</td></tr>\n",
    "\n",
    "<tr><td>A compiled regular expression pattern or list of compiled regular \n",
    "expression patterns</td>\n",
    "<td>A *SectionBreak* that will pass if the pattern (or one of the patterns in \n",
    "the list) successfully matches in the item being tested. The location attribute \n",
    "dictates the type of regular expression match required. Regular Expression \n",
    "patterns must be compiled with re.compile(string) to distinguish them from \n",
    "plain text sentinels.</td></tr>\n",
    "\n",
    "<tr><td>A function or list of functions</td>\n",
    "<td>A conditional that will pass if the sentinel function (or one of the \n",
    "functions in the list) returns a non-blank (None, '', []) value when applied \n",
    "to the item being tested.  Sentinel functions act on an item from the sequence \n",
    "and have one of the following argument formats:\n",
    "<ul>\n",
    "  <li>func(item)</li>\n",
    "  <li>func(item, context)</li>\n",
    "  <li>func(item, **kwargs)</li>\n",
    "</ul>\n",
    "where:\n",
    "<ul>\n",
    "  <li><i>item</i> is an item from the supplied sequence</li>\n",
    "  <li><i>context</i> is the Section.context attribute.  \n",
    "      See <b>Working with context</b> for more information.</li>\n",
    "  <li><i>**kwargs</i> represents keyword arguments which must be contained in \n",
    "      the Section.context dictionary.</li>\n",
    "</ul>\n",
    "</td></tr>\n",
    "</tbody>\n",
    "<caption>The available sentinel types which can be used to evaluate items in a \n",
    "sequence for the purpose of identifying a section's boundaries.</caption>\n",
    "</table>\n",
    "                       "
   ]
  },
  {
   "attachments": {},
   "cell_type": "markdown",
   "metadata": {},
   "source": [
    "### SectionBreak Modifiers"
   ]
  },
  {
   "attachments": {},
   "cell_type": "markdown",
   "metadata": {},
   "source": [
    "location (str, optional):  A sentinel modifier that applies to str\n",
    "    or re.Pattern types of sentinels. For other sentinel types it\n",
    "    is ignored. One of  ['IN', 'START', 'END', 'FULL', None].\n",
    "    Default is None, which is treated as 'IN'\n",
    "\n",
    "The location argument is a sentinel modifier that applies to str or\n",
    "    re.Pattern types of sentinels. location can be one of:\n",
    "        location    str test                    re.Pattern test\n",
    "          IN      sentinel in item            sentinel.search(item)\n",
    "          START   item.startswith(sentinel)   sentinel.match(item)\n",
    "          END     item.endswith(sentinel),    NotImplementedError\n",
    "          FULL    sentinel == item            sentinel.fullmatch(item)\n",
    "\n",
    "\n",
    "    location (str, optional):  A sentinel modifier that applies to str\n",
    "        or re.Pattern types of sentinels. For other sentinel types it\n",
    "        is ignored. One of  ['IN', 'START', 'END', 'FULL', None].\n",
    "        Default is None, which is treated as 'IN'\n",
    "        if sentinel is a string type:\n",
    "            location == 'IN' -> sentinel in line,\n",
    "            location == 'START' -> line.startswith(sentinel), in line,\n",
    "            location == 'END' -> line.endswith(sentinel),\n",
    "            location == 'FULL' -> sentinel == line.\n",
    "        if sentinel is a Regular Expression type:\n",
    "            location == 'IN' -> sentinel.search(line),\n",
    "            location == 'START' -> sentinel.match(line),\n",
    "            location == 'FULL' -> sentinel.fullmatch(line),\n",
    "            location == 'END' -> raise NotImplementedError."
   ]
  },
  {
   "attachments": {},
   "cell_type": "markdown",
   "metadata": {},
   "source": [
    "break_offset (int, str, optional): The number of Source items\n",
    "    before (negative) or after (positive) between the item that\n",
    "    causes a trigger event and the boundary.  offset can also be\n",
    "    one of\n",
    "        'After' =  0, or\n",
    "        'Before' = -1\n",
    "    Defaults to 'Before'.\n",
    "\n",
    "offset is used to identify a location in the\n",
    "Source sequence, and an offset, specifying the distance (in number of\n",
    "Source items) between the identified location and the break point.\n",
    "\n",
    "Offset is an integer indicating the number of additional Source items to\n",
    "include in the section.  The two most popular offset options, have text\n",
    "equivalents:\n",
    "    'After'  -> offset =  0  -> The SectionBreak location is between the\n",
    "                                current item and the next.\n",
    "    'Before' -> offset = -1 -> The SectionBreak location is just before the\n",
    "                               current item (Step back 1 item)."
   ]
  },
  {
   "attachments": {},
   "cell_type": "markdown",
   "metadata": {},
   "source": [
    "# Triggers and Rules\n",
    "\n",
    "## Basic Definitions\n",
    "\n",
    "### Test\n",
    "\n",
    "> A dynamically defined conditional statement which takes a single argument and\n",
    "> returns a Boolean.\n",
    "\n",
    "### Trigger\n",
    "\n",
    "> One or more Tests which cause an action to be performed or stopped.\n",
    "> Triggers have access to the Context in addition to whatever arguments are\n",
    "> explicitly passed to them.\n",
    ">\n",
    "> - Returns a Boolean.\n",
    "\n",
    "### Rule\n",
    "\n",
    "> A Trigger-method pair, where the method is applied if the Trigger returns\n",
    "  > True.\n",
    ">\n",
    "> - The output of the method will depend on the type of Rule.\n",
    "\n",
    "## Trigger Types\n",
    "\n",
    "<table><thead>\n",
    "<th>Trigger</th><th>Description</th>\n",
    "</thead></tbody>\n",
    "<tr><td>Simple Trigger</td>\n",
    "  <td>A single Test and method that takes a single argument and returns a\n",
    "      Boolean.<br>\n",
    "      <ul><li>Used by Rules to cause an action to be performed or stopped.\n",
    "      </ul></td></tr>\n",
    "<tr><td>Complex Trigger</td>\n",
    "  <td>Multiple conditional statements which are compounded\n",
    "      e.g. A and (B or C).</td></tr>\n",
    "<tr><td>Contextual Trigger</td>\n",
    "  <td>A Complex Trigger that sets or updates Context attributes when one of\n",
    "      it's conditional statements is evaluated.<br>\n",
    "      Examples are:\n",
    "      <ul>\n",
    "        <li>A re.Match object from a Regex application\n",
    "        <li>A Counter being initialized, incremented or reset.\n",
    "        </ul></td></tr>\n",
    "<tr><td>Break Trigger</td>\n",
    "  <td> A Trigger used to identify a Section Break.<br>\n",
    "    Conditions include:<br>\n",
    "    <ul>\n",
    "      <li>Testing the Line for the presence of any of the strings in a list of\n",
    "          strings.\n",
    "      <li>A compiled Regex, which is true if the Regex achieves a match in the\n",
    "          Line.\n",
    "      <li>A specified number of lines after another condition passes.\n",
    "      <li>A custom counter reaches a certain value e.g. number of lines or\n",
    "          number of repetitions of some other condition passing.\n",
    "    </ul>\n",
    "    Break Triggers can also be instructed to add or update a value in the\n",
    "    Context.</td></tr>\n",
    "</tbody></table>\n",
    "\n",
    "## Rule Types\n",
    "\n",
    "<table><thead>\n",
    "<th>Type</th><th>Description</th>\n",
    "</thead></tbody>\n",
    "<tr><td>Simple Rule</td>\n",
    "  <td>A Simple Trigger-method pair, where the output type of the Rule is the\n",
    "      same as the input argument type.<br>\n",
    "    <ul>\n",
    "      <li>If the Trigger returns True, the method is applied.\n",
    "      <li>If the Trigger returns False, the output of the Rule will be the input\n",
    "          argument.\n",
    "      <li>Simple Rules can be chained, since the output matched the input.\n",
    "      </ul></td></tr>\n",
    "<tr><td>Complex Rule</td>\n",
    "  <td>A Trigger-method pair, where the output of the Rule depends on the result\n",
    "     of the Trigger Test(s).</td></tr>\n",
    "<tr><td>Cleaning Rule</td>\n",
    "  <td>A Simple Rule taking a string argument.<br>\n",
    "    <ul>\n",
    "      <li>The output of the method will be a Cleaned Line.\n",
    "    </ul></td></tr>\n",
    "<tr><td>Parsing Line Rule</td>\n",
    "  <td>A Complex Rule taking a string argument.<br>\n",
    "    <ul>\n",
    "      <li>The output of the method will be <u>zero or more</u> Parsed Lines.\n",
    "    </ul></td></tr>\n",
    "<tr><td>Line Processing Rule</td>\n",
    "  <td>A Trigger-method pair, both taking a single Parsed Line argument<br>\n",
    "    <ul>\n",
    "      <li>The output of the method will be <u>zero or more</u> Parsed Lines.\n",
    "  </ul></td></tr>\n",
    "</tbody></table>\n",
    "\n",
    "## Object Types\n",
    "\n",
    "<table><thead>\n",
    "<th>Type</th><th>Description</th>\n",
    "</thead></tbody>\n",
    "<tr><td>Trigger</td>\n",
    "  <td>One or more Tests which cause an action to be performed or stopped.\n",
    "      Triggers have access to the Context in addition to whatever arguments are\n",
    "      explicitly passed to them.<br>\n",
    "    <ul>\n",
    "      <li>Returns a Boolean.<br>\n",
    "    </ul></td></tr>\n",
    "<tr><td>TriggerEvent</td>\n",
    "  <td>Stores information regarding the result of applying a Trigger.<br>\n",
    "      Contains:<br>\n",
    "    <ul>\n",
    "      <li>The name of the Trigger.\n",
    "      <li>The Trigger results (<i>True</i> or <i>False</u>)\n",
    "      <li>The name of the Trigger Test. (Useful when the Trigger contains\n",
    "          multiple Tests.)\n",
    "      <li>The relevant value returned by the test.\n",
    "    </ul></td></tr>\n",
    "<tr><td>Rule</td>\n",
    "  <td>A Trigger-method pair, both taking a single argument, where the method is\n",
    "      applied if the Trigger returns True.<br>\n",
    "    <ul>\n",
    "      <li>The output of the method will depend on the type of Rule.\n",
    "    </ul></td></tr>\n",
    "<tr><td>Rule Set</td>\n",
    "  <td>A sequence of Rules and a default method.<br>\n",
    "    <ul>\n",
    "      <li>each Rule in the sequence will be applied to the input until One of\n",
    "          the rules triggers.\n",
    "      <li>if no Rule triggers then the default method is applied.\n",
    "      <li>Each of the Rules (and the default method) take the same input type\n",
    "          and return the same output type.\n",
    "    </ul></td></tr>\n",
    "<tr><td>Section Break</td>\n",
    "  <td>A Trigger used to identify the point in the Source at which a Section\n",
    "      begins or ends.</td></tr>\n",
    "</tbody></table>\n"
   ]
  },
  {
   "cell_type": "markdown",
   "metadata": {},
   "source": [
    "### Add `end_on_first_item=True` to Section"
   ]
  },
  {
   "cell_type": "markdown",
   "metadata": {},
   "source": [
    "Add end to Section Definition\n",
    "- Section start **Before** *StartSection*\n",
    "- Section end **After** *StartSection*\n",
    "- Simple subsection\n",
    "\n",
    "```python\n",
    "sub_section = Section(section_name='SubSection')\n",
    "\n",
    "full_section = Section(section_name='Full',\n",
    "    start_section=SectionBreak('StartSection', break_offset='Before'),\n",
    "    end_section=SectionBreak('StartSection', break_offset='Before'),\n",
    "    end_on_first_item=True,\n",
    "    processor=sub_section \n",
    "    )\n",
    "```"
   ]
  },
  {
   "cell_type": "code",
   "execution_count": null,
   "metadata": {},
   "outputs": [
    {
     "name": "stdout",
     "output_type": "stream",
     "text": [
      "[]\n",
      "[]\n",
      "[]\n",
      "[]\n"
     ]
    }
   ],
   "source": [
    "sub_section = Section(\n",
    "    section_name='SubSection',\n",
    "    #start_section=SectionBreak('StartSection', break_offset='Before'),\n",
    "    #end_section=SectionBreak('EndSection', break_offset='After'),\n",
    "    #end_section=SectionBreak(True)\n",
    "    #end_on_first_item=True\n",
    "    )\n",
    "full_section = Section(\n",
    "    section_name='Full',\n",
    "    start_section=SectionBreak('StartSection', break_offset='Before'),\n",
    "    end_section=SectionBreak('StartSection', break_offset='Before'),\n",
    "    end_on_first_item=True,\n",
    "    processor=sub_section\n",
    "    )\n",
    "\n",
    "test_iter = BufferedIterator(GENERIC_TEST_TEXT2)\n",
    "pprint(full_section.read(test_iter))\n",
    "pprint(full_section.read(test_iter))\n",
    "\n",
    "test_iter = iter(GENERIC_TEST_TEXT2)\n",
    "pprint(full_section.read(test_iter))\n",
    "pprint(full_section.read(test_iter))"
   ]
  },
  {
   "attachments": {},
   "cell_type": "markdown",
   "metadata": {},
   "source": [
    "- Results in empty list because it both starts \n",
    "  and ends on first *'StartSection'*.\n",
    "\n",
    "|Expected|Actual|\n",
    "|-|-|\n",
    "|[]|[]|"
   ]
  },
  {
   "cell_type": "markdown",
   "metadata": {},
   "source": [
    "## `end_on_first_item` Tests\n",
    "\n",
    "The `end_on_first_item` parameter in a section definition determines whether the \n",
    "`end_section` break tests are applied to the first line in a section.\n",
    "`end_on_first_item=True` does not *force* the section to complete after a single \n",
    "line.  It only makes it *possible* to stop after the first line.\n",
    "\n",
    "The value of this parameter is that repeat sections do not require distinct\n",
    "starting and ending sentinels. With `end_on_first_item=False` (the default) the \n",
    "same SectionBreak can be applied to both `start_section` and `end_section`.  \n",
    "In this case, the second occurrence of the section begins immediately at the \n",
    "end of the previous section."
   ]
  },
  {
   "cell_type": "code",
   "execution_count": null,
   "metadata": {},
   "outputs": [],
   "source": [
    "GENERIC_TEST_TEXT = [\n",
    "    'Text to be ignored',\n",
    "    'StartSection A',\n",
    "    'EndSection A',\n",
    "    'StartSection B',\n",
    "    'EndSection B',\n",
    "    'More text to be ignored',\n",
    "    ]"
   ]
  },
  {
   "cell_type": "markdown",
   "metadata": {},
   "source": [
    "#### Setting `end_on_first_item=False` (the default)\n",
    "- Using identical `start_section` and `end_section`:\n",
    "    > `start_section=SectionBreak('StartSection', break_offset='Before')`<br>\n",
    "    > `end_section=SectionBreak('StartSection', break_offset='Before')`<br>\n",
    "\n",
    "- Do not test first line of section (the default).\n",
    "    > `end_on_first_item=False` "
   ]
  },
  {
   "cell_type": "code",
   "execution_count": null,
   "metadata": {},
   "outputs": [
    {
     "name": "stdout",
     "output_type": "stream",
     "text": [
      "['StartSection A', 'EndSection A']\n"
     ]
    }
   ],
   "source": [
    "start_sub_section = Section(\n",
    "    section_name='StartSubSection',\n",
    "    start_section=SectionBreak('StartSection', break_offset='Before'),\n",
    "    end_section=SectionBreak('StartSection', break_offset='Before'),\n",
    "    end_on_first_item=False\n",
    "    )\n",
    "\n",
    "pprint(start_sub_section.read(GENERIC_TEST_TEXT))"
   ]
  },
  {
   "attachments": {},
   "cell_type": "markdown",
   "metadata": {},
   "source": [
    "The first section is returned as a list.\n",
    "\n",
    "<table>\n",
    "    <thead><th>Expected</th><th>Actual</th></thead>\n",
    "    <tr>\n",
    "        <td><code>\n",
    "          ['StartSection A', 'EndSection A']\n",
    "        </code></td>\n",
    "        <td><code>\n",
    "          ['StartSection A', 'EndSection A']\n",
    "        </code></td></tr>\n",
    "</table>"
   ]
  },
  {
   "cell_type": "markdown",
   "metadata": {},
   "source": [
    "#### Defining a top section with a repeating subsection\n",
    "- Using identical `start_section` and `end_section`:\n",
    "    > `start_section=SectionBreak('StartSection', break_offset='Before')`<br>\n",
    "    > `end_section=SectionBreak('StartSection', break_offset='Before')`<br>\n",
    "\n",
    "- Do not test first line of section (the default).\n",
    "    > `end_on_first_item=False` "
   ]
  },
  {
   "cell_type": "code",
   "execution_count": null,
   "metadata": {},
   "outputs": [
    {
     "name": "stdout",
     "output_type": "stream",
     "text": [
      "[['StartSection A', 'EndSection A'], ['StartSection B', 'EndSection B']]\n"
     ]
    }
   ],
   "source": [
    "start_sub_section = Section(\n",
    "    section_name='StartSubSection',\n",
    "    start_section=SectionBreak('StartSection', break_offset='Before'),\n",
    "    end_section=SectionBreak('EndSection', break_offset='After'),\n",
    "    end_on_first_item=False\n",
    "    )\n",
    "\n",
    "repeating_section = Section(\n",
    "    section_name='Top Section',\n",
    "    end_section=SectionBreak('More text to be ignored', break_offset='Before'),\n",
    "    processor=start_sub_section\n",
    "    )\n",
    "pprint(repeating_section.read(GENERIC_TEST_TEXT))"
   ]
  },
  {
   "attachments": {},
   "cell_type": "markdown",
   "metadata": {},
   "source": [
    "Both subsections are returned as a list of lists.\n",
    "\n",
    "<table>\n",
    "    <thead><th>Expected</th><th>Actual</th></thead>\n",
    "    <tr>\n",
    "        <td><code>\n",
    "          [<br>\n",
    "          ['StartSection A', 'EndSection A'],<br>\n",
    "           ['StartSection B', 'EndSection B']<br>\n",
    "          ]\n",
    "        </code></td>\n",
    "        <td><code>\n",
    "          [<br>\n",
    "          ['StartSection A', 'EndSection A'],<br>\n",
    "           ['StartSection B', 'EndSection B']<br>\n",
    "          ]\n",
    "        </code></td></tr>\n",
    "</table>"
   ]
  },
  {
   "cell_type": "markdown",
   "metadata": {},
   "source": [
    "- Using the same section definition, except allow testing of the first line of \n",
    "  the section.\n",
    "    > `end_on_first_item=True` "
   ]
  },
  {
   "cell_type": "code",
   "execution_count": null,
   "metadata": {},
   "outputs": [
    {
     "name": "stdout",
     "output_type": "stream",
     "text": [
      "[]\n"
     ]
    }
   ],
   "source": [
    "start_sub_section = Section(\n",
    "    section_name='StartSubSection',\n",
    "    start_section=SectionBreak('StartSection', break_offset='Before'),\n",
    "    end_section=SectionBreak('StartSection', break_offset='Before'),\n",
    "    end_on_first_item=True\n",
    "    )\n",
    "\n",
    "pprint(start_sub_section.read(GENERIC_TEST_TEXT))"
   ]
  },
  {
   "attachments": {},
   "cell_type": "markdown",
   "metadata": {},
   "source": [
    "The ending SectionBreak triggers on the same \n",
    "item that triggers the start of the section.  This will always result in an \n",
    "empty section.\n",
    "\n",
    "|Expected|Actual|\n",
    "|-|-|\n",
    "|[]|[]|"
   ]
  },
  {
   "cell_type": "markdown",
   "metadata": {},
   "source": [
    "#### Single Line Section.\n",
    "- Using the same sentinel *('EndSection')*, but different `break_offset`.\n",
    "    > `start_section=SectionBreak('EndSection', break_offset='Before')`<br>\n",
    "    > `end_section=SectionBreak('EndSection', break_offset='After')`<br>\n",
    "\n",
    "- Allow testing of the first line of section.\n",
    "    > `end_on_first_item=True` "
   ]
  },
  {
   "cell_type": "code",
   "execution_count": null,
   "metadata": {},
   "outputs": [
    {
     "name": "stdout",
     "output_type": "stream",
     "text": [
      "['EndSection A']\n"
     ]
    }
   ],
   "source": [
    "end_sub_section = Section(\n",
    "    section_name='EndSubSection',\n",
    "    start_section=SectionBreak('EndSection', break_offset='Before'),\n",
    "    end_section=SectionBreak('EndSection', break_offset='After'),\n",
    "    end_on_first_item=True\n",
    "    )\n",
    "\n",
    "pprint(end_sub_section.read(GENERIC_TEST_TEXT))"
   ]
  },
  {
   "attachments": {},
   "cell_type": "markdown",
   "metadata": {},
   "source": [
    "Single line section.\n",
    "- Starts *Before* **EndSection** \n",
    "- Ends *After* **EndSection** (the same line)\n",
    "\n",
    "|Expected|Actual|\n",
    "|-|-|\n",
    "|['EndSection A']|['EndSection A']|"
   ]
  },
  {
   "cell_type": "markdown",
   "metadata": {},
   "source": [
    "#### Same section definition as above except with `end_on_first_item=False` "
   ]
  },
  {
   "cell_type": "code",
   "execution_count": null,
   "metadata": {},
   "outputs": [
    {
     "name": "stdout",
     "output_type": "stream",
     "text": [
      "['EndSection A', 'StartSection B', 'EndSection B']\n"
     ]
    }
   ],
   "source": [
    "end_sub_section = Section(\n",
    "    section_name='EndSubSection',\n",
    "    start_section=SectionBreak('EndSection', break_offset='Before'),\n",
    "    end_section=SectionBreak('EndSection', break_offset='After'),\n",
    "    end_on_first_item=False\n",
    "    )\n",
    "\n",
    "pprint(end_sub_section.read(GENERIC_TEST_TEXT))"
   ]
  },
  {
   "attachments": {},
   "cell_type": "markdown",
   "metadata": {},
   "source": [
    "Section continues until **After** next \n",
    "*EndSection* is found\n",
    "\n",
    "<table>\n",
    "    <thead><th>Expected</th><th>Actual</th></thead>\n",
    "    <tr>\n",
    "        <td><code>\n",
    "          ['EndSection Name: A',<br> \n",
    "          'StartSection Name: B',<br>\n",
    "          'EndSection Name: B']\n",
    "        </code></td>\n",
    "        <td><code>\n",
    "          ['EndSection Name: A',<br>\n",
    "          'StartSection Name: B',<br>\n",
    "          'EndSection Name: B']\n",
    "        </code></td></tr>\n",
    "</table>"
   ]
  },
  {
   "attachments": {},
   "cell_type": "markdown",
   "metadata": {},
   "source": [
    "# Relevant Type definitions for Trigger Class and SubClasses.\n",
    "\n",
    "## Sentinels\n",
    "\n",
    "Trigger sentinels define tests to be applied to a SourceItem.\n",
    "Sentinel types that are independent of the SourceItem are `bool` and `int`.\n",
    "`sentinel=None` becomes boolean `True` (Trigger always passes)<br>\n",
    "`TriggerSingleTypes = Union[None, bool, int]`\n",
    "\n",
    "Sentinel types that apply to string type SourceItems are `str` and `re.Pattern`.<br>\n",
    "`TriggerStringOptions = Union[str, re.Pattern]`\n",
    "\n",
    "Sentinel can also be any valid Process Functions.\n",
    "String and Callable sentinel types can also be provided as a list, where if\n",
    "any one of the sentinels in the list pass the trigger passes.<br>\n",
    "`TriggerListOptions = Union[TriggerStringOptions, ProcessCallableOptions]`\n",
    "\n",
    "### All possible sentinel types\n",
    "\n",
    "`TriggerTypes = Union[TriggerSingleTypes, TriggerListOptions]`\n",
    "\n",
    "### All possible sentinel types and valid sentinel list types\n",
    "\n",
    "`TriggerOptions = Union[TriggerTypes, List[TriggerListOptions]]`\n",
    "\n",
    "Applying a trigger gives a TestResult, which can be a boolean, a regular\n",
    "expression match object or the return from a Trigger Sentinel Function (ProcessedItem)\n",
    "\n",
    "```\n",
    "EventType = Union[bool, int, str, re.match, ProcessedItem, None]\n",
    "TestResult = Union[bool, re.match, ProcessedItem]\n",
    "TestType = Callable[[TriggerTypes, SourceItem, ContextType], TestResult]\n",
    "```\n",
    "\n",
    "# Relevant Type definitions for SectionBreak Class\n",
    "\n",
    "`OffsetTypes = Union[int, str]`"
   ]
  },
  {
   "attachments": {},
   "cell_type": "markdown",
   "metadata": {},
   "source": [
    "Trigger\n",
    "     One or more conditional statements (tests) which are used by Rules to\n",
    "     cause an action to be performed or stopped. Used by Rules to cause an\n",
    "     action to be performed or stopped.\n",
    "     \n",
    "     Triggers have access to the Context in addition to whatever arguments are\n",
    "     explicitly passed to them.\n",
    "\n",
    "Section Breaking\n",
    "    Starting or stopping a Section>\n"
   ]
  },
  {
   "cell_type": "markdown",
   "metadata": {},
   "source": [
    "### Imports"
   ]
  },
  {
   "cell_type": "code",
   "execution_count": null,
   "metadata": {},
   "outputs": [],
   "source": [
    "from typing import List\n",
    "from pathlib import Path\n",
    "from pprint import pprint\n",
    "import re\n",
    "import sys\n",
    "\n",
    "import pandas as pd\n",
    "import xlwings as xw\n",
    "\n",
    "from buffered_iterator import BufferedIterator\n",
    "import text_reader as tp\n",
    "from sections import Rule, RuleSet, SectionBreak, ProcessingMethods, Section"
   ]
  },
  {
   "cell_type": "code",
   "execution_count": null,
   "metadata": {},
   "outputs": [
    {
     "name": "stdout",
     "output_type": "stream",
     "text": [
      "['StartSection A', 'MiddleSection A', 'EndSection A']\n"
     ]
    }
   ],
   "source": [
    "from sections import Section\n",
    "from pprint import pprint\n",
    "\n",
    "GENERIC_TEST_TEXT2 = [\n",
    "    'Text to be ignored',\n",
    "    'StartSection A',\n",
    "    'MiddleSection A',\n",
    "    'EndSection A',\n",
    "    'Unwanted text between sections',\n",
    "    'StartSection B',\n",
    "    'MiddleSection B',\n",
    "    'EndSection B',\n",
    "    'StartSection C',\n",
    "    'MiddleSection C',\n",
    "    'EndSection C',\n",
    "    'Even more text to be ignored', \n",
    "    ]\n",
    "full_section = Section(start_section=('StartSection', 'IN', 'Before'),\n",
    "                       end_section=('EndSection', 'IN', 'After'),\n",
    "                       section_name='TupleTest')\n",
    "pprint(full_section.read(GENERIC_TEST_TEXT2))"
   ]
  },
  {
   "cell_type": "code",
   "execution_count": null,
   "metadata": {},
   "outputs": [
    {
     "data": {
      "text/plain": [
       "'[SectionBreak(sentinel=StartSection, location=IN, offset=-1, name=SectionBreak)]'"
      ]
     },
     "metadata": {},
     "output_type": "display_data"
    }
   ],
   "source": [
    "repr(full_section.start_section)"
   ]
  },
  {
   "cell_type": "markdown",
   "metadata": {},
   "source": [
    "**********\n",
    "\n",
    "# Section Break options"
   ]
  },
  {
   "cell_type": "markdown",
   "metadata": {},
   "source": [
    "## Three line sections"
   ]
  },
  {
   "cell_type": "code",
   "execution_count": null,
   "metadata": {},
   "outputs": [],
   "source": [
    "GENERIC_TEST_TEXT2 = [\n",
    "    'Text to be ignored',\n",
    "    'StartSection A',\n",
    "    'MiddleSection A',\n",
    "    'EndSection A',\n",
    "    'Unwanted text between sections',\n",
    "    'StartSection B',\n",
    "    'MiddleSection B',\n",
    "    'EndSection B',\n",
    "    'StartSection C',\n",
    "    'MiddleSection C',\n",
    "    'EndSection C',\n",
    "    'Even more text to be ignored', \n",
    "    ]"
   ]
  },
  {
   "cell_type": "markdown",
   "metadata": {},
   "source": [
    "**********\n",
    "\n",
    "### Initial Section and Sub-Section Definitions"
   ]
  },
  {
   "cell_type": "markdown",
   "metadata": {},
   "source": [
    "- Only definition line is:<br>\n",
    "`processor=[sub_section]`"
   ]
  },
  {
   "cell_type": "code",
   "execution_count": null,
   "metadata": {},
   "outputs": [
    {
     "name": "stdout",
     "output_type": "stream",
     "text": [
      "[['Text to be ignored',\n",
      "  'StartSection A',\n",
      "  'MiddleSection A',\n",
      "  'EndSection A',\n",
      "  'Unwanted text between sections',\n",
      "  'StartSection B',\n",
      "  'MiddleSection B',\n",
      "  'EndSection B',\n",
      "  'StartSection C',\n",
      "  'MiddleSection C',\n",
      "  'EndSection C',\n",
      "  'Even more text to be ignored']]\n"
     ]
    }
   ],
   "source": [
    "sub_section = Section(\n",
    "    section_name='SubSection',\n",
    "    #start_section=SectionBreak('StartSection', break_offset='Before'),\n",
    "    #end_section=SectionBreak('EndSection', break_offset='After'),\n",
    "    #end_section=SectionBreak(True)\n",
    "    #end_on_first_item=True\n",
    "    )\n",
    "\n",
    "full_section = Section(\n",
    "    section_name='Full',\n",
    "    #start_section=SectionBreak('StartSection', break_offset='Before'),\n",
    "    #end_section=SectionBreak('EndSection', break_offset='After'),\n",
    "    #end_on_first_item=True\n",
    "    processor=sub_section  \n",
    "    )\n",
    "pprint(full_section.read(GENERIC_TEST_TEXT2))"
   ]
  },
  {
   "attachments": {},
   "cell_type": "markdown",
   "metadata": {},
   "source": [
    "\n",
    "<table><thead><th>Expected</th><th>Actual</th></thead>\n",
    "<tr>\n",
    "  <td><code>\n",
    "    [<br>\n",
    "      ['Text to be ignored',<br>\n",
    "       'StartSection A',<br>\n",
    "       'MiddleSection A',<br>\n",
    "       'EndSection A',<br>\n",
    "       'Unwanted text between sections',<br>\n",
    "       'StartSection B',<br>\n",
    "       'MiddleSection B',<br>\n",
    "       'EndSection B',<br>\n",
    "       'StartSection C',<br>\n",
    "       'MiddleSection C',<br>\n",
    "       'EndSection C',<br>\n",
    "       'Even more text to be ignored']<br>\n",
    "      ]</code></td>\n",
    "  <td><code>\n",
    "    [<br>\n",
    "      ['Text to be ignored',<br>\n",
    "       'StartSection A',<br>\n",
    "       'MiddleSection A',<br>\n",
    "       'EndSection A',<br>\n",
    "       'Unwanted text between sections',<br>\n",
    "       'StartSection B',<br>\n",
    "       'MiddleSection B',<br>\n",
    "       'EndSection B',<br>\n",
    "       'StartSection C',<br>\n",
    "       'MiddleSection C',<br>\n",
    "       'EndSection C',<br>\n",
    "       'Even more text to be ignored']<br>\n",
    "      ]</code></td>\n",
    "</table>\n",
    "\n"
   ]
  },
  {
   "cell_type": "markdown",
   "metadata": {},
   "source": [
    "### Add start to Section Definition"
   ]
  },
  {
   "cell_type": "markdown",
   "metadata": {},
   "source": [
    "- Section start **Before** *StartSection*\n",
    "\n",
    "`start_section=SectionBreak('StartSection', break_offset='Before'),`"
   ]
  },
  {
   "cell_type": "code",
   "execution_count": null,
   "metadata": {},
   "outputs": [
    {
     "name": "stdout",
     "output_type": "stream",
     "text": [
      "[['StartSection A',\n",
      "  'MiddleSection A',\n",
      "  'EndSection A',\n",
      "  'Unwanted text between sections',\n",
      "  'StartSection B',\n",
      "  'MiddleSection B',\n",
      "  'EndSection B',\n",
      "  'StartSection C',\n",
      "  'MiddleSection C',\n",
      "  'EndSection C',\n",
      "  'Even more text to be ignored']]\n"
     ]
    }
   ],
   "source": [
    "sub_section = Section(\n",
    "    section_name='SubSection',\n",
    "    #start_section=SectionBreak('StartSection', break_offset='Before'),\n",
    "    #end_section=SectionBreak('EndSection', break_offset='After'),\n",
    "    #end_section=SectionBreak(True)\n",
    "    #end_on_first_item=True\n",
    "    )\n",
    "\n",
    "full_section = Section(\n",
    "    section_name='Full',\n",
    "    start_section=SectionBreak('StartSection', break_offset='Before'),\n",
    "    #end_section=SectionBreak('EndSection', break_offset='After'),\n",
    "    #end_on_first_item=True,\n",
    "    processor=sub_section\n",
    "    )\n",
    "pprint(full_section.read(GENERIC_TEST_TEXT2))"
   ]
  },
  {
   "attachments": {},
   "cell_type": "markdown",
   "metadata": {},
   "source": [
    "\n",
    "<table><thead><th>Expected</th><th>Actual</th></thead>\n",
    "<tr>\n",
    "  <td><code>\n",
    "    [<br>\n",
    "      ['StartSection A',<br>\n",
    "       'MiddleSection A',<br>\n",
    "       'EndSection A',<br>\n",
    "       'Unwanted text between sections',<br>\n",
    "       'StartSection B',<br>\n",
    "       'MiddleSection B',<br>\n",
    "       'EndSection B',<br>\n",
    "       'StartSection C',<br>\n",
    "       'MiddleSection C',<br>\n",
    "       'EndSection C',<br>\n",
    "       'Even more text to be ignored']<br>\n",
    "    ]</code></td>\n",
    "  <td><code>\n",
    "    [<br>\n",
    "      ['StartSection A',<br>\n",
    "       'MiddleSection A',<br>\n",
    "       'EndSection A',<br>\n",
    "       'Unwanted text between sections',<br>\n",
    "       'StartSection B',<br>\n",
    "       'MiddleSection B',<br>\n",
    "       'EndSection B',<br>\n",
    "       'StartSection C',<br>\n",
    "       'MiddleSection C',<br>\n",
    "       'EndSection C',<br>\n",
    "       'Even more text to be ignored']<br>\n",
    "    ]</code></td>\n",
    "</table>\n",
    "\n"
   ]
  },
  {
   "cell_type": "markdown",
   "metadata": {},
   "source": [
    "### Add end to Section Definition"
   ]
  },
  {
   "cell_type": "markdown",
   "metadata": {},
   "source": [
    "- Section start **Before** *StartSection*\n",
    "- Section end **After** *EndSection*\n",
    "\n",
    "```python\n",
    "full_section = Section(section_name='Full',\n",
    "    start_section=SectionBreak('StartSection', break_offset='Before'),\n",
    "    end_section=SectionBreak('EndSection', break_offset='After'),\n",
    "    processor=sub_section \n",
    "    )\n",
    "```"
   ]
  },
  {
   "cell_type": "code",
   "execution_count": null,
   "metadata": {},
   "outputs": [
    {
     "name": "stdout",
     "output_type": "stream",
     "text": [
      "[['StartSection A', 'MiddleSection A', 'EndSection A']]\n",
      "[['StartSection B', 'MiddleSection B', 'EndSection B']]\n",
      "[['StartSection C', 'MiddleSection C', 'EndSection C']]\n",
      "[]\n"
     ]
    }
   ],
   "source": [
    "sub_section = Section(\n",
    "    section_name='SubSection',\n",
    "    #start_section=SectionBreak('StartSection', break_offset='Before'),\n",
    "    #end_section=SectionBreak('EndSection', break_offset='After'),\n",
    "    #end_section=SectionBreak(True)\n",
    "    #end_on_first_item=True\n",
    "    )\n",
    "\n",
    "full_section = Section(\n",
    "    section_name='Full',\n",
    "    start_section=SectionBreak('StartSection', break_offset='Before'),\n",
    "    end_section=SectionBreak('EndSection', break_offset='After'),\n",
    "    #end_on_first_item=True,    \n",
    "    processor=sub_section\n",
    "    )\n",
    "\n",
    "test_iter = BufferedIterator(GENERIC_TEST_TEXT2)\n",
    "pprint(full_section.read(test_iter))\n",
    "pprint(full_section.read(test_iter))\n",
    "pprint(full_section.read(test_iter))\n",
    "pprint(full_section.read(test_iter))"
   ]
  },
  {
   "attachments": {},
   "cell_type": "markdown",
   "metadata": {},
   "source": [
    "- Includes all three lines of first section in single sub-list.\n",
    "- skips the *'Unwanted text between sections'* line.\n",
    "\n",
    "<table><thead><th>Expected</th><th>Actual</th></thead>\n",
    "<tr>\n",
    "  <td><code>\n",
    "    [<br>\n",
    "      ['StartSection A',<br>\n",
    "       'MiddleSection A',<br>\n",
    "       'EndSection A']<br>\n",
    "    ]</code></td>\n",
    "  <td><code>\n",
    "    [<br>\n",
    "      ['StartSection A',<br>\n",
    "       'MiddleSection A',<br>\n",
    "       'EndSection A']<br>\n",
    "    ]</code></td>\n",
    "</tr>\n",
    "<tr>\n",
    "  <td><code>\n",
    "    [<br>\n",
    "      ['StartSection B',<br>\n",
    "       'MiddleSection B',<br>\n",
    "       'EndSection B']<br>\n",
    "    ]</code></td>\n",
    "  <td><code>\n",
    "    [<br>\n",
    "      ['StartSection B',<br>\n",
    "       'MiddleSection B',<br>\n",
    "       'EndSection B']<br>\n",
    "    ]</code></td>\n",
    "</tr>\n",
    "<tr>\n",
    "  <td><code>\n",
    "    [<br>\n",
    "      ['StartSection C',<br>\n",
    "       'MiddleSection C',<br>\n",
    "       'EndSection C']<br>\n",
    "    ]</code></td>\n",
    "  <td><code>\n",
    "    [<br>\n",
    "      ['StartSection C',<br>\n",
    "       'MiddleSection C',<br>\n",
    "       'EndSection C']<br>\n",
    "    ]</code></td>\n",
    "</tr>\n",
    "<tr><td><code>[]</code></td><td><code>[]</code></td></tr>\n",
    "</table>\n",
    "\n"
   ]
  },
  {
   "cell_type": "markdown",
   "metadata": {},
   "source": [
    "### Set Same Start and End Breaks for Section"
   ]
  },
  {
   "cell_type": "markdown",
   "metadata": {},
   "source": [
    "Add end to Section Definition\n",
    "- Section start **Before** *StartSection*\n",
    "- Section end **Before** *StartSection*\n",
    "- Simple subsection\n",
    "- Multi Section defines Full Section as Sub Section with no start or end (All lines)\n",
    "\n",
    "```python\n",
    "sub_section = Section(section_name='SubSection')\n",
    "\n",
    "full_section = Section(section_name='Full',\n",
    "    start_section=SectionBreak('StartSection', break_offset='Before'),\n",
    "    end_section=SectionBreak('StartSection', break_offset='Before'),\n",
    "    processor=sub_section \n",
    "    )\n",
    "\n",
    "multi_section = Section(\n",
    "    section_name='Multi',\n",
    "    processor=full_section \n",
    "    )\n",
    "```"
   ]
  },
  {
   "cell_type": "code",
   "execution_count": null,
   "metadata": {},
   "outputs": [
    {
     "name": "stdout",
     "output_type": "stream",
     "text": [
      "[[['StartSection A',\n",
      "   'MiddleSection A',\n",
      "   'EndSection A',\n",
      "   'Unwanted text between sections']],\n",
      " [['StartSection B', 'MiddleSection B', 'EndSection B']],\n",
      " [['StartSection C',\n",
      "   'MiddleSection C',\n",
      "   'EndSection C',\n",
      "   'Even more text to be ignored']]]\n"
     ]
    }
   ],
   "source": [
    "sub_section = Section(\n",
    "    section_name='SubSection',\n",
    "    #start_section=SectionBreak('StartSection', break_offset='Before'),\n",
    "    #end_section=SectionBreak('EndSection', break_offset='After'),\n",
    "    #end_section=SectionBreak(True)\n",
    "    #end_on_first_item=True\n",
    "    )\n",
    "full_section = Section(\n",
    "    section_name='Full',\n",
    "    start_section=SectionBreak('StartSection', break_offset='Before'),\n",
    "    end_section=SectionBreak('StartSection', break_offset='Before'),\n",
    "    processor=sub_section,\n",
    "    #end_on_first_item=True\n",
    "    )\n",
    "\n",
    "multi_section = Section(section_name='Multi',\n",
    "    processor=full_section,\n",
    "    #end_on_first_item=True\n",
    "    )\n",
    "\n",
    "pprint(multi_section.read(GENERIC_TEST_TEXT2))"
   ]
  },
  {
   "attachments": {},
   "cell_type": "markdown",
   "metadata": {},
   "source": [
    "- Includes *'Unwanted text between sections'* and\n",
    "  *'Even more text to be ignored'*.\n",
    "- Includes *'Unwanted text between sections'* because the end of section A is \n",
    "  triggered by *'StartSection B'*. \n",
    "- Includes *'Even more text to be ignored'* because there are no more \n",
    "  *'StartSection'* lines to trigger an `end_section` break.\n",
    "\n",
    "<table><thead><th>Expected</th><th>Actual</th></thead>\n",
    "<tr>\n",
    "  <td><code>\n",
    "    [<br>\n",
    "      [['StartSection A',<br>\n",
    "        'MiddleSection A',<br>\n",
    "        'EndSection A',<br>\n",
    "        'Unwanted text between sections']],<br>\n",
    "      [['StartSection B',<br>\n",
    "        'MiddleSection B',<br>\n",
    "        'EndSection B']],<br>\n",
    "      [['StartSection C',<br>\n",
    "        'MiddleSection C',<br>\n",
    "        'EndSection C',<br>\n",
    "        'Even more text to be ignored']]<br>\n",
    "    ]</code></td>\n",
    "  <td><code>\n",
    "    [<br>\n",
    "      [['StartSection A',<br>\n",
    "        'MiddleSection A',<br>\n",
    "        'EndSection A',<br>\n",
    "        'Unwanted text between sections']],<br>\n",
    "      [['StartSection B',<br>\n",
    "        'MiddleSection B',<br>\n",
    "        'EndSection B']],<br>\n",
    "      [['StartSection C',<br>\n",
    "        'MiddleSection C',<br>\n",
    "        'EndSection C',<br>\n",
    "        'Even more text to be ignored']]<br>\n",
    "    ]</code></td>\n",
    "  </tr>\n",
    "</table>"
   ]
  },
  {
   "cell_type": "markdown",
   "metadata": {},
   "source": [
    "### Imports"
   ]
  },
  {
   "cell_type": "code",
   "execution_count": null,
   "metadata": {},
   "outputs": [],
   "source": [
    "from typing import List\n",
    "from pathlib import Path\n",
    "from pprint import pprint\n",
    "import re\n",
    "import sys\n",
    "\n",
    "import pandas as pd\n",
    "import xlwings as xw\n",
    "\n",
    "from buffered_iterator import BufferedIterator\n",
    "import text_reader as tp\n",
    "from sections import Rule, RuleSet, SectionBreak, ProcessingMethods, Section"
   ]
  },
  {
   "cell_type": "markdown",
   "metadata": {},
   "source": [
    "# Simple sections experimenting with start and end settings"
   ]
  },
  {
   "cell_type": "markdown",
   "metadata": {},
   "source": [
    "#### 2-line Section Source"
   ]
  },
  {
   "cell_type": "code",
   "execution_count": null,
   "metadata": {},
   "outputs": [],
   "source": [
    "GENERIC_TEST_TEXT = [\n",
    "    'Text to be ignored',\n",
    "    'StartSection Name: A',\n",
    "    'EndSection Name: A',\n",
    "    'StartSection Name: B',\n",
    "    'EndSection Name: B',\n",
    "    'More text to be ignored',\n",
    "    ]"
   ]
  }
 ],
 "metadata": {
  "kernelspec": {
   "display_name": "sectionaryDev",
   "language": "python",
   "name": "python3"
  },
  "language_info": {
   "name": "python",
   "version": "3.8.15 (default, Nov 24 2022, 14:38:14) [MSC v.1916 64 bit (AMD64)]"
  },
  "orig_nbformat": 4,
  "vscode": {
   "interpreter": {
    "hash": "890849be4bb9b5be1d044afe42e602ccc6ca20da23c054ee97c8186ec3939c45"
   }
  }
 },
 "nbformat": 4,
 "nbformat_minor": 2
}
